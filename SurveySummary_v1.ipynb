{
  "nbformat": 4,
  "nbformat_minor": 0,
  "metadata": {
    "colab": {
      "name": "SurveySummary-v1.ipynb",
      "provenance": [],
      "toc_visible": true,
      "authorship_tag": "ABX9TyP//r9b5cVwIKvtiH9mH/H3",
      "include_colab_link": true
    },
    "kernelspec": {
      "name": "ir",
      "display_name": "R"
    }
  },
  "cells": [
    {
      "cell_type": "markdown",
      "metadata": {
        "id": "view-in-github",
        "colab_type": "text"
      },
      "source": [
        "<a href=\"https://colab.research.google.com/github/patternproject/r.sb.pos.2/blob/main/SurveySummary_v1.ipynb\" target=\"_parent\"><img src=\"https://colab.research.google.com/assets/colab-badge.svg\" alt=\"Open In Colab\"/></a>"
      ]
    },
    {
      "cell_type": "markdown",
      "metadata": {
        "id": "zfRPLzwzy3lb"
      },
      "source": [
        "#READ ME"
      ]
    },
    {
      "cell_type": "markdown",
      "metadata": {
        "id": "dLzWvklly5yD"
      },
      "source": [
        "##Analysis of Survey Data for POS\n",
        "##Iteration 2\n",
        "##Using R"
      ]
    },
    {
      "cell_type": "markdown",
      "metadata": {
        "id": "__SqrRMey9NC"
      },
      "source": [
        "This file takes in \"Extract of Daily POS Data\" in excel format and outputs a summary of where we stand (achieved, remaining), one for North and other for South region"
      ]
    },
    {
      "cell_type": "markdown",
      "metadata": {
        "id": "bw-8VW9Ry_Xj"
      },
      "source": [
        "#History\n",
        "\n",
        "v1: First Iteration\n"
      ]
    },
    {
      "cell_type": "code",
      "metadata": {
        "id": "KCybAstwy6In",
        "outputId": "be14755e-c417-4595-d73b-096e39b7479c",
        "colab": {
          "base_uri": "https://localhost:8080/"
        }
      },
      "source": [
        "# Library\n",
        "library(ggplot2)\n",
        "library(tidyverse)\n",
        "#install.packages(\"readxl\")\n",
        "library(readxl)"
      ],
      "execution_count": 1,
      "outputs": [
        {
          "output_type": "stream",
          "text": [
            "── \u001b[1mAttaching packages\u001b[22m ─────────────────────────────────────── tidyverse 1.3.0 ──\n",
            "\n",
            "\u001b[32m✔\u001b[39m \u001b[34mtibble \u001b[39m 3.0.4     \u001b[32m✔\u001b[39m \u001b[34mdplyr  \u001b[39m 1.0.2\n",
            "\u001b[32m✔\u001b[39m \u001b[34mtidyr  \u001b[39m 1.1.2     \u001b[32m✔\u001b[39m \u001b[34mstringr\u001b[39m 1.4.0\n",
            "\u001b[32m✔\u001b[39m \u001b[34mreadr  \u001b[39m 1.4.0     \u001b[32m✔\u001b[39m \u001b[34mforcats\u001b[39m 0.5.0\n",
            "\u001b[32m✔\u001b[39m \u001b[34mpurrr  \u001b[39m 0.3.4     \n",
            "\n",
            "── \u001b[1mConflicts\u001b[22m ────────────────────────────────────────── tidyverse_conflicts() ──\n",
            "\u001b[31m✖\u001b[39m \u001b[34mdplyr\u001b[39m::\u001b[32mfilter()\u001b[39m masks \u001b[34mstats\u001b[39m::filter()\n",
            "\u001b[31m✖\u001b[39m \u001b[34mdplyr\u001b[39m::\u001b[32mlag()\u001b[39m    masks \u001b[34mstats\u001b[39m::lag()\n",
            "\n"
          ],
          "name": "stderr"
        }
      ]
    },
    {
      "cell_type": "code",
      "metadata": {
        "id": "5x7gcAZtzBTJ"
      },
      "source": [
        "# reading in input File\n",
        "input_file = \"/content/Survey Data 2020-10-29 - Master.xlsx\"\n",
        "df_master = read_xlsx(input_file, sheet=1)"
      ],
      "execution_count": 5,
      "outputs": []
    },
    {
      "cell_type": "code",
      "metadata": {
        "id": "ifwpkqYTzE38",
        "outputId": "d2d19d08-22da-400d-a3b5-881da1c8629e",
        "colab": {
          "base_uri": "https://localhost:8080/"
        }
      },
      "source": [
        "# printing DF\n",
        "print(as_tibble(df_master))"
      ],
      "execution_count": 6,
      "outputs": [
        {
          "output_type": "stream",
          "text": [
            "\u001b[90m# A tibble: 356 x 37\u001b[39m\n",
            "   EmployeeCode UserName BusinessUnit Department `Address of the… `City:`\n",
            "          \u001b[3m\u001b[90m<dbl>\u001b[39m\u001b[23m \u001b[3m\u001b[90m<chr>\u001b[39m\u001b[23m    \u001b[3m\u001b[90m<chr>\u001b[39m\u001b[23m        \u001b[3m\u001b[90m<chr>\u001b[39m\u001b[23m      \u001b[3m\u001b[90m<chr>\u001b[39m\u001b[23m            \u001b[3m\u001b[90m<chr>\u001b[39m\u001b[23m  \n",
            "\u001b[90m 1\u001b[39m        \u001b[4m3\u001b[24m\u001b[4m7\u001b[24m636 Burhan … Managment    CorpDev    Saddar           Rawalp…\n",
            "\u001b[90m 2\u001b[39m        \u001b[4m3\u001b[24m\u001b[4m0\u001b[24m919 Farasat… Customer Se… Operation… Barkat Plaza Ba… Rawalp…\n",
            "\u001b[90m 3\u001b[39m        \u001b[4m3\u001b[24m\u001b[4m3\u001b[24m409 Muhamma… Customer Se… Operation… Near mcc karach… Islama…\n",
            "\u001b[90m 4\u001b[39m        \u001b[4m3\u001b[24m\u001b[4m3\u001b[24m409 Muhamma… Customer Se… Operation… Mughal plaza Be… Islama…\n",
            "\u001b[90m 5\u001b[39m        \u001b[4m3\u001b[24m\u001b[4m3\u001b[24m409 Muhamma… Customer Se… Operation… Benazir chock a… Islama…\n",
            "\u001b[90m 6\u001b[39m        \u001b[4m3\u001b[24m\u001b[4m3\u001b[24m409 Muhamma… Customer Se… Operation… Mughal plaza be… Islama…\n",
            "\u001b[90m 7\u001b[39m        \u001b[4m3\u001b[24m\u001b[4m3\u001b[24m409 Muhamma… Customer Se… Operation… Mughal plaza be… Islama…\n",
            "\u001b[90m 8\u001b[39m        \u001b[4m3\u001b[24m\u001b[4m3\u001b[24m409 Muhamma… Customer Se… Operation… Mughal plaza be… Islama…\n",
            "\u001b[90m 9\u001b[39m        \u001b[4m3\u001b[24m\u001b[4m3\u001b[24m409 Muhamma… Customer Se… Operation… Mughal plaza be… Islama…\n",
            "\u001b[90m10\u001b[39m        \u001b[4m3\u001b[24m\u001b[4m0\u001b[24m859 Naveed … Customer Se… Operation… I.10/1           Islama…\n",
            "\u001b[90m# … with 346 more rows, and 31 more variables: `Do you believe having a POS\u001b[39m\n",
            "\u001b[90m#   will help you “Improve Business”?` \u001b[3m\u001b[90m<chr>\u001b[90m\u001b[23m, `Do you have “Internet Access” at\u001b[39m\n",
            "\u001b[90m#   your outlet?` \u001b[3m\u001b[90m<chr>\u001b[90m\u001b[23m, `Do you wish to “Expand your Business” to more\u001b[39m\n",
            "\u001b[90m#   outlets?` \u001b[3m\u001b[90m<chr>\u001b[90m\u001b[23m, `Does your outlet offer “Delivery Service”?` \u001b[3m\u001b[90m<chr>\u001b[90m\u001b[23m, `For\u001b[39m\n",
            "\u001b[90m#   which purposes do you store “Customer Data”?` \u001b[3m\u001b[90m<chr>\u001b[90m\u001b[23m, `How many “Employees”\u001b[39m\n",
            "\u001b[90m#   do you have in this outlet?` \u001b[3m\u001b[90m<chr>\u001b[90m\u001b[23m, `How much disruption in “Internet\u001b[39m\n",
            "\u001b[90m#   Service” do you face?` \u001b[3m\u001b[90m<chr>\u001b[90m\u001b[23m, `If you had to pay for a new POS, which\u001b[39m\n",
            "\u001b[90m#   “Payment Type” would you prefer?` \u001b[3m\u001b[90m<chr>\u001b[90m\u001b[23m, `If you will ever have a POS, what\u001b[39m\n",
            "\u001b[90m#   “Language” would you like to have it in?` \u001b[3m\u001b[90m<chr>\u001b[90m\u001b[23m, `Name of the\u001b[39m\n",
            "\u001b[90m#   Outlet:` \u001b[3m\u001b[90m<chr>\u001b[90m\u001b[23m, `Number of years you have owned this organization:` \u001b[3m\u001b[90m<chr>\u001b[90m\u001b[23m,\u001b[39m\n",
            "\u001b[90m#   `Please choose the “Number of Outlets”:` \u001b[3m\u001b[90m<chr>\u001b[90m\u001b[23m, `Please choose which “Kind\u001b[39m\n",
            "\u001b[90m#   of POS” will you prefer:` \u001b[3m\u001b[90m<chr>\u001b[90m\u001b[23m, `Please provide an amount in PKR you are\u001b[39m\n",
            "\u001b[90m#   “Willing to Pay”, corresponding to last question:` \u001b[3m\u001b[90m<chr>\u001b[90m\u001b[23m, `Please state\u001b[39m\n",
            "\u001b[90m#   your “Personal Observations” which you believe would be interesting to\u001b[39m\n",
            "\u001b[90m#   share about this interaction.` \u001b[3m\u001b[90m<chr>\u001b[90m\u001b[23m, `Please take a picture of the outlet,\u001b[39m\n",
            "\u001b[90m#   with it’s name visible` \u001b[3m\u001b[90m<chr>\u001b[90m\u001b[23m, `Please take a picture of the visiting\u001b[39m\n",
            "\u001b[90m#   card` \u001b[3m\u001b[90m<chr>\u001b[90m\u001b[23m, `Region:` \u001b[3m\u001b[90m<chr>\u001b[90m\u001b[23m, `Respondent’s Designation:` \u001b[3m\u001b[90m<chr>\u001b[90m\u001b[23m,\u001b[39m\n",
            "\u001b[90m#   `Respondent’s Name:` \u001b[3m\u001b[90m<chr>\u001b[90m\u001b[23m, `Respondent’s Phone number:` \u001b[3m\u001b[90m<chr>\u001b[90m\u001b[23m, `What are\u001b[39m\n",
            "\u001b[90m#   the “Most important Features” in a POS? You may choose multiple\u001b[39m\n",
            "\u001b[90m#   options.` \u001b[3m\u001b[90m<chr>\u001b[90m\u001b[23m, `What Device(s) will you like to use for “Accessing POS”?\u001b[39m\n",
            "\u001b[90m#   You may choose multiple options.` \u001b[3m\u001b[90m<chr>\u001b[90m\u001b[23m, `What kind of a business are\u001b[39m\n",
            "\u001b[90m#   you?` \u001b[3m\u001b[90m<chr>\u001b[90m\u001b[23m, `What types of “Payments” do you accept? You may choose\u001b[39m\n",
            "\u001b[90m#   multiple options:` \u001b[3m\u001b[90m<chr>\u001b[90m\u001b[23m, `Which of the following “Discounts” do you offer\u001b[39m\n",
            "\u001b[90m#   to your customers?` \u001b[3m\u001b[90m<chr>\u001b[90m\u001b[23m, `Which of the following “Features” will you like\u001b[39m\n",
            "\u001b[90m#   in Urdu/Local language? You may choose multiple options.` \u001b[3m\u001b[90m<chr>\u001b[90m\u001b[23m, `Which of\u001b[39m\n",
            "\u001b[90m#   the following can be a “Reason to get POS”? You may choose multiple\u001b[39m\n",
            "\u001b[90m#   options.` \u001b[3m\u001b[90m<chr>\u001b[90m\u001b[23m, `Why do you “Not Have” a POS?` \u001b[3m\u001b[90m<chr>\u001b[90m\u001b[23m, `Will you be willing\u001b[39m\n",
            "\u001b[90m#   to run a “Demo of our POS” at your outlet?` \u001b[3m\u001b[90m<chr>\u001b[90m\u001b[23m, `You have been very\u001b[39m\n",
            "\u001b[90m#   helpful. Can we “Contact you in Future” for more details?` \u001b[3m\u001b[90m<chr>\u001b[90m\u001b[23m\u001b[39m\n"
          ],
          "name": "stdout"
        }
      ]
    },
    {
      "cell_type": "code",
      "metadata": {
        "id": "qKKeYm_FzIv2",
        "outputId": "97f42136-a4c9-450f-f04e-9f7141bd6a8d",
        "colab": {
          "base_uri": "https://localhost:8080/"
        }
      },
      "source": [
        "## inspect the data\n",
        "str(df_master)"
      ],
      "execution_count": 7,
      "outputs": [
        {
          "output_type": "stream",
          "text": [
            "tibble [356 × 37] (S3: tbl_df/tbl/data.frame)\n",
            " $ EmployeeCode                                                                                                     : num [1:356] 37636 30919 33409 33409 33409 ...\n",
            " $ UserName                                                                                                         : chr [1:356] \"Burhan Ul Haq\" \"Farasat Ullah Shah\" \"Muhammad  Ahmar\" \"Muhammad  Ahmar\" ...\n",
            " $ BusinessUnit                                                                                                     : chr [1:356] \"Managment\" \"Customer Services North\" \"Customer Services North\" \"Customer Services North\" ...\n",
            " $ Department                                                                                                       : chr [1:356] \"CorpDev\" \"Operations - CS North\" \"Operations - CS North\" \"Operations - CS North\" ...\n",
            " $ Address of the Outlet:                                                                                           : chr [1:356] \"Saddar\" \"Barkat Plaza Bank Road\" \"Near mcc karachi company g 9 markez\" \"Mughal plaza Benazir chock tarnol isb\" ...\n",
            " $ City:                                                                                                            : chr [1:356] \"Rawalpindi\" \"Rawalpindi\" \"Islamabad\" \"Islamabad\" ...\n",
            " $ Do you believe having a POS will help you “Improve Business”?                                                    : chr [1:356] \"Yes\" \"Yes\" \"Yes\" \"Yes\" ...\n",
            " $ Do you have “Internet Access” at your outlet?                                                                    : chr [1:356] \"Dedicated connection\" \"No access\" \"I use my mobile as required\" \"I use my mobile as required\" ...\n",
            " $ Do you wish to “Expand your Business” to more outlets?                                                           : chr [1:356] \"Yes, immediately (upto 6 months)\" \"No\" \"Yes, short-term (upto 12 months)\" \"Yes, immediately (upto 6 months)\" ...\n",
            " $ Does your outlet offer “Delivery Service”?                                                                       : chr [1:356] \"Yes\" \"No\" \"Thinking about it\" \"Yes\" ...\n",
            " $ For which purposes do you store “Customer Data”?                                                                 : chr [1:356] \"Use for discounts (repeated purchases)\" \"Do not Store\" \"Do not Store, Use for discounts (repeated purchases)\" \"Use for discounts (repeated purchases)\" ...\n",
            " $ How many “Employees” do you have in this outlet?                                                                 : chr [1:356] \"8\" \"2\" \"3\" \"2\" ...\n",
            " $ How much disruption in “Internet Service” do you face?                                                           : chr [1:356] \"Never\" \"-\" \"Little\" \"Never\" ...\n",
            " $ If you had to pay for a new POS, which “Payment Type” would you prefer?                                          : chr [1:356] \"Recurring Payment - Every Month\" \"One Time Payment\" \"Recurring Payment - Every 12 Months\" \"Recurring Payment - Every Month\" ...\n",
            " $ If you will ever have a POS, what “Language” would you like to have it in?                                       : chr [1:356] \"English\" \"English and Urdu\" \"English and Urdu\" \"English\" ...\n",
            " $ Name of the Outlet:                                                                                              : chr [1:356] \"Test 2\" \"New Top Men Suiting\" \"Forever garments\" \"Tameer hardware\" ...\n",
            " $ Number of years you have owned this organization:                                                                : chr [1:356] \"10\" \"27\" \"2\" \"1\" ...\n",
            " $ Please choose the “Number of Outlets”:                                                                           : chr [1:356] \"3\" \"1\" \"1\" \"1\" ...\n",
            " $ Please choose which “Kind of POS” will you prefer:                                                               : chr [1:356] \"Web-Based: requires internet connection\" \"Stand-Alone: does not require internet connection\" \"Stand-Alone: does not require internet connection\" \"Web-Based: requires internet connection\" ...\n",
            " $ Please provide an amount in PKR you are “Willing to Pay”, corresponding to last question:                        : chr [1:356] \"100\" \"1000\" \"10000\" \"1000\" ...\n",
            " $ Please state your “Personal Observations” which you believe would be interesting to share about this interaction.: chr [1:356] \"None\" \"Owner does not want to spent more than1000. As per observation he is not willing to spend on such system\" \"This could be helpful\" \"Very good\" ...\n",
            " $ Please take a picture of the outlet, with it’s name visible                                                      : chr [1:356] \"-\" \"-\" \"-\" \"-\" ...\n",
            " $ Please take a picture of the visiting card                                                                       : chr [1:356] \"-\" \"-\" \"-\" \"-\" ...\n",
            " $ Region:                                                                                                          : chr [1:356] \"-\" \"Saddar\" \"G-9\" \"Tarnol\" ...\n",
            " $ Respondent’s Designation:                                                                                        : chr [1:356] \"Manager\" \"Owner\" \"Owner\" \"Owner\" ...\n",
            " $ Respondent’s Name:                                                                                               : chr [1:356] \"Dummy 2\" \"Hasnain\" \"Kashif\" \"Shah raees\" ...\n",
            " $ Respondent’s Phone number:                                                                                       : chr [1:356] \"345\" \"3335240955\" \"3455323910\" \"3335163133\" ...\n",
            " $ What are the “Most important Features” in a POS? You may choose multiple options.                                : chr [1:356] \"Cash Reconciliation (Balance daily sales and returns for cash and credit)\" \"Remote Management/Centralized Management (Manage your business remotely), Reports (Get sales and other insights\"| __truncated__ \"Cash Reconciliation (Balance daily sales and returns for cash and credit)\" \"Cash Reconciliation (Balance daily sales and returns for cash and credit), Remote Management/Centralized Manage\"| __truncated__ ...\n",
            " $ What Device(s) will you like to use for “Accessing POS”? You may choose multiple options.                        : chr [1:356] \"Tablet\" \"Mobile Phone\" \"Mobile Phone, PC\" \"Laptop, Mobile Phone, PC, Tablet\" ...\n",
            " $ What kind of a business are you?                                                                                 : chr [1:356] \"Groceries\" \"Clothing items\" \"Clothing items\" \"Hardware / Paints\" ...\n",
            " $ What types of “Payments” do you accept? You may choose multiple options:                                         : chr [1:356] \"Cash\" \"Cash\" \"Cash\" \"Cash\" ...\n",
            " $ Which of the following “Discounts” do you offer to your customers?                                               : chr [1:356] \"Product Discount (Lower price than market)\" \"Customer Discount (Based on customer relationship)\" \"Customer Discount (Based on customer relationship), Product Discount (Lower price than market)\" \"Bulk Discount (Based on bill amount), Customer Discount (Based on customer relationship)\" ...\n",
            " $ Which of the following “Features” will you like in Urdu/Local language? You may choose multiple options.         : chr [1:356] \"Slips or Receipts\" \"Others (Please specify)  (Everything in both languages )\" \"Display Screen, Slips or Receipts\" \"Display Screen, Slips or Receipts\" ...\n",
            " $ Which of the following can be a “Reason to get POS”? You may choose multiple options.                            : chr [1:356] \"Features\" \"Other (Please specify) (Customer Data, daily sales report)\" \"Features, Price\" \"Customization (as per your needs), Features, Price\" ...\n",
            " $ Why do you “Not Have” a POS?                                                                                     : chr [1:356] \"I am happy with how my business is managed currently\" \"I am happy with how my business is managed currently\" \"I am happy with how my business is managed currently\" \"I am happy with how my business is managed currently\" ...\n",
            " $ Will you be willing to run a “Demo of our POS” at your outlet?                                                   : chr [1:356] \"No\" \"No\" \"Yes\" \"Yes\" ...\n",
            " $ You have been very helpful. Can we “Contact you in Future” for more details?                                     : chr [1:356] \"-\" \"Yes\" \"Yes\" \"Yes\" ...\n"
          ],
          "name": "stdout"
        }
      ]
    },
    {
      "cell_type": "code",
      "metadata": {
        "id": "JsJNef24zYcS"
      },
      "source": [
        "df_1 = df_master"
      ],
      "execution_count": 8,
      "outputs": []
    },
    {
      "cell_type": "code",
      "metadata": {
        "id": "k5xXmwyjzZjk",
        "outputId": "27f7634c-177c-4af7-dbe3-f22bcf205c8d",
        "colab": {
          "base_uri": "https://localhost:8080/",
          "height": 35
        }
      },
      "source": [
        "nrow(df_1)"
      ],
      "execution_count": 9,
      "outputs": [
        {
          "output_type": "display_data",
          "data": {
            "text/plain": [
              "[1] 356"
            ],
            "text/latex": "356",
            "text/markdown": "356",
            "text/html": [
              "356"
            ]
          },
          "metadata": {
            "tags": []
          }
        }
      ]
    },
    {
      "cell_type": "code",
      "metadata": {
        "id": "-5f-SyW8za29",
        "outputId": "62886371-9394-4a82-e56e-aef12b37f423",
        "colab": {
          "base_uri": "https://localhost:8080/",
          "height": 140
        }
      },
      "source": [
        "df_1 %>%\n",
        "  distinct(BusinessUnit)"
      ],
      "execution_count": 10,
      "outputs": [
        {
          "output_type": "display_data",
          "data": {
            "text/plain": [
              "  BusinessUnit           \n",
              "1 Managment              \n",
              "2 Customer Services North\n",
              "3 Customer Services South"
            ],
            "text/latex": "A tibble: 3 × 1\n\\begin{tabular}{l}\n BusinessUnit\\\\\n <chr>\\\\\n\\hline\n\t Managment              \\\\\n\t Customer Services North\\\\\n\t Customer Services South\\\\\n\\end{tabular}\n",
            "text/markdown": "\nA tibble: 3 × 1\n\n| BusinessUnit &lt;chr&gt; |\n|---|\n| Managment               |\n| Customer Services North |\n| Customer Services South |\n\n",
            "text/html": [
              "<table>\n",
              "<caption>A tibble: 3 × 1</caption>\n",
              "<thead>\n",
              "\t<tr><th scope=col>BusinessUnit</th></tr>\n",
              "\t<tr><th scope=col>&lt;chr&gt;</th></tr>\n",
              "</thead>\n",
              "<tbody>\n",
              "\t<tr><td>Managment              </td></tr>\n",
              "\t<tr><td>Customer Services North</td></tr>\n",
              "\t<tr><td>Customer Services South</td></tr>\n",
              "</tbody>\n",
              "</table>\n"
            ]
          },
          "metadata": {
            "tags": []
          }
        }
      ]
    },
    {
      "cell_type": "code",
      "metadata": {
        "id": "IAME9uIJzcEn"
      },
      "source": [
        "# Exclude rows where User is NOT part of Field Team (such as: Burhan)"
      ],
      "execution_count": 11,
      "outputs": []
    },
    {
      "cell_type": "code",
      "metadata": {
        "id": "-AIjgI2Mzdsg"
      },
      "source": [
        "df_1 %>%\n",
        " filter(BusinessUnit != 'Managment') -> df_2"
      ],
      "execution_count": 12,
      "outputs": []
    },
    {
      "cell_type": "code",
      "metadata": {
        "id": "rwy5CTXizfWJ",
        "outputId": "0f18d2ea-56c9-4bc5-bd6f-c680af3361b2",
        "colab": {
          "base_uri": "https://localhost:8080/",
          "height": 35
        }
      },
      "source": [
        "nrow(df_2)"
      ],
      "execution_count": 13,
      "outputs": [
        {
          "output_type": "display_data",
          "data": {
            "text/plain": [
              "[1] 355"
            ],
            "text/latex": "355",
            "text/markdown": "355",
            "text/html": [
              "355"
            ]
          },
          "metadata": {
            "tags": []
          }
        }
      ]
    },
    {
      "cell_type": "code",
      "metadata": {
        "id": "suTx0C5czgpt"
      },
      "source": [
        "# Keep NORTH only"
      ],
      "execution_count": 14,
      "outputs": []
    },
    {
      "cell_type": "code",
      "metadata": {
        "id": "EFdfZmoazh7S"
      },
      "source": [
        "df_2 %>%\n",
        "  filter(BusinessUnit == 'Customer Services North') -> df_with_POS_North"
      ],
      "execution_count": 15,
      "outputs": []
    },
    {
      "cell_type": "code",
      "metadata": {
        "id": "meKyJa-kzjYd",
        "outputId": "37bef31d-f643-4fc0-917f-7a82e4e77013",
        "colab": {
          "base_uri": "https://localhost:8080/",
          "height": 35
        }
      },
      "source": [
        "nrow(df_with_POS_North)"
      ],
      "execution_count": 16,
      "outputs": [
        {
          "output_type": "display_data",
          "data": {
            "text/plain": [
              "[1] 297"
            ],
            "text/latex": "297",
            "text/markdown": "297",
            "text/html": [
              "297"
            ]
          },
          "metadata": {
            "tags": []
          }
        }
      ]
    },
    {
      "cell_type": "code",
      "metadata": {
        "id": "c6MFX2pNzl40"
      },
      "source": [
        "# Keep SOUTH only"
      ],
      "execution_count": 17,
      "outputs": []
    },
    {
      "cell_type": "code",
      "metadata": {
        "id": "uavuHm4UzsMo"
      },
      "source": [
        "df_2 %>%\n",
        "  filter(BusinessUnit == 'Customer Services South') -> df_with_POS_South"
      ],
      "execution_count": 18,
      "outputs": []
    },
    {
      "cell_type": "code",
      "metadata": {
        "id": "5XATNv10ztd0",
        "outputId": "456a1b0f-ed34-4edf-fe97-034c9ec66e8e",
        "colab": {
          "base_uri": "https://localhost:8080/",
          "height": 35
        }
      },
      "source": [
        "nrow(df_with_POS_South)"
      ],
      "execution_count": 19,
      "outputs": [
        {
          "output_type": "display_data",
          "data": {
            "text/plain": [
              "[1] 58"
            ],
            "text/latex": "58",
            "text/markdown": "58",
            "text/html": [
              "58"
            ]
          },
          "metadata": {
            "tags": []
          }
        }
      ]
    },
    {
      "cell_type": "markdown",
      "metadata": {
        "id": "T6pQaesP0xNK"
      },
      "source": [
        "# Without POS"
      ]
    },
    {
      "cell_type": "code",
      "metadata": {
        "id": "1yjrGhh30246"
      },
      "source": [
        "# reading in input File\n",
        "df_m = read_xlsx(input_file, sheet=2)"
      ],
      "execution_count": 30,
      "outputs": []
    },
    {
      "cell_type": "code",
      "metadata": {
        "id": "1aiae8O_04U6",
        "outputId": "e5dbe47b-7735-4b49-bc76-c4a81f90f0e0",
        "colab": {
          "base_uri": "https://localhost:8080/",
          "height": 35
        }
      },
      "source": [
        "nrow(df_m)"
      ],
      "execution_count": 31,
      "outputs": [
        {
          "output_type": "display_data",
          "data": {
            "text/plain": [
              "[1] 71"
            ],
            "text/latex": "71",
            "text/markdown": "71",
            "text/html": [
              "71"
            ]
          },
          "metadata": {
            "tags": []
          }
        }
      ]
    },
    {
      "cell_type": "code",
      "metadata": {
        "id": "XpjbFTBW05vy"
      },
      "source": [
        "# Exclude rows where User is NOT part of Field Team (such as: Burhan)"
      ],
      "execution_count": 32,
      "outputs": []
    },
    {
      "cell_type": "code",
      "metadata": {
        "id": "FweHw9pV07G6"
      },
      "source": [
        "df_m %>%\n",
        " filter(BusinessUnit != 'Managment') -> df_100"
      ],
      "execution_count": 33,
      "outputs": []
    },
    {
      "cell_type": "code",
      "metadata": {
        "id": "_ah1wFYz08kS",
        "outputId": "2019bb60-51f3-47bb-d657-cab8cd03ce9c",
        "colab": {
          "base_uri": "https://localhost:8080/",
          "height": 35
        }
      },
      "source": [
        "nrow(df_100)"
      ],
      "execution_count": 34,
      "outputs": [
        {
          "output_type": "display_data",
          "data": {
            "text/plain": [
              "[1] 67"
            ],
            "text/latex": "67",
            "text/markdown": "67",
            "text/html": [
              "67"
            ]
          },
          "metadata": {
            "tags": []
          }
        }
      ]
    },
    {
      "cell_type": "code",
      "metadata": {
        "id": "mr38aK_Z0-gr"
      },
      "source": [
        "# Keep NORTH only"
      ],
      "execution_count": 35,
      "outputs": []
    },
    {
      "cell_type": "code",
      "metadata": {
        "id": "dM0vtG-z0_7s"
      },
      "source": [
        "df_100 %>%\n",
        "  filter(BusinessUnit == 'Customer Services North') -> df_without_POS_North"
      ],
      "execution_count": 36,
      "outputs": []
    },
    {
      "cell_type": "code",
      "metadata": {
        "id": "rOUFWta11BVK",
        "outputId": "c5f6fc4e-e493-4441-f4a5-3e7cb2b1661f",
        "colab": {
          "base_uri": "https://localhost:8080/",
          "height": 35
        }
      },
      "source": [
        "nrow(df_without_POS_North)"
      ],
      "execution_count": 37,
      "outputs": [
        {
          "output_type": "display_data",
          "data": {
            "text/plain": [
              "[1] 47"
            ],
            "text/latex": "47",
            "text/markdown": "47",
            "text/html": [
              "47"
            ]
          },
          "metadata": {
            "tags": []
          }
        }
      ]
    },
    {
      "cell_type": "code",
      "metadata": {
        "id": "DwIVOVDe1Csy"
      },
      "source": [
        "# Keep SOUTH only"
      ],
      "execution_count": 38,
      "outputs": []
    },
    {
      "cell_type": "code",
      "metadata": {
        "id": "VPTgpeYt1DxC"
      },
      "source": [
        "df_100 %>%\n",
        "  filter(BusinessUnit == 'Customer Services South') -> df_without_POS_South"
      ],
      "execution_count": 39,
      "outputs": []
    },
    {
      "cell_type": "code",
      "metadata": {
        "id": "HJ3Pmk5X1FL6",
        "outputId": "4dacc9bf-2dae-4641-9d5a-25235234d4f3",
        "colab": {
          "base_uri": "https://localhost:8080/",
          "height": 35
        }
      },
      "source": [
        "nrow(df_without_POS_South)"
      ],
      "execution_count": 40,
      "outputs": [
        {
          "output_type": "display_data",
          "data": {
            "text/plain": [
              "[1] 20"
            ],
            "text/latex": "20",
            "text/markdown": "20",
            "text/html": [
              "20"
            ]
          },
          "metadata": {
            "tags": []
          }
        }
      ]
    },
    {
      "cell_type": "markdown",
      "metadata": {
        "id": "61UdYrWn0yHC"
      },
      "source": [
        "# Writing Out"
      ]
    },
    {
      "cell_type": "code",
      "metadata": {
        "id": "OjD5tujHzuug"
      },
      "source": [
        "Category = c('With POS', 'Without POS','With POS', 'Without POS')"
      ],
      "execution_count": 28,
      "outputs": []
    },
    {
      "cell_type": "code",
      "metadata": {
        "id": "PmfdZMz10JTe"
      },
      "source": [
        "Region = c('North','North', 'South','South')"
      ],
      "execution_count": 26,
      "outputs": []
    },
    {
      "cell_type": "code",
      "metadata": {
        "id": "tRQTI23Z1ceD"
      },
      "source": [
        "Target = c(1000,1000,1000,1000)"
      ],
      "execution_count": 41,
      "outputs": []
    },
    {
      "cell_type": "code",
      "metadata": {
        "id": "B49apd1W1J8a"
      },
      "source": [
        "Current = c(nrow(df_with_POS_North), nrow(df_without_POS_North), nrow(df_with_POS_South), nrow(df_without_POS_South))"
      ],
      "execution_count": 42,
      "outputs": []
    },
    {
      "cell_type": "code",
      "metadata": {
        "id": "JJUIaBZA0Qx-"
      },
      "source": [
        "df_status = tibble(Region=Region, Category=Category, Target=Target,Current=Current)"
      ],
      "execution_count": 44,
      "outputs": []
    },
    {
      "cell_type": "code",
      "metadata": {
        "id": "C1V1r5IG0VeI"
      },
      "source": [
        "write_csv(df_status,\"Status.csv\")"
      ],
      "execution_count": 45,
      "outputs": []
    },
    {
      "cell_type": "code",
      "metadata": {
        "id": "1bmvQsxA1thr"
      },
      "source": [
        ""
      ],
      "execution_count": null,
      "outputs": []
    }
  ]
}