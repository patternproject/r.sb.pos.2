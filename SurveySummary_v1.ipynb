{
  "nbformat": 4,
  "nbformat_minor": 0,
  "metadata": {
    "colab": {
      "name": "SurveySummary-v1.ipynb",
      "provenance": [],
      "toc_visible": true,
      "authorship_tag": "ABX9TyM5aT1jpRrgiierOYc6jY1C",
      "include_colab_link": true
    },
    "kernelspec": {
      "name": "ir",
      "display_name": "R"
    }
  },
  "cells": [
    {
      "cell_type": "markdown",
      "metadata": {
        "id": "view-in-github",
        "colab_type": "text"
      },
      "source": [
        "<a href=\"https://colab.research.google.com/github/patternproject/r.sb.pos.2/blob/main/SurveySummary_v1.ipynb\" target=\"_parent\"><img src=\"https://colab.research.google.com/assets/colab-badge.svg\" alt=\"Open In Colab\"/></a>"
      ]
    },
    {
      "cell_type": "markdown",
      "metadata": {
        "id": "zfRPLzwzy3lb"
      },
      "source": [
        "#READ ME"
      ]
    },
    {
      "cell_type": "markdown",
      "metadata": {
        "id": "dLzWvklly5yD"
      },
      "source": [
        "##Analysis of Survey Data for POS\n",
        "##Iteration 2\n",
        "##Using R"
      ]
    },
    {
      "cell_type": "markdown",
      "metadata": {
        "id": "__SqrRMey9NC"
      },
      "source": [
        "This file takes in \"Extract of Daily POS Data\" in excel format and outputs a summary of where we stand (achieved, remaining), one for North and other for South region"
      ]
    },
    {
      "cell_type": "markdown",
      "metadata": {
        "id": "bw-8VW9Ry_Xj"
      },
      "source": [
        "#History\n",
        "\n",
        "v1: First Iteration\n"
      ]
    },
    {
      "cell_type": "code",
      "metadata": {
        "id": "KCybAstwy6In",
        "outputId": "be14755e-c417-4595-d73b-096e39b7479c",
        "colab": {
          "base_uri": "https://localhost:8080/"
        }
      },
      "source": [
        "# Library\n",
        "library(ggplot2)\n",
        "library(tidyverse)\n",
        "#install.packages(\"readxl\")\n",
        "library(readxl)"
      ],
      "execution_count": 1,
      "outputs": [
        {
          "output_type": "stream",
          "text": [
            "── \u001b[1mAttaching packages\u001b[22m ─────────────────────────────────────── tidyverse 1.3.0 ──\n",
            "\n",
            "\u001b[32m✔\u001b[39m \u001b[34mtibble \u001b[39m 3.0.4     \u001b[32m✔\u001b[39m \u001b[34mdplyr  \u001b[39m 1.0.2\n",
            "\u001b[32m✔\u001b[39m \u001b[34mtidyr  \u001b[39m 1.1.2     \u001b[32m✔\u001b[39m \u001b[34mstringr\u001b[39m 1.4.0\n",
            "\u001b[32m✔\u001b[39m \u001b[34mreadr  \u001b[39m 1.4.0     \u001b[32m✔\u001b[39m \u001b[34mforcats\u001b[39m 0.5.0\n",
            "\u001b[32m✔\u001b[39m \u001b[34mpurrr  \u001b[39m 0.3.4     \n",
            "\n",
            "── \u001b[1mConflicts\u001b[22m ────────────────────────────────────────── tidyverse_conflicts() ──\n",
            "\u001b[31m✖\u001b[39m \u001b[34mdplyr\u001b[39m::\u001b[32mfilter()\u001b[39m masks \u001b[34mstats\u001b[39m::filter()\n",
            "\u001b[31m✖\u001b[39m \u001b[34mdplyr\u001b[39m::\u001b[32mlag()\u001b[39m    masks \u001b[34mstats\u001b[39m::lag()\n",
            "\n"
          ],
          "name": "stderr"
        }
      ]
    },
    {
      "cell_type": "code",
      "metadata": {
        "id": "5x7gcAZtzBTJ",
        "outputId": "1b222839-1d97-4537-a466-09c3ac0c941b",
        "colab": {
          "base_uri": "https://localhost:8080/",
          "height": 166
        }
      },
      "source": [
        "# reading in input File\n",
        "input_file = \"/content/Survey Data 2020-10-29 - Master.xlsx\"\n",
        "df_master = read_xlsx(input_file, sheet=1)"
      ],
      "execution_count": 3,
      "outputs": [
        {
          "output_type": "error",
          "ename": "ERROR",
          "evalue": "ignored",
          "traceback": [
            "Error: `path` does not exist: ‘/content/Survey Data 2020-10-29 - Master.xlsx’\nTraceback:\n",
            "1. read_xlsx(input_file, sheet = 1)",
            "2. check_file(path)",
            "3. stop(\"`path` does not exist: \", sQuote(path), call. = FALSE)"
          ]
        }
      ]
    },
    {
      "cell_type": "code",
      "metadata": {
        "id": "ifwpkqYTzE38",
        "outputId": "feb23b61-47dd-40da-bc0d-bd04a0f96428",
        "colab": {
          "base_uri": "https://localhost:8080/",
          "height": 149
        }
      },
      "source": [
        "# printing DF\n",
        "print(as_tibble(df_master))"
      ],
      "execution_count": 4,
      "outputs": [
        {
          "output_type": "error",
          "ename": "ERROR",
          "evalue": "ignored",
          "traceback": [
            "Error in as_tibble(df_master): object 'df_master' not found\nTraceback:\n",
            "1. print(as_tibble(df_master))",
            "2. as_tibble(df_master)"
          ]
        }
      ]
    },
    {
      "cell_type": "code",
      "metadata": {
        "id": "qKKeYm_FzIv2"
      },
      "source": [
        ""
      ],
      "execution_count": null,
      "outputs": []
    }
  ]
}