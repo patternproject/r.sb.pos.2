{
  "nbformat": 4,
  "nbformat_minor": 0,
  "metadata": {
    "colab": {
      "name": "CustomerFunnel-DataInput-v01.ipynb",
      "provenance": [],
      "authorship_tag": "ABX9TyMhzCv9Ym4FQa96V1FDWJvI",
      "include_colab_link": true
    },
    "kernelspec": {
      "name": "ir",
      "display_name": "R"
    }
  },
  "cells": [
    {
      "cell_type": "markdown",
      "metadata": {
        "id": "view-in-github",
        "colab_type": "text"
      },
      "source": [
        "<a href=\"https://colab.research.google.com/github/patternproject/r.sb.pos.2/blob/main/CustomerFunnel_DataInput_v01.ipynb\" target=\"_parent\"><img src=\"https://colab.research.google.com/assets/colab-badge.svg\" alt=\"Open In Colab\"/></a>"
      ]
    },
    {
      "cell_type": "markdown",
      "metadata": {
        "id": "wz-RaIixj6fF"
      },
      "source": [
        "#READ ME"
      ]
    },
    {
      "cell_type": "markdown",
      "metadata": {
        "id": "30XMjeFMj582"
      },
      "source": [
        "##Analysis of Survey Data for POS\n",
        "##Iteration 2\n",
        "##Using R"
      ]
    },
    {
      "cell_type": "markdown",
      "metadata": {
        "id": "KNHf0DDMkDWC"
      },
      "source": [
        "This file takes in \"Summary prepared by Saadan\" in excel format and outputs fewer columns required for funnel summary"
      ]
    },
    {
      "cell_type": "markdown",
      "metadata": {
        "id": "g13PMdnukHL-"
      },
      "source": [
        "#History\n",
        "\n",
        "v1: First Iteration"
      ]
    },
    {
      "cell_type": "code",
      "metadata": {
        "id": "WRajqD0Uj1iO",
        "outputId": "81b478b9-9eb8-4355-d932-928ec90b02ed",
        "colab": {
          "base_uri": "https://localhost:8080/"
        }
      },
      "source": [
        "# Library\n",
        "library(ggplot2)\n",
        "library(tidyverse)\n",
        "#install.packages(\"readxl\")\n",
        "#library(readxl)"
      ],
      "execution_count": 1,
      "outputs": [
        {
          "output_type": "stream",
          "text": [
            "── \u001b[1mAttaching packages\u001b[22m ─────────────────────────────────────── tidyverse 1.3.0 ──\n",
            "\n",
            "\u001b[32m✔\u001b[39m \u001b[34mtibble \u001b[39m 3.0.4     \u001b[32m✔\u001b[39m \u001b[34mdplyr  \u001b[39m 1.0.2\n",
            "\u001b[32m✔\u001b[39m \u001b[34mtidyr  \u001b[39m 1.1.2     \u001b[32m✔\u001b[39m \u001b[34mstringr\u001b[39m 1.4.0\n",
            "\u001b[32m✔\u001b[39m \u001b[34mreadr  \u001b[39m 1.4.0     \u001b[32m✔\u001b[39m \u001b[34mforcats\u001b[39m 0.5.0\n",
            "\u001b[32m✔\u001b[39m \u001b[34mpurrr  \u001b[39m 0.3.4     \n",
            "\n",
            "── \u001b[1mConflicts\u001b[22m ────────────────────────────────────────── tidyverse_conflicts() ──\n",
            "\u001b[31m✖\u001b[39m \u001b[34mdplyr\u001b[39m::\u001b[32mfilter()\u001b[39m masks \u001b[34mstats\u001b[39m::filter()\n",
            "\u001b[31m✖\u001b[39m \u001b[34mdplyr\u001b[39m::\u001b[32mlag()\u001b[39m    masks \u001b[34mstats\u001b[39m::lag()\n",
            "\n"
          ],
          "name": "stderr"
        }
      ]
    },
    {
      "cell_type": "code",
      "metadata": {
        "id": "gCcVArsEj4yR"
      },
      "source": [
        ""
      ],
      "execution_count": null,
      "outputs": []
    }
  ]
}