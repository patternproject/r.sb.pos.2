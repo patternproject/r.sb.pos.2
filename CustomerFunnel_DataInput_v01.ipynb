{
  "nbformat": 4,
  "nbformat_minor": 0,
  "metadata": {
    "colab": {
      "name": "CustomerFunnel-DataInput-v01.ipynb",
      "provenance": [],
      "toc_visible": true,
      "authorship_tag": "ABX9TyPxP4K6etrzKmhdKWsb2CHR",
      "include_colab_link": true
    },
    "kernelspec": {
      "name": "ir",
      "display_name": "R"
    }
  },
  "cells": [
    {
      "cell_type": "markdown",
      "metadata": {
        "id": "view-in-github",
        "colab_type": "text"
      },
      "source": [
        "<a href=\"https://colab.research.google.com/github/patternproject/r.sb.pos.2/blob/main/CustomerFunnel_DataInput_v01.ipynb\" target=\"_parent\"><img src=\"https://colab.research.google.com/assets/colab-badge.svg\" alt=\"Open In Colab\"/></a>"
      ]
    },
    {
      "cell_type": "markdown",
      "metadata": {
        "id": "wz-RaIixj6fF"
      },
      "source": [
        "#READ ME"
      ]
    },
    {
      "cell_type": "markdown",
      "metadata": {
        "id": "30XMjeFMj582"
      },
      "source": [
        "##Analysis of Survey Data for POS\n",
        "##Iteration 2\n",
        "##Using R"
      ]
    },
    {
      "cell_type": "markdown",
      "metadata": {
        "id": "KNHf0DDMkDWC"
      },
      "source": [
        "This file takes in \"Summary prepared by Saadan\" in excel format and outputs fewer columns required for funnel summary"
      ]
    },
    {
      "cell_type": "markdown",
      "metadata": {
        "id": "g13PMdnukHL-"
      },
      "source": [
        "#History\n",
        "\n",
        "v1: First Iteration"
      ]
    },
    {
      "cell_type": "code",
      "metadata": {
        "id": "WRajqD0Uj1iO"
      },
      "source": [
        "# Library\n",
        "library(ggplot2)\n",
        "library(tidyverse)\n",
        "#install.packages(\"readxl\")\n",
        "#library(readxl)"
      ],
      "execution_count": 7,
      "outputs": []
    },
    {
      "cell_type": "code",
      "metadata": {
        "id": "gCcVArsEj4yR"
      },
      "source": [
        "# conditional install - Janitor\n",
        "list.of.packages <- c(\"janitor\")\n",
        "new.packages <- list.of.packages[!(list.of.packages %in% installed.packages()[,\"Package\"])]\n",
        "if(length(new.packages)) install.packages(new.packages)\n",
        "\n",
        "library(janitor)"
      ],
      "execution_count": 8,
      "outputs": []
    },
    {
      "cell_type": "code",
      "metadata": {
        "id": "TSLw1cbMkz6V"
      },
      "source": [
        "# conditional install - openxlsx\n",
        "\n",
        "list.of.packages <- c(\"openxlsx\")\n",
        "new.packages <- list.of.packages[!(list.of.packages %in% installed.packages()[,\"Package\"])]\n",
        "if(length(new.packages)) install.packages(new.packages)\n",
        "\n",
        "library(openxlsx)"
      ],
      "execution_count": 9,
      "outputs": []
    },
    {
      "cell_type": "markdown",
      "metadata": {
        "id": "s3Z-hEOYlBK6"
      },
      "source": [
        "# Setting Input Files"
      ]
    },
    {
      "cell_type": "code",
      "metadata": {
        "id": "Bc2tdjRzk8ds"
      },
      "source": [
        "input_file = '/content/Outlets to approach for demos.xlsx'"
      ],
      "execution_count": 10,
      "outputs": []
    },
    {
      "cell_type": "code",
      "metadata": {
        "id": "BKVq-u3NlPJV"
      },
      "source": [
        "# reading in input File\n",
        "\n",
        "df_with = read.xlsx(input_file, sheet=1)\n",
        "df_without = read.xlsx(input_file, sheet=2)"
      ],
      "execution_count": 13,
      "outputs": []
    },
    {
      "cell_type": "markdown",
      "metadata": {
        "id": "GkKO3RVXmXXA"
      },
      "source": [
        "# With POS"
      ]
    },
    {
      "cell_type": "code",
      "metadata": {
        "id": "7lBm40IDlZfI",
        "outputId": "166ade1f-c80a-4c34-f3a0-74c13231d364",
        "colab": {
          "base_uri": "https://localhost:8080/"
        }
      },
      "source": [
        "# printing DF\n",
        "print(as_tibble(df_with))"
      ],
      "execution_count": 15,
      "outputs": [
        {
          "output_type": "stream",
          "text": [
            "\u001b[90m# A tibble: 20 x 13\u001b[39m\n",
            "   Sr..No. Field.Agent `Outlet's.Name` Nature.of.Busin… `Outlet's.Addre… City \n",
            "     \u001b[3m\u001b[90m<dbl>\u001b[39m\u001b[23m \u001b[3m\u001b[90m<chr>\u001b[39m\u001b[23m       \u001b[3m\u001b[90m<chr>\u001b[39m\u001b[23m           \u001b[3m\u001b[90m<chr>\u001b[39m\u001b[23m            \u001b[3m\u001b[90m<chr>\u001b[39m\u001b[23m            \u001b[3m\u001b[90m<chr>\u001b[39m\u001b[23m\n",
            "\u001b[90m 1\u001b[39m       1 Farasat Ul… Sana Garments   \u001b[90m\"\u001b[39m Clothing item… Bank Road Sadda… Rawa…\n",
            "\u001b[90m 2\u001b[39m       2 Muhammad K… (Bata )         \u001b[90m\"\u001b[39mFootwear\u001b[90m\"\u001b[39m       (Gori town)      Isla…\n",
            "\u001b[90m 3\u001b[39m       3 Osama Shak… (Classic corne… \u001b[90m\"\u001b[39mClothing items\u001b[90m\"\u001b[39m (jublee market … Kara…\n",
            "\u001b[90m 4\u001b[39m       4 Ahmed Khan  (Baby shop)     \u001b[90m\"\u001b[39mClothing items… (F-8)            Isla…\n",
            "\u001b[90m 5\u001b[39m       5 Ahmed Khan  (Cambridge )    \u001b[90m\"\u001b[39mClothing items… (F-8)            Isla…\n",
            "\u001b[90m 6\u001b[39m       6 Ahmed Khan  (Ethnic)        \u001b[90m\"\u001b[39mClothing items… (F-8)            Isla…\n",
            "\u001b[90m 7\u001b[39m       7 Ahmed Khan  (Sony)          \u001b[90m\"\u001b[39mElectronics, G… (F-8)            Isla…\n",
            "\u001b[90m 8\u001b[39m       8 Ahmed Khan  (Oxygen)        \u001b[90m\"\u001b[39mClothing items… (F-8)            Isla…\n",
            "\u001b[90m 9\u001b[39m       9 Ahmed Khan  (Minie minors)  \u001b[90m\"\u001b[39mClothing items… (F-8)            Isla…\n",
            "\u001b[90m10\u001b[39m      10 Ahmed Khan  (Ulra club)     \u001b[90m\"\u001b[39mClothing items… (F-8)            Isla…\n",
            "\u001b[90m11\u001b[39m      11 Ahmed Khan  (Walk eaze)     \u001b[90m\"\u001b[39mClothing items… (F-8)            Isla…\n",
            "\u001b[90m12\u001b[39m      12 Ahmed Khan  (Breakout)      \u001b[90m\"\u001b[39mClothing items… (F-8)            Isla…\n",
            "\u001b[90m13\u001b[39m      13 Ahmed Khan  (Noor collecti… \u001b[90m\"\u001b[39mElectronics\u001b[90m\"\u001b[39m    (F-8)            Isla…\n",
            "\u001b[90m14\u001b[39m      14 Ahmed Khan  (The entertain… \u001b[90m\"\u001b[39mClothing items\u001b[90m\"\u001b[39m (F-8)            Isla…\n",
            "\u001b[90m15\u001b[39m      15 Ahmed Khan  (Almas)         \u001b[90m\"\u001b[39mMobile Phones\u001b[90m\"\u001b[39m  (F-8)            Isla…\n",
            "\u001b[90m16\u001b[39m      16 Umer Khalid (Q Electric Tr… \u001b[90m\"\u001b[39mElectronics\u001b[90m\"\u001b[39m    (Ijp road)       Rawa…\n",
            "\u001b[90m17\u001b[39m      17 Umer Khalid (Dimension Alu… \u001b[90m\"\u001b[39mOther (Glass &… (Mehmood Abad)   Rawa…\n",
            "\u001b[90m18\u001b[39m      18 Muhammad K… (iqra books & … \u001b[90m\"\u001b[39mStationary\u001b[90m\"\u001b[39m     (Gori town)      Isla…\n",
            "\u001b[90m19\u001b[39m      \u001b[31mNA\u001b[39m \u001b[31mNA\u001b[39m          \u001b[31mNA\u001b[39m              \u001b[90m\"\u001b[39mStylish Cloth … \u001b[31mNA\u001b[39m               \u001b[31mNA\u001b[39m   \n",
            "\u001b[90m20\u001b[39m      \u001b[31mNA\u001b[39m \u001b[31mNA\u001b[39m          \u001b[31mNA\u001b[39m              \u001b[90m\"\u001b[39mnoor collectio… \u001b[31mNA\u001b[39m               \u001b[31mNA\u001b[39m   \n",
            "\u001b[90m# … with 7 more variables: `Respondent's.Name` \u001b[3m\u001b[90m<chr>\u001b[90m\u001b[23m,\u001b[39m\n",
            "\u001b[90m#   `Respondent's.Designition` \u001b[3m\u001b[90m<chr>\u001b[90m\u001b[23m, `Respondent's.Contact.No.` \u001b[3m\u001b[90m<chr>\u001b[90m\u001b[23m,\u001b[39m\n",
            "\u001b[90m#   Current.POS.System \u001b[3m\u001b[90m<chr>\u001b[90m\u001b[23m, Observations.from.call.with.Agent \u001b[3m\u001b[90m<chr>\u001b[90m\u001b[23m,\u001b[39m\n",
            "\u001b[90m#   Observations.from.call.with.Respondent \u001b[3m\u001b[90m<chr>\u001b[90m\u001b[23m, X13 \u001b[3m\u001b[90m<chr>\u001b[90m\u001b[23m\u001b[39m\n"
          ],
          "name": "stdout"
        }
      ]
    },
    {
      "cell_type": "code",
      "metadata": {
        "id": "D_OfjmgRmmVx",
        "outputId": "aa9df0c1-fae5-493d-a457-aadcb51d9ea4",
        "colab": {
          "base_uri": "https://localhost:8080/",
          "height": 69
        }
      },
      "source": [
        "colnames(df_with)"
      ],
      "execution_count": 19,
      "outputs": [
        {
          "output_type": "display_data",
          "data": {
            "text/plain": [
              " [1] \"Sr..No.\"                               \n",
              " [2] \"Field.Agent\"                           \n",
              " [3] \"Outlet's.Name\"                         \n",
              " [4] \"Nature.of.Business\"                    \n",
              " [5] \"Outlet's.Address\"                      \n",
              " [6] \"City\"                                  \n",
              " [7] \"Respondent's.Name\"                     \n",
              " [8] \"Respondent's.Designition\"              \n",
              " [9] \"Respondent's.Contact.No.\"              \n",
              "[10] \"Current.POS.System\"                    \n",
              "[11] \"Observations.from.call.with.Agent\"     \n",
              "[12] \"Observations.from.call.with.Respondent\"\n",
              "[13] \"X13\"                                   "
            ],
            "text/latex": "\\begin{enumerate*}\n\\item 'Sr..No.'\n\\item 'Field.Agent'\n\\item 'Outlet\\textbackslash{}'s.Name'\n\\item 'Nature.of.Business'\n\\item 'Outlet\\textbackslash{}'s.Address'\n\\item 'City'\n\\item 'Respondent\\textbackslash{}'s.Name'\n\\item 'Respondent\\textbackslash{}'s.Designition'\n\\item 'Respondent\\textbackslash{}'s.Contact.No.'\n\\item 'Current.POS.System'\n\\item 'Observations.from.call.with.Agent'\n\\item 'Observations.from.call.with.Respondent'\n\\item 'X13'\n\\end{enumerate*}\n",
            "text/markdown": "1. 'Sr..No.'\n2. 'Field.Agent'\n3. 'Outlet\\'s.Name'\n4. 'Nature.of.Business'\n5. 'Outlet\\'s.Address'\n6. 'City'\n7. 'Respondent\\'s.Name'\n8. 'Respondent\\'s.Designition'\n9. 'Respondent\\'s.Contact.No.'\n10. 'Current.POS.System'\n11. 'Observations.from.call.with.Agent'\n12. 'Observations.from.call.with.Respondent'\n13. 'X13'\n\n\n",
            "text/html": [
              "<style>\n",
              ".list-inline {list-style: none; margin:0; padding: 0}\n",
              ".list-inline>li {display: inline-block}\n",
              ".list-inline>li:not(:last-child)::after {content: \"\\00b7\"; padding: 0 .5ex}\n",
              "</style>\n",
              "<ol class=list-inline><li>'Sr..No.'</li><li>'Field.Agent'</li><li>'Outlet\\'s.Name'</li><li>'Nature.of.Business'</li><li>'Outlet\\'s.Address'</li><li>'City'</li><li>'Respondent\\'s.Name'</li><li>'Respondent\\'s.Designition'</li><li>'Respondent\\'s.Contact.No.'</li><li>'Current.POS.System'</li><li>'Observations.from.call.with.Agent'</li><li>'Observations.from.call.with.Respondent'</li><li>'X13'</li></ol>\n"
            ]
          },
          "metadata": {
            "tags": []
          }
        }
      ]
    },
    {
      "cell_type": "markdown",
      "metadata": {
        "id": "nRXT7xNfm1Fj"
      },
      "source": [
        "## Cleaning up the col names"
      ]
    },
    {
      "cell_type": "markdown",
      "metadata": {
        "id": "Vo7BJOxKmyRS"
      },
      "source": [
        "#### removing special characters"
      ]
    },
    {
      "cell_type": "code",
      "metadata": {
        "id": "czmTw4mPm6U0"
      },
      "source": [
        "df_2 = df_with"
      ],
      "execution_count": 20,
      "outputs": []
    },
    {
      "cell_type": "code",
      "metadata": {
        "id": "2WGF9_Hvm42N",
        "outputId": "6a72a463-4e06-4f55-88ea-d8f71fad9698",
        "colab": {
          "base_uri": "https://localhost:8080/",
          "height": 69
        }
      },
      "source": [
        "#x = df_2\n",
        "y = colnames(df_2) \n",
        "colnames(df_2) = str_replace_all(y, \"[^[A-Za-z0-9]]\", \" \") %>% str_replace_all(.,\"[ ]+\", \" \")\n",
        "colnames(df_2)"
      ],
      "execution_count": 21,
      "outputs": [
        {
          "output_type": "display_data",
          "data": {
            "text/plain": [
              " [1] \"Sr No \"                                \n",
              " [2] \"Field Agent\"                           \n",
              " [3] \"Outlet s Name\"                         \n",
              " [4] \"Nature of Business\"                    \n",
              " [5] \"Outlet s Address\"                      \n",
              " [6] \"City\"                                  \n",
              " [7] \"Respondent s Name\"                     \n",
              " [8] \"Respondent s Designition\"              \n",
              " [9] \"Respondent s Contact No \"              \n",
              "[10] \"Current POS System\"                    \n",
              "[11] \"Observations from call with Agent\"     \n",
              "[12] \"Observations from call with Respondent\"\n",
              "[13] \"X13\"                                   "
            ],
            "text/latex": "\\begin{enumerate*}\n\\item 'Sr No '\n\\item 'Field Agent'\n\\item 'Outlet s Name'\n\\item 'Nature of Business'\n\\item 'Outlet s Address'\n\\item 'City'\n\\item 'Respondent s Name'\n\\item 'Respondent s Designition'\n\\item 'Respondent s Contact No '\n\\item 'Current POS System'\n\\item 'Observations from call with Agent'\n\\item 'Observations from call with Respondent'\n\\item 'X13'\n\\end{enumerate*}\n",
            "text/markdown": "1. 'Sr No '\n2. 'Field Agent'\n3. 'Outlet s Name'\n4. 'Nature of Business'\n5. 'Outlet s Address'\n6. 'City'\n7. 'Respondent s Name'\n8. 'Respondent s Designition'\n9. 'Respondent s Contact No '\n10. 'Current POS System'\n11. 'Observations from call with Agent'\n12. 'Observations from call with Respondent'\n13. 'X13'\n\n\n",
            "text/html": [
              "<style>\n",
              ".list-inline {list-style: none; margin:0; padding: 0}\n",
              ".list-inline>li {display: inline-block}\n",
              ".list-inline>li:not(:last-child)::after {content: \"\\00b7\"; padding: 0 .5ex}\n",
              "</style>\n",
              "<ol class=list-inline><li>'Sr No '</li><li>'Field Agent'</li><li>'Outlet s Name'</li><li>'Nature of Business'</li><li>'Outlet s Address'</li><li>'City'</li><li>'Respondent s Name'</li><li>'Respondent s Designition'</li><li>'Respondent s Contact No '</li><li>'Current POS System'</li><li>'Observations from call with Agent'</li><li>'Observations from call with Respondent'</li><li>'X13'</li></ol>\n"
            ]
          },
          "metadata": {
            "tags": []
          }
        }
      ]
    },
    {
      "cell_type": "code",
      "metadata": {
        "id": "ZHu-mvZNnNPb"
      },
      "source": [
        "df_2 = \n",
        "  df_2 %>% clean_names()"
      ],
      "execution_count": 22,
      "outputs": []
    },
    {
      "cell_type": "code",
      "metadata": {
        "id": "87isxPgvnOcI",
        "outputId": "0ecfbc9d-7724-40fa-a505-32ae828cedf3",
        "colab": {
          "base_uri": "https://localhost:8080/",
          "height": 69
        }
      },
      "source": [
        "colnames(df_2)"
      ],
      "execution_count": 23,
      "outputs": [
        {
          "output_type": "display_data",
          "data": {
            "text/plain": [
              " [1] \"sr_no\"                                 \n",
              " [2] \"field_agent\"                           \n",
              " [3] \"outlet_s_name\"                         \n",
              " [4] \"nature_of_business\"                    \n",
              " [5] \"outlet_s_address\"                      \n",
              " [6] \"city\"                                  \n",
              " [7] \"respondent_s_name\"                     \n",
              " [8] \"respondent_s_designition\"              \n",
              " [9] \"respondent_s_contact_no\"               \n",
              "[10] \"current_pos_system\"                    \n",
              "[11] \"observations_from_call_with_agent\"     \n",
              "[12] \"observations_from_call_with_respondent\"\n",
              "[13] \"x13\"                                   "
            ],
            "text/latex": "\\begin{enumerate*}\n\\item 'sr\\_no'\n\\item 'field\\_agent'\n\\item 'outlet\\_s\\_name'\n\\item 'nature\\_of\\_business'\n\\item 'outlet\\_s\\_address'\n\\item 'city'\n\\item 'respondent\\_s\\_name'\n\\item 'respondent\\_s\\_designition'\n\\item 'respondent\\_s\\_contact\\_no'\n\\item 'current\\_pos\\_system'\n\\item 'observations\\_from\\_call\\_with\\_agent'\n\\item 'observations\\_from\\_call\\_with\\_respondent'\n\\item 'x13'\n\\end{enumerate*}\n",
            "text/markdown": "1. 'sr_no'\n2. 'field_agent'\n3. 'outlet_s_name'\n4. 'nature_of_business'\n5. 'outlet_s_address'\n6. 'city'\n7. 'respondent_s_name'\n8. 'respondent_s_designition'\n9. 'respondent_s_contact_no'\n10. 'current_pos_system'\n11. 'observations_from_call_with_agent'\n12. 'observations_from_call_with_respondent'\n13. 'x13'\n\n\n",
            "text/html": [
              "<style>\n",
              ".list-inline {list-style: none; margin:0; padding: 0}\n",
              ".list-inline>li {display: inline-block}\n",
              ".list-inline>li:not(:last-child)::after {content: \"\\00b7\"; padding: 0 .5ex}\n",
              "</style>\n",
              "<ol class=list-inline><li>'sr_no'</li><li>'field_agent'</li><li>'outlet_s_name'</li><li>'nature_of_business'</li><li>'outlet_s_address'</li><li>'city'</li><li>'respondent_s_name'</li><li>'respondent_s_designition'</li><li>'respondent_s_contact_no'</li><li>'current_pos_system'</li><li>'observations_from_call_with_agent'</li><li>'observations_from_call_with_respondent'</li><li>'x13'</li></ol>\n"
            ]
          },
          "metadata": {
            "tags": []
          }
        }
      ]
    },
    {
      "cell_type": "markdown",
      "metadata": {
        "id": "g3ZIDB4WnhDo"
      },
      "source": [
        "#### Column Mapping"
      ]
    },
    {
      "cell_type": "code",
      "metadata": {
        "id": "tWXa4TCKnapW"
      },
      "source": [
        "df_3 = df_2 %>% rename(\n",
        "SR_NO = 'sr_no',\n",
        "FIELD_AGENT = 'field_agent',\n",
        "ORG_NAME = 'outlet_s_name',\n",
        "ORG_TYPE = 'nature_of_business',\n",
        "ORG_ADDRESS = 'outlet_s_address',\n",
        "ORG_CITY = 'city',\n",
        "RESP_NAME = 'respondent_s_name',\n",
        "RESP_DESIGNATION = 'respondent_s_designition',\n",
        "RESP_PHONE = 'respondent_s_contact_no',\n",
        "ORG_POS_NAME = 'current_pos_system',\n",
        "OBS_FROM_FIELD_AGENT = 'observations_from_call_with_agent',\n",
        "OBS_FROM_RESPONDEDNT = 'observations_from_call_with_respondent'\n",
        ")\n"
      ],
      "execution_count": 26,
      "outputs": []
    },
    {
      "cell_type": "code",
      "metadata": {
        "id": "gM59tZcIpYXm",
        "outputId": "2af55ef9-36ca-4191-b07a-181bd53ec054",
        "colab": {
          "base_uri": "https://localhost:8080/"
        }
      },
      "source": [
        "glimpse(df_3)"
      ],
      "execution_count": 27,
      "outputs": [
        {
          "output_type": "stream",
          "text": [
            "Rows: 20\n",
            "Columns: 13\n",
            "$ SR_NO                \u001b[3m\u001b[90m<dbl>\u001b[39m\u001b[23m 1, 2, 3, 4, 5, 6, 7, 8, 9, 10, 11, 12, 13, 14, 1…\n",
            "$ FIELD_AGENT          \u001b[3m\u001b[90m<chr>\u001b[39m\u001b[23m \"Farasat Ullah Shah\", \"Muhammad Khan\", \"Osama Sh…\n",
            "$ ORG_NAME             \u001b[3m\u001b[90m<chr>\u001b[39m\u001b[23m \"Sana Garments\", \"(Bata )\", \"(Classic corner )\",…\n",
            "$ ORG_TYPE             \u001b[3m\u001b[90m<chr>\u001b[39m\u001b[23m \" Clothing items, Groceries\", \"Footwear\", \"Cloth…\n",
            "$ ORG_ADDRESS          \u001b[3m\u001b[90m<chr>\u001b[39m\u001b[23m \"Bank Road Saddar Rawalpindi\", \"(Gori town)\", \"(…\n",
            "$ ORG_CITY             \u001b[3m\u001b[90m<chr>\u001b[39m\u001b[23m \"Rawalpindi\", \"Islamabad\", \"Karachi\", \"Islamabad…\n",
            "$ RESP_NAME            \u001b[3m\u001b[90m<chr>\u001b[39m\u001b[23m \"Muhammad Hafeez\", \"(Attique kiyani)\", \"(sohail …\n",
            "$ RESP_DESIGNATION     \u001b[3m\u001b[90m<chr>\u001b[39m\u001b[23m \"Shop Manager\", \"(Gori town)\", \"(owner )\", \"(Man…\n",
            "$ RESP_PHONE           \u001b[3m\u001b[90m<chr>\u001b[39m\u001b[23m \"0333-5232267\", \"0313-5031313\", \"-3002248448\", \"…\n",
            "$ ORG_POS_NAME         \u001b[3m\u001b[90m<chr>\u001b[39m\u001b[23m \"MultiTech Solution\", \"(Seimens)\", \"(sharp )\", \"…\n",
            "$ OBS_FROM_FIELD_AGENT \u001b[3m\u001b[90m<chr>\u001b[39m\u001b[23m \"The agent said he knows the respondent personal…\n",
            "$ OBS_FROM_RESPONDEDNT \u001b[3m\u001b[90m<chr>\u001b[39m\u001b[23m NA, NA, NA, NA, NA, NA, NA, NA, NA, NA, NA, NA, …\n",
            "$ x13                  \u001b[3m\u001b[90m<chr>\u001b[39m\u001b[23m NA, NA, NA, NA, NA, NA, NA, NA, NA, NA, NA, NA, …\n"
          ],
          "name": "stdout"
        }
      ]
    },
    {
      "cell_type": "markdown",
      "metadata": {
        "id": "-8d11skHmcqp"
      },
      "source": [
        "# Without POS"
      ]
    },
    {
      "cell_type": "code",
      "metadata": {
        "id": "gkQDGCYwmIbf",
        "outputId": "9deaf3ef-b3ee-4cb2-959c-0a4fb285d0ae",
        "colab": {
          "base_uri": "https://localhost:8080/"
        }
      },
      "source": [
        "# printing DF\n",
        "print(as_tibble(df_without))"
      ],
      "execution_count": 17,
      "outputs": [
        {
          "output_type": "stream",
          "text": [
            "\u001b[90m# A tibble: 64 x 13\u001b[39m\n",
            "   Sr..No. Field.Agent `Outlet's.Name` Nature.of.Busin… `Outlet's.Addre… City \n",
            "     \u001b[3m\u001b[90m<dbl>\u001b[39m\u001b[23m \u001b[3m\u001b[90m<chr>\u001b[39m\u001b[23m       \u001b[3m\u001b[90m<chr>\u001b[39m\u001b[23m           \u001b[3m\u001b[90m<chr>\u001b[39m\u001b[23m            \u001b[3m\u001b[90m<chr>\u001b[39m\u001b[23m            \u001b[3m\u001b[90m<chr>\u001b[39m\u001b[23m\n",
            "\u001b[90m 1\u001b[39m       1 Muhammad A… \u001b[90m\"\u001b[39m Forever Garm… \u001b[90m\"\u001b[39m Clothing item… \u001b[90m\"\u001b[39m Near mcc kara… \u001b[90m\"\u001b[39m Is…\n",
            "\u001b[90m 2\u001b[39m       2 Muhammad A… \u001b[90m\"\u001b[39m Tameer Hardw… \u001b[90m\"\u001b[39m Hardware / Pa… \u001b[90m\"\u001b[39m Mughal plaza … \u001b[90m\"\u001b[39m Is…\n",
            "\u001b[90m 3\u001b[39m       3 Naveed Ars… \u001b[90m\"\u001b[39m Medi Health\u001b[90m\"\u001b[39m  \u001b[90m\"\u001b[39m Groceries (Co… \u001b[90m\"\u001b[39m I.10-1\u001b[90m\"\u001b[39m        \u001b[90m\"\u001b[39m Is…\n",
            "\u001b[90m 4\u001b[39m       4 Naveed Ars… \u001b[90m\"\u001b[39m Wah Wah Garm… \u001b[90m\"\u001b[39m Clothing item… \u001b[90m\"\u001b[39m I-10 markaz\u001b[90m\"\u001b[39m   \u001b[90m\"\u001b[39m Is…\n",
            "\u001b[90m 5\u001b[39m       5 Muhammad  … \u001b[90m\"\u001b[39m Attock Autos\u001b[90m\"\u001b[39m \u001b[90m\"\u001b[39m Auto, Groceri… \u001b[90m\"\u001b[39m I&T center G-… \u001b[90m\"\u001b[39m Is…\n",
            "\u001b[90m 6\u001b[39m       6 Muhammad  … \u001b[90m\"\u001b[39m City Wheels\u001b[90m\"\u001b[39m  \u001b[90m\"\u001b[39m Auto\u001b[90m\"\u001b[39m          \u001b[90m\"\u001b[39m Shop 1 block … \u001b[90m\"\u001b[39m Is…\n",
            "\u001b[90m 7\u001b[39m       7 Naveed Ars… \u001b[90m\"\u001b[39m Colour Stati… \u001b[90m\"\u001b[39m Stationary\u001b[90m\"\u001b[39m    \u001b[90m\"\u001b[39m I.10 Markaz\u001b[90m\"\u001b[39m   \u001b[90m\"\u001b[39m Is…\n",
            "\u001b[90m 8\u001b[39m       8 Umer Khalid \u001b[90m\"\u001b[39m Geo Ply Wood\u001b[90m\"\u001b[39m \u001b[90m\"\u001b[39m Groceries, Ha… \u001b[90m\"\u001b[39m Said pur road… \u001b[90m\"\u001b[39m Ra…\n",
            "\u001b[90m 9\u001b[39m       9 Adnan Sarw… \u001b[90m\"\u001b[39m Victory Elec… \u001b[90m\"\u001b[39m Hardware / Pa… \u001b[90m\"\u001b[39m Shop # 2, bew… \u001b[90m\"\u001b[39m Is…\n",
            "\u001b[90m10\u001b[39m      10 Adnan Sarw… \u001b[90m\"\u001b[39m Lucky Links\u001b[90m\"\u001b[39m  \u001b[90m\"\u001b[39m Mobile Phones\u001b[90m\"\u001b[39m \u001b[90m\"\u001b[39m Shop 6,7 bloc… \u001b[90m\"\u001b[39m Is…\n",
            "\u001b[90m# … with 54 more rows, and 7 more variables: `Respondent's.Name` \u001b[3m\u001b[90m<chr>\u001b[90m\u001b[23m,\u001b[39m\n",
            "\u001b[90m#   `Respondent's.Designition` \u001b[3m\u001b[90m<chr>\u001b[90m\u001b[23m, `Respondent's.Contact.No.` \u001b[3m\u001b[90m<chr>\u001b[90m\u001b[23m,\u001b[39m\n",
            "\u001b[90m#   Observations.from.call.with.Agent \u001b[3m\u001b[90m<chr>\u001b[90m\u001b[23m,\u001b[39m\n",
            "\u001b[90m#   Observations.from.call.with.Respondent \u001b[3m\u001b[90m<chr>\u001b[90m\u001b[23m, Personal.Notes \u001b[3m\u001b[90m<chr>\u001b[90m\u001b[23m,\u001b[39m\n",
            "\u001b[90m#   X13 \u001b[3m\u001b[90m<chr>\u001b[90m\u001b[23m\u001b[39m\n"
          ],
          "name": "stdout"
        }
      ]
    },
    {
      "cell_type": "code",
      "metadata": {
        "id": "VogoPo5RmOo-",
        "outputId": "1e2e3164-6a9d-4b4e-87a6-a4d656bd115c",
        "colab": {
          "base_uri": "https://localhost:8080/",
          "height": 69
        }
      },
      "source": [
        "colnames(df_without)"
      ],
      "execution_count": 18,
      "outputs": [
        {
          "output_type": "display_data",
          "data": {
            "text/plain": [
              " [1] \"Sr..No.\"                               \n",
              " [2] \"Field.Agent\"                           \n",
              " [3] \"Outlet's.Name\"                         \n",
              " [4] \"Nature.of.Business\"                    \n",
              " [5] \"Outlet's.Address\"                      \n",
              " [6] \"City\"                                  \n",
              " [7] \"Respondent's.Name\"                     \n",
              " [8] \"Respondent's.Designition\"              \n",
              " [9] \"Respondent's.Contact.No.\"              \n",
              "[10] \"Observations.from.call.with.Agent\"     \n",
              "[11] \"Observations.from.call.with.Respondent\"\n",
              "[12] \"Personal.Notes\"                        \n",
              "[13] \"X13\"                                   "
            ],
            "text/latex": "\\begin{enumerate*}\n\\item 'Sr..No.'\n\\item 'Field.Agent'\n\\item 'Outlet\\textbackslash{}'s.Name'\n\\item 'Nature.of.Business'\n\\item 'Outlet\\textbackslash{}'s.Address'\n\\item 'City'\n\\item 'Respondent\\textbackslash{}'s.Name'\n\\item 'Respondent\\textbackslash{}'s.Designition'\n\\item 'Respondent\\textbackslash{}'s.Contact.No.'\n\\item 'Observations.from.call.with.Agent'\n\\item 'Observations.from.call.with.Respondent'\n\\item 'Personal.Notes'\n\\item 'X13'\n\\end{enumerate*}\n",
            "text/markdown": "1. 'Sr..No.'\n2. 'Field.Agent'\n3. 'Outlet\\'s.Name'\n4. 'Nature.of.Business'\n5. 'Outlet\\'s.Address'\n6. 'City'\n7. 'Respondent\\'s.Name'\n8. 'Respondent\\'s.Designition'\n9. 'Respondent\\'s.Contact.No.'\n10. 'Observations.from.call.with.Agent'\n11. 'Observations.from.call.with.Respondent'\n12. 'Personal.Notes'\n13. 'X13'\n\n\n",
            "text/html": [
              "<style>\n",
              ".list-inline {list-style: none; margin:0; padding: 0}\n",
              ".list-inline>li {display: inline-block}\n",
              ".list-inline>li:not(:last-child)::after {content: \"\\00b7\"; padding: 0 .5ex}\n",
              "</style>\n",
              "<ol class=list-inline><li>'Sr..No.'</li><li>'Field.Agent'</li><li>'Outlet\\'s.Name'</li><li>'Nature.of.Business'</li><li>'Outlet\\'s.Address'</li><li>'City'</li><li>'Respondent\\'s.Name'</li><li>'Respondent\\'s.Designition'</li><li>'Respondent\\'s.Contact.No.'</li><li>'Observations.from.call.with.Agent'</li><li>'Observations.from.call.with.Respondent'</li><li>'Personal.Notes'</li><li>'X13'</li></ol>\n"
            ]
          },
          "metadata": {
            "tags": []
          }
        }
      ]
    },
    {
      "cell_type": "code",
      "metadata": {
        "id": "956ROi_Emihc"
      },
      "source": [
        ""
      ],
      "execution_count": null,
      "outputs": []
    }
  ]
}