{
  "nbformat": 4,
  "nbformat_minor": 0,
  "metadata": {
    "colab": {
      "name": "CustomerFunnel-DataInput-v01.ipynb",
      "provenance": [],
      "collapsed_sections": [],
      "authorship_tag": "ABX9TyO9xYfTwIsY96a+D0UWrs6m",
      "include_colab_link": true
    },
    "kernelspec": {
      "name": "python3",
      "display_name": "Python 3"
    }
  },
  "cells": [
    {
      "cell_type": "markdown",
      "metadata": {
        "id": "view-in-github",
        "colab_type": "text"
      },
      "source": [
        "<a href=\"https://colab.research.google.com/github/patternproject/r.sb.pos.2/blob/main/CustomerFunnel_DataInput_v01.ipynb\" target=\"_parent\"><img src=\"https://colab.research.google.com/assets/colab-badge.svg\" alt=\"Open In Colab\"/></a>"
      ]
    },
    {
      "cell_type": "markdown",
      "metadata": {
        "id": "XYLs0za7i1tK"
      },
      "source": [
        "#READ ME"
      ]
    },
    {
      "cell_type": "markdown",
      "metadata": {
        "id": "OoEHqk9Ki0as"
      },
      "source": [
        "##Analysis of Survey Data for POS\n",
        "##Iteration 2\n",
        "##Using R"
      ]
    },
    {
      "cell_type": "markdown",
      "metadata": {
        "id": "loZEfYJqi7TA"
      },
      "source": [
        "This file takes in \"Summary prepared by Saadan\" in excel format and outputs fewer columns required for funnel summary"
      ]
    },
    {
      "cell_type": "markdown",
      "metadata": {
        "id": "hCFcglb9jSgu"
      },
      "source": [
        "#History\n",
        "\n",
        "v1: First Iteration"
      ]
    },
    {
      "cell_type": "code",
      "metadata": {
        "id": "YytTzNbejTWr"
      },
      "source": [
        ""
      ],
      "execution_count": null,
      "outputs": []
    }
  ]
}