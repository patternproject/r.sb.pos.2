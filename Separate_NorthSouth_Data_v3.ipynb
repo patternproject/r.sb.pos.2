{
  "nbformat": 4,
  "nbformat_minor": 0,
  "metadata": {
    "colab": {
      "name": "Separate NorthSouth Data v3.ipynb",
      "provenance": [],
      "collapsed_sections": [],
      "toc_visible": true,
      "authorship_tag": "ABX9TyP3PuPyhvYCYAcbIzEdwTof",
      "include_colab_link": true
    },
    "kernelspec": {
      "name": "ir",
      "display_name": "R"
    }
  },
  "cells": [
    {
      "cell_type": "markdown",
      "metadata": {
        "id": "view-in-github",
        "colab_type": "text"
      },
      "source": [
        "<a href=\"https://colab.research.google.com/github/patternproject/r.sb.pos.2/blob/main/Separate_NorthSouth_Data_v3.ipynb\" target=\"_parent\"><img src=\"https://colab.research.google.com/assets/colab-badge.svg\" alt=\"Open In Colab\"/></a>"
      ]
    },
    {
      "cell_type": "markdown",
      "metadata": {
        "id": "aSsGw3ZJ4QPN"
      },
      "source": [
        "#READ ME"
      ]
    },
    {
      "cell_type": "markdown",
      "metadata": {
        "id": "T8_teX5y4IUs"
      },
      "source": [
        "##Analysis of Survey Data for POS\n",
        "##Iteration 2\n",
        "##Using R"
      ]
    },
    {
      "cell_type": "markdown",
      "metadata": {
        "id": "sm8gm3xu4Sl9"
      },
      "source": [
        "This file takes in \"Extract of Daily POS Data\" in excel format and outputs two files, one for North and other for South region"
      ]
    },
    {
      "cell_type": "markdown",
      "metadata": {
        "id": "X0soX4yA4eHM"
      },
      "source": [
        "#History\n",
        "\n",
        "v1: First Iteration\n",
        "\n",
        "v2: First run of North and South completed\n",
        "\n",
        "v3: Changed write xlsx to incoporate multiple sheets"
      ]
    },
    {
      "cell_type": "markdown",
      "metadata": {
        "id": "Je5p-3eH4keF"
      },
      "source": [
        "## Setup"
      ]
    },
    {
      "cell_type": "code",
      "metadata": {
        "id": "njNtW-Qj4C5W",
        "outputId": "983a1381-de5d-4827-f8aa-711fc8e722e2",
        "colab": {
          "base_uri": "https://localhost:8080/",
          "height": 208
        }
      },
      "source": [
        "# Library\n",
        "library(ggplot2)\n",
        "library(tidyverse)\n",
        "#install.packages(\"readxl\")\n",
        "library(readxl)"
      ],
      "execution_count": 4,
      "outputs": [
        {
          "output_type": "stream",
          "text": [
            "── \u001b[1mAttaching packages\u001b[22m ─────────────────────────────────────── tidyverse 1.3.0 ──\n",
            "\n",
            "\u001b[32m✔\u001b[39m \u001b[34mtibble \u001b[39m 3.0.4     \u001b[32m✔\u001b[39m \u001b[34mdplyr  \u001b[39m 1.0.2\n",
            "\u001b[32m✔\u001b[39m \u001b[34mtidyr  \u001b[39m 1.1.2     \u001b[32m✔\u001b[39m \u001b[34mstringr\u001b[39m 1.4.0\n",
            "\u001b[32m✔\u001b[39m \u001b[34mreadr  \u001b[39m 1.4.0     \u001b[32m✔\u001b[39m \u001b[34mforcats\u001b[39m 0.5.0\n",
            "\u001b[32m✔\u001b[39m \u001b[34mpurrr  \u001b[39m 0.3.4     \n",
            "\n",
            "── \u001b[1mConflicts\u001b[22m ────────────────────────────────────────── tidyverse_conflicts() ──\n",
            "\u001b[31m✖\u001b[39m \u001b[34mdplyr\u001b[39m::\u001b[32mfilter()\u001b[39m masks \u001b[34mstats\u001b[39m::filter()\n",
            "\u001b[31m✖\u001b[39m \u001b[34mdplyr\u001b[39m::\u001b[32mlag()\u001b[39m    masks \u001b[34mstats\u001b[39m::lag()\n",
            "\n"
          ],
          "name": "stderr"
        }
      ]
    },
    {
      "cell_type": "code",
      "metadata": {
        "id": "BoLExd2j-VGL",
        "outputId": "0b357992-1ef8-4f0c-fafe-e63d7a1bbe24",
        "colab": {
          "base_uri": "https://localhost:8080/",
          "height": 121
        }
      },
      "source": [
        "#install.packages('openxlsx')\n",
        "library(openxlsx)"
      ],
      "execution_count": 46,
      "outputs": [
        {
          "output_type": "stream",
          "text": [
            "Installing package into ‘/usr/local/lib/R/site-library’\n",
            "(as ‘lib’ is unspecified)\n",
            "\n",
            "also installing the dependency ‘zip’\n",
            "\n",
            "\n"
          ],
          "name": "stderr"
        }
      ]
    },
    {
      "cell_type": "code",
      "metadata": {
        "id": "E9ZMZ_vR4jwD"
      },
      "source": [
        "# reading in input File\n",
        "df_master = read_xlsx('/content/SyrveyData-20201028-Master.xlsx', sheet=1)"
      ],
      "execution_count": 18,
      "outputs": []
    },
    {
      "cell_type": "code",
      "metadata": {
        "id": "k3-yLoNj41Bk",
        "outputId": "7c46ac28-842b-4c5c-9bee-568252575b81",
        "colab": {
          "base_uri": "https://localhost:8080/",
          "height": 815
        }
      },
      "source": [
        "# printing DF\n",
        "print(as_tibble(df_master))"
      ],
      "execution_count": 19,
      "outputs": [
        {
          "output_type": "stream",
          "text": [
            "\u001b[90m# A tibble: 46 x 41\u001b[39m\n",
            "   EmployeeCode UserName BusinessUnit Department `Name of the Ou…\n",
            "          \u001b[3m\u001b[90m<dbl>\u001b[39m\u001b[23m \u001b[3m\u001b[90m<chr>\u001b[39m\u001b[23m    \u001b[3m\u001b[90m<chr>\u001b[39m\u001b[23m        \u001b[3m\u001b[90m<chr>\u001b[39m\u001b[23m      \u001b[3m\u001b[90m<chr>\u001b[39m\u001b[23m           \n",
            "\u001b[90m 1\u001b[39m        \u001b[4m3\u001b[24m\u001b[4m7\u001b[24m636 Burhan … Managment    CorpDev    (Test 1)        \n",
            "\u001b[90m 2\u001b[39m        \u001b[4m3\u001b[24m\u001b[4m7\u001b[24m636 Burhan … Managment    CorpDev    (Test 3)        \n",
            "\u001b[90m 3\u001b[39m        \u001b[4m3\u001b[24m\u001b[4m7\u001b[24m636 Burhan … Managment    CorpDev    (Test 4)        \n",
            "\u001b[90m 4\u001b[39m        \u001b[4m3\u001b[24m\u001b[4m7\u001b[24m636 Burhan … Managment    CorpDev    (Test 7)        \n",
            "\u001b[90m 5\u001b[39m        \u001b[4m3\u001b[24m\u001b[4m0\u001b[24m919 Farasat… Customer Se… Operation… (Sana Garments) \n",
            "\u001b[90m 6\u001b[39m        \u001b[4m3\u001b[24m\u001b[4m2\u001b[24m117 Osama S… Customer Se… Operation… (Test)          \n",
            "\u001b[90m 7\u001b[39m        \u001b[4m3\u001b[24m\u001b[4m6\u001b[24m221 Ahmed K… Customer Se… Operation… (Samsung phone …\n",
            "\u001b[90m 8\u001b[39m        \u001b[4m3\u001b[24m\u001b[4m6\u001b[24m221 Ahmed K… Customer Se… Operation… (Niki)          \n",
            "\u001b[90m 9\u001b[39m        \u001b[4m3\u001b[24m\u001b[4m6\u001b[24m221 Ahmed K… Customer Se… Operation… (Cougar)        \n",
            "\u001b[90m10\u001b[39m        \u001b[4m3\u001b[24m\u001b[4m6\u001b[24m221 Ahmed K… Customer Se… Operation… (Royal Tag)     \n",
            "\u001b[90m# … with 36 more rows, and 36 more variables: `Address of the Outlet:` \u001b[3m\u001b[90m<chr>\u001b[90m\u001b[23m,\u001b[39m\n",
            "\u001b[90m#   City \u001b[3m\u001b[90m<chr>\u001b[90m\u001b[23m, `Region:` \u001b[3m\u001b[90m<chr>\u001b[90m\u001b[23m, `Respondent's name:` \u001b[3m\u001b[90m<chr>\u001b[90m\u001b[23m, `Respondent's\u001b[39m\n",
            "\u001b[90m#   Designation:` \u001b[3m\u001b[90m<chr>\u001b[90m\u001b[23m, `Respondent’s Phone Number:` \u001b[3m\u001b[90m<chr>\u001b[90m\u001b[23m, `Number of years\u001b[39m\n",
            "\u001b[90m#   you have worked with this organization:` \u001b[3m\u001b[90m<chr>\u001b[90m\u001b[23m, `What kind of business are\u001b[39m\n",
            "\u001b[90m#   you?` \u001b[3m\u001b[90m<chr>\u001b[90m\u001b[23m, `How many \"Employees\" do you have in this outlet?` \u001b[3m\u001b[90m<chr>\u001b[90m\u001b[23m,\u001b[39m\n",
            "\u001b[90m#   `Please choose the “Number of Outlets”:` \u001b[3m\u001b[90m<chr>\u001b[90m\u001b[23m, `Does your outlet offer\u001b[39m\n",
            "\u001b[90m#   “Delivery Service”?` \u001b[3m\u001b[90m<chr>\u001b[90m\u001b[23m, `Do you have \"Internet Access\" at your\u001b[39m\n",
            "\u001b[90m#   outlet?` \u001b[3m\u001b[90m<chr>\u001b[90m\u001b[23m, `How much disruption in “Internet Service” do you\u001b[39m\n",
            "\u001b[90m#   face?` \u001b[3m\u001b[90m<chr>\u001b[90m\u001b[23m, `Which of the following “Discounts” do you offer to your\u001b[39m\n",
            "\u001b[90m#   customers?` \u001b[3m\u001b[90m<chr>\u001b[90m\u001b[23m, `For which purposes do you store “Customer\u001b[39m\n",
            "\u001b[90m#   Data”?` \u001b[3m\u001b[90m<chr>\u001b[90m\u001b[23m, `POS Name: (Name of the POS Software being used. Not the\u001b[39m\n",
            "\u001b[90m#   hardware)` \u001b[3m\u001b[90m<chr>\u001b[90m\u001b[23m, `POS Provider: (Name of the company from which POS has\u001b[39m\n",
            "\u001b[90m#   been purchased)` \u001b[3m\u001b[90m<chr>\u001b[90m\u001b[23m, `Is your POS:` \u001b[3m\u001b[90m<chr>\u001b[90m\u001b[23m, `Please choose which “Kind\u001b[39m\n",
            "\u001b[90m#   your POS” you have:` \u001b[3m\u001b[90m<chr>\u001b[90m\u001b[23m, `What “Language is your POS” in?` \u001b[3m\u001b[90m<chr>\u001b[90m\u001b[23m, `Which\u001b[39m\n",
            "\u001b[90m#   of the following “Features” in your POS are in Urdu/Local language? You may\u001b[39m\n",
            "\u001b[90m#   choose multiple options.` \u001b[3m\u001b[90m<chr>\u001b[90m\u001b[23m, `Which device(s) do you use for “Accessing\u001b[39m\n",
            "\u001b[90m#   your POS”? You may choose multiple options.` \u001b[3m\u001b[90m<chr>\u001b[90m\u001b[23m, `How did you “Pay” for\u001b[39m\n",
            "\u001b[90m#   your current POS?` \u001b[3m\u001b[90m<chr>\u001b[90m\u001b[23m, `Which method do you use for “Paying your POS\u001b[39m\n",
            "\u001b[90m#   vendor”?` \u001b[3m\u001b[90m<chr>\u001b[90m\u001b[23m, `What types of “Payments” do you accept through your POS?\u001b[39m\n",
            "\u001b[90m#   You may choose multiple options:` \u001b[3m\u001b[90m<chr>\u001b[90m\u001b[23m, `How long does it take for a new\u001b[39m\n",
            "\u001b[90m#   employee to “Learn your POS”? (in number of days):` \u001b[3m\u001b[90m<chr>\u001b[90m\u001b[23m, `How often do\u001b[39m\n",
            "\u001b[90m#   you “Face Problems” with your POS?` \u001b[3m\u001b[90m<chr>\u001b[90m\u001b[23m, `Which of the following can be a\u001b[39m\n",
            "\u001b[90m#   “Reason to replace your POS”? You may choose multiple options.` \u001b[3m\u001b[90m<chr>\u001b[90m\u001b[23m, `If\u001b[39m\n",
            "\u001b[90m#   you had to pay for a new POS, which “Payment Type” would you\u001b[39m\n",
            "\u001b[90m#   prefer?` \u001b[3m\u001b[90m<chr>\u001b[90m\u001b[23m, `Please provide an amount in PKR you are “Willing to Pay”,\u001b[39m\n",
            "\u001b[90m#   corresponding to last question:` \u001b[3m\u001b[90m<chr>\u001b[90m\u001b[23m, `What are the “Most Important\u001b[39m\n",
            "\u001b[90m#   Features” in a POS? You may choose multiple options.` \u001b[3m\u001b[90m<chr>\u001b[90m\u001b[23m, `Will you be\u001b[39m\n",
            "\u001b[90m#   willing to run a “Demo of our POS” at your outlet?` \u001b[3m\u001b[90m<chr>\u001b[90m\u001b[23m, `You have been\u001b[39m\n",
            "\u001b[90m#   very helpful. Can we “Contact you in Future” for more details?` \u001b[3m\u001b[90m<chr>\u001b[90m\u001b[23m,\u001b[39m\n",
            "\u001b[90m#   `Please state your “Personal Observations” which you believe would be\u001b[39m\n",
            "\u001b[90m#   interesting to share about this interaction.` \u001b[3m\u001b[90m<chr>\u001b[90m\u001b[23m, `Please take a picture\u001b[39m\n",
            "\u001b[90m#   of the outlet, with it’s name visible` \u001b[3m\u001b[90m<chr>\u001b[90m\u001b[23m, `Please take a picture of the\u001b[39m\n",
            "\u001b[90m#   visiting card` \u001b[3m\u001b[90m<chr>\u001b[90m\u001b[23m\u001b[39m\n"
          ],
          "name": "stdout"
        }
      ]
    },
    {
      "cell_type": "code",
      "metadata": {
        "id": "60xEIgpi5KWK",
        "outputId": "d74cde0f-17b4-401d-9e2e-a1ebdb59af00",
        "colab": {
          "base_uri": "https://localhost:8080/",
          "height": 765
        }
      },
      "source": [
        "## inspect the data\n",
        "str(df_master)"
      ],
      "execution_count": 20,
      "outputs": [
        {
          "output_type": "stream",
          "text": [
            "tibble [46 × 41] (S3: tbl_df/tbl/data.frame)\n",
            " $ EmployeeCode                                                                                                     : num [1:46] 37636 37636 37636 37636 30919 ...\n",
            " $ UserName                                                                                                         : chr [1:46] \"Burhan Ul Haq\" \"Burhan Ul Haq\" \"Burhan Ul Haq\" \"Burhan Ul Haq\" ...\n",
            " $ BusinessUnit                                                                                                     : chr [1:46] \"Managment\" \"Managment\" \"Managment\" \"Managment\" ...\n",
            " $ Department                                                                                                       : chr [1:46] \"CorpDev\" \"CorpDev\" \"CorpDev\" \"CorpDev\" ...\n",
            " $ Name of the Outlet:                                                                                              : chr [1:46] \"(Test 1)\" \"(Test 3)\" \"(Test 4)\" \"(Test 7)\" ...\n",
            " $ Address of the Outlet:                                                                                           : chr [1:46] \"(Blue Area)\" \"(DHA)\" \"(Meadows)\" \"(a)\" ...\n",
            " $ City                                                                                                             : chr [1:46] \"Islamabad\" \"Rawalpindi\" \"Karachi\" \"Islamabad\" ...\n",
            " $ Region:                                                                                                          : chr [1:46] \"NULL\" \"NULL\" \"Clifton\" \"Golra Morh\" ...\n",
            " $ Respondent's name:                                                                                               : chr [1:46] \"(ABC)\" \"(ABC)\" \"(Testing)\" \"(B)\" ...\n",
            " $ Respondent's Designation:                                                                                        : chr [1:46] \"(Manager)\" \"(M)\" \"-10\" \"(M)\" ...\n",
            " $ Respondent’s Phone Number:                                                                                       : chr [1:46] \"-234\" \"-123\" \"-1\" \"-123\" ...\n",
            " $ Number of years you have worked with this organization:                                                          : chr [1:46] \"-10\" \"-1\" \"-1\" \"-1\" ...\n",
            " $ What kind of business are you?                                                                                   : chr [1:46] \"Other (3)\" \"Hardware / Paints\" \"Groceries\" \"NULL\" ...\n",
            " $ How many \"Employees\" do you have in this outlet?                                                                 : chr [1:46] \"5\" \"7\" \"10\" \"1\" ...\n",
            " $ Please choose the “Number of Outlets”:                                                                           : chr [1:46] \"3\" \"3\" \"6 to 10\" \"1\" ...\n",
            " $ Does your outlet offer “Delivery Service”?                                                                       : chr [1:46] \"Yes\" \"Thinking about it\" \"Thinking about it\" \"Yes\" ...\n",
            " $ Do you have \"Internet Access\" at your outlet?                                                                    : chr [1:46] \"Dedicated connection\" \"No access\" \"I use my mobile as required\" \"Dedicated connection\" ...\n",
            " $ How much disruption in “Internet Service” do you face?                                                           : chr [1:46] \"Little\" \"NULL\" \"Little\" \"Never\" ...\n",
            " $ Which of the following “Discounts” do you offer to your customers?                                               : chr [1:46] \"Customer Discount (Based on customer relationship), Referral Discount (Credit Card, Social Media)\" \"Product Discount (Lower price than market)\" \"Customer Discount (Based on customer relationship)\" \"NULL\" ...\n",
            " $ For which purposes do you store “Customer Data”?                                                                 : chr [1:46] \"Use for discounts (repeated purchases)\" \"Use for discounts (repeated purchases)\" \"Use for delivery (sending ordered items)\" \"NULL\" ...\n",
            " $ POS Name: (Name of the POS Software being used. Not the hardware)                                                : chr [1:46] \"(Non Available)\" \"(No)\" \"(Testing)\" \"(a)\" ...\n",
            " $ POS Provider: (Name of the company from which POS has been purchased)                                            : chr [1:46] \"(Non Available)\" \"(Not Known)\" \"(Testing)\" \"(a)\" ...\n",
            " $ Is your POS:                                                                                                     : chr [1:46] \"Ready-Made\" \"Ready-Made\" \"Ready-Made\" \"Custom-Built (you got it made as per your requirements)\" ...\n",
            " $ Please choose which “Kind your POS” you have:                                                                    : chr [1:46] \"Stand-Alone: does NOT require Internet Connection\" \"Stand-Alone: does NOT require Internet Connection\" \"Stand-Alone: does NOT require Internet Connection\" \"Web-Based: requires Internet Connection to work\" ...\n",
            " $ What “Language is your POS” in?                                                                                  : chr [1:46] \"English and Urdu\" \"English and Urdu\" \"English and Urdu\" \"English\" ...\n",
            " $ Which of the following “Features” in your POS are in Urdu/Local language? You may choose multiple options.       : chr [1:46] \"Display Screen\" \"Slips or Receipts\" \"Slips or Receipts\" \"NULL\" ...\n",
            " $ Which device(s) do you use for “Accessing your POS”? You may choose multiple options.                            : chr [1:46] \"Laptop\" \"Tablet\" \"Tablet\" \"NULL\" ...\n",
            " $ How did you “Pay” for your current POS?                                                                          : chr [1:46] \"Recurring Payment - Every Month\" \"One Time Payment\" \"Recurring Payment - Every Month\" \"One Time Payment\" ...\n",
            " $ Which method do you use for “Paying your POS vendor”?                                                            : chr [1:46] \"Digital Wallet (Easy-Paisa, Jazz-Cash, etc.)\" \"Bank (debit card, credit card etc.)\" \"Bank (debit card, credit card etc.)\" \"Cash\" ...\n",
            " $ What types of “Payments” do you accept through your POS? You may choose multiple options:                        : chr [1:46] \"Jazz-Cash\" \"QR code\" \"QR code\" \"NULL\" ...\n",
            " $ How long does it take for a new employee to “Learn your POS”? (in number of days):                               : chr [1:46] \"10 or Less days\" \"5 or Less days\" \"5 or Less days\" \"5 or Less days\" ...\n",
            " $ How often do you “Face Problems” with your POS?                                                                  : chr [1:46] \"Sometimes\" \"Never\" \"Sometimes\" \"Never\" ...\n",
            " $ Which of the following can be a “Reason to replace your POS”? You may choose multiple options.                   : chr [1:46] \"Price (Cheaper than current provider)\" \"Not Willing (Please specify) (Happy)\" \"Price (Cheaper than current provider)\" \"NULL\" ...\n",
            " $ If you had to pay for a new POS, which “Payment Type” would you prefer?                                          : chr [1:46] \"Recurring Payment - Every Month\" \"Recurring Payment - Every Month\" \"Recurring Payment - Every 3 Months\" \"One Time Payment\" ...\n",
            " $ Please provide an amount in PKR you are “Willing to Pay”, corresponding to last question:                        : chr [1:46] \"10\" \"100\" \"0\" \"0\" ...\n",
            " $ What are the “Most Important Features” in a POS? You may choose multiple options.                                : chr [1:46] \"Cash Reconciliation (Balance daily sales and returns for cash and credit)\" \"Customer Loyalty (Offer discounts based on customer profile)\" \"Customer Loyalty (Offer discounts based on customer profile)\" \"NULL\" ...\n",
            " $ Will you be willing to run a “Demo of our POS” at your outlet?                                                   : chr [1:46] \"Yes\" \"No\" \"Yes\" \"Yes\" ...\n",
            " $ You have been very helpful. Can we “Contact you in Future” for more details?                                     : chr [1:46] \"Yes\" \"No\" \"Yes\" \"Yes\" ...\n",
            " $ Please state your “Personal Observations” which you believe would be interesting to share about this interaction.: chr [1:46] \"None\" \"None\" \"Testing\" \"a\" ...\n",
            " $ Please take a picture of the outlet, with it’s name visible                                                      : chr [1:46] \"NULL\" \"NULL\" \"NULL\" \"NULL\" ...\n",
            " $ Please take a picture of the visiting card                                                                       : chr [1:46] \"NULL\" \"NULL\" \"http://192.168.61.45:8111/UploadedFiles/retail-environment-store-ss-1920-800x450.jpg,http://192.168.61.45:8111/\"| __truncated__ \"http://192.168.61.45:8111/UploadedFiles/retail-environment-store-ss-1920-800x450.jpg\" ...\n"
          ],
          "name": "stdout"
        }
      ]
    },
    {
      "cell_type": "code",
      "metadata": {
        "id": "1mm5CggO5QDc",
        "outputId": "244361ab-c2a2-48aa-96db-ed9e39938e71",
        "colab": {
          "base_uri": "https://localhost:8080/",
          "height": 783
        }
      },
      "source": [
        "df_master %>% glimpse()"
      ],
      "execution_count": 21,
      "outputs": [
        {
          "output_type": "stream",
          "text": [
            "Rows: 46\n",
            "Columns: 41\n",
            "$ EmployeeCode                                                                                                        \u001b[3m\u001b[90m<dbl>\u001b[39m\u001b[23m …\n",
            "$ UserName                                                                                                            \u001b[3m\u001b[90m<chr>\u001b[39m\u001b[23m …\n",
            "$ BusinessUnit                                                                                                        \u001b[3m\u001b[90m<chr>\u001b[39m\u001b[23m …\n",
            "$ Department                                                                                                          \u001b[3m\u001b[90m<chr>\u001b[39m\u001b[23m …\n",
            "$ `Name of the Outlet:`                                                                                               \u001b[3m\u001b[90m<chr>\u001b[39m\u001b[23m …\n",
            "$ `Address of the Outlet:`                                                                                            \u001b[3m\u001b[90m<chr>\u001b[39m\u001b[23m …\n",
            "$ City                                                                                                                \u001b[3m\u001b[90m<chr>\u001b[39m\u001b[23m …\n",
            "$ `Region:`                                                                                                           \u001b[3m\u001b[90m<chr>\u001b[39m\u001b[23m …\n",
            "$ `Respondent's name:`                                                                                                \u001b[3m\u001b[90m<chr>\u001b[39m\u001b[23m …\n",
            "$ `Respondent's Designation:`                                                                                         \u001b[3m\u001b[90m<chr>\u001b[39m\u001b[23m …\n",
            "$ `Respondent’s Phone Number:`                                                                                        \u001b[3m\u001b[90m<chr>\u001b[39m\u001b[23m …\n",
            "$ `Number of years you have worked with this organization:`                                                           \u001b[3m\u001b[90m<chr>\u001b[39m\u001b[23m …\n",
            "$ `What kind of business are you?`                                                                                    \u001b[3m\u001b[90m<chr>\u001b[39m\u001b[23m …\n",
            "$ `How many \"Employees\" do you have in this outlet?`                                                                  \u001b[3m\u001b[90m<chr>\u001b[39m\u001b[23m …\n",
            "$ `Please choose the “Number of Outlets”:`                                                                            \u001b[3m\u001b[90m<chr>\u001b[39m\u001b[23m …\n",
            "$ `Does your outlet offer “Delivery Service”?`                                                                        \u001b[3m\u001b[90m<chr>\u001b[39m\u001b[23m …\n",
            "$ `Do you have \"Internet Access\" at your outlet?`                                                                     \u001b[3m\u001b[90m<chr>\u001b[39m\u001b[23m …\n",
            "$ `How much disruption in “Internet Service” do you face?`                                                            \u001b[3m\u001b[90m<chr>\u001b[39m\u001b[23m …\n",
            "$ `Which of the following “Discounts” do you offer to your customers?`                                                \u001b[3m\u001b[90m<chr>\u001b[39m\u001b[23m …\n",
            "$ `For which purposes do you store “Customer Data”?`                                                                  \u001b[3m\u001b[90m<chr>\u001b[39m\u001b[23m …\n",
            "$ `POS Name: (Name of the POS Software being used. Not the hardware)`                                                 \u001b[3m\u001b[90m<chr>\u001b[39m\u001b[23m …\n",
            "$ `POS Provider: (Name of the company from which POS has been purchased)`                                             \u001b[3m\u001b[90m<chr>\u001b[39m\u001b[23m …\n",
            "$ `Is your POS:`                                                                                                      \u001b[3m\u001b[90m<chr>\u001b[39m\u001b[23m …\n",
            "$ `Please choose which “Kind your POS” you have:`                                                                     \u001b[3m\u001b[90m<chr>\u001b[39m\u001b[23m …\n",
            "$ `What “Language is your POS” in?`                                                                                   \u001b[3m\u001b[90m<chr>\u001b[39m\u001b[23m …\n",
            "$ `Which of the following “Features” in your POS are in Urdu/Local language? You may choose multiple options.`        \u001b[3m\u001b[90m<chr>\u001b[39m\u001b[23m …\n",
            "$ `Which device(s) do you use for “Accessing your POS”? You may choose multiple options.`                             \u001b[3m\u001b[90m<chr>\u001b[39m\u001b[23m …\n",
            "$ `How did you “Pay” for your current POS?`                                                                           \u001b[3m\u001b[90m<chr>\u001b[39m\u001b[23m …\n",
            "$ `Which method do you use for “Paying your POS vendor”?`                                                             \u001b[3m\u001b[90m<chr>\u001b[39m\u001b[23m …\n",
            "$ `What types of “Payments” do you accept through your POS? You may choose multiple options:`                         \u001b[3m\u001b[90m<chr>\u001b[39m\u001b[23m …\n",
            "$ `How long does it take for a new employee to “Learn your POS”? (in number of days):`                                \u001b[3m\u001b[90m<chr>\u001b[39m\u001b[23m …\n",
            "$ `How often do you “Face Problems” with your POS?`                                                                   \u001b[3m\u001b[90m<chr>\u001b[39m\u001b[23m …\n",
            "$ `Which of the following can be a “Reason to replace your POS”? You may choose multiple options.`                    \u001b[3m\u001b[90m<chr>\u001b[39m\u001b[23m …\n",
            "$ `If you had to pay for a new POS, which “Payment Type” would you prefer?`                                           \u001b[3m\u001b[90m<chr>\u001b[39m\u001b[23m …\n",
            "$ `Please provide an amount in PKR you are “Willing to Pay”, corresponding to last question:`                         \u001b[3m\u001b[90m<chr>\u001b[39m\u001b[23m …\n",
            "$ `What are the “Most Important Features” in a POS? You may choose multiple options.`                                 \u001b[3m\u001b[90m<chr>\u001b[39m\u001b[23m …\n",
            "$ `Will you be willing to run a “Demo of our POS” at your outlet?`                                                    \u001b[3m\u001b[90m<chr>\u001b[39m\u001b[23m …\n",
            "$ `You have been very helpful. Can we “Contact you in Future” for more details?`                                      \u001b[3m\u001b[90m<chr>\u001b[39m\u001b[23m …\n",
            "$ `Please state your “Personal Observations” which you believe would be interesting to share about this interaction.` \u001b[3m\u001b[90m<chr>\u001b[39m\u001b[23m …\n",
            "$ `Please take a picture of the outlet, with it’s name visible`                                                       \u001b[3m\u001b[90m<chr>\u001b[39m\u001b[23m …\n",
            "$ `Please take a picture of the visiting card`                                                                        \u001b[3m\u001b[90m<chr>\u001b[39m\u001b[23m …\n"
          ],
          "name": "stdout"
        }
      ]
    },
    {
      "cell_type": "code",
      "metadata": {
        "id": "QmZhQrxP5VNl",
        "outputId": "24a403e2-af19-4a79-9336-2fd0660e465e",
        "colab": {
          "base_uri": "https://localhost:8080/",
          "height": 416
        }
      },
      "source": [
        "colnames(df_master)"
      ],
      "execution_count": 22,
      "outputs": [
        {
          "output_type": "display_data",
          "data": {
            "text/plain": [
              " [1] \"EmployeeCode\"                                                                                                     \n",
              " [2] \"UserName\"                                                                                                         \n",
              " [3] \"BusinessUnit\"                                                                                                     \n",
              " [4] \"Department\"                                                                                                       \n",
              " [5] \"Name of the Outlet:\"                                                                                              \n",
              " [6] \"Address of the Outlet:\"                                                                                           \n",
              " [7] \"City\"                                                                                                             \n",
              " [8] \"Region:\"                                                                                                          \n",
              " [9] \"Respondent's name:\"                                                                                               \n",
              "[10] \"Respondent's Designation:\"                                                                                        \n",
              "[11] \"Respondent’s Phone Number:\"                                                                                       \n",
              "[12] \"Number of years you have worked with this organization:\"                                                          \n",
              "[13] \"What kind of business are you?\"                                                                                   \n",
              "[14] \"How many \\\"Employees\\\" do you have in this outlet?\"                                                               \n",
              "[15] \"Please choose the “Number of Outlets”:\"                                                                           \n",
              "[16] \"Does your outlet offer “Delivery Service”?\"                                                                       \n",
              "[17] \"Do you have \\\"Internet Access\\\" at your outlet?\"                                                                  \n",
              "[18] \"How much disruption in “Internet Service” do you face?\"                                                           \n",
              "[19] \"Which of the following “Discounts” do you offer to your customers?\"                                               \n",
              "[20] \"For which purposes do you store “Customer Data”?\"                                                                 \n",
              "[21] \"POS Name: (Name of the POS Software being used. Not the hardware)\"                                                \n",
              "[22] \"POS Provider: (Name of the company from which POS has been purchased)\"                                            \n",
              "[23] \"Is your POS:\"                                                                                                     \n",
              "[24] \"Please choose which “Kind your POS” you have:\"                                                                    \n",
              "[25] \"What “Language is your POS” in?\"                                                                                  \n",
              "[26] \"Which of the following “Features” in your POS are in Urdu/Local language? You may choose multiple options.\"       \n",
              "[27] \"Which device(s) do you use for “Accessing your POS”? You may choose multiple options.\"                            \n",
              "[28] \"How did you “Pay” for your current POS?\"                                                                          \n",
              "[29] \"Which method do you use for “Paying your POS vendor”?\"                                                            \n",
              "[30] \"What types of “Payments” do you accept through your POS? You may choose multiple options:\"                        \n",
              "[31] \"How long does it take for a new employee to “Learn your POS”? (in number of days):\"                               \n",
              "[32] \"How often do you “Face Problems” with your POS?\"                                                                  \n",
              "[33] \"Which of the following can be a “Reason to replace your POS”? You may choose multiple options.\"                   \n",
              "[34] \"If you had to pay for a new POS, which “Payment Type” would you prefer?\"                                          \n",
              "[35] \"Please provide an amount in PKR you are “Willing to Pay”, corresponding to last question:\"                        \n",
              "[36] \"What are the “Most Important Features” in a POS? You may choose multiple options.\"                                \n",
              "[37] \"Will you be willing to run a “Demo of our POS” at your outlet?\"                                                   \n",
              "[38] \"You have been very helpful. Can we “Contact you in Future” for more details?\"                                     \n",
              "[39] \"Please state your “Personal Observations” which you believe would be interesting to share about this interaction.\"\n",
              "[40] \"Please take a picture of the outlet, with it’s name visible\"                                                      \n",
              "[41] \"Please take a picture of the visiting card\"                                                                       "
            ],
            "text/latex": "\\begin{enumerate*}\n\\item 'EmployeeCode'\n\\item 'UserName'\n\\item 'BusinessUnit'\n\\item 'Department'\n\\item 'Name of the Outlet:'\n\\item 'Address of the Outlet:'\n\\item 'City'\n\\item 'Region:'\n\\item 'Respondent\\textbackslash{}'s name:'\n\\item 'Respondent\\textbackslash{}'s Designation:'\n\\item 'Respondent’s Phone Number:'\n\\item 'Number of years you have worked with this organization:'\n\\item 'What kind of business are you?'\n\\item 'How many \"Employees\" do you have in this outlet?'\n\\item 'Please choose the “Number of Outlets”:'\n\\item 'Does your outlet offer “Delivery Service”?'\n\\item 'Do you have \"Internet Access\" at your outlet?'\n\\item 'How much disruption in “Internet Service” do you face?'\n\\item 'Which of the following “Discounts” do you offer to your customers?'\n\\item 'For which purposes do you store “Customer Data”?'\n\\item 'POS Name: (Name of the POS Software being used. Not the hardware)'\n\\item 'POS Provider: (Name of the company from which POS has been purchased)'\n\\item 'Is your POS:'\n\\item 'Please choose which “Kind your POS” you have:'\n\\item 'What “Language is your POS” in?'\n\\item 'Which of the following “Features” in your POS are in Urdu/Local language? You may choose multiple options.'\n\\item 'Which device(s) do you use for “Accessing your POS”? You may choose multiple options.'\n\\item 'How did you “Pay” for your current POS?'\n\\item 'Which method do you use for “Paying your POS vendor”?'\n\\item 'What types of “Payments” do you accept through your POS? You may choose multiple options:'\n\\item 'How long does it take for a new employee to “Learn your POS”? (in number of days):'\n\\item 'How often do you “Face Problems” with your POS?'\n\\item 'Which of the following can be a “Reason to replace your POS”? You may choose multiple options.'\n\\item 'If you had to pay for a new POS, which “Payment Type” would you prefer?'\n\\item 'Please provide an amount in PKR you are “Willing to Pay”, corresponding to last question:'\n\\item 'What are the “Most Important Features” in a POS? You may choose multiple options.'\n\\item 'Will you be willing to run a “Demo of our POS” at your outlet?'\n\\item 'You have been very helpful. Can we “Contact you in Future” for more details?'\n\\item 'Please state your “Personal Observations” which you believe would be interesting to share about this interaction.'\n\\item 'Please take a picture of the outlet, with it’s name visible'\n\\item 'Please take a picture of the visiting card'\n\\end{enumerate*}\n",
            "text/markdown": "1. 'EmployeeCode'\n2. 'UserName'\n3. 'BusinessUnit'\n4. 'Department'\n5. 'Name of the Outlet:'\n6. 'Address of the Outlet:'\n7. 'City'\n8. 'Region:'\n9. 'Respondent\\'s name:'\n10. 'Respondent\\'s Designation:'\n11. 'Respondent’s Phone Number:'\n12. 'Number of years you have worked with this organization:'\n13. 'What kind of business are you?'\n14. 'How many \"Employees\" do you have in this outlet?'\n15. 'Please choose the “Number of Outlets”:'\n16. 'Does your outlet offer “Delivery Service”?'\n17. 'Do you have \"Internet Access\" at your outlet?'\n18. 'How much disruption in “Internet Service” do you face?'\n19. 'Which of the following “Discounts” do you offer to your customers?'\n20. 'For which purposes do you store “Customer Data”?'\n21. 'POS Name: (Name of the POS Software being used. Not the hardware)'\n22. 'POS Provider: (Name of the company from which POS has been purchased)'\n23. 'Is your POS:'\n24. 'Please choose which “Kind your POS” you have:'\n25. 'What “Language is your POS” in?'\n26. 'Which of the following “Features” in your POS are in Urdu/Local language? You may choose multiple options.'\n27. 'Which device(s) do you use for “Accessing your POS”? You may choose multiple options.'\n28. 'How did you “Pay” for your current POS?'\n29. 'Which method do you use for “Paying your POS vendor”?'\n30. 'What types of “Payments” do you accept through your POS? You may choose multiple options:'\n31. 'How long does it take for a new employee to “Learn your POS”? (in number of days):'\n32. 'How often do you “Face Problems” with your POS?'\n33. 'Which of the following can be a “Reason to replace your POS”? You may choose multiple options.'\n34. 'If you had to pay for a new POS, which “Payment Type” would you prefer?'\n35. 'Please provide an amount in PKR you are “Willing to Pay”, corresponding to last question:'\n36. 'What are the “Most Important Features” in a POS? You may choose multiple options.'\n37. 'Will you be willing to run a “Demo of our POS” at your outlet?'\n38. 'You have been very helpful. Can we “Contact you in Future” for more details?'\n39. 'Please state your “Personal Observations” which you believe would be interesting to share about this interaction.'\n40. 'Please take a picture of the outlet, with it’s name visible'\n41. 'Please take a picture of the visiting card'\n\n\n",
            "text/html": [
              "<style>\n",
              ".list-inline {list-style: none; margin:0; padding: 0}\n",
              ".list-inline>li {display: inline-block}\n",
              ".list-inline>li:not(:last-child)::after {content: \"\\00b7\"; padding: 0 .5ex}\n",
              "</style>\n",
              "<ol class=list-inline><li>'EmployeeCode'</li><li>'UserName'</li><li>'BusinessUnit'</li><li>'Department'</li><li>'Name of the Outlet:'</li><li>'Address of the Outlet:'</li><li>'City'</li><li>'Region:'</li><li>'Respondent\\'s name:'</li><li>'Respondent\\'s Designation:'</li><li>'Respondent’s Phone Number:'</li><li>'Number of years you have worked with this organization:'</li><li>'What kind of business are you?'</li><li>'How many \"Employees\" do you have in this outlet?'</li><li>'Please choose the “Number of Outlets”:'</li><li>'Does your outlet offer “Delivery Service”?'</li><li>'Do you have \"Internet Access\" at your outlet?'</li><li>'How much disruption in “Internet Service” do you face?'</li><li>'Which of the following “Discounts” do you offer to your customers?'</li><li>'For which purposes do you store “Customer Data”?'</li><li>'POS Name: (Name of the POS Software being used. Not the hardware)'</li><li>'POS Provider: (Name of the company from which POS has been purchased)'</li><li>'Is your POS:'</li><li>'Please choose which “Kind your POS” you have:'</li><li>'What “Language is your POS” in?'</li><li>'Which of the following “Features” in your POS are in Urdu/Local language? You may choose multiple options.'</li><li>'Which device(s) do you use for “Accessing your POS”? You may choose multiple options.'</li><li>'How did you “Pay” for your current POS?'</li><li>'Which method do you use for “Paying your POS vendor”?'</li><li>'What types of “Payments” do you accept through your POS? You may choose multiple options:'</li><li>'How long does it take for a new employee to “Learn your POS”? (in number of days):'</li><li>'How often do you “Face Problems” with your POS?'</li><li>'Which of the following can be a “Reason to replace your POS”? You may choose multiple options.'</li><li>'If you had to pay for a new POS, which “Payment Type” would you prefer?'</li><li>'Please provide an amount in PKR you are “Willing to Pay”, corresponding to last question:'</li><li>'What are the “Most Important Features” in a POS? You may choose multiple options.'</li><li>'Will you be willing to run a “Demo of our POS” at your outlet?'</li><li>'You have been very helpful. Can we “Contact you in Future” for more details?'</li><li>'Please state your “Personal Observations” which you believe would be interesting to share about this interaction.'</li><li>'Please take a picture of the outlet, with it’s name visible'</li><li>'Please take a picture of the visiting card'</li></ol>\n"
            ]
          },
          "metadata": {
            "tags": []
          }
        }
      ]
    },
    {
      "cell_type": "code",
      "metadata": {
        "id": "lgbxA_yT5dIM"
      },
      "source": [
        "df_1 = df_master"
      ],
      "execution_count": 23,
      "outputs": []
    },
    {
      "cell_type": "code",
      "metadata": {
        "id": "77ifjY0J59aM",
        "outputId": "1aa5ee7d-4bd9-4e6b-c2b3-9f47aeac0be3",
        "colab": {
          "base_uri": "https://localhost:8080/",
          "height": 35
        }
      },
      "source": [
        "nrow(df_1)"
      ],
      "execution_count": 24,
      "outputs": [
        {
          "output_type": "display_data",
          "data": {
            "text/plain": [
              "[1] 46"
            ],
            "text/latex": "46",
            "text/markdown": "46",
            "text/html": [
              "46"
            ]
          },
          "metadata": {
            "tags": []
          }
        }
      ]
    },
    {
      "cell_type": "code",
      "metadata": {
        "id": "7MgIi2455fms",
        "outputId": "7b543eab-dba7-480c-cd03-4bee60ab10b4",
        "colab": {
          "base_uri": "https://localhost:8080/",
          "height": 140
        }
      },
      "source": [
        "df_1 %>%\n",
        "  distinct(BusinessUnit)"
      ],
      "execution_count": 25,
      "outputs": [
        {
          "output_type": "display_data",
          "data": {
            "text/plain": [
              "  BusinessUnit           \n",
              "1 Managment              \n",
              "2 Customer Services North\n",
              "3 Customer Services South"
            ],
            "text/latex": "A tibble: 3 × 1\n\\begin{tabular}{l}\n BusinessUnit\\\\\n <chr>\\\\\n\\hline\n\t Managment              \\\\\n\t Customer Services North\\\\\n\t Customer Services South\\\\\n\\end{tabular}\n",
            "text/markdown": "\nA tibble: 3 × 1\n\n| BusinessUnit &lt;chr&gt; |\n|---|\n| Managment               |\n| Customer Services North |\n| Customer Services South |\n\n",
            "text/html": [
              "<table>\n",
              "<caption>A tibble: 3 × 1</caption>\n",
              "<thead>\n",
              "\t<tr><th scope=col>BusinessUnit</th></tr>\n",
              "\t<tr><th scope=col>&lt;chr&gt;</th></tr>\n",
              "</thead>\n",
              "<tbody>\n",
              "\t<tr><td>Managment              </td></tr>\n",
              "\t<tr><td>Customer Services North</td></tr>\n",
              "\t<tr><td>Customer Services South</td></tr>\n",
              "</tbody>\n",
              "</table>\n"
            ]
          },
          "metadata": {
            "tags": []
          }
        }
      ]
    },
    {
      "cell_type": "code",
      "metadata": {
        "id": "_Des5SET431e"
      },
      "source": [
        "# Exclude rows where User is NOT part of Field Team (such as: Burhan)"
      ],
      "execution_count": null,
      "outputs": []
    },
    {
      "cell_type": "code",
      "metadata": {
        "id": "-RjVOtkd5qs1"
      },
      "source": [
        "df_1 %>%\n",
        " filter(BusinessUnit != 'Managment') -> df_2"
      ],
      "execution_count": 26,
      "outputs": []
    },
    {
      "cell_type": "code",
      "metadata": {
        "id": "ugOBVf_s6AMo",
        "outputId": "87e46c05-9bb4-4c3c-929f-8cdbd2510f27",
        "colab": {
          "base_uri": "https://localhost:8080/",
          "height": 35
        }
      },
      "source": [
        "nrow(df_2)"
      ],
      "execution_count": 27,
      "outputs": [
        {
          "output_type": "display_data",
          "data": {
            "text/plain": [
              "[1] 42"
            ],
            "text/latex": "42",
            "text/markdown": "42",
            "text/html": [
              "42"
            ]
          },
          "metadata": {
            "tags": []
          }
        }
      ]
    },
    {
      "cell_type": "code",
      "metadata": {
        "id": "OftvyF4G76_a"
      },
      "source": [
        "# Keep NORTH only"
      ],
      "execution_count": null,
      "outputs": []
    },
    {
      "cell_type": "code",
      "metadata": {
        "id": "VxiNhqlB6Bzq"
      },
      "source": [
        "df_2 %>%\n",
        "  filter(BusinessUnit == 'Customer Services North') -> df_with_POS_North"
      ],
      "execution_count": 28,
      "outputs": []
    },
    {
      "cell_type": "code",
      "metadata": {
        "id": "9zlpsari7Q3y",
        "outputId": "7f1556d4-37d8-44a9-cfa9-fe305d01115e",
        "colab": {
          "base_uri": "https://localhost:8080/",
          "height": 35
        }
      },
      "source": [
        "nrow(df_with_POS_North)"
      ],
      "execution_count": 29,
      "outputs": [
        {
          "output_type": "display_data",
          "data": {
            "text/plain": [
              "[1] 35"
            ],
            "text/latex": "35",
            "text/markdown": "35",
            "text/html": [
              "35"
            ]
          },
          "metadata": {
            "tags": []
          }
        }
      ]
    },
    {
      "cell_type": "code",
      "metadata": {
        "id": "oO0LQqo97-iz"
      },
      "source": [
        "# Keep SOUTH only"
      ],
      "execution_count": 34,
      "outputs": []
    },
    {
      "cell_type": "code",
      "metadata": {
        "id": "liHQeCMZ7T4v"
      },
      "source": [
        "df_2 %>%\n",
        "  filter(BusinessUnit == 'Customer Services South') -> df_with_POS_South"
      ],
      "execution_count": 30,
      "outputs": []
    },
    {
      "cell_type": "code",
      "metadata": {
        "id": "4sf2gHOw7c6Y",
        "outputId": "84ae18fd-8cc8-411a-a726-28d3858863fe",
        "colab": {
          "base_uri": "https://localhost:8080/",
          "height": 35
        }
      },
      "source": [
        "nrow(df_with_POS_South)"
      ],
      "execution_count": 31,
      "outputs": [
        {
          "output_type": "display_data",
          "data": {
            "text/plain": [
              "[1] 7"
            ],
            "text/latex": "7",
            "text/markdown": "7",
            "text/html": [
              "7"
            ]
          },
          "metadata": {
            "tags": []
          }
        }
      ]
    },
    {
      "cell_type": "markdown",
      "metadata": {
        "id": "tmXdrbq67igz"
      },
      "source": [
        "# Without POS"
      ]
    },
    {
      "cell_type": "code",
      "metadata": {
        "id": "IdjhE9LK7gUe"
      },
      "source": [
        "# reading in input File\n",
        "df_m = read_xlsx('/content/SyrveyData-20201028-Master.xlsx', sheet=2)"
      ],
      "execution_count": 32,
      "outputs": []
    },
    {
      "cell_type": "code",
      "metadata": {
        "id": "fNbR04Wx72-6",
        "outputId": "20d17256-0847-4b4b-81a6-72dcc9f33982",
        "colab": {
          "base_uri": "https://localhost:8080/",
          "height": 35
        }
      },
      "source": [
        "nrow(df_m)"
      ],
      "execution_count": 33,
      "outputs": [
        {
          "output_type": "display_data",
          "data": {
            "text/plain": [
              "[1] 185"
            ],
            "text/latex": "185",
            "text/markdown": "185",
            "text/html": [
              "185"
            ]
          },
          "metadata": {
            "tags": []
          }
        }
      ]
    },
    {
      "cell_type": "code",
      "metadata": {
        "id": "vlGEvNNh8Et7"
      },
      "source": [
        "# Exclude rows where User is NOT part of Field Team (such as: Burhan)"
      ],
      "execution_count": null,
      "outputs": []
    },
    {
      "cell_type": "code",
      "metadata": {
        "id": "Ki_nv3cy74pa"
      },
      "source": [
        "df_m %>%\n",
        " filter(BusinessUnit != 'Managment') -> df_100"
      ],
      "execution_count": 35,
      "outputs": []
    },
    {
      "cell_type": "code",
      "metadata": {
        "id": "FLlUizHT8LGp",
        "outputId": "72f45eb5-41c2-4ed8-ada0-fbefc67cd454",
        "colab": {
          "base_uri": "https://localhost:8080/",
          "height": 35
        }
      },
      "source": [
        "nrow(df_100)"
      ],
      "execution_count": 36,
      "outputs": [
        {
          "output_type": "display_data",
          "data": {
            "text/plain": [
              "[1] 184"
            ],
            "text/latex": "184",
            "text/markdown": "184",
            "text/html": [
              "184"
            ]
          },
          "metadata": {
            "tags": []
          }
        }
      ]
    },
    {
      "cell_type": "code",
      "metadata": {
        "id": "b3qs7rnP8QTc"
      },
      "source": [
        "# Keep NORTH only"
      ],
      "execution_count": null,
      "outputs": []
    },
    {
      "cell_type": "code",
      "metadata": {
        "id": "TzAzSp908M5O"
      },
      "source": [
        "df_100 %>%\n",
        "  filter(BusinessUnit == 'Customer Services North') -> df_without_POS_North"
      ],
      "execution_count": 37,
      "outputs": []
    },
    {
      "cell_type": "code",
      "metadata": {
        "id": "46x6FOgy8cJS",
        "outputId": "c211a9bb-1e0d-4a94-9f91-33dd5061f7b4",
        "colab": {
          "base_uri": "https://localhost:8080/",
          "height": 35
        }
      },
      "source": [
        "nrow(df_without_POS_North)"
      ],
      "execution_count": 38,
      "outputs": [
        {
          "output_type": "display_data",
          "data": {
            "text/plain": [
              "[1] 176"
            ],
            "text/latex": "176",
            "text/markdown": "176",
            "text/html": [
              "176"
            ]
          },
          "metadata": {
            "tags": []
          }
        }
      ]
    },
    {
      "cell_type": "code",
      "metadata": {
        "id": "ZowObkWn8Z2q"
      },
      "source": [
        "# Keep SOUTH only"
      ],
      "execution_count": null,
      "outputs": []
    },
    {
      "cell_type": "code",
      "metadata": {
        "id": "4_zlhqZr8XLm"
      },
      "source": [
        "df_100 %>%\n",
        "  filter(BusinessUnit == 'Customer Services South') -> df_without_POS_South"
      ],
      "execution_count": 39,
      "outputs": []
    },
    {
      "cell_type": "code",
      "metadata": {
        "id": "ARn37cMC8hbI",
        "outputId": "f71971c0-17fa-4aaa-9a10-6efa4440dd5e",
        "colab": {
          "base_uri": "https://localhost:8080/",
          "height": 35
        }
      },
      "source": [
        "nrow(df_without_POS_South)"
      ],
      "execution_count": 40,
      "outputs": [
        {
          "output_type": "display_data",
          "data": {
            "text/plain": [
              "[1] 8"
            ],
            "text/latex": "8",
            "text/markdown": "8",
            "text/html": [
              "8"
            ]
          },
          "metadata": {
            "tags": []
          }
        }
      ]
    },
    {
      "cell_type": "markdown",
      "metadata": {
        "id": "V4qjkuyQ89jT"
      },
      "source": [
        "## Write XLSX Files"
      ]
    },
    {
      "cell_type": "code",
      "metadata": {
        "id": "cnbDR4OO_Bp6"
      },
      "source": [
        "# North Region"
      ],
      "execution_count": null,
      "outputs": []
    },
    {
      "cell_type": "code",
      "metadata": {
        "id": "h_aOgfYECVp7"
      },
      "source": [
        "## Create a new workbook\n",
        "wb <- createWorkbook(\"Temp\")\n",
        "## Add 2 worksheets\n",
        "addWorksheet(wb, \"Updated With POS Survey\")\n",
        "addWorksheet(wb, \"Updated Without POS Survey\")\n",
        "writeData(wb, \"Updated With POS Survey\", df_with_POS_North)\n",
        "writeData(wb, \"Updated Without POS Survey\", df_without_POS_North)\n",
        "saveWorkbook(wb, \"SurveyData-20201028-North.xlsx\", overwrite = TRUE)\n"
      ],
      "execution_count": 56,
      "outputs": []
    },
    {
      "cell_type": "code",
      "metadata": {
        "id": "dCb73ZFd_O15"
      },
      "source": [
        "# South Region"
      ],
      "execution_count": null,
      "outputs": []
    },
    {
      "cell_type": "code",
      "metadata": {
        "id": "Ozg-RnFkEHZs"
      },
      "source": [
        "## Create a new workbook\n",
        "wb <- createWorkbook(\"Temp\")\n",
        "## Add 2 worksheets\n",
        "addWorksheet(wb, \"Updated With POS Survey\")\n",
        "addWorksheet(wb, \"Updated Without POS Survey\")\n",
        "writeData(wb, \"Updated With POS Survey\", df_with_POS_South)\n",
        "writeData(wb, \"Updated Without POS Survey\", df_without_POS_South)\n",
        "saveWorkbook(wb, \"SurveyData-20201028-South.xlsx\", overwrite = TRUE)"
      ],
      "execution_count": 57,
      "outputs": []
    },
    {
      "cell_type": "code",
      "metadata": {
        "id": "-bvyEt8P_czX"
      },
      "source": [
        ""
      ],
      "execution_count": null,
      "outputs": []
    }
  ]
}