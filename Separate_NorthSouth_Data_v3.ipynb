{
  "nbformat": 4,
  "nbformat_minor": 0,
  "metadata": {
    "colab": {
      "name": "Separate NorthSouth Data v3.ipynb",
      "provenance": [],
      "collapsed_sections": [],
      "toc_visible": true,
      "authorship_tag": "ABX9TyNN2CFTbPoHTVP1QSJ6capL",
      "include_colab_link": true
    },
    "kernelspec": {
      "name": "ir",
      "display_name": "R"
    }
  },
  "cells": [
    {
      "cell_type": "markdown",
      "metadata": {
        "id": "view-in-github",
        "colab_type": "text"
      },
      "source": [
        "<a href=\"https://colab.research.google.com/github/patternproject/r.sb.pos.2/blob/main/Separate_NorthSouth_Data_v3.ipynb\" target=\"_parent\"><img src=\"https://colab.research.google.com/assets/colab-badge.svg\" alt=\"Open In Colab\"/></a>"
      ]
    },
    {
      "cell_type": "markdown",
      "metadata": {
        "id": "aSsGw3ZJ4QPN"
      },
      "source": [
        "#READ ME"
      ]
    },
    {
      "cell_type": "markdown",
      "metadata": {
        "id": "T8_teX5y4IUs"
      },
      "source": [
        "##Analysis of Survey Data for POS\n",
        "##Iteration 2\n",
        "##Using R"
      ]
    },
    {
      "cell_type": "markdown",
      "metadata": {
        "id": "sm8gm3xu4Sl9"
      },
      "source": [
        "This file takes in \"Extract of Daily POS Data\" in excel format and outputs two files, one for North and other for South region"
      ]
    },
    {
      "cell_type": "markdown",
      "metadata": {
        "id": "X0soX4yA4eHM"
      },
      "source": [
        "#History\n",
        "\n",
        "v1: First Iteration\n",
        "\n",
        "v2: First run of North and South completed\n",
        "\n",
        "v3: Changed write xlsx to incoporate multiple sheets. Added System Date to Output File Name"
      ]
    },
    {
      "cell_type": "markdown",
      "metadata": {
        "id": "Je5p-3eH4keF"
      },
      "source": [
        "## Setup"
      ]
    },
    {
      "cell_type": "code",
      "metadata": {
        "id": "njNtW-Qj4C5W",
        "outputId": "95cbb520-a234-4221-b84b-06d95057b1fa",
        "colab": {
          "base_uri": "https://localhost:8080/"
        }
      },
      "source": [
        "# Library\n",
        "library(ggplot2)\n",
        "library(tidyverse)\n",
        "#install.packages(\"readxl\")\n",
        "library(readxl)"
      ],
      "execution_count": 2,
      "outputs": [
        {
          "output_type": "stream",
          "text": [
            "── \u001b[1mAttaching packages\u001b[22m ─────────────────────────────────────── tidyverse 1.3.0 ──\n",
            "\n",
            "\u001b[32m✔\u001b[39m \u001b[34mtibble \u001b[39m 3.0.4     \u001b[32m✔\u001b[39m \u001b[34mdplyr  \u001b[39m 1.0.2\n",
            "\u001b[32m✔\u001b[39m \u001b[34mtidyr  \u001b[39m 1.1.2     \u001b[32m✔\u001b[39m \u001b[34mstringr\u001b[39m 1.4.0\n",
            "\u001b[32m✔\u001b[39m \u001b[34mreadr  \u001b[39m 1.4.0     \u001b[32m✔\u001b[39m \u001b[34mforcats\u001b[39m 0.5.0\n",
            "\u001b[32m✔\u001b[39m \u001b[34mpurrr  \u001b[39m 0.3.4     \n",
            "\n",
            "── \u001b[1mConflicts\u001b[22m ────────────────────────────────────────── tidyverse_conflicts() ──\n",
            "\u001b[31m✖\u001b[39m \u001b[34mdplyr\u001b[39m::\u001b[32mfilter()\u001b[39m masks \u001b[34mstats\u001b[39m::filter()\n",
            "\u001b[31m✖\u001b[39m \u001b[34mdplyr\u001b[39m::\u001b[32mlag()\u001b[39m    masks \u001b[34mstats\u001b[39m::lag()\n",
            "\n"
          ],
          "name": "stderr"
        }
      ]
    },
    {
      "cell_type": "code",
      "metadata": {
        "id": "BoLExd2j-VGL"
      },
      "source": [
        "#install.packages('openxlsx')\n",
        "library(openxlsx)"
      ],
      "execution_count": 4,
      "outputs": []
    },
    {
      "cell_type": "code",
      "metadata": {
        "id": "E9ZMZ_vR4jwD"
      },
      "source": [
        "# reading in input File\n",
        "input_file = \"/content/Survey Data 2020-10-29 - Master.xlsx\"\n",
        "df_master = read_xlsx(input_file, sheet=1)"
      ],
      "execution_count": 5,
      "outputs": []
    },
    {
      "cell_type": "code",
      "metadata": {
        "id": "k3-yLoNj41Bk",
        "outputId": "553e01bd-8e7c-41f3-e76c-0ef8a30b870d",
        "colab": {
          "base_uri": "https://localhost:8080/"
        }
      },
      "source": [
        "# printing DF\n",
        "print(as_tibble(df_master))"
      ],
      "execution_count": 6,
      "outputs": [
        {
          "output_type": "stream",
          "text": [
            "\u001b[90m# A tibble: 356 x 37\u001b[39m\n",
            "   EmployeeCode UserName BusinessUnit Department `Address of the… `City:`\n",
            "          \u001b[3m\u001b[90m<dbl>\u001b[39m\u001b[23m \u001b[3m\u001b[90m<chr>\u001b[39m\u001b[23m    \u001b[3m\u001b[90m<chr>\u001b[39m\u001b[23m        \u001b[3m\u001b[90m<chr>\u001b[39m\u001b[23m      \u001b[3m\u001b[90m<chr>\u001b[39m\u001b[23m            \u001b[3m\u001b[90m<chr>\u001b[39m\u001b[23m  \n",
            "\u001b[90m 1\u001b[39m        \u001b[4m3\u001b[24m\u001b[4m7\u001b[24m636 Burhan … Managment    CorpDev    Saddar           Rawalp…\n",
            "\u001b[90m 2\u001b[39m        \u001b[4m3\u001b[24m\u001b[4m0\u001b[24m919 Farasat… Customer Se… Operation… Barkat Plaza Ba… Rawalp…\n",
            "\u001b[90m 3\u001b[39m        \u001b[4m3\u001b[24m\u001b[4m3\u001b[24m409 Muhamma… Customer Se… Operation… Near mcc karach… Islama…\n",
            "\u001b[90m 4\u001b[39m        \u001b[4m3\u001b[24m\u001b[4m3\u001b[24m409 Muhamma… Customer Se… Operation… Mughal plaza Be… Islama…\n",
            "\u001b[90m 5\u001b[39m        \u001b[4m3\u001b[24m\u001b[4m3\u001b[24m409 Muhamma… Customer Se… Operation… Benazir chock a… Islama…\n",
            "\u001b[90m 6\u001b[39m        \u001b[4m3\u001b[24m\u001b[4m3\u001b[24m409 Muhamma… Customer Se… Operation… Mughal plaza be… Islama…\n",
            "\u001b[90m 7\u001b[39m        \u001b[4m3\u001b[24m\u001b[4m3\u001b[24m409 Muhamma… Customer Se… Operation… Mughal plaza be… Islama…\n",
            "\u001b[90m 8\u001b[39m        \u001b[4m3\u001b[24m\u001b[4m3\u001b[24m409 Muhamma… Customer Se… Operation… Mughal plaza be… Islama…\n",
            "\u001b[90m 9\u001b[39m        \u001b[4m3\u001b[24m\u001b[4m3\u001b[24m409 Muhamma… Customer Se… Operation… Mughal plaza be… Islama…\n",
            "\u001b[90m10\u001b[39m        \u001b[4m3\u001b[24m\u001b[4m0\u001b[24m859 Naveed … Customer Se… Operation… I.10/1           Islama…\n",
            "\u001b[90m# … with 346 more rows, and 31 more variables: `Do you believe having a POS\u001b[39m\n",
            "\u001b[90m#   will help you “Improve Business”?` \u001b[3m\u001b[90m<chr>\u001b[90m\u001b[23m, `Do you have “Internet Access” at\u001b[39m\n",
            "\u001b[90m#   your outlet?` \u001b[3m\u001b[90m<chr>\u001b[90m\u001b[23m, `Do you wish to “Expand your Business” to more\u001b[39m\n",
            "\u001b[90m#   outlets?` \u001b[3m\u001b[90m<chr>\u001b[90m\u001b[23m, `Does your outlet offer “Delivery Service”?` \u001b[3m\u001b[90m<chr>\u001b[90m\u001b[23m, `For\u001b[39m\n",
            "\u001b[90m#   which purposes do you store “Customer Data”?` \u001b[3m\u001b[90m<chr>\u001b[90m\u001b[23m, `How many “Employees”\u001b[39m\n",
            "\u001b[90m#   do you have in this outlet?` \u001b[3m\u001b[90m<chr>\u001b[90m\u001b[23m, `How much disruption in “Internet\u001b[39m\n",
            "\u001b[90m#   Service” do you face?` \u001b[3m\u001b[90m<chr>\u001b[90m\u001b[23m, `If you had to pay for a new POS, which\u001b[39m\n",
            "\u001b[90m#   “Payment Type” would you prefer?` \u001b[3m\u001b[90m<chr>\u001b[90m\u001b[23m, `If you will ever have a POS, what\u001b[39m\n",
            "\u001b[90m#   “Language” would you like to have it in?` \u001b[3m\u001b[90m<chr>\u001b[90m\u001b[23m, `Name of the\u001b[39m\n",
            "\u001b[90m#   Outlet:` \u001b[3m\u001b[90m<chr>\u001b[90m\u001b[23m, `Number of years you have owned this organization:` \u001b[3m\u001b[90m<chr>\u001b[90m\u001b[23m,\u001b[39m\n",
            "\u001b[90m#   `Please choose the “Number of Outlets”:` \u001b[3m\u001b[90m<chr>\u001b[90m\u001b[23m, `Please choose which “Kind\u001b[39m\n",
            "\u001b[90m#   of POS” will you prefer:` \u001b[3m\u001b[90m<chr>\u001b[90m\u001b[23m, `Please provide an amount in PKR you are\u001b[39m\n",
            "\u001b[90m#   “Willing to Pay”, corresponding to last question:` \u001b[3m\u001b[90m<chr>\u001b[90m\u001b[23m, `Please state\u001b[39m\n",
            "\u001b[90m#   your “Personal Observations” which you believe would be interesting to\u001b[39m\n",
            "\u001b[90m#   share about this interaction.` \u001b[3m\u001b[90m<chr>\u001b[90m\u001b[23m, `Please take a picture of the outlet,\u001b[39m\n",
            "\u001b[90m#   with it’s name visible` \u001b[3m\u001b[90m<chr>\u001b[90m\u001b[23m, `Please take a picture of the visiting\u001b[39m\n",
            "\u001b[90m#   card` \u001b[3m\u001b[90m<chr>\u001b[90m\u001b[23m, `Region:` \u001b[3m\u001b[90m<chr>\u001b[90m\u001b[23m, `Respondent’s Designation:` \u001b[3m\u001b[90m<chr>\u001b[90m\u001b[23m,\u001b[39m\n",
            "\u001b[90m#   `Respondent’s Name:` \u001b[3m\u001b[90m<chr>\u001b[90m\u001b[23m, `Respondent’s Phone number:` \u001b[3m\u001b[90m<chr>\u001b[90m\u001b[23m, `What are\u001b[39m\n",
            "\u001b[90m#   the “Most important Features” in a POS? You may choose multiple\u001b[39m\n",
            "\u001b[90m#   options.` \u001b[3m\u001b[90m<chr>\u001b[90m\u001b[23m, `What Device(s) will you like to use for “Accessing POS”?\u001b[39m\n",
            "\u001b[90m#   You may choose multiple options.` \u001b[3m\u001b[90m<chr>\u001b[90m\u001b[23m, `What kind of a business are\u001b[39m\n",
            "\u001b[90m#   you?` \u001b[3m\u001b[90m<chr>\u001b[90m\u001b[23m, `What types of “Payments” do you accept? You may choose\u001b[39m\n",
            "\u001b[90m#   multiple options:` \u001b[3m\u001b[90m<chr>\u001b[90m\u001b[23m, `Which of the following “Discounts” do you offer\u001b[39m\n",
            "\u001b[90m#   to your customers?` \u001b[3m\u001b[90m<chr>\u001b[90m\u001b[23m, `Which of the following “Features” will you like\u001b[39m\n",
            "\u001b[90m#   in Urdu/Local language? You may choose multiple options.` \u001b[3m\u001b[90m<chr>\u001b[90m\u001b[23m, `Which of\u001b[39m\n",
            "\u001b[90m#   the following can be a “Reason to get POS”? You may choose multiple\u001b[39m\n",
            "\u001b[90m#   options.` \u001b[3m\u001b[90m<chr>\u001b[90m\u001b[23m, `Why do you “Not Have” a POS?` \u001b[3m\u001b[90m<chr>\u001b[90m\u001b[23m, `Will you be willing\u001b[39m\n",
            "\u001b[90m#   to run a “Demo of our POS” at your outlet?` \u001b[3m\u001b[90m<chr>\u001b[90m\u001b[23m, `You have been very\u001b[39m\n",
            "\u001b[90m#   helpful. Can we “Contact you in Future” for more details?` \u001b[3m\u001b[90m<chr>\u001b[90m\u001b[23m\u001b[39m\n"
          ],
          "name": "stdout"
        }
      ]
    },
    {
      "cell_type": "code",
      "metadata": {
        "id": "60xEIgpi5KWK",
        "outputId": "e607a84d-2aec-431d-bf89-cd334359723a",
        "colab": {
          "base_uri": "https://localhost:8080/"
        }
      },
      "source": [
        "## inspect the data\n",
        "str(df_master)"
      ],
      "execution_count": 7,
      "outputs": [
        {
          "output_type": "stream",
          "text": [
            "tibble [356 × 37] (S3: tbl_df/tbl/data.frame)\n",
            " $ EmployeeCode                                                                                                     : num [1:356] 37636 30919 33409 33409 33409 ...\n",
            " $ UserName                                                                                                         : chr [1:356] \"Burhan Ul Haq\" \"Farasat Ullah Shah\" \"Muhammad  Ahmar\" \"Muhammad  Ahmar\" ...\n",
            " $ BusinessUnit                                                                                                     : chr [1:356] \"Managment\" \"Customer Services North\" \"Customer Services North\" \"Customer Services North\" ...\n",
            " $ Department                                                                                                       : chr [1:356] \"CorpDev\" \"Operations - CS North\" \"Operations - CS North\" \"Operations - CS North\" ...\n",
            " $ Address of the Outlet:                                                                                           : chr [1:356] \"Saddar\" \"Barkat Plaza Bank Road\" \"Near mcc karachi company g 9 markez\" \"Mughal plaza Benazir chock tarnol isb\" ...\n",
            " $ City:                                                                                                            : chr [1:356] \"Rawalpindi\" \"Rawalpindi\" \"Islamabad\" \"Islamabad\" ...\n",
            " $ Do you believe having a POS will help you “Improve Business”?                                                    : chr [1:356] \"Yes\" \"Yes\" \"Yes\" \"Yes\" ...\n",
            " $ Do you have “Internet Access” at your outlet?                                                                    : chr [1:356] \"Dedicated connection\" \"No access\" \"I use my mobile as required\" \"I use my mobile as required\" ...\n",
            " $ Do you wish to “Expand your Business” to more outlets?                                                           : chr [1:356] \"Yes, immediately (upto 6 months)\" \"No\" \"Yes, short-term (upto 12 months)\" \"Yes, immediately (upto 6 months)\" ...\n",
            " $ Does your outlet offer “Delivery Service”?                                                                       : chr [1:356] \"Yes\" \"No\" \"Thinking about it\" \"Yes\" ...\n",
            " $ For which purposes do you store “Customer Data”?                                                                 : chr [1:356] \"Use for discounts (repeated purchases)\" \"Do not Store\" \"Do not Store, Use for discounts (repeated purchases)\" \"Use for discounts (repeated purchases)\" ...\n",
            " $ How many “Employees” do you have in this outlet?                                                                 : chr [1:356] \"8\" \"2\" \"3\" \"2\" ...\n",
            " $ How much disruption in “Internet Service” do you face?                                                           : chr [1:356] \"Never\" \"-\" \"Little\" \"Never\" ...\n",
            " $ If you had to pay for a new POS, which “Payment Type” would you prefer?                                          : chr [1:356] \"Recurring Payment - Every Month\" \"One Time Payment\" \"Recurring Payment - Every 12 Months\" \"Recurring Payment - Every Month\" ...\n",
            " $ If you will ever have a POS, what “Language” would you like to have it in?                                       : chr [1:356] \"English\" \"English and Urdu\" \"English and Urdu\" \"English\" ...\n",
            " $ Name of the Outlet:                                                                                              : chr [1:356] \"Test 2\" \"New Top Men Suiting\" \"Forever garments\" \"Tameer hardware\" ...\n",
            " $ Number of years you have owned this organization:                                                                : chr [1:356] \"10\" \"27\" \"2\" \"1\" ...\n",
            " $ Please choose the “Number of Outlets”:                                                                           : chr [1:356] \"3\" \"1\" \"1\" \"1\" ...\n",
            " $ Please choose which “Kind of POS” will you prefer:                                                               : chr [1:356] \"Web-Based: requires internet connection\" \"Stand-Alone: does not require internet connection\" \"Stand-Alone: does not require internet connection\" \"Web-Based: requires internet connection\" ...\n",
            " $ Please provide an amount in PKR you are “Willing to Pay”, corresponding to last question:                        : chr [1:356] \"100\" \"1000\" \"10000\" \"1000\" ...\n",
            " $ Please state your “Personal Observations” which you believe would be interesting to share about this interaction.: chr [1:356] \"None\" \"Owner does not want to spent more than1000. As per observation he is not willing to spend on such system\" \"This could be helpful\" \"Very good\" ...\n",
            " $ Please take a picture of the outlet, with it’s name visible                                                      : chr [1:356] \"-\" \"-\" \"-\" \"-\" ...\n",
            " $ Please take a picture of the visiting card                                                                       : chr [1:356] \"-\" \"-\" \"-\" \"-\" ...\n",
            " $ Region:                                                                                                          : chr [1:356] \"-\" \"Saddar\" \"G-9\" \"Tarnol\" ...\n",
            " $ Respondent’s Designation:                                                                                        : chr [1:356] \"Manager\" \"Owner\" \"Owner\" \"Owner\" ...\n",
            " $ Respondent’s Name:                                                                                               : chr [1:356] \"Dummy 2\" \"Hasnain\" \"Kashif\" \"Shah raees\" ...\n",
            " $ Respondent’s Phone number:                                                                                       : chr [1:356] \"345\" \"3335240955\" \"3455323910\" \"3335163133\" ...\n",
            " $ What are the “Most important Features” in a POS? You may choose multiple options.                                : chr [1:356] \"Cash Reconciliation (Balance daily sales and returns for cash and credit)\" \"Remote Management/Centralized Management (Manage your business remotely), Reports (Get sales and other insights\"| __truncated__ \"Cash Reconciliation (Balance daily sales and returns for cash and credit)\" \"Cash Reconciliation (Balance daily sales and returns for cash and credit), Remote Management/Centralized Manage\"| __truncated__ ...\n",
            " $ What Device(s) will you like to use for “Accessing POS”? You may choose multiple options.                        : chr [1:356] \"Tablet\" \"Mobile Phone\" \"Mobile Phone, PC\" \"Laptop, Mobile Phone, PC, Tablet\" ...\n",
            " $ What kind of a business are you?                                                                                 : chr [1:356] \"Groceries\" \"Clothing items\" \"Clothing items\" \"Hardware / Paints\" ...\n",
            " $ What types of “Payments” do you accept? You may choose multiple options:                                         : chr [1:356] \"Cash\" \"Cash\" \"Cash\" \"Cash\" ...\n",
            " $ Which of the following “Discounts” do you offer to your customers?                                               : chr [1:356] \"Product Discount (Lower price than market)\" \"Customer Discount (Based on customer relationship)\" \"Customer Discount (Based on customer relationship), Product Discount (Lower price than market)\" \"Bulk Discount (Based on bill amount), Customer Discount (Based on customer relationship)\" ...\n",
            " $ Which of the following “Features” will you like in Urdu/Local language? You may choose multiple options.         : chr [1:356] \"Slips or Receipts\" \"Others (Please specify)  (Everything in both languages )\" \"Display Screen, Slips or Receipts\" \"Display Screen, Slips or Receipts\" ...\n",
            " $ Which of the following can be a “Reason to get POS”? You may choose multiple options.                            : chr [1:356] \"Features\" \"Other (Please specify) (Customer Data, daily sales report)\" \"Features, Price\" \"Customization (as per your needs), Features, Price\" ...\n",
            " $ Why do you “Not Have” a POS?                                                                                     : chr [1:356] \"I am happy with how my business is managed currently\" \"I am happy with how my business is managed currently\" \"I am happy with how my business is managed currently\" \"I am happy with how my business is managed currently\" ...\n",
            " $ Will you be willing to run a “Demo of our POS” at your outlet?                                                   : chr [1:356] \"No\" \"No\" \"Yes\" \"Yes\" ...\n",
            " $ You have been very helpful. Can we “Contact you in Future” for more details?                                     : chr [1:356] \"-\" \"Yes\" \"Yes\" \"Yes\" ...\n"
          ],
          "name": "stdout"
        }
      ]
    },
    {
      "cell_type": "code",
      "metadata": {
        "id": "1mm5CggO5QDc",
        "outputId": "3af23560-9ad0-47e5-e8b3-3662d2d93a68",
        "colab": {
          "base_uri": "https://localhost:8080/"
        }
      },
      "source": [
        "df_master %>% glimpse()"
      ],
      "execution_count": 8,
      "outputs": [
        {
          "output_type": "stream",
          "text": [
            "Rows: 356\n",
            "Columns: 37\n",
            "$ EmployeeCode                                                                                                        \u001b[3m\u001b[90m<dbl>\u001b[39m\u001b[23m …\n",
            "$ UserName                                                                                                            \u001b[3m\u001b[90m<chr>\u001b[39m\u001b[23m …\n",
            "$ BusinessUnit                                                                                                        \u001b[3m\u001b[90m<chr>\u001b[39m\u001b[23m …\n",
            "$ Department                                                                                                          \u001b[3m\u001b[90m<chr>\u001b[39m\u001b[23m …\n",
            "$ `Address of the Outlet:`                                                                                            \u001b[3m\u001b[90m<chr>\u001b[39m\u001b[23m …\n",
            "$ `City:`                                                                                                             \u001b[3m\u001b[90m<chr>\u001b[39m\u001b[23m …\n",
            "$ `Do you believe having a POS will help you “Improve Business”?`                                                     \u001b[3m\u001b[90m<chr>\u001b[39m\u001b[23m …\n",
            "$ `Do you have “Internet Access” at your outlet?`                                                                     \u001b[3m\u001b[90m<chr>\u001b[39m\u001b[23m …\n",
            "$ `Do you wish to “Expand your Business” to more outlets?`                                                            \u001b[3m\u001b[90m<chr>\u001b[39m\u001b[23m …\n",
            "$ `Does your outlet offer “Delivery Service”?`                                                                        \u001b[3m\u001b[90m<chr>\u001b[39m\u001b[23m …\n",
            "$ `For which purposes do you store “Customer Data”?`                                                                  \u001b[3m\u001b[90m<chr>\u001b[39m\u001b[23m …\n",
            "$ `How many “Employees” do you have in this outlet?`                                                                  \u001b[3m\u001b[90m<chr>\u001b[39m\u001b[23m …\n",
            "$ `How much disruption in “Internet Service” do you face?`                                                            \u001b[3m\u001b[90m<chr>\u001b[39m\u001b[23m …\n",
            "$ `If you had to pay for a new POS, which “Payment Type” would you prefer?`                                           \u001b[3m\u001b[90m<chr>\u001b[39m\u001b[23m …\n",
            "$ `If you will ever have a POS, what “Language” would you like to have it in?`                                        \u001b[3m\u001b[90m<chr>\u001b[39m\u001b[23m …\n",
            "$ `Name of the Outlet:`                                                                                               \u001b[3m\u001b[90m<chr>\u001b[39m\u001b[23m …\n",
            "$ `Number of years you have owned this organization:`                                                                 \u001b[3m\u001b[90m<chr>\u001b[39m\u001b[23m …\n",
            "$ `Please choose the “Number of Outlets”:`                                                                            \u001b[3m\u001b[90m<chr>\u001b[39m\u001b[23m …\n",
            "$ `Please choose which “Kind of POS” will you prefer:`                                                                \u001b[3m\u001b[90m<chr>\u001b[39m\u001b[23m …\n",
            "$ `Please provide an amount in PKR you are “Willing to Pay”, corresponding to last question:`                         \u001b[3m\u001b[90m<chr>\u001b[39m\u001b[23m …\n",
            "$ `Please state your “Personal Observations” which you believe would be interesting to share about this interaction.` \u001b[3m\u001b[90m<chr>\u001b[39m\u001b[23m …\n",
            "$ `Please take a picture of the outlet, with it’s name visible`                                                       \u001b[3m\u001b[90m<chr>\u001b[39m\u001b[23m …\n",
            "$ `Please take a picture of the visiting card`                                                                        \u001b[3m\u001b[90m<chr>\u001b[39m\u001b[23m …\n",
            "$ `Region:`                                                                                                           \u001b[3m\u001b[90m<chr>\u001b[39m\u001b[23m …\n",
            "$ `Respondent’s Designation:`                                                                                         \u001b[3m\u001b[90m<chr>\u001b[39m\u001b[23m …\n",
            "$ `Respondent’s Name:`                                                                                                \u001b[3m\u001b[90m<chr>\u001b[39m\u001b[23m …\n",
            "$ `Respondent’s Phone number:`                                                                                        \u001b[3m\u001b[90m<chr>\u001b[39m\u001b[23m …\n",
            "$ `What are the “Most important Features” in a POS? You may choose multiple options.`                                 \u001b[3m\u001b[90m<chr>\u001b[39m\u001b[23m …\n",
            "$ `What Device(s) will you like to use for “Accessing POS”? You may choose multiple options.`                         \u001b[3m\u001b[90m<chr>\u001b[39m\u001b[23m …\n",
            "$ `What kind of a business are you?`                                                                                  \u001b[3m\u001b[90m<chr>\u001b[39m\u001b[23m …\n",
            "$ `What types of “Payments” do you accept? You may choose multiple options:`                                          \u001b[3m\u001b[90m<chr>\u001b[39m\u001b[23m …\n",
            "$ `Which of the following “Discounts” do you offer to your customers?`                                                \u001b[3m\u001b[90m<chr>\u001b[39m\u001b[23m …\n",
            "$ `Which of the following “Features” will you like in Urdu/Local language? You may choose multiple options.`          \u001b[3m\u001b[90m<chr>\u001b[39m\u001b[23m …\n",
            "$ `Which of the following can be a “Reason to get POS”? You may choose multiple options.`                             \u001b[3m\u001b[90m<chr>\u001b[39m\u001b[23m …\n",
            "$ `Why do you “Not Have” a POS?`                                                                                      \u001b[3m\u001b[90m<chr>\u001b[39m\u001b[23m …\n",
            "$ `Will you be willing to run a “Demo of our POS” at your outlet?`                                                    \u001b[3m\u001b[90m<chr>\u001b[39m\u001b[23m …\n",
            "$ `You have been very helpful. Can we “Contact you in Future” for more details?`                                      \u001b[3m\u001b[90m<chr>\u001b[39m\u001b[23m …\n"
          ],
          "name": "stdout"
        }
      ]
    },
    {
      "cell_type": "code",
      "metadata": {
        "id": "QmZhQrxP5VNl",
        "outputId": "cfecd057-39d7-456a-a098-7705fddc629a",
        "colab": {
          "base_uri": "https://localhost:8080/",
          "height": 364
        }
      },
      "source": [
        "colnames(df_master)"
      ],
      "execution_count": 9,
      "outputs": [
        {
          "output_type": "display_data",
          "data": {
            "text/plain": [
              " [1] \"EmployeeCode\"                                                                                                     \n",
              " [2] \"UserName\"                                                                                                         \n",
              " [3] \"BusinessUnit\"                                                                                                     \n",
              " [4] \"Department\"                                                                                                       \n",
              " [5] \"Address of the Outlet:\"                                                                                           \n",
              " [6] \"City:\"                                                                                                            \n",
              " [7] \"Do you believe having a POS will help you “Improve Business”?\"                                                    \n",
              " [8] \"Do you have “Internet Access” at your outlet?\"                                                                    \n",
              " [9] \"Do you wish to “Expand your Business” to more outlets?\"                                                           \n",
              "[10] \"Does your outlet offer “Delivery Service”?\"                                                                       \n",
              "[11] \"For which purposes do you store “Customer Data”?\"                                                                 \n",
              "[12] \"How many “Employees” do you have in this outlet?\"                                                                 \n",
              "[13] \"How much disruption in “Internet Service” do you face?\"                                                           \n",
              "[14] \"If you had to pay for a new POS, which “Payment Type” would you prefer?\"                                          \n",
              "[15] \"If you will ever have a POS, what “Language” would you like to have it in?\"                                       \n",
              "[16] \"Name of the Outlet:\"                                                                                              \n",
              "[17] \"Number of years you have owned this organization:\"                                                                \n",
              "[18] \"Please choose the “Number of Outlets”:\"                                                                           \n",
              "[19] \"Please choose which “Kind of POS” will you prefer:\"                                                               \n",
              "[20] \"Please provide an amount in PKR you are “Willing to Pay”, corresponding to last question:\"                        \n",
              "[21] \"Please state your “Personal Observations” which you believe would be interesting to share about this interaction.\"\n",
              "[22] \"Please take a picture of the outlet, with it’s name visible\"                                                      \n",
              "[23] \"Please take a picture of the visiting card\"                                                                       \n",
              "[24] \"Region:\"                                                                                                          \n",
              "[25] \"Respondent’s Designation:\"                                                                                        \n",
              "[26] \"Respondent’s Name:\"                                                                                               \n",
              "[27] \"Respondent’s Phone number:\"                                                                                       \n",
              "[28] \"What are the “Most important Features” in a POS? You may choose multiple options.\"                                \n",
              "[29] \"What Device(s) will you like to use for “Accessing POS”? You may choose multiple options.\"                        \n",
              "[30] \"What kind of a business are you?\"                                                                                 \n",
              "[31] \"What types of “Payments” do you accept? You may choose multiple options:\"                                         \n",
              "[32] \"Which of the following “Discounts” do you offer to your customers?\"                                               \n",
              "[33] \"Which of the following “Features” will you like in Urdu/Local language? You may choose multiple options.\"         \n",
              "[34] \"Which of the following can be a “Reason to get POS”? You may choose multiple options.\"                            \n",
              "[35] \"Why do you “Not Have” a POS?\"                                                                                     \n",
              "[36] \"Will you be willing to run a “Demo of our POS” at your outlet?\"                                                   \n",
              "[37] \"You have been very helpful. Can we “Contact you in Future” for more details?\"                                     "
            ],
            "text/latex": "\\begin{enumerate*}\n\\item 'EmployeeCode'\n\\item 'UserName'\n\\item 'BusinessUnit'\n\\item 'Department'\n\\item 'Address of the Outlet:'\n\\item 'City:'\n\\item 'Do you believe having a POS will help you “Improve Business”?'\n\\item 'Do you have “Internet Access” at your outlet?'\n\\item 'Do you wish to “Expand your Business” to more outlets?'\n\\item 'Does your outlet offer “Delivery Service”?'\n\\item 'For which purposes do you store “Customer Data”?'\n\\item 'How many “Employees” do you have in this outlet?'\n\\item 'How much disruption in “Internet Service” do you face?'\n\\item 'If you had to pay for a new POS, which “Payment Type” would you prefer?'\n\\item 'If you will ever have a POS, what “Language” would you like to have it in?'\n\\item 'Name of the Outlet:'\n\\item 'Number of years you have owned this organization:'\n\\item 'Please choose the “Number of Outlets”:'\n\\item 'Please choose which “Kind of POS” will you prefer:'\n\\item 'Please provide an amount in PKR you are “Willing to Pay”, corresponding to last question:'\n\\item 'Please state your “Personal Observations” which you believe would be interesting to share about this interaction.'\n\\item 'Please take a picture of the outlet, with it’s name visible'\n\\item 'Please take a picture of the visiting card'\n\\item 'Region:'\n\\item 'Respondent’s Designation:'\n\\item 'Respondent’s Name:'\n\\item 'Respondent’s Phone number:'\n\\item 'What are the “Most important Features” in a POS? You may choose multiple options.'\n\\item 'What Device(s) will you like to use for “Accessing POS”? You may choose multiple options.'\n\\item 'What kind of a business are you?'\n\\item 'What types of “Payments” do you accept? You may choose multiple options:'\n\\item 'Which of the following “Discounts” do you offer to your customers?'\n\\item 'Which of the following “Features” will you like in Urdu/Local language? You may choose multiple options.'\n\\item 'Which of the following can be a “Reason to get POS”? You may choose multiple options.'\n\\item 'Why do you “Not Have” a POS?'\n\\item 'Will you be willing to run a “Demo of our POS” at your outlet?'\n\\item 'You have been very helpful. Can we “Contact you in Future” for more details?'\n\\end{enumerate*}\n",
            "text/markdown": "1. 'EmployeeCode'\n2. 'UserName'\n3. 'BusinessUnit'\n4. 'Department'\n5. 'Address of the Outlet:'\n6. 'City:'\n7. 'Do you believe having a POS will help you “Improve Business”?'\n8. 'Do you have “Internet Access” at your outlet?'\n9. 'Do you wish to “Expand your Business” to more outlets?'\n10. 'Does your outlet offer “Delivery Service”?'\n11. 'For which purposes do you store “Customer Data”?'\n12. 'How many “Employees” do you have in this outlet?'\n13. 'How much disruption in “Internet Service” do you face?'\n14. 'If you had to pay for a new POS, which “Payment Type” would you prefer?'\n15. 'If you will ever have a POS, what “Language” would you like to have it in?'\n16. 'Name of the Outlet:'\n17. 'Number of years you have owned this organization:'\n18. 'Please choose the “Number of Outlets”:'\n19. 'Please choose which “Kind of POS” will you prefer:'\n20. 'Please provide an amount in PKR you are “Willing to Pay”, corresponding to last question:'\n21. 'Please state your “Personal Observations” which you believe would be interesting to share about this interaction.'\n22. 'Please take a picture of the outlet, with it’s name visible'\n23. 'Please take a picture of the visiting card'\n24. 'Region:'\n25. 'Respondent’s Designation:'\n26. 'Respondent’s Name:'\n27. 'Respondent’s Phone number:'\n28. 'What are the “Most important Features” in a POS? You may choose multiple options.'\n29. 'What Device(s) will you like to use for “Accessing POS”? You may choose multiple options.'\n30. 'What kind of a business are you?'\n31. 'What types of “Payments” do you accept? You may choose multiple options:'\n32. 'Which of the following “Discounts” do you offer to your customers?'\n33. 'Which of the following “Features” will you like in Urdu/Local language? You may choose multiple options.'\n34. 'Which of the following can be a “Reason to get POS”? You may choose multiple options.'\n35. 'Why do you “Not Have” a POS?'\n36. 'Will you be willing to run a “Demo of our POS” at your outlet?'\n37. 'You have been very helpful. Can we “Contact you in Future” for more details?'\n\n\n",
            "text/html": [
              "<style>\n",
              ".list-inline {list-style: none; margin:0; padding: 0}\n",
              ".list-inline>li {display: inline-block}\n",
              ".list-inline>li:not(:last-child)::after {content: \"\\00b7\"; padding: 0 .5ex}\n",
              "</style>\n",
              "<ol class=list-inline><li>'EmployeeCode'</li><li>'UserName'</li><li>'BusinessUnit'</li><li>'Department'</li><li>'Address of the Outlet:'</li><li>'City:'</li><li>'Do you believe having a POS will help you “Improve Business”?'</li><li>'Do you have “Internet Access” at your outlet?'</li><li>'Do you wish to “Expand your Business” to more outlets?'</li><li>'Does your outlet offer “Delivery Service”?'</li><li>'For which purposes do you store “Customer Data”?'</li><li>'How many “Employees” do you have in this outlet?'</li><li>'How much disruption in “Internet Service” do you face?'</li><li>'If you had to pay for a new POS, which “Payment Type” would you prefer?'</li><li>'If you will ever have a POS, what “Language” would you like to have it in?'</li><li>'Name of the Outlet:'</li><li>'Number of years you have owned this organization:'</li><li>'Please choose the “Number of Outlets”:'</li><li>'Please choose which “Kind of POS” will you prefer:'</li><li>'Please provide an amount in PKR you are “Willing to Pay”, corresponding to last question:'</li><li>'Please state your “Personal Observations” which you believe would be interesting to share about this interaction.'</li><li>'Please take a picture of the outlet, with it’s name visible'</li><li>'Please take a picture of the visiting card'</li><li>'Region:'</li><li>'Respondent’s Designation:'</li><li>'Respondent’s Name:'</li><li>'Respondent’s Phone number:'</li><li>'What are the “Most important Features” in a POS? You may choose multiple options.'</li><li>'What Device(s) will you like to use for “Accessing POS”? You may choose multiple options.'</li><li>'What kind of a business are you?'</li><li>'What types of “Payments” do you accept? You may choose multiple options:'</li><li>'Which of the following “Discounts” do you offer to your customers?'</li><li>'Which of the following “Features” will you like in Urdu/Local language? You may choose multiple options.'</li><li>'Which of the following can be a “Reason to get POS”? You may choose multiple options.'</li><li>'Why do you “Not Have” a POS?'</li><li>'Will you be willing to run a “Demo of our POS” at your outlet?'</li><li>'You have been very helpful. Can we “Contact you in Future” for more details?'</li></ol>\n"
            ]
          },
          "metadata": {
            "tags": []
          }
        }
      ]
    },
    {
      "cell_type": "code",
      "metadata": {
        "id": "lgbxA_yT5dIM"
      },
      "source": [
        "df_1 = df_master"
      ],
      "execution_count": 10,
      "outputs": []
    },
    {
      "cell_type": "code",
      "metadata": {
        "id": "77ifjY0J59aM",
        "outputId": "35ddab34-dfcd-4d79-d23f-0729e77bd096",
        "colab": {
          "base_uri": "https://localhost:8080/",
          "height": 35
        }
      },
      "source": [
        "nrow(df_1)"
      ],
      "execution_count": 11,
      "outputs": [
        {
          "output_type": "display_data",
          "data": {
            "text/plain": [
              "[1] 356"
            ],
            "text/latex": "356",
            "text/markdown": "356",
            "text/html": [
              "356"
            ]
          },
          "metadata": {
            "tags": []
          }
        }
      ]
    },
    {
      "cell_type": "code",
      "metadata": {
        "id": "7MgIi2455fms",
        "outputId": "2f5df0ac-f5a8-446d-9abb-ed841650dc9a",
        "colab": {
          "base_uri": "https://localhost:8080/",
          "height": 140
        }
      },
      "source": [
        "df_1 %>%\n",
        "  distinct(BusinessUnit)"
      ],
      "execution_count": 12,
      "outputs": [
        {
          "output_type": "display_data",
          "data": {
            "text/plain": [
              "  BusinessUnit           \n",
              "1 Managment              \n",
              "2 Customer Services North\n",
              "3 Customer Services South"
            ],
            "text/latex": "A tibble: 3 × 1\n\\begin{tabular}{l}\n BusinessUnit\\\\\n <chr>\\\\\n\\hline\n\t Managment              \\\\\n\t Customer Services North\\\\\n\t Customer Services South\\\\\n\\end{tabular}\n",
            "text/markdown": "\nA tibble: 3 × 1\n\n| BusinessUnit &lt;chr&gt; |\n|---|\n| Managment               |\n| Customer Services North |\n| Customer Services South |\n\n",
            "text/html": [
              "<table>\n",
              "<caption>A tibble: 3 × 1</caption>\n",
              "<thead>\n",
              "\t<tr><th scope=col>BusinessUnit</th></tr>\n",
              "\t<tr><th scope=col>&lt;chr&gt;</th></tr>\n",
              "</thead>\n",
              "<tbody>\n",
              "\t<tr><td>Managment              </td></tr>\n",
              "\t<tr><td>Customer Services North</td></tr>\n",
              "\t<tr><td>Customer Services South</td></tr>\n",
              "</tbody>\n",
              "</table>\n"
            ]
          },
          "metadata": {
            "tags": []
          }
        }
      ]
    },
    {
      "cell_type": "code",
      "metadata": {
        "id": "_Des5SET431e"
      },
      "source": [
        "# Exclude rows where User is NOT part of Field Team (such as: Burhan)"
      ],
      "execution_count": null,
      "outputs": []
    },
    {
      "cell_type": "code",
      "metadata": {
        "id": "-RjVOtkd5qs1"
      },
      "source": [
        "df_1 %>%\n",
        " filter(BusinessUnit != 'Managment') -> df_2"
      ],
      "execution_count": 13,
      "outputs": []
    },
    {
      "cell_type": "code",
      "metadata": {
        "id": "ugOBVf_s6AMo",
        "outputId": "3d9ed303-87e1-478b-f651-bcc466b7ae48",
        "colab": {
          "base_uri": "https://localhost:8080/",
          "height": 35
        }
      },
      "source": [
        "nrow(df_2)"
      ],
      "execution_count": 14,
      "outputs": [
        {
          "output_type": "display_data",
          "data": {
            "text/plain": [
              "[1] 355"
            ],
            "text/latex": "355",
            "text/markdown": "355",
            "text/html": [
              "355"
            ]
          },
          "metadata": {
            "tags": []
          }
        }
      ]
    },
    {
      "cell_type": "code",
      "metadata": {
        "id": "OftvyF4G76_a"
      },
      "source": [
        "# Keep NORTH only"
      ],
      "execution_count": null,
      "outputs": []
    },
    {
      "cell_type": "code",
      "metadata": {
        "id": "VxiNhqlB6Bzq"
      },
      "source": [
        "df_2 %>%\n",
        "  filter(BusinessUnit == 'Customer Services North') -> df_with_POS_North"
      ],
      "execution_count": 15,
      "outputs": []
    },
    {
      "cell_type": "code",
      "metadata": {
        "id": "9zlpsari7Q3y",
        "outputId": "4d4c47db-3313-43dd-8a56-d37f66ac73f1",
        "colab": {
          "base_uri": "https://localhost:8080/",
          "height": 35
        }
      },
      "source": [
        "nrow(df_with_POS_North)"
      ],
      "execution_count": 16,
      "outputs": [
        {
          "output_type": "display_data",
          "data": {
            "text/plain": [
              "[1] 297"
            ],
            "text/latex": "297",
            "text/markdown": "297",
            "text/html": [
              "297"
            ]
          },
          "metadata": {
            "tags": []
          }
        }
      ]
    },
    {
      "cell_type": "code",
      "metadata": {
        "id": "oO0LQqo97-iz"
      },
      "source": [
        "# Keep SOUTH only"
      ],
      "execution_count": null,
      "outputs": []
    },
    {
      "cell_type": "code",
      "metadata": {
        "id": "liHQeCMZ7T4v"
      },
      "source": [
        "df_2 %>%\n",
        "  filter(BusinessUnit == 'Customer Services South') -> df_with_POS_South"
      ],
      "execution_count": 17,
      "outputs": []
    },
    {
      "cell_type": "code",
      "metadata": {
        "id": "4sf2gHOw7c6Y",
        "outputId": "b536ebce-d0a4-46c1-c2db-f065eb8740fa",
        "colab": {
          "base_uri": "https://localhost:8080/",
          "height": 35
        }
      },
      "source": [
        "nrow(df_with_POS_South)"
      ],
      "execution_count": 18,
      "outputs": [
        {
          "output_type": "display_data",
          "data": {
            "text/plain": [
              "[1] 58"
            ],
            "text/latex": "58",
            "text/markdown": "58",
            "text/html": [
              "58"
            ]
          },
          "metadata": {
            "tags": []
          }
        }
      ]
    },
    {
      "cell_type": "markdown",
      "metadata": {
        "id": "tmXdrbq67igz"
      },
      "source": [
        "# Without POS"
      ]
    },
    {
      "cell_type": "code",
      "metadata": {
        "id": "IdjhE9LK7gUe"
      },
      "source": [
        "# reading in input File\n",
        "df_m = read_xlsx(input_file, sheet=2)"
      ],
      "execution_count": 19,
      "outputs": []
    },
    {
      "cell_type": "code",
      "metadata": {
        "id": "fNbR04Wx72-6",
        "outputId": "777c4127-3569-4f6d-9184-f49c3cfed4f2",
        "colab": {
          "base_uri": "https://localhost:8080/",
          "height": 35
        }
      },
      "source": [
        "nrow(df_m)"
      ],
      "execution_count": 20,
      "outputs": [
        {
          "output_type": "display_data",
          "data": {
            "text/plain": [
              "[1] 71"
            ],
            "text/latex": "71",
            "text/markdown": "71",
            "text/html": [
              "71"
            ]
          },
          "metadata": {
            "tags": []
          }
        }
      ]
    },
    {
      "cell_type": "code",
      "metadata": {
        "id": "vlGEvNNh8Et7"
      },
      "source": [
        "# Exclude rows where User is NOT part of Field Team (such as: Burhan)"
      ],
      "execution_count": null,
      "outputs": []
    },
    {
      "cell_type": "code",
      "metadata": {
        "id": "Ki_nv3cy74pa"
      },
      "source": [
        "df_m %>%\n",
        " filter(BusinessUnit != 'Managment') -> df_100"
      ],
      "execution_count": 21,
      "outputs": []
    },
    {
      "cell_type": "code",
      "metadata": {
        "id": "FLlUizHT8LGp",
        "outputId": "1f3bd0df-0104-487c-a754-2fd3d08d4c15",
        "colab": {
          "base_uri": "https://localhost:8080/",
          "height": 35
        }
      },
      "source": [
        "nrow(df_100)"
      ],
      "execution_count": 22,
      "outputs": [
        {
          "output_type": "display_data",
          "data": {
            "text/plain": [
              "[1] 67"
            ],
            "text/latex": "67",
            "text/markdown": "67",
            "text/html": [
              "67"
            ]
          },
          "metadata": {
            "tags": []
          }
        }
      ]
    },
    {
      "cell_type": "code",
      "metadata": {
        "id": "b3qs7rnP8QTc"
      },
      "source": [
        "# Keep NORTH only"
      ],
      "execution_count": null,
      "outputs": []
    },
    {
      "cell_type": "code",
      "metadata": {
        "id": "TzAzSp908M5O"
      },
      "source": [
        "df_100 %>%\n",
        "  filter(BusinessUnit == 'Customer Services North') -> df_without_POS_North"
      ],
      "execution_count": 23,
      "outputs": []
    },
    {
      "cell_type": "code",
      "metadata": {
        "id": "46x6FOgy8cJS",
        "outputId": "a45587c0-f003-4691-88a4-e757d86d70bc",
        "colab": {
          "base_uri": "https://localhost:8080/",
          "height": 35
        }
      },
      "source": [
        "nrow(df_without_POS_North)"
      ],
      "execution_count": 24,
      "outputs": [
        {
          "output_type": "display_data",
          "data": {
            "text/plain": [
              "[1] 47"
            ],
            "text/latex": "47",
            "text/markdown": "47",
            "text/html": [
              "47"
            ]
          },
          "metadata": {
            "tags": []
          }
        }
      ]
    },
    {
      "cell_type": "code",
      "metadata": {
        "id": "ZowObkWn8Z2q"
      },
      "source": [
        "# Keep SOUTH only"
      ],
      "execution_count": null,
      "outputs": []
    },
    {
      "cell_type": "code",
      "metadata": {
        "id": "4_zlhqZr8XLm"
      },
      "source": [
        "df_100 %>%\n",
        "  filter(BusinessUnit == 'Customer Services South') -> df_without_POS_South"
      ],
      "execution_count": 25,
      "outputs": []
    },
    {
      "cell_type": "code",
      "metadata": {
        "id": "ARn37cMC8hbI",
        "outputId": "9981ee25-3d92-4b72-d4f3-4b5893cf3e88",
        "colab": {
          "base_uri": "https://localhost:8080/",
          "height": 35
        }
      },
      "source": [
        "nrow(df_without_POS_South)"
      ],
      "execution_count": 26,
      "outputs": [
        {
          "output_type": "display_data",
          "data": {
            "text/plain": [
              "[1] 20"
            ],
            "text/latex": "20",
            "text/markdown": "20",
            "text/html": [
              "20"
            ]
          },
          "metadata": {
            "tags": []
          }
        }
      ]
    },
    {
      "cell_type": "markdown",
      "metadata": {
        "id": "V4qjkuyQ89jT"
      },
      "source": [
        "## Write XLSX Files"
      ]
    },
    {
      "cell_type": "code",
      "metadata": {
        "id": "luCabdE0nBTr"
      },
      "source": [
        "# formatting options for Date/Time\n",
        "#https://www.rdocumentation.org/packages/base/versions/3.6.2/topics/strptime"
      ],
      "execution_count": 35,
      "outputs": []
    },
    {
      "cell_type": "code",
      "metadata": {
        "id": "dot1Dp7-mHPt",
        "outputId": "4021ceba-a618-479b-cee5-43a479cc9e9f",
        "colab": {
          "base_uri": "https://localhost:8080/"
        }
      },
      "source": [
        "#\"SurveyData-20201028-North.xlsx\"\n",
        "#st=format(Sys.Date(), \"%Y%m%d\") # Numeric Month\n",
        "#file_name_north=paste (\"SurveyData-\", Sys.Date(), \"-North\", \".xlsx\", sep=\"\")\n",
        "\n",
        "st=format(Sys.Date(), \"%Y%b%d\") # Alphabetic Month Name\n",
        "file_name_north=paste (\"SurveyData-\", st, \"-North\", \".xlsx\", sep=\"\")\n",
        "print(file_name_north)"
      ],
      "execution_count": 36,
      "outputs": [
        {
          "output_type": "stream",
          "text": [
            "[1] \"SurveyData-2020Nov02-North.xlsx\"\n"
          ],
          "name": "stdout"
        }
      ]
    },
    {
      "cell_type": "code",
      "metadata": {
        "id": "cnbDR4OO_Bp6"
      },
      "source": [
        "# North Region"
      ],
      "execution_count": null,
      "outputs": []
    },
    {
      "cell_type": "code",
      "metadata": {
        "id": "IcUkGPn1n726"
      },
      "source": [
        "st=format(Sys.Date(), \"%Y%b%d\") # Alphabetic Month Name\n",
        "file_name_north=paste (\"SurveyData-\", st, \"-North\", \".xlsx\", sep=\"\")\n",
        "print(file_name_north)"
      ],
      "execution_count": null,
      "outputs": []
    },
    {
      "cell_type": "code",
      "metadata": {
        "id": "h_aOgfYECVp7"
      },
      "source": [
        "## Create a new workbook\n",
        "wb <- createWorkbook(\"Temp\")\n",
        "## Add 2 worksheets\n",
        "addWorksheet(wb, \"Updated With POS Survey\")\n",
        "addWorksheet(wb, \"Updated Without POS Survey\")\n",
        "writeData(wb, \"Updated With POS Survey\", df_with_POS_North)\n",
        "writeData(wb, \"Updated Without POS Survey\", df_without_POS_North)\n",
        "#saveWorkbook(wb, \"SurveyData-20201028-North.xlsx\", overwrite = TRUE)\n",
        "saveWorkbook(wb, file_name_north, overwrite = TRUE)\n"
      ],
      "execution_count": 37,
      "outputs": []
    },
    {
      "cell_type": "code",
      "metadata": {
        "id": "dCb73ZFd_O15"
      },
      "source": [
        "# South Region"
      ],
      "execution_count": null,
      "outputs": []
    },
    {
      "cell_type": "code",
      "metadata": {
        "id": "a99HmsrKn_KQ",
        "outputId": "f1fcbefb-0b9a-4329-dc97-b6e32d0154d5",
        "colab": {
          "base_uri": "https://localhost:8080/"
        }
      },
      "source": [
        "st=format(Sys.Date(), \"%Y%b%d\") # Alphabetic Month Name\n",
        "file_name_south=paste (\"SurveyData-\", st, \"-South\", \".xlsx\", sep=\"\")\n",
        "print(file_name_south)"
      ],
      "execution_count": 38,
      "outputs": [
        {
          "output_type": "stream",
          "text": [
            "[1] \"SurveyData-2020Nov02-South.xlsx\"\n"
          ],
          "name": "stdout"
        }
      ]
    },
    {
      "cell_type": "code",
      "metadata": {
        "id": "Ozg-RnFkEHZs"
      },
      "source": [
        "## Create a new workbook\n",
        "wb <- createWorkbook(\"Temp\")\n",
        "## Add 2 worksheets\n",
        "addWorksheet(wb, \"Updated With POS Survey\")\n",
        "addWorksheet(wb, \"Updated Without POS Survey\")\n",
        "writeData(wb, \"Updated With POS Survey\", df_with_POS_South)\n",
        "writeData(wb, \"Updated Without POS Survey\", df_without_POS_South)\n",
        "#saveWorkbook(wb, \"SurveyData-20201028-South.xlsx\", overwrite = TRUE)\n",
        "saveWorkbook(wb, file_name_south, overwrite = TRUE)"
      ],
      "execution_count": 39,
      "outputs": []
    },
    {
      "cell_type": "code",
      "metadata": {
        "id": "-bvyEt8P_czX"
      },
      "source": [
        ""
      ],
      "execution_count": null,
      "outputs": []
    }
  ]
}