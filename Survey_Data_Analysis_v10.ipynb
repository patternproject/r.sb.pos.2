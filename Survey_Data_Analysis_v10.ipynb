{
  "nbformat": 4,
  "nbformat_minor": 0,
  "metadata": {
    "colab": {
      "name": "Survey_Data_Analysis_v10.ipynb",
      "provenance": [],
      "collapsed_sections": [
        "aSsGw3ZJ4QPN",
        "T8_teX5y4IUs",
        "X0soX4yA4eHM",
        "Je5p-3eH4keF",
        "l948xQo-RAm-",
        "NrkfKrt6WLOz",
        "vwYH19eoWqJ5"
      ],
      "toc_visible": true,
      "include_colab_link": true
    },
    "kernelspec": {
      "name": "ir",
      "display_name": "R"
    }
  },
  "cells": [
    {
      "cell_type": "markdown",
      "metadata": {
        "id": "view-in-github",
        "colab_type": "text"
      },
      "source": [
        "<a href=\"https://colab.research.google.com/github/patternproject/r.sb.pos.2/blob/main/Survey_Data_Analysis_v10.ipynb\" target=\"_parent\"><img src=\"https://colab.research.google.com/assets/colab-badge.svg\" alt=\"Open In Colab\"/></a>"
      ]
    },
    {
      "cell_type": "markdown",
      "metadata": {
        "id": "aSsGw3ZJ4QPN"
      },
      "source": [
        "#READ ME"
      ]
    },
    {
      "cell_type": "markdown",
      "metadata": {
        "id": "T8_teX5y4IUs"
      },
      "source": [
        "##Analysis of Survey Data for POS\n",
        "##Iteration 2\n",
        "##Using R\n",
        "\n",
        "#### Renaming it from:\n",
        "#### Separate_NorthSouth_Data_v12.ipynb\n",
        "#### to\n",
        "#### Survey Data Analysis v01.ipnyb"
      ]
    },
    {
      "cell_type": "markdown",
      "metadata": {
        "id": "sm8gm3xu4Sl9"
      },
      "source": [
        "This file takes in \"Extract of Daily POS Data\" in excel format and outputs two files, one for North and other for South region"
      ]
    },
    {
      "cell_type": "markdown",
      "metadata": {
        "id": "X0soX4yA4eHM"
      },
      "source": [
        "#History\n",
        "\n",
        "v1: First Iteration\n",
        "\n",
        "v2: First run of North and South completed\n",
        "\n",
        "v3: Changed write xlsx to incoporate multiple sheets. Added System Date to Output File Name\n",
        "\n",
        "v4: Adding create \"survey summary\" section from \"Survey-Summary\" colab \n",
        "\n",
        "v5: Continuation of v4. Fixing Special characters in Col Names\n",
        "\n",
        "v6: Continuation of v5. Restructured Code\n",
        "\n",
        "v7: Fixing Col Names for Without POS\n",
        "\n",
        "v8: Adding Basic Graphs\n",
        "\n",
        "v9: Automate UniVariate Analysis using PURRR\n",
        "\n",
        "v10: Continuation of v9\n",
        "\n",
        "v11: Continuation of v10. Moving from count to proportions\n",
        "\n",
        "v12: Continuation of v11\n",
        "\n",
        "-------------------------------\n",
        "Renamed as: Survey Data Analysis 01. ipnyb\n",
        "-------------------------------\n",
        "\n",
        "v01: No change\n",
        "\n",
        "v02: Removed code writing output/sample data\n",
        "\n",
        "v03: Fixing the TODO part for Uni-Var analysis\n",
        "\n",
        "v04: Pended the TODO part, replicating the Uni-Var analysis done so far on Without POS, on With POS data\n",
        "\n",
        "Clean data has been dumped in CSV at end of v03, use it to generate it again, if required.\n",
        "\n",
        "This file replaces the analysis on With POS, instead of copy-pasting to reduce the file size\n",
        "\n",
        "v05: Loading the data cleaned in v03 and v04, removing all the cleanup code\n",
        "\n",
        "v06: setting the order of factor levels for better plots\n",
        "\n",
        "v07: Reading in the ordered factor data, cleaned up in v06\n",
        "\n",
        "However the problem was openxlsx package does not allow to specify the col types, and factors were being read in as character\n",
        "\n",
        "Solved by mutate_if for all character vectors\n",
        "\n",
        "v08: Continuing the cleaning, with multiple-response now\n",
        "\n",
        "v09: Cleaned up till ORG_CURRENT_PAYMENT_OPTIONS\n",
        "\n",
        "\n",
        "(still TODO) Dumping Multi-Response 'Customer Data' as a seperate sheet in output\n",
        "\n",
        "v10: Cleaned up till \n",
        "ORG_URDU_FEATURES_EXPECTED\n"
      ]
    },
    {
      "cell_type": "markdown",
      "metadata": {
        "id": "Je5p-3eH4keF"
      },
      "source": [
        "## Setup"
      ]
    },
    {
      "cell_type": "code",
      "metadata": {
        "id": "njNtW-Qj4C5W"
      },
      "source": [
        "# Library\n",
        "library(ggplot2)\n",
        "library(tidyverse)\n",
        "#install.packages(\"readxl\")\n",
        "library(readxl)"
      ],
      "execution_count": 101,
      "outputs": []
    },
    {
      "cell_type": "code",
      "metadata": {
        "id": "VwTgmRBK3Zmi"
      },
      "source": [
        "# conditional install - Janitor\n",
        "list.of.packages <- c(\"janitor\")\n",
        "new.packages <- list.of.packages[!(list.of.packages %in% installed.packages()[,\"Package\"])]\n",
        "if(length(new.packages)) install.packages(new.packages)\n",
        "\n",
        "library(janitor)"
      ],
      "execution_count": 102,
      "outputs": []
    },
    {
      "cell_type": "markdown",
      "metadata": {
        "id": "AK0PyRTNBVLt"
      },
      "source": [
        "Library to read in XLSX Data\n",
        "\n",
        "OpenXLSX (Good, works)"
      ]
    },
    {
      "cell_type": "code",
      "metadata": {
        "id": "BoLExd2j-VGL"
      },
      "source": [
        "# conditional install - openxlsx\n",
        "\n",
        "list.of.packages <- c(\"openxlsx\")\n",
        "new.packages <- list.of.packages[!(list.of.packages %in% installed.packages()[,\"Package\"])]\n",
        "if(length(new.packages)) install.packages(new.packages)\n",
        "\n",
        "library(openxlsx)"
      ],
      "execution_count": 103,
      "outputs": []
    },
    {
      "cell_type": "code",
      "metadata": {
        "id": "Mx0MPSSqgsI1"
      },
      "source": [
        "# explore later\n",
        "# https://slcladal.github.io/surveys.html\n",
        "\n",
        "# install libraries\n",
        "#install.packages(c(\"knitr\", \"lattice\", \"tidyverse\", \"likert\", \n",
        "#                   \"MASS\", \"psych\", \"viridis\", \"ggplot2\", \n",
        "#                   \"userfriendlyscience\"))"
      ],
      "execution_count": 104,
      "outputs": []
    },
    {
      "cell_type": "markdown",
      "metadata": {
        "id": "o4CddV1NlU7X"
      },
      "source": [
        "Explore later:\n",
        "http://gdfe.co/srvyr/articles/srvyr-vs-survey.html"
      ]
    },
    {
      "cell_type": "code",
      "metadata": {
        "id": "eke40idlS8F8"
      },
      "source": [
        "#install.packages('devtools')\n",
        "\n",
        "\n",
        "list.of.packages <- c(\"devtools\")\n",
        "new.packages <- list.of.packages[!(list.of.packages %in% installed.packages()[,\"Package\"])]\n",
        "if(length(new.packages)) install.packages(new.packages)\n",
        "\n",
        "library(devtools)"
      ],
      "execution_count": 105,
      "outputs": []
    },
    {
      "cell_type": "markdown",
      "metadata": {
        "id": "QZvJNR9QTcdY"
      },
      "source": [
        "For Multi-Response Analysis\n",
        "\n",
        "https://github.com/dgrtwo/stacksurveyr"
      ]
    },
    {
      "cell_type": "markdown",
      "metadata": {
        "id": "8drHIPzVLgew"
      },
      "source": [
        "# Setting Input Files"
      ]
    },
    {
      "cell_type": "code",
      "metadata": {
        "id": "e3dG9JA8LjKK"
      },
      "source": [
        "## With POS File\n",
        "\n",
        "with_pos_file = '/content/SurveyData-withPOS-2021-05-11_08_54.xlsx'"
      ],
      "execution_count": 106,
      "outputs": []
    },
    {
      "cell_type": "code",
      "metadata": {
        "id": "DNk6vxBsLloy"
      },
      "source": [
        "## Without POS File\n",
        "\n",
        "#input_file_2 = '/content/Without - Survey Summary Report_ 20201113.xlsx'\n",
        "#without_pos_file = '/content/SurveyData-withoutPOS-2021May10.xlsx'"
      ],
      "execution_count": 107,
      "outputs": []
    },
    {
      "cell_type": "markdown",
      "metadata": {
        "id": "B_k1vnSQJrGi"
      },
      "source": [
        "# Input Data"
      ]
    },
    {
      "cell_type": "code",
      "metadata": {
        "id": "E9ZMZ_vR4jwD"
      },
      "source": [
        "# reading in input File\n",
        "\n",
        "df_with = read_xlsx(with_pos_file, sheet=1)\n",
        "\n",
        "#df_without = read_xlsx(without_pos_file, sheet=1)"
      ],
      "execution_count": 108,
      "outputs": []
    },
    {
      "cell_type": "code",
      "metadata": {
        "id": "k3-yLoNj41Bk",
        "colab": {
          "base_uri": "https://localhost:8080/"
        },
        "outputId": "5e745622-6b7f-453e-d34b-3d6333d5d5a7"
      },
      "source": [
        "# printing DF\n",
        "print(as_tibble(df_with))"
      ],
      "execution_count": 109,
      "outputs": [
        {
          "output_type": "stream",
          "text": [
            "\u001b[90m# A tibble: 1,210 x 24\u001b[39m\n",
            "   ORG_CITY  ORG_POS_BUSINES… ORG_INTERNET_AC… ORG_EXPAND_BUSI… ORG_DELIVERY_SE…\n",
            "   \u001b[3m\u001b[90m<chr>\u001b[39m\u001b[23m     \u001b[3m\u001b[90m<chr>\u001b[39m\u001b[23m            \u001b[3m\u001b[90m<chr>\u001b[39m\u001b[23m            \u001b[3m\u001b[90m<chr>\u001b[39m\u001b[23m            \u001b[3m\u001b[90m<chr>\u001b[39m\u001b[23m           \n",
            "\u001b[90m 1\u001b[39m Rawalpin… Yes              None             No               No              \n",
            "\u001b[90m 2\u001b[39m Islamabad Yes              Mobile           Y:short-term     Thinking about …\n",
            "\u001b[90m 3\u001b[39m Islamabad Yes              Mobile           Y:immediately    Yes             \n",
            "\u001b[90m 4\u001b[39m Islamabad Yes              None             Y:long-term      No              \n",
            "\u001b[90m 5\u001b[39m Islamabad Yes              Mobile           Y:immediately    No              \n",
            "\u001b[90m 6\u001b[39m Islamabad Yes              Mobile           Y:immediately    No              \n",
            "\u001b[90m 7\u001b[39m Islamabad Yes              Mobile           Y:long-term      No              \n",
            "\u001b[90m 8\u001b[39m Islamabad Yes              Mobile           Y:long-term      No              \n",
            "\u001b[90m 9\u001b[39m Islamabad Yes              Dedicated        No               No              \n",
            "\u001b[90m10\u001b[39m Islamabad Yes              Dedicated        Y:immediately    Yes             \n",
            "\u001b[90m# … with 1,200 more rows, and 19 more variables: ORG_CUSTOMER_DATA <chr>,\u001b[39m\n",
            "\u001b[90m#   ORG_EMP_COUNT <chr>, ORG_INTERNET_DISRUPTION <chr>,\u001b[39m\n",
            "\u001b[90m#   ORG_NEW_POS_PAYMENT_PREF <chr>, ORG_NEW_POS_LANG_PREF <chr>,\u001b[39m\n",
            "\u001b[90m#   ORG_OUTLETS_COUNT <chr>, ORG_NEW_POS_KIND <chr>,\u001b[39m\n",
            "\u001b[90m#   ORG_WILLINGNESS_TO_PAY_AMOUNT <chr>, RESP_DESIGNATION <chr>,\u001b[39m\n",
            "\u001b[90m#   ORG_POS_FEATURES <chr>, ORG_NEW_POS_DEVICES <chr>, ORG_TYPE <chr>,\u001b[39m\n",
            "\u001b[90m#   ORG_CURRENT_PAYMENT_OPTIONS <chr>, ORG_DISCOUNTS_OFFERED <chr>,\u001b[39m\n",
            "\u001b[90m#   ORG_URDU_FEATURES_EXPECTED <chr>, ORG_REASON_TO_GET_POS <chr>,\u001b[39m\n",
            "\u001b[90m#   ORG_REASON_TO_NOT_HAVE_POS <chr>, ORG_WILLINGNESS_DEMO <chr>,\u001b[39m\n",
            "\u001b[90m#   ORG_WILLINGNESS_FUTURE_CONTACT <chr>\u001b[39m\n"
          ],
          "name": "stdout"
        }
      ]
    },
    {
      "cell_type": "code",
      "metadata": {
        "id": "60xEIgpi5KWK",
        "colab": {
          "base_uri": "https://localhost:8080/"
        },
        "outputId": "d776a9e7-e915-48a7-8072-c9ac8bf9ea60"
      },
      "source": [
        "## inspect the data\n",
        "str(df_with)"
      ],
      "execution_count": 110,
      "outputs": [
        {
          "output_type": "stream",
          "text": [
            "tibble[,24] [1,210 × 24] (S3: tbl_df/tbl/data.frame)\n",
            " $ ORG_CITY                      : chr [1:1210] \"Rawalpindi\" \"Islamabad\" \"Islamabad\" \"Islamabad\" ...\n",
            " $ ORG_POS_BUSINESS_IMPROVEMENT  : chr [1:1210] \"Yes\" \"Yes\" \"Yes\" \"Yes\" ...\n",
            " $ ORG_INTERNET_ACCESS           : chr [1:1210] \"None\" \"Mobile\" \"Mobile\" \"None\" ...\n",
            " $ ORG_EXPAND_BUSINESS           : chr [1:1210] \"No\" \"Y:short-term\" \"Y:immediately\" \"Y:long-term\" ...\n",
            " $ ORG_DELIVERY_SERVICE          : chr [1:1210] \"No\" \"Thinking about it\" \"Yes\" \"No\" ...\n",
            " $ ORG_CUSTOMER_DATA             : chr [1:1210] \"Do not Store\" \"Do not Store, Use for discounts (repeated purchases)\" \"Use for discounts (repeated purchases)\" \"Use for delivery (sending ordered items), Use for discounts (repeated purchases)\" ...\n",
            " $ ORG_EMP_COUNT                 : chr [1:1210] \"2\" \"3\" \"2\" \"1\" ...\n",
            " $ ORG_INTERNET_DISRUPTION       : chr [1:1210] \"Never\" \"Little\" \"Never\" \"Never\" ...\n",
            " $ ORG_NEW_POS_PAYMENT_PREF      : chr [1:1210] \"One-Time\" \"Recurring:12M\" \"Recurring:1M\" \"Recurring:3M\" ...\n",
            " $ ORG_NEW_POS_LANG_PREF         : chr [1:1210] \"English and Urdu\" \"English and Urdu\" \"English\" \"English and Urdu\" ...\n",
            " $ ORG_OUTLETS_COUNT             : chr [1:1210] \"1\" \"1\" \"1\" \"1\" ...\n",
            " $ ORG_NEW_POS_KIND              : chr [1:1210] \"Stand-Alone\" \"Stand-Alone\" \"Web-Based\" \"Stand-Alone\" ...\n",
            " $ ORG_WILLINGNESS_TO_PAY_AMOUNT : chr [1:1210] \"1K\" \"10K\" \"1K\" \"1K\" ...\n",
            " $ RESP_DESIGNATION              : chr [1:1210] \"Owner\" \"Owner\" \"Owner\" \"Ower\" ...\n",
            " $ ORG_POS_FEATURES              : chr [1:1210] \"Remote Management/Centralized Management (Manage your business remotely), Reports (Get sales and other insights\"| __truncated__ \"Cash Reconciliation (Balance daily sales and returns for cash and credit)\" \"Cash Reconciliation (Balance daily sales and returns for cash and credit), Remote Management/Centralized Manage\"| __truncated__ \"Cash Reconciliation (Balance daily sales and returns for cash and credit)\" ...\n",
            " $ ORG_NEW_POS_DEVICES           : chr [1:1210] \"Mobile Phone\" \"Mobile Phone, PC\" \"Laptop, Mobile Phone, PC, Tablet\" \"Laptop, PC, Tablet\" ...\n",
            " $ ORG_TYPE                      : chr [1:1210] \"Clothing items\" \"Clothing items\" \"Hardware / Paints\" \"Groceries\" ...\n",
            " $ ORG_CURRENT_PAYMENT_OPTIONS   : chr [1:1210] \"Cash\" \"Cash\" \"Cash\" \"Cash\" ...\n",
            " $ ORG_DISCOUNTS_OFFERED         : chr [1:1210] \"Customer Discount (Based on customer relationship)\" \"Customer Discount (Based on customer relationship), Product Discount (Lower price than market)\" \"Bulk Discount (Based on bill amount), Customer Discount (Based on customer relationship)\" \"Customer Discount (Based on customer relationship), Product Discount (Lower price than market)\" ...\n",
            " $ ORG_URDU_FEATURES_EXPECTED    : chr [1:1210] \"Others (Please specify) (Everything in both languages )\" \"Display Screen, Slips or Receipts\" \"Display Screen, Slips or Receipts\" \"Display Screen, Slips or Receipts\" ...\n",
            " $ ORG_REASON_TO_GET_POS         : chr [1:1210] \"Other (Please specify) (Customer Data, daily sales report)\" \"Features, Price\" \"Customization (as per your needs), Features, Price\" \"Customization (as per your needs), Price\" ...\n",
            " $ ORG_REASON_TO_NOT_HAVE_POS    : chr [1:1210] \"I am happy with how my business is managed currently\" \"I am happy with how my business is managed currently\" \"I am happy with how my business is managed currently\" \"I am happy with how my business is managed currently\" ...\n",
            " $ ORG_WILLINGNESS_DEMO          : chr [1:1210] \"No\" \"Yes\" \"Yes\" \"No\" ...\n",
            " $ ORG_WILLINGNESS_FUTURE_CONTACT: chr [1:1210] \"Yes\" \"Yes\" \"Yes\" \"Yes\" ...\n"
          ],
          "name": "stdout"
        }
      ]
    },
    {
      "cell_type": "markdown",
      "metadata": {
        "id": "BECGOIxBNEUv"
      },
      "source": [
        "Remove non-useful columns\n"
      ]
    },
    {
      "cell_type": "code",
      "metadata": {
        "id": "mpJ1j9HZ-lzS"
      },
      "source": [
        "# remove non-useful columns\n",
        "df_with %>% select(!starts_with(\"SB\")) -> df_with_1\n",
        "\n",
        "#df_with_1 %>% select(!c(date, ORG_PICTURE_LINK,ORG_VISITING_CARD, RESP_NAME , RESP_PHONE )) -> df_with_1\n",
        "\n"
      ],
      "execution_count": 111,
      "outputs": []
    },
    {
      "cell_type": "markdown",
      "metadata": {
        "id": "cMbztPqKMdZD"
      },
      "source": [
        "Converting all character to factors"
      ]
    },
    {
      "cell_type": "code",
      "metadata": {
        "id": "8zEzlqr4MhNl"
      },
      "source": [
        "df_with_2 <- df_with_1 %>% mutate_if(is.character,as.factor)"
      ],
      "execution_count": 112,
      "outputs": []
    },
    {
      "cell_type": "code",
      "metadata": {
        "colab": {
          "base_uri": "https://localhost:8080/"
        },
        "id": "2ezBy6SLACyD",
        "outputId": "cdcc0bab-74ec-4bb5-816a-cb1f5b626c9e"
      },
      "source": [
        "df_with_2 %>% glimpse()"
      ],
      "execution_count": 113,
      "outputs": [
        {
          "output_type": "stream",
          "text": [
            "Rows: 1,210\n",
            "Columns: 24\n",
            "$ ORG_CITY                       \u001b[3m\u001b[90m<fct>\u001b[39m\u001b[23m Rawalpindi, Islamabad, Islamabad, Islam…\n",
            "$ ORG_POS_BUSINESS_IMPROVEMENT   \u001b[3m\u001b[90m<fct>\u001b[39m\u001b[23m Yes, Yes, Yes, Yes, Yes, Yes, Yes, Yes,…\n",
            "$ ORG_INTERNET_ACCESS            \u001b[3m\u001b[90m<fct>\u001b[39m\u001b[23m None, Mobile, Mobile, None, Mobile, Mob…\n",
            "$ ORG_EXPAND_BUSINESS            \u001b[3m\u001b[90m<fct>\u001b[39m\u001b[23m No, Y:short-term, Y:immediately, Y:long…\n",
            "$ ORG_DELIVERY_SERVICE           \u001b[3m\u001b[90m<fct>\u001b[39m\u001b[23m No, Thinking about it, Yes, No, No, No,…\n",
            "$ ORG_CUSTOMER_DATA              \u001b[3m\u001b[90m<fct>\u001b[39m\u001b[23m \"Do not Store\", \"Do not Store, Use for …\n",
            "$ ORG_EMP_COUNT                  \u001b[3m\u001b[90m<fct>\u001b[39m\u001b[23m 2, 3, 2, 1, 1, 2, 1, 1, 1, 1, 2, 3, 2, …\n",
            "$ ORG_INTERNET_DISRUPTION        \u001b[3m\u001b[90m<fct>\u001b[39m\u001b[23m Never, Little, Never, Never, Little, Li…\n",
            "$ ORG_NEW_POS_PAYMENT_PREF       \u001b[3m\u001b[90m<fct>\u001b[39m\u001b[23m One-Time, Recurring:12M, Recurring:1M, …\n",
            "$ ORG_NEW_POS_LANG_PREF          \u001b[3m\u001b[90m<fct>\u001b[39m\u001b[23m English and Urdu, English and Urdu, Eng…\n",
            "$ ORG_OUTLETS_COUNT              \u001b[3m\u001b[90m<fct>\u001b[39m\u001b[23m 1, 1, 1, 1, 1, 1, 1, 1, 1, 2, 1, 1, 1, …\n",
            "$ ORG_NEW_POS_KIND               \u001b[3m\u001b[90m<fct>\u001b[39m\u001b[23m Stand-Alone, Stand-Alone, Web-Based, St…\n",
            "$ ORG_WILLINGNESS_TO_PAY_AMOUNT  \u001b[3m\u001b[90m<fct>\u001b[39m\u001b[23m 1K, 10K, 1K, 1K, 1K, <1K, 1K, 1K, No AN…\n",
            "$ RESP_DESIGNATION               \u001b[3m\u001b[90m<fct>\u001b[39m\u001b[23m Owner, Owner, Owner, Ower, Owner, Owner…\n",
            "$ ORG_POS_FEATURES               \u001b[3m\u001b[90m<fct>\u001b[39m\u001b[23m \"Remote Management/Centralized Manageme…\n",
            "$ ORG_NEW_POS_DEVICES            \u001b[3m\u001b[90m<fct>\u001b[39m\u001b[23m \"Mobile Phone\", \"Mobile Phone, PC\", \"La…\n",
            "$ ORG_TYPE                       \u001b[3m\u001b[90m<fct>\u001b[39m\u001b[23m \"Clothing items\", \"Clothing items\", \"Ha…\n",
            "$ ORG_CURRENT_PAYMENT_OPTIONS    \u001b[3m\u001b[90m<fct>\u001b[39m\u001b[23m \"Cash\", \"Cash\", \"Cash\", \"Cash\", \"Cash\",…\n",
            "$ ORG_DISCOUNTS_OFFERED          \u001b[3m\u001b[90m<fct>\u001b[39m\u001b[23m \"Customer Discount (Based on customer r…\n",
            "$ ORG_URDU_FEATURES_EXPECTED     \u001b[3m\u001b[90m<fct>\u001b[39m\u001b[23m \"Others (Please specify) (Everything in…\n",
            "$ ORG_REASON_TO_GET_POS          \u001b[3m\u001b[90m<fct>\u001b[39m\u001b[23m \"Other (Please specify) (Customer Data,…\n",
            "$ ORG_REASON_TO_NOT_HAVE_POS     \u001b[3m\u001b[90m<fct>\u001b[39m\u001b[23m \"I am happy with how my business is man…\n",
            "$ ORG_WILLINGNESS_DEMO           \u001b[3m\u001b[90m<fct>\u001b[39m\u001b[23m \"No\", \"Yes\", \"Yes\", \"No\", \"No\", \"Yes\", …\n",
            "$ ORG_WILLINGNESS_FUTURE_CONTACT \u001b[3m\u001b[90m<fct>\u001b[39m\u001b[23m \"Yes\", \"Yes\", \"Yes\", \"Yes\", \"Yes\", \"Yes…\n"
          ],
          "name": "stdout"
        }
      ]
    },
    {
      "cell_type": "markdown",
      "metadata": {
        "id": "bMYzieXM86WU"
      },
      "source": [
        "## Multiple Choice Answers"
      ]
    },
    {
      "cell_type": "markdown",
      "metadata": {
        "id": "oJ9-w33LNgIP"
      },
      "source": [
        "Fancy Frequency Tables\n",
        "\n",
        "https://cran.r-project.org/web/packages/janitor/vignettes/tabyls.html"
      ]
    },
    {
      "cell_type": "markdown",
      "metadata": {
        "id": "zATdwnXENnbX"
      },
      "source": [
        "Collapsing Categories or Values\n",
        "\n",
        "https://r4ds.had.co.nz/factors.html"
      ]
    },
    {
      "cell_type": "markdown",
      "metadata": {
        "id": "fVasTkaaOUwc"
      },
      "source": [
        "1. Fixing Garbage Values\n",
        "\n",
        "##### 1.1. ORG_POS_BUSINESS_IMPROVEMENT"
      ]
    },
    {
      "cell_type": "markdown",
      "metadata": {
        "id": "l_deQwyRNWZn"
      },
      "source": [
        "Fixed Previosuly - Nothing to be done here"
      ]
    },
    {
      "cell_type": "code",
      "metadata": {
        "colab": {
          "base_uri": "https://localhost:8080/",
          "height": 158
        },
        "id": "paFyh5BvBibb",
        "outputId": "0637ed22-e750-4063-95e9-42b28c07a256"
      },
      "source": [
        "df_with_2 %>% tabyl(ORG_POS_BUSINESS_IMPROVEMENT)"
      ],
      "execution_count": 114,
      "outputs": [
        {
          "output_type": "display_data",
          "data": {
            "text/plain": [
              "  ORG_POS_BUSINESS_IMPROVEMENT n   percent  \n",
              "1 No                           843 0.6966942\n",
              "2 Yes                          367 0.3033058"
            ],
            "text/latex": "A tabyl: 2 × 3\n\\begin{tabular}{lll}\n ORG\\_POS\\_BUSINESS\\_IMPROVEMENT & n & percent\\\\\n <fct> & <dbl> & <dbl>\\\\\n\\hline\n\t No  & 843 & 0.6966942\\\\\n\t Yes & 367 & 0.3033058\\\\\n\\end{tabular}\n",
            "text/markdown": "\nA tabyl: 2 × 3\n\n| ORG_POS_BUSINESS_IMPROVEMENT &lt;fct&gt; | n &lt;dbl&gt; | percent &lt;dbl&gt; |\n|---|---|---|\n| No  | 843 | 0.6966942 |\n| Yes | 367 | 0.3033058 |\n\n",
            "text/html": [
              "<table class=\"dataframe\">\n",
              "<caption>A tabyl: 2 × 3</caption>\n",
              "<thead>\n",
              "\t<tr><th scope=col>ORG_POS_BUSINESS_IMPROVEMENT</th><th scope=col>n</th><th scope=col>percent</th></tr>\n",
              "\t<tr><th scope=col>&lt;fct&gt;</th><th scope=col>&lt;dbl&gt;</th><th scope=col>&lt;dbl&gt;</th></tr>\n",
              "</thead>\n",
              "<tbody>\n",
              "\t<tr><td>No </td><td>843</td><td>0.6966942</td></tr>\n",
              "\t<tr><td>Yes</td><td>367</td><td>0.3033058</td></tr>\n",
              "</tbody>\n",
              "</table>\n"
            ]
          },
          "metadata": {
            "tags": []
          }
        }
      ]
    },
    {
      "cell_type": "markdown",
      "metadata": {
        "id": "aptt_q-5OkcE"
      },
      "source": [
        "##### 1.2  ORG_INTERNET_ACCESS"
      ]
    },
    {
      "cell_type": "markdown",
      "metadata": {
        "id": "6qrOU-51N2IW"
      },
      "source": [
        "Fixed - Nothing to be done here"
      ]
    },
    {
      "cell_type": "code",
      "metadata": {
        "colab": {
          "base_uri": "https://localhost:8080/",
          "height": 189
        },
        "id": "Pf8rqswtMt3x",
        "outputId": "b55146e7-7465-473e-9152-3413b752ab5d"
      },
      "source": [
        "tabyl(df_with_2$ORG_INTERNET_ACCESS)"
      ],
      "execution_count": 115,
      "outputs": [
        {
          "output_type": "display_data",
          "data": {
            "text/plain": [
              "  df_with_2$ORG_INTERNET_ACCESS n   percent  \n",
              "1 Dedicated                     267 0.2206612\n",
              "2 Mobile                        594 0.4909091\n",
              "3 None                          349 0.2884298"
            ],
            "text/latex": "A tabyl: 3 × 3\n\\begin{tabular}{lll}\n df\\_with\\_2\\$ORG\\_INTERNET\\_ACCESS & n & percent\\\\\n <fct> & <dbl> & <dbl>\\\\\n\\hline\n\t Dedicated & 267 & 0.2206612\\\\\n\t Mobile    & 594 & 0.4909091\\\\\n\t None      & 349 & 0.2884298\\\\\n\\end{tabular}\n",
            "text/markdown": "\nA tabyl: 3 × 3\n\n| df_with_2$ORG_INTERNET_ACCESS &lt;fct&gt; | n &lt;dbl&gt; | percent &lt;dbl&gt; |\n|---|---|---|\n| Dedicated | 267 | 0.2206612 |\n| Mobile    | 594 | 0.4909091 |\n| None      | 349 | 0.2884298 |\n\n",
            "text/html": [
              "<table class=\"dataframe\">\n",
              "<caption>A tabyl: 3 × 3</caption>\n",
              "<thead>\n",
              "\t<tr><th scope=col>df_with_2$ORG_INTERNET_ACCESS</th><th scope=col>n</th><th scope=col>percent</th></tr>\n",
              "\t<tr><th scope=col>&lt;fct&gt;</th><th scope=col>&lt;dbl&gt;</th><th scope=col>&lt;dbl&gt;</th></tr>\n",
              "</thead>\n",
              "<tbody>\n",
              "\t<tr><td>Dedicated</td><td>267</td><td>0.2206612</td></tr>\n",
              "\t<tr><td>Mobile   </td><td>594</td><td>0.4909091</td></tr>\n",
              "\t<tr><td>None     </td><td>349</td><td>0.2884298</td></tr>\n",
              "</tbody>\n",
              "</table>\n"
            ]
          },
          "metadata": {
            "tags": []
          }
        }
      ]
    },
    {
      "cell_type": "markdown",
      "metadata": {
        "id": "ERwN5utBQ2qi"
      },
      "source": [
        "Reordering the factor levels"
      ]
    },
    {
      "cell_type": "code",
      "metadata": {
        "colab": {
          "base_uri": "https://localhost:8080/",
          "height": 34
        },
        "id": "j7QiutKnRCg0",
        "outputId": "c8ba6f58-cd5a-4cb7-df9b-05981f430d9a"
      },
      "source": [
        "levels(df_with_2$ORG_INTERNET_ACCESS)"
      ],
      "execution_count": 116,
      "outputs": [
        {
          "output_type": "display_data",
          "data": {
            "text/plain": [
              "[1] \"Dedicated\" \"Mobile\"    \"None\"     "
            ],
            "text/latex": "\\begin{enumerate*}\n\\item 'Dedicated'\n\\item 'Mobile'\n\\item 'None'\n\\end{enumerate*}\n",
            "text/markdown": "1. 'Dedicated'\n2. 'Mobile'\n3. 'None'\n\n\n",
            "text/html": [
              "<style>\n",
              ".list-inline {list-style: none; margin:0; padding: 0}\n",
              ".list-inline>li {display: inline-block}\n",
              ".list-inline>li:not(:last-child)::after {content: \"\\00b7\"; padding: 0 .5ex}\n",
              "</style>\n",
              "<ol class=list-inline><li>'Dedicated'</li><li>'Mobile'</li><li>'None'</li></ol>\n"
            ]
          },
          "metadata": {
            "tags": []
          }
        }
      ]
    },
    {
      "cell_type": "code",
      "metadata": {
        "id": "7hYTTyMdQ0AC"
      },
      "source": [
        "df_with_2 <- df_with_2 %>%\n",
        "mutate(ORG_INTERNET_ACCESS = \n",
        "fct_relevel(ORG_INTERNET_ACCESS, c('None','Mobile','Dedicated')))"
      ],
      "execution_count": 117,
      "outputs": []
    },
    {
      "cell_type": "code",
      "metadata": {
        "colab": {
          "base_uri": "https://localhost:8080/",
          "height": 189
        },
        "id": "kQnFRDLtRg9S",
        "outputId": "a00fd652-6f10-409d-9e6c-71856a3939f5"
      },
      "source": [
        "tabyl(df_with_2$ORG_INTERNET_ACCESS)"
      ],
      "execution_count": 118,
      "outputs": [
        {
          "output_type": "display_data",
          "data": {
            "text/plain": [
              "  df_with_2$ORG_INTERNET_ACCESS n   percent  \n",
              "1 None                          349 0.2884298\n",
              "2 Mobile                        594 0.4909091\n",
              "3 Dedicated                     267 0.2206612"
            ],
            "text/latex": "A tabyl: 3 × 3\n\\begin{tabular}{lll}\n df\\_with\\_2\\$ORG\\_INTERNET\\_ACCESS & n & percent\\\\\n <fct> & <dbl> & <dbl>\\\\\n\\hline\n\t None      & 349 & 0.2884298\\\\\n\t Mobile    & 594 & 0.4909091\\\\\n\t Dedicated & 267 & 0.2206612\\\\\n\\end{tabular}\n",
            "text/markdown": "\nA tabyl: 3 × 3\n\n| df_with_2$ORG_INTERNET_ACCESS &lt;fct&gt; | n &lt;dbl&gt; | percent &lt;dbl&gt; |\n|---|---|---|\n| None      | 349 | 0.2884298 |\n| Mobile    | 594 | 0.4909091 |\n| Dedicated | 267 | 0.2206612 |\n\n",
            "text/html": [
              "<table class=\"dataframe\">\n",
              "<caption>A tabyl: 3 × 3</caption>\n",
              "<thead>\n",
              "\t<tr><th scope=col>df_with_2$ORG_INTERNET_ACCESS</th><th scope=col>n</th><th scope=col>percent</th></tr>\n",
              "\t<tr><th scope=col>&lt;fct&gt;</th><th scope=col>&lt;dbl&gt;</th><th scope=col>&lt;dbl&gt;</th></tr>\n",
              "</thead>\n",
              "<tbody>\n",
              "\t<tr><td>None     </td><td>349</td><td>0.2884298</td></tr>\n",
              "\t<tr><td>Mobile   </td><td>594</td><td>0.4909091</td></tr>\n",
              "\t<tr><td>Dedicated</td><td>267</td><td>0.2206612</td></tr>\n",
              "</tbody>\n",
              "</table>\n"
            ]
          },
          "metadata": {
            "tags": []
          }
        }
      ]
    },
    {
      "cell_type": "markdown",
      "metadata": {
        "id": "plDlPp3iPXCW"
      },
      "source": [
        "##### 1.3 ORG_EXPAND_BUSINESS  "
      ]
    },
    {
      "cell_type": "markdown",
      "metadata": {
        "id": "Hknh_eEzOK0g"
      },
      "source": [
        "Fixed - Nothing to be done here"
      ]
    },
    {
      "cell_type": "code",
      "metadata": {
        "colab": {
          "base_uri": "https://localhost:8080/",
          "height": 220
        },
        "id": "M5Er9xlOPmlC",
        "outputId": "7a7ab691-b084-4b9f-e91e-b74ab3f0aa2e"
      },
      "source": [
        "tabyl(df_with_2$ORG_EXPAND_BUSINESS)"
      ],
      "execution_count": 119,
      "outputs": [
        {
          "output_type": "display_data",
          "data": {
            "text/plain": [
              "  df_with_2$ORG_EXPAND_BUSINESS n   percent   \n",
              "1 No                            655 0.54132231\n",
              "2 Y:immediately                 218 0.18016529\n",
              "3 Y:long-term                   290 0.23966942\n",
              "4 Y:short-term                   47 0.03884298"
            ],
            "text/latex": "A tabyl: 4 × 3\n\\begin{tabular}{lll}\n df\\_with\\_2\\$ORG\\_EXPAND\\_BUSINESS & n & percent\\\\\n <fct> & <dbl> & <dbl>\\\\\n\\hline\n\t No            & 655 & 0.54132231\\\\\n\t Y:immediately & 218 & 0.18016529\\\\\n\t Y:long-term   & 290 & 0.23966942\\\\\n\t Y:short-term  &  47 & 0.03884298\\\\\n\\end{tabular}\n",
            "text/markdown": "\nA tabyl: 4 × 3\n\n| df_with_2$ORG_EXPAND_BUSINESS &lt;fct&gt; | n &lt;dbl&gt; | percent &lt;dbl&gt; |\n|---|---|---|\n| No            | 655 | 0.54132231 |\n| Y:immediately | 218 | 0.18016529 |\n| Y:long-term   | 290 | 0.23966942 |\n| Y:short-term  |  47 | 0.03884298 |\n\n",
            "text/html": [
              "<table class=\"dataframe\">\n",
              "<caption>A tabyl: 4 × 3</caption>\n",
              "<thead>\n",
              "\t<tr><th scope=col>df_with_2$ORG_EXPAND_BUSINESS</th><th scope=col>n</th><th scope=col>percent</th></tr>\n",
              "\t<tr><th scope=col>&lt;fct&gt;</th><th scope=col>&lt;dbl&gt;</th><th scope=col>&lt;dbl&gt;</th></tr>\n",
              "</thead>\n",
              "<tbody>\n",
              "\t<tr><td>No           </td><td>655</td><td>0.54132231</td></tr>\n",
              "\t<tr><td>Y:immediately</td><td>218</td><td>0.18016529</td></tr>\n",
              "\t<tr><td>Y:long-term  </td><td>290</td><td>0.23966942</td></tr>\n",
              "\t<tr><td>Y:short-term </td><td> 47</td><td>0.03884298</td></tr>\n",
              "</tbody>\n",
              "</table>\n"
            ]
          },
          "metadata": {
            "tags": []
          }
        }
      ]
    },
    {
      "cell_type": "code",
      "metadata": {
        "colab": {
          "base_uri": "https://localhost:8080/",
          "height": 34
        },
        "id": "f_J4RR5zPnww",
        "outputId": "ac7fd9a7-ce12-4f4f-addf-b8d2caf72176"
      },
      "source": [
        "levels(df_with_2$ORG_EXPAND_BUSINESS)"
      ],
      "execution_count": 120,
      "outputs": [
        {
          "output_type": "display_data",
          "data": {
            "text/plain": [
              "[1] \"No\"            \"Y:immediately\" \"Y:long-term\"   \"Y:short-term\" "
            ],
            "text/latex": "\\begin{enumerate*}\n\\item 'No'\n\\item 'Y:immediately'\n\\item 'Y:long-term'\n\\item 'Y:short-term'\n\\end{enumerate*}\n",
            "text/markdown": "1. 'No'\n2. 'Y:immediately'\n3. 'Y:long-term'\n4. 'Y:short-term'\n\n\n",
            "text/html": [
              "<style>\n",
              ".list-inline {list-style: none; margin:0; padding: 0}\n",
              ".list-inline>li {display: inline-block}\n",
              ".list-inline>li:not(:last-child)::after {content: \"\\00b7\"; padding: 0 .5ex}\n",
              "</style>\n",
              "<ol class=list-inline><li>'No'</li><li>'Y:immediately'</li><li>'Y:long-term'</li><li>'Y:short-term'</li></ol>\n"
            ]
          },
          "metadata": {
            "tags": []
          }
        }
      ]
    },
    {
      "cell_type": "markdown",
      "metadata": {
        "id": "7QoVJZHrPMla"
      },
      "source": [
        "fct_relevel(.f, ..., afer = 0L)\n",
        "Manually reorder factor levels.\n",
        "fct_relevel(f, c(\"b\", \"c\", \"a\")) "
      ]
    },
    {
      "cell_type": "code",
      "metadata": {
        "id": "nVRdiY62PODM"
      },
      "source": [
        "df_with_2  <- df_with_2 %>%\n",
        "mutate (ORG_EXPAND_BUSINESS = fct_relevel(ORG_EXPAND_BUSINESS, \n",
        "c('No','Y:immediately','Y:short-term','Y:long-term')))"
      ],
      "execution_count": 121,
      "outputs": []
    },
    {
      "cell_type": "code",
      "metadata": {
        "colab": {
          "base_uri": "https://localhost:8080/",
          "height": 220
        },
        "id": "4gcQVlq2P5eV",
        "outputId": "189de992-b049-4fc1-e532-91f79001f14a"
      },
      "source": [
        "tabyl(df_with_2$ORG_EXPAND_BUSINESS)"
      ],
      "execution_count": 122,
      "outputs": [
        {
          "output_type": "display_data",
          "data": {
            "text/plain": [
              "  df_with_2$ORG_EXPAND_BUSINESS n   percent   \n",
              "1 No                            655 0.54132231\n",
              "2 Y:immediately                 218 0.18016529\n",
              "3 Y:short-term                   47 0.03884298\n",
              "4 Y:long-term                   290 0.23966942"
            ],
            "text/latex": "A tabyl: 4 × 3\n\\begin{tabular}{lll}\n df\\_with\\_2\\$ORG\\_EXPAND\\_BUSINESS & n & percent\\\\\n <fct> & <dbl> & <dbl>\\\\\n\\hline\n\t No            & 655 & 0.54132231\\\\\n\t Y:immediately & 218 & 0.18016529\\\\\n\t Y:short-term  &  47 & 0.03884298\\\\\n\t Y:long-term   & 290 & 0.23966942\\\\\n\\end{tabular}\n",
            "text/markdown": "\nA tabyl: 4 × 3\n\n| df_with_2$ORG_EXPAND_BUSINESS &lt;fct&gt; | n &lt;dbl&gt; | percent &lt;dbl&gt; |\n|---|---|---|\n| No            | 655 | 0.54132231 |\n| Y:immediately | 218 | 0.18016529 |\n| Y:short-term  |  47 | 0.03884298 |\n| Y:long-term   | 290 | 0.23966942 |\n\n",
            "text/html": [
              "<table class=\"dataframe\">\n",
              "<caption>A tabyl: 4 × 3</caption>\n",
              "<thead>\n",
              "\t<tr><th scope=col>df_with_2$ORG_EXPAND_BUSINESS</th><th scope=col>n</th><th scope=col>percent</th></tr>\n",
              "\t<tr><th scope=col>&lt;fct&gt;</th><th scope=col>&lt;dbl&gt;</th><th scope=col>&lt;dbl&gt;</th></tr>\n",
              "</thead>\n",
              "<tbody>\n",
              "\t<tr><td>No           </td><td>655</td><td>0.54132231</td></tr>\n",
              "\t<tr><td>Y:immediately</td><td>218</td><td>0.18016529</td></tr>\n",
              "\t<tr><td>Y:short-term </td><td> 47</td><td>0.03884298</td></tr>\n",
              "\t<tr><td>Y:long-term  </td><td>290</td><td>0.23966942</td></tr>\n",
              "</tbody>\n",
              "</table>\n"
            ]
          },
          "metadata": {
            "tags": []
          }
        }
      ]
    },
    {
      "cell_type": "markdown",
      "metadata": {
        "id": "xVmC_PsWRhXc"
      },
      "source": [
        "##### 1.4 ORG_DELIVERY_SERVICE  "
      ]
    },
    {
      "cell_type": "markdown",
      "metadata": {
        "id": "pZaqz_SfQB5e"
      },
      "source": [
        "Fixed, Nothing to be Done"
      ]
    },
    {
      "cell_type": "code",
      "metadata": {
        "colab": {
          "base_uri": "https://localhost:8080/",
          "height": 189
        },
        "id": "YJkgIVVqRgE7",
        "outputId": "a1e7c85d-f21a-4666-bf5f-603ef7aab25f"
      },
      "source": [
        "tabyl(df_with_2$ORG_DELIVERY_SERVICE)"
      ],
      "execution_count": 123,
      "outputs": [
        {
          "output_type": "display_data",
          "data": {
            "text/plain": [
              "  df_with_2$ORG_DELIVERY_SERVICE n   percent   \n",
              "1 No                             986 0.81487603\n",
              "2 Thinking about it              110 0.09090909\n",
              "3 Yes                            114 0.09421488"
            ],
            "text/latex": "A tabyl: 3 × 3\n\\begin{tabular}{lll}\n df\\_with\\_2\\$ORG\\_DELIVERY\\_SERVICE & n & percent\\\\\n <fct> & <dbl> & <dbl>\\\\\n\\hline\n\t No                & 986 & 0.81487603\\\\\n\t Thinking about it & 110 & 0.09090909\\\\\n\t Yes               & 114 & 0.09421488\\\\\n\\end{tabular}\n",
            "text/markdown": "\nA tabyl: 3 × 3\n\n| df_with_2$ORG_DELIVERY_SERVICE &lt;fct&gt; | n &lt;dbl&gt; | percent &lt;dbl&gt; |\n|---|---|---|\n| No                | 986 | 0.81487603 |\n| Thinking about it | 110 | 0.09090909 |\n| Yes               | 114 | 0.09421488 |\n\n",
            "text/html": [
              "<table class=\"dataframe\">\n",
              "<caption>A tabyl: 3 × 3</caption>\n",
              "<thead>\n",
              "\t<tr><th scope=col>df_with_2$ORG_DELIVERY_SERVICE</th><th scope=col>n</th><th scope=col>percent</th></tr>\n",
              "\t<tr><th scope=col>&lt;fct&gt;</th><th scope=col>&lt;dbl&gt;</th><th scope=col>&lt;dbl&gt;</th></tr>\n",
              "</thead>\n",
              "<tbody>\n",
              "\t<tr><td>No               </td><td>986</td><td>0.81487603</td></tr>\n",
              "\t<tr><td>Thinking about it</td><td>110</td><td>0.09090909</td></tr>\n",
              "\t<tr><td>Yes              </td><td>114</td><td>0.09421488</td></tr>\n",
              "</tbody>\n",
              "</table>\n"
            ]
          },
          "metadata": {
            "tags": []
          }
        }
      ]
    },
    {
      "cell_type": "markdown",
      "metadata": {
        "id": "3VAffNJdScT3"
      },
      "source": [
        "##### 1.5 ORG_CUSTOMER_DATA"
      ]
    },
    {
      "cell_type": "code",
      "metadata": {
        "id": "Gwv1q1BsvLoq"
      },
      "source": [
        "#df_with_1 <- df_with"
      ],
      "execution_count": 124,
      "outputs": []
    },
    {
      "cell_type": "code",
      "metadata": {
        "colab": {
          "base_uri": "https://localhost:8080/",
          "height": 804
        },
        "id": "dFNGMqlhR1Hw",
        "outputId": "a1d7311f-8d2d-4b36-e584-344a2a6125a5"
      },
      "source": [
        "tabyl(df_with_2$ORG_CUSTOMER_DATA)"
      ],
      "execution_count": 125,
      "outputs": [
        {
          "output_type": "display_data",
          "data": {
            "text/plain": [
              "   df_with_2$ORG_CUSTOMER_DATA                                                                                          \n",
              "1  -                                                                                                                    \n",
              "2  Do not Store                                                                                                         \n",
              "3  Do not Store, Store but do not use                                                                                   \n",
              "4  Do not Store, Use for delivery (sending ordered items)                                                               \n",
              "5  Do not Store, Use for discounts (repeated purchases)                                                                 \n",
              "6  Do not Store, Use for discounts (repeated purchases), Use for sending SMS (advertisement)                            \n",
              "7  Do not Store, Use for sending SMS (advertisement)                                                                    \n",
              "8  Store but do not use                                                                                                 \n",
              "9  Store but do not use, Use for delivery (sending ordered items), Use for discounts (repeated purchases)               \n",
              "10 Store but do not use, Use for discounts (repeated purchases)                                                         \n",
              "11 Store but do not use, Use for discounts (repeated purchases), Use for sending SMS (advertisement)                    \n",
              "12 Store but do not use, Use for sending SMS (advertisement)                                                            \n",
              "13 Use for delivery (sending ordered items)                                                                             \n",
              "14 Use for delivery (sending ordered items), Use for discounts (repeated purchases)                                     \n",
              "15 Use for delivery (sending ordered items), Use for discounts (repeated purchases), Use for sending SMS (advertisement)\n",
              "16 Use for delivery (sending ordered items), Use for sending SMS (advertisement)                                        \n",
              "17 Use for discounts (repeated purchases)                                                                               \n",
              "18 Use for discounts (repeated purchases), Use for sending SMS (advertisement)                                          \n",
              "19 Use for sending SMS (advertisement)                                                                                  \n",
              "   n   percent     \n",
              "1    4 0.0033057851\n",
              "2  370 0.3057851240\n",
              "3    2 0.0016528926\n",
              "4    1 0.0008264463\n",
              "5  341 0.2818181818\n",
              "6    2 0.0016528926\n",
              "7    1 0.0008264463\n",
              "8  121 0.1000000000\n",
              "9    2 0.0016528926\n",
              "10  44 0.0363636364\n",
              "11   6 0.0049586777\n",
              "12   1 0.0008264463\n",
              "13   4 0.0033057851\n",
              "14  30 0.0247933884\n",
              "15   9 0.0074380165\n",
              "16   5 0.0041322314\n",
              "17 238 0.1966942149\n",
              "18  20 0.0165289256\n",
              "19   9 0.0074380165"
            ],
            "text/latex": "A tabyl: 19 × 3\n\\begin{tabular}{lll}\n df\\_with\\_2\\$ORG\\_CUSTOMER\\_DATA & n & percent\\\\\n <fct> & <dbl> & <dbl>\\\\\n\\hline\n\t -                                                                                                                     &   4 & 0.0033057851\\\\\n\t Do not Store                                                                                                          & 370 & 0.3057851240\\\\\n\t Do not Store, Store but do not use                                                                                    &   2 & 0.0016528926\\\\\n\t Do not Store, Use for delivery (sending ordered items)                                                                &   1 & 0.0008264463\\\\\n\t Do not Store, Use for discounts (repeated purchases)                                                                  & 341 & 0.2818181818\\\\\n\t Do not Store, Use for discounts (repeated purchases), Use for sending SMS (advertisement)                             &   2 & 0.0016528926\\\\\n\t Do not Store, Use for sending SMS (advertisement)                                                                     &   1 & 0.0008264463\\\\\n\t Store but do not use                                                                                                  & 121 & 0.1000000000\\\\\n\t Store but do not use, Use for delivery (sending ordered items), Use for discounts (repeated purchases)                &   2 & 0.0016528926\\\\\n\t Store but do not use, Use for discounts (repeated purchases)                                                          &  44 & 0.0363636364\\\\\n\t Store but do not use, Use for discounts (repeated purchases), Use for sending SMS (advertisement)                     &   6 & 0.0049586777\\\\\n\t Store but do not use, Use for sending SMS (advertisement)                                                             &   1 & 0.0008264463\\\\\n\t Use for delivery (sending ordered items)                                                                              &   4 & 0.0033057851\\\\\n\t Use for delivery (sending ordered items), Use for discounts (repeated purchases)                                      &  30 & 0.0247933884\\\\\n\t Use for delivery (sending ordered items), Use for discounts (repeated purchases), Use for sending SMS (advertisement) &   9 & 0.0074380165\\\\\n\t Use for delivery (sending ordered items), Use for sending SMS (advertisement)                                         &   5 & 0.0041322314\\\\\n\t Use for discounts (repeated purchases)                                                                                & 238 & 0.1966942149\\\\\n\t Use for discounts (repeated purchases), Use for sending SMS (advertisement)                                           &  20 & 0.0165289256\\\\\n\t Use for sending SMS (advertisement)                                                                                   &   9 & 0.0074380165\\\\\n\\end{tabular}\n",
            "text/markdown": "\nA tabyl: 19 × 3\n\n| df_with_2$ORG_CUSTOMER_DATA &lt;fct&gt; | n &lt;dbl&gt; | percent &lt;dbl&gt; |\n|---|---|---|\n| -                                                                                                                     |   4 | 0.0033057851 |\n| Do not Store                                                                                                          | 370 | 0.3057851240 |\n| Do not Store, Store but do not use                                                                                    |   2 | 0.0016528926 |\n| Do not Store, Use for delivery (sending ordered items)                                                                |   1 | 0.0008264463 |\n| Do not Store, Use for discounts (repeated purchases)                                                                  | 341 | 0.2818181818 |\n| Do not Store, Use for discounts (repeated purchases), Use for sending SMS (advertisement)                             |   2 | 0.0016528926 |\n| Do not Store, Use for sending SMS (advertisement)                                                                     |   1 | 0.0008264463 |\n| Store but do not use                                                                                                  | 121 | 0.1000000000 |\n| Store but do not use, Use for delivery (sending ordered items), Use for discounts (repeated purchases)                |   2 | 0.0016528926 |\n| Store but do not use, Use for discounts (repeated purchases)                                                          |  44 | 0.0363636364 |\n| Store but do not use, Use for discounts (repeated purchases), Use for sending SMS (advertisement)                     |   6 | 0.0049586777 |\n| Store but do not use, Use for sending SMS (advertisement)                                                             |   1 | 0.0008264463 |\n| Use for delivery (sending ordered items)                                                                              |   4 | 0.0033057851 |\n| Use for delivery (sending ordered items), Use for discounts (repeated purchases)                                      |  30 | 0.0247933884 |\n| Use for delivery (sending ordered items), Use for discounts (repeated purchases), Use for sending SMS (advertisement) |   9 | 0.0074380165 |\n| Use for delivery (sending ordered items), Use for sending SMS (advertisement)                                         |   5 | 0.0041322314 |\n| Use for discounts (repeated purchases)                                                                                | 238 | 0.1966942149 |\n| Use for discounts (repeated purchases), Use for sending SMS (advertisement)                                           |  20 | 0.0165289256 |\n| Use for sending SMS (advertisement)                                                                                   |   9 | 0.0074380165 |\n\n",
            "text/html": [
              "<table class=\"dataframe\">\n",
              "<caption>A tabyl: 19 × 3</caption>\n",
              "<thead>\n",
              "\t<tr><th scope=col>df_with_2$ORG_CUSTOMER_DATA</th><th scope=col>n</th><th scope=col>percent</th></tr>\n",
              "\t<tr><th scope=col>&lt;fct&gt;</th><th scope=col>&lt;dbl&gt;</th><th scope=col>&lt;dbl&gt;</th></tr>\n",
              "</thead>\n",
              "<tbody>\n",
              "\t<tr><td>-                                                                                                                    </td><td>  4</td><td>0.0033057851</td></tr>\n",
              "\t<tr><td>Do not Store                                                                                                         </td><td>370</td><td>0.3057851240</td></tr>\n",
              "\t<tr><td>Do not Store, Store but do not use                                                                                   </td><td>  2</td><td>0.0016528926</td></tr>\n",
              "\t<tr><td>Do not Store, Use for delivery (sending ordered items)                                                               </td><td>  1</td><td>0.0008264463</td></tr>\n",
              "\t<tr><td>Do not Store, Use for discounts (repeated purchases)                                                                 </td><td>341</td><td>0.2818181818</td></tr>\n",
              "\t<tr><td>Do not Store, Use for discounts (repeated purchases), Use for sending SMS (advertisement)                            </td><td>  2</td><td>0.0016528926</td></tr>\n",
              "\t<tr><td>Do not Store, Use for sending SMS (advertisement)                                                                    </td><td>  1</td><td>0.0008264463</td></tr>\n",
              "\t<tr><td>Store but do not use                                                                                                 </td><td>121</td><td>0.1000000000</td></tr>\n",
              "\t<tr><td>Store but do not use, Use for delivery (sending ordered items), Use for discounts (repeated purchases)               </td><td>  2</td><td>0.0016528926</td></tr>\n",
              "\t<tr><td>Store but do not use, Use for discounts (repeated purchases)                                                         </td><td> 44</td><td>0.0363636364</td></tr>\n",
              "\t<tr><td>Store but do not use, Use for discounts (repeated purchases), Use for sending SMS (advertisement)                    </td><td>  6</td><td>0.0049586777</td></tr>\n",
              "\t<tr><td>Store but do not use, Use for sending SMS (advertisement)                                                            </td><td>  1</td><td>0.0008264463</td></tr>\n",
              "\t<tr><td>Use for delivery (sending ordered items)                                                                             </td><td>  4</td><td>0.0033057851</td></tr>\n",
              "\t<tr><td>Use for delivery (sending ordered items), Use for discounts (repeated purchases)                                     </td><td> 30</td><td>0.0247933884</td></tr>\n",
              "\t<tr><td>Use for delivery (sending ordered items), Use for discounts (repeated purchases), Use for sending SMS (advertisement)</td><td>  9</td><td>0.0074380165</td></tr>\n",
              "\t<tr><td>Use for delivery (sending ordered items), Use for sending SMS (advertisement)                                        </td><td>  5</td><td>0.0041322314</td></tr>\n",
              "\t<tr><td>Use for discounts (repeated purchases)                                                                               </td><td>238</td><td>0.1966942149</td></tr>\n",
              "\t<tr><td>Use for discounts (repeated purchases), Use for sending SMS (advertisement)                                          </td><td> 20</td><td>0.0165289256</td></tr>\n",
              "\t<tr><td>Use for sending SMS (advertisement)                                                                                  </td><td>  9</td><td>0.0074380165</td></tr>\n",
              "</tbody>\n",
              "</table>\n"
            ]
          },
          "metadata": {
            "tags": []
          }
        }
      ]
    },
    {
      "cell_type": "markdown",
      "metadata": {
        "id": "r1-_D2UTr0cY"
      },
      "source": [
        ", is being used as a delimiter for multi-responses and also is included in this response string 'Store, but do not use'\n",
        "\n",
        "1. Replace 'Store, but do not use' to 'Store but do not use' (the comma is removed)\n",
        "\n",
        "2. Replace , as a seperator to ;"
      ]
    },
    {
      "cell_type": "code",
      "metadata": {
        "id": "im8qHGx2rz_j"
      },
      "source": [
        "df_with_2 <- df_with_2 %>% \n",
        "  mutate(ORG_CUSTOMER_DATA = str_replace(ORG_CUSTOMER_DATA, \"Store, but do not use\", \"Store but do not use\")) #%>%\n",
        "  #tabyl(ORG_CUSTOMER_DATA)"
      ],
      "execution_count": 126,
      "outputs": []
    },
    {
      "cell_type": "code",
      "metadata": {
        "colab": {
          "base_uri": "https://localhost:8080/",
          "height": 804
        },
        "id": "S8_dWzBQvXE0",
        "outputId": "af2ca005-cd85-4849-c209-398cee3a8578"
      },
      "source": [
        "tabyl(df_with_1$ORG_CUSTOMER_DATA)"
      ],
      "execution_count": 127,
      "outputs": [
        {
          "output_type": "display_data",
          "data": {
            "text/plain": [
              "   df_with_1$ORG_CUSTOMER_DATA                                                                                          \n",
              "1  -                                                                                                                    \n",
              "2  Do not Store                                                                                                         \n",
              "3  Do not Store, Store but do not use                                                                                   \n",
              "4  Do not Store, Use for delivery (sending ordered items)                                                               \n",
              "5  Do not Store, Use for discounts (repeated purchases)                                                                 \n",
              "6  Do not Store, Use for discounts (repeated purchases), Use for sending SMS (advertisement)                            \n",
              "7  Do not Store, Use for sending SMS (advertisement)                                                                    \n",
              "8  Store but do not use                                                                                                 \n",
              "9  Store but do not use, Use for delivery (sending ordered items), Use for discounts (repeated purchases)               \n",
              "10 Store but do not use, Use for discounts (repeated purchases)                                                         \n",
              "11 Store but do not use, Use for discounts (repeated purchases), Use for sending SMS (advertisement)                    \n",
              "12 Store but do not use, Use for sending SMS (advertisement)                                                            \n",
              "13 Use for delivery (sending ordered items)                                                                             \n",
              "14 Use for delivery (sending ordered items), Use for discounts (repeated purchases)                                     \n",
              "15 Use for delivery (sending ordered items), Use for discounts (repeated purchases), Use for sending SMS (advertisement)\n",
              "16 Use for delivery (sending ordered items), Use for sending SMS (advertisement)                                        \n",
              "17 Use for discounts (repeated purchases)                                                                               \n",
              "18 Use for discounts (repeated purchases), Use for sending SMS (advertisement)                                          \n",
              "19 Use for sending SMS (advertisement)                                                                                  \n",
              "   n   percent     \n",
              "1    4 0.0033057851\n",
              "2  370 0.3057851240\n",
              "3    2 0.0016528926\n",
              "4    1 0.0008264463\n",
              "5  341 0.2818181818\n",
              "6    2 0.0016528926\n",
              "7    1 0.0008264463\n",
              "8  121 0.1000000000\n",
              "9    2 0.0016528926\n",
              "10  44 0.0363636364\n",
              "11   6 0.0049586777\n",
              "12   1 0.0008264463\n",
              "13   4 0.0033057851\n",
              "14  30 0.0247933884\n",
              "15   9 0.0074380165\n",
              "16   5 0.0041322314\n",
              "17 238 0.1966942149\n",
              "18  20 0.0165289256\n",
              "19   9 0.0074380165"
            ],
            "text/latex": "A tabyl: 19 × 3\n\\begin{tabular}{lll}\n df\\_with\\_1\\$ORG\\_CUSTOMER\\_DATA & n & percent\\\\\n <chr> & <dbl> & <dbl>\\\\\n\\hline\n\t -                                                                                                                     &   4 & 0.0033057851\\\\\n\t Do not Store                                                                                                          & 370 & 0.3057851240\\\\\n\t Do not Store, Store but do not use                                                                                    &   2 & 0.0016528926\\\\\n\t Do not Store, Use for delivery (sending ordered items)                                                                &   1 & 0.0008264463\\\\\n\t Do not Store, Use for discounts (repeated purchases)                                                                  & 341 & 0.2818181818\\\\\n\t Do not Store, Use for discounts (repeated purchases), Use for sending SMS (advertisement)                             &   2 & 0.0016528926\\\\\n\t Do not Store, Use for sending SMS (advertisement)                                                                     &   1 & 0.0008264463\\\\\n\t Store but do not use                                                                                                  & 121 & 0.1000000000\\\\\n\t Store but do not use, Use for delivery (sending ordered items), Use for discounts (repeated purchases)                &   2 & 0.0016528926\\\\\n\t Store but do not use, Use for discounts (repeated purchases)                                                          &  44 & 0.0363636364\\\\\n\t Store but do not use, Use for discounts (repeated purchases), Use for sending SMS (advertisement)                     &   6 & 0.0049586777\\\\\n\t Store but do not use, Use for sending SMS (advertisement)                                                             &   1 & 0.0008264463\\\\\n\t Use for delivery (sending ordered items)                                                                              &   4 & 0.0033057851\\\\\n\t Use for delivery (sending ordered items), Use for discounts (repeated purchases)                                      &  30 & 0.0247933884\\\\\n\t Use for delivery (sending ordered items), Use for discounts (repeated purchases), Use for sending SMS (advertisement) &   9 & 0.0074380165\\\\\n\t Use for delivery (sending ordered items), Use for sending SMS (advertisement)                                         &   5 & 0.0041322314\\\\\n\t Use for discounts (repeated purchases)                                                                                & 238 & 0.1966942149\\\\\n\t Use for discounts (repeated purchases), Use for sending SMS (advertisement)                                           &  20 & 0.0165289256\\\\\n\t Use for sending SMS (advertisement)                                                                                   &   9 & 0.0074380165\\\\\n\\end{tabular}\n",
            "text/markdown": "\nA tabyl: 19 × 3\n\n| df_with_1$ORG_CUSTOMER_DATA &lt;chr&gt; | n &lt;dbl&gt; | percent &lt;dbl&gt; |\n|---|---|---|\n| -                                                                                                                     |   4 | 0.0033057851 |\n| Do not Store                                                                                                          | 370 | 0.3057851240 |\n| Do not Store, Store but do not use                                                                                    |   2 | 0.0016528926 |\n| Do not Store, Use for delivery (sending ordered items)                                                                |   1 | 0.0008264463 |\n| Do not Store, Use for discounts (repeated purchases)                                                                  | 341 | 0.2818181818 |\n| Do not Store, Use for discounts (repeated purchases), Use for sending SMS (advertisement)                             |   2 | 0.0016528926 |\n| Do not Store, Use for sending SMS (advertisement)                                                                     |   1 | 0.0008264463 |\n| Store but do not use                                                                                                  | 121 | 0.1000000000 |\n| Store but do not use, Use for delivery (sending ordered items), Use for discounts (repeated purchases)                |   2 | 0.0016528926 |\n| Store but do not use, Use for discounts (repeated purchases)                                                          |  44 | 0.0363636364 |\n| Store but do not use, Use for discounts (repeated purchases), Use for sending SMS (advertisement)                     |   6 | 0.0049586777 |\n| Store but do not use, Use for sending SMS (advertisement)                                                             |   1 | 0.0008264463 |\n| Use for delivery (sending ordered items)                                                                              |   4 | 0.0033057851 |\n| Use for delivery (sending ordered items), Use for discounts (repeated purchases)                                      |  30 | 0.0247933884 |\n| Use for delivery (sending ordered items), Use for discounts (repeated purchases), Use for sending SMS (advertisement) |   9 | 0.0074380165 |\n| Use for delivery (sending ordered items), Use for sending SMS (advertisement)                                         |   5 | 0.0041322314 |\n| Use for discounts (repeated purchases)                                                                                | 238 | 0.1966942149 |\n| Use for discounts (repeated purchases), Use for sending SMS (advertisement)                                           |  20 | 0.0165289256 |\n| Use for sending SMS (advertisement)                                                                                   |   9 | 0.0074380165 |\n\n",
            "text/html": [
              "<table class=\"dataframe\">\n",
              "<caption>A tabyl: 19 × 3</caption>\n",
              "<thead>\n",
              "\t<tr><th scope=col>df_with_1$ORG_CUSTOMER_DATA</th><th scope=col>n</th><th scope=col>percent</th></tr>\n",
              "\t<tr><th scope=col>&lt;chr&gt;</th><th scope=col>&lt;dbl&gt;</th><th scope=col>&lt;dbl&gt;</th></tr>\n",
              "</thead>\n",
              "<tbody>\n",
              "\t<tr><td>-                                                                                                                    </td><td>  4</td><td>0.0033057851</td></tr>\n",
              "\t<tr><td>Do not Store                                                                                                         </td><td>370</td><td>0.3057851240</td></tr>\n",
              "\t<tr><td>Do not Store, Store but do not use                                                                                   </td><td>  2</td><td>0.0016528926</td></tr>\n",
              "\t<tr><td>Do not Store, Use for delivery (sending ordered items)                                                               </td><td>  1</td><td>0.0008264463</td></tr>\n",
              "\t<tr><td>Do not Store, Use for discounts (repeated purchases)                                                                 </td><td>341</td><td>0.2818181818</td></tr>\n",
              "\t<tr><td>Do not Store, Use for discounts (repeated purchases), Use for sending SMS (advertisement)                            </td><td>  2</td><td>0.0016528926</td></tr>\n",
              "\t<tr><td>Do not Store, Use for sending SMS (advertisement)                                                                    </td><td>  1</td><td>0.0008264463</td></tr>\n",
              "\t<tr><td>Store but do not use                                                                                                 </td><td>121</td><td>0.1000000000</td></tr>\n",
              "\t<tr><td>Store but do not use, Use for delivery (sending ordered items), Use for discounts (repeated purchases)               </td><td>  2</td><td>0.0016528926</td></tr>\n",
              "\t<tr><td>Store but do not use, Use for discounts (repeated purchases)                                                         </td><td> 44</td><td>0.0363636364</td></tr>\n",
              "\t<tr><td>Store but do not use, Use for discounts (repeated purchases), Use for sending SMS (advertisement)                    </td><td>  6</td><td>0.0049586777</td></tr>\n",
              "\t<tr><td>Store but do not use, Use for sending SMS (advertisement)                                                            </td><td>  1</td><td>0.0008264463</td></tr>\n",
              "\t<tr><td>Use for delivery (sending ordered items)                                                                             </td><td>  4</td><td>0.0033057851</td></tr>\n",
              "\t<tr><td>Use for delivery (sending ordered items), Use for discounts (repeated purchases)                                     </td><td> 30</td><td>0.0247933884</td></tr>\n",
              "\t<tr><td>Use for delivery (sending ordered items), Use for discounts (repeated purchases), Use for sending SMS (advertisement)</td><td>  9</td><td>0.0074380165</td></tr>\n",
              "\t<tr><td>Use for delivery (sending ordered items), Use for sending SMS (advertisement)                                        </td><td>  5</td><td>0.0041322314</td></tr>\n",
              "\t<tr><td>Use for discounts (repeated purchases)                                                                               </td><td>238</td><td>0.1966942149</td></tr>\n",
              "\t<tr><td>Use for discounts (repeated purchases), Use for sending SMS (advertisement)                                          </td><td> 20</td><td>0.0165289256</td></tr>\n",
              "\t<tr><td>Use for sending SMS (advertisement)                                                                                  </td><td>  9</td><td>0.0074380165</td></tr>\n",
              "</tbody>\n",
              "</table>\n"
            ]
          },
          "metadata": {
            "tags": []
          }
        }
      ]
    },
    {
      "cell_type": "markdown",
      "metadata": {
        "id": "uQXX7q1xI2OA"
      },
      "source": [
        "Generating a row-id for each row\n",
        "\n",
        "Ref: https://bookdown.org/yih_huynh/Guide-to-R-Book/row-number.html"
      ]
    },
    {
      "cell_type": "code",
      "metadata": {
        "id": "FyZhDm1fJBAi"
      },
      "source": [
        "df_with_2 <- df_with_2 %>% mutate(RESP_ID = row_number())"
      ],
      "execution_count": 128,
      "outputs": []
    },
    {
      "cell_type": "code",
      "metadata": {
        "colab": {
          "base_uri": "https://localhost:8080/"
        },
        "id": "oRV0xIK5JQVq",
        "outputId": "341e96d7-b108-4086-ab60-fcbe990a7bba"
      },
      "source": [
        "df_with_2 %>% glimpse()"
      ],
      "execution_count": 129,
      "outputs": [
        {
          "output_type": "stream",
          "text": [
            "Rows: 1,210\n",
            "Columns: 25\n",
            "$ ORG_CITY                       \u001b[3m\u001b[90m<fct>\u001b[39m\u001b[23m Rawalpindi, Islamabad, Islamabad, Islam…\n",
            "$ ORG_POS_BUSINESS_IMPROVEMENT   \u001b[3m\u001b[90m<fct>\u001b[39m\u001b[23m Yes, Yes, Yes, Yes, Yes, Yes, Yes, Yes,…\n",
            "$ ORG_INTERNET_ACCESS            \u001b[3m\u001b[90m<fct>\u001b[39m\u001b[23m None, Mobile, Mobile, None, Mobile, Mob…\n",
            "$ ORG_EXPAND_BUSINESS            \u001b[3m\u001b[90m<fct>\u001b[39m\u001b[23m No, Y:short-term, Y:immediately, Y:long…\n",
            "$ ORG_DELIVERY_SERVICE           \u001b[3m\u001b[90m<fct>\u001b[39m\u001b[23m No, Thinking about it, Yes, No, No, No,…\n",
            "$ ORG_CUSTOMER_DATA              \u001b[3m\u001b[90m<chr>\u001b[39m\u001b[23m \"Do not Store\", \"Do not Store, Use for …\n",
            "$ ORG_EMP_COUNT                  \u001b[3m\u001b[90m<fct>\u001b[39m\u001b[23m 2, 3, 2, 1, 1, 2, 1, 1, 1, 1, 2, 3, 2, …\n",
            "$ ORG_INTERNET_DISRUPTION        \u001b[3m\u001b[90m<fct>\u001b[39m\u001b[23m Never, Little, Never, Never, Little, Li…\n",
            "$ ORG_NEW_POS_PAYMENT_PREF       \u001b[3m\u001b[90m<fct>\u001b[39m\u001b[23m One-Time, Recurring:12M, Recurring:1M, …\n",
            "$ ORG_NEW_POS_LANG_PREF          \u001b[3m\u001b[90m<fct>\u001b[39m\u001b[23m English and Urdu, English and Urdu, Eng…\n",
            "$ ORG_OUTLETS_COUNT              \u001b[3m\u001b[90m<fct>\u001b[39m\u001b[23m 1, 1, 1, 1, 1, 1, 1, 1, 1, 2, 1, 1, 1, …\n",
            "$ ORG_NEW_POS_KIND               \u001b[3m\u001b[90m<fct>\u001b[39m\u001b[23m Stand-Alone, Stand-Alone, Web-Based, St…\n",
            "$ ORG_WILLINGNESS_TO_PAY_AMOUNT  \u001b[3m\u001b[90m<fct>\u001b[39m\u001b[23m 1K, 10K, 1K, 1K, 1K, <1K, 1K, 1K, No AN…\n",
            "$ RESP_DESIGNATION               \u001b[3m\u001b[90m<fct>\u001b[39m\u001b[23m Owner, Owner, Owner, Ower, Owner, Owner…\n",
            "$ ORG_POS_FEATURES               \u001b[3m\u001b[90m<fct>\u001b[39m\u001b[23m \"Remote Management/Centralized Manageme…\n",
            "$ ORG_NEW_POS_DEVICES            \u001b[3m\u001b[90m<fct>\u001b[39m\u001b[23m \"Mobile Phone\", \"Mobile Phone, PC\", \"La…\n",
            "$ ORG_TYPE                       \u001b[3m\u001b[90m<fct>\u001b[39m\u001b[23m \"Clothing items\", \"Clothing items\", \"Ha…\n",
            "$ ORG_CURRENT_PAYMENT_OPTIONS    \u001b[3m\u001b[90m<fct>\u001b[39m\u001b[23m \"Cash\", \"Cash\", \"Cash\", \"Cash\", \"Cash\",…\n",
            "$ ORG_DISCOUNTS_OFFERED          \u001b[3m\u001b[90m<fct>\u001b[39m\u001b[23m \"Customer Discount (Based on customer r…\n",
            "$ ORG_URDU_FEATURES_EXPECTED     \u001b[3m\u001b[90m<fct>\u001b[39m\u001b[23m \"Others (Please specify) (Everything in…\n",
            "$ ORG_REASON_TO_GET_POS          \u001b[3m\u001b[90m<fct>\u001b[39m\u001b[23m \"Other (Please specify) (Customer Data,…\n",
            "$ ORG_REASON_TO_NOT_HAVE_POS     \u001b[3m\u001b[90m<fct>\u001b[39m\u001b[23m \"I am happy with how my business is man…\n",
            "$ ORG_WILLINGNESS_DEMO           \u001b[3m\u001b[90m<fct>\u001b[39m\u001b[23m \"No\", \"Yes\", \"Yes\", \"No\", \"No\", \"Yes\", …\n",
            "$ ORG_WILLINGNESS_FUTURE_CONTACT \u001b[3m\u001b[90m<fct>\u001b[39m\u001b[23m \"Yes\", \"Yes\", \"Yes\", \"Yes\", \"Yes\", \"Yes…\n",
            "$ RESP_ID                        \u001b[3m\u001b[90m<int>\u001b[39m\u001b[23m 1, 2, 3, 4, 5, 6, 7, 8, 9, 10, 11, 12, …\n"
          ],
          "name": "stdout"
        }
      ]
    },
    {
      "cell_type": "markdown",
      "metadata": {
        "id": "9m19wRq-ZM97"
      },
      "source": [
        "https://mgimond.github.io/ES218/Week03b.html\n",
        "\n",
        "https://stackoverflow.com/questions/45696738/tallying-multiple-choice-entries-in-a-single-column-in-a-r-dataframe-programmati"
      ]
    },
    {
      "cell_type": "code",
      "metadata": {
        "colab": {
          "base_uri": "https://localhost:8080/",
          "height": 34
        },
        "id": "Y_PxEk4-tzrD",
        "outputId": "bf4845a9-6961-4e54-903d-ff53c196a3da"
      },
      "source": [
        "levels(df_with_2$ORG_CUSTOMER_DATA)"
      ],
      "execution_count": 130,
      "outputs": [
        {
          "output_type": "display_data",
          "data": {
            "text/plain": [
              "NULL"
            ]
          },
          "metadata": {
            "tags": []
          }
        }
      ]
    },
    {
      "cell_type": "code",
      "metadata": {
        "id": "ddWo63LRSOyl"
      },
      "source": [
        "df_with_2$ORG_CUSTOMER_DATA %>% \n",
        "factor() %>% \n",
        "fct_inorder() -> df_with_2$ORG_CUSTOMER_DATA"
      ],
      "execution_count": 131,
      "outputs": []
    },
    {
      "cell_type": "code",
      "metadata": {
        "colab": {
          "base_uri": "https://localhost:8080/",
          "height": 324
        },
        "id": "ffSRI2tESdSX",
        "outputId": "d6cfd1ce-8157-480a-a8f0-51896cdb4585"
      },
      "source": [
        "levels(df_with_2$ORG_CUSTOMER_DATA)"
      ],
      "execution_count": 132,
      "outputs": [
        {
          "output_type": "display_data",
          "data": {
            "text/plain": [
              " [1] \"Do not Store\"                                                                                                         \n",
              " [2] \"Do not Store, Use for discounts (repeated purchases)\"                                                                 \n",
              " [3] \"Use for discounts (repeated purchases)\"                                                                               \n",
              " [4] \"Use for delivery (sending ordered items), Use for discounts (repeated purchases)\"                                     \n",
              " [5] \"Use for discounts (repeated purchases), Use for sending SMS (advertisement)\"                                          \n",
              " [6] \"Store but do not use\"                                                                                                 \n",
              " [7] \"Use for sending SMS (advertisement)\"                                                                                  \n",
              " [8] \"Store but do not use, Use for discounts (repeated purchases)\"                                                         \n",
              " [9] \"Do not Store, Use for delivery (sending ordered items)\"                                                               \n",
              "[10] \"-\"                                                                                                                    \n",
              "[11] \"Do not Store, Use for discounts (repeated purchases), Use for sending SMS (advertisement)\"                            \n",
              "[12] \"Store but do not use, Use for delivery (sending ordered items), Use for discounts (repeated purchases)\"               \n",
              "[13] \"Do not Store, Use for sending SMS (advertisement)\"                                                                    \n",
              "[14] \"Do not Store, Store but do not use\"                                                                                   \n",
              "[15] \"Use for delivery (sending ordered items)\"                                                                             \n",
              "[16] \"Use for delivery (sending ordered items), Use for discounts (repeated purchases), Use for sending SMS (advertisement)\"\n",
              "[17] \"Use for delivery (sending ordered items), Use for sending SMS (advertisement)\"                                        \n",
              "[18] \"Store but do not use, Use for discounts (repeated purchases), Use for sending SMS (advertisement)\"                    \n",
              "[19] \"Store but do not use, Use for sending SMS (advertisement)\"                                                            "
            ],
            "text/latex": "\\begin{enumerate*}\n\\item 'Do not Store'\n\\item 'Do not Store, Use for discounts (repeated purchases)'\n\\item 'Use for discounts (repeated purchases)'\n\\item 'Use for delivery (sending ordered items), Use for discounts (repeated purchases)'\n\\item 'Use for discounts (repeated purchases), Use for sending SMS (advertisement)'\n\\item 'Store but do not use'\n\\item 'Use for sending SMS (advertisement)'\n\\item 'Store but do not use, Use for discounts (repeated purchases)'\n\\item 'Do not Store, Use for delivery (sending ordered items)'\n\\item '-'\n\\item 'Do not Store, Use for discounts (repeated purchases), Use for sending SMS (advertisement)'\n\\item 'Store but do not use, Use for delivery (sending ordered items), Use for discounts (repeated purchases)'\n\\item 'Do not Store, Use for sending SMS (advertisement)'\n\\item 'Do not Store, Store but do not use'\n\\item 'Use for delivery (sending ordered items)'\n\\item 'Use for delivery (sending ordered items), Use for discounts (repeated purchases), Use for sending SMS (advertisement)'\n\\item 'Use for delivery (sending ordered items), Use for sending SMS (advertisement)'\n\\item 'Store but do not use, Use for discounts (repeated purchases), Use for sending SMS (advertisement)'\n\\item 'Store but do not use, Use for sending SMS (advertisement)'\n\\end{enumerate*}\n",
            "text/markdown": "1. 'Do not Store'\n2. 'Do not Store, Use for discounts (repeated purchases)'\n3. 'Use for discounts (repeated purchases)'\n4. 'Use for delivery (sending ordered items), Use for discounts (repeated purchases)'\n5. 'Use for discounts (repeated purchases), Use for sending SMS (advertisement)'\n6. 'Store but do not use'\n7. 'Use for sending SMS (advertisement)'\n8. 'Store but do not use, Use for discounts (repeated purchases)'\n9. 'Do not Store, Use for delivery (sending ordered items)'\n10. '-'\n11. 'Do not Store, Use for discounts (repeated purchases), Use for sending SMS (advertisement)'\n12. 'Store but do not use, Use for delivery (sending ordered items), Use for discounts (repeated purchases)'\n13. 'Do not Store, Use for sending SMS (advertisement)'\n14. 'Do not Store, Store but do not use'\n15. 'Use for delivery (sending ordered items)'\n16. 'Use for delivery (sending ordered items), Use for discounts (repeated purchases), Use for sending SMS (advertisement)'\n17. 'Use for delivery (sending ordered items), Use for sending SMS (advertisement)'\n18. 'Store but do not use, Use for discounts (repeated purchases), Use for sending SMS (advertisement)'\n19. 'Store but do not use, Use for sending SMS (advertisement)'\n\n\n",
            "text/html": [
              "<style>\n",
              ".list-inline {list-style: none; margin:0; padding: 0}\n",
              ".list-inline>li {display: inline-block}\n",
              ".list-inline>li:not(:last-child)::after {content: \"\\00b7\"; padding: 0 .5ex}\n",
              "</style>\n",
              "<ol class=list-inline><li>'Do not Store'</li><li>'Do not Store, Use for discounts (repeated purchases)'</li><li>'Use for discounts (repeated purchases)'</li><li>'Use for delivery (sending ordered items), Use for discounts (repeated purchases)'</li><li>'Use for discounts (repeated purchases), Use for sending SMS (advertisement)'</li><li>'Store but do not use'</li><li>'Use for sending SMS (advertisement)'</li><li>'Store but do not use, Use for discounts (repeated purchases)'</li><li>'Do not Store, Use for delivery (sending ordered items)'</li><li>'-'</li><li>'Do not Store, Use for discounts (repeated purchases), Use for sending SMS (advertisement)'</li><li>'Store but do not use, Use for delivery (sending ordered items), Use for discounts (repeated purchases)'</li><li>'Do not Store, Use for sending SMS (advertisement)'</li><li>'Do not Store, Store but do not use'</li><li>'Use for delivery (sending ordered items)'</li><li>'Use for delivery (sending ordered items), Use for discounts (repeated purchases), Use for sending SMS (advertisement)'</li><li>'Use for delivery (sending ordered items), Use for sending SMS (advertisement)'</li><li>'Store but do not use, Use for discounts (repeated purchases), Use for sending SMS (advertisement)'</li><li>'Store but do not use, Use for sending SMS (advertisement)'</li></ol>\n"
            ]
          },
          "metadata": {
            "tags": []
          }
        }
      ]
    },
    {
      "cell_type": "code",
      "metadata": {
        "colab": {
          "base_uri": "https://localhost:8080/",
          "height": 1000
        },
        "id": "HK24n1ggWhDr",
        "outputId": "368a07b1-64c5-4a5b-9694-92a569628a20"
      },
      "source": [
        "df_with_2 %>%\n",
        "    dplyr::select(RESP_ID, ORG_CUSTOMER_DATA)"
      ],
      "execution_count": 133,
      "outputs": [
        {
          "output_type": "display_data",
          "data": {
            "text/plain": [
              "     RESP_ID\n",
              "1     1     \n",
              "2     2     \n",
              "3     3     \n",
              "4     4     \n",
              "5     5     \n",
              "6     6     \n",
              "7     7     \n",
              "8     8     \n",
              "9     9     \n",
              "10   10     \n",
              "11   11     \n",
              "12   12     \n",
              "13   13     \n",
              "14   14     \n",
              "15   15     \n",
              "16   16     \n",
              "17   17     \n",
              "18   18     \n",
              "19   19     \n",
              "20   20     \n",
              "21   21     \n",
              "22   22     \n",
              "23   23     \n",
              "24   24     \n",
              "25   25     \n",
              "26   26     \n",
              "27   27     \n",
              "28   28     \n",
              "29   29     \n",
              "30   30     \n",
              "⋮    ⋮      \n",
              "1181 1181   \n",
              "1182 1182   \n",
              "1183 1183   \n",
              "1184 1184   \n",
              "1185 1185   \n",
              "1186 1186   \n",
              "1187 1187   \n",
              "1188 1188   \n",
              "1189 1189   \n",
              "1190 1190   \n",
              "1191 1191   \n",
              "1192 1192   \n",
              "1193 1193   \n",
              "1194 1194   \n",
              "1195 1195   \n",
              "1196 1196   \n",
              "1197 1197   \n",
              "1198 1198   \n",
              "1199 1199   \n",
              "1200 1200   \n",
              "1201 1201   \n",
              "1202 1202   \n",
              "1203 1203   \n",
              "1204 1204   \n",
              "1205 1205   \n",
              "1206 1206   \n",
              "1207 1207   \n",
              "1208 1208   \n",
              "1209 1209   \n",
              "1210 1210   \n",
              "     ORG_CUSTOMER_DATA                                                                                                    \n",
              "1    Do not Store                                                                                                         \n",
              "2    Do not Store, Use for discounts (repeated purchases)                                                                 \n",
              "3    Use for discounts (repeated purchases)                                                                               \n",
              "4    Use for delivery (sending ordered items), Use for discounts (repeated purchases)                                     \n",
              "5    Use for delivery (sending ordered items), Use for discounts (repeated purchases)                                     \n",
              "6    Use for discounts (repeated purchases)                                                                               \n",
              "7    Do not Store                                                                                                         \n",
              "8    Do not Store, Use for discounts (repeated purchases)                                                                 \n",
              "9    Do not Store, Use for discounts (repeated purchases)                                                                 \n",
              "10   Use for discounts (repeated purchases)                                                                               \n",
              "11   Do not Store, Use for discounts (repeated purchases)                                                                 \n",
              "12   Do not Store, Use for discounts (repeated purchases)                                                                 \n",
              "13   Do not Store                                                                                                         \n",
              "14   Use for discounts (repeated purchases)                                                                               \n",
              "15   Use for discounts (repeated purchases)                                                                               \n",
              "16   Use for discounts (repeated purchases)                                                                               \n",
              "17   Do not Store, Use for discounts (repeated purchases)                                                                 \n",
              "18   Do not Store                                                                                                         \n",
              "19   Use for discounts (repeated purchases), Use for sending SMS (advertisement)                                          \n",
              "20   Use for discounts (repeated purchases)                                                                               \n",
              "21   Do not Store, Use for discounts (repeated purchases)                                                                 \n",
              "22   Use for delivery (sending ordered items), Use for discounts (repeated purchases)                                     \n",
              "23   Do not Store                                                                                                         \n",
              "24   Use for discounts (repeated purchases)                                                                               \n",
              "25   Do not Store                                                                                                         \n",
              "26   Do not Store                                                                                                         \n",
              "27   Use for delivery (sending ordered items), Use for discounts (repeated purchases)                                     \n",
              "28   Store but do not use                                                                                                 \n",
              "29   Do not Store, Use for discounts (repeated purchases)                                                                 \n",
              "30   Use for sending SMS (advertisement)                                                                                  \n",
              "⋮    ⋮                                                                                                                    \n",
              "1181 Use for discounts (repeated purchases), Use for sending SMS (advertisement)                                          \n",
              "1182 Use for delivery (sending ordered items), Use for discounts (repeated purchases)                                     \n",
              "1183 Use for delivery (sending ordered items), Use for discounts (repeated purchases)                                     \n",
              "1184 Use for discounts (repeated purchases)                                                                               \n",
              "1185 Use for delivery (sending ordered items), Use for discounts (repeated purchases)                                     \n",
              "1186 Use for discounts (repeated purchases)                                                                               \n",
              "1187 Use for delivery (sending ordered items), Use for discounts (repeated purchases)                                     \n",
              "1188 Use for delivery (sending ordered items), Use for discounts (repeated purchases)                                     \n",
              "1189 Use for delivery (sending ordered items), Use for discounts (repeated purchases)                                     \n",
              "1190 Use for discounts (repeated purchases), Use for sending SMS (advertisement)                                          \n",
              "1191 Use for discounts (repeated purchases), Use for sending SMS (advertisement)                                          \n",
              "1192 Use for discounts (repeated purchases), Use for sending SMS (advertisement)                                          \n",
              "1193 Store but do not use                                                                                                 \n",
              "1194 Use for discounts (repeated purchases)                                                                               \n",
              "1195 Use for delivery (sending ordered items), Use for discounts (repeated purchases)                                     \n",
              "1196 Use for discounts (repeated purchases)                                                                               \n",
              "1197 Use for discounts (repeated purchases)                                                                               \n",
              "1198 Use for discounts (repeated purchases), Use for sending SMS (advertisement)                                          \n",
              "1199 Use for discounts (repeated purchases)                                                                               \n",
              "1200 Use for discounts (repeated purchases)                                                                               \n",
              "1201 Use for discounts (repeated purchases)                                                                               \n",
              "1202 Use for discounts (repeated purchases)                                                                               \n",
              "1203 Use for discounts (repeated purchases)                                                                               \n",
              "1204 Use for delivery (sending ordered items), Use for discounts (repeated purchases), Use for sending SMS (advertisement)\n",
              "1205 Use for delivery (sending ordered items), Use for discounts (repeated purchases)                                     \n",
              "1206 Use for discounts (repeated purchases)                                                                               \n",
              "1207 Use for discounts (repeated purchases)                                                                               \n",
              "1208 Use for delivery (sending ordered items), Use for discounts (repeated purchases)                                     \n",
              "1209 Use for delivery (sending ordered items), Use for discounts (repeated purchases)                                     \n",
              "1210 Use for delivery (sending ordered items), Use for discounts (repeated purchases)                                     "
            ],
            "text/latex": "A tibble: 1210 × 2\n\\begin{tabular}{ll}\n RESP\\_ID & ORG\\_CUSTOMER\\_DATA\\\\\n <int> & <fct>\\\\\n\\hline\n\t  1 & Do not Store                                                                    \\\\\n\t  2 & Do not Store, Use for discounts (repeated purchases)                            \\\\\n\t  3 & Use for discounts (repeated purchases)                                          \\\\\n\t  4 & Use for delivery (sending ordered items), Use for discounts (repeated purchases)\\\\\n\t  5 & Use for delivery (sending ordered items), Use for discounts (repeated purchases)\\\\\n\t  6 & Use for discounts (repeated purchases)                                          \\\\\n\t  7 & Do not Store                                                                    \\\\\n\t  8 & Do not Store, Use for discounts (repeated purchases)                            \\\\\n\t  9 & Do not Store, Use for discounts (repeated purchases)                            \\\\\n\t 10 & Use for discounts (repeated purchases)                                          \\\\\n\t 11 & Do not Store, Use for discounts (repeated purchases)                            \\\\\n\t 12 & Do not Store, Use for discounts (repeated purchases)                            \\\\\n\t 13 & Do not Store                                                                    \\\\\n\t 14 & Use for discounts (repeated purchases)                                          \\\\\n\t 15 & Use for discounts (repeated purchases)                                          \\\\\n\t 16 & Use for discounts (repeated purchases)                                          \\\\\n\t 17 & Do not Store, Use for discounts (repeated purchases)                            \\\\\n\t 18 & Do not Store                                                                    \\\\\n\t 19 & Use for discounts (repeated purchases), Use for sending SMS (advertisement)     \\\\\n\t 20 & Use for discounts (repeated purchases)                                          \\\\\n\t 21 & Do not Store, Use for discounts (repeated purchases)                            \\\\\n\t 22 & Use for delivery (sending ordered items), Use for discounts (repeated purchases)\\\\\n\t 23 & Do not Store                                                                    \\\\\n\t 24 & Use for discounts (repeated purchases)                                          \\\\\n\t 25 & Do not Store                                                                    \\\\\n\t 26 & Do not Store                                                                    \\\\\n\t 27 & Use for delivery (sending ordered items), Use for discounts (repeated purchases)\\\\\n\t 28 & Store but do not use                                                            \\\\\n\t 29 & Do not Store, Use for discounts (repeated purchases)                            \\\\\n\t 30 & Use for sending SMS (advertisement)                                             \\\\\n\t ⋮ & ⋮\\\\\n\t 1181 & Use for discounts (repeated purchases), Use for sending SMS (advertisement)                                          \\\\\n\t 1182 & Use for delivery (sending ordered items), Use for discounts (repeated purchases)                                     \\\\\n\t 1183 & Use for delivery (sending ordered items), Use for discounts (repeated purchases)                                     \\\\\n\t 1184 & Use for discounts (repeated purchases)                                                                               \\\\\n\t 1185 & Use for delivery (sending ordered items), Use for discounts (repeated purchases)                                     \\\\\n\t 1186 & Use for discounts (repeated purchases)                                                                               \\\\\n\t 1187 & Use for delivery (sending ordered items), Use for discounts (repeated purchases)                                     \\\\\n\t 1188 & Use for delivery (sending ordered items), Use for discounts (repeated purchases)                                     \\\\\n\t 1189 & Use for delivery (sending ordered items), Use for discounts (repeated purchases)                                     \\\\\n\t 1190 & Use for discounts (repeated purchases), Use for sending SMS (advertisement)                                          \\\\\n\t 1191 & Use for discounts (repeated purchases), Use for sending SMS (advertisement)                                          \\\\\n\t 1192 & Use for discounts (repeated purchases), Use for sending SMS (advertisement)                                          \\\\\n\t 1193 & Store but do not use                                                                                                 \\\\\n\t 1194 & Use for discounts (repeated purchases)                                                                               \\\\\n\t 1195 & Use for delivery (sending ordered items), Use for discounts (repeated purchases)                                     \\\\\n\t 1196 & Use for discounts (repeated purchases)                                                                               \\\\\n\t 1197 & Use for discounts (repeated purchases)                                                                               \\\\\n\t 1198 & Use for discounts (repeated purchases), Use for sending SMS (advertisement)                                          \\\\\n\t 1199 & Use for discounts (repeated purchases)                                                                               \\\\\n\t 1200 & Use for discounts (repeated purchases)                                                                               \\\\\n\t 1201 & Use for discounts (repeated purchases)                                                                               \\\\\n\t 1202 & Use for discounts (repeated purchases)                                                                               \\\\\n\t 1203 & Use for discounts (repeated purchases)                                                                               \\\\\n\t 1204 & Use for delivery (sending ordered items), Use for discounts (repeated purchases), Use for sending SMS (advertisement)\\\\\n\t 1205 & Use for delivery (sending ordered items), Use for discounts (repeated purchases)                                     \\\\\n\t 1206 & Use for discounts (repeated purchases)                                                                               \\\\\n\t 1207 & Use for discounts (repeated purchases)                                                                               \\\\\n\t 1208 & Use for delivery (sending ordered items), Use for discounts (repeated purchases)                                     \\\\\n\t 1209 & Use for delivery (sending ordered items), Use for discounts (repeated purchases)                                     \\\\\n\t 1210 & Use for delivery (sending ordered items), Use for discounts (repeated purchases)                                     \\\\\n\\end{tabular}\n",
            "text/markdown": "\nA tibble: 1210 × 2\n\n| RESP_ID &lt;int&gt; | ORG_CUSTOMER_DATA &lt;fct&gt; |\n|---|---|\n|  1 | Do not Store                                                                     |\n|  2 | Do not Store, Use for discounts (repeated purchases)                             |\n|  3 | Use for discounts (repeated purchases)                                           |\n|  4 | Use for delivery (sending ordered items), Use for discounts (repeated purchases) |\n|  5 | Use for delivery (sending ordered items), Use for discounts (repeated purchases) |\n|  6 | Use for discounts (repeated purchases)                                           |\n|  7 | Do not Store                                                                     |\n|  8 | Do not Store, Use for discounts (repeated purchases)                             |\n|  9 | Do not Store, Use for discounts (repeated purchases)                             |\n| 10 | Use for discounts (repeated purchases)                                           |\n| 11 | Do not Store, Use for discounts (repeated purchases)                             |\n| 12 | Do not Store, Use for discounts (repeated purchases)                             |\n| 13 | Do not Store                                                                     |\n| 14 | Use for discounts (repeated purchases)                                           |\n| 15 | Use for discounts (repeated purchases)                                           |\n| 16 | Use for discounts (repeated purchases)                                           |\n| 17 | Do not Store, Use for discounts (repeated purchases)                             |\n| 18 | Do not Store                                                                     |\n| 19 | Use for discounts (repeated purchases), Use for sending SMS (advertisement)      |\n| 20 | Use for discounts (repeated purchases)                                           |\n| 21 | Do not Store, Use for discounts (repeated purchases)                             |\n| 22 | Use for delivery (sending ordered items), Use for discounts (repeated purchases) |\n| 23 | Do not Store                                                                     |\n| 24 | Use for discounts (repeated purchases)                                           |\n| 25 | Do not Store                                                                     |\n| 26 | Do not Store                                                                     |\n| 27 | Use for delivery (sending ordered items), Use for discounts (repeated purchases) |\n| 28 | Store but do not use                                                             |\n| 29 | Do not Store, Use for discounts (repeated purchases)                             |\n| 30 | Use for sending SMS (advertisement)                                              |\n| ⋮ | ⋮ |\n| 1181 | Use for discounts (repeated purchases), Use for sending SMS (advertisement)                                           |\n| 1182 | Use for delivery (sending ordered items), Use for discounts (repeated purchases)                                      |\n| 1183 | Use for delivery (sending ordered items), Use for discounts (repeated purchases)                                      |\n| 1184 | Use for discounts (repeated purchases)                                                                                |\n| 1185 | Use for delivery (sending ordered items), Use for discounts (repeated purchases)                                      |\n| 1186 | Use for discounts (repeated purchases)                                                                                |\n| 1187 | Use for delivery (sending ordered items), Use for discounts (repeated purchases)                                      |\n| 1188 | Use for delivery (sending ordered items), Use for discounts (repeated purchases)                                      |\n| 1189 | Use for delivery (sending ordered items), Use for discounts (repeated purchases)                                      |\n| 1190 | Use for discounts (repeated purchases), Use for sending SMS (advertisement)                                           |\n| 1191 | Use for discounts (repeated purchases), Use for sending SMS (advertisement)                                           |\n| 1192 | Use for discounts (repeated purchases), Use for sending SMS (advertisement)                                           |\n| 1193 | Store but do not use                                                                                                  |\n| 1194 | Use for discounts (repeated purchases)                                                                                |\n| 1195 | Use for delivery (sending ordered items), Use for discounts (repeated purchases)                                      |\n| 1196 | Use for discounts (repeated purchases)                                                                                |\n| 1197 | Use for discounts (repeated purchases)                                                                                |\n| 1198 | Use for discounts (repeated purchases), Use for sending SMS (advertisement)                                           |\n| 1199 | Use for discounts (repeated purchases)                                                                                |\n| 1200 | Use for discounts (repeated purchases)                                                                                |\n| 1201 | Use for discounts (repeated purchases)                                                                                |\n| 1202 | Use for discounts (repeated purchases)                                                                                |\n| 1203 | Use for discounts (repeated purchases)                                                                                |\n| 1204 | Use for delivery (sending ordered items), Use for discounts (repeated purchases), Use for sending SMS (advertisement) |\n| 1205 | Use for delivery (sending ordered items), Use for discounts (repeated purchases)                                      |\n| 1206 | Use for discounts (repeated purchases)                                                                                |\n| 1207 | Use for discounts (repeated purchases)                                                                                |\n| 1208 | Use for delivery (sending ordered items), Use for discounts (repeated purchases)                                      |\n| 1209 | Use for delivery (sending ordered items), Use for discounts (repeated purchases)                                      |\n| 1210 | Use for delivery (sending ordered items), Use for discounts (repeated purchases)                                      |\n\n",
            "text/html": [
              "<table class=\"dataframe\">\n",
              "<caption>A tibble: 1210 × 2</caption>\n",
              "<thead>\n",
              "\t<tr><th scope=col>RESP_ID</th><th scope=col>ORG_CUSTOMER_DATA</th></tr>\n",
              "\t<tr><th scope=col>&lt;int&gt;</th><th scope=col>&lt;fct&gt;</th></tr>\n",
              "</thead>\n",
              "<tbody>\n",
              "\t<tr><td> 1</td><td>Do not Store                                                                    </td></tr>\n",
              "\t<tr><td> 2</td><td>Do not Store, Use for discounts (repeated purchases)                            </td></tr>\n",
              "\t<tr><td> 3</td><td>Use for discounts (repeated purchases)                                          </td></tr>\n",
              "\t<tr><td> 4</td><td>Use for delivery (sending ordered items), Use for discounts (repeated purchases)</td></tr>\n",
              "\t<tr><td> 5</td><td>Use for delivery (sending ordered items), Use for discounts (repeated purchases)</td></tr>\n",
              "\t<tr><td> 6</td><td>Use for discounts (repeated purchases)                                          </td></tr>\n",
              "\t<tr><td> 7</td><td>Do not Store                                                                    </td></tr>\n",
              "\t<tr><td> 8</td><td>Do not Store, Use for discounts (repeated purchases)                            </td></tr>\n",
              "\t<tr><td> 9</td><td>Do not Store, Use for discounts (repeated purchases)                            </td></tr>\n",
              "\t<tr><td>10</td><td>Use for discounts (repeated purchases)                                          </td></tr>\n",
              "\t<tr><td>11</td><td>Do not Store, Use for discounts (repeated purchases)                            </td></tr>\n",
              "\t<tr><td>12</td><td>Do not Store, Use for discounts (repeated purchases)                            </td></tr>\n",
              "\t<tr><td>13</td><td>Do not Store                                                                    </td></tr>\n",
              "\t<tr><td>14</td><td>Use for discounts (repeated purchases)                                          </td></tr>\n",
              "\t<tr><td>15</td><td>Use for discounts (repeated purchases)                                          </td></tr>\n",
              "\t<tr><td>16</td><td>Use for discounts (repeated purchases)                                          </td></tr>\n",
              "\t<tr><td>17</td><td>Do not Store, Use for discounts (repeated purchases)                            </td></tr>\n",
              "\t<tr><td>18</td><td>Do not Store                                                                    </td></tr>\n",
              "\t<tr><td>19</td><td>Use for discounts (repeated purchases), Use for sending SMS (advertisement)     </td></tr>\n",
              "\t<tr><td>20</td><td>Use for discounts (repeated purchases)                                          </td></tr>\n",
              "\t<tr><td>21</td><td>Do not Store, Use for discounts (repeated purchases)                            </td></tr>\n",
              "\t<tr><td>22</td><td>Use for delivery (sending ordered items), Use for discounts (repeated purchases)</td></tr>\n",
              "\t<tr><td>23</td><td>Do not Store                                                                    </td></tr>\n",
              "\t<tr><td>24</td><td>Use for discounts (repeated purchases)                                          </td></tr>\n",
              "\t<tr><td>25</td><td>Do not Store                                                                    </td></tr>\n",
              "\t<tr><td>26</td><td>Do not Store                                                                    </td></tr>\n",
              "\t<tr><td>27</td><td>Use for delivery (sending ordered items), Use for discounts (repeated purchases)</td></tr>\n",
              "\t<tr><td>28</td><td>Store but do not use                                                            </td></tr>\n",
              "\t<tr><td>29</td><td>Do not Store, Use for discounts (repeated purchases)                            </td></tr>\n",
              "\t<tr><td>30</td><td>Use for sending SMS (advertisement)                                             </td></tr>\n",
              "\t<tr><td>⋮</td><td>⋮</td></tr>\n",
              "\t<tr><td>1181</td><td>Use for discounts (repeated purchases), Use for sending SMS (advertisement)                                          </td></tr>\n",
              "\t<tr><td>1182</td><td>Use for delivery (sending ordered items), Use for discounts (repeated purchases)                                     </td></tr>\n",
              "\t<tr><td>1183</td><td>Use for delivery (sending ordered items), Use for discounts (repeated purchases)                                     </td></tr>\n",
              "\t<tr><td>1184</td><td>Use for discounts (repeated purchases)                                                                               </td></tr>\n",
              "\t<tr><td>1185</td><td>Use for delivery (sending ordered items), Use for discounts (repeated purchases)                                     </td></tr>\n",
              "\t<tr><td>1186</td><td>Use for discounts (repeated purchases)                                                                               </td></tr>\n",
              "\t<tr><td>1187</td><td>Use for delivery (sending ordered items), Use for discounts (repeated purchases)                                     </td></tr>\n",
              "\t<tr><td>1188</td><td>Use for delivery (sending ordered items), Use for discounts (repeated purchases)                                     </td></tr>\n",
              "\t<tr><td>1189</td><td>Use for delivery (sending ordered items), Use for discounts (repeated purchases)                                     </td></tr>\n",
              "\t<tr><td>1190</td><td>Use for discounts (repeated purchases), Use for sending SMS (advertisement)                                          </td></tr>\n",
              "\t<tr><td>1191</td><td>Use for discounts (repeated purchases), Use for sending SMS (advertisement)                                          </td></tr>\n",
              "\t<tr><td>1192</td><td>Use for discounts (repeated purchases), Use for sending SMS (advertisement)                                          </td></tr>\n",
              "\t<tr><td>1193</td><td>Store but do not use                                                                                                 </td></tr>\n",
              "\t<tr><td>1194</td><td>Use for discounts (repeated purchases)                                                                               </td></tr>\n",
              "\t<tr><td>1195</td><td>Use for delivery (sending ordered items), Use for discounts (repeated purchases)                                     </td></tr>\n",
              "\t<tr><td>1196</td><td>Use for discounts (repeated purchases)                                                                               </td></tr>\n",
              "\t<tr><td>1197</td><td>Use for discounts (repeated purchases)                                                                               </td></tr>\n",
              "\t<tr><td>1198</td><td>Use for discounts (repeated purchases), Use for sending SMS (advertisement)                                          </td></tr>\n",
              "\t<tr><td>1199</td><td>Use for discounts (repeated purchases)                                                                               </td></tr>\n",
              "\t<tr><td>1200</td><td>Use for discounts (repeated purchases)                                                                               </td></tr>\n",
              "\t<tr><td>1201</td><td>Use for discounts (repeated purchases)                                                                               </td></tr>\n",
              "\t<tr><td>1202</td><td>Use for discounts (repeated purchases)                                                                               </td></tr>\n",
              "\t<tr><td>1203</td><td>Use for discounts (repeated purchases)                                                                               </td></tr>\n",
              "\t<tr><td>1204</td><td>Use for delivery (sending ordered items), Use for discounts (repeated purchases), Use for sending SMS (advertisement)</td></tr>\n",
              "\t<tr><td>1205</td><td>Use for delivery (sending ordered items), Use for discounts (repeated purchases)                                     </td></tr>\n",
              "\t<tr><td>1206</td><td>Use for discounts (repeated purchases)                                                                               </td></tr>\n",
              "\t<tr><td>1207</td><td>Use for discounts (repeated purchases)                                                                               </td></tr>\n",
              "\t<tr><td>1208</td><td>Use for delivery (sending ordered items), Use for discounts (repeated purchases)                                     </td></tr>\n",
              "\t<tr><td>1209</td><td>Use for delivery (sending ordered items), Use for discounts (repeated purchases)                                     </td></tr>\n",
              "\t<tr><td>1210</td><td>Use for delivery (sending ordered items), Use for discounts (repeated purchases)                                     </td></tr>\n",
              "</tbody>\n",
              "</table>\n"
            ]
          },
          "metadata": {
            "tags": []
          }
        }
      ]
    },
    {
      "cell_type": "code",
      "metadata": {
        "colab": {
          "base_uri": "https://localhost:8080/"
        },
        "id": "fdehntxdYqJe",
        "outputId": "e901bacc-eed3-49b3-c569-b27807e44771"
      },
      "source": [
        "df_with_2 %>%\n",
        "    dplyr::select(RESP_ID, ORG_CUSTOMER_DATA) %>%\n",
        "    tidyr::gather(ORG_CUSTOMER_DATA, answer, -RESP_ID) %>%\n",
        "    dplyr::filter(!is.na(answer)) %>%\n",
        "    tidyr::unnest(answer = stringr::str_split(answer, \", \")) -> df_customer_data\n"
      ],
      "execution_count": 134,
      "outputs": [
        {
          "output_type": "stream",
          "text": [
            "Warning message:\n",
            "“unnest() has a new interface. See ?unnest for details.\n",
            "Try `df %>% unnest(c(answer))`, with `mutate()` if needed”\n"
          ],
          "name": "stderr"
        }
      ]
    },
    {
      "cell_type": "code",
      "metadata": {
        "colab": {
          "base_uri": "https://localhost:8080/"
        },
        "id": "3rlxdco1ZDAn",
        "outputId": "c5154a4e-9eed-4ecb-dd6d-dc5175d62902"
      },
      "source": [
        "df_customer_data %>% glimpse()"
      ],
      "execution_count": 135,
      "outputs": [
        {
          "output_type": "stream",
          "text": [
            "Rows: 1,693\n",
            "Columns: 3\n",
            "$ RESP_ID           \u001b[3m\u001b[90m<int>\u001b[39m\u001b[23m 1, 2, 2, 3, 4, 4, 5, 5, 6, 7, 8, 8, 9, 9, 10, 11, 11…\n",
            "$ ORG_CUSTOMER_DATA \u001b[3m\u001b[90m<chr>\u001b[39m\u001b[23m \"ORG_CUSTOMER_DATA\", \"ORG_CUSTOMER_DATA\", \"ORG_CUSTO…\n",
            "$ answer            \u001b[3m\u001b[90m<chr>\u001b[39m\u001b[23m \"Do not Store\", \"Do not Store\", \"Use for discounts (…\n"
          ],
          "name": "stdout"
        }
      ]
    },
    {
      "cell_type": "code",
      "metadata": {
        "colab": {
          "base_uri": "https://localhost:8080/",
          "height": 282
        },
        "id": "56EYWUoNaiu4",
        "outputId": "27067c4b-e563-42f6-d6f1-244f4b8b022f"
      },
      "source": [
        "tabyl(df_customer_data$answer)"
      ],
      "execution_count": 136,
      "outputs": [
        {
          "output_type": "display_data",
          "data": {
            "text/plain": [
              "  df_customer_data$answer                  n   percent   \n",
              "1 -                                          4 0.00236267\n",
              "2 Do not Store                             717 0.42350856\n",
              "3 Store but do not use                     176 0.10395747\n",
              "4 Use for delivery (sending ordered items)  51 0.03012404\n",
              "5 Use for discounts (repeated purchases)   692 0.40874188\n",
              "6 Use for sending SMS (advertisement)       53 0.03130538"
            ],
            "text/latex": "A tabyl: 6 × 3\n\\begin{tabular}{lll}\n df\\_customer\\_data\\$answer & n & percent\\\\\n <chr> & <dbl> & <dbl>\\\\\n\\hline\n\t -                                        &   4 & 0.00236267\\\\\n\t Do not Store                             & 717 & 0.42350856\\\\\n\t Store but do not use                     & 176 & 0.10395747\\\\\n\t Use for delivery (sending ordered items) &  51 & 0.03012404\\\\\n\t Use for discounts (repeated purchases)   & 692 & 0.40874188\\\\\n\t Use for sending SMS (advertisement)      &  53 & 0.03130538\\\\\n\\end{tabular}\n",
            "text/markdown": "\nA tabyl: 6 × 3\n\n| df_customer_data$answer &lt;chr&gt; | n &lt;dbl&gt; | percent &lt;dbl&gt; |\n|---|---|---|\n| -                                        |   4 | 0.00236267 |\n| Do not Store                             | 717 | 0.42350856 |\n| Store but do not use                     | 176 | 0.10395747 |\n| Use for delivery (sending ordered items) |  51 | 0.03012404 |\n| Use for discounts (repeated purchases)   | 692 | 0.40874188 |\n| Use for sending SMS (advertisement)      |  53 | 0.03130538 |\n\n",
            "text/html": [
              "<table class=\"dataframe\">\n",
              "<caption>A tabyl: 6 × 3</caption>\n",
              "<thead>\n",
              "\t<tr><th scope=col>df_customer_data$answer</th><th scope=col>n</th><th scope=col>percent</th></tr>\n",
              "\t<tr><th scope=col>&lt;chr&gt;</th><th scope=col>&lt;dbl&gt;</th><th scope=col>&lt;dbl&gt;</th></tr>\n",
              "</thead>\n",
              "<tbody>\n",
              "\t<tr><td>-                                       </td><td>  4</td><td>0.00236267</td></tr>\n",
              "\t<tr><td>Do not Store                            </td><td>717</td><td>0.42350856</td></tr>\n",
              "\t<tr><td>Store but do not use                    </td><td>176</td><td>0.10395747</td></tr>\n",
              "\t<tr><td>Use for delivery (sending ordered items)</td><td> 51</td><td>0.03012404</td></tr>\n",
              "\t<tr><td>Use for discounts (repeated purchases)  </td><td>692</td><td>0.40874188</td></tr>\n",
              "\t<tr><td>Use for sending SMS (advertisement)     </td><td> 53</td><td>0.03130538</td></tr>\n",
              "</tbody>\n",
              "</table>\n"
            ]
          },
          "metadata": {
            "tags": []
          }
        }
      ]
    },
    {
      "cell_type": "markdown",
      "metadata": {
        "id": "tp23-sn9bBib"
      },
      "source": [
        "Converting from CHR to FACTOR"
      ]
    },
    {
      "cell_type": "code",
      "metadata": {
        "id": "6epRDCecbEMm"
      },
      "source": [
        "df_customer_data$answer %>% \n",
        "factor() %>% \n",
        "fct_inorder() -> df_customer_data$answer"
      ],
      "execution_count": 137,
      "outputs": []
    },
    {
      "cell_type": "code",
      "metadata": {
        "colab": {
          "base_uri": "https://localhost:8080/",
          "height": 282
        },
        "id": "KHviF-iSbwn2",
        "outputId": "c0656f3e-3bad-415a-d66c-094fe6f5a249"
      },
      "source": [
        "tabyl(df_customer_data$answer)"
      ],
      "execution_count": 138,
      "outputs": [
        {
          "output_type": "display_data",
          "data": {
            "text/plain": [
              "  df_customer_data$answer                  n   percent   \n",
              "1 Do not Store                             717 0.42350856\n",
              "2 Use for discounts (repeated purchases)   692 0.40874188\n",
              "3 Use for delivery (sending ordered items)  51 0.03012404\n",
              "4 Use for sending SMS (advertisement)       53 0.03130538\n",
              "5 Store but do not use                     176 0.10395747\n",
              "6 -                                          4 0.00236267"
            ],
            "text/latex": "A tabyl: 6 × 3\n\\begin{tabular}{lll}\n df\\_customer\\_data\\$answer & n & percent\\\\\n <fct> & <dbl> & <dbl>\\\\\n\\hline\n\t Do not Store                             & 717 & 0.42350856\\\\\n\t Use for discounts (repeated purchases)   & 692 & 0.40874188\\\\\n\t Use for delivery (sending ordered items) &  51 & 0.03012404\\\\\n\t Use for sending SMS (advertisement)      &  53 & 0.03130538\\\\\n\t Store but do not use                     & 176 & 0.10395747\\\\\n\t -                                        &   4 & 0.00236267\\\\\n\\end{tabular}\n",
            "text/markdown": "\nA tabyl: 6 × 3\n\n| df_customer_data$answer &lt;fct&gt; | n &lt;dbl&gt; | percent &lt;dbl&gt; |\n|---|---|---|\n| Do not Store                             | 717 | 0.42350856 |\n| Use for discounts (repeated purchases)   | 692 | 0.40874188 |\n| Use for delivery (sending ordered items) |  51 | 0.03012404 |\n| Use for sending SMS (advertisement)      |  53 | 0.03130538 |\n| Store but do not use                     | 176 | 0.10395747 |\n| -                                        |   4 | 0.00236267 |\n\n",
            "text/html": [
              "<table class=\"dataframe\">\n",
              "<caption>A tabyl: 6 × 3</caption>\n",
              "<thead>\n",
              "\t<tr><th scope=col>df_customer_data$answer</th><th scope=col>n</th><th scope=col>percent</th></tr>\n",
              "\t<tr><th scope=col>&lt;fct&gt;</th><th scope=col>&lt;dbl&gt;</th><th scope=col>&lt;dbl&gt;</th></tr>\n",
              "</thead>\n",
              "<tbody>\n",
              "\t<tr><td>Do not Store                            </td><td>717</td><td>0.42350856</td></tr>\n",
              "\t<tr><td>Use for discounts (repeated purchases)  </td><td>692</td><td>0.40874188</td></tr>\n",
              "\t<tr><td>Use for delivery (sending ordered items)</td><td> 51</td><td>0.03012404</td></tr>\n",
              "\t<tr><td>Use for sending SMS (advertisement)     </td><td> 53</td><td>0.03130538</td></tr>\n",
              "\t<tr><td>Store but do not use                    </td><td>176</td><td>0.10395747</td></tr>\n",
              "\t<tr><td>-                                       </td><td>  4</td><td>0.00236267</td></tr>\n",
              "</tbody>\n",
              "</table>\n"
            ]
          },
          "metadata": {
            "tags": []
          }
        }
      ]
    },
    {
      "cell_type": "markdown",
      "metadata": {
        "id": "SeZy_cbMa46j"
      },
      "source": [
        "Replace - with No Answer"
      ]
    },
    {
      "cell_type": "code",
      "metadata": {
        "colab": {
          "base_uri": "https://localhost:8080/",
          "height": 51
        },
        "id": "lNwyAEnHarQD",
        "outputId": "28b94592-e13f-4c13-e1e5-fc3bb83be007"
      },
      "source": [
        "levels(df_customer_data$answer)"
      ],
      "execution_count": 139,
      "outputs": [
        {
          "output_type": "display_data",
          "data": {
            "text/plain": [
              "[1] \"Do not Store\"                            \n",
              "[2] \"Use for discounts (repeated purchases)\"  \n",
              "[3] \"Use for delivery (sending ordered items)\"\n",
              "[4] \"Use for sending SMS (advertisement)\"     \n",
              "[5] \"Store but do not use\"                    \n",
              "[6] \"-\"                                       "
            ],
            "text/latex": "\\begin{enumerate*}\n\\item 'Do not Store'\n\\item 'Use for discounts (repeated purchases)'\n\\item 'Use for delivery (sending ordered items)'\n\\item 'Use for sending SMS (advertisement)'\n\\item 'Store but do not use'\n\\item '-'\n\\end{enumerate*}\n",
            "text/markdown": "1. 'Do not Store'\n2. 'Use for discounts (repeated purchases)'\n3. 'Use for delivery (sending ordered items)'\n4. 'Use for sending SMS (advertisement)'\n5. 'Store but do not use'\n6. '-'\n\n\n",
            "text/html": [
              "<style>\n",
              ".list-inline {list-style: none; margin:0; padding: 0}\n",
              ".list-inline>li {display: inline-block}\n",
              ".list-inline>li:not(:last-child)::after {content: \"\\00b7\"; padding: 0 .5ex}\n",
              "</style>\n",
              "<ol class=list-inline><li>'Do not Store'</li><li>'Use for discounts (repeated purchases)'</li><li>'Use for delivery (sending ordered items)'</li><li>'Use for sending SMS (advertisement)'</li><li>'Store but do not use'</li><li>'-'</li></ol>\n"
            ]
          },
          "metadata": {
            "tags": []
          }
        }
      ]
    },
    {
      "cell_type": "code",
      "metadata": {
        "id": "FIzALwifb4wH"
      },
      "source": [
        "df_customer_data <- df_customer_data %>% \n",
        "   mutate (answer = fct_recode(df_customer_data$answer, \n",
        "   'No ANS' = '-'))"
      ],
      "execution_count": 140,
      "outputs": []
    },
    {
      "cell_type": "code",
      "metadata": {
        "colab": {
          "base_uri": "https://localhost:8080/",
          "height": 51
        },
        "id": "mNnzQ6JEdBoz",
        "outputId": "8758ad71-33ba-4a82-88bf-fed88d621d2a"
      },
      "source": [
        "levels(df_customer_data$answer)"
      ],
      "execution_count": 141,
      "outputs": [
        {
          "output_type": "display_data",
          "data": {
            "text/plain": [
              "[1] \"Do not Store\"                            \n",
              "[2] \"Use for discounts (repeated purchases)\"  \n",
              "[3] \"Use for delivery (sending ordered items)\"\n",
              "[4] \"Use for sending SMS (advertisement)\"     \n",
              "[5] \"Store but do not use\"                    \n",
              "[6] \"No ANS\"                                  "
            ],
            "text/latex": "\\begin{enumerate*}\n\\item 'Do not Store'\n\\item 'Use for discounts (repeated purchases)'\n\\item 'Use for delivery (sending ordered items)'\n\\item 'Use for sending SMS (advertisement)'\n\\item 'Store but do not use'\n\\item 'No ANS'\n\\end{enumerate*}\n",
            "text/markdown": "1. 'Do not Store'\n2. 'Use for discounts (repeated purchases)'\n3. 'Use for delivery (sending ordered items)'\n4. 'Use for sending SMS (advertisement)'\n5. 'Store but do not use'\n6. 'No ANS'\n\n\n",
            "text/html": [
              "<style>\n",
              ".list-inline {list-style: none; margin:0; padding: 0}\n",
              ".list-inline>li {display: inline-block}\n",
              ".list-inline>li:not(:last-child)::after {content: \"\\00b7\"; padding: 0 .5ex}\n",
              "</style>\n",
              "<ol class=list-inline><li>'Do not Store'</li><li>'Use for discounts (repeated purchases)'</li><li>'Use for delivery (sending ordered items)'</li><li>'Use for sending SMS (advertisement)'</li><li>'Store but do not use'</li><li>'No ANS'</li></ol>\n"
            ]
          },
          "metadata": {
            "tags": []
          }
        }
      ]
    },
    {
      "cell_type": "code",
      "metadata": {
        "colab": {
          "base_uri": "https://localhost:8080/"
        },
        "id": "SAMdNn7s06R8",
        "outputId": "aa232e3c-abdb-4944-d376-b758d94ff61e"
      },
      "source": [
        "df_customer_data %>% glimpse()"
      ],
      "execution_count": 142,
      "outputs": [
        {
          "output_type": "stream",
          "text": [
            "Rows: 1,693\n",
            "Columns: 3\n",
            "$ RESP_ID           \u001b[3m\u001b[90m<int>\u001b[39m\u001b[23m 1, 2, 2, 3, 4, 4, 5, 5, 6, 7, 8, 8, 9, 9, 10, 11, 11…\n",
            "$ ORG_CUSTOMER_DATA \u001b[3m\u001b[90m<chr>\u001b[39m\u001b[23m \"ORG_CUSTOMER_DATA\", \"ORG_CUSTOMER_DATA\", \"ORG_CUSTO…\n",
            "$ answer            \u001b[3m\u001b[90m<fct>\u001b[39m\u001b[23m Do not Store, Do not Store, Use for discounts (repea…\n"
          ],
          "name": "stdout"
        }
      ]
    },
    {
      "cell_type": "code",
      "metadata": {
        "id": "xMDTJr_01Cjj"
      },
      "source": [
        ""
      ],
      "execution_count": 143,
      "outputs": []
    },
    {
      "cell_type": "markdown",
      "metadata": {
        "id": "CScgo3O0xD6V"
      },
      "source": [
        "##### 1.6 ORG_EMP_COUNT  "
      ]
    },
    {
      "cell_type": "code",
      "metadata": {
        "id": "n6Ob6ZjoB6bZ"
      },
      "source": [
        "#df_with_1 = df_with"
      ],
      "execution_count": 144,
      "outputs": []
    },
    {
      "cell_type": "code",
      "metadata": {
        "colab": {
          "base_uri": "https://localhost:8080/",
          "height": 437
        },
        "id": "-cMvpRZgxO1E",
        "outputId": "41b7c292-7fbb-4682-b88b-db1311503af8"
      },
      "source": [
        "df_with_2 %>% tabyl(ORG_EMP_COUNT)"
      ],
      "execution_count": 145,
      "outputs": [
        {
          "output_type": "display_data",
          "data": {
            "text/plain": [
              "   ORG_EMP_COUNT n   percent     \n",
              "1  1             465 0.3842975207\n",
              "2  10              3 0.0024793388\n",
              "3  10+             2 0.0016528926\n",
              "4  2             242 0.2000000000\n",
              "5  3             231 0.1909090909\n",
              "6  4             145 0.1198347107\n",
              "7  5              93 0.0768595041\n",
              "8  6              24 0.0198347107\n",
              "9  7               3 0.0024793388\n",
              "10 8               1 0.0008264463\n",
              "11 9               1 0.0008264463"
            ],
            "text/latex": "A tabyl: 11 × 3\n\\begin{tabular}{lll}\n ORG\\_EMP\\_COUNT & n & percent\\\\\n <fct> & <dbl> & <dbl>\\\\\n\\hline\n\t 1   & 465 & 0.3842975207\\\\\n\t 10  &   3 & 0.0024793388\\\\\n\t 10+ &   2 & 0.0016528926\\\\\n\t 2   & 242 & 0.2000000000\\\\\n\t 3   & 231 & 0.1909090909\\\\\n\t 4   & 145 & 0.1198347107\\\\\n\t 5   &  93 & 0.0768595041\\\\\n\t 6   &  24 & 0.0198347107\\\\\n\t 7   &   3 & 0.0024793388\\\\\n\t 8   &   1 & 0.0008264463\\\\\n\t 9   &   1 & 0.0008264463\\\\\n\\end{tabular}\n",
            "text/markdown": "\nA tabyl: 11 × 3\n\n| ORG_EMP_COUNT &lt;fct&gt; | n &lt;dbl&gt; | percent &lt;dbl&gt; |\n|---|---|---|\n| 1   | 465 | 0.3842975207 |\n| 10  |   3 | 0.0024793388 |\n| 10+ |   2 | 0.0016528926 |\n| 2   | 242 | 0.2000000000 |\n| 3   | 231 | 0.1909090909 |\n| 4   | 145 | 0.1198347107 |\n| 5   |  93 | 0.0768595041 |\n| 6   |  24 | 0.0198347107 |\n| 7   |   3 | 0.0024793388 |\n| 8   |   1 | 0.0008264463 |\n| 9   |   1 | 0.0008264463 |\n\n",
            "text/html": [
              "<table class=\"dataframe\">\n",
              "<caption>A tabyl: 11 × 3</caption>\n",
              "<thead>\n",
              "\t<tr><th scope=col>ORG_EMP_COUNT</th><th scope=col>n</th><th scope=col>percent</th></tr>\n",
              "\t<tr><th scope=col>&lt;fct&gt;</th><th scope=col>&lt;dbl&gt;</th><th scope=col>&lt;dbl&gt;</th></tr>\n",
              "</thead>\n",
              "<tbody>\n",
              "\t<tr><td>1  </td><td>465</td><td>0.3842975207</td></tr>\n",
              "\t<tr><td>10 </td><td>  3</td><td>0.0024793388</td></tr>\n",
              "\t<tr><td>10+</td><td>  2</td><td>0.0016528926</td></tr>\n",
              "\t<tr><td>2  </td><td>242</td><td>0.2000000000</td></tr>\n",
              "\t<tr><td>3  </td><td>231</td><td>0.1909090909</td></tr>\n",
              "\t<tr><td>4  </td><td>145</td><td>0.1198347107</td></tr>\n",
              "\t<tr><td>5  </td><td> 93</td><td>0.0768595041</td></tr>\n",
              "\t<tr><td>6  </td><td> 24</td><td>0.0198347107</td></tr>\n",
              "\t<tr><td>7  </td><td>  3</td><td>0.0024793388</td></tr>\n",
              "\t<tr><td>8  </td><td>  1</td><td>0.0008264463</td></tr>\n",
              "\t<tr><td>9  </td><td>  1</td><td>0.0008264463</td></tr>\n",
              "</tbody>\n",
              "</table>\n"
            ]
          },
          "metadata": {
            "tags": []
          }
        }
      ]
    },
    {
      "cell_type": "markdown",
      "metadata": {
        "id": "qGUbjUdEBear"
      },
      "source": [
        "reordering levels"
      ]
    },
    {
      "cell_type": "code",
      "metadata": {
        "colab": {
          "base_uri": "https://localhost:8080/",
          "height": 34
        },
        "id": "N73Fn4PlCUx8",
        "outputId": "230133ff-37f2-4051-86fd-f41fe916e0ce"
      },
      "source": [
        "levels(df_with_2$ORG_EMP_COUNT)"
      ],
      "execution_count": 146,
      "outputs": [
        {
          "output_type": "display_data",
          "data": {
            "text/plain": [
              " [1] \"1\"   \"10\"  \"10+\" \"2\"   \"3\"   \"4\"   \"5\"   \"6\"   \"7\"   \"8\"   \"9\"  "
            ],
            "text/latex": "\\begin{enumerate*}\n\\item '1'\n\\item '10'\n\\item '10+'\n\\item '2'\n\\item '3'\n\\item '4'\n\\item '5'\n\\item '6'\n\\item '7'\n\\item '8'\n\\item '9'\n\\end{enumerate*}\n",
            "text/markdown": "1. '1'\n2. '10'\n3. '10+'\n4. '2'\n5. '3'\n6. '4'\n7. '5'\n8. '6'\n9. '7'\n10. '8'\n11. '9'\n\n\n",
            "text/html": [
              "<style>\n",
              ".list-inline {list-style: none; margin:0; padding: 0}\n",
              ".list-inline>li {display: inline-block}\n",
              ".list-inline>li:not(:last-child)::after {content: \"\\00b7\"; padding: 0 .5ex}\n",
              "</style>\n",
              "<ol class=list-inline><li>'1'</li><li>'10'</li><li>'10+'</li><li>'2'</li><li>'3'</li><li>'4'</li><li>'5'</li><li>'6'</li><li>'7'</li><li>'8'</li><li>'9'</li></ol>\n"
            ]
          },
          "metadata": {
            "tags": []
          }
        }
      ]
    },
    {
      "cell_type": "code",
      "metadata": {
        "colab": {
          "base_uri": "https://localhost:8080/"
        },
        "id": "jagftxfbBgWr",
        "outputId": "3a470cb2-1af3-4257-ba91-6b21a0afc610"
      },
      "source": [
        "df_with_2 <- df_with_2 %>% \n",
        "   mutate (ORG_EMP_COUNT = fct_relevel(ORG_EMP_COUNT, \n",
        "   levels=c('1','2','3','4','5','6','7','8','9','10','10+')))"
      ],
      "execution_count": 147,
      "outputs": [
        {
          "output_type": "stream",
          "text": [
            "Warning message:\n",
            "“Outer names are only allowed for unnamed scalar atomic inputs”\n"
          ],
          "name": "stderr"
        }
      ]
    },
    {
      "cell_type": "code",
      "metadata": {
        "colab": {
          "base_uri": "https://localhost:8080/",
          "height": 437
        },
        "id": "zen9mGXYeKeY",
        "outputId": "f55a6045-4708-42fb-e166-4d0e471b875b"
      },
      "source": [
        "tabyl(df_with_2$ORG_EMP_COUNT)"
      ],
      "execution_count": 148,
      "outputs": [
        {
          "output_type": "display_data",
          "data": {
            "text/plain": [
              "   df_with_2$ORG_EMP_COUNT n   percent     \n",
              "1  1                       465 0.3842975207\n",
              "2  2                       242 0.2000000000\n",
              "3  3                       231 0.1909090909\n",
              "4  4                       145 0.1198347107\n",
              "5  5                        93 0.0768595041\n",
              "6  6                        24 0.0198347107\n",
              "7  7                         3 0.0024793388\n",
              "8  8                         1 0.0008264463\n",
              "9  9                         1 0.0008264463\n",
              "10 10                        3 0.0024793388\n",
              "11 10+                       2 0.0016528926"
            ],
            "text/latex": "A tabyl: 11 × 3\n\\begin{tabular}{lll}\n df\\_with\\_2\\$ORG\\_EMP\\_COUNT & n & percent\\\\\n <fct> & <dbl> & <dbl>\\\\\n\\hline\n\t 1   & 465 & 0.3842975207\\\\\n\t 2   & 242 & 0.2000000000\\\\\n\t 3   & 231 & 0.1909090909\\\\\n\t 4   & 145 & 0.1198347107\\\\\n\t 5   &  93 & 0.0768595041\\\\\n\t 6   &  24 & 0.0198347107\\\\\n\t 7   &   3 & 0.0024793388\\\\\n\t 8   &   1 & 0.0008264463\\\\\n\t 9   &   1 & 0.0008264463\\\\\n\t 10  &   3 & 0.0024793388\\\\\n\t 10+ &   2 & 0.0016528926\\\\\n\\end{tabular}\n",
            "text/markdown": "\nA tabyl: 11 × 3\n\n| df_with_2$ORG_EMP_COUNT &lt;fct&gt; | n &lt;dbl&gt; | percent &lt;dbl&gt; |\n|---|---|---|\n| 1   | 465 | 0.3842975207 |\n| 2   | 242 | 0.2000000000 |\n| 3   | 231 | 0.1909090909 |\n| 4   | 145 | 0.1198347107 |\n| 5   |  93 | 0.0768595041 |\n| 6   |  24 | 0.0198347107 |\n| 7   |   3 | 0.0024793388 |\n| 8   |   1 | 0.0008264463 |\n| 9   |   1 | 0.0008264463 |\n| 10  |   3 | 0.0024793388 |\n| 10+ |   2 | 0.0016528926 |\n\n",
            "text/html": [
              "<table class=\"dataframe\">\n",
              "<caption>A tabyl: 11 × 3</caption>\n",
              "<thead>\n",
              "\t<tr><th scope=col>df_with_2$ORG_EMP_COUNT</th><th scope=col>n</th><th scope=col>percent</th></tr>\n",
              "\t<tr><th scope=col>&lt;fct&gt;</th><th scope=col>&lt;dbl&gt;</th><th scope=col>&lt;dbl&gt;</th></tr>\n",
              "</thead>\n",
              "<tbody>\n",
              "\t<tr><td>1  </td><td>465</td><td>0.3842975207</td></tr>\n",
              "\t<tr><td>2  </td><td>242</td><td>0.2000000000</td></tr>\n",
              "\t<tr><td>3  </td><td>231</td><td>0.1909090909</td></tr>\n",
              "\t<tr><td>4  </td><td>145</td><td>0.1198347107</td></tr>\n",
              "\t<tr><td>5  </td><td> 93</td><td>0.0768595041</td></tr>\n",
              "\t<tr><td>6  </td><td> 24</td><td>0.0198347107</td></tr>\n",
              "\t<tr><td>7  </td><td>  3</td><td>0.0024793388</td></tr>\n",
              "\t<tr><td>8  </td><td>  1</td><td>0.0008264463</td></tr>\n",
              "\t<tr><td>9  </td><td>  1</td><td>0.0008264463</td></tr>\n",
              "\t<tr><td>10 </td><td>  3</td><td>0.0024793388</td></tr>\n",
              "\t<tr><td>10+</td><td>  2</td><td>0.0016528926</td></tr>\n",
              "</tbody>\n",
              "</table>\n"
            ]
          },
          "metadata": {
            "tags": []
          }
        }
      ]
    },
    {
      "cell_type": "markdown",
      "metadata": {
        "id": "Yf19YogJyLiI"
      },
      "source": [
        "##### 1.7 ORG_INTERNET_DISRUPTION"
      ]
    },
    {
      "cell_type": "code",
      "metadata": {
        "colab": {
          "base_uri": "https://localhost:8080/",
          "height": 251
        },
        "id": "QAbfKVdiyYXq",
        "outputId": "bc42874a-52f9-4c04-a2d0-62d66554cb29"
      },
      "source": [
        "df_with_2 %>% tabyl (ORG_INTERNET_DISRUPTION)"
      ],
      "execution_count": 149,
      "outputs": [
        {
          "output_type": "display_data",
          "data": {
            "text/plain": [
              "  ORG_INTERNET_DISRUPTION n   percent    \n",
              "1 A lot                    20 0.016528926\n",
              "2 Little                  136 0.112396694\n",
              "3 Never                   701 0.579338843\n",
              "4 No Internet               9 0.007438017\n",
              "5 Sometimes               344 0.284297521"
            ],
            "text/latex": "A tabyl: 5 × 3\n\\begin{tabular}{lll}\n ORG\\_INTERNET\\_DISRUPTION & n & percent\\\\\n <fct> & <dbl> & <dbl>\\\\\n\\hline\n\t A lot       &  20 & 0.016528926\\\\\n\t Little      & 136 & 0.112396694\\\\\n\t Never       & 701 & 0.579338843\\\\\n\t No Internet &   9 & 0.007438017\\\\\n\t Sometimes   & 344 & 0.284297521\\\\\n\\end{tabular}\n",
            "text/markdown": "\nA tabyl: 5 × 3\n\n| ORG_INTERNET_DISRUPTION &lt;fct&gt; | n &lt;dbl&gt; | percent &lt;dbl&gt; |\n|---|---|---|\n| A lot       |  20 | 0.016528926 |\n| Little      | 136 | 0.112396694 |\n| Never       | 701 | 0.579338843 |\n| No Internet |   9 | 0.007438017 |\n| Sometimes   | 344 | 0.284297521 |\n\n",
            "text/html": [
              "<table class=\"dataframe\">\n",
              "<caption>A tabyl: 5 × 3</caption>\n",
              "<thead>\n",
              "\t<tr><th scope=col>ORG_INTERNET_DISRUPTION</th><th scope=col>n</th><th scope=col>percent</th></tr>\n",
              "\t<tr><th scope=col>&lt;fct&gt;</th><th scope=col>&lt;dbl&gt;</th><th scope=col>&lt;dbl&gt;</th></tr>\n",
              "</thead>\n",
              "<tbody>\n",
              "\t<tr><td>A lot      </td><td> 20</td><td>0.016528926</td></tr>\n",
              "\t<tr><td>Little     </td><td>136</td><td>0.112396694</td></tr>\n",
              "\t<tr><td>Never      </td><td>701</td><td>0.579338843</td></tr>\n",
              "\t<tr><td>No Internet</td><td>  9</td><td>0.007438017</td></tr>\n",
              "\t<tr><td>Sometimes  </td><td>344</td><td>0.284297521</td></tr>\n",
              "</tbody>\n",
              "</table>\n"
            ]
          },
          "metadata": {
            "tags": []
          }
        }
      ]
    },
    {
      "cell_type": "code",
      "metadata": {
        "colab": {
          "base_uri": "https://localhost:8080/",
          "height": 34
        },
        "id": "MYmvfpNny0l6",
        "outputId": "f23fe87c-f878-4032-f666-9cd759c9dbe0"
      },
      "source": [
        "levels(df_with_2$ORG_INTERNET_DISRUPTION)"
      ],
      "execution_count": 150,
      "outputs": [
        {
          "output_type": "display_data",
          "data": {
            "text/plain": [
              "[1] \"A lot\"       \"Little\"      \"Never\"       \"No Internet\" \"Sometimes\"  "
            ],
            "text/latex": "\\begin{enumerate*}\n\\item 'A lot'\n\\item 'Little'\n\\item 'Never'\n\\item 'No Internet'\n\\item 'Sometimes'\n\\end{enumerate*}\n",
            "text/markdown": "1. 'A lot'\n2. 'Little'\n3. 'Never'\n4. 'No Internet'\n5. 'Sometimes'\n\n\n",
            "text/html": [
              "<style>\n",
              ".list-inline {list-style: none; margin:0; padding: 0}\n",
              ".list-inline>li {display: inline-block}\n",
              ".list-inline>li:not(:last-child)::after {content: \"\\00b7\"; padding: 0 .5ex}\n",
              "</style>\n",
              "<ol class=list-inline><li>'A lot'</li><li>'Little'</li><li>'Never'</li><li>'No Internet'</li><li>'Sometimes'</li></ol>\n"
            ]
          },
          "metadata": {
            "tags": []
          }
        }
      ]
    },
    {
      "cell_type": "markdown",
      "metadata": {
        "id": "_Ku_nBjKEDPA"
      },
      "source": [
        "reordering levels"
      ]
    },
    {
      "cell_type": "code",
      "metadata": {
        "colab": {
          "base_uri": "https://localhost:8080/"
        },
        "id": "dQSqkPpZEFpZ",
        "outputId": "69c486ae-4c6b-4dd9-d88c-1a3e71a3d841"
      },
      "source": [
        "df_with_2 <- df_with_2 %>%\n",
        "  mutate(ORG_INTERNET_DISRUPTION = fct_relevel(ORG_INTERNET_DISRUPTION, \n",
        "  levels = c('No Internet','Little','Sometimes','A lot','Never')))"
      ],
      "execution_count": 151,
      "outputs": [
        {
          "output_type": "stream",
          "text": [
            "Warning message:\n",
            "“Outer names are only allowed for unnamed scalar atomic inputs”\n"
          ],
          "name": "stderr"
        }
      ]
    },
    {
      "cell_type": "code",
      "metadata": {
        "id": "T_cmzqf4Eduu",
        "colab": {
          "base_uri": "https://localhost:8080/",
          "height": 251
        },
        "outputId": "05da077b-ff0c-4f04-8403-0d46bf9dc869"
      },
      "source": [
        "tabyl(df_with_2$ORG_INTERNET_DISRUPTION)"
      ],
      "execution_count": 152,
      "outputs": [
        {
          "output_type": "display_data",
          "data": {
            "text/plain": [
              "  df_with_2$ORG_INTERNET_DISRUPTION n   percent    \n",
              "1 No Internet                         9 0.007438017\n",
              "2 Little                            136 0.112396694\n",
              "3 Sometimes                         344 0.284297521\n",
              "4 A lot                              20 0.016528926\n",
              "5 Never                             701 0.579338843"
            ],
            "text/latex": "A tabyl: 5 × 3\n\\begin{tabular}{lll}\n df\\_with\\_2\\$ORG\\_INTERNET\\_DISRUPTION & n & percent\\\\\n <fct> & <dbl> & <dbl>\\\\\n\\hline\n\t No Internet &   9 & 0.007438017\\\\\n\t Little      & 136 & 0.112396694\\\\\n\t Sometimes   & 344 & 0.284297521\\\\\n\t A lot       &  20 & 0.016528926\\\\\n\t Never       & 701 & 0.579338843\\\\\n\\end{tabular}\n",
            "text/markdown": "\nA tabyl: 5 × 3\n\n| df_with_2$ORG_INTERNET_DISRUPTION &lt;fct&gt; | n &lt;dbl&gt; | percent &lt;dbl&gt; |\n|---|---|---|\n| No Internet |   9 | 0.007438017 |\n| Little      | 136 | 0.112396694 |\n| Sometimes   | 344 | 0.284297521 |\n| A lot       |  20 | 0.016528926 |\n| Never       | 701 | 0.579338843 |\n\n",
            "text/html": [
              "<table class=\"dataframe\">\n",
              "<caption>A tabyl: 5 × 3</caption>\n",
              "<thead>\n",
              "\t<tr><th scope=col>df_with_2$ORG_INTERNET_DISRUPTION</th><th scope=col>n</th><th scope=col>percent</th></tr>\n",
              "\t<tr><th scope=col>&lt;fct&gt;</th><th scope=col>&lt;dbl&gt;</th><th scope=col>&lt;dbl&gt;</th></tr>\n",
              "</thead>\n",
              "<tbody>\n",
              "\t<tr><td>No Internet</td><td>  9</td><td>0.007438017</td></tr>\n",
              "\t<tr><td>Little     </td><td>136</td><td>0.112396694</td></tr>\n",
              "\t<tr><td>Sometimes  </td><td>344</td><td>0.284297521</td></tr>\n",
              "\t<tr><td>A lot      </td><td> 20</td><td>0.016528926</td></tr>\n",
              "\t<tr><td>Never      </td><td>701</td><td>0.579338843</td></tr>\n",
              "</tbody>\n",
              "</table>\n"
            ]
          },
          "metadata": {
            "tags": []
          }
        }
      ]
    },
    {
      "cell_type": "code",
      "metadata": {
        "id": "xOU9ekQ4EFR5"
      },
      "source": [
        ""
      ],
      "execution_count": 153,
      "outputs": []
    },
    {
      "cell_type": "markdown",
      "metadata": {
        "id": "2vaHa6dN7yGp"
      },
      "source": [
        "##### 1.8 ORG_NEW_POS_PAYMENT_PREF"
      ]
    },
    {
      "cell_type": "code",
      "metadata": {
        "id": "tUuk17gkAAPU"
      },
      "source": [
        "#df_with_1 <- df_with"
      ],
      "execution_count": 154,
      "outputs": []
    },
    {
      "cell_type": "code",
      "metadata": {
        "colab": {
          "base_uri": "https://localhost:8080/",
          "height": 282
        },
        "id": "FOsie5Po76fn",
        "outputId": "54a362c6-1101-4c75-bd1d-bce9d4d6b51d"
      },
      "source": [
        "tabyl(df_with_2$ORG_NEW_POS_PAYMENT_PREF)"
      ],
      "execution_count": 155,
      "outputs": [
        {
          "output_type": "display_data",
          "data": {
            "text/plain": [
              "  df_with_2$ORG_NEW_POS_PAYMENT_PREF n   percent   \n",
              "1 No ANS                             119 0.09834711\n",
              "2 One-Time                           528 0.43636364\n",
              "3 Recurring:12M                      442 0.36528926\n",
              "4 Recurring:1M                        38 0.03140496\n",
              "5 Recurring:3M                        27 0.02231405\n",
              "6 Recurring:6M                        56 0.04628099"
            ],
            "text/latex": "A tabyl: 6 × 3\n\\begin{tabular}{lll}\n df\\_with\\_2\\$ORG\\_NEW\\_POS\\_PAYMENT\\_PREF & n & percent\\\\\n <fct> & <dbl> & <dbl>\\\\\n\\hline\n\t No ANS        & 119 & 0.09834711\\\\\n\t One-Time      & 528 & 0.43636364\\\\\n\t Recurring:12M & 442 & 0.36528926\\\\\n\t Recurring:1M  &  38 & 0.03140496\\\\\n\t Recurring:3M  &  27 & 0.02231405\\\\\n\t Recurring:6M  &  56 & 0.04628099\\\\\n\\end{tabular}\n",
            "text/markdown": "\nA tabyl: 6 × 3\n\n| df_with_2$ORG_NEW_POS_PAYMENT_PREF &lt;fct&gt; | n &lt;dbl&gt; | percent &lt;dbl&gt; |\n|---|---|---|\n| No ANS        | 119 | 0.09834711 |\n| One-Time      | 528 | 0.43636364 |\n| Recurring:12M | 442 | 0.36528926 |\n| Recurring:1M  |  38 | 0.03140496 |\n| Recurring:3M  |  27 | 0.02231405 |\n| Recurring:6M  |  56 | 0.04628099 |\n\n",
            "text/html": [
              "<table class=\"dataframe\">\n",
              "<caption>A tabyl: 6 × 3</caption>\n",
              "<thead>\n",
              "\t<tr><th scope=col>df_with_2$ORG_NEW_POS_PAYMENT_PREF</th><th scope=col>n</th><th scope=col>percent</th></tr>\n",
              "\t<tr><th scope=col>&lt;fct&gt;</th><th scope=col>&lt;dbl&gt;</th><th scope=col>&lt;dbl&gt;</th></tr>\n",
              "</thead>\n",
              "<tbody>\n",
              "\t<tr><td>No ANS       </td><td>119</td><td>0.09834711</td></tr>\n",
              "\t<tr><td>One-Time     </td><td>528</td><td>0.43636364</td></tr>\n",
              "\t<tr><td>Recurring:12M</td><td>442</td><td>0.36528926</td></tr>\n",
              "\t<tr><td>Recurring:1M </td><td> 38</td><td>0.03140496</td></tr>\n",
              "\t<tr><td>Recurring:3M </td><td> 27</td><td>0.02231405</td></tr>\n",
              "\t<tr><td>Recurring:6M </td><td> 56</td><td>0.04628099</td></tr>\n",
              "</tbody>\n",
              "</table>\n"
            ]
          },
          "metadata": {
            "tags": []
          }
        }
      ]
    },
    {
      "cell_type": "code",
      "metadata": {
        "colab": {
          "base_uri": "https://localhost:8080/",
          "height": 34
        },
        "id": "LaUpoxy98UEj",
        "outputId": "402a0c57-d3c2-480a-eec7-27ba740b5064"
      },
      "source": [
        "levels(df_with_2$ORG_NEW_POS_PAYMENT_PREF)"
      ],
      "execution_count": 156,
      "outputs": [
        {
          "output_type": "display_data",
          "data": {
            "text/plain": [
              "[1] \"No ANS\"        \"One-Time\"      \"Recurring:12M\" \"Recurring:1M\" \n",
              "[5] \"Recurring:3M\"  \"Recurring:6M\" "
            ],
            "text/latex": "\\begin{enumerate*}\n\\item 'No ANS'\n\\item 'One-Time'\n\\item 'Recurring:12M'\n\\item 'Recurring:1M'\n\\item 'Recurring:3M'\n\\item 'Recurring:6M'\n\\end{enumerate*}\n",
            "text/markdown": "1. 'No ANS'\n2. 'One-Time'\n3. 'Recurring:12M'\n4. 'Recurring:1M'\n5. 'Recurring:3M'\n6. 'Recurring:6M'\n\n\n",
            "text/html": [
              "<style>\n",
              ".list-inline {list-style: none; margin:0; padding: 0}\n",
              ".list-inline>li {display: inline-block}\n",
              ".list-inline>li:not(:last-child)::after {content: \"\\00b7\"; padding: 0 .5ex}\n",
              "</style>\n",
              "<ol class=list-inline><li>'No ANS'</li><li>'One-Time'</li><li>'Recurring:12M'</li><li>'Recurring:1M'</li><li>'Recurring:3M'</li><li>'Recurring:6M'</li></ol>\n"
            ]
          },
          "metadata": {
            "tags": []
          }
        }
      ]
    },
    {
      "cell_type": "code",
      "metadata": {
        "colab": {
          "base_uri": "https://localhost:8080/"
        },
        "id": "Nl6LpFuLAYB3",
        "outputId": "5c8baf2b-31cc-4b6b-860e-2595271cfe4f"
      },
      "source": [
        "df_with_2 <- df_with_2 %>%\n",
        "mutate (ORG_NEW_POS_PAYMENT_PREF = fct_relevel(ORG_NEW_POS_PAYMENT_PREF,\n",
        "levels=c('No ANS',\n",
        "'One-Time',\n",
        "'Recurring:1M',\n",
        "'Recurring:3M',\n",
        "'Recurring:6M',\n",
        "'Recurring:12M'\n",
        "))) "
      ],
      "execution_count": 157,
      "outputs": [
        {
          "output_type": "stream",
          "text": [
            "Warning message:\n",
            "“Outer names are only allowed for unnamed scalar atomic inputs”\n"
          ],
          "name": "stderr"
        }
      ]
    },
    {
      "cell_type": "code",
      "metadata": {
        "colab": {
          "base_uri": "https://localhost:8080/",
          "height": 282
        },
        "id": "O8wgPoARA057",
        "outputId": "8bf541ea-c630-4409-966e-bb3ddc036526"
      },
      "source": [
        "tabyl(df_with_2$ORG_NEW_POS_PAYMENT_PREF)"
      ],
      "execution_count": 158,
      "outputs": [
        {
          "output_type": "display_data",
          "data": {
            "text/plain": [
              "  df_with_2$ORG_NEW_POS_PAYMENT_PREF n   percent   \n",
              "1 No ANS                             119 0.09834711\n",
              "2 One-Time                           528 0.43636364\n",
              "3 Recurring:1M                        38 0.03140496\n",
              "4 Recurring:3M                        27 0.02231405\n",
              "5 Recurring:6M                        56 0.04628099\n",
              "6 Recurring:12M                      442 0.36528926"
            ],
            "text/latex": "A tabyl: 6 × 3\n\\begin{tabular}{lll}\n df\\_with\\_2\\$ORG\\_NEW\\_POS\\_PAYMENT\\_PREF & n & percent\\\\\n <fct> & <dbl> & <dbl>\\\\\n\\hline\n\t No ANS        & 119 & 0.09834711\\\\\n\t One-Time      & 528 & 0.43636364\\\\\n\t Recurring:1M  &  38 & 0.03140496\\\\\n\t Recurring:3M  &  27 & 0.02231405\\\\\n\t Recurring:6M  &  56 & 0.04628099\\\\\n\t Recurring:12M & 442 & 0.36528926\\\\\n\\end{tabular}\n",
            "text/markdown": "\nA tabyl: 6 × 3\n\n| df_with_2$ORG_NEW_POS_PAYMENT_PREF &lt;fct&gt; | n &lt;dbl&gt; | percent &lt;dbl&gt; |\n|---|---|---|\n| No ANS        | 119 | 0.09834711 |\n| One-Time      | 528 | 0.43636364 |\n| Recurring:1M  |  38 | 0.03140496 |\n| Recurring:3M  |  27 | 0.02231405 |\n| Recurring:6M  |  56 | 0.04628099 |\n| Recurring:12M | 442 | 0.36528926 |\n\n",
            "text/html": [
              "<table class=\"dataframe\">\n",
              "<caption>A tabyl: 6 × 3</caption>\n",
              "<thead>\n",
              "\t<tr><th scope=col>df_with_2$ORG_NEW_POS_PAYMENT_PREF</th><th scope=col>n</th><th scope=col>percent</th></tr>\n",
              "\t<tr><th scope=col>&lt;fct&gt;</th><th scope=col>&lt;dbl&gt;</th><th scope=col>&lt;dbl&gt;</th></tr>\n",
              "</thead>\n",
              "<tbody>\n",
              "\t<tr><td>No ANS       </td><td>119</td><td>0.09834711</td></tr>\n",
              "\t<tr><td>One-Time     </td><td>528</td><td>0.43636364</td></tr>\n",
              "\t<tr><td>Recurring:1M </td><td> 38</td><td>0.03140496</td></tr>\n",
              "\t<tr><td>Recurring:3M </td><td> 27</td><td>0.02231405</td></tr>\n",
              "\t<tr><td>Recurring:6M </td><td> 56</td><td>0.04628099</td></tr>\n",
              "\t<tr><td>Recurring:12M</td><td>442</td><td>0.36528926</td></tr>\n",
              "</tbody>\n",
              "</table>\n"
            ]
          },
          "metadata": {
            "tags": []
          }
        }
      ]
    },
    {
      "cell_type": "markdown",
      "metadata": {
        "id": "K4kteCDlFyD7"
      },
      "source": [
        "##### 1.9 ORG_NEW_POS_LANG_PREF"
      ]
    },
    {
      "cell_type": "code",
      "metadata": {
        "colab": {
          "base_uri": "https://localhost:8080/",
          "height": 158
        },
        "id": "D49yEzakF1Zd",
        "outputId": "ed77f71a-48f3-4690-da42-b0b0b9732313"
      },
      "source": [
        "tabyl(df_with_2$ORG_NEW_POS_LANG_PREF)"
      ],
      "execution_count": 159,
      "outputs": [
        {
          "output_type": "display_data",
          "data": {
            "text/plain": [
              "  df_with_2$ORG_NEW_POS_LANG_PREF n   percent  \n",
              "1 English                         488 0.4033058\n",
              "2 English and Urdu                722 0.5966942"
            ],
            "text/latex": "A tabyl: 2 × 3\n\\begin{tabular}{lll}\n df\\_with\\_2\\$ORG\\_NEW\\_POS\\_LANG\\_PREF & n & percent\\\\\n <fct> & <dbl> & <dbl>\\\\\n\\hline\n\t English          & 488 & 0.4033058\\\\\n\t English and Urdu & 722 & 0.5966942\\\\\n\\end{tabular}\n",
            "text/markdown": "\nA tabyl: 2 × 3\n\n| df_with_2$ORG_NEW_POS_LANG_PREF &lt;fct&gt; | n &lt;dbl&gt; | percent &lt;dbl&gt; |\n|---|---|---|\n| English          | 488 | 0.4033058 |\n| English and Urdu | 722 | 0.5966942 |\n\n",
            "text/html": [
              "<table class=\"dataframe\">\n",
              "<caption>A tabyl: 2 × 3</caption>\n",
              "<thead>\n",
              "\t<tr><th scope=col>df_with_2$ORG_NEW_POS_LANG_PREF</th><th scope=col>n</th><th scope=col>percent</th></tr>\n",
              "\t<tr><th scope=col>&lt;fct&gt;</th><th scope=col>&lt;dbl&gt;</th><th scope=col>&lt;dbl&gt;</th></tr>\n",
              "</thead>\n",
              "<tbody>\n",
              "\t<tr><td>English         </td><td>488</td><td>0.4033058</td></tr>\n",
              "\t<tr><td>English and Urdu</td><td>722</td><td>0.5966942</td></tr>\n",
              "</tbody>\n",
              "</table>\n"
            ]
          },
          "metadata": {
            "tags": []
          }
        }
      ]
    },
    {
      "cell_type": "code",
      "metadata": {
        "colab": {
          "base_uri": "https://localhost:8080/",
          "height": 34
        },
        "id": "S3PdZYF5GOGL",
        "outputId": "97f60eec-68e8-40ae-f157-4529d76e2c1e"
      },
      "source": [
        "levels(df_with_2$ORG_NEW_POS_LANG_PREF)"
      ],
      "execution_count": 160,
      "outputs": [
        {
          "output_type": "display_data",
          "data": {
            "text/plain": [
              "[1] \"English\"          \"English and Urdu\""
            ],
            "text/latex": "\\begin{enumerate*}\n\\item 'English'\n\\item 'English and Urdu'\n\\end{enumerate*}\n",
            "text/markdown": "1. 'English'\n2. 'English and Urdu'\n\n\n",
            "text/html": [
              "<style>\n",
              ".list-inline {list-style: none; margin:0; padding: 0}\n",
              ".list-inline>li {display: inline-block}\n",
              ".list-inline>li:not(:last-child)::after {content: \"\\00b7\"; padding: 0 .5ex}\n",
              "</style>\n",
              "<ol class=list-inline><li>'English'</li><li>'English and Urdu'</li></ol>\n"
            ]
          },
          "metadata": {
            "tags": []
          }
        }
      ]
    },
    {
      "cell_type": "markdown",
      "metadata": {
        "id": "JtnJeoxNHl4w"
      },
      "source": [
        "##### 1.10 ORG_OUTLETS_COUNT"
      ]
    },
    {
      "cell_type": "code",
      "metadata": {
        "colab": {
          "base_uri": "https://localhost:8080/",
          "height": 313
        },
        "id": "PCFMF5VnHnMV",
        "outputId": "c1115ab5-1843-448e-b967-d88b8d10b77e"
      },
      "source": [
        "tabyl(df_with_2$ORG_OUTLETS_COUNT)"
      ],
      "execution_count": 161,
      "outputs": [
        {
          "output_type": "display_data",
          "data": {
            "text/plain": [
              "  df_with_2$ORG_OUTLETS_COUNT n   percent    \n",
              "1 1                           994 0.821487603\n",
              "2 10+                           4 0.003305785\n",
              "3 2                            54 0.044628099\n",
              "4 3                            69 0.057024793\n",
              "5 4                            50 0.041322314\n",
              "6 5                            36 0.029752066\n",
              "7 6 to 10                       3 0.002479339"
            ],
            "text/latex": "A tabyl: 7 × 3\n\\begin{tabular}{lll}\n df\\_with\\_2\\$ORG\\_OUTLETS\\_COUNT & n & percent\\\\\n <fct> & <dbl> & <dbl>\\\\\n\\hline\n\t 1       & 994 & 0.821487603\\\\\n\t 10+     &   4 & 0.003305785\\\\\n\t 2       &  54 & 0.044628099\\\\\n\t 3       &  69 & 0.057024793\\\\\n\t 4       &  50 & 0.041322314\\\\\n\t 5       &  36 & 0.029752066\\\\\n\t 6 to 10 &   3 & 0.002479339\\\\\n\\end{tabular}\n",
            "text/markdown": "\nA tabyl: 7 × 3\n\n| df_with_2$ORG_OUTLETS_COUNT &lt;fct&gt; | n &lt;dbl&gt; | percent &lt;dbl&gt; |\n|---|---|---|\n| 1       | 994 | 0.821487603 |\n| 10+     |   4 | 0.003305785 |\n| 2       |  54 | 0.044628099 |\n| 3       |  69 | 0.057024793 |\n| 4       |  50 | 0.041322314 |\n| 5       |  36 | 0.029752066 |\n| 6 to 10 |   3 | 0.002479339 |\n\n",
            "text/html": [
              "<table class=\"dataframe\">\n",
              "<caption>A tabyl: 7 × 3</caption>\n",
              "<thead>\n",
              "\t<tr><th scope=col>df_with_2$ORG_OUTLETS_COUNT</th><th scope=col>n</th><th scope=col>percent</th></tr>\n",
              "\t<tr><th scope=col>&lt;fct&gt;</th><th scope=col>&lt;dbl&gt;</th><th scope=col>&lt;dbl&gt;</th></tr>\n",
              "</thead>\n",
              "<tbody>\n",
              "\t<tr><td>1      </td><td>994</td><td>0.821487603</td></tr>\n",
              "\t<tr><td>10+    </td><td>  4</td><td>0.003305785</td></tr>\n",
              "\t<tr><td>2      </td><td> 54</td><td>0.044628099</td></tr>\n",
              "\t<tr><td>3      </td><td> 69</td><td>0.057024793</td></tr>\n",
              "\t<tr><td>4      </td><td> 50</td><td>0.041322314</td></tr>\n",
              "\t<tr><td>5      </td><td> 36</td><td>0.029752066</td></tr>\n",
              "\t<tr><td>6 to 10</td><td>  3</td><td>0.002479339</td></tr>\n",
              "</tbody>\n",
              "</table>\n"
            ]
          },
          "metadata": {
            "tags": []
          }
        }
      ]
    },
    {
      "cell_type": "code",
      "metadata": {
        "colab": {
          "base_uri": "https://localhost:8080/",
          "height": 34
        },
        "id": "9_9H7JcAILg_",
        "outputId": "6b651c40-43cc-4865-9fdd-2832b9e4ef1d"
      },
      "source": [
        "levels(df_with_2$ORG_OUTLETS_COUNT)"
      ],
      "execution_count": 162,
      "outputs": [
        {
          "output_type": "display_data",
          "data": {
            "text/plain": [
              "[1] \"1\"       \"10+\"     \"2\"       \"3\"       \"4\"       \"5\"       \"6 to 10\""
            ],
            "text/latex": "\\begin{enumerate*}\n\\item '1'\n\\item '10+'\n\\item '2'\n\\item '3'\n\\item '4'\n\\item '5'\n\\item '6 to 10'\n\\end{enumerate*}\n",
            "text/markdown": "1. '1'\n2. '10+'\n3. '2'\n4. '3'\n5. '4'\n6. '5'\n7. '6 to 10'\n\n\n",
            "text/html": [
              "<style>\n",
              ".list-inline {list-style: none; margin:0; padding: 0}\n",
              ".list-inline>li {display: inline-block}\n",
              ".list-inline>li:not(:last-child)::after {content: \"\\00b7\"; padding: 0 .5ex}\n",
              "</style>\n",
              "<ol class=list-inline><li>'1'</li><li>'10+'</li><li>'2'</li><li>'3'</li><li>'4'</li><li>'5'</li><li>'6 to 10'</li></ol>\n"
            ]
          },
          "metadata": {
            "tags": []
          }
        }
      ]
    },
    {
      "cell_type": "markdown",
      "metadata": {
        "id": "a92EqFAhfy40"
      },
      "source": [
        "reorder the levels"
      ]
    },
    {
      "cell_type": "code",
      "metadata": {
        "colab": {
          "base_uri": "https://localhost:8080/"
        },
        "id": "pewxz5c8fqcI",
        "outputId": "3e76f136-d395-480a-cde9-82d4a77fbf04"
      },
      "source": [
        "df_with_2 <- df_with_2 %>% \n",
        "   mutate (ORG_OUTLETS_COUNT = fct_relevel(ORG_OUTLETS_COUNT, \n",
        "   levels=c('1','2','3','4','5','6 to 10','10+')))"
      ],
      "execution_count": 163,
      "outputs": [
        {
          "output_type": "stream",
          "text": [
            "Warning message:\n",
            "“Outer names are only allowed for unnamed scalar atomic inputs”\n"
          ],
          "name": "stderr"
        }
      ]
    },
    {
      "cell_type": "code",
      "metadata": {
        "colab": {
          "base_uri": "https://localhost:8080/",
          "height": 313
        },
        "id": "USuhcisigGQb",
        "outputId": "53243e1e-6c78-4285-99f4-6e1770f4e1c1"
      },
      "source": [
        "tabyl(df_with_2$ORG_OUTLETS_COUNT)"
      ],
      "execution_count": 164,
      "outputs": [
        {
          "output_type": "display_data",
          "data": {
            "text/plain": [
              "  df_with_2$ORG_OUTLETS_COUNT n   percent    \n",
              "1 1                           994 0.821487603\n",
              "2 2                            54 0.044628099\n",
              "3 3                            69 0.057024793\n",
              "4 4                            50 0.041322314\n",
              "5 5                            36 0.029752066\n",
              "6 6 to 10                       3 0.002479339\n",
              "7 10+                           4 0.003305785"
            ],
            "text/latex": "A tabyl: 7 × 3\n\\begin{tabular}{lll}\n df\\_with\\_2\\$ORG\\_OUTLETS\\_COUNT & n & percent\\\\\n <fct> & <dbl> & <dbl>\\\\\n\\hline\n\t 1       & 994 & 0.821487603\\\\\n\t 2       &  54 & 0.044628099\\\\\n\t 3       &  69 & 0.057024793\\\\\n\t 4       &  50 & 0.041322314\\\\\n\t 5       &  36 & 0.029752066\\\\\n\t 6 to 10 &   3 & 0.002479339\\\\\n\t 10+     &   4 & 0.003305785\\\\\n\\end{tabular}\n",
            "text/markdown": "\nA tabyl: 7 × 3\n\n| df_with_2$ORG_OUTLETS_COUNT &lt;fct&gt; | n &lt;dbl&gt; | percent &lt;dbl&gt; |\n|---|---|---|\n| 1       | 994 | 0.821487603 |\n| 2       |  54 | 0.044628099 |\n| 3       |  69 | 0.057024793 |\n| 4       |  50 | 0.041322314 |\n| 5       |  36 | 0.029752066 |\n| 6 to 10 |   3 | 0.002479339 |\n| 10+     |   4 | 0.003305785 |\n\n",
            "text/html": [
              "<table class=\"dataframe\">\n",
              "<caption>A tabyl: 7 × 3</caption>\n",
              "<thead>\n",
              "\t<tr><th scope=col>df_with_2$ORG_OUTLETS_COUNT</th><th scope=col>n</th><th scope=col>percent</th></tr>\n",
              "\t<tr><th scope=col>&lt;fct&gt;</th><th scope=col>&lt;dbl&gt;</th><th scope=col>&lt;dbl&gt;</th></tr>\n",
              "</thead>\n",
              "<tbody>\n",
              "\t<tr><td>1      </td><td>994</td><td>0.821487603</td></tr>\n",
              "\t<tr><td>2      </td><td> 54</td><td>0.044628099</td></tr>\n",
              "\t<tr><td>3      </td><td> 69</td><td>0.057024793</td></tr>\n",
              "\t<tr><td>4      </td><td> 50</td><td>0.041322314</td></tr>\n",
              "\t<tr><td>5      </td><td> 36</td><td>0.029752066</td></tr>\n",
              "\t<tr><td>6 to 10</td><td>  3</td><td>0.002479339</td></tr>\n",
              "\t<tr><td>10+    </td><td>  4</td><td>0.003305785</td></tr>\n",
              "</tbody>\n",
              "</table>\n"
            ]
          },
          "metadata": {
            "tags": []
          }
        }
      ]
    },
    {
      "cell_type": "markdown",
      "metadata": {
        "id": "7LymZXJmIv01"
      },
      "source": [
        "##### 1.11 ORG_NEW_POS_KIND"
      ]
    },
    {
      "cell_type": "code",
      "metadata": {
        "colab": {
          "base_uri": "https://localhost:8080/",
          "height": 158
        },
        "id": "DBYgpG6VIu2r",
        "outputId": "7364ef38-e1c8-4648-bcda-6318047ac373"
      },
      "source": [
        "tabyl(df_with_2$ORG_NEW_POS_KIND)"
      ],
      "execution_count": 165,
      "outputs": [
        {
          "output_type": "display_data",
          "data": {
            "text/plain": [
              "  df_with_2$ORG_NEW_POS_KIND n   percent \n",
              "1 Stand-Alone                549 0.453719\n",
              "2 Web-Based                  661 0.546281"
            ],
            "text/latex": "A tabyl: 2 × 3\n\\begin{tabular}{lll}\n df\\_with\\_2\\$ORG\\_NEW\\_POS\\_KIND & n & percent\\\\\n <fct> & <dbl> & <dbl>\\\\\n\\hline\n\t Stand-Alone & 549 & 0.453719\\\\\n\t Web-Based   & 661 & 0.546281\\\\\n\\end{tabular}\n",
            "text/markdown": "\nA tabyl: 2 × 3\n\n| df_with_2$ORG_NEW_POS_KIND &lt;fct&gt; | n &lt;dbl&gt; | percent &lt;dbl&gt; |\n|---|---|---|\n| Stand-Alone | 549 | 0.453719 |\n| Web-Based   | 661 | 0.546281 |\n\n",
            "text/html": [
              "<table class=\"dataframe\">\n",
              "<caption>A tabyl: 2 × 3</caption>\n",
              "<thead>\n",
              "\t<tr><th scope=col>df_with_2$ORG_NEW_POS_KIND</th><th scope=col>n</th><th scope=col>percent</th></tr>\n",
              "\t<tr><th scope=col>&lt;fct&gt;</th><th scope=col>&lt;dbl&gt;</th><th scope=col>&lt;dbl&gt;</th></tr>\n",
              "</thead>\n",
              "<tbody>\n",
              "\t<tr><td>Stand-Alone</td><td>549</td><td>0.453719</td></tr>\n",
              "\t<tr><td>Web-Based  </td><td>661</td><td>0.546281</td></tr>\n",
              "</tbody>\n",
              "</table>\n"
            ]
          },
          "metadata": {
            "tags": []
          }
        }
      ]
    },
    {
      "cell_type": "markdown",
      "metadata": {
        "id": "BMDlyWPc1ZuX"
      },
      "source": [
        "##### 1.12 ORG_WILLINGNESS_TO_PAY_AMOUNT"
      ]
    },
    {
      "cell_type": "code",
      "metadata": {
        "colab": {
          "base_uri": "https://localhost:8080/",
          "height": 529
        },
        "id": "6kkTZKyb1bHj",
        "outputId": "39221688-6cd0-4d4f-ac4f-cf7eed4ab961"
      },
      "source": [
        "tabyl(df_with_2$ORG_WILLINGNESS_TO_PAY_AMOUNT)"
      ],
      "execution_count": 166,
      "outputs": [
        {
          "output_type": "display_data",
          "data": {
            "text/plain": [
              "   df_with_2$ORG_WILLINGNESS_TO_PAY_AMOUNT n   percent    \n",
              "1  <1K                                      30 0.024793388\n",
              "2  0                                        53 0.043801653\n",
              "3  10K                                      30 0.024793388\n",
              "4  10K+                                     38 0.031404959\n",
              "5  1K                                      126 0.104132231\n",
              "6  2K                                      155 0.128099174\n",
              "7  3K                                       61 0.050413223\n",
              "8  4K                                       30 0.024793388\n",
              "9  5K                                       56 0.046280992\n",
              "10 6K                                       22 0.018181818\n",
              "11 7K                                       12 0.009917355\n",
              "12 8K                                       15 0.012396694\n",
              "13 9K                                        8 0.006611570\n",
              "14 No ANS                                  574 0.474380165"
            ],
            "text/latex": "A tabyl: 14 × 3\n\\begin{tabular}{lll}\n df\\_with\\_2\\$ORG\\_WILLINGNESS\\_TO\\_PAY\\_AMOUNT & n & percent\\\\\n <fct> & <dbl> & <dbl>\\\\\n\\hline\n\t <1K    &  30 & 0.024793388\\\\\n\t 0      &  53 & 0.043801653\\\\\n\t 10K    &  30 & 0.024793388\\\\\n\t 10K+   &  38 & 0.031404959\\\\\n\t 1K     & 126 & 0.104132231\\\\\n\t 2K     & 155 & 0.128099174\\\\\n\t 3K     &  61 & 0.050413223\\\\\n\t 4K     &  30 & 0.024793388\\\\\n\t 5K     &  56 & 0.046280992\\\\\n\t 6K     &  22 & 0.018181818\\\\\n\t 7K     &  12 & 0.009917355\\\\\n\t 8K     &  15 & 0.012396694\\\\\n\t 9K     &   8 & 0.006611570\\\\\n\t No ANS & 574 & 0.474380165\\\\\n\\end{tabular}\n",
            "text/markdown": "\nA tabyl: 14 × 3\n\n| df_with_2$ORG_WILLINGNESS_TO_PAY_AMOUNT &lt;fct&gt; | n &lt;dbl&gt; | percent &lt;dbl&gt; |\n|---|---|---|\n| &lt;1K    |  30 | 0.024793388 |\n| 0      |  53 | 0.043801653 |\n| 10K    |  30 | 0.024793388 |\n| 10K+   |  38 | 0.031404959 |\n| 1K     | 126 | 0.104132231 |\n| 2K     | 155 | 0.128099174 |\n| 3K     |  61 | 0.050413223 |\n| 4K     |  30 | 0.024793388 |\n| 5K     |  56 | 0.046280992 |\n| 6K     |  22 | 0.018181818 |\n| 7K     |  12 | 0.009917355 |\n| 8K     |  15 | 0.012396694 |\n| 9K     |   8 | 0.006611570 |\n| No ANS | 574 | 0.474380165 |\n\n",
            "text/html": [
              "<table class=\"dataframe\">\n",
              "<caption>A tabyl: 14 × 3</caption>\n",
              "<thead>\n",
              "\t<tr><th scope=col>df_with_2$ORG_WILLINGNESS_TO_PAY_AMOUNT</th><th scope=col>n</th><th scope=col>percent</th></tr>\n",
              "\t<tr><th scope=col>&lt;fct&gt;</th><th scope=col>&lt;dbl&gt;</th><th scope=col>&lt;dbl&gt;</th></tr>\n",
              "</thead>\n",
              "<tbody>\n",
              "\t<tr><td><span style=white-space:pre-wrap>&lt;1K   </span></td><td> 30</td><td>0.024793388</td></tr>\n",
              "\t<tr><td>0     </td><td> 53</td><td>0.043801653</td></tr>\n",
              "\t<tr><td>10K   </td><td> 30</td><td>0.024793388</td></tr>\n",
              "\t<tr><td>10K+  </td><td> 38</td><td>0.031404959</td></tr>\n",
              "\t<tr><td>1K    </td><td>126</td><td>0.104132231</td></tr>\n",
              "\t<tr><td>2K    </td><td>155</td><td>0.128099174</td></tr>\n",
              "\t<tr><td>3K    </td><td> 61</td><td>0.050413223</td></tr>\n",
              "\t<tr><td>4K    </td><td> 30</td><td>0.024793388</td></tr>\n",
              "\t<tr><td>5K    </td><td> 56</td><td>0.046280992</td></tr>\n",
              "\t<tr><td>6K    </td><td> 22</td><td>0.018181818</td></tr>\n",
              "\t<tr><td>7K    </td><td> 12</td><td>0.009917355</td></tr>\n",
              "\t<tr><td>8K    </td><td> 15</td><td>0.012396694</td></tr>\n",
              "\t<tr><td>9K    </td><td>  8</td><td>0.006611570</td></tr>\n",
              "\t<tr><td>No ANS</td><td>574</td><td>0.474380165</td></tr>\n",
              "</tbody>\n",
              "</table>\n"
            ]
          },
          "metadata": {
            "tags": []
          }
        }
      ]
    },
    {
      "cell_type": "code",
      "metadata": {
        "colab": {
          "base_uri": "https://localhost:8080/",
          "height": 34
        },
        "id": "cPzyJgNm2NBd",
        "outputId": "35aac252-c364-435b-9934-702d49c1304a"
      },
      "source": [
        "levels(df_with_2$ORG_WILLINGNESS_TO_PAY_AMOUNT)"
      ],
      "execution_count": 167,
      "outputs": [
        {
          "output_type": "display_data",
          "data": {
            "text/plain": [
              " [1] \"<1K\"    \"0\"      \"10K\"    \"10K+\"   \"1K\"     \"2K\"     \"3K\"     \"4K\"    \n",
              " [9] \"5K\"     \"6K\"     \"7K\"     \"8K\"     \"9K\"     \"No ANS\""
            ],
            "text/latex": "\\begin{enumerate*}\n\\item '<1K'\n\\item '0'\n\\item '10K'\n\\item '10K+'\n\\item '1K'\n\\item '2K'\n\\item '3K'\n\\item '4K'\n\\item '5K'\n\\item '6K'\n\\item '7K'\n\\item '8K'\n\\item '9K'\n\\item 'No ANS'\n\\end{enumerate*}\n",
            "text/markdown": "1. '&lt;1K'\n2. '0'\n3. '10K'\n4. '10K+'\n5. '1K'\n6. '2K'\n7. '3K'\n8. '4K'\n9. '5K'\n10. '6K'\n11. '7K'\n12. '8K'\n13. '9K'\n14. 'No ANS'\n\n\n",
            "text/html": [
              "<style>\n",
              ".list-inline {list-style: none; margin:0; padding: 0}\n",
              ".list-inline>li {display: inline-block}\n",
              ".list-inline>li:not(:last-child)::after {content: \"\\00b7\"; padding: 0 .5ex}\n",
              "</style>\n",
              "<ol class=list-inline><li>'&lt;1K'</li><li>'0'</li><li>'10K'</li><li>'10K+'</li><li>'1K'</li><li>'2K'</li><li>'3K'</li><li>'4K'</li><li>'5K'</li><li>'6K'</li><li>'7K'</li><li>'8K'</li><li>'9K'</li><li>'No ANS'</li></ol>\n"
            ]
          },
          "metadata": {
            "tags": []
          }
        }
      ]
    },
    {
      "cell_type": "markdown",
      "metadata": {
        "id": "ATzy8rXc2Raq"
      },
      "source": [
        "Reordering the levels"
      ]
    },
    {
      "cell_type": "code",
      "metadata": {
        "colab": {
          "base_uri": "https://localhost:8080/"
        },
        "id": "ZiWPvTT62TWi",
        "outputId": "4388f8e4-e61a-4c19-988c-aa0897336de3"
      },
      "source": [
        "df_with_2 <- \n",
        "    df_with_2 %>%\n",
        "        mutate (ORG_WILLINGNESS_TO_PAY_AMOUNT = fct_relevel(ORG_WILLINGNESS_TO_PAY_AMOUNT,\n",
        "        levels=c(\n",
        "          'No ANS',\n",
        "          '0',\n",
        "          '<1K',\n",
        "          '1K',\n",
        "          '2K',\n",
        "          '3K',\n",
        "          '4K',\n",
        "          '5K',\n",
        "          '6K',\n",
        "          '7K',\n",
        "          '8K',\n",
        "          '9K',\n",
        "          '10K',\n",
        "          '10K+'))) "
      ],
      "execution_count": 168,
      "outputs": [
        {
          "output_type": "stream",
          "text": [
            "Warning message:\n",
            "“Outer names are only allowed for unnamed scalar atomic inputs”\n"
          ],
          "name": "stderr"
        }
      ]
    },
    {
      "cell_type": "code",
      "metadata": {
        "colab": {
          "base_uri": "https://localhost:8080/",
          "height": 529
        },
        "id": "ua1I0lGI21iQ",
        "outputId": "10d93509-c68a-4d98-c9df-e28e098b6579"
      },
      "source": [
        "tabyl(df_with_2$ORG_WILLINGNESS_TO_PAY_AMOUNT)"
      ],
      "execution_count": 169,
      "outputs": [
        {
          "output_type": "display_data",
          "data": {
            "text/plain": [
              "   df_with_2$ORG_WILLINGNESS_TO_PAY_AMOUNT n   percent    \n",
              "1  No ANS                                  574 0.474380165\n",
              "2  0                                        53 0.043801653\n",
              "3  <1K                                      30 0.024793388\n",
              "4  1K                                      126 0.104132231\n",
              "5  2K                                      155 0.128099174\n",
              "6  3K                                       61 0.050413223\n",
              "7  4K                                       30 0.024793388\n",
              "8  5K                                       56 0.046280992\n",
              "9  6K                                       22 0.018181818\n",
              "10 7K                                       12 0.009917355\n",
              "11 8K                                       15 0.012396694\n",
              "12 9K                                        8 0.006611570\n",
              "13 10K                                      30 0.024793388\n",
              "14 10K+                                     38 0.031404959"
            ],
            "text/latex": "A tabyl: 14 × 3\n\\begin{tabular}{lll}\n df\\_with\\_2\\$ORG\\_WILLINGNESS\\_TO\\_PAY\\_AMOUNT & n & percent\\\\\n <fct> & <dbl> & <dbl>\\\\\n\\hline\n\t No ANS & 574 & 0.474380165\\\\\n\t 0      &  53 & 0.043801653\\\\\n\t <1K    &  30 & 0.024793388\\\\\n\t 1K     & 126 & 0.104132231\\\\\n\t 2K     & 155 & 0.128099174\\\\\n\t 3K     &  61 & 0.050413223\\\\\n\t 4K     &  30 & 0.024793388\\\\\n\t 5K     &  56 & 0.046280992\\\\\n\t 6K     &  22 & 0.018181818\\\\\n\t 7K     &  12 & 0.009917355\\\\\n\t 8K     &  15 & 0.012396694\\\\\n\t 9K     &   8 & 0.006611570\\\\\n\t 10K    &  30 & 0.024793388\\\\\n\t 10K+   &  38 & 0.031404959\\\\\n\\end{tabular}\n",
            "text/markdown": "\nA tabyl: 14 × 3\n\n| df_with_2$ORG_WILLINGNESS_TO_PAY_AMOUNT &lt;fct&gt; | n &lt;dbl&gt; | percent &lt;dbl&gt; |\n|---|---|---|\n| No ANS | 574 | 0.474380165 |\n| 0      |  53 | 0.043801653 |\n| &lt;1K    |  30 | 0.024793388 |\n| 1K     | 126 | 0.104132231 |\n| 2K     | 155 | 0.128099174 |\n| 3K     |  61 | 0.050413223 |\n| 4K     |  30 | 0.024793388 |\n| 5K     |  56 | 0.046280992 |\n| 6K     |  22 | 0.018181818 |\n| 7K     |  12 | 0.009917355 |\n| 8K     |  15 | 0.012396694 |\n| 9K     |   8 | 0.006611570 |\n| 10K    |  30 | 0.024793388 |\n| 10K+   |  38 | 0.031404959 |\n\n",
            "text/html": [
              "<table class=\"dataframe\">\n",
              "<caption>A tabyl: 14 × 3</caption>\n",
              "<thead>\n",
              "\t<tr><th scope=col>df_with_2$ORG_WILLINGNESS_TO_PAY_AMOUNT</th><th scope=col>n</th><th scope=col>percent</th></tr>\n",
              "\t<tr><th scope=col>&lt;fct&gt;</th><th scope=col>&lt;dbl&gt;</th><th scope=col>&lt;dbl&gt;</th></tr>\n",
              "</thead>\n",
              "<tbody>\n",
              "\t<tr><td>No ANS</td><td>574</td><td>0.474380165</td></tr>\n",
              "\t<tr><td>0     </td><td> 53</td><td>0.043801653</td></tr>\n",
              "\t<tr><td><span style=white-space:pre-wrap>&lt;1K   </span></td><td> 30</td><td>0.024793388</td></tr>\n",
              "\t<tr><td>1K    </td><td>126</td><td>0.104132231</td></tr>\n",
              "\t<tr><td>2K    </td><td>155</td><td>0.128099174</td></tr>\n",
              "\t<tr><td>3K    </td><td> 61</td><td>0.050413223</td></tr>\n",
              "\t<tr><td>4K    </td><td> 30</td><td>0.024793388</td></tr>\n",
              "\t<tr><td>5K    </td><td> 56</td><td>0.046280992</td></tr>\n",
              "\t<tr><td>6K    </td><td> 22</td><td>0.018181818</td></tr>\n",
              "\t<tr><td>7K    </td><td> 12</td><td>0.009917355</td></tr>\n",
              "\t<tr><td>8K    </td><td> 15</td><td>0.012396694</td></tr>\n",
              "\t<tr><td>9K    </td><td>  8</td><td>0.006611570</td></tr>\n",
              "\t<tr><td>10K   </td><td> 30</td><td>0.024793388</td></tr>\n",
              "\t<tr><td>10K+  </td><td> 38</td><td>0.031404959</td></tr>\n",
              "</tbody>\n",
              "</table>\n"
            ]
          },
          "metadata": {
            "tags": []
          }
        }
      ]
    },
    {
      "cell_type": "markdown",
      "metadata": {
        "id": "P3ToNmo72__o"
      },
      "source": [
        "##### 1.13 ORG_NEW_POS_DEVICES"
      ]
    },
    {
      "cell_type": "code",
      "metadata": {
        "colab": {
          "base_uri": "https://localhost:8080/",
          "height": 1000
        },
        "id": "t99fHlPJ3KwM",
        "outputId": "b0b87d64-7142-42e6-dd4f-f46e18878cd4"
      },
      "source": [
        "tabyl(df_with_2$ORG_NEW_POS_DEVICES)"
      ],
      "execution_count": 170,
      "outputs": [
        {
          "output_type": "display_data",
          "data": {
            "text/plain": [
              "   df_with_2$ORG_NEW_POS_DEVICES                          n   percent     \n",
              "1  -                                                       12 0.0099173554\n",
              "2  Laptop                                                  16 0.0132231405\n",
              "3  Laptop, Mobile Phone                                     4 0.0033057851\n",
              "4  Laptop, Mobile Phone, PC                                 5 0.0041322314\n",
              "5  Laptop, Mobile Phone, PC, POS company hardware           1 0.0008264463\n",
              "6  Laptop, Mobile Phone, PC, POS company hardware, Tablet  62 0.0512396694\n",
              "7  Laptop, Mobile Phone, PC, Tablet                        16 0.0132231405\n",
              "8  Laptop, Mobile Phone, POS company hardware               1 0.0008264463\n",
              "9  Laptop, Mobile Phone, POS company hardware, Tablet       3 0.0024793388\n",
              "10 Laptop, Mobile Phone, Tablet                            22 0.0181818182\n",
              "11 Laptop, PC                                               6 0.0049586777\n",
              "12 Laptop, PC, POS company hardware                         1 0.0008264463\n",
              "13 Laptop, PC, POS company hardware, Tablet                 6 0.0049586777\n",
              "14 Laptop, PC, Tablet                                      33 0.0272727273\n",
              "15 Laptop, POS company hardware                             9 0.0074380165\n",
              "16 Laptop, POS company hardware, Tablet                     1 0.0008264463\n",
              "17 Laptop, Tablet                                          45 0.0371900826\n",
              "18 Mobile Phone                                            18 0.0148760331\n",
              "19 Mobile Phone, PC                                         7 0.0057851240\n",
              "20 Mobile Phone, PC, POS company hardware                   3 0.0024793388\n",
              "21 Mobile Phone, PC, POS company hardware, Tablet           2 0.0016528926\n",
              "22 Mobile Phone, PC, Tablet                                10 0.0082644628\n",
              "23 Mobile Phone, POS company hardware                      38 0.0314049587\n",
              "24 Mobile Phone, POS company hardware, Tablet              12 0.0099173554\n",
              "25 Mobile Phone, POS company hardware, Tablet, Laptop       1 0.0008264463\n",
              "26 Mobile Phone, Tablet                                    95 0.0785123967\n",
              "27 PC                                                      78 0.0644628099\n",
              "28 PC, POS company hardware                                26 0.0214876033\n",
              "29 PC, POS company hardware, Tablet                         3 0.0024793388\n",
              "30 PC, Tablet                                              30 0.0247933884\n",
              "31 POS company hardware                                   140 0.1157024793\n",
              "32 POS company hardware, Tablet                            22 0.0181818182\n",
              "33 Tablet                                                 481 0.3975206612\n",
              "34 Tablet, Laptop, Mobile Phone, PC, POS company hardware   1 0.0008264463"
            ],
            "text/latex": "A tabyl: 34 × 3\n\\begin{tabular}{lll}\n df\\_with\\_2\\$ORG\\_NEW\\_POS\\_DEVICES & n & percent\\\\\n <fct> & <dbl> & <dbl>\\\\\n\\hline\n\t -                                                      &  12 & 0.0099173554\\\\\n\t Laptop                                                 &  16 & 0.0132231405\\\\\n\t Laptop, Mobile Phone                                   &   4 & 0.0033057851\\\\\n\t Laptop, Mobile Phone, PC                               &   5 & 0.0041322314\\\\\n\t Laptop, Mobile Phone, PC, POS company hardware         &   1 & 0.0008264463\\\\\n\t Laptop, Mobile Phone, PC, POS company hardware, Tablet &  62 & 0.0512396694\\\\\n\t Laptop, Mobile Phone, PC, Tablet                       &  16 & 0.0132231405\\\\\n\t Laptop, Mobile Phone, POS company hardware             &   1 & 0.0008264463\\\\\n\t Laptop, Mobile Phone, POS company hardware, Tablet     &   3 & 0.0024793388\\\\\n\t Laptop, Mobile Phone, Tablet                           &  22 & 0.0181818182\\\\\n\t Laptop, PC                                             &   6 & 0.0049586777\\\\\n\t Laptop, PC, POS company hardware                       &   1 & 0.0008264463\\\\\n\t Laptop, PC, POS company hardware, Tablet               &   6 & 0.0049586777\\\\\n\t Laptop, PC, Tablet                                     &  33 & 0.0272727273\\\\\n\t Laptop, POS company hardware                           &   9 & 0.0074380165\\\\\n\t Laptop, POS company hardware, Tablet                   &   1 & 0.0008264463\\\\\n\t Laptop, Tablet                                         &  45 & 0.0371900826\\\\\n\t Mobile Phone                                           &  18 & 0.0148760331\\\\\n\t Mobile Phone, PC                                       &   7 & 0.0057851240\\\\\n\t Mobile Phone, PC, POS company hardware                 &   3 & 0.0024793388\\\\\n\t Mobile Phone, PC, POS company hardware, Tablet         &   2 & 0.0016528926\\\\\n\t Mobile Phone, PC, Tablet                               &  10 & 0.0082644628\\\\\n\t Mobile Phone, POS company hardware                     &  38 & 0.0314049587\\\\\n\t Mobile Phone, POS company hardware, Tablet             &  12 & 0.0099173554\\\\\n\t Mobile Phone, POS company hardware, Tablet, Laptop     &   1 & 0.0008264463\\\\\n\t Mobile Phone, Tablet                                   &  95 & 0.0785123967\\\\\n\t PC                                                     &  78 & 0.0644628099\\\\\n\t PC, POS company hardware                               &  26 & 0.0214876033\\\\\n\t PC, POS company hardware, Tablet                       &   3 & 0.0024793388\\\\\n\t PC, Tablet                                             &  30 & 0.0247933884\\\\\n\t POS company hardware                                   & 140 & 0.1157024793\\\\\n\t POS company hardware, Tablet                           &  22 & 0.0181818182\\\\\n\t Tablet                                                 & 481 & 0.3975206612\\\\\n\t Tablet, Laptop, Mobile Phone, PC, POS company hardware &   1 & 0.0008264463\\\\\n\\end{tabular}\n",
            "text/markdown": "\nA tabyl: 34 × 3\n\n| df_with_2$ORG_NEW_POS_DEVICES &lt;fct&gt; | n &lt;dbl&gt; | percent &lt;dbl&gt; |\n|---|---|---|\n| -                                                      |  12 | 0.0099173554 |\n| Laptop                                                 |  16 | 0.0132231405 |\n| Laptop, Mobile Phone                                   |   4 | 0.0033057851 |\n| Laptop, Mobile Phone, PC                               |   5 | 0.0041322314 |\n| Laptop, Mobile Phone, PC, POS company hardware         |   1 | 0.0008264463 |\n| Laptop, Mobile Phone, PC, POS company hardware, Tablet |  62 | 0.0512396694 |\n| Laptop, Mobile Phone, PC, Tablet                       |  16 | 0.0132231405 |\n| Laptop, Mobile Phone, POS company hardware             |   1 | 0.0008264463 |\n| Laptop, Mobile Phone, POS company hardware, Tablet     |   3 | 0.0024793388 |\n| Laptop, Mobile Phone, Tablet                           |  22 | 0.0181818182 |\n| Laptop, PC                                             |   6 | 0.0049586777 |\n| Laptop, PC, POS company hardware                       |   1 | 0.0008264463 |\n| Laptop, PC, POS company hardware, Tablet               |   6 | 0.0049586777 |\n| Laptop, PC, Tablet                                     |  33 | 0.0272727273 |\n| Laptop, POS company hardware                           |   9 | 0.0074380165 |\n| Laptop, POS company hardware, Tablet                   |   1 | 0.0008264463 |\n| Laptop, Tablet                                         |  45 | 0.0371900826 |\n| Mobile Phone                                           |  18 | 0.0148760331 |\n| Mobile Phone, PC                                       |   7 | 0.0057851240 |\n| Mobile Phone, PC, POS company hardware                 |   3 | 0.0024793388 |\n| Mobile Phone, PC, POS company hardware, Tablet         |   2 | 0.0016528926 |\n| Mobile Phone, PC, Tablet                               |  10 | 0.0082644628 |\n| Mobile Phone, POS company hardware                     |  38 | 0.0314049587 |\n| Mobile Phone, POS company hardware, Tablet             |  12 | 0.0099173554 |\n| Mobile Phone, POS company hardware, Tablet, Laptop     |   1 | 0.0008264463 |\n| Mobile Phone, Tablet                                   |  95 | 0.0785123967 |\n| PC                                                     |  78 | 0.0644628099 |\n| PC, POS company hardware                               |  26 | 0.0214876033 |\n| PC, POS company hardware, Tablet                       |   3 | 0.0024793388 |\n| PC, Tablet                                             |  30 | 0.0247933884 |\n| POS company hardware                                   | 140 | 0.1157024793 |\n| POS company hardware, Tablet                           |  22 | 0.0181818182 |\n| Tablet                                                 | 481 | 0.3975206612 |\n| Tablet, Laptop, Mobile Phone, PC, POS company hardware |   1 | 0.0008264463 |\n\n",
            "text/html": [
              "<table class=\"dataframe\">\n",
              "<caption>A tabyl: 34 × 3</caption>\n",
              "<thead>\n",
              "\t<tr><th scope=col>df_with_2$ORG_NEW_POS_DEVICES</th><th scope=col>n</th><th scope=col>percent</th></tr>\n",
              "\t<tr><th scope=col>&lt;fct&gt;</th><th scope=col>&lt;dbl&gt;</th><th scope=col>&lt;dbl&gt;</th></tr>\n",
              "</thead>\n",
              "<tbody>\n",
              "\t<tr><td>-                                                     </td><td> 12</td><td>0.0099173554</td></tr>\n",
              "\t<tr><td>Laptop                                                </td><td> 16</td><td>0.0132231405</td></tr>\n",
              "\t<tr><td>Laptop, Mobile Phone                                  </td><td>  4</td><td>0.0033057851</td></tr>\n",
              "\t<tr><td>Laptop, Mobile Phone, PC                              </td><td>  5</td><td>0.0041322314</td></tr>\n",
              "\t<tr><td>Laptop, Mobile Phone, PC, POS company hardware        </td><td>  1</td><td>0.0008264463</td></tr>\n",
              "\t<tr><td>Laptop, Mobile Phone, PC, POS company hardware, Tablet</td><td> 62</td><td>0.0512396694</td></tr>\n",
              "\t<tr><td>Laptop, Mobile Phone, PC, Tablet                      </td><td> 16</td><td>0.0132231405</td></tr>\n",
              "\t<tr><td>Laptop, Mobile Phone, POS company hardware            </td><td>  1</td><td>0.0008264463</td></tr>\n",
              "\t<tr><td>Laptop, Mobile Phone, POS company hardware, Tablet    </td><td>  3</td><td>0.0024793388</td></tr>\n",
              "\t<tr><td>Laptop, Mobile Phone, Tablet                          </td><td> 22</td><td>0.0181818182</td></tr>\n",
              "\t<tr><td>Laptop, PC                                            </td><td>  6</td><td>0.0049586777</td></tr>\n",
              "\t<tr><td>Laptop, PC, POS company hardware                      </td><td>  1</td><td>0.0008264463</td></tr>\n",
              "\t<tr><td>Laptop, PC, POS company hardware, Tablet              </td><td>  6</td><td>0.0049586777</td></tr>\n",
              "\t<tr><td>Laptop, PC, Tablet                                    </td><td> 33</td><td>0.0272727273</td></tr>\n",
              "\t<tr><td>Laptop, POS company hardware                          </td><td>  9</td><td>0.0074380165</td></tr>\n",
              "\t<tr><td>Laptop, POS company hardware, Tablet                  </td><td>  1</td><td>0.0008264463</td></tr>\n",
              "\t<tr><td>Laptop, Tablet                                        </td><td> 45</td><td>0.0371900826</td></tr>\n",
              "\t<tr><td>Mobile Phone                                          </td><td> 18</td><td>0.0148760331</td></tr>\n",
              "\t<tr><td>Mobile Phone, PC                                      </td><td>  7</td><td>0.0057851240</td></tr>\n",
              "\t<tr><td>Mobile Phone, PC, POS company hardware                </td><td>  3</td><td>0.0024793388</td></tr>\n",
              "\t<tr><td>Mobile Phone, PC, POS company hardware, Tablet        </td><td>  2</td><td>0.0016528926</td></tr>\n",
              "\t<tr><td>Mobile Phone, PC, Tablet                              </td><td> 10</td><td>0.0082644628</td></tr>\n",
              "\t<tr><td>Mobile Phone, POS company hardware                    </td><td> 38</td><td>0.0314049587</td></tr>\n",
              "\t<tr><td>Mobile Phone, POS company hardware, Tablet            </td><td> 12</td><td>0.0099173554</td></tr>\n",
              "\t<tr><td>Mobile Phone, POS company hardware, Tablet, Laptop    </td><td>  1</td><td>0.0008264463</td></tr>\n",
              "\t<tr><td>Mobile Phone, Tablet                                  </td><td> 95</td><td>0.0785123967</td></tr>\n",
              "\t<tr><td>PC                                                    </td><td> 78</td><td>0.0644628099</td></tr>\n",
              "\t<tr><td>PC, POS company hardware                              </td><td> 26</td><td>0.0214876033</td></tr>\n",
              "\t<tr><td>PC, POS company hardware, Tablet                      </td><td>  3</td><td>0.0024793388</td></tr>\n",
              "\t<tr><td>PC, Tablet                                            </td><td> 30</td><td>0.0247933884</td></tr>\n",
              "\t<tr><td>POS company hardware                                  </td><td>140</td><td>0.1157024793</td></tr>\n",
              "\t<tr><td>POS company hardware, Tablet                          </td><td> 22</td><td>0.0181818182</td></tr>\n",
              "\t<tr><td>Tablet                                                </td><td>481</td><td>0.3975206612</td></tr>\n",
              "\t<tr><td>Tablet, Laptop, Mobile Phone, PC, POS company hardware</td><td>  1</td><td>0.0008264463</td></tr>\n",
              "</tbody>\n",
              "</table>\n"
            ]
          },
          "metadata": {
            "tags": []
          }
        }
      ]
    },
    {
      "cell_type": "markdown",
      "metadata": {
        "id": "sGVbNP6h3SzF"
      },
      "source": [
        "Multiple Response - here"
      ]
    },
    {
      "cell_type": "code",
      "metadata": {
        "colab": {
          "base_uri": "https://localhost:8080/"
        },
        "id": "HimVS7pK3nLN",
        "outputId": "779fade9-bd93-4082-bed5-1f78836397bb"
      },
      "source": [
        "df_with_2 %>%\n",
        "    dplyr::select(RESP_ID, ORG_NEW_POS_DEVICES) %>%\n",
        "    tidyr::gather(ORG_NEW_POS_DEVICES, answer, -RESP_ID) %>%\n",
        "    dplyr::filter(!is.na(answer)) %>%\n",
        "    tidyr::unnest(answer = stringr::str_split(answer, \", \")) -> df_new_pos_devices"
      ],
      "execution_count": 171,
      "outputs": [
        {
          "output_type": "stream",
          "text": [
            "Warning message:\n",
            "“unnest() has a new interface. See ?unnest for details.\n",
            "Try `df %>% unnest(c(answer))`, with `mutate()` if needed”\n"
          ],
          "name": "stderr"
        }
      ]
    },
    {
      "cell_type": "code",
      "metadata": {
        "colab": {
          "base_uri": "https://localhost:8080/",
          "height": 282
        },
        "id": "cGM2e0NT3z2b",
        "outputId": "34624a2e-8efc-46ec-a979-9bd3b2e31996"
      },
      "source": [
        "tabyl(df_new_pos_devices$answer)"
      ],
      "execution_count": 172,
      "outputs": [
        {
          "output_type": "display_data",
          "data": {
            "text/plain": [
              "  df_new_pos_devices$answer n   percent    \n",
              "1 -                          12 0.005961252\n",
              "2 Laptop                    233 0.115747640\n",
              "3 Mobile Phone              301 0.149528068\n",
              "4 PC                        290 0.144063587\n",
              "5 POS company hardware      332 0.164927968\n",
              "6 Tablet                    845 0.419771485"
            ],
            "text/latex": "A tabyl: 6 × 3\n\\begin{tabular}{lll}\n df\\_new\\_pos\\_devices\\$answer & n & percent\\\\\n <chr> & <dbl> & <dbl>\\\\\n\\hline\n\t -                    &  12 & 0.005961252\\\\\n\t Laptop               & 233 & 0.115747640\\\\\n\t Mobile Phone         & 301 & 0.149528068\\\\\n\t PC                   & 290 & 0.144063587\\\\\n\t POS company hardware & 332 & 0.164927968\\\\\n\t Tablet               & 845 & 0.419771485\\\\\n\\end{tabular}\n",
            "text/markdown": "\nA tabyl: 6 × 3\n\n| df_new_pos_devices$answer &lt;chr&gt; | n &lt;dbl&gt; | percent &lt;dbl&gt; |\n|---|---|---|\n| -                    |  12 | 0.005961252 |\n| Laptop               | 233 | 0.115747640 |\n| Mobile Phone         | 301 | 0.149528068 |\n| PC                   | 290 | 0.144063587 |\n| POS company hardware | 332 | 0.164927968 |\n| Tablet               | 845 | 0.419771485 |\n\n",
            "text/html": [
              "<table class=\"dataframe\">\n",
              "<caption>A tabyl: 6 × 3</caption>\n",
              "<thead>\n",
              "\t<tr><th scope=col>df_new_pos_devices$answer</th><th scope=col>n</th><th scope=col>percent</th></tr>\n",
              "\t<tr><th scope=col>&lt;chr&gt;</th><th scope=col>&lt;dbl&gt;</th><th scope=col>&lt;dbl&gt;</th></tr>\n",
              "</thead>\n",
              "<tbody>\n",
              "\t<tr><td>-                   </td><td> 12</td><td>0.005961252</td></tr>\n",
              "\t<tr><td>Laptop              </td><td>233</td><td>0.115747640</td></tr>\n",
              "\t<tr><td>Mobile Phone        </td><td>301</td><td>0.149528068</td></tr>\n",
              "\t<tr><td>PC                  </td><td>290</td><td>0.144063587</td></tr>\n",
              "\t<tr><td>POS company hardware</td><td>332</td><td>0.164927968</td></tr>\n",
              "\t<tr><td>Tablet              </td><td>845</td><td>0.419771485</td></tr>\n",
              "</tbody>\n",
              "</table>\n"
            ]
          },
          "metadata": {
            "tags": []
          }
        }
      ]
    },
    {
      "cell_type": "markdown",
      "metadata": {
        "id": "kjF1r8qm4JJU"
      },
      "source": [
        "Converting from CHR to FACTOR"
      ]
    },
    {
      "cell_type": "code",
      "metadata": {
        "id": "PeMDfmZ54OfN"
      },
      "source": [
        "df_new_pos_devices$answer %>% \n",
        "factor() %>% \n",
        "fct_inorder() -> df_new_pos_devices$answer"
      ],
      "execution_count": 173,
      "outputs": []
    },
    {
      "cell_type": "code",
      "metadata": {
        "colab": {
          "base_uri": "https://localhost:8080/",
          "height": 282
        },
        "id": "-Frg3Kbr4ZaF",
        "outputId": "9c607bab-e5b1-4f33-fd13-ea3d8a4b0f98"
      },
      "source": [
        "tabyl(df_new_pos_devices$answer)"
      ],
      "execution_count": 174,
      "outputs": [
        {
          "output_type": "display_data",
          "data": {
            "text/plain": [
              "  df_new_pos_devices$answer n   percent    \n",
              "1 Mobile Phone              301 0.149528068\n",
              "2 PC                        290 0.144063587\n",
              "3 Laptop                    233 0.115747640\n",
              "4 Tablet                    845 0.419771485\n",
              "5 POS company hardware      332 0.164927968\n",
              "6 -                          12 0.005961252"
            ],
            "text/latex": "A tabyl: 6 × 3\n\\begin{tabular}{lll}\n df\\_new\\_pos\\_devices\\$answer & n & percent\\\\\n <fct> & <dbl> & <dbl>\\\\\n\\hline\n\t Mobile Phone         & 301 & 0.149528068\\\\\n\t PC                   & 290 & 0.144063587\\\\\n\t Laptop               & 233 & 0.115747640\\\\\n\t Tablet               & 845 & 0.419771485\\\\\n\t POS company hardware & 332 & 0.164927968\\\\\n\t -                    &  12 & 0.005961252\\\\\n\\end{tabular}\n",
            "text/markdown": "\nA tabyl: 6 × 3\n\n| df_new_pos_devices$answer &lt;fct&gt; | n &lt;dbl&gt; | percent &lt;dbl&gt; |\n|---|---|---|\n| Mobile Phone         | 301 | 0.149528068 |\n| PC                   | 290 | 0.144063587 |\n| Laptop               | 233 | 0.115747640 |\n| Tablet               | 845 | 0.419771485 |\n| POS company hardware | 332 | 0.164927968 |\n| -                    |  12 | 0.005961252 |\n\n",
            "text/html": [
              "<table class=\"dataframe\">\n",
              "<caption>A tabyl: 6 × 3</caption>\n",
              "<thead>\n",
              "\t<tr><th scope=col>df_new_pos_devices$answer</th><th scope=col>n</th><th scope=col>percent</th></tr>\n",
              "\t<tr><th scope=col>&lt;fct&gt;</th><th scope=col>&lt;dbl&gt;</th><th scope=col>&lt;dbl&gt;</th></tr>\n",
              "</thead>\n",
              "<tbody>\n",
              "\t<tr><td>Mobile Phone        </td><td>301</td><td>0.149528068</td></tr>\n",
              "\t<tr><td>PC                  </td><td>290</td><td>0.144063587</td></tr>\n",
              "\t<tr><td>Laptop              </td><td>233</td><td>0.115747640</td></tr>\n",
              "\t<tr><td>Tablet              </td><td>845</td><td>0.419771485</td></tr>\n",
              "\t<tr><td>POS company hardware</td><td>332</td><td>0.164927968</td></tr>\n",
              "\t<tr><td>-                   </td><td> 12</td><td>0.005961252</td></tr>\n",
              "</tbody>\n",
              "</table>\n"
            ]
          },
          "metadata": {
            "tags": []
          }
        }
      ]
    },
    {
      "cell_type": "code",
      "metadata": {
        "id": "910JBtZL4edt"
      },
      "source": [
        "df_new_pos_devices <- df_new_pos_devices %>% \n",
        "   mutate (answer = fct_recode(df_new_pos_devices$answer, \n",
        "   'No ANS' = '-'))"
      ],
      "execution_count": 175,
      "outputs": []
    },
    {
      "cell_type": "code",
      "metadata": {
        "colab": {
          "base_uri": "https://localhost:8080/",
          "height": 282
        },
        "id": "r__RM3Ps4rHx",
        "outputId": "171a6a1d-6199-41f4-e5e4-042e6e9ed8fe"
      },
      "source": [
        "tabyl(df_new_pos_devices$answer)"
      ],
      "execution_count": 176,
      "outputs": [
        {
          "output_type": "display_data",
          "data": {
            "text/plain": [
              "  df_new_pos_devices$answer n   percent    \n",
              "1 Mobile Phone              301 0.149528068\n",
              "2 PC                        290 0.144063587\n",
              "3 Laptop                    233 0.115747640\n",
              "4 Tablet                    845 0.419771485\n",
              "5 POS company hardware      332 0.164927968\n",
              "6 No ANS                     12 0.005961252"
            ],
            "text/latex": "A tabyl: 6 × 3\n\\begin{tabular}{lll}\n df\\_new\\_pos\\_devices\\$answer & n & percent\\\\\n <fct> & <dbl> & <dbl>\\\\\n\\hline\n\t Mobile Phone         & 301 & 0.149528068\\\\\n\t PC                   & 290 & 0.144063587\\\\\n\t Laptop               & 233 & 0.115747640\\\\\n\t Tablet               & 845 & 0.419771485\\\\\n\t POS company hardware & 332 & 0.164927968\\\\\n\t No ANS               &  12 & 0.005961252\\\\\n\\end{tabular}\n",
            "text/markdown": "\nA tabyl: 6 × 3\n\n| df_new_pos_devices$answer &lt;fct&gt; | n &lt;dbl&gt; | percent &lt;dbl&gt; |\n|---|---|---|\n| Mobile Phone         | 301 | 0.149528068 |\n| PC                   | 290 | 0.144063587 |\n| Laptop               | 233 | 0.115747640 |\n| Tablet               | 845 | 0.419771485 |\n| POS company hardware | 332 | 0.164927968 |\n| No ANS               |  12 | 0.005961252 |\n\n",
            "text/html": [
              "<table class=\"dataframe\">\n",
              "<caption>A tabyl: 6 × 3</caption>\n",
              "<thead>\n",
              "\t<tr><th scope=col>df_new_pos_devices$answer</th><th scope=col>n</th><th scope=col>percent</th></tr>\n",
              "\t<tr><th scope=col>&lt;fct&gt;</th><th scope=col>&lt;dbl&gt;</th><th scope=col>&lt;dbl&gt;</th></tr>\n",
              "</thead>\n",
              "<tbody>\n",
              "\t<tr><td>Mobile Phone        </td><td>301</td><td>0.149528068</td></tr>\n",
              "\t<tr><td>PC                  </td><td>290</td><td>0.144063587</td></tr>\n",
              "\t<tr><td>Laptop              </td><td>233</td><td>0.115747640</td></tr>\n",
              "\t<tr><td>Tablet              </td><td>845</td><td>0.419771485</td></tr>\n",
              "\t<tr><td>POS company hardware</td><td>332</td><td>0.164927968</td></tr>\n",
              "\t<tr><td>No ANS              </td><td> 12</td><td>0.005961252</td></tr>\n",
              "</tbody>\n",
              "</table>\n"
            ]
          },
          "metadata": {
            "tags": []
          }
        }
      ]
    },
    {
      "cell_type": "markdown",
      "metadata": {
        "id": "apxBGO8e3GFe"
      },
      "source": [
        "##### 1.14 ORG_CURRENT_PAYMENT_OPTIONS"
      ]
    },
    {
      "cell_type": "code",
      "metadata": {
        "id": "VY1GYTy_AZlU"
      },
      "source": [
        "#df_with_2 <- df_with_1"
      ],
      "execution_count": 100,
      "outputs": []
    },
    {
      "cell_type": "code",
      "metadata": {
        "colab": {
          "base_uri": "https://localhost:8080/",
          "height": 715
        },
        "id": "grPuj-xv40rJ",
        "outputId": "da103792-18b4-4d59-a2a7-2dc067a07767"
      },
      "source": [
        "tabyl(df_with_2$ORG_CURRENT_PAYMENT_OPTIONS)"
      ],
      "execution_count": 177,
      "outputs": [
        {
          "output_type": "display_data",
          "data": {
            "text/plain": [
              "   df_with_2$ORG_CURRENT_PAYMENT_OPTIONS                          n   \n",
              "1  -                                                                 2\n",
              "2  Cash                                                           1141\n",
              "3  Cash (-), NayaPay (-), Other (Please Specify) (-), QR code (-)    1\n",
              "4  Cash, Credit/Debit Cards                                         25\n",
              "5  Cash, Credit/Debit Cards, Easy-Paisa                              3\n",
              "6  Cash, Credit/Debit Cards, Easy-Paisa, Jazz-Cash                   2\n",
              "7  Cash, Credit/Debit Cards, Easy-Paisa, Jazz-Cash, QR code          1\n",
              "8  Cash, Credit/Debit Cards, Jazz-Cash                               1\n",
              "9  Cash, Easy-Paisa                                                 11\n",
              "10 Cash, Easy-Paisa, Jazz-Cash                                       6\n",
              "11 Cash, Easy-Paisa, Jazz-Cash, QR code                              1\n",
              "12 Cash, Easy-Paisa, QR code                                         1\n",
              "13 Cash, Jazz-Cash                                                   3\n",
              "14 Cash, NayaPay                                                     1\n",
              "15 Cash, Other (Please Specify)                                      1\n",
              "16 Cash, QR code                                                     3\n",
              "17 Credit/Debit Cards                                                2\n",
              "18 Easy-Paisa                                                        2\n",
              "19 NayaPay                                                           2\n",
              "20 QR code                                                           1\n",
              "   percent     \n",
              "1  0.0016528926\n",
              "2  0.9429752066\n",
              "3  0.0008264463\n",
              "4  0.0206611570\n",
              "5  0.0024793388\n",
              "6  0.0016528926\n",
              "7  0.0008264463\n",
              "8  0.0008264463\n",
              "9  0.0090909091\n",
              "10 0.0049586777\n",
              "11 0.0008264463\n",
              "12 0.0008264463\n",
              "13 0.0024793388\n",
              "14 0.0008264463\n",
              "15 0.0008264463\n",
              "16 0.0024793388\n",
              "17 0.0016528926\n",
              "18 0.0016528926\n",
              "19 0.0016528926\n",
              "20 0.0008264463"
            ],
            "text/latex": "A tabyl: 20 × 3\n\\begin{tabular}{lll}\n df\\_with\\_2\\$ORG\\_CURRENT\\_PAYMENT\\_OPTIONS & n & percent\\\\\n <fct> & <dbl> & <dbl>\\\\\n\\hline\n\t -                                                              &    2 & 0.0016528926\\\\\n\t Cash                                                           & 1141 & 0.9429752066\\\\\n\t Cash (-), NayaPay (-), Other (Please Specify) (-), QR code (-) &    1 & 0.0008264463\\\\\n\t Cash, Credit/Debit Cards                                       &   25 & 0.0206611570\\\\\n\t Cash, Credit/Debit Cards, Easy-Paisa                           &    3 & 0.0024793388\\\\\n\t Cash, Credit/Debit Cards, Easy-Paisa, Jazz-Cash                &    2 & 0.0016528926\\\\\n\t Cash, Credit/Debit Cards, Easy-Paisa, Jazz-Cash, QR code       &    1 & 0.0008264463\\\\\n\t Cash, Credit/Debit Cards, Jazz-Cash                            &    1 & 0.0008264463\\\\\n\t Cash, Easy-Paisa                                               &   11 & 0.0090909091\\\\\n\t Cash, Easy-Paisa, Jazz-Cash                                    &    6 & 0.0049586777\\\\\n\t Cash, Easy-Paisa, Jazz-Cash, QR code                           &    1 & 0.0008264463\\\\\n\t Cash, Easy-Paisa, QR code                                      &    1 & 0.0008264463\\\\\n\t Cash, Jazz-Cash                                                &    3 & 0.0024793388\\\\\n\t Cash, NayaPay                                                  &    1 & 0.0008264463\\\\\n\t Cash, Other (Please Specify)                                   &    1 & 0.0008264463\\\\\n\t Cash, QR code                                                  &    3 & 0.0024793388\\\\\n\t Credit/Debit Cards                                             &    2 & 0.0016528926\\\\\n\t Easy-Paisa                                                     &    2 & 0.0016528926\\\\\n\t NayaPay                                                        &    2 & 0.0016528926\\\\\n\t QR code                                                        &    1 & 0.0008264463\\\\\n\\end{tabular}\n",
            "text/markdown": "\nA tabyl: 20 × 3\n\n| df_with_2$ORG_CURRENT_PAYMENT_OPTIONS &lt;fct&gt; | n &lt;dbl&gt; | percent &lt;dbl&gt; |\n|---|---|---|\n| -                                                              |    2 | 0.0016528926 |\n| Cash                                                           | 1141 | 0.9429752066 |\n| Cash (-), NayaPay (-), Other (Please Specify) (-), QR code (-) |    1 | 0.0008264463 |\n| Cash, Credit/Debit Cards                                       |   25 | 0.0206611570 |\n| Cash, Credit/Debit Cards, Easy-Paisa                           |    3 | 0.0024793388 |\n| Cash, Credit/Debit Cards, Easy-Paisa, Jazz-Cash                |    2 | 0.0016528926 |\n| Cash, Credit/Debit Cards, Easy-Paisa, Jazz-Cash, QR code       |    1 | 0.0008264463 |\n| Cash, Credit/Debit Cards, Jazz-Cash                            |    1 | 0.0008264463 |\n| Cash, Easy-Paisa                                               |   11 | 0.0090909091 |\n| Cash, Easy-Paisa, Jazz-Cash                                    |    6 | 0.0049586777 |\n| Cash, Easy-Paisa, Jazz-Cash, QR code                           |    1 | 0.0008264463 |\n| Cash, Easy-Paisa, QR code                                      |    1 | 0.0008264463 |\n| Cash, Jazz-Cash                                                |    3 | 0.0024793388 |\n| Cash, NayaPay                                                  |    1 | 0.0008264463 |\n| Cash, Other (Please Specify)                                   |    1 | 0.0008264463 |\n| Cash, QR code                                                  |    3 | 0.0024793388 |\n| Credit/Debit Cards                                             |    2 | 0.0016528926 |\n| Easy-Paisa                                                     |    2 | 0.0016528926 |\n| NayaPay                                                        |    2 | 0.0016528926 |\n| QR code                                                        |    1 | 0.0008264463 |\n\n",
            "text/html": [
              "<table class=\"dataframe\">\n",
              "<caption>A tabyl: 20 × 3</caption>\n",
              "<thead>\n",
              "\t<tr><th scope=col>df_with_2$ORG_CURRENT_PAYMENT_OPTIONS</th><th scope=col>n</th><th scope=col>percent</th></tr>\n",
              "\t<tr><th scope=col>&lt;fct&gt;</th><th scope=col>&lt;dbl&gt;</th><th scope=col>&lt;dbl&gt;</th></tr>\n",
              "</thead>\n",
              "<tbody>\n",
              "\t<tr><td>-                                                             </td><td>   2</td><td>0.0016528926</td></tr>\n",
              "\t<tr><td>Cash                                                          </td><td>1141</td><td>0.9429752066</td></tr>\n",
              "\t<tr><td>Cash (-), NayaPay (-), Other (Please Specify) (-), QR code (-)</td><td>   1</td><td>0.0008264463</td></tr>\n",
              "\t<tr><td>Cash, Credit/Debit Cards                                      </td><td>  25</td><td>0.0206611570</td></tr>\n",
              "\t<tr><td>Cash, Credit/Debit Cards, Easy-Paisa                          </td><td>   3</td><td>0.0024793388</td></tr>\n",
              "\t<tr><td>Cash, Credit/Debit Cards, Easy-Paisa, Jazz-Cash               </td><td>   2</td><td>0.0016528926</td></tr>\n",
              "\t<tr><td>Cash, Credit/Debit Cards, Easy-Paisa, Jazz-Cash, QR code      </td><td>   1</td><td>0.0008264463</td></tr>\n",
              "\t<tr><td>Cash, Credit/Debit Cards, Jazz-Cash                           </td><td>   1</td><td>0.0008264463</td></tr>\n",
              "\t<tr><td>Cash, Easy-Paisa                                              </td><td>  11</td><td>0.0090909091</td></tr>\n",
              "\t<tr><td>Cash, Easy-Paisa, Jazz-Cash                                   </td><td>   6</td><td>0.0049586777</td></tr>\n",
              "\t<tr><td>Cash, Easy-Paisa, Jazz-Cash, QR code                          </td><td>   1</td><td>0.0008264463</td></tr>\n",
              "\t<tr><td>Cash, Easy-Paisa, QR code                                     </td><td>   1</td><td>0.0008264463</td></tr>\n",
              "\t<tr><td>Cash, Jazz-Cash                                               </td><td>   3</td><td>0.0024793388</td></tr>\n",
              "\t<tr><td>Cash, NayaPay                                                 </td><td>   1</td><td>0.0008264463</td></tr>\n",
              "\t<tr><td>Cash, Other (Please Specify)                                  </td><td>   1</td><td>0.0008264463</td></tr>\n",
              "\t<tr><td>Cash, QR code                                                 </td><td>   3</td><td>0.0024793388</td></tr>\n",
              "\t<tr><td>Credit/Debit Cards                                            </td><td>   2</td><td>0.0016528926</td></tr>\n",
              "\t<tr><td>Easy-Paisa                                                    </td><td>   2</td><td>0.0016528926</td></tr>\n",
              "\t<tr><td>NayaPay                                                       </td><td>   2</td><td>0.0016528926</td></tr>\n",
              "\t<tr><td>QR code                                                       </td><td>   1</td><td>0.0008264463</td></tr>\n",
              "</tbody>\n",
              "</table>\n"
            ]
          },
          "metadata": {
            "tags": []
          }
        }
      ]
    },
    {
      "cell_type": "markdown",
      "metadata": {
        "id": "kIIDjv275rrW"
      },
      "source": [
        "Replace the garbage rows"
      ]
    },
    {
      "cell_type": "code",
      "metadata": {
        "colab": {
          "base_uri": "https://localhost:8080/",
          "height": 734
        },
        "id": "5uC_zOdo9kPO",
        "outputId": "3ec171b7-2f68-474b-b91c-35d4ac0e65f9"
      },
      "source": [
        "\n",
        "#str_replace_all(df_with_2$ORG_CURRENT_PAYMENT_OPTIONS,\n",
        "#     \"\\\\(-\\\\)\", \"\")"
      ],
      "execution_count": 95,
      "outputs": [
        {
          "output_type": "display_data",
          "data": {
            "text/plain": [
              "   [1] \"Cash\"                                                    \n",
              "   [2] \"Cash\"                                                    \n",
              "   [3] \"Cash\"                                                    \n",
              "   [4] \"Cash\"                                                    \n",
              "   [5] \"Cash\"                                                    \n",
              "   [6] \"Cash\"                                                    \n",
              "   [7] \"Cash\"                                                    \n",
              "   [8] \"Cash\"                                                    \n",
              "   [9] \"Cash, Easy-Paisa, Jazz-Cash\"                             \n",
              "  [10] \"Cash\"                                                    \n",
              "  [11] \"Cash\"                                                    \n",
              "  [12] \"Cash\"                                                    \n",
              "  [13] \"Cash, Credit/Debit Cards, Easy-Paisa\"                    \n",
              "  [14] \"Cash, Easy-Paisa\"                                        \n",
              "  [15] \"Cash\"                                                    \n",
              "  [16] \"Cash\"                                                    \n",
              "  [17] \"Cash\"                                                    \n",
              "  [18] \"Cash, Easy-Paisa\"                                        \n",
              "  [19] \"Cash\"                                                    \n",
              "  [20] \"Cash\"                                                    \n",
              "  [21] \"Cash\"                                                    \n",
              "  [22] \"Cash, Credit/Debit Cards\"                                \n",
              "  [23] \"Cash\"                                                    \n",
              "  [24] \"Cash\"                                                    \n",
              "  [25] \"Cash, Credit/Debit Cards, Easy-Paisa, Jazz-Cash, QR code\"\n",
              "  [26] \"Cash\"                                                    \n",
              "  [27] \"Cash, Credit/Debit Cards\"                                \n",
              "  [28] \"Cash, NayaPay\"                                           \n",
              "  [29] \"Cash\"                                                    \n",
              "  [30] \"Cash\"                                                    \n",
              "  [31] \"Cash\"                                                    \n",
              "  [32] \"Cash\"                                                    \n",
              "  [33] \"Cash\"                                                    \n",
              "  [34] \"Cash\"                                                    \n",
              "  [35] \"Cash\"                                                    \n",
              "  [36] \"Cash\"                                                    \n",
              "  [37] \"Cash\"                                                    \n",
              "  [38] \"Cash\"                                                    \n",
              "  [39] \"Cash\"                                                    \n",
              "  [40] \"Cash\"                                                    \n",
              "  [41] \"Cash\"                                                    \n",
              "  [42] \"Cash\"                                                    \n",
              "  [43] \"Cash\"                                                    \n",
              "  [44] \"Cash\"                                                    \n",
              "  [45] \"Cash, Easy-Paisa\"                                        \n",
              "  [46] \"Cash\"                                                    \n",
              "  [47] \"Cash\"                                                    \n",
              "  [48] \"Cash\"                                                    \n",
              "  [49] \"Cash\"                                                    \n",
              "  [50] \"Cash\"                                                    \n",
              "  [51] \"Cash\"                                                    \n",
              "  [52] \"Cash, Credit/Debit Cards, Easy-Paisa, Jazz-Cash\"         \n",
              "  [53] \"Cash\"                                                    \n",
              "  [54] \"Cash\"                                                    \n",
              "  [55] \"Cash\"                                                    \n",
              "  [56] \"Cash\"                                                    \n",
              "  [57] \"Cash\"                                                    \n",
              "  [58] \"Cash\"                                                    \n",
              "  [59] \"Cash\"                                                    \n",
              "  [60] \"Cash\"                                                    \n",
              "  [61] \"Cash\"                                                    \n",
              "  [62] \"Cash, Easy-Paisa, Jazz-Cash\"                             \n",
              "  [63] \"Cash\"                                                    \n",
              "  [64] \"Cash, Easy-Paisa, Jazz-Cash\"                             \n",
              "  [65] \"Cash\"                                                    \n",
              "  [66] \"Cash\"                                                    \n",
              "  [67] \"Cash\"                                                    \n",
              "  [68] \"Cash\"                                                    \n",
              "  [69] \"Cash\"                                                    \n",
              "  [70] \"Cash\"                                                    \n",
              "  [71] \"Cash\"                                                    \n",
              "  [72] \"Cash\"                                                    \n",
              "  [73] \"Cash\"                                                    \n",
              "  [74] \"Cash\"                                                    \n",
              "  [75] \"Cash\"                                                    \n",
              "  [76] \"Cash\"                                                    \n",
              "  [77] \"Cash\"                                                    \n",
              "  [78] \"Cash\"                                                    \n",
              "  [79] \"Cash\"                                                    \n",
              "  [80] \"Cash\"                                                    \n",
              "  [81] \"Cash\"                                                    \n",
              "  [82] \"Cash, Credit/Debit Cards, Jazz-Cash\"                     \n",
              "  [83] \"Cash\"                                                    \n",
              "  [84] \"Cash\"                                                    \n",
              "  [85] \"Cash\"                                                    \n",
              "  [86] \"Cash\"                                                    \n",
              "  [87] \"Cash\"                                                    \n",
              "  [88] \"Cash\"                                                    \n",
              "  [89] \"Cash\"                                                    \n",
              "  [90] \"Cash\"                                                    \n",
              "  [91] \"Cash\"                                                    \n",
              "  [92] \"Cash\"                                                    \n",
              "  [93] \"Cash\"                                                    \n",
              "  [94] \"Cash\"                                                    \n",
              "  [95] \"Cash\"                                                    \n",
              "  [96] \"Cash\"                                                    \n",
              "  [97] \"Cash\"                                                    \n",
              "  [98] \"Cash\"                                                    \n",
              "  [99] \"Cash\"                                                    \n",
              " [100] \"Cash\"                                                    \n",
              " [101] \"Cash\"                                                    \n",
              " [102] \"Cash\"                                                    \n",
              " [103] \"Cash\"                                                    \n",
              " [104] \"Cash\"                                                    \n",
              " [105] \"Cash, QR code\"                                           \n",
              " [106] \"Cash\"                                                    \n",
              " [107] \"Cash\"                                                    \n",
              " [108] \"Cash\"                                                    \n",
              " [109] \"Cash\"                                                    \n",
              " [110] \"Cash\"                                                    \n",
              " [111] \"Cash\"                                                    \n",
              " [112] \"Cash\"                                                    \n",
              " [113] \"Cash\"                                                    \n",
              " [114] \"Cash\"                                                    \n",
              " [115] \"Cash\"                                                    \n",
              " [116] \"Cash\"                                                    \n",
              " [117] \"Cash\"                                                    \n",
              " [118] \"Cash\"                                                    \n",
              " [119] \"Cash\"                                                    \n",
              " [120] \"Cash\"                                                    \n",
              " [121] \"Cash\"                                                    \n",
              " [122] \"Cash\"                                                    \n",
              " [123] \"Cash\"                                                    \n",
              " [124] \"Cash\"                                                    \n",
              " [125] \"Cash\"                                                    \n",
              " [126] \"Cash\"                                                    \n",
              " [127] \"Cash\"                                                    \n",
              " [128] \"Cash\"                                                    \n",
              " [129] \"Cash\"                                                    \n",
              " [130] \"Cash\"                                                    \n",
              " [131] \"Cash\"                                                    \n",
              " [132] \"Cash\"                                                    \n",
              " [133] \"Cash\"                                                    \n",
              " [134] \"Cash\"                                                    \n",
              " [135] \"Cash, Easy-Paisa, Jazz-Cash\"                             \n",
              " [136] \"Cash\"                                                    \n",
              " [137] \"Cash\"                                                    \n",
              " [138] \"Cash\"                                                    \n",
              " [139] \"Cash\"                                                    \n",
              " [140] \"Cash\"                                                    \n",
              " [141] \"Cash\"                                                    \n",
              " [142] \"Cash\"                                                    \n",
              " [143] \"Cash\"                                                    \n",
              " [144] \"Cash\"                                                    \n",
              " [145] \"Cash\"                                                    \n",
              " [146] \"Cash\"                                                    \n",
              " [147] \"Cash\"                                                    \n",
              " [148] \"Cash\"                                                    \n",
              " [149] \"Cash\"                                                    \n",
              " [150] \"Cash\"                                                    \n",
              " [151] \"Cash\"                                                    \n",
              " [152] \"Cash\"                                                    \n",
              " [153] \"Cash\"                                                    \n",
              " [154] \"Cash\"                                                    \n",
              " [155] \"Cash\"                                                    \n",
              " [156] \"Cash\"                                                    \n",
              " [157] \"Cash\"                                                    \n",
              " [158] \"Cash\"                                                    \n",
              " [159] \"Cash\"                                                    \n",
              " [160] \"Cash\"                                                    \n",
              " [161] \"Cash\"                                                    \n",
              " [162] \"Cash\"                                                    \n",
              " [163] \"Cash\"                                                    \n",
              " [164] \"Cash\"                                                    \n",
              " [165] \"Cash\"                                                    \n",
              " [166] \"Cash\"                                                    \n",
              " [167] \"Cash\"                                                    \n",
              " [168] \"Cash\"                                                    \n",
              " [169] \"Cash\"                                                    \n",
              " [170] \"Cash\"                                                    \n",
              " [171] \"Cash\"                                                    \n",
              " [172] \"Cash\"                                                    \n",
              " [173] \"Cash, Credit/Debit Cards, Easy-Paisa\"                    \n",
              " [174] \"Cash, Credit/Debit Cards\"                                \n",
              " [175] \"Cash, Credit/Debit Cards\"                                \n",
              " [176] \"Cash\"                                                    \n",
              " [177] \"-\"                                                       \n",
              " [178] \"Cash\"                                                    \n",
              " [179] \"Cash\"                                                    \n",
              " [180] \"Cash, Credit/Debit Cards, Easy-Paisa\"                    \n",
              " [181] \"Cash\"                                                    \n",
              " [182] \"Cash\"                                                    \n",
              " [183] \"-\"                                                       \n",
              " [184] \"Cash\"                                                    \n",
              " [185] \"Cash\"                                                    \n",
              " [186] \"Cash\"                                                    \n",
              " [187] \"Cash\"                                                    \n",
              " [188] \"Cash , NayaPay , Other (Please Specify) , QR code \"      \n",
              " [189] \"Cash\"                                                    \n",
              " [190] \"Cash\"                                                    \n",
              " [191] \"Cash\"                                                    \n",
              " [192] \"Cash\"                                                    \n",
              " [193] \"Cash\"                                                    \n",
              " [194] \"Cash\"                                                    \n",
              " [195] \"Cash\"                                                    \n",
              " [196] \"Cash\"                                                    \n",
              " [197] \"Cash\"                                                    \n",
              " [198] \"Cash\"                                                    \n",
              " [199] \"Cash\"                                                    \n",
              " [200] \"Cash\"                                                    \n",
              " [201] \"Cash\"                                                    \n",
              " [202] \"Cash, Credit/Debit Cards\"                                \n",
              " [203] \"Cash\"                                                    \n",
              " [204] \"Cash\"                                                    \n",
              " [205] \"Cash\"                                                    \n",
              " [206] \"Cash\"                                                    \n",
              " [207] \"Cash\"                                                    \n",
              " [208] \"Cash, Credit/Debit Cards\"                                \n",
              " [209] \"Cash\"                                                    \n",
              " [210] \"Cash\"                                                    \n",
              " [211] \"Cash\"                                                    \n",
              " [212] \"Cash\"                                                    \n",
              " [213] \"Cash, Easy-Paisa\"                                        \n",
              " [214] \"Cash\"                                                    \n",
              " [215] \"Cash\"                                                    \n",
              " [216] \"Cash\"                                                    \n",
              " [217] \"Cash\"                                                    \n",
              " [218] \"Cash\"                                                    \n",
              " [219] \"Cash\"                                                    \n",
              " [220] \"Cash\"                                                    \n",
              " [221] \"Cash\"                                                    \n",
              " [222] \"Cash\"                                                    \n",
              " [223] \"Cash\"                                                    \n",
              " [224] \"Cash\"                                                    \n",
              " [225] \"Cash\"                                                    \n",
              " [226] \"Cash\"                                                    \n",
              " [227] \"Cash\"                                                    \n",
              " [228] \"Cash\"                                                    \n",
              " [229] \"Cash\"                                                    \n",
              " [230] \"Cash\"                                                    \n",
              " [231] \"Cash\"                                                    \n",
              " [232] \"Cash\"                                                    \n",
              " [233] \"Cash\"                                                    \n",
              " [234] \"Cash\"                                                    \n",
              " [235] \"Cash\"                                                    \n",
              " [236] \"Cash\"                                                    \n",
              " [237] \"Cash\"                                                    \n",
              " [238] \"Cash\"                                                    \n",
              " [239] \"Cash\"                                                    \n",
              " [240] \"Cash\"                                                    \n",
              " [241] \"Cash\"                                                    \n",
              " [242] \"Cash\"                                                    \n",
              " [243] \"Cash\"                                                    \n",
              " [244] \"Cash\"                                                    \n",
              " [245] \"Cash\"                                                    \n",
              " [246] \"Cash\"                                                    \n",
              " [247] \"Cash\"                                                    \n",
              " [248] \"Cash\"                                                    \n",
              " [249] \"Cash\"                                                    \n",
              " [250] \"Cash\"                                                    \n",
              " [251] \"Cash\"                                                    \n",
              " [252] \"Cash\"                                                    \n",
              " [253] \"Cash\"                                                    \n",
              " [254] \"Cash\"                                                    \n",
              " [255] \"Cash\"                                                    \n",
              " [256] \"Cash\"                                                    \n",
              " [257] \"Cash\"                                                    \n",
              " [258] \"Cash\"                                                    \n",
              " [259] \"Cash\"                                                    \n",
              " [260] \"Cash\"                                                    \n",
              " [261] \"Cash\"                                                    \n",
              " [262] \"Cash\"                                                    \n",
              " [263] \"Cash\"                                                    \n",
              " [264] \"Cash\"                                                    \n",
              " [265] \"Cash\"                                                    \n",
              " [266] \"Cash\"                                                    \n",
              " [267] \"Cash\"                                                    \n",
              " [268] \"Cash\"                                                    \n",
              " [269] \"Cash\"                                                    \n",
              " [270] \"Cash\"                                                    \n",
              " [271] \"Cash\"                                                    \n",
              " [272] \"Cash\"                                                    \n",
              " [273] \"Cash\"                                                    \n",
              " [274] \"Cash\"                                                    \n",
              " [275] \"Cash\"                                                    \n",
              " [276] \"Cash\"                                                    \n",
              " [277] \"Cash\"                                                    \n",
              " [278] \"Cash\"                                                    \n",
              " [279] \"Cash\"                                                    \n",
              " [280] \"Cash\"                                                    \n",
              " [281] \"Cash\"                                                    \n",
              " [282] \"Cash\"                                                    \n",
              " [283] \"Cash\"                                                    \n",
              " [284] \"Cash\"                                                    \n",
              " [285] \"Cash\"                                                    \n",
              " [286] \"Cash\"                                                    \n",
              " [287] \"Cash\"                                                    \n",
              " [288] \"Cash\"                                                    \n",
              " [289] \"Cash\"                                                    \n",
              " [290] \"Cash\"                                                    \n",
              " [291] \"Cash\"                                                    \n",
              " [292] \"Cash\"                                                    \n",
              " [293] \"Cash\"                                                    \n",
              " [294] \"Cash\"                                                    \n",
              " [295] \"Cash\"                                                    \n",
              " [296] \"Cash\"                                                    \n",
              " [297] \"Cash\"                                                    \n",
              " [298] \"Cash\"                                                    \n",
              " [299] \"Cash\"                                                    \n",
              " [300] \"Cash\"                                                    \n",
              " [301] \"Cash\"                                                    \n",
              " [302] \"Cash\"                                                    \n",
              " [303] \"Cash\"                                                    \n",
              " [304] \"Cash\"                                                    \n",
              " [305] \"Cash\"                                                    \n",
              " [306] \"Cash\"                                                    \n",
              " [307] \"Cash\"                                                    \n",
              " [308] \"Cash\"                                                    \n",
              " [309] \"Cash\"                                                    \n",
              " [310] \"Cash\"                                                    \n",
              " [311] \"Cash\"                                                    \n",
              " [312] \"Cash, Easy-Paisa\"                                        \n",
              " [313] \"Cash, Easy-Paisa\"                                        \n",
              " [314] \"Cash\"                                                    \n",
              " [315] \"Cash\"                                                    \n",
              " [316] \"Cash\"                                                    \n",
              " [317] \"Cash\"                                                    \n",
              " [318] \"Cash\"                                                    \n",
              " [319] \"Cash\"                                                    \n",
              " [320] \"Cash\"                                                    \n",
              " [321] \"Cash, Easy-Paisa\"                                        \n",
              " [322] \"Cash, Easy-Paisa\"                                        \n",
              " [323] \"Cash\"                                                    \n",
              " [324] \"Cash\"                                                    \n",
              " [325] \"Cash\"                                                    \n",
              " [326] \"Cash\"                                                    \n",
              " [327] \"Cash\"                                                    \n",
              " [328] \"Cash\"                                                    \n",
              " [329] \"Cash\"                                                    \n",
              " [330] \"Cash\"                                                    \n",
              " [331] \"Cash\"                                                    \n",
              " [332] \"Cash\"                                                    \n",
              " [333] \"Cash\"                                                    \n",
              " [334] \"Cash\"                                                    \n",
              " [335] \"Cash\"                                                    \n",
              " [336] \"Cash\"                                                    \n",
              " [337] \"Cash\"                                                    \n",
              " [338] \"Cash\"                                                    \n",
              " [339] \"Cash\"                                                    \n",
              " [340] \"Cash\"                                                    \n",
              " [341] \"Cash\"                                                    \n",
              " [342] \"Cash\"                                                    \n",
              " [343] \"Cash\"                                                    \n",
              " [344] \"Cash\"                                                    \n",
              " [345] \"Cash\"                                                    \n",
              " [346] \"Cash\"                                                    \n",
              " [347] \"Cash\"                                                    \n",
              " [348] \"Cash\"                                                    \n",
              " [349] \"Cash\"                                                    \n",
              " [350] \"Cash\"                                                    \n",
              " [351] \"Cash\"                                                    \n",
              " [352] \"Cash\"                                                    \n",
              " [353] \"Cash\"                                                    \n",
              " [354] \"Cash\"                                                    \n",
              " [355] \"Cash, Credit/Debit Cards\"                                \n",
              " [356] \"Cash\"                                                    \n",
              " [357] \"Cash, Jazz-Cash\"                                         \n",
              " [358] \"Cash\"                                                    \n",
              " [359] \"Cash\"                                                    \n",
              " [360] \"Cash\"                                                    \n",
              " [361] \"Cash\"                                                    \n",
              " [362] \"Cash\"                                                    \n",
              " [363] \"Cash\"                                                    \n",
              " [364] \"Cash, Easy-Paisa\"                                        \n",
              " [365] \"Cash\"                                                    \n",
              " [366] \"Cash\"                                                    \n",
              " [367] \"Cash\"                                                    \n",
              " [368] \"Cash\"                                                    \n",
              " [369] \"Cash\"                                                    \n",
              " [370] \"Cash\"                                                    \n",
              " [371] \"Cash\"                                                    \n",
              " [372] \"Cash\"                                                    \n",
              " [373] \"Cash\"                                                    \n",
              " [374] \"Cash\"                                                    \n",
              " [375] \"Cash\"                                                    \n",
              " [376] \"Cash\"                                                    \n",
              " [377] \"Cash\"                                                    \n",
              " [378] \"Cash\"                                                    \n",
              " [379] \"Cash\"                                                    \n",
              " [380] \"Cash\"                                                    \n",
              " [381] \"Cash\"                                                    \n",
              " [382] \"Cash\"                                                    \n",
              " [383] \"Cash\"                                                    \n",
              " [384] \"Cash\"                                                    \n",
              " [385] \"Cash\"                                                    \n",
              " [386] \"Cash\"                                                    \n",
              " [387] \"Cash\"                                                    \n",
              " [388] \"Cash\"                                                    \n",
              " [389] \"Cash\"                                                    \n",
              " [390] \"Cash\"                                                    \n",
              " [391] \"Cash\"                                                    \n",
              " [392] \"Cash\"                                                    \n",
              " [393] \"Cash\"                                                    \n",
              " [394] \"Cash, Other (Please Specify)\"                            \n",
              " [395] \"Cash\"                                                    \n",
              " [396] \"Cash\"                                                    \n",
              " [397] \"Cash\"                                                    \n",
              " [398] \"Cash\"                                                    \n",
              " [399] \"Cash\"                                                    \n",
              " [400] \"Cash\"                                                    \n",
              " [401] \"Cash\"                                                    \n",
              " [402] \"Cash\"                                                    \n",
              " [403] \"Cash\"                                                    \n",
              " [404] \"Cash\"                                                    \n",
              " [405] \"Cash, Easy-Paisa, Jazz-Cash, QR code\"                    \n",
              " [406] \"Cash\"                                                    \n",
              " [407] \"Cash\"                                                    \n",
              " [408] \"Cash\"                                                    \n",
              " [409] \"Cash\"                                                    \n",
              " [410] \"Cash\"                                                    \n",
              " [411] \"Cash\"                                                    \n",
              " [412] \"Cash\"                                                    \n",
              " [413] \"Cash\"                                                    \n",
              " [414] \"Cash\"                                                    \n",
              " [415] \"Cash\"                                                    \n",
              " [416] \"Cash\"                                                    \n",
              " [417] \"Cash\"                                                    \n",
              " [418] \"Cash\"                                                    \n",
              " [419] \"Cash\"                                                    \n",
              " [420] \"Cash\"                                                    \n",
              " [421] \"Cash\"                                                    \n",
              " [422] \"Cash\"                                                    \n",
              " [423] \"Cash\"                                                    \n",
              " [424] \"Cash\"                                                    \n",
              " [425] \"Cash\"                                                    \n",
              " [426] \"Cash\"                                                    \n",
              " [427] \"Cash\"                                                    \n",
              " [428] \"Cash\"                                                    \n",
              " [429] \"Cash\"                                                    \n",
              " [430] \"Cash\"                                                    \n",
              " [431] \"Cash\"                                                    \n",
              " [432] \"Cash\"                                                    \n",
              " [433] \"Cash\"                                                    \n",
              " [434] \"Cash\"                                                    \n",
              " [435] \"Cash, Credit/Debit Cards\"                                \n",
              " [436] \"Cash\"                                                    \n",
              " [437] \"Cash\"                                                    \n",
              " [438] \"Cash\"                                                    \n",
              " [439] \"Cash\"                                                    \n",
              " [440] \"Cash\"                                                    \n",
              " [441] \"Cash\"                                                    \n",
              " [442] \"Cash\"                                                    \n",
              " [443] \"Cash\"                                                    \n",
              " [444] \"Cash\"                                                    \n",
              " [445] \"Cash\"                                                    \n",
              " [446] \"Cash\"                                                    \n",
              " [447] \"Cash\"                                                    \n",
              " [448] \"Cash\"                                                    \n",
              " [449] \"Cash, Easy-Paisa\"                                        \n",
              " [450] \"Cash\"                                                    \n",
              " [451] \"Cash\"                                                    \n",
              " [452] \"Cash\"                                                    \n",
              " [453] \"Cash\"                                                    \n",
              " [454] \"Cash\"                                                    \n",
              " [455] \"Cash, Easy-Paisa, Jazz-Cash\"                             \n",
              " [456] \"Cash, Credit/Debit Cards\"                                \n",
              " [457] \"Cash, Credit/Debit Cards\"                                \n",
              " [458] \"Cash, Credit/Debit Cards\"                                \n",
              " [459] \"Cash\"                                                    \n",
              " [460] \"Cash\"                                                    \n",
              " [461] \"Cash\"                                                    \n",
              " [462] \"Cash\"                                                    \n",
              " [463] \"Cash\"                                                    \n",
              " [464] \"Cash\"                                                    \n",
              " [465] \"Cash\"                                                    \n",
              " [466] \"Cash\"                                                    \n",
              " [467] \"Cash\"                                                    \n",
              " [468] \"Cash\"                                                    \n",
              " [469] \"Cash\"                                                    \n",
              " [470] \"Cash\"                                                    \n",
              " [471] \"Cash\"                                                    \n",
              " [472] \"Cash\"                                                    \n",
              " [473] \"Cash\"                                                    \n",
              " [474] \"Cash\"                                                    \n",
              " [475] \"Cash\"                                                    \n",
              " [476] \"Cash\"                                                    \n",
              " [477] \"Cash\"                                                    \n",
              " [478] \"Cash\"                                                    \n",
              " [479] \"Cash\"                                                    \n",
              " [480] \"Cash\"                                                    \n",
              " [481] \"Cash\"                                                    \n",
              " [482] \"Cash\"                                                    \n",
              " [483] \"Cash\"                                                    \n",
              " [484] \"Cash\"                                                    \n",
              " [485] \"Cash\"                                                    \n",
              " [486] \"Cash\"                                                    \n",
              " [487] \"Cash\"                                                    \n",
              " [488] \"Cash\"                                                    \n",
              " [489] \"Cash\"                                                    \n",
              " [490] \"Cash\"                                                    \n",
              " [491] \"Cash\"                                                    \n",
              " [492] \"Cash\"                                                    \n",
              " [493] \"Cash\"                                                    \n",
              " [494] \"Cash\"                                                    \n",
              " [495] \"Cash\"                                                    \n",
              " [496] \"Cash\"                                                    \n",
              " [497] \"Cash\"                                                    \n",
              " [498] \"Cash\"                                                    \n",
              " [499] \"Cash\"                                                    \n",
              " [500] \"Cash, QR code\"                                           \n",
              " [501] \"Cash\"                                                    \n",
              " [502] \"Cash\"                                                    \n",
              " [503] \"Cash\"                                                    \n",
              " [504] \"Cash\"                                                    \n",
              " [505] \"Cash\"                                                    \n",
              " [506] \"Cash\"                                                    \n",
              " [507] \"Cash\"                                                    \n",
              " [508] \"Cash\"                                                    \n",
              " [509] \"Cash\"                                                    \n",
              " [510] \"Cash\"                                                    \n",
              " [511] \"Cash\"                                                    \n",
              " [512] \"Cash\"                                                    \n",
              " [513] \"Cash\"                                                    \n",
              " [514] \"Cash\"                                                    \n",
              " [515] \"Cash\"                                                    \n",
              " [516] \"Cash\"                                                    \n",
              " [517] \"Cash\"                                                    \n",
              " [518] \"Cash\"                                                    \n",
              " [519] \"Cash\"                                                    \n",
              " [520] \"Cash\"                                                    \n",
              " [521] \"Cash\"                                                    \n",
              " [522] \"Cash\"                                                    \n",
              " [523] \"Cash\"                                                    \n",
              " [524] \"Cash\"                                                    \n",
              " [525] \"Cash\"                                                    \n",
              " [526] \"Cash\"                                                    \n",
              " [527] \"Cash\"                                                    \n",
              " [528] \"Cash\"                                                    \n",
              " [529] \"Cash\"                                                    \n",
              " [530] \"Cash\"                                                    \n",
              " [531] \"Cash\"                                                    \n",
              " [532] \"Cash\"                                                    \n",
              " [533] \"Cash\"                                                    \n",
              " [534] \"Cash\"                                                    \n",
              " [535] \"Cash\"                                                    \n",
              " [536] \"Cash\"                                                    \n",
              " [537] \"Cash\"                                                    \n",
              " [538] \"Cash\"                                                    \n",
              " [539] \"Cash\"                                                    \n",
              " [540] \"Cash\"                                                    \n",
              " [541] \"Cash\"                                                    \n",
              " [542] \"Cash\"                                                    \n",
              " [543] \"Cash\"                                                    \n",
              " [544] \"Cash\"                                                    \n",
              " [545] \"Cash\"                                                    \n",
              " [546] \"Cash\"                                                    \n",
              " [547] \"Cash\"                                                    \n",
              " [548] \"Cash\"                                                    \n",
              " [549] \"Cash\"                                                    \n",
              " [550] \"Cash\"                                                    \n",
              " [551] \"Cash\"                                                    \n",
              " [552] \"Cash\"                                                    \n",
              " [553] \"Cash\"                                                    \n",
              " [554] \"Cash\"                                                    \n",
              " [555] \"Cash\"                                                    \n",
              " [556] \"Cash\"                                                    \n",
              " [557] \"Cash\"                                                    \n",
              " [558] \"Cash\"                                                    \n",
              " [559] \"Cash\"                                                    \n",
              " [560] \"Cash\"                                                    \n",
              " [561] \"Cash\"                                                    \n",
              " [562] \"Cash\"                                                    \n",
              " [563] \"Cash\"                                                    \n",
              " [564] \"Cash\"                                                    \n",
              " [565] \"Cash\"                                                    \n",
              " [566] \"Cash\"                                                    \n",
              " [567] \"Cash\"                                                    \n",
              " [568] \"Cash, Credit/Debit Cards\"                                \n",
              " [569] \"Cash\"                                                    \n",
              " [570] \"Cash\"                                                    \n",
              " [571] \"Cash\"                                                    \n",
              " [572] \"Cash\"                                                    \n",
              " [573] \"Cash\"                                                    \n",
              " [574] \"Cash\"                                                    \n",
              " [575] \"Cash\"                                                    \n",
              " [576] \"Cash\"                                                    \n",
              " [577] \"Cash\"                                                    \n",
              " [578] \"Cash\"                                                    \n",
              " [579] \"Cash\"                                                    \n",
              " [580] \"Cash\"                                                    \n",
              " [581] \"Cash\"                                                    \n",
              " [582] \"Cash\"                                                    \n",
              " [583] \"Cash\"                                                    \n",
              " [584] \"Cash\"                                                    \n",
              " [585] \"Cash\"                                                    \n",
              " [586] \"Cash\"                                                    \n",
              " [587] \"Cash\"                                                    \n",
              " [588] \"Cash\"                                                    \n",
              " [589] \"Cash\"                                                    \n",
              " [590] \"Cash\"                                                    \n",
              " [591] \"Cash\"                                                    \n",
              " [592] \"Cash\"                                                    \n",
              " [593] \"Cash\"                                                    \n",
              " [594] \"Cash\"                                                    \n",
              " [595] \"Cash\"                                                    \n",
              " [596] \"Cash\"                                                    \n",
              " [597] \"Cash\"                                                    \n",
              " [598] \"Cash\"                                                    \n",
              " [599] \"Cash\"                                                    \n",
              " [600] \"Cash\"                                                    \n",
              " [601] \"Cash\"                                                    \n",
              " [602] \"Cash\"                                                    \n",
              " [603] \"Cash\"                                                    \n",
              " [604] \"Cash\"                                                    \n",
              " [605] \"Cash\"                                                    \n",
              " [606] \"Cash\"                                                    \n",
              " [607] \"Cash\"                                                    \n",
              " [608] \"Cash\"                                                    \n",
              " [609] \"Cash, Jazz-Cash\"                                         \n",
              " [610] \"Cash\"                                                    \n",
              " [611] \"Cash\"                                                    \n",
              " [612] \"Cash\"                                                    \n",
              " [613] \"Cash\"                                                    \n",
              " [614] \"Cash\"                                                    \n",
              " [615] \"Cash\"                                                    \n",
              " [616] \"Cash\"                                                    \n",
              " [617] \"Cash\"                                                    \n",
              " [618] \"Cash\"                                                    \n",
              " [619] \"Cash\"                                                    \n",
              " [620] \"Cash\"                                                    \n",
              " [621] \"Cash\"                                                    \n",
              " [622] \"Cash\"                                                    \n",
              " [623] \"Cash, Credit/Debit Cards\"                                \n",
              " [624] \"Cash\"                                                    \n",
              " [625] \"Cash\"                                                    \n",
              " [626] \"Cash\"                                                    \n",
              " [627] \"Cash\"                                                    \n",
              " [628] \"Cash\"                                                    \n",
              " [629] \"Cash\"                                                    \n",
              " [630] \"Cash\"                                                    \n",
              " [631] \"Cash\"                                                    \n",
              " [632] \"Cash\"                                                    \n",
              " [633] \"Cash\"                                                    \n",
              " [634] \"Cash\"                                                    \n",
              " [635] \"Cash\"                                                    \n",
              " [636] \"Cash\"                                                    \n",
              " [637] \"Cash\"                                                    \n",
              " [638] \"Cash\"                                                    \n",
              " [639] \"Cash\"                                                    \n",
              " [640] \"Cash\"                                                    \n",
              " [641] \"Cash\"                                                    \n",
              " [642] \"Cash\"                                                    \n",
              " [643] \"Cash\"                                                    \n",
              " [644] \"Cash\"                                                    \n",
              " [645] \"Cash\"                                                    \n",
              " [646] \"Cash\"                                                    \n",
              " [647] \"Cash\"                                                    \n",
              " [648] \"Cash\"                                                    \n",
              " [649] \"Cash\"                                                    \n",
              " [650] \"Cash\"                                                    \n",
              " [651] \"Cash\"                                                    \n",
              " [652] \"Cash\"                                                    \n",
              " [653] \"Cash\"                                                    \n",
              " [654] \"Cash\"                                                    \n",
              " [655] \"Cash\"                                                    \n",
              " [656] \"Cash\"                                                    \n",
              " [657] \"Cash\"                                                    \n",
              " [658] \"Cash\"                                                    \n",
              " [659] \"Cash\"                                                    \n",
              " [660] \"Cash\"                                                    \n",
              " [661] \"Cash\"                                                    \n",
              " [662] \"Cash\"                                                    \n",
              " [663] \"Cash\"                                                    \n",
              " [664] \"Cash\"                                                    \n",
              " [665] \"Cash\"                                                    \n",
              " [666] \"Cash\"                                                    \n",
              " [667] \"Cash\"                                                    \n",
              " [668] \"Cash\"                                                    \n",
              " [669] \"Cash\"                                                    \n",
              " [670] \"Cash\"                                                    \n",
              " [671] \"Cash\"                                                    \n",
              " [672] \"Cash\"                                                    \n",
              " [673] \"Cash\"                                                    \n",
              " [674] \"Cash\"                                                    \n",
              " [675] \"Cash\"                                                    \n",
              " [676] \"Cash\"                                                    \n",
              " [677] \"Cash\"                                                    \n",
              " [678] \"Cash\"                                                    \n",
              " [679] \"Cash\"                                                    \n",
              " [680] \"Cash\"                                                    \n",
              " [681] \"Cash\"                                                    \n",
              " [682] \"Cash\"                                                    \n",
              " [683] \"Cash\"                                                    \n",
              " [684] \"Cash\"                                                    \n",
              " [685] \"Cash\"                                                    \n",
              " [686] \"Cash\"                                                    \n",
              " [687] \"Cash\"                                                    \n",
              " [688] \"Cash, Credit/Debit Cards\"                                \n",
              " [689] \"Cash\"                                                    \n",
              " [690] \"Cash\"                                                    \n",
              " [691] \"Cash\"                                                    \n",
              " [692] \"Cash\"                                                    \n",
              " [693] \"Cash, Credit/Debit Cards\"                                \n",
              " [694] \"Cash\"                                                    \n",
              " [695] \"Cash\"                                                    \n",
              " [696] \"Cash\"                                                    \n",
              " [697] \"Cash\"                                                    \n",
              " [698] \"Cash\"                                                    \n",
              " [699] \"Cash\"                                                    \n",
              " [700] \"Cash\"                                                    \n",
              " [701] \"Cash\"                                                    \n",
              " [702] \"Cash\"                                                    \n",
              " [703] \"Cash\"                                                    \n",
              " [704] \"Cash\"                                                    \n",
              " [705] \"Cash\"                                                    \n",
              " [706] \"Cash\"                                                    \n",
              " [707] \"Cash\"                                                    \n",
              " [708] \"Cash\"                                                    \n",
              " [709] \"Cash\"                                                    \n",
              " [710] \"Cash\"                                                    \n",
              " [711] \"Cash\"                                                    \n",
              " [712] \"Cash\"                                                    \n",
              " [713] \"Cash\"                                                    \n",
              " [714] \"Cash\"                                                    \n",
              " [715] \"Cash\"                                                    \n",
              " [716] \"Cash\"                                                    \n",
              " [717] \"Cash\"                                                    \n",
              " [718] \"Cash\"                                                    \n",
              " [719] \"Cash\"                                                    \n",
              " [720] \"Cash\"                                                    \n",
              " [721] \"Cash\"                                                    \n",
              " [722] \"Cash\"                                                    \n",
              " [723] \"Cash\"                                                    \n",
              " [724] \"Cash\"                                                    \n",
              " [725] \"Cash\"                                                    \n",
              " [726] \"Cash\"                                                    \n",
              " [727] \"Cash\"                                                    \n",
              " [728] \"Cash\"                                                    \n",
              " [729] \"Cash\"                                                    \n",
              " [730] \"Cash\"                                                    \n",
              " [731] \"Cash\"                                                    \n",
              " [732] \"Cash\"                                                    \n",
              " [733] \"Cash\"                                                    \n",
              " [734] \"Cash\"                                                    \n",
              " [735] \"Cash\"                                                    \n",
              " [736] \"Cash\"                                                    \n",
              " [737] \"Cash\"                                                    \n",
              " [738] \"Cash\"                                                    \n",
              " [739] \"Cash\"                                                    \n",
              " [740] \"Cash\"                                                    \n",
              " [741] \"Cash\"                                                    \n",
              " [742] \"Cash\"                                                    \n",
              " [743] \"Cash\"                                                    \n",
              " [744] \"Cash\"                                                    \n",
              " [745] \"Cash\"                                                    \n",
              " [746] \"Cash\"                                                    \n",
              " [747] \"Cash\"                                                    \n",
              " [748] \"Cash\"                                                    \n",
              " [749] \"Cash\"                                                    \n",
              " [750] \"Cash\"                                                    \n",
              " [751] \"Cash\"                                                    \n",
              " [752] \"Cash\"                                                    \n",
              " [753] \"Cash\"                                                    \n",
              " [754] \"Cash\"                                                    \n",
              " [755] \"Cash\"                                                    \n",
              " [756] \"Cash\"                                                    \n",
              " [757] \"Cash\"                                                    \n",
              " [758] \"Cash\"                                                    \n",
              " [759] \"Cash\"                                                    \n",
              " [760] \"Cash\"                                                    \n",
              " [761] \"Cash\"                                                    \n",
              " [762] \"Cash\"                                                    \n",
              " [763] \"Cash\"                                                    \n",
              " [764] \"Cash\"                                                    \n",
              " [765] \"Cash\"                                                    \n",
              " [766] \"Cash\"                                                    \n",
              " [767] \"Cash\"                                                    \n",
              " [768] \"Cash\"                                                    \n",
              " [769] \"Cash\"                                                    \n",
              " [770] \"Cash\"                                                    \n",
              " [771] \"Cash\"                                                    \n",
              " [772] \"Cash\"                                                    \n",
              " [773] \"Cash\"                                                    \n",
              " [774] \"Cash\"                                                    \n",
              " [775] \"Cash\"                                                    \n",
              " [776] \"Cash\"                                                    \n",
              " [777] \"Cash\"                                                    \n",
              " [778] \"Cash\"                                                    \n",
              " [779] \"Cash\"                                                    \n",
              " [780] \"Cash\"                                                    \n",
              " [781] \"Cash\"                                                    \n",
              " [782] \"Cash\"                                                    \n",
              " [783] \"Cash\"                                                    \n",
              " [784] \"Cash\"                                                    \n",
              " [785] \"Cash\"                                                    \n",
              " [786] \"Cash\"                                                    \n",
              " [787] \"Cash\"                                                    \n",
              " [788] \"Cash\"                                                    \n",
              " [789] \"Cash\"                                                    \n",
              " [790] \"Cash\"                                                    \n",
              " [791] \"Cash\"                                                    \n",
              " [792] \"Cash\"                                                    \n",
              " [793] \"Cash\"                                                    \n",
              " [794] \"Cash\"                                                    \n",
              " [795] \"Cash\"                                                    \n",
              " [796] \"Cash\"                                                    \n",
              " [797] \"Cash\"                                                    \n",
              " [798] \"Cash\"                                                    \n",
              " [799] \"Cash\"                                                    \n",
              " [800] \"Cash\"                                                    \n",
              " [801] \"Cash\"                                                    \n",
              " [802] \"Cash\"                                                    \n",
              " [803] \"Cash\"                                                    \n",
              " [804] \"Cash\"                                                    \n",
              " [805] \"Cash\"                                                    \n",
              " [806] \"Cash\"                                                    \n",
              " [807] \"Cash\"                                                    \n",
              " [808] \"Cash\"                                                    \n",
              " [809] \"Cash\"                                                    \n",
              " [810] \"Cash\"                                                    \n",
              " [811] \"Cash\"                                                    \n",
              " [812] \"Cash\"                                                    \n",
              " [813] \"Cash\"                                                    \n",
              " [814] \"Cash\"                                                    \n",
              " [815] \"Cash\"                                                    \n",
              " [816] \"Cash\"                                                    \n",
              " [817] \"Cash\"                                                    \n",
              " [818] \"Cash\"                                                    \n",
              " [819] \"Cash\"                                                    \n",
              " [820] \"Cash\"                                                    \n",
              " [821] \"Cash\"                                                    \n",
              " [822] \"Cash\"                                                    \n",
              " [823] \"Cash\"                                                    \n",
              " [824] \"Cash, Credit/Debit Cards\"                                \n",
              " [825] \"Cash\"                                                    \n",
              " [826] \"Cash\"                                                    \n",
              " [827] \"Cash, Credit/Debit Cards\"                                \n",
              " [828] \"Cash\"                                                    \n",
              " [829] \"Cash\"                                                    \n",
              " [830] \"Cash\"                                                    \n",
              " [831] \"Cash\"                                                    \n",
              " [832] \"Cash\"                                                    \n",
              " [833] \"Cash\"                                                    \n",
              " [834] \"Cash\"                                                    \n",
              " [835] \"Cash\"                                                    \n",
              " [836] \"Cash\"                                                    \n",
              " [837] \"Cash, Credit/Debit Cards\"                                \n",
              " [838] \"Cash, Credit/Debit Cards\"                                \n",
              " [839] \"Cash\"                                                    \n",
              " [840] \"Cash\"                                                    \n",
              " [841] \"Cash\"                                                    \n",
              " [842] \"Cash\"                                                    \n",
              " [843] \"Cash\"                                                    \n",
              " [844] \"Cash\"                                                    \n",
              " [845] \"Cash\"                                                    \n",
              " [846] \"Cash\"                                                    \n",
              " [847] \"Cash\"                                                    \n",
              " [848] \"Cash\"                                                    \n",
              " [849] \"Cash\"                                                    \n",
              " [850] \"Cash\"                                                    \n",
              " [851] \"Cash\"                                                    \n",
              " [852] \"Cash\"                                                    \n",
              " [853] \"Cash\"                                                    \n",
              " [854] \"Cash\"                                                    \n",
              " [855] \"Cash\"                                                    \n",
              " [856] \"Cash\"                                                    \n",
              " [857] \"Cash\"                                                    \n",
              " [858] \"Cash\"                                                    \n",
              " [859] \"Cash\"                                                    \n",
              " [860] \"Cash\"                                                    \n",
              " [861] \"Cash\"                                                    \n",
              " [862] \"Cash\"                                                    \n",
              " [863] \"Cash\"                                                    \n",
              " [864] \"Cash\"                                                    \n",
              " [865] \"Cash\"                                                    \n",
              " [866] \"Cash\"                                                    \n",
              " [867] \"Cash\"                                                    \n",
              " [868] \"Cash\"                                                    \n",
              " [869] \"Cash\"                                                    \n",
              " [870] \"Cash\"                                                    \n",
              " [871] \"Cash\"                                                    \n",
              " [872] \"Cash\"                                                    \n",
              " [873] \"Cash\"                                                    \n",
              " [874] \"Cash\"                                                    \n",
              " [875] \"Cash\"                                                    \n",
              " [876] \"Cash\"                                                    \n",
              " [877] \"Cash\"                                                    \n",
              " [878] \"Cash, Easy-Paisa\"                                        \n",
              " [879] \"Cash\"                                                    \n",
              " [880] \"Cash\"                                                    \n",
              " [881] \"Cash\"                                                    \n",
              " [882] \"Cash\"                                                    \n",
              " [883] \"Cash\"                                                    \n",
              " [884] \"Cash\"                                                    \n",
              " [885] \"Cash\"                                                    \n",
              " [886] \"Cash\"                                                    \n",
              " [887] \"Cash\"                                                    \n",
              " [888] \"Cash\"                                                    \n",
              " [889] \"Cash\"                                                    \n",
              " [890] \"Cash\"                                                    \n",
              " [891] \"Cash\"                                                    \n",
              " [892] \"Cash\"                                                    \n",
              " [893] \"Cash\"                                                    \n",
              " [894] \"Cash\"                                                    \n",
              " [895] \"Cash\"                                                    \n",
              " [896] \"Cash\"                                                    \n",
              " [897] \"Cash\"                                                    \n",
              " [898] \"Cash\"                                                    \n",
              " [899] \"Cash\"                                                    \n",
              " [900] \"Cash\"                                                    \n",
              " [901] \"Cash\"                                                    \n",
              " [902] \"Cash\"                                                    \n",
              " [903] \"Cash\"                                                    \n",
              " [904] \"Cash\"                                                    \n",
              " [905] \"Cash\"                                                    \n",
              " [906] \"Cash\"                                                    \n",
              " [907] \"Cash\"                                                    \n",
              " [908] \"Cash\"                                                    \n",
              " [909] \"Cash\"                                                    \n",
              " [910] \"Cash\"                                                    \n",
              " [911] \"Cash\"                                                    \n",
              " [912] \"Cash, Credit/Debit Cards, Easy-Paisa, Jazz-Cash\"         \n",
              " [913] \"Cash\"                                                    \n",
              " [914] \"Cash\"                                                    \n",
              " [915] \"Cash\"                                                    \n",
              " [916] \"Cash\"                                                    \n",
              " [917] \"Cash\"                                                    \n",
              " [918] \"Cash\"                                                    \n",
              " [919] \"Cash\"                                                    \n",
              " [920] \"Cash\"                                                    \n",
              " [921] \"Cash\"                                                    \n",
              " [922] \"Cash\"                                                    \n",
              " [923] \"Cash\"                                                    \n",
              " [924] \"Cash\"                                                    \n",
              " [925] \"Cash\"                                                    \n",
              " [926] \"Cash\"                                                    \n",
              " [927] \"Cash\"                                                    \n",
              " [928] \"Cash\"                                                    \n",
              " [929] \"Cash\"                                                    \n",
              " [930] \"Cash\"                                                    \n",
              " [931] \"Cash\"                                                    \n",
              " [932] \"Cash\"                                                    \n",
              " [933] \"Cash\"                                                    \n",
              " [934] \"Cash\"                                                    \n",
              " [935] \"Cash\"                                                    \n",
              " [936] \"Cash\"                                                    \n",
              " [937] \"Cash\"                                                    \n",
              " [938] \"Cash\"                                                    \n",
              " [939] \"Cash\"                                                    \n",
              " [940] \"Cash\"                                                    \n",
              " [941] \"Cash\"                                                    \n",
              " [942] \"Cash\"                                                    \n",
              " [943] \"Cash\"                                                    \n",
              " [944] \"Cash\"                                                    \n",
              " [945] \"Cash\"                                                    \n",
              " [946] \"Cash\"                                                    \n",
              " [947] \"Cash\"                                                    \n",
              " [948] \"Cash\"                                                    \n",
              " [949] \"Cash\"                                                    \n",
              " [950] \"Cash\"                                                    \n",
              " [951] \"Cash\"                                                    \n",
              " [952] \"Cash\"                                                    \n",
              " [953] \"Cash\"                                                    \n",
              " [954] \"Cash\"                                                    \n",
              " [955] \"Cash\"                                                    \n",
              " [956] \"Cash\"                                                    \n",
              " [957] \"Cash\"                                                    \n",
              " [958] \"Cash\"                                                    \n",
              " [959] \"Cash\"                                                    \n",
              " [960] \"Cash\"                                                    \n",
              " [961] \"Cash\"                                                    \n",
              " [962] \"Cash\"                                                    \n",
              " [963] \"Cash\"                                                    \n",
              " [964] \"Cash\"                                                    \n",
              " [965] \"Cash\"                                                    \n",
              " [966] \"Cash, Credit/Debit Cards\"                                \n",
              " [967] \"Cash\"                                                    \n",
              " [968] \"Cash\"                                                    \n",
              " [969] \"Cash\"                                                    \n",
              " [970] \"Cash\"                                                    \n",
              " [971] \"Cash\"                                                    \n",
              " [972] \"Cash\"                                                    \n",
              " [973] \"Cash\"                                                    \n",
              " [974] \"Cash\"                                                    \n",
              " [975] \"Cash\"                                                    \n",
              " [976] \"Cash\"                                                    \n",
              " [977] \"Cash\"                                                    \n",
              " [978] \"Cash\"                                                    \n",
              " [979] \"Cash\"                                                    \n",
              " [980] \"Cash\"                                                    \n",
              " [981] \"Cash\"                                                    \n",
              " [982] \"Cash\"                                                    \n",
              " [983] \"Cash\"                                                    \n",
              " [984] \"Cash\"                                                    \n",
              " [985] \"Cash\"                                                    \n",
              " [986] \"Cash\"                                                    \n",
              " [987] \"Cash\"                                                    \n",
              " [988] \"Cash\"                                                    \n",
              " [989] \"Cash\"                                                    \n",
              " [990] \"Cash\"                                                    \n",
              " [991] \"Cash\"                                                    \n",
              " [992] \"Cash\"                                                    \n",
              " [993] \"Cash\"                                                    \n",
              " [994] \"Cash\"                                                    \n",
              " [995] \"Cash\"                                                    \n",
              " [996] \"Cash\"                                                    \n",
              " [997] \"Cash\"                                                    \n",
              " [998] \"Cash\"                                                    \n",
              " [999] \"Cash\"                                                    \n",
              "[1000] \"Cash\"                                                    \n",
              "[1001] \"Cash\"                                                    \n",
              "[1002] \"Cash\"                                                    \n",
              "[1003] \"Cash\"                                                    \n",
              "[1004] \"Cash\"                                                    \n",
              "[1005] \"Cash\"                                                    \n",
              "[1006] \"Cash\"                                                    \n",
              "[1007] \"Cash\"                                                    \n",
              "[1008] \"Cash\"                                                    \n",
              "[1009] \"Cash, Credit/Debit Cards\"                                \n",
              "[1010] \"Cash\"                                                    \n",
              "[1011] \"Cash\"                                                    \n",
              "[1012] \"Cash\"                                                    \n",
              "[1013] \"Cash\"                                                    \n",
              "[1014] \"Cash\"                                                    \n",
              "[1015] \"Cash\"                                                    \n",
              "[1016] \"Cash\"                                                    \n",
              "[1017] \"Cash\"                                                    \n",
              "[1018] \"Cash\"                                                    \n",
              "[1019] \"Cash, Credit/Debit Cards\"                                \n",
              "[1020] \"Cash, Easy-Paisa, Jazz-Cash\"                             \n",
              "[1021] \"Cash\"                                                    \n",
              "[1022] \"Cash\"                                                    \n",
              "[1023] \"Cash\"                                                    \n",
              "[1024] \"Cash\"                                                    \n",
              "[1025] \"Cash\"                                                    \n",
              "[1026] \"Cash\"                                                    \n",
              "[1027] \"Cash\"                                                    \n",
              "[1028] \"Cash\"                                                    \n",
              "[1029] \"Cash\"                                                    \n",
              "[1030] \"Cash\"                                                    \n",
              "[1031] \"Cash\"                                                    \n",
              "[1032] \"Cash\"                                                    \n",
              "[1033] \"Cash\"                                                    \n",
              "[1034] \"Cash\"                                                    \n",
              "[1035] \"Cash\"                                                    \n",
              "[1036] \"Cash\"                                                    \n",
              "[1037] \"Cash\"                                                    \n",
              "[1038] \"Cash\"                                                    \n",
              "[1039] \"Cash\"                                                    \n",
              "[1040] \"Cash\"                                                    \n",
              "[1041] \"Cash\"                                                    \n",
              "[1042] \"Cash\"                                                    \n",
              "[1043] \"Cash\"                                                    \n",
              "[1044] \"Cash\"                                                    \n",
              "[1045] \"Cash\"                                                    \n",
              "[1046] \"Cash\"                                                    \n",
              "[1047] \"Cash\"                                                    \n",
              "[1048] \"Cash\"                                                    \n",
              "[1049] \"Cash\"                                                    \n",
              "[1050] \"Cash\"                                                    \n",
              "[1051] \"Cash\"                                                    \n",
              "[1052] \"Cash\"                                                    \n",
              "[1053] \"Cash\"                                                    \n",
              "[1054] \"Cash\"                                                    \n",
              "[1055] \"Cash\"                                                    \n",
              "[1056] \"Easy-Paisa\"                                              \n",
              "[1057] \"Cash\"                                                    \n",
              "[1058] \"Cash\"                                                    \n",
              "[1059] \"Cash\"                                                    \n",
              "[1060] \"Cash\"                                                    \n",
              "[1061] \"Cash, QR code\"                                           \n",
              "[1062] \"Cash\"                                                    \n",
              "[1063] \"Cash\"                                                    \n",
              "[1064] \"QR code\"                                                 \n",
              "[1065] \"Cash\"                                                    \n",
              "[1066] \"NayaPay\"                                                 \n",
              "[1067] \"Cash\"                                                    \n",
              "[1068] \"Cash\"                                                    \n",
              "[1069] \"Cash\"                                                    \n",
              "[1070] \"Credit/Debit Cards\"                                      \n",
              "[1071] \"NayaPay\"                                                 \n",
              "[1072] \"Cash, Jazz-Cash\"                                         \n",
              "[1073] \"Credit/Debit Cards\"                                      \n",
              "[1074] \"Easy-Paisa\"                                              \n",
              "[1075] \"Cash, Easy-Paisa, QR code\"                               \n",
              "[1076] \"Cash\"                                                    \n",
              "[1077] \"Cash\"                                                    \n",
              "[1078] \"Cash\"                                                    \n",
              "[1079] \"Cash\"                                                    \n",
              "[1080] \"Cash\"                                                    \n",
              "[1081] \"Cash\"                                                    \n",
              "[1082] \"Cash\"                                                    \n",
              "[1083] \"Cash\"                                                    \n",
              "[1084] \"Cash\"                                                    \n",
              "[1085] \"Cash\"                                                    \n",
              "[1086] \"Cash\"                                                    \n",
              "[1087] \"Cash\"                                                    \n",
              "[1088] \"Cash\"                                                    \n",
              "[1089] \"Cash\"                                                    \n",
              "[1090] \"Cash\"                                                    \n",
              "[1091] \"Cash\"                                                    \n",
              "[1092] \"Cash\"                                                    \n",
              "[1093] \"Cash\"                                                    \n",
              "[1094] \"Cash\"                                                    \n",
              "[1095] \"Cash\"                                                    \n",
              "[1096] \"Cash\"                                                    \n",
              "[1097] \"Cash\"                                                    \n",
              "[1098] \"Cash\"                                                    \n",
              "[1099] \"Cash\"                                                    \n",
              "[1100] \"Cash\"                                                    \n",
              "[1101] \"Cash\"                                                    \n",
              "[1102] \"Cash\"                                                    \n",
              "[1103] \"Cash\"                                                    \n",
              "[1104] \"Cash\"                                                    \n",
              "[1105] \"Cash\"                                                    \n",
              "[1106] \"Cash\"                                                    \n",
              "[1107] \"Cash\"                                                    \n",
              "[1108] \"Cash\"                                                    \n",
              "[1109] \"Cash\"                                                    \n",
              "[1110] \"Cash\"                                                    \n",
              "[1111] \"Cash\"                                                    \n",
              "[1112] \"Cash\"                                                    \n",
              "[1113] \"Cash\"                                                    \n",
              "[1114] \"Cash\"                                                    \n",
              "[1115] \"Cash\"                                                    \n",
              "[1116] \"Cash\"                                                    \n",
              "[1117] \"Cash\"                                                    \n",
              "[1118] \"Cash\"                                                    \n",
              "[1119] \"Cash\"                                                    \n",
              "[1120] \"Cash\"                                                    \n",
              "[1121] \"Cash\"                                                    \n",
              "[1122] \"Cash\"                                                    \n",
              "[1123] \"Cash\"                                                    \n",
              "[1124] \"Cash\"                                                    \n",
              "[1125] \"Cash\"                                                    \n",
              "[1126] \"Cash\"                                                    \n",
              "[1127] \"Cash\"                                                    \n",
              "[1128] \"Cash\"                                                    \n",
              "[1129] \"Cash\"                                                    \n",
              "[1130] \"Cash\"                                                    \n",
              "[1131] \"Cash\"                                                    \n",
              "[1132] \"Cash\"                                                    \n",
              "[1133] \"Cash\"                                                    \n",
              "[1134] \"Cash\"                                                    \n",
              "[1135] \"Cash\"                                                    \n",
              "[1136] \"Cash\"                                                    \n",
              "[1137] \"Cash\"                                                    \n",
              "[1138] \"Cash\"                                                    \n",
              "[1139] \"Cash\"                                                    \n",
              "[1140] \"Cash\"                                                    \n",
              "[1141] \"Cash\"                                                    \n",
              "[1142] \"Cash\"                                                    \n",
              "[1143] \"Cash\"                                                    \n",
              "[1144] \"Cash\"                                                    \n",
              "[1145] \"Cash\"                                                    \n",
              "[1146] \"Cash\"                                                    \n",
              "[1147] \"Cash\"                                                    \n",
              "[1148] \"Cash\"                                                    \n",
              "[1149] \"Cash\"                                                    \n",
              "[1150] \"Cash\"                                                    \n",
              "[1151] \"Cash\"                                                    \n",
              "[1152] \"Cash\"                                                    \n",
              "[1153] \"Cash\"                                                    \n",
              "[1154] \"Cash\"                                                    \n",
              "[1155] \"Cash\"                                                    \n",
              "[1156] \"Cash\"                                                    \n",
              "[1157] \"Cash\"                                                    \n",
              "[1158] \"Cash\"                                                    \n",
              "[1159] \"Cash\"                                                    \n",
              "[1160] \"Cash\"                                                    \n",
              "[1161] \"Cash\"                                                    \n",
              "[1162] \"Cash\"                                                    \n",
              "[1163] \"Cash\"                                                    \n",
              "[1164] \"Cash\"                                                    \n",
              "[1165] \"Cash\"                                                    \n",
              "[1166] \"Cash\"                                                    \n",
              "[1167] \"Cash\"                                                    \n",
              "[1168] \"Cash\"                                                    \n",
              "[1169] \"Cash\"                                                    \n",
              "[1170] \"Cash\"                                                    \n",
              "[1171] \"Cash\"                                                    \n",
              "[1172] \"Cash\"                                                    \n",
              "[1173] \"Cash\"                                                    \n",
              "[1174] \"Cash\"                                                    \n",
              "[1175] \"Cash\"                                                    \n",
              "[1176] \"Cash\"                                                    \n",
              "[1177] \"Cash\"                                                    \n",
              "[1178] \"Cash\"                                                    \n",
              "[1179] \"Cash\"                                                    \n",
              "[1180] \"Cash\"                                                    \n",
              "[1181] \"Cash\"                                                    \n",
              "[1182] \"Cash\"                                                    \n",
              "[1183] \"Cash\"                                                    \n",
              "[1184] \"Cash\"                                                    \n",
              "[1185] \"Cash\"                                                    \n",
              "[1186] \"Cash\"                                                    \n",
              "[1187] \"Cash\"                                                    \n",
              "[1188] \"Cash\"                                                    \n",
              "[1189] \"Cash\"                                                    \n",
              "[1190] \"Cash, Credit/Debit Cards\"                                \n",
              "[1191] \"Cash, Credit/Debit Cards\"                                \n",
              "[1192] \"Cash, Credit/Debit Cards\"                                \n",
              "[1193] \"Cash\"                                                    \n",
              "[1194] \"Cash\"                                                    \n",
              "[1195] \"Cash\"                                                    \n",
              "[1196] \"Cash\"                                                    \n",
              "[1197] \"Cash\"                                                    \n",
              "[1198] \"Cash\"                                                    \n",
              "[1199] \"Cash\"                                                    \n",
              "[1200] \"Cash\"                                                    \n",
              "[1201] \"Cash\"                                                    \n",
              "[1202] \"Cash\"                                                    \n",
              "[1203] \"Cash\"                                                    \n",
              "[1204] \"Cash\"                                                    \n",
              "[1205] \"Cash\"                                                    \n",
              "[1206] \"Cash\"                                                    \n",
              "[1207] \"Cash\"                                                    \n",
              "[1208] \"Cash\"                                                    \n",
              "[1209] \"Cash\"                                                    \n",
              "[1210] \"Cash\"                                                    "
            ],
            "text/latex": "\\begin{enumerate*}\n\\item 'Cash'\n\\item 'Cash'\n\\item 'Cash'\n\\item 'Cash'\n\\item 'Cash'\n\\item 'Cash'\n\\item 'Cash'\n\\item 'Cash'\n\\item 'Cash, Easy-Paisa, Jazz-Cash'\n\\item 'Cash'\n\\item 'Cash'\n\\item 'Cash'\n\\item 'Cash, Credit/Debit Cards, Easy-Paisa'\n\\item 'Cash, Easy-Paisa'\n\\item 'Cash'\n\\item 'Cash'\n\\item 'Cash'\n\\item 'Cash, Easy-Paisa'\n\\item 'Cash'\n\\item 'Cash'\n\\item 'Cash'\n\\item 'Cash, Credit/Debit Cards'\n\\item 'Cash'\n\\item 'Cash'\n\\item 'Cash, Credit/Debit Cards, Easy-Paisa, Jazz-Cash, QR code'\n\\item 'Cash'\n\\item 'Cash, Credit/Debit Cards'\n\\item 'Cash, NayaPay'\n\\item 'Cash'\n\\item 'Cash'\n\\item 'Cash'\n\\item 'Cash'\n\\item 'Cash'\n\\item 'Cash'\n\\item 'Cash'\n\\item 'Cash'\n\\item 'Cash'\n\\item 'Cash'\n\\item 'Cash'\n\\item 'Cash'\n\\item 'Cash'\n\\item 'Cash'\n\\item 'Cash'\n\\item 'Cash'\n\\item 'Cash, Easy-Paisa'\n\\item 'Cash'\n\\item 'Cash'\n\\item 'Cash'\n\\item 'Cash'\n\\item 'Cash'\n\\item 'Cash'\n\\item 'Cash, Credit/Debit Cards, Easy-Paisa, Jazz-Cash'\n\\item 'Cash'\n\\item 'Cash'\n\\item 'Cash'\n\\item 'Cash'\n\\item 'Cash'\n\\item 'Cash'\n\\item 'Cash'\n\\item 'Cash'\n\\item 'Cash'\n\\item 'Cash, Easy-Paisa, Jazz-Cash'\n\\item 'Cash'\n\\item 'Cash, Easy-Paisa, Jazz-Cash'\n\\item 'Cash'\n\\item 'Cash'\n\\item 'Cash'\n\\item 'Cash'\n\\item 'Cash'\n\\item 'Cash'\n\\item 'Cash'\n\\item 'Cash'\n\\item 'Cash'\n\\item 'Cash'\n\\item 'Cash'\n\\item 'Cash'\n\\item 'Cash'\n\\item 'Cash'\n\\item 'Cash'\n\\item 'Cash'\n\\item 'Cash'\n\\item 'Cash, Credit/Debit Cards, Jazz-Cash'\n\\item 'Cash'\n\\item 'Cash'\n\\item 'Cash'\n\\item 'Cash'\n\\item 'Cash'\n\\item 'Cash'\n\\item 'Cash'\n\\item 'Cash'\n\\item 'Cash'\n\\item 'Cash'\n\\item 'Cash'\n\\item 'Cash'\n\\item 'Cash'\n\\item 'Cash'\n\\item 'Cash'\n\\item 'Cash'\n\\item 'Cash'\n\\item 'Cash'\n\\item 'Cash'\n\\item 'Cash'\n\\item 'Cash'\n\\item 'Cash'\n\\item 'Cash, QR code'\n\\item 'Cash'\n\\item 'Cash'\n\\item 'Cash'\n\\item 'Cash'\n\\item 'Cash'\n\\item 'Cash'\n\\item 'Cash'\n\\item 'Cash'\n\\item 'Cash'\n\\item 'Cash'\n\\item 'Cash'\n\\item 'Cash'\n\\item 'Cash'\n\\item 'Cash'\n\\item 'Cash'\n\\item 'Cash'\n\\item 'Cash'\n\\item 'Cash'\n\\item 'Cash'\n\\item 'Cash'\n\\item 'Cash'\n\\item 'Cash'\n\\item 'Cash'\n\\item 'Cash'\n\\item 'Cash'\n\\item 'Cash'\n\\item 'Cash'\n\\item 'Cash'\n\\item 'Cash'\n\\item 'Cash, Easy-Paisa, Jazz-Cash'\n\\item 'Cash'\n\\item 'Cash'\n\\item 'Cash'\n\\item 'Cash'\n\\item 'Cash'\n\\item 'Cash'\n\\item 'Cash'\n\\item 'Cash'\n\\item 'Cash'\n\\item 'Cash'\n\\item 'Cash'\n\\item 'Cash'\n\\item 'Cash'\n\\item 'Cash'\n\\item 'Cash'\n\\item 'Cash'\n\\item 'Cash'\n\\item 'Cash'\n\\item 'Cash'\n\\item 'Cash'\n\\item 'Cash'\n\\item 'Cash'\n\\item 'Cash'\n\\item 'Cash'\n\\item 'Cash'\n\\item 'Cash'\n\\item 'Cash'\n\\item 'Cash'\n\\item 'Cash'\n\\item 'Cash'\n\\item 'Cash'\n\\item 'Cash'\n\\item 'Cash'\n\\item 'Cash'\n\\item 'Cash'\n\\item 'Cash'\n\\item 'Cash'\n\\item 'Cash, Credit/Debit Cards, Easy-Paisa'\n\\item 'Cash, Credit/Debit Cards'\n\\item 'Cash, Credit/Debit Cards'\n\\item 'Cash'\n\\item '-'\n\\item 'Cash'\n\\item 'Cash'\n\\item 'Cash, Credit/Debit Cards, Easy-Paisa'\n\\item 'Cash'\n\\item 'Cash'\n\\item '-'\n\\item 'Cash'\n\\item 'Cash'\n\\item 'Cash'\n\\item 'Cash'\n\\item 'Cash , NayaPay , Other (Please Specify) , QR code '\n\\item 'Cash'\n\\item 'Cash'\n\\item 'Cash'\n\\item 'Cash'\n\\item 'Cash'\n\\item 'Cash'\n\\item 'Cash'\n\\item 'Cash'\n\\item 'Cash'\n\\item 'Cash'\n\\item 'Cash'\n\\item 'Cash'\n\\item ⋯\n\\item 'Cash'\n\\item 'Cash'\n\\item 'Cash'\n\\item 'Cash'\n\\item 'Cash'\n\\item 'Cash'\n\\item 'Cash'\n\\item 'Cash'\n\\item 'Cash, Credit/Debit Cards'\n\\item 'Cash, Easy-Paisa, Jazz-Cash'\n\\item 'Cash'\n\\item 'Cash'\n\\item 'Cash'\n\\item 'Cash'\n\\item 'Cash'\n\\item 'Cash'\n\\item 'Cash'\n\\item 'Cash'\n\\item 'Cash'\n\\item 'Cash'\n\\item 'Cash'\n\\item 'Cash'\n\\item 'Cash'\n\\item 'Cash'\n\\item 'Cash'\n\\item 'Cash'\n\\item 'Cash'\n\\item 'Cash'\n\\item 'Cash'\n\\item 'Cash'\n\\item 'Cash'\n\\item 'Cash'\n\\item 'Cash'\n\\item 'Cash'\n\\item 'Cash'\n\\item 'Cash'\n\\item 'Cash'\n\\item 'Cash'\n\\item 'Cash'\n\\item 'Cash'\n\\item 'Cash'\n\\item 'Cash'\n\\item 'Cash'\n\\item 'Cash'\n\\item 'Cash'\n\\item 'Easy-Paisa'\n\\item 'Cash'\n\\item 'Cash'\n\\item 'Cash'\n\\item 'Cash'\n\\item 'Cash, QR code'\n\\item 'Cash'\n\\item 'Cash'\n\\item 'QR code'\n\\item 'Cash'\n\\item 'NayaPay'\n\\item 'Cash'\n\\item 'Cash'\n\\item 'Cash'\n\\item 'Credit/Debit Cards'\n\\item 'NayaPay'\n\\item 'Cash, Jazz-Cash'\n\\item 'Credit/Debit Cards'\n\\item 'Easy-Paisa'\n\\item 'Cash, Easy-Paisa, QR code'\n\\item 'Cash'\n\\item 'Cash'\n\\item 'Cash'\n\\item 'Cash'\n\\item 'Cash'\n\\item 'Cash'\n\\item 'Cash'\n\\item 'Cash'\n\\item 'Cash'\n\\item 'Cash'\n\\item 'Cash'\n\\item 'Cash'\n\\item 'Cash'\n\\item 'Cash'\n\\item 'Cash'\n\\item 'Cash'\n\\item 'Cash'\n\\item 'Cash'\n\\item 'Cash'\n\\item 'Cash'\n\\item 'Cash'\n\\item 'Cash'\n\\item 'Cash'\n\\item 'Cash'\n\\item 'Cash'\n\\item 'Cash'\n\\item 'Cash'\n\\item 'Cash'\n\\item 'Cash'\n\\item 'Cash'\n\\item 'Cash'\n\\item 'Cash'\n\\item 'Cash'\n\\item 'Cash'\n\\item 'Cash'\n\\item 'Cash'\n\\item 'Cash'\n\\item 'Cash'\n\\item 'Cash'\n\\item 'Cash'\n\\item 'Cash'\n\\item 'Cash'\n\\item 'Cash'\n\\item 'Cash'\n\\item 'Cash'\n\\item 'Cash'\n\\item 'Cash'\n\\item 'Cash'\n\\item 'Cash'\n\\item 'Cash'\n\\item 'Cash'\n\\item 'Cash'\n\\item 'Cash'\n\\item 'Cash'\n\\item 'Cash'\n\\item 'Cash'\n\\item 'Cash'\n\\item 'Cash'\n\\item 'Cash'\n\\item 'Cash'\n\\item 'Cash'\n\\item 'Cash'\n\\item 'Cash'\n\\item 'Cash'\n\\item 'Cash'\n\\item 'Cash'\n\\item 'Cash'\n\\item 'Cash'\n\\item 'Cash'\n\\item 'Cash'\n\\item 'Cash'\n\\item 'Cash'\n\\item 'Cash'\n\\item 'Cash'\n\\item 'Cash'\n\\item 'Cash'\n\\item 'Cash'\n\\item 'Cash'\n\\item 'Cash'\n\\item 'Cash'\n\\item 'Cash'\n\\item 'Cash'\n\\item 'Cash'\n\\item 'Cash'\n\\item 'Cash'\n\\item 'Cash'\n\\item 'Cash'\n\\item 'Cash'\n\\item 'Cash'\n\\item 'Cash'\n\\item 'Cash'\n\\item 'Cash'\n\\item 'Cash'\n\\item 'Cash'\n\\item 'Cash'\n\\item 'Cash'\n\\item 'Cash'\n\\item 'Cash'\n\\item 'Cash'\n\\item 'Cash'\n\\item 'Cash'\n\\item 'Cash'\n\\item 'Cash'\n\\item 'Cash'\n\\item 'Cash'\n\\item 'Cash'\n\\item 'Cash'\n\\item 'Cash'\n\\item 'Cash'\n\\item 'Cash'\n\\item 'Cash'\n\\item 'Cash'\n\\item 'Cash'\n\\item 'Cash'\n\\item 'Cash, Credit/Debit Cards'\n\\item 'Cash, Credit/Debit Cards'\n\\item 'Cash, Credit/Debit Cards'\n\\item 'Cash'\n\\item 'Cash'\n\\item 'Cash'\n\\item 'Cash'\n\\item 'Cash'\n\\item 'Cash'\n\\item 'Cash'\n\\item 'Cash'\n\\item 'Cash'\n\\item 'Cash'\n\\item 'Cash'\n\\item 'Cash'\n\\item 'Cash'\n\\item 'Cash'\n\\item 'Cash'\n\\item 'Cash'\n\\item 'Cash'\n\\item 'Cash'\n\\end{enumerate*}\n",
            "text/markdown": "1. 'Cash'\n2. 'Cash'\n3. 'Cash'\n4. 'Cash'\n5. 'Cash'\n6. 'Cash'\n7. 'Cash'\n8. 'Cash'\n9. 'Cash, Easy-Paisa, Jazz-Cash'\n10. 'Cash'\n11. 'Cash'\n12. 'Cash'\n13. 'Cash, Credit/Debit Cards, Easy-Paisa'\n14. 'Cash, Easy-Paisa'\n15. 'Cash'\n16. 'Cash'\n17. 'Cash'\n18. 'Cash, Easy-Paisa'\n19. 'Cash'\n20. 'Cash'\n21. 'Cash'\n22. 'Cash, Credit/Debit Cards'\n23. 'Cash'\n24. 'Cash'\n25. 'Cash, Credit/Debit Cards, Easy-Paisa, Jazz-Cash, QR code'\n26. 'Cash'\n27. 'Cash, Credit/Debit Cards'\n28. 'Cash, NayaPay'\n29. 'Cash'\n30. 'Cash'\n31. 'Cash'\n32. 'Cash'\n33. 'Cash'\n34. 'Cash'\n35. 'Cash'\n36. 'Cash'\n37. 'Cash'\n38. 'Cash'\n39. 'Cash'\n40. 'Cash'\n41. 'Cash'\n42. 'Cash'\n43. 'Cash'\n44. 'Cash'\n45. 'Cash, Easy-Paisa'\n46. 'Cash'\n47. 'Cash'\n48. 'Cash'\n49. 'Cash'\n50. 'Cash'\n51. 'Cash'\n52. 'Cash, Credit/Debit Cards, Easy-Paisa, Jazz-Cash'\n53. 'Cash'\n54. 'Cash'\n55. 'Cash'\n56. 'Cash'\n57. 'Cash'\n58. 'Cash'\n59. 'Cash'\n60. 'Cash'\n61. 'Cash'\n62. 'Cash, Easy-Paisa, Jazz-Cash'\n63. 'Cash'\n64. 'Cash, Easy-Paisa, Jazz-Cash'\n65. 'Cash'\n66. 'Cash'\n67. 'Cash'\n68. 'Cash'\n69. 'Cash'\n70. 'Cash'\n71. 'Cash'\n72. 'Cash'\n73. 'Cash'\n74. 'Cash'\n75. 'Cash'\n76. 'Cash'\n77. 'Cash'\n78. 'Cash'\n79. 'Cash'\n80. 'Cash'\n81. 'Cash'\n82. 'Cash, Credit/Debit Cards, Jazz-Cash'\n83. 'Cash'\n84. 'Cash'\n85. 'Cash'\n86. 'Cash'\n87. 'Cash'\n88. 'Cash'\n89. 'Cash'\n90. 'Cash'\n91. 'Cash'\n92. 'Cash'\n93. 'Cash'\n94. 'Cash'\n95. 'Cash'\n96. 'Cash'\n97. 'Cash'\n98. 'Cash'\n99. 'Cash'\n100. 'Cash'\n101. 'Cash'\n102. 'Cash'\n103. 'Cash'\n104. 'Cash'\n105. 'Cash, QR code'\n106. 'Cash'\n107. 'Cash'\n108. 'Cash'\n109. 'Cash'\n110. 'Cash'\n111. 'Cash'\n112. 'Cash'\n113. 'Cash'\n114. 'Cash'\n115. 'Cash'\n116. 'Cash'\n117. 'Cash'\n118. 'Cash'\n119. 'Cash'\n120. 'Cash'\n121. 'Cash'\n122. 'Cash'\n123. 'Cash'\n124. 'Cash'\n125. 'Cash'\n126. 'Cash'\n127. 'Cash'\n128. 'Cash'\n129. 'Cash'\n130. 'Cash'\n131. 'Cash'\n132. 'Cash'\n133. 'Cash'\n134. 'Cash'\n135. 'Cash, Easy-Paisa, Jazz-Cash'\n136. 'Cash'\n137. 'Cash'\n138. 'Cash'\n139. 'Cash'\n140. 'Cash'\n141. 'Cash'\n142. 'Cash'\n143. 'Cash'\n144. 'Cash'\n145. 'Cash'\n146. 'Cash'\n147. 'Cash'\n148. 'Cash'\n149. 'Cash'\n150. 'Cash'\n151. 'Cash'\n152. 'Cash'\n153. 'Cash'\n154. 'Cash'\n155. 'Cash'\n156. 'Cash'\n157. 'Cash'\n158. 'Cash'\n159. 'Cash'\n160. 'Cash'\n161. 'Cash'\n162. 'Cash'\n163. 'Cash'\n164. 'Cash'\n165. 'Cash'\n166. 'Cash'\n167. 'Cash'\n168. 'Cash'\n169. 'Cash'\n170. 'Cash'\n171. 'Cash'\n172. 'Cash'\n173. 'Cash, Credit/Debit Cards, Easy-Paisa'\n174. 'Cash, Credit/Debit Cards'\n175. 'Cash, Credit/Debit Cards'\n176. 'Cash'\n177. '-'\n178. 'Cash'\n179. 'Cash'\n180. 'Cash, Credit/Debit Cards, Easy-Paisa'\n181. 'Cash'\n182. 'Cash'\n183. '-'\n184. 'Cash'\n185. 'Cash'\n186. 'Cash'\n187. 'Cash'\n188. 'Cash , NayaPay , Other (Please Specify) , QR code '\n189. 'Cash'\n190. 'Cash'\n191. 'Cash'\n192. 'Cash'\n193. 'Cash'\n194. 'Cash'\n195. 'Cash'\n196. 'Cash'\n197. 'Cash'\n198. 'Cash'\n199. 'Cash'\n200. 'Cash'\n201. ⋯\n202. 'Cash'\n203. 'Cash'\n204. 'Cash'\n205. 'Cash'\n206. 'Cash'\n207. 'Cash'\n208. 'Cash'\n209. 'Cash'\n210. 'Cash, Credit/Debit Cards'\n211. 'Cash, Easy-Paisa, Jazz-Cash'\n212. 'Cash'\n213. 'Cash'\n214. 'Cash'\n215. 'Cash'\n216. 'Cash'\n217. 'Cash'\n218. 'Cash'\n219. 'Cash'\n220. 'Cash'\n221. 'Cash'\n222. 'Cash'\n223. 'Cash'\n224. 'Cash'\n225. 'Cash'\n226. 'Cash'\n227. 'Cash'\n228. 'Cash'\n229. 'Cash'\n230. 'Cash'\n231. 'Cash'\n232. 'Cash'\n233. 'Cash'\n234. 'Cash'\n235. 'Cash'\n236. 'Cash'\n237. 'Cash'\n238. 'Cash'\n239. 'Cash'\n240. 'Cash'\n241. 'Cash'\n242. 'Cash'\n243. 'Cash'\n244. 'Cash'\n245. 'Cash'\n246. 'Cash'\n247. 'Easy-Paisa'\n248. 'Cash'\n249. 'Cash'\n250. 'Cash'\n251. 'Cash'\n252. 'Cash, QR code'\n253. 'Cash'\n254. 'Cash'\n255. 'QR code'\n256. 'Cash'\n257. 'NayaPay'\n258. 'Cash'\n259. 'Cash'\n260. 'Cash'\n261. 'Credit/Debit Cards'\n262. 'NayaPay'\n263. 'Cash, Jazz-Cash'\n264. 'Credit/Debit Cards'\n265. 'Easy-Paisa'\n266. 'Cash, Easy-Paisa, QR code'\n267. 'Cash'\n268. 'Cash'\n269. 'Cash'\n270. 'Cash'\n271. 'Cash'\n272. 'Cash'\n273. 'Cash'\n274. 'Cash'\n275. 'Cash'\n276. 'Cash'\n277. 'Cash'\n278. 'Cash'\n279. 'Cash'\n280. 'Cash'\n281. 'Cash'\n282. 'Cash'\n283. 'Cash'\n284. 'Cash'\n285. 'Cash'\n286. 'Cash'\n287. 'Cash'\n288. 'Cash'\n289. 'Cash'\n290. 'Cash'\n291. 'Cash'\n292. 'Cash'\n293. 'Cash'\n294. 'Cash'\n295. 'Cash'\n296. 'Cash'\n297. 'Cash'\n298. 'Cash'\n299. 'Cash'\n300. 'Cash'\n301. 'Cash'\n302. 'Cash'\n303. 'Cash'\n304. 'Cash'\n305. 'Cash'\n306. 'Cash'\n307. 'Cash'\n308. 'Cash'\n309. 'Cash'\n310. 'Cash'\n311. 'Cash'\n312. 'Cash'\n313. 'Cash'\n314. 'Cash'\n315. 'Cash'\n316. 'Cash'\n317. 'Cash'\n318. 'Cash'\n319. 'Cash'\n320. 'Cash'\n321. 'Cash'\n322. 'Cash'\n323. 'Cash'\n324. 'Cash'\n325. 'Cash'\n326. 'Cash'\n327. 'Cash'\n328. 'Cash'\n329. 'Cash'\n330. 'Cash'\n331. 'Cash'\n332. 'Cash'\n333. 'Cash'\n334. 'Cash'\n335. 'Cash'\n336. 'Cash'\n337. 'Cash'\n338. 'Cash'\n339. 'Cash'\n340. 'Cash'\n341. 'Cash'\n342. 'Cash'\n343. 'Cash'\n344. 'Cash'\n345. 'Cash'\n346. 'Cash'\n347. 'Cash'\n348. 'Cash'\n349. 'Cash'\n350. 'Cash'\n351. 'Cash'\n352. 'Cash'\n353. 'Cash'\n354. 'Cash'\n355. 'Cash'\n356. 'Cash'\n357. 'Cash'\n358. 'Cash'\n359. 'Cash'\n360. 'Cash'\n361. 'Cash'\n362. 'Cash'\n363. 'Cash'\n364. 'Cash'\n365. 'Cash'\n366. 'Cash'\n367. 'Cash'\n368. 'Cash'\n369. 'Cash'\n370. 'Cash'\n371. 'Cash'\n372. 'Cash'\n373. 'Cash'\n374. 'Cash'\n375. 'Cash'\n376. 'Cash'\n377. 'Cash'\n378. 'Cash'\n379. 'Cash'\n380. 'Cash'\n381. 'Cash, Credit/Debit Cards'\n382. 'Cash, Credit/Debit Cards'\n383. 'Cash, Credit/Debit Cards'\n384. 'Cash'\n385. 'Cash'\n386. 'Cash'\n387. 'Cash'\n388. 'Cash'\n389. 'Cash'\n390. 'Cash'\n391. 'Cash'\n392. 'Cash'\n393. 'Cash'\n394. 'Cash'\n395. 'Cash'\n396. 'Cash'\n397. 'Cash'\n398. 'Cash'\n399. 'Cash'\n400. 'Cash'\n401. 'Cash'\n\n\n",
            "text/html": [
              "<style>\n",
              ".list-inline {list-style: none; margin:0; padding: 0}\n",
              ".list-inline>li {display: inline-block}\n",
              ".list-inline>li:not(:last-child)::after {content: \"\\00b7\"; padding: 0 .5ex}\n",
              "</style>\n",
              "<ol class=list-inline><li>'Cash'</li><li>'Cash'</li><li>'Cash'</li><li>'Cash'</li><li>'Cash'</li><li>'Cash'</li><li>'Cash'</li><li>'Cash'</li><li>'Cash, Easy-Paisa, Jazz-Cash'</li><li>'Cash'</li><li>'Cash'</li><li>'Cash'</li><li>'Cash, Credit/Debit Cards, Easy-Paisa'</li><li>'Cash, Easy-Paisa'</li><li>'Cash'</li><li>'Cash'</li><li>'Cash'</li><li>'Cash, Easy-Paisa'</li><li>'Cash'</li><li>'Cash'</li><li>'Cash'</li><li>'Cash, Credit/Debit Cards'</li><li>'Cash'</li><li>'Cash'</li><li>'Cash, Credit/Debit Cards, Easy-Paisa, Jazz-Cash, QR code'</li><li>'Cash'</li><li>'Cash, Credit/Debit Cards'</li><li>'Cash, NayaPay'</li><li>'Cash'</li><li>'Cash'</li><li>'Cash'</li><li>'Cash'</li><li>'Cash'</li><li>'Cash'</li><li>'Cash'</li><li>'Cash'</li><li>'Cash'</li><li>'Cash'</li><li>'Cash'</li><li>'Cash'</li><li>'Cash'</li><li>'Cash'</li><li>'Cash'</li><li>'Cash'</li><li>'Cash, Easy-Paisa'</li><li>'Cash'</li><li>'Cash'</li><li>'Cash'</li><li>'Cash'</li><li>'Cash'</li><li>'Cash'</li><li>'Cash, Credit/Debit Cards, Easy-Paisa, Jazz-Cash'</li><li>'Cash'</li><li>'Cash'</li><li>'Cash'</li><li>'Cash'</li><li>'Cash'</li><li>'Cash'</li><li>'Cash'</li><li>'Cash'</li><li>'Cash'</li><li>'Cash, Easy-Paisa, Jazz-Cash'</li><li>'Cash'</li><li>'Cash, Easy-Paisa, Jazz-Cash'</li><li>'Cash'</li><li>'Cash'</li><li>'Cash'</li><li>'Cash'</li><li>'Cash'</li><li>'Cash'</li><li>'Cash'</li><li>'Cash'</li><li>'Cash'</li><li>'Cash'</li><li>'Cash'</li><li>'Cash'</li><li>'Cash'</li><li>'Cash'</li><li>'Cash'</li><li>'Cash'</li><li>'Cash'</li><li>'Cash, Credit/Debit Cards, Jazz-Cash'</li><li>'Cash'</li><li>'Cash'</li><li>'Cash'</li><li>'Cash'</li><li>'Cash'</li><li>'Cash'</li><li>'Cash'</li><li>'Cash'</li><li>'Cash'</li><li>'Cash'</li><li>'Cash'</li><li>'Cash'</li><li>'Cash'</li><li>'Cash'</li><li>'Cash'</li><li>'Cash'</li><li>'Cash'</li><li>'Cash'</li><li>'Cash'</li><li>'Cash'</li><li>'Cash'</li><li>'Cash'</li><li>'Cash, QR code'</li><li>'Cash'</li><li>'Cash'</li><li>'Cash'</li><li>'Cash'</li><li>'Cash'</li><li>'Cash'</li><li>'Cash'</li><li>'Cash'</li><li>'Cash'</li><li>'Cash'</li><li>'Cash'</li><li>'Cash'</li><li>'Cash'</li><li>'Cash'</li><li>'Cash'</li><li>'Cash'</li><li>'Cash'</li><li>'Cash'</li><li>'Cash'</li><li>'Cash'</li><li>'Cash'</li><li>'Cash'</li><li>'Cash'</li><li>'Cash'</li><li>'Cash'</li><li>'Cash'</li><li>'Cash'</li><li>'Cash'</li><li>'Cash'</li><li>'Cash, Easy-Paisa, Jazz-Cash'</li><li>'Cash'</li><li>'Cash'</li><li>'Cash'</li><li>'Cash'</li><li>'Cash'</li><li>'Cash'</li><li>'Cash'</li><li>'Cash'</li><li>'Cash'</li><li>'Cash'</li><li>'Cash'</li><li>'Cash'</li><li>'Cash'</li><li>'Cash'</li><li>'Cash'</li><li>'Cash'</li><li>'Cash'</li><li>'Cash'</li><li>'Cash'</li><li>'Cash'</li><li>'Cash'</li><li>'Cash'</li><li>'Cash'</li><li>'Cash'</li><li>'Cash'</li><li>'Cash'</li><li>'Cash'</li><li>'Cash'</li><li>'Cash'</li><li>'Cash'</li><li>'Cash'</li><li>'Cash'</li><li>'Cash'</li><li>'Cash'</li><li>'Cash'</li><li>'Cash'</li><li>'Cash'</li><li>'Cash, Credit/Debit Cards, Easy-Paisa'</li><li>'Cash, Credit/Debit Cards'</li><li>'Cash, Credit/Debit Cards'</li><li>'Cash'</li><li>'-'</li><li>'Cash'</li><li>'Cash'</li><li>'Cash, Credit/Debit Cards, Easy-Paisa'</li><li>'Cash'</li><li>'Cash'</li><li>'-'</li><li>'Cash'</li><li>'Cash'</li><li>'Cash'</li><li>'Cash'</li><li>'Cash , NayaPay , Other (Please Specify) , QR code '</li><li>'Cash'</li><li>'Cash'</li><li>'Cash'</li><li>'Cash'</li><li>'Cash'</li><li>'Cash'</li><li>'Cash'</li><li>'Cash'</li><li>'Cash'</li><li>'Cash'</li><li>'Cash'</li><li>'Cash'</li><li>⋯</li><li>'Cash'</li><li>'Cash'</li><li>'Cash'</li><li>'Cash'</li><li>'Cash'</li><li>'Cash'</li><li>'Cash'</li><li>'Cash'</li><li>'Cash, Credit/Debit Cards'</li><li>'Cash, Easy-Paisa, Jazz-Cash'</li><li>'Cash'</li><li>'Cash'</li><li>'Cash'</li><li>'Cash'</li><li>'Cash'</li><li>'Cash'</li><li>'Cash'</li><li>'Cash'</li><li>'Cash'</li><li>'Cash'</li><li>'Cash'</li><li>'Cash'</li><li>'Cash'</li><li>'Cash'</li><li>'Cash'</li><li>'Cash'</li><li>'Cash'</li><li>'Cash'</li><li>'Cash'</li><li>'Cash'</li><li>'Cash'</li><li>'Cash'</li><li>'Cash'</li><li>'Cash'</li><li>'Cash'</li><li>'Cash'</li><li>'Cash'</li><li>'Cash'</li><li>'Cash'</li><li>'Cash'</li><li>'Cash'</li><li>'Cash'</li><li>'Cash'</li><li>'Cash'</li><li>'Cash'</li><li>'Easy-Paisa'</li><li>'Cash'</li><li>'Cash'</li><li>'Cash'</li><li>'Cash'</li><li>'Cash, QR code'</li><li>'Cash'</li><li>'Cash'</li><li>'QR code'</li><li>'Cash'</li><li>'NayaPay'</li><li>'Cash'</li><li>'Cash'</li><li>'Cash'</li><li>'Credit/Debit Cards'</li><li>'NayaPay'</li><li>'Cash, Jazz-Cash'</li><li>'Credit/Debit Cards'</li><li>'Easy-Paisa'</li><li>'Cash, Easy-Paisa, QR code'</li><li>'Cash'</li><li>'Cash'</li><li>'Cash'</li><li>'Cash'</li><li>'Cash'</li><li>'Cash'</li><li>'Cash'</li><li>'Cash'</li><li>'Cash'</li><li>'Cash'</li><li>'Cash'</li><li>'Cash'</li><li>'Cash'</li><li>'Cash'</li><li>'Cash'</li><li>'Cash'</li><li>'Cash'</li><li>'Cash'</li><li>'Cash'</li><li>'Cash'</li><li>'Cash'</li><li>'Cash'</li><li>'Cash'</li><li>'Cash'</li><li>'Cash'</li><li>'Cash'</li><li>'Cash'</li><li>'Cash'</li><li>'Cash'</li><li>'Cash'</li><li>'Cash'</li><li>'Cash'</li><li>'Cash'</li><li>'Cash'</li><li>'Cash'</li><li>'Cash'</li><li>'Cash'</li><li>'Cash'</li><li>'Cash'</li><li>'Cash'</li><li>'Cash'</li><li>'Cash'</li><li>'Cash'</li><li>'Cash'</li><li>'Cash'</li><li>'Cash'</li><li>'Cash'</li><li>'Cash'</li><li>'Cash'</li><li>'Cash'</li><li>'Cash'</li><li>'Cash'</li><li>'Cash'</li><li>'Cash'</li><li>'Cash'</li><li>'Cash'</li><li>'Cash'</li><li>'Cash'</li><li>'Cash'</li><li>'Cash'</li><li>'Cash'</li><li>'Cash'</li><li>'Cash'</li><li>'Cash'</li><li>'Cash'</li><li>'Cash'</li><li>'Cash'</li><li>'Cash'</li><li>'Cash'</li><li>'Cash'</li><li>'Cash'</li><li>'Cash'</li><li>'Cash'</li><li>'Cash'</li><li>'Cash'</li><li>'Cash'</li><li>'Cash'</li><li>'Cash'</li><li>'Cash'</li><li>'Cash'</li><li>'Cash'</li><li>'Cash'</li><li>'Cash'</li><li>'Cash'</li><li>'Cash'</li><li>'Cash'</li><li>'Cash'</li><li>'Cash'</li><li>'Cash'</li><li>'Cash'</li><li>'Cash'</li><li>'Cash'</li><li>'Cash'</li><li>'Cash'</li><li>'Cash'</li><li>'Cash'</li><li>'Cash'</li><li>'Cash'</li><li>'Cash'</li><li>'Cash'</li><li>'Cash'</li><li>'Cash'</li><li>'Cash'</li><li>'Cash'</li><li>'Cash'</li><li>'Cash'</li><li>'Cash'</li><li>'Cash'</li><li>'Cash'</li><li>'Cash'</li><li>'Cash'</li><li>'Cash'</li><li>'Cash'</li><li>'Cash'</li><li>'Cash, Credit/Debit Cards'</li><li>'Cash, Credit/Debit Cards'</li><li>'Cash, Credit/Debit Cards'</li><li>'Cash'</li><li>'Cash'</li><li>'Cash'</li><li>'Cash'</li><li>'Cash'</li><li>'Cash'</li><li>'Cash'</li><li>'Cash'</li><li>'Cash'</li><li>'Cash'</li><li>'Cash'</li><li>'Cash'</li><li>'Cash'</li><li>'Cash'</li><li>'Cash'</li><li>'Cash'</li><li>'Cash'</li><li>'Cash'</li></ol>\n"
            ]
          },
          "metadata": {
            "tags": []
          }
        }
      ]
    },
    {
      "cell_type": "code",
      "metadata": {
        "id": "-N_svNcw5uqt"
      },
      "source": [
        "df_with_2 <- df_with_2 %>%\n",
        "    mutate(ORG_CURRENT_PAYMENT_OPTIONS = \n",
        "    str_replace_all(ORG_CURRENT_PAYMENT_OPTIONS,\n",
        "    \"\\\\(-\\\\)\",\"\"))\n"
      ],
      "execution_count": 178,
      "outputs": []
    },
    {
      "cell_type": "code",
      "metadata": {
        "colab": {
          "base_uri": "https://localhost:8080/",
          "height": 715
        },
        "id": "4gT7H_C486DW",
        "outputId": "39cfdc91-d2f2-4be4-cbfa-e50323b21c48"
      },
      "source": [
        "tabyl(df_with_2$ORG_CURRENT_PAYMENT_OPTIONS)"
      ],
      "execution_count": 179,
      "outputs": [
        {
          "output_type": "display_data",
          "data": {
            "text/plain": [
              "   df_with_2$ORG_CURRENT_PAYMENT_OPTIONS                    n    percent     \n",
              "1  -                                                           2 0.0016528926\n",
              "2  Cash                                                     1141 0.9429752066\n",
              "3  Cash , NayaPay , Other (Please Specify) , QR code           1 0.0008264463\n",
              "4  Cash, Credit/Debit Cards                                   25 0.0206611570\n",
              "5  Cash, Credit/Debit Cards, Easy-Paisa                        3 0.0024793388\n",
              "6  Cash, Credit/Debit Cards, Easy-Paisa, Jazz-Cash             2 0.0016528926\n",
              "7  Cash, Credit/Debit Cards, Easy-Paisa, Jazz-Cash, QR code    1 0.0008264463\n",
              "8  Cash, Credit/Debit Cards, Jazz-Cash                         1 0.0008264463\n",
              "9  Cash, Easy-Paisa                                           11 0.0090909091\n",
              "10 Cash, Easy-Paisa, Jazz-Cash                                 6 0.0049586777\n",
              "11 Cash, Easy-Paisa, Jazz-Cash, QR code                        1 0.0008264463\n",
              "12 Cash, Easy-Paisa, QR code                                   1 0.0008264463\n",
              "13 Cash, Jazz-Cash                                             3 0.0024793388\n",
              "14 Cash, NayaPay                                               1 0.0008264463\n",
              "15 Cash, Other (Please Specify)                                1 0.0008264463\n",
              "16 Cash, QR code                                               3 0.0024793388\n",
              "17 Credit/Debit Cards                                          2 0.0016528926\n",
              "18 Easy-Paisa                                                  2 0.0016528926\n",
              "19 NayaPay                                                     2 0.0016528926\n",
              "20 QR code                                                     1 0.0008264463"
            ],
            "text/latex": "A tabyl: 20 × 3\n\\begin{tabular}{lll}\n df\\_with\\_2\\$ORG\\_CURRENT\\_PAYMENT\\_OPTIONS & n & percent\\\\\n <chr> & <dbl> & <dbl>\\\\\n\\hline\n\t -                                                        &    2 & 0.0016528926\\\\\n\t Cash                                                     & 1141 & 0.9429752066\\\\\n\t Cash , NayaPay , Other (Please Specify) , QR code        &    1 & 0.0008264463\\\\\n\t Cash, Credit/Debit Cards                                 &   25 & 0.0206611570\\\\\n\t Cash, Credit/Debit Cards, Easy-Paisa                     &    3 & 0.0024793388\\\\\n\t Cash, Credit/Debit Cards, Easy-Paisa, Jazz-Cash          &    2 & 0.0016528926\\\\\n\t Cash, Credit/Debit Cards, Easy-Paisa, Jazz-Cash, QR code &    1 & 0.0008264463\\\\\n\t Cash, Credit/Debit Cards, Jazz-Cash                      &    1 & 0.0008264463\\\\\n\t Cash, Easy-Paisa                                         &   11 & 0.0090909091\\\\\n\t Cash, Easy-Paisa, Jazz-Cash                              &    6 & 0.0049586777\\\\\n\t Cash, Easy-Paisa, Jazz-Cash, QR code                     &    1 & 0.0008264463\\\\\n\t Cash, Easy-Paisa, QR code                                &    1 & 0.0008264463\\\\\n\t Cash, Jazz-Cash                                          &    3 & 0.0024793388\\\\\n\t Cash, NayaPay                                            &    1 & 0.0008264463\\\\\n\t Cash, Other (Please Specify)                             &    1 & 0.0008264463\\\\\n\t Cash, QR code                                            &    3 & 0.0024793388\\\\\n\t Credit/Debit Cards                                       &    2 & 0.0016528926\\\\\n\t Easy-Paisa                                               &    2 & 0.0016528926\\\\\n\t NayaPay                                                  &    2 & 0.0016528926\\\\\n\t QR code                                                  &    1 & 0.0008264463\\\\\n\\end{tabular}\n",
            "text/markdown": "\nA tabyl: 20 × 3\n\n| df_with_2$ORG_CURRENT_PAYMENT_OPTIONS &lt;chr&gt; | n &lt;dbl&gt; | percent &lt;dbl&gt; |\n|---|---|---|\n| -                                                        |    2 | 0.0016528926 |\n| Cash                                                     | 1141 | 0.9429752066 |\n| Cash , NayaPay , Other (Please Specify) , QR code        |    1 | 0.0008264463 |\n| Cash, Credit/Debit Cards                                 |   25 | 0.0206611570 |\n| Cash, Credit/Debit Cards, Easy-Paisa                     |    3 | 0.0024793388 |\n| Cash, Credit/Debit Cards, Easy-Paisa, Jazz-Cash          |    2 | 0.0016528926 |\n| Cash, Credit/Debit Cards, Easy-Paisa, Jazz-Cash, QR code |    1 | 0.0008264463 |\n| Cash, Credit/Debit Cards, Jazz-Cash                      |    1 | 0.0008264463 |\n| Cash, Easy-Paisa                                         |   11 | 0.0090909091 |\n| Cash, Easy-Paisa, Jazz-Cash                              |    6 | 0.0049586777 |\n| Cash, Easy-Paisa, Jazz-Cash, QR code                     |    1 | 0.0008264463 |\n| Cash, Easy-Paisa, QR code                                |    1 | 0.0008264463 |\n| Cash, Jazz-Cash                                          |    3 | 0.0024793388 |\n| Cash, NayaPay                                            |    1 | 0.0008264463 |\n| Cash, Other (Please Specify)                             |    1 | 0.0008264463 |\n| Cash, QR code                                            |    3 | 0.0024793388 |\n| Credit/Debit Cards                                       |    2 | 0.0016528926 |\n| Easy-Paisa                                               |    2 | 0.0016528926 |\n| NayaPay                                                  |    2 | 0.0016528926 |\n| QR code                                                  |    1 | 0.0008264463 |\n\n",
            "text/html": [
              "<table class=\"dataframe\">\n",
              "<caption>A tabyl: 20 × 3</caption>\n",
              "<thead>\n",
              "\t<tr><th scope=col>df_with_2$ORG_CURRENT_PAYMENT_OPTIONS</th><th scope=col>n</th><th scope=col>percent</th></tr>\n",
              "\t<tr><th scope=col>&lt;chr&gt;</th><th scope=col>&lt;dbl&gt;</th><th scope=col>&lt;dbl&gt;</th></tr>\n",
              "</thead>\n",
              "<tbody>\n",
              "\t<tr><td>-                                                       </td><td>   2</td><td>0.0016528926</td></tr>\n",
              "\t<tr><td>Cash                                                    </td><td>1141</td><td>0.9429752066</td></tr>\n",
              "\t<tr><td>Cash , NayaPay , Other (Please Specify) , QR code       </td><td>   1</td><td>0.0008264463</td></tr>\n",
              "\t<tr><td>Cash, Credit/Debit Cards                                </td><td>  25</td><td>0.0206611570</td></tr>\n",
              "\t<tr><td>Cash, Credit/Debit Cards, Easy-Paisa                    </td><td>   3</td><td>0.0024793388</td></tr>\n",
              "\t<tr><td>Cash, Credit/Debit Cards, Easy-Paisa, Jazz-Cash         </td><td>   2</td><td>0.0016528926</td></tr>\n",
              "\t<tr><td>Cash, Credit/Debit Cards, Easy-Paisa, Jazz-Cash, QR code</td><td>   1</td><td>0.0008264463</td></tr>\n",
              "\t<tr><td>Cash, Credit/Debit Cards, Jazz-Cash                     </td><td>   1</td><td>0.0008264463</td></tr>\n",
              "\t<tr><td>Cash, Easy-Paisa                                        </td><td>  11</td><td>0.0090909091</td></tr>\n",
              "\t<tr><td>Cash, Easy-Paisa, Jazz-Cash                             </td><td>   6</td><td>0.0049586777</td></tr>\n",
              "\t<tr><td>Cash, Easy-Paisa, Jazz-Cash, QR code                    </td><td>   1</td><td>0.0008264463</td></tr>\n",
              "\t<tr><td>Cash, Easy-Paisa, QR code                               </td><td>   1</td><td>0.0008264463</td></tr>\n",
              "\t<tr><td>Cash, Jazz-Cash                                         </td><td>   3</td><td>0.0024793388</td></tr>\n",
              "\t<tr><td>Cash, NayaPay                                           </td><td>   1</td><td>0.0008264463</td></tr>\n",
              "\t<tr><td>Cash, Other (Please Specify)                            </td><td>   1</td><td>0.0008264463</td></tr>\n",
              "\t<tr><td>Cash, QR code                                           </td><td>   3</td><td>0.0024793388</td></tr>\n",
              "\t<tr><td>Credit/Debit Cards                                      </td><td>   2</td><td>0.0016528926</td></tr>\n",
              "\t<tr><td>Easy-Paisa                                              </td><td>   2</td><td>0.0016528926</td></tr>\n",
              "\t<tr><td>NayaPay                                                 </td><td>   2</td><td>0.0016528926</td></tr>\n",
              "\t<tr><td>QR code                                                 </td><td>   1</td><td>0.0008264463</td></tr>\n",
              "</tbody>\n",
              "</table>\n"
            ]
          },
          "metadata": {
            "tags": []
          }
        }
      ]
    },
    {
      "cell_type": "markdown",
      "metadata": {
        "id": "FJhHeLmQBHBq"
      },
      "source": [
        "Multiple Response - here"
      ]
    },
    {
      "cell_type": "code",
      "metadata": {
        "colab": {
          "base_uri": "https://localhost:8080/"
        },
        "id": "raGBoopjA_c4",
        "outputId": "79b49437-f73b-4372-a51a-9c8af4378edf"
      },
      "source": [
        "df_with_2 %>%\n",
        "    dplyr::select(RESP_ID, ORG_CURRENT_PAYMENT_OPTIONS) %>%\n",
        "    tidyr::gather(ORG_CURRENT_PAYMENT_OPTIONS, answer, -RESP_ID) %>%\n",
        "    dplyr::filter(!is.na(answer)) %>%\n",
        "    tidyr::unnest(answer = stringr::str_split(answer, \", \")) -> df_current_pymt_options"
      ],
      "execution_count": 180,
      "outputs": [
        {
          "output_type": "stream",
          "text": [
            "Warning message:\n",
            "“unnest() has a new interface. See ?unnest for details.\n",
            "Try `df %>% unnest(c(answer))`, with `mutate()` if needed”\n"
          ],
          "name": "stderr"
        }
      ]
    },
    {
      "cell_type": "code",
      "metadata": {
        "colab": {
          "base_uri": "https://localhost:8080/",
          "height": 468
        },
        "id": "VznoFwI4BbXv",
        "outputId": "04a166de-5685-4b96-f1e3-925e7280be5c"
      },
      "source": [
        "tabyl(df_current_pymt_options$answer)"
      ],
      "execution_count": 182,
      "outputs": [
        {
          "output_type": "display_data",
          "data": {
            "text/plain": [
              "   df_current_pymt_options$answer n    percent     \n",
              "1  -                                 2 0.0015479876\n",
              "2  Cash                           1200 0.9287925697\n",
              "3  Cash                              1 0.0007739938\n",
              "4  Credit/Debit Cards               34 0.0263157895\n",
              "5  Easy-Paisa                       27 0.0208978328\n",
              "6  Jazz-Cash                        14 0.0108359133\n",
              "7  NayaPay                           3 0.0023219814\n",
              "8  NayaPay                           1 0.0007739938\n",
              "9  Other (Please Specify)            1 0.0007739938\n",
              "10 Other (Please Specify)            1 0.0007739938\n",
              "11 QR code                           7 0.0054179567\n",
              "12 QR code                           1 0.0007739938"
            ],
            "text/latex": "A tabyl: 12 × 3\n\\begin{tabular}{lll}\n df\\_current\\_pymt\\_options\\$answer & n & percent\\\\\n <chr> & <dbl> & <dbl>\\\\\n\\hline\n\t -                       &    2 & 0.0015479876\\\\\n\t Cash                    & 1200 & 0.9287925697\\\\\n\t Cash                    &    1 & 0.0007739938\\\\\n\t Credit/Debit Cards      &   34 & 0.0263157895\\\\\n\t Easy-Paisa              &   27 & 0.0208978328\\\\\n\t Jazz-Cash               &   14 & 0.0108359133\\\\\n\t NayaPay                 &    3 & 0.0023219814\\\\\n\t NayaPay                 &    1 & 0.0007739938\\\\\n\t Other (Please Specify)  &    1 & 0.0007739938\\\\\n\t Other (Please Specify)  &    1 & 0.0007739938\\\\\n\t QR code                 &    7 & 0.0054179567\\\\\n\t QR code                 &    1 & 0.0007739938\\\\\n\\end{tabular}\n",
            "text/markdown": "\nA tabyl: 12 × 3\n\n| df_current_pymt_options$answer &lt;chr&gt; | n &lt;dbl&gt; | percent &lt;dbl&gt; |\n|---|---|---|\n| -                       |    2 | 0.0015479876 |\n| Cash                    | 1200 | 0.9287925697 |\n| Cash                    |    1 | 0.0007739938 |\n| Credit/Debit Cards      |   34 | 0.0263157895 |\n| Easy-Paisa              |   27 | 0.0208978328 |\n| Jazz-Cash               |   14 | 0.0108359133 |\n| NayaPay                 |    3 | 0.0023219814 |\n| NayaPay                 |    1 | 0.0007739938 |\n| Other (Please Specify)  |    1 | 0.0007739938 |\n| Other (Please Specify)  |    1 | 0.0007739938 |\n| QR code                 |    7 | 0.0054179567 |\n| QR code                 |    1 | 0.0007739938 |\n\n",
            "text/html": [
              "<table class=\"dataframe\">\n",
              "<caption>A tabyl: 12 × 3</caption>\n",
              "<thead>\n",
              "\t<tr><th scope=col>df_current_pymt_options$answer</th><th scope=col>n</th><th scope=col>percent</th></tr>\n",
              "\t<tr><th scope=col>&lt;chr&gt;</th><th scope=col>&lt;dbl&gt;</th><th scope=col>&lt;dbl&gt;</th></tr>\n",
              "</thead>\n",
              "<tbody>\n",
              "\t<tr><td>-                      </td><td>   2</td><td>0.0015479876</td></tr>\n",
              "\t<tr><td>Cash                   </td><td>1200</td><td>0.9287925697</td></tr>\n",
              "\t<tr><td>Cash                   </td><td>   1</td><td>0.0007739938</td></tr>\n",
              "\t<tr><td>Credit/Debit Cards     </td><td>  34</td><td>0.0263157895</td></tr>\n",
              "\t<tr><td>Easy-Paisa             </td><td>  27</td><td>0.0208978328</td></tr>\n",
              "\t<tr><td>Jazz-Cash              </td><td>  14</td><td>0.0108359133</td></tr>\n",
              "\t<tr><td>NayaPay                </td><td>   3</td><td>0.0023219814</td></tr>\n",
              "\t<tr><td>NayaPay                </td><td>   1</td><td>0.0007739938</td></tr>\n",
              "\t<tr><td>Other (Please Specify) </td><td>   1</td><td>0.0007739938</td></tr>\n",
              "\t<tr><td>Other (Please Specify) </td><td>   1</td><td>0.0007739938</td></tr>\n",
              "\t<tr><td>QR code                </td><td>   7</td><td>0.0054179567</td></tr>\n",
              "\t<tr><td>QR code                </td><td>   1</td><td>0.0007739938</td></tr>\n",
              "</tbody>\n",
              "</table>\n"
            ]
          },
          "metadata": {
            "tags": []
          }
        }
      ]
    },
    {
      "cell_type": "markdown",
      "metadata": {
        "id": "Nazeu4hIBwBK"
      },
      "source": [
        "Converting from CHR to FACTOR"
      ]
    },
    {
      "cell_type": "code",
      "metadata": {
        "id": "TH6lZsFkBrHe"
      },
      "source": [
        "df_current_pymt_options$answer %>% \n",
        "factor() %>% \n",
        "fct_inorder() -> df_current_pymt_options$answer"
      ],
      "execution_count": 183,
      "outputs": []
    },
    {
      "cell_type": "code",
      "metadata": {
        "colab": {
          "base_uri": "https://localhost:8080/",
          "height": 468
        },
        "id": "eNxddiNIB-al",
        "outputId": "9bc61a4b-8793-4415-e7eb-9861d57fca81"
      },
      "source": [
        "tabyl(df_current_pymt_options$answer)"
      ],
      "execution_count": 184,
      "outputs": [
        {
          "output_type": "display_data",
          "data": {
            "text/plain": [
              "   df_current_pymt_options$answer n    percent     \n",
              "1  Cash                           1200 0.9287925697\n",
              "2  Easy-Paisa                       27 0.0208978328\n",
              "3  Jazz-Cash                        14 0.0108359133\n",
              "4  Credit/Debit Cards               34 0.0263157895\n",
              "5  QR code                           7 0.0054179567\n",
              "6  NayaPay                           3 0.0023219814\n",
              "7  -                                 2 0.0015479876\n",
              "8  Cash                              1 0.0007739938\n",
              "9  NayaPay                           1 0.0007739938\n",
              "10 Other (Please Specify)            1 0.0007739938\n",
              "11 QR code                           1 0.0007739938\n",
              "12 Other (Please Specify)            1 0.0007739938"
            ],
            "text/latex": "A tabyl: 12 × 3\n\\begin{tabular}{lll}\n df\\_current\\_pymt\\_options\\$answer & n & percent\\\\\n <fct> & <dbl> & <dbl>\\\\\n\\hline\n\t Cash                    & 1200 & 0.9287925697\\\\\n\t Easy-Paisa              &   27 & 0.0208978328\\\\\n\t Jazz-Cash               &   14 & 0.0108359133\\\\\n\t Credit/Debit Cards      &   34 & 0.0263157895\\\\\n\t QR code                 &    7 & 0.0054179567\\\\\n\t NayaPay                 &    3 & 0.0023219814\\\\\n\t -                       &    2 & 0.0015479876\\\\\n\t Cash                    &    1 & 0.0007739938\\\\\n\t NayaPay                 &    1 & 0.0007739938\\\\\n\t Other (Please Specify)  &    1 & 0.0007739938\\\\\n\t QR code                 &    1 & 0.0007739938\\\\\n\t Other (Please Specify)  &    1 & 0.0007739938\\\\\n\\end{tabular}\n",
            "text/markdown": "\nA tabyl: 12 × 3\n\n| df_current_pymt_options$answer &lt;fct&gt; | n &lt;dbl&gt; | percent &lt;dbl&gt; |\n|---|---|---|\n| Cash                    | 1200 | 0.9287925697 |\n| Easy-Paisa              |   27 | 0.0208978328 |\n| Jazz-Cash               |   14 | 0.0108359133 |\n| Credit/Debit Cards      |   34 | 0.0263157895 |\n| QR code                 |    7 | 0.0054179567 |\n| NayaPay                 |    3 | 0.0023219814 |\n| -                       |    2 | 0.0015479876 |\n| Cash                    |    1 | 0.0007739938 |\n| NayaPay                 |    1 | 0.0007739938 |\n| Other (Please Specify)  |    1 | 0.0007739938 |\n| QR code                 |    1 | 0.0007739938 |\n| Other (Please Specify)  |    1 | 0.0007739938 |\n\n",
            "text/html": [
              "<table class=\"dataframe\">\n",
              "<caption>A tabyl: 12 × 3</caption>\n",
              "<thead>\n",
              "\t<tr><th scope=col>df_current_pymt_options$answer</th><th scope=col>n</th><th scope=col>percent</th></tr>\n",
              "\t<tr><th scope=col>&lt;fct&gt;</th><th scope=col>&lt;dbl&gt;</th><th scope=col>&lt;dbl&gt;</th></tr>\n",
              "</thead>\n",
              "<tbody>\n",
              "\t<tr><td>Cash                   </td><td>1200</td><td>0.9287925697</td></tr>\n",
              "\t<tr><td>Easy-Paisa             </td><td>  27</td><td>0.0208978328</td></tr>\n",
              "\t<tr><td>Jazz-Cash              </td><td>  14</td><td>0.0108359133</td></tr>\n",
              "\t<tr><td>Credit/Debit Cards     </td><td>  34</td><td>0.0263157895</td></tr>\n",
              "\t<tr><td>QR code                </td><td>   7</td><td>0.0054179567</td></tr>\n",
              "\t<tr><td>NayaPay                </td><td>   3</td><td>0.0023219814</td></tr>\n",
              "\t<tr><td>-                      </td><td>   2</td><td>0.0015479876</td></tr>\n",
              "\t<tr><td>Cash                   </td><td>   1</td><td>0.0007739938</td></tr>\n",
              "\t<tr><td>NayaPay                </td><td>   1</td><td>0.0007739938</td></tr>\n",
              "\t<tr><td>Other (Please Specify) </td><td>   1</td><td>0.0007739938</td></tr>\n",
              "\t<tr><td>QR code                </td><td>   1</td><td>0.0007739938</td></tr>\n",
              "\t<tr><td>Other (Please Specify) </td><td>   1</td><td>0.0007739938</td></tr>\n",
              "</tbody>\n",
              "</table>\n"
            ]
          },
          "metadata": {
            "tags": []
          }
        }
      ]
    },
    {
      "cell_type": "code",
      "metadata": {
        "colab": {
          "base_uri": "https://localhost:8080/",
          "height": 51
        },
        "id": "UPejFeriCJgo",
        "outputId": "74a96ffc-1f7a-4864-99bb-e889f3d3855b"
      },
      "source": [
        "levels(df_current_pymt_options$answer)"
      ],
      "execution_count": 185,
      "outputs": [
        {
          "output_type": "display_data",
          "data": {
            "text/plain": [
              " [1] \"Cash\"                    \"Easy-Paisa\"             \n",
              " [3] \"Jazz-Cash\"               \"Credit/Debit Cards\"     \n",
              " [5] \"QR code\"                 \"NayaPay\"                \n",
              " [7] \"-\"                       \"Cash \"                  \n",
              " [9] \"NayaPay \"                \"Other (Please Specify) \"\n",
              "[11] \"QR code \"                \"Other (Please Specify)\" "
            ],
            "text/latex": "\\begin{enumerate*}\n\\item 'Cash'\n\\item 'Easy-Paisa'\n\\item 'Jazz-Cash'\n\\item 'Credit/Debit Cards'\n\\item 'QR code'\n\\item 'NayaPay'\n\\item '-'\n\\item 'Cash '\n\\item 'NayaPay '\n\\item 'Other (Please Specify) '\n\\item 'QR code '\n\\item 'Other (Please Specify)'\n\\end{enumerate*}\n",
            "text/markdown": "1. 'Cash'\n2. 'Easy-Paisa'\n3. 'Jazz-Cash'\n4. 'Credit/Debit Cards'\n5. 'QR code'\n6. 'NayaPay'\n7. '-'\n8. 'Cash '\n9. 'NayaPay '\n10. 'Other (Please Specify) '\n11. 'QR code '\n12. 'Other (Please Specify)'\n\n\n",
            "text/html": [
              "<style>\n",
              ".list-inline {list-style: none; margin:0; padding: 0}\n",
              ".list-inline>li {display: inline-block}\n",
              ".list-inline>li:not(:last-child)::after {content: \"\\00b7\"; padding: 0 .5ex}\n",
              "</style>\n",
              "<ol class=list-inline><li>'Cash'</li><li>'Easy-Paisa'</li><li>'Jazz-Cash'</li><li>'Credit/Debit Cards'</li><li>'QR code'</li><li>'NayaPay'</li><li>'-'</li><li>'Cash '</li><li>'NayaPay '</li><li>'Other (Please Specify) '</li><li>'QR code '</li><li>'Other (Please Specify)'</li></ol>\n"
            ]
          },
          "metadata": {
            "tags": []
          }
        }
      ]
    },
    {
      "cell_type": "markdown",
      "metadata": {
        "id": "BX1U5cq1Ca0g"
      },
      "source": [
        "Change the value of levels"
      ]
    },
    {
      "cell_type": "code",
      "metadata": {
        "colab": {
          "base_uri": "https://localhost:8080/"
        },
        "id": "L3zZqfurCPnB",
        "outputId": "e614eb98-e6b8-42ce-e143-5db0d49ab901"
      },
      "source": [
        "df_current_pymt_options <- df_current_pymt_options %>% \n",
        "   mutate (answer = fct_recode(df_current_pymt_options$answer, \n",
        "   'No ANS' = '-',\n",
        "   'Cash' = 'Cash ',\n",
        "   'NayaPay' = 'NayaPay ',\n",
        "   'QR code ' = 'QR code',\n",
        "   'No ANS' = 'Other (Please Specify) ',\n",
        "   'No ANS' = 'Other (Please Specify)'\n",
        "   ))"
      ],
      "execution_count": 200,
      "outputs": [
        {
          "output_type": "stream",
          "text": [
            "Warning message:\n",
            "“Unknown levels in `f`: -, Cash , NayaPay , Other (Please Specify) , Other (Please Specify)”\n"
          ],
          "name": "stderr"
        }
      ]
    },
    {
      "cell_type": "code",
      "metadata": {
        "colab": {
          "base_uri": "https://localhost:8080/",
          "height": 313
        },
        "id": "iYonCRMeDDCy",
        "outputId": "81bcf7d7-91a5-4a4a-fbdd-a8ec36c5ef1d"
      },
      "source": [
        "tabyl(df_current_pymt_options$answer)"
      ],
      "execution_count": 201,
      "outputs": [
        {
          "output_type": "display_data",
          "data": {
            "text/plain": [
              "  df_current_pymt_options$answer n    percent    \n",
              "1 Cash                           1201 0.929566563\n",
              "2 Easy-Paisa                       27 0.020897833\n",
              "3 Jazz-Cash                        14 0.010835913\n",
              "4 Credit/Debit Cards               34 0.026315789\n",
              "5 QR code                           8 0.006191950\n",
              "6 NayaPay                           4 0.003095975\n",
              "7 No ANS                            4 0.003095975"
            ],
            "text/latex": "A tabyl: 7 × 3\n\\begin{tabular}{lll}\n df\\_current\\_pymt\\_options\\$answer & n & percent\\\\\n <fct> & <dbl> & <dbl>\\\\\n\\hline\n\t Cash               & 1201 & 0.929566563\\\\\n\t Easy-Paisa         &   27 & 0.020897833\\\\\n\t Jazz-Cash          &   14 & 0.010835913\\\\\n\t Credit/Debit Cards &   34 & 0.026315789\\\\\n\t QR code            &    8 & 0.006191950\\\\\n\t NayaPay            &    4 & 0.003095975\\\\\n\t No ANS             &    4 & 0.003095975\\\\\n\\end{tabular}\n",
            "text/markdown": "\nA tabyl: 7 × 3\n\n| df_current_pymt_options$answer &lt;fct&gt; | n &lt;dbl&gt; | percent &lt;dbl&gt; |\n|---|---|---|\n| Cash               | 1201 | 0.929566563 |\n| Easy-Paisa         |   27 | 0.020897833 |\n| Jazz-Cash          |   14 | 0.010835913 |\n| Credit/Debit Cards |   34 | 0.026315789 |\n| QR code            |    8 | 0.006191950 |\n| NayaPay            |    4 | 0.003095975 |\n| No ANS             |    4 | 0.003095975 |\n\n",
            "text/html": [
              "<table class=\"dataframe\">\n",
              "<caption>A tabyl: 7 × 3</caption>\n",
              "<thead>\n",
              "\t<tr><th scope=col>df_current_pymt_options$answer</th><th scope=col>n</th><th scope=col>percent</th></tr>\n",
              "\t<tr><th scope=col>&lt;fct&gt;</th><th scope=col>&lt;dbl&gt;</th><th scope=col>&lt;dbl&gt;</th></tr>\n",
              "</thead>\n",
              "<tbody>\n",
              "\t<tr><td>Cash              </td><td>1201</td><td>0.929566563</td></tr>\n",
              "\t<tr><td>Easy-Paisa        </td><td>  27</td><td>0.020897833</td></tr>\n",
              "\t<tr><td>Jazz-Cash         </td><td>  14</td><td>0.010835913</td></tr>\n",
              "\t<tr><td>Credit/Debit Cards</td><td>  34</td><td>0.026315789</td></tr>\n",
              "\t<tr><td>QR code           </td><td>   8</td><td>0.006191950</td></tr>\n",
              "\t<tr><td>NayaPay           </td><td>   4</td><td>0.003095975</td></tr>\n",
              "\t<tr><td>No ANS            </td><td>   4</td><td>0.003095975</td></tr>\n",
              "</tbody>\n",
              "</table>\n"
            ]
          },
          "metadata": {
            "tags": []
          }
        }
      ]
    },
    {
      "cell_type": "code",
      "metadata": {
        "colab": {
          "base_uri": "https://localhost:8080/",
          "height": 34
        },
        "id": "QizWRtlIECIA",
        "outputId": "78be6a80-192c-4749-f5ed-506a0abe6b1a"
      },
      "source": [
        "levels(df_current_pymt_options$answer)"
      ],
      "execution_count": 202,
      "outputs": [
        {
          "output_type": "display_data",
          "data": {
            "text/plain": [
              "[1] \"Cash\"               \"Easy-Paisa\"         \"Jazz-Cash\"         \n",
              "[4] \"Credit/Debit Cards\" \"QR code \"           \"NayaPay\"           \n",
              "[7] \"No ANS\"            "
            ],
            "text/latex": "\\begin{enumerate*}\n\\item 'Cash'\n\\item 'Easy-Paisa'\n\\item 'Jazz-Cash'\n\\item 'Credit/Debit Cards'\n\\item 'QR code '\n\\item 'NayaPay'\n\\item 'No ANS'\n\\end{enumerate*}\n",
            "text/markdown": "1. 'Cash'\n2. 'Easy-Paisa'\n3. 'Jazz-Cash'\n4. 'Credit/Debit Cards'\n5. 'QR code '\n6. 'NayaPay'\n7. 'No ANS'\n\n\n",
            "text/html": [
              "<style>\n",
              ".list-inline {list-style: none; margin:0; padding: 0}\n",
              ".list-inline>li {display: inline-block}\n",
              ".list-inline>li:not(:last-child)::after {content: \"\\00b7\"; padding: 0 .5ex}\n",
              "</style>\n",
              "<ol class=list-inline><li>'Cash'</li><li>'Easy-Paisa'</li><li>'Jazz-Cash'</li><li>'Credit/Debit Cards'</li><li>'QR code '</li><li>'NayaPay'</li><li>'No ANS'</li></ol>\n"
            ]
          },
          "metadata": {
            "tags": []
          }
        }
      ]
    },
    {
      "cell_type": "markdown",
      "metadata": {
        "id": "vFLLQfFjDc8a"
      },
      "source": [
        "Change the order of levels"
      ]
    },
    {
      "cell_type": "code",
      "metadata": {
        "id": "RiwFuKzTG5Gi"
      },
      "source": [
        "df_current_pymt_options <- \n",
        "    df_current_pymt_options %>%\n",
        "        mutate(answer = fct_infreq(answer))"
      ],
      "execution_count": 214,
      "outputs": []
    },
    {
      "cell_type": "code",
      "metadata": {
        "id": "Ca5nbl1qDXx2"
      },
      "source": [
        "#df_current_pymt_options <- df_current_pymt_options %>%\n",
        "#    mutate(answer = \n",
        "#    fct_relevel(\n",
        "#          answer, c('No ANS','QR code','NayaPay',  )))"
      ],
      "execution_count": null,
      "outputs": []
    },
    {
      "cell_type": "code",
      "metadata": {
        "colab": {
          "base_uri": "https://localhost:8080/",
          "height": 313
        },
        "id": "EnGYZi_YG_i_",
        "outputId": "89b21f92-b8f5-4cd0-efd0-c093cf27d193"
      },
      "source": [
        "tabyl(df_current_pymt_options$answer)"
      ],
      "execution_count": 215,
      "outputs": [
        {
          "output_type": "display_data",
          "data": {
            "text/plain": [
              "  df_current_pymt_options$answer n    percent    \n",
              "1 Cash                           1201 0.929566563\n",
              "2 Credit/Debit Cards               34 0.026315789\n",
              "3 Easy-Paisa                       27 0.020897833\n",
              "4 Jazz-Cash                        14 0.010835913\n",
              "5 QR code                           8 0.006191950\n",
              "6 NayaPay                           4 0.003095975\n",
              "7 No ANS                            4 0.003095975"
            ],
            "text/latex": "A tabyl: 7 × 3\n\\begin{tabular}{lll}\n df\\_current\\_pymt\\_options\\$answer & n & percent\\\\\n <fct> & <dbl> & <dbl>\\\\\n\\hline\n\t Cash               & 1201 & 0.929566563\\\\\n\t Credit/Debit Cards &   34 & 0.026315789\\\\\n\t Easy-Paisa         &   27 & 0.020897833\\\\\n\t Jazz-Cash          &   14 & 0.010835913\\\\\n\t QR code            &    8 & 0.006191950\\\\\n\t NayaPay            &    4 & 0.003095975\\\\\n\t No ANS             &    4 & 0.003095975\\\\\n\\end{tabular}\n",
            "text/markdown": "\nA tabyl: 7 × 3\n\n| df_current_pymt_options$answer &lt;fct&gt; | n &lt;dbl&gt; | percent &lt;dbl&gt; |\n|---|---|---|\n| Cash               | 1201 | 0.929566563 |\n| Credit/Debit Cards |   34 | 0.026315789 |\n| Easy-Paisa         |   27 | 0.020897833 |\n| Jazz-Cash          |   14 | 0.010835913 |\n| QR code            |    8 | 0.006191950 |\n| NayaPay            |    4 | 0.003095975 |\n| No ANS             |    4 | 0.003095975 |\n\n",
            "text/html": [
              "<table class=\"dataframe\">\n",
              "<caption>A tabyl: 7 × 3</caption>\n",
              "<thead>\n",
              "\t<tr><th scope=col>df_current_pymt_options$answer</th><th scope=col>n</th><th scope=col>percent</th></tr>\n",
              "\t<tr><th scope=col>&lt;fct&gt;</th><th scope=col>&lt;dbl&gt;</th><th scope=col>&lt;dbl&gt;</th></tr>\n",
              "</thead>\n",
              "<tbody>\n",
              "\t<tr><td>Cash              </td><td>1201</td><td>0.929566563</td></tr>\n",
              "\t<tr><td>Credit/Debit Cards</td><td>  34</td><td>0.026315789</td></tr>\n",
              "\t<tr><td>Easy-Paisa        </td><td>  27</td><td>0.020897833</td></tr>\n",
              "\t<tr><td>Jazz-Cash         </td><td>  14</td><td>0.010835913</td></tr>\n",
              "\t<tr><td>QR code           </td><td>   8</td><td>0.006191950</td></tr>\n",
              "\t<tr><td>NayaPay           </td><td>   4</td><td>0.003095975</td></tr>\n",
              "\t<tr><td>No ANS            </td><td>   4</td><td>0.003095975</td></tr>\n",
              "</tbody>\n",
              "</table>\n"
            ]
          },
          "metadata": {
            "tags": []
          }
        }
      ]
    },
    {
      "cell_type": "markdown",
      "metadata": {
        "id": "xmsHUAA83IDO"
      },
      "source": [
        "##### 1.15 ORG_DISCOUNTS_OFFERED"
      ]
    },
    {
      "cell_type": "code",
      "metadata": {
        "colab": {
          "base_uri": "https://localhost:8080/",
          "height": 872
        },
        "id": "47w2NEE8FA94",
        "outputId": "aaa6655a-52c6-4d4c-c561-40a12c37a104"
      },
      "source": [
        "tabyl(df_with_2$ORG_DISCOUNTS_OFFERED)"
      ],
      "execution_count": 203,
      "outputs": [
        {
          "output_type": "display_data",
          "data": {
            "text/plain": [
              "   df_with_2$ORG_DISCOUNTS_OFFERED                                                                                                                                                    \n",
              "1  -                                                                                                                                                                                  \n",
              "2  Bulk Discount (Based on bill amount)                                                                                                                                               \n",
              "3  Bulk Discount (Based on bill amount), Customer Discount (Based on customer relationship)                                                                                           \n",
              "4  Bulk Discount (Based on bill amount), Customer Discount (Based on customer relationship), No Discount                                                                              \n",
              "5  Bulk Discount (Based on bill amount), Customer Discount (Based on customer relationship), Product Discount (Lower price than market)                                               \n",
              "6  Bulk Discount (Based on bill amount), Customer Discount (Based on customer relationship), Product Discount (Lower price than market), Referral Discount (Credit Card, Social Media)\n",
              "7  Bulk Discount (Based on bill amount), No Discount                                                                                                                                  \n",
              "8  Bulk Discount (Based on bill amount), Product Discount (Lower price than market)                                                                                                   \n",
              "9  Bulk Discount (Based on bill amount), Product Discount (Lower price than market), Referral Discount (Credit Card, Social Media)                                                    \n",
              "10 Customer Discount (Based on customer relationship)                                                                                                                                 \n",
              "11 Customer Discount (Based on customer relationship), No Discount                                                                                                                    \n",
              "12 Customer Discount (Based on customer relationship), Product Discount (Lower price than market)                                                                                     \n",
              "13 Customer Discount (Based on customer relationship), Referral Discount (Credit Card, Social Media)                                                                                  \n",
              "14 No Discount                                                                                                                                                                        \n",
              "15 No Discount, Product Discount (Lower price than market)                                                                                                                            \n",
              "16 Product Discount (Lower price than market)                                                                                                                                         \n",
              "17 Product Discount (Lower price than market), Referral Discount (Credit Card, Social Media)                                                                                          \n",
              "18 Referral Discount (Credit Card, Social Media)                                                                                                                                      \n",
              "19 Referral Discount (Credit Card, Social Media), Product Discount (Lower price than market)                                                                                          \n",
              "   n   percent     \n",
              "1    4 0.0033057851\n",
              "2   30 0.0247933884\n",
              "3   26 0.0214876033\n",
              "4    1 0.0008264463\n",
              "5   70 0.0578512397\n",
              "6    1 0.0008264463\n",
              "7    5 0.0041322314\n",
              "8  107 0.0884297521\n",
              "9    1 0.0008264463\n",
              "10  69 0.0570247934\n",
              "11   7 0.0057851240\n",
              "12  89 0.0735537190\n",
              "13   1 0.0008264463\n",
              "14 155 0.1280991736\n",
              "15 117 0.0966942149\n",
              "16 516 0.4264462810\n",
              "17   9 0.0074380165\n",
              "18   1 0.0008264463\n",
              "19   1 0.0008264463"
            ],
            "text/latex": "A tabyl: 19 × 3\n\\begin{tabular}{lll}\n df\\_with\\_2\\$ORG\\_DISCOUNTS\\_OFFERED & n & percent\\\\\n <fct> & <dbl> & <dbl>\\\\\n\\hline\n\t -                                                                                                                                                                                   &   4 & 0.0033057851\\\\\n\t Bulk Discount (Based on bill amount)                                                                                                                                                &  30 & 0.0247933884\\\\\n\t Bulk Discount (Based on bill amount), Customer Discount (Based on customer relationship)                                                                                            &  26 & 0.0214876033\\\\\n\t Bulk Discount (Based on bill amount), Customer Discount (Based on customer relationship), No Discount                                                                               &   1 & 0.0008264463\\\\\n\t Bulk Discount (Based on bill amount), Customer Discount (Based on customer relationship), Product Discount (Lower price than market)                                                &  70 & 0.0578512397\\\\\n\t Bulk Discount (Based on bill amount), Customer Discount (Based on customer relationship), Product Discount (Lower price than market), Referral Discount (Credit Card, Social Media) &   1 & 0.0008264463\\\\\n\t Bulk Discount (Based on bill amount), No Discount                                                                                                                                   &   5 & 0.0041322314\\\\\n\t Bulk Discount (Based on bill amount), Product Discount (Lower price than market)                                                                                                    & 107 & 0.0884297521\\\\\n\t Bulk Discount (Based on bill amount), Product Discount (Lower price than market), Referral Discount (Credit Card, Social Media)                                                     &   1 & 0.0008264463\\\\\n\t Customer Discount (Based on customer relationship)                                                                                                                                  &  69 & 0.0570247934\\\\\n\t Customer Discount (Based on customer relationship), No Discount                                                                                                                     &   7 & 0.0057851240\\\\\n\t Customer Discount (Based on customer relationship), Product Discount (Lower price than market)                                                                                      &  89 & 0.0735537190\\\\\n\t Customer Discount (Based on customer relationship), Referral Discount (Credit Card, Social Media)                                                                                   &   1 & 0.0008264463\\\\\n\t No Discount                                                                                                                                                                         & 155 & 0.1280991736\\\\\n\t No Discount, Product Discount (Lower price than market)                                                                                                                             & 117 & 0.0966942149\\\\\n\t Product Discount (Lower price than market)                                                                                                                                          & 516 & 0.4264462810\\\\\n\t Product Discount (Lower price than market), Referral Discount (Credit Card, Social Media)                                                                                           &   9 & 0.0074380165\\\\\n\t Referral Discount (Credit Card, Social Media)                                                                                                                                       &   1 & 0.0008264463\\\\\n\t Referral Discount (Credit Card, Social Media), Product Discount (Lower price than market)                                                                                           &   1 & 0.0008264463\\\\\n\\end{tabular}\n",
            "text/markdown": "\nA tabyl: 19 × 3\n\n| df_with_2$ORG_DISCOUNTS_OFFERED &lt;fct&gt; | n &lt;dbl&gt; | percent &lt;dbl&gt; |\n|---|---|---|\n| -                                                                                                                                                                                   |   4 | 0.0033057851 |\n| Bulk Discount (Based on bill amount)                                                                                                                                                |  30 | 0.0247933884 |\n| Bulk Discount (Based on bill amount), Customer Discount (Based on customer relationship)                                                                                            |  26 | 0.0214876033 |\n| Bulk Discount (Based on bill amount), Customer Discount (Based on customer relationship), No Discount                                                                               |   1 | 0.0008264463 |\n| Bulk Discount (Based on bill amount), Customer Discount (Based on customer relationship), Product Discount (Lower price than market)                                                |  70 | 0.0578512397 |\n| Bulk Discount (Based on bill amount), Customer Discount (Based on customer relationship), Product Discount (Lower price than market), Referral Discount (Credit Card, Social Media) |   1 | 0.0008264463 |\n| Bulk Discount (Based on bill amount), No Discount                                                                                                                                   |   5 | 0.0041322314 |\n| Bulk Discount (Based on bill amount), Product Discount (Lower price than market)                                                                                                    | 107 | 0.0884297521 |\n| Bulk Discount (Based on bill amount), Product Discount (Lower price than market), Referral Discount (Credit Card, Social Media)                                                     |   1 | 0.0008264463 |\n| Customer Discount (Based on customer relationship)                                                                                                                                  |  69 | 0.0570247934 |\n| Customer Discount (Based on customer relationship), No Discount                                                                                                                     |   7 | 0.0057851240 |\n| Customer Discount (Based on customer relationship), Product Discount (Lower price than market)                                                                                      |  89 | 0.0735537190 |\n| Customer Discount (Based on customer relationship), Referral Discount (Credit Card, Social Media)                                                                                   |   1 | 0.0008264463 |\n| No Discount                                                                                                                                                                         | 155 | 0.1280991736 |\n| No Discount, Product Discount (Lower price than market)                                                                                                                             | 117 | 0.0966942149 |\n| Product Discount (Lower price than market)                                                                                                                                          | 516 | 0.4264462810 |\n| Product Discount (Lower price than market), Referral Discount (Credit Card, Social Media)                                                                                           |   9 | 0.0074380165 |\n| Referral Discount (Credit Card, Social Media)                                                                                                                                       |   1 | 0.0008264463 |\n| Referral Discount (Credit Card, Social Media), Product Discount (Lower price than market)                                                                                           |   1 | 0.0008264463 |\n\n",
            "text/html": [
              "<table class=\"dataframe\">\n",
              "<caption>A tabyl: 19 × 3</caption>\n",
              "<thead>\n",
              "\t<tr><th scope=col>df_with_2$ORG_DISCOUNTS_OFFERED</th><th scope=col>n</th><th scope=col>percent</th></tr>\n",
              "\t<tr><th scope=col>&lt;fct&gt;</th><th scope=col>&lt;dbl&gt;</th><th scope=col>&lt;dbl&gt;</th></tr>\n",
              "</thead>\n",
              "<tbody>\n",
              "\t<tr><td>-                                                                                                                                                                                  </td><td>  4</td><td>0.0033057851</td></tr>\n",
              "\t<tr><td>Bulk Discount (Based on bill amount)                                                                                                                                               </td><td> 30</td><td>0.0247933884</td></tr>\n",
              "\t<tr><td>Bulk Discount (Based on bill amount), Customer Discount (Based on customer relationship)                                                                                           </td><td> 26</td><td>0.0214876033</td></tr>\n",
              "\t<tr><td>Bulk Discount (Based on bill amount), Customer Discount (Based on customer relationship), No Discount                                                                              </td><td>  1</td><td>0.0008264463</td></tr>\n",
              "\t<tr><td>Bulk Discount (Based on bill amount), Customer Discount (Based on customer relationship), Product Discount (Lower price than market)                                               </td><td> 70</td><td>0.0578512397</td></tr>\n",
              "\t<tr><td>Bulk Discount (Based on bill amount), Customer Discount (Based on customer relationship), Product Discount (Lower price than market), Referral Discount (Credit Card, Social Media)</td><td>  1</td><td>0.0008264463</td></tr>\n",
              "\t<tr><td>Bulk Discount (Based on bill amount), No Discount                                                                                                                                  </td><td>  5</td><td>0.0041322314</td></tr>\n",
              "\t<tr><td>Bulk Discount (Based on bill amount), Product Discount (Lower price than market)                                                                                                   </td><td>107</td><td>0.0884297521</td></tr>\n",
              "\t<tr><td>Bulk Discount (Based on bill amount), Product Discount (Lower price than market), Referral Discount (Credit Card, Social Media)                                                    </td><td>  1</td><td>0.0008264463</td></tr>\n",
              "\t<tr><td>Customer Discount (Based on customer relationship)                                                                                                                                 </td><td> 69</td><td>0.0570247934</td></tr>\n",
              "\t<tr><td>Customer Discount (Based on customer relationship), No Discount                                                                                                                    </td><td>  7</td><td>0.0057851240</td></tr>\n",
              "\t<tr><td>Customer Discount (Based on customer relationship), Product Discount (Lower price than market)                                                                                     </td><td> 89</td><td>0.0735537190</td></tr>\n",
              "\t<tr><td>Customer Discount (Based on customer relationship), Referral Discount (Credit Card, Social Media)                                                                                  </td><td>  1</td><td>0.0008264463</td></tr>\n",
              "\t<tr><td>No Discount                                                                                                                                                                        </td><td>155</td><td>0.1280991736</td></tr>\n",
              "\t<tr><td>No Discount, Product Discount (Lower price than market)                                                                                                                            </td><td>117</td><td>0.0966942149</td></tr>\n",
              "\t<tr><td>Product Discount (Lower price than market)                                                                                                                                         </td><td>516</td><td>0.4264462810</td></tr>\n",
              "\t<tr><td>Product Discount (Lower price than market), Referral Discount (Credit Card, Social Media)                                                                                          </td><td>  9</td><td>0.0074380165</td></tr>\n",
              "\t<tr><td>Referral Discount (Credit Card, Social Media)                                                                                                                                      </td><td>  1</td><td>0.0008264463</td></tr>\n",
              "\t<tr><td>Referral Discount (Credit Card, Social Media), Product Discount (Lower price than market)                                                                                          </td><td>  1</td><td>0.0008264463</td></tr>\n",
              "</tbody>\n",
              "</table>\n"
            ]
          },
          "metadata": {
            "tags": []
          }
        }
      ]
    },
    {
      "cell_type": "markdown",
      "metadata": {
        "id": "ptXzMmA8FJ54"
      },
      "source": [
        "Multiple Response - here"
      ]
    },
    {
      "cell_type": "code",
      "metadata": {
        "colab": {
          "base_uri": "https://localhost:8080/"
        },
        "id": "4y-IrrX5FPE0",
        "outputId": "ac36665c-ac23-4dfa-dd53-3c3af4a38074"
      },
      "source": [
        "df_with_2 %>%\n",
        "    dplyr::select(RESP_ID, ORG_DISCOUNTS_OFFERED) %>%\n",
        "    tidyr::gather(ORG_DISCOUNTS_OFFERED, answer, -RESP_ID) %>%\n",
        "    dplyr::filter(!is.na(answer)) %>%\n",
        "    tidyr::unnest(answer = stringr::str_split(answer, \", \")) -> df_discounts_offered"
      ],
      "execution_count": 204,
      "outputs": [
        {
          "output_type": "stream",
          "text": [
            "Warning message:\n",
            "“unnest() has a new interface. See ?unnest for details.\n",
            "Try `df %>% unnest(c(answer))`, with `mutate()` if needed”\n"
          ],
          "name": "stderr"
        }
      ]
    },
    {
      "cell_type": "code",
      "metadata": {
        "colab": {
          "base_uri": "https://localhost:8080/",
          "height": 313
        },
        "id": "fFfB0qEEFbC1",
        "outputId": "d2696868-e8aa-4176-91b7-f065362cda24"
      },
      "source": [
        "tabyl(df_discounts_offered$answer)"
      ],
      "execution_count": 205,
      "outputs": [
        {
          "output_type": "display_data",
          "data": {
            "text/plain": [
              "  df_discounts_offered$answer                        n   percent    \n",
              "1 -                                                    4 0.002308136\n",
              "2 Bulk Discount (Based on bill amount)               241 0.139065205\n",
              "3 Customer Discount (Based on customer relationship) 264 0.152336988\n",
              "4 No Discount                                        285 0.164454703\n",
              "5 Product Discount (Lower price than market)         911 0.525678015\n",
              "6 Referral Discount (Credit Card                      14 0.008078477\n",
              "7 Social Media)                                       14 0.008078477"
            ],
            "text/latex": "A tabyl: 7 × 3\n\\begin{tabular}{lll}\n df\\_discounts\\_offered\\$answer & n & percent\\\\\n <chr> & <dbl> & <dbl>\\\\\n\\hline\n\t -                                                  &   4 & 0.002308136\\\\\n\t Bulk Discount (Based on bill amount)               & 241 & 0.139065205\\\\\n\t Customer Discount (Based on customer relationship) & 264 & 0.152336988\\\\\n\t No Discount                                        & 285 & 0.164454703\\\\\n\t Product Discount (Lower price than market)         & 911 & 0.525678015\\\\\n\t Referral Discount (Credit Card                     &  14 & 0.008078477\\\\\n\t Social Media)                                      &  14 & 0.008078477\\\\\n\\end{tabular}\n",
            "text/markdown": "\nA tabyl: 7 × 3\n\n| df_discounts_offered$answer &lt;chr&gt; | n &lt;dbl&gt; | percent &lt;dbl&gt; |\n|---|---|---|\n| -                                                  |   4 | 0.002308136 |\n| Bulk Discount (Based on bill amount)               | 241 | 0.139065205 |\n| Customer Discount (Based on customer relationship) | 264 | 0.152336988 |\n| No Discount                                        | 285 | 0.164454703 |\n| Product Discount (Lower price than market)         | 911 | 0.525678015 |\n| Referral Discount (Credit Card                     |  14 | 0.008078477 |\n| Social Media)                                      |  14 | 0.008078477 |\n\n",
            "text/html": [
              "<table class=\"dataframe\">\n",
              "<caption>A tabyl: 7 × 3</caption>\n",
              "<thead>\n",
              "\t<tr><th scope=col>df_discounts_offered$answer</th><th scope=col>n</th><th scope=col>percent</th></tr>\n",
              "\t<tr><th scope=col>&lt;chr&gt;</th><th scope=col>&lt;dbl&gt;</th><th scope=col>&lt;dbl&gt;</th></tr>\n",
              "</thead>\n",
              "<tbody>\n",
              "\t<tr><td>-                                                 </td><td>  4</td><td>0.002308136</td></tr>\n",
              "\t<tr><td>Bulk Discount (Based on bill amount)              </td><td>241</td><td>0.139065205</td></tr>\n",
              "\t<tr><td>Customer Discount (Based on customer relationship)</td><td>264</td><td>0.152336988</td></tr>\n",
              "\t<tr><td>No Discount                                       </td><td>285</td><td>0.164454703</td></tr>\n",
              "\t<tr><td>Product Discount (Lower price than market)        </td><td>911</td><td>0.525678015</td></tr>\n",
              "\t<tr><td>Referral Discount (Credit Card                    </td><td> 14</td><td>0.008078477</td></tr>\n",
              "\t<tr><td>Social Media)                                     </td><td> 14</td><td>0.008078477</td></tr>\n",
              "</tbody>\n",
              "</table>\n"
            ]
          },
          "metadata": {
            "tags": []
          }
        }
      ]
    },
    {
      "cell_type": "markdown",
      "metadata": {
        "id": "PhoCn6t7FqrE"
      },
      "source": [
        "Converting from CHR to FACTOR"
      ]
    },
    {
      "cell_type": "code",
      "metadata": {
        "id": "zVVJ0vKCFzRh"
      },
      "source": [
        "df_discounts_offered$answer %>% \n",
        "factor() %>% \n",
        "fct_inorder() -> df_discounts_offered$answer"
      ],
      "execution_count": 206,
      "outputs": []
    },
    {
      "cell_type": "code",
      "metadata": {
        "colab": {
          "base_uri": "https://localhost:8080/",
          "height": 313
        },
        "id": "xliqGUvlF3V2",
        "outputId": "9d643c0e-efb3-44f4-e6a6-534e6b8399cc"
      },
      "source": [
        "tabyl(df_discounts_offered$answer)"
      ],
      "execution_count": 207,
      "outputs": [
        {
          "output_type": "display_data",
          "data": {
            "text/plain": [
              "  df_discounts_offered$answer                        n   percent    \n",
              "1 Customer Discount (Based on customer relationship) 264 0.152336988\n",
              "2 Product Discount (Lower price than market)         911 0.525678015\n",
              "3 Bulk Discount (Based on bill amount)               241 0.139065205\n",
              "4 No Discount                                        285 0.164454703\n",
              "5 Referral Discount (Credit Card                      14 0.008078477\n",
              "6 Social Media)                                       14 0.008078477\n",
              "7 -                                                    4 0.002308136"
            ],
            "text/latex": "A tabyl: 7 × 3\n\\begin{tabular}{lll}\n df\\_discounts\\_offered\\$answer & n & percent\\\\\n <fct> & <dbl> & <dbl>\\\\\n\\hline\n\t Customer Discount (Based on customer relationship) & 264 & 0.152336988\\\\\n\t Product Discount (Lower price than market)         & 911 & 0.525678015\\\\\n\t Bulk Discount (Based on bill amount)               & 241 & 0.139065205\\\\\n\t No Discount                                        & 285 & 0.164454703\\\\\n\t Referral Discount (Credit Card                     &  14 & 0.008078477\\\\\n\t Social Media)                                      &  14 & 0.008078477\\\\\n\t -                                                  &   4 & 0.002308136\\\\\n\\end{tabular}\n",
            "text/markdown": "\nA tabyl: 7 × 3\n\n| df_discounts_offered$answer &lt;fct&gt; | n &lt;dbl&gt; | percent &lt;dbl&gt; |\n|---|---|---|\n| Customer Discount (Based on customer relationship) | 264 | 0.152336988 |\n| Product Discount (Lower price than market)         | 911 | 0.525678015 |\n| Bulk Discount (Based on bill amount)               | 241 | 0.139065205 |\n| No Discount                                        | 285 | 0.164454703 |\n| Referral Discount (Credit Card                     |  14 | 0.008078477 |\n| Social Media)                                      |  14 | 0.008078477 |\n| -                                                  |   4 | 0.002308136 |\n\n",
            "text/html": [
              "<table class=\"dataframe\">\n",
              "<caption>A tabyl: 7 × 3</caption>\n",
              "<thead>\n",
              "\t<tr><th scope=col>df_discounts_offered$answer</th><th scope=col>n</th><th scope=col>percent</th></tr>\n",
              "\t<tr><th scope=col>&lt;fct&gt;</th><th scope=col>&lt;dbl&gt;</th><th scope=col>&lt;dbl&gt;</th></tr>\n",
              "</thead>\n",
              "<tbody>\n",
              "\t<tr><td>Customer Discount (Based on customer relationship)</td><td>264</td><td>0.152336988</td></tr>\n",
              "\t<tr><td>Product Discount (Lower price than market)        </td><td>911</td><td>0.525678015</td></tr>\n",
              "\t<tr><td>Bulk Discount (Based on bill amount)              </td><td>241</td><td>0.139065205</td></tr>\n",
              "\t<tr><td>No Discount                                       </td><td>285</td><td>0.164454703</td></tr>\n",
              "\t<tr><td>Referral Discount (Credit Card                    </td><td> 14</td><td>0.008078477</td></tr>\n",
              "\t<tr><td>Social Media)                                     </td><td> 14</td><td>0.008078477</td></tr>\n",
              "\t<tr><td>-                                                 </td><td>  4</td><td>0.002308136</td></tr>\n",
              "</tbody>\n",
              "</table>\n"
            ]
          },
          "metadata": {
            "tags": []
          }
        }
      ]
    },
    {
      "cell_type": "markdown",
      "metadata": {
        "id": "k970KlwFFje0"
      },
      "source": [
        "Change the value of levels"
      ]
    },
    {
      "cell_type": "code",
      "metadata": {
        "id": "IM0gPiVqGB1A"
      },
      "source": [
        "df_discounts_offered <- df_discounts_offered %>% \n",
        "   mutate (answer = fct_recode(df_discounts_offered$answer, \n",
        "   'No ANS' = '-'))"
      ],
      "execution_count": 209,
      "outputs": []
    },
    {
      "cell_type": "code",
      "metadata": {
        "colab": {
          "base_uri": "https://localhost:8080/",
          "height": 313
        },
        "id": "IkcHhuM9GLVU",
        "outputId": "d410217b-b6b0-4646-b0f6-b3bf9f2dcadd"
      },
      "source": [
        "tabyl(df_discounts_offered$answer)"
      ],
      "execution_count": 210,
      "outputs": [
        {
          "output_type": "display_data",
          "data": {
            "text/plain": [
              "  df_discounts_offered$answer                        n   percent    \n",
              "1 Customer Discount (Based on customer relationship) 264 0.152336988\n",
              "2 Product Discount (Lower price than market)         911 0.525678015\n",
              "3 Bulk Discount (Based on bill amount)               241 0.139065205\n",
              "4 No Discount                                        285 0.164454703\n",
              "5 Referral Discount (Credit Card                      14 0.008078477\n",
              "6 Social Media)                                       14 0.008078477\n",
              "7 No ANS                                               4 0.002308136"
            ],
            "text/latex": "A tabyl: 7 × 3\n\\begin{tabular}{lll}\n df\\_discounts\\_offered\\$answer & n & percent\\\\\n <fct> & <dbl> & <dbl>\\\\\n\\hline\n\t Customer Discount (Based on customer relationship) & 264 & 0.152336988\\\\\n\t Product Discount (Lower price than market)         & 911 & 0.525678015\\\\\n\t Bulk Discount (Based on bill amount)               & 241 & 0.139065205\\\\\n\t No Discount                                        & 285 & 0.164454703\\\\\n\t Referral Discount (Credit Card                     &  14 & 0.008078477\\\\\n\t Social Media)                                      &  14 & 0.008078477\\\\\n\t No ANS                                             &   4 & 0.002308136\\\\\n\\end{tabular}\n",
            "text/markdown": "\nA tabyl: 7 × 3\n\n| df_discounts_offered$answer &lt;fct&gt; | n &lt;dbl&gt; | percent &lt;dbl&gt; |\n|---|---|---|\n| Customer Discount (Based on customer relationship) | 264 | 0.152336988 |\n| Product Discount (Lower price than market)         | 911 | 0.525678015 |\n| Bulk Discount (Based on bill amount)               | 241 | 0.139065205 |\n| No Discount                                        | 285 | 0.164454703 |\n| Referral Discount (Credit Card                     |  14 | 0.008078477 |\n| Social Media)                                      |  14 | 0.008078477 |\n| No ANS                                             |   4 | 0.002308136 |\n\n",
            "text/html": [
              "<table class=\"dataframe\">\n",
              "<caption>A tabyl: 7 × 3</caption>\n",
              "<thead>\n",
              "\t<tr><th scope=col>df_discounts_offered$answer</th><th scope=col>n</th><th scope=col>percent</th></tr>\n",
              "\t<tr><th scope=col>&lt;fct&gt;</th><th scope=col>&lt;dbl&gt;</th><th scope=col>&lt;dbl&gt;</th></tr>\n",
              "</thead>\n",
              "<tbody>\n",
              "\t<tr><td>Customer Discount (Based on customer relationship)</td><td>264</td><td>0.152336988</td></tr>\n",
              "\t<tr><td>Product Discount (Lower price than market)        </td><td>911</td><td>0.525678015</td></tr>\n",
              "\t<tr><td>Bulk Discount (Based on bill amount)              </td><td>241</td><td>0.139065205</td></tr>\n",
              "\t<tr><td>No Discount                                       </td><td>285</td><td>0.164454703</td></tr>\n",
              "\t<tr><td>Referral Discount (Credit Card                    </td><td> 14</td><td>0.008078477</td></tr>\n",
              "\t<tr><td>Social Media)                                     </td><td> 14</td><td>0.008078477</td></tr>\n",
              "\t<tr><td>No ANS                                            </td><td>  4</td><td>0.002308136</td></tr>\n",
              "</tbody>\n",
              "</table>\n"
            ]
          },
          "metadata": {
            "tags": []
          }
        }
      ]
    },
    {
      "cell_type": "markdown",
      "metadata": {
        "id": "HYmfiPVIGev4"
      },
      "source": [
        "Change the order of levels"
      ]
    },
    {
      "cell_type": "code",
      "metadata": {
        "id": "JqqqgsO7GfkZ"
      },
      "source": [
        "df_discounts_offered <- \n",
        "    df_discounts_offered %>%\n",
        "        mutate(answer = fct_infreq(answer))"
      ],
      "execution_count": 211,
      "outputs": []
    },
    {
      "cell_type": "code",
      "metadata": {
        "colab": {
          "base_uri": "https://localhost:8080/",
          "height": 313
        },
        "id": "_nYExHirGumh",
        "outputId": "0828f980-0e71-46f5-f4a8-9770bd9f3913"
      },
      "source": [
        "tabyl(df_discounts_offered$answer)"
      ],
      "execution_count": 213,
      "outputs": [
        {
          "output_type": "display_data",
          "data": {
            "text/plain": [
              "  df_discounts_offered$answer                        n   percent    \n",
              "1 Product Discount (Lower price than market)         911 0.525678015\n",
              "2 No Discount                                        285 0.164454703\n",
              "3 Customer Discount (Based on customer relationship) 264 0.152336988\n",
              "4 Bulk Discount (Based on bill amount)               241 0.139065205\n",
              "5 Referral Discount (Credit Card                      14 0.008078477\n",
              "6 Social Media)                                       14 0.008078477\n",
              "7 No ANS                                               4 0.002308136"
            ],
            "text/latex": "A tabyl: 7 × 3\n\\begin{tabular}{lll}\n df\\_discounts\\_offered\\$answer & n & percent\\\\\n <fct> & <dbl> & <dbl>\\\\\n\\hline\n\t Product Discount (Lower price than market)         & 911 & 0.525678015\\\\\n\t No Discount                                        & 285 & 0.164454703\\\\\n\t Customer Discount (Based on customer relationship) & 264 & 0.152336988\\\\\n\t Bulk Discount (Based on bill amount)               & 241 & 0.139065205\\\\\n\t Referral Discount (Credit Card                     &  14 & 0.008078477\\\\\n\t Social Media)                                      &  14 & 0.008078477\\\\\n\t No ANS                                             &   4 & 0.002308136\\\\\n\\end{tabular}\n",
            "text/markdown": "\nA tabyl: 7 × 3\n\n| df_discounts_offered$answer &lt;fct&gt; | n &lt;dbl&gt; | percent &lt;dbl&gt; |\n|---|---|---|\n| Product Discount (Lower price than market)         | 911 | 0.525678015 |\n| No Discount                                        | 285 | 0.164454703 |\n| Customer Discount (Based on customer relationship) | 264 | 0.152336988 |\n| Bulk Discount (Based on bill amount)               | 241 | 0.139065205 |\n| Referral Discount (Credit Card                     |  14 | 0.008078477 |\n| Social Media)                                      |  14 | 0.008078477 |\n| No ANS                                             |   4 | 0.002308136 |\n\n",
            "text/html": [
              "<table class=\"dataframe\">\n",
              "<caption>A tabyl: 7 × 3</caption>\n",
              "<thead>\n",
              "\t<tr><th scope=col>df_discounts_offered$answer</th><th scope=col>n</th><th scope=col>percent</th></tr>\n",
              "\t<tr><th scope=col>&lt;fct&gt;</th><th scope=col>&lt;dbl&gt;</th><th scope=col>&lt;dbl&gt;</th></tr>\n",
              "</thead>\n",
              "<tbody>\n",
              "\t<tr><td>Product Discount (Lower price than market)        </td><td>911</td><td>0.525678015</td></tr>\n",
              "\t<tr><td>No Discount                                       </td><td>285</td><td>0.164454703</td></tr>\n",
              "\t<tr><td>Customer Discount (Based on customer relationship)</td><td>264</td><td>0.152336988</td></tr>\n",
              "\t<tr><td>Bulk Discount (Based on bill amount)              </td><td>241</td><td>0.139065205</td></tr>\n",
              "\t<tr><td>Referral Discount (Credit Card                    </td><td> 14</td><td>0.008078477</td></tr>\n",
              "\t<tr><td>Social Media)                                     </td><td> 14</td><td>0.008078477</td></tr>\n",
              "\t<tr><td>No ANS                                            </td><td>  4</td><td>0.002308136</td></tr>\n",
              "</tbody>\n",
              "</table>\n"
            ]
          },
          "metadata": {
            "tags": []
          }
        }
      ]
    },
    {
      "cell_type": "markdown",
      "metadata": {
        "id": "jYlY7aeLE80a"
      },
      "source": [
        "##### 1.16 ORG_URDU_FEATURES_EXPECTED"
      ]
    },
    {
      "cell_type": "code",
      "metadata": {
        "colab": {
          "base_uri": "https://localhost:8080/",
          "height": 612
        },
        "id": "6yXs_8raHMIX",
        "outputId": "62a3cba0-fe4d-4e8f-fa33-531a5be918f0"
      },
      "source": [
        "tabyl(df_with_2$ORG_URDU_FEATURES_EXPECTED)"
      ],
      "execution_count": 216,
      "outputs": [
        {
          "output_type": "display_data",
          "data": {
            "text/plain": [
              "   df_with_2$ORG_URDU_FEATURES_EXPECTED                                     n  \n",
              "1  -                                                                         13\n",
              "2  Display Screen                                                            89\n",
              "3  Display Screen (Product name), Others (Please specify) (Product name)      5\n",
              "4  Display Screen (Product names), Others (Please specify) (Product names)    1\n",
              "5  Display Screen (Product Names), Others (Please specify) (Product Names)    1\n",
              "6  Display Screen, Slips or Receipts                                        330\n",
              "7  Others (Please specify) (Don't want)                                       1\n",
              "8  Others (Please specify) (Dont want to use )                                1\n",
              "9  Others (Please specify) (Everything in both languages )                    1\n",
              "10 Others (Please specify) (Items name), Slips or Receipts (Items name)       1\n",
              "11 Others (Please specify) (No intrested), Slips or Receipts (No intrested)   1\n",
              "12 Others (Please specify) (No)                                               1\n",
              "13 Others (Please specify) (Product name)                                     1\n",
              "14 Others (Please specify) (Product name), Slips or Receipts (Product name)   1\n",
              "15 Slips or Receipts                                                        763\n",
              "   percent     \n",
              "1  0.0107438017\n",
              "2  0.0735537190\n",
              "3  0.0041322314\n",
              "4  0.0008264463\n",
              "5  0.0008264463\n",
              "6  0.2727272727\n",
              "7  0.0008264463\n",
              "8  0.0008264463\n",
              "9  0.0008264463\n",
              "10 0.0008264463\n",
              "11 0.0008264463\n",
              "12 0.0008264463\n",
              "13 0.0008264463\n",
              "14 0.0008264463\n",
              "15 0.6305785124"
            ],
            "text/latex": "A tabyl: 15 × 3\n\\begin{tabular}{lll}\n df\\_with\\_2\\$ORG\\_URDU\\_FEATURES\\_EXPECTED & n & percent\\\\\n <fct> & <dbl> & <dbl>\\\\\n\\hline\n\t -                                                                        &  13 & 0.0107438017\\\\\n\t Display Screen                                                           &  89 & 0.0735537190\\\\\n\t Display Screen (Product name), Others (Please specify) (Product name)    &   5 & 0.0041322314\\\\\n\t Display Screen (Product names), Others (Please specify) (Product names)  &   1 & 0.0008264463\\\\\n\t Display Screen (Product Names), Others (Please specify) (Product Names)  &   1 & 0.0008264463\\\\\n\t Display Screen, Slips or Receipts                                        & 330 & 0.2727272727\\\\\n\t Others (Please specify) (Don't want)                                     &   1 & 0.0008264463\\\\\n\t Others (Please specify) (Dont want to use )                              &   1 & 0.0008264463\\\\\n\t Others (Please specify) (Everything in both languages )                  &   1 & 0.0008264463\\\\\n\t Others (Please specify) (Items name), Slips or Receipts (Items name)     &   1 & 0.0008264463\\\\\n\t Others (Please specify) (No intrested), Slips or Receipts (No intrested) &   1 & 0.0008264463\\\\\n\t Others (Please specify) (No)                                             &   1 & 0.0008264463\\\\\n\t Others (Please specify) (Product name)                                   &   1 & 0.0008264463\\\\\n\t Others (Please specify) (Product name), Slips or Receipts (Product name) &   1 & 0.0008264463\\\\\n\t Slips or Receipts                                                        & 763 & 0.6305785124\\\\\n\\end{tabular}\n",
            "text/markdown": "\nA tabyl: 15 × 3\n\n| df_with_2$ORG_URDU_FEATURES_EXPECTED &lt;fct&gt; | n &lt;dbl&gt; | percent &lt;dbl&gt; |\n|---|---|---|\n| -                                                                        |  13 | 0.0107438017 |\n| Display Screen                                                           |  89 | 0.0735537190 |\n| Display Screen (Product name), Others (Please specify) (Product name)    |   5 | 0.0041322314 |\n| Display Screen (Product names), Others (Please specify) (Product names)  |   1 | 0.0008264463 |\n| Display Screen (Product Names), Others (Please specify) (Product Names)  |   1 | 0.0008264463 |\n| Display Screen, Slips or Receipts                                        | 330 | 0.2727272727 |\n| Others (Please specify) (Don't want)                                     |   1 | 0.0008264463 |\n| Others (Please specify) (Dont want to use )                              |   1 | 0.0008264463 |\n| Others (Please specify) (Everything in both languages )                  |   1 | 0.0008264463 |\n| Others (Please specify) (Items name), Slips or Receipts (Items name)     |   1 | 0.0008264463 |\n| Others (Please specify) (No intrested), Slips or Receipts (No intrested) |   1 | 0.0008264463 |\n| Others (Please specify) (No)                                             |   1 | 0.0008264463 |\n| Others (Please specify) (Product name)                                   |   1 | 0.0008264463 |\n| Others (Please specify) (Product name), Slips or Receipts (Product name) |   1 | 0.0008264463 |\n| Slips or Receipts                                                        | 763 | 0.6305785124 |\n\n",
            "text/html": [
              "<table class=\"dataframe\">\n",
              "<caption>A tabyl: 15 × 3</caption>\n",
              "<thead>\n",
              "\t<tr><th scope=col>df_with_2$ORG_URDU_FEATURES_EXPECTED</th><th scope=col>n</th><th scope=col>percent</th></tr>\n",
              "\t<tr><th scope=col>&lt;fct&gt;</th><th scope=col>&lt;dbl&gt;</th><th scope=col>&lt;dbl&gt;</th></tr>\n",
              "</thead>\n",
              "<tbody>\n",
              "\t<tr><td>-                                                                       </td><td> 13</td><td>0.0107438017</td></tr>\n",
              "\t<tr><td>Display Screen                                                          </td><td> 89</td><td>0.0735537190</td></tr>\n",
              "\t<tr><td>Display Screen (Product name), Others (Please specify) (Product name)   </td><td>  5</td><td>0.0041322314</td></tr>\n",
              "\t<tr><td>Display Screen (Product names), Others (Please specify) (Product names) </td><td>  1</td><td>0.0008264463</td></tr>\n",
              "\t<tr><td>Display Screen (Product Names), Others (Please specify) (Product Names) </td><td>  1</td><td>0.0008264463</td></tr>\n",
              "\t<tr><td>Display Screen, Slips or Receipts                                       </td><td>330</td><td>0.2727272727</td></tr>\n",
              "\t<tr><td>Others (Please specify) (Don't want)                                    </td><td>  1</td><td>0.0008264463</td></tr>\n",
              "\t<tr><td>Others (Please specify) (Dont want to use )                             </td><td>  1</td><td>0.0008264463</td></tr>\n",
              "\t<tr><td>Others (Please specify) (Everything in both languages )                 </td><td>  1</td><td>0.0008264463</td></tr>\n",
              "\t<tr><td>Others (Please specify) (Items name), Slips or Receipts (Items name)    </td><td>  1</td><td>0.0008264463</td></tr>\n",
              "\t<tr><td>Others (Please specify) (No intrested), Slips or Receipts (No intrested)</td><td>  1</td><td>0.0008264463</td></tr>\n",
              "\t<tr><td>Others (Please specify) (No)                                            </td><td>  1</td><td>0.0008264463</td></tr>\n",
              "\t<tr><td>Others (Please specify) (Product name)                                  </td><td>  1</td><td>0.0008264463</td></tr>\n",
              "\t<tr><td>Others (Please specify) (Product name), Slips or Receipts (Product name)</td><td>  1</td><td>0.0008264463</td></tr>\n",
              "\t<tr><td>Slips or Receipts                                                       </td><td>763</td><td>0.6305785124</td></tr>\n",
              "</tbody>\n",
              "</table>\n"
            ]
          },
          "metadata": {
            "tags": []
          }
        }
      ]
    },
    {
      "cell_type": "markdown",
      "metadata": {
        "id": "NCxF_fKgHShw"
      },
      "source": [
        "Multiple Response - here"
      ]
    },
    {
      "cell_type": "code",
      "metadata": {
        "colab": {
          "base_uri": "https://localhost:8080/"
        },
        "id": "bxvURXE6HV4J",
        "outputId": "2756f98d-5050-4f1e-990e-16065e17a5f4"
      },
      "source": [
        "df_with_2 %>%\n",
        "    dplyr::select(RESP_ID, ORG_URDU_FEATURES_EXPECTED) %>%\n",
        "    tidyr::gather(ORG_URDU_FEATURES_EXPECTED, answer, -RESP_ID) %>%\n",
        "    dplyr::filter(!is.na(answer)) %>%\n",
        "    tidyr::unnest(answer = stringr::str_split(answer, \", \")) -> df_urdu_features"
      ],
      "execution_count": 217,
      "outputs": [
        {
          "output_type": "stream",
          "text": [
            "Warning message:\n",
            "“unnest() has a new interface. See ?unnest for details.\n",
            "Try `df %>% unnest(c(answer))`, with `mutate()` if needed”\n"
          ],
          "name": "stderr"
        }
      ]
    },
    {
      "cell_type": "code",
      "metadata": {
        "colab": {
          "base_uri": "https://localhost:8080/",
          "height": 653
        },
        "id": "aHFmnQ2FHfTd",
        "outputId": "a49906dd-db27-4cae-f71e-599605fca74c"
      },
      "source": [
        "tabyl(df_urdu_features$answer)"
      ],
      "execution_count": 218,
      "outputs": [
        {
          "output_type": "display_data",
          "data": {
            "text/plain": [
              "   df_urdu_features$answer                                 n    percent     \n",
              "1  -                                                         13 0.0083870968\n",
              "2  Display Screen                                           419 0.2703225806\n",
              "3  Display Screen (Product name)                              5 0.0032258065\n",
              "4  Display Screen (Product names)                             1 0.0006451613\n",
              "5  Display Screen (Product Names)                             1 0.0006451613\n",
              "6  Others (Please specify) (Don't want)                       1 0.0006451613\n",
              "7  Others (Please specify) (Dont want to use )                1 0.0006451613\n",
              "8  Others (Please specify) (Everything in both languages )    1 0.0006451613\n",
              "9  Others (Please specify) (Items name)                       1 0.0006451613\n",
              "10 Others (Please specify) (No intrested)                     1 0.0006451613\n",
              "11 Others (Please specify) (No)                               1 0.0006451613\n",
              "12 Others (Please specify) (Product name)                     7 0.0045161290\n",
              "13 Others (Please specify) (Product names)                    1 0.0006451613\n",
              "14 Others (Please specify) (Product Names)                    1 0.0006451613\n",
              "15 Slips or Receipts                                       1093 0.7051612903\n",
              "16 Slips or Receipts (Items name)                             1 0.0006451613\n",
              "17 Slips or Receipts (No intrested)                           1 0.0006451613\n",
              "18 Slips or Receipts (Product name)                           1 0.0006451613"
            ],
            "text/latex": "A tabyl: 18 × 3\n\\begin{tabular}{lll}\n df\\_urdu\\_features\\$answer & n & percent\\\\\n <chr> & <dbl> & <dbl>\\\\\n\\hline\n\t -                                                       &   13 & 0.0083870968\\\\\n\t Display Screen                                          &  419 & 0.2703225806\\\\\n\t Display Screen (Product name)                           &    5 & 0.0032258065\\\\\n\t Display Screen (Product names)                          &    1 & 0.0006451613\\\\\n\t Display Screen (Product Names)                          &    1 & 0.0006451613\\\\\n\t Others (Please specify) (Don't want)                    &    1 & 0.0006451613\\\\\n\t Others (Please specify) (Dont want to use )             &    1 & 0.0006451613\\\\\n\t Others (Please specify) (Everything in both languages ) &    1 & 0.0006451613\\\\\n\t Others (Please specify) (Items name)                    &    1 & 0.0006451613\\\\\n\t Others (Please specify) (No intrested)                  &    1 & 0.0006451613\\\\\n\t Others (Please specify) (No)                            &    1 & 0.0006451613\\\\\n\t Others (Please specify) (Product name)                  &    7 & 0.0045161290\\\\\n\t Others (Please specify) (Product names)                 &    1 & 0.0006451613\\\\\n\t Others (Please specify) (Product Names)                 &    1 & 0.0006451613\\\\\n\t Slips or Receipts                                       & 1093 & 0.7051612903\\\\\n\t Slips or Receipts (Items name)                          &    1 & 0.0006451613\\\\\n\t Slips or Receipts (No intrested)                        &    1 & 0.0006451613\\\\\n\t Slips or Receipts (Product name)                        &    1 & 0.0006451613\\\\\n\\end{tabular}\n",
            "text/markdown": "\nA tabyl: 18 × 3\n\n| df_urdu_features$answer &lt;chr&gt; | n &lt;dbl&gt; | percent &lt;dbl&gt; |\n|---|---|---|\n| -                                                       |   13 | 0.0083870968 |\n| Display Screen                                          |  419 | 0.2703225806 |\n| Display Screen (Product name)                           |    5 | 0.0032258065 |\n| Display Screen (Product names)                          |    1 | 0.0006451613 |\n| Display Screen (Product Names)                          |    1 | 0.0006451613 |\n| Others (Please specify) (Don't want)                    |    1 | 0.0006451613 |\n| Others (Please specify) (Dont want to use )             |    1 | 0.0006451613 |\n| Others (Please specify) (Everything in both languages ) |    1 | 0.0006451613 |\n| Others (Please specify) (Items name)                    |    1 | 0.0006451613 |\n| Others (Please specify) (No intrested)                  |    1 | 0.0006451613 |\n| Others (Please specify) (No)                            |    1 | 0.0006451613 |\n| Others (Please specify) (Product name)                  |    7 | 0.0045161290 |\n| Others (Please specify) (Product names)                 |    1 | 0.0006451613 |\n| Others (Please specify) (Product Names)                 |    1 | 0.0006451613 |\n| Slips or Receipts                                       | 1093 | 0.7051612903 |\n| Slips or Receipts (Items name)                          |    1 | 0.0006451613 |\n| Slips or Receipts (No intrested)                        |    1 | 0.0006451613 |\n| Slips or Receipts (Product name)                        |    1 | 0.0006451613 |\n\n",
            "text/html": [
              "<table class=\"dataframe\">\n",
              "<caption>A tabyl: 18 × 3</caption>\n",
              "<thead>\n",
              "\t<tr><th scope=col>df_urdu_features$answer</th><th scope=col>n</th><th scope=col>percent</th></tr>\n",
              "\t<tr><th scope=col>&lt;chr&gt;</th><th scope=col>&lt;dbl&gt;</th><th scope=col>&lt;dbl&gt;</th></tr>\n",
              "</thead>\n",
              "<tbody>\n",
              "\t<tr><td>-                                                      </td><td>  13</td><td>0.0083870968</td></tr>\n",
              "\t<tr><td>Display Screen                                         </td><td> 419</td><td>0.2703225806</td></tr>\n",
              "\t<tr><td>Display Screen (Product name)                          </td><td>   5</td><td>0.0032258065</td></tr>\n",
              "\t<tr><td>Display Screen (Product names)                         </td><td>   1</td><td>0.0006451613</td></tr>\n",
              "\t<tr><td>Display Screen (Product Names)                         </td><td>   1</td><td>0.0006451613</td></tr>\n",
              "\t<tr><td>Others (Please specify) (Don't want)                   </td><td>   1</td><td>0.0006451613</td></tr>\n",
              "\t<tr><td>Others (Please specify) (Dont want to use )            </td><td>   1</td><td>0.0006451613</td></tr>\n",
              "\t<tr><td>Others (Please specify) (Everything in both languages )</td><td>   1</td><td>0.0006451613</td></tr>\n",
              "\t<tr><td>Others (Please specify) (Items name)                   </td><td>   1</td><td>0.0006451613</td></tr>\n",
              "\t<tr><td>Others (Please specify) (No intrested)                 </td><td>   1</td><td>0.0006451613</td></tr>\n",
              "\t<tr><td>Others (Please specify) (No)                           </td><td>   1</td><td>0.0006451613</td></tr>\n",
              "\t<tr><td>Others (Please specify) (Product name)                 </td><td>   7</td><td>0.0045161290</td></tr>\n",
              "\t<tr><td>Others (Please specify) (Product names)                </td><td>   1</td><td>0.0006451613</td></tr>\n",
              "\t<tr><td>Others (Please specify) (Product Names)                </td><td>   1</td><td>0.0006451613</td></tr>\n",
              "\t<tr><td>Slips or Receipts                                      </td><td>1093</td><td>0.7051612903</td></tr>\n",
              "\t<tr><td>Slips or Receipts (Items name)                         </td><td>   1</td><td>0.0006451613</td></tr>\n",
              "\t<tr><td>Slips or Receipts (No intrested)                       </td><td>   1</td><td>0.0006451613</td></tr>\n",
              "\t<tr><td>Slips or Receipts (Product name)                       </td><td>   1</td><td>0.0006451613</td></tr>\n",
              "</tbody>\n",
              "</table>\n"
            ]
          },
          "metadata": {
            "tags": []
          }
        }
      ]
    },
    {
      "cell_type": "markdown",
      "metadata": {
        "id": "_lwX56JRIAbB"
      },
      "source": [
        "Converting from CHR to FACTOR"
      ]
    },
    {
      "cell_type": "code",
      "metadata": {
        "id": "MvmQyCVxIDI4"
      },
      "source": [
        "df_urdu_features$answer %>% \n",
        "factor() %>% \n",
        "fct_inorder() -> df_urdu_features$answer"
      ],
      "execution_count": 219,
      "outputs": []
    },
    {
      "cell_type": "code",
      "metadata": {
        "colab": {
          "base_uri": "https://localhost:8080/",
          "height": 653
        },
        "id": "9dM-slWMILw0",
        "outputId": "327d845d-7b15-4da4-9b55-ef7faf46de9c"
      },
      "source": [
        "tabyl(df_urdu_features$answer)"
      ],
      "execution_count": 220,
      "outputs": [
        {
          "output_type": "display_data",
          "data": {
            "text/plain": [
              "   df_urdu_features$answer                                 n    percent     \n",
              "1  Others (Please specify) (Everything in both languages )    1 0.0006451613\n",
              "2  Display Screen                                           419 0.2703225806\n",
              "3  Slips or Receipts                                       1093 0.7051612903\n",
              "4  Others (Please specify) (Don't want)                       1 0.0006451613\n",
              "5  Others (Please specify) (No intrested)                     1 0.0006451613\n",
              "6  Slips or Receipts (No intrested)                           1 0.0006451613\n",
              "7  Others (Please specify) (No)                               1 0.0006451613\n",
              "8  -                                                         13 0.0083870968\n",
              "9  Others (Please specify) (Dont want to use )                1 0.0006451613\n",
              "10 Others (Please specify) (Product name)                     7 0.0045161290\n",
              "11 Display Screen (Product name)                              5 0.0032258065\n",
              "12 Others (Please specify) (Items name)                       1 0.0006451613\n",
              "13 Slips or Receipts (Items name)                             1 0.0006451613\n",
              "14 Slips or Receipts (Product name)                           1 0.0006451613\n",
              "15 Display Screen (Product Names)                             1 0.0006451613\n",
              "16 Others (Please specify) (Product Names)                    1 0.0006451613\n",
              "17 Display Screen (Product names)                             1 0.0006451613\n",
              "18 Others (Please specify) (Product names)                    1 0.0006451613"
            ],
            "text/latex": "A tabyl: 18 × 3\n\\begin{tabular}{lll}\n df\\_urdu\\_features\\$answer & n & percent\\\\\n <fct> & <dbl> & <dbl>\\\\\n\\hline\n\t Others (Please specify) (Everything in both languages ) &    1 & 0.0006451613\\\\\n\t Display Screen                                          &  419 & 0.2703225806\\\\\n\t Slips or Receipts                                       & 1093 & 0.7051612903\\\\\n\t Others (Please specify) (Don't want)                    &    1 & 0.0006451613\\\\\n\t Others (Please specify) (No intrested)                  &    1 & 0.0006451613\\\\\n\t Slips or Receipts (No intrested)                        &    1 & 0.0006451613\\\\\n\t Others (Please specify) (No)                            &    1 & 0.0006451613\\\\\n\t -                                                       &   13 & 0.0083870968\\\\\n\t Others (Please specify) (Dont want to use )             &    1 & 0.0006451613\\\\\n\t Others (Please specify) (Product name)                  &    7 & 0.0045161290\\\\\n\t Display Screen (Product name)                           &    5 & 0.0032258065\\\\\n\t Others (Please specify) (Items name)                    &    1 & 0.0006451613\\\\\n\t Slips or Receipts (Items name)                          &    1 & 0.0006451613\\\\\n\t Slips or Receipts (Product name)                        &    1 & 0.0006451613\\\\\n\t Display Screen (Product Names)                          &    1 & 0.0006451613\\\\\n\t Others (Please specify) (Product Names)                 &    1 & 0.0006451613\\\\\n\t Display Screen (Product names)                          &    1 & 0.0006451613\\\\\n\t Others (Please specify) (Product names)                 &    1 & 0.0006451613\\\\\n\\end{tabular}\n",
            "text/markdown": "\nA tabyl: 18 × 3\n\n| df_urdu_features$answer &lt;fct&gt; | n &lt;dbl&gt; | percent &lt;dbl&gt; |\n|---|---|---|\n| Others (Please specify) (Everything in both languages ) |    1 | 0.0006451613 |\n| Display Screen                                          |  419 | 0.2703225806 |\n| Slips or Receipts                                       | 1093 | 0.7051612903 |\n| Others (Please specify) (Don't want)                    |    1 | 0.0006451613 |\n| Others (Please specify) (No intrested)                  |    1 | 0.0006451613 |\n| Slips or Receipts (No intrested)                        |    1 | 0.0006451613 |\n| Others (Please specify) (No)                            |    1 | 0.0006451613 |\n| -                                                       |   13 | 0.0083870968 |\n| Others (Please specify) (Dont want to use )             |    1 | 0.0006451613 |\n| Others (Please specify) (Product name)                  |    7 | 0.0045161290 |\n| Display Screen (Product name)                           |    5 | 0.0032258065 |\n| Others (Please specify) (Items name)                    |    1 | 0.0006451613 |\n| Slips or Receipts (Items name)                          |    1 | 0.0006451613 |\n| Slips or Receipts (Product name)                        |    1 | 0.0006451613 |\n| Display Screen (Product Names)                          |    1 | 0.0006451613 |\n| Others (Please specify) (Product Names)                 |    1 | 0.0006451613 |\n| Display Screen (Product names)                          |    1 | 0.0006451613 |\n| Others (Please specify) (Product names)                 |    1 | 0.0006451613 |\n\n",
            "text/html": [
              "<table class=\"dataframe\">\n",
              "<caption>A tabyl: 18 × 3</caption>\n",
              "<thead>\n",
              "\t<tr><th scope=col>df_urdu_features$answer</th><th scope=col>n</th><th scope=col>percent</th></tr>\n",
              "\t<tr><th scope=col>&lt;fct&gt;</th><th scope=col>&lt;dbl&gt;</th><th scope=col>&lt;dbl&gt;</th></tr>\n",
              "</thead>\n",
              "<tbody>\n",
              "\t<tr><td>Others (Please specify) (Everything in both languages )</td><td>   1</td><td>0.0006451613</td></tr>\n",
              "\t<tr><td>Display Screen                                         </td><td> 419</td><td>0.2703225806</td></tr>\n",
              "\t<tr><td>Slips or Receipts                                      </td><td>1093</td><td>0.7051612903</td></tr>\n",
              "\t<tr><td>Others (Please specify) (Don't want)                   </td><td>   1</td><td>0.0006451613</td></tr>\n",
              "\t<tr><td>Others (Please specify) (No intrested)                 </td><td>   1</td><td>0.0006451613</td></tr>\n",
              "\t<tr><td>Slips or Receipts (No intrested)                       </td><td>   1</td><td>0.0006451613</td></tr>\n",
              "\t<tr><td>Others (Please specify) (No)                           </td><td>   1</td><td>0.0006451613</td></tr>\n",
              "\t<tr><td>-                                                      </td><td>  13</td><td>0.0083870968</td></tr>\n",
              "\t<tr><td>Others (Please specify) (Dont want to use )            </td><td>   1</td><td>0.0006451613</td></tr>\n",
              "\t<tr><td>Others (Please specify) (Product name)                 </td><td>   7</td><td>0.0045161290</td></tr>\n",
              "\t<tr><td>Display Screen (Product name)                          </td><td>   5</td><td>0.0032258065</td></tr>\n",
              "\t<tr><td>Others (Please specify) (Items name)                   </td><td>   1</td><td>0.0006451613</td></tr>\n",
              "\t<tr><td>Slips or Receipts (Items name)                         </td><td>   1</td><td>0.0006451613</td></tr>\n",
              "\t<tr><td>Slips or Receipts (Product name)                       </td><td>   1</td><td>0.0006451613</td></tr>\n",
              "\t<tr><td>Display Screen (Product Names)                         </td><td>   1</td><td>0.0006451613</td></tr>\n",
              "\t<tr><td>Others (Please specify) (Product Names)                </td><td>   1</td><td>0.0006451613</td></tr>\n",
              "\t<tr><td>Display Screen (Product names)                         </td><td>   1</td><td>0.0006451613</td></tr>\n",
              "\t<tr><td>Others (Please specify) (Product names)                </td><td>   1</td><td>0.0006451613</td></tr>\n",
              "</tbody>\n",
              "</table>\n"
            ]
          },
          "metadata": {
            "tags": []
          }
        }
      ]
    },
    {
      "cell_type": "code",
      "metadata": {
        "colab": {
          "base_uri": "https://localhost:8080/",
          "height": 153
        },
        "id": "8s2b9lOGIQx2",
        "outputId": "3535b947-529b-4492-8af5-da7aa1d353a0"
      },
      "source": [
        "levels(df_urdu_features$answer)"
      ],
      "execution_count": 224,
      "outputs": [
        {
          "output_type": "display_data",
          "data": {
            "text/plain": [
              " [1] \"Others (Please specify) (Everything in both languages )\"\n",
              " [2] \"Display Screen\"                                         \n",
              " [3] \"Slips or Receipts\"                                      \n",
              " [4] \"Others (Please specify) (Don't want)\"                   \n",
              " [5] \"Others (Please specify) (No intrested)\"                 \n",
              " [6] \"Slips or Receipts (No intrested)\"                       \n",
              " [7] \"Others (Please specify) (No)\"                           \n",
              " [8] \"-\"                                                      \n",
              " [9] \"Others (Please specify) (Dont want to use )\"            \n",
              "[10] \"Others (Please specify) (Product name)\"                 \n",
              "[11] \"Display Screen (Product name)\"                          \n",
              "[12] \"Others (Please specify) (Items name)\"                   \n",
              "[13] \"Slips or Receipts (Items name)\"                         \n",
              "[14] \"Slips or Receipts (Product name)\"                       \n",
              "[15] \"Display Screen (Product Names)\"                         \n",
              "[16] \"Others (Please specify) (Product Names)\"                \n",
              "[17] \"Display Screen (Product names)\"                         \n",
              "[18] \"Others (Please specify) (Product names)\"                "
            ],
            "text/latex": "\\begin{enumerate*}\n\\item 'Others (Please specify) (Everything in both languages )'\n\\item 'Display Screen'\n\\item 'Slips or Receipts'\n\\item 'Others (Please specify) (Don\\textbackslash{}'t want)'\n\\item 'Others (Please specify) (No intrested)'\n\\item 'Slips or Receipts (No intrested)'\n\\item 'Others (Please specify) (No)'\n\\item '-'\n\\item 'Others (Please specify) (Dont want to use )'\n\\item 'Others (Please specify) (Product name)'\n\\item 'Display Screen (Product name)'\n\\item 'Others (Please specify) (Items name)'\n\\item 'Slips or Receipts (Items name)'\n\\item 'Slips or Receipts (Product name)'\n\\item 'Display Screen (Product Names)'\n\\item 'Others (Please specify) (Product Names)'\n\\item 'Display Screen (Product names)'\n\\item 'Others (Please specify) (Product names)'\n\\end{enumerate*}\n",
            "text/markdown": "1. 'Others (Please specify) (Everything in both languages )'\n2. 'Display Screen'\n3. 'Slips or Receipts'\n4. 'Others (Please specify) (Don\\'t want)'\n5. 'Others (Please specify) (No intrested)'\n6. 'Slips or Receipts (No intrested)'\n7. 'Others (Please specify) (No)'\n8. '-'\n9. 'Others (Please specify) (Dont want to use )'\n10. 'Others (Please specify) (Product name)'\n11. 'Display Screen (Product name)'\n12. 'Others (Please specify) (Items name)'\n13. 'Slips or Receipts (Items name)'\n14. 'Slips or Receipts (Product name)'\n15. 'Display Screen (Product Names)'\n16. 'Others (Please specify) (Product Names)'\n17. 'Display Screen (Product names)'\n18. 'Others (Please specify) (Product names)'\n\n\n",
            "text/html": [
              "<style>\n",
              ".list-inline {list-style: none; margin:0; padding: 0}\n",
              ".list-inline>li {display: inline-block}\n",
              ".list-inline>li:not(:last-child)::after {content: \"\\00b7\"; padding: 0 .5ex}\n",
              "</style>\n",
              "<ol class=list-inline><li>'Others (Please specify) (Everything in both languages )'</li><li>'Display Screen'</li><li>'Slips or Receipts'</li><li>'Others (Please specify) (Don\\'t want)'</li><li>'Others (Please specify) (No intrested)'</li><li>'Slips or Receipts (No intrested)'</li><li>'Others (Please specify) (No)'</li><li>'-'</li><li>'Others (Please specify) (Dont want to use )'</li><li>'Others (Please specify) (Product name)'</li><li>'Display Screen (Product name)'</li><li>'Others (Please specify) (Items name)'</li><li>'Slips or Receipts (Items name)'</li><li>'Slips or Receipts (Product name)'</li><li>'Display Screen (Product Names)'</li><li>'Others (Please specify) (Product Names)'</li><li>'Display Screen (Product names)'</li><li>'Others (Please specify) (Product names)'</li></ol>\n"
            ]
          },
          "metadata": {
            "tags": []
          }
        }
      ]
    },
    {
      "cell_type": "markdown",
      "metadata": {
        "id": "3iYzu1JoH7Uh"
      },
      "source": [
        "Change the value of levels"
      ]
    },
    {
      "cell_type": "code",
      "metadata": {
        "id": "n-oiUPsxIU95"
      },
      "source": [
        "df_urdu_features <- df_urdu_features %>% \n",
        "   mutate (answer = fct_recode(df_urdu_features$answer, \n",
        "   'No ANS' = '-',\n",
        "   'Display Screen' = 'Others (Please specify) (Product name)',\n",
        "   'Display Screen' = 'Display Screen (Product name)',\n",
        "   'Display Screen' = 'Others (Please specify) (Items name)',\n",
        "   'Display Screen' = 'Slips or Receipts (Items name)',\n",
        "   'Display Screen' = 'Slips or Receipts (Product name)',\n",
        "   'Display Screen' = 'Display Screen (Product Names)',\n",
        "   'Display Screen' = 'Others (Please specify) (Product Names)',\n",
        "   'Display Screen' = 'Display Screen (Product names)',\n",
        "   'Display Screen' = 'Others (Please specify) (Product names)',\n",
        "   #'Slips or Receipts' = ,\n",
        "   'No Urdu Features' = 'Others (Please specify) (Don\\'t want)',\n",
        "   'No Urdu Features' = 'Others (Please specify) (No intrested)',\n",
        "   'No Urdu Features' = 'Slips or Receipts (No intrested)',\n",
        "   'No Urdu Features' = 'Others (Please specify) (Dont want to use )',\n",
        "   'No Urdu Features' = 'Others (Please specify) (No)',\n",
        "   'Everything in Both' = 'Others (Please specify) (Everything in both languages )' \n",
        "   ))"
      ],
      "execution_count": 225,
      "outputs": []
    },
    {
      "cell_type": "code",
      "metadata": {
        "colab": {
          "base_uri": "https://localhost:8080/",
          "height": 251
        },
        "id": "mjDHk8ZRH5Zg",
        "outputId": "713432fb-123b-4bb3-d06b-00b691e588d3"
      },
      "source": [
        "tabyl(df_urdu_features$answer)"
      ],
      "execution_count": 226,
      "outputs": [
        {
          "output_type": "display_data",
          "data": {
            "text/plain": [
              "  df_urdu_features$answer n    percent     \n",
              "1 Everything in Both         1 0.0006451613\n",
              "2 Display Screen           438 0.2825806452\n",
              "3 Slips or Receipts       1093 0.7051612903\n",
              "4 No Urdu Features           5 0.0032258065\n",
              "5 No ANS                    13 0.0083870968"
            ],
            "text/latex": "A tabyl: 5 × 3\n\\begin{tabular}{lll}\n df\\_urdu\\_features\\$answer & n & percent\\\\\n <fct> & <dbl> & <dbl>\\\\\n\\hline\n\t Everything in Both &    1 & 0.0006451613\\\\\n\t Display Screen     &  438 & 0.2825806452\\\\\n\t Slips or Receipts  & 1093 & 0.7051612903\\\\\n\t No Urdu Features   &    5 & 0.0032258065\\\\\n\t No ANS             &   13 & 0.0083870968\\\\\n\\end{tabular}\n",
            "text/markdown": "\nA tabyl: 5 × 3\n\n| df_urdu_features$answer &lt;fct&gt; | n &lt;dbl&gt; | percent &lt;dbl&gt; |\n|---|---|---|\n| Everything in Both |    1 | 0.0006451613 |\n| Display Screen     |  438 | 0.2825806452 |\n| Slips or Receipts  | 1093 | 0.7051612903 |\n| No Urdu Features   |    5 | 0.0032258065 |\n| No ANS             |   13 | 0.0083870968 |\n\n",
            "text/html": [
              "<table class=\"dataframe\">\n",
              "<caption>A tabyl: 5 × 3</caption>\n",
              "<thead>\n",
              "\t<tr><th scope=col>df_urdu_features$answer</th><th scope=col>n</th><th scope=col>percent</th></tr>\n",
              "\t<tr><th scope=col>&lt;fct&gt;</th><th scope=col>&lt;dbl&gt;</th><th scope=col>&lt;dbl&gt;</th></tr>\n",
              "</thead>\n",
              "<tbody>\n",
              "\t<tr><td>Everything in Both</td><td>   1</td><td>0.0006451613</td></tr>\n",
              "\t<tr><td>Display Screen    </td><td> 438</td><td>0.2825806452</td></tr>\n",
              "\t<tr><td>Slips or Receipts </td><td>1093</td><td>0.7051612903</td></tr>\n",
              "\t<tr><td>No Urdu Features  </td><td>   5</td><td>0.0032258065</td></tr>\n",
              "\t<tr><td>No ANS            </td><td>  13</td><td>0.0083870968</td></tr>\n",
              "</tbody>\n",
              "</table>\n"
            ]
          },
          "metadata": {
            "tags": []
          }
        }
      ]
    },
    {
      "cell_type": "markdown",
      "metadata": {
        "id": "2uBZZC-PKrSR"
      },
      "source": [
        "Change the order of levels"
      ]
    },
    {
      "cell_type": "code",
      "metadata": {
        "id": "wI9MvUB5KwoD"
      },
      "source": [
        "df_urdu_features <- \n",
        "    df_urdu_features %>%\n",
        "        mutate(answer = fct_infreq(answer))"
      ],
      "execution_count": 227,
      "outputs": []
    },
    {
      "cell_type": "code",
      "metadata": {
        "colab": {
          "base_uri": "https://localhost:8080/",
          "height": 251
        },
        "id": "XBD0mdHSK1Uz",
        "outputId": "1947456d-5843-4506-ea38-85fc626a25e0"
      },
      "source": [
        "tabyl(df_urdu_features$answer)"
      ],
      "execution_count": 228,
      "outputs": [
        {
          "output_type": "display_data",
          "data": {
            "text/plain": [
              "  df_urdu_features$answer n    percent     \n",
              "1 Slips or Receipts       1093 0.7051612903\n",
              "2 Display Screen           438 0.2825806452\n",
              "3 No ANS                    13 0.0083870968\n",
              "4 No Urdu Features           5 0.0032258065\n",
              "5 Everything in Both         1 0.0006451613"
            ],
            "text/latex": "A tabyl: 5 × 3\n\\begin{tabular}{lll}\n df\\_urdu\\_features\\$answer & n & percent\\\\\n <fct> & <dbl> & <dbl>\\\\\n\\hline\n\t Slips or Receipts  & 1093 & 0.7051612903\\\\\n\t Display Screen     &  438 & 0.2825806452\\\\\n\t No ANS             &   13 & 0.0083870968\\\\\n\t No Urdu Features   &    5 & 0.0032258065\\\\\n\t Everything in Both &    1 & 0.0006451613\\\\\n\\end{tabular}\n",
            "text/markdown": "\nA tabyl: 5 × 3\n\n| df_urdu_features$answer &lt;fct&gt; | n &lt;dbl&gt; | percent &lt;dbl&gt; |\n|---|---|---|\n| Slips or Receipts  | 1093 | 0.7051612903 |\n| Display Screen     |  438 | 0.2825806452 |\n| No ANS             |   13 | 0.0083870968 |\n| No Urdu Features   |    5 | 0.0032258065 |\n| Everything in Both |    1 | 0.0006451613 |\n\n",
            "text/html": [
              "<table class=\"dataframe\">\n",
              "<caption>A tabyl: 5 × 3</caption>\n",
              "<thead>\n",
              "\t<tr><th scope=col>df_urdu_features$answer</th><th scope=col>n</th><th scope=col>percent</th></tr>\n",
              "\t<tr><th scope=col>&lt;fct&gt;</th><th scope=col>&lt;dbl&gt;</th><th scope=col>&lt;dbl&gt;</th></tr>\n",
              "</thead>\n",
              "<tbody>\n",
              "\t<tr><td>Slips or Receipts </td><td>1093</td><td>0.7051612903</td></tr>\n",
              "\t<tr><td>Display Screen    </td><td> 438</td><td>0.2825806452</td></tr>\n",
              "\t<tr><td>No ANS            </td><td>  13</td><td>0.0083870968</td></tr>\n",
              "\t<tr><td>No Urdu Features  </td><td>   5</td><td>0.0032258065</td></tr>\n",
              "\t<tr><td>Everything in Both</td><td>   1</td><td>0.0006451613</td></tr>\n",
              "</tbody>\n",
              "</table>\n"
            ]
          },
          "metadata": {
            "tags": []
          }
        }
      ]
    },
    {
      "cell_type": "markdown",
      "metadata": {
        "id": "wN9y8N_zHHzP"
      },
      "source": [
        "##### 1.17"
      ]
    },
    {
      "cell_type": "markdown",
      "metadata": {
        "id": "9670MZ9P0CuL"
      },
      "source": [
        "##### TODO: Cleaning up other variables"
      ]
    },
    {
      "cell_type": "markdown",
      "metadata": {
        "id": "naEtdqxdJk0L"
      },
      "source": [
        "to be fixed:\n",
        "\n",
        "RESP_DESIGNATION\n",
        "ORG_TYPE\n",
        "ORG_REASON_TO_NOT_HAVE_POS\n"
      ]
    },
    {
      "cell_type": "code",
      "metadata": {
        "colab": {
          "base_uri": "https://localhost:8080/",
          "height": 170
        },
        "id": "DIlU5h9ggVNy",
        "outputId": "bc0ae2ab-406c-468b-e728-b58f41b39f10"
      },
      "source": [
        "df_with_2 %>% names()"
      ],
      "execution_count": 177,
      "outputs": [
        {
          "output_type": "display_data",
          "data": {
            "text/plain": [
              " [1] \"ORG_CITY\"                       \"ORG_POS_BUSINESS_IMPROVEMENT\"  \n",
              " [3] \"ORG_INTERNET_ACCESS\"            \"ORG_EXPAND_BUSINESS\"           \n",
              " [5] \"ORG_DELIVERY_SERVICE\"           \"ORG_CUSTOMER_DATA\"             \n",
              " [7] \"ORG_EMP_COUNT\"                  \"ORG_INTERNET_DISRUPTION\"       \n",
              " [9] \"ORG_NEW_POS_PAYMENT_PREF\"       \"ORG_NEW_POS_LANG_PREF\"         \n",
              "[11] \"ORG_OUTLETS_COUNT\"              \"ORG_NEW_POS_KIND\"              \n",
              "[13] \"ORG_WILLINGNESS_TO_PAY_AMOUNT\"  \"RESP_DESIGNATION\"              \n",
              "[15] \"ORG_POS_FEATURES\"               \"ORG_NEW_POS_DEVICES\"           \n",
              "[17] \"ORG_TYPE\"                       \"ORG_CURRENT_PAYMENT_OPTIONS\"   \n",
              "[19] \"ORG_DISCOUNTS_OFFERED\"          \"ORG_URDU_FEATURES_EXPECTED\"    \n",
              "[21] \"ORG_REASON_TO_GET_POS\"          \"ORG_REASON_TO_NOT_HAVE_POS\"    \n",
              "[23] \"ORG_WILLINGNESS_DEMO\"           \"ORG_WILLINGNESS_FUTURE_CONTACT\"\n",
              "[25] \"RESP_ID\"                       "
            ],
            "text/latex": "\\begin{enumerate*}\n\\item 'ORG\\_CITY'\n\\item 'ORG\\_POS\\_BUSINESS\\_IMPROVEMENT'\n\\item 'ORG\\_INTERNET\\_ACCESS'\n\\item 'ORG\\_EXPAND\\_BUSINESS'\n\\item 'ORG\\_DELIVERY\\_SERVICE'\n\\item 'ORG\\_CUSTOMER\\_DATA'\n\\item 'ORG\\_EMP\\_COUNT'\n\\item 'ORG\\_INTERNET\\_DISRUPTION'\n\\item 'ORG\\_NEW\\_POS\\_PAYMENT\\_PREF'\n\\item 'ORG\\_NEW\\_POS\\_LANG\\_PREF'\n\\item 'ORG\\_OUTLETS\\_COUNT'\n\\item 'ORG\\_NEW\\_POS\\_KIND'\n\\item 'ORG\\_WILLINGNESS\\_TO\\_PAY\\_AMOUNT'\n\\item 'RESP\\_DESIGNATION'\n\\item 'ORG\\_POS\\_FEATURES'\n\\item 'ORG\\_NEW\\_POS\\_DEVICES'\n\\item 'ORG\\_TYPE'\n\\item 'ORG\\_CURRENT\\_PAYMENT\\_OPTIONS'\n\\item 'ORG\\_DISCOUNTS\\_OFFERED'\n\\item 'ORG\\_URDU\\_FEATURES\\_EXPECTED'\n\\item 'ORG\\_REASON\\_TO\\_GET\\_POS'\n\\item 'ORG\\_REASON\\_TO\\_NOT\\_HAVE\\_POS'\n\\item 'ORG\\_WILLINGNESS\\_DEMO'\n\\item 'ORG\\_WILLINGNESS\\_FUTURE\\_CONTACT'\n\\item 'RESP\\_ID'\n\\end{enumerate*}\n",
            "text/markdown": "1. 'ORG_CITY'\n2. 'ORG_POS_BUSINESS_IMPROVEMENT'\n3. 'ORG_INTERNET_ACCESS'\n4. 'ORG_EXPAND_BUSINESS'\n5. 'ORG_DELIVERY_SERVICE'\n6. 'ORG_CUSTOMER_DATA'\n7. 'ORG_EMP_COUNT'\n8. 'ORG_INTERNET_DISRUPTION'\n9. 'ORG_NEW_POS_PAYMENT_PREF'\n10. 'ORG_NEW_POS_LANG_PREF'\n11. 'ORG_OUTLETS_COUNT'\n12. 'ORG_NEW_POS_KIND'\n13. 'ORG_WILLINGNESS_TO_PAY_AMOUNT'\n14. 'RESP_DESIGNATION'\n15. 'ORG_POS_FEATURES'\n16. 'ORG_NEW_POS_DEVICES'\n17. 'ORG_TYPE'\n18. 'ORG_CURRENT_PAYMENT_OPTIONS'\n19. 'ORG_DISCOUNTS_OFFERED'\n20. 'ORG_URDU_FEATURES_EXPECTED'\n21. 'ORG_REASON_TO_GET_POS'\n22. 'ORG_REASON_TO_NOT_HAVE_POS'\n23. 'ORG_WILLINGNESS_DEMO'\n24. 'ORG_WILLINGNESS_FUTURE_CONTACT'\n25. 'RESP_ID'\n\n\n",
            "text/html": [
              "<style>\n",
              ".list-inline {list-style: none; margin:0; padding: 0}\n",
              ".list-inline>li {display: inline-block}\n",
              ".list-inline>li:not(:last-child)::after {content: \"\\00b7\"; padding: 0 .5ex}\n",
              "</style>\n",
              "<ol class=list-inline><li>'ORG_CITY'</li><li>'ORG_POS_BUSINESS_IMPROVEMENT'</li><li>'ORG_INTERNET_ACCESS'</li><li>'ORG_EXPAND_BUSINESS'</li><li>'ORG_DELIVERY_SERVICE'</li><li>'ORG_CUSTOMER_DATA'</li><li>'ORG_EMP_COUNT'</li><li>'ORG_INTERNET_DISRUPTION'</li><li>'ORG_NEW_POS_PAYMENT_PREF'</li><li>'ORG_NEW_POS_LANG_PREF'</li><li>'ORG_OUTLETS_COUNT'</li><li>'ORG_NEW_POS_KIND'</li><li>'ORG_WILLINGNESS_TO_PAY_AMOUNT'</li><li>'RESP_DESIGNATION'</li><li>'ORG_POS_FEATURES'</li><li>'ORG_NEW_POS_DEVICES'</li><li>'ORG_TYPE'</li><li>'ORG_CURRENT_PAYMENT_OPTIONS'</li><li>'ORG_DISCOUNTS_OFFERED'</li><li>'ORG_URDU_FEATURES_EXPECTED'</li><li>'ORG_REASON_TO_GET_POS'</li><li>'ORG_REASON_TO_NOT_HAVE_POS'</li><li>'ORG_WILLINGNESS_DEMO'</li><li>'ORG_WILLINGNESS_FUTURE_CONTACT'</li><li>'RESP_ID'</li></ol>\n"
            ]
          },
          "metadata": {
            "tags": []
          }
        }
      ]
    },
    {
      "cell_type": "markdown",
      "metadata": {
        "id": "dRITxwqO1OJc"
      },
      "source": [
        "Dropping variables that are not yet fixed"
      ]
    },
    {
      "cell_type": "markdown",
      "metadata": {
        "id": "gOABHeju0HHY"
      },
      "source": [
        "Dropping variables not to be used in plotting"
      ]
    },
    {
      "cell_type": "code",
      "metadata": {
        "id": "mP75Tipm1I7S"
      },
      "source": [
        "#df_with_1 %>% select(! c(RESP_ID,ORG_ADDRESS,ORG_NAME,ORG_RESP_TENURE)) -> df_with_2"
      ],
      "execution_count": null,
      "outputs": []
    },
    {
      "cell_type": "code",
      "metadata": {
        "colab": {
          "base_uri": "https://localhost:8080/"
        },
        "id": "id_9O5UN0j97",
        "outputId": "fba6c27d-566a-4f43-b2b8-861b740cd311"
      },
      "source": [
        "df_with_2 %>% glimpse()"
      ],
      "execution_count": 178,
      "outputs": [
        {
          "output_type": "stream",
          "text": [
            "Rows: 1,210\n",
            "Columns: 25\n",
            "$ ORG_CITY                       \u001b[3m\u001b[90m<fct>\u001b[39m\u001b[23m Rawalpindi, Islamabad, Islamabad, Islam…\n",
            "$ ORG_POS_BUSINESS_IMPROVEMENT   \u001b[3m\u001b[90m<fct>\u001b[39m\u001b[23m Yes, Yes, Yes, Yes, Yes, Yes, Yes, Yes,…\n",
            "$ ORG_INTERNET_ACCESS            \u001b[3m\u001b[90m<fct>\u001b[39m\u001b[23m None, Mobile, Mobile, None, Mobile, Mob…\n",
            "$ ORG_EXPAND_BUSINESS            \u001b[3m\u001b[90m<fct>\u001b[39m\u001b[23m No, Y:short-term, Y:immediately, Y:long…\n",
            "$ ORG_DELIVERY_SERVICE           \u001b[3m\u001b[90m<fct>\u001b[39m\u001b[23m No, Thinking about it, Yes, No, No, No,…\n",
            "$ ORG_CUSTOMER_DATA              \u001b[3m\u001b[90m<fct>\u001b[39m\u001b[23m \"Do not Store\", \"Do not Store, Use for …\n",
            "$ ORG_EMP_COUNT                  \u001b[3m\u001b[90m<fct>\u001b[39m\u001b[23m 2, 3, 2, 1, 1, 2, 1, 1, 1, 1, 2, 3, 2, …\n",
            "$ ORG_INTERNET_DISRUPTION        \u001b[3m\u001b[90m<fct>\u001b[39m\u001b[23m Never, Little, Never, Never, Little, Li…\n",
            "$ ORG_NEW_POS_PAYMENT_PREF       \u001b[3m\u001b[90m<fct>\u001b[39m\u001b[23m One-Time, Recurring:12M, Recurring:1M, …\n",
            "$ ORG_NEW_POS_LANG_PREF          \u001b[3m\u001b[90m<fct>\u001b[39m\u001b[23m English and Urdu, English and Urdu, Eng…\n",
            "$ ORG_OUTLETS_COUNT              \u001b[3m\u001b[90m<fct>\u001b[39m\u001b[23m 1, 1, 1, 1, 1, 1, 1, 1, 1, 2, 1, 1, 1, …\n",
            "$ ORG_NEW_POS_KIND               \u001b[3m\u001b[90m<fct>\u001b[39m\u001b[23m Stand-Alone, Stand-Alone, Web-Based, St…\n",
            "$ ORG_WILLINGNESS_TO_PAY_AMOUNT  \u001b[3m\u001b[90m<fct>\u001b[39m\u001b[23m 1K, 10K, 1K, 1K, 1K, <1K, 1K, 1K, No AN…\n",
            "$ RESP_DESIGNATION               \u001b[3m\u001b[90m<fct>\u001b[39m\u001b[23m Owner, Owner, Owner, Ower, Owner, Owner…\n",
            "$ ORG_POS_FEATURES               \u001b[3m\u001b[90m<fct>\u001b[39m\u001b[23m \"Remote Management/Centralized Manageme…\n",
            "$ ORG_NEW_POS_DEVICES            \u001b[3m\u001b[90m<fct>\u001b[39m\u001b[23m \"Mobile Phone\", \"Mobile Phone, PC\", \"La…\n",
            "$ ORG_TYPE                       \u001b[3m\u001b[90m<fct>\u001b[39m\u001b[23m \"Clothing items\", \"Clothing items\", \"Ha…\n",
            "$ ORG_CURRENT_PAYMENT_OPTIONS    \u001b[3m\u001b[90m<fct>\u001b[39m\u001b[23m \"Cash\", \"Cash\", \"Cash\", \"Cash\", \"Cash\",…\n",
            "$ ORG_DISCOUNTS_OFFERED          \u001b[3m\u001b[90m<fct>\u001b[39m\u001b[23m \"Customer Discount (Based on customer r…\n",
            "$ ORG_URDU_FEATURES_EXPECTED     \u001b[3m\u001b[90m<fct>\u001b[39m\u001b[23m \"Others (Please specify) (Everything in…\n",
            "$ ORG_REASON_TO_GET_POS          \u001b[3m\u001b[90m<fct>\u001b[39m\u001b[23m \"Other (Please specify) (Customer Data,…\n",
            "$ ORG_REASON_TO_NOT_HAVE_POS     \u001b[3m\u001b[90m<fct>\u001b[39m\u001b[23m \"I am happy with how my business is man…\n",
            "$ ORG_WILLINGNESS_DEMO           \u001b[3m\u001b[90m<fct>\u001b[39m\u001b[23m \"No\", \"Yes\", \"Yes\", \"No\", \"No\", \"Yes\", …\n",
            "$ ORG_WILLINGNESS_FUTURE_CONTACT \u001b[3m\u001b[90m<fct>\u001b[39m\u001b[23m \"Yes\", \"Yes\", \"Yes\", \"Yes\", \"Yes\", \"Yes…\n",
            "$ RESP_ID                        \u001b[3m\u001b[90m<int>\u001b[39m\u001b[23m 1, 2, 3, 4, 5, 6, 7, 8, 9, 10, 11, 12, …\n"
          ],
          "name": "stdout"
        }
      ]
    },
    {
      "cell_type": "code",
      "metadata": {
        "id": "GvSTB8v_0K1K"
      },
      "source": [
        "#df_with_1 %>% select(! c(RESP_ID,ORG_ADDRESS,ORG_NAME,ORG_RESP_TENURE)) -> df_with_2"
      ],
      "execution_count": null,
      "outputs": []
    },
    {
      "cell_type": "code",
      "metadata": {
        "id": "0O6Bdy470CAR"
      },
      "source": [
        ""
      ],
      "execution_count": null,
      "outputs": []
    },
    {
      "cell_type": "markdown",
      "metadata": {
        "id": "y2Sn_DvhLz3n"
      },
      "source": [
        "### Exp Graphs Via PURRR"
      ]
    },
    {
      "cell_type": "code",
      "metadata": {
        "id": "ibXH_JYzL2YX"
      },
      "source": [
        "# ref: https://aosmith.rbind.io/2018/08/20/automating-exploratory-plots/"
      ],
      "execution_count": null,
      "outputs": []
    },
    {
      "cell_type": "code",
      "metadata": {
        "id": "lAmgRcIgL5UX",
        "colab": {
          "base_uri": "https://localhost:8080/",
          "height": 173
        },
        "outputId": "dae23fd4-9f03-469f-f1a6-02d68ecd59a4"
      },
      "source": [
        "# list of variables to plot\n",
        "colnames(df_with_2)"
      ],
      "execution_count": null,
      "outputs": [
        {
          "output_type": "display_data",
          "data": {
            "text/plain": [
              " [1] \"ORG_CITY\"                       \"ORG_POS_BUSINESS_IMPROVEMENT\"  \n",
              " [3] \"ORG_INTERNET_ACCESS\"            \"ORG_EXPAND_BUSINESS\"           \n",
              " [5] \"ORG_DELIVERY_SERVICE\"           \"ORG_CUSTOMER_DATA\"             \n",
              " [7] \"ORG_EMP_COUNT\"                  \"ORG_INTERNET_DISRUPTION\"       \n",
              " [9] \"ORG_NEW_POS_PAYMENT_PREF\"       \"ORG_NEW_POS_LANG_PREF\"         \n",
              "[11] \"ORG_OUTLETS_COUNT\"              \"ORG_NEW_POS_KIND\"              \n",
              "[13] \"ORG_WILLINGNESS_TO_PAY_AMOUNT\"  \"RESP_DESIGNATION\"              \n",
              "[15] \"ORG_POS_FEATURES\"               \"ORG_NEW_POS_DEVICES\"           \n",
              "[17] \"ORG_TYPE\"                       \"ORG_CURRENT_PAYMENT_OPTIONS\"   \n",
              "[19] \"ORG_DISCOUNTS_OFFERED\"          \"ORG_URDU_FEATURES_EXPECTED\"    \n",
              "[21] \"ORG_REASON_TO_GET_POS\"          \"ORG_REASON_TO_NOT_HAVE_POS\"    \n",
              "[23] \"ORG_WILLINGNESS_DEMO\"           \"ORG_WILLINGNESS_FUTURE_CONTACT\""
            ],
            "text/latex": "\\begin{enumerate*}\n\\item 'ORG\\_CITY'\n\\item 'ORG\\_POS\\_BUSINESS\\_IMPROVEMENT'\n\\item 'ORG\\_INTERNET\\_ACCESS'\n\\item 'ORG\\_EXPAND\\_BUSINESS'\n\\item 'ORG\\_DELIVERY\\_SERVICE'\n\\item 'ORG\\_CUSTOMER\\_DATA'\n\\item 'ORG\\_EMP\\_COUNT'\n\\item 'ORG\\_INTERNET\\_DISRUPTION'\n\\item 'ORG\\_NEW\\_POS\\_PAYMENT\\_PREF'\n\\item 'ORG\\_NEW\\_POS\\_LANG\\_PREF'\n\\item 'ORG\\_OUTLETS\\_COUNT'\n\\item 'ORG\\_NEW\\_POS\\_KIND'\n\\item 'ORG\\_WILLINGNESS\\_TO\\_PAY\\_AMOUNT'\n\\item 'RESP\\_DESIGNATION'\n\\item 'ORG\\_POS\\_FEATURES'\n\\item 'ORG\\_NEW\\_POS\\_DEVICES'\n\\item 'ORG\\_TYPE'\n\\item 'ORG\\_CURRENT\\_PAYMENT\\_OPTIONS'\n\\item 'ORG\\_DISCOUNTS\\_OFFERED'\n\\item 'ORG\\_URDU\\_FEATURES\\_EXPECTED'\n\\item 'ORG\\_REASON\\_TO\\_GET\\_POS'\n\\item 'ORG\\_REASON\\_TO\\_NOT\\_HAVE\\_POS'\n\\item 'ORG\\_WILLINGNESS\\_DEMO'\n\\item 'ORG\\_WILLINGNESS\\_FUTURE\\_CONTACT'\n\\end{enumerate*}\n",
            "text/markdown": "1. 'ORG_CITY'\n2. 'ORG_POS_BUSINESS_IMPROVEMENT'\n3. 'ORG_INTERNET_ACCESS'\n4. 'ORG_EXPAND_BUSINESS'\n5. 'ORG_DELIVERY_SERVICE'\n6. 'ORG_CUSTOMER_DATA'\n7. 'ORG_EMP_COUNT'\n8. 'ORG_INTERNET_DISRUPTION'\n9. 'ORG_NEW_POS_PAYMENT_PREF'\n10. 'ORG_NEW_POS_LANG_PREF'\n11. 'ORG_OUTLETS_COUNT'\n12. 'ORG_NEW_POS_KIND'\n13. 'ORG_WILLINGNESS_TO_PAY_AMOUNT'\n14. 'RESP_DESIGNATION'\n15. 'ORG_POS_FEATURES'\n16. 'ORG_NEW_POS_DEVICES'\n17. 'ORG_TYPE'\n18. 'ORG_CURRENT_PAYMENT_OPTIONS'\n19. 'ORG_DISCOUNTS_OFFERED'\n20. 'ORG_URDU_FEATURES_EXPECTED'\n21. 'ORG_REASON_TO_GET_POS'\n22. 'ORG_REASON_TO_NOT_HAVE_POS'\n23. 'ORG_WILLINGNESS_DEMO'\n24. 'ORG_WILLINGNESS_FUTURE_CONTACT'\n\n\n",
            "text/html": [
              "<style>\n",
              ".list-inline {list-style: none; margin:0; padding: 0}\n",
              ".list-inline>li {display: inline-block}\n",
              ".list-inline>li:not(:last-child)::after {content: \"\\00b7\"; padding: 0 .5ex}\n",
              "</style>\n",
              "<ol class=list-inline><li>'ORG_CITY'</li><li>'ORG_POS_BUSINESS_IMPROVEMENT'</li><li>'ORG_INTERNET_ACCESS'</li><li>'ORG_EXPAND_BUSINESS'</li><li>'ORG_DELIVERY_SERVICE'</li><li>'ORG_CUSTOMER_DATA'</li><li>'ORG_EMP_COUNT'</li><li>'ORG_INTERNET_DISRUPTION'</li><li>'ORG_NEW_POS_PAYMENT_PREF'</li><li>'ORG_NEW_POS_LANG_PREF'</li><li>'ORG_OUTLETS_COUNT'</li><li>'ORG_NEW_POS_KIND'</li><li>'ORG_WILLINGNESS_TO_PAY_AMOUNT'</li><li>'RESP_DESIGNATION'</li><li>'ORG_POS_FEATURES'</li><li>'ORG_NEW_POS_DEVICES'</li><li>'ORG_TYPE'</li><li>'ORG_CURRENT_PAYMENT_OPTIONS'</li><li>'ORG_DISCOUNTS_OFFERED'</li><li>'ORG_URDU_FEATURES_EXPECTED'</li><li>'ORG_REASON_TO_GET_POS'</li><li>'ORG_REASON_TO_NOT_HAVE_POS'</li><li>'ORG_WILLINGNESS_DEMO'</li><li>'ORG_WILLINGNESS_FUTURE_CONTACT'</li></ol>\n"
            ]
          },
          "metadata": {
            "tags": []
          }
        }
      ]
    },
    {
      "cell_type": "code",
      "metadata": {
        "id": "jcKS6yvbQciF",
        "colab": {
          "base_uri": "https://localhost:8080/",
          "height": 188
        },
        "outputId": "e7ce4620-5c43-4cec-febd-3a8c406df94a"
      },
      "source": [
        "uni_var = c( \n",
        "'ORG_POS_BUSINESS_IMPROVEMENT',\n",
        "'ORG_INTERNET_ACCESS',\n",
        "'ORG_EXPAND_BUSINESS',\n",
        "'ORG_DELIVERY_SERVICE',\n",
        "'ORG_EMP_COUNT',\n",
        "'ORG_INTERNET_DISRUPTION',\n",
        "'ORG_NEW_POS_PAYMENT_PREF',\n",
        "'ORG_NEW_POS_LANG_PREF',\n",
        "'ORG_OUTLETS_COUNT',\n",
        "'ORG_NEW_POS_KIND',\n",
        "#'ORG_WILLINGNESS_TO_PAY_AMOUNT',\n",
        "#'RESP_DESIGNATION',\n",
        "#'ORG_POS_FEATURES',\n",
        "#'ORG_NEW_POS_DEVICES',\n",
        "#'ORG_TYPE',\n",
        "#'ORG_CURRENT_PAYMENT_OPTIONS',\n",
        "#'ORG_DISCOUNTS_OFFERED',\n",
        "#'ORG_URDU_FEATURES_EXPECTED',\n",
        "#'ORG_REASON_TO_GET_POS',\n",
        "#'ORG_REASON_TO_NOT_HAVE_POS',\n",
        "'ORG_WILLINGNESS_DEMO',\n",
        "'ORG_WILLINGNESS_FUTURE_CONTACT')\n",
        "uni_var = set_names(uni_var)\n",
        "uni_var"
      ],
      "execution_count": 179,
      "outputs": [
        {
          "output_type": "display_data",
          "data": {
            "text/plain": [
              "    ORG_POS_BUSINESS_IMPROVEMENT              ORG_INTERNET_ACCESS \n",
              "  \"ORG_POS_BUSINESS_IMPROVEMENT\"            \"ORG_INTERNET_ACCESS\" \n",
              "             ORG_EXPAND_BUSINESS             ORG_DELIVERY_SERVICE \n",
              "           \"ORG_EXPAND_BUSINESS\"           \"ORG_DELIVERY_SERVICE\" \n",
              "                   ORG_EMP_COUNT          ORG_INTERNET_DISRUPTION \n",
              "                 \"ORG_EMP_COUNT\"        \"ORG_INTERNET_DISRUPTION\" \n",
              "        ORG_NEW_POS_PAYMENT_PREF            ORG_NEW_POS_LANG_PREF \n",
              "      \"ORG_NEW_POS_PAYMENT_PREF\"          \"ORG_NEW_POS_LANG_PREF\" \n",
              "               ORG_OUTLETS_COUNT                 ORG_NEW_POS_KIND \n",
              "             \"ORG_OUTLETS_COUNT\"               \"ORG_NEW_POS_KIND\" \n",
              "            ORG_WILLINGNESS_DEMO   ORG_WILLINGNESS_FUTURE_CONTACT \n",
              "          \"ORG_WILLINGNESS_DEMO\" \"ORG_WILLINGNESS_FUTURE_CONTACT\" "
            ],
            "text/latex": "\\begin{description*}\n\\item[ORG\\textbackslash{}\\_POS\\textbackslash{}\\_BUSINESS\\textbackslash{}\\_IMPROVEMENT] 'ORG\\_POS\\_BUSINESS\\_IMPROVEMENT'\n\\item[ORG\\textbackslash{}\\_INTERNET\\textbackslash{}\\_ACCESS] 'ORG\\_INTERNET\\_ACCESS'\n\\item[ORG\\textbackslash{}\\_EXPAND\\textbackslash{}\\_BUSINESS] 'ORG\\_EXPAND\\_BUSINESS'\n\\item[ORG\\textbackslash{}\\_DELIVERY\\textbackslash{}\\_SERVICE] 'ORG\\_DELIVERY\\_SERVICE'\n\\item[ORG\\textbackslash{}\\_EMP\\textbackslash{}\\_COUNT] 'ORG\\_EMP\\_COUNT'\n\\item[ORG\\textbackslash{}\\_INTERNET\\textbackslash{}\\_DISRUPTION] 'ORG\\_INTERNET\\_DISRUPTION'\n\\item[ORG\\textbackslash{}\\_NEW\\textbackslash{}\\_POS\\textbackslash{}\\_PAYMENT\\textbackslash{}\\_PREF] 'ORG\\_NEW\\_POS\\_PAYMENT\\_PREF'\n\\item[ORG\\textbackslash{}\\_NEW\\textbackslash{}\\_POS\\textbackslash{}\\_LANG\\textbackslash{}\\_PREF] 'ORG\\_NEW\\_POS\\_LANG\\_PREF'\n\\item[ORG\\textbackslash{}\\_OUTLETS\\textbackslash{}\\_COUNT] 'ORG\\_OUTLETS\\_COUNT'\n\\item[ORG\\textbackslash{}\\_NEW\\textbackslash{}\\_POS\\textbackslash{}\\_KIND] 'ORG\\_NEW\\_POS\\_KIND'\n\\item[ORG\\textbackslash{}\\_WILLINGNESS\\textbackslash{}\\_DEMO] 'ORG\\_WILLINGNESS\\_DEMO'\n\\item[ORG\\textbackslash{}\\_WILLINGNESS\\textbackslash{}\\_FUTURE\\textbackslash{}\\_CONTACT] 'ORG\\_WILLINGNESS\\_FUTURE\\_CONTACT'\n\\end{description*}\n",
            "text/markdown": "ORG_POS_BUSINESS_IMPROVEMENT\n:   'ORG_POS_BUSINESS_IMPROVEMENT'ORG_INTERNET_ACCESS\n:   'ORG_INTERNET_ACCESS'ORG_EXPAND_BUSINESS\n:   'ORG_EXPAND_BUSINESS'ORG_DELIVERY_SERVICE\n:   'ORG_DELIVERY_SERVICE'ORG_EMP_COUNT\n:   'ORG_EMP_COUNT'ORG_INTERNET_DISRUPTION\n:   'ORG_INTERNET_DISRUPTION'ORG_NEW_POS_PAYMENT_PREF\n:   'ORG_NEW_POS_PAYMENT_PREF'ORG_NEW_POS_LANG_PREF\n:   'ORG_NEW_POS_LANG_PREF'ORG_OUTLETS_COUNT\n:   'ORG_OUTLETS_COUNT'ORG_NEW_POS_KIND\n:   'ORG_NEW_POS_KIND'ORG_WILLINGNESS_DEMO\n:   'ORG_WILLINGNESS_DEMO'ORG_WILLINGNESS_FUTURE_CONTACT\n:   'ORG_WILLINGNESS_FUTURE_CONTACT'\n\n",
            "text/html": [
              "<style>\n",
              ".dl-inline {width: auto; margin:0; padding: 0}\n",
              ".dl-inline>dt, .dl-inline>dd {float: none; width: auto; display: inline-block}\n",
              ".dl-inline>dt::after {content: \":\\0020\"; padding-right: .5ex}\n",
              ".dl-inline>dt:not(:first-of-type) {padding-left: .5ex}\n",
              "</style><dl class=dl-inline><dt>ORG_POS_BUSINESS_IMPROVEMENT</dt><dd>'ORG_POS_BUSINESS_IMPROVEMENT'</dd><dt>ORG_INTERNET_ACCESS</dt><dd>'ORG_INTERNET_ACCESS'</dd><dt>ORG_EXPAND_BUSINESS</dt><dd>'ORG_EXPAND_BUSINESS'</dd><dt>ORG_DELIVERY_SERVICE</dt><dd>'ORG_DELIVERY_SERVICE'</dd><dt>ORG_EMP_COUNT</dt><dd>'ORG_EMP_COUNT'</dd><dt>ORG_INTERNET_DISRUPTION</dt><dd>'ORG_INTERNET_DISRUPTION'</dd><dt>ORG_NEW_POS_PAYMENT_PREF</dt><dd>'ORG_NEW_POS_PAYMENT_PREF'</dd><dt>ORG_NEW_POS_LANG_PREF</dt><dd>'ORG_NEW_POS_LANG_PREF'</dd><dt>ORG_OUTLETS_COUNT</dt><dd>'ORG_OUTLETS_COUNT'</dd><dt>ORG_NEW_POS_KIND</dt><dd>'ORG_NEW_POS_KIND'</dd><dt>ORG_WILLINGNESS_DEMO</dt><dd>'ORG_WILLINGNESS_DEMO'</dd><dt>ORG_WILLINGNESS_FUTURE_CONTACT</dt><dd>'ORG_WILLINGNESS_FUTURE_CONTACT'</dd></dl>\n"
            ]
          },
          "metadata": {
            "tags": []
          }
        }
      ]
    },
    {
      "cell_type": "markdown",
      "metadata": {
        "id": "0KuSu0tPVbxk"
      },
      "source": [
        "TODO"
      ]
    },
    {
      "cell_type": "code",
      "metadata": {
        "id": "yf7OVx4hVdsb"
      },
      "source": [
        "# variables to fix (multiple choice options)\n",
        "\n",
        "## removed from with pos data, multiple choice or non-relevant\n",
        "# 'ORG_ADDRESS'\n",
        "# 'ORG_CITY' --> No point faceting City on city\n",
        "# 'ORG_CUSTOMER_DATA',\n",
        "# 'ORG_NAME',\n",
        "# 'ORG_RESP_TENURE',\n",
        "# 'ORG_WILLINGNESS_TO_PAY_AMOUNT',\n",
        "# 'SB_OBSERVATION',\n",
        "# 'ORG_PICTURE_LINK',\n",
        "# 'ORG_VISITING_CARD',\n",
        "# 'SB_REGION',\n",
        "# 'RESP_DESIGNATION',\n",
        "# 'RESP_NAME',\n",
        "# 'RESP_PHONE',\n",
        "# 'ORG_NEW_POS_DEVICES',\n",
        "# 'ORG_POS_FEATURES',\n",
        "# 'ORG_TYPE',\n",
        "# 'ORG_CURRENT_PAYMENT_OPTIONS',\n",
        "# 'ORG_DISCOUNTS_OFFERED',\n",
        "# 'ORG_URDU_FEATURES_EXPECTED',\n",
        "# 'ORG_REASON_TO_GET_POS',\n",
        "# 'ORG_REASON_TO_NOT_HAVE_POS',\n",
        "\n",
        "\n",
        "\n",
        "\n",
        "\n",
        "\n",
        "\n",
        "\n",
        "## removed from with pos data, multiple choice or non-relevant\n",
        "# ORG_TYPE\n",
        "# ORG_DISCOUNTS_OFFERED\n",
        "# ORG_CUSTOMER_DATA\n",
        "# ORG_POS_FEATURES\n",
        "# ORG_OLD_POS_PAYMENT_OPTIONS\n",
        "# ORG_OLD_POS_DEVICES\n",
        "# ORG_OLD_POS_URDU_FEATURES\n",
        "# ORG_REASON_TO_REPLACE_POS\n",
        "# ORG_WILLINGNESS_TO_PAY_AMOUNT\n",
        "# ORG_OLD_POS_PROVIDER_PAYMENT_METHOD"
      ],
      "execution_count": null,
      "outputs": []
    },
    {
      "cell_type": "markdown",
      "metadata": {
        "id": "l948xQo-RAm-"
      },
      "source": [
        "#### Plotting WorkHorse"
      ]
    },
    {
      "cell_type": "code",
      "metadata": {
        "id": "Sz07kzBLQ1Ml"
      },
      "source": [
        "bar_fun = function(x, y) {\n",
        "     ggplot(df_3, aes(x = .data[[x]]) ) +\n",
        "     geom_bar(aes(fill = .data[[x]]), position = \"dodge\") +\n",
        "     facet_wrap(~ .data[[y]]) +\n",
        "     \n",
        "     # bars are too little to add data labels\n",
        "     labs(x = x, y = \"COUNT\") +\n",
        "     scale_fill_brewer(palette = \"Set2\") +\n",
        "     theme_light() +\n",
        "     theme(axis.text.x = element_text(angle = 90, vjust = 0.5, hjust=1)) +\n",
        "     theme(strip.text = element_text(face = \"bold\", size = rel(1.5)),\n",
        "     strip.background = element_rect(fill = \"lightgrey\", colour = \"black\", size = 1),\n",
        "     axis.title.y = element_blank(),\n",
        "     legend.position = \"none\"\n",
        "  )\n",
        "}"
      ],
      "execution_count": 182,
      "outputs": []
    },
    {
      "cell_type": "code",
      "metadata": {
        "id": "5gFrO_HGR6k5"
      },
      "source": [
        "#bar_fun(\"ORG_DELIVERY_SERVICE\", \"ORG_CITY\")"
      ],
      "execution_count": 181,
      "outputs": []
    },
    {
      "cell_type": "markdown",
      "metadata": {
        "id": "-hGhaVrRScdj"
      },
      "source": [
        "#### Plotting WorkHorse (Proportions)"
      ]
    },
    {
      "cell_type": "markdown",
      "metadata": {
        "id": "6pedrKVN5qaM"
      },
      "source": [
        "remember to change the hard-coded df in this function"
      ]
    },
    {
      "cell_type": "code",
      "metadata": {
        "id": "ePDwMUqKuk96"
      },
      "source": [
        "bar_prop_fun = function(x, y) {\n",
        "  \n",
        "    ggplot(df_with_2, aes(x = .data[[x]], group = .data[[y]]) ) + \n",
        "    geom_bar(aes(y = ..prop.., fill = factor(..x..)), stat=\"count\") +\n",
        "    geom_text(aes( label = scales::percent(..prop..,accuracy=0.1),\n",
        "                  y= ..prop.. ), stat= \"count\", \n",
        "                  vjust = -.5, size=2 ) +\n",
        "    facet_grid(~ .data[[y]]) +\n",
        "    scale_y_continuous(labels = scales::percent) +\n",
        "\n",
        "    # bars are too little to add data labels\n",
        "     labs(x = x, y = \"COUNT\") +\n",
        "     scale_fill_brewer(palette = \"Set2\") +\n",
        "     theme_light() +\n",
        "     theme(axis.text.x = element_text(angle = 90, vjust = 0.5, hjust=1, size = 5)) +\n",
        "     theme(strip.text = element_text(face = \"bold\", size = rel(1.5)),\n",
        "     strip.background = element_rect(fill = \"lightgrey\", colour = \"black\", size = 1),\n",
        "     axis.title.y = element_blank(),\n",
        "     legend.position = \"none\")\n",
        "}"
      ],
      "execution_count": 183,
      "outputs": []
    },
    {
      "cell_type": "code",
      "metadata": {
        "id": "TRbTYqVuTZ6T",
        "colab": {
          "base_uri": "https://localhost:8080/",
          "height": 437
        },
        "outputId": "732b78ea-a5ca-4822-91b4-51c5a1008370"
      },
      "source": [
        "bar_prop_fun(\"ORG_INTERNET_DISRUPTION\",\"ORG_CITY\")"
      ],
      "execution_count": null,
      "outputs": [
        {
          "output_type": "display_data",
          "data": {
            "image/png": "[encoded data removed]",
            "text/plain": [
              "plot without title"
            ]
          },
          "metadata": {
            "tags": [],
            "image/png": {
              "width": 420,
              "height": 420
            }
          }
        }
      ]
    },
    {
      "cell_type": "code",
      "metadata": {
        "id": "7ttgNi7xSfI6"
      },
      "source": [
        "\n",
        "# Now using MAP, fixing facet variable to ORG_CITY\n",
        "#uni_plots = map(uni_var, ~bar_fun(.x, \"ORG_CITY\") )\n",
        "uni_plots = map(uni_var, ~bar_prop_fun(.x, \"ORG_CITY\") )"
      ],
      "execution_count": 184,
      "outputs": []
    },
    {
      "cell_type": "code",
      "metadata": {
        "id": "FCt_SrrNSwZf",
        "colab": {
          "base_uri": "https://localhost:8080/",
          "height": 1000
        },
        "outputId": "af391ec0-8dcd-4fb6-b5a5-c281164aef8b"
      },
      "source": [
        "uni_plots"
      ],
      "execution_count": 185,
      "outputs": [
        {
          "output_type": "display_data",
          "data": {
            "image/png": "[encoded data removed]",
            "text/plain": [
              "plot without title"
            ]
          },
          "metadata": {
            "tags": [],
            "image/png": {
              "width": 420,
              "height": 420
            }
          }
        },
        {
          "output_type": "display_data",
          "data": {
            "image/png": "[encoded data removed]",
            "text/plain": [
              "plot without title"
            ]
          },
          "metadata": {
            "tags": [],
            "image/png": {
              "width": 420,
              "height": 420
            }
          }
        },
        {
          "output_type": "display_data",
          "data": {
            "image/png": "[encoded data removed]",
            "text/plain": [
              "plot without title"
            ]
          },
          "metadata": {
            "tags": [],
            "image/png": {
              "width": 420,
              "height": 420
            }
          }
        },
        {
          "output_type": "stream",
          "text": [
            "Warning message in RColorBrewer::brewer.pal(n, pal):\n",
            "“n too large, allowed maximum for palette Set2 is 8\n",
            "Returning the palette you asked for with that many colors\n",
            "”\n"
          ],
          "name": "stderr"
        },
        {
          "output_type": "display_data",
          "data": {
            "image/png": "[encoded data removed]",
            "text/plain": [
              "plot without title"
            ]
          },
          "metadata": {
            "tags": [],
            "image/png": {
              "width": 420,
              "height": 420
            }
          }
        },
        {
          "output_type": "display_data",
          "data": {
            "image/png": "[encoded data removed]",
            "text/plain": [
              "plot without title"
            ]
          },
          "metadata": {
            "tags": [],
            "image/png": {
              "width": 420,
              "height": 420
            }
          }
        },
        {
          "output_type": "display_data",
          "data": {
            "image/png": "[encoded data removed]",
            "text/plain": [
              "plot without title"
            ]
          },
          "metadata": {
            "tags": [],
            "image/png": {
              "width": 420,
              "height": 420
            }
          }
        },
        {
          "output_type": "display_data",
          "data": {
            "image/png": "[encoded data removed]",
            "text/plain": [
              "plot without title"
            ]
          },
          "metadata": {
            "tags": [],
            "image/png": {
              "width": 420,
              "height": 420
            }
          }
        },
        {
          "output_type": "display_data",
          "data": {
            "image/png": "[encoded data removed]",
            "text/plain": [
              "plot without title"
            ]
          },
          "metadata": {
            "tags": [],
            "image/png": {
              "width": 420,
              "height": 420
            }
          }
        },
        {
          "output_type": "display_data",
          "data": {
            "image/png": "[encoded data removed]",
            "text/plain": [
              "plot without title"
            ]
          },
          "metadata": {
            "tags": [],
            "image/png": {
              "width": 420,
              "height": 420
            }
          }
        },
        {
          "output_type": "display_data",
          "data": {
            "image/png": "[encoded data removed]",
            "text/plain": [
              "plot without title"
            ]
          },
          "metadata": {
            "tags": [],
            "image/png": {
              "width": 420,
              "height": 420
            }
          }
        },
        {
          "output_type": "display_data",
          "data": {
            "text/plain": [
              "$ORG_POS_BUSINESS_IMPROVEMENT\n",
              "\n",
              "$ORG_INTERNET_ACCESS\n",
              "\n",
              "$ORG_EXPAND_BUSINESS\n",
              "\n",
              "$ORG_DELIVERY_SERVICE\n",
              "\n",
              "$ORG_EMP_COUNT\n",
              "\n",
              "$ORG_INTERNET_DISRUPTION\n",
              "\n",
              "$ORG_NEW_POS_PAYMENT_PREF\n",
              "\n",
              "$ORG_NEW_POS_LANG_PREF\n",
              "\n",
              "$ORG_OUTLETS_COUNT\n",
              "\n",
              "$ORG_NEW_POS_KIND\n",
              "\n",
              "$ORG_WILLINGNESS_DEMO\n",
              "\n",
              "$ORG_WILLINGNESS_FUTURE_CONTACT\n"
            ]
          },
          "metadata": {
            "tags": []
          }
        },
        {
          "output_type": "display_data",
          "data": {
            "image/png": "[encoded data removed]",
            "text/plain": [
              "plot without title"
            ]
          },
          "metadata": {
            "tags": [],
            "image/png": {
              "width": 420,
              "height": 420
            }
          }
        },
        {
          "output_type": "display_data",
          "data": {
            "image/png": "[encoded data removed]",
            "text/plain": [
              "plot without title"
            ]
          },
          "metadata": {
            "tags": [],
            "image/png": {
              "width": 420,
              "height": 420
            }
          }
        }
      ]
    },
    {
      "cell_type": "code",
      "metadata": {
        "id": "mYQR5AUK44FP"
      },
      "source": [
        "# SB_REGION should be plotted, without facetting\n",
        "#'SB_REGION'"
      ],
      "execution_count": null,
      "outputs": []
    },
    {
      "cell_type": "code",
      "metadata": {
        "id": "9dNYwPqgS853",
        "colab": {
          "base_uri": "https://localhost:8080/",
          "height": 509
        },
        "outputId": "1099719d-a9ae-4f6a-fc8b-07bbcb599b55"
      },
      "source": [
        "# printing the plots\n",
        "st=format(Sys.time(), \"%Y-%m-%d_%H:%M\")\n",
        "survey_plot_file = paste (\"Plots_\", \"WithPOS_\",st, \".pdf\", sep=\"\")\n",
        "#pdf(\"Analysis_WithPOS_v6.pdf\")\n",
        "pdf(survey_plot_file)\n",
        "uni_plots\n",
        "dev.off()"
      ],
      "execution_count": 186,
      "outputs": [
        {
          "output_type": "stream",
          "text": [
            "Warning message in RColorBrewer::brewer.pal(n, pal):\n",
            "“n too large, allowed maximum for palette Set2 is 8\n",
            "Returning the palette you asked for with that many colors\n",
            "”\n"
          ],
          "name": "stderr"
        },
        {
          "output_type": "display_data",
          "data": {
            "text/plain": [
              "$ORG_POS_BUSINESS_IMPROVEMENT\n",
              "\n",
              "$ORG_INTERNET_ACCESS\n",
              "\n",
              "$ORG_EXPAND_BUSINESS\n",
              "\n",
              "$ORG_DELIVERY_SERVICE\n",
              "\n",
              "$ORG_EMP_COUNT\n",
              "\n",
              "$ORG_INTERNET_DISRUPTION\n",
              "\n",
              "$ORG_NEW_POS_PAYMENT_PREF\n",
              "\n",
              "$ORG_NEW_POS_LANG_PREF\n",
              "\n",
              "$ORG_OUTLETS_COUNT\n",
              "\n",
              "$ORG_NEW_POS_KIND\n",
              "\n",
              "$ORG_WILLINGNESS_DEMO\n",
              "\n",
              "$ORG_WILLINGNESS_FUTURE_CONTACT\n"
            ]
          },
          "metadata": {
            "tags": []
          }
        },
        {
          "output_type": "display_data",
          "data": {
            "text/plain": [
              "png \n",
              "  2 "
            ],
            "text/latex": "\\textbf{png:} 2",
            "text/markdown": "**png:** 2",
            "text/html": [
              "<strong>png:</strong> 2"
            ]
          },
          "metadata": {
            "tags": []
          }
        }
      ]
    },
    {
      "cell_type": "markdown",
      "metadata": {
        "id": "NrkfKrt6WLOz"
      },
      "source": [
        "# Dumping Data for Further Analysis"
      ]
    },
    {
      "cell_type": "code",
      "metadata": {
        "colab": {
          "base_uri": "https://localhost:8080/"
        },
        "id": "sYb2QTJxWOFQ",
        "outputId": "68e75033-a280-400d-85d0-8ebca41b5381"
      },
      "source": [
        "#st=format(Sys.Date(), \"%Y%b%d\") # Alphabetic Month Name\n",
        "st=format(Sys.time(), \"%Y-%m-%d_%H:%M\")\n",
        "survey_data_file = paste (\"SurveyData-\", \"withPOS-\",st, \".xlsx\", sep=\"\")\n",
        "print(survey_data_file)"
      ],
      "execution_count": 187,
      "outputs": [
        {
          "output_type": "stream",
          "text": [
            "[1] \"SurveyData-withPOS-2021-05-18_03:26.xlsx\"\n"
          ],
          "name": "stdout"
        }
      ]
    },
    {
      "cell_type": "code",
      "metadata": {
        "colab": {
          "base_uri": "https://localhost:8080/"
        },
        "id": "nyZPXIzTiHC4",
        "outputId": "3339ee19-f019-476f-9adc-971fcbd94c45"
      },
      "source": [
        "#detach(\"package:openxlsx\", unload=TRUE)\n",
        "\n",
        "#install.packages(\"openxlsx\")\n",
        "\n",
        "#library(openxlsx)"
      ],
      "execution_count": 192,
      "outputs": [
        {
          "output_type": "stream",
          "text": [
            "Installing package into ‘/usr/local/lib/R/site-library’\n",
            "(as ‘lib’ is unspecified)\n",
            "\n",
            "\n",
            "Attaching package: ‘openxlsx’\n",
            "\n",
            "\n",
            "The following objects are masked from ‘package:xlsx’:\n",
            "\n",
            "    createWorkbook, loadWorkbook, read.xlsx, saveWorkbook, write.xlsx\n",
            "\n",
            "\n"
          ],
          "name": "stderr"
        }
      ]
    },
    {
      "cell_type": "code",
      "metadata": {
        "id": "W5BiGFYiWmRh"
      },
      "source": [
        "## Create a new workbook\n",
        "wb <- createWorkbook()\n",
        "## Add 1 worksheets\n",
        "addWorksheet(wb, \"All POS Survey\")\n",
        "writeData(wb, \"All POS Survey\", df_with_2)\n",
        "#saveWorkbook(wb, \"SurveyData-20201028-North.xlsx\", overwrite = TRUE)\n",
        "saveWorkbook(wb, survey_data_file, overwrite = TRUE)"
      ],
      "execution_count": 193,
      "outputs": []
    },
    {
      "cell_type": "markdown",
      "metadata": {
        "id": "vwYH19eoWqJ5"
      },
      "source": [
        "# Summary\n",
        " The above analysis is for 'With POS'\n",
        "\n",
        " It excludes uni-var analysis for certain variables - (multiple choice options):\n",
        "\n",
        "1.   ORG_TYPE\n",
        "2.   ORG_DISCOUNTS_OFFERED\n",
        "3.   ORG_CUSTOMER_DATA\n",
        "4.   ORG_POS_FEATURES\n",
        "5.   ORG_OLD_POS_PAYMENT_OPTIONS\n",
        "6.   ORG_OLD_POS_DEVICES\n",
        "7.   ORG_OLD_POS_URDU_FEATURES\n",
        "8.   ORG_REASON_TO_REPLACE_POS\n",
        "9.   ORG_WILLINGNESS_TO_PAY_AMOUNT\n",
        "10.   ORG_OLD_POS_PROVIDER_PAYMENT_METHOD\n",
        "\n",
        "\n",
        "\n",
        "\n",
        "## ToDO\n",
        "\n",
        "Fix uni-var analysis\n",
        "\n"
      ]
    },
    {
      "cell_type": "code",
      "metadata": {
        "id": "79wWquLWXH6Z"
      },
      "source": [
        ""
      ],
      "execution_count": null,
      "outputs": []
    },
    {
      "cell_type": "code",
      "metadata": {
        "id": "2pUiiHdkyT_4"
      },
      "source": [
        ""
      ],
      "execution_count": null,
      "outputs": []
    }
  ]
}