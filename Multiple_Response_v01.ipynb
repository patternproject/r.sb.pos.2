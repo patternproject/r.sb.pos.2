{
  "nbformat": 4,
  "nbformat_minor": 0,
  "metadata": {
    "colab": {
      "name": "Multiple Response - v01.ipynb",
      "provenance": [],
      "authorship_tag": "ABX9TyMzl+eZjS3iZjLUtVjIw94M",
      "include_colab_link": true
    },
    "kernelspec": {
      "name": "ir",
      "display_name": "R"
    },
    "language_info": {
      "name": "R"
    }
  },
  "cells": [
    {
      "cell_type": "markdown",
      "metadata": {
        "id": "view-in-github",
        "colab_type": "text"
      },
      "source": [
        "<a href=\"https://colab.research.google.com/github/patternproject/r.sb.pos.2/blob/main/Multiple_Response_v01.ipynb\" target=\"_parent\"><img src=\"https://colab.research.google.com/assets/colab-badge.svg\" alt=\"Open In Colab\"/></a>"
      ]
    },
    {
      "cell_type": "markdown",
      "metadata": {
        "id": "HAq6TUs5ALeo"
      },
      "source": [
        "# Read Me\n",
        "\n",
        "Good Resources:\n",
        "1. http://varianceexplained.org/r/stacksurveyr/ [1]\n",
        "\n",
        "2. https://github.com/dgrtwo/stacksurveyr [2]\n",
        "\n",
        "\n",
        "In short: \n",
        "\n",
        "1. Categorize each question as one of the three:\n",
        "\n",
        "*   single columns have a single answer on a multiple choice question\n",
        "\n",
        "*   multi columns allowed multiple answers, which are delimited by ; in the text\n",
        "\n",
        "*   inferred columns are not themselves survey questions, but are processed versions of other answers\n",
        "\n",
        "\n",
        "2. Explore <Examples: Multi-response answers> in [2]\n"
      ]
    },
    {
      "cell_type": "markdown",
      "metadata": {
        "id": "sLygxYLWBwwv"
      },
      "source": [
        "# Version History"
      ]
    },
    {
      "cell_type": "markdown",
      "metadata": {
        "id": "kKY6kVTtBzzT"
      },
      "source": [
        "\n",
        "\n",
        "*   v01: Copy Paste from the Original Source\n",
        "*   v02: \n",
        "\n"
      ]
    },
    {
      "cell_type": "markdown",
      "metadata": {
        "id": "zyHbzeOaAO7j"
      },
      "source": [
        "## Setup"
      ]
    },
    {
      "cell_type": "code",
      "metadata": {
        "id": "34ZF9RWhAHCA"
      },
      "source": [
        ""
      ],
      "execution_count": null,
      "outputs": []
    },
    {
      "cell_type": "code",
      "metadata": {
        "colab": {
          "base_uri": "https://localhost:8080/"
        },
        "id": "nDs6GRJ__2f_",
        "outputId": "2a4e1856-1465-4e3e-f3e8-e50cd2a70880"
      },
      "source": [
        "install.packages('devtools')"
      ],
      "execution_count": 2,
      "outputs": [
        {
          "output_type": "stream",
          "text": [
            "Installing package into ‘/usr/local/lib/R/site-library’\n",
            "(as ‘lib’ is unspecified)\n",
            "\n"
          ],
          "name": "stderr"
        }
      ]
    },
    {
      "cell_type": "code",
      "metadata": {
        "colab": {
          "base_uri": "https://localhost:8080/"
        },
        "id": "ZZ3i53KhARo5",
        "outputId": "9848175a-3615-4ff2-9904-a11d21a353e8"
      },
      "source": [
        "devtools::install_github(\"dgrtwo/stacksurveyr\",upgrade = \"never\")"
      ],
      "execution_count": 3,
      "outputs": [
        {
          "output_type": "stream",
          "text": [
            "Downloading GitHub repo dgrtwo/stacksurveyr@HEAD\n",
            "\n"
          ],
          "name": "stderr"
        },
        {
          "output_type": "stream",
          "text": [
            "\u001b[32m✔\u001b[39m  \u001b[90mchecking for file ‘/tmp/RtmpXBN1m0/remotes3b3399e048/dgrtwo-stacksurveyr-633cf35/DESCRIPTION’\u001b[39m\u001b[36m\u001b[39m\n",
            "\u001b[90m─\u001b[39m\u001b[90m  \u001b[39m\u001b[90mpreparing ‘stacksurveyr’:\u001b[39m\u001b[36m\u001b[39m\n",
            "\u001b[32m✔\u001b[39m  \u001b[90mchecking DESCRIPTION meta-information\u001b[39m\u001b[36m\u001b[39m\n",
            "\u001b[90m─\u001b[39m\u001b[90m  \u001b[39m\u001b[90mchecking for LF line-endings in source and make files and shell scripts\u001b[39m\u001b[36m\u001b[39m\n",
            "\u001b[90m─\u001b[39m\u001b[90m  \u001b[39m\u001b[90mchecking for empty or unneeded directories\u001b[39m\u001b[36m\u001b[39m\n",
            "\u001b[90m─\u001b[39m\u001b[90m  \u001b[39m\u001b[90mbuilding ‘stacksurveyr_0.1.0.tar.gz’\u001b[39m\u001b[36m\u001b[39m\n",
            "   \n"
          ],
          "name": "stdout"
        },
        {
          "output_type": "stream",
          "text": [
            "Installing package into ‘/usr/local/lib/R/site-library’\n",
            "(as ‘lib’ is unspecified)\n",
            "\n"
          ],
          "name": "stderr"
        }
      ]
    },
    {
      "cell_type": "code",
      "metadata": {
        "colab": {
          "base_uri": "https://localhost:8080/"
        },
        "id": "bKNAM-1GAYnP",
        "outputId": "cb1ae2d0-807c-466e-f1e3-98da77d1476d"
      },
      "source": [
        "library(dplyr)\n",
        "library(stacksurveyr)"
      ],
      "execution_count": 4,
      "outputs": [
        {
          "output_type": "stream",
          "text": [
            "\n",
            "Attaching package: ‘dplyr’\n",
            "\n",
            "\n",
            "The following objects are masked from ‘package:stats’:\n",
            "\n",
            "    filter, lag\n",
            "\n",
            "\n",
            "The following objects are masked from ‘package:base’:\n",
            "\n",
            "    intersect, setdiff, setequal, union\n",
            "\n",
            "\n"
          ],
          "name": "stderr"
        }
      ]
    },
    {
      "cell_type": "code",
      "metadata": {
        "id": "YAPUlxHyAtFY"
      },
      "source": [
        "library(ggplot2)\n",
        "library(scales)\n"
      ],
      "execution_count": 6,
      "outputs": []
    },
    {
      "cell_type": "markdown",
      "metadata": {
        "id": "krfxSAzpA-Iu"
      },
      "source": [
        "10 of the questions allow multiple responses, as can be noted in the stack_schema variable:"
      ]
    },
    {
      "cell_type": "code",
      "metadata": {
        "colab": {
          "base_uri": "https://localhost:8080/",
          "height": 474
        },
        "id": "ZKeE2rZ1A0X0",
        "outputId": "a3036d84-2949-4855-f706-b80da499eb17"
      },
      "source": [
        "stack_schema %>%\n",
        "  filter(type == \"multi\")"
      ],
      "execution_count": 7,
      "outputs": [
        {
          "output_type": "display_data",
          "data": {
            "text/plain": [
              "   column                           type \n",
              "1  self_identification              multi\n",
              "2  tech_do                          multi\n",
              "3  tech_want                        multi\n",
              "4  dev_environment                  multi\n",
              "5  education                        multi\n",
              "6  new_job_value                    multi\n",
              "7  how_to_improve_interview_process multi\n",
              "8  star_wars_vs_star_trek           multi\n",
              "9  developer_challenges             multi\n",
              "10 why_stack_overflow               multi\n",
              "   question                                                                                                                           \n",
              "1  What do you consider yourself? (select all that apply)                                                                             \n",
              "2  Which of the following languages or technologies have you done extensive development with in the last year? (select all that apply)\n",
              "3  Which of the following languages or technologies do you WANT to work with this year? (select all that apply)                       \n",
              "4  What development environments do you use regularly? (select all that apply)                                                        \n",
              "5  What amount of formal or professional programming training have you received? (select all that apply)                              \n",
              "6  When evaluating a new employment opportunity what's most important to you? (select up to 3)                                        \n",
              "7  How can companies improve the interview process? (select up to 3)                                                                  \n",
              "8  Star Wars or Star Trek?                                                                                                            \n",
              "9  What are the biggest challenges you face as a developer? (select up to 3)                                                          \n",
              "10 Why do you use Stack Overflow? (select all that apply)                                                                             \n",
              "   description\n",
              "1  NA         \n",
              "2  NA         \n",
              "3  NA         \n",
              "4  NA         \n",
              "5  NA         \n",
              "6  NA         \n",
              "7  NA         \n",
              "8  NA         \n",
              "9  NA         \n",
              "10 NA         "
            ],
            "text/latex": "A tibble: 10 × 4\n\\begin{tabular}{llll}\n column & type & question & description\\\\\n <chr> & <chr> & <chr> & <chr>\\\\\n\\hline\n\t self\\_identification              & multi & What do you consider yourself? (select all that apply)                                                                              & NA\\\\\n\t tech\\_do                          & multi & Which of the following languages or technologies have you done extensive development with in the last year? (select all that apply) & NA\\\\\n\t tech\\_want                        & multi & Which of the following languages or technologies do you WANT to work with this year? (select all that apply)                        & NA\\\\\n\t dev\\_environment                  & multi & What development environments do you use regularly? (select all that apply)                                                         & NA\\\\\n\t education                        & multi & What amount of formal or professional programming training have you received? (select all that apply)                               & NA\\\\\n\t new\\_job\\_value                    & multi & When evaluating a new employment opportunity what's most important to you? (select up to 3)                                         & NA\\\\\n\t how\\_to\\_improve\\_interview\\_process & multi & How can companies improve the interview process? (select up to 3)                                                                   & NA\\\\\n\t star\\_wars\\_vs\\_star\\_trek           & multi & Star Wars or Star Trek?                                                                                                             & NA\\\\\n\t developer\\_challenges             & multi & What are the biggest challenges you face as a developer? (select up to 3)                                                           & NA\\\\\n\t why\\_stack\\_overflow               & multi & Why do you use Stack Overflow? (select all that apply)                                                                              & NA\\\\\n\\end{tabular}\n",
            "text/markdown": "\nA tibble: 10 × 4\n\n| column &lt;chr&gt; | type &lt;chr&gt; | question &lt;chr&gt; | description &lt;chr&gt; |\n|---|---|---|---|\n| self_identification              | multi | What do you consider yourself? (select all that apply)                                                                              | NA |\n| tech_do                          | multi | Which of the following languages or technologies have you done extensive development with in the last year? (select all that apply) | NA |\n| tech_want                        | multi | Which of the following languages or technologies do you WANT to work with this year? (select all that apply)                        | NA |\n| dev_environment                  | multi | What development environments do you use regularly? (select all that apply)                                                         | NA |\n| education                        | multi | What amount of formal or professional programming training have you received? (select all that apply)                               | NA |\n| new_job_value                    | multi | When evaluating a new employment opportunity what's most important to you? (select up to 3)                                         | NA |\n| how_to_improve_interview_process | multi | How can companies improve the interview process? (select up to 3)                                                                   | NA |\n| star_wars_vs_star_trek           | multi | Star Wars or Star Trek?                                                                                                             | NA |\n| developer_challenges             | multi | What are the biggest challenges you face as a developer? (select up to 3)                                                           | NA |\n| why_stack_overflow               | multi | Why do you use Stack Overflow? (select all that apply)                                                                              | NA |\n\n",
            "text/html": [
              "<table class=\"dataframe\">\n",
              "<caption>A tibble: 10 × 4</caption>\n",
              "<thead>\n",
              "\t<tr><th scope=col>column</th><th scope=col>type</th><th scope=col>question</th><th scope=col>description</th></tr>\n",
              "\t<tr><th scope=col>&lt;chr&gt;</th><th scope=col>&lt;chr&gt;</th><th scope=col>&lt;chr&gt;</th><th scope=col>&lt;chr&gt;</th></tr>\n",
              "</thead>\n",
              "<tbody>\n",
              "\t<tr><td>self_identification             </td><td>multi</td><td>What do you consider yourself? (select all that apply)                                                                             </td><td>NA</td></tr>\n",
              "\t<tr><td>tech_do                         </td><td>multi</td><td>Which of the following languages or technologies have you done extensive development with in the last year? (select all that apply)</td><td>NA</td></tr>\n",
              "\t<tr><td>tech_want                       </td><td>multi</td><td>Which of the following languages or technologies do you WANT to work with this year? (select all that apply)                       </td><td>NA</td></tr>\n",
              "\t<tr><td>dev_environment                 </td><td>multi</td><td>What development environments do you use regularly? (select all that apply)                                                        </td><td>NA</td></tr>\n",
              "\t<tr><td>education                       </td><td>multi</td><td>What amount of formal or professional programming training have you received? (select all that apply)                              </td><td>NA</td></tr>\n",
              "\t<tr><td>new_job_value                   </td><td>multi</td><td>When evaluating a new employment opportunity what's most important to you? (select up to 3)                                        </td><td>NA</td></tr>\n",
              "\t<tr><td>how_to_improve_interview_process</td><td>multi</td><td>How can companies improve the interview process? (select up to 3)                                                                  </td><td>NA</td></tr>\n",
              "\t<tr><td>star_wars_vs_star_trek          </td><td>multi</td><td>Star Wars or Star Trek?                                                                                                            </td><td>NA</td></tr>\n",
              "\t<tr><td>developer_challenges            </td><td>multi</td><td>What are the biggest challenges you face as a developer? (select up to 3)                                                          </td><td>NA</td></tr>\n",
              "\t<tr><td>why_stack_overflow              </td><td>multi</td><td>Why do you use Stack Overflow? (select all that apply)                                                                             </td><td>NA</td></tr>\n",
              "</tbody>\n",
              "</table>\n"
            ]
          },
          "metadata": {
            "tags": []
          }
        }
      ]
    },
    {
      "cell_type": "markdown",
      "metadata": {
        "id": "Ovl-VFOqBF8g"
      },
      "source": [
        "In these cases, the responses are given delimited by ; . For example, see the tech_do column (\"\"Which of the following languages or technologies have you done extensive development with in the last year?\"):"
      ]
    },
    {
      "cell_type": "code",
      "metadata": {
        "colab": {
          "base_uri": "https://localhost:8080/",
          "height": 1000
        },
        "id": "JbTyzzNjBAZz",
        "outputId": "06b002af-29de-4000-c168-88a5cb71368e"
      },
      "source": [
        "stack_survey %>%\n",
        "  filter(!is.na(tech_do)) %>%\n",
        "  select(tech_do)"
      ],
      "execution_count": 8,
      "outputs": [
        {
          "output_type": "display_data",
          "data": {
            "text/plain": [
              "      tech_do                                                                                                                                                                                                                                                                                                                                                                                    \n",
              "1     iOS; Objective-C                                                                                                                                                                                                                                                                                                                                                                           \n",
              "2     Android; Arduino / Raspberry Pi; AngularJS; C; C++; C#; Cassandra; CoffeeScript; Cordova; Clojure; Cloud (AWS, GAE, Azure, etc.); Dart; F#; Go; Hadoop; Haskell; iOS; Java; JavaScript; LAMP; Matlab; MongoDB; Node.js; Objective-C; Perl; PHP; Python; R; ReactJS; Redis; Ruby; Rust; Salesforce; Scala; SharePoint; Spark; SQL; SQL Server; Swift; Visual Basic; Windows Phone; WordPress\n",
              "3     JavaScript; PHP; SQL; WordPress                                                                                                                                                                                                                                                                                                                                                            \n",
              "4     PHP                                                                                                                                                                                                                                                                                                                                                                                        \n",
              "5     Arduino / Raspberry Pi; C; C++; Java; JavaScript; LAMP; PHP; SQL                                                                                                                                                                                                                                                                                                                           \n",
              "6     Android; Cordova; MongoDB; PHP; SQL; WordPress                                                                                                                                                                                                                                                                                                                                             \n",
              "7     C#; Dart; Java; JavaScript; LAMP; PHP; SQL; SQL Server; Visual Basic; WordPress                                                                                                                                                                                                                                                                                                            \n",
              "8     Java; JavaScript; LAMP; PHP; SQL; SQL Server                                                                                                                                                                                                                                                                                                                                               \n",
              "9     Android; C++; C#; Cloud (AWS, GAE, Azure, etc.); Python; SQL Server                                                                                                                                                                                                                                                                                                                        \n",
              "10    SQL                                                                                                                                                                                                                                                                                                                                                                                        \n",
              "11    Ruby                                                                                                                                                                                                                                                                                                                                                                                       \n",
              "12    C; C++; JavaScript; PHP; Python                                                                                                                                                                                                                                                                                                                                                            \n",
              "13    C; C#; PHP; SQL                                                                                                                                                                                                                                                                                                                                                                            \n",
              "14    LAMP; PHP; SQL                                                                                                                                                                                                                                                                                                                                                                             \n",
              "15    JavaScript                                                                                                                                                                                                                                                                                                                                                                                 \n",
              "16    Java; PHP; WordPress                                                                                                                                                                                                                                                                                                                                                                       \n",
              "17    C; Java                                                                                                                                                                                                                                                                                                                                                                                    \n",
              "18    AngularJS; JavaScript; Spark                                                                                                                                                                                                                                                                                                                                                               \n",
              "19    PHP                                                                                                                                                                                                                                                                                                                                                                                        \n",
              "20    C#; Visual Basic                                                                                                                                                                                                                                                                                                                                                                           \n",
              "21    AngularJS; C; C++; Cloud (AWS, GAE, Azure, etc.); Go; Haskell; JavaScript; MongoDB; Node.js; PHP; Python; Redis; SQL                                                                                                                                                                                                                                                                       \n",
              "22    JavaScript; Python; Redis; Ruby; SQL                                                                                                                                                                                                                                                                                                                                                       \n",
              "23    C#; Java; JavaScript                                                                                                                                                                                                                                                                                                                                                                       \n",
              "24    JavaScript; ReactJS; Ruby                                                                                                                                                                                                                                                                                                                                                                  \n",
              "25    C#; JavaScript; LAMP; PHP; SQL Server; Visual Basic; WordPress                                                                                                                                                                                                                                                                                                                             \n",
              "26    JavaScript; LAMP; PHP; SQL                                                                                                                                                                                                                                                                                                                                                                 \n",
              "27    AngularJS; Java; JavaScript; LAMP; Node.js; PHP; SQL; SQL Server                                                                                                                                                                                                                                                                                                                           \n",
              "28    Java; SQL                                                                                                                                                                                                                                                                                                                                                                                  \n",
              "29    Java; JavaScript; PHP; SQL; SQL Server; WordPress                                                                                                                                                                                                                                                                                                                                          \n",
              "30    JavaScript; MongoDB; Ruby                                                                                                                                                                                                                                                                                                                                                                  \n",
              "⋮     ⋮                                                                                                                                                                                                                                                                                                                                                                                          \n",
              "48996 AngularJS; JavaScript; Node.js; Ruby                                                                                                                                                                                                                                                                                                                                                       \n",
              "48997 Android; Cloud (AWS, GAE, Azure, etc.); JavaScript; LAMP; PHP; Python; SQL; WordPress                                                                                                                                                                                                                                                                                                      \n",
              "48998 JavaScript; LAMP; PHP; SharePoint; SQL; SQL Server; Visual Basic; WordPress                                                                                                                                                                                                                                                                                                                \n",
              "48999 Android; C; C++; Java; JavaScript; Node.js                                                                                                                                                                                                                                                                                                                                                 \n",
              "49000 Android; AngularJS; C#; Cordova; iOS; Java; JavaScript; Node.js; Objective-C; SharePoint; SQL; SQL Server; Visual Basic                                                                                                                                                                                                                                                                    \n",
              "49001 AngularJS; C#; Cloud (AWS, GAE, Azure, etc.); JavaScript; Redis; SQL; SQL Server                                                                                                                                                                                                                                                                                                           \n",
              "49002 C#; JavaScript                                                                                                                                                                                                                                                                                                                                                                             \n",
              "49003 JavaScript; Python; Redis                                                                                                                                                                                                                                                                                                                                                                  \n",
              "49004 Android; AngularJS; C#; Java; JavaScript                                                                                                                                                                                                                                                                                                                                                   \n",
              "49005 JavaScript; Ruby                                                                                                                                                                                                                                                                                                                                                                           \n",
              "49006 iOS; Objective-C; Swift                                                                                                                                                                                                                                                                                                                                                                    \n",
              "49007 Android; C#; Cloud (AWS, GAE, Azure, etc.); Java; SQL                                                                                                                                                                                                                                                                                                                                      \n",
              "49008 C; C++; Matlab                                                                                                                                                                                                                                                                                                                                                                             \n",
              "49009 C#; JavaScript; LAMP; PHP; SQL; SQL Server                                                                                                                                                                                                                                                                                                                                                 \n",
              "49010 C; C++; Go; R; ReactJS; Redis; Ruby; Rust; Scala; SQL                                                                                                                                                                                                                                                                                                                                      \n",
              "49011 JavaScript; Python                                                                                                                                                                                                                                                                                                                                                                         \n",
              "49012 LAMP; MongoDB; PHP; WordPress                                                                                                                                                                                                                                                                                                                                                              \n",
              "49013 Android; Java; JavaScript; Node.js; Redis; Ruby; SQL                                                                                                                                                                                                                                                                                                                                       \n",
              "49014 Python                                                                                                                                                                                                                                                                                                                                                                                     \n",
              "49015 Android; C; C++; C#; iOS; Java; JavaScript; Objective-C; PHP; Python; SQL; SQL Server; WordPress                                                                                                                                                                                                                                                                                           \n",
              "49016 Ruby                                                                                                                                                                                                                                                                                                                                                                                       \n",
              "49017 C++; Cassandra; Go                                                                                                                                                                                                                                                                                                                                                                         \n",
              "49018 C; C++; C#; Java; Scala                                                                                                                                                                                                                                                                                                                                                                    \n",
              "49019 JavaScript; Node.js; Objective-C                                                                                                                                                                                                                                                                                                                                                           \n",
              "49020 Android; C++; Java; Matlab; Python                                                                                                                                                                                                                                                                                                                                                         \n",
              "49021 C++; JavaScript; Python                                                                                                                                                                                                                                                                                                                                                                    \n",
              "49022 Arduino / Raspberry Pi; AngularJS; CoffeeScript; JavaScript; Node.js; ReactJS                                                                                                                                                                                                                                                                                                              \n",
              "49023 Android; C; C++; C#; Java; SQL                                                                                                                                                                                                                                                                                                                                                             \n",
              "49024 Arduino / Raspberry Pi; C; Java; Python; Swift                                                                                                                                                                                                                                                                                                                                             \n",
              "49025 Arduino / Raspberry Pi; AngularJS; JavaScript; LAMP; Node.js; PHP                                                                                                                                                                                                                                                                                                                          "
            ],
            "text/latex": "A tibble: 49025 × 1\n\\begin{tabular}{l}\n tech\\_do\\\\\n <chr>\\\\\n\\hline\n\t iOS; Objective-C                                                                                                                                                                                                                                                                                                                                                                           \\\\\n\t Android; Arduino / Raspberry Pi; AngularJS; C; C++; C\\#; Cassandra; CoffeeScript; Cordova; Clojure; Cloud (AWS, GAE, Azure, etc.); Dart; F\\#; Go; Hadoop; Haskell; iOS; Java; JavaScript; LAMP; Matlab; MongoDB; Node.js; Objective-C; Perl; PHP; Python; R; ReactJS; Redis; Ruby; Rust; Salesforce; Scala; SharePoint; Spark; SQL; SQL Server; Swift; Visual Basic; Windows Phone; WordPress\\\\\n\t JavaScript; PHP; SQL; WordPress                                                                                                                                                                                                                                                                                                                                                            \\\\\n\t PHP                                                                                                                                                                                                                                                                                                                                                                                        \\\\\n\t Arduino / Raspberry Pi; C; C++; Java; JavaScript; LAMP; PHP; SQL                                                                                                                                                                                                                                                                                                                           \\\\\n\t Android; Cordova; MongoDB; PHP; SQL; WordPress                                                                                                                                                                                                                                                                                                                                             \\\\\n\t C\\#; Dart; Java; JavaScript; LAMP; PHP; SQL; SQL Server; Visual Basic; WordPress                                                                                                                                                                                                                                                                                                            \\\\\n\t Java; JavaScript; LAMP; PHP; SQL; SQL Server                                                                                                                                                                                                                                                                                                                                               \\\\\n\t Android; C++; C\\#; Cloud (AWS, GAE, Azure, etc.); Python; SQL Server                                                                                                                                                                                                                                                                                                                        \\\\\n\t SQL                                                                                                                                                                                                                                                                                                                                                                                        \\\\\n\t Ruby                                                                                                                                                                                                                                                                                                                                                                                       \\\\\n\t C; C++; JavaScript; PHP; Python                                                                                                                                                                                                                                                                                                                                                            \\\\\n\t C; C\\#; PHP; SQL                                                                                                                                                                                                                                                                                                                                                                            \\\\\n\t LAMP; PHP; SQL                                                                                                                                                                                                                                                                                                                                                                             \\\\\n\t JavaScript                                                                                                                                                                                                                                                                                                                                                                                 \\\\\n\t Java; PHP; WordPress                                                                                                                                                                                                                                                                                                                                                                       \\\\\n\t C; Java                                                                                                                                                                                                                                                                                                                                                                                    \\\\\n\t AngularJS; JavaScript; Spark                                                                                                                                                                                                                                                                                                                                                               \\\\\n\t PHP                                                                                                                                                                                                                                                                                                                                                                                        \\\\\n\t C\\#; Visual Basic                                                                                                                                                                                                                                                                                                                                                                           \\\\\n\t AngularJS; C; C++; Cloud (AWS, GAE, Azure, etc.); Go; Haskell; JavaScript; MongoDB; Node.js; PHP; Python; Redis; SQL                                                                                                                                                                                                                                                                       \\\\\n\t JavaScript; Python; Redis; Ruby; SQL                                                                                                                                                                                                                                                                                                                                                       \\\\\n\t C\\#; Java; JavaScript                                                                                                                                                                                                                                                                                                                                                                       \\\\\n\t JavaScript; ReactJS; Ruby                                                                                                                                                                                                                                                                                                                                                                  \\\\\n\t C\\#; JavaScript; LAMP; PHP; SQL Server; Visual Basic; WordPress                                                                                                                                                                                                                                                                                                                             \\\\\n\t JavaScript; LAMP; PHP; SQL                                                                                                                                                                                                                                                                                                                                                                 \\\\\n\t AngularJS; Java; JavaScript; LAMP; Node.js; PHP; SQL; SQL Server                                                                                                                                                                                                                                                                                                                           \\\\\n\t Java; SQL                                                                                                                                                                                                                                                                                                                                                                                  \\\\\n\t Java; JavaScript; PHP; SQL; SQL Server; WordPress                                                                                                                                                                                                                                                                                                                                          \\\\\n\t JavaScript; MongoDB; Ruby                                                                                                                                                                                                                                                                                                                                                                  \\\\\n\t ⋮\\\\\n\t AngularJS; JavaScript; Node.js; Ruby                                                                                   \\\\\n\t Android; Cloud (AWS, GAE, Azure, etc.); JavaScript; LAMP; PHP; Python; SQL; WordPress                                  \\\\\n\t JavaScript; LAMP; PHP; SharePoint; SQL; SQL Server; Visual Basic; WordPress                                            \\\\\n\t Android; C; C++; Java; JavaScript; Node.js                                                                             \\\\\n\t Android; AngularJS; C\\#; Cordova; iOS; Java; JavaScript; Node.js; Objective-C; SharePoint; SQL; SQL Server; Visual Basic\\\\\n\t AngularJS; C\\#; Cloud (AWS, GAE, Azure, etc.); JavaScript; Redis; SQL; SQL Server                                       \\\\\n\t C\\#; JavaScript                                                                                                         \\\\\n\t JavaScript; Python; Redis                                                                                              \\\\\n\t Android; AngularJS; C\\#; Java; JavaScript                                                                               \\\\\n\t JavaScript; Ruby                                                                                                       \\\\\n\t iOS; Objective-C; Swift                                                                                                \\\\\n\t Android; C\\#; Cloud (AWS, GAE, Azure, etc.); Java; SQL                                                                  \\\\\n\t C; C++; Matlab                                                                                                         \\\\\n\t C\\#; JavaScript; LAMP; PHP; SQL; SQL Server                                                                             \\\\\n\t C; C++; Go; R; ReactJS; Redis; Ruby; Rust; Scala; SQL                                                                  \\\\\n\t JavaScript; Python                                                                                                     \\\\\n\t LAMP; MongoDB; PHP; WordPress                                                                                          \\\\\n\t Android; Java; JavaScript; Node.js; Redis; Ruby; SQL                                                                   \\\\\n\t Python                                                                                                                 \\\\\n\t Android; C; C++; C\\#; iOS; Java; JavaScript; Objective-C; PHP; Python; SQL; SQL Server; WordPress                       \\\\\n\t Ruby                                                                                                                   \\\\\n\t C++; Cassandra; Go                                                                                                     \\\\\n\t C; C++; C\\#; Java; Scala                                                                                                \\\\\n\t JavaScript; Node.js; Objective-C                                                                                       \\\\\n\t Android; C++; Java; Matlab; Python                                                                                     \\\\\n\t C++; JavaScript; Python                                                                                                \\\\\n\t Arduino / Raspberry Pi; AngularJS; CoffeeScript; JavaScript; Node.js; ReactJS                                          \\\\\n\t Android; C; C++; C\\#; Java; SQL                                                                                         \\\\\n\t Arduino / Raspberry Pi; C; Java; Python; Swift                                                                         \\\\\n\t Arduino / Raspberry Pi; AngularJS; JavaScript; LAMP; Node.js; PHP                                                      \\\\\n\\end{tabular}\n",
            "text/markdown": "\nA tibble: 49025 × 1\n\n| tech_do &lt;chr&gt; |\n|---|\n| iOS; Objective-C                                                                                                                                                                                                                                                                                                                                                                            |\n| Android; Arduino / Raspberry Pi; AngularJS; C; C++; C#; Cassandra; CoffeeScript; Cordova; Clojure; Cloud (AWS, GAE, Azure, etc.); Dart; F#; Go; Hadoop; Haskell; iOS; Java; JavaScript; LAMP; Matlab; MongoDB; Node.js; Objective-C; Perl; PHP; Python; R; ReactJS; Redis; Ruby; Rust; Salesforce; Scala; SharePoint; Spark; SQL; SQL Server; Swift; Visual Basic; Windows Phone; WordPress |\n| JavaScript; PHP; SQL; WordPress                                                                                                                                                                                                                                                                                                                                                             |\n| PHP                                                                                                                                                                                                                                                                                                                                                                                         |\n| Arduino / Raspberry Pi; C; C++; Java; JavaScript; LAMP; PHP; SQL                                                                                                                                                                                                                                                                                                                            |\n| Android; Cordova; MongoDB; PHP; SQL; WordPress                                                                                                                                                                                                                                                                                                                                              |\n| C#; Dart; Java; JavaScript; LAMP; PHP; SQL; SQL Server; Visual Basic; WordPress                                                                                                                                                                                                                                                                                                             |\n| Java; JavaScript; LAMP; PHP; SQL; SQL Server                                                                                                                                                                                                                                                                                                                                                |\n| Android; C++; C#; Cloud (AWS, GAE, Azure, etc.); Python; SQL Server                                                                                                                                                                                                                                                                                                                         |\n| SQL                                                                                                                                                                                                                                                                                                                                                                                         |\n| Ruby                                                                                                                                                                                                                                                                                                                                                                                        |\n| C; C++; JavaScript; PHP; Python                                                                                                                                                                                                                                                                                                                                                             |\n| C; C#; PHP; SQL                                                                                                                                                                                                                                                                                                                                                                             |\n| LAMP; PHP; SQL                                                                                                                                                                                                                                                                                                                                                                              |\n| JavaScript                                                                                                                                                                                                                                                                                                                                                                                  |\n| Java; PHP; WordPress                                                                                                                                                                                                                                                                                                                                                                        |\n| C; Java                                                                                                                                                                                                                                                                                                                                                                                     |\n| AngularJS; JavaScript; Spark                                                                                                                                                                                                                                                                                                                                                                |\n| PHP                                                                                                                                                                                                                                                                                                                                                                                         |\n| C#; Visual Basic                                                                                                                                                                                                                                                                                                                                                                            |\n| AngularJS; C; C++; Cloud (AWS, GAE, Azure, etc.); Go; Haskell; JavaScript; MongoDB; Node.js; PHP; Python; Redis; SQL                                                                                                                                                                                                                                                                        |\n| JavaScript; Python; Redis; Ruby; SQL                                                                                                                                                                                                                                                                                                                                                        |\n| C#; Java; JavaScript                                                                                                                                                                                                                                                                                                                                                                        |\n| JavaScript; ReactJS; Ruby                                                                                                                                                                                                                                                                                                                                                                   |\n| C#; JavaScript; LAMP; PHP; SQL Server; Visual Basic; WordPress                                                                                                                                                                                                                                                                                                                              |\n| JavaScript; LAMP; PHP; SQL                                                                                                                                                                                                                                                                                                                                                                  |\n| AngularJS; Java; JavaScript; LAMP; Node.js; PHP; SQL; SQL Server                                                                                                                                                                                                                                                                                                                            |\n| Java; SQL                                                                                                                                                                                                                                                                                                                                                                                   |\n| Java; JavaScript; PHP; SQL; SQL Server; WordPress                                                                                                                                                                                                                                                                                                                                           |\n| JavaScript; MongoDB; Ruby                                                                                                                                                                                                                                                                                                                                                                   |\n| ⋮ |\n| AngularJS; JavaScript; Node.js; Ruby                                                                                    |\n| Android; Cloud (AWS, GAE, Azure, etc.); JavaScript; LAMP; PHP; Python; SQL; WordPress                                   |\n| JavaScript; LAMP; PHP; SharePoint; SQL; SQL Server; Visual Basic; WordPress                                             |\n| Android; C; C++; Java; JavaScript; Node.js                                                                              |\n| Android; AngularJS; C#; Cordova; iOS; Java; JavaScript; Node.js; Objective-C; SharePoint; SQL; SQL Server; Visual Basic |\n| AngularJS; C#; Cloud (AWS, GAE, Azure, etc.); JavaScript; Redis; SQL; SQL Server                                        |\n| C#; JavaScript                                                                                                          |\n| JavaScript; Python; Redis                                                                                               |\n| Android; AngularJS; C#; Java; JavaScript                                                                                |\n| JavaScript; Ruby                                                                                                        |\n| iOS; Objective-C; Swift                                                                                                 |\n| Android; C#; Cloud (AWS, GAE, Azure, etc.); Java; SQL                                                                   |\n| C; C++; Matlab                                                                                                          |\n| C#; JavaScript; LAMP; PHP; SQL; SQL Server                                                                              |\n| C; C++; Go; R; ReactJS; Redis; Ruby; Rust; Scala; SQL                                                                   |\n| JavaScript; Python                                                                                                      |\n| LAMP; MongoDB; PHP; WordPress                                                                                           |\n| Android; Java; JavaScript; Node.js; Redis; Ruby; SQL                                                                    |\n| Python                                                                                                                  |\n| Android; C; C++; C#; iOS; Java; JavaScript; Objective-C; PHP; Python; SQL; SQL Server; WordPress                        |\n| Ruby                                                                                                                    |\n| C++; Cassandra; Go                                                                                                      |\n| C; C++; C#; Java; Scala                                                                                                 |\n| JavaScript; Node.js; Objective-C                                                                                        |\n| Android; C++; Java; Matlab; Python                                                                                      |\n| C++; JavaScript; Python                                                                                                 |\n| Arduino / Raspberry Pi; AngularJS; CoffeeScript; JavaScript; Node.js; ReactJS                                           |\n| Android; C; C++; C#; Java; SQL                                                                                          |\n| Arduino / Raspberry Pi; C; Java; Python; Swift                                                                          |\n| Arduino / Raspberry Pi; AngularJS; JavaScript; LAMP; Node.js; PHP                                                       |\n\n",
            "text/html": [
              "<table class=\"dataframe\">\n",
              "<caption>A tibble: 49025 × 1</caption>\n",
              "<thead>\n",
              "\t<tr><th scope=col>tech_do</th></tr>\n",
              "\t<tr><th scope=col>&lt;chr&gt;</th></tr>\n",
              "</thead>\n",
              "<tbody>\n",
              "\t<tr><td>iOS; Objective-C                                                                                                                                                                                                                                                                                                                                                                           </td></tr>\n",
              "\t<tr><td>Android; Arduino / Raspberry Pi; AngularJS; C; C++; C#; Cassandra; CoffeeScript; Cordova; Clojure; Cloud (AWS, GAE, Azure, etc.); Dart; F#; Go; Hadoop; Haskell; iOS; Java; JavaScript; LAMP; Matlab; MongoDB; Node.js; Objective-C; Perl; PHP; Python; R; ReactJS; Redis; Ruby; Rust; Salesforce; Scala; SharePoint; Spark; SQL; SQL Server; Swift; Visual Basic; Windows Phone; WordPress</td></tr>\n",
              "\t<tr><td>JavaScript; PHP; SQL; WordPress                                                                                                                                                                                                                                                                                                                                                            </td></tr>\n",
              "\t<tr><td>PHP                                                                                                                                                                                                                                                                                                                                                                                        </td></tr>\n",
              "\t<tr><td>Arduino / Raspberry Pi; C; C++; Java; JavaScript; LAMP; PHP; SQL                                                                                                                                                                                                                                                                                                                           </td></tr>\n",
              "\t<tr><td>Android; Cordova; MongoDB; PHP; SQL; WordPress                                                                                                                                                                                                                                                                                                                                             </td></tr>\n",
              "\t<tr><td>C#; Dart; Java; JavaScript; LAMP; PHP; SQL; SQL Server; Visual Basic; WordPress                                                                                                                                                                                                                                                                                                            </td></tr>\n",
              "\t<tr><td>Java; JavaScript; LAMP; PHP; SQL; SQL Server                                                                                                                                                                                                                                                                                                                                               </td></tr>\n",
              "\t<tr><td>Android; C++; C#; Cloud (AWS, GAE, Azure, etc.); Python; SQL Server                                                                                                                                                                                                                                                                                                                        </td></tr>\n",
              "\t<tr><td>SQL                                                                                                                                                                                                                                                                                                                                                                                        </td></tr>\n",
              "\t<tr><td>Ruby                                                                                                                                                                                                                                                                                                                                                                                       </td></tr>\n",
              "\t<tr><td>C; C++; JavaScript; PHP; Python                                                                                                                                                                                                                                                                                                                                                            </td></tr>\n",
              "\t<tr><td>C; C#; PHP; SQL                                                                                                                                                                                                                                                                                                                                                                            </td></tr>\n",
              "\t<tr><td>LAMP; PHP; SQL                                                                                                                                                                                                                                                                                                                                                                             </td></tr>\n",
              "\t<tr><td>JavaScript                                                                                                                                                                                                                                                                                                                                                                                 </td></tr>\n",
              "\t<tr><td>Java; PHP; WordPress                                                                                                                                                                                                                                                                                                                                                                       </td></tr>\n",
              "\t<tr><td>C; Java                                                                                                                                                                                                                                                                                                                                                                                    </td></tr>\n",
              "\t<tr><td>AngularJS; JavaScript; Spark                                                                                                                                                                                                                                                                                                                                                               </td></tr>\n",
              "\t<tr><td>PHP                                                                                                                                                                                                                                                                                                                                                                                        </td></tr>\n",
              "\t<tr><td>C#; Visual Basic                                                                                                                                                                                                                                                                                                                                                                           </td></tr>\n",
              "\t<tr><td>AngularJS; C; C++; Cloud (AWS, GAE, Azure, etc.); Go; Haskell; JavaScript; MongoDB; Node.js; PHP; Python; Redis; SQL                                                                                                                                                                                                                                                                       </td></tr>\n",
              "\t<tr><td>JavaScript; Python; Redis; Ruby; SQL                                                                                                                                                                                                                                                                                                                                                       </td></tr>\n",
              "\t<tr><td>C#; Java; JavaScript                                                                                                                                                                                                                                                                                                                                                                       </td></tr>\n",
              "\t<tr><td>JavaScript; ReactJS; Ruby                                                                                                                                                                                                                                                                                                                                                                  </td></tr>\n",
              "\t<tr><td>C#; JavaScript; LAMP; PHP; SQL Server; Visual Basic; WordPress                                                                                                                                                                                                                                                                                                                             </td></tr>\n",
              "\t<tr><td>JavaScript; LAMP; PHP; SQL                                                                                                                                                                                                                                                                                                                                                                 </td></tr>\n",
              "\t<tr><td>AngularJS; Java; JavaScript; LAMP; Node.js; PHP; SQL; SQL Server                                                                                                                                                                                                                                                                                                                           </td></tr>\n",
              "\t<tr><td>Java; SQL                                                                                                                                                                                                                                                                                                                                                                                  </td></tr>\n",
              "\t<tr><td>Java; JavaScript; PHP; SQL; SQL Server; WordPress                                                                                                                                                                                                                                                                                                                                          </td></tr>\n",
              "\t<tr><td>JavaScript; MongoDB; Ruby                                                                                                                                                                                                                                                                                                                                                                  </td></tr>\n",
              "\t<tr><td>⋮</td></tr>\n",
              "\t<tr><td>AngularJS; JavaScript; Node.js; Ruby                                                                                   </td></tr>\n",
              "\t<tr><td>Android; Cloud (AWS, GAE, Azure, etc.); JavaScript; LAMP; PHP; Python; SQL; WordPress                                  </td></tr>\n",
              "\t<tr><td>JavaScript; LAMP; PHP; SharePoint; SQL; SQL Server; Visual Basic; WordPress                                            </td></tr>\n",
              "\t<tr><td>Android; C; C++; Java; JavaScript; Node.js                                                                             </td></tr>\n",
              "\t<tr><td>Android; AngularJS; C#; Cordova; iOS; Java; JavaScript; Node.js; Objective-C; SharePoint; SQL; SQL Server; Visual Basic</td></tr>\n",
              "\t<tr><td>AngularJS; C#; Cloud (AWS, GAE, Azure, etc.); JavaScript; Redis; SQL; SQL Server                                       </td></tr>\n",
              "\t<tr><td>C#; JavaScript                                                                                                         </td></tr>\n",
              "\t<tr><td>JavaScript; Python; Redis                                                                                              </td></tr>\n",
              "\t<tr><td>Android; AngularJS; C#; Java; JavaScript                                                                               </td></tr>\n",
              "\t<tr><td>JavaScript; Ruby                                                                                                       </td></tr>\n",
              "\t<tr><td>iOS; Objective-C; Swift                                                                                                </td></tr>\n",
              "\t<tr><td>Android; C#; Cloud (AWS, GAE, Azure, etc.); Java; SQL                                                                  </td></tr>\n",
              "\t<tr><td>C; C++; Matlab                                                                                                         </td></tr>\n",
              "\t<tr><td>C#; JavaScript; LAMP; PHP; SQL; SQL Server                                                                             </td></tr>\n",
              "\t<tr><td>C; C++; Go; R; ReactJS; Redis; Ruby; Rust; Scala; SQL                                                                  </td></tr>\n",
              "\t<tr><td>JavaScript; Python                                                                                                     </td></tr>\n",
              "\t<tr><td>LAMP; MongoDB; PHP; WordPress                                                                                          </td></tr>\n",
              "\t<tr><td>Android; Java; JavaScript; Node.js; Redis; Ruby; SQL                                                                   </td></tr>\n",
              "\t<tr><td>Python                                                                                                                 </td></tr>\n",
              "\t<tr><td>Android; C; C++; C#; iOS; Java; JavaScript; Objective-C; PHP; Python; SQL; SQL Server; WordPress                       </td></tr>\n",
              "\t<tr><td>Ruby                                                                                                                   </td></tr>\n",
              "\t<tr><td>C++; Cassandra; Go                                                                                                     </td></tr>\n",
              "\t<tr><td>C; C++; C#; Java; Scala                                                                                                </td></tr>\n",
              "\t<tr><td>JavaScript; Node.js; Objective-C                                                                                       </td></tr>\n",
              "\t<tr><td>Android; C++; Java; Matlab; Python                                                                                     </td></tr>\n",
              "\t<tr><td>C++; JavaScript; Python                                                                                                </td></tr>\n",
              "\t<tr><td>Arduino / Raspberry Pi; AngularJS; CoffeeScript; JavaScript; Node.js; ReactJS                                          </td></tr>\n",
              "\t<tr><td>Android; C; C++; C#; Java; SQL                                                                                         </td></tr>\n",
              "\t<tr><td>Arduino / Raspberry Pi; C; Java; Python; Swift                                                                         </td></tr>\n",
              "\t<tr><td>Arduino / Raspberry Pi; AngularJS; JavaScript; LAMP; Node.js; PHP                                                      </td></tr>\n",
              "</tbody>\n",
              "</table>\n"
            ]
          },
          "metadata": {
            "tags": []
          }
        }
      ]
    },
    {
      "cell_type": "markdown",
      "metadata": {
        "id": "YEL57nj2BMAX"
      },
      "source": [
        "Often, these columns are easier to work with and analyze when they are \"unnested\" into one user-answer pair per row. The package provides the stack_multi function as a shortcut for that unnestting:"
      ]
    },
    {
      "cell_type": "code",
      "metadata": {
        "colab": {
          "base_uri": "https://localhost:8080/",
          "height": 1000
        },
        "id": "Iku7M0KDBH79",
        "outputId": "f4180f5c-4a2a-4941-c0a8-b3e0bd4ed07f"
      },
      "source": [
        "stack_multi(\"tech_do\")"
      ],
      "execution_count": 9,
      "outputs": [
        {
          "output_type": "stream",
          "text": [
            "Warning message:\n",
            "“unnest() has a new interface. See ?unnest for details.\n",
            "Try `df %>% unnest(c(answer))`, with `mutate()` if needed”\n"
          ],
          "name": "stderr"
        },
        {
          "output_type": "display_data",
          "data": {
            "text/plain": [
              "       respondent_id column  answer                       \n",
              "1       4637         tech_do iOS                          \n",
              "2       4637         tech_do Objective-C                  \n",
              "3      31743         tech_do Android                      \n",
              "4      31743         tech_do Arduino / Raspberry Pi       \n",
              "5      31743         tech_do AngularJS                    \n",
              "6      31743         tech_do C                            \n",
              "7      31743         tech_do C++                          \n",
              "8      31743         tech_do C#                           \n",
              "9      31743         tech_do Cassandra                    \n",
              "10     31743         tech_do CoffeeScript                 \n",
              "11     31743         tech_do Cordova                      \n",
              "12     31743         tech_do Clojure                      \n",
              "13     31743         tech_do Cloud (AWS, GAE, Azure, etc.)\n",
              "14     31743         tech_do Dart                         \n",
              "15     31743         tech_do F#                           \n",
              "16     31743         tech_do Go                           \n",
              "17     31743         tech_do Hadoop                       \n",
              "18     31743         tech_do Haskell                      \n",
              "19     31743         tech_do iOS                          \n",
              "20     31743         tech_do Java                         \n",
              "21     31743         tech_do JavaScript                   \n",
              "22     31743         tech_do LAMP                         \n",
              "23     31743         tech_do Matlab                       \n",
              "24     31743         tech_do MongoDB                      \n",
              "25     31743         tech_do Node.js                      \n",
              "26     31743         tech_do Objective-C                  \n",
              "27     31743         tech_do Perl                         \n",
              "28     31743         tech_do PHP                          \n",
              "29     31743         tech_do Python                       \n",
              "30     31743         tech_do R                            \n",
              "⋮      ⋮             ⋮       ⋮                            \n",
              "225046 25603         tech_do C++                          \n",
              "225047 25603         tech_do Java                         \n",
              "225048 25603         tech_do Matlab                       \n",
              "225049 25603         tech_do Python                       \n",
              "225050 27455         tech_do C++                          \n",
              "225051 27455         tech_do JavaScript                   \n",
              "225052 27455         tech_do Python                       \n",
              "225053 48173         tech_do Arduino / Raspberry Pi       \n",
              "225054 48173         tech_do AngularJS                    \n",
              "225055 48173         tech_do CoffeeScript                 \n",
              "225056 48173         tech_do JavaScript                   \n",
              "225057 48173         tech_do Node.js                      \n",
              "225058 48173         tech_do ReactJS                      \n",
              "225059 50006         tech_do Android                      \n",
              "225060 50006         tech_do C                            \n",
              "225061 50006         tech_do C++                          \n",
              "225062 50006         tech_do C#                           \n",
              "225063 50006         tech_do Java                         \n",
              "225064 50006         tech_do SQL                          \n",
              "225065 51834         tech_do Arduino / Raspberry Pi       \n",
              "225066 51834         tech_do C                            \n",
              "225067 51834         tech_do Java                         \n",
              "225068 51834         tech_do Python                       \n",
              "225069 51834         tech_do Swift                        \n",
              "225070 52485         tech_do Arduino / Raspberry Pi       \n",
              "225071 52485         tech_do AngularJS                    \n",
              "225072 52485         tech_do JavaScript                   \n",
              "225073 52485         tech_do LAMP                         \n",
              "225074 52485         tech_do Node.js                      \n",
              "225075 52485         tech_do PHP                          "
            ],
            "text/latex": "A tibble: 225075 × 3\n\\begin{tabular}{lll}\n respondent\\_id & column & answer\\\\\n <int> & <chr> & <chr>\\\\\n\\hline\n\t  4637 & tech\\_do & iOS                          \\\\\n\t  4637 & tech\\_do & Objective-C                  \\\\\n\t 31743 & tech\\_do & Android                      \\\\\n\t 31743 & tech\\_do & Arduino / Raspberry Pi       \\\\\n\t 31743 & tech\\_do & AngularJS                    \\\\\n\t 31743 & tech\\_do & C                            \\\\\n\t 31743 & tech\\_do & C++                          \\\\\n\t 31743 & tech\\_do & C\\#                           \\\\\n\t 31743 & tech\\_do & Cassandra                    \\\\\n\t 31743 & tech\\_do & CoffeeScript                 \\\\\n\t 31743 & tech\\_do & Cordova                      \\\\\n\t 31743 & tech\\_do & Clojure                      \\\\\n\t 31743 & tech\\_do & Cloud (AWS, GAE, Azure, etc.)\\\\\n\t 31743 & tech\\_do & Dart                         \\\\\n\t 31743 & tech\\_do & F\\#                           \\\\\n\t 31743 & tech\\_do & Go                           \\\\\n\t 31743 & tech\\_do & Hadoop                       \\\\\n\t 31743 & tech\\_do & Haskell                      \\\\\n\t 31743 & tech\\_do & iOS                          \\\\\n\t 31743 & tech\\_do & Java                         \\\\\n\t 31743 & tech\\_do & JavaScript                   \\\\\n\t 31743 & tech\\_do & LAMP                         \\\\\n\t 31743 & tech\\_do & Matlab                       \\\\\n\t 31743 & tech\\_do & MongoDB                      \\\\\n\t 31743 & tech\\_do & Node.js                      \\\\\n\t 31743 & tech\\_do & Objective-C                  \\\\\n\t 31743 & tech\\_do & Perl                         \\\\\n\t 31743 & tech\\_do & PHP                          \\\\\n\t 31743 & tech\\_do & Python                       \\\\\n\t 31743 & tech\\_do & R                            \\\\\n\t ⋮ & ⋮ & ⋮\\\\\n\t 25603 & tech\\_do & C++                   \\\\\n\t 25603 & tech\\_do & Java                  \\\\\n\t 25603 & tech\\_do & Matlab                \\\\\n\t 25603 & tech\\_do & Python                \\\\\n\t 27455 & tech\\_do & C++                   \\\\\n\t 27455 & tech\\_do & JavaScript            \\\\\n\t 27455 & tech\\_do & Python                \\\\\n\t 48173 & tech\\_do & Arduino / Raspberry Pi\\\\\n\t 48173 & tech\\_do & AngularJS             \\\\\n\t 48173 & tech\\_do & CoffeeScript          \\\\\n\t 48173 & tech\\_do & JavaScript            \\\\\n\t 48173 & tech\\_do & Node.js               \\\\\n\t 48173 & tech\\_do & ReactJS               \\\\\n\t 50006 & tech\\_do & Android               \\\\\n\t 50006 & tech\\_do & C                     \\\\\n\t 50006 & tech\\_do & C++                   \\\\\n\t 50006 & tech\\_do & C\\#                    \\\\\n\t 50006 & tech\\_do & Java                  \\\\\n\t 50006 & tech\\_do & SQL                   \\\\\n\t 51834 & tech\\_do & Arduino / Raspberry Pi\\\\\n\t 51834 & tech\\_do & C                     \\\\\n\t 51834 & tech\\_do & Java                  \\\\\n\t 51834 & tech\\_do & Python                \\\\\n\t 51834 & tech\\_do & Swift                 \\\\\n\t 52485 & tech\\_do & Arduino / Raspberry Pi\\\\\n\t 52485 & tech\\_do & AngularJS             \\\\\n\t 52485 & tech\\_do & JavaScript            \\\\\n\t 52485 & tech\\_do & LAMP                  \\\\\n\t 52485 & tech\\_do & Node.js               \\\\\n\t 52485 & tech\\_do & PHP                   \\\\\n\\end{tabular}\n",
            "text/markdown": "\nA tibble: 225075 × 3\n\n| respondent_id &lt;int&gt; | column &lt;chr&gt; | answer &lt;chr&gt; |\n|---|---|---|\n|  4637 | tech_do | iOS                           |\n|  4637 | tech_do | Objective-C                   |\n| 31743 | tech_do | Android                       |\n| 31743 | tech_do | Arduino / Raspberry Pi        |\n| 31743 | tech_do | AngularJS                     |\n| 31743 | tech_do | C                             |\n| 31743 | tech_do | C++                           |\n| 31743 | tech_do | C#                            |\n| 31743 | tech_do | Cassandra                     |\n| 31743 | tech_do | CoffeeScript                  |\n| 31743 | tech_do | Cordova                       |\n| 31743 | tech_do | Clojure                       |\n| 31743 | tech_do | Cloud (AWS, GAE, Azure, etc.) |\n| 31743 | tech_do | Dart                          |\n| 31743 | tech_do | F#                            |\n| 31743 | tech_do | Go                            |\n| 31743 | tech_do | Hadoop                        |\n| 31743 | tech_do | Haskell                       |\n| 31743 | tech_do | iOS                           |\n| 31743 | tech_do | Java                          |\n| 31743 | tech_do | JavaScript                    |\n| 31743 | tech_do | LAMP                          |\n| 31743 | tech_do | Matlab                        |\n| 31743 | tech_do | MongoDB                       |\n| 31743 | tech_do | Node.js                       |\n| 31743 | tech_do | Objective-C                   |\n| 31743 | tech_do | Perl                          |\n| 31743 | tech_do | PHP                           |\n| 31743 | tech_do | Python                        |\n| 31743 | tech_do | R                             |\n| ⋮ | ⋮ | ⋮ |\n| 25603 | tech_do | C++                    |\n| 25603 | tech_do | Java                   |\n| 25603 | tech_do | Matlab                 |\n| 25603 | tech_do | Python                 |\n| 27455 | tech_do | C++                    |\n| 27455 | tech_do | JavaScript             |\n| 27455 | tech_do | Python                 |\n| 48173 | tech_do | Arduino / Raspberry Pi |\n| 48173 | tech_do | AngularJS              |\n| 48173 | tech_do | CoffeeScript           |\n| 48173 | tech_do | JavaScript             |\n| 48173 | tech_do | Node.js                |\n| 48173 | tech_do | ReactJS                |\n| 50006 | tech_do | Android                |\n| 50006 | tech_do | C                      |\n| 50006 | tech_do | C++                    |\n| 50006 | tech_do | C#                     |\n| 50006 | tech_do | Java                   |\n| 50006 | tech_do | SQL                    |\n| 51834 | tech_do | Arduino / Raspberry Pi |\n| 51834 | tech_do | C                      |\n| 51834 | tech_do | Java                   |\n| 51834 | tech_do | Python                 |\n| 51834 | tech_do | Swift                  |\n| 52485 | tech_do | Arduino / Raspberry Pi |\n| 52485 | tech_do | AngularJS              |\n| 52485 | tech_do | JavaScript             |\n| 52485 | tech_do | LAMP                   |\n| 52485 | tech_do | Node.js                |\n| 52485 | tech_do | PHP                    |\n\n",
            "text/html": [
              "<table class=\"dataframe\">\n",
              "<caption>A tibble: 225075 × 3</caption>\n",
              "<thead>\n",
              "\t<tr><th scope=col>respondent_id</th><th scope=col>column</th><th scope=col>answer</th></tr>\n",
              "\t<tr><th scope=col>&lt;int&gt;</th><th scope=col>&lt;chr&gt;</th><th scope=col>&lt;chr&gt;</th></tr>\n",
              "</thead>\n",
              "<tbody>\n",
              "\t<tr><td> 4637</td><td>tech_do</td><td>iOS                          </td></tr>\n",
              "\t<tr><td> 4637</td><td>tech_do</td><td>Objective-C                  </td></tr>\n",
              "\t<tr><td>31743</td><td>tech_do</td><td>Android                      </td></tr>\n",
              "\t<tr><td>31743</td><td>tech_do</td><td>Arduino / Raspberry Pi       </td></tr>\n",
              "\t<tr><td>31743</td><td>tech_do</td><td>AngularJS                    </td></tr>\n",
              "\t<tr><td>31743</td><td>tech_do</td><td>C                            </td></tr>\n",
              "\t<tr><td>31743</td><td>tech_do</td><td>C++                          </td></tr>\n",
              "\t<tr><td>31743</td><td>tech_do</td><td>C#                           </td></tr>\n",
              "\t<tr><td>31743</td><td>tech_do</td><td>Cassandra                    </td></tr>\n",
              "\t<tr><td>31743</td><td>tech_do</td><td>CoffeeScript                 </td></tr>\n",
              "\t<tr><td>31743</td><td>tech_do</td><td>Cordova                      </td></tr>\n",
              "\t<tr><td>31743</td><td>tech_do</td><td>Clojure                      </td></tr>\n",
              "\t<tr><td>31743</td><td>tech_do</td><td>Cloud (AWS, GAE, Azure, etc.)</td></tr>\n",
              "\t<tr><td>31743</td><td>tech_do</td><td>Dart                         </td></tr>\n",
              "\t<tr><td>31743</td><td>tech_do</td><td>F#                           </td></tr>\n",
              "\t<tr><td>31743</td><td>tech_do</td><td>Go                           </td></tr>\n",
              "\t<tr><td>31743</td><td>tech_do</td><td>Hadoop                       </td></tr>\n",
              "\t<tr><td>31743</td><td>tech_do</td><td>Haskell                      </td></tr>\n",
              "\t<tr><td>31743</td><td>tech_do</td><td>iOS                          </td></tr>\n",
              "\t<tr><td>31743</td><td>tech_do</td><td>Java                         </td></tr>\n",
              "\t<tr><td>31743</td><td>tech_do</td><td>JavaScript                   </td></tr>\n",
              "\t<tr><td>31743</td><td>tech_do</td><td>LAMP                         </td></tr>\n",
              "\t<tr><td>31743</td><td>tech_do</td><td>Matlab                       </td></tr>\n",
              "\t<tr><td>31743</td><td>tech_do</td><td>MongoDB                      </td></tr>\n",
              "\t<tr><td>31743</td><td>tech_do</td><td>Node.js                      </td></tr>\n",
              "\t<tr><td>31743</td><td>tech_do</td><td>Objective-C                  </td></tr>\n",
              "\t<tr><td>31743</td><td>tech_do</td><td>Perl                         </td></tr>\n",
              "\t<tr><td>31743</td><td>tech_do</td><td>PHP                          </td></tr>\n",
              "\t<tr><td>31743</td><td>tech_do</td><td>Python                       </td></tr>\n",
              "\t<tr><td>31743</td><td>tech_do</td><td>R                            </td></tr>\n",
              "\t<tr><td>⋮</td><td>⋮</td><td>⋮</td></tr>\n",
              "\t<tr><td>25603</td><td>tech_do</td><td>C++                   </td></tr>\n",
              "\t<tr><td>25603</td><td>tech_do</td><td>Java                  </td></tr>\n",
              "\t<tr><td>25603</td><td>tech_do</td><td>Matlab                </td></tr>\n",
              "\t<tr><td>25603</td><td>tech_do</td><td>Python                </td></tr>\n",
              "\t<tr><td>27455</td><td>tech_do</td><td>C++                   </td></tr>\n",
              "\t<tr><td>27455</td><td>tech_do</td><td>JavaScript            </td></tr>\n",
              "\t<tr><td>27455</td><td>tech_do</td><td>Python                </td></tr>\n",
              "\t<tr><td>48173</td><td>tech_do</td><td>Arduino / Raspberry Pi</td></tr>\n",
              "\t<tr><td>48173</td><td>tech_do</td><td>AngularJS             </td></tr>\n",
              "\t<tr><td>48173</td><td>tech_do</td><td>CoffeeScript          </td></tr>\n",
              "\t<tr><td>48173</td><td>tech_do</td><td>JavaScript            </td></tr>\n",
              "\t<tr><td>48173</td><td>tech_do</td><td>Node.js               </td></tr>\n",
              "\t<tr><td>48173</td><td>tech_do</td><td>ReactJS               </td></tr>\n",
              "\t<tr><td>50006</td><td>tech_do</td><td>Android               </td></tr>\n",
              "\t<tr><td>50006</td><td>tech_do</td><td>C                     </td></tr>\n",
              "\t<tr><td>50006</td><td>tech_do</td><td>C++                   </td></tr>\n",
              "\t<tr><td>50006</td><td>tech_do</td><td>C#                    </td></tr>\n",
              "\t<tr><td>50006</td><td>tech_do</td><td>Java                  </td></tr>\n",
              "\t<tr><td>50006</td><td>tech_do</td><td>SQL                   </td></tr>\n",
              "\t<tr><td>51834</td><td>tech_do</td><td>Arduino / Raspberry Pi</td></tr>\n",
              "\t<tr><td>51834</td><td>tech_do</td><td>C                     </td></tr>\n",
              "\t<tr><td>51834</td><td>tech_do</td><td>Java                  </td></tr>\n",
              "\t<tr><td>51834</td><td>tech_do</td><td>Python                </td></tr>\n",
              "\t<tr><td>51834</td><td>tech_do</td><td>Swift                 </td></tr>\n",
              "\t<tr><td>52485</td><td>tech_do</td><td>Arduino / Raspberry Pi</td></tr>\n",
              "\t<tr><td>52485</td><td>tech_do</td><td>AngularJS             </td></tr>\n",
              "\t<tr><td>52485</td><td>tech_do</td><td>JavaScript            </td></tr>\n",
              "\t<tr><td>52485</td><td>tech_do</td><td>LAMP                  </td></tr>\n",
              "\t<tr><td>52485</td><td>tech_do</td><td>Node.js               </td></tr>\n",
              "\t<tr><td>52485</td><td>tech_do</td><td>PHP                   </td></tr>\n",
              "</tbody>\n",
              "</table>\n"
            ]
          },
          "metadata": {
            "tags": []
          }
        }
      ]
    },
    {
      "cell_type": "markdown",
      "metadata": {
        "id": "sVrmm984BUHa"
      },
      "source": [
        "For example, we could find the most common answers:"
      ]
    },
    {
      "cell_type": "code",
      "metadata": {
        "colab": {
          "base_uri": "https://localhost:8080/",
          "height": 1000
        },
        "id": "a3VRetiLBOpv",
        "outputId": "67e243a7-5a34-4d8e-f5d4-40b2500d609f"
      },
      "source": [
        "stack_multi(\"tech_do\") %>%\n",
        "  count(tech = answer, sort = TRUE)"
      ],
      "execution_count": 10,
      "outputs": [
        {
          "output_type": "stream",
          "text": [
            "Warning message:\n",
            "“unnest() has a new interface. See ?unnest for details.\n",
            "Try `df %>% unnest(c(answer))`, with `mutate()` if needed”\n"
          ],
          "name": "stderr"
        },
        {
          "output_type": "display_data",
          "data": {
            "text/plain": [
              "   tech                          n    \n",
              "1  JavaScript                    27385\n",
              "2  SQL                           21976\n",
              "3  Java                          17942\n",
              "4  C#                            15283\n",
              "5  PHP                           12780\n",
              "6  Python                        12282\n",
              "7  C++                            9589\n",
              "8  SQL Server                     9306\n",
              "9  AngularJS                      8823\n",
              "10 Android                        8601\n",
              "11 Node.js                        8509\n",
              "12 C                              7678\n",
              "13 LAMP                           4821\n",
              "14 MongoDB                        4780\n",
              "15 Cloud (AWS, GAE, Azure, etc.)  4629\n",
              "16 iOS                            4498\n",
              "17 WordPress                      4496\n",
              "18 Ruby                           4383\n",
              "19 Arduino / Raspberry Pi         3797\n",
              "20 Visual Basic                   3312\n",
              "21 Objective-C                    3202\n",
              "22 Redis                          2862\n",
              "23 Swift                          2746\n",
              "24 ReactJS                        2541\n",
              "25 CoffeeScript                   1662\n",
              "26 Cordova                        1651\n",
              "27 R                              1632\n",
              "28 Perl                           1624\n",
              "29 Matlab                         1602\n",
              "30 Scala                          1602\n",
              "31 Go                             1547\n",
              "32 Windows Phone                  1123\n",
              "33 Hadoop                         1012\n",
              "34 SharePoint                      853\n",
              "35 Haskell                         813\n",
              "36 Spark                           707\n",
              "37 Salesforce                      665\n",
              "38 Cassandra                       663\n",
              "39 Clojure                         556\n",
              "40 F#                              484\n",
              "41 Rust                            436\n",
              "42 Dart                            222"
            ],
            "text/latex": "A tibble: 42 × 2\n\\begin{tabular}{ll}\n tech & n\\\\\n <chr> & <int>\\\\\n\\hline\n\t JavaScript                    & 27385\\\\\n\t SQL                           & 21976\\\\\n\t Java                          & 17942\\\\\n\t C\\#                            & 15283\\\\\n\t PHP                           & 12780\\\\\n\t Python                        & 12282\\\\\n\t C++                           &  9589\\\\\n\t SQL Server                    &  9306\\\\\n\t AngularJS                     &  8823\\\\\n\t Android                       &  8601\\\\\n\t Node.js                       &  8509\\\\\n\t C                             &  7678\\\\\n\t LAMP                          &  4821\\\\\n\t MongoDB                       &  4780\\\\\n\t Cloud (AWS, GAE, Azure, etc.) &  4629\\\\\n\t iOS                           &  4498\\\\\n\t WordPress                     &  4496\\\\\n\t Ruby                          &  4383\\\\\n\t Arduino / Raspberry Pi        &  3797\\\\\n\t Visual Basic                  &  3312\\\\\n\t Objective-C                   &  3202\\\\\n\t Redis                         &  2862\\\\\n\t Swift                         &  2746\\\\\n\t ReactJS                       &  2541\\\\\n\t CoffeeScript                  &  1662\\\\\n\t Cordova                       &  1651\\\\\n\t R                             &  1632\\\\\n\t Perl                          &  1624\\\\\n\t Matlab                        &  1602\\\\\n\t Scala                         &  1602\\\\\n\t Go                            &  1547\\\\\n\t Windows Phone                 &  1123\\\\\n\t Hadoop                        &  1012\\\\\n\t SharePoint                    &   853\\\\\n\t Haskell                       &   813\\\\\n\t Spark                         &   707\\\\\n\t Salesforce                    &   665\\\\\n\t Cassandra                     &   663\\\\\n\t Clojure                       &   556\\\\\n\t F\\#                            &   484\\\\\n\t Rust                          &   436\\\\\n\t Dart                          &   222\\\\\n\\end{tabular}\n",
            "text/markdown": "\nA tibble: 42 × 2\n\n| tech &lt;chr&gt; | n &lt;int&gt; |\n|---|---|\n| JavaScript                    | 27385 |\n| SQL                           | 21976 |\n| Java                          | 17942 |\n| C#                            | 15283 |\n| PHP                           | 12780 |\n| Python                        | 12282 |\n| C++                           |  9589 |\n| SQL Server                    |  9306 |\n| AngularJS                     |  8823 |\n| Android                       |  8601 |\n| Node.js                       |  8509 |\n| C                             |  7678 |\n| LAMP                          |  4821 |\n| MongoDB                       |  4780 |\n| Cloud (AWS, GAE, Azure, etc.) |  4629 |\n| iOS                           |  4498 |\n| WordPress                     |  4496 |\n| Ruby                          |  4383 |\n| Arduino / Raspberry Pi        |  3797 |\n| Visual Basic                  |  3312 |\n| Objective-C                   |  3202 |\n| Redis                         |  2862 |\n| Swift                         |  2746 |\n| ReactJS                       |  2541 |\n| CoffeeScript                  |  1662 |\n| Cordova                       |  1651 |\n| R                             |  1632 |\n| Perl                          |  1624 |\n| Matlab                        |  1602 |\n| Scala                         |  1602 |\n| Go                            |  1547 |\n| Windows Phone                 |  1123 |\n| Hadoop                        |  1012 |\n| SharePoint                    |   853 |\n| Haskell                       |   813 |\n| Spark                         |   707 |\n| Salesforce                    |   665 |\n| Cassandra                     |   663 |\n| Clojure                       |   556 |\n| F#                            |   484 |\n| Rust                          |   436 |\n| Dart                          |   222 |\n\n",
            "text/html": [
              "<table class=\"dataframe\">\n",
              "<caption>A tibble: 42 × 2</caption>\n",
              "<thead>\n",
              "\t<tr><th scope=col>tech</th><th scope=col>n</th></tr>\n",
              "\t<tr><th scope=col>&lt;chr&gt;</th><th scope=col>&lt;int&gt;</th></tr>\n",
              "</thead>\n",
              "<tbody>\n",
              "\t<tr><td>JavaScript                   </td><td>27385</td></tr>\n",
              "\t<tr><td>SQL                          </td><td>21976</td></tr>\n",
              "\t<tr><td>Java                         </td><td>17942</td></tr>\n",
              "\t<tr><td>C#                           </td><td>15283</td></tr>\n",
              "\t<tr><td>PHP                          </td><td>12780</td></tr>\n",
              "\t<tr><td>Python                       </td><td>12282</td></tr>\n",
              "\t<tr><td>C++                          </td><td> 9589</td></tr>\n",
              "\t<tr><td>SQL Server                   </td><td> 9306</td></tr>\n",
              "\t<tr><td>AngularJS                    </td><td> 8823</td></tr>\n",
              "\t<tr><td>Android                      </td><td> 8601</td></tr>\n",
              "\t<tr><td>Node.js                      </td><td> 8509</td></tr>\n",
              "\t<tr><td>C                            </td><td> 7678</td></tr>\n",
              "\t<tr><td>LAMP                         </td><td> 4821</td></tr>\n",
              "\t<tr><td>MongoDB                      </td><td> 4780</td></tr>\n",
              "\t<tr><td>Cloud (AWS, GAE, Azure, etc.)</td><td> 4629</td></tr>\n",
              "\t<tr><td>iOS                          </td><td> 4498</td></tr>\n",
              "\t<tr><td>WordPress                    </td><td> 4496</td></tr>\n",
              "\t<tr><td>Ruby                         </td><td> 4383</td></tr>\n",
              "\t<tr><td>Arduino / Raspberry Pi       </td><td> 3797</td></tr>\n",
              "\t<tr><td>Visual Basic                 </td><td> 3312</td></tr>\n",
              "\t<tr><td>Objective-C                  </td><td> 3202</td></tr>\n",
              "\t<tr><td>Redis                        </td><td> 2862</td></tr>\n",
              "\t<tr><td>Swift                        </td><td> 2746</td></tr>\n",
              "\t<tr><td>ReactJS                      </td><td> 2541</td></tr>\n",
              "\t<tr><td>CoffeeScript                 </td><td> 1662</td></tr>\n",
              "\t<tr><td>Cordova                      </td><td> 1651</td></tr>\n",
              "\t<tr><td>R                            </td><td> 1632</td></tr>\n",
              "\t<tr><td>Perl                         </td><td> 1624</td></tr>\n",
              "\t<tr><td>Matlab                       </td><td> 1602</td></tr>\n",
              "\t<tr><td>Scala                        </td><td> 1602</td></tr>\n",
              "\t<tr><td>Go                           </td><td> 1547</td></tr>\n",
              "\t<tr><td>Windows Phone                </td><td> 1123</td></tr>\n",
              "\t<tr><td>Hadoop                       </td><td> 1012</td></tr>\n",
              "\t<tr><td>SharePoint                   </td><td>  853</td></tr>\n",
              "\t<tr><td>Haskell                      </td><td>  813</td></tr>\n",
              "\t<tr><td>Spark                        </td><td>  707</td></tr>\n",
              "\t<tr><td>Salesforce                   </td><td>  665</td></tr>\n",
              "\t<tr><td>Cassandra                    </td><td>  663</td></tr>\n",
              "\t<tr><td>Clojure                      </td><td>  556</td></tr>\n",
              "\t<tr><td>F#                           </td><td>  484</td></tr>\n",
              "\t<tr><td>Rust                         </td><td>  436</td></tr>\n",
              "\t<tr><td>Dart                         </td><td>  222</td></tr>\n",
              "</tbody>\n",
              "</table>\n"
            ]
          },
          "metadata": {
            "tags": []
          }
        }
      ]
    },
    {
      "cell_type": "markdown",
      "metadata": {
        "id": "ovepAqTaBeWu"
      },
      "source": [
        "We can join this with the stack_survey dataset using the respondent_id column. For example, we could look at the most common development technologies used by data scientists:"
      ]
    },
    {
      "cell_type": "code",
      "metadata": {
        "colab": {
          "base_uri": "https://localhost:8080/",
          "height": 1000
        },
        "id": "53xKYFuQBXQF",
        "outputId": "5781da9f-bb3f-47c7-91d0-161c04d54342"
      },
      "source": [
        "stack_survey %>%\n",
        "  filter(occupation == \"Data scientist\") %>%\n",
        "  inner_join(stack_multi(\"tech_do\"), by = \"respondent_id\") %>%\n",
        "  count(answer, sort = TRUE)"
      ],
      "execution_count": 11,
      "outputs": [
        {
          "output_type": "stream",
          "text": [
            "Warning message:\n",
            "“unnest() has a new interface. See ?unnest for details.\n",
            "Try `df %>% unnest(c(answer))`, with `mutate()` if needed”\n"
          ],
          "name": "stderr"
        },
        {
          "output_type": "display_data",
          "data": {
            "text/plain": [
              "   answer                        n  \n",
              "1  Python                        507\n",
              "2  SQL                           356\n",
              "3  R                             352\n",
              "4  Java                          240\n",
              "5  JavaScript                    207\n",
              "6  C++                           155\n",
              "7  C                             125\n",
              "8  Hadoop                        108\n",
              "9  SQL Server                     98\n",
              "10 Spark                          97\n",
              "11 Matlab                         96\n",
              "12 C#                             88\n",
              "13 PHP                            86\n",
              "14 Cloud (AWS, GAE, Azure, etc.)  80\n",
              "15 MongoDB                        76\n",
              "16 Scala                          71\n",
              "17 Node.js                        64\n",
              "18 Android                        61\n",
              "19 Arduino / Raspberry Pi         61\n",
              "20 Perl                           53\n",
              "21 Ruby                           46\n",
              "22 Visual Basic                   44\n",
              "23 LAMP                           42\n",
              "24 AngularJS                      41\n",
              "25 WordPress                      33\n",
              "26 Cassandra                      31\n",
              "27 Redis                          29\n",
              "28 iOS                            22\n",
              "29 Go                             21\n",
              "30 CoffeeScript                   18\n",
              "31 Haskell                        17\n",
              "32 Swift                          17\n",
              "33 Cordova                        14\n",
              "34 Clojure                        13\n",
              "35 Objective-C                    13\n",
              "36 SharePoint                     12\n",
              "37 ReactJS                        10\n",
              "38 Windows Phone                  10\n",
              "39 Salesforce                      8\n",
              "40 F#                              7\n",
              "41 Dart                            4\n",
              "42 Rust                            3"
            ],
            "text/latex": "A tibble: 42 × 2\n\\begin{tabular}{ll}\n answer & n\\\\\n <chr> & <int>\\\\\n\\hline\n\t Python                        & 507\\\\\n\t SQL                           & 356\\\\\n\t R                             & 352\\\\\n\t Java                          & 240\\\\\n\t JavaScript                    & 207\\\\\n\t C++                           & 155\\\\\n\t C                             & 125\\\\\n\t Hadoop                        & 108\\\\\n\t SQL Server                    &  98\\\\\n\t Spark                         &  97\\\\\n\t Matlab                        &  96\\\\\n\t C\\#                            &  88\\\\\n\t PHP                           &  86\\\\\n\t Cloud (AWS, GAE, Azure, etc.) &  80\\\\\n\t MongoDB                       &  76\\\\\n\t Scala                         &  71\\\\\n\t Node.js                       &  64\\\\\n\t Android                       &  61\\\\\n\t Arduino / Raspberry Pi        &  61\\\\\n\t Perl                          &  53\\\\\n\t Ruby                          &  46\\\\\n\t Visual Basic                  &  44\\\\\n\t LAMP                          &  42\\\\\n\t AngularJS                     &  41\\\\\n\t WordPress                     &  33\\\\\n\t Cassandra                     &  31\\\\\n\t Redis                         &  29\\\\\n\t iOS                           &  22\\\\\n\t Go                            &  21\\\\\n\t CoffeeScript                  &  18\\\\\n\t Haskell                       &  17\\\\\n\t Swift                         &  17\\\\\n\t Cordova                       &  14\\\\\n\t Clojure                       &  13\\\\\n\t Objective-C                   &  13\\\\\n\t SharePoint                    &  12\\\\\n\t ReactJS                       &  10\\\\\n\t Windows Phone                 &  10\\\\\n\t Salesforce                    &   8\\\\\n\t F\\#                            &   7\\\\\n\t Dart                          &   4\\\\\n\t Rust                          &   3\\\\\n\\end{tabular}\n",
            "text/markdown": "\nA tibble: 42 × 2\n\n| answer &lt;chr&gt; | n &lt;int&gt; |\n|---|---|\n| Python                        | 507 |\n| SQL                           | 356 |\n| R                             | 352 |\n| Java                          | 240 |\n| JavaScript                    | 207 |\n| C++                           | 155 |\n| C                             | 125 |\n| Hadoop                        | 108 |\n| SQL Server                    |  98 |\n| Spark                         |  97 |\n| Matlab                        |  96 |\n| C#                            |  88 |\n| PHP                           |  86 |\n| Cloud (AWS, GAE, Azure, etc.) |  80 |\n| MongoDB                       |  76 |\n| Scala                         |  71 |\n| Node.js                       |  64 |\n| Android                       |  61 |\n| Arduino / Raspberry Pi        |  61 |\n| Perl                          |  53 |\n| Ruby                          |  46 |\n| Visual Basic                  |  44 |\n| LAMP                          |  42 |\n| AngularJS                     |  41 |\n| WordPress                     |  33 |\n| Cassandra                     |  31 |\n| Redis                         |  29 |\n| iOS                           |  22 |\n| Go                            |  21 |\n| CoffeeScript                  |  18 |\n| Haskell                       |  17 |\n| Swift                         |  17 |\n| Cordova                       |  14 |\n| Clojure                       |  13 |\n| Objective-C                   |  13 |\n| SharePoint                    |  12 |\n| ReactJS                       |  10 |\n| Windows Phone                 |  10 |\n| Salesforce                    |   8 |\n| F#                            |   7 |\n| Dart                          |   4 |\n| Rust                          |   3 |\n\n",
            "text/html": [
              "<table class=\"dataframe\">\n",
              "<caption>A tibble: 42 × 2</caption>\n",
              "<thead>\n",
              "\t<tr><th scope=col>answer</th><th scope=col>n</th></tr>\n",
              "\t<tr><th scope=col>&lt;chr&gt;</th><th scope=col>&lt;int&gt;</th></tr>\n",
              "</thead>\n",
              "<tbody>\n",
              "\t<tr><td>Python                       </td><td>507</td></tr>\n",
              "\t<tr><td>SQL                          </td><td>356</td></tr>\n",
              "\t<tr><td>R                            </td><td>352</td></tr>\n",
              "\t<tr><td>Java                         </td><td>240</td></tr>\n",
              "\t<tr><td>JavaScript                   </td><td>207</td></tr>\n",
              "\t<tr><td>C++                          </td><td>155</td></tr>\n",
              "\t<tr><td>C                            </td><td>125</td></tr>\n",
              "\t<tr><td>Hadoop                       </td><td>108</td></tr>\n",
              "\t<tr><td>SQL Server                   </td><td> 98</td></tr>\n",
              "\t<tr><td>Spark                        </td><td> 97</td></tr>\n",
              "\t<tr><td>Matlab                       </td><td> 96</td></tr>\n",
              "\t<tr><td>C#                           </td><td> 88</td></tr>\n",
              "\t<tr><td>PHP                          </td><td> 86</td></tr>\n",
              "\t<tr><td>Cloud (AWS, GAE, Azure, etc.)</td><td> 80</td></tr>\n",
              "\t<tr><td>MongoDB                      </td><td> 76</td></tr>\n",
              "\t<tr><td>Scala                        </td><td> 71</td></tr>\n",
              "\t<tr><td>Node.js                      </td><td> 64</td></tr>\n",
              "\t<tr><td>Android                      </td><td> 61</td></tr>\n",
              "\t<tr><td>Arduino / Raspberry Pi       </td><td> 61</td></tr>\n",
              "\t<tr><td>Perl                         </td><td> 53</td></tr>\n",
              "\t<tr><td>Ruby                         </td><td> 46</td></tr>\n",
              "\t<tr><td>Visual Basic                 </td><td> 44</td></tr>\n",
              "\t<tr><td>LAMP                         </td><td> 42</td></tr>\n",
              "\t<tr><td>AngularJS                    </td><td> 41</td></tr>\n",
              "\t<tr><td>WordPress                    </td><td> 33</td></tr>\n",
              "\t<tr><td>Cassandra                    </td><td> 31</td></tr>\n",
              "\t<tr><td>Redis                        </td><td> 29</td></tr>\n",
              "\t<tr><td>iOS                          </td><td> 22</td></tr>\n",
              "\t<tr><td>Go                           </td><td> 21</td></tr>\n",
              "\t<tr><td>CoffeeScript                 </td><td> 18</td></tr>\n",
              "\t<tr><td>Haskell                      </td><td> 17</td></tr>\n",
              "\t<tr><td>Swift                        </td><td> 17</td></tr>\n",
              "\t<tr><td>Cordova                      </td><td> 14</td></tr>\n",
              "\t<tr><td>Clojure                      </td><td> 13</td></tr>\n",
              "\t<tr><td>Objective-C                  </td><td> 13</td></tr>\n",
              "\t<tr><td>SharePoint                   </td><td> 12</td></tr>\n",
              "\t<tr><td>ReactJS                      </td><td> 10</td></tr>\n",
              "\t<tr><td>Windows Phone                </td><td> 10</td></tr>\n",
              "\t<tr><td>Salesforce                   </td><td>  8</td></tr>\n",
              "\t<tr><td>F#                           </td><td>  7</td></tr>\n",
              "\t<tr><td>Dart                         </td><td>  4</td></tr>\n",
              "\t<tr><td>Rust                         </td><td>  3</td></tr>\n",
              "</tbody>\n",
              "</table>\n"
            ]
          },
          "metadata": {
            "tags": []
          }
        }
      ]
    },
    {
      "cell_type": "markdown",
      "metadata": {
        "id": "S7JTDUZABqGu"
      },
      "source": [
        "Or we could find out the average age and salary of people using each technology, and compare them:"
      ]
    },
    {
      "cell_type": "code",
      "metadata": {
        "colab": {
          "base_uri": "https://localhost:8080/",
          "height": 859
        },
        "id": "YYR_FXQtBgmy",
        "outputId": "72095817-b73e-4ef3-d0ce-31c6ee1e6866"
      },
      "source": [
        "stack_survey %>%\n",
        "  inner_join(stack_multi(\"tech_do\")) %>%\n",
        "  group_by(answer) %>%\n",
        "  summarize_each(funs(mean(., na.rm = TRUE)), age_midpoint, salary_midpoint) %>%\n",
        "  ggplot(aes(age_midpoint, salary_midpoint)) +\n",
        "  geom_point() +\n",
        "  geom_text(aes(label = answer), vjust = 1, hjust = 1) +\n",
        "  xlab(\"Average age of people using this technology\") +\n",
        "  ylab(\"Average salary (USD)\") +\n",
        "  scale_y_continuous(labels = dollar_format())"
      ],
      "execution_count": 12,
      "outputs": [
        {
          "output_type": "stream",
          "text": [
            "Warning message:\n",
            "“`summarise_each_()` was deprecated in dplyr 0.7.0.\n",
            "Please use `across()` instead.\n",
            "\u001b[90mThis warning is displayed once every 8 hours.\u001b[39m\n",
            "\u001b[90mCall `lifecycle::last_warnings()` to see where this warning was generated.\u001b[39m”\n",
            "Warning message:\n",
            "“unnest() has a new interface. See ?unnest for details.\n",
            "Try `df %>% unnest(c(answer))`, with `mutate()` if needed”\n",
            "Joining, by = \"respondent_id\"\n",
            "\n",
            "Warning message:\n",
            "“`funs()` was deprecated in dplyr 0.8.0.\n",
            "Please use a list of either functions or lambdas: \n",
            "\n",
            "  # Simple named list: \n",
            "  list(mean = mean, median = median)\n",
            "\n",
            "  # Auto named with `tibble::lst()`: \n",
            "  tibble::lst(mean, median)\n",
            "\n",
            "  # Using lambdas\n",
            "  list(~ mean(., trim = .2), ~ median(., na.rm = TRUE))\n",
            "\u001b[90mThis warning is displayed once every 8 hours.\u001b[39m\n",
            "\u001b[90mCall `lifecycle::last_warnings()` to see where this warning was generated.\u001b[39m”\n"
          ],
          "name": "stderr"
        },
        {
          "output_type": "display_data",
          "data": {
            "image/png": "[encoded data removed]",
            "text/plain": [
              "plot without title"
            ]
          },
          "metadata": {
            "tags": [],
            "image/png": {
              "width": 420,
              "height": 420
            }
          }
        }
      ]
    },
    {
      "cell_type": "code",
      "metadata": {
        "id": "Yjv23thuBsIl"
      },
      "source": [
        ""
      ],
      "execution_count": null,
      "outputs": []
    }
  ]
}