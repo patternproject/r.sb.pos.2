{
  "nbformat": 4,
  "nbformat_minor": 0,
  "metadata": {
    "colab": {
      "name": "Multiple Response - v01.ipynb",
      "provenance": [],
      "authorship_tag": "ABX9TyMjB4bM+NrJgSHAdlHzMuVL",
      "include_colab_link": true
    },
    "kernelspec": {
      "name": "ir",
      "display_name": "R"
    },
    "language_info": {
      "name": "R"
    }
  },
  "cells": [
    {
      "cell_type": "markdown",
      "metadata": {
        "id": "view-in-github",
        "colab_type": "text"
      },
      "source": [
        "<a href=\"https://colab.research.google.com/github/patternproject/r.sb.pos.2/blob/main/Multiple_Response_v01.ipynb\" target=\"_parent\"><img src=\"https://colab.research.google.com/assets/colab-badge.svg\" alt=\"Open In Colab\"/></a>"
      ]
    },
    {
      "cell_type": "markdown",
      "metadata": {
        "id": "HAq6TUs5ALeo"
      },
      "source": [
        "# Read Me\n",
        "\n",
        "Good Resources:\n",
        "1. http://varianceexplained.org/r/stacksurveyr/ [1]\n",
        "\n",
        "2. https://github.com/dgrtwo/stacksurveyr [2]\n",
        "\n",
        "\n",
        "In short: \n",
        "\n",
        "1. Categorize each question as one of the three:\n",
        "\n",
        "*   single columns have a single answer on a multiple choice question\n",
        "\n",
        "*   multi columns allowed multiple answers, which are delimited by ; in the text\n",
        "\n",
        "*   inferred columns are not themselves survey questions, but are processed versions of other answers\n",
        "\n",
        "\n",
        "2. Explore <Examples: Multi-response answers> in [2]\n"
      ]
    },
    {
      "cell_type": "markdown",
      "metadata": {
        "id": "zyHbzeOaAO7j"
      },
      "source": [
        "## Setup"
      ]
    },
    {
      "cell_type": "code",
      "metadata": {
        "id": "34ZF9RWhAHCA"
      },
      "source": [
        ""
      ],
      "execution_count": null,
      "outputs": []
    },
    {
      "cell_type": "code",
      "metadata": {
        "colab": {
          "base_uri": "https://localhost:8080/"
        },
        "id": "nDs6GRJ__2f_",
        "outputId": "2a4e1856-1465-4e3e-f3e8-e50cd2a70880"
      },
      "source": [
        "install.packages('devtools')"
      ],
      "execution_count": 2,
      "outputs": [
        {
          "output_type": "stream",
          "text": [
            "Installing package into ‘/usr/local/lib/R/site-library’\n",
            "(as ‘lib’ is unspecified)\n",
            "\n"
          ],
          "name": "stderr"
        }
      ]
    },
    {
      "cell_type": "code",
      "metadata": {
        "colab": {
          "base_uri": "https://localhost:8080/"
        },
        "id": "ZZ3i53KhARo5",
        "outputId": "9848175a-3615-4ff2-9904-a11d21a353e8"
      },
      "source": [
        "devtools::install_github(\"dgrtwo/stacksurveyr\",upgrade = \"never\")"
      ],
      "execution_count": 3,
      "outputs": [
        {
          "output_type": "stream",
          "text": [
            "Downloading GitHub repo dgrtwo/stacksurveyr@HEAD\n",
            "\n"
          ],
          "name": "stderr"
        },
        {
          "output_type": "stream",
          "text": [
            "\u001b[32m✔\u001b[39m  \u001b[90mchecking for file ‘/tmp/RtmpXBN1m0/remotes3b3399e048/dgrtwo-stacksurveyr-633cf35/DESCRIPTION’\u001b[39m\u001b[36m\u001b[39m\n",
            "\u001b[90m─\u001b[39m\u001b[90m  \u001b[39m\u001b[90mpreparing ‘stacksurveyr’:\u001b[39m\u001b[36m\u001b[39m\n",
            "\u001b[32m✔\u001b[39m  \u001b[90mchecking DESCRIPTION meta-information\u001b[39m\u001b[36m\u001b[39m\n",
            "\u001b[90m─\u001b[39m\u001b[90m  \u001b[39m\u001b[90mchecking for LF line-endings in source and make files and shell scripts\u001b[39m\u001b[36m\u001b[39m\n",
            "\u001b[90m─\u001b[39m\u001b[90m  \u001b[39m\u001b[90mchecking for empty or unneeded directories\u001b[39m\u001b[36m\u001b[39m\n",
            "\u001b[90m─\u001b[39m\u001b[90m  \u001b[39m\u001b[90mbuilding ‘stacksurveyr_0.1.0.tar.gz’\u001b[39m\u001b[36m\u001b[39m\n",
            "   \n"
          ],
          "name": "stdout"
        },
        {
          "output_type": "stream",
          "text": [
            "Installing package into ‘/usr/local/lib/R/site-library’\n",
            "(as ‘lib’ is unspecified)\n",
            "\n"
          ],
          "name": "stderr"
        }
      ]
    },
    {
      "cell_type": "code",
      "metadata": {
        "id": "bKNAM-1GAYnP"
      },
      "source": [
        ""
      ],
      "execution_count": null,
      "outputs": []
    }
  ]
}