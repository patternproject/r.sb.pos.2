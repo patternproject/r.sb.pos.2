{
  "nbformat": 4,
  "nbformat_minor": 0,
  "metadata": {
    "colab": {
      "name": "Analysis_Without_v04.ipynb",
      "provenance": [],
      "collapsed_sections": [
        "aSsGw3ZJ4QPN",
        "T8_teX5y4IUs",
        "X0soX4yA4eHM",
        "Je5p-3eH4keF",
        "l948xQo-RAm-",
        "NrkfKrt6WLOz",
        "vwYH19eoWqJ5"
      ],
      "toc_visible": true,
      "include_colab_link": true
    },
    "kernelspec": {
      "name": "ir",
      "display_name": "R"
    }
  },
  "cells": [
    {
      "cell_type": "markdown",
      "metadata": {
        "id": "view-in-github",
        "colab_type": "text"
      },
      "source": [
        "<a href=\"https://colab.research.google.com/github/patternproject/r.sb.pos.2/blob/main/Analysis_Without_v04.ipynb\" target=\"_parent\"><img src=\"https://colab.research.google.com/assets/colab-badge.svg\" alt=\"Open In Colab\"/></a>"
      ]
    },
    {
      "cell_type": "markdown",
      "metadata": {
        "id": "aSsGw3ZJ4QPN"
      },
      "source": [
        "#READ ME"
      ]
    },
    {
      "cell_type": "markdown",
      "metadata": {
        "id": "T8_teX5y4IUs"
      },
      "source": [
        "##Analysis of Survey Data for POS\n",
        "##Iteration 2\n",
        "##Using R\n",
        "\n",
        "#### Renaming it from:\n",
        "#### Separate_NorthSouth_Data_v12.ipynb\n",
        "#### to\n",
        "#### Survey Data Analysis v01.ipnyb"
      ]
    },
    {
      "cell_type": "markdown",
      "metadata": {
        "id": "sm8gm3xu4Sl9"
      },
      "source": [
        "This file takes in \"Extract of Daily POS Data\" in excel format and outputs two files, one for North and other for South region"
      ]
    },
    {
      "cell_type": "markdown",
      "metadata": {
        "id": "X0soX4yA4eHM"
      },
      "source": [
        "#History\n",
        "\n",
        "v1: First Iteration\n",
        "\n",
        "v2: First run of North and South completed\n",
        "\n",
        "v3: Changed write xlsx to incoporate multiple sheets. Added System Date to Output File Name\n",
        "\n",
        "v4: Adding create \"survey summary\" section from \"Survey-Summary\" colab \n",
        "\n",
        "v5: Continuation of v4. Fixing Special characters in Col Names\n",
        "\n",
        "v6: Continuation of v5. Restructured Code\n",
        "\n",
        "v7: Fixing Col Names for Without POS\n",
        "\n",
        "v8: Adding Basic Graphs\n",
        "\n",
        "v9: Automate UniVariate Analysis using PURRR\n",
        "\n",
        "v10: Continuation of v9\n",
        "\n",
        "v11: Continuation of v10. Moving from count to proportions\n",
        "\n",
        "v12: Continuation of v11\n",
        "\n",
        "-------------------------------\n",
        "Renamed as: Survey Data Analysis 01. ipnyb\n",
        "-------------------------------\n",
        "\n",
        "v01: No change\n",
        "\n",
        "v02: Removed code writing output/sample data\n",
        "\n",
        "v03: Fixing the TODO part for Uni-Var analysis\n",
        "\n",
        "v04: Pended the TODO part, replicating the Uni-Var analysis done so far on Without POS, on With POS data\n",
        "\n",
        "Clean data has been dumped in CSV at end of v03, use it to generate it again, if required.\n",
        "\n",
        "This file replaces the analysis on With POS, instead of copy-pasting to reduce the file size\n",
        "\n",
        "v05: Loading the data cleaned in v03 and v04, removing all the cleanup code\n",
        "\n",
        "v06: setting the order of factor levels for better plots\n",
        "\n",
        "v07: Reading in the ordered factor data, cleaned up in v06\n",
        "\n",
        "However the problem was openxlsx package does not allow to specify the col types, and factors were being read in as character\n",
        "\n",
        "Solved by mutate_if for all character vectors\n",
        "\n",
        "v08: Continuing the cleaning, with multiple-response now\n",
        "\n",
        "v09: Cleaned up till ORG_CURRENT_PAYMENT_OPTIONS\n",
        "\n",
        "\n",
        "(still TODO) Dumping Multi-Response 'Customer Data' as a seperate sheet in output\n",
        "\n",
        "v10: Cleaned up till \n",
        "ORG_URDU_FEATURES_EXPECTED\n",
        "\n",
        "#### Mess up, as \n",
        "#### ORG_REASON_TO_NOT_HAVE_POS is not in \"With POS\" Survey\n",
        "-------------------------------\n",
        "Renamed as: \n",
        "\n",
        "Analysis_Without_v01.ipynb\n",
        "-------------------------------\n",
        "\n",
        "\n",
        "v01: Renamed to cover the mess up\n",
        "\n",
        "v02: Cleaned up till\n",
        "ORG_REASON_TO_NOT_HAVE_POS\n",
        "\n",
        "v03: Starting to add multi-response questions to uni-var analysis\n",
        "\n",
        "v04: Added plot for Customer Data"
      ]
    },
    {
      "cell_type": "markdown",
      "metadata": {
        "id": "Je5p-3eH4keF"
      },
      "source": [
        "## Setup"
      ]
    },
    {
      "cell_type": "code",
      "metadata": {
        "id": "njNtW-Qj4C5W"
      },
      "source": [
        "# Library\n",
        "library(ggplot2)\n",
        "library(tidyverse)\n",
        "#install.packages(\"readxl\")\n",
        "library(readxl)"
      ],
      "execution_count": 7,
      "outputs": []
    },
    {
      "cell_type": "code",
      "metadata": {
        "id": "VwTgmRBK3Zmi"
      },
      "source": [
        "# conditional install - Janitor\n",
        "list.of.packages <- c(\"janitor\")\n",
        "new.packages <- list.of.packages[!(list.of.packages %in% installed.packages()[,\"Package\"])]\n",
        "if(length(new.packages)) install.packages(new.packages)\n",
        "\n",
        "library(janitor)"
      ],
      "execution_count": 8,
      "outputs": []
    },
    {
      "cell_type": "markdown",
      "metadata": {
        "id": "AK0PyRTNBVLt"
      },
      "source": [
        "Library to read in XLSX Data\n",
        "\n",
        "OpenXLSX (Good, works)"
      ]
    },
    {
      "cell_type": "code",
      "metadata": {
        "id": "BoLExd2j-VGL",
        "colab": {
          "base_uri": "https://localhost:8080/"
        },
        "outputId": "fea46469-e156-47ff-d6dc-9febbd313729"
      },
      "source": [
        "# conditional install - openxlsx\n",
        "\n",
        "list.of.packages <- c(\"openxlsx\")\n",
        "new.packages <- list.of.packages[!(list.of.packages %in% installed.packages()[,\"Package\"])]\n",
        "if(length(new.packages)) install.packages(new.packages)\n",
        "\n",
        "library(openxlsx)"
      ],
      "execution_count": 3,
      "outputs": [
        {
          "output_type": "stream",
          "text": [
            "Installing package into ‘/usr/local/lib/R/site-library’\n",
            "(as ‘lib’ is unspecified)\n",
            "\n"
          ],
          "name": "stderr"
        }
      ]
    },
    {
      "cell_type": "code",
      "metadata": {
        "id": "Mx0MPSSqgsI1"
      },
      "source": [
        "# explore later\n",
        "# https://slcladal.github.io/surveys.html\n",
        "\n",
        "# install libraries\n",
        "#install.packages(c(\"knitr\", \"lattice\", \"tidyverse\", \"likert\", \n",
        "#                   \"MASS\", \"psych\", \"viridis\", \"ggplot2\", \n",
        "#                   \"userfriendlyscience\"))"
      ],
      "execution_count": 4,
      "outputs": []
    },
    {
      "cell_type": "markdown",
      "metadata": {
        "id": "o4CddV1NlU7X"
      },
      "source": [
        "Explore later:\n",
        "http://gdfe.co/srvyr/articles/srvyr-vs-survey.html"
      ]
    },
    {
      "cell_type": "code",
      "metadata": {
        "colab": {
          "base_uri": "https://localhost:8080/"
        },
        "id": "eke40idlS8F8",
        "outputId": "5cbf5c25-6a49-4f6e-89d2-b19acff92122"
      },
      "source": [
        "#install.packages('devtools')\n",
        "\n",
        "\n",
        "list.of.packages <- c(\"devtools\")\n",
        "new.packages <- list.of.packages[!(list.of.packages %in% installed.packages()[,\"Package\"])]\n",
        "if(length(new.packages)) install.packages(new.packages)\n",
        "\n",
        "library(devtools)"
      ],
      "execution_count": 5,
      "outputs": [
        {
          "output_type": "stream",
          "text": [
            "Loading required package: usethis\n",
            "\n"
          ],
          "name": "stderr"
        }
      ]
    },
    {
      "cell_type": "markdown",
      "metadata": {
        "id": "QZvJNR9QTcdY"
      },
      "source": [
        "For Multi-Response Analysis\n",
        "\n",
        "https://github.com/dgrtwo/stacksurveyr"
      ]
    },
    {
      "cell_type": "markdown",
      "metadata": {
        "id": "8drHIPzVLgew"
      },
      "source": [
        "# Setting Input Files"
      ]
    },
    {
      "cell_type": "code",
      "metadata": {
        "id": "e3dG9JA8LjKK"
      },
      "source": [
        "## With POS File\n",
        "\n",
        "# with_pos_file = '/content/SurveyData-WithoutPOS-2021-05-11_08_54.xlsx'\n"
      ],
      "execution_count": 9,
      "outputs": []
    },
    {
      "cell_type": "code",
      "metadata": {
        "id": "DNk6vxBsLloy"
      },
      "source": [
        "## Without POS File\n",
        "\n",
        "#input_file_2 = '/content/Without - Survey Summary Report_ 20201113.xlsx'\n",
        "without_pos_file = '/content/SurveyData-WithoutPOS-2021-05-11_08_54.xlsx'"
      ],
      "execution_count": 6,
      "outputs": []
    },
    {
      "cell_type": "markdown",
      "metadata": {
        "id": "B_k1vnSQJrGi"
      },
      "source": [
        "# Input Data"
      ]
    },
    {
      "cell_type": "code",
      "metadata": {
        "id": "E9ZMZ_vR4jwD"
      },
      "source": [
        "# reading in input File\n",
        "\n",
        "df_without = read_xlsx(without_pos_file, sheet=1)\n",
        "\n",
        "#df_without = read_xlsx(without_pos_file, sheet=1)"
      ],
      "execution_count": 10,
      "outputs": []
    },
    {
      "cell_type": "code",
      "metadata": {
        "id": "k3-yLoNj41Bk",
        "colab": {
          "base_uri": "https://localhost:8080/"
        },
        "outputId": "653f61a9-10c8-436f-cf01-ea84435a80e8"
      },
      "source": [
        "# printing DF\n",
        "print(as_tibble(df_without))"
      ],
      "execution_count": 11,
      "outputs": [
        {
          "output_type": "stream",
          "text": [
            "\u001b[90m# A tibble: 1,210 x 24\u001b[39m\n",
            "   ORG_CITY  ORG_POS_BUSINES… ORG_INTERNET_AC… ORG_EXPAND_BUSI… ORG_DELIVERY_SE…\n",
            "   \u001b[3m\u001b[90m<chr>\u001b[39m\u001b[23m     \u001b[3m\u001b[90m<chr>\u001b[39m\u001b[23m            \u001b[3m\u001b[90m<chr>\u001b[39m\u001b[23m            \u001b[3m\u001b[90m<chr>\u001b[39m\u001b[23m            \u001b[3m\u001b[90m<chr>\u001b[39m\u001b[23m           \n",
            "\u001b[90m 1\u001b[39m Rawalpin… Yes              None             No               No              \n",
            "\u001b[90m 2\u001b[39m Islamabad Yes              Mobile           Y:short-term     Thinking about …\n",
            "\u001b[90m 3\u001b[39m Islamabad Yes              Mobile           Y:immediately    Yes             \n",
            "\u001b[90m 4\u001b[39m Islamabad Yes              None             Y:long-term      No              \n",
            "\u001b[90m 5\u001b[39m Islamabad Yes              Mobile           Y:immediately    No              \n",
            "\u001b[90m 6\u001b[39m Islamabad Yes              Mobile           Y:immediately    No              \n",
            "\u001b[90m 7\u001b[39m Islamabad Yes              Mobile           Y:long-term      No              \n",
            "\u001b[90m 8\u001b[39m Islamabad Yes              Mobile           Y:long-term      No              \n",
            "\u001b[90m 9\u001b[39m Islamabad Yes              Dedicated        No               No              \n",
            "\u001b[90m10\u001b[39m Islamabad Yes              Dedicated        Y:immediately    Yes             \n",
            "\u001b[90m# … with 1,200 more rows, and 19 more variables: ORG_CUSTOMER_DATA <chr>,\u001b[39m\n",
            "\u001b[90m#   ORG_EMP_COUNT <chr>, ORG_INTERNET_DISRUPTION <chr>,\u001b[39m\n",
            "\u001b[90m#   ORG_NEW_POS_PAYMENT_PREF <chr>, ORG_NEW_POS_LANG_PREF <chr>,\u001b[39m\n",
            "\u001b[90m#   ORG_OUTLETS_COUNT <chr>, ORG_NEW_POS_KIND <chr>,\u001b[39m\n",
            "\u001b[90m#   ORG_WILLINGNESS_TO_PAY_AMOUNT <chr>, RESP_DESIGNATION <chr>,\u001b[39m\n",
            "\u001b[90m#   ORG_POS_FEATURES <chr>, ORG_NEW_POS_DEVICES <chr>, ORG_TYPE <chr>,\u001b[39m\n",
            "\u001b[90m#   ORG_CURRENT_PAYMENT_OPTIONS <chr>, ORG_DISCOUNTS_OFFERED <chr>,\u001b[39m\n",
            "\u001b[90m#   ORG_URDU_FEATURES_EXPECTED <chr>, ORG_REASON_TO_GET_POS <chr>,\u001b[39m\n",
            "\u001b[90m#   ORG_REASON_TO_NOT_HAVE_POS <chr>, ORG_WILLINGNESS_DEMO <chr>,\u001b[39m\n",
            "\u001b[90m#   ORG_WILLINGNESS_FUTURE_CONTACT <chr>\u001b[39m\n"
          ],
          "name": "stdout"
        }
      ]
    },
    {
      "cell_type": "code",
      "metadata": {
        "id": "60xEIgpi5KWK",
        "colab": {
          "base_uri": "https://localhost:8080/"
        },
        "outputId": "8f398462-058a-4aa9-cdd8-7aaa17d6f7ee"
      },
      "source": [
        "## inspect the data\n",
        "str(df_without)"
      ],
      "execution_count": 12,
      "outputs": [
        {
          "output_type": "stream",
          "text": [
            "tibble[,24] [1,210 × 24] (S3: tbl_df/tbl/data.frame)\n",
            " $ ORG_CITY                      : chr [1:1210] \"Rawalpindi\" \"Islamabad\" \"Islamabad\" \"Islamabad\" ...\n",
            " $ ORG_POS_BUSINESS_IMPROVEMENT  : chr [1:1210] \"Yes\" \"Yes\" \"Yes\" \"Yes\" ...\n",
            " $ ORG_INTERNET_ACCESS           : chr [1:1210] \"None\" \"Mobile\" \"Mobile\" \"None\" ...\n",
            " $ ORG_EXPAND_BUSINESS           : chr [1:1210] \"No\" \"Y:short-term\" \"Y:immediately\" \"Y:long-term\" ...\n",
            " $ ORG_DELIVERY_SERVICE          : chr [1:1210] \"No\" \"Thinking about it\" \"Yes\" \"No\" ...\n",
            " $ ORG_CUSTOMER_DATA             : chr [1:1210] \"Do not Store\" \"Do not Store, Use for discounts (repeated purchases)\" \"Use for discounts (repeated purchases)\" \"Use for delivery (sending ordered items), Use for discounts (repeated purchases)\" ...\n",
            " $ ORG_EMP_COUNT                 : chr [1:1210] \"2\" \"3\" \"2\" \"1\" ...\n",
            " $ ORG_INTERNET_DISRUPTION       : chr [1:1210] \"Never\" \"Little\" \"Never\" \"Never\" ...\n",
            " $ ORG_NEW_POS_PAYMENT_PREF      : chr [1:1210] \"One-Time\" \"Recurring:12M\" \"Recurring:1M\" \"Recurring:3M\" ...\n",
            " $ ORG_NEW_POS_LANG_PREF         : chr [1:1210] \"English and Urdu\" \"English and Urdu\" \"English\" \"English and Urdu\" ...\n",
            " $ ORG_OUTLETS_COUNT             : chr [1:1210] \"1\" \"1\" \"1\" \"1\" ...\n",
            " $ ORG_NEW_POS_KIND              : chr [1:1210] \"Stand-Alone\" \"Stand-Alone\" \"Web-Based\" \"Stand-Alone\" ...\n",
            " $ ORG_WILLINGNESS_TO_PAY_AMOUNT : chr [1:1210] \"1K\" \"10K\" \"1K\" \"1K\" ...\n",
            " $ RESP_DESIGNATION              : chr [1:1210] \"Owner\" \"Owner\" \"Owner\" \"Ower\" ...\n",
            " $ ORG_POS_FEATURES              : chr [1:1210] \"Remote Management/Centralized Management (Manage your business remotely), Reports (Get sales and other insights\"| __truncated__ \"Cash Reconciliation (Balance daily sales and returns for cash and credit)\" \"Cash Reconciliation (Balance daily sales and returns for cash and credit), Remote Management/Centralized Manage\"| __truncated__ \"Cash Reconciliation (Balance daily sales and returns for cash and credit)\" ...\n",
            " $ ORG_NEW_POS_DEVICES           : chr [1:1210] \"Mobile Phone\" \"Mobile Phone, PC\" \"Laptop, Mobile Phone, PC, Tablet\" \"Laptop, PC, Tablet\" ...\n",
            " $ ORG_TYPE                      : chr [1:1210] \"Clothing items\" \"Clothing items\" \"Hardware / Paints\" \"Groceries\" ...\n",
            " $ ORG_CURRENT_PAYMENT_OPTIONS   : chr [1:1210] \"Cash\" \"Cash\" \"Cash\" \"Cash\" ...\n",
            " $ ORG_DISCOUNTS_OFFERED         : chr [1:1210] \"Customer Discount (Based on customer relationship)\" \"Customer Discount (Based on customer relationship), Product Discount (Lower price than market)\" \"Bulk Discount (Based on bill amount), Customer Discount (Based on customer relationship)\" \"Customer Discount (Based on customer relationship), Product Discount (Lower price than market)\" ...\n",
            " $ ORG_URDU_FEATURES_EXPECTED    : chr [1:1210] \"Others (Please specify) (Everything in both languages )\" \"Display Screen, Slips or Receipts\" \"Display Screen, Slips or Receipts\" \"Display Screen, Slips or Receipts\" ...\n",
            " $ ORG_REASON_TO_GET_POS         : chr [1:1210] \"Other (Please specify) (Customer Data, daily sales report)\" \"Features, Price\" \"Customization (as per your needs), Features, Price\" \"Customization (as per your needs), Price\" ...\n",
            " $ ORG_REASON_TO_NOT_HAVE_POS    : chr [1:1210] \"I am happy with how my business is managed currently\" \"I am happy with how my business is managed currently\" \"I am happy with how my business is managed currently\" \"I am happy with how my business is managed currently\" ...\n",
            " $ ORG_WILLINGNESS_DEMO          : chr [1:1210] \"No\" \"Yes\" \"Yes\" \"No\" ...\n",
            " $ ORG_WILLINGNESS_FUTURE_CONTACT: chr [1:1210] \"Yes\" \"Yes\" \"Yes\" \"Yes\" ...\n"
          ],
          "name": "stdout"
        }
      ]
    },
    {
      "cell_type": "markdown",
      "metadata": {
        "id": "BECGOIxBNEUv"
      },
      "source": [
        "Remove non-useful columns\n"
      ]
    },
    {
      "cell_type": "code",
      "metadata": {
        "id": "mpJ1j9HZ-lzS"
      },
      "source": [
        "# remove non-useful columns\n",
        "df_without %>% select(!starts_with(\"SB\")) -> df_without_1\n",
        "\n",
        "#df_with_1 %>% select(!c(date, ORG_PICTURE_LINK,ORG_VISITING_CARD, RESP_NAME , RESP_PHONE )) -> df_with_1\n",
        "\n"
      ],
      "execution_count": 13,
      "outputs": []
    },
    {
      "cell_type": "markdown",
      "metadata": {
        "id": "cMbztPqKMdZD"
      },
      "source": [
        "Converting all character to factors"
      ]
    },
    {
      "cell_type": "code",
      "metadata": {
        "id": "8zEzlqr4MhNl"
      },
      "source": [
        "df_without_2 <- df_without_1 %>% mutate_if(is.character,as.factor)"
      ],
      "execution_count": 14,
      "outputs": []
    },
    {
      "cell_type": "code",
      "metadata": {
        "colab": {
          "base_uri": "https://localhost:8080/"
        },
        "id": "2ezBy6SLACyD",
        "outputId": "f11991fa-331d-4059-a584-5cd5bb5f2909"
      },
      "source": [
        "df_without_2 %>% glimpse()"
      ],
      "execution_count": 15,
      "outputs": [
        {
          "output_type": "stream",
          "text": [
            "Rows: 1,210\n",
            "Columns: 24\n",
            "$ ORG_CITY                       \u001b[3m\u001b[90m<fct>\u001b[39m\u001b[23m Rawalpindi, Islamabad, Islamabad, Islam…\n",
            "$ ORG_POS_BUSINESS_IMPROVEMENT   \u001b[3m\u001b[90m<fct>\u001b[39m\u001b[23m Yes, Yes, Yes, Yes, Yes, Yes, Yes, Yes,…\n",
            "$ ORG_INTERNET_ACCESS            \u001b[3m\u001b[90m<fct>\u001b[39m\u001b[23m None, Mobile, Mobile, None, Mobile, Mob…\n",
            "$ ORG_EXPAND_BUSINESS            \u001b[3m\u001b[90m<fct>\u001b[39m\u001b[23m No, Y:short-term, Y:immediately, Y:long…\n",
            "$ ORG_DELIVERY_SERVICE           \u001b[3m\u001b[90m<fct>\u001b[39m\u001b[23m No, Thinking about it, Yes, No, No, No,…\n",
            "$ ORG_CUSTOMER_DATA              \u001b[3m\u001b[90m<fct>\u001b[39m\u001b[23m \"Do not Store\", \"Do not Store, Use for …\n",
            "$ ORG_EMP_COUNT                  \u001b[3m\u001b[90m<fct>\u001b[39m\u001b[23m 2, 3, 2, 1, 1, 2, 1, 1, 1, 1, 2, 3, 2, …\n",
            "$ ORG_INTERNET_DISRUPTION        \u001b[3m\u001b[90m<fct>\u001b[39m\u001b[23m Never, Little, Never, Never, Little, Li…\n",
            "$ ORG_NEW_POS_PAYMENT_PREF       \u001b[3m\u001b[90m<fct>\u001b[39m\u001b[23m One-Time, Recurring:12M, Recurring:1M, …\n",
            "$ ORG_NEW_POS_LANG_PREF          \u001b[3m\u001b[90m<fct>\u001b[39m\u001b[23m English and Urdu, English and Urdu, Eng…\n",
            "$ ORG_OUTLETS_COUNT              \u001b[3m\u001b[90m<fct>\u001b[39m\u001b[23m 1, 1, 1, 1, 1, 1, 1, 1, 1, 2, 1, 1, 1, …\n",
            "$ ORG_NEW_POS_KIND               \u001b[3m\u001b[90m<fct>\u001b[39m\u001b[23m Stand-Alone, Stand-Alone, Web-Based, St…\n",
            "$ ORG_WILLINGNESS_TO_PAY_AMOUNT  \u001b[3m\u001b[90m<fct>\u001b[39m\u001b[23m 1K, 10K, 1K, 1K, 1K, <1K, 1K, 1K, No AN…\n",
            "$ RESP_DESIGNATION               \u001b[3m\u001b[90m<fct>\u001b[39m\u001b[23m Owner, Owner, Owner, Ower, Owner, Owner…\n",
            "$ ORG_POS_FEATURES               \u001b[3m\u001b[90m<fct>\u001b[39m\u001b[23m \"Remote Management/Centralized Manageme…\n",
            "$ ORG_NEW_POS_DEVICES            \u001b[3m\u001b[90m<fct>\u001b[39m\u001b[23m \"Mobile Phone\", \"Mobile Phone, PC\", \"La…\n",
            "$ ORG_TYPE                       \u001b[3m\u001b[90m<fct>\u001b[39m\u001b[23m \"Clothing items\", \"Clothing items\", \"Ha…\n",
            "$ ORG_CURRENT_PAYMENT_OPTIONS    \u001b[3m\u001b[90m<fct>\u001b[39m\u001b[23m \"Cash\", \"Cash\", \"Cash\", \"Cash\", \"Cash\",…\n",
            "$ ORG_DISCOUNTS_OFFERED          \u001b[3m\u001b[90m<fct>\u001b[39m\u001b[23m \"Customer Discount (Based on customer r…\n",
            "$ ORG_URDU_FEATURES_EXPECTED     \u001b[3m\u001b[90m<fct>\u001b[39m\u001b[23m \"Others (Please specify) (Everything in…\n",
            "$ ORG_REASON_TO_GET_POS          \u001b[3m\u001b[90m<fct>\u001b[39m\u001b[23m \"Other (Please specify) (Customer Data,…\n",
            "$ ORG_REASON_TO_NOT_HAVE_POS     \u001b[3m\u001b[90m<fct>\u001b[39m\u001b[23m \"I am happy with how my business is man…\n",
            "$ ORG_WILLINGNESS_DEMO           \u001b[3m\u001b[90m<fct>\u001b[39m\u001b[23m \"No\", \"Yes\", \"Yes\", \"No\", \"No\", \"Yes\", …\n",
            "$ ORG_WILLINGNESS_FUTURE_CONTACT \u001b[3m\u001b[90m<fct>\u001b[39m\u001b[23m \"Yes\", \"Yes\", \"Yes\", \"Yes\", \"Yes\", \"Yes…\n"
          ],
          "name": "stdout"
        }
      ]
    },
    {
      "cell_type": "markdown",
      "metadata": {
        "id": "bMYzieXM86WU"
      },
      "source": [
        "## Multiple Choice Answers"
      ]
    },
    {
      "cell_type": "markdown",
      "metadata": {
        "id": "oJ9-w33LNgIP"
      },
      "source": [
        "Fancy Frequency Tables\n",
        "\n",
        "https://cran.r-project.org/web/packages/janitor/vignettes/tabyls.html"
      ]
    },
    {
      "cell_type": "markdown",
      "metadata": {
        "id": "zATdwnXENnbX"
      },
      "source": [
        "Collapsing Categories or Values\n",
        "\n",
        "https://r4ds.had.co.nz/factors.html"
      ]
    },
    {
      "cell_type": "markdown",
      "metadata": {
        "id": "fVasTkaaOUwc"
      },
      "source": [
        "1. Fixing Garbage Values\n",
        "\n",
        "##### 1.1. ORG_POS_BUSINESS_IMPROVEMENT"
      ]
    },
    {
      "cell_type": "markdown",
      "metadata": {
        "id": "l_deQwyRNWZn"
      },
      "source": [
        "Fixed Previosuly - Nothing to be done here"
      ]
    },
    {
      "cell_type": "code",
      "metadata": {
        "colab": {
          "base_uri": "https://localhost:8080/",
          "height": 158
        },
        "id": "paFyh5BvBibb",
        "outputId": "1a43cf77-7d98-4066-8237-ee892675798d"
      },
      "source": [
        "df_without_2 %>% tabyl(ORG_POS_BUSINESS_IMPROVEMENT)"
      ],
      "execution_count": 16,
      "outputs": [
        {
          "output_type": "display_data",
          "data": {
            "text/plain": [
              "  ORG_POS_BUSINESS_IMPROVEMENT n   percent  \n",
              "1 No                           843 0.6966942\n",
              "2 Yes                          367 0.3033058"
            ],
            "text/latex": "A tabyl: 2 × 3\n\\begin{tabular}{lll}\n ORG\\_POS\\_BUSINESS\\_IMPROVEMENT & n & percent\\\\\n <fct> & <dbl> & <dbl>\\\\\n\\hline\n\t No  & 843 & 0.6966942\\\\\n\t Yes & 367 & 0.3033058\\\\\n\\end{tabular}\n",
            "text/markdown": "\nA tabyl: 2 × 3\n\n| ORG_POS_BUSINESS_IMPROVEMENT &lt;fct&gt; | n &lt;dbl&gt; | percent &lt;dbl&gt; |\n|---|---|---|\n| No  | 843 | 0.6966942 |\n| Yes | 367 | 0.3033058 |\n\n",
            "text/html": [
              "<table class=\"dataframe\">\n",
              "<caption>A tabyl: 2 × 3</caption>\n",
              "<thead>\n",
              "\t<tr><th scope=col>ORG_POS_BUSINESS_IMPROVEMENT</th><th scope=col>n</th><th scope=col>percent</th></tr>\n",
              "\t<tr><th scope=col>&lt;fct&gt;</th><th scope=col>&lt;dbl&gt;</th><th scope=col>&lt;dbl&gt;</th></tr>\n",
              "</thead>\n",
              "<tbody>\n",
              "\t<tr><td>No </td><td>843</td><td>0.6966942</td></tr>\n",
              "\t<tr><td>Yes</td><td>367</td><td>0.3033058</td></tr>\n",
              "</tbody>\n",
              "</table>\n"
            ]
          },
          "metadata": {
            "tags": []
          }
        }
      ]
    },
    {
      "cell_type": "markdown",
      "metadata": {
        "id": "aptt_q-5OkcE"
      },
      "source": [
        "##### 1.2  ORG_INTERNET_ACCESS"
      ]
    },
    {
      "cell_type": "markdown",
      "metadata": {
        "id": "6qrOU-51N2IW"
      },
      "source": [
        "Fixed - Nothing to be done here"
      ]
    },
    {
      "cell_type": "code",
      "metadata": {
        "colab": {
          "base_uri": "https://localhost:8080/",
          "height": 189
        },
        "id": "Pf8rqswtMt3x",
        "outputId": "380c331f-5aa8-4e44-9e8e-e3649c9885ac"
      },
      "source": [
        "tabyl(df_without_2$ORG_INTERNET_ACCESS)"
      ],
      "execution_count": 17,
      "outputs": [
        {
          "output_type": "display_data",
          "data": {
            "text/plain": [
              "  df_without_2$ORG_INTERNET_ACCESS n   percent  \n",
              "1 Dedicated                        267 0.2206612\n",
              "2 Mobile                           594 0.4909091\n",
              "3 None                             349 0.2884298"
            ],
            "text/latex": "A tabyl: 3 × 3\n\\begin{tabular}{lll}\n df\\_without\\_2\\$ORG\\_INTERNET\\_ACCESS & n & percent\\\\\n <fct> & <dbl> & <dbl>\\\\\n\\hline\n\t Dedicated & 267 & 0.2206612\\\\\n\t Mobile    & 594 & 0.4909091\\\\\n\t None      & 349 & 0.2884298\\\\\n\\end{tabular}\n",
            "text/markdown": "\nA tabyl: 3 × 3\n\n| df_without_2$ORG_INTERNET_ACCESS &lt;fct&gt; | n &lt;dbl&gt; | percent &lt;dbl&gt; |\n|---|---|---|\n| Dedicated | 267 | 0.2206612 |\n| Mobile    | 594 | 0.4909091 |\n| None      | 349 | 0.2884298 |\n\n",
            "text/html": [
              "<table class=\"dataframe\">\n",
              "<caption>A tabyl: 3 × 3</caption>\n",
              "<thead>\n",
              "\t<tr><th scope=col>df_without_2$ORG_INTERNET_ACCESS</th><th scope=col>n</th><th scope=col>percent</th></tr>\n",
              "\t<tr><th scope=col>&lt;fct&gt;</th><th scope=col>&lt;dbl&gt;</th><th scope=col>&lt;dbl&gt;</th></tr>\n",
              "</thead>\n",
              "<tbody>\n",
              "\t<tr><td>Dedicated</td><td>267</td><td>0.2206612</td></tr>\n",
              "\t<tr><td>Mobile   </td><td>594</td><td>0.4909091</td></tr>\n",
              "\t<tr><td>None     </td><td>349</td><td>0.2884298</td></tr>\n",
              "</tbody>\n",
              "</table>\n"
            ]
          },
          "metadata": {
            "tags": []
          }
        }
      ]
    },
    {
      "cell_type": "markdown",
      "metadata": {
        "id": "ERwN5utBQ2qi"
      },
      "source": [
        "Reordering the factor levels"
      ]
    },
    {
      "cell_type": "code",
      "metadata": {
        "colab": {
          "base_uri": "https://localhost:8080/",
          "height": 34
        },
        "id": "j7QiutKnRCg0",
        "outputId": "5f597bcd-aab1-478a-b855-cea92b24bc53"
      },
      "source": [
        "levels(df_without_2$ORG_INTERNET_ACCESS)"
      ],
      "execution_count": 18,
      "outputs": [
        {
          "output_type": "display_data",
          "data": {
            "text/plain": [
              "[1] \"Dedicated\" \"Mobile\"    \"None\"     "
            ],
            "text/latex": "\\begin{enumerate*}\n\\item 'Dedicated'\n\\item 'Mobile'\n\\item 'None'\n\\end{enumerate*}\n",
            "text/markdown": "1. 'Dedicated'\n2. 'Mobile'\n3. 'None'\n\n\n",
            "text/html": [
              "<style>\n",
              ".list-inline {list-style: none; margin:0; padding: 0}\n",
              ".list-inline>li {display: inline-block}\n",
              ".list-inline>li:not(:last-child)::after {content: \"\\00b7\"; padding: 0 .5ex}\n",
              "</style>\n",
              "<ol class=list-inline><li>'Dedicated'</li><li>'Mobile'</li><li>'None'</li></ol>\n"
            ]
          },
          "metadata": {
            "tags": []
          }
        }
      ]
    },
    {
      "cell_type": "code",
      "metadata": {
        "id": "7hYTTyMdQ0AC"
      },
      "source": [
        "df_without_2 <- df_without_2 %>%\n",
        "mutate(ORG_INTERNET_ACCESS = \n",
        "fct_relevel(ORG_INTERNET_ACCESS, c('None','Mobile','Dedicated')))"
      ],
      "execution_count": 19,
      "outputs": []
    },
    {
      "cell_type": "code",
      "metadata": {
        "colab": {
          "base_uri": "https://localhost:8080/",
          "height": 189
        },
        "id": "kQnFRDLtRg9S",
        "outputId": "1acaa4cb-51ec-4b33-9213-da23ca619115"
      },
      "source": [
        "tabyl(df_without_2$ORG_INTERNET_ACCESS)"
      ],
      "execution_count": 20,
      "outputs": [
        {
          "output_type": "display_data",
          "data": {
            "text/plain": [
              "  df_without_2$ORG_INTERNET_ACCESS n   percent  \n",
              "1 None                             349 0.2884298\n",
              "2 Mobile                           594 0.4909091\n",
              "3 Dedicated                        267 0.2206612"
            ],
            "text/latex": "A tabyl: 3 × 3\n\\begin{tabular}{lll}\n df\\_without\\_2\\$ORG\\_INTERNET\\_ACCESS & n & percent\\\\\n <fct> & <dbl> & <dbl>\\\\\n\\hline\n\t None      & 349 & 0.2884298\\\\\n\t Mobile    & 594 & 0.4909091\\\\\n\t Dedicated & 267 & 0.2206612\\\\\n\\end{tabular}\n",
            "text/markdown": "\nA tabyl: 3 × 3\n\n| df_without_2$ORG_INTERNET_ACCESS &lt;fct&gt; | n &lt;dbl&gt; | percent &lt;dbl&gt; |\n|---|---|---|\n| None      | 349 | 0.2884298 |\n| Mobile    | 594 | 0.4909091 |\n| Dedicated | 267 | 0.2206612 |\n\n",
            "text/html": [
              "<table class=\"dataframe\">\n",
              "<caption>A tabyl: 3 × 3</caption>\n",
              "<thead>\n",
              "\t<tr><th scope=col>df_without_2$ORG_INTERNET_ACCESS</th><th scope=col>n</th><th scope=col>percent</th></tr>\n",
              "\t<tr><th scope=col>&lt;fct&gt;</th><th scope=col>&lt;dbl&gt;</th><th scope=col>&lt;dbl&gt;</th></tr>\n",
              "</thead>\n",
              "<tbody>\n",
              "\t<tr><td>None     </td><td>349</td><td>0.2884298</td></tr>\n",
              "\t<tr><td>Mobile   </td><td>594</td><td>0.4909091</td></tr>\n",
              "\t<tr><td>Dedicated</td><td>267</td><td>0.2206612</td></tr>\n",
              "</tbody>\n",
              "</table>\n"
            ]
          },
          "metadata": {
            "tags": []
          }
        }
      ]
    },
    {
      "cell_type": "markdown",
      "metadata": {
        "id": "plDlPp3iPXCW"
      },
      "source": [
        "##### 1.3 ORG_EXPAND_BUSINESS  "
      ]
    },
    {
      "cell_type": "markdown",
      "metadata": {
        "id": "Hknh_eEzOK0g"
      },
      "source": [
        "Fixed - Nothing to be done here"
      ]
    },
    {
      "cell_type": "code",
      "metadata": {
        "colab": {
          "base_uri": "https://localhost:8080/",
          "height": 220
        },
        "id": "M5Er9xlOPmlC",
        "outputId": "92d6993e-a1f9-4b34-8f74-5c2149bdc4f6"
      },
      "source": [
        "tabyl(df_without_2$ORG_EXPAND_BUSINESS)"
      ],
      "execution_count": 21,
      "outputs": [
        {
          "output_type": "display_data",
          "data": {
            "text/plain": [
              "  df_without_2$ORG_EXPAND_BUSINESS n   percent   \n",
              "1 No                               655 0.54132231\n",
              "2 Y:immediately                    218 0.18016529\n",
              "3 Y:long-term                      290 0.23966942\n",
              "4 Y:short-term                      47 0.03884298"
            ],
            "text/latex": "A tabyl: 4 × 3\n\\begin{tabular}{lll}\n df\\_without\\_2\\$ORG\\_EXPAND\\_BUSINESS & n & percent\\\\\n <fct> & <dbl> & <dbl>\\\\\n\\hline\n\t No            & 655 & 0.54132231\\\\\n\t Y:immediately & 218 & 0.18016529\\\\\n\t Y:long-term   & 290 & 0.23966942\\\\\n\t Y:short-term  &  47 & 0.03884298\\\\\n\\end{tabular}\n",
            "text/markdown": "\nA tabyl: 4 × 3\n\n| df_without_2$ORG_EXPAND_BUSINESS &lt;fct&gt; | n &lt;dbl&gt; | percent &lt;dbl&gt; |\n|---|---|---|\n| No            | 655 | 0.54132231 |\n| Y:immediately | 218 | 0.18016529 |\n| Y:long-term   | 290 | 0.23966942 |\n| Y:short-term  |  47 | 0.03884298 |\n\n",
            "text/html": [
              "<table class=\"dataframe\">\n",
              "<caption>A tabyl: 4 × 3</caption>\n",
              "<thead>\n",
              "\t<tr><th scope=col>df_without_2$ORG_EXPAND_BUSINESS</th><th scope=col>n</th><th scope=col>percent</th></tr>\n",
              "\t<tr><th scope=col>&lt;fct&gt;</th><th scope=col>&lt;dbl&gt;</th><th scope=col>&lt;dbl&gt;</th></tr>\n",
              "</thead>\n",
              "<tbody>\n",
              "\t<tr><td>No           </td><td>655</td><td>0.54132231</td></tr>\n",
              "\t<tr><td>Y:immediately</td><td>218</td><td>0.18016529</td></tr>\n",
              "\t<tr><td>Y:long-term  </td><td>290</td><td>0.23966942</td></tr>\n",
              "\t<tr><td>Y:short-term </td><td> 47</td><td>0.03884298</td></tr>\n",
              "</tbody>\n",
              "</table>\n"
            ]
          },
          "metadata": {
            "tags": []
          }
        }
      ]
    },
    {
      "cell_type": "code",
      "metadata": {
        "colab": {
          "base_uri": "https://localhost:8080/",
          "height": 34
        },
        "id": "f_J4RR5zPnww",
        "outputId": "c3cd7ced-074e-4855-ec1b-9bddf97d660d"
      },
      "source": [
        "levels(df_without_2$ORG_EXPAND_BUSINESS)"
      ],
      "execution_count": 22,
      "outputs": [
        {
          "output_type": "display_data",
          "data": {
            "text/plain": [
              "[1] \"No\"            \"Y:immediately\" \"Y:long-term\"   \"Y:short-term\" "
            ],
            "text/latex": "\\begin{enumerate*}\n\\item 'No'\n\\item 'Y:immediately'\n\\item 'Y:long-term'\n\\item 'Y:short-term'\n\\end{enumerate*}\n",
            "text/markdown": "1. 'No'\n2. 'Y:immediately'\n3. 'Y:long-term'\n4. 'Y:short-term'\n\n\n",
            "text/html": [
              "<style>\n",
              ".list-inline {list-style: none; margin:0; padding: 0}\n",
              ".list-inline>li {display: inline-block}\n",
              ".list-inline>li:not(:last-child)::after {content: \"\\00b7\"; padding: 0 .5ex}\n",
              "</style>\n",
              "<ol class=list-inline><li>'No'</li><li>'Y:immediately'</li><li>'Y:long-term'</li><li>'Y:short-term'</li></ol>\n"
            ]
          },
          "metadata": {
            "tags": []
          }
        }
      ]
    },
    {
      "cell_type": "markdown",
      "metadata": {
        "id": "7QoVJZHrPMla"
      },
      "source": [
        "fct_relevel(.f, ..., afer = 0L)\n",
        "Manually reorder factor levels.\n",
        "fct_relevel(f, c(\"b\", \"c\", \"a\")) "
      ]
    },
    {
      "cell_type": "code",
      "metadata": {
        "id": "nVRdiY62PODM"
      },
      "source": [
        "df_without_2  <- df_without_2 %>%\n",
        "mutate (ORG_EXPAND_BUSINESS = fct_relevel(ORG_EXPAND_BUSINESS, \n",
        "c('No','Y:immediately','Y:short-term','Y:long-term')))"
      ],
      "execution_count": 23,
      "outputs": []
    },
    {
      "cell_type": "code",
      "metadata": {
        "colab": {
          "base_uri": "https://localhost:8080/",
          "height": 220
        },
        "id": "4gcQVlq2P5eV",
        "outputId": "22e8826e-8590-4a23-d313-f85f8b274361"
      },
      "source": [
        "tabyl(df_without_2$ORG_EXPAND_BUSINESS)"
      ],
      "execution_count": 24,
      "outputs": [
        {
          "output_type": "display_data",
          "data": {
            "text/plain": [
              "  df_without_2$ORG_EXPAND_BUSINESS n   percent   \n",
              "1 No                               655 0.54132231\n",
              "2 Y:immediately                    218 0.18016529\n",
              "3 Y:short-term                      47 0.03884298\n",
              "4 Y:long-term                      290 0.23966942"
            ],
            "text/latex": "A tabyl: 4 × 3\n\\begin{tabular}{lll}\n df\\_without\\_2\\$ORG\\_EXPAND\\_BUSINESS & n & percent\\\\\n <fct> & <dbl> & <dbl>\\\\\n\\hline\n\t No            & 655 & 0.54132231\\\\\n\t Y:immediately & 218 & 0.18016529\\\\\n\t Y:short-term  &  47 & 0.03884298\\\\\n\t Y:long-term   & 290 & 0.23966942\\\\\n\\end{tabular}\n",
            "text/markdown": "\nA tabyl: 4 × 3\n\n| df_without_2$ORG_EXPAND_BUSINESS &lt;fct&gt; | n &lt;dbl&gt; | percent &lt;dbl&gt; |\n|---|---|---|\n| No            | 655 | 0.54132231 |\n| Y:immediately | 218 | 0.18016529 |\n| Y:short-term  |  47 | 0.03884298 |\n| Y:long-term   | 290 | 0.23966942 |\n\n",
            "text/html": [
              "<table class=\"dataframe\">\n",
              "<caption>A tabyl: 4 × 3</caption>\n",
              "<thead>\n",
              "\t<tr><th scope=col>df_without_2$ORG_EXPAND_BUSINESS</th><th scope=col>n</th><th scope=col>percent</th></tr>\n",
              "\t<tr><th scope=col>&lt;fct&gt;</th><th scope=col>&lt;dbl&gt;</th><th scope=col>&lt;dbl&gt;</th></tr>\n",
              "</thead>\n",
              "<tbody>\n",
              "\t<tr><td>No           </td><td>655</td><td>0.54132231</td></tr>\n",
              "\t<tr><td>Y:immediately</td><td>218</td><td>0.18016529</td></tr>\n",
              "\t<tr><td>Y:short-term </td><td> 47</td><td>0.03884298</td></tr>\n",
              "\t<tr><td>Y:long-term  </td><td>290</td><td>0.23966942</td></tr>\n",
              "</tbody>\n",
              "</table>\n"
            ]
          },
          "metadata": {
            "tags": []
          }
        }
      ]
    },
    {
      "cell_type": "markdown",
      "metadata": {
        "id": "xVmC_PsWRhXc"
      },
      "source": [
        "##### 1.4 ORG_DELIVERY_SERVICE  "
      ]
    },
    {
      "cell_type": "markdown",
      "metadata": {
        "id": "pZaqz_SfQB5e"
      },
      "source": [
        "Fixed, Nothing to be Done"
      ]
    },
    {
      "cell_type": "code",
      "metadata": {
        "colab": {
          "base_uri": "https://localhost:8080/",
          "height": 189
        },
        "id": "YJkgIVVqRgE7",
        "outputId": "93d880a8-ed5f-4894-fe8d-397c5754376b"
      },
      "source": [
        "tabyl(df_without_2$ORG_DELIVERY_SERVICE)"
      ],
      "execution_count": 25,
      "outputs": [
        {
          "output_type": "display_data",
          "data": {
            "text/plain": [
              "  df_without_2$ORG_DELIVERY_SERVICE n   percent   \n",
              "1 No                                986 0.81487603\n",
              "2 Thinking about it                 110 0.09090909\n",
              "3 Yes                               114 0.09421488"
            ],
            "text/latex": "A tabyl: 3 × 3\n\\begin{tabular}{lll}\n df\\_without\\_2\\$ORG\\_DELIVERY\\_SERVICE & n & percent\\\\\n <fct> & <dbl> & <dbl>\\\\\n\\hline\n\t No                & 986 & 0.81487603\\\\\n\t Thinking about it & 110 & 0.09090909\\\\\n\t Yes               & 114 & 0.09421488\\\\\n\\end{tabular}\n",
            "text/markdown": "\nA tabyl: 3 × 3\n\n| df_without_2$ORG_DELIVERY_SERVICE &lt;fct&gt; | n &lt;dbl&gt; | percent &lt;dbl&gt; |\n|---|---|---|\n| No                | 986 | 0.81487603 |\n| Thinking about it | 110 | 0.09090909 |\n| Yes               | 114 | 0.09421488 |\n\n",
            "text/html": [
              "<table class=\"dataframe\">\n",
              "<caption>A tabyl: 3 × 3</caption>\n",
              "<thead>\n",
              "\t<tr><th scope=col>df_without_2$ORG_DELIVERY_SERVICE</th><th scope=col>n</th><th scope=col>percent</th></tr>\n",
              "\t<tr><th scope=col>&lt;fct&gt;</th><th scope=col>&lt;dbl&gt;</th><th scope=col>&lt;dbl&gt;</th></tr>\n",
              "</thead>\n",
              "<tbody>\n",
              "\t<tr><td>No               </td><td>986</td><td>0.81487603</td></tr>\n",
              "\t<tr><td>Thinking about it</td><td>110</td><td>0.09090909</td></tr>\n",
              "\t<tr><td>Yes              </td><td>114</td><td>0.09421488</td></tr>\n",
              "</tbody>\n",
              "</table>\n"
            ]
          },
          "metadata": {
            "tags": []
          }
        }
      ]
    },
    {
      "cell_type": "markdown",
      "metadata": {
        "id": "3VAffNJdScT3"
      },
      "source": [
        "##### 1.5 ORG_CUSTOMER_DATA"
      ]
    },
    {
      "cell_type": "code",
      "metadata": {
        "id": "Gwv1q1BsvLoq"
      },
      "source": [
        "#df_with_1 <- df_with"
      ],
      "execution_count": 26,
      "outputs": []
    },
    {
      "cell_type": "code",
      "metadata": {
        "colab": {
          "base_uri": "https://localhost:8080/",
          "height": 804
        },
        "id": "dFNGMqlhR1Hw",
        "outputId": "5c5b99ca-0301-41ab-de36-38eeeb941833"
      },
      "source": [
        "tabyl(df_without_2$ORG_CUSTOMER_DATA)"
      ],
      "execution_count": 27,
      "outputs": [
        {
          "output_type": "display_data",
          "data": {
            "text/plain": [
              "   df_without_2$ORG_CUSTOMER_DATA                                                                                       \n",
              "1  -                                                                                                                    \n",
              "2  Do not Store                                                                                                         \n",
              "3  Do not Store, Store but do not use                                                                                   \n",
              "4  Do not Store, Use for delivery (sending ordered items)                                                               \n",
              "5  Do not Store, Use for discounts (repeated purchases)                                                                 \n",
              "6  Do not Store, Use for discounts (repeated purchases), Use for sending SMS (advertisement)                            \n",
              "7  Do not Store, Use for sending SMS (advertisement)                                                                    \n",
              "8  Store but do not use                                                                                                 \n",
              "9  Store but do not use, Use for delivery (sending ordered items), Use for discounts (repeated purchases)               \n",
              "10 Store but do not use, Use for discounts (repeated purchases)                                                         \n",
              "11 Store but do not use, Use for discounts (repeated purchases), Use for sending SMS (advertisement)                    \n",
              "12 Store but do not use, Use for sending SMS (advertisement)                                                            \n",
              "13 Use for delivery (sending ordered items)                                                                             \n",
              "14 Use for delivery (sending ordered items), Use for discounts (repeated purchases)                                     \n",
              "15 Use for delivery (sending ordered items), Use for discounts (repeated purchases), Use for sending SMS (advertisement)\n",
              "16 Use for delivery (sending ordered items), Use for sending SMS (advertisement)                                        \n",
              "17 Use for discounts (repeated purchases)                                                                               \n",
              "18 Use for discounts (repeated purchases), Use for sending SMS (advertisement)                                          \n",
              "19 Use for sending SMS (advertisement)                                                                                  \n",
              "   n   percent     \n",
              "1    4 0.0033057851\n",
              "2  370 0.3057851240\n",
              "3    2 0.0016528926\n",
              "4    1 0.0008264463\n",
              "5  341 0.2818181818\n",
              "6    2 0.0016528926\n",
              "7    1 0.0008264463\n",
              "8  121 0.1000000000\n",
              "9    2 0.0016528926\n",
              "10  44 0.0363636364\n",
              "11   6 0.0049586777\n",
              "12   1 0.0008264463\n",
              "13   4 0.0033057851\n",
              "14  30 0.0247933884\n",
              "15   9 0.0074380165\n",
              "16   5 0.0041322314\n",
              "17 238 0.1966942149\n",
              "18  20 0.0165289256\n",
              "19   9 0.0074380165"
            ],
            "text/latex": "A tabyl: 19 × 3\n\\begin{tabular}{lll}\n df\\_without\\_2\\$ORG\\_CUSTOMER\\_DATA & n & percent\\\\\n <fct> & <dbl> & <dbl>\\\\\n\\hline\n\t -                                                                                                                     &   4 & 0.0033057851\\\\\n\t Do not Store                                                                                                          & 370 & 0.3057851240\\\\\n\t Do not Store, Store but do not use                                                                                    &   2 & 0.0016528926\\\\\n\t Do not Store, Use for delivery (sending ordered items)                                                                &   1 & 0.0008264463\\\\\n\t Do not Store, Use for discounts (repeated purchases)                                                                  & 341 & 0.2818181818\\\\\n\t Do not Store, Use for discounts (repeated purchases), Use for sending SMS (advertisement)                             &   2 & 0.0016528926\\\\\n\t Do not Store, Use for sending SMS (advertisement)                                                                     &   1 & 0.0008264463\\\\\n\t Store but do not use                                                                                                  & 121 & 0.1000000000\\\\\n\t Store but do not use, Use for delivery (sending ordered items), Use for discounts (repeated purchases)                &   2 & 0.0016528926\\\\\n\t Store but do not use, Use for discounts (repeated purchases)                                                          &  44 & 0.0363636364\\\\\n\t Store but do not use, Use for discounts (repeated purchases), Use for sending SMS (advertisement)                     &   6 & 0.0049586777\\\\\n\t Store but do not use, Use for sending SMS (advertisement)                                                             &   1 & 0.0008264463\\\\\n\t Use for delivery (sending ordered items)                                                                              &   4 & 0.0033057851\\\\\n\t Use for delivery (sending ordered items), Use for discounts (repeated purchases)                                      &  30 & 0.0247933884\\\\\n\t Use for delivery (sending ordered items), Use for discounts (repeated purchases), Use for sending SMS (advertisement) &   9 & 0.0074380165\\\\\n\t Use for delivery (sending ordered items), Use for sending SMS (advertisement)                                         &   5 & 0.0041322314\\\\\n\t Use for discounts (repeated purchases)                                                                                & 238 & 0.1966942149\\\\\n\t Use for discounts (repeated purchases), Use for sending SMS (advertisement)                                           &  20 & 0.0165289256\\\\\n\t Use for sending SMS (advertisement)                                                                                   &   9 & 0.0074380165\\\\\n\\end{tabular}\n",
            "text/markdown": "\nA tabyl: 19 × 3\n\n| df_without_2$ORG_CUSTOMER_DATA &lt;fct&gt; | n &lt;dbl&gt; | percent &lt;dbl&gt; |\n|---|---|---|\n| -                                                                                                                     |   4 | 0.0033057851 |\n| Do not Store                                                                                                          | 370 | 0.3057851240 |\n| Do not Store, Store but do not use                                                                                    |   2 | 0.0016528926 |\n| Do not Store, Use for delivery (sending ordered items)                                                                |   1 | 0.0008264463 |\n| Do not Store, Use for discounts (repeated purchases)                                                                  | 341 | 0.2818181818 |\n| Do not Store, Use for discounts (repeated purchases), Use for sending SMS (advertisement)                             |   2 | 0.0016528926 |\n| Do not Store, Use for sending SMS (advertisement)                                                                     |   1 | 0.0008264463 |\n| Store but do not use                                                                                                  | 121 | 0.1000000000 |\n| Store but do not use, Use for delivery (sending ordered items), Use for discounts (repeated purchases)                |   2 | 0.0016528926 |\n| Store but do not use, Use for discounts (repeated purchases)                                                          |  44 | 0.0363636364 |\n| Store but do not use, Use for discounts (repeated purchases), Use for sending SMS (advertisement)                     |   6 | 0.0049586777 |\n| Store but do not use, Use for sending SMS (advertisement)                                                             |   1 | 0.0008264463 |\n| Use for delivery (sending ordered items)                                                                              |   4 | 0.0033057851 |\n| Use for delivery (sending ordered items), Use for discounts (repeated purchases)                                      |  30 | 0.0247933884 |\n| Use for delivery (sending ordered items), Use for discounts (repeated purchases), Use for sending SMS (advertisement) |   9 | 0.0074380165 |\n| Use for delivery (sending ordered items), Use for sending SMS (advertisement)                                         |   5 | 0.0041322314 |\n| Use for discounts (repeated purchases)                                                                                | 238 | 0.1966942149 |\n| Use for discounts (repeated purchases), Use for sending SMS (advertisement)                                           |  20 | 0.0165289256 |\n| Use for sending SMS (advertisement)                                                                                   |   9 | 0.0074380165 |\n\n",
            "text/html": [
              "<table class=\"dataframe\">\n",
              "<caption>A tabyl: 19 × 3</caption>\n",
              "<thead>\n",
              "\t<tr><th scope=col>df_without_2$ORG_CUSTOMER_DATA</th><th scope=col>n</th><th scope=col>percent</th></tr>\n",
              "\t<tr><th scope=col>&lt;fct&gt;</th><th scope=col>&lt;dbl&gt;</th><th scope=col>&lt;dbl&gt;</th></tr>\n",
              "</thead>\n",
              "<tbody>\n",
              "\t<tr><td>-                                                                                                                    </td><td>  4</td><td>0.0033057851</td></tr>\n",
              "\t<tr><td>Do not Store                                                                                                         </td><td>370</td><td>0.3057851240</td></tr>\n",
              "\t<tr><td>Do not Store, Store but do not use                                                                                   </td><td>  2</td><td>0.0016528926</td></tr>\n",
              "\t<tr><td>Do not Store, Use for delivery (sending ordered items)                                                               </td><td>  1</td><td>0.0008264463</td></tr>\n",
              "\t<tr><td>Do not Store, Use for discounts (repeated purchases)                                                                 </td><td>341</td><td>0.2818181818</td></tr>\n",
              "\t<tr><td>Do not Store, Use for discounts (repeated purchases), Use for sending SMS (advertisement)                            </td><td>  2</td><td>0.0016528926</td></tr>\n",
              "\t<tr><td>Do not Store, Use for sending SMS (advertisement)                                                                    </td><td>  1</td><td>0.0008264463</td></tr>\n",
              "\t<tr><td>Store but do not use                                                                                                 </td><td>121</td><td>0.1000000000</td></tr>\n",
              "\t<tr><td>Store but do not use, Use for delivery (sending ordered items), Use for discounts (repeated purchases)               </td><td>  2</td><td>0.0016528926</td></tr>\n",
              "\t<tr><td>Store but do not use, Use for discounts (repeated purchases)                                                         </td><td> 44</td><td>0.0363636364</td></tr>\n",
              "\t<tr><td>Store but do not use, Use for discounts (repeated purchases), Use for sending SMS (advertisement)                    </td><td>  6</td><td>0.0049586777</td></tr>\n",
              "\t<tr><td>Store but do not use, Use for sending SMS (advertisement)                                                            </td><td>  1</td><td>0.0008264463</td></tr>\n",
              "\t<tr><td>Use for delivery (sending ordered items)                                                                             </td><td>  4</td><td>0.0033057851</td></tr>\n",
              "\t<tr><td>Use for delivery (sending ordered items), Use for discounts (repeated purchases)                                     </td><td> 30</td><td>0.0247933884</td></tr>\n",
              "\t<tr><td>Use for delivery (sending ordered items), Use for discounts (repeated purchases), Use for sending SMS (advertisement)</td><td>  9</td><td>0.0074380165</td></tr>\n",
              "\t<tr><td>Use for delivery (sending ordered items), Use for sending SMS (advertisement)                                        </td><td>  5</td><td>0.0041322314</td></tr>\n",
              "\t<tr><td>Use for discounts (repeated purchases)                                                                               </td><td>238</td><td>0.1966942149</td></tr>\n",
              "\t<tr><td>Use for discounts (repeated purchases), Use for sending SMS (advertisement)                                          </td><td> 20</td><td>0.0165289256</td></tr>\n",
              "\t<tr><td>Use for sending SMS (advertisement)                                                                                  </td><td>  9</td><td>0.0074380165</td></tr>\n",
              "</tbody>\n",
              "</table>\n"
            ]
          },
          "metadata": {
            "tags": []
          }
        }
      ]
    },
    {
      "cell_type": "markdown",
      "metadata": {
        "id": "r1-_D2UTr0cY"
      },
      "source": [
        ", is being used as a delimiter for multi-responses and also is included in this response string 'Store, but do not use'\n",
        "\n",
        "1. Replace 'Store, but do not use' to 'Store but do not use' (the comma is removed)\n",
        "\n",
        "2. Replace , as a seperator to ;"
      ]
    },
    {
      "cell_type": "code",
      "metadata": {
        "id": "im8qHGx2rz_j"
      },
      "source": [
        "df_without_2 <- df_without_2 %>% \n",
        "  mutate(ORG_CUSTOMER_DATA = str_replace(ORG_CUSTOMER_DATA, \"Store, but do not use\", \"Store but do not use\")) #%>%\n",
        "  #tabyl(ORG_CUSTOMER_DATA)"
      ],
      "execution_count": 28,
      "outputs": []
    },
    {
      "cell_type": "code",
      "metadata": {
        "colab": {
          "base_uri": "https://localhost:8080/",
          "height": 804
        },
        "id": "S8_dWzBQvXE0",
        "outputId": "1aa57fd9-f82d-4812-88e1-360a4598dd09"
      },
      "source": [
        "tabyl(df_without_2$ORG_CUSTOMER_DATA)"
      ],
      "execution_count": 31,
      "outputs": [
        {
          "output_type": "display_data",
          "data": {
            "text/plain": [
              "   df_without_2$ORG_CUSTOMER_DATA                                                                                       \n",
              "1  -                                                                                                                    \n",
              "2  Do not Store                                                                                                         \n",
              "3  Do not Store, Store but do not use                                                                                   \n",
              "4  Do not Store, Use for delivery (sending ordered items)                                                               \n",
              "5  Do not Store, Use for discounts (repeated purchases)                                                                 \n",
              "6  Do not Store, Use for discounts (repeated purchases), Use for sending SMS (advertisement)                            \n",
              "7  Do not Store, Use for sending SMS (advertisement)                                                                    \n",
              "8  Store but do not use                                                                                                 \n",
              "9  Store but do not use, Use for delivery (sending ordered items), Use for discounts (repeated purchases)               \n",
              "10 Store but do not use, Use for discounts (repeated purchases)                                                         \n",
              "11 Store but do not use, Use for discounts (repeated purchases), Use for sending SMS (advertisement)                    \n",
              "12 Store but do not use, Use for sending SMS (advertisement)                                                            \n",
              "13 Use for delivery (sending ordered items)                                                                             \n",
              "14 Use for delivery (sending ordered items), Use for discounts (repeated purchases)                                     \n",
              "15 Use for delivery (sending ordered items), Use for discounts (repeated purchases), Use for sending SMS (advertisement)\n",
              "16 Use for delivery (sending ordered items), Use for sending SMS (advertisement)                                        \n",
              "17 Use for discounts (repeated purchases)                                                                               \n",
              "18 Use for discounts (repeated purchases), Use for sending SMS (advertisement)                                          \n",
              "19 Use for sending SMS (advertisement)                                                                                  \n",
              "   n   percent     \n",
              "1    4 0.0033057851\n",
              "2  370 0.3057851240\n",
              "3    2 0.0016528926\n",
              "4    1 0.0008264463\n",
              "5  341 0.2818181818\n",
              "6    2 0.0016528926\n",
              "7    1 0.0008264463\n",
              "8  121 0.1000000000\n",
              "9    2 0.0016528926\n",
              "10  44 0.0363636364\n",
              "11   6 0.0049586777\n",
              "12   1 0.0008264463\n",
              "13   4 0.0033057851\n",
              "14  30 0.0247933884\n",
              "15   9 0.0074380165\n",
              "16   5 0.0041322314\n",
              "17 238 0.1966942149\n",
              "18  20 0.0165289256\n",
              "19   9 0.0074380165"
            ],
            "text/latex": "A tabyl: 19 × 3\n\\begin{tabular}{lll}\n df\\_without\\_2\\$ORG\\_CUSTOMER\\_DATA & n & percent\\\\\n <chr> & <dbl> & <dbl>\\\\\n\\hline\n\t -                                                                                                                     &   4 & 0.0033057851\\\\\n\t Do not Store                                                                                                          & 370 & 0.3057851240\\\\\n\t Do not Store, Store but do not use                                                                                    &   2 & 0.0016528926\\\\\n\t Do not Store, Use for delivery (sending ordered items)                                                                &   1 & 0.0008264463\\\\\n\t Do not Store, Use for discounts (repeated purchases)                                                                  & 341 & 0.2818181818\\\\\n\t Do not Store, Use for discounts (repeated purchases), Use for sending SMS (advertisement)                             &   2 & 0.0016528926\\\\\n\t Do not Store, Use for sending SMS (advertisement)                                                                     &   1 & 0.0008264463\\\\\n\t Store but do not use                                                                                                  & 121 & 0.1000000000\\\\\n\t Store but do not use, Use for delivery (sending ordered items), Use for discounts (repeated purchases)                &   2 & 0.0016528926\\\\\n\t Store but do not use, Use for discounts (repeated purchases)                                                          &  44 & 0.0363636364\\\\\n\t Store but do not use, Use for discounts (repeated purchases), Use for sending SMS (advertisement)                     &   6 & 0.0049586777\\\\\n\t Store but do not use, Use for sending SMS (advertisement)                                                             &   1 & 0.0008264463\\\\\n\t Use for delivery (sending ordered items)                                                                              &   4 & 0.0033057851\\\\\n\t Use for delivery (sending ordered items), Use for discounts (repeated purchases)                                      &  30 & 0.0247933884\\\\\n\t Use for delivery (sending ordered items), Use for discounts (repeated purchases), Use for sending SMS (advertisement) &   9 & 0.0074380165\\\\\n\t Use for delivery (sending ordered items), Use for sending SMS (advertisement)                                         &   5 & 0.0041322314\\\\\n\t Use for discounts (repeated purchases)                                                                                & 238 & 0.1966942149\\\\\n\t Use for discounts (repeated purchases), Use for sending SMS (advertisement)                                           &  20 & 0.0165289256\\\\\n\t Use for sending SMS (advertisement)                                                                                   &   9 & 0.0074380165\\\\\n\\end{tabular}\n",
            "text/markdown": "\nA tabyl: 19 × 3\n\n| df_without_2$ORG_CUSTOMER_DATA &lt;chr&gt; | n &lt;dbl&gt; | percent &lt;dbl&gt; |\n|---|---|---|\n| -                                                                                                                     |   4 | 0.0033057851 |\n| Do not Store                                                                                                          | 370 | 0.3057851240 |\n| Do not Store, Store but do not use                                                                                    |   2 | 0.0016528926 |\n| Do not Store, Use for delivery (sending ordered items)                                                                |   1 | 0.0008264463 |\n| Do not Store, Use for discounts (repeated purchases)                                                                  | 341 | 0.2818181818 |\n| Do not Store, Use for discounts (repeated purchases), Use for sending SMS (advertisement)                             |   2 | 0.0016528926 |\n| Do not Store, Use for sending SMS (advertisement)                                                                     |   1 | 0.0008264463 |\n| Store but do not use                                                                                                  | 121 | 0.1000000000 |\n| Store but do not use, Use for delivery (sending ordered items), Use for discounts (repeated purchases)                |   2 | 0.0016528926 |\n| Store but do not use, Use for discounts (repeated purchases)                                                          |  44 | 0.0363636364 |\n| Store but do not use, Use for discounts (repeated purchases), Use for sending SMS (advertisement)                     |   6 | 0.0049586777 |\n| Store but do not use, Use for sending SMS (advertisement)                                                             |   1 | 0.0008264463 |\n| Use for delivery (sending ordered items)                                                                              |   4 | 0.0033057851 |\n| Use for delivery (sending ordered items), Use for discounts (repeated purchases)                                      |  30 | 0.0247933884 |\n| Use for delivery (sending ordered items), Use for discounts (repeated purchases), Use for sending SMS (advertisement) |   9 | 0.0074380165 |\n| Use for delivery (sending ordered items), Use for sending SMS (advertisement)                                         |   5 | 0.0041322314 |\n| Use for discounts (repeated purchases)                                                                                | 238 | 0.1966942149 |\n| Use for discounts (repeated purchases), Use for sending SMS (advertisement)                                           |  20 | 0.0165289256 |\n| Use for sending SMS (advertisement)                                                                                   |   9 | 0.0074380165 |\n\n",
            "text/html": [
              "<table class=\"dataframe\">\n",
              "<caption>A tabyl: 19 × 3</caption>\n",
              "<thead>\n",
              "\t<tr><th scope=col>df_without_2$ORG_CUSTOMER_DATA</th><th scope=col>n</th><th scope=col>percent</th></tr>\n",
              "\t<tr><th scope=col>&lt;chr&gt;</th><th scope=col>&lt;dbl&gt;</th><th scope=col>&lt;dbl&gt;</th></tr>\n",
              "</thead>\n",
              "<tbody>\n",
              "\t<tr><td>-                                                                                                                    </td><td>  4</td><td>0.0033057851</td></tr>\n",
              "\t<tr><td>Do not Store                                                                                                         </td><td>370</td><td>0.3057851240</td></tr>\n",
              "\t<tr><td>Do not Store, Store but do not use                                                                                   </td><td>  2</td><td>0.0016528926</td></tr>\n",
              "\t<tr><td>Do not Store, Use for delivery (sending ordered items)                                                               </td><td>  1</td><td>0.0008264463</td></tr>\n",
              "\t<tr><td>Do not Store, Use for discounts (repeated purchases)                                                                 </td><td>341</td><td>0.2818181818</td></tr>\n",
              "\t<tr><td>Do not Store, Use for discounts (repeated purchases), Use for sending SMS (advertisement)                            </td><td>  2</td><td>0.0016528926</td></tr>\n",
              "\t<tr><td>Do not Store, Use for sending SMS (advertisement)                                                                    </td><td>  1</td><td>0.0008264463</td></tr>\n",
              "\t<tr><td>Store but do not use                                                                                                 </td><td>121</td><td>0.1000000000</td></tr>\n",
              "\t<tr><td>Store but do not use, Use for delivery (sending ordered items), Use for discounts (repeated purchases)               </td><td>  2</td><td>0.0016528926</td></tr>\n",
              "\t<tr><td>Store but do not use, Use for discounts (repeated purchases)                                                         </td><td> 44</td><td>0.0363636364</td></tr>\n",
              "\t<tr><td>Store but do not use, Use for discounts (repeated purchases), Use for sending SMS (advertisement)                    </td><td>  6</td><td>0.0049586777</td></tr>\n",
              "\t<tr><td>Store but do not use, Use for sending SMS (advertisement)                                                            </td><td>  1</td><td>0.0008264463</td></tr>\n",
              "\t<tr><td>Use for delivery (sending ordered items)                                                                             </td><td>  4</td><td>0.0033057851</td></tr>\n",
              "\t<tr><td>Use for delivery (sending ordered items), Use for discounts (repeated purchases)                                     </td><td> 30</td><td>0.0247933884</td></tr>\n",
              "\t<tr><td>Use for delivery (sending ordered items), Use for discounts (repeated purchases), Use for sending SMS (advertisement)</td><td>  9</td><td>0.0074380165</td></tr>\n",
              "\t<tr><td>Use for delivery (sending ordered items), Use for sending SMS (advertisement)                                        </td><td>  5</td><td>0.0041322314</td></tr>\n",
              "\t<tr><td>Use for discounts (repeated purchases)                                                                               </td><td>238</td><td>0.1966942149</td></tr>\n",
              "\t<tr><td>Use for discounts (repeated purchases), Use for sending SMS (advertisement)                                          </td><td> 20</td><td>0.0165289256</td></tr>\n",
              "\t<tr><td>Use for sending SMS (advertisement)                                                                                  </td><td>  9</td><td>0.0074380165</td></tr>\n",
              "</tbody>\n",
              "</table>\n"
            ]
          },
          "metadata": {
            "tags": []
          }
        }
      ]
    },
    {
      "cell_type": "markdown",
      "metadata": {
        "id": "uQXX7q1xI2OA"
      },
      "source": [
        "Generating a row-id for each row\n",
        "\n",
        "Ref: https://bookdown.org/yih_huynh/Guide-to-R-Book/row-number.html"
      ]
    },
    {
      "cell_type": "code",
      "metadata": {
        "id": "FyZhDm1fJBAi"
      },
      "source": [
        "df_without_2 <- df_without_2 %>% mutate(RESP_ID = row_number())"
      ],
      "execution_count": 32,
      "outputs": []
    },
    {
      "cell_type": "code",
      "metadata": {
        "colab": {
          "base_uri": "https://localhost:8080/"
        },
        "id": "oRV0xIK5JQVq",
        "outputId": "5dbb6783-1ad2-43ad-ac39-a827184220ed"
      },
      "source": [
        "df_without_2 %>% glimpse()"
      ],
      "execution_count": 33,
      "outputs": [
        {
          "output_type": "stream",
          "text": [
            "Rows: 1,210\n",
            "Columns: 25\n",
            "$ ORG_CITY                       \u001b[3m\u001b[90m<fct>\u001b[39m\u001b[23m Rawalpindi, Islamabad, Islamabad, Islam…\n",
            "$ ORG_POS_BUSINESS_IMPROVEMENT   \u001b[3m\u001b[90m<fct>\u001b[39m\u001b[23m Yes, Yes, Yes, Yes, Yes, Yes, Yes, Yes,…\n",
            "$ ORG_INTERNET_ACCESS            \u001b[3m\u001b[90m<fct>\u001b[39m\u001b[23m None, Mobile, Mobile, None, Mobile, Mob…\n",
            "$ ORG_EXPAND_BUSINESS            \u001b[3m\u001b[90m<fct>\u001b[39m\u001b[23m No, Y:short-term, Y:immediately, Y:long…\n",
            "$ ORG_DELIVERY_SERVICE           \u001b[3m\u001b[90m<fct>\u001b[39m\u001b[23m No, Thinking about it, Yes, No, No, No,…\n",
            "$ ORG_CUSTOMER_DATA              \u001b[3m\u001b[90m<chr>\u001b[39m\u001b[23m \"Do not Store\", \"Do not Store, Use for …\n",
            "$ ORG_EMP_COUNT                  \u001b[3m\u001b[90m<fct>\u001b[39m\u001b[23m 2, 3, 2, 1, 1, 2, 1, 1, 1, 1, 2, 3, 2, …\n",
            "$ ORG_INTERNET_DISRUPTION        \u001b[3m\u001b[90m<fct>\u001b[39m\u001b[23m Never, Little, Never, Never, Little, Li…\n",
            "$ ORG_NEW_POS_PAYMENT_PREF       \u001b[3m\u001b[90m<fct>\u001b[39m\u001b[23m One-Time, Recurring:12M, Recurring:1M, …\n",
            "$ ORG_NEW_POS_LANG_PREF          \u001b[3m\u001b[90m<fct>\u001b[39m\u001b[23m English and Urdu, English and Urdu, Eng…\n",
            "$ ORG_OUTLETS_COUNT              \u001b[3m\u001b[90m<fct>\u001b[39m\u001b[23m 1, 1, 1, 1, 1, 1, 1, 1, 1, 2, 1, 1, 1, …\n",
            "$ ORG_NEW_POS_KIND               \u001b[3m\u001b[90m<fct>\u001b[39m\u001b[23m Stand-Alone, Stand-Alone, Web-Based, St…\n",
            "$ ORG_WILLINGNESS_TO_PAY_AMOUNT  \u001b[3m\u001b[90m<fct>\u001b[39m\u001b[23m 1K, 10K, 1K, 1K, 1K, <1K, 1K, 1K, No AN…\n",
            "$ RESP_DESIGNATION               \u001b[3m\u001b[90m<fct>\u001b[39m\u001b[23m Owner, Owner, Owner, Ower, Owner, Owner…\n",
            "$ ORG_POS_FEATURES               \u001b[3m\u001b[90m<fct>\u001b[39m\u001b[23m \"Remote Management/Centralized Manageme…\n",
            "$ ORG_NEW_POS_DEVICES            \u001b[3m\u001b[90m<fct>\u001b[39m\u001b[23m \"Mobile Phone\", \"Mobile Phone, PC\", \"La…\n",
            "$ ORG_TYPE                       \u001b[3m\u001b[90m<fct>\u001b[39m\u001b[23m \"Clothing items\", \"Clothing items\", \"Ha…\n",
            "$ ORG_CURRENT_PAYMENT_OPTIONS    \u001b[3m\u001b[90m<fct>\u001b[39m\u001b[23m \"Cash\", \"Cash\", \"Cash\", \"Cash\", \"Cash\",…\n",
            "$ ORG_DISCOUNTS_OFFERED          \u001b[3m\u001b[90m<fct>\u001b[39m\u001b[23m \"Customer Discount (Based on customer r…\n",
            "$ ORG_URDU_FEATURES_EXPECTED     \u001b[3m\u001b[90m<fct>\u001b[39m\u001b[23m \"Others (Please specify) (Everything in…\n",
            "$ ORG_REASON_TO_GET_POS          \u001b[3m\u001b[90m<fct>\u001b[39m\u001b[23m \"Other (Please specify) (Customer Data,…\n",
            "$ ORG_REASON_TO_NOT_HAVE_POS     \u001b[3m\u001b[90m<fct>\u001b[39m\u001b[23m \"I am happy with how my business is man…\n",
            "$ ORG_WILLINGNESS_DEMO           \u001b[3m\u001b[90m<fct>\u001b[39m\u001b[23m \"No\", \"Yes\", \"Yes\", \"No\", \"No\", \"Yes\", …\n",
            "$ ORG_WILLINGNESS_FUTURE_CONTACT \u001b[3m\u001b[90m<fct>\u001b[39m\u001b[23m \"Yes\", \"Yes\", \"Yes\", \"Yes\", \"Yes\", \"Yes…\n",
            "$ RESP_ID                        \u001b[3m\u001b[90m<int>\u001b[39m\u001b[23m 1, 2, 3, 4, 5, 6, 7, 8, 9, 10, 11, 12, …\n"
          ],
          "name": "stdout"
        }
      ]
    },
    {
      "cell_type": "markdown",
      "metadata": {
        "id": "9m19wRq-ZM97"
      },
      "source": [
        "https://mgimond.github.io/ES218/Week03b.html\n",
        "\n",
        "https://stackoverflow.com/questions/45696738/tallying-multiple-choice-entries-in-a-single-column-in-a-r-dataframe-programmati"
      ]
    },
    {
      "cell_type": "code",
      "metadata": {
        "colab": {
          "base_uri": "https://localhost:8080/",
          "height": 34
        },
        "id": "Y_PxEk4-tzrD",
        "outputId": "0b35247d-0170-4786-a5d2-23614c578db9"
      },
      "source": [
        "levels(df_without_2$ORG_CUSTOMER_DATA)"
      ],
      "execution_count": 34,
      "outputs": [
        {
          "output_type": "display_data",
          "data": {
            "text/plain": [
              "NULL"
            ]
          },
          "metadata": {
            "tags": []
          }
        }
      ]
    },
    {
      "cell_type": "code",
      "metadata": {
        "id": "ddWo63LRSOyl"
      },
      "source": [
        "df_without_2$ORG_CUSTOMER_DATA %>% \n",
        "factor() %>% \n",
        "fct_inorder() -> df_without_2$ORG_CUSTOMER_DATA"
      ],
      "execution_count": 36,
      "outputs": []
    },
    {
      "cell_type": "code",
      "metadata": {
        "colab": {
          "base_uri": "https://localhost:8080/",
          "height": 324
        },
        "id": "ffSRI2tESdSX",
        "outputId": "03162b4c-0386-4ff2-d062-5eeea917095a"
      },
      "source": [
        "levels(df_without_2$ORG_CUSTOMER_DATA)"
      ],
      "execution_count": 37,
      "outputs": [
        {
          "output_type": "display_data",
          "data": {
            "text/plain": [
              " [1] \"Do not Store\"                                                                                                         \n",
              " [2] \"Do not Store, Use for discounts (repeated purchases)\"                                                                 \n",
              " [3] \"Use for discounts (repeated purchases)\"                                                                               \n",
              " [4] \"Use for delivery (sending ordered items), Use for discounts (repeated purchases)\"                                     \n",
              " [5] \"Use for discounts (repeated purchases), Use for sending SMS (advertisement)\"                                          \n",
              " [6] \"Store but do not use\"                                                                                                 \n",
              " [7] \"Use for sending SMS (advertisement)\"                                                                                  \n",
              " [8] \"Store but do not use, Use for discounts (repeated purchases)\"                                                         \n",
              " [9] \"Do not Store, Use for delivery (sending ordered items)\"                                                               \n",
              "[10] \"-\"                                                                                                                    \n",
              "[11] \"Do not Store, Use for discounts (repeated purchases), Use for sending SMS (advertisement)\"                            \n",
              "[12] \"Store but do not use, Use for delivery (sending ordered items), Use for discounts (repeated purchases)\"               \n",
              "[13] \"Do not Store, Use for sending SMS (advertisement)\"                                                                    \n",
              "[14] \"Do not Store, Store but do not use\"                                                                                   \n",
              "[15] \"Use for delivery (sending ordered items)\"                                                                             \n",
              "[16] \"Use for delivery (sending ordered items), Use for discounts (repeated purchases), Use for sending SMS (advertisement)\"\n",
              "[17] \"Use for delivery (sending ordered items), Use for sending SMS (advertisement)\"                                        \n",
              "[18] \"Store but do not use, Use for discounts (repeated purchases), Use for sending SMS (advertisement)\"                    \n",
              "[19] \"Store but do not use, Use for sending SMS (advertisement)\"                                                            "
            ],
            "text/latex": "\\begin{enumerate*}\n\\item 'Do not Store'\n\\item 'Do not Store, Use for discounts (repeated purchases)'\n\\item 'Use for discounts (repeated purchases)'\n\\item 'Use for delivery (sending ordered items), Use for discounts (repeated purchases)'\n\\item 'Use for discounts (repeated purchases), Use for sending SMS (advertisement)'\n\\item 'Store but do not use'\n\\item 'Use for sending SMS (advertisement)'\n\\item 'Store but do not use, Use for discounts (repeated purchases)'\n\\item 'Do not Store, Use for delivery (sending ordered items)'\n\\item '-'\n\\item 'Do not Store, Use for discounts (repeated purchases), Use for sending SMS (advertisement)'\n\\item 'Store but do not use, Use for delivery (sending ordered items), Use for discounts (repeated purchases)'\n\\item 'Do not Store, Use for sending SMS (advertisement)'\n\\item 'Do not Store, Store but do not use'\n\\item 'Use for delivery (sending ordered items)'\n\\item 'Use for delivery (sending ordered items), Use for discounts (repeated purchases), Use for sending SMS (advertisement)'\n\\item 'Use for delivery (sending ordered items), Use for sending SMS (advertisement)'\n\\item 'Store but do not use, Use for discounts (repeated purchases), Use for sending SMS (advertisement)'\n\\item 'Store but do not use, Use for sending SMS (advertisement)'\n\\end{enumerate*}\n",
            "text/markdown": "1. 'Do not Store'\n2. 'Do not Store, Use for discounts (repeated purchases)'\n3. 'Use for discounts (repeated purchases)'\n4. 'Use for delivery (sending ordered items), Use for discounts (repeated purchases)'\n5. 'Use for discounts (repeated purchases), Use for sending SMS (advertisement)'\n6. 'Store but do not use'\n7. 'Use for sending SMS (advertisement)'\n8. 'Store but do not use, Use for discounts (repeated purchases)'\n9. 'Do not Store, Use for delivery (sending ordered items)'\n10. '-'\n11. 'Do not Store, Use for discounts (repeated purchases), Use for sending SMS (advertisement)'\n12. 'Store but do not use, Use for delivery (sending ordered items), Use for discounts (repeated purchases)'\n13. 'Do not Store, Use for sending SMS (advertisement)'\n14. 'Do not Store, Store but do not use'\n15. 'Use for delivery (sending ordered items)'\n16. 'Use for delivery (sending ordered items), Use for discounts (repeated purchases), Use for sending SMS (advertisement)'\n17. 'Use for delivery (sending ordered items), Use for sending SMS (advertisement)'\n18. 'Store but do not use, Use for discounts (repeated purchases), Use for sending SMS (advertisement)'\n19. 'Store but do not use, Use for sending SMS (advertisement)'\n\n\n",
            "text/html": [
              "<style>\n",
              ".list-inline {list-style: none; margin:0; padding: 0}\n",
              ".list-inline>li {display: inline-block}\n",
              ".list-inline>li:not(:last-child)::after {content: \"\\00b7\"; padding: 0 .5ex}\n",
              "</style>\n",
              "<ol class=list-inline><li>'Do not Store'</li><li>'Do not Store, Use for discounts (repeated purchases)'</li><li>'Use for discounts (repeated purchases)'</li><li>'Use for delivery (sending ordered items), Use for discounts (repeated purchases)'</li><li>'Use for discounts (repeated purchases), Use for sending SMS (advertisement)'</li><li>'Store but do not use'</li><li>'Use for sending SMS (advertisement)'</li><li>'Store but do not use, Use for discounts (repeated purchases)'</li><li>'Do not Store, Use for delivery (sending ordered items)'</li><li>'-'</li><li>'Do not Store, Use for discounts (repeated purchases), Use for sending SMS (advertisement)'</li><li>'Store but do not use, Use for delivery (sending ordered items), Use for discounts (repeated purchases)'</li><li>'Do not Store, Use for sending SMS (advertisement)'</li><li>'Do not Store, Store but do not use'</li><li>'Use for delivery (sending ordered items)'</li><li>'Use for delivery (sending ordered items), Use for discounts (repeated purchases), Use for sending SMS (advertisement)'</li><li>'Use for delivery (sending ordered items), Use for sending SMS (advertisement)'</li><li>'Store but do not use, Use for discounts (repeated purchases), Use for sending SMS (advertisement)'</li><li>'Store but do not use, Use for sending SMS (advertisement)'</li></ol>\n"
            ]
          },
          "metadata": {
            "tags": []
          }
        }
      ]
    },
    {
      "cell_type": "code",
      "metadata": {
        "colab": {
          "base_uri": "https://localhost:8080/",
          "height": 1000
        },
        "id": "HK24n1ggWhDr",
        "outputId": "646263ae-f3ce-46d5-97d9-415f1f65a240"
      },
      "source": [
        "df_without_2 %>%\n",
        "    dplyr::select(RESP_ID, ORG_CUSTOMER_DATA, ORG_CITY)"
      ],
      "execution_count": 38,
      "outputs": [
        {
          "output_type": "display_data",
          "data": {
            "text/plain": [
              "     RESP_ID\n",
              "1     1     \n",
              "2     2     \n",
              "3     3     \n",
              "4     4     \n",
              "5     5     \n",
              "6     6     \n",
              "7     7     \n",
              "8     8     \n",
              "9     9     \n",
              "10   10     \n",
              "11   11     \n",
              "12   12     \n",
              "13   13     \n",
              "14   14     \n",
              "15   15     \n",
              "16   16     \n",
              "17   17     \n",
              "18   18     \n",
              "19   19     \n",
              "20   20     \n",
              "21   21     \n",
              "22   22     \n",
              "23   23     \n",
              "24   24     \n",
              "25   25     \n",
              "26   26     \n",
              "27   27     \n",
              "28   28     \n",
              "29   29     \n",
              "30   30     \n",
              "⋮    ⋮      \n",
              "1181 1181   \n",
              "1182 1182   \n",
              "1183 1183   \n",
              "1184 1184   \n",
              "1185 1185   \n",
              "1186 1186   \n",
              "1187 1187   \n",
              "1188 1188   \n",
              "1189 1189   \n",
              "1190 1190   \n",
              "1191 1191   \n",
              "1192 1192   \n",
              "1193 1193   \n",
              "1194 1194   \n",
              "1195 1195   \n",
              "1196 1196   \n",
              "1197 1197   \n",
              "1198 1198   \n",
              "1199 1199   \n",
              "1200 1200   \n",
              "1201 1201   \n",
              "1202 1202   \n",
              "1203 1203   \n",
              "1204 1204   \n",
              "1205 1205   \n",
              "1206 1206   \n",
              "1207 1207   \n",
              "1208 1208   \n",
              "1209 1209   \n",
              "1210 1210   \n",
              "     ORG_CUSTOMER_DATA                                                                                                    \n",
              "1    Do not Store                                                                                                         \n",
              "2    Do not Store, Use for discounts (repeated purchases)                                                                 \n",
              "3    Use for discounts (repeated purchases)                                                                               \n",
              "4    Use for delivery (sending ordered items), Use for discounts (repeated purchases)                                     \n",
              "5    Use for delivery (sending ordered items), Use for discounts (repeated purchases)                                     \n",
              "6    Use for discounts (repeated purchases)                                                                               \n",
              "7    Do not Store                                                                                                         \n",
              "8    Do not Store, Use for discounts (repeated purchases)                                                                 \n",
              "9    Do not Store, Use for discounts (repeated purchases)                                                                 \n",
              "10   Use for discounts (repeated purchases)                                                                               \n",
              "11   Do not Store, Use for discounts (repeated purchases)                                                                 \n",
              "12   Do not Store, Use for discounts (repeated purchases)                                                                 \n",
              "13   Do not Store                                                                                                         \n",
              "14   Use for discounts (repeated purchases)                                                                               \n",
              "15   Use for discounts (repeated purchases)                                                                               \n",
              "16   Use for discounts (repeated purchases)                                                                               \n",
              "17   Do not Store, Use for discounts (repeated purchases)                                                                 \n",
              "18   Do not Store                                                                                                         \n",
              "19   Use for discounts (repeated purchases), Use for sending SMS (advertisement)                                          \n",
              "20   Use for discounts (repeated purchases)                                                                               \n",
              "21   Do not Store, Use for discounts (repeated purchases)                                                                 \n",
              "22   Use for delivery (sending ordered items), Use for discounts (repeated purchases)                                     \n",
              "23   Do not Store                                                                                                         \n",
              "24   Use for discounts (repeated purchases)                                                                               \n",
              "25   Do not Store                                                                                                         \n",
              "26   Do not Store                                                                                                         \n",
              "27   Use for delivery (sending ordered items), Use for discounts (repeated purchases)                                     \n",
              "28   Store but do not use                                                                                                 \n",
              "29   Do not Store, Use for discounts (repeated purchases)                                                                 \n",
              "30   Use for sending SMS (advertisement)                                                                                  \n",
              "⋮    ⋮                                                                                                                    \n",
              "1181 Use for discounts (repeated purchases), Use for sending SMS (advertisement)                                          \n",
              "1182 Use for delivery (sending ordered items), Use for discounts (repeated purchases)                                     \n",
              "1183 Use for delivery (sending ordered items), Use for discounts (repeated purchases)                                     \n",
              "1184 Use for discounts (repeated purchases)                                                                               \n",
              "1185 Use for delivery (sending ordered items), Use for discounts (repeated purchases)                                     \n",
              "1186 Use for discounts (repeated purchases)                                                                               \n",
              "1187 Use for delivery (sending ordered items), Use for discounts (repeated purchases)                                     \n",
              "1188 Use for delivery (sending ordered items), Use for discounts (repeated purchases)                                     \n",
              "1189 Use for delivery (sending ordered items), Use for discounts (repeated purchases)                                     \n",
              "1190 Use for discounts (repeated purchases), Use for sending SMS (advertisement)                                          \n",
              "1191 Use for discounts (repeated purchases), Use for sending SMS (advertisement)                                          \n",
              "1192 Use for discounts (repeated purchases), Use for sending SMS (advertisement)                                          \n",
              "1193 Store but do not use                                                                                                 \n",
              "1194 Use for discounts (repeated purchases)                                                                               \n",
              "1195 Use for delivery (sending ordered items), Use for discounts (repeated purchases)                                     \n",
              "1196 Use for discounts (repeated purchases)                                                                               \n",
              "1197 Use for discounts (repeated purchases)                                                                               \n",
              "1198 Use for discounts (repeated purchases), Use for sending SMS (advertisement)                                          \n",
              "1199 Use for discounts (repeated purchases)                                                                               \n",
              "1200 Use for discounts (repeated purchases)                                                                               \n",
              "1201 Use for discounts (repeated purchases)                                                                               \n",
              "1202 Use for discounts (repeated purchases)                                                                               \n",
              "1203 Use for discounts (repeated purchases)                                                                               \n",
              "1204 Use for delivery (sending ordered items), Use for discounts (repeated purchases), Use for sending SMS (advertisement)\n",
              "1205 Use for delivery (sending ordered items), Use for discounts (repeated purchases)                                     \n",
              "1206 Use for discounts (repeated purchases)                                                                               \n",
              "1207 Use for discounts (repeated purchases)                                                                               \n",
              "1208 Use for delivery (sending ordered items), Use for discounts (repeated purchases)                                     \n",
              "1209 Use for delivery (sending ordered items), Use for discounts (repeated purchases)                                     \n",
              "1210 Use for delivery (sending ordered items), Use for discounts (repeated purchases)                                     \n",
              "     ORG_CITY  \n",
              "1    Rawalpindi\n",
              "2    Islamabad \n",
              "3    Islamabad \n",
              "4    Islamabad \n",
              "5    Islamabad \n",
              "6    Islamabad \n",
              "7    Islamabad \n",
              "8    Islamabad \n",
              "9    Islamabad \n",
              "10   Islamabad \n",
              "11   Islamabad \n",
              "12   Islamabad \n",
              "13   Islamabad \n",
              "14   Islamabad \n",
              "15   Islamabad \n",
              "16   Islamabad \n",
              "17   Rawalpindi\n",
              "18   Islamabad \n",
              "19   Rawalpindi\n",
              "20   Rawalpindi\n",
              "21   Rawalpindi\n",
              "22   Rawalpindi\n",
              "23   Islamabad \n",
              "24   Rawalpindi\n",
              "25   Islamabad \n",
              "26   Islamabad \n",
              "27   Rawalpindi\n",
              "28   Rawalpindi\n",
              "29   Rawalpindi\n",
              "30   Rawalpindi\n",
              "⋮    ⋮         \n",
              "1181 Karachi   \n",
              "1182 Karachi   \n",
              "1183 Karachi   \n",
              "1184 Karachi   \n",
              "1185 Karachi   \n",
              "1186 Karachi   \n",
              "1187 Karachi   \n",
              "1188 Karachi   \n",
              "1189 Karachi   \n",
              "1190 Karachi   \n",
              "1191 Karachi   \n",
              "1192 Karachi   \n",
              "1193 Karachi   \n",
              "1194 Karachi   \n",
              "1195 Karachi   \n",
              "1196 Karachi   \n",
              "1197 Karachi   \n",
              "1198 Karachi   \n",
              "1199 Karachi   \n",
              "1200 Karachi   \n",
              "1201 Karachi   \n",
              "1202 Karachi   \n",
              "1203 Karachi   \n",
              "1204 Karachi   \n",
              "1205 Karachi   \n",
              "1206 Karachi   \n",
              "1207 Karachi   \n",
              "1208 Karachi   \n",
              "1209 Karachi   \n",
              "1210 Karachi   "
            ],
            "text/latex": "A tibble: 1210 × 3\n\\begin{tabular}{lll}\n RESP\\_ID & ORG\\_CUSTOMER\\_DATA & ORG\\_CITY\\\\\n <int> & <fct> & <fct>\\\\\n\\hline\n\t  1 & Do not Store                                                                     & Rawalpindi\\\\\n\t  2 & Do not Store, Use for discounts (repeated purchases)                             & Islamabad \\\\\n\t  3 & Use for discounts (repeated purchases)                                           & Islamabad \\\\\n\t  4 & Use for delivery (sending ordered items), Use for discounts (repeated purchases) & Islamabad \\\\\n\t  5 & Use for delivery (sending ordered items), Use for discounts (repeated purchases) & Islamabad \\\\\n\t  6 & Use for discounts (repeated purchases)                                           & Islamabad \\\\\n\t  7 & Do not Store                                                                     & Islamabad \\\\\n\t  8 & Do not Store, Use for discounts (repeated purchases)                             & Islamabad \\\\\n\t  9 & Do not Store, Use for discounts (repeated purchases)                             & Islamabad \\\\\n\t 10 & Use for discounts (repeated purchases)                                           & Islamabad \\\\\n\t 11 & Do not Store, Use for discounts (repeated purchases)                             & Islamabad \\\\\n\t 12 & Do not Store, Use for discounts (repeated purchases)                             & Islamabad \\\\\n\t 13 & Do not Store                                                                     & Islamabad \\\\\n\t 14 & Use for discounts (repeated purchases)                                           & Islamabad \\\\\n\t 15 & Use for discounts (repeated purchases)                                           & Islamabad \\\\\n\t 16 & Use for discounts (repeated purchases)                                           & Islamabad \\\\\n\t 17 & Do not Store, Use for discounts (repeated purchases)                             & Rawalpindi\\\\\n\t 18 & Do not Store                                                                     & Islamabad \\\\\n\t 19 & Use for discounts (repeated purchases), Use for sending SMS (advertisement)      & Rawalpindi\\\\\n\t 20 & Use for discounts (repeated purchases)                                           & Rawalpindi\\\\\n\t 21 & Do not Store, Use for discounts (repeated purchases)                             & Rawalpindi\\\\\n\t 22 & Use for delivery (sending ordered items), Use for discounts (repeated purchases) & Rawalpindi\\\\\n\t 23 & Do not Store                                                                     & Islamabad \\\\\n\t 24 & Use for discounts (repeated purchases)                                           & Rawalpindi\\\\\n\t 25 & Do not Store                                                                     & Islamabad \\\\\n\t 26 & Do not Store                                                                     & Islamabad \\\\\n\t 27 & Use for delivery (sending ordered items), Use for discounts (repeated purchases) & Rawalpindi\\\\\n\t 28 & Store but do not use                                                             & Rawalpindi\\\\\n\t 29 & Do not Store, Use for discounts (repeated purchases)                             & Rawalpindi\\\\\n\t 30 & Use for sending SMS (advertisement)                                              & Rawalpindi\\\\\n\t ⋮ & ⋮ & ⋮\\\\\n\t 1181 & Use for discounts (repeated purchases), Use for sending SMS (advertisement)                                           & Karachi\\\\\n\t 1182 & Use for delivery (sending ordered items), Use for discounts (repeated purchases)                                      & Karachi\\\\\n\t 1183 & Use for delivery (sending ordered items), Use for discounts (repeated purchases)                                      & Karachi\\\\\n\t 1184 & Use for discounts (repeated purchases)                                                                                & Karachi\\\\\n\t 1185 & Use for delivery (sending ordered items), Use for discounts (repeated purchases)                                      & Karachi\\\\\n\t 1186 & Use for discounts (repeated purchases)                                                                                & Karachi\\\\\n\t 1187 & Use for delivery (sending ordered items), Use for discounts (repeated purchases)                                      & Karachi\\\\\n\t 1188 & Use for delivery (sending ordered items), Use for discounts (repeated purchases)                                      & Karachi\\\\\n\t 1189 & Use for delivery (sending ordered items), Use for discounts (repeated purchases)                                      & Karachi\\\\\n\t 1190 & Use for discounts (repeated purchases), Use for sending SMS (advertisement)                                           & Karachi\\\\\n\t 1191 & Use for discounts (repeated purchases), Use for sending SMS (advertisement)                                           & Karachi\\\\\n\t 1192 & Use for discounts (repeated purchases), Use for sending SMS (advertisement)                                           & Karachi\\\\\n\t 1193 & Store but do not use                                                                                                  & Karachi\\\\\n\t 1194 & Use for discounts (repeated purchases)                                                                                & Karachi\\\\\n\t 1195 & Use for delivery (sending ordered items), Use for discounts (repeated purchases)                                      & Karachi\\\\\n\t 1196 & Use for discounts (repeated purchases)                                                                                & Karachi\\\\\n\t 1197 & Use for discounts (repeated purchases)                                                                                & Karachi\\\\\n\t 1198 & Use for discounts (repeated purchases), Use for sending SMS (advertisement)                                           & Karachi\\\\\n\t 1199 & Use for discounts (repeated purchases)                                                                                & Karachi\\\\\n\t 1200 & Use for discounts (repeated purchases)                                                                                & Karachi\\\\\n\t 1201 & Use for discounts (repeated purchases)                                                                                & Karachi\\\\\n\t 1202 & Use for discounts (repeated purchases)                                                                                & Karachi\\\\\n\t 1203 & Use for discounts (repeated purchases)                                                                                & Karachi\\\\\n\t 1204 & Use for delivery (sending ordered items), Use for discounts (repeated purchases), Use for sending SMS (advertisement) & Karachi\\\\\n\t 1205 & Use for delivery (sending ordered items), Use for discounts (repeated purchases)                                      & Karachi\\\\\n\t 1206 & Use for discounts (repeated purchases)                                                                                & Karachi\\\\\n\t 1207 & Use for discounts (repeated purchases)                                                                                & Karachi\\\\\n\t 1208 & Use for delivery (sending ordered items), Use for discounts (repeated purchases)                                      & Karachi\\\\\n\t 1209 & Use for delivery (sending ordered items), Use for discounts (repeated purchases)                                      & Karachi\\\\\n\t 1210 & Use for delivery (sending ordered items), Use for discounts (repeated purchases)                                      & Karachi\\\\\n\\end{tabular}\n",
            "text/markdown": "\nA tibble: 1210 × 3\n\n| RESP_ID &lt;int&gt; | ORG_CUSTOMER_DATA &lt;fct&gt; | ORG_CITY &lt;fct&gt; |\n|---|---|---|\n|  1 | Do not Store                                                                     | Rawalpindi |\n|  2 | Do not Store, Use for discounts (repeated purchases)                             | Islamabad  |\n|  3 | Use for discounts (repeated purchases)                                           | Islamabad  |\n|  4 | Use for delivery (sending ordered items), Use for discounts (repeated purchases) | Islamabad  |\n|  5 | Use for delivery (sending ordered items), Use for discounts (repeated purchases) | Islamabad  |\n|  6 | Use for discounts (repeated purchases)                                           | Islamabad  |\n|  7 | Do not Store                                                                     | Islamabad  |\n|  8 | Do not Store, Use for discounts (repeated purchases)                             | Islamabad  |\n|  9 | Do not Store, Use for discounts (repeated purchases)                             | Islamabad  |\n| 10 | Use for discounts (repeated purchases)                                           | Islamabad  |\n| 11 | Do not Store, Use for discounts (repeated purchases)                             | Islamabad  |\n| 12 | Do not Store, Use for discounts (repeated purchases)                             | Islamabad  |\n| 13 | Do not Store                                                                     | Islamabad  |\n| 14 | Use for discounts (repeated purchases)                                           | Islamabad  |\n| 15 | Use for discounts (repeated purchases)                                           | Islamabad  |\n| 16 | Use for discounts (repeated purchases)                                           | Islamabad  |\n| 17 | Do not Store, Use for discounts (repeated purchases)                             | Rawalpindi |\n| 18 | Do not Store                                                                     | Islamabad  |\n| 19 | Use for discounts (repeated purchases), Use for sending SMS (advertisement)      | Rawalpindi |\n| 20 | Use for discounts (repeated purchases)                                           | Rawalpindi |\n| 21 | Do not Store, Use for discounts (repeated purchases)                             | Rawalpindi |\n| 22 | Use for delivery (sending ordered items), Use for discounts (repeated purchases) | Rawalpindi |\n| 23 | Do not Store                                                                     | Islamabad  |\n| 24 | Use for discounts (repeated purchases)                                           | Rawalpindi |\n| 25 | Do not Store                                                                     | Islamabad  |\n| 26 | Do not Store                                                                     | Islamabad  |\n| 27 | Use for delivery (sending ordered items), Use for discounts (repeated purchases) | Rawalpindi |\n| 28 | Store but do not use                                                             | Rawalpindi |\n| 29 | Do not Store, Use for discounts (repeated purchases)                             | Rawalpindi |\n| 30 | Use for sending SMS (advertisement)                                              | Rawalpindi |\n| ⋮ | ⋮ | ⋮ |\n| 1181 | Use for discounts (repeated purchases), Use for sending SMS (advertisement)                                           | Karachi |\n| 1182 | Use for delivery (sending ordered items), Use for discounts (repeated purchases)                                      | Karachi |\n| 1183 | Use for delivery (sending ordered items), Use for discounts (repeated purchases)                                      | Karachi |\n| 1184 | Use for discounts (repeated purchases)                                                                                | Karachi |\n| 1185 | Use for delivery (sending ordered items), Use for discounts (repeated purchases)                                      | Karachi |\n| 1186 | Use for discounts (repeated purchases)                                                                                | Karachi |\n| 1187 | Use for delivery (sending ordered items), Use for discounts (repeated purchases)                                      | Karachi |\n| 1188 | Use for delivery (sending ordered items), Use for discounts (repeated purchases)                                      | Karachi |\n| 1189 | Use for delivery (sending ordered items), Use for discounts (repeated purchases)                                      | Karachi |\n| 1190 | Use for discounts (repeated purchases), Use for sending SMS (advertisement)                                           | Karachi |\n| 1191 | Use for discounts (repeated purchases), Use for sending SMS (advertisement)                                           | Karachi |\n| 1192 | Use for discounts (repeated purchases), Use for sending SMS (advertisement)                                           | Karachi |\n| 1193 | Store but do not use                                                                                                  | Karachi |\n| 1194 | Use for discounts (repeated purchases)                                                                                | Karachi |\n| 1195 | Use for delivery (sending ordered items), Use for discounts (repeated purchases)                                      | Karachi |\n| 1196 | Use for discounts (repeated purchases)                                                                                | Karachi |\n| 1197 | Use for discounts (repeated purchases)                                                                                | Karachi |\n| 1198 | Use for discounts (repeated purchases), Use for sending SMS (advertisement)                                           | Karachi |\n| 1199 | Use for discounts (repeated purchases)                                                                                | Karachi |\n| 1200 | Use for discounts (repeated purchases)                                                                                | Karachi |\n| 1201 | Use for discounts (repeated purchases)                                                                                | Karachi |\n| 1202 | Use for discounts (repeated purchases)                                                                                | Karachi |\n| 1203 | Use for discounts (repeated purchases)                                                                                | Karachi |\n| 1204 | Use for delivery (sending ordered items), Use for discounts (repeated purchases), Use for sending SMS (advertisement) | Karachi |\n| 1205 | Use for delivery (sending ordered items), Use for discounts (repeated purchases)                                      | Karachi |\n| 1206 | Use for discounts (repeated purchases)                                                                                | Karachi |\n| 1207 | Use for discounts (repeated purchases)                                                                                | Karachi |\n| 1208 | Use for delivery (sending ordered items), Use for discounts (repeated purchases)                                      | Karachi |\n| 1209 | Use for delivery (sending ordered items), Use for discounts (repeated purchases)                                      | Karachi |\n| 1210 | Use for delivery (sending ordered items), Use for discounts (repeated purchases)                                      | Karachi |\n\n",
            "text/html": [
              "<table class=\"dataframe\">\n",
              "<caption>A tibble: 1210 × 3</caption>\n",
              "<thead>\n",
              "\t<tr><th scope=col>RESP_ID</th><th scope=col>ORG_CUSTOMER_DATA</th><th scope=col>ORG_CITY</th></tr>\n",
              "\t<tr><th scope=col>&lt;int&gt;</th><th scope=col>&lt;fct&gt;</th><th scope=col>&lt;fct&gt;</th></tr>\n",
              "</thead>\n",
              "<tbody>\n",
              "\t<tr><td> 1</td><td>Do not Store                                                                    </td><td>Rawalpindi</td></tr>\n",
              "\t<tr><td> 2</td><td>Do not Store, Use for discounts (repeated purchases)                            </td><td>Islamabad </td></tr>\n",
              "\t<tr><td> 3</td><td>Use for discounts (repeated purchases)                                          </td><td>Islamabad </td></tr>\n",
              "\t<tr><td> 4</td><td>Use for delivery (sending ordered items), Use for discounts (repeated purchases)</td><td>Islamabad </td></tr>\n",
              "\t<tr><td> 5</td><td>Use for delivery (sending ordered items), Use for discounts (repeated purchases)</td><td>Islamabad </td></tr>\n",
              "\t<tr><td> 6</td><td>Use for discounts (repeated purchases)                                          </td><td>Islamabad </td></tr>\n",
              "\t<tr><td> 7</td><td>Do not Store                                                                    </td><td>Islamabad </td></tr>\n",
              "\t<tr><td> 8</td><td>Do not Store, Use for discounts (repeated purchases)                            </td><td>Islamabad </td></tr>\n",
              "\t<tr><td> 9</td><td>Do not Store, Use for discounts (repeated purchases)                            </td><td>Islamabad </td></tr>\n",
              "\t<tr><td>10</td><td>Use for discounts (repeated purchases)                                          </td><td>Islamabad </td></tr>\n",
              "\t<tr><td>11</td><td>Do not Store, Use for discounts (repeated purchases)                            </td><td>Islamabad </td></tr>\n",
              "\t<tr><td>12</td><td>Do not Store, Use for discounts (repeated purchases)                            </td><td>Islamabad </td></tr>\n",
              "\t<tr><td>13</td><td>Do not Store                                                                    </td><td>Islamabad </td></tr>\n",
              "\t<tr><td>14</td><td>Use for discounts (repeated purchases)                                          </td><td>Islamabad </td></tr>\n",
              "\t<tr><td>15</td><td>Use for discounts (repeated purchases)                                          </td><td>Islamabad </td></tr>\n",
              "\t<tr><td>16</td><td>Use for discounts (repeated purchases)                                          </td><td>Islamabad </td></tr>\n",
              "\t<tr><td>17</td><td>Do not Store, Use for discounts (repeated purchases)                            </td><td>Rawalpindi</td></tr>\n",
              "\t<tr><td>18</td><td>Do not Store                                                                    </td><td>Islamabad </td></tr>\n",
              "\t<tr><td>19</td><td>Use for discounts (repeated purchases), Use for sending SMS (advertisement)     </td><td>Rawalpindi</td></tr>\n",
              "\t<tr><td>20</td><td>Use for discounts (repeated purchases)                                          </td><td>Rawalpindi</td></tr>\n",
              "\t<tr><td>21</td><td>Do not Store, Use for discounts (repeated purchases)                            </td><td>Rawalpindi</td></tr>\n",
              "\t<tr><td>22</td><td>Use for delivery (sending ordered items), Use for discounts (repeated purchases)</td><td>Rawalpindi</td></tr>\n",
              "\t<tr><td>23</td><td>Do not Store                                                                    </td><td>Islamabad </td></tr>\n",
              "\t<tr><td>24</td><td>Use for discounts (repeated purchases)                                          </td><td>Rawalpindi</td></tr>\n",
              "\t<tr><td>25</td><td>Do not Store                                                                    </td><td>Islamabad </td></tr>\n",
              "\t<tr><td>26</td><td>Do not Store                                                                    </td><td>Islamabad </td></tr>\n",
              "\t<tr><td>27</td><td>Use for delivery (sending ordered items), Use for discounts (repeated purchases)</td><td>Rawalpindi</td></tr>\n",
              "\t<tr><td>28</td><td>Store but do not use                                                            </td><td>Rawalpindi</td></tr>\n",
              "\t<tr><td>29</td><td>Do not Store, Use for discounts (repeated purchases)                            </td><td>Rawalpindi</td></tr>\n",
              "\t<tr><td>30</td><td>Use for sending SMS (advertisement)                                             </td><td>Rawalpindi</td></tr>\n",
              "\t<tr><td>⋮</td><td>⋮</td><td>⋮</td></tr>\n",
              "\t<tr><td>1181</td><td>Use for discounts (repeated purchases), Use for sending SMS (advertisement)                                          </td><td>Karachi</td></tr>\n",
              "\t<tr><td>1182</td><td>Use for delivery (sending ordered items), Use for discounts (repeated purchases)                                     </td><td>Karachi</td></tr>\n",
              "\t<tr><td>1183</td><td>Use for delivery (sending ordered items), Use for discounts (repeated purchases)                                     </td><td>Karachi</td></tr>\n",
              "\t<tr><td>1184</td><td>Use for discounts (repeated purchases)                                                                               </td><td>Karachi</td></tr>\n",
              "\t<tr><td>1185</td><td>Use for delivery (sending ordered items), Use for discounts (repeated purchases)                                     </td><td>Karachi</td></tr>\n",
              "\t<tr><td>1186</td><td>Use for discounts (repeated purchases)                                                                               </td><td>Karachi</td></tr>\n",
              "\t<tr><td>1187</td><td>Use for delivery (sending ordered items), Use for discounts (repeated purchases)                                     </td><td>Karachi</td></tr>\n",
              "\t<tr><td>1188</td><td>Use for delivery (sending ordered items), Use for discounts (repeated purchases)                                     </td><td>Karachi</td></tr>\n",
              "\t<tr><td>1189</td><td>Use for delivery (sending ordered items), Use for discounts (repeated purchases)                                     </td><td>Karachi</td></tr>\n",
              "\t<tr><td>1190</td><td>Use for discounts (repeated purchases), Use for sending SMS (advertisement)                                          </td><td>Karachi</td></tr>\n",
              "\t<tr><td>1191</td><td>Use for discounts (repeated purchases), Use for sending SMS (advertisement)                                          </td><td>Karachi</td></tr>\n",
              "\t<tr><td>1192</td><td>Use for discounts (repeated purchases), Use for sending SMS (advertisement)                                          </td><td>Karachi</td></tr>\n",
              "\t<tr><td>1193</td><td>Store but do not use                                                                                                 </td><td>Karachi</td></tr>\n",
              "\t<tr><td>1194</td><td>Use for discounts (repeated purchases)                                                                               </td><td>Karachi</td></tr>\n",
              "\t<tr><td>1195</td><td>Use for delivery (sending ordered items), Use for discounts (repeated purchases)                                     </td><td>Karachi</td></tr>\n",
              "\t<tr><td>1196</td><td>Use for discounts (repeated purchases)                                                                               </td><td>Karachi</td></tr>\n",
              "\t<tr><td>1197</td><td>Use for discounts (repeated purchases)                                                                               </td><td>Karachi</td></tr>\n",
              "\t<tr><td>1198</td><td>Use for discounts (repeated purchases), Use for sending SMS (advertisement)                                          </td><td>Karachi</td></tr>\n",
              "\t<tr><td>1199</td><td>Use for discounts (repeated purchases)                                                                               </td><td>Karachi</td></tr>\n",
              "\t<tr><td>1200</td><td>Use for discounts (repeated purchases)                                                                               </td><td>Karachi</td></tr>\n",
              "\t<tr><td>1201</td><td>Use for discounts (repeated purchases)                                                                               </td><td>Karachi</td></tr>\n",
              "\t<tr><td>1202</td><td>Use for discounts (repeated purchases)                                                                               </td><td>Karachi</td></tr>\n",
              "\t<tr><td>1203</td><td>Use for discounts (repeated purchases)                                                                               </td><td>Karachi</td></tr>\n",
              "\t<tr><td>1204</td><td>Use for delivery (sending ordered items), Use for discounts (repeated purchases), Use for sending SMS (advertisement)</td><td>Karachi</td></tr>\n",
              "\t<tr><td>1205</td><td>Use for delivery (sending ordered items), Use for discounts (repeated purchases)                                     </td><td>Karachi</td></tr>\n",
              "\t<tr><td>1206</td><td>Use for discounts (repeated purchases)                                                                               </td><td>Karachi</td></tr>\n",
              "\t<tr><td>1207</td><td>Use for discounts (repeated purchases)                                                                               </td><td>Karachi</td></tr>\n",
              "\t<tr><td>1208</td><td>Use for delivery (sending ordered items), Use for discounts (repeated purchases)                                     </td><td>Karachi</td></tr>\n",
              "\t<tr><td>1209</td><td>Use for delivery (sending ordered items), Use for discounts (repeated purchases)                                     </td><td>Karachi</td></tr>\n",
              "\t<tr><td>1210</td><td>Use for delivery (sending ordered items), Use for discounts (repeated purchases)                                     </td><td>Karachi</td></tr>\n",
              "</tbody>\n",
              "</table>\n"
            ]
          },
          "metadata": {
            "tags": []
          }
        }
      ]
    },
    {
      "cell_type": "code",
      "metadata": {
        "colab": {
          "base_uri": "https://localhost:8080/"
        },
        "id": "fdehntxdYqJe",
        "outputId": "a2e88d50-2eb6-4fbe-e5a0-c1f5583e3921"
      },
      "source": [
        "df_without_2 %>%\n",
        "    dplyr::select(RESP_ID, ORG_CUSTOMER_DATA, ORG_CITY) %>%\n",
        "    tidyr::gather(ORG_CUSTOMER_DATA, answer, -RESP_ID, -ORG_CITY) %>%\n",
        "    dplyr::filter(!is.na(answer)) %>%\n",
        "    tidyr::unnest(answer = stringr::str_split(answer, \", \")) -> df_customer_data\n"
      ],
      "execution_count": 39,
      "outputs": [
        {
          "output_type": "stream",
          "text": [
            "Warning message:\n",
            "“unnest() has a new interface. See ?unnest for details.\n",
            "Try `df %>% unnest(c(answer))`, with `mutate()` if needed”\n"
          ],
          "name": "stderr"
        }
      ]
    },
    {
      "cell_type": "code",
      "metadata": {
        "colab": {
          "base_uri": "https://localhost:8080/"
        },
        "id": "3rlxdco1ZDAn",
        "outputId": "aae59010-e13a-4235-ff49-fa3e395a4d26"
      },
      "source": [
        "df_customer_data %>% glimpse()"
      ],
      "execution_count": 40,
      "outputs": [
        {
          "output_type": "stream",
          "text": [
            "Rows: 1,693\n",
            "Columns: 4\n",
            "$ RESP_ID           \u001b[3m\u001b[90m<int>\u001b[39m\u001b[23m 1, 2, 2, 3, 4, 4, 5, 5, 6, 7, 8, 8, 9, 9, 10, 11, 11…\n",
            "$ ORG_CITY          \u001b[3m\u001b[90m<fct>\u001b[39m\u001b[23m Rawalpindi, Islamabad, Islamabad, Islamabad, Islamab…\n",
            "$ ORG_CUSTOMER_DATA \u001b[3m\u001b[90m<chr>\u001b[39m\u001b[23m \"ORG_CUSTOMER_DATA\", \"ORG_CUSTOMER_DATA\", \"ORG_CUSTO…\n",
            "$ answer            \u001b[3m\u001b[90m<chr>\u001b[39m\u001b[23m \"Do not Store\", \"Do not Store\", \"Use for discounts (…\n"
          ],
          "name": "stdout"
        }
      ]
    },
    {
      "cell_type": "code",
      "metadata": {
        "colab": {
          "base_uri": "https://localhost:8080/",
          "height": 282
        },
        "id": "56EYWUoNaiu4",
        "outputId": "3b12753b-f693-491b-a788-49dd1bf605c1"
      },
      "source": [
        "tabyl(df_customer_data$answer)"
      ],
      "execution_count": 41,
      "outputs": [
        {
          "output_type": "display_data",
          "data": {
            "text/plain": [
              "  df_customer_data$answer                  n   percent   \n",
              "1 -                                          4 0.00236267\n",
              "2 Do not Store                             717 0.42350856\n",
              "3 Store but do not use                     176 0.10395747\n",
              "4 Use for delivery (sending ordered items)  51 0.03012404\n",
              "5 Use for discounts (repeated purchases)   692 0.40874188\n",
              "6 Use for sending SMS (advertisement)       53 0.03130538"
            ],
            "text/latex": "A tabyl: 6 × 3\n\\begin{tabular}{lll}\n df\\_customer\\_data\\$answer & n & percent\\\\\n <chr> & <dbl> & <dbl>\\\\\n\\hline\n\t -                                        &   4 & 0.00236267\\\\\n\t Do not Store                             & 717 & 0.42350856\\\\\n\t Store but do not use                     & 176 & 0.10395747\\\\\n\t Use for delivery (sending ordered items) &  51 & 0.03012404\\\\\n\t Use for discounts (repeated purchases)   & 692 & 0.40874188\\\\\n\t Use for sending SMS (advertisement)      &  53 & 0.03130538\\\\\n\\end{tabular}\n",
            "text/markdown": "\nA tabyl: 6 × 3\n\n| df_customer_data$answer &lt;chr&gt; | n &lt;dbl&gt; | percent &lt;dbl&gt; |\n|---|---|---|\n| -                                        |   4 | 0.00236267 |\n| Do not Store                             | 717 | 0.42350856 |\n| Store but do not use                     | 176 | 0.10395747 |\n| Use for delivery (sending ordered items) |  51 | 0.03012404 |\n| Use for discounts (repeated purchases)   | 692 | 0.40874188 |\n| Use for sending SMS (advertisement)      |  53 | 0.03130538 |\n\n",
            "text/html": [
              "<table class=\"dataframe\">\n",
              "<caption>A tabyl: 6 × 3</caption>\n",
              "<thead>\n",
              "\t<tr><th scope=col>df_customer_data$answer</th><th scope=col>n</th><th scope=col>percent</th></tr>\n",
              "\t<tr><th scope=col>&lt;chr&gt;</th><th scope=col>&lt;dbl&gt;</th><th scope=col>&lt;dbl&gt;</th></tr>\n",
              "</thead>\n",
              "<tbody>\n",
              "\t<tr><td>-                                       </td><td>  4</td><td>0.00236267</td></tr>\n",
              "\t<tr><td>Do not Store                            </td><td>717</td><td>0.42350856</td></tr>\n",
              "\t<tr><td>Store but do not use                    </td><td>176</td><td>0.10395747</td></tr>\n",
              "\t<tr><td>Use for delivery (sending ordered items)</td><td> 51</td><td>0.03012404</td></tr>\n",
              "\t<tr><td>Use for discounts (repeated purchases)  </td><td>692</td><td>0.40874188</td></tr>\n",
              "\t<tr><td>Use for sending SMS (advertisement)     </td><td> 53</td><td>0.03130538</td></tr>\n",
              "</tbody>\n",
              "</table>\n"
            ]
          },
          "metadata": {
            "tags": []
          }
        }
      ]
    },
    {
      "cell_type": "markdown",
      "metadata": {
        "id": "tp23-sn9bBib"
      },
      "source": [
        "Converting from CHR to FACTOR"
      ]
    },
    {
      "cell_type": "code",
      "metadata": {
        "id": "6epRDCecbEMm"
      },
      "source": [
        "df_customer_data$answer %>% \n",
        "factor() %>% \n",
        "fct_inorder() -> df_customer_data$answer"
      ],
      "execution_count": 42,
      "outputs": []
    },
    {
      "cell_type": "code",
      "metadata": {
        "colab": {
          "base_uri": "https://localhost:8080/",
          "height": 282
        },
        "id": "KHviF-iSbwn2",
        "outputId": "6c102066-5951-43c1-be5d-3eb3ccf02f52"
      },
      "source": [
        "tabyl(df_customer_data$answer)"
      ],
      "execution_count": 43,
      "outputs": [
        {
          "output_type": "display_data",
          "data": {
            "text/plain": [
              "  df_customer_data$answer                  n   percent   \n",
              "1 Do not Store                             717 0.42350856\n",
              "2 Use for discounts (repeated purchases)   692 0.40874188\n",
              "3 Use for delivery (sending ordered items)  51 0.03012404\n",
              "4 Use for sending SMS (advertisement)       53 0.03130538\n",
              "5 Store but do not use                     176 0.10395747\n",
              "6 -                                          4 0.00236267"
            ],
            "text/latex": "A tabyl: 6 × 3\n\\begin{tabular}{lll}\n df\\_customer\\_data\\$answer & n & percent\\\\\n <fct> & <dbl> & <dbl>\\\\\n\\hline\n\t Do not Store                             & 717 & 0.42350856\\\\\n\t Use for discounts (repeated purchases)   & 692 & 0.40874188\\\\\n\t Use for delivery (sending ordered items) &  51 & 0.03012404\\\\\n\t Use for sending SMS (advertisement)      &  53 & 0.03130538\\\\\n\t Store but do not use                     & 176 & 0.10395747\\\\\n\t -                                        &   4 & 0.00236267\\\\\n\\end{tabular}\n",
            "text/markdown": "\nA tabyl: 6 × 3\n\n| df_customer_data$answer &lt;fct&gt; | n &lt;dbl&gt; | percent &lt;dbl&gt; |\n|---|---|---|\n| Do not Store                             | 717 | 0.42350856 |\n| Use for discounts (repeated purchases)   | 692 | 0.40874188 |\n| Use for delivery (sending ordered items) |  51 | 0.03012404 |\n| Use for sending SMS (advertisement)      |  53 | 0.03130538 |\n| Store but do not use                     | 176 | 0.10395747 |\n| -                                        |   4 | 0.00236267 |\n\n",
            "text/html": [
              "<table class=\"dataframe\">\n",
              "<caption>A tabyl: 6 × 3</caption>\n",
              "<thead>\n",
              "\t<tr><th scope=col>df_customer_data$answer</th><th scope=col>n</th><th scope=col>percent</th></tr>\n",
              "\t<tr><th scope=col>&lt;fct&gt;</th><th scope=col>&lt;dbl&gt;</th><th scope=col>&lt;dbl&gt;</th></tr>\n",
              "</thead>\n",
              "<tbody>\n",
              "\t<tr><td>Do not Store                            </td><td>717</td><td>0.42350856</td></tr>\n",
              "\t<tr><td>Use for discounts (repeated purchases)  </td><td>692</td><td>0.40874188</td></tr>\n",
              "\t<tr><td>Use for delivery (sending ordered items)</td><td> 51</td><td>0.03012404</td></tr>\n",
              "\t<tr><td>Use for sending SMS (advertisement)     </td><td> 53</td><td>0.03130538</td></tr>\n",
              "\t<tr><td>Store but do not use                    </td><td>176</td><td>0.10395747</td></tr>\n",
              "\t<tr><td>-                                       </td><td>  4</td><td>0.00236267</td></tr>\n",
              "</tbody>\n",
              "</table>\n"
            ]
          },
          "metadata": {
            "tags": []
          }
        }
      ]
    },
    {
      "cell_type": "markdown",
      "metadata": {
        "id": "SeZy_cbMa46j"
      },
      "source": [
        "Replace - with No Answer"
      ]
    },
    {
      "cell_type": "code",
      "metadata": {
        "colab": {
          "base_uri": "https://localhost:8080/",
          "height": 51
        },
        "id": "lNwyAEnHarQD",
        "outputId": "cec650ff-4f42-4f25-f6c5-43ace4319dcc"
      },
      "source": [
        "levels(df_customer_data$answer)"
      ],
      "execution_count": 44,
      "outputs": [
        {
          "output_type": "display_data",
          "data": {
            "text/plain": [
              "[1] \"Do not Store\"                            \n",
              "[2] \"Use for discounts (repeated purchases)\"  \n",
              "[3] \"Use for delivery (sending ordered items)\"\n",
              "[4] \"Use for sending SMS (advertisement)\"     \n",
              "[5] \"Store but do not use\"                    \n",
              "[6] \"-\"                                       "
            ],
            "text/latex": "\\begin{enumerate*}\n\\item 'Do not Store'\n\\item 'Use for discounts (repeated purchases)'\n\\item 'Use for delivery (sending ordered items)'\n\\item 'Use for sending SMS (advertisement)'\n\\item 'Store but do not use'\n\\item '-'\n\\end{enumerate*}\n",
            "text/markdown": "1. 'Do not Store'\n2. 'Use for discounts (repeated purchases)'\n3. 'Use for delivery (sending ordered items)'\n4. 'Use for sending SMS (advertisement)'\n5. 'Store but do not use'\n6. '-'\n\n\n",
            "text/html": [
              "<style>\n",
              ".list-inline {list-style: none; margin:0; padding: 0}\n",
              ".list-inline>li {display: inline-block}\n",
              ".list-inline>li:not(:last-child)::after {content: \"\\00b7\"; padding: 0 .5ex}\n",
              "</style>\n",
              "<ol class=list-inline><li>'Do not Store'</li><li>'Use for discounts (repeated purchases)'</li><li>'Use for delivery (sending ordered items)'</li><li>'Use for sending SMS (advertisement)'</li><li>'Store but do not use'</li><li>'-'</li></ol>\n"
            ]
          },
          "metadata": {
            "tags": []
          }
        }
      ]
    },
    {
      "cell_type": "code",
      "metadata": {
        "id": "FIzALwifb4wH"
      },
      "source": [
        "df_customer_data <- df_customer_data %>% \n",
        "   mutate (answer = fct_recode(df_customer_data$answer, \n",
        "   'No ANS' = '-'))"
      ],
      "execution_count": 45,
      "outputs": []
    },
    {
      "cell_type": "code",
      "metadata": {
        "colab": {
          "base_uri": "https://localhost:8080/",
          "height": 51
        },
        "id": "mNnzQ6JEdBoz",
        "outputId": "5baba188-1461-4694-80c6-f1efef972168"
      },
      "source": [
        "levels(df_customer_data$answer)"
      ],
      "execution_count": 46,
      "outputs": [
        {
          "output_type": "display_data",
          "data": {
            "text/plain": [
              "[1] \"Do not Store\"                            \n",
              "[2] \"Use for discounts (repeated purchases)\"  \n",
              "[3] \"Use for delivery (sending ordered items)\"\n",
              "[4] \"Use for sending SMS (advertisement)\"     \n",
              "[5] \"Store but do not use\"                    \n",
              "[6] \"No ANS\"                                  "
            ],
            "text/latex": "\\begin{enumerate*}\n\\item 'Do not Store'\n\\item 'Use for discounts (repeated purchases)'\n\\item 'Use for delivery (sending ordered items)'\n\\item 'Use for sending SMS (advertisement)'\n\\item 'Store but do not use'\n\\item 'No ANS'\n\\end{enumerate*}\n",
            "text/markdown": "1. 'Do not Store'\n2. 'Use for discounts (repeated purchases)'\n3. 'Use for delivery (sending ordered items)'\n4. 'Use for sending SMS (advertisement)'\n5. 'Store but do not use'\n6. 'No ANS'\n\n\n",
            "text/html": [
              "<style>\n",
              ".list-inline {list-style: none; margin:0; padding: 0}\n",
              ".list-inline>li {display: inline-block}\n",
              ".list-inline>li:not(:last-child)::after {content: \"\\00b7\"; padding: 0 .5ex}\n",
              "</style>\n",
              "<ol class=list-inline><li>'Do not Store'</li><li>'Use for discounts (repeated purchases)'</li><li>'Use for delivery (sending ordered items)'</li><li>'Use for sending SMS (advertisement)'</li><li>'Store but do not use'</li><li>'No ANS'</li></ol>\n"
            ]
          },
          "metadata": {
            "tags": []
          }
        }
      ]
    },
    {
      "cell_type": "code",
      "metadata": {
        "colab": {
          "base_uri": "https://localhost:8080/"
        },
        "id": "SAMdNn7s06R8",
        "outputId": "b4566e81-43ad-44ca-cff0-f7ce5a76fd13"
      },
      "source": [
        "df_customer_data %>% glimpse()"
      ],
      "execution_count": 47,
      "outputs": [
        {
          "output_type": "stream",
          "text": [
            "Rows: 1,693\n",
            "Columns: 4\n",
            "$ RESP_ID           \u001b[3m\u001b[90m<int>\u001b[39m\u001b[23m 1, 2, 2, 3, 4, 4, 5, 5, 6, 7, 8, 8, 9, 9, 10, 11, 11…\n",
            "$ ORG_CITY          \u001b[3m\u001b[90m<fct>\u001b[39m\u001b[23m Rawalpindi, Islamabad, Islamabad, Islamabad, Islamab…\n",
            "$ ORG_CUSTOMER_DATA \u001b[3m\u001b[90m<chr>\u001b[39m\u001b[23m \"ORG_CUSTOMER_DATA\", \"ORG_CUSTOMER_DATA\", \"ORG_CUSTO…\n",
            "$ answer            \u001b[3m\u001b[90m<fct>\u001b[39m\u001b[23m Do not Store, Do not Store, Use for discounts (repea…\n"
          ],
          "name": "stdout"
        }
      ]
    },
    {
      "cell_type": "code",
      "metadata": {
        "id": "xMDTJr_01Cjj"
      },
      "source": [
        ""
      ],
      "execution_count": null,
      "outputs": []
    },
    {
      "cell_type": "markdown",
      "metadata": {
        "id": "CScgo3O0xD6V"
      },
      "source": [
        "##### 1.6 ORG_EMP_COUNT  "
      ]
    },
    {
      "cell_type": "code",
      "metadata": {
        "id": "n6Ob6ZjoB6bZ"
      },
      "source": [
        "#df_with_1 = df_with"
      ],
      "execution_count": 48,
      "outputs": []
    },
    {
      "cell_type": "code",
      "metadata": {
        "colab": {
          "base_uri": "https://localhost:8080/",
          "height": 437
        },
        "id": "-cMvpRZgxO1E",
        "outputId": "55f921a3-dbe1-415b-e89c-a9a0b4530722"
      },
      "source": [
        "df_without_2 %>% tabyl(ORG_EMP_COUNT)"
      ],
      "execution_count": 49,
      "outputs": [
        {
          "output_type": "display_data",
          "data": {
            "text/plain": [
              "   ORG_EMP_COUNT n   percent     \n",
              "1  1             465 0.3842975207\n",
              "2  10              3 0.0024793388\n",
              "3  10+             2 0.0016528926\n",
              "4  2             242 0.2000000000\n",
              "5  3             231 0.1909090909\n",
              "6  4             145 0.1198347107\n",
              "7  5              93 0.0768595041\n",
              "8  6              24 0.0198347107\n",
              "9  7               3 0.0024793388\n",
              "10 8               1 0.0008264463\n",
              "11 9               1 0.0008264463"
            ],
            "text/latex": "A tabyl: 11 × 3\n\\begin{tabular}{lll}\n ORG\\_EMP\\_COUNT & n & percent\\\\\n <fct> & <dbl> & <dbl>\\\\\n\\hline\n\t 1   & 465 & 0.3842975207\\\\\n\t 10  &   3 & 0.0024793388\\\\\n\t 10+ &   2 & 0.0016528926\\\\\n\t 2   & 242 & 0.2000000000\\\\\n\t 3   & 231 & 0.1909090909\\\\\n\t 4   & 145 & 0.1198347107\\\\\n\t 5   &  93 & 0.0768595041\\\\\n\t 6   &  24 & 0.0198347107\\\\\n\t 7   &   3 & 0.0024793388\\\\\n\t 8   &   1 & 0.0008264463\\\\\n\t 9   &   1 & 0.0008264463\\\\\n\\end{tabular}\n",
            "text/markdown": "\nA tabyl: 11 × 3\n\n| ORG_EMP_COUNT &lt;fct&gt; | n &lt;dbl&gt; | percent &lt;dbl&gt; |\n|---|---|---|\n| 1   | 465 | 0.3842975207 |\n| 10  |   3 | 0.0024793388 |\n| 10+ |   2 | 0.0016528926 |\n| 2   | 242 | 0.2000000000 |\n| 3   | 231 | 0.1909090909 |\n| 4   | 145 | 0.1198347107 |\n| 5   |  93 | 0.0768595041 |\n| 6   |  24 | 0.0198347107 |\n| 7   |   3 | 0.0024793388 |\n| 8   |   1 | 0.0008264463 |\n| 9   |   1 | 0.0008264463 |\n\n",
            "text/html": [
              "<table class=\"dataframe\">\n",
              "<caption>A tabyl: 11 × 3</caption>\n",
              "<thead>\n",
              "\t<tr><th scope=col>ORG_EMP_COUNT</th><th scope=col>n</th><th scope=col>percent</th></tr>\n",
              "\t<tr><th scope=col>&lt;fct&gt;</th><th scope=col>&lt;dbl&gt;</th><th scope=col>&lt;dbl&gt;</th></tr>\n",
              "</thead>\n",
              "<tbody>\n",
              "\t<tr><td>1  </td><td>465</td><td>0.3842975207</td></tr>\n",
              "\t<tr><td>10 </td><td>  3</td><td>0.0024793388</td></tr>\n",
              "\t<tr><td>10+</td><td>  2</td><td>0.0016528926</td></tr>\n",
              "\t<tr><td>2  </td><td>242</td><td>0.2000000000</td></tr>\n",
              "\t<tr><td>3  </td><td>231</td><td>0.1909090909</td></tr>\n",
              "\t<tr><td>4  </td><td>145</td><td>0.1198347107</td></tr>\n",
              "\t<tr><td>5  </td><td> 93</td><td>0.0768595041</td></tr>\n",
              "\t<tr><td>6  </td><td> 24</td><td>0.0198347107</td></tr>\n",
              "\t<tr><td>7  </td><td>  3</td><td>0.0024793388</td></tr>\n",
              "\t<tr><td>8  </td><td>  1</td><td>0.0008264463</td></tr>\n",
              "\t<tr><td>9  </td><td>  1</td><td>0.0008264463</td></tr>\n",
              "</tbody>\n",
              "</table>\n"
            ]
          },
          "metadata": {
            "tags": []
          }
        }
      ]
    },
    {
      "cell_type": "markdown",
      "metadata": {
        "id": "qGUbjUdEBear"
      },
      "source": [
        "reordering levels"
      ]
    },
    {
      "cell_type": "code",
      "metadata": {
        "colab": {
          "base_uri": "https://localhost:8080/",
          "height": 34
        },
        "id": "N73Fn4PlCUx8",
        "outputId": "c5865084-c6a4-4831-d73b-fdc4d48cd232"
      },
      "source": [
        "levels(df_without_2$ORG_EMP_COUNT)"
      ],
      "execution_count": 50,
      "outputs": [
        {
          "output_type": "display_data",
          "data": {
            "text/plain": [
              " [1] \"1\"   \"10\"  \"10+\" \"2\"   \"3\"   \"4\"   \"5\"   \"6\"   \"7\"   \"8\"   \"9\"  "
            ],
            "text/latex": "\\begin{enumerate*}\n\\item '1'\n\\item '10'\n\\item '10+'\n\\item '2'\n\\item '3'\n\\item '4'\n\\item '5'\n\\item '6'\n\\item '7'\n\\item '8'\n\\item '9'\n\\end{enumerate*}\n",
            "text/markdown": "1. '1'\n2. '10'\n3. '10+'\n4. '2'\n5. '3'\n6. '4'\n7. '5'\n8. '6'\n9. '7'\n10. '8'\n11. '9'\n\n\n",
            "text/html": [
              "<style>\n",
              ".list-inline {list-style: none; margin:0; padding: 0}\n",
              ".list-inline>li {display: inline-block}\n",
              ".list-inline>li:not(:last-child)::after {content: \"\\00b7\"; padding: 0 .5ex}\n",
              "</style>\n",
              "<ol class=list-inline><li>'1'</li><li>'10'</li><li>'10+'</li><li>'2'</li><li>'3'</li><li>'4'</li><li>'5'</li><li>'6'</li><li>'7'</li><li>'8'</li><li>'9'</li></ol>\n"
            ]
          },
          "metadata": {
            "tags": []
          }
        }
      ]
    },
    {
      "cell_type": "code",
      "metadata": {
        "colab": {
          "base_uri": "https://localhost:8080/"
        },
        "id": "jagftxfbBgWr",
        "outputId": "a9a73cf0-6f5d-4b76-9463-a0df3c8823e0"
      },
      "source": [
        "df_without_2 <- df_without_2 %>% \n",
        "   mutate (ORG_EMP_COUNT = fct_relevel(ORG_EMP_COUNT, \n",
        "   levels=c('1','2','3','4','5','6','7','8','9','10','10+')))"
      ],
      "execution_count": 51,
      "outputs": [
        {
          "output_type": "stream",
          "text": [
            "Warning message:\n",
            "“Outer names are only allowed for unnamed scalar atomic inputs”\n"
          ],
          "name": "stderr"
        }
      ]
    },
    {
      "cell_type": "code",
      "metadata": {
        "colab": {
          "base_uri": "https://localhost:8080/",
          "height": 437
        },
        "id": "zen9mGXYeKeY",
        "outputId": "da8b393b-dbce-463f-f2c6-724c6e7a9876"
      },
      "source": [
        "tabyl(df_without_2$ORG_EMP_COUNT)"
      ],
      "execution_count": 52,
      "outputs": [
        {
          "output_type": "display_data",
          "data": {
            "text/plain": [
              "   df_without_2$ORG_EMP_COUNT n   percent     \n",
              "1  1                          465 0.3842975207\n",
              "2  2                          242 0.2000000000\n",
              "3  3                          231 0.1909090909\n",
              "4  4                          145 0.1198347107\n",
              "5  5                           93 0.0768595041\n",
              "6  6                           24 0.0198347107\n",
              "7  7                            3 0.0024793388\n",
              "8  8                            1 0.0008264463\n",
              "9  9                            1 0.0008264463\n",
              "10 10                           3 0.0024793388\n",
              "11 10+                          2 0.0016528926"
            ],
            "text/latex": "A tabyl: 11 × 3\n\\begin{tabular}{lll}\n df\\_without\\_2\\$ORG\\_EMP\\_COUNT & n & percent\\\\\n <fct> & <dbl> & <dbl>\\\\\n\\hline\n\t 1   & 465 & 0.3842975207\\\\\n\t 2   & 242 & 0.2000000000\\\\\n\t 3   & 231 & 0.1909090909\\\\\n\t 4   & 145 & 0.1198347107\\\\\n\t 5   &  93 & 0.0768595041\\\\\n\t 6   &  24 & 0.0198347107\\\\\n\t 7   &   3 & 0.0024793388\\\\\n\t 8   &   1 & 0.0008264463\\\\\n\t 9   &   1 & 0.0008264463\\\\\n\t 10  &   3 & 0.0024793388\\\\\n\t 10+ &   2 & 0.0016528926\\\\\n\\end{tabular}\n",
            "text/markdown": "\nA tabyl: 11 × 3\n\n| df_without_2$ORG_EMP_COUNT &lt;fct&gt; | n &lt;dbl&gt; | percent &lt;dbl&gt; |\n|---|---|---|\n| 1   | 465 | 0.3842975207 |\n| 2   | 242 | 0.2000000000 |\n| 3   | 231 | 0.1909090909 |\n| 4   | 145 | 0.1198347107 |\n| 5   |  93 | 0.0768595041 |\n| 6   |  24 | 0.0198347107 |\n| 7   |   3 | 0.0024793388 |\n| 8   |   1 | 0.0008264463 |\n| 9   |   1 | 0.0008264463 |\n| 10  |   3 | 0.0024793388 |\n| 10+ |   2 | 0.0016528926 |\n\n",
            "text/html": [
              "<table class=\"dataframe\">\n",
              "<caption>A tabyl: 11 × 3</caption>\n",
              "<thead>\n",
              "\t<tr><th scope=col>df_without_2$ORG_EMP_COUNT</th><th scope=col>n</th><th scope=col>percent</th></tr>\n",
              "\t<tr><th scope=col>&lt;fct&gt;</th><th scope=col>&lt;dbl&gt;</th><th scope=col>&lt;dbl&gt;</th></tr>\n",
              "</thead>\n",
              "<tbody>\n",
              "\t<tr><td>1  </td><td>465</td><td>0.3842975207</td></tr>\n",
              "\t<tr><td>2  </td><td>242</td><td>0.2000000000</td></tr>\n",
              "\t<tr><td>3  </td><td>231</td><td>0.1909090909</td></tr>\n",
              "\t<tr><td>4  </td><td>145</td><td>0.1198347107</td></tr>\n",
              "\t<tr><td>5  </td><td> 93</td><td>0.0768595041</td></tr>\n",
              "\t<tr><td>6  </td><td> 24</td><td>0.0198347107</td></tr>\n",
              "\t<tr><td>7  </td><td>  3</td><td>0.0024793388</td></tr>\n",
              "\t<tr><td>8  </td><td>  1</td><td>0.0008264463</td></tr>\n",
              "\t<tr><td>9  </td><td>  1</td><td>0.0008264463</td></tr>\n",
              "\t<tr><td>10 </td><td>  3</td><td>0.0024793388</td></tr>\n",
              "\t<tr><td>10+</td><td>  2</td><td>0.0016528926</td></tr>\n",
              "</tbody>\n",
              "</table>\n"
            ]
          },
          "metadata": {
            "tags": []
          }
        }
      ]
    },
    {
      "cell_type": "markdown",
      "metadata": {
        "id": "Yf19YogJyLiI"
      },
      "source": [
        "##### 1.7 ORG_INTERNET_DISRUPTION"
      ]
    },
    {
      "cell_type": "code",
      "metadata": {
        "colab": {
          "base_uri": "https://localhost:8080/",
          "height": 251
        },
        "id": "QAbfKVdiyYXq",
        "outputId": "9bc44201-7370-4518-84f0-48a2aa78b61c"
      },
      "source": [
        "df_without_2 %>% tabyl (ORG_INTERNET_DISRUPTION)"
      ],
      "execution_count": 53,
      "outputs": [
        {
          "output_type": "display_data",
          "data": {
            "text/plain": [
              "  ORG_INTERNET_DISRUPTION n   percent    \n",
              "1 A lot                    20 0.016528926\n",
              "2 Little                  136 0.112396694\n",
              "3 Never                   701 0.579338843\n",
              "4 No Internet               9 0.007438017\n",
              "5 Sometimes               344 0.284297521"
            ],
            "text/latex": "A tabyl: 5 × 3\n\\begin{tabular}{lll}\n ORG\\_INTERNET\\_DISRUPTION & n & percent\\\\\n <fct> & <dbl> & <dbl>\\\\\n\\hline\n\t A lot       &  20 & 0.016528926\\\\\n\t Little      & 136 & 0.112396694\\\\\n\t Never       & 701 & 0.579338843\\\\\n\t No Internet &   9 & 0.007438017\\\\\n\t Sometimes   & 344 & 0.284297521\\\\\n\\end{tabular}\n",
            "text/markdown": "\nA tabyl: 5 × 3\n\n| ORG_INTERNET_DISRUPTION &lt;fct&gt; | n &lt;dbl&gt; | percent &lt;dbl&gt; |\n|---|---|---|\n| A lot       |  20 | 0.016528926 |\n| Little      | 136 | 0.112396694 |\n| Never       | 701 | 0.579338843 |\n| No Internet |   9 | 0.007438017 |\n| Sometimes   | 344 | 0.284297521 |\n\n",
            "text/html": [
              "<table class=\"dataframe\">\n",
              "<caption>A tabyl: 5 × 3</caption>\n",
              "<thead>\n",
              "\t<tr><th scope=col>ORG_INTERNET_DISRUPTION</th><th scope=col>n</th><th scope=col>percent</th></tr>\n",
              "\t<tr><th scope=col>&lt;fct&gt;</th><th scope=col>&lt;dbl&gt;</th><th scope=col>&lt;dbl&gt;</th></tr>\n",
              "</thead>\n",
              "<tbody>\n",
              "\t<tr><td>A lot      </td><td> 20</td><td>0.016528926</td></tr>\n",
              "\t<tr><td>Little     </td><td>136</td><td>0.112396694</td></tr>\n",
              "\t<tr><td>Never      </td><td>701</td><td>0.579338843</td></tr>\n",
              "\t<tr><td>No Internet</td><td>  9</td><td>0.007438017</td></tr>\n",
              "\t<tr><td>Sometimes  </td><td>344</td><td>0.284297521</td></tr>\n",
              "</tbody>\n",
              "</table>\n"
            ]
          },
          "metadata": {
            "tags": []
          }
        }
      ]
    },
    {
      "cell_type": "code",
      "metadata": {
        "colab": {
          "base_uri": "https://localhost:8080/",
          "height": 34
        },
        "id": "MYmvfpNny0l6",
        "outputId": "98cf1b85-171c-4043-b8a5-deb27500b2ae"
      },
      "source": [
        "levels(df_without_2$ORG_INTERNET_DISRUPTION)"
      ],
      "execution_count": 54,
      "outputs": [
        {
          "output_type": "display_data",
          "data": {
            "text/plain": [
              "[1] \"A lot\"       \"Little\"      \"Never\"       \"No Internet\" \"Sometimes\"  "
            ],
            "text/latex": "\\begin{enumerate*}\n\\item 'A lot'\n\\item 'Little'\n\\item 'Never'\n\\item 'No Internet'\n\\item 'Sometimes'\n\\end{enumerate*}\n",
            "text/markdown": "1. 'A lot'\n2. 'Little'\n3. 'Never'\n4. 'No Internet'\n5. 'Sometimes'\n\n\n",
            "text/html": [
              "<style>\n",
              ".list-inline {list-style: none; margin:0; padding: 0}\n",
              ".list-inline>li {display: inline-block}\n",
              ".list-inline>li:not(:last-child)::after {content: \"\\00b7\"; padding: 0 .5ex}\n",
              "</style>\n",
              "<ol class=list-inline><li>'A lot'</li><li>'Little'</li><li>'Never'</li><li>'No Internet'</li><li>'Sometimes'</li></ol>\n"
            ]
          },
          "metadata": {
            "tags": []
          }
        }
      ]
    },
    {
      "cell_type": "markdown",
      "metadata": {
        "id": "_Ku_nBjKEDPA"
      },
      "source": [
        "reordering levels"
      ]
    },
    {
      "cell_type": "code",
      "metadata": {
        "colab": {
          "base_uri": "https://localhost:8080/"
        },
        "id": "dQSqkPpZEFpZ",
        "outputId": "8bdf895f-2b45-446f-b823-6c6ea8705240"
      },
      "source": [
        "df_without_2 <- df_without_2 %>%\n",
        "  mutate(ORG_INTERNET_DISRUPTION = fct_relevel(ORG_INTERNET_DISRUPTION, \n",
        "  levels = c('No Internet','Little','Sometimes','A lot','Never')))"
      ],
      "execution_count": 55,
      "outputs": [
        {
          "output_type": "stream",
          "text": [
            "Warning message:\n",
            "“Outer names are only allowed for unnamed scalar atomic inputs”\n"
          ],
          "name": "stderr"
        }
      ]
    },
    {
      "cell_type": "code",
      "metadata": {
        "id": "T_cmzqf4Eduu",
        "colab": {
          "base_uri": "https://localhost:8080/",
          "height": 251
        },
        "outputId": "13a61056-eecf-4f75-f1f9-cbdb89036e4a"
      },
      "source": [
        "tabyl(df_without_2$ORG_INTERNET_DISRUPTION)"
      ],
      "execution_count": 56,
      "outputs": [
        {
          "output_type": "display_data",
          "data": {
            "text/plain": [
              "  df_without_2$ORG_INTERNET_DISRUPTION n   percent    \n",
              "1 No Internet                            9 0.007438017\n",
              "2 Little                               136 0.112396694\n",
              "3 Sometimes                            344 0.284297521\n",
              "4 A lot                                 20 0.016528926\n",
              "5 Never                                701 0.579338843"
            ],
            "text/latex": "A tabyl: 5 × 3\n\\begin{tabular}{lll}\n df\\_without\\_2\\$ORG\\_INTERNET\\_DISRUPTION & n & percent\\\\\n <fct> & <dbl> & <dbl>\\\\\n\\hline\n\t No Internet &   9 & 0.007438017\\\\\n\t Little      & 136 & 0.112396694\\\\\n\t Sometimes   & 344 & 0.284297521\\\\\n\t A lot       &  20 & 0.016528926\\\\\n\t Never       & 701 & 0.579338843\\\\\n\\end{tabular}\n",
            "text/markdown": "\nA tabyl: 5 × 3\n\n| df_without_2$ORG_INTERNET_DISRUPTION &lt;fct&gt; | n &lt;dbl&gt; | percent &lt;dbl&gt; |\n|---|---|---|\n| No Internet |   9 | 0.007438017 |\n| Little      | 136 | 0.112396694 |\n| Sometimes   | 344 | 0.284297521 |\n| A lot       |  20 | 0.016528926 |\n| Never       | 701 | 0.579338843 |\n\n",
            "text/html": [
              "<table class=\"dataframe\">\n",
              "<caption>A tabyl: 5 × 3</caption>\n",
              "<thead>\n",
              "\t<tr><th scope=col>df_without_2$ORG_INTERNET_DISRUPTION</th><th scope=col>n</th><th scope=col>percent</th></tr>\n",
              "\t<tr><th scope=col>&lt;fct&gt;</th><th scope=col>&lt;dbl&gt;</th><th scope=col>&lt;dbl&gt;</th></tr>\n",
              "</thead>\n",
              "<tbody>\n",
              "\t<tr><td>No Internet</td><td>  9</td><td>0.007438017</td></tr>\n",
              "\t<tr><td>Little     </td><td>136</td><td>0.112396694</td></tr>\n",
              "\t<tr><td>Sometimes  </td><td>344</td><td>0.284297521</td></tr>\n",
              "\t<tr><td>A lot      </td><td> 20</td><td>0.016528926</td></tr>\n",
              "\t<tr><td>Never      </td><td>701</td><td>0.579338843</td></tr>\n",
              "</tbody>\n",
              "</table>\n"
            ]
          },
          "metadata": {
            "tags": []
          }
        }
      ]
    },
    {
      "cell_type": "code",
      "metadata": {
        "id": "xOU9ekQ4EFR5"
      },
      "source": [
        ""
      ],
      "execution_count": 57,
      "outputs": []
    },
    {
      "cell_type": "markdown",
      "metadata": {
        "id": "2vaHa6dN7yGp"
      },
      "source": [
        "##### 1.8 ORG_NEW_POS_PAYMENT_PREF"
      ]
    },
    {
      "cell_type": "code",
      "metadata": {
        "id": "tUuk17gkAAPU"
      },
      "source": [
        "#df_with_1 <- df_with"
      ],
      "execution_count": 58,
      "outputs": []
    },
    {
      "cell_type": "code",
      "metadata": {
        "colab": {
          "base_uri": "https://localhost:8080/",
          "height": 282
        },
        "id": "FOsie5Po76fn",
        "outputId": "7e547d8b-e72b-412e-817d-6b43b6c47279"
      },
      "source": [
        "tabyl(df_without_2$ORG_NEW_POS_PAYMENT_PREF)"
      ],
      "execution_count": 59,
      "outputs": [
        {
          "output_type": "display_data",
          "data": {
            "text/plain": [
              "  df_without_2$ORG_NEW_POS_PAYMENT_PREF n   percent   \n",
              "1 No ANS                                119 0.09834711\n",
              "2 One-Time                              528 0.43636364\n",
              "3 Recurring:12M                         442 0.36528926\n",
              "4 Recurring:1M                           38 0.03140496\n",
              "5 Recurring:3M                           27 0.02231405\n",
              "6 Recurring:6M                           56 0.04628099"
            ],
            "text/latex": "A tabyl: 6 × 3\n\\begin{tabular}{lll}\n df\\_without\\_2\\$ORG\\_NEW\\_POS\\_PAYMENT\\_PREF & n & percent\\\\\n <fct> & <dbl> & <dbl>\\\\\n\\hline\n\t No ANS        & 119 & 0.09834711\\\\\n\t One-Time      & 528 & 0.43636364\\\\\n\t Recurring:12M & 442 & 0.36528926\\\\\n\t Recurring:1M  &  38 & 0.03140496\\\\\n\t Recurring:3M  &  27 & 0.02231405\\\\\n\t Recurring:6M  &  56 & 0.04628099\\\\\n\\end{tabular}\n",
            "text/markdown": "\nA tabyl: 6 × 3\n\n| df_without_2$ORG_NEW_POS_PAYMENT_PREF &lt;fct&gt; | n &lt;dbl&gt; | percent &lt;dbl&gt; |\n|---|---|---|\n| No ANS        | 119 | 0.09834711 |\n| One-Time      | 528 | 0.43636364 |\n| Recurring:12M | 442 | 0.36528926 |\n| Recurring:1M  |  38 | 0.03140496 |\n| Recurring:3M  |  27 | 0.02231405 |\n| Recurring:6M  |  56 | 0.04628099 |\n\n",
            "text/html": [
              "<table class=\"dataframe\">\n",
              "<caption>A tabyl: 6 × 3</caption>\n",
              "<thead>\n",
              "\t<tr><th scope=col>df_without_2$ORG_NEW_POS_PAYMENT_PREF</th><th scope=col>n</th><th scope=col>percent</th></tr>\n",
              "\t<tr><th scope=col>&lt;fct&gt;</th><th scope=col>&lt;dbl&gt;</th><th scope=col>&lt;dbl&gt;</th></tr>\n",
              "</thead>\n",
              "<tbody>\n",
              "\t<tr><td>No ANS       </td><td>119</td><td>0.09834711</td></tr>\n",
              "\t<tr><td>One-Time     </td><td>528</td><td>0.43636364</td></tr>\n",
              "\t<tr><td>Recurring:12M</td><td>442</td><td>0.36528926</td></tr>\n",
              "\t<tr><td>Recurring:1M </td><td> 38</td><td>0.03140496</td></tr>\n",
              "\t<tr><td>Recurring:3M </td><td> 27</td><td>0.02231405</td></tr>\n",
              "\t<tr><td>Recurring:6M </td><td> 56</td><td>0.04628099</td></tr>\n",
              "</tbody>\n",
              "</table>\n"
            ]
          },
          "metadata": {
            "tags": []
          }
        }
      ]
    },
    {
      "cell_type": "code",
      "metadata": {
        "colab": {
          "base_uri": "https://localhost:8080/",
          "height": 34
        },
        "id": "LaUpoxy98UEj",
        "outputId": "3c090a36-4657-480b-f467-53327b3cc202"
      },
      "source": [
        "levels(df_without_2$ORG_NEW_POS_PAYMENT_PREF)"
      ],
      "execution_count": 60,
      "outputs": [
        {
          "output_type": "display_data",
          "data": {
            "text/plain": [
              "[1] \"No ANS\"        \"One-Time\"      \"Recurring:12M\" \"Recurring:1M\" \n",
              "[5] \"Recurring:3M\"  \"Recurring:6M\" "
            ],
            "text/latex": "\\begin{enumerate*}\n\\item 'No ANS'\n\\item 'One-Time'\n\\item 'Recurring:12M'\n\\item 'Recurring:1M'\n\\item 'Recurring:3M'\n\\item 'Recurring:6M'\n\\end{enumerate*}\n",
            "text/markdown": "1. 'No ANS'\n2. 'One-Time'\n3. 'Recurring:12M'\n4. 'Recurring:1M'\n5. 'Recurring:3M'\n6. 'Recurring:6M'\n\n\n",
            "text/html": [
              "<style>\n",
              ".list-inline {list-style: none; margin:0; padding: 0}\n",
              ".list-inline>li {display: inline-block}\n",
              ".list-inline>li:not(:last-child)::after {content: \"\\00b7\"; padding: 0 .5ex}\n",
              "</style>\n",
              "<ol class=list-inline><li>'No ANS'</li><li>'One-Time'</li><li>'Recurring:12M'</li><li>'Recurring:1M'</li><li>'Recurring:3M'</li><li>'Recurring:6M'</li></ol>\n"
            ]
          },
          "metadata": {
            "tags": []
          }
        }
      ]
    },
    {
      "cell_type": "code",
      "metadata": {
        "colab": {
          "base_uri": "https://localhost:8080/"
        },
        "id": "Nl6LpFuLAYB3",
        "outputId": "6fe181fa-9303-409d-e72e-21175cd2937c"
      },
      "source": [
        "df_without_2 <- df_without_2 %>%\n",
        "mutate (ORG_NEW_POS_PAYMENT_PREF = fct_relevel(ORG_NEW_POS_PAYMENT_PREF,\n",
        "levels=c('No ANS',\n",
        "'One-Time',\n",
        "'Recurring:1M',\n",
        "'Recurring:3M',\n",
        "'Recurring:6M',\n",
        "'Recurring:12M'\n",
        "))) "
      ],
      "execution_count": 61,
      "outputs": [
        {
          "output_type": "stream",
          "text": [
            "Warning message:\n",
            "“Outer names are only allowed for unnamed scalar atomic inputs”\n"
          ],
          "name": "stderr"
        }
      ]
    },
    {
      "cell_type": "code",
      "metadata": {
        "colab": {
          "base_uri": "https://localhost:8080/",
          "height": 282
        },
        "id": "O8wgPoARA057",
        "outputId": "7249b498-c04e-4329-b573-1d11bc20148e"
      },
      "source": [
        "tabyl(df_without_2$ORG_NEW_POS_PAYMENT_PREF)"
      ],
      "execution_count": 62,
      "outputs": [
        {
          "output_type": "display_data",
          "data": {
            "text/plain": [
              "  df_without_2$ORG_NEW_POS_PAYMENT_PREF n   percent   \n",
              "1 No ANS                                119 0.09834711\n",
              "2 One-Time                              528 0.43636364\n",
              "3 Recurring:1M                           38 0.03140496\n",
              "4 Recurring:3M                           27 0.02231405\n",
              "5 Recurring:6M                           56 0.04628099\n",
              "6 Recurring:12M                         442 0.36528926"
            ],
            "text/latex": "A tabyl: 6 × 3\n\\begin{tabular}{lll}\n df\\_without\\_2\\$ORG\\_NEW\\_POS\\_PAYMENT\\_PREF & n & percent\\\\\n <fct> & <dbl> & <dbl>\\\\\n\\hline\n\t No ANS        & 119 & 0.09834711\\\\\n\t One-Time      & 528 & 0.43636364\\\\\n\t Recurring:1M  &  38 & 0.03140496\\\\\n\t Recurring:3M  &  27 & 0.02231405\\\\\n\t Recurring:6M  &  56 & 0.04628099\\\\\n\t Recurring:12M & 442 & 0.36528926\\\\\n\\end{tabular}\n",
            "text/markdown": "\nA tabyl: 6 × 3\n\n| df_without_2$ORG_NEW_POS_PAYMENT_PREF &lt;fct&gt; | n &lt;dbl&gt; | percent &lt;dbl&gt; |\n|---|---|---|\n| No ANS        | 119 | 0.09834711 |\n| One-Time      | 528 | 0.43636364 |\n| Recurring:1M  |  38 | 0.03140496 |\n| Recurring:3M  |  27 | 0.02231405 |\n| Recurring:6M  |  56 | 0.04628099 |\n| Recurring:12M | 442 | 0.36528926 |\n\n",
            "text/html": [
              "<table class=\"dataframe\">\n",
              "<caption>A tabyl: 6 × 3</caption>\n",
              "<thead>\n",
              "\t<tr><th scope=col>df_without_2$ORG_NEW_POS_PAYMENT_PREF</th><th scope=col>n</th><th scope=col>percent</th></tr>\n",
              "\t<tr><th scope=col>&lt;fct&gt;</th><th scope=col>&lt;dbl&gt;</th><th scope=col>&lt;dbl&gt;</th></tr>\n",
              "</thead>\n",
              "<tbody>\n",
              "\t<tr><td>No ANS       </td><td>119</td><td>0.09834711</td></tr>\n",
              "\t<tr><td>One-Time     </td><td>528</td><td>0.43636364</td></tr>\n",
              "\t<tr><td>Recurring:1M </td><td> 38</td><td>0.03140496</td></tr>\n",
              "\t<tr><td>Recurring:3M </td><td> 27</td><td>0.02231405</td></tr>\n",
              "\t<tr><td>Recurring:6M </td><td> 56</td><td>0.04628099</td></tr>\n",
              "\t<tr><td>Recurring:12M</td><td>442</td><td>0.36528926</td></tr>\n",
              "</tbody>\n",
              "</table>\n"
            ]
          },
          "metadata": {
            "tags": []
          }
        }
      ]
    },
    {
      "cell_type": "markdown",
      "metadata": {
        "id": "K4kteCDlFyD7"
      },
      "source": [
        "##### 1.9 ORG_NEW_POS_LANG_PREF"
      ]
    },
    {
      "cell_type": "code",
      "metadata": {
        "colab": {
          "base_uri": "https://localhost:8080/",
          "height": 158
        },
        "id": "D49yEzakF1Zd",
        "outputId": "d89d0921-1915-40c4-b5f4-25de6446294b"
      },
      "source": [
        "tabyl(df_without_2$ORG_NEW_POS_LANG_PREF)"
      ],
      "execution_count": 63,
      "outputs": [
        {
          "output_type": "display_data",
          "data": {
            "text/plain": [
              "  df_without_2$ORG_NEW_POS_LANG_PREF n   percent  \n",
              "1 English                            488 0.4033058\n",
              "2 English and Urdu                   722 0.5966942"
            ],
            "text/latex": "A tabyl: 2 × 3\n\\begin{tabular}{lll}\n df\\_without\\_2\\$ORG\\_NEW\\_POS\\_LANG\\_PREF & n & percent\\\\\n <fct> & <dbl> & <dbl>\\\\\n\\hline\n\t English          & 488 & 0.4033058\\\\\n\t English and Urdu & 722 & 0.5966942\\\\\n\\end{tabular}\n",
            "text/markdown": "\nA tabyl: 2 × 3\n\n| df_without_2$ORG_NEW_POS_LANG_PREF &lt;fct&gt; | n &lt;dbl&gt; | percent &lt;dbl&gt; |\n|---|---|---|\n| English          | 488 | 0.4033058 |\n| English and Urdu | 722 | 0.5966942 |\n\n",
            "text/html": [
              "<table class=\"dataframe\">\n",
              "<caption>A tabyl: 2 × 3</caption>\n",
              "<thead>\n",
              "\t<tr><th scope=col>df_without_2$ORG_NEW_POS_LANG_PREF</th><th scope=col>n</th><th scope=col>percent</th></tr>\n",
              "\t<tr><th scope=col>&lt;fct&gt;</th><th scope=col>&lt;dbl&gt;</th><th scope=col>&lt;dbl&gt;</th></tr>\n",
              "</thead>\n",
              "<tbody>\n",
              "\t<tr><td>English         </td><td>488</td><td>0.4033058</td></tr>\n",
              "\t<tr><td>English and Urdu</td><td>722</td><td>0.5966942</td></tr>\n",
              "</tbody>\n",
              "</table>\n"
            ]
          },
          "metadata": {
            "tags": []
          }
        }
      ]
    },
    {
      "cell_type": "code",
      "metadata": {
        "colab": {
          "base_uri": "https://localhost:8080/",
          "height": 34
        },
        "id": "S3PdZYF5GOGL",
        "outputId": "ac95d08e-b45c-4a85-9ee1-7e2c2c449f51"
      },
      "source": [
        "levels(df_without_2$ORG_NEW_POS_LANG_PREF)"
      ],
      "execution_count": 64,
      "outputs": [
        {
          "output_type": "display_data",
          "data": {
            "text/plain": [
              "[1] \"English\"          \"English and Urdu\""
            ],
            "text/latex": "\\begin{enumerate*}\n\\item 'English'\n\\item 'English and Urdu'\n\\end{enumerate*}\n",
            "text/markdown": "1. 'English'\n2. 'English and Urdu'\n\n\n",
            "text/html": [
              "<style>\n",
              ".list-inline {list-style: none; margin:0; padding: 0}\n",
              ".list-inline>li {display: inline-block}\n",
              ".list-inline>li:not(:last-child)::after {content: \"\\00b7\"; padding: 0 .5ex}\n",
              "</style>\n",
              "<ol class=list-inline><li>'English'</li><li>'English and Urdu'</li></ol>\n"
            ]
          },
          "metadata": {
            "tags": []
          }
        }
      ]
    },
    {
      "cell_type": "markdown",
      "metadata": {
        "id": "JtnJeoxNHl4w"
      },
      "source": [
        "##### 1.10 ORG_OUTLETS_COUNT"
      ]
    },
    {
      "cell_type": "code",
      "metadata": {
        "colab": {
          "base_uri": "https://localhost:8080/",
          "height": 313
        },
        "id": "PCFMF5VnHnMV",
        "outputId": "b70a9aaa-fa6e-4973-f31d-e1230e1475d3"
      },
      "source": [
        "tabyl(df_without_2$ORG_OUTLETS_COUNT)"
      ],
      "execution_count": 65,
      "outputs": [
        {
          "output_type": "display_data",
          "data": {
            "text/plain": [
              "  df_without_2$ORG_OUTLETS_COUNT n   percent    \n",
              "1 1                              994 0.821487603\n",
              "2 10+                              4 0.003305785\n",
              "3 2                               54 0.044628099\n",
              "4 3                               69 0.057024793\n",
              "5 4                               50 0.041322314\n",
              "6 5                               36 0.029752066\n",
              "7 6 to 10                          3 0.002479339"
            ],
            "text/latex": "A tabyl: 7 × 3\n\\begin{tabular}{lll}\n df\\_without\\_2\\$ORG\\_OUTLETS\\_COUNT & n & percent\\\\\n <fct> & <dbl> & <dbl>\\\\\n\\hline\n\t 1       & 994 & 0.821487603\\\\\n\t 10+     &   4 & 0.003305785\\\\\n\t 2       &  54 & 0.044628099\\\\\n\t 3       &  69 & 0.057024793\\\\\n\t 4       &  50 & 0.041322314\\\\\n\t 5       &  36 & 0.029752066\\\\\n\t 6 to 10 &   3 & 0.002479339\\\\\n\\end{tabular}\n",
            "text/markdown": "\nA tabyl: 7 × 3\n\n| df_without_2$ORG_OUTLETS_COUNT &lt;fct&gt; | n &lt;dbl&gt; | percent &lt;dbl&gt; |\n|---|---|---|\n| 1       | 994 | 0.821487603 |\n| 10+     |   4 | 0.003305785 |\n| 2       |  54 | 0.044628099 |\n| 3       |  69 | 0.057024793 |\n| 4       |  50 | 0.041322314 |\n| 5       |  36 | 0.029752066 |\n| 6 to 10 |   3 | 0.002479339 |\n\n",
            "text/html": [
              "<table class=\"dataframe\">\n",
              "<caption>A tabyl: 7 × 3</caption>\n",
              "<thead>\n",
              "\t<tr><th scope=col>df_without_2$ORG_OUTLETS_COUNT</th><th scope=col>n</th><th scope=col>percent</th></tr>\n",
              "\t<tr><th scope=col>&lt;fct&gt;</th><th scope=col>&lt;dbl&gt;</th><th scope=col>&lt;dbl&gt;</th></tr>\n",
              "</thead>\n",
              "<tbody>\n",
              "\t<tr><td>1      </td><td>994</td><td>0.821487603</td></tr>\n",
              "\t<tr><td>10+    </td><td>  4</td><td>0.003305785</td></tr>\n",
              "\t<tr><td>2      </td><td> 54</td><td>0.044628099</td></tr>\n",
              "\t<tr><td>3      </td><td> 69</td><td>0.057024793</td></tr>\n",
              "\t<tr><td>4      </td><td> 50</td><td>0.041322314</td></tr>\n",
              "\t<tr><td>5      </td><td> 36</td><td>0.029752066</td></tr>\n",
              "\t<tr><td>6 to 10</td><td>  3</td><td>0.002479339</td></tr>\n",
              "</tbody>\n",
              "</table>\n"
            ]
          },
          "metadata": {
            "tags": []
          }
        }
      ]
    },
    {
      "cell_type": "code",
      "metadata": {
        "colab": {
          "base_uri": "https://localhost:8080/",
          "height": 34
        },
        "id": "9_9H7JcAILg_",
        "outputId": "9b4225a3-95a2-4a31-d03e-d8a2d90706c7"
      },
      "source": [
        "levels(df_without_2$ORG_OUTLETS_COUNT)"
      ],
      "execution_count": 66,
      "outputs": [
        {
          "output_type": "display_data",
          "data": {
            "text/plain": [
              "[1] \"1\"       \"10+\"     \"2\"       \"3\"       \"4\"       \"5\"       \"6 to 10\""
            ],
            "text/latex": "\\begin{enumerate*}\n\\item '1'\n\\item '10+'\n\\item '2'\n\\item '3'\n\\item '4'\n\\item '5'\n\\item '6 to 10'\n\\end{enumerate*}\n",
            "text/markdown": "1. '1'\n2. '10+'\n3. '2'\n4. '3'\n5. '4'\n6. '5'\n7. '6 to 10'\n\n\n",
            "text/html": [
              "<style>\n",
              ".list-inline {list-style: none; margin:0; padding: 0}\n",
              ".list-inline>li {display: inline-block}\n",
              ".list-inline>li:not(:last-child)::after {content: \"\\00b7\"; padding: 0 .5ex}\n",
              "</style>\n",
              "<ol class=list-inline><li>'1'</li><li>'10+'</li><li>'2'</li><li>'3'</li><li>'4'</li><li>'5'</li><li>'6 to 10'</li></ol>\n"
            ]
          },
          "metadata": {
            "tags": []
          }
        }
      ]
    },
    {
      "cell_type": "markdown",
      "metadata": {
        "id": "a92EqFAhfy40"
      },
      "source": [
        "reorder the levels"
      ]
    },
    {
      "cell_type": "code",
      "metadata": {
        "colab": {
          "base_uri": "https://localhost:8080/"
        },
        "id": "pewxz5c8fqcI",
        "outputId": "45e5f41c-1951-4cab-db5a-18eeac234d06"
      },
      "source": [
        "df_without_2 <- df_without_2 %>% \n",
        "   mutate (ORG_OUTLETS_COUNT = fct_relevel(ORG_OUTLETS_COUNT, \n",
        "   levels=c('1','2','3','4','5','6 to 10','10+')))"
      ],
      "execution_count": 67,
      "outputs": [
        {
          "output_type": "stream",
          "text": [
            "Warning message:\n",
            "“Outer names are only allowed for unnamed scalar atomic inputs”\n"
          ],
          "name": "stderr"
        }
      ]
    },
    {
      "cell_type": "code",
      "metadata": {
        "colab": {
          "base_uri": "https://localhost:8080/",
          "height": 313
        },
        "id": "USuhcisigGQb",
        "outputId": "19c570d8-8945-4ced-eb9b-85c41d6fb007"
      },
      "source": [
        "tabyl(df_without_2$ORG_OUTLETS_COUNT)"
      ],
      "execution_count": 68,
      "outputs": [
        {
          "output_type": "display_data",
          "data": {
            "text/plain": [
              "  df_without_2$ORG_OUTLETS_COUNT n   percent    \n",
              "1 1                              994 0.821487603\n",
              "2 2                               54 0.044628099\n",
              "3 3                               69 0.057024793\n",
              "4 4                               50 0.041322314\n",
              "5 5                               36 0.029752066\n",
              "6 6 to 10                          3 0.002479339\n",
              "7 10+                              4 0.003305785"
            ],
            "text/latex": "A tabyl: 7 × 3\n\\begin{tabular}{lll}\n df\\_without\\_2\\$ORG\\_OUTLETS\\_COUNT & n & percent\\\\\n <fct> & <dbl> & <dbl>\\\\\n\\hline\n\t 1       & 994 & 0.821487603\\\\\n\t 2       &  54 & 0.044628099\\\\\n\t 3       &  69 & 0.057024793\\\\\n\t 4       &  50 & 0.041322314\\\\\n\t 5       &  36 & 0.029752066\\\\\n\t 6 to 10 &   3 & 0.002479339\\\\\n\t 10+     &   4 & 0.003305785\\\\\n\\end{tabular}\n",
            "text/markdown": "\nA tabyl: 7 × 3\n\n| df_without_2$ORG_OUTLETS_COUNT &lt;fct&gt; | n &lt;dbl&gt; | percent &lt;dbl&gt; |\n|---|---|---|\n| 1       | 994 | 0.821487603 |\n| 2       |  54 | 0.044628099 |\n| 3       |  69 | 0.057024793 |\n| 4       |  50 | 0.041322314 |\n| 5       |  36 | 0.029752066 |\n| 6 to 10 |   3 | 0.002479339 |\n| 10+     |   4 | 0.003305785 |\n\n",
            "text/html": [
              "<table class=\"dataframe\">\n",
              "<caption>A tabyl: 7 × 3</caption>\n",
              "<thead>\n",
              "\t<tr><th scope=col>df_without_2$ORG_OUTLETS_COUNT</th><th scope=col>n</th><th scope=col>percent</th></tr>\n",
              "\t<tr><th scope=col>&lt;fct&gt;</th><th scope=col>&lt;dbl&gt;</th><th scope=col>&lt;dbl&gt;</th></tr>\n",
              "</thead>\n",
              "<tbody>\n",
              "\t<tr><td>1      </td><td>994</td><td>0.821487603</td></tr>\n",
              "\t<tr><td>2      </td><td> 54</td><td>0.044628099</td></tr>\n",
              "\t<tr><td>3      </td><td> 69</td><td>0.057024793</td></tr>\n",
              "\t<tr><td>4      </td><td> 50</td><td>0.041322314</td></tr>\n",
              "\t<tr><td>5      </td><td> 36</td><td>0.029752066</td></tr>\n",
              "\t<tr><td>6 to 10</td><td>  3</td><td>0.002479339</td></tr>\n",
              "\t<tr><td>10+    </td><td>  4</td><td>0.003305785</td></tr>\n",
              "</tbody>\n",
              "</table>\n"
            ]
          },
          "metadata": {
            "tags": []
          }
        }
      ]
    },
    {
      "cell_type": "markdown",
      "metadata": {
        "id": "7LymZXJmIv01"
      },
      "source": [
        "##### 1.11 ORG_NEW_POS_KIND"
      ]
    },
    {
      "cell_type": "code",
      "metadata": {
        "colab": {
          "base_uri": "https://localhost:8080/",
          "height": 158
        },
        "id": "DBYgpG6VIu2r",
        "outputId": "54da518a-cfd8-4c51-b903-0ff2a6b127b5"
      },
      "source": [
        "tabyl(df_without_2$ORG_NEW_POS_KIND)"
      ],
      "execution_count": 69,
      "outputs": [
        {
          "output_type": "display_data",
          "data": {
            "text/plain": [
              "  df_without_2$ORG_NEW_POS_KIND n   percent \n",
              "1 Stand-Alone                   549 0.453719\n",
              "2 Web-Based                     661 0.546281"
            ],
            "text/latex": "A tabyl: 2 × 3\n\\begin{tabular}{lll}\n df\\_without\\_2\\$ORG\\_NEW\\_POS\\_KIND & n & percent\\\\\n <fct> & <dbl> & <dbl>\\\\\n\\hline\n\t Stand-Alone & 549 & 0.453719\\\\\n\t Web-Based   & 661 & 0.546281\\\\\n\\end{tabular}\n",
            "text/markdown": "\nA tabyl: 2 × 3\n\n| df_without_2$ORG_NEW_POS_KIND &lt;fct&gt; | n &lt;dbl&gt; | percent &lt;dbl&gt; |\n|---|---|---|\n| Stand-Alone | 549 | 0.453719 |\n| Web-Based   | 661 | 0.546281 |\n\n",
            "text/html": [
              "<table class=\"dataframe\">\n",
              "<caption>A tabyl: 2 × 3</caption>\n",
              "<thead>\n",
              "\t<tr><th scope=col>df_without_2$ORG_NEW_POS_KIND</th><th scope=col>n</th><th scope=col>percent</th></tr>\n",
              "\t<tr><th scope=col>&lt;fct&gt;</th><th scope=col>&lt;dbl&gt;</th><th scope=col>&lt;dbl&gt;</th></tr>\n",
              "</thead>\n",
              "<tbody>\n",
              "\t<tr><td>Stand-Alone</td><td>549</td><td>0.453719</td></tr>\n",
              "\t<tr><td>Web-Based  </td><td>661</td><td>0.546281</td></tr>\n",
              "</tbody>\n",
              "</table>\n"
            ]
          },
          "metadata": {
            "tags": []
          }
        }
      ]
    },
    {
      "cell_type": "markdown",
      "metadata": {
        "id": "BMDlyWPc1ZuX"
      },
      "source": [
        "##### 1.12 ORG_WILLINGNESS_TO_PAY_AMOUNT"
      ]
    },
    {
      "cell_type": "code",
      "metadata": {
        "colab": {
          "base_uri": "https://localhost:8080/",
          "height": 529
        },
        "id": "6kkTZKyb1bHj",
        "outputId": "62f2f02d-6715-47f5-82f4-71ca21d95211"
      },
      "source": [
        "tabyl(df_without_2$ORG_WILLINGNESS_TO_PAY_AMOUNT)"
      ],
      "execution_count": 70,
      "outputs": [
        {
          "output_type": "display_data",
          "data": {
            "text/plain": [
              "   df_without_2$ORG_WILLINGNESS_TO_PAY_AMOUNT n   percent    \n",
              "1  <1K                                         30 0.024793388\n",
              "2  0                                           53 0.043801653\n",
              "3  10K                                         30 0.024793388\n",
              "4  10K+                                        38 0.031404959\n",
              "5  1K                                         126 0.104132231\n",
              "6  2K                                         155 0.128099174\n",
              "7  3K                                          61 0.050413223\n",
              "8  4K                                          30 0.024793388\n",
              "9  5K                                          56 0.046280992\n",
              "10 6K                                          22 0.018181818\n",
              "11 7K                                          12 0.009917355\n",
              "12 8K                                          15 0.012396694\n",
              "13 9K                                           8 0.006611570\n",
              "14 No ANS                                     574 0.474380165"
            ],
            "text/latex": "A tabyl: 14 × 3\n\\begin{tabular}{lll}\n df\\_without\\_2\\$ORG\\_WILLINGNESS\\_TO\\_PAY\\_AMOUNT & n & percent\\\\\n <fct> & <dbl> & <dbl>\\\\\n\\hline\n\t <1K    &  30 & 0.024793388\\\\\n\t 0      &  53 & 0.043801653\\\\\n\t 10K    &  30 & 0.024793388\\\\\n\t 10K+   &  38 & 0.031404959\\\\\n\t 1K     & 126 & 0.104132231\\\\\n\t 2K     & 155 & 0.128099174\\\\\n\t 3K     &  61 & 0.050413223\\\\\n\t 4K     &  30 & 0.024793388\\\\\n\t 5K     &  56 & 0.046280992\\\\\n\t 6K     &  22 & 0.018181818\\\\\n\t 7K     &  12 & 0.009917355\\\\\n\t 8K     &  15 & 0.012396694\\\\\n\t 9K     &   8 & 0.006611570\\\\\n\t No ANS & 574 & 0.474380165\\\\\n\\end{tabular}\n",
            "text/markdown": "\nA tabyl: 14 × 3\n\n| df_without_2$ORG_WILLINGNESS_TO_PAY_AMOUNT &lt;fct&gt; | n &lt;dbl&gt; | percent &lt;dbl&gt; |\n|---|---|---|\n| &lt;1K    |  30 | 0.024793388 |\n| 0      |  53 | 0.043801653 |\n| 10K    |  30 | 0.024793388 |\n| 10K+   |  38 | 0.031404959 |\n| 1K     | 126 | 0.104132231 |\n| 2K     | 155 | 0.128099174 |\n| 3K     |  61 | 0.050413223 |\n| 4K     |  30 | 0.024793388 |\n| 5K     |  56 | 0.046280992 |\n| 6K     |  22 | 0.018181818 |\n| 7K     |  12 | 0.009917355 |\n| 8K     |  15 | 0.012396694 |\n| 9K     |   8 | 0.006611570 |\n| No ANS | 574 | 0.474380165 |\n\n",
            "text/html": [
              "<table class=\"dataframe\">\n",
              "<caption>A tabyl: 14 × 3</caption>\n",
              "<thead>\n",
              "\t<tr><th scope=col>df_without_2$ORG_WILLINGNESS_TO_PAY_AMOUNT</th><th scope=col>n</th><th scope=col>percent</th></tr>\n",
              "\t<tr><th scope=col>&lt;fct&gt;</th><th scope=col>&lt;dbl&gt;</th><th scope=col>&lt;dbl&gt;</th></tr>\n",
              "</thead>\n",
              "<tbody>\n",
              "\t<tr><td><span style=white-space:pre-wrap>&lt;1K   </span></td><td> 30</td><td>0.024793388</td></tr>\n",
              "\t<tr><td>0     </td><td> 53</td><td>0.043801653</td></tr>\n",
              "\t<tr><td>10K   </td><td> 30</td><td>0.024793388</td></tr>\n",
              "\t<tr><td>10K+  </td><td> 38</td><td>0.031404959</td></tr>\n",
              "\t<tr><td>1K    </td><td>126</td><td>0.104132231</td></tr>\n",
              "\t<tr><td>2K    </td><td>155</td><td>0.128099174</td></tr>\n",
              "\t<tr><td>3K    </td><td> 61</td><td>0.050413223</td></tr>\n",
              "\t<tr><td>4K    </td><td> 30</td><td>0.024793388</td></tr>\n",
              "\t<tr><td>5K    </td><td> 56</td><td>0.046280992</td></tr>\n",
              "\t<tr><td>6K    </td><td> 22</td><td>0.018181818</td></tr>\n",
              "\t<tr><td>7K    </td><td> 12</td><td>0.009917355</td></tr>\n",
              "\t<tr><td>8K    </td><td> 15</td><td>0.012396694</td></tr>\n",
              "\t<tr><td>9K    </td><td>  8</td><td>0.006611570</td></tr>\n",
              "\t<tr><td>No ANS</td><td>574</td><td>0.474380165</td></tr>\n",
              "</tbody>\n",
              "</table>\n"
            ]
          },
          "metadata": {
            "tags": []
          }
        }
      ]
    },
    {
      "cell_type": "code",
      "metadata": {
        "colab": {
          "base_uri": "https://localhost:8080/",
          "height": 34
        },
        "id": "cPzyJgNm2NBd",
        "outputId": "7d3fee13-d4f6-4de3-e85d-f9e32abf1499"
      },
      "source": [
        "levels(df_without_2$ORG_WILLINGNESS_TO_PAY_AMOUNT)"
      ],
      "execution_count": 71,
      "outputs": [
        {
          "output_type": "display_data",
          "data": {
            "text/plain": [
              " [1] \"<1K\"    \"0\"      \"10K\"    \"10K+\"   \"1K\"     \"2K\"     \"3K\"     \"4K\"    \n",
              " [9] \"5K\"     \"6K\"     \"7K\"     \"8K\"     \"9K\"     \"No ANS\""
            ],
            "text/latex": "\\begin{enumerate*}\n\\item '<1K'\n\\item '0'\n\\item '10K'\n\\item '10K+'\n\\item '1K'\n\\item '2K'\n\\item '3K'\n\\item '4K'\n\\item '5K'\n\\item '6K'\n\\item '7K'\n\\item '8K'\n\\item '9K'\n\\item 'No ANS'\n\\end{enumerate*}\n",
            "text/markdown": "1. '&lt;1K'\n2. '0'\n3. '10K'\n4. '10K+'\n5. '1K'\n6. '2K'\n7. '3K'\n8. '4K'\n9. '5K'\n10. '6K'\n11. '7K'\n12. '8K'\n13. '9K'\n14. 'No ANS'\n\n\n",
            "text/html": [
              "<style>\n",
              ".list-inline {list-style: none; margin:0; padding: 0}\n",
              ".list-inline>li {display: inline-block}\n",
              ".list-inline>li:not(:last-child)::after {content: \"\\00b7\"; padding: 0 .5ex}\n",
              "</style>\n",
              "<ol class=list-inline><li>'&lt;1K'</li><li>'0'</li><li>'10K'</li><li>'10K+'</li><li>'1K'</li><li>'2K'</li><li>'3K'</li><li>'4K'</li><li>'5K'</li><li>'6K'</li><li>'7K'</li><li>'8K'</li><li>'9K'</li><li>'No ANS'</li></ol>\n"
            ]
          },
          "metadata": {
            "tags": []
          }
        }
      ]
    },
    {
      "cell_type": "markdown",
      "metadata": {
        "id": "ATzy8rXc2Raq"
      },
      "source": [
        "Reordering the levels"
      ]
    },
    {
      "cell_type": "code",
      "metadata": {
        "colab": {
          "base_uri": "https://localhost:8080/"
        },
        "id": "ZiWPvTT62TWi",
        "outputId": "2e065fab-dfe3-46d1-8035-5f3d09456aa3"
      },
      "source": [
        "df_without_2 <- \n",
        "    df_without_2 %>%\n",
        "        mutate (ORG_WILLINGNESS_TO_PAY_AMOUNT = fct_relevel(ORG_WILLINGNESS_TO_PAY_AMOUNT,\n",
        "        levels=c(\n",
        "          'No ANS',\n",
        "          '0',\n",
        "          '<1K',\n",
        "          '1K',\n",
        "          '2K',\n",
        "          '3K',\n",
        "          '4K',\n",
        "          '5K',\n",
        "          '6K',\n",
        "          '7K',\n",
        "          '8K',\n",
        "          '9K',\n",
        "          '10K',\n",
        "          '10K+'))) "
      ],
      "execution_count": 72,
      "outputs": [
        {
          "output_type": "stream",
          "text": [
            "Warning message:\n",
            "“Outer names are only allowed for unnamed scalar atomic inputs”\n"
          ],
          "name": "stderr"
        }
      ]
    },
    {
      "cell_type": "code",
      "metadata": {
        "colab": {
          "base_uri": "https://localhost:8080/",
          "height": 529
        },
        "id": "ua1I0lGI21iQ",
        "outputId": "6662ad4e-48ff-4202-9d35-9faa14710083"
      },
      "source": [
        "tabyl(df_without_2$ORG_WILLINGNESS_TO_PAY_AMOUNT)"
      ],
      "execution_count": 73,
      "outputs": [
        {
          "output_type": "display_data",
          "data": {
            "text/plain": [
              "   df_without_2$ORG_WILLINGNESS_TO_PAY_AMOUNT n   percent    \n",
              "1  No ANS                                     574 0.474380165\n",
              "2  0                                           53 0.043801653\n",
              "3  <1K                                         30 0.024793388\n",
              "4  1K                                         126 0.104132231\n",
              "5  2K                                         155 0.128099174\n",
              "6  3K                                          61 0.050413223\n",
              "7  4K                                          30 0.024793388\n",
              "8  5K                                          56 0.046280992\n",
              "9  6K                                          22 0.018181818\n",
              "10 7K                                          12 0.009917355\n",
              "11 8K                                          15 0.012396694\n",
              "12 9K                                           8 0.006611570\n",
              "13 10K                                         30 0.024793388\n",
              "14 10K+                                        38 0.031404959"
            ],
            "text/latex": "A tabyl: 14 × 3\n\\begin{tabular}{lll}\n df\\_without\\_2\\$ORG\\_WILLINGNESS\\_TO\\_PAY\\_AMOUNT & n & percent\\\\\n <fct> & <dbl> & <dbl>\\\\\n\\hline\n\t No ANS & 574 & 0.474380165\\\\\n\t 0      &  53 & 0.043801653\\\\\n\t <1K    &  30 & 0.024793388\\\\\n\t 1K     & 126 & 0.104132231\\\\\n\t 2K     & 155 & 0.128099174\\\\\n\t 3K     &  61 & 0.050413223\\\\\n\t 4K     &  30 & 0.024793388\\\\\n\t 5K     &  56 & 0.046280992\\\\\n\t 6K     &  22 & 0.018181818\\\\\n\t 7K     &  12 & 0.009917355\\\\\n\t 8K     &  15 & 0.012396694\\\\\n\t 9K     &   8 & 0.006611570\\\\\n\t 10K    &  30 & 0.024793388\\\\\n\t 10K+   &  38 & 0.031404959\\\\\n\\end{tabular}\n",
            "text/markdown": "\nA tabyl: 14 × 3\n\n| df_without_2$ORG_WILLINGNESS_TO_PAY_AMOUNT &lt;fct&gt; | n &lt;dbl&gt; | percent &lt;dbl&gt; |\n|---|---|---|\n| No ANS | 574 | 0.474380165 |\n| 0      |  53 | 0.043801653 |\n| &lt;1K    |  30 | 0.024793388 |\n| 1K     | 126 | 0.104132231 |\n| 2K     | 155 | 0.128099174 |\n| 3K     |  61 | 0.050413223 |\n| 4K     |  30 | 0.024793388 |\n| 5K     |  56 | 0.046280992 |\n| 6K     |  22 | 0.018181818 |\n| 7K     |  12 | 0.009917355 |\n| 8K     |  15 | 0.012396694 |\n| 9K     |   8 | 0.006611570 |\n| 10K    |  30 | 0.024793388 |\n| 10K+   |  38 | 0.031404959 |\n\n",
            "text/html": [
              "<table class=\"dataframe\">\n",
              "<caption>A tabyl: 14 × 3</caption>\n",
              "<thead>\n",
              "\t<tr><th scope=col>df_without_2$ORG_WILLINGNESS_TO_PAY_AMOUNT</th><th scope=col>n</th><th scope=col>percent</th></tr>\n",
              "\t<tr><th scope=col>&lt;fct&gt;</th><th scope=col>&lt;dbl&gt;</th><th scope=col>&lt;dbl&gt;</th></tr>\n",
              "</thead>\n",
              "<tbody>\n",
              "\t<tr><td>No ANS</td><td>574</td><td>0.474380165</td></tr>\n",
              "\t<tr><td>0     </td><td> 53</td><td>0.043801653</td></tr>\n",
              "\t<tr><td><span style=white-space:pre-wrap>&lt;1K   </span></td><td> 30</td><td>0.024793388</td></tr>\n",
              "\t<tr><td>1K    </td><td>126</td><td>0.104132231</td></tr>\n",
              "\t<tr><td>2K    </td><td>155</td><td>0.128099174</td></tr>\n",
              "\t<tr><td>3K    </td><td> 61</td><td>0.050413223</td></tr>\n",
              "\t<tr><td>4K    </td><td> 30</td><td>0.024793388</td></tr>\n",
              "\t<tr><td>5K    </td><td> 56</td><td>0.046280992</td></tr>\n",
              "\t<tr><td>6K    </td><td> 22</td><td>0.018181818</td></tr>\n",
              "\t<tr><td>7K    </td><td> 12</td><td>0.009917355</td></tr>\n",
              "\t<tr><td>8K    </td><td> 15</td><td>0.012396694</td></tr>\n",
              "\t<tr><td>9K    </td><td>  8</td><td>0.006611570</td></tr>\n",
              "\t<tr><td>10K   </td><td> 30</td><td>0.024793388</td></tr>\n",
              "\t<tr><td>10K+  </td><td> 38</td><td>0.031404959</td></tr>\n",
              "</tbody>\n",
              "</table>\n"
            ]
          },
          "metadata": {
            "tags": []
          }
        }
      ]
    },
    {
      "cell_type": "markdown",
      "metadata": {
        "id": "P3ToNmo72__o"
      },
      "source": [
        "##### 1.13 ORG_NEW_POS_DEVICES"
      ]
    },
    {
      "cell_type": "code",
      "metadata": {
        "colab": {
          "base_uri": "https://localhost:8080/",
          "height": 1000
        },
        "id": "t99fHlPJ3KwM",
        "outputId": "1a634623-1e15-42c4-8a78-2586c0ab9d05"
      },
      "source": [
        "tabyl(df_without_2$ORG_NEW_POS_DEVICES)"
      ],
      "execution_count": 74,
      "outputs": [
        {
          "output_type": "display_data",
          "data": {
            "text/plain": [
              "   df_without_2$ORG_NEW_POS_DEVICES                       n   percent     \n",
              "1  -                                                       12 0.0099173554\n",
              "2  Laptop                                                  16 0.0132231405\n",
              "3  Laptop, Mobile Phone                                     4 0.0033057851\n",
              "4  Laptop, Mobile Phone, PC                                 5 0.0041322314\n",
              "5  Laptop, Mobile Phone, PC, POS company hardware           1 0.0008264463\n",
              "6  Laptop, Mobile Phone, PC, POS company hardware, Tablet  62 0.0512396694\n",
              "7  Laptop, Mobile Phone, PC, Tablet                        16 0.0132231405\n",
              "8  Laptop, Mobile Phone, POS company hardware               1 0.0008264463\n",
              "9  Laptop, Mobile Phone, POS company hardware, Tablet       3 0.0024793388\n",
              "10 Laptop, Mobile Phone, Tablet                            22 0.0181818182\n",
              "11 Laptop, PC                                               6 0.0049586777\n",
              "12 Laptop, PC, POS company hardware                         1 0.0008264463\n",
              "13 Laptop, PC, POS company hardware, Tablet                 6 0.0049586777\n",
              "14 Laptop, PC, Tablet                                      33 0.0272727273\n",
              "15 Laptop, POS company hardware                             9 0.0074380165\n",
              "16 Laptop, POS company hardware, Tablet                     1 0.0008264463\n",
              "17 Laptop, Tablet                                          45 0.0371900826\n",
              "18 Mobile Phone                                            18 0.0148760331\n",
              "19 Mobile Phone, PC                                         7 0.0057851240\n",
              "20 Mobile Phone, PC, POS company hardware                   3 0.0024793388\n",
              "21 Mobile Phone, PC, POS company hardware, Tablet           2 0.0016528926\n",
              "22 Mobile Phone, PC, Tablet                                10 0.0082644628\n",
              "23 Mobile Phone, POS company hardware                      38 0.0314049587\n",
              "24 Mobile Phone, POS company hardware, Tablet              12 0.0099173554\n",
              "25 Mobile Phone, POS company hardware, Tablet, Laptop       1 0.0008264463\n",
              "26 Mobile Phone, Tablet                                    95 0.0785123967\n",
              "27 PC                                                      78 0.0644628099\n",
              "28 PC, POS company hardware                                26 0.0214876033\n",
              "29 PC, POS company hardware, Tablet                         3 0.0024793388\n",
              "30 PC, Tablet                                              30 0.0247933884\n",
              "31 POS company hardware                                   140 0.1157024793\n",
              "32 POS company hardware, Tablet                            22 0.0181818182\n",
              "33 Tablet                                                 481 0.3975206612\n",
              "34 Tablet, Laptop, Mobile Phone, PC, POS company hardware   1 0.0008264463"
            ],
            "text/latex": "A tabyl: 34 × 3\n\\begin{tabular}{lll}\n df\\_without\\_2\\$ORG\\_NEW\\_POS\\_DEVICES & n & percent\\\\\n <fct> & <dbl> & <dbl>\\\\\n\\hline\n\t -                                                      &  12 & 0.0099173554\\\\\n\t Laptop                                                 &  16 & 0.0132231405\\\\\n\t Laptop, Mobile Phone                                   &   4 & 0.0033057851\\\\\n\t Laptop, Mobile Phone, PC                               &   5 & 0.0041322314\\\\\n\t Laptop, Mobile Phone, PC, POS company hardware         &   1 & 0.0008264463\\\\\n\t Laptop, Mobile Phone, PC, POS company hardware, Tablet &  62 & 0.0512396694\\\\\n\t Laptop, Mobile Phone, PC, Tablet                       &  16 & 0.0132231405\\\\\n\t Laptop, Mobile Phone, POS company hardware             &   1 & 0.0008264463\\\\\n\t Laptop, Mobile Phone, POS company hardware, Tablet     &   3 & 0.0024793388\\\\\n\t Laptop, Mobile Phone, Tablet                           &  22 & 0.0181818182\\\\\n\t Laptop, PC                                             &   6 & 0.0049586777\\\\\n\t Laptop, PC, POS company hardware                       &   1 & 0.0008264463\\\\\n\t Laptop, PC, POS company hardware, Tablet               &   6 & 0.0049586777\\\\\n\t Laptop, PC, Tablet                                     &  33 & 0.0272727273\\\\\n\t Laptop, POS company hardware                           &   9 & 0.0074380165\\\\\n\t Laptop, POS company hardware, Tablet                   &   1 & 0.0008264463\\\\\n\t Laptop, Tablet                                         &  45 & 0.0371900826\\\\\n\t Mobile Phone                                           &  18 & 0.0148760331\\\\\n\t Mobile Phone, PC                                       &   7 & 0.0057851240\\\\\n\t Mobile Phone, PC, POS company hardware                 &   3 & 0.0024793388\\\\\n\t Mobile Phone, PC, POS company hardware, Tablet         &   2 & 0.0016528926\\\\\n\t Mobile Phone, PC, Tablet                               &  10 & 0.0082644628\\\\\n\t Mobile Phone, POS company hardware                     &  38 & 0.0314049587\\\\\n\t Mobile Phone, POS company hardware, Tablet             &  12 & 0.0099173554\\\\\n\t Mobile Phone, POS company hardware, Tablet, Laptop     &   1 & 0.0008264463\\\\\n\t Mobile Phone, Tablet                                   &  95 & 0.0785123967\\\\\n\t PC                                                     &  78 & 0.0644628099\\\\\n\t PC, POS company hardware                               &  26 & 0.0214876033\\\\\n\t PC, POS company hardware, Tablet                       &   3 & 0.0024793388\\\\\n\t PC, Tablet                                             &  30 & 0.0247933884\\\\\n\t POS company hardware                                   & 140 & 0.1157024793\\\\\n\t POS company hardware, Tablet                           &  22 & 0.0181818182\\\\\n\t Tablet                                                 & 481 & 0.3975206612\\\\\n\t Tablet, Laptop, Mobile Phone, PC, POS company hardware &   1 & 0.0008264463\\\\\n\\end{tabular}\n",
            "text/markdown": "\nA tabyl: 34 × 3\n\n| df_without_2$ORG_NEW_POS_DEVICES &lt;fct&gt; | n &lt;dbl&gt; | percent &lt;dbl&gt; |\n|---|---|---|\n| -                                                      |  12 | 0.0099173554 |\n| Laptop                                                 |  16 | 0.0132231405 |\n| Laptop, Mobile Phone                                   |   4 | 0.0033057851 |\n| Laptop, Mobile Phone, PC                               |   5 | 0.0041322314 |\n| Laptop, Mobile Phone, PC, POS company hardware         |   1 | 0.0008264463 |\n| Laptop, Mobile Phone, PC, POS company hardware, Tablet |  62 | 0.0512396694 |\n| Laptop, Mobile Phone, PC, Tablet                       |  16 | 0.0132231405 |\n| Laptop, Mobile Phone, POS company hardware             |   1 | 0.0008264463 |\n| Laptop, Mobile Phone, POS company hardware, Tablet     |   3 | 0.0024793388 |\n| Laptop, Mobile Phone, Tablet                           |  22 | 0.0181818182 |\n| Laptop, PC                                             |   6 | 0.0049586777 |\n| Laptop, PC, POS company hardware                       |   1 | 0.0008264463 |\n| Laptop, PC, POS company hardware, Tablet               |   6 | 0.0049586777 |\n| Laptop, PC, Tablet                                     |  33 | 0.0272727273 |\n| Laptop, POS company hardware                           |   9 | 0.0074380165 |\n| Laptop, POS company hardware, Tablet                   |   1 | 0.0008264463 |\n| Laptop, Tablet                                         |  45 | 0.0371900826 |\n| Mobile Phone                                           |  18 | 0.0148760331 |\n| Mobile Phone, PC                                       |   7 | 0.0057851240 |\n| Mobile Phone, PC, POS company hardware                 |   3 | 0.0024793388 |\n| Mobile Phone, PC, POS company hardware, Tablet         |   2 | 0.0016528926 |\n| Mobile Phone, PC, Tablet                               |  10 | 0.0082644628 |\n| Mobile Phone, POS company hardware                     |  38 | 0.0314049587 |\n| Mobile Phone, POS company hardware, Tablet             |  12 | 0.0099173554 |\n| Mobile Phone, POS company hardware, Tablet, Laptop     |   1 | 0.0008264463 |\n| Mobile Phone, Tablet                                   |  95 | 0.0785123967 |\n| PC                                                     |  78 | 0.0644628099 |\n| PC, POS company hardware                               |  26 | 0.0214876033 |\n| PC, POS company hardware, Tablet                       |   3 | 0.0024793388 |\n| PC, Tablet                                             |  30 | 0.0247933884 |\n| POS company hardware                                   | 140 | 0.1157024793 |\n| POS company hardware, Tablet                           |  22 | 0.0181818182 |\n| Tablet                                                 | 481 | 0.3975206612 |\n| Tablet, Laptop, Mobile Phone, PC, POS company hardware |   1 | 0.0008264463 |\n\n",
            "text/html": [
              "<table class=\"dataframe\">\n",
              "<caption>A tabyl: 34 × 3</caption>\n",
              "<thead>\n",
              "\t<tr><th scope=col>df_without_2$ORG_NEW_POS_DEVICES</th><th scope=col>n</th><th scope=col>percent</th></tr>\n",
              "\t<tr><th scope=col>&lt;fct&gt;</th><th scope=col>&lt;dbl&gt;</th><th scope=col>&lt;dbl&gt;</th></tr>\n",
              "</thead>\n",
              "<tbody>\n",
              "\t<tr><td>-                                                     </td><td> 12</td><td>0.0099173554</td></tr>\n",
              "\t<tr><td>Laptop                                                </td><td> 16</td><td>0.0132231405</td></tr>\n",
              "\t<tr><td>Laptop, Mobile Phone                                  </td><td>  4</td><td>0.0033057851</td></tr>\n",
              "\t<tr><td>Laptop, Mobile Phone, PC                              </td><td>  5</td><td>0.0041322314</td></tr>\n",
              "\t<tr><td>Laptop, Mobile Phone, PC, POS company hardware        </td><td>  1</td><td>0.0008264463</td></tr>\n",
              "\t<tr><td>Laptop, Mobile Phone, PC, POS company hardware, Tablet</td><td> 62</td><td>0.0512396694</td></tr>\n",
              "\t<tr><td>Laptop, Mobile Phone, PC, Tablet                      </td><td> 16</td><td>0.0132231405</td></tr>\n",
              "\t<tr><td>Laptop, Mobile Phone, POS company hardware            </td><td>  1</td><td>0.0008264463</td></tr>\n",
              "\t<tr><td>Laptop, Mobile Phone, POS company hardware, Tablet    </td><td>  3</td><td>0.0024793388</td></tr>\n",
              "\t<tr><td>Laptop, Mobile Phone, Tablet                          </td><td> 22</td><td>0.0181818182</td></tr>\n",
              "\t<tr><td>Laptop, PC                                            </td><td>  6</td><td>0.0049586777</td></tr>\n",
              "\t<tr><td>Laptop, PC, POS company hardware                      </td><td>  1</td><td>0.0008264463</td></tr>\n",
              "\t<tr><td>Laptop, PC, POS company hardware, Tablet              </td><td>  6</td><td>0.0049586777</td></tr>\n",
              "\t<tr><td>Laptop, PC, Tablet                                    </td><td> 33</td><td>0.0272727273</td></tr>\n",
              "\t<tr><td>Laptop, POS company hardware                          </td><td>  9</td><td>0.0074380165</td></tr>\n",
              "\t<tr><td>Laptop, POS company hardware, Tablet                  </td><td>  1</td><td>0.0008264463</td></tr>\n",
              "\t<tr><td>Laptop, Tablet                                        </td><td> 45</td><td>0.0371900826</td></tr>\n",
              "\t<tr><td>Mobile Phone                                          </td><td> 18</td><td>0.0148760331</td></tr>\n",
              "\t<tr><td>Mobile Phone, PC                                      </td><td>  7</td><td>0.0057851240</td></tr>\n",
              "\t<tr><td>Mobile Phone, PC, POS company hardware                </td><td>  3</td><td>0.0024793388</td></tr>\n",
              "\t<tr><td>Mobile Phone, PC, POS company hardware, Tablet        </td><td>  2</td><td>0.0016528926</td></tr>\n",
              "\t<tr><td>Mobile Phone, PC, Tablet                              </td><td> 10</td><td>0.0082644628</td></tr>\n",
              "\t<tr><td>Mobile Phone, POS company hardware                    </td><td> 38</td><td>0.0314049587</td></tr>\n",
              "\t<tr><td>Mobile Phone, POS company hardware, Tablet            </td><td> 12</td><td>0.0099173554</td></tr>\n",
              "\t<tr><td>Mobile Phone, POS company hardware, Tablet, Laptop    </td><td>  1</td><td>0.0008264463</td></tr>\n",
              "\t<tr><td>Mobile Phone, Tablet                                  </td><td> 95</td><td>0.0785123967</td></tr>\n",
              "\t<tr><td>PC                                                    </td><td> 78</td><td>0.0644628099</td></tr>\n",
              "\t<tr><td>PC, POS company hardware                              </td><td> 26</td><td>0.0214876033</td></tr>\n",
              "\t<tr><td>PC, POS company hardware, Tablet                      </td><td>  3</td><td>0.0024793388</td></tr>\n",
              "\t<tr><td>PC, Tablet                                            </td><td> 30</td><td>0.0247933884</td></tr>\n",
              "\t<tr><td>POS company hardware                                  </td><td>140</td><td>0.1157024793</td></tr>\n",
              "\t<tr><td>POS company hardware, Tablet                          </td><td> 22</td><td>0.0181818182</td></tr>\n",
              "\t<tr><td>Tablet                                                </td><td>481</td><td>0.3975206612</td></tr>\n",
              "\t<tr><td>Tablet, Laptop, Mobile Phone, PC, POS company hardware</td><td>  1</td><td>0.0008264463</td></tr>\n",
              "</tbody>\n",
              "</table>\n"
            ]
          },
          "metadata": {
            "tags": []
          }
        }
      ]
    },
    {
      "cell_type": "markdown",
      "metadata": {
        "id": "sGVbNP6h3SzF"
      },
      "source": [
        "Multiple Response - here"
      ]
    },
    {
      "cell_type": "code",
      "metadata": {
        "colab": {
          "base_uri": "https://localhost:8080/"
        },
        "id": "HimVS7pK3nLN",
        "outputId": "aa43533b-50a1-4646-a598-69cf78ada55f"
      },
      "source": [
        "df_without_2 %>%\n",
        "    dplyr::select(RESP_ID, ORG_NEW_POS_DEVICES) %>%\n",
        "    tidyr::gather(ORG_NEW_POS_DEVICES, answer, -RESP_ID) %>%\n",
        "    dplyr::filter(!is.na(answer)) %>%\n",
        "    tidyr::unnest(answer = stringr::str_split(answer, \", \")) -> df_new_pos_devices"
      ],
      "execution_count": 75,
      "outputs": [
        {
          "output_type": "stream",
          "text": [
            "Warning message:\n",
            "“unnest() has a new interface. See ?unnest for details.\n",
            "Try `df %>% unnest(c(answer))`, with `mutate()` if needed”\n"
          ],
          "name": "stderr"
        }
      ]
    },
    {
      "cell_type": "code",
      "metadata": {
        "colab": {
          "base_uri": "https://localhost:8080/",
          "height": 282
        },
        "id": "cGM2e0NT3z2b",
        "outputId": "b827517e-a425-4e16-edde-20341b48ef45"
      },
      "source": [
        "tabyl(df_new_pos_devices$answer)"
      ],
      "execution_count": 76,
      "outputs": [
        {
          "output_type": "display_data",
          "data": {
            "text/plain": [
              "  df_new_pos_devices$answer n   percent    \n",
              "1 -                          12 0.005961252\n",
              "2 Laptop                    233 0.115747640\n",
              "3 Mobile Phone              301 0.149528068\n",
              "4 PC                        290 0.144063587\n",
              "5 POS company hardware      332 0.164927968\n",
              "6 Tablet                    845 0.419771485"
            ],
            "text/latex": "A tabyl: 6 × 3\n\\begin{tabular}{lll}\n df\\_new\\_pos\\_devices\\$answer & n & percent\\\\\n <chr> & <dbl> & <dbl>\\\\\n\\hline\n\t -                    &  12 & 0.005961252\\\\\n\t Laptop               & 233 & 0.115747640\\\\\n\t Mobile Phone         & 301 & 0.149528068\\\\\n\t PC                   & 290 & 0.144063587\\\\\n\t POS company hardware & 332 & 0.164927968\\\\\n\t Tablet               & 845 & 0.419771485\\\\\n\\end{tabular}\n",
            "text/markdown": "\nA tabyl: 6 × 3\n\n| df_new_pos_devices$answer &lt;chr&gt; | n &lt;dbl&gt; | percent &lt;dbl&gt; |\n|---|---|---|\n| -                    |  12 | 0.005961252 |\n| Laptop               | 233 | 0.115747640 |\n| Mobile Phone         | 301 | 0.149528068 |\n| PC                   | 290 | 0.144063587 |\n| POS company hardware | 332 | 0.164927968 |\n| Tablet               | 845 | 0.419771485 |\n\n",
            "text/html": [
              "<table class=\"dataframe\">\n",
              "<caption>A tabyl: 6 × 3</caption>\n",
              "<thead>\n",
              "\t<tr><th scope=col>df_new_pos_devices$answer</th><th scope=col>n</th><th scope=col>percent</th></tr>\n",
              "\t<tr><th scope=col>&lt;chr&gt;</th><th scope=col>&lt;dbl&gt;</th><th scope=col>&lt;dbl&gt;</th></tr>\n",
              "</thead>\n",
              "<tbody>\n",
              "\t<tr><td>-                   </td><td> 12</td><td>0.005961252</td></tr>\n",
              "\t<tr><td>Laptop              </td><td>233</td><td>0.115747640</td></tr>\n",
              "\t<tr><td>Mobile Phone        </td><td>301</td><td>0.149528068</td></tr>\n",
              "\t<tr><td>PC                  </td><td>290</td><td>0.144063587</td></tr>\n",
              "\t<tr><td>POS company hardware</td><td>332</td><td>0.164927968</td></tr>\n",
              "\t<tr><td>Tablet              </td><td>845</td><td>0.419771485</td></tr>\n",
              "</tbody>\n",
              "</table>\n"
            ]
          },
          "metadata": {
            "tags": []
          }
        }
      ]
    },
    {
      "cell_type": "markdown",
      "metadata": {
        "id": "kjF1r8qm4JJU"
      },
      "source": [
        "Converting from CHR to FACTOR"
      ]
    },
    {
      "cell_type": "code",
      "metadata": {
        "id": "PeMDfmZ54OfN"
      },
      "source": [
        "df_new_pos_devices$answer %>% \n",
        "factor() %>% \n",
        "fct_inorder() -> df_new_pos_devices$answer"
      ],
      "execution_count": 77,
      "outputs": []
    },
    {
      "cell_type": "code",
      "metadata": {
        "colab": {
          "base_uri": "https://localhost:8080/",
          "height": 282
        },
        "id": "-Frg3Kbr4ZaF",
        "outputId": "ff3d4d33-3ef4-4e21-a82b-249106e351b9"
      },
      "source": [
        "tabyl(df_new_pos_devices$answer)"
      ],
      "execution_count": 78,
      "outputs": [
        {
          "output_type": "display_data",
          "data": {
            "text/plain": [
              "  df_new_pos_devices$answer n   percent    \n",
              "1 Mobile Phone              301 0.149528068\n",
              "2 PC                        290 0.144063587\n",
              "3 Laptop                    233 0.115747640\n",
              "4 Tablet                    845 0.419771485\n",
              "5 POS company hardware      332 0.164927968\n",
              "6 -                          12 0.005961252"
            ],
            "text/latex": "A tabyl: 6 × 3\n\\begin{tabular}{lll}\n df\\_new\\_pos\\_devices\\$answer & n & percent\\\\\n <fct> & <dbl> & <dbl>\\\\\n\\hline\n\t Mobile Phone         & 301 & 0.149528068\\\\\n\t PC                   & 290 & 0.144063587\\\\\n\t Laptop               & 233 & 0.115747640\\\\\n\t Tablet               & 845 & 0.419771485\\\\\n\t POS company hardware & 332 & 0.164927968\\\\\n\t -                    &  12 & 0.005961252\\\\\n\\end{tabular}\n",
            "text/markdown": "\nA tabyl: 6 × 3\n\n| df_new_pos_devices$answer &lt;fct&gt; | n &lt;dbl&gt; | percent &lt;dbl&gt; |\n|---|---|---|\n| Mobile Phone         | 301 | 0.149528068 |\n| PC                   | 290 | 0.144063587 |\n| Laptop               | 233 | 0.115747640 |\n| Tablet               | 845 | 0.419771485 |\n| POS company hardware | 332 | 0.164927968 |\n| -                    |  12 | 0.005961252 |\n\n",
            "text/html": [
              "<table class=\"dataframe\">\n",
              "<caption>A tabyl: 6 × 3</caption>\n",
              "<thead>\n",
              "\t<tr><th scope=col>df_new_pos_devices$answer</th><th scope=col>n</th><th scope=col>percent</th></tr>\n",
              "\t<tr><th scope=col>&lt;fct&gt;</th><th scope=col>&lt;dbl&gt;</th><th scope=col>&lt;dbl&gt;</th></tr>\n",
              "</thead>\n",
              "<tbody>\n",
              "\t<tr><td>Mobile Phone        </td><td>301</td><td>0.149528068</td></tr>\n",
              "\t<tr><td>PC                  </td><td>290</td><td>0.144063587</td></tr>\n",
              "\t<tr><td>Laptop              </td><td>233</td><td>0.115747640</td></tr>\n",
              "\t<tr><td>Tablet              </td><td>845</td><td>0.419771485</td></tr>\n",
              "\t<tr><td>POS company hardware</td><td>332</td><td>0.164927968</td></tr>\n",
              "\t<tr><td>-                   </td><td> 12</td><td>0.005961252</td></tr>\n",
              "</tbody>\n",
              "</table>\n"
            ]
          },
          "metadata": {
            "tags": []
          }
        }
      ]
    },
    {
      "cell_type": "code",
      "metadata": {
        "id": "910JBtZL4edt"
      },
      "source": [
        "df_new_pos_devices <- df_new_pos_devices %>% \n",
        "   mutate (answer = fct_recode(df_new_pos_devices$answer, \n",
        "   'No ANS' = '-'))"
      ],
      "execution_count": 79,
      "outputs": []
    },
    {
      "cell_type": "code",
      "metadata": {
        "colab": {
          "base_uri": "https://localhost:8080/",
          "height": 282
        },
        "id": "r__RM3Ps4rHx",
        "outputId": "41129535-751b-4a3f-cedd-0f6586c3cd07"
      },
      "source": [
        "tabyl(df_new_pos_devices$answer)"
      ],
      "execution_count": 80,
      "outputs": [
        {
          "output_type": "display_data",
          "data": {
            "text/plain": [
              "  df_new_pos_devices$answer n   percent    \n",
              "1 Mobile Phone              301 0.149528068\n",
              "2 PC                        290 0.144063587\n",
              "3 Laptop                    233 0.115747640\n",
              "4 Tablet                    845 0.419771485\n",
              "5 POS company hardware      332 0.164927968\n",
              "6 No ANS                     12 0.005961252"
            ],
            "text/latex": "A tabyl: 6 × 3\n\\begin{tabular}{lll}\n df\\_new\\_pos\\_devices\\$answer & n & percent\\\\\n <fct> & <dbl> & <dbl>\\\\\n\\hline\n\t Mobile Phone         & 301 & 0.149528068\\\\\n\t PC                   & 290 & 0.144063587\\\\\n\t Laptop               & 233 & 0.115747640\\\\\n\t Tablet               & 845 & 0.419771485\\\\\n\t POS company hardware & 332 & 0.164927968\\\\\n\t No ANS               &  12 & 0.005961252\\\\\n\\end{tabular}\n",
            "text/markdown": "\nA tabyl: 6 × 3\n\n| df_new_pos_devices$answer &lt;fct&gt; | n &lt;dbl&gt; | percent &lt;dbl&gt; |\n|---|---|---|\n| Mobile Phone         | 301 | 0.149528068 |\n| PC                   | 290 | 0.144063587 |\n| Laptop               | 233 | 0.115747640 |\n| Tablet               | 845 | 0.419771485 |\n| POS company hardware | 332 | 0.164927968 |\n| No ANS               |  12 | 0.005961252 |\n\n",
            "text/html": [
              "<table class=\"dataframe\">\n",
              "<caption>A tabyl: 6 × 3</caption>\n",
              "<thead>\n",
              "\t<tr><th scope=col>df_new_pos_devices$answer</th><th scope=col>n</th><th scope=col>percent</th></tr>\n",
              "\t<tr><th scope=col>&lt;fct&gt;</th><th scope=col>&lt;dbl&gt;</th><th scope=col>&lt;dbl&gt;</th></tr>\n",
              "</thead>\n",
              "<tbody>\n",
              "\t<tr><td>Mobile Phone        </td><td>301</td><td>0.149528068</td></tr>\n",
              "\t<tr><td>PC                  </td><td>290</td><td>0.144063587</td></tr>\n",
              "\t<tr><td>Laptop              </td><td>233</td><td>0.115747640</td></tr>\n",
              "\t<tr><td>Tablet              </td><td>845</td><td>0.419771485</td></tr>\n",
              "\t<tr><td>POS company hardware</td><td>332</td><td>0.164927968</td></tr>\n",
              "\t<tr><td>No ANS              </td><td> 12</td><td>0.005961252</td></tr>\n",
              "</tbody>\n",
              "</table>\n"
            ]
          },
          "metadata": {
            "tags": []
          }
        }
      ]
    },
    {
      "cell_type": "markdown",
      "metadata": {
        "id": "apxBGO8e3GFe"
      },
      "source": [
        "##### 1.14 ORG_CURRENT_PAYMENT_OPTIONS"
      ]
    },
    {
      "cell_type": "code",
      "metadata": {
        "id": "VY1GYTy_AZlU"
      },
      "source": [
        "#df_without_2 <- df_with_1"
      ],
      "execution_count": 81,
      "outputs": []
    },
    {
      "cell_type": "code",
      "metadata": {
        "colab": {
          "base_uri": "https://localhost:8080/",
          "height": 715
        },
        "id": "grPuj-xv40rJ",
        "outputId": "6c7746ef-7618-47b1-f4a1-04ab59cd9745"
      },
      "source": [
        "tabyl(df_without_2$ORG_CURRENT_PAYMENT_OPTIONS)"
      ],
      "execution_count": 82,
      "outputs": [
        {
          "output_type": "display_data",
          "data": {
            "text/plain": [
              "   df_without_2$ORG_CURRENT_PAYMENT_OPTIONS                       n   \n",
              "1  -                                                                 2\n",
              "2  Cash                                                           1141\n",
              "3  Cash (-), NayaPay (-), Other (Please Specify) (-), QR code (-)    1\n",
              "4  Cash, Credit/Debit Cards                                         25\n",
              "5  Cash, Credit/Debit Cards, Easy-Paisa                              3\n",
              "6  Cash, Credit/Debit Cards, Easy-Paisa, Jazz-Cash                   2\n",
              "7  Cash, Credit/Debit Cards, Easy-Paisa, Jazz-Cash, QR code          1\n",
              "8  Cash, Credit/Debit Cards, Jazz-Cash                               1\n",
              "9  Cash, Easy-Paisa                                                 11\n",
              "10 Cash, Easy-Paisa, Jazz-Cash                                       6\n",
              "11 Cash, Easy-Paisa, Jazz-Cash, QR code                              1\n",
              "12 Cash, Easy-Paisa, QR code                                         1\n",
              "13 Cash, Jazz-Cash                                                   3\n",
              "14 Cash, NayaPay                                                     1\n",
              "15 Cash, Other (Please Specify)                                      1\n",
              "16 Cash, QR code                                                     3\n",
              "17 Credit/Debit Cards                                                2\n",
              "18 Easy-Paisa                                                        2\n",
              "19 NayaPay                                                           2\n",
              "20 QR code                                                           1\n",
              "   percent     \n",
              "1  0.0016528926\n",
              "2  0.9429752066\n",
              "3  0.0008264463\n",
              "4  0.0206611570\n",
              "5  0.0024793388\n",
              "6  0.0016528926\n",
              "7  0.0008264463\n",
              "8  0.0008264463\n",
              "9  0.0090909091\n",
              "10 0.0049586777\n",
              "11 0.0008264463\n",
              "12 0.0008264463\n",
              "13 0.0024793388\n",
              "14 0.0008264463\n",
              "15 0.0008264463\n",
              "16 0.0024793388\n",
              "17 0.0016528926\n",
              "18 0.0016528926\n",
              "19 0.0016528926\n",
              "20 0.0008264463"
            ],
            "text/latex": "A tabyl: 20 × 3\n\\begin{tabular}{lll}\n df\\_without\\_2\\$ORG\\_CURRENT\\_PAYMENT\\_OPTIONS & n & percent\\\\\n <fct> & <dbl> & <dbl>\\\\\n\\hline\n\t -                                                              &    2 & 0.0016528926\\\\\n\t Cash                                                           & 1141 & 0.9429752066\\\\\n\t Cash (-), NayaPay (-), Other (Please Specify) (-), QR code (-) &    1 & 0.0008264463\\\\\n\t Cash, Credit/Debit Cards                                       &   25 & 0.0206611570\\\\\n\t Cash, Credit/Debit Cards, Easy-Paisa                           &    3 & 0.0024793388\\\\\n\t Cash, Credit/Debit Cards, Easy-Paisa, Jazz-Cash                &    2 & 0.0016528926\\\\\n\t Cash, Credit/Debit Cards, Easy-Paisa, Jazz-Cash, QR code       &    1 & 0.0008264463\\\\\n\t Cash, Credit/Debit Cards, Jazz-Cash                            &    1 & 0.0008264463\\\\\n\t Cash, Easy-Paisa                                               &   11 & 0.0090909091\\\\\n\t Cash, Easy-Paisa, Jazz-Cash                                    &    6 & 0.0049586777\\\\\n\t Cash, Easy-Paisa, Jazz-Cash, QR code                           &    1 & 0.0008264463\\\\\n\t Cash, Easy-Paisa, QR code                                      &    1 & 0.0008264463\\\\\n\t Cash, Jazz-Cash                                                &    3 & 0.0024793388\\\\\n\t Cash, NayaPay                                                  &    1 & 0.0008264463\\\\\n\t Cash, Other (Please Specify)                                   &    1 & 0.0008264463\\\\\n\t Cash, QR code                                                  &    3 & 0.0024793388\\\\\n\t Credit/Debit Cards                                             &    2 & 0.0016528926\\\\\n\t Easy-Paisa                                                     &    2 & 0.0016528926\\\\\n\t NayaPay                                                        &    2 & 0.0016528926\\\\\n\t QR code                                                        &    1 & 0.0008264463\\\\\n\\end{tabular}\n",
            "text/markdown": "\nA tabyl: 20 × 3\n\n| df_without_2$ORG_CURRENT_PAYMENT_OPTIONS &lt;fct&gt; | n &lt;dbl&gt; | percent &lt;dbl&gt; |\n|---|---|---|\n| -                                                              |    2 | 0.0016528926 |\n| Cash                                                           | 1141 | 0.9429752066 |\n| Cash (-), NayaPay (-), Other (Please Specify) (-), QR code (-) |    1 | 0.0008264463 |\n| Cash, Credit/Debit Cards                                       |   25 | 0.0206611570 |\n| Cash, Credit/Debit Cards, Easy-Paisa                           |    3 | 0.0024793388 |\n| Cash, Credit/Debit Cards, Easy-Paisa, Jazz-Cash                |    2 | 0.0016528926 |\n| Cash, Credit/Debit Cards, Easy-Paisa, Jazz-Cash, QR code       |    1 | 0.0008264463 |\n| Cash, Credit/Debit Cards, Jazz-Cash                            |    1 | 0.0008264463 |\n| Cash, Easy-Paisa                                               |   11 | 0.0090909091 |\n| Cash, Easy-Paisa, Jazz-Cash                                    |    6 | 0.0049586777 |\n| Cash, Easy-Paisa, Jazz-Cash, QR code                           |    1 | 0.0008264463 |\n| Cash, Easy-Paisa, QR code                                      |    1 | 0.0008264463 |\n| Cash, Jazz-Cash                                                |    3 | 0.0024793388 |\n| Cash, NayaPay                                                  |    1 | 0.0008264463 |\n| Cash, Other (Please Specify)                                   |    1 | 0.0008264463 |\n| Cash, QR code                                                  |    3 | 0.0024793388 |\n| Credit/Debit Cards                                             |    2 | 0.0016528926 |\n| Easy-Paisa                                                     |    2 | 0.0016528926 |\n| NayaPay                                                        |    2 | 0.0016528926 |\n| QR code                                                        |    1 | 0.0008264463 |\n\n",
            "text/html": [
              "<table class=\"dataframe\">\n",
              "<caption>A tabyl: 20 × 3</caption>\n",
              "<thead>\n",
              "\t<tr><th scope=col>df_without_2$ORG_CURRENT_PAYMENT_OPTIONS</th><th scope=col>n</th><th scope=col>percent</th></tr>\n",
              "\t<tr><th scope=col>&lt;fct&gt;</th><th scope=col>&lt;dbl&gt;</th><th scope=col>&lt;dbl&gt;</th></tr>\n",
              "</thead>\n",
              "<tbody>\n",
              "\t<tr><td>-                                                             </td><td>   2</td><td>0.0016528926</td></tr>\n",
              "\t<tr><td>Cash                                                          </td><td>1141</td><td>0.9429752066</td></tr>\n",
              "\t<tr><td>Cash (-), NayaPay (-), Other (Please Specify) (-), QR code (-)</td><td>   1</td><td>0.0008264463</td></tr>\n",
              "\t<tr><td>Cash, Credit/Debit Cards                                      </td><td>  25</td><td>0.0206611570</td></tr>\n",
              "\t<tr><td>Cash, Credit/Debit Cards, Easy-Paisa                          </td><td>   3</td><td>0.0024793388</td></tr>\n",
              "\t<tr><td>Cash, Credit/Debit Cards, Easy-Paisa, Jazz-Cash               </td><td>   2</td><td>0.0016528926</td></tr>\n",
              "\t<tr><td>Cash, Credit/Debit Cards, Easy-Paisa, Jazz-Cash, QR code      </td><td>   1</td><td>0.0008264463</td></tr>\n",
              "\t<tr><td>Cash, Credit/Debit Cards, Jazz-Cash                           </td><td>   1</td><td>0.0008264463</td></tr>\n",
              "\t<tr><td>Cash, Easy-Paisa                                              </td><td>  11</td><td>0.0090909091</td></tr>\n",
              "\t<tr><td>Cash, Easy-Paisa, Jazz-Cash                                   </td><td>   6</td><td>0.0049586777</td></tr>\n",
              "\t<tr><td>Cash, Easy-Paisa, Jazz-Cash, QR code                          </td><td>   1</td><td>0.0008264463</td></tr>\n",
              "\t<tr><td>Cash, Easy-Paisa, QR code                                     </td><td>   1</td><td>0.0008264463</td></tr>\n",
              "\t<tr><td>Cash, Jazz-Cash                                               </td><td>   3</td><td>0.0024793388</td></tr>\n",
              "\t<tr><td>Cash, NayaPay                                                 </td><td>   1</td><td>0.0008264463</td></tr>\n",
              "\t<tr><td>Cash, Other (Please Specify)                                  </td><td>   1</td><td>0.0008264463</td></tr>\n",
              "\t<tr><td>Cash, QR code                                                 </td><td>   3</td><td>0.0024793388</td></tr>\n",
              "\t<tr><td>Credit/Debit Cards                                            </td><td>   2</td><td>0.0016528926</td></tr>\n",
              "\t<tr><td>Easy-Paisa                                                    </td><td>   2</td><td>0.0016528926</td></tr>\n",
              "\t<tr><td>NayaPay                                                       </td><td>   2</td><td>0.0016528926</td></tr>\n",
              "\t<tr><td>QR code                                                       </td><td>   1</td><td>0.0008264463</td></tr>\n",
              "</tbody>\n",
              "</table>\n"
            ]
          },
          "metadata": {
            "tags": []
          }
        }
      ]
    },
    {
      "cell_type": "markdown",
      "metadata": {
        "id": "kIIDjv275rrW"
      },
      "source": [
        "Replace the garbage rows"
      ]
    },
    {
      "cell_type": "code",
      "metadata": {
        "id": "5uC_zOdo9kPO"
      },
      "source": [
        "\n",
        "#str_replace_all(df_without_2$ORG_CURRENT_PAYMENT_OPTIONS,\n",
        "#     \"\\\\(-\\\\)\", \"\")"
      ],
      "execution_count": 83,
      "outputs": []
    },
    {
      "cell_type": "code",
      "metadata": {
        "id": "-N_svNcw5uqt"
      },
      "source": [
        "df_without_2 <- df_without_2 %>%\n",
        "    mutate(ORG_CURRENT_PAYMENT_OPTIONS = \n",
        "    str_replace_all(ORG_CURRENT_PAYMENT_OPTIONS,\n",
        "    \"\\\\(-\\\\)\",\"\"))\n"
      ],
      "execution_count": 84,
      "outputs": []
    },
    {
      "cell_type": "code",
      "metadata": {
        "colab": {
          "base_uri": "https://localhost:8080/",
          "height": 715
        },
        "id": "4gT7H_C486DW",
        "outputId": "464ad4df-e95f-42e5-910a-fdee04b45e3c"
      },
      "source": [
        "tabyl(df_without_2$ORG_CURRENT_PAYMENT_OPTIONS)"
      ],
      "execution_count": 85,
      "outputs": [
        {
          "output_type": "display_data",
          "data": {
            "text/plain": [
              "   df_without_2$ORG_CURRENT_PAYMENT_OPTIONS                 n    percent     \n",
              "1  -                                                           2 0.0016528926\n",
              "2  Cash                                                     1141 0.9429752066\n",
              "3  Cash , NayaPay , Other (Please Specify) , QR code           1 0.0008264463\n",
              "4  Cash, Credit/Debit Cards                                   25 0.0206611570\n",
              "5  Cash, Credit/Debit Cards, Easy-Paisa                        3 0.0024793388\n",
              "6  Cash, Credit/Debit Cards, Easy-Paisa, Jazz-Cash             2 0.0016528926\n",
              "7  Cash, Credit/Debit Cards, Easy-Paisa, Jazz-Cash, QR code    1 0.0008264463\n",
              "8  Cash, Credit/Debit Cards, Jazz-Cash                         1 0.0008264463\n",
              "9  Cash, Easy-Paisa                                           11 0.0090909091\n",
              "10 Cash, Easy-Paisa, Jazz-Cash                                 6 0.0049586777\n",
              "11 Cash, Easy-Paisa, Jazz-Cash, QR code                        1 0.0008264463\n",
              "12 Cash, Easy-Paisa, QR code                                   1 0.0008264463\n",
              "13 Cash, Jazz-Cash                                             3 0.0024793388\n",
              "14 Cash, NayaPay                                               1 0.0008264463\n",
              "15 Cash, Other (Please Specify)                                1 0.0008264463\n",
              "16 Cash, QR code                                               3 0.0024793388\n",
              "17 Credit/Debit Cards                                          2 0.0016528926\n",
              "18 Easy-Paisa                                                  2 0.0016528926\n",
              "19 NayaPay                                                     2 0.0016528926\n",
              "20 QR code                                                     1 0.0008264463"
            ],
            "text/latex": "A tabyl: 20 × 3\n\\begin{tabular}{lll}\n df\\_without\\_2\\$ORG\\_CURRENT\\_PAYMENT\\_OPTIONS & n & percent\\\\\n <chr> & <dbl> & <dbl>\\\\\n\\hline\n\t -                                                        &    2 & 0.0016528926\\\\\n\t Cash                                                     & 1141 & 0.9429752066\\\\\n\t Cash , NayaPay , Other (Please Specify) , QR code        &    1 & 0.0008264463\\\\\n\t Cash, Credit/Debit Cards                                 &   25 & 0.0206611570\\\\\n\t Cash, Credit/Debit Cards, Easy-Paisa                     &    3 & 0.0024793388\\\\\n\t Cash, Credit/Debit Cards, Easy-Paisa, Jazz-Cash          &    2 & 0.0016528926\\\\\n\t Cash, Credit/Debit Cards, Easy-Paisa, Jazz-Cash, QR code &    1 & 0.0008264463\\\\\n\t Cash, Credit/Debit Cards, Jazz-Cash                      &    1 & 0.0008264463\\\\\n\t Cash, Easy-Paisa                                         &   11 & 0.0090909091\\\\\n\t Cash, Easy-Paisa, Jazz-Cash                              &    6 & 0.0049586777\\\\\n\t Cash, Easy-Paisa, Jazz-Cash, QR code                     &    1 & 0.0008264463\\\\\n\t Cash, Easy-Paisa, QR code                                &    1 & 0.0008264463\\\\\n\t Cash, Jazz-Cash                                          &    3 & 0.0024793388\\\\\n\t Cash, NayaPay                                            &    1 & 0.0008264463\\\\\n\t Cash, Other (Please Specify)                             &    1 & 0.0008264463\\\\\n\t Cash, QR code                                            &    3 & 0.0024793388\\\\\n\t Credit/Debit Cards                                       &    2 & 0.0016528926\\\\\n\t Easy-Paisa                                               &    2 & 0.0016528926\\\\\n\t NayaPay                                                  &    2 & 0.0016528926\\\\\n\t QR code                                                  &    1 & 0.0008264463\\\\\n\\end{tabular}\n",
            "text/markdown": "\nA tabyl: 20 × 3\n\n| df_without_2$ORG_CURRENT_PAYMENT_OPTIONS &lt;chr&gt; | n &lt;dbl&gt; | percent &lt;dbl&gt; |\n|---|---|---|\n| -                                                        |    2 | 0.0016528926 |\n| Cash                                                     | 1141 | 0.9429752066 |\n| Cash , NayaPay , Other (Please Specify) , QR code        |    1 | 0.0008264463 |\n| Cash, Credit/Debit Cards                                 |   25 | 0.0206611570 |\n| Cash, Credit/Debit Cards, Easy-Paisa                     |    3 | 0.0024793388 |\n| Cash, Credit/Debit Cards, Easy-Paisa, Jazz-Cash          |    2 | 0.0016528926 |\n| Cash, Credit/Debit Cards, Easy-Paisa, Jazz-Cash, QR code |    1 | 0.0008264463 |\n| Cash, Credit/Debit Cards, Jazz-Cash                      |    1 | 0.0008264463 |\n| Cash, Easy-Paisa                                         |   11 | 0.0090909091 |\n| Cash, Easy-Paisa, Jazz-Cash                              |    6 | 0.0049586777 |\n| Cash, Easy-Paisa, Jazz-Cash, QR code                     |    1 | 0.0008264463 |\n| Cash, Easy-Paisa, QR code                                |    1 | 0.0008264463 |\n| Cash, Jazz-Cash                                          |    3 | 0.0024793388 |\n| Cash, NayaPay                                            |    1 | 0.0008264463 |\n| Cash, Other (Please Specify)                             |    1 | 0.0008264463 |\n| Cash, QR code                                            |    3 | 0.0024793388 |\n| Credit/Debit Cards                                       |    2 | 0.0016528926 |\n| Easy-Paisa                                               |    2 | 0.0016528926 |\n| NayaPay                                                  |    2 | 0.0016528926 |\n| QR code                                                  |    1 | 0.0008264463 |\n\n",
            "text/html": [
              "<table class=\"dataframe\">\n",
              "<caption>A tabyl: 20 × 3</caption>\n",
              "<thead>\n",
              "\t<tr><th scope=col>df_without_2$ORG_CURRENT_PAYMENT_OPTIONS</th><th scope=col>n</th><th scope=col>percent</th></tr>\n",
              "\t<tr><th scope=col>&lt;chr&gt;</th><th scope=col>&lt;dbl&gt;</th><th scope=col>&lt;dbl&gt;</th></tr>\n",
              "</thead>\n",
              "<tbody>\n",
              "\t<tr><td>-                                                       </td><td>   2</td><td>0.0016528926</td></tr>\n",
              "\t<tr><td>Cash                                                    </td><td>1141</td><td>0.9429752066</td></tr>\n",
              "\t<tr><td>Cash , NayaPay , Other (Please Specify) , QR code       </td><td>   1</td><td>0.0008264463</td></tr>\n",
              "\t<tr><td>Cash, Credit/Debit Cards                                </td><td>  25</td><td>0.0206611570</td></tr>\n",
              "\t<tr><td>Cash, Credit/Debit Cards, Easy-Paisa                    </td><td>   3</td><td>0.0024793388</td></tr>\n",
              "\t<tr><td>Cash, Credit/Debit Cards, Easy-Paisa, Jazz-Cash         </td><td>   2</td><td>0.0016528926</td></tr>\n",
              "\t<tr><td>Cash, Credit/Debit Cards, Easy-Paisa, Jazz-Cash, QR code</td><td>   1</td><td>0.0008264463</td></tr>\n",
              "\t<tr><td>Cash, Credit/Debit Cards, Jazz-Cash                     </td><td>   1</td><td>0.0008264463</td></tr>\n",
              "\t<tr><td>Cash, Easy-Paisa                                        </td><td>  11</td><td>0.0090909091</td></tr>\n",
              "\t<tr><td>Cash, Easy-Paisa, Jazz-Cash                             </td><td>   6</td><td>0.0049586777</td></tr>\n",
              "\t<tr><td>Cash, Easy-Paisa, Jazz-Cash, QR code                    </td><td>   1</td><td>0.0008264463</td></tr>\n",
              "\t<tr><td>Cash, Easy-Paisa, QR code                               </td><td>   1</td><td>0.0008264463</td></tr>\n",
              "\t<tr><td>Cash, Jazz-Cash                                         </td><td>   3</td><td>0.0024793388</td></tr>\n",
              "\t<tr><td>Cash, NayaPay                                           </td><td>   1</td><td>0.0008264463</td></tr>\n",
              "\t<tr><td>Cash, Other (Please Specify)                            </td><td>   1</td><td>0.0008264463</td></tr>\n",
              "\t<tr><td>Cash, QR code                                           </td><td>   3</td><td>0.0024793388</td></tr>\n",
              "\t<tr><td>Credit/Debit Cards                                      </td><td>   2</td><td>0.0016528926</td></tr>\n",
              "\t<tr><td>Easy-Paisa                                              </td><td>   2</td><td>0.0016528926</td></tr>\n",
              "\t<tr><td>NayaPay                                                 </td><td>   2</td><td>0.0016528926</td></tr>\n",
              "\t<tr><td>QR code                                                 </td><td>   1</td><td>0.0008264463</td></tr>\n",
              "</tbody>\n",
              "</table>\n"
            ]
          },
          "metadata": {
            "tags": []
          }
        }
      ]
    },
    {
      "cell_type": "markdown",
      "metadata": {
        "id": "FJhHeLmQBHBq"
      },
      "source": [
        "Multiple Response - here"
      ]
    },
    {
      "cell_type": "code",
      "metadata": {
        "colab": {
          "base_uri": "https://localhost:8080/"
        },
        "id": "raGBoopjA_c4",
        "outputId": "c1181b0e-56e8-4cb4-ad11-3f2c73a2ccb4"
      },
      "source": [
        "df_without_2 %>%\n",
        "    dplyr::select(RESP_ID, ORG_CURRENT_PAYMENT_OPTIONS) %>%\n",
        "    tidyr::gather(ORG_CURRENT_PAYMENT_OPTIONS, answer, -RESP_ID) %>%\n",
        "    dplyr::filter(!is.na(answer)) %>%\n",
        "    tidyr::unnest(answer = stringr::str_split(answer, \", \")) -> df_current_pymt_options"
      ],
      "execution_count": 86,
      "outputs": [
        {
          "output_type": "stream",
          "text": [
            "Warning message:\n",
            "“unnest() has a new interface. See ?unnest for details.\n",
            "Try `df %>% unnest(c(answer))`, with `mutate()` if needed”\n"
          ],
          "name": "stderr"
        }
      ]
    },
    {
      "cell_type": "code",
      "metadata": {
        "colab": {
          "base_uri": "https://localhost:8080/",
          "height": 468
        },
        "id": "VznoFwI4BbXv",
        "outputId": "adde9e42-a4a5-497b-e34b-a903f8fd0db6"
      },
      "source": [
        "tabyl(df_current_pymt_options$answer)"
      ],
      "execution_count": 87,
      "outputs": [
        {
          "output_type": "display_data",
          "data": {
            "text/plain": [
              "   df_current_pymt_options$answer n    percent     \n",
              "1  -                                 2 0.0015479876\n",
              "2  Cash                           1200 0.9287925697\n",
              "3  Cash                              1 0.0007739938\n",
              "4  Credit/Debit Cards               34 0.0263157895\n",
              "5  Easy-Paisa                       27 0.0208978328\n",
              "6  Jazz-Cash                        14 0.0108359133\n",
              "7  NayaPay                           3 0.0023219814\n",
              "8  NayaPay                           1 0.0007739938\n",
              "9  Other (Please Specify)            1 0.0007739938\n",
              "10 Other (Please Specify)            1 0.0007739938\n",
              "11 QR code                           7 0.0054179567\n",
              "12 QR code                           1 0.0007739938"
            ],
            "text/latex": "A tabyl: 12 × 3\n\\begin{tabular}{lll}\n df\\_current\\_pymt\\_options\\$answer & n & percent\\\\\n <chr> & <dbl> & <dbl>\\\\\n\\hline\n\t -                       &    2 & 0.0015479876\\\\\n\t Cash                    & 1200 & 0.9287925697\\\\\n\t Cash                    &    1 & 0.0007739938\\\\\n\t Credit/Debit Cards      &   34 & 0.0263157895\\\\\n\t Easy-Paisa              &   27 & 0.0208978328\\\\\n\t Jazz-Cash               &   14 & 0.0108359133\\\\\n\t NayaPay                 &    3 & 0.0023219814\\\\\n\t NayaPay                 &    1 & 0.0007739938\\\\\n\t Other (Please Specify)  &    1 & 0.0007739938\\\\\n\t Other (Please Specify)  &    1 & 0.0007739938\\\\\n\t QR code                 &    7 & 0.0054179567\\\\\n\t QR code                 &    1 & 0.0007739938\\\\\n\\end{tabular}\n",
            "text/markdown": "\nA tabyl: 12 × 3\n\n| df_current_pymt_options$answer &lt;chr&gt; | n &lt;dbl&gt; | percent &lt;dbl&gt; |\n|---|---|---|\n| -                       |    2 | 0.0015479876 |\n| Cash                    | 1200 | 0.9287925697 |\n| Cash                    |    1 | 0.0007739938 |\n| Credit/Debit Cards      |   34 | 0.0263157895 |\n| Easy-Paisa              |   27 | 0.0208978328 |\n| Jazz-Cash               |   14 | 0.0108359133 |\n| NayaPay                 |    3 | 0.0023219814 |\n| NayaPay                 |    1 | 0.0007739938 |\n| Other (Please Specify)  |    1 | 0.0007739938 |\n| Other (Please Specify)  |    1 | 0.0007739938 |\n| QR code                 |    7 | 0.0054179567 |\n| QR code                 |    1 | 0.0007739938 |\n\n",
            "text/html": [
              "<table class=\"dataframe\">\n",
              "<caption>A tabyl: 12 × 3</caption>\n",
              "<thead>\n",
              "\t<tr><th scope=col>df_current_pymt_options$answer</th><th scope=col>n</th><th scope=col>percent</th></tr>\n",
              "\t<tr><th scope=col>&lt;chr&gt;</th><th scope=col>&lt;dbl&gt;</th><th scope=col>&lt;dbl&gt;</th></tr>\n",
              "</thead>\n",
              "<tbody>\n",
              "\t<tr><td>-                      </td><td>   2</td><td>0.0015479876</td></tr>\n",
              "\t<tr><td>Cash                   </td><td>1200</td><td>0.9287925697</td></tr>\n",
              "\t<tr><td>Cash                   </td><td>   1</td><td>0.0007739938</td></tr>\n",
              "\t<tr><td>Credit/Debit Cards     </td><td>  34</td><td>0.0263157895</td></tr>\n",
              "\t<tr><td>Easy-Paisa             </td><td>  27</td><td>0.0208978328</td></tr>\n",
              "\t<tr><td>Jazz-Cash              </td><td>  14</td><td>0.0108359133</td></tr>\n",
              "\t<tr><td>NayaPay                </td><td>   3</td><td>0.0023219814</td></tr>\n",
              "\t<tr><td>NayaPay                </td><td>   1</td><td>0.0007739938</td></tr>\n",
              "\t<tr><td>Other (Please Specify) </td><td>   1</td><td>0.0007739938</td></tr>\n",
              "\t<tr><td>Other (Please Specify) </td><td>   1</td><td>0.0007739938</td></tr>\n",
              "\t<tr><td>QR code                </td><td>   7</td><td>0.0054179567</td></tr>\n",
              "\t<tr><td>QR code                </td><td>   1</td><td>0.0007739938</td></tr>\n",
              "</tbody>\n",
              "</table>\n"
            ]
          },
          "metadata": {
            "tags": []
          }
        }
      ]
    },
    {
      "cell_type": "markdown",
      "metadata": {
        "id": "Nazeu4hIBwBK"
      },
      "source": [
        "Converting from CHR to FACTOR"
      ]
    },
    {
      "cell_type": "code",
      "metadata": {
        "id": "TH6lZsFkBrHe"
      },
      "source": [
        "df_current_pymt_options$answer %>% \n",
        "factor() %>% \n",
        "fct_inorder() -> df_current_pymt_options$answer"
      ],
      "execution_count": 88,
      "outputs": []
    },
    {
      "cell_type": "code",
      "metadata": {
        "colab": {
          "base_uri": "https://localhost:8080/",
          "height": 468
        },
        "id": "eNxddiNIB-al",
        "outputId": "390637e2-8d08-4874-d887-11908e49cd9a"
      },
      "source": [
        "tabyl(df_current_pymt_options$answer)"
      ],
      "execution_count": 89,
      "outputs": [
        {
          "output_type": "display_data",
          "data": {
            "text/plain": [
              "   df_current_pymt_options$answer n    percent     \n",
              "1  Cash                           1200 0.9287925697\n",
              "2  Easy-Paisa                       27 0.0208978328\n",
              "3  Jazz-Cash                        14 0.0108359133\n",
              "4  Credit/Debit Cards               34 0.0263157895\n",
              "5  QR code                           7 0.0054179567\n",
              "6  NayaPay                           3 0.0023219814\n",
              "7  -                                 2 0.0015479876\n",
              "8  Cash                              1 0.0007739938\n",
              "9  NayaPay                           1 0.0007739938\n",
              "10 Other (Please Specify)            1 0.0007739938\n",
              "11 QR code                           1 0.0007739938\n",
              "12 Other (Please Specify)            1 0.0007739938"
            ],
            "text/latex": "A tabyl: 12 × 3\n\\begin{tabular}{lll}\n df\\_current\\_pymt\\_options\\$answer & n & percent\\\\\n <fct> & <dbl> & <dbl>\\\\\n\\hline\n\t Cash                    & 1200 & 0.9287925697\\\\\n\t Easy-Paisa              &   27 & 0.0208978328\\\\\n\t Jazz-Cash               &   14 & 0.0108359133\\\\\n\t Credit/Debit Cards      &   34 & 0.0263157895\\\\\n\t QR code                 &    7 & 0.0054179567\\\\\n\t NayaPay                 &    3 & 0.0023219814\\\\\n\t -                       &    2 & 0.0015479876\\\\\n\t Cash                    &    1 & 0.0007739938\\\\\n\t NayaPay                 &    1 & 0.0007739938\\\\\n\t Other (Please Specify)  &    1 & 0.0007739938\\\\\n\t QR code                 &    1 & 0.0007739938\\\\\n\t Other (Please Specify)  &    1 & 0.0007739938\\\\\n\\end{tabular}\n",
            "text/markdown": "\nA tabyl: 12 × 3\n\n| df_current_pymt_options$answer &lt;fct&gt; | n &lt;dbl&gt; | percent &lt;dbl&gt; |\n|---|---|---|\n| Cash                    | 1200 | 0.9287925697 |\n| Easy-Paisa              |   27 | 0.0208978328 |\n| Jazz-Cash               |   14 | 0.0108359133 |\n| Credit/Debit Cards      |   34 | 0.0263157895 |\n| QR code                 |    7 | 0.0054179567 |\n| NayaPay                 |    3 | 0.0023219814 |\n| -                       |    2 | 0.0015479876 |\n| Cash                    |    1 | 0.0007739938 |\n| NayaPay                 |    1 | 0.0007739938 |\n| Other (Please Specify)  |    1 | 0.0007739938 |\n| QR code                 |    1 | 0.0007739938 |\n| Other (Please Specify)  |    1 | 0.0007739938 |\n\n",
            "text/html": [
              "<table class=\"dataframe\">\n",
              "<caption>A tabyl: 12 × 3</caption>\n",
              "<thead>\n",
              "\t<tr><th scope=col>df_current_pymt_options$answer</th><th scope=col>n</th><th scope=col>percent</th></tr>\n",
              "\t<tr><th scope=col>&lt;fct&gt;</th><th scope=col>&lt;dbl&gt;</th><th scope=col>&lt;dbl&gt;</th></tr>\n",
              "</thead>\n",
              "<tbody>\n",
              "\t<tr><td>Cash                   </td><td>1200</td><td>0.9287925697</td></tr>\n",
              "\t<tr><td>Easy-Paisa             </td><td>  27</td><td>0.0208978328</td></tr>\n",
              "\t<tr><td>Jazz-Cash              </td><td>  14</td><td>0.0108359133</td></tr>\n",
              "\t<tr><td>Credit/Debit Cards     </td><td>  34</td><td>0.0263157895</td></tr>\n",
              "\t<tr><td>QR code                </td><td>   7</td><td>0.0054179567</td></tr>\n",
              "\t<tr><td>NayaPay                </td><td>   3</td><td>0.0023219814</td></tr>\n",
              "\t<tr><td>-                      </td><td>   2</td><td>0.0015479876</td></tr>\n",
              "\t<tr><td>Cash                   </td><td>   1</td><td>0.0007739938</td></tr>\n",
              "\t<tr><td>NayaPay                </td><td>   1</td><td>0.0007739938</td></tr>\n",
              "\t<tr><td>Other (Please Specify) </td><td>   1</td><td>0.0007739938</td></tr>\n",
              "\t<tr><td>QR code                </td><td>   1</td><td>0.0007739938</td></tr>\n",
              "\t<tr><td>Other (Please Specify) </td><td>   1</td><td>0.0007739938</td></tr>\n",
              "</tbody>\n",
              "</table>\n"
            ]
          },
          "metadata": {
            "tags": []
          }
        }
      ]
    },
    {
      "cell_type": "code",
      "metadata": {
        "colab": {
          "base_uri": "https://localhost:8080/",
          "height": 51
        },
        "id": "UPejFeriCJgo",
        "outputId": "fdf1794c-7aab-47c5-c0b7-93b2b8228db6"
      },
      "source": [
        "levels(df_current_pymt_options$answer)"
      ],
      "execution_count": 90,
      "outputs": [
        {
          "output_type": "display_data",
          "data": {
            "text/plain": [
              " [1] \"Cash\"                    \"Easy-Paisa\"             \n",
              " [3] \"Jazz-Cash\"               \"Credit/Debit Cards\"     \n",
              " [5] \"QR code\"                 \"NayaPay\"                \n",
              " [7] \"-\"                       \"Cash \"                  \n",
              " [9] \"NayaPay \"                \"Other (Please Specify) \"\n",
              "[11] \"QR code \"                \"Other (Please Specify)\" "
            ],
            "text/latex": "\\begin{enumerate*}\n\\item 'Cash'\n\\item 'Easy-Paisa'\n\\item 'Jazz-Cash'\n\\item 'Credit/Debit Cards'\n\\item 'QR code'\n\\item 'NayaPay'\n\\item '-'\n\\item 'Cash '\n\\item 'NayaPay '\n\\item 'Other (Please Specify) '\n\\item 'QR code '\n\\item 'Other (Please Specify)'\n\\end{enumerate*}\n",
            "text/markdown": "1. 'Cash'\n2. 'Easy-Paisa'\n3. 'Jazz-Cash'\n4. 'Credit/Debit Cards'\n5. 'QR code'\n6. 'NayaPay'\n7. '-'\n8. 'Cash '\n9. 'NayaPay '\n10. 'Other (Please Specify) '\n11. 'QR code '\n12. 'Other (Please Specify)'\n\n\n",
            "text/html": [
              "<style>\n",
              ".list-inline {list-style: none; margin:0; padding: 0}\n",
              ".list-inline>li {display: inline-block}\n",
              ".list-inline>li:not(:last-child)::after {content: \"\\00b7\"; padding: 0 .5ex}\n",
              "</style>\n",
              "<ol class=list-inline><li>'Cash'</li><li>'Easy-Paisa'</li><li>'Jazz-Cash'</li><li>'Credit/Debit Cards'</li><li>'QR code'</li><li>'NayaPay'</li><li>'-'</li><li>'Cash '</li><li>'NayaPay '</li><li>'Other (Please Specify) '</li><li>'QR code '</li><li>'Other (Please Specify)'</li></ol>\n"
            ]
          },
          "metadata": {
            "tags": []
          }
        }
      ]
    },
    {
      "cell_type": "markdown",
      "metadata": {
        "id": "BX1U5cq1Ca0g"
      },
      "source": [
        "Change the value of levels"
      ]
    },
    {
      "cell_type": "code",
      "metadata": {
        "id": "L3zZqfurCPnB"
      },
      "source": [
        "df_current_pymt_options <- df_current_pymt_options %>% \n",
        "   mutate (answer = fct_recode(df_current_pymt_options$answer, \n",
        "   'No ANS' = '-',\n",
        "   'Cash' = 'Cash ',\n",
        "   'NayaPay' = 'NayaPay ',\n",
        "   'QR code ' = 'QR code',\n",
        "   'No ANS' = 'Other (Please Specify) ',\n",
        "   'No ANS' = 'Other (Please Specify)'\n",
        "   ))"
      ],
      "execution_count": 91,
      "outputs": []
    },
    {
      "cell_type": "code",
      "metadata": {
        "colab": {
          "base_uri": "https://localhost:8080/",
          "height": 313
        },
        "id": "iYonCRMeDDCy",
        "outputId": "6bc90f67-3504-4ee7-f902-171d1fd821c2"
      },
      "source": [
        "tabyl(df_current_pymt_options$answer)"
      ],
      "execution_count": 92,
      "outputs": [
        {
          "output_type": "display_data",
          "data": {
            "text/plain": [
              "  df_current_pymt_options$answer n    percent    \n",
              "1 Cash                           1201 0.929566563\n",
              "2 Easy-Paisa                       27 0.020897833\n",
              "3 Jazz-Cash                        14 0.010835913\n",
              "4 Credit/Debit Cards               34 0.026315789\n",
              "5 QR code                           8 0.006191950\n",
              "6 NayaPay                           4 0.003095975\n",
              "7 No ANS                            4 0.003095975"
            ],
            "text/latex": "A tabyl: 7 × 3\n\\begin{tabular}{lll}\n df\\_current\\_pymt\\_options\\$answer & n & percent\\\\\n <fct> & <dbl> & <dbl>\\\\\n\\hline\n\t Cash               & 1201 & 0.929566563\\\\\n\t Easy-Paisa         &   27 & 0.020897833\\\\\n\t Jazz-Cash          &   14 & 0.010835913\\\\\n\t Credit/Debit Cards &   34 & 0.026315789\\\\\n\t QR code            &    8 & 0.006191950\\\\\n\t NayaPay            &    4 & 0.003095975\\\\\n\t No ANS             &    4 & 0.003095975\\\\\n\\end{tabular}\n",
            "text/markdown": "\nA tabyl: 7 × 3\n\n| df_current_pymt_options$answer &lt;fct&gt; | n &lt;dbl&gt; | percent &lt;dbl&gt; |\n|---|---|---|\n| Cash               | 1201 | 0.929566563 |\n| Easy-Paisa         |   27 | 0.020897833 |\n| Jazz-Cash          |   14 | 0.010835913 |\n| Credit/Debit Cards |   34 | 0.026315789 |\n| QR code            |    8 | 0.006191950 |\n| NayaPay            |    4 | 0.003095975 |\n| No ANS             |    4 | 0.003095975 |\n\n",
            "text/html": [
              "<table class=\"dataframe\">\n",
              "<caption>A tabyl: 7 × 3</caption>\n",
              "<thead>\n",
              "\t<tr><th scope=col>df_current_pymt_options$answer</th><th scope=col>n</th><th scope=col>percent</th></tr>\n",
              "\t<tr><th scope=col>&lt;fct&gt;</th><th scope=col>&lt;dbl&gt;</th><th scope=col>&lt;dbl&gt;</th></tr>\n",
              "</thead>\n",
              "<tbody>\n",
              "\t<tr><td>Cash              </td><td>1201</td><td>0.929566563</td></tr>\n",
              "\t<tr><td>Easy-Paisa        </td><td>  27</td><td>0.020897833</td></tr>\n",
              "\t<tr><td>Jazz-Cash         </td><td>  14</td><td>0.010835913</td></tr>\n",
              "\t<tr><td>Credit/Debit Cards</td><td>  34</td><td>0.026315789</td></tr>\n",
              "\t<tr><td>QR code           </td><td>   8</td><td>0.006191950</td></tr>\n",
              "\t<tr><td>NayaPay           </td><td>   4</td><td>0.003095975</td></tr>\n",
              "\t<tr><td>No ANS            </td><td>   4</td><td>0.003095975</td></tr>\n",
              "</tbody>\n",
              "</table>\n"
            ]
          },
          "metadata": {
            "tags": []
          }
        }
      ]
    },
    {
      "cell_type": "code",
      "metadata": {
        "colab": {
          "base_uri": "https://localhost:8080/",
          "height": 34
        },
        "id": "QizWRtlIECIA",
        "outputId": "406b87a1-6c6f-42cb-9e26-0f06d6127b77"
      },
      "source": [
        "levels(df_current_pymt_options$answer)"
      ],
      "execution_count": 93,
      "outputs": [
        {
          "output_type": "display_data",
          "data": {
            "text/plain": [
              "[1] \"Cash\"               \"Easy-Paisa\"         \"Jazz-Cash\"         \n",
              "[4] \"Credit/Debit Cards\" \"QR code \"           \"NayaPay\"           \n",
              "[7] \"No ANS\"            "
            ],
            "text/latex": "\\begin{enumerate*}\n\\item 'Cash'\n\\item 'Easy-Paisa'\n\\item 'Jazz-Cash'\n\\item 'Credit/Debit Cards'\n\\item 'QR code '\n\\item 'NayaPay'\n\\item 'No ANS'\n\\end{enumerate*}\n",
            "text/markdown": "1. 'Cash'\n2. 'Easy-Paisa'\n3. 'Jazz-Cash'\n4. 'Credit/Debit Cards'\n5. 'QR code '\n6. 'NayaPay'\n7. 'No ANS'\n\n\n",
            "text/html": [
              "<style>\n",
              ".list-inline {list-style: none; margin:0; padding: 0}\n",
              ".list-inline>li {display: inline-block}\n",
              ".list-inline>li:not(:last-child)::after {content: \"\\00b7\"; padding: 0 .5ex}\n",
              "</style>\n",
              "<ol class=list-inline><li>'Cash'</li><li>'Easy-Paisa'</li><li>'Jazz-Cash'</li><li>'Credit/Debit Cards'</li><li>'QR code '</li><li>'NayaPay'</li><li>'No ANS'</li></ol>\n"
            ]
          },
          "metadata": {
            "tags": []
          }
        }
      ]
    },
    {
      "cell_type": "markdown",
      "metadata": {
        "id": "vFLLQfFjDc8a"
      },
      "source": [
        "Change the order of levels"
      ]
    },
    {
      "cell_type": "code",
      "metadata": {
        "id": "RiwFuKzTG5Gi"
      },
      "source": [
        "df_current_pymt_options <- \n",
        "    df_current_pymt_options %>%\n",
        "        mutate(answer = fct_infreq(answer))"
      ],
      "execution_count": 94,
      "outputs": []
    },
    {
      "cell_type": "code",
      "metadata": {
        "id": "Ca5nbl1qDXx2"
      },
      "source": [
        "#df_current_pymt_options <- df_current_pymt_options %>%\n",
        "#    mutate(answer = \n",
        "#    fct_relevel(\n",
        "#          answer, c('No ANS','QR code','NayaPay',  )))"
      ],
      "execution_count": 95,
      "outputs": []
    },
    {
      "cell_type": "code",
      "metadata": {
        "colab": {
          "base_uri": "https://localhost:8080/",
          "height": 313
        },
        "id": "EnGYZi_YG_i_",
        "outputId": "20db8d6d-c8f7-4489-9475-89bf32cea650"
      },
      "source": [
        "tabyl(df_current_pymt_options$answer)"
      ],
      "execution_count": 96,
      "outputs": [
        {
          "output_type": "display_data",
          "data": {
            "text/plain": [
              "  df_current_pymt_options$answer n    percent    \n",
              "1 Cash                           1201 0.929566563\n",
              "2 Credit/Debit Cards               34 0.026315789\n",
              "3 Easy-Paisa                       27 0.020897833\n",
              "4 Jazz-Cash                        14 0.010835913\n",
              "5 QR code                           8 0.006191950\n",
              "6 NayaPay                           4 0.003095975\n",
              "7 No ANS                            4 0.003095975"
            ],
            "text/latex": "A tabyl: 7 × 3\n\\begin{tabular}{lll}\n df\\_current\\_pymt\\_options\\$answer & n & percent\\\\\n <fct> & <dbl> & <dbl>\\\\\n\\hline\n\t Cash               & 1201 & 0.929566563\\\\\n\t Credit/Debit Cards &   34 & 0.026315789\\\\\n\t Easy-Paisa         &   27 & 0.020897833\\\\\n\t Jazz-Cash          &   14 & 0.010835913\\\\\n\t QR code            &    8 & 0.006191950\\\\\n\t NayaPay            &    4 & 0.003095975\\\\\n\t No ANS             &    4 & 0.003095975\\\\\n\\end{tabular}\n",
            "text/markdown": "\nA tabyl: 7 × 3\n\n| df_current_pymt_options$answer &lt;fct&gt; | n &lt;dbl&gt; | percent &lt;dbl&gt; |\n|---|---|---|\n| Cash               | 1201 | 0.929566563 |\n| Credit/Debit Cards |   34 | 0.026315789 |\n| Easy-Paisa         |   27 | 0.020897833 |\n| Jazz-Cash          |   14 | 0.010835913 |\n| QR code            |    8 | 0.006191950 |\n| NayaPay            |    4 | 0.003095975 |\n| No ANS             |    4 | 0.003095975 |\n\n",
            "text/html": [
              "<table class=\"dataframe\">\n",
              "<caption>A tabyl: 7 × 3</caption>\n",
              "<thead>\n",
              "\t<tr><th scope=col>df_current_pymt_options$answer</th><th scope=col>n</th><th scope=col>percent</th></tr>\n",
              "\t<tr><th scope=col>&lt;fct&gt;</th><th scope=col>&lt;dbl&gt;</th><th scope=col>&lt;dbl&gt;</th></tr>\n",
              "</thead>\n",
              "<tbody>\n",
              "\t<tr><td>Cash              </td><td>1201</td><td>0.929566563</td></tr>\n",
              "\t<tr><td>Credit/Debit Cards</td><td>  34</td><td>0.026315789</td></tr>\n",
              "\t<tr><td>Easy-Paisa        </td><td>  27</td><td>0.020897833</td></tr>\n",
              "\t<tr><td>Jazz-Cash         </td><td>  14</td><td>0.010835913</td></tr>\n",
              "\t<tr><td>QR code           </td><td>   8</td><td>0.006191950</td></tr>\n",
              "\t<tr><td>NayaPay           </td><td>   4</td><td>0.003095975</td></tr>\n",
              "\t<tr><td>No ANS            </td><td>   4</td><td>0.003095975</td></tr>\n",
              "</tbody>\n",
              "</table>\n"
            ]
          },
          "metadata": {
            "tags": []
          }
        }
      ]
    },
    {
      "cell_type": "markdown",
      "metadata": {
        "id": "xmsHUAA83IDO"
      },
      "source": [
        "##### 1.15 ORG_DISCOUNTS_OFFERED"
      ]
    },
    {
      "cell_type": "code",
      "metadata": {
        "colab": {
          "base_uri": "https://localhost:8080/",
          "height": 872
        },
        "id": "47w2NEE8FA94",
        "outputId": "779665eb-e7a6-495e-8b24-60fd7c435c6e"
      },
      "source": [
        "tabyl(df_without_2$ORG_DISCOUNTS_OFFERED)"
      ],
      "execution_count": 97,
      "outputs": [
        {
          "output_type": "display_data",
          "data": {
            "text/plain": [
              "   df_without_2$ORG_DISCOUNTS_OFFERED                                                                                                                                                 \n",
              "1  -                                                                                                                                                                                  \n",
              "2  Bulk Discount (Based on bill amount)                                                                                                                                               \n",
              "3  Bulk Discount (Based on bill amount), Customer Discount (Based on customer relationship)                                                                                           \n",
              "4  Bulk Discount (Based on bill amount), Customer Discount (Based on customer relationship), No Discount                                                                              \n",
              "5  Bulk Discount (Based on bill amount), Customer Discount (Based on customer relationship), Product Discount (Lower price than market)                                               \n",
              "6  Bulk Discount (Based on bill amount), Customer Discount (Based on customer relationship), Product Discount (Lower price than market), Referral Discount (Credit Card, Social Media)\n",
              "7  Bulk Discount (Based on bill amount), No Discount                                                                                                                                  \n",
              "8  Bulk Discount (Based on bill amount), Product Discount (Lower price than market)                                                                                                   \n",
              "9  Bulk Discount (Based on bill amount), Product Discount (Lower price than market), Referral Discount (Credit Card, Social Media)                                                    \n",
              "10 Customer Discount (Based on customer relationship)                                                                                                                                 \n",
              "11 Customer Discount (Based on customer relationship), No Discount                                                                                                                    \n",
              "12 Customer Discount (Based on customer relationship), Product Discount (Lower price than market)                                                                                     \n",
              "13 Customer Discount (Based on customer relationship), Referral Discount (Credit Card, Social Media)                                                                                  \n",
              "14 No Discount                                                                                                                                                                        \n",
              "15 No Discount, Product Discount (Lower price than market)                                                                                                                            \n",
              "16 Product Discount (Lower price than market)                                                                                                                                         \n",
              "17 Product Discount (Lower price than market), Referral Discount (Credit Card, Social Media)                                                                                          \n",
              "18 Referral Discount (Credit Card, Social Media)                                                                                                                                      \n",
              "19 Referral Discount (Credit Card, Social Media), Product Discount (Lower price than market)                                                                                          \n",
              "   n   percent     \n",
              "1    4 0.0033057851\n",
              "2   30 0.0247933884\n",
              "3   26 0.0214876033\n",
              "4    1 0.0008264463\n",
              "5   70 0.0578512397\n",
              "6    1 0.0008264463\n",
              "7    5 0.0041322314\n",
              "8  107 0.0884297521\n",
              "9    1 0.0008264463\n",
              "10  69 0.0570247934\n",
              "11   7 0.0057851240\n",
              "12  89 0.0735537190\n",
              "13   1 0.0008264463\n",
              "14 155 0.1280991736\n",
              "15 117 0.0966942149\n",
              "16 516 0.4264462810\n",
              "17   9 0.0074380165\n",
              "18   1 0.0008264463\n",
              "19   1 0.0008264463"
            ],
            "text/latex": "A tabyl: 19 × 3\n\\begin{tabular}{lll}\n df\\_without\\_2\\$ORG\\_DISCOUNTS\\_OFFERED & n & percent\\\\\n <fct> & <dbl> & <dbl>\\\\\n\\hline\n\t -                                                                                                                                                                                   &   4 & 0.0033057851\\\\\n\t Bulk Discount (Based on bill amount)                                                                                                                                                &  30 & 0.0247933884\\\\\n\t Bulk Discount (Based on bill amount), Customer Discount (Based on customer relationship)                                                                                            &  26 & 0.0214876033\\\\\n\t Bulk Discount (Based on bill amount), Customer Discount (Based on customer relationship), No Discount                                                                               &   1 & 0.0008264463\\\\\n\t Bulk Discount (Based on bill amount), Customer Discount (Based on customer relationship), Product Discount (Lower price than market)                                                &  70 & 0.0578512397\\\\\n\t Bulk Discount (Based on bill amount), Customer Discount (Based on customer relationship), Product Discount (Lower price than market), Referral Discount (Credit Card, Social Media) &   1 & 0.0008264463\\\\\n\t Bulk Discount (Based on bill amount), No Discount                                                                                                                                   &   5 & 0.0041322314\\\\\n\t Bulk Discount (Based on bill amount), Product Discount (Lower price than market)                                                                                                    & 107 & 0.0884297521\\\\\n\t Bulk Discount (Based on bill amount), Product Discount (Lower price than market), Referral Discount (Credit Card, Social Media)                                                     &   1 & 0.0008264463\\\\\n\t Customer Discount (Based on customer relationship)                                                                                                                                  &  69 & 0.0570247934\\\\\n\t Customer Discount (Based on customer relationship), No Discount                                                                                                                     &   7 & 0.0057851240\\\\\n\t Customer Discount (Based on customer relationship), Product Discount (Lower price than market)                                                                                      &  89 & 0.0735537190\\\\\n\t Customer Discount (Based on customer relationship), Referral Discount (Credit Card, Social Media)                                                                                   &   1 & 0.0008264463\\\\\n\t No Discount                                                                                                                                                                         & 155 & 0.1280991736\\\\\n\t No Discount, Product Discount (Lower price than market)                                                                                                                             & 117 & 0.0966942149\\\\\n\t Product Discount (Lower price than market)                                                                                                                                          & 516 & 0.4264462810\\\\\n\t Product Discount (Lower price than market), Referral Discount (Credit Card, Social Media)                                                                                           &   9 & 0.0074380165\\\\\n\t Referral Discount (Credit Card, Social Media)                                                                                                                                       &   1 & 0.0008264463\\\\\n\t Referral Discount (Credit Card, Social Media), Product Discount (Lower price than market)                                                                                           &   1 & 0.0008264463\\\\\n\\end{tabular}\n",
            "text/markdown": "\nA tabyl: 19 × 3\n\n| df_without_2$ORG_DISCOUNTS_OFFERED &lt;fct&gt; | n &lt;dbl&gt; | percent &lt;dbl&gt; |\n|---|---|---|\n| -                                                                                                                                                                                   |   4 | 0.0033057851 |\n| Bulk Discount (Based on bill amount)                                                                                                                                                |  30 | 0.0247933884 |\n| Bulk Discount (Based on bill amount), Customer Discount (Based on customer relationship)                                                                                            |  26 | 0.0214876033 |\n| Bulk Discount (Based on bill amount), Customer Discount (Based on customer relationship), No Discount                                                                               |   1 | 0.0008264463 |\n| Bulk Discount (Based on bill amount), Customer Discount (Based on customer relationship), Product Discount (Lower price than market)                                                |  70 | 0.0578512397 |\n| Bulk Discount (Based on bill amount), Customer Discount (Based on customer relationship), Product Discount (Lower price than market), Referral Discount (Credit Card, Social Media) |   1 | 0.0008264463 |\n| Bulk Discount (Based on bill amount), No Discount                                                                                                                                   |   5 | 0.0041322314 |\n| Bulk Discount (Based on bill amount), Product Discount (Lower price than market)                                                                                                    | 107 | 0.0884297521 |\n| Bulk Discount (Based on bill amount), Product Discount (Lower price than market), Referral Discount (Credit Card, Social Media)                                                     |   1 | 0.0008264463 |\n| Customer Discount (Based on customer relationship)                                                                                                                                  |  69 | 0.0570247934 |\n| Customer Discount (Based on customer relationship), No Discount                                                                                                                     |   7 | 0.0057851240 |\n| Customer Discount (Based on customer relationship), Product Discount (Lower price than market)                                                                                      |  89 | 0.0735537190 |\n| Customer Discount (Based on customer relationship), Referral Discount (Credit Card, Social Media)                                                                                   |   1 | 0.0008264463 |\n| No Discount                                                                                                                                                                         | 155 | 0.1280991736 |\n| No Discount, Product Discount (Lower price than market)                                                                                                                             | 117 | 0.0966942149 |\n| Product Discount (Lower price than market)                                                                                                                                          | 516 | 0.4264462810 |\n| Product Discount (Lower price than market), Referral Discount (Credit Card, Social Media)                                                                                           |   9 | 0.0074380165 |\n| Referral Discount (Credit Card, Social Media)                                                                                                                                       |   1 | 0.0008264463 |\n| Referral Discount (Credit Card, Social Media), Product Discount (Lower price than market)                                                                                           |   1 | 0.0008264463 |\n\n",
            "text/html": [
              "<table class=\"dataframe\">\n",
              "<caption>A tabyl: 19 × 3</caption>\n",
              "<thead>\n",
              "\t<tr><th scope=col>df_without_2$ORG_DISCOUNTS_OFFERED</th><th scope=col>n</th><th scope=col>percent</th></tr>\n",
              "\t<tr><th scope=col>&lt;fct&gt;</th><th scope=col>&lt;dbl&gt;</th><th scope=col>&lt;dbl&gt;</th></tr>\n",
              "</thead>\n",
              "<tbody>\n",
              "\t<tr><td>-                                                                                                                                                                                  </td><td>  4</td><td>0.0033057851</td></tr>\n",
              "\t<tr><td>Bulk Discount (Based on bill amount)                                                                                                                                               </td><td> 30</td><td>0.0247933884</td></tr>\n",
              "\t<tr><td>Bulk Discount (Based on bill amount), Customer Discount (Based on customer relationship)                                                                                           </td><td> 26</td><td>0.0214876033</td></tr>\n",
              "\t<tr><td>Bulk Discount (Based on bill amount), Customer Discount (Based on customer relationship), No Discount                                                                              </td><td>  1</td><td>0.0008264463</td></tr>\n",
              "\t<tr><td>Bulk Discount (Based on bill amount), Customer Discount (Based on customer relationship), Product Discount (Lower price than market)                                               </td><td> 70</td><td>0.0578512397</td></tr>\n",
              "\t<tr><td>Bulk Discount (Based on bill amount), Customer Discount (Based on customer relationship), Product Discount (Lower price than market), Referral Discount (Credit Card, Social Media)</td><td>  1</td><td>0.0008264463</td></tr>\n",
              "\t<tr><td>Bulk Discount (Based on bill amount), No Discount                                                                                                                                  </td><td>  5</td><td>0.0041322314</td></tr>\n",
              "\t<tr><td>Bulk Discount (Based on bill amount), Product Discount (Lower price than market)                                                                                                   </td><td>107</td><td>0.0884297521</td></tr>\n",
              "\t<tr><td>Bulk Discount (Based on bill amount), Product Discount (Lower price than market), Referral Discount (Credit Card, Social Media)                                                    </td><td>  1</td><td>0.0008264463</td></tr>\n",
              "\t<tr><td>Customer Discount (Based on customer relationship)                                                                                                                                 </td><td> 69</td><td>0.0570247934</td></tr>\n",
              "\t<tr><td>Customer Discount (Based on customer relationship), No Discount                                                                                                                    </td><td>  7</td><td>0.0057851240</td></tr>\n",
              "\t<tr><td>Customer Discount (Based on customer relationship), Product Discount (Lower price than market)                                                                                     </td><td> 89</td><td>0.0735537190</td></tr>\n",
              "\t<tr><td>Customer Discount (Based on customer relationship), Referral Discount (Credit Card, Social Media)                                                                                  </td><td>  1</td><td>0.0008264463</td></tr>\n",
              "\t<tr><td>No Discount                                                                                                                                                                        </td><td>155</td><td>0.1280991736</td></tr>\n",
              "\t<tr><td>No Discount, Product Discount (Lower price than market)                                                                                                                            </td><td>117</td><td>0.0966942149</td></tr>\n",
              "\t<tr><td>Product Discount (Lower price than market)                                                                                                                                         </td><td>516</td><td>0.4264462810</td></tr>\n",
              "\t<tr><td>Product Discount (Lower price than market), Referral Discount (Credit Card, Social Media)                                                                                          </td><td>  9</td><td>0.0074380165</td></tr>\n",
              "\t<tr><td>Referral Discount (Credit Card, Social Media)                                                                                                                                      </td><td>  1</td><td>0.0008264463</td></tr>\n",
              "\t<tr><td>Referral Discount (Credit Card, Social Media), Product Discount (Lower price than market)                                                                                          </td><td>  1</td><td>0.0008264463</td></tr>\n",
              "</tbody>\n",
              "</table>\n"
            ]
          },
          "metadata": {
            "tags": []
          }
        }
      ]
    },
    {
      "cell_type": "markdown",
      "metadata": {
        "id": "ptXzMmA8FJ54"
      },
      "source": [
        "Multiple Response - here"
      ]
    },
    {
      "cell_type": "code",
      "metadata": {
        "colab": {
          "base_uri": "https://localhost:8080/"
        },
        "id": "4y-IrrX5FPE0",
        "outputId": "ce5ba3a9-9d6e-4632-c2fa-6087f35ffe46"
      },
      "source": [
        "df_without_2 %>%\n",
        "    dplyr::select(RESP_ID, ORG_DISCOUNTS_OFFERED) %>%\n",
        "    tidyr::gather(ORG_DISCOUNTS_OFFERED, answer, -RESP_ID) %>%\n",
        "    dplyr::filter(!is.na(answer)) %>%\n",
        "    tidyr::unnest(answer = stringr::str_split(answer, \", \")) -> df_discounts_offered"
      ],
      "execution_count": 98,
      "outputs": [
        {
          "output_type": "stream",
          "text": [
            "Warning message:\n",
            "“unnest() has a new interface. See ?unnest for details.\n",
            "Try `df %>% unnest(c(answer))`, with `mutate()` if needed”\n"
          ],
          "name": "stderr"
        }
      ]
    },
    {
      "cell_type": "code",
      "metadata": {
        "colab": {
          "base_uri": "https://localhost:8080/",
          "height": 313
        },
        "id": "fFfB0qEEFbC1",
        "outputId": "a311d0b4-e1f3-48a1-b568-8825d59de453"
      },
      "source": [
        "tabyl(df_discounts_offered$answer)"
      ],
      "execution_count": 99,
      "outputs": [
        {
          "output_type": "display_data",
          "data": {
            "text/plain": [
              "  df_discounts_offered$answer                        n   percent    \n",
              "1 -                                                    4 0.002308136\n",
              "2 Bulk Discount (Based on bill amount)               241 0.139065205\n",
              "3 Customer Discount (Based on customer relationship) 264 0.152336988\n",
              "4 No Discount                                        285 0.164454703\n",
              "5 Product Discount (Lower price than market)         911 0.525678015\n",
              "6 Referral Discount (Credit Card                      14 0.008078477\n",
              "7 Social Media)                                       14 0.008078477"
            ],
            "text/latex": "A tabyl: 7 × 3\n\\begin{tabular}{lll}\n df\\_discounts\\_offered\\$answer & n & percent\\\\\n <chr> & <dbl> & <dbl>\\\\\n\\hline\n\t -                                                  &   4 & 0.002308136\\\\\n\t Bulk Discount (Based on bill amount)               & 241 & 0.139065205\\\\\n\t Customer Discount (Based on customer relationship) & 264 & 0.152336988\\\\\n\t No Discount                                        & 285 & 0.164454703\\\\\n\t Product Discount (Lower price than market)         & 911 & 0.525678015\\\\\n\t Referral Discount (Credit Card                     &  14 & 0.008078477\\\\\n\t Social Media)                                      &  14 & 0.008078477\\\\\n\\end{tabular}\n",
            "text/markdown": "\nA tabyl: 7 × 3\n\n| df_discounts_offered$answer &lt;chr&gt; | n &lt;dbl&gt; | percent &lt;dbl&gt; |\n|---|---|---|\n| -                                                  |   4 | 0.002308136 |\n| Bulk Discount (Based on bill amount)               | 241 | 0.139065205 |\n| Customer Discount (Based on customer relationship) | 264 | 0.152336988 |\n| No Discount                                        | 285 | 0.164454703 |\n| Product Discount (Lower price than market)         | 911 | 0.525678015 |\n| Referral Discount (Credit Card                     |  14 | 0.008078477 |\n| Social Media)                                      |  14 | 0.008078477 |\n\n",
            "text/html": [
              "<table class=\"dataframe\">\n",
              "<caption>A tabyl: 7 × 3</caption>\n",
              "<thead>\n",
              "\t<tr><th scope=col>df_discounts_offered$answer</th><th scope=col>n</th><th scope=col>percent</th></tr>\n",
              "\t<tr><th scope=col>&lt;chr&gt;</th><th scope=col>&lt;dbl&gt;</th><th scope=col>&lt;dbl&gt;</th></tr>\n",
              "</thead>\n",
              "<tbody>\n",
              "\t<tr><td>-                                                 </td><td>  4</td><td>0.002308136</td></tr>\n",
              "\t<tr><td>Bulk Discount (Based on bill amount)              </td><td>241</td><td>0.139065205</td></tr>\n",
              "\t<tr><td>Customer Discount (Based on customer relationship)</td><td>264</td><td>0.152336988</td></tr>\n",
              "\t<tr><td>No Discount                                       </td><td>285</td><td>0.164454703</td></tr>\n",
              "\t<tr><td>Product Discount (Lower price than market)        </td><td>911</td><td>0.525678015</td></tr>\n",
              "\t<tr><td>Referral Discount (Credit Card                    </td><td> 14</td><td>0.008078477</td></tr>\n",
              "\t<tr><td>Social Media)                                     </td><td> 14</td><td>0.008078477</td></tr>\n",
              "</tbody>\n",
              "</table>\n"
            ]
          },
          "metadata": {
            "tags": []
          }
        }
      ]
    },
    {
      "cell_type": "markdown",
      "metadata": {
        "id": "PhoCn6t7FqrE"
      },
      "source": [
        "Converting from CHR to FACTOR"
      ]
    },
    {
      "cell_type": "code",
      "metadata": {
        "id": "zVVJ0vKCFzRh"
      },
      "source": [
        "df_discounts_offered$answer %>% \n",
        "factor() %>% \n",
        "fct_inorder() -> df_discounts_offered$answer"
      ],
      "execution_count": 100,
      "outputs": []
    },
    {
      "cell_type": "code",
      "metadata": {
        "colab": {
          "base_uri": "https://localhost:8080/",
          "height": 313
        },
        "id": "xliqGUvlF3V2",
        "outputId": "a67dc7a7-b5b3-4abf-a0ea-b8c88f745589"
      },
      "source": [
        "tabyl(df_discounts_offered$answer)"
      ],
      "execution_count": 101,
      "outputs": [
        {
          "output_type": "display_data",
          "data": {
            "text/plain": [
              "  df_discounts_offered$answer                        n   percent    \n",
              "1 Customer Discount (Based on customer relationship) 264 0.152336988\n",
              "2 Product Discount (Lower price than market)         911 0.525678015\n",
              "3 Bulk Discount (Based on bill amount)               241 0.139065205\n",
              "4 No Discount                                        285 0.164454703\n",
              "5 Referral Discount (Credit Card                      14 0.008078477\n",
              "6 Social Media)                                       14 0.008078477\n",
              "7 -                                                    4 0.002308136"
            ],
            "text/latex": "A tabyl: 7 × 3\n\\begin{tabular}{lll}\n df\\_discounts\\_offered\\$answer & n & percent\\\\\n <fct> & <dbl> & <dbl>\\\\\n\\hline\n\t Customer Discount (Based on customer relationship) & 264 & 0.152336988\\\\\n\t Product Discount (Lower price than market)         & 911 & 0.525678015\\\\\n\t Bulk Discount (Based on bill amount)               & 241 & 0.139065205\\\\\n\t No Discount                                        & 285 & 0.164454703\\\\\n\t Referral Discount (Credit Card                     &  14 & 0.008078477\\\\\n\t Social Media)                                      &  14 & 0.008078477\\\\\n\t -                                                  &   4 & 0.002308136\\\\\n\\end{tabular}\n",
            "text/markdown": "\nA tabyl: 7 × 3\n\n| df_discounts_offered$answer &lt;fct&gt; | n &lt;dbl&gt; | percent &lt;dbl&gt; |\n|---|---|---|\n| Customer Discount (Based on customer relationship) | 264 | 0.152336988 |\n| Product Discount (Lower price than market)         | 911 | 0.525678015 |\n| Bulk Discount (Based on bill amount)               | 241 | 0.139065205 |\n| No Discount                                        | 285 | 0.164454703 |\n| Referral Discount (Credit Card                     |  14 | 0.008078477 |\n| Social Media)                                      |  14 | 0.008078477 |\n| -                                                  |   4 | 0.002308136 |\n\n",
            "text/html": [
              "<table class=\"dataframe\">\n",
              "<caption>A tabyl: 7 × 3</caption>\n",
              "<thead>\n",
              "\t<tr><th scope=col>df_discounts_offered$answer</th><th scope=col>n</th><th scope=col>percent</th></tr>\n",
              "\t<tr><th scope=col>&lt;fct&gt;</th><th scope=col>&lt;dbl&gt;</th><th scope=col>&lt;dbl&gt;</th></tr>\n",
              "</thead>\n",
              "<tbody>\n",
              "\t<tr><td>Customer Discount (Based on customer relationship)</td><td>264</td><td>0.152336988</td></tr>\n",
              "\t<tr><td>Product Discount (Lower price than market)        </td><td>911</td><td>0.525678015</td></tr>\n",
              "\t<tr><td>Bulk Discount (Based on bill amount)              </td><td>241</td><td>0.139065205</td></tr>\n",
              "\t<tr><td>No Discount                                       </td><td>285</td><td>0.164454703</td></tr>\n",
              "\t<tr><td>Referral Discount (Credit Card                    </td><td> 14</td><td>0.008078477</td></tr>\n",
              "\t<tr><td>Social Media)                                     </td><td> 14</td><td>0.008078477</td></tr>\n",
              "\t<tr><td>-                                                 </td><td>  4</td><td>0.002308136</td></tr>\n",
              "</tbody>\n",
              "</table>\n"
            ]
          },
          "metadata": {
            "tags": []
          }
        }
      ]
    },
    {
      "cell_type": "markdown",
      "metadata": {
        "id": "k970KlwFFje0"
      },
      "source": [
        "Change the value of levels"
      ]
    },
    {
      "cell_type": "code",
      "metadata": {
        "id": "IM0gPiVqGB1A"
      },
      "source": [
        "df_discounts_offered <- df_discounts_offered %>% \n",
        "   mutate (answer = fct_recode(df_discounts_offered$answer, \n",
        "   'No ANS' = '-'))"
      ],
      "execution_count": 102,
      "outputs": []
    },
    {
      "cell_type": "code",
      "metadata": {
        "colab": {
          "base_uri": "https://localhost:8080/",
          "height": 313
        },
        "id": "IkcHhuM9GLVU",
        "outputId": "a6b2b998-f5a4-421a-974f-9ff08a7ef24e"
      },
      "source": [
        "tabyl(df_discounts_offered$answer)"
      ],
      "execution_count": 103,
      "outputs": [
        {
          "output_type": "display_data",
          "data": {
            "text/plain": [
              "  df_discounts_offered$answer                        n   percent    \n",
              "1 Customer Discount (Based on customer relationship) 264 0.152336988\n",
              "2 Product Discount (Lower price than market)         911 0.525678015\n",
              "3 Bulk Discount (Based on bill amount)               241 0.139065205\n",
              "4 No Discount                                        285 0.164454703\n",
              "5 Referral Discount (Credit Card                      14 0.008078477\n",
              "6 Social Media)                                       14 0.008078477\n",
              "7 No ANS                                               4 0.002308136"
            ],
            "text/latex": "A tabyl: 7 × 3\n\\begin{tabular}{lll}\n df\\_discounts\\_offered\\$answer & n & percent\\\\\n <fct> & <dbl> & <dbl>\\\\\n\\hline\n\t Customer Discount (Based on customer relationship) & 264 & 0.152336988\\\\\n\t Product Discount (Lower price than market)         & 911 & 0.525678015\\\\\n\t Bulk Discount (Based on bill amount)               & 241 & 0.139065205\\\\\n\t No Discount                                        & 285 & 0.164454703\\\\\n\t Referral Discount (Credit Card                     &  14 & 0.008078477\\\\\n\t Social Media)                                      &  14 & 0.008078477\\\\\n\t No ANS                                             &   4 & 0.002308136\\\\\n\\end{tabular}\n",
            "text/markdown": "\nA tabyl: 7 × 3\n\n| df_discounts_offered$answer &lt;fct&gt; | n &lt;dbl&gt; | percent &lt;dbl&gt; |\n|---|---|---|\n| Customer Discount (Based on customer relationship) | 264 | 0.152336988 |\n| Product Discount (Lower price than market)         | 911 | 0.525678015 |\n| Bulk Discount (Based on bill amount)               | 241 | 0.139065205 |\n| No Discount                                        | 285 | 0.164454703 |\n| Referral Discount (Credit Card                     |  14 | 0.008078477 |\n| Social Media)                                      |  14 | 0.008078477 |\n| No ANS                                             |   4 | 0.002308136 |\n\n",
            "text/html": [
              "<table class=\"dataframe\">\n",
              "<caption>A tabyl: 7 × 3</caption>\n",
              "<thead>\n",
              "\t<tr><th scope=col>df_discounts_offered$answer</th><th scope=col>n</th><th scope=col>percent</th></tr>\n",
              "\t<tr><th scope=col>&lt;fct&gt;</th><th scope=col>&lt;dbl&gt;</th><th scope=col>&lt;dbl&gt;</th></tr>\n",
              "</thead>\n",
              "<tbody>\n",
              "\t<tr><td>Customer Discount (Based on customer relationship)</td><td>264</td><td>0.152336988</td></tr>\n",
              "\t<tr><td>Product Discount (Lower price than market)        </td><td>911</td><td>0.525678015</td></tr>\n",
              "\t<tr><td>Bulk Discount (Based on bill amount)              </td><td>241</td><td>0.139065205</td></tr>\n",
              "\t<tr><td>No Discount                                       </td><td>285</td><td>0.164454703</td></tr>\n",
              "\t<tr><td>Referral Discount (Credit Card                    </td><td> 14</td><td>0.008078477</td></tr>\n",
              "\t<tr><td>Social Media)                                     </td><td> 14</td><td>0.008078477</td></tr>\n",
              "\t<tr><td>No ANS                                            </td><td>  4</td><td>0.002308136</td></tr>\n",
              "</tbody>\n",
              "</table>\n"
            ]
          },
          "metadata": {
            "tags": []
          }
        }
      ]
    },
    {
      "cell_type": "markdown",
      "metadata": {
        "id": "HYmfiPVIGev4"
      },
      "source": [
        "Change the order of levels"
      ]
    },
    {
      "cell_type": "code",
      "metadata": {
        "id": "JqqqgsO7GfkZ"
      },
      "source": [
        "df_discounts_offered <- \n",
        "    df_discounts_offered %>%\n",
        "        mutate(answer = fct_infreq(answer))"
      ],
      "execution_count": 104,
      "outputs": []
    },
    {
      "cell_type": "code",
      "metadata": {
        "colab": {
          "base_uri": "https://localhost:8080/",
          "height": 313
        },
        "id": "_nYExHirGumh",
        "outputId": "99a6377e-c99d-4587-d288-9c50cf9f5c67"
      },
      "source": [
        "tabyl(df_discounts_offered$answer)"
      ],
      "execution_count": 105,
      "outputs": [
        {
          "output_type": "display_data",
          "data": {
            "text/plain": [
              "  df_discounts_offered$answer                        n   percent    \n",
              "1 Product Discount (Lower price than market)         911 0.525678015\n",
              "2 No Discount                                        285 0.164454703\n",
              "3 Customer Discount (Based on customer relationship) 264 0.152336988\n",
              "4 Bulk Discount (Based on bill amount)               241 0.139065205\n",
              "5 Referral Discount (Credit Card                      14 0.008078477\n",
              "6 Social Media)                                       14 0.008078477\n",
              "7 No ANS                                               4 0.002308136"
            ],
            "text/latex": "A tabyl: 7 × 3\n\\begin{tabular}{lll}\n df\\_discounts\\_offered\\$answer & n & percent\\\\\n <fct> & <dbl> & <dbl>\\\\\n\\hline\n\t Product Discount (Lower price than market)         & 911 & 0.525678015\\\\\n\t No Discount                                        & 285 & 0.164454703\\\\\n\t Customer Discount (Based on customer relationship) & 264 & 0.152336988\\\\\n\t Bulk Discount (Based on bill amount)               & 241 & 0.139065205\\\\\n\t Referral Discount (Credit Card                     &  14 & 0.008078477\\\\\n\t Social Media)                                      &  14 & 0.008078477\\\\\n\t No ANS                                             &   4 & 0.002308136\\\\\n\\end{tabular}\n",
            "text/markdown": "\nA tabyl: 7 × 3\n\n| df_discounts_offered$answer &lt;fct&gt; | n &lt;dbl&gt; | percent &lt;dbl&gt; |\n|---|---|---|\n| Product Discount (Lower price than market)         | 911 | 0.525678015 |\n| No Discount                                        | 285 | 0.164454703 |\n| Customer Discount (Based on customer relationship) | 264 | 0.152336988 |\n| Bulk Discount (Based on bill amount)               | 241 | 0.139065205 |\n| Referral Discount (Credit Card                     |  14 | 0.008078477 |\n| Social Media)                                      |  14 | 0.008078477 |\n| No ANS                                             |   4 | 0.002308136 |\n\n",
            "text/html": [
              "<table class=\"dataframe\">\n",
              "<caption>A tabyl: 7 × 3</caption>\n",
              "<thead>\n",
              "\t<tr><th scope=col>df_discounts_offered$answer</th><th scope=col>n</th><th scope=col>percent</th></tr>\n",
              "\t<tr><th scope=col>&lt;fct&gt;</th><th scope=col>&lt;dbl&gt;</th><th scope=col>&lt;dbl&gt;</th></tr>\n",
              "</thead>\n",
              "<tbody>\n",
              "\t<tr><td>Product Discount (Lower price than market)        </td><td>911</td><td>0.525678015</td></tr>\n",
              "\t<tr><td>No Discount                                       </td><td>285</td><td>0.164454703</td></tr>\n",
              "\t<tr><td>Customer Discount (Based on customer relationship)</td><td>264</td><td>0.152336988</td></tr>\n",
              "\t<tr><td>Bulk Discount (Based on bill amount)              </td><td>241</td><td>0.139065205</td></tr>\n",
              "\t<tr><td>Referral Discount (Credit Card                    </td><td> 14</td><td>0.008078477</td></tr>\n",
              "\t<tr><td>Social Media)                                     </td><td> 14</td><td>0.008078477</td></tr>\n",
              "\t<tr><td>No ANS                                            </td><td>  4</td><td>0.002308136</td></tr>\n",
              "</tbody>\n",
              "</table>\n"
            ]
          },
          "metadata": {
            "tags": []
          }
        }
      ]
    },
    {
      "cell_type": "markdown",
      "metadata": {
        "id": "jYlY7aeLE80a"
      },
      "source": [
        "##### 1.16 ORG_URDU_FEATURES_EXPECTED"
      ]
    },
    {
      "cell_type": "code",
      "metadata": {
        "colab": {
          "base_uri": "https://localhost:8080/",
          "height": 612
        },
        "id": "6yXs_8raHMIX",
        "outputId": "90d9fc67-4138-4316-f112-d009cb3946dd"
      },
      "source": [
        "tabyl(df_without_2$ORG_URDU_FEATURES_EXPECTED)"
      ],
      "execution_count": 106,
      "outputs": [
        {
          "output_type": "display_data",
          "data": {
            "text/plain": [
              "   df_without_2$ORG_URDU_FEATURES_EXPECTED                                  n  \n",
              "1  -                                                                         13\n",
              "2  Display Screen                                                            89\n",
              "3  Display Screen (Product name), Others (Please specify) (Product name)      5\n",
              "4  Display Screen (Product names), Others (Please specify) (Product names)    1\n",
              "5  Display Screen (Product Names), Others (Please specify) (Product Names)    1\n",
              "6  Display Screen, Slips or Receipts                                        330\n",
              "7  Others (Please specify) (Don't want)                                       1\n",
              "8  Others (Please specify) (Dont want to use )                                1\n",
              "9  Others (Please specify) (Everything in both languages )                    1\n",
              "10 Others (Please specify) (Items name), Slips or Receipts (Items name)       1\n",
              "11 Others (Please specify) (No intrested), Slips or Receipts (No intrested)   1\n",
              "12 Others (Please specify) (No)                                               1\n",
              "13 Others (Please specify) (Product name)                                     1\n",
              "14 Others (Please specify) (Product name), Slips or Receipts (Product name)   1\n",
              "15 Slips or Receipts                                                        763\n",
              "   percent     \n",
              "1  0.0107438017\n",
              "2  0.0735537190\n",
              "3  0.0041322314\n",
              "4  0.0008264463\n",
              "5  0.0008264463\n",
              "6  0.2727272727\n",
              "7  0.0008264463\n",
              "8  0.0008264463\n",
              "9  0.0008264463\n",
              "10 0.0008264463\n",
              "11 0.0008264463\n",
              "12 0.0008264463\n",
              "13 0.0008264463\n",
              "14 0.0008264463\n",
              "15 0.6305785124"
            ],
            "text/latex": "A tabyl: 15 × 3\n\\begin{tabular}{lll}\n df\\_without\\_2\\$ORG\\_URDU\\_FEATURES\\_EXPECTED & n & percent\\\\\n <fct> & <dbl> & <dbl>\\\\\n\\hline\n\t -                                                                        &  13 & 0.0107438017\\\\\n\t Display Screen                                                           &  89 & 0.0735537190\\\\\n\t Display Screen (Product name), Others (Please specify) (Product name)    &   5 & 0.0041322314\\\\\n\t Display Screen (Product names), Others (Please specify) (Product names)  &   1 & 0.0008264463\\\\\n\t Display Screen (Product Names), Others (Please specify) (Product Names)  &   1 & 0.0008264463\\\\\n\t Display Screen, Slips or Receipts                                        & 330 & 0.2727272727\\\\\n\t Others (Please specify) (Don't want)                                     &   1 & 0.0008264463\\\\\n\t Others (Please specify) (Dont want to use )                              &   1 & 0.0008264463\\\\\n\t Others (Please specify) (Everything in both languages )                  &   1 & 0.0008264463\\\\\n\t Others (Please specify) (Items name), Slips or Receipts (Items name)     &   1 & 0.0008264463\\\\\n\t Others (Please specify) (No intrested), Slips or Receipts (No intrested) &   1 & 0.0008264463\\\\\n\t Others (Please specify) (No)                                             &   1 & 0.0008264463\\\\\n\t Others (Please specify) (Product name)                                   &   1 & 0.0008264463\\\\\n\t Others (Please specify) (Product name), Slips or Receipts (Product name) &   1 & 0.0008264463\\\\\n\t Slips or Receipts                                                        & 763 & 0.6305785124\\\\\n\\end{tabular}\n",
            "text/markdown": "\nA tabyl: 15 × 3\n\n| df_without_2$ORG_URDU_FEATURES_EXPECTED &lt;fct&gt; | n &lt;dbl&gt; | percent &lt;dbl&gt; |\n|---|---|---|\n| -                                                                        |  13 | 0.0107438017 |\n| Display Screen                                                           |  89 | 0.0735537190 |\n| Display Screen (Product name), Others (Please specify) (Product name)    |   5 | 0.0041322314 |\n| Display Screen (Product names), Others (Please specify) (Product names)  |   1 | 0.0008264463 |\n| Display Screen (Product Names), Others (Please specify) (Product Names)  |   1 | 0.0008264463 |\n| Display Screen, Slips or Receipts                                        | 330 | 0.2727272727 |\n| Others (Please specify) (Don't want)                                     |   1 | 0.0008264463 |\n| Others (Please specify) (Dont want to use )                              |   1 | 0.0008264463 |\n| Others (Please specify) (Everything in both languages )                  |   1 | 0.0008264463 |\n| Others (Please specify) (Items name), Slips or Receipts (Items name)     |   1 | 0.0008264463 |\n| Others (Please specify) (No intrested), Slips or Receipts (No intrested) |   1 | 0.0008264463 |\n| Others (Please specify) (No)                                             |   1 | 0.0008264463 |\n| Others (Please specify) (Product name)                                   |   1 | 0.0008264463 |\n| Others (Please specify) (Product name), Slips or Receipts (Product name) |   1 | 0.0008264463 |\n| Slips or Receipts                                                        | 763 | 0.6305785124 |\n\n",
            "text/html": [
              "<table class=\"dataframe\">\n",
              "<caption>A tabyl: 15 × 3</caption>\n",
              "<thead>\n",
              "\t<tr><th scope=col>df_without_2$ORG_URDU_FEATURES_EXPECTED</th><th scope=col>n</th><th scope=col>percent</th></tr>\n",
              "\t<tr><th scope=col>&lt;fct&gt;</th><th scope=col>&lt;dbl&gt;</th><th scope=col>&lt;dbl&gt;</th></tr>\n",
              "</thead>\n",
              "<tbody>\n",
              "\t<tr><td>-                                                                       </td><td> 13</td><td>0.0107438017</td></tr>\n",
              "\t<tr><td>Display Screen                                                          </td><td> 89</td><td>0.0735537190</td></tr>\n",
              "\t<tr><td>Display Screen (Product name), Others (Please specify) (Product name)   </td><td>  5</td><td>0.0041322314</td></tr>\n",
              "\t<tr><td>Display Screen (Product names), Others (Please specify) (Product names) </td><td>  1</td><td>0.0008264463</td></tr>\n",
              "\t<tr><td>Display Screen (Product Names), Others (Please specify) (Product Names) </td><td>  1</td><td>0.0008264463</td></tr>\n",
              "\t<tr><td>Display Screen, Slips or Receipts                                       </td><td>330</td><td>0.2727272727</td></tr>\n",
              "\t<tr><td>Others (Please specify) (Don't want)                                    </td><td>  1</td><td>0.0008264463</td></tr>\n",
              "\t<tr><td>Others (Please specify) (Dont want to use )                             </td><td>  1</td><td>0.0008264463</td></tr>\n",
              "\t<tr><td>Others (Please specify) (Everything in both languages )                 </td><td>  1</td><td>0.0008264463</td></tr>\n",
              "\t<tr><td>Others (Please specify) (Items name), Slips or Receipts (Items name)    </td><td>  1</td><td>0.0008264463</td></tr>\n",
              "\t<tr><td>Others (Please specify) (No intrested), Slips or Receipts (No intrested)</td><td>  1</td><td>0.0008264463</td></tr>\n",
              "\t<tr><td>Others (Please specify) (No)                                            </td><td>  1</td><td>0.0008264463</td></tr>\n",
              "\t<tr><td>Others (Please specify) (Product name)                                  </td><td>  1</td><td>0.0008264463</td></tr>\n",
              "\t<tr><td>Others (Please specify) (Product name), Slips or Receipts (Product name)</td><td>  1</td><td>0.0008264463</td></tr>\n",
              "\t<tr><td>Slips or Receipts                                                       </td><td>763</td><td>0.6305785124</td></tr>\n",
              "</tbody>\n",
              "</table>\n"
            ]
          },
          "metadata": {
            "tags": []
          }
        }
      ]
    },
    {
      "cell_type": "markdown",
      "metadata": {
        "id": "NCxF_fKgHShw"
      },
      "source": [
        "Multiple Response - here"
      ]
    },
    {
      "cell_type": "code",
      "metadata": {
        "colab": {
          "base_uri": "https://localhost:8080/"
        },
        "id": "bxvURXE6HV4J",
        "outputId": "e75ec236-845e-4e79-aa61-ea7d3479740f"
      },
      "source": [
        "df_without_2 %>%\n",
        "    dplyr::select(RESP_ID, ORG_URDU_FEATURES_EXPECTED) %>%\n",
        "    tidyr::gather(ORG_URDU_FEATURES_EXPECTED, answer, -RESP_ID) %>%\n",
        "    dplyr::filter(!is.na(answer)) %>%\n",
        "    tidyr::unnest(answer = stringr::str_split(answer, \", \")) -> df_urdu_features"
      ],
      "execution_count": 107,
      "outputs": [
        {
          "output_type": "stream",
          "text": [
            "Warning message:\n",
            "“unnest() has a new interface. See ?unnest for details.\n",
            "Try `df %>% unnest(c(answer))`, with `mutate()` if needed”\n"
          ],
          "name": "stderr"
        }
      ]
    },
    {
      "cell_type": "code",
      "metadata": {
        "colab": {
          "base_uri": "https://localhost:8080/",
          "height": 653
        },
        "id": "aHFmnQ2FHfTd",
        "outputId": "cbcb1dd5-105a-4268-9655-eb63c7ac0399"
      },
      "source": [
        "tabyl(df_urdu_features$answer)"
      ],
      "execution_count": 108,
      "outputs": [
        {
          "output_type": "display_data",
          "data": {
            "text/plain": [
              "   df_urdu_features$answer                                 n    percent     \n",
              "1  -                                                         13 0.0083870968\n",
              "2  Display Screen                                           419 0.2703225806\n",
              "3  Display Screen (Product name)                              5 0.0032258065\n",
              "4  Display Screen (Product names)                             1 0.0006451613\n",
              "5  Display Screen (Product Names)                             1 0.0006451613\n",
              "6  Others (Please specify) (Don't want)                       1 0.0006451613\n",
              "7  Others (Please specify) (Dont want to use )                1 0.0006451613\n",
              "8  Others (Please specify) (Everything in both languages )    1 0.0006451613\n",
              "9  Others (Please specify) (Items name)                       1 0.0006451613\n",
              "10 Others (Please specify) (No intrested)                     1 0.0006451613\n",
              "11 Others (Please specify) (No)                               1 0.0006451613\n",
              "12 Others (Please specify) (Product name)                     7 0.0045161290\n",
              "13 Others (Please specify) (Product names)                    1 0.0006451613\n",
              "14 Others (Please specify) (Product Names)                    1 0.0006451613\n",
              "15 Slips or Receipts                                       1093 0.7051612903\n",
              "16 Slips or Receipts (Items name)                             1 0.0006451613\n",
              "17 Slips or Receipts (No intrested)                           1 0.0006451613\n",
              "18 Slips or Receipts (Product name)                           1 0.0006451613"
            ],
            "text/latex": "A tabyl: 18 × 3\n\\begin{tabular}{lll}\n df\\_urdu\\_features\\$answer & n & percent\\\\\n <chr> & <dbl> & <dbl>\\\\\n\\hline\n\t -                                                       &   13 & 0.0083870968\\\\\n\t Display Screen                                          &  419 & 0.2703225806\\\\\n\t Display Screen (Product name)                           &    5 & 0.0032258065\\\\\n\t Display Screen (Product names)                          &    1 & 0.0006451613\\\\\n\t Display Screen (Product Names)                          &    1 & 0.0006451613\\\\\n\t Others (Please specify) (Don't want)                    &    1 & 0.0006451613\\\\\n\t Others (Please specify) (Dont want to use )             &    1 & 0.0006451613\\\\\n\t Others (Please specify) (Everything in both languages ) &    1 & 0.0006451613\\\\\n\t Others (Please specify) (Items name)                    &    1 & 0.0006451613\\\\\n\t Others (Please specify) (No intrested)                  &    1 & 0.0006451613\\\\\n\t Others (Please specify) (No)                            &    1 & 0.0006451613\\\\\n\t Others (Please specify) (Product name)                  &    7 & 0.0045161290\\\\\n\t Others (Please specify) (Product names)                 &    1 & 0.0006451613\\\\\n\t Others (Please specify) (Product Names)                 &    1 & 0.0006451613\\\\\n\t Slips or Receipts                                       & 1093 & 0.7051612903\\\\\n\t Slips or Receipts (Items name)                          &    1 & 0.0006451613\\\\\n\t Slips or Receipts (No intrested)                        &    1 & 0.0006451613\\\\\n\t Slips or Receipts (Product name)                        &    1 & 0.0006451613\\\\\n\\end{tabular}\n",
            "text/markdown": "\nA tabyl: 18 × 3\n\n| df_urdu_features$answer &lt;chr&gt; | n &lt;dbl&gt; | percent &lt;dbl&gt; |\n|---|---|---|\n| -                                                       |   13 | 0.0083870968 |\n| Display Screen                                          |  419 | 0.2703225806 |\n| Display Screen (Product name)                           |    5 | 0.0032258065 |\n| Display Screen (Product names)                          |    1 | 0.0006451613 |\n| Display Screen (Product Names)                          |    1 | 0.0006451613 |\n| Others (Please specify) (Don't want)                    |    1 | 0.0006451613 |\n| Others (Please specify) (Dont want to use )             |    1 | 0.0006451613 |\n| Others (Please specify) (Everything in both languages ) |    1 | 0.0006451613 |\n| Others (Please specify) (Items name)                    |    1 | 0.0006451613 |\n| Others (Please specify) (No intrested)                  |    1 | 0.0006451613 |\n| Others (Please specify) (No)                            |    1 | 0.0006451613 |\n| Others (Please specify) (Product name)                  |    7 | 0.0045161290 |\n| Others (Please specify) (Product names)                 |    1 | 0.0006451613 |\n| Others (Please specify) (Product Names)                 |    1 | 0.0006451613 |\n| Slips or Receipts                                       | 1093 | 0.7051612903 |\n| Slips or Receipts (Items name)                          |    1 | 0.0006451613 |\n| Slips or Receipts (No intrested)                        |    1 | 0.0006451613 |\n| Slips or Receipts (Product name)                        |    1 | 0.0006451613 |\n\n",
            "text/html": [
              "<table class=\"dataframe\">\n",
              "<caption>A tabyl: 18 × 3</caption>\n",
              "<thead>\n",
              "\t<tr><th scope=col>df_urdu_features$answer</th><th scope=col>n</th><th scope=col>percent</th></tr>\n",
              "\t<tr><th scope=col>&lt;chr&gt;</th><th scope=col>&lt;dbl&gt;</th><th scope=col>&lt;dbl&gt;</th></tr>\n",
              "</thead>\n",
              "<tbody>\n",
              "\t<tr><td>-                                                      </td><td>  13</td><td>0.0083870968</td></tr>\n",
              "\t<tr><td>Display Screen                                         </td><td> 419</td><td>0.2703225806</td></tr>\n",
              "\t<tr><td>Display Screen (Product name)                          </td><td>   5</td><td>0.0032258065</td></tr>\n",
              "\t<tr><td>Display Screen (Product names)                         </td><td>   1</td><td>0.0006451613</td></tr>\n",
              "\t<tr><td>Display Screen (Product Names)                         </td><td>   1</td><td>0.0006451613</td></tr>\n",
              "\t<tr><td>Others (Please specify) (Don't want)                   </td><td>   1</td><td>0.0006451613</td></tr>\n",
              "\t<tr><td>Others (Please specify) (Dont want to use )            </td><td>   1</td><td>0.0006451613</td></tr>\n",
              "\t<tr><td>Others (Please specify) (Everything in both languages )</td><td>   1</td><td>0.0006451613</td></tr>\n",
              "\t<tr><td>Others (Please specify) (Items name)                   </td><td>   1</td><td>0.0006451613</td></tr>\n",
              "\t<tr><td>Others (Please specify) (No intrested)                 </td><td>   1</td><td>0.0006451613</td></tr>\n",
              "\t<tr><td>Others (Please specify) (No)                           </td><td>   1</td><td>0.0006451613</td></tr>\n",
              "\t<tr><td>Others (Please specify) (Product name)                 </td><td>   7</td><td>0.0045161290</td></tr>\n",
              "\t<tr><td>Others (Please specify) (Product names)                </td><td>   1</td><td>0.0006451613</td></tr>\n",
              "\t<tr><td>Others (Please specify) (Product Names)                </td><td>   1</td><td>0.0006451613</td></tr>\n",
              "\t<tr><td>Slips or Receipts                                      </td><td>1093</td><td>0.7051612903</td></tr>\n",
              "\t<tr><td>Slips or Receipts (Items name)                         </td><td>   1</td><td>0.0006451613</td></tr>\n",
              "\t<tr><td>Slips or Receipts (No intrested)                       </td><td>   1</td><td>0.0006451613</td></tr>\n",
              "\t<tr><td>Slips or Receipts (Product name)                       </td><td>   1</td><td>0.0006451613</td></tr>\n",
              "</tbody>\n",
              "</table>\n"
            ]
          },
          "metadata": {
            "tags": []
          }
        }
      ]
    },
    {
      "cell_type": "markdown",
      "metadata": {
        "id": "_lwX56JRIAbB"
      },
      "source": [
        "Converting from CHR to FACTOR"
      ]
    },
    {
      "cell_type": "code",
      "metadata": {
        "id": "MvmQyCVxIDI4"
      },
      "source": [
        "df_urdu_features$answer %>% \n",
        "factor() %>% \n",
        "fct_inorder() -> df_urdu_features$answer"
      ],
      "execution_count": 109,
      "outputs": []
    },
    {
      "cell_type": "code",
      "metadata": {
        "colab": {
          "base_uri": "https://localhost:8080/",
          "height": 653
        },
        "id": "9dM-slWMILw0",
        "outputId": "11779d26-b3e4-42b0-f423-c868168fa275"
      },
      "source": [
        "tabyl(df_urdu_features$answer)"
      ],
      "execution_count": 110,
      "outputs": [
        {
          "output_type": "display_data",
          "data": {
            "text/plain": [
              "   df_urdu_features$answer                                 n    percent     \n",
              "1  Others (Please specify) (Everything in both languages )    1 0.0006451613\n",
              "2  Display Screen                                           419 0.2703225806\n",
              "3  Slips or Receipts                                       1093 0.7051612903\n",
              "4  Others (Please specify) (Don't want)                       1 0.0006451613\n",
              "5  Others (Please specify) (No intrested)                     1 0.0006451613\n",
              "6  Slips or Receipts (No intrested)                           1 0.0006451613\n",
              "7  Others (Please specify) (No)                               1 0.0006451613\n",
              "8  -                                                         13 0.0083870968\n",
              "9  Others (Please specify) (Dont want to use )                1 0.0006451613\n",
              "10 Others (Please specify) (Product name)                     7 0.0045161290\n",
              "11 Display Screen (Product name)                              5 0.0032258065\n",
              "12 Others (Please specify) (Items name)                       1 0.0006451613\n",
              "13 Slips or Receipts (Items name)                             1 0.0006451613\n",
              "14 Slips or Receipts (Product name)                           1 0.0006451613\n",
              "15 Display Screen (Product Names)                             1 0.0006451613\n",
              "16 Others (Please specify) (Product Names)                    1 0.0006451613\n",
              "17 Display Screen (Product names)                             1 0.0006451613\n",
              "18 Others (Please specify) (Product names)                    1 0.0006451613"
            ],
            "text/latex": "A tabyl: 18 × 3\n\\begin{tabular}{lll}\n df\\_urdu\\_features\\$answer & n & percent\\\\\n <fct> & <dbl> & <dbl>\\\\\n\\hline\n\t Others (Please specify) (Everything in both languages ) &    1 & 0.0006451613\\\\\n\t Display Screen                                          &  419 & 0.2703225806\\\\\n\t Slips or Receipts                                       & 1093 & 0.7051612903\\\\\n\t Others (Please specify) (Don't want)                    &    1 & 0.0006451613\\\\\n\t Others (Please specify) (No intrested)                  &    1 & 0.0006451613\\\\\n\t Slips or Receipts (No intrested)                        &    1 & 0.0006451613\\\\\n\t Others (Please specify) (No)                            &    1 & 0.0006451613\\\\\n\t -                                                       &   13 & 0.0083870968\\\\\n\t Others (Please specify) (Dont want to use )             &    1 & 0.0006451613\\\\\n\t Others (Please specify) (Product name)                  &    7 & 0.0045161290\\\\\n\t Display Screen (Product name)                           &    5 & 0.0032258065\\\\\n\t Others (Please specify) (Items name)                    &    1 & 0.0006451613\\\\\n\t Slips or Receipts (Items name)                          &    1 & 0.0006451613\\\\\n\t Slips or Receipts (Product name)                        &    1 & 0.0006451613\\\\\n\t Display Screen (Product Names)                          &    1 & 0.0006451613\\\\\n\t Others (Please specify) (Product Names)                 &    1 & 0.0006451613\\\\\n\t Display Screen (Product names)                          &    1 & 0.0006451613\\\\\n\t Others (Please specify) (Product names)                 &    1 & 0.0006451613\\\\\n\\end{tabular}\n",
            "text/markdown": "\nA tabyl: 18 × 3\n\n| df_urdu_features$answer &lt;fct&gt; | n &lt;dbl&gt; | percent &lt;dbl&gt; |\n|---|---|---|\n| Others (Please specify) (Everything in both languages ) |    1 | 0.0006451613 |\n| Display Screen                                          |  419 | 0.2703225806 |\n| Slips or Receipts                                       | 1093 | 0.7051612903 |\n| Others (Please specify) (Don't want)                    |    1 | 0.0006451613 |\n| Others (Please specify) (No intrested)                  |    1 | 0.0006451613 |\n| Slips or Receipts (No intrested)                        |    1 | 0.0006451613 |\n| Others (Please specify) (No)                            |    1 | 0.0006451613 |\n| -                                                       |   13 | 0.0083870968 |\n| Others (Please specify) (Dont want to use )             |    1 | 0.0006451613 |\n| Others (Please specify) (Product name)                  |    7 | 0.0045161290 |\n| Display Screen (Product name)                           |    5 | 0.0032258065 |\n| Others (Please specify) (Items name)                    |    1 | 0.0006451613 |\n| Slips or Receipts (Items name)                          |    1 | 0.0006451613 |\n| Slips or Receipts (Product name)                        |    1 | 0.0006451613 |\n| Display Screen (Product Names)                          |    1 | 0.0006451613 |\n| Others (Please specify) (Product Names)                 |    1 | 0.0006451613 |\n| Display Screen (Product names)                          |    1 | 0.0006451613 |\n| Others (Please specify) (Product names)                 |    1 | 0.0006451613 |\n\n",
            "text/html": [
              "<table class=\"dataframe\">\n",
              "<caption>A tabyl: 18 × 3</caption>\n",
              "<thead>\n",
              "\t<tr><th scope=col>df_urdu_features$answer</th><th scope=col>n</th><th scope=col>percent</th></tr>\n",
              "\t<tr><th scope=col>&lt;fct&gt;</th><th scope=col>&lt;dbl&gt;</th><th scope=col>&lt;dbl&gt;</th></tr>\n",
              "</thead>\n",
              "<tbody>\n",
              "\t<tr><td>Others (Please specify) (Everything in both languages )</td><td>   1</td><td>0.0006451613</td></tr>\n",
              "\t<tr><td>Display Screen                                         </td><td> 419</td><td>0.2703225806</td></tr>\n",
              "\t<tr><td>Slips or Receipts                                      </td><td>1093</td><td>0.7051612903</td></tr>\n",
              "\t<tr><td>Others (Please specify) (Don't want)                   </td><td>   1</td><td>0.0006451613</td></tr>\n",
              "\t<tr><td>Others (Please specify) (No intrested)                 </td><td>   1</td><td>0.0006451613</td></tr>\n",
              "\t<tr><td>Slips or Receipts (No intrested)                       </td><td>   1</td><td>0.0006451613</td></tr>\n",
              "\t<tr><td>Others (Please specify) (No)                           </td><td>   1</td><td>0.0006451613</td></tr>\n",
              "\t<tr><td>-                                                      </td><td>  13</td><td>0.0083870968</td></tr>\n",
              "\t<tr><td>Others (Please specify) (Dont want to use )            </td><td>   1</td><td>0.0006451613</td></tr>\n",
              "\t<tr><td>Others (Please specify) (Product name)                 </td><td>   7</td><td>0.0045161290</td></tr>\n",
              "\t<tr><td>Display Screen (Product name)                          </td><td>   5</td><td>0.0032258065</td></tr>\n",
              "\t<tr><td>Others (Please specify) (Items name)                   </td><td>   1</td><td>0.0006451613</td></tr>\n",
              "\t<tr><td>Slips or Receipts (Items name)                         </td><td>   1</td><td>0.0006451613</td></tr>\n",
              "\t<tr><td>Slips or Receipts (Product name)                       </td><td>   1</td><td>0.0006451613</td></tr>\n",
              "\t<tr><td>Display Screen (Product Names)                         </td><td>   1</td><td>0.0006451613</td></tr>\n",
              "\t<tr><td>Others (Please specify) (Product Names)                </td><td>   1</td><td>0.0006451613</td></tr>\n",
              "\t<tr><td>Display Screen (Product names)                         </td><td>   1</td><td>0.0006451613</td></tr>\n",
              "\t<tr><td>Others (Please specify) (Product names)                </td><td>   1</td><td>0.0006451613</td></tr>\n",
              "</tbody>\n",
              "</table>\n"
            ]
          },
          "metadata": {
            "tags": []
          }
        }
      ]
    },
    {
      "cell_type": "code",
      "metadata": {
        "colab": {
          "base_uri": "https://localhost:8080/",
          "height": 153
        },
        "id": "8s2b9lOGIQx2",
        "outputId": "ae0a03c2-2a33-48ca-b424-249ffba6722c"
      },
      "source": [
        "levels(df_urdu_features$answer)"
      ],
      "execution_count": 111,
      "outputs": [
        {
          "output_type": "display_data",
          "data": {
            "text/plain": [
              " [1] \"Others (Please specify) (Everything in both languages )\"\n",
              " [2] \"Display Screen\"                                         \n",
              " [3] \"Slips or Receipts\"                                      \n",
              " [4] \"Others (Please specify) (Don't want)\"                   \n",
              " [5] \"Others (Please specify) (No intrested)\"                 \n",
              " [6] \"Slips or Receipts (No intrested)\"                       \n",
              " [7] \"Others (Please specify) (No)\"                           \n",
              " [8] \"-\"                                                      \n",
              " [9] \"Others (Please specify) (Dont want to use )\"            \n",
              "[10] \"Others (Please specify) (Product name)\"                 \n",
              "[11] \"Display Screen (Product name)\"                          \n",
              "[12] \"Others (Please specify) (Items name)\"                   \n",
              "[13] \"Slips or Receipts (Items name)\"                         \n",
              "[14] \"Slips or Receipts (Product name)\"                       \n",
              "[15] \"Display Screen (Product Names)\"                         \n",
              "[16] \"Others (Please specify) (Product Names)\"                \n",
              "[17] \"Display Screen (Product names)\"                         \n",
              "[18] \"Others (Please specify) (Product names)\"                "
            ],
            "text/latex": "\\begin{enumerate*}\n\\item 'Others (Please specify) (Everything in both languages )'\n\\item 'Display Screen'\n\\item 'Slips or Receipts'\n\\item 'Others (Please specify) (Don\\textbackslash{}'t want)'\n\\item 'Others (Please specify) (No intrested)'\n\\item 'Slips or Receipts (No intrested)'\n\\item 'Others (Please specify) (No)'\n\\item '-'\n\\item 'Others (Please specify) (Dont want to use )'\n\\item 'Others (Please specify) (Product name)'\n\\item 'Display Screen (Product name)'\n\\item 'Others (Please specify) (Items name)'\n\\item 'Slips or Receipts (Items name)'\n\\item 'Slips or Receipts (Product name)'\n\\item 'Display Screen (Product Names)'\n\\item 'Others (Please specify) (Product Names)'\n\\item 'Display Screen (Product names)'\n\\item 'Others (Please specify) (Product names)'\n\\end{enumerate*}\n",
            "text/markdown": "1. 'Others (Please specify) (Everything in both languages )'\n2. 'Display Screen'\n3. 'Slips or Receipts'\n4. 'Others (Please specify) (Don\\'t want)'\n5. 'Others (Please specify) (No intrested)'\n6. 'Slips or Receipts (No intrested)'\n7. 'Others (Please specify) (No)'\n8. '-'\n9. 'Others (Please specify) (Dont want to use )'\n10. 'Others (Please specify) (Product name)'\n11. 'Display Screen (Product name)'\n12. 'Others (Please specify) (Items name)'\n13. 'Slips or Receipts (Items name)'\n14. 'Slips or Receipts (Product name)'\n15. 'Display Screen (Product Names)'\n16. 'Others (Please specify) (Product Names)'\n17. 'Display Screen (Product names)'\n18. 'Others (Please specify) (Product names)'\n\n\n",
            "text/html": [
              "<style>\n",
              ".list-inline {list-style: none; margin:0; padding: 0}\n",
              ".list-inline>li {display: inline-block}\n",
              ".list-inline>li:not(:last-child)::after {content: \"\\00b7\"; padding: 0 .5ex}\n",
              "</style>\n",
              "<ol class=list-inline><li>'Others (Please specify) (Everything in both languages )'</li><li>'Display Screen'</li><li>'Slips or Receipts'</li><li>'Others (Please specify) (Don\\'t want)'</li><li>'Others (Please specify) (No intrested)'</li><li>'Slips or Receipts (No intrested)'</li><li>'Others (Please specify) (No)'</li><li>'-'</li><li>'Others (Please specify) (Dont want to use )'</li><li>'Others (Please specify) (Product name)'</li><li>'Display Screen (Product name)'</li><li>'Others (Please specify) (Items name)'</li><li>'Slips or Receipts (Items name)'</li><li>'Slips or Receipts (Product name)'</li><li>'Display Screen (Product Names)'</li><li>'Others (Please specify) (Product Names)'</li><li>'Display Screen (Product names)'</li><li>'Others (Please specify) (Product names)'</li></ol>\n"
            ]
          },
          "metadata": {
            "tags": []
          }
        }
      ]
    },
    {
      "cell_type": "markdown",
      "metadata": {
        "id": "3iYzu1JoH7Uh"
      },
      "source": [
        "Change the value of levels"
      ]
    },
    {
      "cell_type": "code",
      "metadata": {
        "id": "n-oiUPsxIU95"
      },
      "source": [
        "df_urdu_features <- df_urdu_features %>% \n",
        "   mutate (answer = fct_recode(df_urdu_features$answer, \n",
        "   'No ANS' = '-',\n",
        "   'Display Screen' = 'Others (Please specify) (Product name)',\n",
        "   'Display Screen' = 'Display Screen (Product name)',\n",
        "   'Display Screen' = 'Others (Please specify) (Items name)',\n",
        "   'Display Screen' = 'Slips or Receipts (Items name)',\n",
        "   'Display Screen' = 'Slips or Receipts (Product name)',\n",
        "   'Display Screen' = 'Display Screen (Product Names)',\n",
        "   'Display Screen' = 'Others (Please specify) (Product Names)',\n",
        "   'Display Screen' = 'Display Screen (Product names)',\n",
        "   'Display Screen' = 'Others (Please specify) (Product names)',\n",
        "   #'Slips or Receipts' = ,\n",
        "   'No Urdu Features' = 'Others (Please specify) (Don\\'t want)',\n",
        "   'No Urdu Features' = 'Others (Please specify) (No intrested)',\n",
        "   'No Urdu Features' = 'Slips or Receipts (No intrested)',\n",
        "   'No Urdu Features' = 'Others (Please specify) (Dont want to use )',\n",
        "   'No Urdu Features' = 'Others (Please specify) (No)',\n",
        "   'Everything in Both' = 'Others (Please specify) (Everything in both languages )' \n",
        "   ))"
      ],
      "execution_count": 112,
      "outputs": []
    },
    {
      "cell_type": "code",
      "metadata": {
        "colab": {
          "base_uri": "https://localhost:8080/",
          "height": 251
        },
        "id": "mjDHk8ZRH5Zg",
        "outputId": "a13a7fc7-b5ac-403e-be5c-300cc2a3df91"
      },
      "source": [
        "tabyl(df_urdu_features$answer)"
      ],
      "execution_count": 113,
      "outputs": [
        {
          "output_type": "display_data",
          "data": {
            "text/plain": [
              "  df_urdu_features$answer n    percent     \n",
              "1 Everything in Both         1 0.0006451613\n",
              "2 Display Screen           438 0.2825806452\n",
              "3 Slips or Receipts       1093 0.7051612903\n",
              "4 No Urdu Features           5 0.0032258065\n",
              "5 No ANS                    13 0.0083870968"
            ],
            "text/latex": "A tabyl: 5 × 3\n\\begin{tabular}{lll}\n df\\_urdu\\_features\\$answer & n & percent\\\\\n <fct> & <dbl> & <dbl>\\\\\n\\hline\n\t Everything in Both &    1 & 0.0006451613\\\\\n\t Display Screen     &  438 & 0.2825806452\\\\\n\t Slips or Receipts  & 1093 & 0.7051612903\\\\\n\t No Urdu Features   &    5 & 0.0032258065\\\\\n\t No ANS             &   13 & 0.0083870968\\\\\n\\end{tabular}\n",
            "text/markdown": "\nA tabyl: 5 × 3\n\n| df_urdu_features$answer &lt;fct&gt; | n &lt;dbl&gt; | percent &lt;dbl&gt; |\n|---|---|---|\n| Everything in Both |    1 | 0.0006451613 |\n| Display Screen     |  438 | 0.2825806452 |\n| Slips or Receipts  | 1093 | 0.7051612903 |\n| No Urdu Features   |    5 | 0.0032258065 |\n| No ANS             |   13 | 0.0083870968 |\n\n",
            "text/html": [
              "<table class=\"dataframe\">\n",
              "<caption>A tabyl: 5 × 3</caption>\n",
              "<thead>\n",
              "\t<tr><th scope=col>df_urdu_features$answer</th><th scope=col>n</th><th scope=col>percent</th></tr>\n",
              "\t<tr><th scope=col>&lt;fct&gt;</th><th scope=col>&lt;dbl&gt;</th><th scope=col>&lt;dbl&gt;</th></tr>\n",
              "</thead>\n",
              "<tbody>\n",
              "\t<tr><td>Everything in Both</td><td>   1</td><td>0.0006451613</td></tr>\n",
              "\t<tr><td>Display Screen    </td><td> 438</td><td>0.2825806452</td></tr>\n",
              "\t<tr><td>Slips or Receipts </td><td>1093</td><td>0.7051612903</td></tr>\n",
              "\t<tr><td>No Urdu Features  </td><td>   5</td><td>0.0032258065</td></tr>\n",
              "\t<tr><td>No ANS            </td><td>  13</td><td>0.0083870968</td></tr>\n",
              "</tbody>\n",
              "</table>\n"
            ]
          },
          "metadata": {
            "tags": []
          }
        }
      ]
    },
    {
      "cell_type": "markdown",
      "metadata": {
        "id": "2uBZZC-PKrSR"
      },
      "source": [
        "Change the order of levels"
      ]
    },
    {
      "cell_type": "code",
      "metadata": {
        "id": "wI9MvUB5KwoD"
      },
      "source": [
        "df_urdu_features <- \n",
        "    df_urdu_features %>%\n",
        "        mutate(answer = fct_infreq(answer))"
      ],
      "execution_count": 114,
      "outputs": []
    },
    {
      "cell_type": "code",
      "metadata": {
        "colab": {
          "base_uri": "https://localhost:8080/",
          "height": 251
        },
        "id": "XBD0mdHSK1Uz",
        "outputId": "60e8cb57-4f51-491e-de40-bba68a84d851"
      },
      "source": [
        "tabyl(df_urdu_features$answer)"
      ],
      "execution_count": 115,
      "outputs": [
        {
          "output_type": "display_data",
          "data": {
            "text/plain": [
              "  df_urdu_features$answer n    percent     \n",
              "1 Slips or Receipts       1093 0.7051612903\n",
              "2 Display Screen           438 0.2825806452\n",
              "3 No ANS                    13 0.0083870968\n",
              "4 No Urdu Features           5 0.0032258065\n",
              "5 Everything in Both         1 0.0006451613"
            ],
            "text/latex": "A tabyl: 5 × 3\n\\begin{tabular}{lll}\n df\\_urdu\\_features\\$answer & n & percent\\\\\n <fct> & <dbl> & <dbl>\\\\\n\\hline\n\t Slips or Receipts  & 1093 & 0.7051612903\\\\\n\t Display Screen     &  438 & 0.2825806452\\\\\n\t No ANS             &   13 & 0.0083870968\\\\\n\t No Urdu Features   &    5 & 0.0032258065\\\\\n\t Everything in Both &    1 & 0.0006451613\\\\\n\\end{tabular}\n",
            "text/markdown": "\nA tabyl: 5 × 3\n\n| df_urdu_features$answer &lt;fct&gt; | n &lt;dbl&gt; | percent &lt;dbl&gt; |\n|---|---|---|\n| Slips or Receipts  | 1093 | 0.7051612903 |\n| Display Screen     |  438 | 0.2825806452 |\n| No ANS             |   13 | 0.0083870968 |\n| No Urdu Features   |    5 | 0.0032258065 |\n| Everything in Both |    1 | 0.0006451613 |\n\n",
            "text/html": [
              "<table class=\"dataframe\">\n",
              "<caption>A tabyl: 5 × 3</caption>\n",
              "<thead>\n",
              "\t<tr><th scope=col>df_urdu_features$answer</th><th scope=col>n</th><th scope=col>percent</th></tr>\n",
              "\t<tr><th scope=col>&lt;fct&gt;</th><th scope=col>&lt;dbl&gt;</th><th scope=col>&lt;dbl&gt;</th></tr>\n",
              "</thead>\n",
              "<tbody>\n",
              "\t<tr><td>Slips or Receipts </td><td>1093</td><td>0.7051612903</td></tr>\n",
              "\t<tr><td>Display Screen    </td><td> 438</td><td>0.2825806452</td></tr>\n",
              "\t<tr><td>No ANS            </td><td>  13</td><td>0.0083870968</td></tr>\n",
              "\t<tr><td>No Urdu Features  </td><td>   5</td><td>0.0032258065</td></tr>\n",
              "\t<tr><td>Everything in Both</td><td>   1</td><td>0.0006451613</td></tr>\n",
              "</tbody>\n",
              "</table>\n"
            ]
          },
          "metadata": {
            "tags": []
          }
        }
      ]
    },
    {
      "cell_type": "markdown",
      "metadata": {
        "id": "wN9y8N_zHHzP"
      },
      "source": [
        "##### 1.17 ORG_REASON_TO_NOT_HAVE_POS"
      ]
    },
    {
      "cell_type": "markdown",
      "metadata": {
        "id": "LmBgKKHPPJ0h"
      },
      "source": [
        "Mess-up in naming - this question is 'Without POS' Survey\n",
        "\n",
        "To check"
      ]
    },
    {
      "cell_type": "code",
      "metadata": {
        "colab": {
          "base_uri": "https://localhost:8080/",
          "height": 313
        },
        "id": "k9hrYll7PRGi",
        "outputId": "a1d4a328-b6f9-4540-ee8b-5c641e94d886"
      },
      "source": [
        "tabyl(df_without_2$ORG_OUTLETS_COUNT)"
      ],
      "execution_count": 116,
      "outputs": [
        {
          "output_type": "display_data",
          "data": {
            "text/plain": [
              "  df_without_2$ORG_OUTLETS_COUNT n   percent    \n",
              "1 1                              994 0.821487603\n",
              "2 2                               54 0.044628099\n",
              "3 3                               69 0.057024793\n",
              "4 4                               50 0.041322314\n",
              "5 5                               36 0.029752066\n",
              "6 6 to 10                          3 0.002479339\n",
              "7 10+                              4 0.003305785"
            ],
            "text/latex": "A tabyl: 7 × 3\n\\begin{tabular}{lll}\n df\\_without\\_2\\$ORG\\_OUTLETS\\_COUNT & n & percent\\\\\n <fct> & <dbl> & <dbl>\\\\\n\\hline\n\t 1       & 994 & 0.821487603\\\\\n\t 2       &  54 & 0.044628099\\\\\n\t 3       &  69 & 0.057024793\\\\\n\t 4       &  50 & 0.041322314\\\\\n\t 5       &  36 & 0.029752066\\\\\n\t 6 to 10 &   3 & 0.002479339\\\\\n\t 10+     &   4 & 0.003305785\\\\\n\\end{tabular}\n",
            "text/markdown": "\nA tabyl: 7 × 3\n\n| df_without_2$ORG_OUTLETS_COUNT &lt;fct&gt; | n &lt;dbl&gt; | percent &lt;dbl&gt; |\n|---|---|---|\n| 1       | 994 | 0.821487603 |\n| 2       |  54 | 0.044628099 |\n| 3       |  69 | 0.057024793 |\n| 4       |  50 | 0.041322314 |\n| 5       |  36 | 0.029752066 |\n| 6 to 10 |   3 | 0.002479339 |\n| 10+     |   4 | 0.003305785 |\n\n",
            "text/html": [
              "<table class=\"dataframe\">\n",
              "<caption>A tabyl: 7 × 3</caption>\n",
              "<thead>\n",
              "\t<tr><th scope=col>df_without_2$ORG_OUTLETS_COUNT</th><th scope=col>n</th><th scope=col>percent</th></tr>\n",
              "\t<tr><th scope=col>&lt;fct&gt;</th><th scope=col>&lt;dbl&gt;</th><th scope=col>&lt;dbl&gt;</th></tr>\n",
              "</thead>\n",
              "<tbody>\n",
              "\t<tr><td>1      </td><td>994</td><td>0.821487603</td></tr>\n",
              "\t<tr><td>2      </td><td> 54</td><td>0.044628099</td></tr>\n",
              "\t<tr><td>3      </td><td> 69</td><td>0.057024793</td></tr>\n",
              "\t<tr><td>4      </td><td> 50</td><td>0.041322314</td></tr>\n",
              "\t<tr><td>5      </td><td> 36</td><td>0.029752066</td></tr>\n",
              "\t<tr><td>6 to 10</td><td>  3</td><td>0.002479339</td></tr>\n",
              "\t<tr><td>10+    </td><td>  4</td><td>0.003305785</td></tr>\n",
              "</tbody>\n",
              "</table>\n"
            ]
          },
          "metadata": {
            "tags": []
          }
        }
      ]
    },
    {
      "cell_type": "code",
      "metadata": {
        "colab": {
          "base_uri": "https://localhost:8080/",
          "height": 437
        },
        "id": "pGhvirwnPn2X",
        "outputId": "489692ae-8743-4bfd-db07-237b6a9630b7"
      },
      "source": [
        "g1 <- df_without_2 %>%\n",
        "    ggplot(aes(x = ORG_OUTLETS_COUNT)) +\n",
        "    geom_bar(aes(fill = ORG_OUTLETS_COUNT), position = \"dodge\") +\n",
        "    #facet_wrap(~ ORG_REGION)\n",
        "    facet_wrap(~ ORG_CITY)\n",
        "\n",
        "# bars are too little to add data labels\n",
        "g1 <- g1 + labs(x = \"ORGANIZATION TYPE\", y = \"COUNT\")\n",
        "g1 <- g1 + scale_fill_brewer(palette = \"Set2\") \n",
        "g1 <- g1 + theme_light()\n",
        "g1 <- g1 + theme(axis.text.x = element_text(angle = 90, vjust = 0.5, hjust=1))\n",
        "g1"
      ],
      "execution_count": 117,
      "outputs": [
        {
          "output_type": "display_data",
          "data": {
            "image/png": "[encoded data removed]",
            "text/plain": [
              "plot without title"
            ]
          },
          "metadata": {
            "tags": [],
            "image/png": {
              "width": 420,
              "height": 420
            }
          }
        }
      ]
    },
    {
      "cell_type": "code",
      "metadata": {
        "colab": {
          "base_uri": "https://localhost:8080/",
          "height": 735
        },
        "id": "upon-qtBLY9y",
        "outputId": "9ea761c6-b924-4ed3-9f86-4af6cdc9ae8c"
      },
      "source": [
        "tabyl(df_without_2$ORG_REASON_TO_NOT_HAVE_POS)"
      ],
      "execution_count": 118,
      "outputs": [
        {
          "output_type": "display_data",
          "data": {
            "text/plain": [
              "   df_without_2$ORG_REASON_TO_NOT_HAVE_POS                                              \n",
              "1  Do not want to spend money                                                           \n",
              "2  Do not want to spend money, I am happy with how my business is managed currently     \n",
              "3  I am happy with how my business is managed currently                                 \n",
              "4  I have reservations with technology                                                  \n",
              "5  It never crossed my mind to have such a system                                       \n",
              "6  Other (Please specify) (Because it is unbearable )                                   \n",
              "7  Other (Please specify) (Customer needs but never met the software seller)            \n",
              "8  Other (Please specify) (He need complete setup with all equipments)                  \n",
              "9  Other (Please specify) (He Need Someone who Manage Their Web Site and Facebook Page.)\n",
              "10 Other (Please specify) (He was already planing for POS)                              \n",
              "11 Other (Please specify) (I ma satisfy without this system)                            \n",
              "12 Other (Please specify) (I've never found any to get it from)                         \n",
              "13 Other (Please specify) (My brother is also a devloper)                               \n",
              "14 Other (Please specify) (Na)                                                          \n",
              "15 Other (Please specify) (No need)                                                     \n",
              "16 Other (Please specify) (No requirement)                                              \n",
              "17 Other (Please specify) (Not intetested)                                              \n",
              "18 Other (Please specify) (Not intrested)                                               \n",
              "19 Tax purposes                                                                         \n",
              "   n   percent     \n",
              "1   82 0.0677685950\n",
              "2    2 0.0016528926\n",
              "3  949 0.7842975207\n",
              "4   34 0.0280991736\n",
              "5  105 0.0867768595\n",
              "6    1 0.0008264463\n",
              "7    1 0.0008264463\n",
              "8    1 0.0008264463\n",
              "9    1 0.0008264463\n",
              "10   1 0.0008264463\n",
              "11   1 0.0008264463\n",
              "12   1 0.0008264463\n",
              "13   1 0.0008264463\n",
              "14   1 0.0008264463\n",
              "15   1 0.0008264463\n",
              "16   1 0.0008264463\n",
              "17   1 0.0008264463\n",
              "18   1 0.0008264463\n",
              "19  25 0.0206611570"
            ],
            "text/latex": "A tabyl: 19 × 3\n\\begin{tabular}{lll}\n df\\_without\\_2\\$ORG\\_REASON\\_TO\\_NOT\\_HAVE\\_POS & n & percent\\\\\n <fct> & <dbl> & <dbl>\\\\\n\\hline\n\t Do not want to spend money                                                            &  82 & 0.0677685950\\\\\n\t Do not want to spend money, I am happy with how my business is managed currently      &   2 & 0.0016528926\\\\\n\t I am happy with how my business is managed currently                                  & 949 & 0.7842975207\\\\\n\t I have reservations with technology                                                   &  34 & 0.0280991736\\\\\n\t It never crossed my mind to have such a system                                        & 105 & 0.0867768595\\\\\n\t Other (Please specify) (Because it is unbearable )                                    &   1 & 0.0008264463\\\\\n\t Other (Please specify) (Customer needs but never met the software seller)             &   1 & 0.0008264463\\\\\n\t Other (Please specify) (He need complete setup with all equipments)                   &   1 & 0.0008264463\\\\\n\t Other (Please specify) (He Need Someone who Manage Their Web Site and Facebook Page.) &   1 & 0.0008264463\\\\\n\t Other (Please specify) (He was already planing for POS)                               &   1 & 0.0008264463\\\\\n\t Other (Please specify) (I ma satisfy without this system)                             &   1 & 0.0008264463\\\\\n\t Other (Please specify) (I've never found any to get it from)                          &   1 & 0.0008264463\\\\\n\t Other (Please specify) (My brother is also a devloper)                                &   1 & 0.0008264463\\\\\n\t Other (Please specify) (Na)                                                           &   1 & 0.0008264463\\\\\n\t Other (Please specify) (No need)                                                      &   1 & 0.0008264463\\\\\n\t Other (Please specify) (No requirement)                                               &   1 & 0.0008264463\\\\\n\t Other (Please specify) (Not intetested)                                               &   1 & 0.0008264463\\\\\n\t Other (Please specify) (Not intrested)                                                &   1 & 0.0008264463\\\\\n\t Tax purposes                                                                          &  25 & 0.0206611570\\\\\n\\end{tabular}\n",
            "text/markdown": "\nA tabyl: 19 × 3\n\n| df_without_2$ORG_REASON_TO_NOT_HAVE_POS &lt;fct&gt; | n &lt;dbl&gt; | percent &lt;dbl&gt; |\n|---|---|---|\n| Do not want to spend money                                                            |  82 | 0.0677685950 |\n| Do not want to spend money, I am happy with how my business is managed currently      |   2 | 0.0016528926 |\n| I am happy with how my business is managed currently                                  | 949 | 0.7842975207 |\n| I have reservations with technology                                                   |  34 | 0.0280991736 |\n| It never crossed my mind to have such a system                                        | 105 | 0.0867768595 |\n| Other (Please specify) (Because it is unbearable )                                    |   1 | 0.0008264463 |\n| Other (Please specify) (Customer needs but never met the software seller)             |   1 | 0.0008264463 |\n| Other (Please specify) (He need complete setup with all equipments)                   |   1 | 0.0008264463 |\n| Other (Please specify) (He Need Someone who Manage Their Web Site and Facebook Page.) |   1 | 0.0008264463 |\n| Other (Please specify) (He was already planing for POS)                               |   1 | 0.0008264463 |\n| Other (Please specify) (I ma satisfy without this system)                             |   1 | 0.0008264463 |\n| Other (Please specify) (I've never found any to get it from)                          |   1 | 0.0008264463 |\n| Other (Please specify) (My brother is also a devloper)                                |   1 | 0.0008264463 |\n| Other (Please specify) (Na)                                                           |   1 | 0.0008264463 |\n| Other (Please specify) (No need)                                                      |   1 | 0.0008264463 |\n| Other (Please specify) (No requirement)                                               |   1 | 0.0008264463 |\n| Other (Please specify) (Not intetested)                                               |   1 | 0.0008264463 |\n| Other (Please specify) (Not intrested)                                                |   1 | 0.0008264463 |\n| Tax purposes                                                                          |  25 | 0.0206611570 |\n\n",
            "text/html": [
              "<table class=\"dataframe\">\n",
              "<caption>A tabyl: 19 × 3</caption>\n",
              "<thead>\n",
              "\t<tr><th scope=col>df_without_2$ORG_REASON_TO_NOT_HAVE_POS</th><th scope=col>n</th><th scope=col>percent</th></tr>\n",
              "\t<tr><th scope=col>&lt;fct&gt;</th><th scope=col>&lt;dbl&gt;</th><th scope=col>&lt;dbl&gt;</th></tr>\n",
              "</thead>\n",
              "<tbody>\n",
              "\t<tr><td>Do not want to spend money                                                           </td><td> 82</td><td>0.0677685950</td></tr>\n",
              "\t<tr><td>Do not want to spend money, I am happy with how my business is managed currently     </td><td>  2</td><td>0.0016528926</td></tr>\n",
              "\t<tr><td>I am happy with how my business is managed currently                                 </td><td>949</td><td>0.7842975207</td></tr>\n",
              "\t<tr><td>I have reservations with technology                                                  </td><td> 34</td><td>0.0280991736</td></tr>\n",
              "\t<tr><td>It never crossed my mind to have such a system                                       </td><td>105</td><td>0.0867768595</td></tr>\n",
              "\t<tr><td>Other (Please specify) (Because it is unbearable )                                   </td><td>  1</td><td>0.0008264463</td></tr>\n",
              "\t<tr><td>Other (Please specify) (Customer needs but never met the software seller)            </td><td>  1</td><td>0.0008264463</td></tr>\n",
              "\t<tr><td>Other (Please specify) (He need complete setup with all equipments)                  </td><td>  1</td><td>0.0008264463</td></tr>\n",
              "\t<tr><td>Other (Please specify) (He Need Someone who Manage Their Web Site and Facebook Page.)</td><td>  1</td><td>0.0008264463</td></tr>\n",
              "\t<tr><td>Other (Please specify) (He was already planing for POS)                              </td><td>  1</td><td>0.0008264463</td></tr>\n",
              "\t<tr><td>Other (Please specify) (I ma satisfy without this system)                            </td><td>  1</td><td>0.0008264463</td></tr>\n",
              "\t<tr><td>Other (Please specify) (I've never found any to get it from)                         </td><td>  1</td><td>0.0008264463</td></tr>\n",
              "\t<tr><td>Other (Please specify) (My brother is also a devloper)                               </td><td>  1</td><td>0.0008264463</td></tr>\n",
              "\t<tr><td>Other (Please specify) (Na)                                                          </td><td>  1</td><td>0.0008264463</td></tr>\n",
              "\t<tr><td>Other (Please specify) (No need)                                                     </td><td>  1</td><td>0.0008264463</td></tr>\n",
              "\t<tr><td>Other (Please specify) (No requirement)                                              </td><td>  1</td><td>0.0008264463</td></tr>\n",
              "\t<tr><td>Other (Please specify) (Not intetested)                                              </td><td>  1</td><td>0.0008264463</td></tr>\n",
              "\t<tr><td>Other (Please specify) (Not intrested)                                               </td><td>  1</td><td>0.0008264463</td></tr>\n",
              "\t<tr><td>Tax purposes                                                                         </td><td> 25</td><td>0.0206611570</td></tr>\n",
              "</tbody>\n",
              "</table>\n"
            ]
          },
          "metadata": {
            "tags": []
          }
        }
      ]
    },
    {
      "cell_type": "markdown",
      "metadata": {
        "id": "e85dsUBJRZUS"
      },
      "source": [
        "Mess Up - \n",
        "\n",
        "*Renaming: Survey_Data_Analysis_v10* as Analysis_Without_v01"
      ]
    },
    {
      "cell_type": "markdown",
      "metadata": {
        "id": "LX1y2M6TSYA2"
      },
      "source": [
        "###### ... picking up the analysis again from here ..."
      ]
    },
    {
      "cell_type": "code",
      "metadata": {
        "colab": {
          "base_uri": "https://localhost:8080/",
          "height": 256
        },
        "id": "0zBB4egtRk5o",
        "outputId": "a5de2b01-e61a-48fd-cd2b-89b5b963ffca"
      },
      "source": [
        "levels(df_without_2$ORG_REASON_TO_NOT_HAVE_POS)"
      ],
      "execution_count": 119,
      "outputs": [
        {
          "output_type": "display_data",
          "data": {
            "text/plain": [
              " [1] \"Do not want to spend money\"                                                           \n",
              " [2] \"Do not want to spend money, I am happy with how my business is managed currently\"     \n",
              " [3] \"I am happy with how my business is managed currently\"                                 \n",
              " [4] \"I have reservations with technology\"                                                  \n",
              " [5] \"It never crossed my mind to have such a system\"                                       \n",
              " [6] \"Other (Please specify) (Because it is unbearable )\"                                   \n",
              " [7] \"Other (Please specify) (Customer needs but never met the software seller)\"            \n",
              " [8] \"Other (Please specify) (He need complete setup with all equipments)\"                  \n",
              " [9] \"Other (Please specify) (He Need Someone who Manage Their Web Site and Facebook Page.)\"\n",
              "[10] \"Other (Please specify) (He was already planing for POS)\"                              \n",
              "[11] \"Other (Please specify) (I ma satisfy without this system)\"                            \n",
              "[12] \"Other (Please specify) (I've never found any to get it from)\"                         \n",
              "[13] \"Other (Please specify) (My brother is also a devloper)\"                               \n",
              "[14] \"Other (Please specify) (Na)\"                                                          \n",
              "[15] \"Other (Please specify) (No need)\"                                                     \n",
              "[16] \"Other (Please specify) (No requirement)\"                                              \n",
              "[17] \"Other (Please specify) (Not intetested)\"                                              \n",
              "[18] \"Other (Please specify) (Not intrested)\"                                               \n",
              "[19] \"Tax purposes\"                                                                         "
            ],
            "text/latex": "\\begin{enumerate*}\n\\item 'Do not want to spend money'\n\\item 'Do not want to spend money, I am happy with how my business is managed currently'\n\\item 'I am happy with how my business is managed currently'\n\\item 'I have reservations with technology'\n\\item 'It never crossed my mind to have such a system'\n\\item 'Other (Please specify) (Because it is unbearable )'\n\\item 'Other (Please specify) (Customer needs but never met the software seller)'\n\\item 'Other (Please specify) (He need complete setup with all equipments)'\n\\item 'Other (Please specify) (He Need Someone who Manage Their Web Site and Facebook Page.)'\n\\item 'Other (Please specify) (He was already planing for POS)'\n\\item 'Other (Please specify) (I ma satisfy without this system)'\n\\item 'Other (Please specify) (I\\textbackslash{}'ve never found any to get it from)'\n\\item 'Other (Please specify) (My brother is also a devloper)'\n\\item 'Other (Please specify) (Na)'\n\\item 'Other (Please specify) (No need)'\n\\item 'Other (Please specify) (No requirement)'\n\\item 'Other (Please specify) (Not intetested)'\n\\item 'Other (Please specify) (Not intrested)'\n\\item 'Tax purposes'\n\\end{enumerate*}\n",
            "text/markdown": "1. 'Do not want to spend money'\n2. 'Do not want to spend money, I am happy with how my business is managed currently'\n3. 'I am happy with how my business is managed currently'\n4. 'I have reservations with technology'\n5. 'It never crossed my mind to have such a system'\n6. 'Other (Please specify) (Because it is unbearable )'\n7. 'Other (Please specify) (Customer needs but never met the software seller)'\n8. 'Other (Please specify) (He need complete setup with all equipments)'\n9. 'Other (Please specify) (He Need Someone who Manage Their Web Site and Facebook Page.)'\n10. 'Other (Please specify) (He was already planing for POS)'\n11. 'Other (Please specify) (I ma satisfy without this system)'\n12. 'Other (Please specify) (I\\'ve never found any to get it from)'\n13. 'Other (Please specify) (My brother is also a devloper)'\n14. 'Other (Please specify) (Na)'\n15. 'Other (Please specify) (No need)'\n16. 'Other (Please specify) (No requirement)'\n17. 'Other (Please specify) (Not intetested)'\n18. 'Other (Please specify) (Not intrested)'\n19. 'Tax purposes'\n\n\n",
            "text/html": [
              "<style>\n",
              ".list-inline {list-style: none; margin:0; padding: 0}\n",
              ".list-inline>li {display: inline-block}\n",
              ".list-inline>li:not(:last-child)::after {content: \"\\00b7\"; padding: 0 .5ex}\n",
              "</style>\n",
              "<ol class=list-inline><li>'Do not want to spend money'</li><li>'Do not want to spend money, I am happy with how my business is managed currently'</li><li>'I am happy with how my business is managed currently'</li><li>'I have reservations with technology'</li><li>'It never crossed my mind to have such a system'</li><li>'Other (Please specify) (Because it is unbearable )'</li><li>'Other (Please specify) (Customer needs but never met the software seller)'</li><li>'Other (Please specify) (He need complete setup with all equipments)'</li><li>'Other (Please specify) (He Need Someone who Manage Their Web Site and Facebook Page.)'</li><li>'Other (Please specify) (He was already planing for POS)'</li><li>'Other (Please specify) (I ma satisfy without this system)'</li><li>'Other (Please specify) (I\\'ve never found any to get it from)'</li><li>'Other (Please specify) (My brother is also a devloper)'</li><li>'Other (Please specify) (Na)'</li><li>'Other (Please specify) (No need)'</li><li>'Other (Please specify) (No requirement)'</li><li>'Other (Please specify) (Not intetested)'</li><li>'Other (Please specify) (Not intrested)'</li><li>'Tax purposes'</li></ol>\n"
            ]
          },
          "metadata": {
            "tags": []
          }
        }
      ]
    },
    {
      "cell_type": "markdown",
      "metadata": {
        "id": "FQ7zgsCOSTn9"
      },
      "source": [
        "Multiple Response - here"
      ]
    },
    {
      "cell_type": "code",
      "metadata": {
        "colab": {
          "base_uri": "https://localhost:8080/"
        },
        "id": "foKiIsejShnv",
        "outputId": "07ca411c-9fe7-4039-9a50-4f03df111cf0"
      },
      "source": [
        "df_without_2 %>%\n",
        "    dplyr::select(RESP_ID, ORG_REASON_TO_NOT_HAVE_POS) %>%\n",
        "    tidyr::gather(ORG_REASON_TO_NOT_HAVE_POS, answer, -RESP_ID) %>%\n",
        "    dplyr::filter(!is.na(answer)) %>%\n",
        "    tidyr::unnest(answer = stringr::str_split(answer, \", \")) -> df_reasons_to_not_have_pos"
      ],
      "execution_count": 120,
      "outputs": [
        {
          "output_type": "stream",
          "text": [
            "Warning message:\n",
            "“unnest() has a new interface. See ?unnest for details.\n",
            "Try `df %>% unnest(c(answer))`, with `mutate()` if needed”\n"
          ],
          "name": "stderr"
        }
      ]
    },
    {
      "cell_type": "code",
      "metadata": {
        "colab": {
          "base_uri": "https://localhost:8080/",
          "height": 687
        },
        "id": "WjFOVdSJSq1G",
        "outputId": "55abe974-2c12-43a4-907c-c403e568c01a"
      },
      "source": [
        "tabyl(df_reasons_to_not_have_pos$answer)"
      ],
      "execution_count": 121,
      "outputs": [
        {
          "output_type": "display_data",
          "data": {
            "text/plain": [
              "   df_reasons_to_not_have_pos$answer                                                    \n",
              "1  Do not want to spend money                                                           \n",
              "2  I am happy with how my business is managed currently                                 \n",
              "3  I have reservations with technology                                                  \n",
              "4  It never crossed my mind to have such a system                                       \n",
              "5  Other (Please specify) (Because it is unbearable )                                   \n",
              "6  Other (Please specify) (Customer needs but never met the software seller)            \n",
              "7  Other (Please specify) (He need complete setup with all equipments)                  \n",
              "8  Other (Please specify) (He Need Someone who Manage Their Web Site and Facebook Page.)\n",
              "9  Other (Please specify) (He was already planing for POS)                              \n",
              "10 Other (Please specify) (I ma satisfy without this system)                            \n",
              "11 Other (Please specify) (I've never found any to get it from)                         \n",
              "12 Other (Please specify) (My brother is also a devloper)                               \n",
              "13 Other (Please specify) (Na)                                                          \n",
              "14 Other (Please specify) (No need)                                                     \n",
              "15 Other (Please specify) (No requirement)                                              \n",
              "16 Other (Please specify) (Not intetested)                                              \n",
              "17 Other (Please specify) (Not intrested)                                               \n",
              "18 Tax purposes                                                                         \n",
              "   n   percent     \n",
              "1   84 0.0693069307\n",
              "2  951 0.7846534653\n",
              "3   34 0.0280528053\n",
              "4  105 0.0866336634\n",
              "5    1 0.0008250825\n",
              "6    1 0.0008250825\n",
              "7    1 0.0008250825\n",
              "8    1 0.0008250825\n",
              "9    1 0.0008250825\n",
              "10   1 0.0008250825\n",
              "11   1 0.0008250825\n",
              "12   1 0.0008250825\n",
              "13   1 0.0008250825\n",
              "14   1 0.0008250825\n",
              "15   1 0.0008250825\n",
              "16   1 0.0008250825\n",
              "17   1 0.0008250825\n",
              "18  25 0.0206270627"
            ],
            "text/latex": "A tabyl: 18 × 3\n\\begin{tabular}{lll}\n df\\_reasons\\_to\\_not\\_have\\_pos\\$answer & n & percent\\\\\n <chr> & <dbl> & <dbl>\\\\\n\\hline\n\t Do not want to spend money                                                            &  84 & 0.0693069307\\\\\n\t I am happy with how my business is managed currently                                  & 951 & 0.7846534653\\\\\n\t I have reservations with technology                                                   &  34 & 0.0280528053\\\\\n\t It never crossed my mind to have such a system                                        & 105 & 0.0866336634\\\\\n\t Other (Please specify) (Because it is unbearable )                                    &   1 & 0.0008250825\\\\\n\t Other (Please specify) (Customer needs but never met the software seller)             &   1 & 0.0008250825\\\\\n\t Other (Please specify) (He need complete setup with all equipments)                   &   1 & 0.0008250825\\\\\n\t Other (Please specify) (He Need Someone who Manage Their Web Site and Facebook Page.) &   1 & 0.0008250825\\\\\n\t Other (Please specify) (He was already planing for POS)                               &   1 & 0.0008250825\\\\\n\t Other (Please specify) (I ma satisfy without this system)                             &   1 & 0.0008250825\\\\\n\t Other (Please specify) (I've never found any to get it from)                          &   1 & 0.0008250825\\\\\n\t Other (Please specify) (My brother is also a devloper)                                &   1 & 0.0008250825\\\\\n\t Other (Please specify) (Na)                                                           &   1 & 0.0008250825\\\\\n\t Other (Please specify) (No need)                                                      &   1 & 0.0008250825\\\\\n\t Other (Please specify) (No requirement)                                               &   1 & 0.0008250825\\\\\n\t Other (Please specify) (Not intetested)                                               &   1 & 0.0008250825\\\\\n\t Other (Please specify) (Not intrested)                                                &   1 & 0.0008250825\\\\\n\t Tax purposes                                                                          &  25 & 0.0206270627\\\\\n\\end{tabular}\n",
            "text/markdown": "\nA tabyl: 18 × 3\n\n| df_reasons_to_not_have_pos$answer &lt;chr&gt; | n &lt;dbl&gt; | percent &lt;dbl&gt; |\n|---|---|---|\n| Do not want to spend money                                                            |  84 | 0.0693069307 |\n| I am happy with how my business is managed currently                                  | 951 | 0.7846534653 |\n| I have reservations with technology                                                   |  34 | 0.0280528053 |\n| It never crossed my mind to have such a system                                        | 105 | 0.0866336634 |\n| Other (Please specify) (Because it is unbearable )                                    |   1 | 0.0008250825 |\n| Other (Please specify) (Customer needs but never met the software seller)             |   1 | 0.0008250825 |\n| Other (Please specify) (He need complete setup with all equipments)                   |   1 | 0.0008250825 |\n| Other (Please specify) (He Need Someone who Manage Their Web Site and Facebook Page.) |   1 | 0.0008250825 |\n| Other (Please specify) (He was already planing for POS)                               |   1 | 0.0008250825 |\n| Other (Please specify) (I ma satisfy without this system)                             |   1 | 0.0008250825 |\n| Other (Please specify) (I've never found any to get it from)                          |   1 | 0.0008250825 |\n| Other (Please specify) (My brother is also a devloper)                                |   1 | 0.0008250825 |\n| Other (Please specify) (Na)                                                           |   1 | 0.0008250825 |\n| Other (Please specify) (No need)                                                      |   1 | 0.0008250825 |\n| Other (Please specify) (No requirement)                                               |   1 | 0.0008250825 |\n| Other (Please specify) (Not intetested)                                               |   1 | 0.0008250825 |\n| Other (Please specify) (Not intrested)                                                |   1 | 0.0008250825 |\n| Tax purposes                                                                          |  25 | 0.0206270627 |\n\n",
            "text/html": [
              "<table class=\"dataframe\">\n",
              "<caption>A tabyl: 18 × 3</caption>\n",
              "<thead>\n",
              "\t<tr><th scope=col>df_reasons_to_not_have_pos$answer</th><th scope=col>n</th><th scope=col>percent</th></tr>\n",
              "\t<tr><th scope=col>&lt;chr&gt;</th><th scope=col>&lt;dbl&gt;</th><th scope=col>&lt;dbl&gt;</th></tr>\n",
              "</thead>\n",
              "<tbody>\n",
              "\t<tr><td>Do not want to spend money                                                           </td><td> 84</td><td>0.0693069307</td></tr>\n",
              "\t<tr><td>I am happy with how my business is managed currently                                 </td><td>951</td><td>0.7846534653</td></tr>\n",
              "\t<tr><td>I have reservations with technology                                                  </td><td> 34</td><td>0.0280528053</td></tr>\n",
              "\t<tr><td>It never crossed my mind to have such a system                                       </td><td>105</td><td>0.0866336634</td></tr>\n",
              "\t<tr><td>Other (Please specify) (Because it is unbearable )                                   </td><td>  1</td><td>0.0008250825</td></tr>\n",
              "\t<tr><td>Other (Please specify) (Customer needs but never met the software seller)            </td><td>  1</td><td>0.0008250825</td></tr>\n",
              "\t<tr><td>Other (Please specify) (He need complete setup with all equipments)                  </td><td>  1</td><td>0.0008250825</td></tr>\n",
              "\t<tr><td>Other (Please specify) (He Need Someone who Manage Their Web Site and Facebook Page.)</td><td>  1</td><td>0.0008250825</td></tr>\n",
              "\t<tr><td>Other (Please specify) (He was already planing for POS)                              </td><td>  1</td><td>0.0008250825</td></tr>\n",
              "\t<tr><td>Other (Please specify) (I ma satisfy without this system)                            </td><td>  1</td><td>0.0008250825</td></tr>\n",
              "\t<tr><td>Other (Please specify) (I've never found any to get it from)                         </td><td>  1</td><td>0.0008250825</td></tr>\n",
              "\t<tr><td>Other (Please specify) (My brother is also a devloper)                               </td><td>  1</td><td>0.0008250825</td></tr>\n",
              "\t<tr><td>Other (Please specify) (Na)                                                          </td><td>  1</td><td>0.0008250825</td></tr>\n",
              "\t<tr><td>Other (Please specify) (No need)                                                     </td><td>  1</td><td>0.0008250825</td></tr>\n",
              "\t<tr><td>Other (Please specify) (No requirement)                                              </td><td>  1</td><td>0.0008250825</td></tr>\n",
              "\t<tr><td>Other (Please specify) (Not intetested)                                              </td><td>  1</td><td>0.0008250825</td></tr>\n",
              "\t<tr><td>Other (Please specify) (Not intrested)                                               </td><td>  1</td><td>0.0008250825</td></tr>\n",
              "\t<tr><td>Tax purposes                                                                         </td><td> 25</td><td>0.0206270627</td></tr>\n",
              "</tbody>\n",
              "</table>\n"
            ]
          },
          "metadata": {
            "tags": []
          }
        }
      ]
    },
    {
      "cell_type": "markdown",
      "metadata": {
        "id": "HNQF2jVVS_Ru"
      },
      "source": [
        "Converting from CHR to FACTOR"
      ]
    },
    {
      "cell_type": "code",
      "metadata": {
        "id": "ToUFW-EJTETQ"
      },
      "source": [
        "df_reasons_to_not_have_pos$answer %>% \n",
        "factor() %>% \n",
        "fct_inorder() -> df_reasons_to_not_have_pos$answer"
      ],
      "execution_count": 122,
      "outputs": []
    },
    {
      "cell_type": "code",
      "metadata": {
        "colab": {
          "base_uri": "https://localhost:8080/",
          "height": 687
        },
        "id": "pj5MNs6LVCo2",
        "outputId": "367b29e5-9758-4667-988d-436bcc3efd8e"
      },
      "source": [
        "tabyl(df_reasons_to_not_have_pos$answer)"
      ],
      "execution_count": 123,
      "outputs": [
        {
          "output_type": "display_data",
          "data": {
            "text/plain": [
              "   df_reasons_to_not_have_pos$answer                                                    \n",
              "1  I am happy with how my business is managed currently                                 \n",
              "2  Tax purposes                                                                         \n",
              "3  Do not want to spend money                                                           \n",
              "4  Other (Please specify) (I ma satisfy without this system)                            \n",
              "5  Other (Please specify) (Not intrested)                                               \n",
              "6  I have reservations with technology                                                  \n",
              "7  It never crossed my mind to have such a system                                       \n",
              "8  Other (Please specify) (Because it is unbearable )                                   \n",
              "9  Other (Please specify) (He was already planing for POS)                              \n",
              "10 Other (Please specify) (No requirement)                                              \n",
              "11 Other (Please specify) (My brother is also a devloper)                               \n",
              "12 Other (Please specify) (No need)                                                     \n",
              "13 Other (Please specify) (Na)                                                          \n",
              "14 Other (Please specify) (Not intetested)                                              \n",
              "15 Other (Please specify) (I've never found any to get it from)                         \n",
              "16 Other (Please specify) (He Need Someone who Manage Their Web Site and Facebook Page.)\n",
              "17 Other (Please specify) (Customer needs but never met the software seller)            \n",
              "18 Other (Please specify) (He need complete setup with all equipments)                  \n",
              "   n   percent     \n",
              "1  951 0.7846534653\n",
              "2   25 0.0206270627\n",
              "3   84 0.0693069307\n",
              "4    1 0.0008250825\n",
              "5    1 0.0008250825\n",
              "6   34 0.0280528053\n",
              "7  105 0.0866336634\n",
              "8    1 0.0008250825\n",
              "9    1 0.0008250825\n",
              "10   1 0.0008250825\n",
              "11   1 0.0008250825\n",
              "12   1 0.0008250825\n",
              "13   1 0.0008250825\n",
              "14   1 0.0008250825\n",
              "15   1 0.0008250825\n",
              "16   1 0.0008250825\n",
              "17   1 0.0008250825\n",
              "18   1 0.0008250825"
            ],
            "text/latex": "A tabyl: 18 × 3\n\\begin{tabular}{lll}\n df\\_reasons\\_to\\_not\\_have\\_pos\\$answer & n & percent\\\\\n <fct> & <dbl> & <dbl>\\\\\n\\hline\n\t I am happy with how my business is managed currently                                  & 951 & 0.7846534653\\\\\n\t Tax purposes                                                                          &  25 & 0.0206270627\\\\\n\t Do not want to spend money                                                            &  84 & 0.0693069307\\\\\n\t Other (Please specify) (I ma satisfy without this system)                             &   1 & 0.0008250825\\\\\n\t Other (Please specify) (Not intrested)                                                &   1 & 0.0008250825\\\\\n\t I have reservations with technology                                                   &  34 & 0.0280528053\\\\\n\t It never crossed my mind to have such a system                                        & 105 & 0.0866336634\\\\\n\t Other (Please specify) (Because it is unbearable )                                    &   1 & 0.0008250825\\\\\n\t Other (Please specify) (He was already planing for POS)                               &   1 & 0.0008250825\\\\\n\t Other (Please specify) (No requirement)                                               &   1 & 0.0008250825\\\\\n\t Other (Please specify) (My brother is also a devloper)                                &   1 & 0.0008250825\\\\\n\t Other (Please specify) (No need)                                                      &   1 & 0.0008250825\\\\\n\t Other (Please specify) (Na)                                                           &   1 & 0.0008250825\\\\\n\t Other (Please specify) (Not intetested)                                               &   1 & 0.0008250825\\\\\n\t Other (Please specify) (I've never found any to get it from)                          &   1 & 0.0008250825\\\\\n\t Other (Please specify) (He Need Someone who Manage Their Web Site and Facebook Page.) &   1 & 0.0008250825\\\\\n\t Other (Please specify) (Customer needs but never met the software seller)             &   1 & 0.0008250825\\\\\n\t Other (Please specify) (He need complete setup with all equipments)                   &   1 & 0.0008250825\\\\\n\\end{tabular}\n",
            "text/markdown": "\nA tabyl: 18 × 3\n\n| df_reasons_to_not_have_pos$answer &lt;fct&gt; | n &lt;dbl&gt; | percent &lt;dbl&gt; |\n|---|---|---|\n| I am happy with how my business is managed currently                                  | 951 | 0.7846534653 |\n| Tax purposes                                                                          |  25 | 0.0206270627 |\n| Do not want to spend money                                                            |  84 | 0.0693069307 |\n| Other (Please specify) (I ma satisfy without this system)                             |   1 | 0.0008250825 |\n| Other (Please specify) (Not intrested)                                                |   1 | 0.0008250825 |\n| I have reservations with technology                                                   |  34 | 0.0280528053 |\n| It never crossed my mind to have such a system                                        | 105 | 0.0866336634 |\n| Other (Please specify) (Because it is unbearable )                                    |   1 | 0.0008250825 |\n| Other (Please specify) (He was already planing for POS)                               |   1 | 0.0008250825 |\n| Other (Please specify) (No requirement)                                               |   1 | 0.0008250825 |\n| Other (Please specify) (My brother is also a devloper)                                |   1 | 0.0008250825 |\n| Other (Please specify) (No need)                                                      |   1 | 0.0008250825 |\n| Other (Please specify) (Na)                                                           |   1 | 0.0008250825 |\n| Other (Please specify) (Not intetested)                                               |   1 | 0.0008250825 |\n| Other (Please specify) (I've never found any to get it from)                          |   1 | 0.0008250825 |\n| Other (Please specify) (He Need Someone who Manage Their Web Site and Facebook Page.) |   1 | 0.0008250825 |\n| Other (Please specify) (Customer needs but never met the software seller)             |   1 | 0.0008250825 |\n| Other (Please specify) (He need complete setup with all equipments)                   |   1 | 0.0008250825 |\n\n",
            "text/html": [
              "<table class=\"dataframe\">\n",
              "<caption>A tabyl: 18 × 3</caption>\n",
              "<thead>\n",
              "\t<tr><th scope=col>df_reasons_to_not_have_pos$answer</th><th scope=col>n</th><th scope=col>percent</th></tr>\n",
              "\t<tr><th scope=col>&lt;fct&gt;</th><th scope=col>&lt;dbl&gt;</th><th scope=col>&lt;dbl&gt;</th></tr>\n",
              "</thead>\n",
              "<tbody>\n",
              "\t<tr><td>I am happy with how my business is managed currently                                 </td><td>951</td><td>0.7846534653</td></tr>\n",
              "\t<tr><td>Tax purposes                                                                         </td><td> 25</td><td>0.0206270627</td></tr>\n",
              "\t<tr><td>Do not want to spend money                                                           </td><td> 84</td><td>0.0693069307</td></tr>\n",
              "\t<tr><td>Other (Please specify) (I ma satisfy without this system)                            </td><td>  1</td><td>0.0008250825</td></tr>\n",
              "\t<tr><td>Other (Please specify) (Not intrested)                                               </td><td>  1</td><td>0.0008250825</td></tr>\n",
              "\t<tr><td>I have reservations with technology                                                  </td><td> 34</td><td>0.0280528053</td></tr>\n",
              "\t<tr><td>It never crossed my mind to have such a system                                       </td><td>105</td><td>0.0866336634</td></tr>\n",
              "\t<tr><td>Other (Please specify) (Because it is unbearable )                                   </td><td>  1</td><td>0.0008250825</td></tr>\n",
              "\t<tr><td>Other (Please specify) (He was already planing for POS)                              </td><td>  1</td><td>0.0008250825</td></tr>\n",
              "\t<tr><td>Other (Please specify) (No requirement)                                              </td><td>  1</td><td>0.0008250825</td></tr>\n",
              "\t<tr><td>Other (Please specify) (My brother is also a devloper)                               </td><td>  1</td><td>0.0008250825</td></tr>\n",
              "\t<tr><td>Other (Please specify) (No need)                                                     </td><td>  1</td><td>0.0008250825</td></tr>\n",
              "\t<tr><td>Other (Please specify) (Na)                                                          </td><td>  1</td><td>0.0008250825</td></tr>\n",
              "\t<tr><td>Other (Please specify) (Not intetested)                                              </td><td>  1</td><td>0.0008250825</td></tr>\n",
              "\t<tr><td>Other (Please specify) (I've never found any to get it from)                         </td><td>  1</td><td>0.0008250825</td></tr>\n",
              "\t<tr><td>Other (Please specify) (He Need Someone who Manage Their Web Site and Facebook Page.)</td><td>  1</td><td>0.0008250825</td></tr>\n",
              "\t<tr><td>Other (Please specify) (Customer needs but never met the software seller)            </td><td>  1</td><td>0.0008250825</td></tr>\n",
              "\t<tr><td>Other (Please specify) (He need complete setup with all equipments)                  </td><td>  1</td><td>0.0008250825</td></tr>\n",
              "</tbody>\n",
              "</table>\n"
            ]
          },
          "metadata": {
            "tags": []
          }
        }
      ]
    },
    {
      "cell_type": "code",
      "metadata": {
        "colab": {
          "base_uri": "https://localhost:8080/",
          "height": 170
        },
        "id": "yW9eMPcDS3w-",
        "outputId": "5a3c2d29-1984-4686-9b4e-193fd0a9a698"
      },
      "source": [
        "levels(df_reasons_to_not_have_pos$answer)"
      ],
      "execution_count": 124,
      "outputs": [
        {
          "output_type": "display_data",
          "data": {
            "text/plain": [
              " [1] \"I am happy with how my business is managed currently\"                                 \n",
              " [2] \"Tax purposes\"                                                                         \n",
              " [3] \"Do not want to spend money\"                                                           \n",
              " [4] \"Other (Please specify) (I ma satisfy without this system)\"                            \n",
              " [5] \"Other (Please specify) (Not intrested)\"                                               \n",
              " [6] \"I have reservations with technology\"                                                  \n",
              " [7] \"It never crossed my mind to have such a system\"                                       \n",
              " [8] \"Other (Please specify) (Because it is unbearable )\"                                   \n",
              " [9] \"Other (Please specify) (He was already planing for POS)\"                              \n",
              "[10] \"Other (Please specify) (No requirement)\"                                              \n",
              "[11] \"Other (Please specify) (My brother is also a devloper)\"                               \n",
              "[12] \"Other (Please specify) (No need)\"                                                     \n",
              "[13] \"Other (Please specify) (Na)\"                                                          \n",
              "[14] \"Other (Please specify) (Not intetested)\"                                              \n",
              "[15] \"Other (Please specify) (I've never found any to get it from)\"                         \n",
              "[16] \"Other (Please specify) (He Need Someone who Manage Their Web Site and Facebook Page.)\"\n",
              "[17] \"Other (Please specify) (Customer needs but never met the software seller)\"            \n",
              "[18] \"Other (Please specify) (He need complete setup with all equipments)\"                  "
            ],
            "text/latex": "\\begin{enumerate*}\n\\item 'I am happy with how my business is managed currently'\n\\item 'Tax purposes'\n\\item 'Do not want to spend money'\n\\item 'Other (Please specify) (I ma satisfy without this system)'\n\\item 'Other (Please specify) (Not intrested)'\n\\item 'I have reservations with technology'\n\\item 'It never crossed my mind to have such a system'\n\\item 'Other (Please specify) (Because it is unbearable )'\n\\item 'Other (Please specify) (He was already planing for POS)'\n\\item 'Other (Please specify) (No requirement)'\n\\item 'Other (Please specify) (My brother is also a devloper)'\n\\item 'Other (Please specify) (No need)'\n\\item 'Other (Please specify) (Na)'\n\\item 'Other (Please specify) (Not intetested)'\n\\item 'Other (Please specify) (I\\textbackslash{}'ve never found any to get it from)'\n\\item 'Other (Please specify) (He Need Someone who Manage Their Web Site and Facebook Page.)'\n\\item 'Other (Please specify) (Customer needs but never met the software seller)'\n\\item 'Other (Please specify) (He need complete setup with all equipments)'\n\\end{enumerate*}\n",
            "text/markdown": "1. 'I am happy with how my business is managed currently'\n2. 'Tax purposes'\n3. 'Do not want to spend money'\n4. 'Other (Please specify) (I ma satisfy without this system)'\n5. 'Other (Please specify) (Not intrested)'\n6. 'I have reservations with technology'\n7. 'It never crossed my mind to have such a system'\n8. 'Other (Please specify) (Because it is unbearable )'\n9. 'Other (Please specify) (He was already planing for POS)'\n10. 'Other (Please specify) (No requirement)'\n11. 'Other (Please specify) (My brother is also a devloper)'\n12. 'Other (Please specify) (No need)'\n13. 'Other (Please specify) (Na)'\n14. 'Other (Please specify) (Not intetested)'\n15. 'Other (Please specify) (I\\'ve never found any to get it from)'\n16. 'Other (Please specify) (He Need Someone who Manage Their Web Site and Facebook Page.)'\n17. 'Other (Please specify) (Customer needs but never met the software seller)'\n18. 'Other (Please specify) (He need complete setup with all equipments)'\n\n\n",
            "text/html": [
              "<style>\n",
              ".list-inline {list-style: none; margin:0; padding: 0}\n",
              ".list-inline>li {display: inline-block}\n",
              ".list-inline>li:not(:last-child)::after {content: \"\\00b7\"; padding: 0 .5ex}\n",
              "</style>\n",
              "<ol class=list-inline><li>'I am happy with how my business is managed currently'</li><li>'Tax purposes'</li><li>'Do not want to spend money'</li><li>'Other (Please specify) (I ma satisfy without this system)'</li><li>'Other (Please specify) (Not intrested)'</li><li>'I have reservations with technology'</li><li>'It never crossed my mind to have such a system'</li><li>'Other (Please specify) (Because it is unbearable )'</li><li>'Other (Please specify) (He was already planing for POS)'</li><li>'Other (Please specify) (No requirement)'</li><li>'Other (Please specify) (My brother is also a devloper)'</li><li>'Other (Please specify) (No need)'</li><li>'Other (Please specify) (Na)'</li><li>'Other (Please specify) (Not intetested)'</li><li>'Other (Please specify) (I\\'ve never found any to get it from)'</li><li>'Other (Please specify) (He Need Someone who Manage Their Web Site and Facebook Page.)'</li><li>'Other (Please specify) (Customer needs but never met the software seller)'</li><li>'Other (Please specify) (He need complete setup with all equipments)'</li></ol>\n"
            ]
          },
          "metadata": {
            "tags": []
          }
        }
      ]
    },
    {
      "cell_type": "markdown",
      "metadata": {
        "id": "kZpZ8k7YTRpL"
      },
      "source": [
        "Change the value of levels"
      ]
    },
    {
      "cell_type": "code",
      "metadata": {
        "colab": {
          "base_uri": "https://localhost:8080/"
        },
        "id": "CVjCa3AlT7A5",
        "outputId": "8643f5a7-13fa-4b9a-a575-818913a487b4"
      },
      "source": [
        "df_reasons_to_not_have_pos <- df_reasons_to_not_have_pos %>% \n",
        "   mutate (answer = fct_recode(df_reasons_to_not_have_pos$answer, \n",
        "   'No ANS' = '-',\n",
        "   'No ANS' = 'Other (Please specify) (I ma satisfy without this system)',\n",
        "   'No ANS' = 'Other (Please specify) (Not intrested)',\n",
        "   'No ANS' = 'Other (Please specify) (Because it is unbearable )',\n",
        "   'No ANS' = 'Other (Please specify) (He was already planing for POS)',\n",
        "   'No ANS' = 'Other (Please specify) (No requirement)',\n",
        "   'No ANS' = 'Other (Please specify) (My brother is also a devloper)',\n",
        "   'No ANS' = 'Other (Please specify) (No need)',\n",
        "   'No ANS' = 'Other (Please specify) (Na)',\n",
        "   'No ANS' = 'Other (Please specify) (Not intetested)',\n",
        "   'No ANS' = 'Other (Please specify) (I\\'ve never found any to get it from)',\n",
        "   'No ANS' = 'Other (Please specify) (He Need Someone who Manage Their Web Site and Facebook Page.)',\n",
        "   'No ANS' = 'Other (Please specify) (Customer needs but never met the software seller)',\n",
        "   'No ANS' = 'Other (Please specify) (He need complete setup with all equipments)'\n",
        "   ))"
      ],
      "execution_count": 125,
      "outputs": [
        {
          "output_type": "stream",
          "text": [
            "Warning message:\n",
            "“Unknown levels in `f`: -”\n"
          ],
          "name": "stderr"
        }
      ]
    },
    {
      "cell_type": "code",
      "metadata": {
        "colab": {
          "base_uri": "https://localhost:8080/",
          "height": 282
        },
        "id": "HKJjL-6WWbRZ",
        "outputId": "cd1e83ac-59c1-48aa-f7f6-45a1e67a4488"
      },
      "source": [
        "tabyl(df_reasons_to_not_have_pos$answer)"
      ],
      "execution_count": 126,
      "outputs": [
        {
          "output_type": "display_data",
          "data": {
            "text/plain": [
              "  df_reasons_to_not_have_pos$answer                    n   percent   \n",
              "1 I am happy with how my business is managed currently 951 0.78465347\n",
              "2 Tax purposes                                          25 0.02062706\n",
              "3 Do not want to spend money                            84 0.06930693\n",
              "4 No ANS                                                13 0.01072607\n",
              "5 I have reservations with technology                   34 0.02805281\n",
              "6 It never crossed my mind to have such a system       105 0.08663366"
            ],
            "text/latex": "A tabyl: 6 × 3\n\\begin{tabular}{lll}\n df\\_reasons\\_to\\_not\\_have\\_pos\\$answer & n & percent\\\\\n <fct> & <dbl> & <dbl>\\\\\n\\hline\n\t I am happy with how my business is managed currently & 951 & 0.78465347\\\\\n\t Tax purposes                                         &  25 & 0.02062706\\\\\n\t Do not want to spend money                           &  84 & 0.06930693\\\\\n\t No ANS                                               &  13 & 0.01072607\\\\\n\t I have reservations with technology                  &  34 & 0.02805281\\\\\n\t It never crossed my mind to have such a system       & 105 & 0.08663366\\\\\n\\end{tabular}\n",
            "text/markdown": "\nA tabyl: 6 × 3\n\n| df_reasons_to_not_have_pos$answer &lt;fct&gt; | n &lt;dbl&gt; | percent &lt;dbl&gt; |\n|---|---|---|\n| I am happy with how my business is managed currently | 951 | 0.78465347 |\n| Tax purposes                                         |  25 | 0.02062706 |\n| Do not want to spend money                           |  84 | 0.06930693 |\n| No ANS                                               |  13 | 0.01072607 |\n| I have reservations with technology                  |  34 | 0.02805281 |\n| It never crossed my mind to have such a system       | 105 | 0.08663366 |\n\n",
            "text/html": [
              "<table class=\"dataframe\">\n",
              "<caption>A tabyl: 6 × 3</caption>\n",
              "<thead>\n",
              "\t<tr><th scope=col>df_reasons_to_not_have_pos$answer</th><th scope=col>n</th><th scope=col>percent</th></tr>\n",
              "\t<tr><th scope=col>&lt;fct&gt;</th><th scope=col>&lt;dbl&gt;</th><th scope=col>&lt;dbl&gt;</th></tr>\n",
              "</thead>\n",
              "<tbody>\n",
              "\t<tr><td>I am happy with how my business is managed currently</td><td>951</td><td>0.78465347</td></tr>\n",
              "\t<tr><td>Tax purposes                                        </td><td> 25</td><td>0.02062706</td></tr>\n",
              "\t<tr><td>Do not want to spend money                          </td><td> 84</td><td>0.06930693</td></tr>\n",
              "\t<tr><td>No ANS                                              </td><td> 13</td><td>0.01072607</td></tr>\n",
              "\t<tr><td>I have reservations with technology                 </td><td> 34</td><td>0.02805281</td></tr>\n",
              "\t<tr><td>It never crossed my mind to have such a system      </td><td>105</td><td>0.08663366</td></tr>\n",
              "</tbody>\n",
              "</table>\n"
            ]
          },
          "metadata": {
            "tags": []
          }
        }
      ]
    },
    {
      "cell_type": "markdown",
      "metadata": {
        "id": "8K4uUIeUWpSk"
      },
      "source": [
        "Change the order of levels"
      ]
    },
    {
      "cell_type": "code",
      "metadata": {
        "id": "m6Bi7q8MWt2J"
      },
      "source": [
        "df_reasons_to_not_have_pos <- \n",
        "   df_reasons_to_not_have_pos %>%\n",
        "        mutate(answer = fct_infreq(answer))"
      ],
      "execution_count": 127,
      "outputs": []
    },
    {
      "cell_type": "code",
      "metadata": {
        "colab": {
          "base_uri": "https://localhost:8080/",
          "height": 282
        },
        "id": "qVRrH3L8WyhR",
        "outputId": "d88bf0e5-437f-4524-cc38-73e323595d5e"
      },
      "source": [
        "tabyl(df_reasons_to_not_have_pos$answer)"
      ],
      "execution_count": 128,
      "outputs": [
        {
          "output_type": "display_data",
          "data": {
            "text/plain": [
              "  df_reasons_to_not_have_pos$answer                    n   percent   \n",
              "1 I am happy with how my business is managed currently 951 0.78465347\n",
              "2 It never crossed my mind to have such a system       105 0.08663366\n",
              "3 Do not want to spend money                            84 0.06930693\n",
              "4 I have reservations with technology                   34 0.02805281\n",
              "5 Tax purposes                                          25 0.02062706\n",
              "6 No ANS                                                13 0.01072607"
            ],
            "text/latex": "A tabyl: 6 × 3\n\\begin{tabular}{lll}\n df\\_reasons\\_to\\_not\\_have\\_pos\\$answer & n & percent\\\\\n <fct> & <dbl> & <dbl>\\\\\n\\hline\n\t I am happy with how my business is managed currently & 951 & 0.78465347\\\\\n\t It never crossed my mind to have such a system       & 105 & 0.08663366\\\\\n\t Do not want to spend money                           &  84 & 0.06930693\\\\\n\t I have reservations with technology                  &  34 & 0.02805281\\\\\n\t Tax purposes                                         &  25 & 0.02062706\\\\\n\t No ANS                                               &  13 & 0.01072607\\\\\n\\end{tabular}\n",
            "text/markdown": "\nA tabyl: 6 × 3\n\n| df_reasons_to_not_have_pos$answer &lt;fct&gt; | n &lt;dbl&gt; | percent &lt;dbl&gt; |\n|---|---|---|\n| I am happy with how my business is managed currently | 951 | 0.78465347 |\n| It never crossed my mind to have such a system       | 105 | 0.08663366 |\n| Do not want to spend money                           |  84 | 0.06930693 |\n| I have reservations with technology                  |  34 | 0.02805281 |\n| Tax purposes                                         |  25 | 0.02062706 |\n| No ANS                                               |  13 | 0.01072607 |\n\n",
            "text/html": [
              "<table class=\"dataframe\">\n",
              "<caption>A tabyl: 6 × 3</caption>\n",
              "<thead>\n",
              "\t<tr><th scope=col>df_reasons_to_not_have_pos$answer</th><th scope=col>n</th><th scope=col>percent</th></tr>\n",
              "\t<tr><th scope=col>&lt;fct&gt;</th><th scope=col>&lt;dbl&gt;</th><th scope=col>&lt;dbl&gt;</th></tr>\n",
              "</thead>\n",
              "<tbody>\n",
              "\t<tr><td>I am happy with how my business is managed currently</td><td>951</td><td>0.78465347</td></tr>\n",
              "\t<tr><td>It never crossed my mind to have such a system      </td><td>105</td><td>0.08663366</td></tr>\n",
              "\t<tr><td>Do not want to spend money                          </td><td> 84</td><td>0.06930693</td></tr>\n",
              "\t<tr><td>I have reservations with technology                 </td><td> 34</td><td>0.02805281</td></tr>\n",
              "\t<tr><td>Tax purposes                                        </td><td> 25</td><td>0.02062706</td></tr>\n",
              "\t<tr><td>No ANS                                              </td><td> 13</td><td>0.01072607</td></tr>\n",
              "</tbody>\n",
              "</table>\n"
            ]
          },
          "metadata": {
            "tags": []
          }
        }
      ]
    },
    {
      "cell_type": "markdown",
      "metadata": {
        "id": "-IXbLgZhLV31"
      },
      "source": [
        "##### 1.18 ORG_TYPE"
      ]
    },
    {
      "cell_type": "code",
      "metadata": {
        "colab": {
          "base_uri": "https://localhost:8080/",
          "height": 1000
        },
        "id": "E4Y-Bwj4XagV",
        "outputId": "8ca1e81a-8e6c-4420-8f47-3895bdd37d06"
      },
      "source": [
        "tabyl(df_without_2$ORG_TYPE)"
      ],
      "execution_count": 129,
      "outputs": [
        {
          "output_type": "display_data",
          "data": {
            "text/plain": [
              "    df_without_2$ORG_TYPE                                                               \n",
              "1   Auto                                                                                \n",
              "2   Auto (Autos shop), Groceries (Autos shop), Other (Autos shop)                       \n",
              "3   Auto, Groceries                                                                     \n",
              "4   Clothing items                                                                      \n",
              "5   Clothing items (S), Groceries (S), Other (S)                                        \n",
              "6   Clothing items (Shoes), Other (Shoes)                                               \n",
              "7   Clothing items, Footwear                                                            \n",
              "8   Clothing items, Footwear, Groceries                                                 \n",
              "9   Clothing items, Footwear, Groceries, Jewelry                                        \n",
              "10  Clothing items, Footwear, Jewelry                                                   \n",
              "11  Clothing items, Footwear, Stationary                                                \n",
              "12  Clothing items, Furniture                                                           \n",
              "13  Clothing items, Groceries                                                           \n",
              "14  Clothing items, Groceries, Jewelry, Services (Dry Cleaners, etc.)                   \n",
              "15  Clothing items, Jewelry                                                             \n",
              "16  Clothing items, Jewelry, Stationary                                                 \n",
              "17  Clothing items, Services (Dry Cleaners, etc.)                                       \n",
              "18  Clothing items, Stationary                                                          \n",
              "19  Electronics                                                                         \n",
              "20  Electronics (Coach tickets ), Mobile Phones (Coach tickets ), Other (Coach tickets )\n",
              "21  Electronics (Steel products ), Furniture (Steel products ), Other (Steel products ) \n",
              "22  Electronics, Groceries                                                              \n",
              "23  Electronics, Groceries, Hardware / Paints                                           \n",
              "24  Electronics, Hardware / Paints                                                      \n",
              "25  Electronics, Mobile Phones                                                          \n",
              "26  Electronics, Services (Dry Cleaners, etc.)                                          \n",
              "27  Footwear                                                                            \n",
              "28  Footwear, Furniture                                                                 \n",
              "29  Footwear, Groceries                                                                 \n",
              "30  Furniture                                                                           \n",
              "⋮   ⋮                                                                                   \n",
              "135 Other (Karyana items)                                                               \n",
              "136 Other (Karyana Items)                                                               \n",
              "137 Other (Kiryna store )                                                               \n",
              "138 Other (madical store)                                                               \n",
              "139 Other (madical stre)                                                                \n",
              "140 Other (Medical store )                                                              \n",
              "141 Other (medical store)                                                               \n",
              "142 Other (medicalstore)                                                                \n",
              "143 Other (Milk shope)                                                                  \n",
              "144 Other (Mobile Parts and Repair.)                                                    \n",
              "145 Other (Mobile Parts.)                                                               \n",
              "146 Other (Mobile Parts)                                                                \n",
              "147 Other (Optics )                                                                     \n",
              "148 Other (Optics)                                                                      \n",
              "149 Other (Pharmacy and medical store )                                                 \n",
              "150 Other (Photo shop)                                                                  \n",
              "151 Other (Printing press)                                                              \n",
              "152 Other (Soap oil & chemical)                                                         \n",
              "153 Other (Spare parts )                                                                \n",
              "154 Other (Sports ), Stationary (Sports )                                               \n",
              "155 Other (Tailor )                                                                     \n",
              "156 Other (Tailors )                                                                    \n",
              "157 Other (Tiles)                                                                       \n",
              "158 Other (Toy shop)                                                                    \n",
              "159 Other (Toys and Sports )                                                            \n",
              "160 Other (Watch Showroom)                                                              \n",
              "161 Other (Watches)                                                                     \n",
              "162 Other (Whole sale Tea, Dry Milk & General Store)                                    \n",
              "163 Services (Dry Cleaners, etc.)                                                       \n",
              "164 Stationary                                                                          \n",
              "    n   percent     \n",
              "1    36 0.0297520661\n",
              "2     1 0.0008264463\n",
              "3     7 0.0057851240\n",
              "4   217 0.1793388430\n",
              "5     1 0.0008264463\n",
              "6     1 0.0008264463\n",
              "7     9 0.0074380165\n",
              "8     2 0.0016528926\n",
              "9     1 0.0008264463\n",
              "10    5 0.0041322314\n",
              "11    1 0.0008264463\n",
              "12    2 0.0016528926\n",
              "13   45 0.0371900826\n",
              "14    1 0.0008264463\n",
              "15    4 0.0033057851\n",
              "16    1 0.0008264463\n",
              "17    2 0.0016528926\n",
              "18    1 0.0008264463\n",
              "19   61 0.0504132231\n",
              "20    1 0.0008264463\n",
              "21    1 0.0008264463\n",
              "22   10 0.0082644628\n",
              "23    4 0.0033057851\n",
              "24   10 0.0082644628\n",
              "25    9 0.0074380165\n",
              "26    1 0.0008264463\n",
              "27   19 0.0157024793\n",
              "28    1 0.0008264463\n",
              "29    6 0.0049586777\n",
              "30   12 0.0099173554\n",
              "⋮   ⋮   ⋮           \n",
              "135  9  0.0074380165\n",
              "136  1  0.0008264463\n",
              "137  1  0.0008264463\n",
              "138  2  0.0016528926\n",
              "139  1  0.0008264463\n",
              "140  1  0.0008264463\n",
              "141  1  0.0008264463\n",
              "142  1  0.0008264463\n",
              "143  1  0.0008264463\n",
              "144  1  0.0008264463\n",
              "145  1  0.0008264463\n",
              "146  2  0.0016528926\n",
              "147  1  0.0008264463\n",
              "148  8  0.0066115702\n",
              "149  1  0.0008264463\n",
              "150  1  0.0008264463\n",
              "151  1  0.0008264463\n",
              "152  1  0.0008264463\n",
              "153  1  0.0008264463\n",
              "154  1  0.0008264463\n",
              "155  1  0.0008264463\n",
              "156  1  0.0008264463\n",
              "157  3  0.0024793388\n",
              "158  1  0.0008264463\n",
              "159  1  0.0008264463\n",
              "160  1  0.0008264463\n",
              "161  1  0.0008264463\n",
              "162  2  0.0016528926\n",
              "163 10  0.0082644628\n",
              "164 37  0.0305785124"
            ],
            "text/latex": "A tabyl: 164 × 3\n\\begin{tabular}{lll}\n df\\_without\\_2\\$ORG\\_TYPE & n & percent\\\\\n <fct> & <dbl> & <dbl>\\\\\n\\hline\n\t Auto                                                                                 &  36 & 0.0297520661\\\\\n\t Auto (Autos shop), Groceries (Autos shop), Other (Autos shop)                        &   1 & 0.0008264463\\\\\n\t Auto, Groceries                                                                      &   7 & 0.0057851240\\\\\n\t Clothing items                                                                       & 217 & 0.1793388430\\\\\n\t Clothing items (S), Groceries (S), Other (S)                                         &   1 & 0.0008264463\\\\\n\t Clothing items (Shoes), Other (Shoes)                                                &   1 & 0.0008264463\\\\\n\t Clothing items, Footwear                                                             &   9 & 0.0074380165\\\\\n\t Clothing items, Footwear, Groceries                                                  &   2 & 0.0016528926\\\\\n\t Clothing items, Footwear, Groceries, Jewelry                                         &   1 & 0.0008264463\\\\\n\t Clothing items, Footwear, Jewelry                                                    &   5 & 0.0041322314\\\\\n\t Clothing items, Footwear, Stationary                                                 &   1 & 0.0008264463\\\\\n\t Clothing items, Furniture                                                            &   2 & 0.0016528926\\\\\n\t Clothing items, Groceries                                                            &  45 & 0.0371900826\\\\\n\t Clothing items, Groceries, Jewelry, Services (Dry Cleaners, etc.)                    &   1 & 0.0008264463\\\\\n\t Clothing items, Jewelry                                                              &   4 & 0.0033057851\\\\\n\t Clothing items, Jewelry, Stationary                                                  &   1 & 0.0008264463\\\\\n\t Clothing items, Services (Dry Cleaners, etc.)                                        &   2 & 0.0016528926\\\\\n\t Clothing items, Stationary                                                           &   1 & 0.0008264463\\\\\n\t Electronics                                                                          &  61 & 0.0504132231\\\\\n\t Electronics (Coach tickets ), Mobile Phones (Coach tickets ), Other (Coach tickets ) &   1 & 0.0008264463\\\\\n\t Electronics (Steel products ), Furniture (Steel products ), Other (Steel products )  &   1 & 0.0008264463\\\\\n\t Electronics, Groceries                                                               &  10 & 0.0082644628\\\\\n\t Electronics, Groceries, Hardware / Paints                                            &   4 & 0.0033057851\\\\\n\t Electronics, Hardware / Paints                                                       &  10 & 0.0082644628\\\\\n\t Electronics, Mobile Phones                                                           &   9 & 0.0074380165\\\\\n\t Electronics, Services (Dry Cleaners, etc.)                                           &   1 & 0.0008264463\\\\\n\t Footwear                                                                             &  19 & 0.0157024793\\\\\n\t Footwear, Furniture                                                                  &   1 & 0.0008264463\\\\\n\t Footwear, Groceries                                                                  &   6 & 0.0049586777\\\\\n\t Furniture                                                                            &  12 & 0.0099173554\\\\\n\t ⋮ & ⋮ & ⋮\\\\\n\t Other (Karyana items)                            &  9 & 0.0074380165\\\\\n\t Other (Karyana Items)                            &  1 & 0.0008264463\\\\\n\t Other (Kiryna store )                            &  1 & 0.0008264463\\\\\n\t Other (madical store)                            &  2 & 0.0016528926\\\\\n\t Other (madical stre)                             &  1 & 0.0008264463\\\\\n\t Other (Medical store )                           &  1 & 0.0008264463\\\\\n\t Other (medical store)                            &  1 & 0.0008264463\\\\\n\t Other (medicalstore)                             &  1 & 0.0008264463\\\\\n\t Other (Milk shope)                               &  1 & 0.0008264463\\\\\n\t Other (Mobile Parts and Repair.)                 &  1 & 0.0008264463\\\\\n\t Other (Mobile Parts.)                            &  1 & 0.0008264463\\\\\n\t Other (Mobile Parts)                             &  2 & 0.0016528926\\\\\n\t Other (Optics )                                  &  1 & 0.0008264463\\\\\n\t Other (Optics)                                   &  8 & 0.0066115702\\\\\n\t Other (Pharmacy and medical store )              &  1 & 0.0008264463\\\\\n\t Other (Photo shop)                               &  1 & 0.0008264463\\\\\n\t Other (Printing press)                           &  1 & 0.0008264463\\\\\n\t Other (Soap oil \\& chemical)                      &  1 & 0.0008264463\\\\\n\t Other (Spare parts )                             &  1 & 0.0008264463\\\\\n\t Other (Sports ), Stationary (Sports )            &  1 & 0.0008264463\\\\\n\t Other (Tailor )                                  &  1 & 0.0008264463\\\\\n\t Other (Tailors )                                 &  1 & 0.0008264463\\\\\n\t Other (Tiles)                                    &  3 & 0.0024793388\\\\\n\t Other (Toy shop)                                 &  1 & 0.0008264463\\\\\n\t Other (Toys and Sports )                         &  1 & 0.0008264463\\\\\n\t Other (Watch Showroom)                           &  1 & 0.0008264463\\\\\n\t Other (Watches)                                  &  1 & 0.0008264463\\\\\n\t Other (Whole sale Tea, Dry Milk \\& General Store) &  2 & 0.0016528926\\\\\n\t Services (Dry Cleaners, etc.)                    & 10 & 0.0082644628\\\\\n\t Stationary                                       & 37 & 0.0305785124\\\\\n\\end{tabular}\n",
            "text/markdown": "\nA tabyl: 164 × 3\n\n| df_without_2$ORG_TYPE &lt;fct&gt; | n &lt;dbl&gt; | percent &lt;dbl&gt; |\n|---|---|---|\n| Auto                                                                                 |  36 | 0.0297520661 |\n| Auto (Autos shop), Groceries (Autos shop), Other (Autos shop)                        |   1 | 0.0008264463 |\n| Auto, Groceries                                                                      |   7 | 0.0057851240 |\n| Clothing items                                                                       | 217 | 0.1793388430 |\n| Clothing items (S), Groceries (S), Other (S)                                         |   1 | 0.0008264463 |\n| Clothing items (Shoes), Other (Shoes)                                                |   1 | 0.0008264463 |\n| Clothing items, Footwear                                                             |   9 | 0.0074380165 |\n| Clothing items, Footwear, Groceries                                                  |   2 | 0.0016528926 |\n| Clothing items, Footwear, Groceries, Jewelry                                         |   1 | 0.0008264463 |\n| Clothing items, Footwear, Jewelry                                                    |   5 | 0.0041322314 |\n| Clothing items, Footwear, Stationary                                                 |   1 | 0.0008264463 |\n| Clothing items, Furniture                                                            |   2 | 0.0016528926 |\n| Clothing items, Groceries                                                            |  45 | 0.0371900826 |\n| Clothing items, Groceries, Jewelry, Services (Dry Cleaners, etc.)                    |   1 | 0.0008264463 |\n| Clothing items, Jewelry                                                              |   4 | 0.0033057851 |\n| Clothing items, Jewelry, Stationary                                                  |   1 | 0.0008264463 |\n| Clothing items, Services (Dry Cleaners, etc.)                                        |   2 | 0.0016528926 |\n| Clothing items, Stationary                                                           |   1 | 0.0008264463 |\n| Electronics                                                                          |  61 | 0.0504132231 |\n| Electronics (Coach tickets ), Mobile Phones (Coach tickets ), Other (Coach tickets ) |   1 | 0.0008264463 |\n| Electronics (Steel products ), Furniture (Steel products ), Other (Steel products )  |   1 | 0.0008264463 |\n| Electronics, Groceries                                                               |  10 | 0.0082644628 |\n| Electronics, Groceries, Hardware / Paints                                            |   4 | 0.0033057851 |\n| Electronics, Hardware / Paints                                                       |  10 | 0.0082644628 |\n| Electronics, Mobile Phones                                                           |   9 | 0.0074380165 |\n| Electronics, Services (Dry Cleaners, etc.)                                           |   1 | 0.0008264463 |\n| Footwear                                                                             |  19 | 0.0157024793 |\n| Footwear, Furniture                                                                  |   1 | 0.0008264463 |\n| Footwear, Groceries                                                                  |   6 | 0.0049586777 |\n| Furniture                                                                            |  12 | 0.0099173554 |\n| ⋮ | ⋮ | ⋮ |\n| Other (Karyana items)                            |  9 | 0.0074380165 |\n| Other (Karyana Items)                            |  1 | 0.0008264463 |\n| Other (Kiryna store )                            |  1 | 0.0008264463 |\n| Other (madical store)                            |  2 | 0.0016528926 |\n| Other (madical stre)                             |  1 | 0.0008264463 |\n| Other (Medical store )                           |  1 | 0.0008264463 |\n| Other (medical store)                            |  1 | 0.0008264463 |\n| Other (medicalstore)                             |  1 | 0.0008264463 |\n| Other (Milk shope)                               |  1 | 0.0008264463 |\n| Other (Mobile Parts and Repair.)                 |  1 | 0.0008264463 |\n| Other (Mobile Parts.)                            |  1 | 0.0008264463 |\n| Other (Mobile Parts)                             |  2 | 0.0016528926 |\n| Other (Optics )                                  |  1 | 0.0008264463 |\n| Other (Optics)                                   |  8 | 0.0066115702 |\n| Other (Pharmacy and medical store )              |  1 | 0.0008264463 |\n| Other (Photo shop)                               |  1 | 0.0008264463 |\n| Other (Printing press)                           |  1 | 0.0008264463 |\n| Other (Soap oil &amp; chemical)                      |  1 | 0.0008264463 |\n| Other (Spare parts )                             |  1 | 0.0008264463 |\n| Other (Sports ), Stationary (Sports )            |  1 | 0.0008264463 |\n| Other (Tailor )                                  |  1 | 0.0008264463 |\n| Other (Tailors )                                 |  1 | 0.0008264463 |\n| Other (Tiles)                                    |  3 | 0.0024793388 |\n| Other (Toy shop)                                 |  1 | 0.0008264463 |\n| Other (Toys and Sports )                         |  1 | 0.0008264463 |\n| Other (Watch Showroom)                           |  1 | 0.0008264463 |\n| Other (Watches)                                  |  1 | 0.0008264463 |\n| Other (Whole sale Tea, Dry Milk &amp; General Store) |  2 | 0.0016528926 |\n| Services (Dry Cleaners, etc.)                    | 10 | 0.0082644628 |\n| Stationary                                       | 37 | 0.0305785124 |\n\n",
            "text/html": [
              "<table class=\"dataframe\">\n",
              "<caption>A tabyl: 164 × 3</caption>\n",
              "<thead>\n",
              "\t<tr><th scope=col>df_without_2$ORG_TYPE</th><th scope=col>n</th><th scope=col>percent</th></tr>\n",
              "\t<tr><th scope=col>&lt;fct&gt;</th><th scope=col>&lt;dbl&gt;</th><th scope=col>&lt;dbl&gt;</th></tr>\n",
              "</thead>\n",
              "<tbody>\n",
              "\t<tr><td>Auto                                                                                </td><td> 36</td><td>0.0297520661</td></tr>\n",
              "\t<tr><td>Auto (Autos shop), Groceries (Autos shop), Other (Autos shop)                       </td><td>  1</td><td>0.0008264463</td></tr>\n",
              "\t<tr><td>Auto, Groceries                                                                     </td><td>  7</td><td>0.0057851240</td></tr>\n",
              "\t<tr><td>Clothing items                                                                      </td><td>217</td><td>0.1793388430</td></tr>\n",
              "\t<tr><td>Clothing items (S), Groceries (S), Other (S)                                        </td><td>  1</td><td>0.0008264463</td></tr>\n",
              "\t<tr><td>Clothing items (Shoes), Other (Shoes)                                               </td><td>  1</td><td>0.0008264463</td></tr>\n",
              "\t<tr><td>Clothing items, Footwear                                                            </td><td>  9</td><td>0.0074380165</td></tr>\n",
              "\t<tr><td>Clothing items, Footwear, Groceries                                                 </td><td>  2</td><td>0.0016528926</td></tr>\n",
              "\t<tr><td>Clothing items, Footwear, Groceries, Jewelry                                        </td><td>  1</td><td>0.0008264463</td></tr>\n",
              "\t<tr><td>Clothing items, Footwear, Jewelry                                                   </td><td>  5</td><td>0.0041322314</td></tr>\n",
              "\t<tr><td>Clothing items, Footwear, Stationary                                                </td><td>  1</td><td>0.0008264463</td></tr>\n",
              "\t<tr><td>Clothing items, Furniture                                                           </td><td>  2</td><td>0.0016528926</td></tr>\n",
              "\t<tr><td>Clothing items, Groceries                                                           </td><td> 45</td><td>0.0371900826</td></tr>\n",
              "\t<tr><td>Clothing items, Groceries, Jewelry, Services (Dry Cleaners, etc.)                   </td><td>  1</td><td>0.0008264463</td></tr>\n",
              "\t<tr><td>Clothing items, Jewelry                                                             </td><td>  4</td><td>0.0033057851</td></tr>\n",
              "\t<tr><td>Clothing items, Jewelry, Stationary                                                 </td><td>  1</td><td>0.0008264463</td></tr>\n",
              "\t<tr><td>Clothing items, Services (Dry Cleaners, etc.)                                       </td><td>  2</td><td>0.0016528926</td></tr>\n",
              "\t<tr><td>Clothing items, Stationary                                                          </td><td>  1</td><td>0.0008264463</td></tr>\n",
              "\t<tr><td>Electronics                                                                         </td><td> 61</td><td>0.0504132231</td></tr>\n",
              "\t<tr><td>Electronics (Coach tickets ), Mobile Phones (Coach tickets ), Other (Coach tickets )</td><td>  1</td><td>0.0008264463</td></tr>\n",
              "\t<tr><td>Electronics (Steel products ), Furniture (Steel products ), Other (Steel products ) </td><td>  1</td><td>0.0008264463</td></tr>\n",
              "\t<tr><td>Electronics, Groceries                                                              </td><td> 10</td><td>0.0082644628</td></tr>\n",
              "\t<tr><td>Electronics, Groceries, Hardware / Paints                                           </td><td>  4</td><td>0.0033057851</td></tr>\n",
              "\t<tr><td>Electronics, Hardware / Paints                                                      </td><td> 10</td><td>0.0082644628</td></tr>\n",
              "\t<tr><td>Electronics, Mobile Phones                                                          </td><td>  9</td><td>0.0074380165</td></tr>\n",
              "\t<tr><td>Electronics, Services (Dry Cleaners, etc.)                                          </td><td>  1</td><td>0.0008264463</td></tr>\n",
              "\t<tr><td>Footwear                                                                            </td><td> 19</td><td>0.0157024793</td></tr>\n",
              "\t<tr><td>Footwear, Furniture                                                                 </td><td>  1</td><td>0.0008264463</td></tr>\n",
              "\t<tr><td>Footwear, Groceries                                                                 </td><td>  6</td><td>0.0049586777</td></tr>\n",
              "\t<tr><td>Furniture                                                                           </td><td> 12</td><td>0.0099173554</td></tr>\n",
              "\t<tr><td>⋮</td><td>⋮</td><td>⋮</td></tr>\n",
              "\t<tr><td>Other (Karyana items)                           </td><td> 9</td><td>0.0074380165</td></tr>\n",
              "\t<tr><td>Other (Karyana Items)                           </td><td> 1</td><td>0.0008264463</td></tr>\n",
              "\t<tr><td>Other (Kiryna store )                           </td><td> 1</td><td>0.0008264463</td></tr>\n",
              "\t<tr><td>Other (madical store)                           </td><td> 2</td><td>0.0016528926</td></tr>\n",
              "\t<tr><td>Other (madical stre)                            </td><td> 1</td><td>0.0008264463</td></tr>\n",
              "\t<tr><td>Other (Medical store )                          </td><td> 1</td><td>0.0008264463</td></tr>\n",
              "\t<tr><td>Other (medical store)                           </td><td> 1</td><td>0.0008264463</td></tr>\n",
              "\t<tr><td>Other (medicalstore)                            </td><td> 1</td><td>0.0008264463</td></tr>\n",
              "\t<tr><td>Other (Milk shope)                              </td><td> 1</td><td>0.0008264463</td></tr>\n",
              "\t<tr><td>Other (Mobile Parts and Repair.)                </td><td> 1</td><td>0.0008264463</td></tr>\n",
              "\t<tr><td>Other (Mobile Parts.)                           </td><td> 1</td><td>0.0008264463</td></tr>\n",
              "\t<tr><td>Other (Mobile Parts)                            </td><td> 2</td><td>0.0016528926</td></tr>\n",
              "\t<tr><td>Other (Optics )                                 </td><td> 1</td><td>0.0008264463</td></tr>\n",
              "\t<tr><td>Other (Optics)                                  </td><td> 8</td><td>0.0066115702</td></tr>\n",
              "\t<tr><td>Other (Pharmacy and medical store )             </td><td> 1</td><td>0.0008264463</td></tr>\n",
              "\t<tr><td>Other (Photo shop)                              </td><td> 1</td><td>0.0008264463</td></tr>\n",
              "\t<tr><td>Other (Printing press)                          </td><td> 1</td><td>0.0008264463</td></tr>\n",
              "\t<tr><td><span style=white-space:pre-wrap>Other (Soap oil &amp; chemical)                     </span></td><td> 1</td><td>0.0008264463</td></tr>\n",
              "\t<tr><td>Other (Spare parts )                            </td><td> 1</td><td>0.0008264463</td></tr>\n",
              "\t<tr><td>Other (Sports ), Stationary (Sports )           </td><td> 1</td><td>0.0008264463</td></tr>\n",
              "\t<tr><td>Other (Tailor )                                 </td><td> 1</td><td>0.0008264463</td></tr>\n",
              "\t<tr><td>Other (Tailors )                                </td><td> 1</td><td>0.0008264463</td></tr>\n",
              "\t<tr><td>Other (Tiles)                                   </td><td> 3</td><td>0.0024793388</td></tr>\n",
              "\t<tr><td>Other (Toy shop)                                </td><td> 1</td><td>0.0008264463</td></tr>\n",
              "\t<tr><td>Other (Toys and Sports )                        </td><td> 1</td><td>0.0008264463</td></tr>\n",
              "\t<tr><td>Other (Watch Showroom)                          </td><td> 1</td><td>0.0008264463</td></tr>\n",
              "\t<tr><td>Other (Watches)                                 </td><td> 1</td><td>0.0008264463</td></tr>\n",
              "\t<tr><td>Other (Whole sale Tea, Dry Milk &amp; General Store)</td><td> 2</td><td>0.0016528926</td></tr>\n",
              "\t<tr><td>Services (Dry Cleaners, etc.)                   </td><td>10</td><td>0.0082644628</td></tr>\n",
              "\t<tr><td>Stationary                                      </td><td>37</td><td>0.0305785124</td></tr>\n",
              "</tbody>\n",
              "</table>\n"
            ]
          },
          "metadata": {
            "tags": []
          }
        }
      ]
    },
    {
      "cell_type": "code",
      "metadata": {
        "colab": {
          "base_uri": "https://localhost:8080/",
          "height": 1000
        },
        "id": "N5t0KsqQXo7r",
        "outputId": "f4ef5ade-1667-412c-b405-163a35887114"
      },
      "source": [
        "levels(df_without_2$ORG_TYPE)"
      ],
      "execution_count": 130,
      "outputs": [
        {
          "output_type": "display_data",
          "data": {
            "text/plain": [
              "  [1] \"Auto\"                                                                                                            \n",
              "  [2] \"Auto (Autos shop), Groceries (Autos shop), Other (Autos shop)\"                                                   \n",
              "  [3] \"Auto, Groceries\"                                                                                                 \n",
              "  [4] \"Clothing items\"                                                                                                  \n",
              "  [5] \"Clothing items (S), Groceries (S), Other (S)\"                                                                    \n",
              "  [6] \"Clothing items (Shoes), Other (Shoes)\"                                                                           \n",
              "  [7] \"Clothing items, Footwear\"                                                                                        \n",
              "  [8] \"Clothing items, Footwear, Groceries\"                                                                             \n",
              "  [9] \"Clothing items, Footwear, Groceries, Jewelry\"                                                                    \n",
              " [10] \"Clothing items, Footwear, Jewelry\"                                                                               \n",
              " [11] \"Clothing items, Footwear, Stationary\"                                                                            \n",
              " [12] \"Clothing items, Furniture\"                                                                                       \n",
              " [13] \"Clothing items, Groceries\"                                                                                       \n",
              " [14] \"Clothing items, Groceries, Jewelry, Services (Dry Cleaners, etc.)\"                                               \n",
              " [15] \"Clothing items, Jewelry\"                                                                                         \n",
              " [16] \"Clothing items, Jewelry, Stationary\"                                                                             \n",
              " [17] \"Clothing items, Services (Dry Cleaners, etc.)\"                                                                   \n",
              " [18] \"Clothing items, Stationary\"                                                                                      \n",
              " [19] \"Electronics\"                                                                                                     \n",
              " [20] \"Electronics (Coach tickets ), Mobile Phones (Coach tickets ), Other (Coach tickets )\"                            \n",
              " [21] \"Electronics (Steel products ), Furniture (Steel products ), Other (Steel products )\"                             \n",
              " [22] \"Electronics, Groceries\"                                                                                          \n",
              " [23] \"Electronics, Groceries, Hardware / Paints\"                                                                       \n",
              " [24] \"Electronics, Hardware / Paints\"                                                                                  \n",
              " [25] \"Electronics, Mobile Phones\"                                                                                      \n",
              " [26] \"Electronics, Services (Dry Cleaners, etc.)\"                                                                      \n",
              " [27] \"Footwear\"                                                                                                        \n",
              " [28] \"Footwear, Furniture\"                                                                                             \n",
              " [29] \"Footwear, Groceries\"                                                                                             \n",
              " [30] \"Furniture\"                                                                                                       \n",
              " [31] \"Furniture (House Decoration & Gift Center), Other (House Decoration & Gift Center)\"                              \n",
              " [32] \"Furniture (Wood Works ), Other (Wood Works )\"                                                                    \n",
              " [33] \"Furniture (Wood Works), Other (Wood Works)\"                                                                      \n",
              " [34] \"Furniture, Groceries\"                                                                                            \n",
              " [35] \"Furniture, Services (Dry Cleaners, etc.)\"                                                                        \n",
              " [36] \"Groceries\"                                                                                                       \n",
              " [37] \"Groceries (Aluminum), Hardware / Paints (Aluminum), Other (Aluminum)\"                                            \n",
              " [38] \"Groceries (Auto parts), Other (Auto parts)\"                                                                      \n",
              " [39] \"Groceries (Celing,rockwall, glass paper, wallpaper items), Other (Celing,rockwall, glass paper, wallpaper items)\"\n",
              " [40] \"Groceries (Chapl), Other (Chapl)\"                                                                                \n",
              " [41] \"Groceries (cosmetic shop), Other (cosmetic shop)\"                                                                \n",
              " [42] \"Groceries (Cosmetic), Other (Cosmetic)\"                                                                          \n",
              " [43] \"Groceries (geneal store), Other (geneal store)\"                                                                  \n",
              " [44] \"Groceries (general store ), Other (general store )\"                                                              \n",
              " [45] \"Groceries (General store ), Other (General store )\"                                                              \n",
              " [46] \"Groceries (general store ), Other (general store ), Stationary (general store )\"                                 \n",
              " [47] \"Groceries (general store), Other (general store)\"                                                                \n",
              " [48] \"Groceries (General stores ), Other (General stores )\"                                                            \n",
              " [49] \"Groceries (generl store), Other (generl store)\"                                                                  \n",
              " [50] \"Groceries (gernal store), Other (gernal store)\"                                                                  \n",
              " [51] \"Groceries (Gift Shop), Other (Gift Shop)\"                                                                        \n",
              " [52] \"Groceries (journal store ), Other (journal store )\"                                                              \n",
              " [53] \"Groceries (Karakari), Other (Karakari)\"                                                                          \n",
              " [54] \"Groceries (karayana store), Other (karayana store)\"                                                              \n",
              " [55] \"Groceries (karyana store), Other (karyana store)\"                                                                \n",
              " [56] \"Groceries (karyn store), Other (karyn store)\"                                                                    \n",
              " [57] \"Groceries (karyna store), Other (karyna store)\"                                                                  \n",
              " [58] \"Groceries (madical store), Other (madical store)\"                                                                \n",
              " [59] \"Groceries (medical store), Other (medical store)\"                                                                \n",
              " [60] \"Groceries (Medical store), Other (Medical store)\"                                                                \n",
              " [61] \"Groceries (medical), Other (medical)\"                                                                            \n",
              " [62] \"Groceries (Medical), Other (Medical)\"                                                                            \n",
              " [63] \"Groceries (oil and battery work ), Other (oil and battery work )\"                                                \n",
              " [64] \"Groceries (pharmacy), Other (pharmacy)\"                                                                          \n",
              " [65] \"Groceries (pharmcy), Other (pharmcy)\"                                                                            \n",
              " [66] \"Groceries (Sanitary wares), Other (Sanitary wares)\"                                                              \n",
              " [67] \"Groceries (store), Other (store)\"                                                                                \n",
              " [68] \"Groceries (Studio), Other (Studio)\"                                                                              \n",
              " [69] \"Groceries (water plant ), Other (water plant )\"                                                                  \n",
              " [70] \"Groceries (Water plant ), Other (Water plant )\"                                                                  \n",
              " [71] \"Groceries (whole seller ), Other (whole seller )\"                                                                \n",
              " [72] \"Groceries, Electronics\"                                                                                          \n",
              " [73] \"Groceries, Hardware / Paints\"                                                                                    \n",
              " [74] \"Groceries, Hardware / Paints, Mobile Phones\"                                                                     \n",
              " [75] \"Groceries, Jewelry\"                                                                                              \n",
              " [76] \"Groceries, Mobile Phones\"                                                                                        \n",
              " [77] \"Groceries, Stationary\"                                                                                           \n",
              " [78] \"Hardware / Paints\"                                                                                               \n",
              " [79] \"Hardware / Paints (Electric store ), Other (Electric store )\"                                                    \n",
              " [80] \"Hardware / Paints (GIP, IIL,china fitting & PPRC), Other (GIP, IIL,china fitting & PPRC)\"                        \n",
              " [81] \"Hardware / Paints (Glass & Aluminum), Other (Glass & Aluminum)\"                                                  \n",
              " [82] \"Hardware / Paints (Gola beeding), Other (Gola beeding)\"                                                          \n",
              " [83] \"Hardware / Paints (Lemination chipboard & panel door), Other (Lemination chipboard & panel door)\"                \n",
              " [84] \"Hardware / Paints (Machinary tools), Other (Machinary tools)\"                                                    \n",
              " [85] \"Hardware / Paints (Machinary Tools), Other (Machinary Tools)\"                                                    \n",
              " [86] \"Hardware / Paints (Machinary), Other (Machinary)\"                                                                \n",
              " [87] \"Hardware / Paints (Pvc wall panel fall celling), Other (Pvc wall panel fall celling)\"                            \n",
              " [88] \"Hardware / Paints (Tools), Other (Tools)\"                                                                        \n",
              " [89] \"Hardware / Paints, Mobile Phones\"                                                                                \n",
              " [90] \"Hardware / Paints, Stationary\"                                                                                   \n",
              " [91] \"Jewelry\"                                                                                                         \n",
              " [92] \"Jewelry (Cosmetic and julery), Other (Cosmetic and julery)\"                                                      \n",
              " [93] \"Jewelry (Cosmetics), Other (Cosmetics)\"                                                                          \n",
              " [94] \"Jewelry (Gift Items and Cosmetics), Other (Gift Items and Cosmetics)\"                                            \n",
              " [95] \"Jewelry (Watches), Other (Watches)\"                                                                              \n",
              " [96] \"Jewelry, Stationary\"                                                                                             \n",
              " [97] \"Mobile Phones\"                                                                                                   \n",
              " [98] \"Mobile Phones (Computer accessories), Other (Computer accessories)\"                                              \n",
              " [99] \"Mobile Phones (Computer), Other (Computer)\"                                                                      \n",
              "[100] \"Mobile Phones (Computers), Other (Computers)\"                                                                    \n",
              "[101] \"Mobile Phones (Laptop), Other (Laptop)\"                                                                          \n",
              "[102] \"Mobile Phones, Services (Dry Cleaners, etc.)\"                                                                    \n",
              "[103] \"Mobile Phones, Stationary\"                                                                                       \n",
              "[104] \"Other (All interior services)\"                                                                                   \n",
              "[105] \"Other (Art and painting )\"                                                                                       \n",
              "[106] \"Other (Bakers )\"                                                                                                 \n",
              "[107] \"Other (Bakery )\"                                                                                                 \n",
              "[108] \"Other (Beauty parlour)\"                                                                                          \n",
              "[109] \"Other (Brand luxury fashion fabrice)\"                                                                            \n",
              "[110] \"Other (Child Gift and Bicycle Shop)\"                                                                             \n",
              "[111] \"Other (Child Gift Toys and Bicycle Shop )\"                                                                       \n",
              "[112] \"Other (Child Gift Toys and Bicycle Shop)\"                                                                        \n",
              "[113] \"Other (Cosmetic ), Services (Dry Cleaners, etc.) (Cosmetic )\"                                                    \n",
              "[114] \"Other (Cosmetic Item )\"                                                                                          \n",
              "[115] \"Other (cosmetic shop)\"                                                                                           \n",
              "[116] \"Other (Cosmetics)\"                                                                                               \n",
              "[117] \"Other (Crockery)\"                                                                                                \n",
              "[118] \"Other (Dental clinic)\"                                                                                           \n",
              "[119] \"Other (Electric and Gas appliances)\"                                                                             \n",
              "[120] \"Other (Estate ), Services (Dry Cleaners, etc.) (Estate )\"                                                        \n",
              "[121] \"Other (Eyewear )\"                                                                                                \n",
              "[122] \"Other (Fruits and vegetables)\"                                                                                   \n",
              "[123] \"Other (General store )\"                                                                                          \n",
              "[124] \"Other (General Store )\"                                                                                          \n",
              "[125] \"Other (General store)\"                                                                                           \n",
              "[126] \"Other (general store), Groceries (general store)\"                                                                \n",
              "[127] \"Other (General stores)\"                                                                                          \n",
              "[128] \"Other (Gifts )\"                                                                                                  \n",
              "[129] \"Other (Glass & Aluminum)\"                                                                                        \n",
              "[130] \"Other (Glass material)\"                                                                                          \n",
              "[131] \"Other (Juices Drinks chocolates karyana items etc)\"                                                              \n",
              "[132] \"Other (Karakori)\"                                                                                                \n",
              "[133] \"Other (karayana)\"                                                                                                \n",
              "[134] \"Other (Karyana Genral store)\"                                                                                    \n",
              "[135] \"Other (Karyana items)\"                                                                                           \n",
              "[136] \"Other (Karyana Items)\"                                                                                           \n",
              "[137] \"Other (Kiryna store )\"                                                                                           \n",
              "[138] \"Other (madical store)\"                                                                                           \n",
              "[139] \"Other (madical stre)\"                                                                                            \n",
              "[140] \"Other (Medical store )\"                                                                                          \n",
              "[141] \"Other (medical store)\"                                                                                           \n",
              "[142] \"Other (medicalstore)\"                                                                                            \n",
              "[143] \"Other (Milk shope)\"                                                                                              \n",
              "[144] \"Other (Mobile Parts and Repair.)\"                                                                                \n",
              "[145] \"Other (Mobile Parts.)\"                                                                                           \n",
              "[146] \"Other (Mobile Parts)\"                                                                                            \n",
              "[147] \"Other (Optics )\"                                                                                                 \n",
              "[148] \"Other (Optics)\"                                                                                                  \n",
              "[149] \"Other (Pharmacy and medical store )\"                                                                             \n",
              "[150] \"Other (Photo shop)\"                                                                                              \n",
              "[151] \"Other (Printing press)\"                                                                                          \n",
              "[152] \"Other (Soap oil & chemical)\"                                                                                     \n",
              "[153] \"Other (Spare parts )\"                                                                                            \n",
              "[154] \"Other (Sports ), Stationary (Sports )\"                                                                           \n",
              "[155] \"Other (Tailor )\"                                                                                                 \n",
              "[156] \"Other (Tailors )\"                                                                                                \n",
              "[157] \"Other (Tiles)\"                                                                                                   \n",
              "[158] \"Other (Toy shop)\"                                                                                                \n",
              "[159] \"Other (Toys and Sports )\"                                                                                        \n",
              "[160] \"Other (Watch Showroom)\"                                                                                          \n",
              "[161] \"Other (Watches)\"                                                                                                 \n",
              "[162] \"Other (Whole sale Tea, Dry Milk & General Store)\"                                                                \n",
              "[163] \"Services (Dry Cleaners, etc.)\"                                                                                   \n",
              "[164] \"Stationary\"                                                                                                      "
            ],
            "text/latex": "\\begin{enumerate*}\n\\item 'Auto'\n\\item 'Auto (Autos shop), Groceries (Autos shop), Other (Autos shop)'\n\\item 'Auto, Groceries'\n\\item 'Clothing items'\n\\item 'Clothing items (S), Groceries (S), Other (S)'\n\\item 'Clothing items (Shoes), Other (Shoes)'\n\\item 'Clothing items, Footwear'\n\\item 'Clothing items, Footwear, Groceries'\n\\item 'Clothing items, Footwear, Groceries, Jewelry'\n\\item 'Clothing items, Footwear, Jewelry'\n\\item 'Clothing items, Footwear, Stationary'\n\\item 'Clothing items, Furniture'\n\\item 'Clothing items, Groceries'\n\\item 'Clothing items, Groceries, Jewelry, Services (Dry Cleaners, etc.)'\n\\item 'Clothing items, Jewelry'\n\\item 'Clothing items, Jewelry, Stationary'\n\\item 'Clothing items, Services (Dry Cleaners, etc.)'\n\\item 'Clothing items, Stationary'\n\\item 'Electronics'\n\\item 'Electronics (Coach tickets ), Mobile Phones (Coach tickets ), Other (Coach tickets )'\n\\item 'Electronics (Steel products ), Furniture (Steel products ), Other (Steel products )'\n\\item 'Electronics, Groceries'\n\\item 'Electronics, Groceries, Hardware / Paints'\n\\item 'Electronics, Hardware / Paints'\n\\item 'Electronics, Mobile Phones'\n\\item 'Electronics, Services (Dry Cleaners, etc.)'\n\\item 'Footwear'\n\\item 'Footwear, Furniture'\n\\item 'Footwear, Groceries'\n\\item 'Furniture'\n\\item 'Furniture (House Decoration \\& Gift Center), Other (House Decoration \\& Gift Center)'\n\\item 'Furniture (Wood Works ), Other (Wood Works )'\n\\item 'Furniture (Wood Works), Other (Wood Works)'\n\\item 'Furniture, Groceries'\n\\item 'Furniture, Services (Dry Cleaners, etc.)'\n\\item 'Groceries'\n\\item 'Groceries (Aluminum), Hardware / Paints (Aluminum), Other (Aluminum)'\n\\item 'Groceries (Auto parts), Other (Auto parts)'\n\\item 'Groceries (Celing,rockwall, glass paper, wallpaper items), Other (Celing,rockwall, glass paper, wallpaper items)'\n\\item 'Groceries (Chapl), Other (Chapl)'\n\\item 'Groceries (cosmetic shop), Other (cosmetic shop)'\n\\item 'Groceries (Cosmetic), Other (Cosmetic)'\n\\item 'Groceries (geneal store), Other (geneal store)'\n\\item 'Groceries (general store ), Other (general store )'\n\\item 'Groceries (General store ), Other (General store )'\n\\item 'Groceries (general store ), Other (general store ), Stationary (general store )'\n\\item 'Groceries (general store), Other (general store)'\n\\item 'Groceries (General stores ), Other (General stores )'\n\\item 'Groceries (generl store), Other (generl store)'\n\\item 'Groceries (gernal store), Other (gernal store)'\n\\item 'Groceries (Gift Shop), Other (Gift Shop)'\n\\item 'Groceries (journal store ), Other (journal store )'\n\\item 'Groceries (Karakari), Other (Karakari)'\n\\item 'Groceries (karayana store), Other (karayana store)'\n\\item 'Groceries (karyana store), Other (karyana store)'\n\\item 'Groceries (karyn store), Other (karyn store)'\n\\item 'Groceries (karyna store), Other (karyna store)'\n\\item 'Groceries (madical store), Other (madical store)'\n\\item 'Groceries (medical store), Other (medical store)'\n\\item 'Groceries (Medical store), Other (Medical store)'\n\\item 'Groceries (medical), Other (medical)'\n\\item 'Groceries (Medical), Other (Medical)'\n\\item 'Groceries (oil and battery work ), Other (oil and battery work )'\n\\item 'Groceries (pharmacy), Other (pharmacy)'\n\\item 'Groceries (pharmcy), Other (pharmcy)'\n\\item 'Groceries (Sanitary wares), Other (Sanitary wares)'\n\\item 'Groceries (store), Other (store)'\n\\item 'Groceries (Studio), Other (Studio)'\n\\item 'Groceries (water plant ), Other (water plant )'\n\\item 'Groceries (Water plant ), Other (Water plant )'\n\\item 'Groceries (whole seller ), Other (whole seller )'\n\\item 'Groceries, Electronics'\n\\item 'Groceries, Hardware / Paints'\n\\item 'Groceries, Hardware / Paints, Mobile Phones'\n\\item 'Groceries, Jewelry'\n\\item 'Groceries, Mobile Phones'\n\\item 'Groceries, Stationary'\n\\item 'Hardware / Paints'\n\\item 'Hardware / Paints (Electric store ), Other (Electric store )'\n\\item 'Hardware / Paints (GIP, IIL,china fitting \\& PPRC), Other (GIP, IIL,china fitting \\& PPRC)'\n\\item 'Hardware / Paints (Glass \\& Aluminum), Other (Glass \\& Aluminum)'\n\\item 'Hardware / Paints (Gola beeding), Other (Gola beeding)'\n\\item 'Hardware / Paints (Lemination chipboard \\& panel door), Other (Lemination chipboard \\& panel door)'\n\\item 'Hardware / Paints (Machinary tools), Other (Machinary tools)'\n\\item 'Hardware / Paints (Machinary Tools), Other (Machinary Tools)'\n\\item 'Hardware / Paints (Machinary), Other (Machinary)'\n\\item 'Hardware / Paints (Pvc wall panel fall celling), Other (Pvc wall panel fall celling)'\n\\item 'Hardware / Paints (Tools), Other (Tools)'\n\\item 'Hardware / Paints, Mobile Phones'\n\\item 'Hardware / Paints, Stationary'\n\\item 'Jewelry'\n\\item 'Jewelry (Cosmetic and julery), Other (Cosmetic and julery)'\n\\item 'Jewelry (Cosmetics), Other (Cosmetics)'\n\\item 'Jewelry (Gift Items and Cosmetics), Other (Gift Items and Cosmetics)'\n\\item 'Jewelry (Watches), Other (Watches)'\n\\item 'Jewelry, Stationary'\n\\item 'Mobile Phones'\n\\item 'Mobile Phones (Computer accessories), Other (Computer accessories)'\n\\item 'Mobile Phones (Computer), Other (Computer)'\n\\item 'Mobile Phones (Computers), Other (Computers)'\n\\item 'Mobile Phones (Laptop), Other (Laptop)'\n\\item 'Mobile Phones, Services (Dry Cleaners, etc.)'\n\\item 'Mobile Phones, Stationary'\n\\item 'Other (All interior services)'\n\\item 'Other (Art and painting )'\n\\item 'Other (Bakers )'\n\\item 'Other (Bakery )'\n\\item 'Other (Beauty parlour)'\n\\item 'Other (Brand luxury fashion fabrice)'\n\\item 'Other (Child Gift and Bicycle Shop)'\n\\item 'Other (Child Gift Toys and Bicycle Shop )'\n\\item 'Other (Child Gift Toys and Bicycle Shop)'\n\\item 'Other (Cosmetic ), Services (Dry Cleaners, etc.) (Cosmetic )'\n\\item 'Other (Cosmetic Item )'\n\\item 'Other (cosmetic shop)'\n\\item 'Other (Cosmetics)'\n\\item 'Other (Crockery)'\n\\item 'Other (Dental clinic)'\n\\item 'Other (Electric and Gas appliances)'\n\\item 'Other (Estate ), Services (Dry Cleaners, etc.) (Estate )'\n\\item 'Other (Eyewear )'\n\\item 'Other (Fruits and vegetables)'\n\\item 'Other (General store )'\n\\item 'Other (General Store )'\n\\item 'Other (General store)'\n\\item 'Other (general store), Groceries (general store)'\n\\item 'Other (General stores)'\n\\item 'Other (Gifts )'\n\\item 'Other (Glass \\& Aluminum)'\n\\item 'Other (Glass material)'\n\\item 'Other (Juices Drinks chocolates karyana items etc)'\n\\item 'Other (Karakori)'\n\\item 'Other (karayana)'\n\\item 'Other (Karyana Genral store)'\n\\item 'Other (Karyana items)'\n\\item 'Other (Karyana Items)'\n\\item 'Other (Kiryna store )'\n\\item 'Other (madical store)'\n\\item 'Other (madical stre)'\n\\item 'Other (Medical store )'\n\\item 'Other (medical store)'\n\\item 'Other (medicalstore)'\n\\item 'Other (Milk shope)'\n\\item 'Other (Mobile Parts and Repair.)'\n\\item 'Other (Mobile Parts.)'\n\\item 'Other (Mobile Parts)'\n\\item 'Other (Optics )'\n\\item 'Other (Optics)'\n\\item 'Other (Pharmacy and medical store )'\n\\item 'Other (Photo shop)'\n\\item 'Other (Printing press)'\n\\item 'Other (Soap oil \\& chemical)'\n\\item 'Other (Spare parts )'\n\\item 'Other (Sports ), Stationary (Sports )'\n\\item 'Other (Tailor )'\n\\item 'Other (Tailors )'\n\\item 'Other (Tiles)'\n\\item 'Other (Toy shop)'\n\\item 'Other (Toys and Sports )'\n\\item 'Other (Watch Showroom)'\n\\item 'Other (Watches)'\n\\item 'Other (Whole sale Tea, Dry Milk \\& General Store)'\n\\item 'Services (Dry Cleaners, etc.)'\n\\item 'Stationary'\n\\end{enumerate*}\n",
            "text/markdown": "1. 'Auto'\n2. 'Auto (Autos shop), Groceries (Autos shop), Other (Autos shop)'\n3. 'Auto, Groceries'\n4. 'Clothing items'\n5. 'Clothing items (S), Groceries (S), Other (S)'\n6. 'Clothing items (Shoes), Other (Shoes)'\n7. 'Clothing items, Footwear'\n8. 'Clothing items, Footwear, Groceries'\n9. 'Clothing items, Footwear, Groceries, Jewelry'\n10. 'Clothing items, Footwear, Jewelry'\n11. 'Clothing items, Footwear, Stationary'\n12. 'Clothing items, Furniture'\n13. 'Clothing items, Groceries'\n14. 'Clothing items, Groceries, Jewelry, Services (Dry Cleaners, etc.)'\n15. 'Clothing items, Jewelry'\n16. 'Clothing items, Jewelry, Stationary'\n17. 'Clothing items, Services (Dry Cleaners, etc.)'\n18. 'Clothing items, Stationary'\n19. 'Electronics'\n20. 'Electronics (Coach tickets ), Mobile Phones (Coach tickets ), Other (Coach tickets )'\n21. 'Electronics (Steel products ), Furniture (Steel products ), Other (Steel products )'\n22. 'Electronics, Groceries'\n23. 'Electronics, Groceries, Hardware / Paints'\n24. 'Electronics, Hardware / Paints'\n25. 'Electronics, Mobile Phones'\n26. 'Electronics, Services (Dry Cleaners, etc.)'\n27. 'Footwear'\n28. 'Footwear, Furniture'\n29. 'Footwear, Groceries'\n30. 'Furniture'\n31. 'Furniture (House Decoration &amp; Gift Center), Other (House Decoration &amp; Gift Center)'\n32. 'Furniture (Wood Works ), Other (Wood Works )'\n33. 'Furniture (Wood Works), Other (Wood Works)'\n34. 'Furniture, Groceries'\n35. 'Furniture, Services (Dry Cleaners, etc.)'\n36. 'Groceries'\n37. 'Groceries (Aluminum), Hardware / Paints (Aluminum), Other (Aluminum)'\n38. 'Groceries (Auto parts), Other (Auto parts)'\n39. 'Groceries (Celing,rockwall, glass paper, wallpaper items), Other (Celing,rockwall, glass paper, wallpaper items)'\n40. 'Groceries (Chapl), Other (Chapl)'\n41. 'Groceries (cosmetic shop), Other (cosmetic shop)'\n42. 'Groceries (Cosmetic), Other (Cosmetic)'\n43. 'Groceries (geneal store), Other (geneal store)'\n44. 'Groceries (general store ), Other (general store )'\n45. 'Groceries (General store ), Other (General store )'\n46. 'Groceries (general store ), Other (general store ), Stationary (general store )'\n47. 'Groceries (general store), Other (general store)'\n48. 'Groceries (General stores ), Other (General stores )'\n49. 'Groceries (generl store), Other (generl store)'\n50. 'Groceries (gernal store), Other (gernal store)'\n51. 'Groceries (Gift Shop), Other (Gift Shop)'\n52. 'Groceries (journal store ), Other (journal store )'\n53. 'Groceries (Karakari), Other (Karakari)'\n54. 'Groceries (karayana store), Other (karayana store)'\n55. 'Groceries (karyana store), Other (karyana store)'\n56. 'Groceries (karyn store), Other (karyn store)'\n57. 'Groceries (karyna store), Other (karyna store)'\n58. 'Groceries (madical store), Other (madical store)'\n59. 'Groceries (medical store), Other (medical store)'\n60. 'Groceries (Medical store), Other (Medical store)'\n61. 'Groceries (medical), Other (medical)'\n62. 'Groceries (Medical), Other (Medical)'\n63. 'Groceries (oil and battery work ), Other (oil and battery work )'\n64. 'Groceries (pharmacy), Other (pharmacy)'\n65. 'Groceries (pharmcy), Other (pharmcy)'\n66. 'Groceries (Sanitary wares), Other (Sanitary wares)'\n67. 'Groceries (store), Other (store)'\n68. 'Groceries (Studio), Other (Studio)'\n69. 'Groceries (water plant ), Other (water plant )'\n70. 'Groceries (Water plant ), Other (Water plant )'\n71. 'Groceries (whole seller ), Other (whole seller )'\n72. 'Groceries, Electronics'\n73. 'Groceries, Hardware / Paints'\n74. 'Groceries, Hardware / Paints, Mobile Phones'\n75. 'Groceries, Jewelry'\n76. 'Groceries, Mobile Phones'\n77. 'Groceries, Stationary'\n78. 'Hardware / Paints'\n79. 'Hardware / Paints (Electric store ), Other (Electric store )'\n80. 'Hardware / Paints (GIP, IIL,china fitting &amp; PPRC), Other (GIP, IIL,china fitting &amp; PPRC)'\n81. 'Hardware / Paints (Glass &amp; Aluminum), Other (Glass &amp; Aluminum)'\n82. 'Hardware / Paints (Gola beeding), Other (Gola beeding)'\n83. 'Hardware / Paints (Lemination chipboard &amp; panel door), Other (Lemination chipboard &amp; panel door)'\n84. 'Hardware / Paints (Machinary tools), Other (Machinary tools)'\n85. 'Hardware / Paints (Machinary Tools), Other (Machinary Tools)'\n86. 'Hardware / Paints (Machinary), Other (Machinary)'\n87. 'Hardware / Paints (Pvc wall panel fall celling), Other (Pvc wall panel fall celling)'\n88. 'Hardware / Paints (Tools), Other (Tools)'\n89. 'Hardware / Paints, Mobile Phones'\n90. 'Hardware / Paints, Stationary'\n91. 'Jewelry'\n92. 'Jewelry (Cosmetic and julery), Other (Cosmetic and julery)'\n93. 'Jewelry (Cosmetics), Other (Cosmetics)'\n94. 'Jewelry (Gift Items and Cosmetics), Other (Gift Items and Cosmetics)'\n95. 'Jewelry (Watches), Other (Watches)'\n96. 'Jewelry, Stationary'\n97. 'Mobile Phones'\n98. 'Mobile Phones (Computer accessories), Other (Computer accessories)'\n99. 'Mobile Phones (Computer), Other (Computer)'\n100. 'Mobile Phones (Computers), Other (Computers)'\n101. 'Mobile Phones (Laptop), Other (Laptop)'\n102. 'Mobile Phones, Services (Dry Cleaners, etc.)'\n103. 'Mobile Phones, Stationary'\n104. 'Other (All interior services)'\n105. 'Other (Art and painting )'\n106. 'Other (Bakers )'\n107. 'Other (Bakery )'\n108. 'Other (Beauty parlour)'\n109. 'Other (Brand luxury fashion fabrice)'\n110. 'Other (Child Gift and Bicycle Shop)'\n111. 'Other (Child Gift Toys and Bicycle Shop )'\n112. 'Other (Child Gift Toys and Bicycle Shop)'\n113. 'Other (Cosmetic ), Services (Dry Cleaners, etc.) (Cosmetic )'\n114. 'Other (Cosmetic Item )'\n115. 'Other (cosmetic shop)'\n116. 'Other (Cosmetics)'\n117. 'Other (Crockery)'\n118. 'Other (Dental clinic)'\n119. 'Other (Electric and Gas appliances)'\n120. 'Other (Estate ), Services (Dry Cleaners, etc.) (Estate )'\n121. 'Other (Eyewear )'\n122. 'Other (Fruits and vegetables)'\n123. 'Other (General store )'\n124. 'Other (General Store )'\n125. 'Other (General store)'\n126. 'Other (general store), Groceries (general store)'\n127. 'Other (General stores)'\n128. 'Other (Gifts )'\n129. 'Other (Glass &amp; Aluminum)'\n130. 'Other (Glass material)'\n131. 'Other (Juices Drinks chocolates karyana items etc)'\n132. 'Other (Karakori)'\n133. 'Other (karayana)'\n134. 'Other (Karyana Genral store)'\n135. 'Other (Karyana items)'\n136. 'Other (Karyana Items)'\n137. 'Other (Kiryna store )'\n138. 'Other (madical store)'\n139. 'Other (madical stre)'\n140. 'Other (Medical store )'\n141. 'Other (medical store)'\n142. 'Other (medicalstore)'\n143. 'Other (Milk shope)'\n144. 'Other (Mobile Parts and Repair.)'\n145. 'Other (Mobile Parts.)'\n146. 'Other (Mobile Parts)'\n147. 'Other (Optics )'\n148. 'Other (Optics)'\n149. 'Other (Pharmacy and medical store )'\n150. 'Other (Photo shop)'\n151. 'Other (Printing press)'\n152. 'Other (Soap oil &amp; chemical)'\n153. 'Other (Spare parts )'\n154. 'Other (Sports ), Stationary (Sports )'\n155. 'Other (Tailor )'\n156. 'Other (Tailors )'\n157. 'Other (Tiles)'\n158. 'Other (Toy shop)'\n159. 'Other (Toys and Sports )'\n160. 'Other (Watch Showroom)'\n161. 'Other (Watches)'\n162. 'Other (Whole sale Tea, Dry Milk &amp; General Store)'\n163. 'Services (Dry Cleaners, etc.)'\n164. 'Stationary'\n\n\n",
            "text/html": [
              "<style>\n",
              ".list-inline {list-style: none; margin:0; padding: 0}\n",
              ".list-inline>li {display: inline-block}\n",
              ".list-inline>li:not(:last-child)::after {content: \"\\00b7\"; padding: 0 .5ex}\n",
              "</style>\n",
              "<ol class=list-inline><li>'Auto'</li><li>'Auto (Autos shop), Groceries (Autos shop), Other (Autos shop)'</li><li>'Auto, Groceries'</li><li>'Clothing items'</li><li>'Clothing items (S), Groceries (S), Other (S)'</li><li>'Clothing items (Shoes), Other (Shoes)'</li><li>'Clothing items, Footwear'</li><li>'Clothing items, Footwear, Groceries'</li><li>'Clothing items, Footwear, Groceries, Jewelry'</li><li>'Clothing items, Footwear, Jewelry'</li><li>'Clothing items, Footwear, Stationary'</li><li>'Clothing items, Furniture'</li><li>'Clothing items, Groceries'</li><li>'Clothing items, Groceries, Jewelry, Services (Dry Cleaners, etc.)'</li><li>'Clothing items, Jewelry'</li><li>'Clothing items, Jewelry, Stationary'</li><li>'Clothing items, Services (Dry Cleaners, etc.)'</li><li>'Clothing items, Stationary'</li><li>'Electronics'</li><li>'Electronics (Coach tickets ), Mobile Phones (Coach tickets ), Other (Coach tickets )'</li><li>'Electronics (Steel products ), Furniture (Steel products ), Other (Steel products )'</li><li>'Electronics, Groceries'</li><li>'Electronics, Groceries, Hardware / Paints'</li><li>'Electronics, Hardware / Paints'</li><li>'Electronics, Mobile Phones'</li><li>'Electronics, Services (Dry Cleaners, etc.)'</li><li>'Footwear'</li><li>'Footwear, Furniture'</li><li>'Footwear, Groceries'</li><li>'Furniture'</li><li>'Furniture (House Decoration &amp; Gift Center), Other (House Decoration &amp; Gift Center)'</li><li>'Furniture (Wood Works ), Other (Wood Works )'</li><li>'Furniture (Wood Works), Other (Wood Works)'</li><li>'Furniture, Groceries'</li><li>'Furniture, Services (Dry Cleaners, etc.)'</li><li>'Groceries'</li><li>'Groceries (Aluminum), Hardware / Paints (Aluminum), Other (Aluminum)'</li><li>'Groceries (Auto parts), Other (Auto parts)'</li><li>'Groceries (Celing,rockwall, glass paper, wallpaper items), Other (Celing,rockwall, glass paper, wallpaper items)'</li><li>'Groceries (Chapl), Other (Chapl)'</li><li>'Groceries (cosmetic shop), Other (cosmetic shop)'</li><li>'Groceries (Cosmetic), Other (Cosmetic)'</li><li>'Groceries (geneal store), Other (geneal store)'</li><li>'Groceries (general store ), Other (general store )'</li><li>'Groceries (General store ), Other (General store )'</li><li>'Groceries (general store ), Other (general store ), Stationary (general store )'</li><li>'Groceries (general store), Other (general store)'</li><li>'Groceries (General stores ), Other (General stores )'</li><li>'Groceries (generl store), Other (generl store)'</li><li>'Groceries (gernal store), Other (gernal store)'</li><li>'Groceries (Gift Shop), Other (Gift Shop)'</li><li>'Groceries (journal store ), Other (journal store )'</li><li>'Groceries (Karakari), Other (Karakari)'</li><li>'Groceries (karayana store), Other (karayana store)'</li><li>'Groceries (karyana store), Other (karyana store)'</li><li>'Groceries (karyn store), Other (karyn store)'</li><li>'Groceries (karyna store), Other (karyna store)'</li><li>'Groceries (madical store), Other (madical store)'</li><li>'Groceries (medical store), Other (medical store)'</li><li>'Groceries (Medical store), Other (Medical store)'</li><li>'Groceries (medical), Other (medical)'</li><li>'Groceries (Medical), Other (Medical)'</li><li>'Groceries (oil and battery work ), Other (oil and battery work )'</li><li>'Groceries (pharmacy), Other (pharmacy)'</li><li>'Groceries (pharmcy), Other (pharmcy)'</li><li>'Groceries (Sanitary wares), Other (Sanitary wares)'</li><li>'Groceries (store), Other (store)'</li><li>'Groceries (Studio), Other (Studio)'</li><li>'Groceries (water plant ), Other (water plant )'</li><li>'Groceries (Water plant ), Other (Water plant )'</li><li>'Groceries (whole seller ), Other (whole seller )'</li><li>'Groceries, Electronics'</li><li>'Groceries, Hardware / Paints'</li><li>'Groceries, Hardware / Paints, Mobile Phones'</li><li>'Groceries, Jewelry'</li><li>'Groceries, Mobile Phones'</li><li>'Groceries, Stationary'</li><li>'Hardware / Paints'</li><li>'Hardware / Paints (Electric store ), Other (Electric store )'</li><li>'Hardware / Paints (GIP, IIL,china fitting &amp; PPRC), Other (GIP, IIL,china fitting &amp; PPRC)'</li><li>'Hardware / Paints (Glass &amp; Aluminum), Other (Glass &amp; Aluminum)'</li><li>'Hardware / Paints (Gola beeding), Other (Gola beeding)'</li><li>'Hardware / Paints (Lemination chipboard &amp; panel door), Other (Lemination chipboard &amp; panel door)'</li><li>'Hardware / Paints (Machinary tools), Other (Machinary tools)'</li><li>'Hardware / Paints (Machinary Tools), Other (Machinary Tools)'</li><li>'Hardware / Paints (Machinary), Other (Machinary)'</li><li>'Hardware / Paints (Pvc wall panel fall celling), Other (Pvc wall panel fall celling)'</li><li>'Hardware / Paints (Tools), Other (Tools)'</li><li>'Hardware / Paints, Mobile Phones'</li><li>'Hardware / Paints, Stationary'</li><li>'Jewelry'</li><li>'Jewelry (Cosmetic and julery), Other (Cosmetic and julery)'</li><li>'Jewelry (Cosmetics), Other (Cosmetics)'</li><li>'Jewelry (Gift Items and Cosmetics), Other (Gift Items and Cosmetics)'</li><li>'Jewelry (Watches), Other (Watches)'</li><li>'Jewelry, Stationary'</li><li>'Mobile Phones'</li><li>'Mobile Phones (Computer accessories), Other (Computer accessories)'</li><li>'Mobile Phones (Computer), Other (Computer)'</li><li>'Mobile Phones (Computers), Other (Computers)'</li><li>'Mobile Phones (Laptop), Other (Laptop)'</li><li>'Mobile Phones, Services (Dry Cleaners, etc.)'</li><li>'Mobile Phones, Stationary'</li><li>'Other (All interior services)'</li><li>'Other (Art and painting )'</li><li>'Other (Bakers )'</li><li>'Other (Bakery )'</li><li>'Other (Beauty parlour)'</li><li>'Other (Brand luxury fashion fabrice)'</li><li>'Other (Child Gift and Bicycle Shop)'</li><li>'Other (Child Gift Toys and Bicycle Shop )'</li><li>'Other (Child Gift Toys and Bicycle Shop)'</li><li>'Other (Cosmetic ), Services (Dry Cleaners, etc.) (Cosmetic )'</li><li>'Other (Cosmetic Item )'</li><li>'Other (cosmetic shop)'</li><li>'Other (Cosmetics)'</li><li>'Other (Crockery)'</li><li>'Other (Dental clinic)'</li><li>'Other (Electric and Gas appliances)'</li><li>'Other (Estate ), Services (Dry Cleaners, etc.) (Estate )'</li><li>'Other (Eyewear )'</li><li>'Other (Fruits and vegetables)'</li><li>'Other (General store )'</li><li>'Other (General Store )'</li><li>'Other (General store)'</li><li>'Other (general store), Groceries (general store)'</li><li>'Other (General stores)'</li><li>'Other (Gifts )'</li><li>'Other (Glass &amp; Aluminum)'</li><li>'Other (Glass material)'</li><li>'Other (Juices Drinks chocolates karyana items etc)'</li><li>'Other (Karakori)'</li><li>'Other (karayana)'</li><li>'Other (Karyana Genral store)'</li><li>'Other (Karyana items)'</li><li>'Other (Karyana Items)'</li><li>'Other (Kiryna store )'</li><li>'Other (madical store)'</li><li>'Other (madical stre)'</li><li>'Other (Medical store )'</li><li>'Other (medical store)'</li><li>'Other (medicalstore)'</li><li>'Other (Milk shope)'</li><li>'Other (Mobile Parts and Repair.)'</li><li>'Other (Mobile Parts.)'</li><li>'Other (Mobile Parts)'</li><li>'Other (Optics )'</li><li>'Other (Optics)'</li><li>'Other (Pharmacy and medical store )'</li><li>'Other (Photo shop)'</li><li>'Other (Printing press)'</li><li>'Other (Soap oil &amp; chemical)'</li><li>'Other (Spare parts )'</li><li>'Other (Sports ), Stationary (Sports )'</li><li>'Other (Tailor )'</li><li>'Other (Tailors )'</li><li>'Other (Tiles)'</li><li>'Other (Toy shop)'</li><li>'Other (Toys and Sports )'</li><li>'Other (Watch Showroom)'</li><li>'Other (Watches)'</li><li>'Other (Whole sale Tea, Dry Milk &amp; General Store)'</li><li>'Services (Dry Cleaners, etc.)'</li><li>'Stationary'</li></ol>\n"
            ]
          },
          "metadata": {
            "tags": []
          }
        }
      ]
    },
    {
      "cell_type": "markdown",
      "metadata": {
        "id": "9670MZ9P0CuL"
      },
      "source": [
        "##### TODO: Cleaning up other variables"
      ]
    },
    {
      "cell_type": "markdown",
      "metadata": {
        "id": "naEtdqxdJk0L"
      },
      "source": [
        "to be fixed:\n",
        "\n",
        "RESP_DESIGNATION\n",
        "ORG_TYPE\n"
      ]
    },
    {
      "cell_type": "code",
      "metadata": {
        "colab": {
          "base_uri": "https://localhost:8080/",
          "height": 136
        },
        "id": "DIlU5h9ggVNy",
        "outputId": "b843d15d-db28-4979-c134-1176fb985ada"
      },
      "source": [
        "df_without_2 %>% names()"
      ],
      "execution_count": 131,
      "outputs": [
        {
          "output_type": "display_data",
          "data": {
            "text/plain": [
              " [1] \"ORG_CITY\"                       \"ORG_POS_BUSINESS_IMPROVEMENT\"  \n",
              " [3] \"ORG_INTERNET_ACCESS\"            \"ORG_EXPAND_BUSINESS\"           \n",
              " [5] \"ORG_DELIVERY_SERVICE\"           \"ORG_CUSTOMER_DATA\"             \n",
              " [7] \"ORG_EMP_COUNT\"                  \"ORG_INTERNET_DISRUPTION\"       \n",
              " [9] \"ORG_NEW_POS_PAYMENT_PREF\"       \"ORG_NEW_POS_LANG_PREF\"         \n",
              "[11] \"ORG_OUTLETS_COUNT\"              \"ORG_NEW_POS_KIND\"              \n",
              "[13] \"ORG_WILLINGNESS_TO_PAY_AMOUNT\"  \"RESP_DESIGNATION\"              \n",
              "[15] \"ORG_POS_FEATURES\"               \"ORG_NEW_POS_DEVICES\"           \n",
              "[17] \"ORG_TYPE\"                       \"ORG_CURRENT_PAYMENT_OPTIONS\"   \n",
              "[19] \"ORG_DISCOUNTS_OFFERED\"          \"ORG_URDU_FEATURES_EXPECTED\"    \n",
              "[21] \"ORG_REASON_TO_GET_POS\"          \"ORG_REASON_TO_NOT_HAVE_POS\"    \n",
              "[23] \"ORG_WILLINGNESS_DEMO\"           \"ORG_WILLINGNESS_FUTURE_CONTACT\"\n",
              "[25] \"RESP_ID\"                       "
            ],
            "text/latex": "\\begin{enumerate*}\n\\item 'ORG\\_CITY'\n\\item 'ORG\\_POS\\_BUSINESS\\_IMPROVEMENT'\n\\item 'ORG\\_INTERNET\\_ACCESS'\n\\item 'ORG\\_EXPAND\\_BUSINESS'\n\\item 'ORG\\_DELIVERY\\_SERVICE'\n\\item 'ORG\\_CUSTOMER\\_DATA'\n\\item 'ORG\\_EMP\\_COUNT'\n\\item 'ORG\\_INTERNET\\_DISRUPTION'\n\\item 'ORG\\_NEW\\_POS\\_PAYMENT\\_PREF'\n\\item 'ORG\\_NEW\\_POS\\_LANG\\_PREF'\n\\item 'ORG\\_OUTLETS\\_COUNT'\n\\item 'ORG\\_NEW\\_POS\\_KIND'\n\\item 'ORG\\_WILLINGNESS\\_TO\\_PAY\\_AMOUNT'\n\\item 'RESP\\_DESIGNATION'\n\\item 'ORG\\_POS\\_FEATURES'\n\\item 'ORG\\_NEW\\_POS\\_DEVICES'\n\\item 'ORG\\_TYPE'\n\\item 'ORG\\_CURRENT\\_PAYMENT\\_OPTIONS'\n\\item 'ORG\\_DISCOUNTS\\_OFFERED'\n\\item 'ORG\\_URDU\\_FEATURES\\_EXPECTED'\n\\item 'ORG\\_REASON\\_TO\\_GET\\_POS'\n\\item 'ORG\\_REASON\\_TO\\_NOT\\_HAVE\\_POS'\n\\item 'ORG\\_WILLINGNESS\\_DEMO'\n\\item 'ORG\\_WILLINGNESS\\_FUTURE\\_CONTACT'\n\\item 'RESP\\_ID'\n\\end{enumerate*}\n",
            "text/markdown": "1. 'ORG_CITY'\n2. 'ORG_POS_BUSINESS_IMPROVEMENT'\n3. 'ORG_INTERNET_ACCESS'\n4. 'ORG_EXPAND_BUSINESS'\n5. 'ORG_DELIVERY_SERVICE'\n6. 'ORG_CUSTOMER_DATA'\n7. 'ORG_EMP_COUNT'\n8. 'ORG_INTERNET_DISRUPTION'\n9. 'ORG_NEW_POS_PAYMENT_PREF'\n10. 'ORG_NEW_POS_LANG_PREF'\n11. 'ORG_OUTLETS_COUNT'\n12. 'ORG_NEW_POS_KIND'\n13. 'ORG_WILLINGNESS_TO_PAY_AMOUNT'\n14. 'RESP_DESIGNATION'\n15. 'ORG_POS_FEATURES'\n16. 'ORG_NEW_POS_DEVICES'\n17. 'ORG_TYPE'\n18. 'ORG_CURRENT_PAYMENT_OPTIONS'\n19. 'ORG_DISCOUNTS_OFFERED'\n20. 'ORG_URDU_FEATURES_EXPECTED'\n21. 'ORG_REASON_TO_GET_POS'\n22. 'ORG_REASON_TO_NOT_HAVE_POS'\n23. 'ORG_WILLINGNESS_DEMO'\n24. 'ORG_WILLINGNESS_FUTURE_CONTACT'\n25. 'RESP_ID'\n\n\n",
            "text/html": [
              "<style>\n",
              ".list-inline {list-style: none; margin:0; padding: 0}\n",
              ".list-inline>li {display: inline-block}\n",
              ".list-inline>li:not(:last-child)::after {content: \"\\00b7\"; padding: 0 .5ex}\n",
              "</style>\n",
              "<ol class=list-inline><li>'ORG_CITY'</li><li>'ORG_POS_BUSINESS_IMPROVEMENT'</li><li>'ORG_INTERNET_ACCESS'</li><li>'ORG_EXPAND_BUSINESS'</li><li>'ORG_DELIVERY_SERVICE'</li><li>'ORG_CUSTOMER_DATA'</li><li>'ORG_EMP_COUNT'</li><li>'ORG_INTERNET_DISRUPTION'</li><li>'ORG_NEW_POS_PAYMENT_PREF'</li><li>'ORG_NEW_POS_LANG_PREF'</li><li>'ORG_OUTLETS_COUNT'</li><li>'ORG_NEW_POS_KIND'</li><li>'ORG_WILLINGNESS_TO_PAY_AMOUNT'</li><li>'RESP_DESIGNATION'</li><li>'ORG_POS_FEATURES'</li><li>'ORG_NEW_POS_DEVICES'</li><li>'ORG_TYPE'</li><li>'ORG_CURRENT_PAYMENT_OPTIONS'</li><li>'ORG_DISCOUNTS_OFFERED'</li><li>'ORG_URDU_FEATURES_EXPECTED'</li><li>'ORG_REASON_TO_GET_POS'</li><li>'ORG_REASON_TO_NOT_HAVE_POS'</li><li>'ORG_WILLINGNESS_DEMO'</li><li>'ORG_WILLINGNESS_FUTURE_CONTACT'</li><li>'RESP_ID'</li></ol>\n"
            ]
          },
          "metadata": {
            "tags": []
          }
        }
      ]
    },
    {
      "cell_type": "markdown",
      "metadata": {
        "id": "dRITxwqO1OJc"
      },
      "source": [
        "Dropping variables that are not yet fixed"
      ]
    },
    {
      "cell_type": "markdown",
      "metadata": {
        "id": "gOABHeju0HHY"
      },
      "source": [
        "Dropping variables not to be used in plotting"
      ]
    },
    {
      "cell_type": "code",
      "metadata": {
        "id": "mP75Tipm1I7S"
      },
      "source": [
        "#df_with_1 %>% select(! c(RESP_ID,ORG_ADDRESS,ORG_NAME,ORG_RESP_TENURE)) -> df_without_2"
      ],
      "execution_count": 132,
      "outputs": []
    },
    {
      "cell_type": "code",
      "metadata": {
        "colab": {
          "base_uri": "https://localhost:8080/"
        },
        "id": "id_9O5UN0j97",
        "outputId": "f2242860-8cf4-4f46-c3ef-69caac186a4a"
      },
      "source": [
        "df_without_2 %>% glimpse()"
      ],
      "execution_count": 133,
      "outputs": [
        {
          "output_type": "stream",
          "text": [
            "Rows: 1,210\n",
            "Columns: 25\n",
            "$ ORG_CITY                       \u001b[3m\u001b[90m<fct>\u001b[39m\u001b[23m Rawalpindi, Islamabad, Islamabad, Islam…\n",
            "$ ORG_POS_BUSINESS_IMPROVEMENT   \u001b[3m\u001b[90m<fct>\u001b[39m\u001b[23m Yes, Yes, Yes, Yes, Yes, Yes, Yes, Yes,…\n",
            "$ ORG_INTERNET_ACCESS            \u001b[3m\u001b[90m<fct>\u001b[39m\u001b[23m None, Mobile, Mobile, None, Mobile, Mob…\n",
            "$ ORG_EXPAND_BUSINESS            \u001b[3m\u001b[90m<fct>\u001b[39m\u001b[23m No, Y:short-term, Y:immediately, Y:long…\n",
            "$ ORG_DELIVERY_SERVICE           \u001b[3m\u001b[90m<fct>\u001b[39m\u001b[23m No, Thinking about it, Yes, No, No, No,…\n",
            "$ ORG_CUSTOMER_DATA              \u001b[3m\u001b[90m<fct>\u001b[39m\u001b[23m \"Do not Store\", \"Do not Store, Use for …\n",
            "$ ORG_EMP_COUNT                  \u001b[3m\u001b[90m<fct>\u001b[39m\u001b[23m 2, 3, 2, 1, 1, 2, 1, 1, 1, 1, 2, 3, 2, …\n",
            "$ ORG_INTERNET_DISRUPTION        \u001b[3m\u001b[90m<fct>\u001b[39m\u001b[23m Never, Little, Never, Never, Little, Li…\n",
            "$ ORG_NEW_POS_PAYMENT_PREF       \u001b[3m\u001b[90m<fct>\u001b[39m\u001b[23m One-Time, Recurring:12M, Recurring:1M, …\n",
            "$ ORG_NEW_POS_LANG_PREF          \u001b[3m\u001b[90m<fct>\u001b[39m\u001b[23m English and Urdu, English and Urdu, Eng…\n",
            "$ ORG_OUTLETS_COUNT              \u001b[3m\u001b[90m<fct>\u001b[39m\u001b[23m 1, 1, 1, 1, 1, 1, 1, 1, 1, 2, 1, 1, 1, …\n",
            "$ ORG_NEW_POS_KIND               \u001b[3m\u001b[90m<fct>\u001b[39m\u001b[23m Stand-Alone, Stand-Alone, Web-Based, St…\n",
            "$ ORG_WILLINGNESS_TO_PAY_AMOUNT  \u001b[3m\u001b[90m<fct>\u001b[39m\u001b[23m 1K, 10K, 1K, 1K, 1K, <1K, 1K, 1K, No AN…\n",
            "$ RESP_DESIGNATION               \u001b[3m\u001b[90m<fct>\u001b[39m\u001b[23m Owner, Owner, Owner, Ower, Owner, Owner…\n",
            "$ ORG_POS_FEATURES               \u001b[3m\u001b[90m<fct>\u001b[39m\u001b[23m \"Remote Management/Centralized Manageme…\n",
            "$ ORG_NEW_POS_DEVICES            \u001b[3m\u001b[90m<fct>\u001b[39m\u001b[23m \"Mobile Phone\", \"Mobile Phone, PC\", \"La…\n",
            "$ ORG_TYPE                       \u001b[3m\u001b[90m<fct>\u001b[39m\u001b[23m \"Clothing items\", \"Clothing items\", \"Ha…\n",
            "$ ORG_CURRENT_PAYMENT_OPTIONS    \u001b[3m\u001b[90m<chr>\u001b[39m\u001b[23m \"Cash\", \"Cash\", \"Cash\", \"Cash\", \"Cash\",…\n",
            "$ ORG_DISCOUNTS_OFFERED          \u001b[3m\u001b[90m<fct>\u001b[39m\u001b[23m \"Customer Discount (Based on customer r…\n",
            "$ ORG_URDU_FEATURES_EXPECTED     \u001b[3m\u001b[90m<fct>\u001b[39m\u001b[23m \"Others (Please specify) (Everything in…\n",
            "$ ORG_REASON_TO_GET_POS          \u001b[3m\u001b[90m<fct>\u001b[39m\u001b[23m \"Other (Please specify) (Customer Data,…\n",
            "$ ORG_REASON_TO_NOT_HAVE_POS     \u001b[3m\u001b[90m<fct>\u001b[39m\u001b[23m \"I am happy with how my business is man…\n",
            "$ ORG_WILLINGNESS_DEMO           \u001b[3m\u001b[90m<fct>\u001b[39m\u001b[23m \"No\", \"Yes\", \"Yes\", \"No\", \"No\", \"Yes\", …\n",
            "$ ORG_WILLINGNESS_FUTURE_CONTACT \u001b[3m\u001b[90m<fct>\u001b[39m\u001b[23m \"Yes\", \"Yes\", \"Yes\", \"Yes\", \"Yes\", \"Yes…\n",
            "$ RESP_ID                        \u001b[3m\u001b[90m<int>\u001b[39m\u001b[23m 1, 2, 3, 4, 5, 6, 7, 8, 9, 10, 11, 12, …\n"
          ],
          "name": "stdout"
        }
      ]
    },
    {
      "cell_type": "code",
      "metadata": {
        "id": "GvSTB8v_0K1K"
      },
      "source": [
        "#df_with_1 %>% select(! c(RESP_ID,ORG_ADDRESS,ORG_NAME,ORG_RESP_TENURE)) -> df_without_2"
      ],
      "execution_count": 134,
      "outputs": []
    },
    {
      "cell_type": "code",
      "metadata": {
        "id": "0O6Bdy470CAR"
      },
      "source": [
        ""
      ],
      "execution_count": 135,
      "outputs": []
    },
    {
      "cell_type": "markdown",
      "metadata": {
        "id": "y2Sn_DvhLz3n"
      },
      "source": [
        "### Exp Graphs Via PURRR"
      ]
    },
    {
      "cell_type": "code",
      "metadata": {
        "id": "ibXH_JYzL2YX"
      },
      "source": [
        "# ref: https://aosmith.rbind.io/2018/08/20/automating-exploratory-plots/"
      ],
      "execution_count": 136,
      "outputs": []
    },
    {
      "cell_type": "code",
      "metadata": {
        "id": "lAmgRcIgL5UX",
        "colab": {
          "base_uri": "https://localhost:8080/",
          "height": 170
        },
        "outputId": "b64c5d3e-85ee-42e2-8073-bff033446c6d"
      },
      "source": [
        "# list of variables to plot\n",
        "colnames(df_without_2)"
      ],
      "execution_count": 137,
      "outputs": [
        {
          "output_type": "display_data",
          "data": {
            "text/plain": [
              " [1] \"ORG_CITY\"                       \"ORG_POS_BUSINESS_IMPROVEMENT\"  \n",
              " [3] \"ORG_INTERNET_ACCESS\"            \"ORG_EXPAND_BUSINESS\"           \n",
              " [5] \"ORG_DELIVERY_SERVICE\"           \"ORG_CUSTOMER_DATA\"             \n",
              " [7] \"ORG_EMP_COUNT\"                  \"ORG_INTERNET_DISRUPTION\"       \n",
              " [9] \"ORG_NEW_POS_PAYMENT_PREF\"       \"ORG_NEW_POS_LANG_PREF\"         \n",
              "[11] \"ORG_OUTLETS_COUNT\"              \"ORG_NEW_POS_KIND\"              \n",
              "[13] \"ORG_WILLINGNESS_TO_PAY_AMOUNT\"  \"RESP_DESIGNATION\"              \n",
              "[15] \"ORG_POS_FEATURES\"               \"ORG_NEW_POS_DEVICES\"           \n",
              "[17] \"ORG_TYPE\"                       \"ORG_CURRENT_PAYMENT_OPTIONS\"   \n",
              "[19] \"ORG_DISCOUNTS_OFFERED\"          \"ORG_URDU_FEATURES_EXPECTED\"    \n",
              "[21] \"ORG_REASON_TO_GET_POS\"          \"ORG_REASON_TO_NOT_HAVE_POS\"    \n",
              "[23] \"ORG_WILLINGNESS_DEMO\"           \"ORG_WILLINGNESS_FUTURE_CONTACT\"\n",
              "[25] \"RESP_ID\"                       "
            ],
            "text/latex": "\\begin{enumerate*}\n\\item 'ORG\\_CITY'\n\\item 'ORG\\_POS\\_BUSINESS\\_IMPROVEMENT'\n\\item 'ORG\\_INTERNET\\_ACCESS'\n\\item 'ORG\\_EXPAND\\_BUSINESS'\n\\item 'ORG\\_DELIVERY\\_SERVICE'\n\\item 'ORG\\_CUSTOMER\\_DATA'\n\\item 'ORG\\_EMP\\_COUNT'\n\\item 'ORG\\_INTERNET\\_DISRUPTION'\n\\item 'ORG\\_NEW\\_POS\\_PAYMENT\\_PREF'\n\\item 'ORG\\_NEW\\_POS\\_LANG\\_PREF'\n\\item 'ORG\\_OUTLETS\\_COUNT'\n\\item 'ORG\\_NEW\\_POS\\_KIND'\n\\item 'ORG\\_WILLINGNESS\\_TO\\_PAY\\_AMOUNT'\n\\item 'RESP\\_DESIGNATION'\n\\item 'ORG\\_POS\\_FEATURES'\n\\item 'ORG\\_NEW\\_POS\\_DEVICES'\n\\item 'ORG\\_TYPE'\n\\item 'ORG\\_CURRENT\\_PAYMENT\\_OPTIONS'\n\\item 'ORG\\_DISCOUNTS\\_OFFERED'\n\\item 'ORG\\_URDU\\_FEATURES\\_EXPECTED'\n\\item 'ORG\\_REASON\\_TO\\_GET\\_POS'\n\\item 'ORG\\_REASON\\_TO\\_NOT\\_HAVE\\_POS'\n\\item 'ORG\\_WILLINGNESS\\_DEMO'\n\\item 'ORG\\_WILLINGNESS\\_FUTURE\\_CONTACT'\n\\item 'RESP\\_ID'\n\\end{enumerate*}\n",
            "text/markdown": "1. 'ORG_CITY'\n2. 'ORG_POS_BUSINESS_IMPROVEMENT'\n3. 'ORG_INTERNET_ACCESS'\n4. 'ORG_EXPAND_BUSINESS'\n5. 'ORG_DELIVERY_SERVICE'\n6. 'ORG_CUSTOMER_DATA'\n7. 'ORG_EMP_COUNT'\n8. 'ORG_INTERNET_DISRUPTION'\n9. 'ORG_NEW_POS_PAYMENT_PREF'\n10. 'ORG_NEW_POS_LANG_PREF'\n11. 'ORG_OUTLETS_COUNT'\n12. 'ORG_NEW_POS_KIND'\n13. 'ORG_WILLINGNESS_TO_PAY_AMOUNT'\n14. 'RESP_DESIGNATION'\n15. 'ORG_POS_FEATURES'\n16. 'ORG_NEW_POS_DEVICES'\n17. 'ORG_TYPE'\n18. 'ORG_CURRENT_PAYMENT_OPTIONS'\n19. 'ORG_DISCOUNTS_OFFERED'\n20. 'ORG_URDU_FEATURES_EXPECTED'\n21. 'ORG_REASON_TO_GET_POS'\n22. 'ORG_REASON_TO_NOT_HAVE_POS'\n23. 'ORG_WILLINGNESS_DEMO'\n24. 'ORG_WILLINGNESS_FUTURE_CONTACT'\n25. 'RESP_ID'\n\n\n",
            "text/html": [
              "<style>\n",
              ".list-inline {list-style: none; margin:0; padding: 0}\n",
              ".list-inline>li {display: inline-block}\n",
              ".list-inline>li:not(:last-child)::after {content: \"\\00b7\"; padding: 0 .5ex}\n",
              "</style>\n",
              "<ol class=list-inline><li>'ORG_CITY'</li><li>'ORG_POS_BUSINESS_IMPROVEMENT'</li><li>'ORG_INTERNET_ACCESS'</li><li>'ORG_EXPAND_BUSINESS'</li><li>'ORG_DELIVERY_SERVICE'</li><li>'ORG_CUSTOMER_DATA'</li><li>'ORG_EMP_COUNT'</li><li>'ORG_INTERNET_DISRUPTION'</li><li>'ORG_NEW_POS_PAYMENT_PREF'</li><li>'ORG_NEW_POS_LANG_PREF'</li><li>'ORG_OUTLETS_COUNT'</li><li>'ORG_NEW_POS_KIND'</li><li>'ORG_WILLINGNESS_TO_PAY_AMOUNT'</li><li>'RESP_DESIGNATION'</li><li>'ORG_POS_FEATURES'</li><li>'ORG_NEW_POS_DEVICES'</li><li>'ORG_TYPE'</li><li>'ORG_CURRENT_PAYMENT_OPTIONS'</li><li>'ORG_DISCOUNTS_OFFERED'</li><li>'ORG_URDU_FEATURES_EXPECTED'</li><li>'ORG_REASON_TO_GET_POS'</li><li>'ORG_REASON_TO_NOT_HAVE_POS'</li><li>'ORG_WILLINGNESS_DEMO'</li><li>'ORG_WILLINGNESS_FUTURE_CONTACT'</li><li>'RESP_ID'</li></ol>\n"
            ]
          },
          "metadata": {
            "tags": []
          }
        }
      ]
    },
    {
      "cell_type": "markdown",
      "metadata": {
        "id": "rE1mm0q8USjP"
      },
      "source": [
        "### changing the order of graphs"
      ]
    },
    {
      "cell_type": "code",
      "metadata": {
        "id": "jcKS6yvbQciF",
        "colab": {
          "base_uri": "https://localhost:8080/",
          "height": 188
        },
        "outputId": "1b761656-05fa-475a-9ce6-35b1473e72a6"
      },
      "source": [
        "uni_var = c( \n",
        "'ORG_POS_BUSINESS_IMPROVEMENT',\n",
        "'ORG_INTERNET_ACCESS',\n",
        "'ORG_EXPAND_BUSINESS',\n",
        "'ORG_DELIVERY_SERVICE',\n",
        "'ORG_EMP_COUNT',\n",
        "'ORG_INTERNET_DISRUPTION',\n",
        "'ORG_NEW_POS_PAYMENT_PREF',\n",
        "'ORG_NEW_POS_LANG_PREF',\n",
        "'ORG_OUTLETS_COUNT',\n",
        "'ORG_NEW_POS_KIND',\n",
        "#'ORG_WILLINGNESS_TO_PAY_AMOUNT',\n",
        "#'RESP_DESIGNATION',\n",
        "#'ORG_POS_FEATURES',\n",
        "#'ORG_NEW_POS_DEVICES',\n",
        "#'ORG_TYPE',\n",
        "#'ORG_CURRENT_PAYMENT_OPTIONS',\n",
        "#'ORG_DISCOUNTS_OFFERED',\n",
        "#'ORG_URDU_FEATURES_EXPECTED',\n",
        "#'ORG_REASON_TO_GET_POS',\n",
        "#'ORG_REASON_TO_NOT_HAVE_POS',\n",
        "'ORG_WILLINGNESS_DEMO',\n",
        "'ORG_WILLINGNESS_FUTURE_CONTACT')\n",
        "uni_var = set_names(uni_var)\n",
        "uni_var"
      ],
      "execution_count": 138,
      "outputs": [
        {
          "output_type": "display_data",
          "data": {
            "text/plain": [
              "    ORG_POS_BUSINESS_IMPROVEMENT              ORG_INTERNET_ACCESS \n",
              "  \"ORG_POS_BUSINESS_IMPROVEMENT\"            \"ORG_INTERNET_ACCESS\" \n",
              "             ORG_EXPAND_BUSINESS             ORG_DELIVERY_SERVICE \n",
              "           \"ORG_EXPAND_BUSINESS\"           \"ORG_DELIVERY_SERVICE\" \n",
              "                   ORG_EMP_COUNT          ORG_INTERNET_DISRUPTION \n",
              "                 \"ORG_EMP_COUNT\"        \"ORG_INTERNET_DISRUPTION\" \n",
              "        ORG_NEW_POS_PAYMENT_PREF            ORG_NEW_POS_LANG_PREF \n",
              "      \"ORG_NEW_POS_PAYMENT_PREF\"          \"ORG_NEW_POS_LANG_PREF\" \n",
              "               ORG_OUTLETS_COUNT                 ORG_NEW_POS_KIND \n",
              "             \"ORG_OUTLETS_COUNT\"               \"ORG_NEW_POS_KIND\" \n",
              "            ORG_WILLINGNESS_DEMO   ORG_WILLINGNESS_FUTURE_CONTACT \n",
              "          \"ORG_WILLINGNESS_DEMO\" \"ORG_WILLINGNESS_FUTURE_CONTACT\" "
            ],
            "text/latex": "\\begin{description*}\n\\item[ORG\\textbackslash{}\\_POS\\textbackslash{}\\_BUSINESS\\textbackslash{}\\_IMPROVEMENT] 'ORG\\_POS\\_BUSINESS\\_IMPROVEMENT'\n\\item[ORG\\textbackslash{}\\_INTERNET\\textbackslash{}\\_ACCESS] 'ORG\\_INTERNET\\_ACCESS'\n\\item[ORG\\textbackslash{}\\_EXPAND\\textbackslash{}\\_BUSINESS] 'ORG\\_EXPAND\\_BUSINESS'\n\\item[ORG\\textbackslash{}\\_DELIVERY\\textbackslash{}\\_SERVICE] 'ORG\\_DELIVERY\\_SERVICE'\n\\item[ORG\\textbackslash{}\\_EMP\\textbackslash{}\\_COUNT] 'ORG\\_EMP\\_COUNT'\n\\item[ORG\\textbackslash{}\\_INTERNET\\textbackslash{}\\_DISRUPTION] 'ORG\\_INTERNET\\_DISRUPTION'\n\\item[ORG\\textbackslash{}\\_NEW\\textbackslash{}\\_POS\\textbackslash{}\\_PAYMENT\\textbackslash{}\\_PREF] 'ORG\\_NEW\\_POS\\_PAYMENT\\_PREF'\n\\item[ORG\\textbackslash{}\\_NEW\\textbackslash{}\\_POS\\textbackslash{}\\_LANG\\textbackslash{}\\_PREF] 'ORG\\_NEW\\_POS\\_LANG\\_PREF'\n\\item[ORG\\textbackslash{}\\_OUTLETS\\textbackslash{}\\_COUNT] 'ORG\\_OUTLETS\\_COUNT'\n\\item[ORG\\textbackslash{}\\_NEW\\textbackslash{}\\_POS\\textbackslash{}\\_KIND] 'ORG\\_NEW\\_POS\\_KIND'\n\\item[ORG\\textbackslash{}\\_WILLINGNESS\\textbackslash{}\\_DEMO] 'ORG\\_WILLINGNESS\\_DEMO'\n\\item[ORG\\textbackslash{}\\_WILLINGNESS\\textbackslash{}\\_FUTURE\\textbackslash{}\\_CONTACT] 'ORG\\_WILLINGNESS\\_FUTURE\\_CONTACT'\n\\end{description*}\n",
            "text/markdown": "ORG_POS_BUSINESS_IMPROVEMENT\n:   'ORG_POS_BUSINESS_IMPROVEMENT'ORG_INTERNET_ACCESS\n:   'ORG_INTERNET_ACCESS'ORG_EXPAND_BUSINESS\n:   'ORG_EXPAND_BUSINESS'ORG_DELIVERY_SERVICE\n:   'ORG_DELIVERY_SERVICE'ORG_EMP_COUNT\n:   'ORG_EMP_COUNT'ORG_INTERNET_DISRUPTION\n:   'ORG_INTERNET_DISRUPTION'ORG_NEW_POS_PAYMENT_PREF\n:   'ORG_NEW_POS_PAYMENT_PREF'ORG_NEW_POS_LANG_PREF\n:   'ORG_NEW_POS_LANG_PREF'ORG_OUTLETS_COUNT\n:   'ORG_OUTLETS_COUNT'ORG_NEW_POS_KIND\n:   'ORG_NEW_POS_KIND'ORG_WILLINGNESS_DEMO\n:   'ORG_WILLINGNESS_DEMO'ORG_WILLINGNESS_FUTURE_CONTACT\n:   'ORG_WILLINGNESS_FUTURE_CONTACT'\n\n",
            "text/html": [
              "<style>\n",
              ".dl-inline {width: auto; margin:0; padding: 0}\n",
              ".dl-inline>dt, .dl-inline>dd {float: none; width: auto; display: inline-block}\n",
              ".dl-inline>dt::after {content: \":\\0020\"; padding-right: .5ex}\n",
              ".dl-inline>dt:not(:first-of-type) {padding-left: .5ex}\n",
              "</style><dl class=dl-inline><dt>ORG_POS_BUSINESS_IMPROVEMENT</dt><dd>'ORG_POS_BUSINESS_IMPROVEMENT'</dd><dt>ORG_INTERNET_ACCESS</dt><dd>'ORG_INTERNET_ACCESS'</dd><dt>ORG_EXPAND_BUSINESS</dt><dd>'ORG_EXPAND_BUSINESS'</dd><dt>ORG_DELIVERY_SERVICE</dt><dd>'ORG_DELIVERY_SERVICE'</dd><dt>ORG_EMP_COUNT</dt><dd>'ORG_EMP_COUNT'</dd><dt>ORG_INTERNET_DISRUPTION</dt><dd>'ORG_INTERNET_DISRUPTION'</dd><dt>ORG_NEW_POS_PAYMENT_PREF</dt><dd>'ORG_NEW_POS_PAYMENT_PREF'</dd><dt>ORG_NEW_POS_LANG_PREF</dt><dd>'ORG_NEW_POS_LANG_PREF'</dd><dt>ORG_OUTLETS_COUNT</dt><dd>'ORG_OUTLETS_COUNT'</dd><dt>ORG_NEW_POS_KIND</dt><dd>'ORG_NEW_POS_KIND'</dd><dt>ORG_WILLINGNESS_DEMO</dt><dd>'ORG_WILLINGNESS_DEMO'</dd><dt>ORG_WILLINGNESS_FUTURE_CONTACT</dt><dd>'ORG_WILLINGNESS_FUTURE_CONTACT'</dd></dl>\n"
            ]
          },
          "metadata": {
            "tags": []
          }
        }
      ]
    },
    {
      "cell_type": "markdown",
      "metadata": {
        "id": "0KuSu0tPVbxk"
      },
      "source": [
        "TODO"
      ]
    },
    {
      "cell_type": "code",
      "metadata": {
        "id": "yf7OVx4hVdsb"
      },
      "source": [
        "# variables to fix (multiple choice options)\n",
        "\n",
        "## removed from with pos data, multiple choice or non-relevant\n",
        "# 'ORG_ADDRESS'\n",
        "# 'ORG_CITY' --> No point faceting City on city\n",
        "# 'ORG_CUSTOMER_DATA',\n",
        "# 'ORG_NAME',\n",
        "# 'ORG_RESP_TENURE',\n",
        "# 'ORG_WILLINGNESS_TO_PAY_AMOUNT',\n",
        "# 'SB_OBSERVATION',\n",
        "# 'ORG_PICTURE_LINK',\n",
        "# 'ORG_VISITING_CARD',\n",
        "# 'SB_REGION',\n",
        "# 'RESP_DESIGNATION',\n",
        "# 'RESP_NAME',\n",
        "# 'RESP_PHONE',\n",
        "# 'ORG_NEW_POS_DEVICES',\n",
        "# 'ORG_POS_FEATURES',\n",
        "# 'ORG_TYPE',\n",
        "# 'ORG_CURRENT_PAYMENT_OPTIONS',\n",
        "# 'ORG_DISCOUNTS_OFFERED',\n",
        "# 'ORG_URDU_FEATURES_EXPECTED',\n",
        "# 'ORG_REASON_TO_GET_POS',\n",
        "# 'ORG_REASON_TO_NOT_HAVE_POS',\n",
        "\n",
        "\n",
        "\n",
        "\n",
        "\n",
        "\n",
        "\n",
        "\n",
        "## removed from with pos data, multiple choice or non-relevant\n",
        "# ORG_TYPE\n",
        "# ORG_DISCOUNTS_OFFERED\n",
        "# ORG_CUSTOMER_DATA\n",
        "# ORG_POS_FEATURES\n",
        "# ORG_OLD_POS_PAYMENT_OPTIONS\n",
        "# ORG_OLD_POS_DEVICES\n",
        "# ORG_OLD_POS_URDU_FEATURES\n",
        "# ORG_REASON_TO_REPLACE_POS\n",
        "# ORG_WILLINGNESS_TO_PAY_AMOUNT\n",
        "# ORG_OLD_POS_PROVIDER_PAYMENT_METHOD"
      ],
      "execution_count": 139,
      "outputs": []
    },
    {
      "cell_type": "markdown",
      "metadata": {
        "id": "l948xQo-RAm-"
      },
      "source": [
        "#### Plotting WorkHorse"
      ]
    },
    {
      "cell_type": "code",
      "metadata": {
        "id": "Sz07kzBLQ1Ml"
      },
      "source": [
        "bar_fun = function(x, y) {\n",
        "     ggplot(df_3, aes(x = .data[[x]]) ) +\n",
        "     geom_bar(aes(fill = .data[[x]]), position = \"dodge\") +\n",
        "     facet_wrap(~ .data[[y]]) +\n",
        "     \n",
        "     # bars are too little to add data labels\n",
        "     labs(x = x, y = \"COUNT\") +\n",
        "     scale_fill_brewer(palette = \"Set2\") +\n",
        "     theme_light() +\n",
        "     theme(axis.text.x = element_text(angle = 90, vjust = 0.5, hjust=1)) +\n",
        "     theme(strip.text = element_text(face = \"bold\", size = rel(1.5)),\n",
        "     strip.background = element_rect(fill = \"lightgrey\", colour = \"black\", size = 1),\n",
        "     axis.title.y = element_blank(),\n",
        "     legend.position = \"none\"\n",
        "  )\n",
        "}"
      ],
      "execution_count": 140,
      "outputs": []
    },
    {
      "cell_type": "code",
      "metadata": {
        "id": "5gFrO_HGR6k5"
      },
      "source": [
        "#bar_fun(\"ORG_DELIVERY_SERVICE\", \"ORG_CITY\")"
      ],
      "execution_count": 141,
      "outputs": []
    },
    {
      "cell_type": "markdown",
      "metadata": {
        "id": "-hGhaVrRScdj"
      },
      "source": [
        "#### Plotting WorkHorse (Proportions)"
      ]
    },
    {
      "cell_type": "markdown",
      "metadata": {
        "id": "6pedrKVN5qaM"
      },
      "source": [
        "remember to change the hard-coded df in this function"
      ]
    },
    {
      "cell_type": "code",
      "metadata": {
        "id": "ePDwMUqKuk96"
      },
      "source": [
        "bar_prop_fun = function(x, y) {\n",
        "  \n",
        "    ggplot(df_without_2, aes(x = .data[[x]], group = .data[[y]]) ) + \n",
        "    geom_bar(aes(y = ..prop.., fill = factor(..x..)), stat=\"count\") +\n",
        "    geom_text(aes( label = scales::percent(..prop..,accuracy=0.1),\n",
        "                  y= ..prop.. ), stat= \"count\", \n",
        "                  vjust = -.5, size=2 ) +\n",
        "    facet_grid(~ .data[[y]]) +\n",
        "    scale_y_continuous(labels = scales::percent) +\n",
        "\n",
        "    # bars are too little to add data labels\n",
        "     labs(x = x, y = \"COUNT\") +\n",
        "     scale_fill_brewer(palette = \"Set2\") +\n",
        "     theme_light() +\n",
        "     theme(axis.text.x = element_text(angle = 90, vjust = 0.5, hjust=1, size = 5)) +\n",
        "     theme(strip.text = element_text(face = \"bold\", size = rel(1.5)),\n",
        "     strip.background = element_rect(fill = \"lightgrey\", colour = \"black\", size = 1),\n",
        "     axis.title.y = element_blank(),\n",
        "     legend.position = \"none\")\n",
        "       \n",
        "     #plot.margin = unit(c(0, 0, 0, 0), \"null\"))\n",
        "     \n",
        "     #plot.margin = unit(c(0, 0, 0, 0), \"cm\"))\n",
        "     #panel.spacing = unit(c(0, 0, 0, 0), \"null\"))\n",
        "     #plot.margin = unit(c(0, 0, 0, 0), \"null\"))\n",
        "     #panel.background = element_rect(fill = \"transparent\", colour = NA),\n",
        "     #plot.background = element_rect(fill = \"transparent\", colour = NA),\n",
        "     #panel.grid = element_blank(),\n",
        "     #panel.border = element_blank())\n",
        "\n",
        "     st=format(Sys.time(), \"%Y-%m-%d_%H:%M\")\n",
        "     file_name = paste (\"Without-POS-\", st, \"-\", x, \".png\", sep=\"\")\n",
        "     ggsave(file_name)\n",
        "}"
      ],
      "execution_count": 142,
      "outputs": []
    },
    {
      "cell_type": "code",
      "metadata": {
        "id": "TRbTYqVuTZ6T",
        "colab": {
          "base_uri": "https://localhost:8080/"
        },
        "outputId": "2985091b-9b2a-4857-9eb5-90f62d6f167f"
      },
      "source": [
        "bar_prop_fun(\"ORG_INTERNET_DISRUPTION\",\"ORG_CITY\")"
      ],
      "execution_count": 143,
      "outputs": [
        {
          "output_type": "stream",
          "text": [
            "Saving 6.67 x 6.67 in image\n",
            "\n"
          ],
          "name": "stderr"
        }
      ]
    },
    {
      "cell_type": "code",
      "metadata": {
        "id": "7ttgNi7xSfI6",
        "colab": {
          "base_uri": "https://localhost:8080/"
        },
        "outputId": "fa723ac2-df74-4054-cafc-cc599d1b4aec"
      },
      "source": [
        "\n",
        "# Now using MAP, fixing facet variable to ORG_CITY\n",
        "#uni_plots = map(uni_var, ~bar_fun(.x, \"ORG_CITY\") )\n",
        "uni_plots = map(uni_var, ~bar_prop_fun(.x, \"ORG_CITY\") )"
      ],
      "execution_count": 144,
      "outputs": [
        {
          "output_type": "stream",
          "text": [
            "Saving 6.67 x 6.67 in image\n",
            "\n",
            "Saving 6.67 x 6.67 in image\n",
            "\n",
            "Saving 6.67 x 6.67 in image\n",
            "\n",
            "Saving 6.67 x 6.67 in image\n",
            "\n",
            "Saving 6.67 x 6.67 in image\n",
            "\n",
            "Warning message in RColorBrewer::brewer.pal(n, pal):\n",
            "“n too large, allowed maximum for palette Set2 is 8\n",
            "Returning the palette you asked for with that many colors\n",
            "”\n",
            "Saving 6.67 x 6.67 in image\n",
            "\n",
            "Saving 6.67 x 6.67 in image\n",
            "\n",
            "Saving 6.67 x 6.67 in image\n",
            "\n",
            "Saving 6.67 x 6.67 in image\n",
            "\n",
            "Saving 6.67 x 6.67 in image\n",
            "\n",
            "Saving 6.67 x 6.67 in image\n",
            "\n",
            "Saving 6.67 x 6.67 in image\n",
            "\n"
          ],
          "name": "stderr"
        }
      ]
    },
    {
      "cell_type": "code",
      "metadata": {
        "id": "FCt_SrrNSwZf",
        "colab": {
          "base_uri": "https://localhost:8080/",
          "height": 454
        },
        "outputId": "476769f0-bb33-4d2c-cb3b-06dfc23937ee"
      },
      "source": [
        "uni_plots"
      ],
      "execution_count": 145,
      "outputs": [
        {
          "output_type": "display_data",
          "data": {
            "text/plain": [
              "$ORG_POS_BUSINESS_IMPROVEMENT\n",
              "NULL\n",
              "\n",
              "$ORG_INTERNET_ACCESS\n",
              "NULL\n",
              "\n",
              "$ORG_EXPAND_BUSINESS\n",
              "NULL\n",
              "\n",
              "$ORG_DELIVERY_SERVICE\n",
              "NULL\n",
              "\n",
              "$ORG_EMP_COUNT\n",
              "NULL\n",
              "\n",
              "$ORG_INTERNET_DISRUPTION\n",
              "NULL\n",
              "\n",
              "$ORG_NEW_POS_PAYMENT_PREF\n",
              "NULL\n",
              "\n",
              "$ORG_NEW_POS_LANG_PREF\n",
              "NULL\n",
              "\n",
              "$ORG_OUTLETS_COUNT\n",
              "NULL\n",
              "\n",
              "$ORG_NEW_POS_KIND\n",
              "NULL\n",
              "\n",
              "$ORG_WILLINGNESS_DEMO\n",
              "NULL\n",
              "\n",
              "$ORG_WILLINGNESS_FUTURE_CONTACT\n",
              "NULL\n"
            ],
            "text/latex": "\\begin{description}\n\\item[\\$ORG\\_POS\\_BUSINESS\\_IMPROVEMENT] NULL\n\\item[\\$ORG\\_INTERNET\\_ACCESS] NULL\n\\item[\\$ORG\\_EXPAND\\_BUSINESS] NULL\n\\item[\\$ORG\\_DELIVERY\\_SERVICE] NULL\n\\item[\\$ORG\\_EMP\\_COUNT] NULL\n\\item[\\$ORG\\_INTERNET\\_DISRUPTION] NULL\n\\item[\\$ORG\\_NEW\\_POS\\_PAYMENT\\_PREF] NULL\n\\item[\\$ORG\\_NEW\\_POS\\_LANG\\_PREF] NULL\n\\item[\\$ORG\\_OUTLETS\\_COUNT] NULL\n\\item[\\$ORG\\_NEW\\_POS\\_KIND] NULL\n\\item[\\$ORG\\_WILLINGNESS\\_DEMO] NULL\n\\item[\\$ORG\\_WILLINGNESS\\_FUTURE\\_CONTACT] NULL\n\\end{description}\n",
            "text/markdown": "$ORG_POS_BUSINESS_IMPROVEMENT\n:   NULL\n$ORG_INTERNET_ACCESS\n:   NULL\n$ORG_EXPAND_BUSINESS\n:   NULL\n$ORG_DELIVERY_SERVICE\n:   NULL\n$ORG_EMP_COUNT\n:   NULL\n$ORG_INTERNET_DISRUPTION\n:   NULL\n$ORG_NEW_POS_PAYMENT_PREF\n:   NULL\n$ORG_NEW_POS_LANG_PREF\n:   NULL\n$ORG_OUTLETS_COUNT\n:   NULL\n$ORG_NEW_POS_KIND\n:   NULL\n$ORG_WILLINGNESS_DEMO\n:   NULL\n$ORG_WILLINGNESS_FUTURE_CONTACT\n:   NULL\n\n\n",
            "text/html": [
              "<dl>\n",
              "\t<dt>$ORG_POS_BUSINESS_IMPROVEMENT</dt>\n",
              "\t\t<dd>NULL</dd>\n",
              "\t<dt>$ORG_INTERNET_ACCESS</dt>\n",
              "\t\t<dd>NULL</dd>\n",
              "\t<dt>$ORG_EXPAND_BUSINESS</dt>\n",
              "\t\t<dd>NULL</dd>\n",
              "\t<dt>$ORG_DELIVERY_SERVICE</dt>\n",
              "\t\t<dd>NULL</dd>\n",
              "\t<dt>$ORG_EMP_COUNT</dt>\n",
              "\t\t<dd>NULL</dd>\n",
              "\t<dt>$ORG_INTERNET_DISRUPTION</dt>\n",
              "\t\t<dd>NULL</dd>\n",
              "\t<dt>$ORG_NEW_POS_PAYMENT_PREF</dt>\n",
              "\t\t<dd>NULL</dd>\n",
              "\t<dt>$ORG_NEW_POS_LANG_PREF</dt>\n",
              "\t\t<dd>NULL</dd>\n",
              "\t<dt>$ORG_OUTLETS_COUNT</dt>\n",
              "\t\t<dd>NULL</dd>\n",
              "\t<dt>$ORG_NEW_POS_KIND</dt>\n",
              "\t\t<dd>NULL</dd>\n",
              "\t<dt>$ORG_WILLINGNESS_DEMO</dt>\n",
              "\t\t<dd>NULL</dd>\n",
              "\t<dt>$ORG_WILLINGNESS_FUTURE_CONTACT</dt>\n",
              "\t\t<dd>NULL</dd>\n",
              "</dl>\n"
            ]
          },
          "metadata": {
            "tags": []
          }
        }
      ]
    },
    {
      "cell_type": "code",
      "metadata": {
        "id": "mYQR5AUK44FP"
      },
      "source": [
        "# SB_REGION should be plotted, without facetting\n",
        "#'SB_REGION'"
      ],
      "execution_count": 146,
      "outputs": []
    },
    {
      "cell_type": "code",
      "metadata": {
        "id": "9dNYwPqgS853",
        "colab": {
          "base_uri": "https://localhost:8080/",
          "height": 471
        },
        "outputId": "2064a351-8221-4aba-9230-cf1eea294314"
      },
      "source": [
        "# printing the plots\n",
        "st=format(Sys.time(), \"%Y-%m-%d_%H:%M\")\n",
        "survey_plot_file = paste (\"Plots_\", \"WithoutPOS_\",st, \".pdf\", sep=\"\")\n",
        "#pdf(\"Analysis_WithPOS_v6.pdf\")\n",
        "pdf(survey_plot_file)\n",
        "uni_plots\n",
        "dev.off()"
      ],
      "execution_count": 147,
      "outputs": [
        {
          "output_type": "display_data",
          "data": {
            "text/plain": [
              "$ORG_POS_BUSINESS_IMPROVEMENT\n",
              "NULL\n",
              "\n",
              "$ORG_INTERNET_ACCESS\n",
              "NULL\n",
              "\n",
              "$ORG_EXPAND_BUSINESS\n",
              "NULL\n",
              "\n",
              "$ORG_DELIVERY_SERVICE\n",
              "NULL\n",
              "\n",
              "$ORG_EMP_COUNT\n",
              "NULL\n",
              "\n",
              "$ORG_INTERNET_DISRUPTION\n",
              "NULL\n",
              "\n",
              "$ORG_NEW_POS_PAYMENT_PREF\n",
              "NULL\n",
              "\n",
              "$ORG_NEW_POS_LANG_PREF\n",
              "NULL\n",
              "\n",
              "$ORG_OUTLETS_COUNT\n",
              "NULL\n",
              "\n",
              "$ORG_NEW_POS_KIND\n",
              "NULL\n",
              "\n",
              "$ORG_WILLINGNESS_DEMO\n",
              "NULL\n",
              "\n",
              "$ORG_WILLINGNESS_FUTURE_CONTACT\n",
              "NULL\n"
            ],
            "text/latex": "\\begin{description}\n\\item[\\$ORG\\_POS\\_BUSINESS\\_IMPROVEMENT] NULL\n\\item[\\$ORG\\_INTERNET\\_ACCESS] NULL\n\\item[\\$ORG\\_EXPAND\\_BUSINESS] NULL\n\\item[\\$ORG\\_DELIVERY\\_SERVICE] NULL\n\\item[\\$ORG\\_EMP\\_COUNT] NULL\n\\item[\\$ORG\\_INTERNET\\_DISRUPTION] NULL\n\\item[\\$ORG\\_NEW\\_POS\\_PAYMENT\\_PREF] NULL\n\\item[\\$ORG\\_NEW\\_POS\\_LANG\\_PREF] NULL\n\\item[\\$ORG\\_OUTLETS\\_COUNT] NULL\n\\item[\\$ORG\\_NEW\\_POS\\_KIND] NULL\n\\item[\\$ORG\\_WILLINGNESS\\_DEMO] NULL\n\\item[\\$ORG\\_WILLINGNESS\\_FUTURE\\_CONTACT] NULL\n\\end{description}\n",
            "text/markdown": "$ORG_POS_BUSINESS_IMPROVEMENT\n:   NULL\n$ORG_INTERNET_ACCESS\n:   NULL\n$ORG_EXPAND_BUSINESS\n:   NULL\n$ORG_DELIVERY_SERVICE\n:   NULL\n$ORG_EMP_COUNT\n:   NULL\n$ORG_INTERNET_DISRUPTION\n:   NULL\n$ORG_NEW_POS_PAYMENT_PREF\n:   NULL\n$ORG_NEW_POS_LANG_PREF\n:   NULL\n$ORG_OUTLETS_COUNT\n:   NULL\n$ORG_NEW_POS_KIND\n:   NULL\n$ORG_WILLINGNESS_DEMO\n:   NULL\n$ORG_WILLINGNESS_FUTURE_CONTACT\n:   NULL\n\n\n",
            "text/html": [
              "<dl>\n",
              "\t<dt>$ORG_POS_BUSINESS_IMPROVEMENT</dt>\n",
              "\t\t<dd>NULL</dd>\n",
              "\t<dt>$ORG_INTERNET_ACCESS</dt>\n",
              "\t\t<dd>NULL</dd>\n",
              "\t<dt>$ORG_EXPAND_BUSINESS</dt>\n",
              "\t\t<dd>NULL</dd>\n",
              "\t<dt>$ORG_DELIVERY_SERVICE</dt>\n",
              "\t\t<dd>NULL</dd>\n",
              "\t<dt>$ORG_EMP_COUNT</dt>\n",
              "\t\t<dd>NULL</dd>\n",
              "\t<dt>$ORG_INTERNET_DISRUPTION</dt>\n",
              "\t\t<dd>NULL</dd>\n",
              "\t<dt>$ORG_NEW_POS_PAYMENT_PREF</dt>\n",
              "\t\t<dd>NULL</dd>\n",
              "\t<dt>$ORG_NEW_POS_LANG_PREF</dt>\n",
              "\t\t<dd>NULL</dd>\n",
              "\t<dt>$ORG_OUTLETS_COUNT</dt>\n",
              "\t\t<dd>NULL</dd>\n",
              "\t<dt>$ORG_NEW_POS_KIND</dt>\n",
              "\t\t<dd>NULL</dd>\n",
              "\t<dt>$ORG_WILLINGNESS_DEMO</dt>\n",
              "\t\t<dd>NULL</dd>\n",
              "\t<dt>$ORG_WILLINGNESS_FUTURE_CONTACT</dt>\n",
              "\t\t<dd>NULL</dd>\n",
              "</dl>\n"
            ]
          },
          "metadata": {
            "tags": []
          }
        },
        {
          "output_type": "display_data",
          "data": {
            "text/plain": [
              "png \n",
              "  2 "
            ],
            "text/latex": "\\textbf{png:} 2",
            "text/markdown": "**png:** 2",
            "text/html": [
              "<strong>png:</strong> 2"
            ]
          },
          "metadata": {
            "tags": []
          }
        }
      ]
    },
    {
      "cell_type": "markdown",
      "metadata": {
        "id": "hSzYZOJHcb4l"
      },
      "source": [
        "### Adding Multi-Response Plots"
      ]
    },
    {
      "cell_type": "code",
      "metadata": {
        "id": "M0iGAWhlcesF"
      },
      "source": [
        "#df_customer_data\n",
        "\n",
        "\n",
        "bar_prop_fun = function(x, y) {\n",
        "  \n",
        "    ggplot(df_customer_data, aes(x = .data[[x]], group = .data[[y]]) ) + \n",
        "    geom_bar(aes(y = ..prop.., fill = factor(..x..)), stat=\"count\") +\n",
        "    geom_text(aes( label = scales::percent(..prop..,accuracy=0.1),\n",
        "                  y= ..prop.. ), stat= \"count\", \n",
        "                  vjust = -.5, size=2 ) +\n",
        "    facet_grid(~ .data[[y]]) +\n",
        "    scale_y_continuous(labels = scales::percent) +\n",
        "\n",
        "    # bars are too little to add data labels\n",
        "     labs(x = x, y = \"COUNT\") +\n",
        "     scale_fill_brewer(palette = \"Set2\") +\n",
        "     theme_light() +\n",
        "     theme(axis.text.x = element_text(angle = 90, vjust = 0.5, hjust=1, size = 5)) +\n",
        "     theme(strip.text = element_text(face = \"bold\", size = rel(1.5)),\n",
        "     strip.background = element_rect(fill = \"lightgrey\", colour = \"black\", size = 1),\n",
        "     axis.title.y = element_blank(),\n",
        "     legend.position = \"none\")\n",
        "       \n",
        "    \n",
        "\n",
        "     st=format(Sys.time(), \"%Y-%m-%d_%H:%M\")\n",
        "     file_name = paste (\"Without-POS-\", st, \"-\", x, \".png\", sep=\"\")\n",
        "     ggsave(file_name)\n",
        "}"
      ],
      "execution_count": 148,
      "outputs": []
    },
    {
      "cell_type": "code",
      "metadata": {
        "colab": {
          "base_uri": "https://localhost:8080/"
        },
        "id": "Zeb1oY11doMC",
        "outputId": "42790d41-db0b-460a-df77-096fc75e5a78"
      },
      "source": [
        "bar_prop_fun(\"ORG_CUSTOMER_DATA\",\"ORG_CITY\")"
      ],
      "execution_count": 149,
      "outputs": [
        {
          "output_type": "stream",
          "text": [
            "Saving 6.67 x 6.67 in image\n",
            "\n"
          ],
          "name": "stderr"
        }
      ]
    },
    {
      "cell_type": "code",
      "metadata": {
        "colab": {
          "base_uri": "https://localhost:8080/",
          "height": 251
        },
        "id": "g5QLJaXHtGLx",
        "outputId": "ce190646-9ded-4c8e-d501-4405ce302665"
      },
      "source": [
        "df_customer_data %>% head(5)"
      ],
      "execution_count": 150,
      "outputs": [
        {
          "output_type": "display_data",
          "data": {
            "text/plain": [
              "  RESP_ID ORG_CITY   ORG_CUSTOMER_DATA answer                                  \n",
              "1 1       Rawalpindi ORG_CUSTOMER_DATA Do not Store                            \n",
              "2 2       Islamabad  ORG_CUSTOMER_DATA Do not Store                            \n",
              "3 2       Islamabad  ORG_CUSTOMER_DATA Use for discounts (repeated purchases)  \n",
              "4 3       Islamabad  ORG_CUSTOMER_DATA Use for discounts (repeated purchases)  \n",
              "5 4       Islamabad  ORG_CUSTOMER_DATA Use for delivery (sending ordered items)"
            ],
            "text/latex": "A tibble: 5 × 4\n\\begin{tabular}{llll}\n RESP\\_ID & ORG\\_CITY & ORG\\_CUSTOMER\\_DATA & answer\\\\\n <int> & <fct> & <chr> & <fct>\\\\\n\\hline\n\t 1 & Rawalpindi & ORG\\_CUSTOMER\\_DATA & Do not Store                            \\\\\n\t 2 & Islamabad  & ORG\\_CUSTOMER\\_DATA & Do not Store                            \\\\\n\t 2 & Islamabad  & ORG\\_CUSTOMER\\_DATA & Use for discounts (repeated purchases)  \\\\\n\t 3 & Islamabad  & ORG\\_CUSTOMER\\_DATA & Use for discounts (repeated purchases)  \\\\\n\t 4 & Islamabad  & ORG\\_CUSTOMER\\_DATA & Use for delivery (sending ordered items)\\\\\n\\end{tabular}\n",
            "text/markdown": "\nA tibble: 5 × 4\n\n| RESP_ID &lt;int&gt; | ORG_CITY &lt;fct&gt; | ORG_CUSTOMER_DATA &lt;chr&gt; | answer &lt;fct&gt; |\n|---|---|---|---|\n| 1 | Rawalpindi | ORG_CUSTOMER_DATA | Do not Store                             |\n| 2 | Islamabad  | ORG_CUSTOMER_DATA | Do not Store                             |\n| 2 | Islamabad  | ORG_CUSTOMER_DATA | Use for discounts (repeated purchases)   |\n| 3 | Islamabad  | ORG_CUSTOMER_DATA | Use for discounts (repeated purchases)   |\n| 4 | Islamabad  | ORG_CUSTOMER_DATA | Use for delivery (sending ordered items) |\n\n",
            "text/html": [
              "<table class=\"dataframe\">\n",
              "<caption>A tibble: 5 × 4</caption>\n",
              "<thead>\n",
              "\t<tr><th scope=col>RESP_ID</th><th scope=col>ORG_CITY</th><th scope=col>ORG_CUSTOMER_DATA</th><th scope=col>answer</th></tr>\n",
              "\t<tr><th scope=col>&lt;int&gt;</th><th scope=col>&lt;fct&gt;</th><th scope=col>&lt;chr&gt;</th><th scope=col>&lt;fct&gt;</th></tr>\n",
              "</thead>\n",
              "<tbody>\n",
              "\t<tr><td>1</td><td>Rawalpindi</td><td>ORG_CUSTOMER_DATA</td><td>Do not Store                            </td></tr>\n",
              "\t<tr><td>2</td><td>Islamabad </td><td>ORG_CUSTOMER_DATA</td><td>Do not Store                            </td></tr>\n",
              "\t<tr><td>2</td><td>Islamabad </td><td>ORG_CUSTOMER_DATA</td><td>Use for discounts (repeated purchases)  </td></tr>\n",
              "\t<tr><td>3</td><td>Islamabad </td><td>ORG_CUSTOMER_DATA</td><td>Use for discounts (repeated purchases)  </td></tr>\n",
              "\t<tr><td>4</td><td>Islamabad </td><td>ORG_CUSTOMER_DATA</td><td>Use for delivery (sending ordered items)</td></tr>\n",
              "</tbody>\n",
              "</table>\n"
            ]
          },
          "metadata": {
            "tags": []
          }
        }
      ]
    },
    {
      "cell_type": "code",
      "metadata": {
        "id": "6ECzjIqLs2sP"
      },
      "source": [
        "df_customer_data %>% tabyl(answer,ORG_CITY) -> df_customer_data_two_way"
      ],
      "execution_count": 151,
      "outputs": []
    },
    {
      "cell_type": "code",
      "metadata": {
        "id": "La-gEyc5t67k"
      },
      "source": [
        "df_customer_data_two_way <- df_customer_data_two_way %>%\n",
        "  adorn_percentages(\"col\") %>%\n",
        "  adorn_pct_formatting(digits = 2) #%>%\n",
        "  #adorn_ns()\n",
        "  "
      ],
      "execution_count": 152,
      "outputs": []
    },
    {
      "cell_type": "code",
      "metadata": {
        "colab": {
          "base_uri": "https://localhost:8080/",
          "height": 282
        },
        "id": "9xg_8Ucbuhlu",
        "outputId": "fac327dd-5f91-4073-e26d-61f03492b656"
      },
      "source": [
        "df_customer_data_two_way"
      ],
      "execution_count": 153,
      "outputs": [
        {
          "output_type": "display_data",
          "data": {
            "text/plain": [
              "  answer                                   Islamabad Karachi Rawalpindi\n",
              "1 Do not Store                             49.21%    21.39%  46.84%    \n",
              "2 Use for discounts (repeated purchases)   41.54%    34.10%  43.27%    \n",
              "3 Use for delivery (sending ordered items) 1.97%     10.12%  0.72%     \n",
              "4 Use for sending SMS (advertisement)      1.77%     11.27%  0.60%     \n",
              "5 Store but do not use                     4.72%     23.12%  8.58%     \n",
              "6 No ANS                                   0.79%     0.00%   0.00%     "
            ],
            "text/latex": "A tabyl: 6 × 4\n\\begin{tabular}{llll}\n answer & Islamabad & Karachi & Rawalpindi\\\\\n <fct> & <chr> & <chr> & <chr>\\\\\n\\hline\n\t Do not Store                             & 49.21\\% & 21.39\\% & 46.84\\%\\\\\n\t Use for discounts (repeated purchases)   & 41.54\\% & 34.10\\% & 43.27\\%\\\\\n\t Use for delivery (sending ordered items) & 1.97\\%  & 10.12\\% & 0.72\\% \\\\\n\t Use for sending SMS (advertisement)      & 1.77\\%  & 11.27\\% & 0.60\\% \\\\\n\t Store but do not use                     & 4.72\\%  & 23.12\\% & 8.58\\% \\\\\n\t No ANS                                   & 0.79\\%  & 0.00\\%  & 0.00\\% \\\\\n\\end{tabular}\n",
            "text/markdown": "\nA tabyl: 6 × 4\n\n| answer &lt;fct&gt; | Islamabad &lt;chr&gt; | Karachi &lt;chr&gt; | Rawalpindi &lt;chr&gt; |\n|---|---|---|---|\n| Do not Store                             | 49.21% | 21.39% | 46.84% |\n| Use for discounts (repeated purchases)   | 41.54% | 34.10% | 43.27% |\n| Use for delivery (sending ordered items) | 1.97%  | 10.12% | 0.72%  |\n| Use for sending SMS (advertisement)      | 1.77%  | 11.27% | 0.60%  |\n| Store but do not use                     | 4.72%  | 23.12% | 8.58%  |\n| No ANS                                   | 0.79%  | 0.00%  | 0.00%  |\n\n",
            "text/html": [
              "<table class=\"dataframe\">\n",
              "<caption>A tabyl: 6 × 4</caption>\n",
              "<thead>\n",
              "\t<tr><th scope=col>answer</th><th scope=col>Islamabad</th><th scope=col>Karachi</th><th scope=col>Rawalpindi</th></tr>\n",
              "\t<tr><th scope=col>&lt;fct&gt;</th><th scope=col>&lt;chr&gt;</th><th scope=col>&lt;chr&gt;</th><th scope=col>&lt;chr&gt;</th></tr>\n",
              "</thead>\n",
              "<tbody>\n",
              "\t<tr><td>Do not Store                            </td><td>49.21%</td><td>21.39%</td><td>46.84%</td></tr>\n",
              "\t<tr><td>Use for discounts (repeated purchases)  </td><td>41.54%</td><td>34.10%</td><td>43.27%</td></tr>\n",
              "\t<tr><td>Use for delivery (sending ordered items)</td><td>1.97% </td><td>10.12%</td><td>0.72% </td></tr>\n",
              "\t<tr><td>Use for sending SMS (advertisement)     </td><td>1.77% </td><td>11.27%</td><td>0.60% </td></tr>\n",
              "\t<tr><td>Store but do not use                    </td><td>4.72% </td><td>23.12%</td><td>8.58% </td></tr>\n",
              "\t<tr><td>No ANS                                  </td><td>0.79% </td><td>0.00% </td><td>0.00% </td></tr>\n",
              "</tbody>\n",
              "</table>\n"
            ]
          },
          "metadata": {
            "tags": []
          }
        }
      ]
    },
    {
      "cell_type": "code",
      "metadata": {
        "id": "Ik6ZFh3ruwV6"
      },
      "source": [
        "df_customer_data_pivot <- df_customer_data_two_way %>% \n",
        "    pivot_longer(cols=2:4,names_to=\"ORG_CITY\",values_to=\"ORG_CUSTOMER_DATA\")"
      ],
      "execution_count": 162,
      "outputs": []
    },
    {
      "cell_type": "code",
      "metadata": {
        "id": "NkiUWwZ1i_AA"
      },
      "source": [
        "df_customer_data_pivot$ORG_CITY %>% \n",
        "factor() %>% \n",
        "fct_inorder() -> df_customer_data_pivot$ORG_CITY"
      ],
      "execution_count": 163,
      "outputs": []
    },
    {
      "cell_type": "code",
      "metadata": {
        "id": "YiuykgrDjSG5"
      },
      "source": [
        "df_customer_data_pivot <- df_customer_data_pivot %>%\n",
        "    mutate(ORG_CUSTOMER_DATA = str_replace(ORG_CUSTOMER_DATA,\"%\",\"\"))"
      ],
      "execution_count": 165,
      "outputs": []
    },
    {
      "cell_type": "code",
      "metadata": {
        "id": "ihKCNFcpkFQf"
      },
      "source": [
        "df_customer_data_pivot <- df_customer_data_pivot %>%\n",
        "    mutate(ORG_CUSTOMER_DATA = as.numeric(ORG_CUSTOMER_DATA))"
      ],
      "execution_count": 166,
      "outputs": []
    },
    {
      "cell_type": "code",
      "metadata": {
        "colab": {
          "base_uri": "https://localhost:8080/",
          "height": 127
        },
        "id": "M4FvFz9-lveB",
        "outputId": "4417bfe4-42a2-4f74-9926-ac1ab403d474"
      },
      "source": [
        "df_customer_data_pivot %>% head(1)"
      ],
      "execution_count": 175,
      "outputs": [
        {
          "output_type": "display_data",
          "data": {
            "text/plain": [
              "  answer       ORG_CITY  ORG_CUSTOMER_DATA\n",
              "1 Do not Store Islamabad 49.21            "
            ],
            "text/latex": "A tibble: 1 × 3\n\\begin{tabular}{lll}\n answer & ORG\\_CITY & ORG\\_CUSTOMER\\_DATA\\\\\n <fct> & <fct> & <dbl>\\\\\n\\hline\n\t Do not Store & Islamabad & 49.21\\\\\n\\end{tabular}\n",
            "text/markdown": "\nA tibble: 1 × 3\n\n| answer &lt;fct&gt; | ORG_CITY &lt;fct&gt; | ORG_CUSTOMER_DATA &lt;dbl&gt; |\n|---|---|---|\n| Do not Store | Islamabad | 49.21 |\n\n",
            "text/html": [
              "<table class=\"dataframe\">\n",
              "<caption>A tibble: 1 × 3</caption>\n",
              "<thead>\n",
              "\t<tr><th scope=col>answer</th><th scope=col>ORG_CITY</th><th scope=col>ORG_CUSTOMER_DATA</th></tr>\n",
              "\t<tr><th scope=col>&lt;fct&gt;</th><th scope=col>&lt;fct&gt;</th><th scope=col>&lt;dbl&gt;</th></tr>\n",
              "</thead>\n",
              "<tbody>\n",
              "\t<tr><td>Do not Store</td><td>Islamabad</td><td>49.21</td></tr>\n",
              "</tbody>\n",
              "</table>\n"
            ]
          },
          "metadata": {
            "tags": []
          }
        }
      ]
    },
    {
      "cell_type": "code",
      "metadata": {
        "colab": {
          "base_uri": "https://localhost:8080/",
          "height": 437
        },
        "id": "fnEpqR2AmKBj",
        "outputId": "bb5efdb8-db28-40c7-c4fb-7612949d98d4"
      },
      "source": [
        "ggplot(data = df_customer_data_pivot, aes(x=answer, y=ORG_CUSTOMER_DATA)) + \n",
        "    geom_bar(position=\"dodge\", stat=\"identity\") + \n",
        "    facet_grid(. ~ ORG_CITY) #+\n",
        "    #scale_y_continuous(labels = scales::percent)"
      ],
      "execution_count": 192,
      "outputs": [
        {
          "output_type": "display_data",
          "data": {
            "image/png": "[encoded data removed]",
            "text/plain": [
              "plot without title"
            ]
          },
          "metadata": {
            "tags": [],
            "image/png": {
              "width": 420,
              "height": 420
            }
          }
        }
      ]
    },
    {
      "cell_type": "code",
      "metadata": {
        "colab": {
          "base_uri": "https://localhost:8080/",
          "height": 150
        },
        "id": "Rv6UD3p2sk81",
        "outputId": "2d094277-b78d-4778-f6d0-39d2599b89d3"
      },
      "source": [
        "df_customer_data_pivot %>%\n",
        "    ggplot(aes(x=answer,group=ORG_CITY)) + \n",
        "    geom_bar(aes(y = ORG_CUSTOMER_DATA, fill = factor(ORG_CUSTOMER_DATA), stat='count') #+ \n",
        "    #facet_grid(. ~ ORG_CITY) #+\n",
        "    #scale_y_continuous(labels = scales::percent)"
      ],
      "execution_count": 177,
      "outputs": [
        {
          "output_type": "error",
          "ename": "ERROR",
          "evalue": "ignored",
          "traceback": [
            "Error in parse(text = x, srcfile = src): <text>:6:0: unexpected end of input\n4:     #facet_grid(. ~ ORG_CITY) #+\n5:     #scale_y_continuous(labels = scales::percent)\n  ^\nTraceback:\n"
          ]
        }
      ]
    },
    {
      "cell_type": "code",
      "metadata": {
        "id": "NP9k-tzslLJh"
      },
      "source": [
        "\n",
        "    #ggplot(df_customer_data, aes(x = .data[[x]], group = .data[[y]]) ) + \n",
        "    #geom_bar(aes(y = ..prop.., fill = factor(..x..)), stat=\"count\") +\n",
        "    #geom_text(aes( label = scales::percent(..prop..,accuracy=0.1),\n",
        "    #              y= ..prop.. ), stat= \"count\", \n",
        "    #              vjust = -.5, size=2 ) +\n",
        "    #facet_grid(~ .data[[y]]) +\n",
        "    #scale_y_continuous(labels = scales::percent) "
      ],
      "execution_count": null,
      "outputs": []
    },
    {
      "cell_type": "markdown",
      "metadata": {
        "id": "NrkfKrt6WLOz"
      },
      "source": [
        "# Dumping Data for Further Analysis"
      ]
    },
    {
      "cell_type": "code",
      "metadata": {
        "colab": {
          "base_uri": "https://localhost:8080/"
        },
        "id": "sYb2QTJxWOFQ",
        "outputId": "646bf31b-c600-4e0b-de75-1abc9048a3fa"
      },
      "source": [
        "#st=format(Sys.Date(), \"%Y%b%d\") # Alphabetic Month Name\n",
        "st=format(Sys.time(), \"%Y-%m-%d_%H:%M\")\n",
        "survey_data_file = paste (\"SurveyData-\", \"WithoutPOS-\",st, \".xlsx\", sep=\"\")\n",
        "print(survey_data_file)"
      ],
      "execution_count": 156,
      "outputs": [
        {
          "output_type": "stream",
          "text": [
            "[1] \"SurveyData-WithoutPOS-2021-05-18_17:29.xlsx\"\n"
          ],
          "name": "stdout"
        }
      ]
    },
    {
      "cell_type": "code",
      "metadata": {
        "id": "nyZPXIzTiHC4"
      },
      "source": [
        "#detach(\"package:openxlsx\", unload=TRUE)\n",
        "\n",
        "#install.packages(\"openxlsx\")\n",
        "\n",
        "#library(openxlsx)"
      ],
      "execution_count": 157,
      "outputs": []
    },
    {
      "cell_type": "code",
      "metadata": {
        "id": "W5BiGFYiWmRh"
      },
      "source": [
        "## Create a new workbook\n",
        "wb <- createWorkbook()\n",
        "## Add 1 worksheets\n",
        "addWorksheet(wb, \"All POS Survey\")\n",
        "writeData(wb, \"All POS Survey\", df_without_2)\n",
        "#saveWorkbook(wb, \"SurveyData-20201028-North.xlsx\", overwrite = TRUE)\n",
        "saveWorkbook(wb, survey_data_file, overwrite = TRUE)"
      ],
      "execution_count": 158,
      "outputs": []
    },
    {
      "cell_type": "markdown",
      "metadata": {
        "id": "vwYH19eoWqJ5"
      },
      "source": [
        "# Summary\n",
        " The above analysis is for 'Without POS'\n",
        "\n",
        " It excludes uni-var analysis for certain variables - (multiple choice options):\n",
        "\n",
        "1.   ORG_TYPE\n",
        "2.   ORG_DISCOUNTS_OFFERED\n",
        "3.   ORG_CUSTOMER_DATA\n",
        "4.   ORG_POS_FEATURES\n",
        "5.   ORG_OLD_POS_PAYMENT_OPTIONS\n",
        "6.   ORG_OLD_POS_DEVICES\n",
        "7.   ORG_OLD_POS_URDU_FEATURES\n",
        "8.   ORG_REASON_TO_REPLACE_POS\n",
        "9.   ORG_WILLINGNESS_TO_PAY_AMOUNT\n",
        "10.   ORG_OLD_POS_PROVIDER_PAYMENT_METHOD\n",
        "\n",
        "\n",
        "\n",
        "\n",
        "## ToDO\n",
        "\n",
        "Fix uni-var analysis\n",
        "\n"
      ]
    },
    {
      "cell_type": "code",
      "metadata": {
        "id": "79wWquLWXH6Z"
      },
      "source": [
        ""
      ],
      "execution_count": 159,
      "outputs": []
    },
    {
      "cell_type": "code",
      "metadata": {
        "id": "2pUiiHdkyT_4"
      },
      "source": [
        ""
      ],
      "execution_count": 160,
      "outputs": []
    }
  ]
}