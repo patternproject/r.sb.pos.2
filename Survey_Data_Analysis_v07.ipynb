{
  "nbformat": 4,
  "nbformat_minor": 0,
  "metadata": {
    "colab": {
      "name": "Survey_Data_Analysis_v07.ipynb",
      "provenance": [],
      "collapsed_sections": [
        "aSsGw3ZJ4QPN",
        "T8_teX5y4IUs",
        "X0soX4yA4eHM",
        "Je5p-3eH4keF",
        "l948xQo-RAm-",
        "NrkfKrt6WLOz",
        "vwYH19eoWqJ5"
      ],
      "toc_visible": true,
      "include_colab_link": true
    },
    "kernelspec": {
      "name": "ir",
      "display_name": "R"
    }
  },
  "cells": [
    {
      "cell_type": "markdown",
      "metadata": {
        "id": "view-in-github",
        "colab_type": "text"
      },
      "source": [
        "<a href=\"https://colab.research.google.com/github/patternproject/r.sb.pos.2/blob/main/Survey_Data_Analysis_v07.ipynb\" target=\"_parent\"><img src=\"https://colab.research.google.com/assets/colab-badge.svg\" alt=\"Open In Colab\"/></a>"
      ]
    },
    {
      "cell_type": "markdown",
      "metadata": {
        "id": "aSsGw3ZJ4QPN"
      },
      "source": [
        "#READ ME"
      ]
    },
    {
      "cell_type": "markdown",
      "metadata": {
        "id": "T8_teX5y4IUs"
      },
      "source": [
        "##Analysis of Survey Data for POS\n",
        "##Iteration 2\n",
        "##Using R\n",
        "\n",
        "#### Renaming it from:\n",
        "#### Separate_NorthSouth_Data_v12.ipynb\n",
        "#### to\n",
        "#### Survey Data Analysis v01.ipnyb"
      ]
    },
    {
      "cell_type": "markdown",
      "metadata": {
        "id": "sm8gm3xu4Sl9"
      },
      "source": [
        "This file takes in \"Extract of Daily POS Data\" in excel format and outputs two files, one for North and other for South region"
      ]
    },
    {
      "cell_type": "markdown",
      "metadata": {
        "id": "X0soX4yA4eHM"
      },
      "source": [
        "#History\n",
        "\n",
        "v1: First Iteration\n",
        "\n",
        "v2: First run of North and South completed\n",
        "\n",
        "v3: Changed write xlsx to incoporate multiple sheets. Added System Date to Output File Name\n",
        "\n",
        "v4: Adding create \"survey summary\" section from \"Survey-Summary\" colab \n",
        "\n",
        "v5: Continuation of v4. Fixing Special characters in Col Names\n",
        "\n",
        "v6: Continuation of v5. Restructured Code\n",
        "\n",
        "v7: Fixing Col Names for Without POS\n",
        "\n",
        "v8: Adding Basic Graphs\n",
        "\n",
        "v9: Automate UniVariate Analysis using PURRR\n",
        "\n",
        "v10: Continuation of v9\n",
        "\n",
        "v11: Continuation of v10. Moving from count to proportions\n",
        "\n",
        "v12: Continuation of v11\n",
        "\n",
        "-------------------------------\n",
        "Renamed as: Survey Data Analysis 01. ipnyb\n",
        "-------------------------------\n",
        "\n",
        "v01: No change\n",
        "\n",
        "v02: Removed code writing output/sample data\n",
        "\n",
        "v03: Fixing the TODO part for Uni-Var analysis\n",
        "\n",
        "v04: Pended the TODO part, replicating the Uni-Var analysis done so far on Without POS, on With POS data\n",
        "\n",
        "Clean data has been dumped in CSV at end of v03, use it to generate it again, if required.\n",
        "\n",
        "This file replaces the analysis on With POS, instead of copy-pasting to reduce the file size\n",
        "\n",
        "v05: Loading the data cleaned in v03 and v04, removing all the cleanup code\n",
        "\n",
        "v06: setting the order of factor levels for better plots\n",
        "\n",
        "v07: Reading in the ordered factor data, cleaned up in v06\n",
        "\n",
        "However the problem was openxlsx package does not allow to specify the col types, and factors were being read in as character\n",
        "\n",
        "Solved by mutate_if for all character vectors"
      ]
    },
    {
      "cell_type": "markdown",
      "metadata": {
        "id": "Je5p-3eH4keF"
      },
      "source": [
        "## Setup"
      ]
    },
    {
      "cell_type": "code",
      "metadata": {
        "id": "njNtW-Qj4C5W",
        "colab": {
          "base_uri": "https://localhost:8080/"
        },
        "outputId": "1b2cde5f-ef9d-4e9b-c9cd-183505c3309d"
      },
      "source": [
        "# Library\n",
        "library(ggplot2)\n",
        "library(tidyverse)\n",
        "#install.packages(\"readxl\")\n",
        "library(readxl)"
      ],
      "execution_count": 4,
      "outputs": [
        {
          "output_type": "stream",
          "text": [
            "Warning message in system(\"timedatectl\", intern = TRUE):\n",
            "“running command 'timedatectl' had status 1”\n",
            "── \u001b[1mAttaching packages\u001b[22m ─────────────────────────────────────── tidyverse 1.3.1 ──\n",
            "\n",
            "\u001b[32m✔\u001b[39m \u001b[34mtibble \u001b[39m 3.1.1     \u001b[32m✔\u001b[39m \u001b[34mdplyr  \u001b[39m 1.0.5\n",
            "\u001b[32m✔\u001b[39m \u001b[34mtidyr  \u001b[39m 1.1.3     \u001b[32m✔\u001b[39m \u001b[34mstringr\u001b[39m 1.4.0\n",
            "\u001b[32m✔\u001b[39m \u001b[34mreadr  \u001b[39m 1.4.0     \u001b[32m✔\u001b[39m \u001b[34mforcats\u001b[39m 0.5.1\n",
            "\u001b[32m✔\u001b[39m \u001b[34mpurrr  \u001b[39m 0.3.4     \n",
            "\n",
            "── \u001b[1mConflicts\u001b[22m ────────────────────────────────────────── tidyverse_conflicts() ──\n",
            "\u001b[31m✖\u001b[39m \u001b[34mdplyr\u001b[39m::\u001b[32mfilter()\u001b[39m masks \u001b[34mstats\u001b[39m::filter()\n",
            "\u001b[31m✖\u001b[39m \u001b[34mdplyr\u001b[39m::\u001b[32mlag()\u001b[39m    masks \u001b[34mstats\u001b[39m::lag()\n",
            "\n"
          ],
          "name": "stderr"
        }
      ]
    },
    {
      "cell_type": "code",
      "metadata": {
        "id": "VwTgmRBK3Zmi",
        "colab": {
          "base_uri": "https://localhost:8080/"
        },
        "outputId": "5c82752a-f9ad-4921-815d-fecd8de8dcc9"
      },
      "source": [
        "# conditional install - Janitor\n",
        "list.of.packages <- c(\"janitor\")\n",
        "new.packages <- list.of.packages[!(list.of.packages %in% installed.packages()[,\"Package\"])]\n",
        "if(length(new.packages)) install.packages(new.packages)\n",
        "\n",
        "library(janitor)"
      ],
      "execution_count": 5,
      "outputs": [
        {
          "output_type": "stream",
          "text": [
            "Installing package into ‘/usr/local/lib/R/site-library’\n",
            "(as ‘lib’ is unspecified)\n",
            "\n",
            "also installing the dependency ‘snakecase’\n",
            "\n",
            "\n",
            "\n",
            "Attaching package: ‘janitor’\n",
            "\n",
            "\n",
            "The following objects are masked from ‘package:stats’:\n",
            "\n",
            "    chisq.test, fisher.test\n",
            "\n",
            "\n"
          ],
          "name": "stderr"
        }
      ]
    },
    {
      "cell_type": "markdown",
      "metadata": {
        "id": "AK0PyRTNBVLt"
      },
      "source": [
        "Library to read in XLSX Data\n",
        "\n",
        "OpenXLSX (Good, works)"
      ]
    },
    {
      "cell_type": "code",
      "metadata": {
        "id": "BoLExd2j-VGL",
        "colab": {
          "base_uri": "https://localhost:8080/"
        },
        "outputId": "e9c15ccd-dc20-43b8-c4ed-8c646684280c"
      },
      "source": [
        "# conditional install - openxlsx\n",
        "\n",
        "list.of.packages <- c(\"openxlsx\")\n",
        "new.packages <- list.of.packages[!(list.of.packages %in% installed.packages()[,\"Package\"])]\n",
        "if(length(new.packages)) install.packages(new.packages)\n",
        "\n",
        "library(openxlsx)"
      ],
      "execution_count": 6,
      "outputs": [
        {
          "output_type": "stream",
          "text": [
            "Installing package into ‘/usr/local/lib/R/site-library’\n",
            "(as ‘lib’ is unspecified)\n",
            "\n"
          ],
          "name": "stderr"
        }
      ]
    },
    {
      "cell_type": "code",
      "metadata": {
        "id": "rRlPFChmK3QD"
      },
      "source": [
        ""
      ],
      "execution_count": 52,
      "outputs": []
    },
    {
      "cell_type": "code",
      "metadata": {
        "id": "Mx0MPSSqgsI1"
      },
      "source": [
        "# explore later\n",
        "# https://slcladal.github.io/surveys.html\n",
        "\n",
        "# install libraries\n",
        "#install.packages(c(\"knitr\", \"lattice\", \"tidyverse\", \"likert\", \n",
        "#                   \"MASS\", \"psych\", \"viridis\", \"ggplot2\", \n",
        "#                   \"userfriendlyscience\"))"
      ],
      "execution_count": null,
      "outputs": []
    },
    {
      "cell_type": "markdown",
      "metadata": {
        "id": "o4CddV1NlU7X"
      },
      "source": [
        "Explore later:\n",
        "http://gdfe.co/srvyr/articles/srvyr-vs-survey.html"
      ]
    },
    {
      "cell_type": "markdown",
      "metadata": {
        "id": "8drHIPzVLgew"
      },
      "source": [
        "# Setting Input Files"
      ]
    },
    {
      "cell_type": "code",
      "metadata": {
        "id": "e3dG9JA8LjKK"
      },
      "source": [
        "## With POS File\n",
        "\n",
        "#input_file = '/content/With - Survey Summary Report_ 20201113.xlsx'\n",
        "#with_pos_file = '/content/SurveyData-withPOS-2021May10.xlsx'\n",
        "\n",
        "with_pos_file = '/content/SurveyData-withPOS-2021-05-11_08_54.xlsx'"
      ],
      "execution_count": 53,
      "outputs": []
    },
    {
      "cell_type": "code",
      "metadata": {
        "id": "DNk6vxBsLloy"
      },
      "source": [
        "## Without POS File\n",
        "\n",
        "#input_file_2 = '/content/Without - Survey Summary Report_ 20201113.xlsx'\n",
        "#without_pos_file = '/content/SurveyData-withoutPOS-2021May10.xlsx'"
      ],
      "execution_count": 2,
      "outputs": []
    },
    {
      "cell_type": "markdown",
      "metadata": {
        "id": "B_k1vnSQJrGi"
      },
      "source": [
        "# Input Data"
      ]
    },
    {
      "cell_type": "code",
      "metadata": {
        "id": "K1jIIoRjKrqA"
      },
      "source": [
        "\n",
        "\n"
      ],
      "execution_count": null,
      "outputs": []
    },
    {
      "cell_type": "code",
      "metadata": {
        "id": "E9ZMZ_vR4jwD"
      },
      "source": [
        "# reading in input File\n",
        "\n",
        "df_with = read_xlsx(with_pos_file, sheet=1)\n",
        "\n",
        "#df_without = read_xlsx(without_pos_file, sheet=1)"
      ],
      "execution_count": 54,
      "outputs": []
    },
    {
      "cell_type": "code",
      "metadata": {
        "id": "k3-yLoNj41Bk",
        "colab": {
          "base_uri": "https://localhost:8080/"
        },
        "outputId": "0556a350-0489-43e8-94b8-445da8654b88"
      },
      "source": [
        "# printing DF\n",
        "print(as_tibble(df_with))"
      ],
      "execution_count": 55,
      "outputs": [
        {
          "output_type": "stream",
          "text": [
            "\u001b[90m# A tibble: 1,210 x 24\u001b[39m\n",
            "   ORG_CITY  ORG_POS_BUSINES… ORG_INTERNET_AC… ORG_EXPAND_BUSI… ORG_DELIVERY_SE…\n",
            "   \u001b[3m\u001b[90m<chr>\u001b[39m\u001b[23m     \u001b[3m\u001b[90m<chr>\u001b[39m\u001b[23m            \u001b[3m\u001b[90m<chr>\u001b[39m\u001b[23m            \u001b[3m\u001b[90m<chr>\u001b[39m\u001b[23m            \u001b[3m\u001b[90m<chr>\u001b[39m\u001b[23m           \n",
            "\u001b[90m 1\u001b[39m Rawalpin… Yes              None             No               No              \n",
            "\u001b[90m 2\u001b[39m Islamabad Yes              Mobile           Y:short-term     Thinking about …\n",
            "\u001b[90m 3\u001b[39m Islamabad Yes              Mobile           Y:immediately    Yes             \n",
            "\u001b[90m 4\u001b[39m Islamabad Yes              None             Y:long-term      No              \n",
            "\u001b[90m 5\u001b[39m Islamabad Yes              Mobile           Y:immediately    No              \n",
            "\u001b[90m 6\u001b[39m Islamabad Yes              Mobile           Y:immediately    No              \n",
            "\u001b[90m 7\u001b[39m Islamabad Yes              Mobile           Y:long-term      No              \n",
            "\u001b[90m 8\u001b[39m Islamabad Yes              Mobile           Y:long-term      No              \n",
            "\u001b[90m 9\u001b[39m Islamabad Yes              Dedicated        No               No              \n",
            "\u001b[90m10\u001b[39m Islamabad Yes              Dedicated        Y:immediately    Yes             \n",
            "\u001b[90m# … with 1,200 more rows, and 19 more variables: ORG_CUSTOMER_DATA <chr>,\u001b[39m\n",
            "\u001b[90m#   ORG_EMP_COUNT <chr>, ORG_INTERNET_DISRUPTION <chr>,\u001b[39m\n",
            "\u001b[90m#   ORG_NEW_POS_PAYMENT_PREF <chr>, ORG_NEW_POS_LANG_PREF <chr>,\u001b[39m\n",
            "\u001b[90m#   ORG_OUTLETS_COUNT <chr>, ORG_NEW_POS_KIND <chr>,\u001b[39m\n",
            "\u001b[90m#   ORG_WILLINGNESS_TO_PAY_AMOUNT <chr>, RESP_DESIGNATION <chr>,\u001b[39m\n",
            "\u001b[90m#   ORG_POS_FEATURES <chr>, ORG_NEW_POS_DEVICES <chr>, ORG_TYPE <chr>,\u001b[39m\n",
            "\u001b[90m#   ORG_CURRENT_PAYMENT_OPTIONS <chr>, ORG_DISCOUNTS_OFFERED <chr>,\u001b[39m\n",
            "\u001b[90m#   ORG_URDU_FEATURES_EXPECTED <chr>, ORG_REASON_TO_GET_POS <chr>,\u001b[39m\n",
            "\u001b[90m#   ORG_REASON_TO_NOT_HAVE_POS <chr>, ORG_WILLINGNESS_DEMO <chr>,\u001b[39m\n",
            "\u001b[90m#   ORG_WILLINGNESS_FUTURE_CONTACT <chr>\u001b[39m\n"
          ],
          "name": "stdout"
        }
      ]
    },
    {
      "cell_type": "code",
      "metadata": {
        "id": "60xEIgpi5KWK",
        "colab": {
          "base_uri": "https://localhost:8080/"
        },
        "outputId": "cd540794-68cd-4696-e486-6b9c0c51892a"
      },
      "source": [
        "## inspect the data\n",
        "str(df_with)"
      ],
      "execution_count": 56,
      "outputs": [
        {
          "output_type": "stream",
          "text": [
            "tibble[,24] [1,210 × 24] (S3: tbl_df/tbl/data.frame)\n",
            " $ ORG_CITY                      : chr [1:1210] \"Rawalpindi\" \"Islamabad\" \"Islamabad\" \"Islamabad\" ...\n",
            " $ ORG_POS_BUSINESS_IMPROVEMENT  : chr [1:1210] \"Yes\" \"Yes\" \"Yes\" \"Yes\" ...\n",
            " $ ORG_INTERNET_ACCESS           : chr [1:1210] \"None\" \"Mobile\" \"Mobile\" \"None\" ...\n",
            " $ ORG_EXPAND_BUSINESS           : chr [1:1210] \"No\" \"Y:short-term\" \"Y:immediately\" \"Y:long-term\" ...\n",
            " $ ORG_DELIVERY_SERVICE          : chr [1:1210] \"No\" \"Thinking about it\" \"Yes\" \"No\" ...\n",
            " $ ORG_CUSTOMER_DATA             : chr [1:1210] \"Do not Store\" \"Do not Store, Use for discounts (repeated purchases)\" \"Use for discounts (repeated purchases)\" \"Use for delivery (sending ordered items), Use for discounts (repeated purchases)\" ...\n",
            " $ ORG_EMP_COUNT                 : chr [1:1210] \"2\" \"3\" \"2\" \"1\" ...\n",
            " $ ORG_INTERNET_DISRUPTION       : chr [1:1210] \"Never\" \"Little\" \"Never\" \"Never\" ...\n",
            " $ ORG_NEW_POS_PAYMENT_PREF      : chr [1:1210] \"One-Time\" \"Recurring:12M\" \"Recurring:1M\" \"Recurring:3M\" ...\n",
            " $ ORG_NEW_POS_LANG_PREF         : chr [1:1210] \"English and Urdu\" \"English and Urdu\" \"English\" \"English and Urdu\" ...\n",
            " $ ORG_OUTLETS_COUNT             : chr [1:1210] \"1\" \"1\" \"1\" \"1\" ...\n",
            " $ ORG_NEW_POS_KIND              : chr [1:1210] \"Stand-Alone\" \"Stand-Alone\" \"Web-Based\" \"Stand-Alone\" ...\n",
            " $ ORG_WILLINGNESS_TO_PAY_AMOUNT : chr [1:1210] \"1K\" \"10K\" \"1K\" \"1K\" ...\n",
            " $ RESP_DESIGNATION              : chr [1:1210] \"Owner\" \"Owner\" \"Owner\" \"Ower\" ...\n",
            " $ ORG_POS_FEATURES              : chr [1:1210] \"Remote Management/Centralized Management (Manage your business remotely), Reports (Get sales and other insights\"| __truncated__ \"Cash Reconciliation (Balance daily sales and returns for cash and credit)\" \"Cash Reconciliation (Balance daily sales and returns for cash and credit), Remote Management/Centralized Manage\"| __truncated__ \"Cash Reconciliation (Balance daily sales and returns for cash and credit)\" ...\n",
            " $ ORG_NEW_POS_DEVICES           : chr [1:1210] \"Mobile Phone\" \"Mobile Phone, PC\" \"Laptop, Mobile Phone, PC, Tablet\" \"Laptop, PC, Tablet\" ...\n",
            " $ ORG_TYPE                      : chr [1:1210] \"Clothing items\" \"Clothing items\" \"Hardware / Paints\" \"Groceries\" ...\n",
            " $ ORG_CURRENT_PAYMENT_OPTIONS   : chr [1:1210] \"Cash\" \"Cash\" \"Cash\" \"Cash\" ...\n",
            " $ ORG_DISCOUNTS_OFFERED         : chr [1:1210] \"Customer Discount (Based on customer relationship)\" \"Customer Discount (Based on customer relationship), Product Discount (Lower price than market)\" \"Bulk Discount (Based on bill amount), Customer Discount (Based on customer relationship)\" \"Customer Discount (Based on customer relationship), Product Discount (Lower price than market)\" ...\n",
            " $ ORG_URDU_FEATURES_EXPECTED    : chr [1:1210] \"Others (Please specify) (Everything in both languages )\" \"Display Screen, Slips or Receipts\" \"Display Screen, Slips or Receipts\" \"Display Screen, Slips or Receipts\" ...\n",
            " $ ORG_REASON_TO_GET_POS         : chr [1:1210] \"Other (Please specify) (Customer Data, daily sales report)\" \"Features, Price\" \"Customization (as per your needs), Features, Price\" \"Customization (as per your needs), Price\" ...\n",
            " $ ORG_REASON_TO_NOT_HAVE_POS    : chr [1:1210] \"I am happy with how my business is managed currently\" \"I am happy with how my business is managed currently\" \"I am happy with how my business is managed currently\" \"I am happy with how my business is managed currently\" ...\n",
            " $ ORG_WILLINGNESS_DEMO          : chr [1:1210] \"No\" \"Yes\" \"Yes\" \"No\" ...\n",
            " $ ORG_WILLINGNESS_FUTURE_CONTACT: chr [1:1210] \"Yes\" \"Yes\" \"Yes\" \"Yes\" ...\n"
          ],
          "name": "stdout"
        }
      ]
    },
    {
      "cell_type": "markdown",
      "metadata": {
        "id": "BECGOIxBNEUv"
      },
      "source": [
        "Remove non-useful columns\n"
      ]
    },
    {
      "cell_type": "code",
      "metadata": {
        "id": "mpJ1j9HZ-lzS"
      },
      "source": [
        "# remove non-useful columns\n",
        "df_with %>% select(!starts_with(\"SB\")) -> df_with_1\n",
        "\n",
        "#df_with_1 %>% select(!c(date, ORG_PICTURE_LINK,ORG_VISITING_CARD, RESP_NAME , RESP_PHONE )) -> df_with_1\n",
        "\n"
      ],
      "execution_count": 57,
      "outputs": []
    },
    {
      "cell_type": "markdown",
      "metadata": {
        "id": "cMbztPqKMdZD"
      },
      "source": [
        "Converting all character to factors"
      ]
    },
    {
      "cell_type": "code",
      "metadata": {
        "id": "8zEzlqr4MhNl"
      },
      "source": [
        "df_with_2 <- df_with_1 %>% mutate_if(is.character,as.factor)"
      ],
      "execution_count": 58,
      "outputs": []
    },
    {
      "cell_type": "code",
      "metadata": {
        "colab": {
          "base_uri": "https://localhost:8080/"
        },
        "id": "2ezBy6SLACyD",
        "outputId": "f830924e-ec2e-4e0d-820b-3e06bc0e2f59"
      },
      "source": [
        "df_with_2 %>% glimpse()"
      ],
      "execution_count": 59,
      "outputs": [
        {
          "output_type": "stream",
          "text": [
            "Rows: 1,210\n",
            "Columns: 24\n",
            "$ ORG_CITY                       \u001b[3m\u001b[90m<fct>\u001b[39m\u001b[23m Rawalpindi, Islamabad, Islamabad, Islam…\n",
            "$ ORG_POS_BUSINESS_IMPROVEMENT   \u001b[3m\u001b[90m<fct>\u001b[39m\u001b[23m Yes, Yes, Yes, Yes, Yes, Yes, Yes, Yes,…\n",
            "$ ORG_INTERNET_ACCESS            \u001b[3m\u001b[90m<fct>\u001b[39m\u001b[23m None, Mobile, Mobile, None, Mobile, Mob…\n",
            "$ ORG_EXPAND_BUSINESS            \u001b[3m\u001b[90m<fct>\u001b[39m\u001b[23m No, Y:short-term, Y:immediately, Y:long…\n",
            "$ ORG_DELIVERY_SERVICE           \u001b[3m\u001b[90m<fct>\u001b[39m\u001b[23m No, Thinking about it, Yes, No, No, No,…\n",
            "$ ORG_CUSTOMER_DATA              \u001b[3m\u001b[90m<fct>\u001b[39m\u001b[23m \"Do not Store\", \"Do not Store, Use for …\n",
            "$ ORG_EMP_COUNT                  \u001b[3m\u001b[90m<fct>\u001b[39m\u001b[23m 2, 3, 2, 1, 1, 2, 1, 1, 1, 1, 2, 3, 2, …\n",
            "$ ORG_INTERNET_DISRUPTION        \u001b[3m\u001b[90m<fct>\u001b[39m\u001b[23m Never, Little, Never, Never, Little, Li…\n",
            "$ ORG_NEW_POS_PAYMENT_PREF       \u001b[3m\u001b[90m<fct>\u001b[39m\u001b[23m One-Time, Recurring:12M, Recurring:1M, …\n",
            "$ ORG_NEW_POS_LANG_PREF          \u001b[3m\u001b[90m<fct>\u001b[39m\u001b[23m English and Urdu, English and Urdu, Eng…\n",
            "$ ORG_OUTLETS_COUNT              \u001b[3m\u001b[90m<fct>\u001b[39m\u001b[23m 1, 1, 1, 1, 1, 1, 1, 1, 1, 2, 1, 1, 1, …\n",
            "$ ORG_NEW_POS_KIND               \u001b[3m\u001b[90m<fct>\u001b[39m\u001b[23m Stand-Alone, Stand-Alone, Web-Based, St…\n",
            "$ ORG_WILLINGNESS_TO_PAY_AMOUNT  \u001b[3m\u001b[90m<fct>\u001b[39m\u001b[23m 1K, 10K, 1K, 1K, 1K, <1K, 1K, 1K, No AN…\n",
            "$ RESP_DESIGNATION               \u001b[3m\u001b[90m<fct>\u001b[39m\u001b[23m Owner, Owner, Owner, Ower, Owner, Owner…\n",
            "$ ORG_POS_FEATURES               \u001b[3m\u001b[90m<fct>\u001b[39m\u001b[23m \"Remote Management/Centralized Manageme…\n",
            "$ ORG_NEW_POS_DEVICES            \u001b[3m\u001b[90m<fct>\u001b[39m\u001b[23m \"Mobile Phone\", \"Mobile Phone, PC\", \"La…\n",
            "$ ORG_TYPE                       \u001b[3m\u001b[90m<fct>\u001b[39m\u001b[23m \"Clothing items\", \"Clothing items\", \"Ha…\n",
            "$ ORG_CURRENT_PAYMENT_OPTIONS    \u001b[3m\u001b[90m<fct>\u001b[39m\u001b[23m \"Cash\", \"Cash\", \"Cash\", \"Cash\", \"Cash\",…\n",
            "$ ORG_DISCOUNTS_OFFERED          \u001b[3m\u001b[90m<fct>\u001b[39m\u001b[23m \"Customer Discount (Based on customer r…\n",
            "$ ORG_URDU_FEATURES_EXPECTED     \u001b[3m\u001b[90m<fct>\u001b[39m\u001b[23m \"Others (Please specify) (Everything in…\n",
            "$ ORG_REASON_TO_GET_POS          \u001b[3m\u001b[90m<fct>\u001b[39m\u001b[23m \"Other (Please specify) (Customer Data,…\n",
            "$ ORG_REASON_TO_NOT_HAVE_POS     \u001b[3m\u001b[90m<fct>\u001b[39m\u001b[23m \"I am happy with how my business is man…\n",
            "$ ORG_WILLINGNESS_DEMO           \u001b[3m\u001b[90m<fct>\u001b[39m\u001b[23m \"No\", \"Yes\", \"Yes\", \"No\", \"No\", \"Yes\", …\n",
            "$ ORG_WILLINGNESS_FUTURE_CONTACT \u001b[3m\u001b[90m<fct>\u001b[39m\u001b[23m \"Yes\", \"Yes\", \"Yes\", \"Yes\", \"Yes\", \"Yes…\n"
          ],
          "name": "stdout"
        }
      ]
    },
    {
      "cell_type": "markdown",
      "metadata": {
        "id": "bMYzieXM86WU"
      },
      "source": [
        "## Multiple Choice Answers"
      ]
    },
    {
      "cell_type": "markdown",
      "metadata": {
        "id": "oJ9-w33LNgIP"
      },
      "source": [
        "Fancy Frequency Tables\n",
        "\n",
        "https://cran.r-project.org/web/packages/janitor/vignettes/tabyls.html"
      ]
    },
    {
      "cell_type": "markdown",
      "metadata": {
        "id": "zATdwnXENnbX"
      },
      "source": [
        "Collapsing Categories or Values\n",
        "\n",
        "https://r4ds.had.co.nz/factors.html"
      ]
    },
    {
      "cell_type": "markdown",
      "metadata": {
        "id": "fVasTkaaOUwc"
      },
      "source": [
        "1. Fixing Garbage Values\n",
        "\n",
        "1.1. ORG_POS_BUSINESS_IMPROVEMENT"
      ]
    },
    {
      "cell_type": "markdown",
      "metadata": {
        "id": "l_deQwyRNWZn"
      },
      "source": [
        "Fixed Previosuly - Nothing to be done here"
      ]
    },
    {
      "cell_type": "code",
      "metadata": {
        "colab": {
          "base_uri": "https://localhost:8080/",
          "height": 158
        },
        "id": "paFyh5BvBibb",
        "outputId": "fb812673-9f58-42bf-c73b-2d66e95a8374"
      },
      "source": [
        "df_with_2 %>% tabyl(ORG_POS_BUSINESS_IMPROVEMENT)"
      ],
      "execution_count": 62,
      "outputs": [
        {
          "output_type": "display_data",
          "data": {
            "text/plain": [
              "  ORG_POS_BUSINESS_IMPROVEMENT n   percent  \n",
              "1 No                           843 0.6966942\n",
              "2 Yes                          367 0.3033058"
            ],
            "text/latex": "A tabyl: 2 × 3\n\\begin{tabular}{lll}\n ORG\\_POS\\_BUSINESS\\_IMPROVEMENT & n & percent\\\\\n <fct> & <dbl> & <dbl>\\\\\n\\hline\n\t No  & 843 & 0.6966942\\\\\n\t Yes & 367 & 0.3033058\\\\\n\\end{tabular}\n",
            "text/markdown": "\nA tabyl: 2 × 3\n\n| ORG_POS_BUSINESS_IMPROVEMENT &lt;fct&gt; | n &lt;dbl&gt; | percent &lt;dbl&gt; |\n|---|---|---|\n| No  | 843 | 0.6966942 |\n| Yes | 367 | 0.3033058 |\n\n",
            "text/html": [
              "<table class=\"dataframe\">\n",
              "<caption>A tabyl: 2 × 3</caption>\n",
              "<thead>\n",
              "\t<tr><th scope=col>ORG_POS_BUSINESS_IMPROVEMENT</th><th scope=col>n</th><th scope=col>percent</th></tr>\n",
              "\t<tr><th scope=col>&lt;fct&gt;</th><th scope=col>&lt;dbl&gt;</th><th scope=col>&lt;dbl&gt;</th></tr>\n",
              "</thead>\n",
              "<tbody>\n",
              "\t<tr><td>No </td><td>843</td><td>0.6966942</td></tr>\n",
              "\t<tr><td>Yes</td><td>367</td><td>0.3033058</td></tr>\n",
              "</tbody>\n",
              "</table>\n"
            ]
          },
          "metadata": {
            "tags": []
          }
        }
      ]
    },
    {
      "cell_type": "markdown",
      "metadata": {
        "id": "aptt_q-5OkcE"
      },
      "source": [
        "1.2  ORG_INTERNET_ACCESS"
      ]
    },
    {
      "cell_type": "markdown",
      "metadata": {
        "id": "6qrOU-51N2IW"
      },
      "source": [
        "Fixed - Nothing to be done here"
      ]
    },
    {
      "cell_type": "code",
      "metadata": {
        "colab": {
          "base_uri": "https://localhost:8080/",
          "height": 189
        },
        "id": "Pf8rqswtMt3x",
        "outputId": "50dd11f6-dff2-47e3-a0cf-2e68f9501c49"
      },
      "source": [
        "tabyl(df_with_2$ORG_INTERNET_ACCESS)"
      ],
      "execution_count": 63,
      "outputs": [
        {
          "output_type": "display_data",
          "data": {
            "text/plain": [
              "  df_with_2$ORG_INTERNET_ACCESS n   percent  \n",
              "1 Dedicated                     267 0.2206612\n",
              "2 Mobile                        594 0.4909091\n",
              "3 None                          349 0.2884298"
            ],
            "text/latex": "A tabyl: 3 × 3\n\\begin{tabular}{lll}\n df\\_with\\_2\\$ORG\\_INTERNET\\_ACCESS & n & percent\\\\\n <fct> & <dbl> & <dbl>\\\\\n\\hline\n\t Dedicated & 267 & 0.2206612\\\\\n\t Mobile    & 594 & 0.4909091\\\\\n\t None      & 349 & 0.2884298\\\\\n\\end{tabular}\n",
            "text/markdown": "\nA tabyl: 3 × 3\n\n| df_with_2$ORG_INTERNET_ACCESS &lt;fct&gt; | n &lt;dbl&gt; | percent &lt;dbl&gt; |\n|---|---|---|\n| Dedicated | 267 | 0.2206612 |\n| Mobile    | 594 | 0.4909091 |\n| None      | 349 | 0.2884298 |\n\n",
            "text/html": [
              "<table class=\"dataframe\">\n",
              "<caption>A tabyl: 3 × 3</caption>\n",
              "<thead>\n",
              "\t<tr><th scope=col>df_with_2$ORG_INTERNET_ACCESS</th><th scope=col>n</th><th scope=col>percent</th></tr>\n",
              "\t<tr><th scope=col>&lt;fct&gt;</th><th scope=col>&lt;dbl&gt;</th><th scope=col>&lt;dbl&gt;</th></tr>\n",
              "</thead>\n",
              "<tbody>\n",
              "\t<tr><td>Dedicated</td><td>267</td><td>0.2206612</td></tr>\n",
              "\t<tr><td>Mobile   </td><td>594</td><td>0.4909091</td></tr>\n",
              "\t<tr><td>None     </td><td>349</td><td>0.2884298</td></tr>\n",
              "</tbody>\n",
              "</table>\n"
            ]
          },
          "metadata": {
            "tags": []
          }
        }
      ]
    },
    {
      "cell_type": "markdown",
      "metadata": {
        "id": "plDlPp3iPXCW"
      },
      "source": [
        "1.3 ORG_EXPAND_BUSINESS  "
      ]
    },
    {
      "cell_type": "markdown",
      "metadata": {
        "id": "Hknh_eEzOK0g"
      },
      "source": [
        "Fixed - Nothing to be done here"
      ]
    },
    {
      "cell_type": "code",
      "metadata": {
        "colab": {
          "base_uri": "https://localhost:8080/",
          "height": 220
        },
        "id": "M5Er9xlOPmlC",
        "outputId": "52cf3c5f-4602-43ba-91ac-49beb86b7257"
      },
      "source": [
        "tabyl(df_with_2$ORG_EXPAND_BUSINESS)"
      ],
      "execution_count": 64,
      "outputs": [
        {
          "output_type": "display_data",
          "data": {
            "text/plain": [
              "  df_with_2$ORG_EXPAND_BUSINESS n   percent   \n",
              "1 No                            655 0.54132231\n",
              "2 Y:immediately                 218 0.18016529\n",
              "3 Y:long-term                   290 0.23966942\n",
              "4 Y:short-term                   47 0.03884298"
            ],
            "text/latex": "A tabyl: 4 × 3\n\\begin{tabular}{lll}\n df\\_with\\_2\\$ORG\\_EXPAND\\_BUSINESS & n & percent\\\\\n <fct> & <dbl> & <dbl>\\\\\n\\hline\n\t No            & 655 & 0.54132231\\\\\n\t Y:immediately & 218 & 0.18016529\\\\\n\t Y:long-term   & 290 & 0.23966942\\\\\n\t Y:short-term  &  47 & 0.03884298\\\\\n\\end{tabular}\n",
            "text/markdown": "\nA tabyl: 4 × 3\n\n| df_with_2$ORG_EXPAND_BUSINESS &lt;fct&gt; | n &lt;dbl&gt; | percent &lt;dbl&gt; |\n|---|---|---|\n| No            | 655 | 0.54132231 |\n| Y:immediately | 218 | 0.18016529 |\n| Y:long-term   | 290 | 0.23966942 |\n| Y:short-term  |  47 | 0.03884298 |\n\n",
            "text/html": [
              "<table class=\"dataframe\">\n",
              "<caption>A tabyl: 4 × 3</caption>\n",
              "<thead>\n",
              "\t<tr><th scope=col>df_with_2$ORG_EXPAND_BUSINESS</th><th scope=col>n</th><th scope=col>percent</th></tr>\n",
              "\t<tr><th scope=col>&lt;fct&gt;</th><th scope=col>&lt;dbl&gt;</th><th scope=col>&lt;dbl&gt;</th></tr>\n",
              "</thead>\n",
              "<tbody>\n",
              "\t<tr><td>No           </td><td>655</td><td>0.54132231</td></tr>\n",
              "\t<tr><td>Y:immediately</td><td>218</td><td>0.18016529</td></tr>\n",
              "\t<tr><td>Y:long-term  </td><td>290</td><td>0.23966942</td></tr>\n",
              "\t<tr><td>Y:short-term </td><td> 47</td><td>0.03884298</td></tr>\n",
              "</tbody>\n",
              "</table>\n"
            ]
          },
          "metadata": {
            "tags": []
          }
        }
      ]
    },
    {
      "cell_type": "code",
      "metadata": {
        "colab": {
          "base_uri": "https://localhost:8080/",
          "height": 34
        },
        "id": "f_J4RR5zPnww",
        "outputId": "3a686130-2732-4aa0-ac2a-a2fefea7c6f4"
      },
      "source": [
        "levels(df_with_2$ORG_EXPAND_BUSINESS)"
      ],
      "execution_count": 65,
      "outputs": [
        {
          "output_type": "display_data",
          "data": {
            "text/plain": [
              "[1] \"No\"            \"Y:immediately\" \"Y:long-term\"   \"Y:short-term\" "
            ],
            "text/latex": "\\begin{enumerate*}\n\\item 'No'\n\\item 'Y:immediately'\n\\item 'Y:long-term'\n\\item 'Y:short-term'\n\\end{enumerate*}\n",
            "text/markdown": "1. 'No'\n2. 'Y:immediately'\n3. 'Y:long-term'\n4. 'Y:short-term'\n\n\n",
            "text/html": [
              "<style>\n",
              ".list-inline {list-style: none; margin:0; padding: 0}\n",
              ".list-inline>li {display: inline-block}\n",
              ".list-inline>li:not(:last-child)::after {content: \"\\00b7\"; padding: 0 .5ex}\n",
              "</style>\n",
              "<ol class=list-inline><li>'No'</li><li>'Y:immediately'</li><li>'Y:long-term'</li><li>'Y:short-term'</li></ol>\n"
            ]
          },
          "metadata": {
            "tags": []
          }
        }
      ]
    },
    {
      "cell_type": "markdown",
      "metadata": {
        "id": "7QoVJZHrPMla"
      },
      "source": [
        "fct_relevel(.f, ..., afer = 0L)\n",
        "Manually reorder factor levels.\n",
        "fct_relevel(f, c(\"b\", \"c\", \"a\")) "
      ]
    },
    {
      "cell_type": "code",
      "metadata": {
        "id": "nVRdiY62PODM"
      },
      "source": [
        "df_with_2  <- df_with_2 %>%\n",
        "mutate (ORG_EXPAND_BUSINESS = fct_relevel(ORG_EXPAND_BUSINESS, \n",
        "c('No','Y:immediately','Y:short-term','Y:long-term')))"
      ],
      "execution_count": 67,
      "outputs": []
    },
    {
      "cell_type": "code",
      "metadata": {
        "colab": {
          "base_uri": "https://localhost:8080/",
          "height": 220
        },
        "id": "4gcQVlq2P5eV",
        "outputId": "83880251-1aa9-46ba-a15a-718c8184dabb"
      },
      "source": [
        "tabyl(df_with_2$ORG_EXPAND_BUSINESS)"
      ],
      "execution_count": 68,
      "outputs": [
        {
          "output_type": "display_data",
          "data": {
            "text/plain": [
              "  df_with_2$ORG_EXPAND_BUSINESS n   percent   \n",
              "1 No                            655 0.54132231\n",
              "2 Y:immediately                 218 0.18016529\n",
              "3 Y:short-term                   47 0.03884298\n",
              "4 Y:long-term                   290 0.23966942"
            ],
            "text/latex": "A tabyl: 4 × 3\n\\begin{tabular}{lll}\n df\\_with\\_2\\$ORG\\_EXPAND\\_BUSINESS & n & percent\\\\\n <fct> & <dbl> & <dbl>\\\\\n\\hline\n\t No            & 655 & 0.54132231\\\\\n\t Y:immediately & 218 & 0.18016529\\\\\n\t Y:short-term  &  47 & 0.03884298\\\\\n\t Y:long-term   & 290 & 0.23966942\\\\\n\\end{tabular}\n",
            "text/markdown": "\nA tabyl: 4 × 3\n\n| df_with_2$ORG_EXPAND_BUSINESS &lt;fct&gt; | n &lt;dbl&gt; | percent &lt;dbl&gt; |\n|---|---|---|\n| No            | 655 | 0.54132231 |\n| Y:immediately | 218 | 0.18016529 |\n| Y:short-term  |  47 | 0.03884298 |\n| Y:long-term   | 290 | 0.23966942 |\n\n",
            "text/html": [
              "<table class=\"dataframe\">\n",
              "<caption>A tabyl: 4 × 3</caption>\n",
              "<thead>\n",
              "\t<tr><th scope=col>df_with_2$ORG_EXPAND_BUSINESS</th><th scope=col>n</th><th scope=col>percent</th></tr>\n",
              "\t<tr><th scope=col>&lt;fct&gt;</th><th scope=col>&lt;dbl&gt;</th><th scope=col>&lt;dbl&gt;</th></tr>\n",
              "</thead>\n",
              "<tbody>\n",
              "\t<tr><td>No           </td><td>655</td><td>0.54132231</td></tr>\n",
              "\t<tr><td>Y:immediately</td><td>218</td><td>0.18016529</td></tr>\n",
              "\t<tr><td>Y:short-term </td><td> 47</td><td>0.03884298</td></tr>\n",
              "\t<tr><td>Y:long-term  </td><td>290</td><td>0.23966942</td></tr>\n",
              "</tbody>\n",
              "</table>\n"
            ]
          },
          "metadata": {
            "tags": []
          }
        }
      ]
    },
    {
      "cell_type": "markdown",
      "metadata": {
        "id": "xVmC_PsWRhXc"
      },
      "source": [
        "1.4 ORG_DELIVERY_SERVICE  "
      ]
    },
    {
      "cell_type": "markdown",
      "metadata": {
        "id": "pZaqz_SfQB5e"
      },
      "source": [
        "Fixed, Nothing to be Done"
      ]
    },
    {
      "cell_type": "code",
      "metadata": {
        "colab": {
          "base_uri": "https://localhost:8080/",
          "height": 189
        },
        "id": "YJkgIVVqRgE7",
        "outputId": "6b2d379f-3077-4fb1-ec34-1549029cd1cd"
      },
      "source": [
        "tabyl(df_with_2$ORG_DELIVERY_SERVICE)"
      ],
      "execution_count": 69,
      "outputs": [
        {
          "output_type": "display_data",
          "data": {
            "text/plain": [
              "  df_with_2$ORG_DELIVERY_SERVICE n   percent   \n",
              "1 No                             986 0.81487603\n",
              "2 Thinking about it              110 0.09090909\n",
              "3 Yes                            114 0.09421488"
            ],
            "text/latex": "A tabyl: 3 × 3\n\\begin{tabular}{lll}\n df\\_with\\_2\\$ORG\\_DELIVERY\\_SERVICE & n & percent\\\\\n <fct> & <dbl> & <dbl>\\\\\n\\hline\n\t No                & 986 & 0.81487603\\\\\n\t Thinking about it & 110 & 0.09090909\\\\\n\t Yes               & 114 & 0.09421488\\\\\n\\end{tabular}\n",
            "text/markdown": "\nA tabyl: 3 × 3\n\n| df_with_2$ORG_DELIVERY_SERVICE &lt;fct&gt; | n &lt;dbl&gt; | percent &lt;dbl&gt; |\n|---|---|---|\n| No                | 986 | 0.81487603 |\n| Thinking about it | 110 | 0.09090909 |\n| Yes               | 114 | 0.09421488 |\n\n",
            "text/html": [
              "<table class=\"dataframe\">\n",
              "<caption>A tabyl: 3 × 3</caption>\n",
              "<thead>\n",
              "\t<tr><th scope=col>df_with_2$ORG_DELIVERY_SERVICE</th><th scope=col>n</th><th scope=col>percent</th></tr>\n",
              "\t<tr><th scope=col>&lt;fct&gt;</th><th scope=col>&lt;dbl&gt;</th><th scope=col>&lt;dbl&gt;</th></tr>\n",
              "</thead>\n",
              "<tbody>\n",
              "\t<tr><td>No               </td><td>986</td><td>0.81487603</td></tr>\n",
              "\t<tr><td>Thinking about it</td><td>110</td><td>0.09090909</td></tr>\n",
              "\t<tr><td>Yes              </td><td>114</td><td>0.09421488</td></tr>\n",
              "</tbody>\n",
              "</table>\n"
            ]
          },
          "metadata": {
            "tags": []
          }
        }
      ]
    },
    {
      "cell_type": "markdown",
      "metadata": {
        "id": "3VAffNJdScT3"
      },
      "source": [
        "1.5 ORG_CUSTOMER_DATA"
      ]
    },
    {
      "cell_type": "code",
      "metadata": {
        "id": "Gwv1q1BsvLoq"
      },
      "source": [
        "#df_with_1 <- df_with"
      ],
      "execution_count": null,
      "outputs": []
    },
    {
      "cell_type": "code",
      "metadata": {
        "colab": {
          "base_uri": "https://localhost:8080/",
          "height": 752
        },
        "id": "dFNGMqlhR1Hw",
        "outputId": "f56573e5-7692-4744-e55b-0b59817fecf6"
      },
      "source": [
        "tabyl(df_with_1$ORG_CUSTOMER_DATA)"
      ],
      "execution_count": 38,
      "outputs": [
        {
          "output_type": "display_data",
          "data": {
            "text/plain": [
              "   df_with_1$ORG_CUSTOMER_DATA                                                                                          \n",
              "1  -                                                                                                                    \n",
              "2  Do not Store                                                                                                         \n",
              "3  Do not Store, Store but do not use                                                                                   \n",
              "4  Do not Store, Use for delivery (sending ordered items)                                                               \n",
              "5  Do not Store, Use for discounts (repeated purchases)                                                                 \n",
              "6  Do not Store, Use for discounts (repeated purchases), Use for sending SMS (advertisement)                            \n",
              "7  Do not Store, Use for sending SMS (advertisement)                                                                    \n",
              "8  Store but do not use                                                                                                 \n",
              "9  Store but do not use, Use for delivery (sending ordered items), Use for discounts (repeated purchases)               \n",
              "10 Store but do not use, Use for discounts (repeated purchases)                                                         \n",
              "11 Store but do not use, Use for discounts (repeated purchases), Use for sending SMS (advertisement)                    \n",
              "12 Store but do not use, Use for sending SMS (advertisement)                                                            \n",
              "13 Use for delivery (sending ordered items)                                                                             \n",
              "14 Use for delivery (sending ordered items), Use for discounts (repeated purchases)                                     \n",
              "15 Use for delivery (sending ordered items), Use for discounts (repeated purchases), Use for sending SMS (advertisement)\n",
              "16 Use for delivery (sending ordered items), Use for sending SMS (advertisement)                                        \n",
              "17 Use for discounts (repeated purchases)                                                                               \n",
              "18 Use for discounts (repeated purchases), Use for sending SMS (advertisement)                                          \n",
              "19 Use for sending SMS (advertisement)                                                                                  \n",
              "   n   percent     \n",
              "1    4 0.0033057851\n",
              "2  370 0.3057851240\n",
              "3    2 0.0016528926\n",
              "4    1 0.0008264463\n",
              "5  341 0.2818181818\n",
              "6    2 0.0016528926\n",
              "7    1 0.0008264463\n",
              "8  121 0.1000000000\n",
              "9    2 0.0016528926\n",
              "10  44 0.0363636364\n",
              "11   6 0.0049586777\n",
              "12   1 0.0008264463\n",
              "13   4 0.0033057851\n",
              "14  30 0.0247933884\n",
              "15   9 0.0074380165\n",
              "16   5 0.0041322314\n",
              "17 238 0.1966942149\n",
              "18  20 0.0165289256\n",
              "19   9 0.0074380165"
            ],
            "text/latex": "A tabyl: 19 × 3\n\\begin{tabular}{lll}\n df\\_with\\_1\\$ORG\\_CUSTOMER\\_DATA & n & percent\\\\\n <chr> & <dbl> & <dbl>\\\\\n\\hline\n\t -                                                                                                                     &   4 & 0.0033057851\\\\\n\t Do not Store                                                                                                          & 370 & 0.3057851240\\\\\n\t Do not Store, Store but do not use                                                                                    &   2 & 0.0016528926\\\\\n\t Do not Store, Use for delivery (sending ordered items)                                                                &   1 & 0.0008264463\\\\\n\t Do not Store, Use for discounts (repeated purchases)                                                                  & 341 & 0.2818181818\\\\\n\t Do not Store, Use for discounts (repeated purchases), Use for sending SMS (advertisement)                             &   2 & 0.0016528926\\\\\n\t Do not Store, Use for sending SMS (advertisement)                                                                     &   1 & 0.0008264463\\\\\n\t Store but do not use                                                                                                  & 121 & 0.1000000000\\\\\n\t Store but do not use, Use for delivery (sending ordered items), Use for discounts (repeated purchases)                &   2 & 0.0016528926\\\\\n\t Store but do not use, Use for discounts (repeated purchases)                                                          &  44 & 0.0363636364\\\\\n\t Store but do not use, Use for discounts (repeated purchases), Use for sending SMS (advertisement)                     &   6 & 0.0049586777\\\\\n\t Store but do not use, Use for sending SMS (advertisement)                                                             &   1 & 0.0008264463\\\\\n\t Use for delivery (sending ordered items)                                                                              &   4 & 0.0033057851\\\\\n\t Use for delivery (sending ordered items), Use for discounts (repeated purchases)                                      &  30 & 0.0247933884\\\\\n\t Use for delivery (sending ordered items), Use for discounts (repeated purchases), Use for sending SMS (advertisement) &   9 & 0.0074380165\\\\\n\t Use for delivery (sending ordered items), Use for sending SMS (advertisement)                                         &   5 & 0.0041322314\\\\\n\t Use for discounts (repeated purchases)                                                                                & 238 & 0.1966942149\\\\\n\t Use for discounts (repeated purchases), Use for sending SMS (advertisement)                                           &  20 & 0.0165289256\\\\\n\t Use for sending SMS (advertisement)                                                                                   &   9 & 0.0074380165\\\\\n\\end{tabular}\n",
            "text/markdown": "\nA tabyl: 19 × 3\n\n| df_with_1$ORG_CUSTOMER_DATA &lt;chr&gt; | n &lt;dbl&gt; | percent &lt;dbl&gt; |\n|---|---|---|\n| -                                                                                                                     |   4 | 0.0033057851 |\n| Do not Store                                                                                                          | 370 | 0.3057851240 |\n| Do not Store, Store but do not use                                                                                    |   2 | 0.0016528926 |\n| Do not Store, Use for delivery (sending ordered items)                                                                |   1 | 0.0008264463 |\n| Do not Store, Use for discounts (repeated purchases)                                                                  | 341 | 0.2818181818 |\n| Do not Store, Use for discounts (repeated purchases), Use for sending SMS (advertisement)                             |   2 | 0.0016528926 |\n| Do not Store, Use for sending SMS (advertisement)                                                                     |   1 | 0.0008264463 |\n| Store but do not use                                                                                                  | 121 | 0.1000000000 |\n| Store but do not use, Use for delivery (sending ordered items), Use for discounts (repeated purchases)                |   2 | 0.0016528926 |\n| Store but do not use, Use for discounts (repeated purchases)                                                          |  44 | 0.0363636364 |\n| Store but do not use, Use for discounts (repeated purchases), Use for sending SMS (advertisement)                     |   6 | 0.0049586777 |\n| Store but do not use, Use for sending SMS (advertisement)                                                             |   1 | 0.0008264463 |\n| Use for delivery (sending ordered items)                                                                              |   4 | 0.0033057851 |\n| Use for delivery (sending ordered items), Use for discounts (repeated purchases)                                      |  30 | 0.0247933884 |\n| Use for delivery (sending ordered items), Use for discounts (repeated purchases), Use for sending SMS (advertisement) |   9 | 0.0074380165 |\n| Use for delivery (sending ordered items), Use for sending SMS (advertisement)                                         |   5 | 0.0041322314 |\n| Use for discounts (repeated purchases)                                                                                | 238 | 0.1966942149 |\n| Use for discounts (repeated purchases), Use for sending SMS (advertisement)                                           |  20 | 0.0165289256 |\n| Use for sending SMS (advertisement)                                                                                   |   9 | 0.0074380165 |\n\n",
            "text/html": [
              "<table class=\"dataframe\">\n",
              "<caption>A tabyl: 19 × 3</caption>\n",
              "<thead>\n",
              "\t<tr><th scope=col>df_with_1$ORG_CUSTOMER_DATA</th><th scope=col>n</th><th scope=col>percent</th></tr>\n",
              "\t<tr><th scope=col>&lt;chr&gt;</th><th scope=col>&lt;dbl&gt;</th><th scope=col>&lt;dbl&gt;</th></tr>\n",
              "</thead>\n",
              "<tbody>\n",
              "\t<tr><td>-                                                                                                                    </td><td>  4</td><td>0.0033057851</td></tr>\n",
              "\t<tr><td>Do not Store                                                                                                         </td><td>370</td><td>0.3057851240</td></tr>\n",
              "\t<tr><td>Do not Store, Store but do not use                                                                                   </td><td>  2</td><td>0.0016528926</td></tr>\n",
              "\t<tr><td>Do not Store, Use for delivery (sending ordered items)                                                               </td><td>  1</td><td>0.0008264463</td></tr>\n",
              "\t<tr><td>Do not Store, Use for discounts (repeated purchases)                                                                 </td><td>341</td><td>0.2818181818</td></tr>\n",
              "\t<tr><td>Do not Store, Use for discounts (repeated purchases), Use for sending SMS (advertisement)                            </td><td>  2</td><td>0.0016528926</td></tr>\n",
              "\t<tr><td>Do not Store, Use for sending SMS (advertisement)                                                                    </td><td>  1</td><td>0.0008264463</td></tr>\n",
              "\t<tr><td>Store but do not use                                                                                                 </td><td>121</td><td>0.1000000000</td></tr>\n",
              "\t<tr><td>Store but do not use, Use for delivery (sending ordered items), Use for discounts (repeated purchases)               </td><td>  2</td><td>0.0016528926</td></tr>\n",
              "\t<tr><td>Store but do not use, Use for discounts (repeated purchases)                                                         </td><td> 44</td><td>0.0363636364</td></tr>\n",
              "\t<tr><td>Store but do not use, Use for discounts (repeated purchases), Use for sending SMS (advertisement)                    </td><td>  6</td><td>0.0049586777</td></tr>\n",
              "\t<tr><td>Store but do not use, Use for sending SMS (advertisement)                                                            </td><td>  1</td><td>0.0008264463</td></tr>\n",
              "\t<tr><td>Use for delivery (sending ordered items)                                                                             </td><td>  4</td><td>0.0033057851</td></tr>\n",
              "\t<tr><td>Use for delivery (sending ordered items), Use for discounts (repeated purchases)                                     </td><td> 30</td><td>0.0247933884</td></tr>\n",
              "\t<tr><td>Use for delivery (sending ordered items), Use for discounts (repeated purchases), Use for sending SMS (advertisement)</td><td>  9</td><td>0.0074380165</td></tr>\n",
              "\t<tr><td>Use for delivery (sending ordered items), Use for sending SMS (advertisement)                                        </td><td>  5</td><td>0.0041322314</td></tr>\n",
              "\t<tr><td>Use for discounts (repeated purchases)                                                                               </td><td>238</td><td>0.1966942149</td></tr>\n",
              "\t<tr><td>Use for discounts (repeated purchases), Use for sending SMS (advertisement)                                          </td><td> 20</td><td>0.0165289256</td></tr>\n",
              "\t<tr><td>Use for sending SMS (advertisement)                                                                                  </td><td>  9</td><td>0.0074380165</td></tr>\n",
              "</tbody>\n",
              "</table>\n"
            ]
          },
          "metadata": {
            "tags": []
          }
        }
      ]
    },
    {
      "cell_type": "markdown",
      "metadata": {
        "id": "r1-_D2UTr0cY"
      },
      "source": [
        ", is being used as a delimiter for multi-responses and also is included in this response string 'Store, but do not use'\n",
        "\n",
        "1. Replace 'Store, but do not use' to 'Store but do not use' (the comma is removed)\n",
        "\n",
        "2. Replace , as a seperator to ;"
      ]
    },
    {
      "cell_type": "code",
      "metadata": {
        "id": "im8qHGx2rz_j"
      },
      "source": [
        "df_with_1 <- df_with_1 %>% \n",
        "  mutate(ORG_CUSTOMER_DATA = str_replace(ORG_CUSTOMER_DATA, \"Store, but do not use\", \"Store but do not use\")) #%>%\n",
        "  #tabyl(ORG_CUSTOMER_DATA)"
      ],
      "execution_count": 39,
      "outputs": []
    },
    {
      "cell_type": "code",
      "metadata": {
        "colab": {
          "base_uri": "https://localhost:8080/",
          "height": 752
        },
        "id": "S8_dWzBQvXE0",
        "outputId": "387c4147-5d43-4e20-9396-cc18008f39b4"
      },
      "source": [
        "tabyl(df_with_1$ORG_CUSTOMER_DATA)"
      ],
      "execution_count": 40,
      "outputs": [
        {
          "output_type": "display_data",
          "data": {
            "text/plain": [
              "   df_with_1$ORG_CUSTOMER_DATA                                                                                          \n",
              "1  -                                                                                                                    \n",
              "2  Do not Store                                                                                                         \n",
              "3  Do not Store, Store but do not use                                                                                   \n",
              "4  Do not Store, Use for delivery (sending ordered items)                                                               \n",
              "5  Do not Store, Use for discounts (repeated purchases)                                                                 \n",
              "6  Do not Store, Use for discounts (repeated purchases), Use for sending SMS (advertisement)                            \n",
              "7  Do not Store, Use for sending SMS (advertisement)                                                                    \n",
              "8  Store but do not use                                                                                                 \n",
              "9  Store but do not use, Use for delivery (sending ordered items), Use for discounts (repeated purchases)               \n",
              "10 Store but do not use, Use for discounts (repeated purchases)                                                         \n",
              "11 Store but do not use, Use for discounts (repeated purchases), Use for sending SMS (advertisement)                    \n",
              "12 Store but do not use, Use for sending SMS (advertisement)                                                            \n",
              "13 Use for delivery (sending ordered items)                                                                             \n",
              "14 Use for delivery (sending ordered items), Use for discounts (repeated purchases)                                     \n",
              "15 Use for delivery (sending ordered items), Use for discounts (repeated purchases), Use for sending SMS (advertisement)\n",
              "16 Use for delivery (sending ordered items), Use for sending SMS (advertisement)                                        \n",
              "17 Use for discounts (repeated purchases)                                                                               \n",
              "18 Use for discounts (repeated purchases), Use for sending SMS (advertisement)                                          \n",
              "19 Use for sending SMS (advertisement)                                                                                  \n",
              "   n   percent     \n",
              "1    4 0.0033057851\n",
              "2  370 0.3057851240\n",
              "3    2 0.0016528926\n",
              "4    1 0.0008264463\n",
              "5  341 0.2818181818\n",
              "6    2 0.0016528926\n",
              "7    1 0.0008264463\n",
              "8  121 0.1000000000\n",
              "9    2 0.0016528926\n",
              "10  44 0.0363636364\n",
              "11   6 0.0049586777\n",
              "12   1 0.0008264463\n",
              "13   4 0.0033057851\n",
              "14  30 0.0247933884\n",
              "15   9 0.0074380165\n",
              "16   5 0.0041322314\n",
              "17 238 0.1966942149\n",
              "18  20 0.0165289256\n",
              "19   9 0.0074380165"
            ],
            "text/latex": "A tabyl: 19 × 3\n\\begin{tabular}{lll}\n df\\_with\\_1\\$ORG\\_CUSTOMER\\_DATA & n & percent\\\\\n <chr> & <dbl> & <dbl>\\\\\n\\hline\n\t -                                                                                                                     &   4 & 0.0033057851\\\\\n\t Do not Store                                                                                                          & 370 & 0.3057851240\\\\\n\t Do not Store, Store but do not use                                                                                    &   2 & 0.0016528926\\\\\n\t Do not Store, Use for delivery (sending ordered items)                                                                &   1 & 0.0008264463\\\\\n\t Do not Store, Use for discounts (repeated purchases)                                                                  & 341 & 0.2818181818\\\\\n\t Do not Store, Use for discounts (repeated purchases), Use for sending SMS (advertisement)                             &   2 & 0.0016528926\\\\\n\t Do not Store, Use for sending SMS (advertisement)                                                                     &   1 & 0.0008264463\\\\\n\t Store but do not use                                                                                                  & 121 & 0.1000000000\\\\\n\t Store but do not use, Use for delivery (sending ordered items), Use for discounts (repeated purchases)                &   2 & 0.0016528926\\\\\n\t Store but do not use, Use for discounts (repeated purchases)                                                          &  44 & 0.0363636364\\\\\n\t Store but do not use, Use for discounts (repeated purchases), Use for sending SMS (advertisement)                     &   6 & 0.0049586777\\\\\n\t Store but do not use, Use for sending SMS (advertisement)                                                             &   1 & 0.0008264463\\\\\n\t Use for delivery (sending ordered items)                                                                              &   4 & 0.0033057851\\\\\n\t Use for delivery (sending ordered items), Use for discounts (repeated purchases)                                      &  30 & 0.0247933884\\\\\n\t Use for delivery (sending ordered items), Use for discounts (repeated purchases), Use for sending SMS (advertisement) &   9 & 0.0074380165\\\\\n\t Use for delivery (sending ordered items), Use for sending SMS (advertisement)                                         &   5 & 0.0041322314\\\\\n\t Use for discounts (repeated purchases)                                                                                & 238 & 0.1966942149\\\\\n\t Use for discounts (repeated purchases), Use for sending SMS (advertisement)                                           &  20 & 0.0165289256\\\\\n\t Use for sending SMS (advertisement)                                                                                   &   9 & 0.0074380165\\\\\n\\end{tabular}\n",
            "text/markdown": "\nA tabyl: 19 × 3\n\n| df_with_1$ORG_CUSTOMER_DATA &lt;chr&gt; | n &lt;dbl&gt; | percent &lt;dbl&gt; |\n|---|---|---|\n| -                                                                                                                     |   4 | 0.0033057851 |\n| Do not Store                                                                                                          | 370 | 0.3057851240 |\n| Do not Store, Store but do not use                                                                                    |   2 | 0.0016528926 |\n| Do not Store, Use for delivery (sending ordered items)                                                                |   1 | 0.0008264463 |\n| Do not Store, Use for discounts (repeated purchases)                                                                  | 341 | 0.2818181818 |\n| Do not Store, Use for discounts (repeated purchases), Use for sending SMS (advertisement)                             |   2 | 0.0016528926 |\n| Do not Store, Use for sending SMS (advertisement)                                                                     |   1 | 0.0008264463 |\n| Store but do not use                                                                                                  | 121 | 0.1000000000 |\n| Store but do not use, Use for delivery (sending ordered items), Use for discounts (repeated purchases)                |   2 | 0.0016528926 |\n| Store but do not use, Use for discounts (repeated purchases)                                                          |  44 | 0.0363636364 |\n| Store but do not use, Use for discounts (repeated purchases), Use for sending SMS (advertisement)                     |   6 | 0.0049586777 |\n| Store but do not use, Use for sending SMS (advertisement)                                                             |   1 | 0.0008264463 |\n| Use for delivery (sending ordered items)                                                                              |   4 | 0.0033057851 |\n| Use for delivery (sending ordered items), Use for discounts (repeated purchases)                                      |  30 | 0.0247933884 |\n| Use for delivery (sending ordered items), Use for discounts (repeated purchases), Use for sending SMS (advertisement) |   9 | 0.0074380165 |\n| Use for delivery (sending ordered items), Use for sending SMS (advertisement)                                         |   5 | 0.0041322314 |\n| Use for discounts (repeated purchases)                                                                                | 238 | 0.1966942149 |\n| Use for discounts (repeated purchases), Use for sending SMS (advertisement)                                           |  20 | 0.0165289256 |\n| Use for sending SMS (advertisement)                                                                                   |   9 | 0.0074380165 |\n\n",
            "text/html": [
              "<table class=\"dataframe\">\n",
              "<caption>A tabyl: 19 × 3</caption>\n",
              "<thead>\n",
              "\t<tr><th scope=col>df_with_1$ORG_CUSTOMER_DATA</th><th scope=col>n</th><th scope=col>percent</th></tr>\n",
              "\t<tr><th scope=col>&lt;chr&gt;</th><th scope=col>&lt;dbl&gt;</th><th scope=col>&lt;dbl&gt;</th></tr>\n",
              "</thead>\n",
              "<tbody>\n",
              "\t<tr><td>-                                                                                                                    </td><td>  4</td><td>0.0033057851</td></tr>\n",
              "\t<tr><td>Do not Store                                                                                                         </td><td>370</td><td>0.3057851240</td></tr>\n",
              "\t<tr><td>Do not Store, Store but do not use                                                                                   </td><td>  2</td><td>0.0016528926</td></tr>\n",
              "\t<tr><td>Do not Store, Use for delivery (sending ordered items)                                                               </td><td>  1</td><td>0.0008264463</td></tr>\n",
              "\t<tr><td>Do not Store, Use for discounts (repeated purchases)                                                                 </td><td>341</td><td>0.2818181818</td></tr>\n",
              "\t<tr><td>Do not Store, Use for discounts (repeated purchases), Use for sending SMS (advertisement)                            </td><td>  2</td><td>0.0016528926</td></tr>\n",
              "\t<tr><td>Do not Store, Use for sending SMS (advertisement)                                                                    </td><td>  1</td><td>0.0008264463</td></tr>\n",
              "\t<tr><td>Store but do not use                                                                                                 </td><td>121</td><td>0.1000000000</td></tr>\n",
              "\t<tr><td>Store but do not use, Use for delivery (sending ordered items), Use for discounts (repeated purchases)               </td><td>  2</td><td>0.0016528926</td></tr>\n",
              "\t<tr><td>Store but do not use, Use for discounts (repeated purchases)                                                         </td><td> 44</td><td>0.0363636364</td></tr>\n",
              "\t<tr><td>Store but do not use, Use for discounts (repeated purchases), Use for sending SMS (advertisement)                    </td><td>  6</td><td>0.0049586777</td></tr>\n",
              "\t<tr><td>Store but do not use, Use for sending SMS (advertisement)                                                            </td><td>  1</td><td>0.0008264463</td></tr>\n",
              "\t<tr><td>Use for delivery (sending ordered items)                                                                             </td><td>  4</td><td>0.0033057851</td></tr>\n",
              "\t<tr><td>Use for delivery (sending ordered items), Use for discounts (repeated purchases)                                     </td><td> 30</td><td>0.0247933884</td></tr>\n",
              "\t<tr><td>Use for delivery (sending ordered items), Use for discounts (repeated purchases), Use for sending SMS (advertisement)</td><td>  9</td><td>0.0074380165</td></tr>\n",
              "\t<tr><td>Use for delivery (sending ordered items), Use for sending SMS (advertisement)                                        </td><td>  5</td><td>0.0041322314</td></tr>\n",
              "\t<tr><td>Use for discounts (repeated purchases)                                                                               </td><td>238</td><td>0.1966942149</td></tr>\n",
              "\t<tr><td>Use for discounts (repeated purchases), Use for sending SMS (advertisement)                                          </td><td> 20</td><td>0.0165289256</td></tr>\n",
              "\t<tr><td>Use for sending SMS (advertisement)                                                                                  </td><td>  9</td><td>0.0074380165</td></tr>\n",
              "</tbody>\n",
              "</table>\n"
            ]
          },
          "metadata": {
            "tags": []
          }
        }
      ]
    },
    {
      "cell_type": "markdown",
      "metadata": {
        "id": "uQXX7q1xI2OA"
      },
      "source": [
        "Generating a row-id for each row\n",
        "\n",
        "Ref: https://bookdown.org/yih_huynh/Guide-to-R-Book/row-number.html"
      ]
    },
    {
      "cell_type": "code",
      "metadata": {
        "id": "XlLGYR6QI6y7"
      },
      "source": [
        "df_with_1 -> df_with_2"
      ],
      "execution_count": 41,
      "outputs": []
    },
    {
      "cell_type": "code",
      "metadata": {
        "id": "FyZhDm1fJBAi"
      },
      "source": [
        "df_with_2 <- df_with_2 %>% mutate(RESP_ID = row_number())"
      ],
      "execution_count": 43,
      "outputs": []
    },
    {
      "cell_type": "code",
      "metadata": {
        "colab": {
          "base_uri": "https://localhost:8080/"
        },
        "id": "oRV0xIK5JQVq",
        "outputId": "e415cdcd-ebe4-489e-92e1-5e80f47ab3ac"
      },
      "source": [
        "df_with_2 %>% glimpse()"
      ],
      "execution_count": 44,
      "outputs": [
        {
          "output_type": "stream",
          "text": [
            "Rows: 1,210\n",
            "Columns: 25\n",
            "$ ORG_CITY                       \u001b[3m\u001b[90m<chr>\u001b[39m\u001b[23m \"Rawalpindi\", \"Islamabad\", \"Islamabad\",…\n",
            "$ ORG_POS_BUSINESS_IMPROVEMENT   \u001b[3m\u001b[90m<fct>\u001b[39m\u001b[23m Yes, Yes, Yes, Yes, Yes, Yes, Yes, Yes,…\n",
            "$ ORG_INTERNET_ACCESS            \u001b[3m\u001b[90m<fct>\u001b[39m\u001b[23m None, Mobile, Mobile, None, Mobile, Mob…\n",
            "$ ORG_EXPAND_BUSINESS            \u001b[3m\u001b[90m<fct>\u001b[39m\u001b[23m No, Y:short-term, Y:immediately, Y:long…\n",
            "$ ORG_DELIVERY_SERVICE           \u001b[3m\u001b[90m<fct>\u001b[39m\u001b[23m No, Thinking about it, Yes, No, No, No,…\n",
            "$ ORG_CUSTOMER_DATA              \u001b[3m\u001b[90m<chr>\u001b[39m\u001b[23m \"Do not Store\", \"Do not Store, Use for …\n",
            "$ ORG_EMP_COUNT                  \u001b[3m\u001b[90m<chr>\u001b[39m\u001b[23m \"2\", \"3\", \"2\", \"1\", \"1\", \"2\", \"1\", \"1\",…\n",
            "$ ORG_INTERNET_DISRUPTION        \u001b[3m\u001b[90m<chr>\u001b[39m\u001b[23m \"Never\", \"Little\", \"Never\", \"Never\", \"L…\n",
            "$ ORG_NEW_POS_PAYMENT_PREF       \u001b[3m\u001b[90m<chr>\u001b[39m\u001b[23m \"One-Time\", \"Recurring:12M\", \"Recurring…\n",
            "$ ORG_NEW_POS_LANG_PREF          \u001b[3m\u001b[90m<chr>\u001b[39m\u001b[23m \"English and Urdu\", \"English and Urdu\",…\n",
            "$ ORG_OUTLETS_COUNT              \u001b[3m\u001b[90m<chr>\u001b[39m\u001b[23m \"1\", \"1\", \"1\", \"1\", \"1\", \"1\", \"1\", \"1\",…\n",
            "$ ORG_NEW_POS_KIND               \u001b[3m\u001b[90m<chr>\u001b[39m\u001b[23m \"Stand-Alone\", \"Stand-Alone\", \"Web-Base…\n",
            "$ ORG_WILLINGNESS_TO_PAY_AMOUNT  \u001b[3m\u001b[90m<chr>\u001b[39m\u001b[23m \"1K\", \"10K\", \"1K\", \"1K\", \"1K\", \"<1K\", \"…\n",
            "$ RESP_DESIGNATION               \u001b[3m\u001b[90m<chr>\u001b[39m\u001b[23m \"Owner\", \"Owner\", \"Owner\", \"Ower\", \"Own…\n",
            "$ ORG_POS_FEATURES               \u001b[3m\u001b[90m<chr>\u001b[39m\u001b[23m \"Remote Management/Centralized Manageme…\n",
            "$ ORG_NEW_POS_DEVICES            \u001b[3m\u001b[90m<chr>\u001b[39m\u001b[23m \"Mobile Phone\", \"Mobile Phone, PC\", \"La…\n",
            "$ ORG_TYPE                       \u001b[3m\u001b[90m<chr>\u001b[39m\u001b[23m \"Clothing items\", \"Clothing items\", \"Ha…\n",
            "$ ORG_CURRENT_PAYMENT_OPTIONS    \u001b[3m\u001b[90m<chr>\u001b[39m\u001b[23m \"Cash\", \"Cash\", \"Cash\", \"Cash\", \"Cash\",…\n",
            "$ ORG_DISCOUNTS_OFFERED          \u001b[3m\u001b[90m<chr>\u001b[39m\u001b[23m \"Customer Discount (Based on customer r…\n",
            "$ ORG_URDU_FEATURES_EXPECTED     \u001b[3m\u001b[90m<chr>\u001b[39m\u001b[23m \"Others (Please specify) (Everything in…\n",
            "$ ORG_REASON_TO_GET_POS          \u001b[3m\u001b[90m<chr>\u001b[39m\u001b[23m \"Other (Please specify) (Customer Data,…\n",
            "$ ORG_REASON_TO_NOT_HAVE_POS     \u001b[3m\u001b[90m<chr>\u001b[39m\u001b[23m \"I am happy with how my business is man…\n",
            "$ ORG_WILLINGNESS_DEMO           \u001b[3m\u001b[90m<chr>\u001b[39m\u001b[23m \"No\", \"Yes\", \"Yes\", \"No\", \"No\", \"Yes\", …\n",
            "$ ORG_WILLINGNESS_FUTURE_CONTACT \u001b[3m\u001b[90m<chr>\u001b[39m\u001b[23m \"Yes\", \"Yes\", \"Yes\", \"Yes\", \"Yes\", \"Yes…\n",
            "$ RESP_ID                        \u001b[3m\u001b[90m<int>\u001b[39m\u001b[23m 1, 2, 3, 4, 5, 6, 7, 8, 9, 10, 11, 12, …\n"
          ],
          "name": "stdout"
        }
      ]
    },
    {
      "cell_type": "markdown",
      "metadata": {
        "id": "9m19wRq-ZM97"
      },
      "source": [
        "https://mgimond.github.io/ES218/Week03b.html\n",
        "\n",
        "https://stackoverflow.com/questions/45696738/tallying-multiple-choice-entries-in-a-single-column-in-a-r-dataframe-programmati"
      ]
    },
    {
      "cell_type": "code",
      "metadata": {
        "id": "89L2GTb4VgPo"
      },
      "source": [
        "\n",
        "# my_survey2 <- my_survey %>%\n",
        "#  separate_rows(question.2) %>%\n",
        "#  count(question.2) %>%\n",
        "#  rename(response = question.2, count = n)\n",
        "\n",
        "df_temp <- df_with_1 %>%\n",
        "  separate_rows(ORG_CUSTOMER_DATA, sep=', ')"
      ],
      "execution_count": null,
      "outputs": []
    },
    {
      "cell_type": "code",
      "metadata": {
        "colab": {
          "base_uri": "https://localhost:8080/"
        },
        "id": "nsvTZ9iMVxBv",
        "outputId": "dedaa740-a77f-481d-c270-6391a0f8f0e2"
      },
      "source": [
        "df_temp$ORG_CUSTOMER_DATA %>% glimpse()\n",
        "# from 1210 to 1693 rows"
      ],
      "execution_count": null,
      "outputs": [
        {
          "output_type": "stream",
          "text": [
            " chr [1:1693] \"Do not Store\" \"Do not Store\" ...\n"
          ],
          "name": "stdout"
        }
      ]
    },
    {
      "cell_type": "code",
      "metadata": {
        "id": "rHKDzqU6WZm0"
      },
      "source": [
        "df_temp <- df_with_1 %>%\n",
        "  separate_rows(ORG_CUSTOMER_DATA, sep=',') %>%\n",
        "  count(ORG_CUSTOMER_DATA) %>%\n",
        "  rename(response = ORG_CUSTOMER_DATA, count = n)\n"
      ],
      "execution_count": null,
      "outputs": []
    },
    {
      "cell_type": "code",
      "metadata": {
        "colab": {
          "base_uri": "https://localhost:8080/"
        },
        "id": "iAicwuz4Wk68",
        "outputId": "2f03fc3c-00c7-458b-9475-fae6c15d3b6a"
      },
      "source": [
        "df_temp %>% glimpse()"
      ],
      "execution_count": null,
      "outputs": [
        {
          "output_type": "stream",
          "text": [
            "Rows: 10\n",
            "Columns: 2\n",
            "$ response \u001b[3m\u001b[90m<chr>\u001b[39m\u001b[23m \" Store but do not use\", \" Use for delivery (sending ordered …\n",
            "$ count    \u001b[3m\u001b[90m<int>\u001b[39m\u001b[23m 2, 3, 434, 44, 4, 717, 174, 48, 258, 9\n"
          ],
          "name": "stdout"
        }
      ]
    },
    {
      "cell_type": "code",
      "metadata": {
        "id": "gmxKmsRyXEUs"
      },
      "source": [
        "df_temp %>% tibble() -> df_temp"
      ],
      "execution_count": null,
      "outputs": []
    },
    {
      "cell_type": "code",
      "metadata": {
        "colab": {
          "base_uri": "https://localhost:8080/",
          "height": 403
        },
        "id": "GLxxKry5XM5H",
        "outputId": "bc3f0a6f-0be4-4bb7-f081-7d683df8a2fb"
      },
      "source": [
        "df_temp"
      ],
      "execution_count": null,
      "outputs": [
        {
          "output_type": "display_data",
          "data": {
            "text/plain": [
              "   response                                  count\n",
              "1   Store but do not use                       2  \n",
              "2   Use for delivery (sending ordered items)   3  \n",
              "3   Use for discounts (repeated purchases)   434  \n",
              "4   Use for sending SMS (advertisement)       44  \n",
              "5  -                                           4  \n",
              "6  Do not Store                              717  \n",
              "7  Store but do not use                      174  \n",
              "8  Use for delivery (sending ordered items)   48  \n",
              "9  Use for discounts (repeated purchases)    258  \n",
              "10 Use for sending SMS (advertisement)         9  "
            ],
            "text/latex": "A tibble: 10 × 2\n\\begin{tabular}{ll}\n response & count\\\\\n <chr> & <int>\\\\\n\\hline\n\t  Store but do not use                     &   2\\\\\n\t  Use for delivery (sending ordered items) &   3\\\\\n\t  Use for discounts (repeated purchases)   & 434\\\\\n\t  Use for sending SMS (advertisement)      &  44\\\\\n\t -                                         &   4\\\\\n\t Do not Store                              & 717\\\\\n\t Store but do not use                      & 174\\\\\n\t Use for delivery (sending ordered items)  &  48\\\\\n\t Use for discounts (repeated purchases)    & 258\\\\\n\t Use for sending SMS (advertisement)       &   9\\\\\n\\end{tabular}\n",
            "text/markdown": "\nA tibble: 10 × 2\n\n| response &lt;chr&gt; | count &lt;int&gt; |\n|---|---|\n|  Store but do not use                     |   2 |\n|  Use for delivery (sending ordered items) |   3 |\n|  Use for discounts (repeated purchases)   | 434 |\n|  Use for sending SMS (advertisement)      |  44 |\n| -                                         |   4 |\n| Do not Store                              | 717 |\n| Store but do not use                      | 174 |\n| Use for delivery (sending ordered items)  |  48 |\n| Use for discounts (repeated purchases)    | 258 |\n| Use for sending SMS (advertisement)       |   9 |\n\n",
            "text/html": [
              "<table class=\"dataframe\">\n",
              "<caption>A tibble: 10 × 2</caption>\n",
              "<thead>\n",
              "\t<tr><th scope=col>response</th><th scope=col>count</th></tr>\n",
              "\t<tr><th scope=col>&lt;chr&gt;</th><th scope=col>&lt;int&gt;</th></tr>\n",
              "</thead>\n",
              "<tbody>\n",
              "\t<tr><td> Store but do not use                    </td><td>  2</td></tr>\n",
              "\t<tr><td> Use for delivery (sending ordered items)</td><td>  3</td></tr>\n",
              "\t<tr><td> Use for discounts (repeated purchases)  </td><td>434</td></tr>\n",
              "\t<tr><td> Use for sending SMS (advertisement)     </td><td> 44</td></tr>\n",
              "\t<tr><td>-                                        </td><td>  4</td></tr>\n",
              "\t<tr><td>Do not Store                             </td><td>717</td></tr>\n",
              "\t<tr><td>Store but do not use                     </td><td>174</td></tr>\n",
              "\t<tr><td>Use for delivery (sending ordered items) </td><td> 48</td></tr>\n",
              "\t<tr><td>Use for discounts (repeated purchases)   </td><td>258</td></tr>\n",
              "\t<tr><td>Use for sending SMS (advertisement)      </td><td>  9</td></tr>\n",
              "</tbody>\n",
              "</table>\n"
            ]
          },
          "metadata": {
            "tags": []
          }
        }
      ]
    },
    {
      "cell_type": "code",
      "metadata": {
        "id": "2jHhCjGms5E6"
      },
      "source": [
        "df_temp$response %>% \n",
        "factor() %>% \n",
        "fct_inorder() -> df_temp$response"
      ],
      "execution_count": null,
      "outputs": []
    },
    {
      "cell_type": "code",
      "metadata": {
        "colab": {
          "base_uri": "https://localhost:8080/",
          "height": 403
        },
        "id": "bhM1CPpStPKg",
        "outputId": "08930736-48cc-4803-9257-2da19961be78"
      },
      "source": [
        "df_temp"
      ],
      "execution_count": null,
      "outputs": [
        {
          "output_type": "display_data",
          "data": {
            "text/plain": [
              "   response                                  count\n",
              "1   Store but do not use                       2  \n",
              "2   Use for delivery (sending ordered items)   3  \n",
              "3   Use for discounts (repeated purchases)   434  \n",
              "4   Use for sending SMS (advertisement)       44  \n",
              "5  -                                           4  \n",
              "6  Do not Store                              717  \n",
              "7  Store but do not use                      174  \n",
              "8  Use for delivery (sending ordered items)   48  \n",
              "9  Use for discounts (repeated purchases)    258  \n",
              "10 Use for sending SMS (advertisement)         9  "
            ],
            "text/latex": "A tibble: 10 × 2\n\\begin{tabular}{ll}\n response & count\\\\\n <fct> & <int>\\\\\n\\hline\n\t  Store but do not use                     &   2\\\\\n\t  Use for delivery (sending ordered items) &   3\\\\\n\t  Use for discounts (repeated purchases)   & 434\\\\\n\t  Use for sending SMS (advertisement)      &  44\\\\\n\t -                                         &   4\\\\\n\t Do not Store                              & 717\\\\\n\t Store but do not use                      & 174\\\\\n\t Use for delivery (sending ordered items)  &  48\\\\\n\t Use for discounts (repeated purchases)    & 258\\\\\n\t Use for sending SMS (advertisement)       &   9\\\\\n\\end{tabular}\n",
            "text/markdown": "\nA tibble: 10 × 2\n\n| response &lt;fct&gt; | count &lt;int&gt; |\n|---|---|\n|  Store but do not use                     |   2 |\n|  Use for delivery (sending ordered items) |   3 |\n|  Use for discounts (repeated purchases)   | 434 |\n|  Use for sending SMS (advertisement)      |  44 |\n| -                                         |   4 |\n| Do not Store                              | 717 |\n| Store but do not use                      | 174 |\n| Use for delivery (sending ordered items)  |  48 |\n| Use for discounts (repeated purchases)    | 258 |\n| Use for sending SMS (advertisement)       |   9 |\n\n",
            "text/html": [
              "<table class=\"dataframe\">\n",
              "<caption>A tibble: 10 × 2</caption>\n",
              "<thead>\n",
              "\t<tr><th scope=col>response</th><th scope=col>count</th></tr>\n",
              "\t<tr><th scope=col>&lt;fct&gt;</th><th scope=col>&lt;int&gt;</th></tr>\n",
              "</thead>\n",
              "<tbody>\n",
              "\t<tr><td> Store but do not use                    </td><td>  2</td></tr>\n",
              "\t<tr><td> Use for delivery (sending ordered items)</td><td>  3</td></tr>\n",
              "\t<tr><td> Use for discounts (repeated purchases)  </td><td>434</td></tr>\n",
              "\t<tr><td> Use for sending SMS (advertisement)     </td><td> 44</td></tr>\n",
              "\t<tr><td>-                                        </td><td>  4</td></tr>\n",
              "\t<tr><td>Do not Store                             </td><td>717</td></tr>\n",
              "\t<tr><td>Store but do not use                     </td><td>174</td></tr>\n",
              "\t<tr><td>Use for delivery (sending ordered items) </td><td> 48</td></tr>\n",
              "\t<tr><td>Use for discounts (repeated purchases)   </td><td>258</td></tr>\n",
              "\t<tr><td>Use for sending SMS (advertisement)      </td><td>  9</td></tr>\n",
              "</tbody>\n",
              "</table>\n"
            ]
          },
          "metadata": {
            "tags": []
          }
        }
      ]
    },
    {
      "cell_type": "code",
      "metadata": {
        "colab": {
          "base_uri": "https://localhost:8080/",
          "height": 87
        },
        "id": "Y_PxEk4-tzrD",
        "outputId": "f2d3d0db-7b43-4aa5-ff05-7c44c2438617"
      },
      "source": [
        "levels(df_temp$response)"
      ],
      "execution_count": null,
      "outputs": [
        {
          "output_type": "display_data",
          "data": {
            "text/plain": [
              " [1] \" Store but do not use\"                    \n",
              " [2] \" Use for delivery (sending ordered items)\"\n",
              " [3] \" Use for discounts (repeated purchases)\"  \n",
              " [4] \" Use for sending SMS (advertisement)\"     \n",
              " [5] \"-\"                                        \n",
              " [6] \"Do not Store\"                             \n",
              " [7] \"Store but do not use\"                     \n",
              " [8] \"Use for delivery (sending ordered items)\" \n",
              " [9] \"Use for discounts (repeated purchases)\"   \n",
              "[10] \"Use for sending SMS (advertisement)\"      "
            ],
            "text/latex": "\\begin{enumerate*}\n\\item ' Store but do not use'\n\\item ' Use for delivery (sending ordered items)'\n\\item ' Use for discounts (repeated purchases)'\n\\item ' Use for sending SMS (advertisement)'\n\\item '-'\n\\item 'Do not Store'\n\\item 'Store but do not use'\n\\item 'Use for delivery (sending ordered items)'\n\\item 'Use for discounts (repeated purchases)'\n\\item 'Use for sending SMS (advertisement)'\n\\end{enumerate*}\n",
            "text/markdown": "1. ' Store but do not use'\n2. ' Use for delivery (sending ordered items)'\n3. ' Use for discounts (repeated purchases)'\n4. ' Use for sending SMS (advertisement)'\n5. '-'\n6. 'Do not Store'\n7. 'Store but do not use'\n8. 'Use for delivery (sending ordered items)'\n9. 'Use for discounts (repeated purchases)'\n10. 'Use for sending SMS (advertisement)'\n\n\n",
            "text/html": [
              "<style>\n",
              ".list-inline {list-style: none; margin:0; padding: 0}\n",
              ".list-inline>li {display: inline-block}\n",
              ".list-inline>li:not(:last-child)::after {content: \"\\00b7\"; padding: 0 .5ex}\n",
              "</style>\n",
              "<ol class=list-inline><li>' Store but do not use'</li><li>' Use for delivery (sending ordered items)'</li><li>' Use for discounts (repeated purchases)'</li><li>' Use for sending SMS (advertisement)'</li><li>'-'</li><li>'Do not Store'</li><li>'Store but do not use'</li><li>'Use for delivery (sending ordered items)'</li><li>'Use for discounts (repeated purchases)'</li><li>'Use for sending SMS (advertisement)'</li></ol>\n"
            ]
          },
          "metadata": {
            "tags": []
          }
        }
      ]
    },
    {
      "cell_type": "code",
      "metadata": {
        "colab": {
          "base_uri": "https://localhost:8080/",
          "height": 403
        },
        "id": "0ojBk044tbtN",
        "outputId": "aa100f21-f7d4-4a21-892f-e734cf1c81db"
      },
      "source": [
        "df_temp %>%\n",
        "mutate (response1 = fct_recode(response,\n",
        "' Store but do not use ' = 'Store but do not use')) %>% \n",
        "count(response1)"
      ],
      "execution_count": null,
      "outputs": [
        {
          "output_type": "display_data",
          "data": {
            "text/plain": [
              "   response1                                 n\n",
              "1   Store but do not use                     1\n",
              "2   Use for delivery (sending ordered items) 1\n",
              "3   Use for discounts (repeated purchases)   1\n",
              "4   Use for sending SMS (advertisement)      1\n",
              "5  -                                         1\n",
              "6  Do not Store                              1\n",
              "7   Store but do not use                     1\n",
              "8  Use for delivery (sending ordered items)  1\n",
              "9  Use for discounts (repeated purchases)    1\n",
              "10 Use for sending SMS (advertisement)       1"
            ],
            "text/latex": "A tibble: 10 × 2\n\\begin{tabular}{ll}\n response1 & n\\\\\n <fct> & <int>\\\\\n\\hline\n\t  Store but do not use                     & 1\\\\\n\t  Use for delivery (sending ordered items) & 1\\\\\n\t  Use for discounts (repeated purchases)   & 1\\\\\n\t  Use for sending SMS (advertisement)      & 1\\\\\n\t -                                         & 1\\\\\n\t Do not Store                              & 1\\\\\n\t  Store but do not use                     & 1\\\\\n\t Use for delivery (sending ordered items)  & 1\\\\\n\t Use for discounts (repeated purchases)    & 1\\\\\n\t Use for sending SMS (advertisement)       & 1\\\\\n\\end{tabular}\n",
            "text/markdown": "\nA tibble: 10 × 2\n\n| response1 &lt;fct&gt; | n &lt;int&gt; |\n|---|---|\n|  Store but do not use                     | 1 |\n|  Use for delivery (sending ordered items) | 1 |\n|  Use for discounts (repeated purchases)   | 1 |\n|  Use for sending SMS (advertisement)      | 1 |\n| -                                         | 1 |\n| Do not Store                              | 1 |\n|  Store but do not use                     | 1 |\n| Use for delivery (sending ordered items)  | 1 |\n| Use for discounts (repeated purchases)    | 1 |\n| Use for sending SMS (advertisement)       | 1 |\n\n",
            "text/html": [
              "<table class=\"dataframe\">\n",
              "<caption>A tibble: 10 × 2</caption>\n",
              "<thead>\n",
              "\t<tr><th scope=col>response1</th><th scope=col>n</th></tr>\n",
              "\t<tr><th scope=col>&lt;fct&gt;</th><th scope=col>&lt;int&gt;</th></tr>\n",
              "</thead>\n",
              "<tbody>\n",
              "\t<tr><td> Store but do not use                    </td><td>1</td></tr>\n",
              "\t<tr><td> Use for delivery (sending ordered items)</td><td>1</td></tr>\n",
              "\t<tr><td> Use for discounts (repeated purchases)  </td><td>1</td></tr>\n",
              "\t<tr><td> Use for sending SMS (advertisement)     </td><td>1</td></tr>\n",
              "\t<tr><td>-                                        </td><td>1</td></tr>\n",
              "\t<tr><td>Do not Store                             </td><td>1</td></tr>\n",
              "\t<tr><td> Store but do not use                    </td><td>1</td></tr>\n",
              "\t<tr><td>Use for delivery (sending ordered items) </td><td>1</td></tr>\n",
              "\t<tr><td>Use for discounts (repeated purchases)   </td><td>1</td></tr>\n",
              "\t<tr><td>Use for sending SMS (advertisement)      </td><td>1</td></tr>\n",
              "</tbody>\n",
              "</table>\n"
            ]
          },
          "metadata": {
            "tags": []
          }
        }
      ]
    },
    {
      "cell_type": "code",
      "metadata": {
        "id": "2Se_1qx-W7BM"
      },
      "source": [
        "#tabyl(df_temp)"
      ],
      "execution_count": null,
      "outputs": []
    },
    {
      "cell_type": "markdown",
      "metadata": {
        "id": "n5YlWDX-w3vo"
      },
      "source": [
        "Not able to resolve ORG_CUSTOMER_DATA\n",
        "or in general the case for multiple-values, where we do not lump low-occurences into the high-occurences"
      ]
    },
    {
      "cell_type": "markdown",
      "metadata": {
        "id": "CScgo3O0xD6V"
      },
      "source": [
        "1.6 ORG_EMP_COUNT  "
      ]
    },
    {
      "cell_type": "code",
      "metadata": {
        "id": "n6Ob6ZjoB6bZ"
      },
      "source": [
        "#df_with_1 = df_with"
      ],
      "execution_count": null,
      "outputs": []
    },
    {
      "cell_type": "code",
      "metadata": {
        "colab": {
          "base_uri": "https://localhost:8080/",
          "height": 465
        },
        "id": "-cMvpRZgxO1E",
        "outputId": "52aad45e-2ab0-4b78-858b-112efbc63154"
      },
      "source": [
        "df_with_1 %>% tabyl(ORG_EMP_COUNT)"
      ],
      "execution_count": null,
      "outputs": [
        {
          "output_type": "display_data",
          "data": {
            "text/plain": [
              "   ORG_EMP_COUNT n   percent     \n",
              "1  1             463 0.3826446281\n",
              "2  1, 2            2 0.0016528926\n",
              "3  10              3 0.0024793388\n",
              "4  2             242 0.2000000000\n",
              "5  3             231 0.1909090909\n",
              "6  4             145 0.1198347107\n",
              "7  5              93 0.0768595041\n",
              "8  6              24 0.0198347107\n",
              "9  7               3 0.0024793388\n",
              "10 8               1 0.0008264463\n",
              "11 9               1 0.0008264463\n",
              "12 More than 10    2 0.0016528926"
            ],
            "text/latex": "A tabyl: 12 × 3\n\\begin{tabular}{lll}\n ORG\\_EMP\\_COUNT & n & percent\\\\\n <chr> & <dbl> & <dbl>\\\\\n\\hline\n\t 1            & 463 & 0.3826446281\\\\\n\t 1, 2         &   2 & 0.0016528926\\\\\n\t 10           &   3 & 0.0024793388\\\\\n\t 2            & 242 & 0.2000000000\\\\\n\t 3            & 231 & 0.1909090909\\\\\n\t 4            & 145 & 0.1198347107\\\\\n\t 5            &  93 & 0.0768595041\\\\\n\t 6            &  24 & 0.0198347107\\\\\n\t 7            &   3 & 0.0024793388\\\\\n\t 8            &   1 & 0.0008264463\\\\\n\t 9            &   1 & 0.0008264463\\\\\n\t More than 10 &   2 & 0.0016528926\\\\\n\\end{tabular}\n",
            "text/markdown": "\nA tabyl: 12 × 3\n\n| ORG_EMP_COUNT &lt;chr&gt; | n &lt;dbl&gt; | percent &lt;dbl&gt; |\n|---|---|---|\n| 1            | 463 | 0.3826446281 |\n| 1, 2         |   2 | 0.0016528926 |\n| 10           |   3 | 0.0024793388 |\n| 2            | 242 | 0.2000000000 |\n| 3            | 231 | 0.1909090909 |\n| 4            | 145 | 0.1198347107 |\n| 5            |  93 | 0.0768595041 |\n| 6            |  24 | 0.0198347107 |\n| 7            |   3 | 0.0024793388 |\n| 8            |   1 | 0.0008264463 |\n| 9            |   1 | 0.0008264463 |\n| More than 10 |   2 | 0.0016528926 |\n\n",
            "text/html": [
              "<table class=\"dataframe\">\n",
              "<caption>A tabyl: 12 × 3</caption>\n",
              "<thead>\n",
              "\t<tr><th scope=col>ORG_EMP_COUNT</th><th scope=col>n</th><th scope=col>percent</th></tr>\n",
              "\t<tr><th scope=col>&lt;chr&gt;</th><th scope=col>&lt;dbl&gt;</th><th scope=col>&lt;dbl&gt;</th></tr>\n",
              "</thead>\n",
              "<tbody>\n",
              "\t<tr><td>1           </td><td>463</td><td>0.3826446281</td></tr>\n",
              "\t<tr><td>1, 2        </td><td>  2</td><td>0.0016528926</td></tr>\n",
              "\t<tr><td>10          </td><td>  3</td><td>0.0024793388</td></tr>\n",
              "\t<tr><td>2           </td><td>242</td><td>0.2000000000</td></tr>\n",
              "\t<tr><td>3           </td><td>231</td><td>0.1909090909</td></tr>\n",
              "\t<tr><td>4           </td><td>145</td><td>0.1198347107</td></tr>\n",
              "\t<tr><td>5           </td><td> 93</td><td>0.0768595041</td></tr>\n",
              "\t<tr><td>6           </td><td> 24</td><td>0.0198347107</td></tr>\n",
              "\t<tr><td>7           </td><td>  3</td><td>0.0024793388</td></tr>\n",
              "\t<tr><td>8           </td><td>  1</td><td>0.0008264463</td></tr>\n",
              "\t<tr><td>9           </td><td>  1</td><td>0.0008264463</td></tr>\n",
              "\t<tr><td>More than 10</td><td>  2</td><td>0.0016528926</td></tr>\n",
              "</tbody>\n",
              "</table>\n"
            ]
          },
          "metadata": {
            "tags": []
          }
        }
      ]
    },
    {
      "cell_type": "code",
      "metadata": {
        "id": "tmmqOHQcxlKN"
      },
      "source": [
        "df_with_1$ORG_EMP_COUNT %>% \n",
        "factor() %>% \n",
        "fct_inorder() -> df_with_1$ORG_EMP_COUNT"
      ],
      "execution_count": null,
      "outputs": []
    },
    {
      "cell_type": "code",
      "metadata": {
        "colab": {
          "base_uri": "https://localhost:8080/",
          "height": 35
        },
        "id": "EdJLzJQ7xyjf",
        "outputId": "a48b88cd-b59f-4bf0-d7af-689fd5439d5d"
      },
      "source": [
        "levels(df_with_1$ORG_EMP_COUNT)"
      ],
      "execution_count": null,
      "outputs": [
        {
          "output_type": "display_data",
          "data": {
            "text/plain": [
              " [1] \"2\"            \"3\"            \"1\"            \"10\"           \"4\"           \n",
              " [6] \"6\"            \"More than 10\" \"9\"            \"5\"            \"1, 2\"        \n",
              "[11] \"7\"            \"8\"           "
            ],
            "text/latex": "\\begin{enumerate*}\n\\item '2'\n\\item '3'\n\\item '1'\n\\item '10'\n\\item '4'\n\\item '6'\n\\item 'More than 10'\n\\item '9'\n\\item '5'\n\\item '1, 2'\n\\item '7'\n\\item '8'\n\\end{enumerate*}\n",
            "text/markdown": "1. '2'\n2. '3'\n3. '1'\n4. '10'\n5. '4'\n6. '6'\n7. 'More than 10'\n8. '9'\n9. '5'\n10. '1, 2'\n11. '7'\n12. '8'\n\n\n",
            "text/html": [
              "<style>\n",
              ".list-inline {list-style: none; margin:0; padding: 0}\n",
              ".list-inline>li {display: inline-block}\n",
              ".list-inline>li:not(:last-child)::after {content: \"\\00b7\"; padding: 0 .5ex}\n",
              "</style>\n",
              "<ol class=list-inline><li>'2'</li><li>'3'</li><li>'1'</li><li>'10'</li><li>'4'</li><li>'6'</li><li>'More than 10'</li><li>'9'</li><li>'5'</li><li>'1, 2'</li><li>'7'</li><li>'8'</li></ol>\n"
            ]
          },
          "metadata": {
            "tags": []
          }
        }
      ]
    },
    {
      "cell_type": "code",
      "metadata": {
        "id": "5tNt47urxqPA"
      },
      "source": [
        "df_with_1 <- df_with_1 %>%\n",
        "mutate (ORG_EMP_COUNT = fct_recode(ORG_EMP_COUNT,\n",
        "'1' = '1, 2',\n",
        "'10+' = 'More than 10')) #%>% \n",
        "#count(ORG_EMP_COUNT)"
      ],
      "execution_count": null,
      "outputs": []
    },
    {
      "cell_type": "code",
      "metadata": {
        "colab": {
          "base_uri": "https://localhost:8080/",
          "height": 434
        },
        "id": "kdBByS_L3_ko",
        "outputId": "73e5d89c-d993-4879-8336-6358593dbc3d"
      },
      "source": [
        "tabyl(df_with_1$ORG_EMP_COUNT)"
      ],
      "execution_count": null,
      "outputs": [
        {
          "output_type": "display_data",
          "data": {
            "text/plain": [
              "   df_with_1$ORG_EMP_COUNT n   percent     \n",
              "1  2                       242 0.2000000000\n",
              "2  3                       231 0.1909090909\n",
              "3  1                       465 0.3842975207\n",
              "4  10                        3 0.0024793388\n",
              "5  4                       145 0.1198347107\n",
              "6  6                        24 0.0198347107\n",
              "7  10+                       2 0.0016528926\n",
              "8  9                         1 0.0008264463\n",
              "9  5                        93 0.0768595041\n",
              "10 7                         3 0.0024793388\n",
              "11 8                         1 0.0008264463"
            ],
            "text/latex": "A tabyl: 11 × 3\n\\begin{tabular}{lll}\n df\\_with\\_1\\$ORG\\_EMP\\_COUNT & n & percent\\\\\n <fct> & <dbl> & <dbl>\\\\\n\\hline\n\t 2   & 242 & 0.2000000000\\\\\n\t 3   & 231 & 0.1909090909\\\\\n\t 1   & 465 & 0.3842975207\\\\\n\t 10  &   3 & 0.0024793388\\\\\n\t 4   & 145 & 0.1198347107\\\\\n\t 6   &  24 & 0.0198347107\\\\\n\t 10+ &   2 & 0.0016528926\\\\\n\t 9   &   1 & 0.0008264463\\\\\n\t 5   &  93 & 0.0768595041\\\\\n\t 7   &   3 & 0.0024793388\\\\\n\t 8   &   1 & 0.0008264463\\\\\n\\end{tabular}\n",
            "text/markdown": "\nA tabyl: 11 × 3\n\n| df_with_1$ORG_EMP_COUNT &lt;fct&gt; | n &lt;dbl&gt; | percent &lt;dbl&gt; |\n|---|---|---|\n| 2   | 242 | 0.2000000000 |\n| 3   | 231 | 0.1909090909 |\n| 1   | 465 | 0.3842975207 |\n| 10  |   3 | 0.0024793388 |\n| 4   | 145 | 0.1198347107 |\n| 6   |  24 | 0.0198347107 |\n| 10+ |   2 | 0.0016528926 |\n| 9   |   1 | 0.0008264463 |\n| 5   |  93 | 0.0768595041 |\n| 7   |   3 | 0.0024793388 |\n| 8   |   1 | 0.0008264463 |\n\n",
            "text/html": [
              "<table class=\"dataframe\">\n",
              "<caption>A tabyl: 11 × 3</caption>\n",
              "<thead>\n",
              "\t<tr><th scope=col>df_with_1$ORG_EMP_COUNT</th><th scope=col>n</th><th scope=col>percent</th></tr>\n",
              "\t<tr><th scope=col>&lt;fct&gt;</th><th scope=col>&lt;dbl&gt;</th><th scope=col>&lt;dbl&gt;</th></tr>\n",
              "</thead>\n",
              "<tbody>\n",
              "\t<tr><td>2  </td><td>242</td><td>0.2000000000</td></tr>\n",
              "\t<tr><td>3  </td><td>231</td><td>0.1909090909</td></tr>\n",
              "\t<tr><td>1  </td><td>465</td><td>0.3842975207</td></tr>\n",
              "\t<tr><td>10 </td><td>  3</td><td>0.0024793388</td></tr>\n",
              "\t<tr><td>4  </td><td>145</td><td>0.1198347107</td></tr>\n",
              "\t<tr><td>6  </td><td> 24</td><td>0.0198347107</td></tr>\n",
              "\t<tr><td>10+</td><td>  2</td><td>0.0016528926</td></tr>\n",
              "\t<tr><td>9  </td><td>  1</td><td>0.0008264463</td></tr>\n",
              "\t<tr><td>5  </td><td> 93</td><td>0.0768595041</td></tr>\n",
              "\t<tr><td>7  </td><td>  3</td><td>0.0024793388</td></tr>\n",
              "\t<tr><td>8  </td><td>  1</td><td>0.0008264463</td></tr>\n",
              "</tbody>\n",
              "</table>\n"
            ]
          },
          "metadata": {
            "tags": []
          }
        }
      ]
    },
    {
      "cell_type": "markdown",
      "metadata": {
        "id": "qGUbjUdEBear"
      },
      "source": [
        "reordering levels"
      ]
    },
    {
      "cell_type": "code",
      "metadata": {
        "colab": {
          "base_uri": "https://localhost:8080/",
          "height": 35
        },
        "id": "N73Fn4PlCUx8",
        "outputId": "4ce0e685-3884-4528-9a40-d16200a7aef1"
      },
      "source": [
        "levels(df_with_1$ORG_EMP_COUNT)"
      ],
      "execution_count": null,
      "outputs": [
        {
          "output_type": "display_data",
          "data": {
            "text/plain": [
              " [1] \"2\"   \"3\"   \"1\"   \"10\"  \"4\"   \"6\"   \"10+\" \"9\"   \"5\"   \"7\"   \"8\"  "
            ],
            "text/latex": "\\begin{enumerate*}\n\\item '2'\n\\item '3'\n\\item '1'\n\\item '10'\n\\item '4'\n\\item '6'\n\\item '10+'\n\\item '9'\n\\item '5'\n\\item '7'\n\\item '8'\n\\end{enumerate*}\n",
            "text/markdown": "1. '2'\n2. '3'\n3. '1'\n4. '10'\n5. '4'\n6. '6'\n7. '10+'\n8. '9'\n9. '5'\n10. '7'\n11. '8'\n\n\n",
            "text/html": [
              "<style>\n",
              ".list-inline {list-style: none; margin:0; padding: 0}\n",
              ".list-inline>li {display: inline-block}\n",
              ".list-inline>li:not(:last-child)::after {content: \"\\00b7\"; padding: 0 .5ex}\n",
              "</style>\n",
              "<ol class=list-inline><li>'2'</li><li>'3'</li><li>'1'</li><li>'10'</li><li>'4'</li><li>'6'</li><li>'10+'</li><li>'9'</li><li>'5'</li><li>'7'</li><li>'8'</li></ol>\n"
            ]
          },
          "metadata": {
            "tags": []
          }
        }
      ]
    },
    {
      "cell_type": "code",
      "metadata": {
        "colab": {
          "base_uri": "https://localhost:8080/"
        },
        "id": "jagftxfbBgWr",
        "outputId": "3d1826df-f79e-4acb-e23c-e778a54d8e8a"
      },
      "source": [
        "df_with_1 <- df_with_1 %>% \n",
        "   mutate (ORG_EMP_COUNT = fct_relevel(ORG_EMP_COUNT, \n",
        "   levels=c('1','2','3','4','5','6','7','8','9','10','10+')))"
      ],
      "execution_count": null,
      "outputs": [
        {
          "output_type": "stream",
          "text": [
            "Warning message:\n",
            "“Outer names are only allowed for unnamed scalar atomic inputs”\n"
          ],
          "name": "stderr"
        }
      ]
    },
    {
      "cell_type": "markdown",
      "metadata": {
        "id": "Yf19YogJyLiI"
      },
      "source": [
        "1.7 ORG_INTERNET_DISRUPTION"
      ]
    },
    {
      "cell_type": "code",
      "metadata": {
        "colab": {
          "base_uri": "https://localhost:8080/",
          "height": 311
        },
        "id": "QAbfKVdiyYXq",
        "outputId": "7b4bf8ac-5565-4759-fabb-00d72db55940"
      },
      "source": [
        "df_with_1 %>% tabyl (ORG_INTERNET_DISRUPTION)"
      ],
      "execution_count": null,
      "outputs": [
        {
          "output_type": "display_data",
          "data": {
            "text/plain": [
              "  ORG_INTERNET_DISRUPTION n   percent     \n",
              "1 -                       348 0.2876033058\n",
              "2 A lot                    20 0.0165289256\n",
              "3 Little                  136 0.1123966942\n",
              "4 Never                   353 0.2917355372\n",
              "5 Never, Sometimes          1 0.0008264463\n",
              "6 No Internet               9 0.0074380165\n",
              "7 Sometimes               343 0.2834710744"
            ],
            "text/latex": "A tabyl: 7 × 3\n\\begin{tabular}{lll}\n ORG\\_INTERNET\\_DISRUPTION & n & percent\\\\\n <chr> & <dbl> & <dbl>\\\\\n\\hline\n\t -                & 348 & 0.2876033058\\\\\n\t A lot            &  20 & 0.0165289256\\\\\n\t Little           & 136 & 0.1123966942\\\\\n\t Never            & 353 & 0.2917355372\\\\\n\t Never, Sometimes &   1 & 0.0008264463\\\\\n\t No Internet      &   9 & 0.0074380165\\\\\n\t Sometimes        & 343 & 0.2834710744\\\\\n\\end{tabular}\n",
            "text/markdown": "\nA tabyl: 7 × 3\n\n| ORG_INTERNET_DISRUPTION &lt;chr&gt; | n &lt;dbl&gt; | percent &lt;dbl&gt; |\n|---|---|---|\n| -                | 348 | 0.2876033058 |\n| A lot            |  20 | 0.0165289256 |\n| Little           | 136 | 0.1123966942 |\n| Never            | 353 | 0.2917355372 |\n| Never, Sometimes |   1 | 0.0008264463 |\n| No Internet      |   9 | 0.0074380165 |\n| Sometimes        | 343 | 0.2834710744 |\n\n",
            "text/html": [
              "<table class=\"dataframe\">\n",
              "<caption>A tabyl: 7 × 3</caption>\n",
              "<thead>\n",
              "\t<tr><th scope=col>ORG_INTERNET_DISRUPTION</th><th scope=col>n</th><th scope=col>percent</th></tr>\n",
              "\t<tr><th scope=col>&lt;chr&gt;</th><th scope=col>&lt;dbl&gt;</th><th scope=col>&lt;dbl&gt;</th></tr>\n",
              "</thead>\n",
              "<tbody>\n",
              "\t<tr><td>-               </td><td>348</td><td>0.2876033058</td></tr>\n",
              "\t<tr><td>A lot           </td><td> 20</td><td>0.0165289256</td></tr>\n",
              "\t<tr><td>Little          </td><td>136</td><td>0.1123966942</td></tr>\n",
              "\t<tr><td>Never           </td><td>353</td><td>0.2917355372</td></tr>\n",
              "\t<tr><td>Never, Sometimes</td><td>  1</td><td>0.0008264463</td></tr>\n",
              "\t<tr><td>No Internet     </td><td>  9</td><td>0.0074380165</td></tr>\n",
              "\t<tr><td>Sometimes       </td><td>343</td><td>0.2834710744</td></tr>\n",
              "</tbody>\n",
              "</table>\n"
            ]
          },
          "metadata": {
            "tags": []
          }
        }
      ]
    },
    {
      "cell_type": "code",
      "metadata": {
        "id": "SGBq8d9eyqKl"
      },
      "source": [
        "df_with_1$ORG_INTERNET_DISRUPTION %>% \n",
        "factor() %>% \n",
        "fct_inorder() -> df_with_1$ORG_INTERNET_DISRUPTION"
      ],
      "execution_count": null,
      "outputs": []
    },
    {
      "cell_type": "code",
      "metadata": {
        "colab": {
          "base_uri": "https://localhost:8080/",
          "height": 35
        },
        "id": "MYmvfpNny0l6",
        "outputId": "79791fd8-e118-4b8c-96cb-9cf914c9f93e"
      },
      "source": [
        "levels(df_with_1$ORG_INTERNET_DISRUPTION)"
      ],
      "execution_count": null,
      "outputs": [
        {
          "output_type": "display_data",
          "data": {
            "text/plain": [
              "[1] \"-\"                \"Little\"           \"Never\"            \"Sometimes\"       \n",
              "[5] \"A lot\"            \"Never, Sometimes\" \"No Internet\"     "
            ],
            "text/latex": "\\begin{enumerate*}\n\\item '-'\n\\item 'Little'\n\\item 'Never'\n\\item 'Sometimes'\n\\item 'A lot'\n\\item 'Never, Sometimes'\n\\item 'No Internet'\n\\end{enumerate*}\n",
            "text/markdown": "1. '-'\n2. 'Little'\n3. 'Never'\n4. 'Sometimes'\n5. 'A lot'\n6. 'Never, Sometimes'\n7. 'No Internet'\n\n\n",
            "text/html": [
              "<style>\n",
              ".list-inline {list-style: none; margin:0; padding: 0}\n",
              ".list-inline>li {display: inline-block}\n",
              ".list-inline>li:not(:last-child)::after {content: \"\\00b7\"; padding: 0 .5ex}\n",
              "</style>\n",
              "<ol class=list-inline><li>'-'</li><li>'Little'</li><li>'Never'</li><li>'Sometimes'</li><li>'A lot'</li><li>'Never, Sometimes'</li><li>'No Internet'</li></ol>\n"
            ]
          },
          "metadata": {
            "tags": []
          }
        }
      ]
    },
    {
      "cell_type": "code",
      "metadata": {
        "id": "HW6YTDTNy600"
      },
      "source": [
        "df_with_1 <- df_with_1 %>%\n",
        "mutate (ORG_INTERNET_DISRUPTION = fct_recode(ORG_INTERNET_DISRUPTION,\n",
        "'Never' = '-',\n",
        "'Sometimes' = 'Never, Sometimes')) #%>% \n",
        "#count(ORG_INTERNET_DISRUPTION)"
      ],
      "execution_count": null,
      "outputs": []
    },
    {
      "cell_type": "code",
      "metadata": {
        "colab": {
          "base_uri": "https://localhost:8080/",
          "height": 250
        },
        "id": "BZ3o0wLv4KGQ",
        "outputId": "17058ad7-3255-465d-aa1e-650c0853a895"
      },
      "source": [
        "tabyl(df_with_1$ORG_INTERNET_DISRUPTION)"
      ],
      "execution_count": null,
      "outputs": [
        {
          "output_type": "display_data",
          "data": {
            "text/plain": [
              "  df_with_1$ORG_INTERNET_DISRUPTION n   percent    \n",
              "1 Never                             701 0.579338843\n",
              "2 Little                            136 0.112396694\n",
              "3 Sometimes                         344 0.284297521\n",
              "4 A lot                              20 0.016528926\n",
              "5 No Internet                         9 0.007438017"
            ],
            "text/latex": "A tabyl: 5 × 3\n\\begin{tabular}{lll}\n df\\_with\\_1\\$ORG\\_INTERNET\\_DISRUPTION & n & percent\\\\\n <fct> & <dbl> & <dbl>\\\\\n\\hline\n\t Never       & 701 & 0.579338843\\\\\n\t Little      & 136 & 0.112396694\\\\\n\t Sometimes   & 344 & 0.284297521\\\\\n\t A lot       &  20 & 0.016528926\\\\\n\t No Internet &   9 & 0.007438017\\\\\n\\end{tabular}\n",
            "text/markdown": "\nA tabyl: 5 × 3\n\n| df_with_1$ORG_INTERNET_DISRUPTION &lt;fct&gt; | n &lt;dbl&gt; | percent &lt;dbl&gt; |\n|---|---|---|\n| Never       | 701 | 0.579338843 |\n| Little      | 136 | 0.112396694 |\n| Sometimes   | 344 | 0.284297521 |\n| A lot       |  20 | 0.016528926 |\n| No Internet |   9 | 0.007438017 |\n\n",
            "text/html": [
              "<table class=\"dataframe\">\n",
              "<caption>A tabyl: 5 × 3</caption>\n",
              "<thead>\n",
              "\t<tr><th scope=col>df_with_1$ORG_INTERNET_DISRUPTION</th><th scope=col>n</th><th scope=col>percent</th></tr>\n",
              "\t<tr><th scope=col>&lt;fct&gt;</th><th scope=col>&lt;dbl&gt;</th><th scope=col>&lt;dbl&gt;</th></tr>\n",
              "</thead>\n",
              "<tbody>\n",
              "\t<tr><td>Never      </td><td>701</td><td>0.579338843</td></tr>\n",
              "\t<tr><td>Little     </td><td>136</td><td>0.112396694</td></tr>\n",
              "\t<tr><td>Sometimes  </td><td>344</td><td>0.284297521</td></tr>\n",
              "\t<tr><td>A lot      </td><td> 20</td><td>0.016528926</td></tr>\n",
              "\t<tr><td>No Internet</td><td>  9</td><td>0.007438017</td></tr>\n",
              "</tbody>\n",
              "</table>\n"
            ]
          },
          "metadata": {
            "tags": []
          }
        }
      ]
    },
    {
      "cell_type": "code",
      "metadata": {
        "colab": {
          "base_uri": "https://localhost:8080/",
          "height": 35
        },
        "id": "Alyl37wfEUy9",
        "outputId": "ef3006e0-0585-49d9-fc28-8f4196c2f8a8"
      },
      "source": [
        "levels(df_with_1$ORG_INTERNET_DISRUPTION)"
      ],
      "execution_count": null,
      "outputs": [
        {
          "output_type": "display_data",
          "data": {
            "text/plain": [
              "[1] \"Never\"       \"Little\"      \"Sometimes\"   \"A lot\"       \"No Internet\""
            ],
            "text/latex": "\\begin{enumerate*}\n\\item 'Never'\n\\item 'Little'\n\\item 'Sometimes'\n\\item 'A lot'\n\\item 'No Internet'\n\\end{enumerate*}\n",
            "text/markdown": "1. 'Never'\n2. 'Little'\n3. 'Sometimes'\n4. 'A lot'\n5. 'No Internet'\n\n\n",
            "text/html": [
              "<style>\n",
              ".list-inline {list-style: none; margin:0; padding: 0}\n",
              ".list-inline>li {display: inline-block}\n",
              ".list-inline>li:not(:last-child)::after {content: \"\\00b7\"; padding: 0 .5ex}\n",
              "</style>\n",
              "<ol class=list-inline><li>'Never'</li><li>'Little'</li><li>'Sometimes'</li><li>'A lot'</li><li>'No Internet'</li></ol>\n"
            ]
          },
          "metadata": {
            "tags": []
          }
        }
      ]
    },
    {
      "cell_type": "markdown",
      "metadata": {
        "id": "_Ku_nBjKEDPA"
      },
      "source": [
        "reordering levels"
      ]
    },
    {
      "cell_type": "code",
      "metadata": {
        "colab": {
          "base_uri": "https://localhost:8080/"
        },
        "id": "dQSqkPpZEFpZ",
        "outputId": "c0c9334d-fc6a-4721-a59c-3d0c954c8e82"
      },
      "source": [
        "df_with_1 <- df_with_1 %>%\n",
        "  mutate(ORG_INTERNET_DISRUPTION = fct_relevel(ORG_INTERNET_DISRUPTION, \n",
        "  levels = c('No Internet','Little','Sometimes','A lot','Never')))"
      ],
      "execution_count": null,
      "outputs": [
        {
          "output_type": "stream",
          "text": [
            "Warning message:\n",
            "“Outer names are only allowed for unnamed scalar atomic inputs”\n"
          ],
          "name": "stderr"
        }
      ]
    },
    {
      "cell_type": "code",
      "metadata": {
        "id": "T_cmzqf4Eduu"
      },
      "source": [
        ""
      ],
      "execution_count": null,
      "outputs": []
    },
    {
      "cell_type": "code",
      "metadata": {
        "id": "xOU9ekQ4EFR5"
      },
      "source": [
        ""
      ],
      "execution_count": null,
      "outputs": []
    },
    {
      "cell_type": "markdown",
      "metadata": {
        "id": "2vaHa6dN7yGp"
      },
      "source": [
        "1.8 ORG_NEW_POS_PAYMENT_PREF"
      ]
    },
    {
      "cell_type": "code",
      "metadata": {
        "id": "tUuk17gkAAPU"
      },
      "source": [
        "#df_with_1 <- df_with"
      ],
      "execution_count": null,
      "outputs": []
    },
    {
      "cell_type": "code",
      "metadata": {
        "colab": {
          "base_uri": "https://localhost:8080/",
          "height": 311
        },
        "id": "FOsie5Po76fn",
        "outputId": "5813290c-4533-42d1-e426-f4afc2760a4a"
      },
      "source": [
        "tabyl(df_with_1$ORG_NEW_POS_PAYMENT_PREF)"
      ],
      "execution_count": null,
      "outputs": [
        {
          "output_type": "display_data",
          "data": {
            "text/plain": [
              "  df_with_1$ORG_NEW_POS_PAYMENT_PREF                   n   percent     \n",
              "1 -                                                    119 0.0983471074\n",
              "2 One Time Payment                                     527 0.4355371901\n",
              "3 One Time Payment, Recurring Payment - Every 3 Months   1 0.0008264463\n",
              "4 Recurring Payment - Every 12 Months                  442 0.3652892562\n",
              "5 Recurring Payment - Every 3 Months                    27 0.0223140496\n",
              "6 Recurring Payment - Every 6 Months                    56 0.0462809917\n",
              "7 Recurring Payment - Every Month                       38 0.0314049587"
            ],
            "text/latex": "A tabyl: 7 × 3\n\\begin{tabular}{lll}\n df\\_with\\_1\\$ORG\\_NEW\\_POS\\_PAYMENT\\_PREF & n & percent\\\\\n <chr> & <dbl> & <dbl>\\\\\n\\hline\n\t -                                                    & 119 & 0.0983471074\\\\\n\t One Time Payment                                     & 527 & 0.4355371901\\\\\n\t One Time Payment, Recurring Payment - Every 3 Months &   1 & 0.0008264463\\\\\n\t Recurring Payment - Every 12 Months                  & 442 & 0.3652892562\\\\\n\t Recurring Payment - Every 3 Months                   &  27 & 0.0223140496\\\\\n\t Recurring Payment - Every 6 Months                   &  56 & 0.0462809917\\\\\n\t Recurring Payment - Every Month                      &  38 & 0.0314049587\\\\\n\\end{tabular}\n",
            "text/markdown": "\nA tabyl: 7 × 3\n\n| df_with_1$ORG_NEW_POS_PAYMENT_PREF &lt;chr&gt; | n &lt;dbl&gt; | percent &lt;dbl&gt; |\n|---|---|---|\n| -                                                    | 119 | 0.0983471074 |\n| One Time Payment                                     | 527 | 0.4355371901 |\n| One Time Payment, Recurring Payment - Every 3 Months |   1 | 0.0008264463 |\n| Recurring Payment - Every 12 Months                  | 442 | 0.3652892562 |\n| Recurring Payment - Every 3 Months                   |  27 | 0.0223140496 |\n| Recurring Payment - Every 6 Months                   |  56 | 0.0462809917 |\n| Recurring Payment - Every Month                      |  38 | 0.0314049587 |\n\n",
            "text/html": [
              "<table class=\"dataframe\">\n",
              "<caption>A tabyl: 7 × 3</caption>\n",
              "<thead>\n",
              "\t<tr><th scope=col>df_with_1$ORG_NEW_POS_PAYMENT_PREF</th><th scope=col>n</th><th scope=col>percent</th></tr>\n",
              "\t<tr><th scope=col>&lt;chr&gt;</th><th scope=col>&lt;dbl&gt;</th><th scope=col>&lt;dbl&gt;</th></tr>\n",
              "</thead>\n",
              "<tbody>\n",
              "\t<tr><td>-                                                   </td><td>119</td><td>0.0983471074</td></tr>\n",
              "\t<tr><td>One Time Payment                                    </td><td>527</td><td>0.4355371901</td></tr>\n",
              "\t<tr><td>One Time Payment, Recurring Payment - Every 3 Months</td><td>  1</td><td>0.0008264463</td></tr>\n",
              "\t<tr><td>Recurring Payment - Every 12 Months                 </td><td>442</td><td>0.3652892562</td></tr>\n",
              "\t<tr><td>Recurring Payment - Every 3 Months                  </td><td> 27</td><td>0.0223140496</td></tr>\n",
              "\t<tr><td>Recurring Payment - Every 6 Months                  </td><td> 56</td><td>0.0462809917</td></tr>\n",
              "\t<tr><td>Recurring Payment - Every Month                     </td><td> 38</td><td>0.0314049587</td></tr>\n",
              "</tbody>\n",
              "</table>\n"
            ]
          },
          "metadata": {
            "tags": []
          }
        }
      ]
    },
    {
      "cell_type": "code",
      "metadata": {
        "id": "xKARVAIN8KtA"
      },
      "source": [
        "df_with_1$ORG_NEW_POS_PAYMENT_PREF\t %>% \n",
        "factor() %>% \n",
        "fct_inorder() -> df_with_1$ORG_NEW_POS_PAYMENT_PREF\t"
      ],
      "execution_count": null,
      "outputs": []
    },
    {
      "cell_type": "code",
      "metadata": {
        "colab": {
          "base_uri": "https://localhost:8080/",
          "height": 69
        },
        "id": "LaUpoxy98UEj",
        "outputId": "b1b0dab3-5de6-415b-e8ba-f2c053aa594e"
      },
      "source": [
        "levels(df_with_1$ORG_NEW_POS_PAYMENT_PREF)"
      ],
      "execution_count": null,
      "outputs": [
        {
          "output_type": "display_data",
          "data": {
            "text/plain": [
              "[1] \"One Time Payment\"                                    \n",
              "[2] \"Recurring Payment - Every 12 Months\"                 \n",
              "[3] \"Recurring Payment - Every Month\"                     \n",
              "[4] \"Recurring Payment - Every 3 Months\"                  \n",
              "[5] \"Recurring Payment - Every 6 Months\"                  \n",
              "[6] \"-\"                                                   \n",
              "[7] \"One Time Payment, Recurring Payment - Every 3 Months\""
            ],
            "text/latex": "\\begin{enumerate*}\n\\item 'One Time Payment'\n\\item 'Recurring Payment - Every 12 Months'\n\\item 'Recurring Payment - Every Month'\n\\item 'Recurring Payment - Every 3 Months'\n\\item 'Recurring Payment - Every 6 Months'\n\\item '-'\n\\item 'One Time Payment, Recurring Payment - Every 3 Months'\n\\end{enumerate*}\n",
            "text/markdown": "1. 'One Time Payment'\n2. 'Recurring Payment - Every 12 Months'\n3. 'Recurring Payment - Every Month'\n4. 'Recurring Payment - Every 3 Months'\n5. 'Recurring Payment - Every 6 Months'\n6. '-'\n7. 'One Time Payment, Recurring Payment - Every 3 Months'\n\n\n",
            "text/html": [
              "<style>\n",
              ".list-inline {list-style: none; margin:0; padding: 0}\n",
              ".list-inline>li {display: inline-block}\n",
              ".list-inline>li:not(:last-child)::after {content: \"\\00b7\"; padding: 0 .5ex}\n",
              "</style>\n",
              "<ol class=list-inline><li>'One Time Payment'</li><li>'Recurring Payment - Every 12 Months'</li><li>'Recurring Payment - Every Month'</li><li>'Recurring Payment - Every 3 Months'</li><li>'Recurring Payment - Every 6 Months'</li><li>'-'</li><li>'One Time Payment, Recurring Payment - Every 3 Months'</li></ol>\n"
            ]
          },
          "metadata": {
            "tags": []
          }
        }
      ]
    },
    {
      "cell_type": "code",
      "metadata": {
        "id": "Wr_y7YM28a_P"
      },
      "source": [
        "df_with_1 <- df_with_1 %>%\n",
        "mutate (ORG_NEW_POS_PAYMENT_PREF = fct_recode(ORG_NEW_POS_PAYMENT_PREF,\n",
        "'No ANS' = '-',\n",
        "'One-Time' = 'One Time Payment',\n",
        "'One-Time' = 'One Time Payment, Recurring Payment - Every 3 Months',\n",
        "'Recurring:1M' = 'Recurring Payment - Every Month',\n",
        "'Recurring:3M' = 'Recurring Payment - Every 3 Months',\n",
        "'Recurring:6M' = 'Recurring Payment - Every 6 Months',\n",
        "'Recurring:12M' = 'Recurring Payment - Every 12 Months'\n",
        ")) #%>% \n",
        "#count(ORG_INTERNET_DISRUPTION)"
      ],
      "execution_count": null,
      "outputs": []
    },
    {
      "cell_type": "code",
      "metadata": {
        "colab": {
          "base_uri": "https://localhost:8080/",
          "height": 281
        },
        "id": "Pov1PRpS_H9x",
        "outputId": "d2662c6d-8bb5-416b-bb37-ea113121a4f0"
      },
      "source": [
        "tabyl(df_with_1$ORG_NEW_POS_PAYMENT_PREF)"
      ],
      "execution_count": null,
      "outputs": [
        {
          "output_type": "display_data",
          "data": {
            "text/plain": [
              "  df_with_1$ORG_NEW_POS_PAYMENT_PREF n   percent   \n",
              "1 One-Time                           528 0.43636364\n",
              "2 Recurring:12M                      442 0.36528926\n",
              "3 Recurring:1M                        38 0.03140496\n",
              "4 Recurring:3M                        27 0.02231405\n",
              "5 Recurring:6M                        56 0.04628099\n",
              "6 No ANS                             119 0.09834711"
            ],
            "text/latex": "A tabyl: 6 × 3\n\\begin{tabular}{lll}\n df\\_with\\_1\\$ORG\\_NEW\\_POS\\_PAYMENT\\_PREF & n & percent\\\\\n <fct> & <dbl> & <dbl>\\\\\n\\hline\n\t One-Time      & 528 & 0.43636364\\\\\n\t Recurring:12M & 442 & 0.36528926\\\\\n\t Recurring:1M  &  38 & 0.03140496\\\\\n\t Recurring:3M  &  27 & 0.02231405\\\\\n\t Recurring:6M  &  56 & 0.04628099\\\\\n\t No ANS        & 119 & 0.09834711\\\\\n\\end{tabular}\n",
            "text/markdown": "\nA tabyl: 6 × 3\n\n| df_with_1$ORG_NEW_POS_PAYMENT_PREF &lt;fct&gt; | n &lt;dbl&gt; | percent &lt;dbl&gt; |\n|---|---|---|\n| One-Time      | 528 | 0.43636364 |\n| Recurring:12M | 442 | 0.36528926 |\n| Recurring:1M  |  38 | 0.03140496 |\n| Recurring:3M  |  27 | 0.02231405 |\n| Recurring:6M  |  56 | 0.04628099 |\n| No ANS        | 119 | 0.09834711 |\n\n",
            "text/html": [
              "<table class=\"dataframe\">\n",
              "<caption>A tabyl: 6 × 3</caption>\n",
              "<thead>\n",
              "\t<tr><th scope=col>df_with_1$ORG_NEW_POS_PAYMENT_PREF</th><th scope=col>n</th><th scope=col>percent</th></tr>\n",
              "\t<tr><th scope=col>&lt;fct&gt;</th><th scope=col>&lt;dbl&gt;</th><th scope=col>&lt;dbl&gt;</th></tr>\n",
              "</thead>\n",
              "<tbody>\n",
              "\t<tr><td>One-Time     </td><td>528</td><td>0.43636364</td></tr>\n",
              "\t<tr><td>Recurring:12M</td><td>442</td><td>0.36528926</td></tr>\n",
              "\t<tr><td>Recurring:1M </td><td> 38</td><td>0.03140496</td></tr>\n",
              "\t<tr><td>Recurring:3M </td><td> 27</td><td>0.02231405</td></tr>\n",
              "\t<tr><td>Recurring:6M </td><td> 56</td><td>0.04628099</td></tr>\n",
              "\t<tr><td>No ANS       </td><td>119</td><td>0.09834711</td></tr>\n",
              "</tbody>\n",
              "</table>\n"
            ]
          },
          "metadata": {
            "tags": []
          }
        }
      ]
    },
    {
      "cell_type": "code",
      "metadata": {
        "colab": {
          "base_uri": "https://localhost:8080/"
        },
        "id": "Nl6LpFuLAYB3",
        "outputId": "7859927a-9fa4-41f9-c607-cae18c9f1b2f"
      },
      "source": [
        "df_with_1 <- df_with_1 %>%\n",
        "mutate (ORG_NEW_POS_PAYMENT_PREF = fct_relevel(ORG_NEW_POS_PAYMENT_PREF,\n",
        "levels=c('No ANS',\n",
        "'One-Time',\n",
        "'Recurring:1M',\n",
        "'Recurring:3M',\n",
        "'Recurring:6M',\n",
        "'Recurring:12M'\n",
        "))) "
      ],
      "execution_count": null,
      "outputs": [
        {
          "output_type": "stream",
          "text": [
            "Warning message:\n",
            "“Outer names are only allowed for unnamed scalar atomic inputs”\n"
          ],
          "name": "stderr"
        }
      ]
    },
    {
      "cell_type": "code",
      "metadata": {
        "colab": {
          "base_uri": "https://localhost:8080/",
          "height": 281
        },
        "id": "O8wgPoARA057",
        "outputId": "5c7cda64-b8bf-47ca-dfc5-7d56870af3b7"
      },
      "source": [
        "tabyl(df_with_1$ORG_NEW_POS_PAYMENT_PREF)"
      ],
      "execution_count": null,
      "outputs": [
        {
          "output_type": "display_data",
          "data": {
            "text/plain": [
              "  df_with_1$ORG_NEW_POS_PAYMENT_PREF n   percent   \n",
              "1 No ANS                             119 0.09834711\n",
              "2 One-Time                           528 0.43636364\n",
              "3 Recurring:1M                        38 0.03140496\n",
              "4 Recurring:3M                        27 0.02231405\n",
              "5 Recurring:6M                        56 0.04628099\n",
              "6 Recurring:12M                      442 0.36528926"
            ],
            "text/latex": "A tabyl: 6 × 3\n\\begin{tabular}{lll}\n df\\_with\\_1\\$ORG\\_NEW\\_POS\\_PAYMENT\\_PREF & n & percent\\\\\n <fct> & <dbl> & <dbl>\\\\\n\\hline\n\t No ANS        & 119 & 0.09834711\\\\\n\t One-Time      & 528 & 0.43636364\\\\\n\t Recurring:1M  &  38 & 0.03140496\\\\\n\t Recurring:3M  &  27 & 0.02231405\\\\\n\t Recurring:6M  &  56 & 0.04628099\\\\\n\t Recurring:12M & 442 & 0.36528926\\\\\n\\end{tabular}\n",
            "text/markdown": "\nA tabyl: 6 × 3\n\n| df_with_1$ORG_NEW_POS_PAYMENT_PREF &lt;fct&gt; | n &lt;dbl&gt; | percent &lt;dbl&gt; |\n|---|---|---|\n| No ANS        | 119 | 0.09834711 |\n| One-Time      | 528 | 0.43636364 |\n| Recurring:1M  |  38 | 0.03140496 |\n| Recurring:3M  |  27 | 0.02231405 |\n| Recurring:6M  |  56 | 0.04628099 |\n| Recurring:12M | 442 | 0.36528926 |\n\n",
            "text/html": [
              "<table class=\"dataframe\">\n",
              "<caption>A tabyl: 6 × 3</caption>\n",
              "<thead>\n",
              "\t<tr><th scope=col>df_with_1$ORG_NEW_POS_PAYMENT_PREF</th><th scope=col>n</th><th scope=col>percent</th></tr>\n",
              "\t<tr><th scope=col>&lt;fct&gt;</th><th scope=col>&lt;dbl&gt;</th><th scope=col>&lt;dbl&gt;</th></tr>\n",
              "</thead>\n",
              "<tbody>\n",
              "\t<tr><td>No ANS       </td><td>119</td><td>0.09834711</td></tr>\n",
              "\t<tr><td>One-Time     </td><td>528</td><td>0.43636364</td></tr>\n",
              "\t<tr><td>Recurring:1M </td><td> 38</td><td>0.03140496</td></tr>\n",
              "\t<tr><td>Recurring:3M </td><td> 27</td><td>0.02231405</td></tr>\n",
              "\t<tr><td>Recurring:6M </td><td> 56</td><td>0.04628099</td></tr>\n",
              "\t<tr><td>Recurring:12M</td><td>442</td><td>0.36528926</td></tr>\n",
              "</tbody>\n",
              "</table>\n"
            ]
          },
          "metadata": {
            "tags": []
          }
        }
      ]
    },
    {
      "cell_type": "markdown",
      "metadata": {
        "id": "K4kteCDlFyD7"
      },
      "source": [
        "1.9 ORG_NEW_POS_LANG_PREF"
      ]
    },
    {
      "cell_type": "code",
      "metadata": {
        "colab": {
          "base_uri": "https://localhost:8080/",
          "height": 189
        },
        "id": "D49yEzakF1Zd",
        "outputId": "23a7458d-7ecc-466e-95cb-f8efb702442f"
      },
      "source": [
        "tabyl(df_with_1$ORG_NEW_POS_LANG_PREF)"
      ],
      "execution_count": null,
      "outputs": [
        {
          "output_type": "display_data",
          "data": {
            "text/plain": [
              "  df_with_1$ORG_NEW_POS_LANG_PREF n   percent     \n",
              "1 English                         488 0.4033057851\n",
              "2 English and Urdu                721 0.5958677686\n",
              "3 English, English and Urdu         1 0.0008264463"
            ],
            "text/latex": "A tabyl: 3 × 3\n\\begin{tabular}{lll}\n df\\_with\\_1\\$ORG\\_NEW\\_POS\\_LANG\\_PREF & n & percent\\\\\n <chr> & <dbl> & <dbl>\\\\\n\\hline\n\t English                   & 488 & 0.4033057851\\\\\n\t English and Urdu          & 721 & 0.5958677686\\\\\n\t English, English and Urdu &   1 & 0.0008264463\\\\\n\\end{tabular}\n",
            "text/markdown": "\nA tabyl: 3 × 3\n\n| df_with_1$ORG_NEW_POS_LANG_PREF &lt;chr&gt; | n &lt;dbl&gt; | percent &lt;dbl&gt; |\n|---|---|---|\n| English                   | 488 | 0.4033057851 |\n| English and Urdu          | 721 | 0.5958677686 |\n| English, English and Urdu |   1 | 0.0008264463 |\n\n",
            "text/html": [
              "<table class=\"dataframe\">\n",
              "<caption>A tabyl: 3 × 3</caption>\n",
              "<thead>\n",
              "\t<tr><th scope=col>df_with_1$ORG_NEW_POS_LANG_PREF</th><th scope=col>n</th><th scope=col>percent</th></tr>\n",
              "\t<tr><th scope=col>&lt;chr&gt;</th><th scope=col>&lt;dbl&gt;</th><th scope=col>&lt;dbl&gt;</th></tr>\n",
              "</thead>\n",
              "<tbody>\n",
              "\t<tr><td>English                  </td><td>488</td><td>0.4033057851</td></tr>\n",
              "\t<tr><td>English and Urdu         </td><td>721</td><td>0.5958677686</td></tr>\n",
              "\t<tr><td>English, English and Urdu</td><td>  1</td><td>0.0008264463</td></tr>\n",
              "</tbody>\n",
              "</table>\n"
            ]
          },
          "metadata": {
            "tags": []
          }
        }
      ]
    },
    {
      "cell_type": "code",
      "metadata": {
        "id": "CIZTqt7IF8xt"
      },
      "source": [
        "df_with_1$ORG_NEW_POS_LANG_PREF\t %>% \n",
        "factor() %>% \n",
        "fct_inorder() -> df_with_1$ORG_NEW_POS_LANG_PREF"
      ],
      "execution_count": null,
      "outputs": []
    },
    {
      "cell_type": "code",
      "metadata": {
        "colab": {
          "base_uri": "https://localhost:8080/",
          "height": 35
        },
        "id": "S3PdZYF5GOGL",
        "outputId": "833c8f4b-28cc-4886-8a5f-40c96482761d"
      },
      "source": [
        "levels(df_with_1$ORG_NEW_POS_LANG_PREF)"
      ],
      "execution_count": null,
      "outputs": [
        {
          "output_type": "display_data",
          "data": {
            "text/plain": [
              "[1] \"English and Urdu\"          \"English\"                  \n",
              "[3] \"English, English and Urdu\""
            ],
            "text/latex": "\\begin{enumerate*}\n\\item 'English and Urdu'\n\\item 'English'\n\\item 'English, English and Urdu'\n\\end{enumerate*}\n",
            "text/markdown": "1. 'English and Urdu'\n2. 'English'\n3. 'English, English and Urdu'\n\n\n",
            "text/html": [
              "<style>\n",
              ".list-inline {list-style: none; margin:0; padding: 0}\n",
              ".list-inline>li {display: inline-block}\n",
              ".list-inline>li:not(:last-child)::after {content: \"\\00b7\"; padding: 0 .5ex}\n",
              "</style>\n",
              "<ol class=list-inline><li>'English and Urdu'</li><li>'English'</li><li>'English, English and Urdu'</li></ol>\n"
            ]
          },
          "metadata": {
            "tags": []
          }
        }
      ]
    },
    {
      "cell_type": "code",
      "metadata": {
        "id": "FapWerVkGWTP"
      },
      "source": [
        "df_with_1 <- df_with_1 %>%\n",
        "mutate (ORG_NEW_POS_LANG_PREF = fct_recode(ORG_NEW_POS_LANG_PREF,\n",
        "'English and Urdu' = 'English, English and Urdu'\n",
        "))"
      ],
      "execution_count": null,
      "outputs": []
    },
    {
      "cell_type": "code",
      "metadata": {
        "colab": {
          "base_uri": "https://localhost:8080/",
          "height": 158
        },
        "id": "yq26xn0IGkSV",
        "outputId": "7662cc67-f6a0-4c42-963e-1ef08e1289f3"
      },
      "source": [
        "tabyl(df_with_1$ORG_NEW_POS_LANG_PREF)"
      ],
      "execution_count": null,
      "outputs": [
        {
          "output_type": "display_data",
          "data": {
            "text/plain": [
              "  df_with_1$ORG_NEW_POS_LANG_PREF n   percent  \n",
              "1 English and Urdu                722 0.5966942\n",
              "2 English                         488 0.4033058"
            ],
            "text/latex": "A tabyl: 2 × 3\n\\begin{tabular}{lll}\n df\\_with\\_1\\$ORG\\_NEW\\_POS\\_LANG\\_PREF & n & percent\\\\\n <fct> & <dbl> & <dbl>\\\\\n\\hline\n\t English and Urdu & 722 & 0.5966942\\\\\n\t English          & 488 & 0.4033058\\\\\n\\end{tabular}\n",
            "text/markdown": "\nA tabyl: 2 × 3\n\n| df_with_1$ORG_NEW_POS_LANG_PREF &lt;fct&gt; | n &lt;dbl&gt; | percent &lt;dbl&gt; |\n|---|---|---|\n| English and Urdu | 722 | 0.5966942 |\n| English          | 488 | 0.4033058 |\n\n",
            "text/html": [
              "<table class=\"dataframe\">\n",
              "<caption>A tabyl: 2 × 3</caption>\n",
              "<thead>\n",
              "\t<tr><th scope=col>df_with_1$ORG_NEW_POS_LANG_PREF</th><th scope=col>n</th><th scope=col>percent</th></tr>\n",
              "\t<tr><th scope=col>&lt;fct&gt;</th><th scope=col>&lt;dbl&gt;</th><th scope=col>&lt;dbl&gt;</th></tr>\n",
              "</thead>\n",
              "<tbody>\n",
              "\t<tr><td>English and Urdu</td><td>722</td><td>0.5966942</td></tr>\n",
              "\t<tr><td>English         </td><td>488</td><td>0.4033058</td></tr>\n",
              "</tbody>\n",
              "</table>\n"
            ]
          },
          "metadata": {
            "tags": []
          }
        }
      ]
    },
    {
      "cell_type": "markdown",
      "metadata": {
        "id": "JtnJeoxNHl4w"
      },
      "source": [
        "1.10 ORG_OUTLETS_COUNT"
      ]
    },
    {
      "cell_type": "code",
      "metadata": {
        "colab": {
          "base_uri": "https://localhost:8080/",
          "height": 342
        },
        "id": "PCFMF5VnHnMV",
        "outputId": "fedb7f8a-cece-4f65-de24-83e148b5bb28"
      },
      "source": [
        "tabyl(df_with_1$ORG_OUTLETS_COUNT)"
      ],
      "execution_count": null,
      "outputs": [
        {
          "output_type": "display_data",
          "data": {
            "text/plain": [
              "  df_with_1$ORG_OUTLETS_COUNT n   percent    \n",
              "1 1                           991 0.819008264\n",
              "2 1, 2                          3 0.002479339\n",
              "3 2                            54 0.044628099\n",
              "4 3                            69 0.057024793\n",
              "5 4                            50 0.041322314\n",
              "6 5                            36 0.029752066\n",
              "7 6 to 10                       3 0.002479339\n",
              "8 More than 10                  4 0.003305785"
            ],
            "text/latex": "A tabyl: 8 × 3\n\\begin{tabular}{lll}\n df\\_with\\_1\\$ORG\\_OUTLETS\\_COUNT & n & percent\\\\\n <chr> & <dbl> & <dbl>\\\\\n\\hline\n\t 1            & 991 & 0.819008264\\\\\n\t 1, 2         &   3 & 0.002479339\\\\\n\t 2            &  54 & 0.044628099\\\\\n\t 3            &  69 & 0.057024793\\\\\n\t 4            &  50 & 0.041322314\\\\\n\t 5            &  36 & 0.029752066\\\\\n\t 6 to 10      &   3 & 0.002479339\\\\\n\t More than 10 &   4 & 0.003305785\\\\\n\\end{tabular}\n",
            "text/markdown": "\nA tabyl: 8 × 3\n\n| df_with_1$ORG_OUTLETS_COUNT &lt;chr&gt; | n &lt;dbl&gt; | percent &lt;dbl&gt; |\n|---|---|---|\n| 1            | 991 | 0.819008264 |\n| 1, 2         |   3 | 0.002479339 |\n| 2            |  54 | 0.044628099 |\n| 3            |  69 | 0.057024793 |\n| 4            |  50 | 0.041322314 |\n| 5            |  36 | 0.029752066 |\n| 6 to 10      |   3 | 0.002479339 |\n| More than 10 |   4 | 0.003305785 |\n\n",
            "text/html": [
              "<table class=\"dataframe\">\n",
              "<caption>A tabyl: 8 × 3</caption>\n",
              "<thead>\n",
              "\t<tr><th scope=col>df_with_1$ORG_OUTLETS_COUNT</th><th scope=col>n</th><th scope=col>percent</th></tr>\n",
              "\t<tr><th scope=col>&lt;chr&gt;</th><th scope=col>&lt;dbl&gt;</th><th scope=col>&lt;dbl&gt;</th></tr>\n",
              "</thead>\n",
              "<tbody>\n",
              "\t<tr><td>1           </td><td>991</td><td>0.819008264</td></tr>\n",
              "\t<tr><td>1, 2        </td><td>  3</td><td>0.002479339</td></tr>\n",
              "\t<tr><td>2           </td><td> 54</td><td>0.044628099</td></tr>\n",
              "\t<tr><td>3           </td><td> 69</td><td>0.057024793</td></tr>\n",
              "\t<tr><td>4           </td><td> 50</td><td>0.041322314</td></tr>\n",
              "\t<tr><td>5           </td><td> 36</td><td>0.029752066</td></tr>\n",
              "\t<tr><td>6 to 10     </td><td>  3</td><td>0.002479339</td></tr>\n",
              "\t<tr><td>More than 10</td><td>  4</td><td>0.003305785</td></tr>\n",
              "</tbody>\n",
              "</table>\n"
            ]
          },
          "metadata": {
            "tags": []
          }
        }
      ]
    },
    {
      "cell_type": "code",
      "metadata": {
        "id": "Kg7DO4bZHyke"
      },
      "source": [
        "df_with_1$ORG_OUTLETS_COUNT\t %>% \n",
        "factor() %>% \n",
        "fct_inorder() -> df_with_1$ORG_OUTLETS_COUNT"
      ],
      "execution_count": null,
      "outputs": []
    },
    {
      "cell_type": "code",
      "metadata": {
        "colab": {
          "base_uri": "https://localhost:8080/",
          "height": 35
        },
        "id": "9_9H7JcAILg_",
        "outputId": "f097e7c8-8ccc-41c1-e487-603e8ba61127"
      },
      "source": [
        "levels(df_with_1$ORG_OUTLETS_COUNT)"
      ],
      "execution_count": null,
      "outputs": [
        {
          "output_type": "display_data",
          "data": {
            "text/plain": [
              "[1] \"1\"            \"2\"            \"4\"            \"3\"            \"5\"           \n",
              "[6] \"6 to 10\"      \"1, 2\"         \"More than 10\""
            ],
            "text/latex": "\\begin{enumerate*}\n\\item '1'\n\\item '2'\n\\item '4'\n\\item '3'\n\\item '5'\n\\item '6 to 10'\n\\item '1, 2'\n\\item 'More than 10'\n\\end{enumerate*}\n",
            "text/markdown": "1. '1'\n2. '2'\n3. '4'\n4. '3'\n5. '5'\n6. '6 to 10'\n7. '1, 2'\n8. 'More than 10'\n\n\n",
            "text/html": [
              "<style>\n",
              ".list-inline {list-style: none; margin:0; padding: 0}\n",
              ".list-inline>li {display: inline-block}\n",
              ".list-inline>li:not(:last-child)::after {content: \"\\00b7\"; padding: 0 .5ex}\n",
              "</style>\n",
              "<ol class=list-inline><li>'1'</li><li>'2'</li><li>'4'</li><li>'3'</li><li>'5'</li><li>'6 to 10'</li><li>'1, 2'</li><li>'More than 10'</li></ol>\n"
            ]
          },
          "metadata": {
            "tags": []
          }
        }
      ]
    },
    {
      "cell_type": "code",
      "metadata": {
        "id": "OFYh5Dw6H6Xl"
      },
      "source": [
        "df_with_1 <- df_with_1 %>%\n",
        "mutate (ORG_OUTLETS_COUNT = fct_recode(ORG_OUTLETS_COUNT,\n",
        "'1' = '1, 2',\n",
        "'10+' = 'More than 10'\n",
        "))"
      ],
      "execution_count": null,
      "outputs": []
    },
    {
      "cell_type": "code",
      "metadata": {
        "colab": {
          "base_uri": "https://localhost:8080/",
          "height": 311
        },
        "id": "uVxIHYV8Iaah",
        "outputId": "e14ffa7a-a3bc-449c-be39-8fb7cb6538ef"
      },
      "source": [
        "tabyl(df_with_1$ORG_OUTLETS_COUNT)"
      ],
      "execution_count": null,
      "outputs": [
        {
          "output_type": "display_data",
          "data": {
            "text/plain": [
              "  df_with_1$ORG_OUTLETS_COUNT n   percent    \n",
              "1 1                           994 0.821487603\n",
              "2 2                            54 0.044628099\n",
              "3 4                            50 0.041322314\n",
              "4 3                            69 0.057024793\n",
              "5 5                            36 0.029752066\n",
              "6 6 to 10                       3 0.002479339\n",
              "7 10+                           4 0.003305785"
            ],
            "text/latex": "A tabyl: 7 × 3\n\\begin{tabular}{lll}\n df\\_with\\_1\\$ORG\\_OUTLETS\\_COUNT & n & percent\\\\\n <fct> & <dbl> & <dbl>\\\\\n\\hline\n\t 1       & 994 & 0.821487603\\\\\n\t 2       &  54 & 0.044628099\\\\\n\t 4       &  50 & 0.041322314\\\\\n\t 3       &  69 & 0.057024793\\\\\n\t 5       &  36 & 0.029752066\\\\\n\t 6 to 10 &   3 & 0.002479339\\\\\n\t 10+     &   4 & 0.003305785\\\\\n\\end{tabular}\n",
            "text/markdown": "\nA tabyl: 7 × 3\n\n| df_with_1$ORG_OUTLETS_COUNT &lt;fct&gt; | n &lt;dbl&gt; | percent &lt;dbl&gt; |\n|---|---|---|\n| 1       | 994 | 0.821487603 |\n| 2       |  54 | 0.044628099 |\n| 4       |  50 | 0.041322314 |\n| 3       |  69 | 0.057024793 |\n| 5       |  36 | 0.029752066 |\n| 6 to 10 |   3 | 0.002479339 |\n| 10+     |   4 | 0.003305785 |\n\n",
            "text/html": [
              "<table class=\"dataframe\">\n",
              "<caption>A tabyl: 7 × 3</caption>\n",
              "<thead>\n",
              "\t<tr><th scope=col>df_with_1$ORG_OUTLETS_COUNT</th><th scope=col>n</th><th scope=col>percent</th></tr>\n",
              "\t<tr><th scope=col>&lt;fct&gt;</th><th scope=col>&lt;dbl&gt;</th><th scope=col>&lt;dbl&gt;</th></tr>\n",
              "</thead>\n",
              "<tbody>\n",
              "\t<tr><td>1      </td><td>994</td><td>0.821487603</td></tr>\n",
              "\t<tr><td>2      </td><td> 54</td><td>0.044628099</td></tr>\n",
              "\t<tr><td>4      </td><td> 50</td><td>0.041322314</td></tr>\n",
              "\t<tr><td>3      </td><td> 69</td><td>0.057024793</td></tr>\n",
              "\t<tr><td>5      </td><td> 36</td><td>0.029752066</td></tr>\n",
              "\t<tr><td>6 to 10</td><td>  3</td><td>0.002479339</td></tr>\n",
              "\t<tr><td>10+    </td><td>  4</td><td>0.003305785</td></tr>\n",
              "</tbody>\n",
              "</table>\n"
            ]
          },
          "metadata": {
            "tags": []
          }
        }
      ]
    },
    {
      "cell_type": "markdown",
      "metadata": {
        "id": "7LymZXJmIv01"
      },
      "source": [
        "1.11 ORG_NEW_POS_KIND"
      ]
    },
    {
      "cell_type": "code",
      "metadata": {
        "colab": {
          "base_uri": "https://localhost:8080/",
          "height": 206
        },
        "id": "DBYgpG6VIu2r",
        "outputId": "6979b090-bbaa-4e5e-87f1-08e09f71e980"
      },
      "source": [
        "tabyl(df_with_1$ORG_NEW_POS_KIND)"
      ],
      "execution_count": null,
      "outputs": [
        {
          "output_type": "display_data",
          "data": {
            "text/plain": [
              "  df_with_1$ORG_NEW_POS_KIND                                                                \n",
              "1 Stand-Alone: does not require internet connection                                         \n",
              "2 Stand-Alone: does not require internet connection, Web-Based: requires internet connection\n",
              "3 Web-Based: requires internet connection                                                   \n",
              "  n   percent     \n",
              "1 548 0.4528925620\n",
              "2   1 0.0008264463\n",
              "3 661 0.5462809917"
            ],
            "text/latex": "A tabyl: 3 × 3\n\\begin{tabular}{lll}\n df\\_with\\_1\\$ORG\\_NEW\\_POS\\_KIND & n & percent\\\\\n <chr> & <dbl> & <dbl>\\\\\n\\hline\n\t Stand-Alone: does not require internet connection                                          & 548 & 0.4528925620\\\\\n\t Stand-Alone: does not require internet connection, Web-Based: requires internet connection &   1 & 0.0008264463\\\\\n\t Web-Based: requires internet connection                                                    & 661 & 0.5462809917\\\\\n\\end{tabular}\n",
            "text/markdown": "\nA tabyl: 3 × 3\n\n| df_with_1$ORG_NEW_POS_KIND &lt;chr&gt; | n &lt;dbl&gt; | percent &lt;dbl&gt; |\n|---|---|---|\n| Stand-Alone: does not require internet connection                                          | 548 | 0.4528925620 |\n| Stand-Alone: does not require internet connection, Web-Based: requires internet connection |   1 | 0.0008264463 |\n| Web-Based: requires internet connection                                                    | 661 | 0.5462809917 |\n\n",
            "text/html": [
              "<table class=\"dataframe\">\n",
              "<caption>A tabyl: 3 × 3</caption>\n",
              "<thead>\n",
              "\t<tr><th scope=col>df_with_1$ORG_NEW_POS_KIND</th><th scope=col>n</th><th scope=col>percent</th></tr>\n",
              "\t<tr><th scope=col>&lt;chr&gt;</th><th scope=col>&lt;dbl&gt;</th><th scope=col>&lt;dbl&gt;</th></tr>\n",
              "</thead>\n",
              "<tbody>\n",
              "\t<tr><td>Stand-Alone: does not require internet connection                                         </td><td>548</td><td>0.4528925620</td></tr>\n",
              "\t<tr><td>Stand-Alone: does not require internet connection, Web-Based: requires internet connection</td><td>  1</td><td>0.0008264463</td></tr>\n",
              "\t<tr><td>Web-Based: requires internet connection                                                   </td><td>661</td><td>0.5462809917</td></tr>\n",
              "</tbody>\n",
              "</table>\n"
            ]
          },
          "metadata": {
            "tags": []
          }
        }
      ]
    },
    {
      "cell_type": "code",
      "metadata": {
        "id": "nwap6RJ6I4My"
      },
      "source": [
        "df_with_1$ORG_NEW_POS_KIND\t %>% \n",
        "factor() %>% \n",
        "fct_inorder() -> df_with_1$ORG_NEW_POS_KIND"
      ],
      "execution_count": null,
      "outputs": []
    },
    {
      "cell_type": "code",
      "metadata": {
        "id": "-gZZYQTAJBH6"
      },
      "source": [
        "df_with_1 <- df_with_1 %>%\n",
        "mutate (ORG_NEW_POS_KIND = fct_recode(ORG_NEW_POS_KIND,\n",
        "'Stand-Alone' = 'Stand-Alone: does not require internet connection',\n",
        "'Stand-Alone' = 'Stand-Alone: does not require internet connection, Web-Based: requires internet connection',\n",
        "'Web-Based' = 'Web-Based: requires internet connection'))"
      ],
      "execution_count": null,
      "outputs": []
    },
    {
      "cell_type": "markdown",
      "metadata": {
        "id": "9670MZ9P0CuL"
      },
      "source": [
        "TODO: Cleaning up other variables"
      ]
    },
    {
      "cell_type": "markdown",
      "metadata": {
        "id": "naEtdqxdJk0L"
      },
      "source": [
        "to be fixed:\n",
        "\n",
        "ORG_WILLINGNESS_TO_PAY_AMOUNT\n",
        "RESP_DESIGNATION\n",
        "ORG_NEW_POS_DEVICES\n",
        "ORG_TYPE\n",
        "ORG_CURRENT_PAYMENT_OPTIONS\n",
        "ORG_DISCOUNTS_OFFERED\n",
        "ORG_URDU_FEATURES_EXPECTED\n",
        "ORG_REASON_TO_NOT_HAVE_POS\n"
      ]
    },
    {
      "cell_type": "markdown",
      "metadata": {
        "id": "dRITxwqO1OJc"
      },
      "source": [
        "Dropping variables that are not yet fixed"
      ]
    },
    {
      "cell_type": "code",
      "metadata": {
        "id": "36Fd5sVI1Nqb"
      },
      "source": [
        "#df_with_1 %>% select(! c("
      ],
      "execution_count": null,
      "outputs": []
    },
    {
      "cell_type": "markdown",
      "metadata": {
        "id": "gOABHeju0HHY"
      },
      "source": [
        "Dropping variables not to be used in plotting"
      ]
    },
    {
      "cell_type": "code",
      "metadata": {
        "id": "mP75Tipm1I7S"
      },
      "source": [
        "df_with_1 %>% select(! c(RESP_ID,ORG_ADDRESS,ORG_NAME,ORG_RESP_TENURE)) -> df_with_2"
      ],
      "execution_count": null,
      "outputs": []
    },
    {
      "cell_type": "code",
      "metadata": {
        "colab": {
          "base_uri": "https://localhost:8080/"
        },
        "id": "id_9O5UN0j97",
        "outputId": "3245ac47-a646-43b7-ae31-048e1a0f6129"
      },
      "source": [
        "df_with_2 %>% glimpse()"
      ],
      "execution_count": null,
      "outputs": [
        {
          "output_type": "stream",
          "text": [
            "Rows: 1,210\n",
            "Columns: 24\n",
            "$ ORG_CITY                       \u001b[3m\u001b[90m<chr>\u001b[39m\u001b[23m \"Rawalpindi\", \"Islamabad\", \"Islamabad\",…\n",
            "$ ORG_POS_BUSINESS_IMPROVEMENT   \u001b[3m\u001b[90m<fct>\u001b[39m\u001b[23m Yes, Yes, Yes, Yes, Yes, Yes, Yes, Yes,…\n",
            "$ ORG_INTERNET_ACCESS            \u001b[3m\u001b[90m<fct>\u001b[39m\u001b[23m None, Mobile, Mobile, None, Mobile, Mob…\n",
            "$ ORG_EXPAND_BUSINESS            \u001b[3m\u001b[90m<fct>\u001b[39m\u001b[23m No, Y:short-term, Y:immediately, Y:long…\n",
            "$ ORG_DELIVERY_SERVICE           \u001b[3m\u001b[90m<fct>\u001b[39m\u001b[23m No, Thinking about it, Yes, No, No, No,…\n",
            "$ ORG_CUSTOMER_DATA              \u001b[3m\u001b[90m<chr>\u001b[39m\u001b[23m \"Do not Store\", \"Do not Store, Use for …\n",
            "$ ORG_EMP_COUNT                  \u001b[3m\u001b[90m<fct>\u001b[39m\u001b[23m 2, 3, 2, 1, 1, 2, 1, 1, 1, 1, 2, 3, 2, …\n",
            "$ ORG_INTERNET_DISRUPTION        \u001b[3m\u001b[90m<fct>\u001b[39m\u001b[23m Never, Little, Never, Never, Little, Li…\n",
            "$ ORG_NEW_POS_PAYMENT_PREF       \u001b[3m\u001b[90m<fct>\u001b[39m\u001b[23m One-Time, Recurring:12M, Recurring:1M, …\n",
            "$ ORG_NEW_POS_LANG_PREF          \u001b[3m\u001b[90m<fct>\u001b[39m\u001b[23m English and Urdu, English and Urdu, Eng…\n",
            "$ ORG_OUTLETS_COUNT              \u001b[3m\u001b[90m<fct>\u001b[39m\u001b[23m 1, 1, 1, 1, 1, 1, 1, 1, 1, 2, 1, 1, 1, …\n",
            "$ ORG_NEW_POS_KIND               \u001b[3m\u001b[90m<fct>\u001b[39m\u001b[23m Stand-Alone, Stand-Alone, Web-Based, St…\n",
            "$ ORG_WILLINGNESS_TO_PAY_AMOUNT  \u001b[3m\u001b[90m<chr>\u001b[39m\u001b[23m \"1000\", \"10000\", \"1000\", \"1000\", \"1000\"…\n",
            "$ RESP_DESIGNATION               \u001b[3m\u001b[90m<chr>\u001b[39m\u001b[23m \"Owner\", \"Owner\", \"Owner\", \"Ower\", \"Own…\n",
            "$ ORG_POS_FEATURES               \u001b[3m\u001b[90m<chr>\u001b[39m\u001b[23m \"Remote Management/Centralized Manageme…\n",
            "$ ORG_NEW_POS_DEVICES            \u001b[3m\u001b[90m<chr>\u001b[39m\u001b[23m \"Mobile Phone\", \"Mobile Phone, PC\", \"La…\n",
            "$ ORG_TYPE                       \u001b[3m\u001b[90m<chr>\u001b[39m\u001b[23m \"Clothing items\", \"Clothing items\", \"Ha…\n",
            "$ ORG_CURRENT_PAYMENT_OPTIONS    \u001b[3m\u001b[90m<chr>\u001b[39m\u001b[23m \"Cash\", \"Cash\", \"Cash\", \"Cash\", \"Cash\",…\n",
            "$ ORG_DISCOUNTS_OFFERED          \u001b[3m\u001b[90m<chr>\u001b[39m\u001b[23m \"Customer Discount (Based on customer r…\n",
            "$ ORG_URDU_FEATURES_EXPECTED     \u001b[3m\u001b[90m<chr>\u001b[39m\u001b[23m \"Others (Please specify) (Everything in…\n",
            "$ ORG_REASON_TO_GET_POS          \u001b[3m\u001b[90m<chr>\u001b[39m\u001b[23m \"Other (Please specify) (Customer Data,…\n",
            "$ ORG_REASON_TO_NOT_HAVE_POS     \u001b[3m\u001b[90m<chr>\u001b[39m\u001b[23m \"I am happy with how my business is man…\n",
            "$ ORG_WILLINGNESS_DEMO           \u001b[3m\u001b[90m<chr>\u001b[39m\u001b[23m \"No\", \"Yes\", \"Yes\", \"No\", \"No\", \"Yes\", …\n",
            "$ ORG_WILLINGNESS_FUTURE_CONTACT \u001b[3m\u001b[90m<chr>\u001b[39m\u001b[23m \"Yes\", \"Yes\", \"Yes\", \"Yes\", \"Yes\", \"Yes…\n"
          ],
          "name": "stdout"
        }
      ]
    },
    {
      "cell_type": "code",
      "metadata": {
        "id": "GvSTB8v_0K1K"
      },
      "source": [
        "df_with_1 %>% select(! c(RESP_ID,ORG_ADDRESS,ORG_NAME,ORG_RESP_TENURE)) -> df_with_2"
      ],
      "execution_count": null,
      "outputs": []
    },
    {
      "cell_type": "code",
      "metadata": {
        "id": "0O6Bdy470CAR"
      },
      "source": [
        ""
      ],
      "execution_count": null,
      "outputs": []
    },
    {
      "cell_type": "markdown",
      "metadata": {
        "id": "y2Sn_DvhLz3n"
      },
      "source": [
        "### Exp Graphs Via PURRR"
      ]
    },
    {
      "cell_type": "code",
      "metadata": {
        "id": "ibXH_JYzL2YX"
      },
      "source": [
        "# ref: https://aosmith.rbind.io/2018/08/20/automating-exploratory-plots/"
      ],
      "execution_count": null,
      "outputs": []
    },
    {
      "cell_type": "code",
      "metadata": {
        "id": "lAmgRcIgL5UX",
        "colab": {
          "base_uri": "https://localhost:8080/",
          "height": 173
        },
        "outputId": "dae23fd4-9f03-469f-f1a6-02d68ecd59a4"
      },
      "source": [
        "# list of variables to plot\n",
        "colnames(df_with_2)"
      ],
      "execution_count": null,
      "outputs": [
        {
          "output_type": "display_data",
          "data": {
            "text/plain": [
              " [1] \"ORG_CITY\"                       \"ORG_POS_BUSINESS_IMPROVEMENT\"  \n",
              " [3] \"ORG_INTERNET_ACCESS\"            \"ORG_EXPAND_BUSINESS\"           \n",
              " [5] \"ORG_DELIVERY_SERVICE\"           \"ORG_CUSTOMER_DATA\"             \n",
              " [7] \"ORG_EMP_COUNT\"                  \"ORG_INTERNET_DISRUPTION\"       \n",
              " [9] \"ORG_NEW_POS_PAYMENT_PREF\"       \"ORG_NEW_POS_LANG_PREF\"         \n",
              "[11] \"ORG_OUTLETS_COUNT\"              \"ORG_NEW_POS_KIND\"              \n",
              "[13] \"ORG_WILLINGNESS_TO_PAY_AMOUNT\"  \"RESP_DESIGNATION\"              \n",
              "[15] \"ORG_POS_FEATURES\"               \"ORG_NEW_POS_DEVICES\"           \n",
              "[17] \"ORG_TYPE\"                       \"ORG_CURRENT_PAYMENT_OPTIONS\"   \n",
              "[19] \"ORG_DISCOUNTS_OFFERED\"          \"ORG_URDU_FEATURES_EXPECTED\"    \n",
              "[21] \"ORG_REASON_TO_GET_POS\"          \"ORG_REASON_TO_NOT_HAVE_POS\"    \n",
              "[23] \"ORG_WILLINGNESS_DEMO\"           \"ORG_WILLINGNESS_FUTURE_CONTACT\""
            ],
            "text/latex": "\\begin{enumerate*}\n\\item 'ORG\\_CITY'\n\\item 'ORG\\_POS\\_BUSINESS\\_IMPROVEMENT'\n\\item 'ORG\\_INTERNET\\_ACCESS'\n\\item 'ORG\\_EXPAND\\_BUSINESS'\n\\item 'ORG\\_DELIVERY\\_SERVICE'\n\\item 'ORG\\_CUSTOMER\\_DATA'\n\\item 'ORG\\_EMP\\_COUNT'\n\\item 'ORG\\_INTERNET\\_DISRUPTION'\n\\item 'ORG\\_NEW\\_POS\\_PAYMENT\\_PREF'\n\\item 'ORG\\_NEW\\_POS\\_LANG\\_PREF'\n\\item 'ORG\\_OUTLETS\\_COUNT'\n\\item 'ORG\\_NEW\\_POS\\_KIND'\n\\item 'ORG\\_WILLINGNESS\\_TO\\_PAY\\_AMOUNT'\n\\item 'RESP\\_DESIGNATION'\n\\item 'ORG\\_POS\\_FEATURES'\n\\item 'ORG\\_NEW\\_POS\\_DEVICES'\n\\item 'ORG\\_TYPE'\n\\item 'ORG\\_CURRENT\\_PAYMENT\\_OPTIONS'\n\\item 'ORG\\_DISCOUNTS\\_OFFERED'\n\\item 'ORG\\_URDU\\_FEATURES\\_EXPECTED'\n\\item 'ORG\\_REASON\\_TO\\_GET\\_POS'\n\\item 'ORG\\_REASON\\_TO\\_NOT\\_HAVE\\_POS'\n\\item 'ORG\\_WILLINGNESS\\_DEMO'\n\\item 'ORG\\_WILLINGNESS\\_FUTURE\\_CONTACT'\n\\end{enumerate*}\n",
            "text/markdown": "1. 'ORG_CITY'\n2. 'ORG_POS_BUSINESS_IMPROVEMENT'\n3. 'ORG_INTERNET_ACCESS'\n4. 'ORG_EXPAND_BUSINESS'\n5. 'ORG_DELIVERY_SERVICE'\n6. 'ORG_CUSTOMER_DATA'\n7. 'ORG_EMP_COUNT'\n8. 'ORG_INTERNET_DISRUPTION'\n9. 'ORG_NEW_POS_PAYMENT_PREF'\n10. 'ORG_NEW_POS_LANG_PREF'\n11. 'ORG_OUTLETS_COUNT'\n12. 'ORG_NEW_POS_KIND'\n13. 'ORG_WILLINGNESS_TO_PAY_AMOUNT'\n14. 'RESP_DESIGNATION'\n15. 'ORG_POS_FEATURES'\n16. 'ORG_NEW_POS_DEVICES'\n17. 'ORG_TYPE'\n18. 'ORG_CURRENT_PAYMENT_OPTIONS'\n19. 'ORG_DISCOUNTS_OFFERED'\n20. 'ORG_URDU_FEATURES_EXPECTED'\n21. 'ORG_REASON_TO_GET_POS'\n22. 'ORG_REASON_TO_NOT_HAVE_POS'\n23. 'ORG_WILLINGNESS_DEMO'\n24. 'ORG_WILLINGNESS_FUTURE_CONTACT'\n\n\n",
            "text/html": [
              "<style>\n",
              ".list-inline {list-style: none; margin:0; padding: 0}\n",
              ".list-inline>li {display: inline-block}\n",
              ".list-inline>li:not(:last-child)::after {content: \"\\00b7\"; padding: 0 .5ex}\n",
              "</style>\n",
              "<ol class=list-inline><li>'ORG_CITY'</li><li>'ORG_POS_BUSINESS_IMPROVEMENT'</li><li>'ORG_INTERNET_ACCESS'</li><li>'ORG_EXPAND_BUSINESS'</li><li>'ORG_DELIVERY_SERVICE'</li><li>'ORG_CUSTOMER_DATA'</li><li>'ORG_EMP_COUNT'</li><li>'ORG_INTERNET_DISRUPTION'</li><li>'ORG_NEW_POS_PAYMENT_PREF'</li><li>'ORG_NEW_POS_LANG_PREF'</li><li>'ORG_OUTLETS_COUNT'</li><li>'ORG_NEW_POS_KIND'</li><li>'ORG_WILLINGNESS_TO_PAY_AMOUNT'</li><li>'RESP_DESIGNATION'</li><li>'ORG_POS_FEATURES'</li><li>'ORG_NEW_POS_DEVICES'</li><li>'ORG_TYPE'</li><li>'ORG_CURRENT_PAYMENT_OPTIONS'</li><li>'ORG_DISCOUNTS_OFFERED'</li><li>'ORG_URDU_FEATURES_EXPECTED'</li><li>'ORG_REASON_TO_GET_POS'</li><li>'ORG_REASON_TO_NOT_HAVE_POS'</li><li>'ORG_WILLINGNESS_DEMO'</li><li>'ORG_WILLINGNESS_FUTURE_CONTACT'</li></ol>\n"
            ]
          },
          "metadata": {
            "tags": []
          }
        }
      ]
    },
    {
      "cell_type": "code",
      "metadata": {
        "id": "jcKS6yvbQciF",
        "colab": {
          "base_uri": "https://localhost:8080/",
          "height": 191
        },
        "outputId": "0a5c7ad9-0cc3-4c56-97b9-43a3ede9b8dc"
      },
      "source": [
        "uni_var = c( \n",
        "'ORG_POS_BUSINESS_IMPROVEMENT',\n",
        "'ORG_INTERNET_ACCESS',\n",
        "'ORG_EXPAND_BUSINESS',\n",
        "'ORG_DELIVERY_SERVICE',\n",
        "'ORG_EMP_COUNT',\n",
        "'ORG_INTERNET_DISRUPTION',\n",
        "'ORG_NEW_POS_PAYMENT_PREF',\n",
        "'ORG_NEW_POS_LANG_PREF',\n",
        "'ORG_OUTLETS_COUNT',\n",
        "'ORG_NEW_POS_KIND',\n",
        "#'ORG_WILLINGNESS_TO_PAY_AMOUNT',\n",
        "#'RESP_DESIGNATION',\n",
        "#'ORG_POS_FEATURES',\n",
        "#'ORG_NEW_POS_DEVICES',\n",
        "#'ORG_TYPE',\n",
        "#'ORG_CURRENT_PAYMENT_OPTIONS',\n",
        "#'ORG_DISCOUNTS_OFFERED',\n",
        "#'ORG_URDU_FEATURES_EXPECTED',\n",
        "#'ORG_REASON_TO_GET_POS',\n",
        "#'ORG_REASON_TO_NOT_HAVE_POS',\n",
        "'ORG_WILLINGNESS_DEMO',\n",
        "'ORG_WILLINGNESS_FUTURE_CONTACT')\n",
        "uni_var = set_names(uni_var)\n",
        "uni_var"
      ],
      "execution_count": null,
      "outputs": [
        {
          "output_type": "display_data",
          "data": {
            "text/plain": [
              "    ORG_POS_BUSINESS_IMPROVEMENT              ORG_INTERNET_ACCESS \n",
              "  \"ORG_POS_BUSINESS_IMPROVEMENT\"            \"ORG_INTERNET_ACCESS\" \n",
              "             ORG_EXPAND_BUSINESS             ORG_DELIVERY_SERVICE \n",
              "           \"ORG_EXPAND_BUSINESS\"           \"ORG_DELIVERY_SERVICE\" \n",
              "                   ORG_EMP_COUNT          ORG_INTERNET_DISRUPTION \n",
              "                 \"ORG_EMP_COUNT\"        \"ORG_INTERNET_DISRUPTION\" \n",
              "        ORG_NEW_POS_PAYMENT_PREF            ORG_NEW_POS_LANG_PREF \n",
              "      \"ORG_NEW_POS_PAYMENT_PREF\"          \"ORG_NEW_POS_LANG_PREF\" \n",
              "               ORG_OUTLETS_COUNT                 ORG_NEW_POS_KIND \n",
              "             \"ORG_OUTLETS_COUNT\"               \"ORG_NEW_POS_KIND\" \n",
              "            ORG_WILLINGNESS_DEMO   ORG_WILLINGNESS_FUTURE_CONTACT \n",
              "          \"ORG_WILLINGNESS_DEMO\" \"ORG_WILLINGNESS_FUTURE_CONTACT\" "
            ],
            "text/latex": "\\begin{description*}\n\\item[ORG\\textbackslash{}\\_POS\\textbackslash{}\\_BUSINESS\\textbackslash{}\\_IMPROVEMENT] 'ORG\\_POS\\_BUSINESS\\_IMPROVEMENT'\n\\item[ORG\\textbackslash{}\\_INTERNET\\textbackslash{}\\_ACCESS] 'ORG\\_INTERNET\\_ACCESS'\n\\item[ORG\\textbackslash{}\\_EXPAND\\textbackslash{}\\_BUSINESS] 'ORG\\_EXPAND\\_BUSINESS'\n\\item[ORG\\textbackslash{}\\_DELIVERY\\textbackslash{}\\_SERVICE] 'ORG\\_DELIVERY\\_SERVICE'\n\\item[ORG\\textbackslash{}\\_EMP\\textbackslash{}\\_COUNT] 'ORG\\_EMP\\_COUNT'\n\\item[ORG\\textbackslash{}\\_INTERNET\\textbackslash{}\\_DISRUPTION] 'ORG\\_INTERNET\\_DISRUPTION'\n\\item[ORG\\textbackslash{}\\_NEW\\textbackslash{}\\_POS\\textbackslash{}\\_PAYMENT\\textbackslash{}\\_PREF] 'ORG\\_NEW\\_POS\\_PAYMENT\\_PREF'\n\\item[ORG\\textbackslash{}\\_NEW\\textbackslash{}\\_POS\\textbackslash{}\\_LANG\\textbackslash{}\\_PREF] 'ORG\\_NEW\\_POS\\_LANG\\_PREF'\n\\item[ORG\\textbackslash{}\\_OUTLETS\\textbackslash{}\\_COUNT] 'ORG\\_OUTLETS\\_COUNT'\n\\item[ORG\\textbackslash{}\\_NEW\\textbackslash{}\\_POS\\textbackslash{}\\_KIND] 'ORG\\_NEW\\_POS\\_KIND'\n\\item[ORG\\textbackslash{}\\_WILLINGNESS\\textbackslash{}\\_DEMO] 'ORG\\_WILLINGNESS\\_DEMO'\n\\item[ORG\\textbackslash{}\\_WILLINGNESS\\textbackslash{}\\_FUTURE\\textbackslash{}\\_CONTACT] 'ORG\\_WILLINGNESS\\_FUTURE\\_CONTACT'\n\\end{description*}\n",
            "text/markdown": "ORG_POS_BUSINESS_IMPROVEMENT\n:   'ORG_POS_BUSINESS_IMPROVEMENT'ORG_INTERNET_ACCESS\n:   'ORG_INTERNET_ACCESS'ORG_EXPAND_BUSINESS\n:   'ORG_EXPAND_BUSINESS'ORG_DELIVERY_SERVICE\n:   'ORG_DELIVERY_SERVICE'ORG_EMP_COUNT\n:   'ORG_EMP_COUNT'ORG_INTERNET_DISRUPTION\n:   'ORG_INTERNET_DISRUPTION'ORG_NEW_POS_PAYMENT_PREF\n:   'ORG_NEW_POS_PAYMENT_PREF'ORG_NEW_POS_LANG_PREF\n:   'ORG_NEW_POS_LANG_PREF'ORG_OUTLETS_COUNT\n:   'ORG_OUTLETS_COUNT'ORG_NEW_POS_KIND\n:   'ORG_NEW_POS_KIND'ORG_WILLINGNESS_DEMO\n:   'ORG_WILLINGNESS_DEMO'ORG_WILLINGNESS_FUTURE_CONTACT\n:   'ORG_WILLINGNESS_FUTURE_CONTACT'\n\n",
            "text/html": [
              "<style>\n",
              ".dl-inline {width: auto; margin:0; padding: 0}\n",
              ".dl-inline>dt, .dl-inline>dd {float: none; width: auto; display: inline-block}\n",
              ".dl-inline>dt::after {content: \":\\0020\"; padding-right: .5ex}\n",
              ".dl-inline>dt:not(:first-of-type) {padding-left: .5ex}\n",
              "</style><dl class=dl-inline><dt>ORG_POS_BUSINESS_IMPROVEMENT</dt><dd>'ORG_POS_BUSINESS_IMPROVEMENT'</dd><dt>ORG_INTERNET_ACCESS</dt><dd>'ORG_INTERNET_ACCESS'</dd><dt>ORG_EXPAND_BUSINESS</dt><dd>'ORG_EXPAND_BUSINESS'</dd><dt>ORG_DELIVERY_SERVICE</dt><dd>'ORG_DELIVERY_SERVICE'</dd><dt>ORG_EMP_COUNT</dt><dd>'ORG_EMP_COUNT'</dd><dt>ORG_INTERNET_DISRUPTION</dt><dd>'ORG_INTERNET_DISRUPTION'</dd><dt>ORG_NEW_POS_PAYMENT_PREF</dt><dd>'ORG_NEW_POS_PAYMENT_PREF'</dd><dt>ORG_NEW_POS_LANG_PREF</dt><dd>'ORG_NEW_POS_LANG_PREF'</dd><dt>ORG_OUTLETS_COUNT</dt><dd>'ORG_OUTLETS_COUNT'</dd><dt>ORG_NEW_POS_KIND</dt><dd>'ORG_NEW_POS_KIND'</dd><dt>ORG_WILLINGNESS_DEMO</dt><dd>'ORG_WILLINGNESS_DEMO'</dd><dt>ORG_WILLINGNESS_FUTURE_CONTACT</dt><dd>'ORG_WILLINGNESS_FUTURE_CONTACT'</dd></dl>\n"
            ]
          },
          "metadata": {
            "tags": []
          }
        }
      ]
    },
    {
      "cell_type": "markdown",
      "metadata": {
        "id": "0KuSu0tPVbxk"
      },
      "source": [
        "TODO"
      ]
    },
    {
      "cell_type": "code",
      "metadata": {
        "id": "yf7OVx4hVdsb"
      },
      "source": [
        "# variables to fix (multiple choice options)\n",
        "\n",
        "## removed from with pos data, multiple choice or non-relevant\n",
        "# 'ORG_ADDRESS'\n",
        "# 'ORG_CITY' --> No point faceting City on city\n",
        "# 'ORG_CUSTOMER_DATA',\n",
        "# 'ORG_NAME',\n",
        "# 'ORG_RESP_TENURE',\n",
        "# 'ORG_WILLINGNESS_TO_PAY_AMOUNT',\n",
        "# 'SB_OBSERVATION',\n",
        "# 'ORG_PICTURE_LINK',\n",
        "# 'ORG_VISITING_CARD',\n",
        "# 'SB_REGION',\n",
        "# 'RESP_DESIGNATION',\n",
        "# 'RESP_NAME',\n",
        "# 'RESP_PHONE',\n",
        "# 'ORG_NEW_POS_DEVICES',\n",
        "# 'ORG_POS_FEATURES',\n",
        "# 'ORG_TYPE',\n",
        "# 'ORG_CURRENT_PAYMENT_OPTIONS',\n",
        "# 'ORG_DISCOUNTS_OFFERED',\n",
        "# 'ORG_URDU_FEATURES_EXPECTED',\n",
        "# 'ORG_REASON_TO_GET_POS',\n",
        "# 'ORG_REASON_TO_NOT_HAVE_POS',\n",
        "\n",
        "\n",
        "\n",
        "\n",
        "\n",
        "\n",
        "\n",
        "\n",
        "## removed from with pos data, multiple choice or non-relevant\n",
        "# ORG_TYPE\n",
        "# ORG_DISCOUNTS_OFFERED\n",
        "# ORG_CUSTOMER_DATA\n",
        "# ORG_POS_FEATURES\n",
        "# ORG_OLD_POS_PAYMENT_OPTIONS\n",
        "# ORG_OLD_POS_DEVICES\n",
        "# ORG_OLD_POS_URDU_FEATURES\n",
        "# ORG_REASON_TO_REPLACE_POS\n",
        "# ORG_WILLINGNESS_TO_PAY_AMOUNT\n",
        "# ORG_OLD_POS_PROVIDER_PAYMENT_METHOD"
      ],
      "execution_count": null,
      "outputs": []
    },
    {
      "cell_type": "markdown",
      "metadata": {
        "id": "l948xQo-RAm-"
      },
      "source": [
        "#### Plotting WorkHorse"
      ]
    },
    {
      "cell_type": "code",
      "metadata": {
        "id": "Sz07kzBLQ1Ml"
      },
      "source": [
        "bar_fun = function(x, y) {\n",
        "     ggplot(df_3, aes(x = .data[[x]]) ) +\n",
        "     geom_bar(aes(fill = .data[[x]]), position = \"dodge\") +\n",
        "     facet_wrap(~ .data[[y]]) +\n",
        "     \n",
        "     # bars are too little to add data labels\n",
        "     labs(x = x, y = \"COUNT\") +\n",
        "     scale_fill_brewer(palette = \"Set2\") +\n",
        "     theme_light() +\n",
        "     theme(axis.text.x = element_text(angle = 90, vjust = 0.5, hjust=1)) +\n",
        "     theme(strip.text = element_text(face = \"bold\", size = rel(1.5)),\n",
        "     strip.background = element_rect(fill = \"lightgrey\", colour = \"black\", size = 1),\n",
        "     axis.title.y = element_blank(),\n",
        "     legend.position = \"none\"\n",
        "  )\n",
        "}"
      ],
      "execution_count": null,
      "outputs": []
    },
    {
      "cell_type": "code",
      "metadata": {
        "id": "5gFrO_HGR6k5"
      },
      "source": [
        "#bar_fun(\"ORG_DELIVERY_SERVICE\", \"ORG_CITY\")"
      ],
      "execution_count": null,
      "outputs": []
    },
    {
      "cell_type": "markdown",
      "metadata": {
        "id": "-hGhaVrRScdj"
      },
      "source": [
        "#### Plotting WorkHorse (Proportions)"
      ]
    },
    {
      "cell_type": "markdown",
      "metadata": {
        "id": "6pedrKVN5qaM"
      },
      "source": [
        "remember to change the hard-coded df in this function"
      ]
    },
    {
      "cell_type": "code",
      "metadata": {
        "id": "ePDwMUqKuk96"
      },
      "source": [
        "bar_prop_fun = function(x, y) {\n",
        "  \n",
        "    ggplot(df_with_2, aes(x = .data[[x]], group = .data[[y]]) ) + \n",
        "    geom_bar(aes(y = ..prop.., fill = factor(..x..)), stat=\"count\") +\n",
        "    geom_text(aes( label = scales::percent(..prop..,accuracy=0.1),\n",
        "                  y= ..prop.. ), stat= \"count\", \n",
        "                  vjust = -.5, size=2 ) +\n",
        "    facet_grid(~ .data[[y]]) +\n",
        "    scale_y_continuous(labels = scales::percent) +\n",
        "\n",
        "    # bars are too little to add data labels\n",
        "     labs(x = x, y = \"COUNT\") +\n",
        "     scale_fill_brewer(palette = \"Set2\") +\n",
        "     theme_light() +\n",
        "     theme(axis.text.x = element_text(angle = 90, vjust = 0.5, hjust=1, size = 5)) +\n",
        "     theme(strip.text = element_text(face = \"bold\", size = rel(1.5)),\n",
        "     strip.background = element_rect(fill = \"lightgrey\", colour = \"black\", size = 1),\n",
        "     axis.title.y = element_blank(),\n",
        "     legend.position = \"none\")\n",
        "}"
      ],
      "execution_count": null,
      "outputs": []
    },
    {
      "cell_type": "code",
      "metadata": {
        "id": "TRbTYqVuTZ6T",
        "colab": {
          "base_uri": "https://localhost:8080/",
          "height": 437
        },
        "outputId": "732b78ea-a5ca-4822-91b4-51c5a1008370"
      },
      "source": [
        "bar_prop_fun(\"ORG_INTERNET_DISRUPTION\",\"ORG_CITY\")"
      ],
      "execution_count": null,
      "outputs": [
        {
          "output_type": "display_data",
          "data": {
            "image/png": "[encoded data removed]",
            "text/plain": [
              "plot without title"
            ]
          },
          "metadata": {
            "tags": [],
            "image/png": {
              "width": 420,
              "height": 420
            }
          }
        }
      ]
    },
    {
      "cell_type": "code",
      "metadata": {
        "id": "7ttgNi7xSfI6"
      },
      "source": [
        "\n",
        "# Now using MAP, fixing facet variable to ORG_CITY\n",
        "#uni_plots = map(uni_var, ~bar_fun(.x, \"ORG_CITY\") )\n",
        "uni_plots = map(uni_var, ~bar_prop_fun(.x, \"ORG_CITY\") )"
      ],
      "execution_count": null,
      "outputs": []
    },
    {
      "cell_type": "code",
      "metadata": {
        "id": "FCt_SrrNSwZf",
        "colab": {
          "base_uri": "https://localhost:8080/",
          "height": 1000
        },
        "outputId": "70de47cb-1de0-4d0e-d7ec-0ce1451504b2"
      },
      "source": [
        "uni_plots"
      ],
      "execution_count": null,
      "outputs": [
        {
          "output_type": "display_data",
          "data": {
            "image/png": "[encoded data removed]",
            "text/plain": [
              "plot without title"
            ]
          },
          "metadata": {
            "tags": [],
            "image/png": {
              "width": 420,
              "height": 420
            }
          }
        },
        {
          "output_type": "display_data",
          "data": {
            "image/png": "[encoded data removed]",
            "text/plain": [
              "plot without title"
            ]
          },
          "metadata": {
            "tags": [],
            "image/png": {
              "width": 420,
              "height": 420
            }
          }
        },
        {
          "output_type": "display_data",
          "data": {
            "image/png": "[encoded data removed]",
            "text/plain": [
              "plot without title"
            ]
          },
          "metadata": {
            "tags": [],
            "image/png": {
              "width": 420,
              "height": 420
            }
          }
        },
        {
          "output_type": "stream",
          "text": [
            "Warning message in RColorBrewer::brewer.pal(n, pal):\n",
            "“n too large, allowed maximum for palette Set2 is 8\n",
            "Returning the palette you asked for with that many colors\n",
            "”\n"
          ],
          "name": "stderr"
        },
        {
          "output_type": "display_data",
          "data": {
            "image/png": "[encoded data removed]",
            "text/plain": [
              "plot without title"
            ]
          },
          "metadata": {
            "tags": [],
            "image/png": {
              "width": 420,
              "height": 420
            }
          }
        },
        {
          "output_type": "display_data",
          "data": {
            "image/png": "[encoded data removed]",
            "text/plain": [
              "plot without title"
            ]
          },
          "metadata": {
            "tags": [],
            "image/png": {
              "width": 420,
              "height": 420
            }
          }
        },
        {
          "output_type": "display_data",
          "data": {
            "image/png": "[encoded data removed]",
            "text/plain": [
              "plot without title"
            ]
          },
          "metadata": {
            "tags": [],
            "image/png": {
              "width": 420,
              "height": 420
            }
          }
        },
        {
          "output_type": "display_data",
          "data": {
            "image/png": "[encoded data removed]",
            "text/plain": [
              "plot without title"
            ]
          },
          "metadata": {
            "tags": [],
            "image/png": {
              "width": 420,
              "height": 420
            }
          }
        },
        {
          "output_type": "display_data",
          "data": {
            "image/png": "[encoded data removed]",
            "text/plain": [
              "plot without title"
            ]
          },
          "metadata": {
            "tags": [],
            "image/png": {
              "width": 420,
              "height": 420
            }
          }
        },
        {
          "output_type": "display_data",
          "data": {
            "image/png": "[encoded data removed]",
            "text/plain": [
              "plot without title"
            ]
          },
          "metadata": {
            "tags": [],
            "image/png": {
              "width": 420,
              "height": 420
            }
          }
        },
        {
          "output_type": "display_data",
          "data": {
            "image/png": "[encoded data removed]",
            "text/plain": [
              "plot without title"
            ]
          },
          "metadata": {
            "tags": [],
            "image/png": {
              "width": 420,
              "height": 420
            }
          }
        },
        {
          "output_type": "display_data",
          "data": {
            "text/plain": [
              "$ORG_POS_BUSINESS_IMPROVEMENT\n",
              "\n",
              "$ORG_INTERNET_ACCESS\n",
              "\n",
              "$ORG_EXPAND_BUSINESS\n",
              "\n",
              "$ORG_DELIVERY_SERVICE\n",
              "\n",
              "$ORG_EMP_COUNT\n",
              "\n",
              "$ORG_INTERNET_DISRUPTION\n",
              "\n",
              "$ORG_NEW_POS_PAYMENT_PREF\n",
              "\n",
              "$ORG_NEW_POS_LANG_PREF\n",
              "\n",
              "$ORG_OUTLETS_COUNT\n",
              "\n",
              "$ORG_NEW_POS_KIND\n",
              "\n",
              "$ORG_WILLINGNESS_DEMO\n",
              "\n",
              "$ORG_WILLINGNESS_FUTURE_CONTACT\n"
            ]
          },
          "metadata": {
            "tags": []
          }
        },
        {
          "output_type": "display_data",
          "data": {
            "image/png": "[encoded data removed]",
            "text/plain": [
              "plot without title"
            ]
          },
          "metadata": {
            "tags": [],
            "image/png": {
              "width": 420,
              "height": 420
            }
          }
        },
        {
          "output_type": "display_data",
          "data": {
            "image/png": "[encoded data removed]",
            "text/plain": [
              "plot without title"
            ]
          },
          "metadata": {
            "tags": [],
            "image/png": {
              "width": 420,
              "height": 420
            }
          }
        }
      ]
    },
    {
      "cell_type": "code",
      "metadata": {
        "id": "mYQR5AUK44FP"
      },
      "source": [
        "# SB_REGION should be plotted, without facetting\n",
        "#'SB_REGION'"
      ],
      "execution_count": null,
      "outputs": []
    },
    {
      "cell_type": "code",
      "metadata": {
        "id": "9dNYwPqgS853",
        "colab": {
          "base_uri": "https://localhost:8080/",
          "height": 503
        },
        "outputId": "132f4ad5-6bbf-4c24-8ee9-816c84d335ac"
      },
      "source": [
        "# printing the plots\n",
        "st=format(Sys.time(), \"%Y-%m-%d_%H:%M\")\n",
        "survey_plot_file = paste (\"Plots_\", \"WithPOS_\",st, \".pdf\", sep=\"\")\n",
        "#pdf(\"Analysis_WithPOS_v6.pdf\")\n",
        "pdf(survey_plot_file)\n",
        "uni_plots\n",
        "dev.off()"
      ],
      "execution_count": null,
      "outputs": [
        {
          "output_type": "stream",
          "text": [
            "Warning message in RColorBrewer::brewer.pal(n, pal):\n",
            "“n too large, allowed maximum for palette Set2 is 8\n",
            "Returning the palette you asked for with that many colors\n",
            "”\n"
          ],
          "name": "stderr"
        },
        {
          "output_type": "display_data",
          "data": {
            "text/plain": [
              "$ORG_POS_BUSINESS_IMPROVEMENT\n",
              "\n",
              "$ORG_INTERNET_ACCESS\n",
              "\n",
              "$ORG_EXPAND_BUSINESS\n",
              "\n",
              "$ORG_DELIVERY_SERVICE\n",
              "\n",
              "$ORG_EMP_COUNT\n",
              "\n",
              "$ORG_INTERNET_DISRUPTION\n",
              "\n",
              "$ORG_NEW_POS_PAYMENT_PREF\n",
              "\n",
              "$ORG_NEW_POS_LANG_PREF\n",
              "\n",
              "$ORG_OUTLETS_COUNT\n",
              "\n",
              "$ORG_NEW_POS_KIND\n",
              "\n",
              "$ORG_WILLINGNESS_DEMO\n",
              "\n",
              "$ORG_WILLINGNESS_FUTURE_CONTACT\n"
            ]
          },
          "metadata": {
            "tags": []
          }
        },
        {
          "output_type": "display_data",
          "data": {
            "text/plain": [
              "png \n",
              "  2 "
            ],
            "text/latex": "\\textbf{png:} 2",
            "text/markdown": "**png:** 2",
            "text/html": [
              "<strong>png:</strong> 2"
            ]
          },
          "metadata": {
            "tags": []
          }
        }
      ]
    },
    {
      "cell_type": "markdown",
      "metadata": {
        "id": "NrkfKrt6WLOz"
      },
      "source": [
        "# Dumping Data for Further Analysis"
      ]
    },
    {
      "cell_type": "code",
      "metadata": {
        "colab": {
          "base_uri": "https://localhost:8080/"
        },
        "id": "sYb2QTJxWOFQ",
        "outputId": "128cb0f4-bd72-44e3-dfe9-060a8dae615d"
      },
      "source": [
        "#st=format(Sys.Date(), \"%Y%b%d\") # Alphabetic Month Name\n",
        "st=format(Sys.time(), \"%Y-%m-%d_%H:%M\")\n",
        "survey_data_file = paste (\"SurveyData-\", \"withPOS-\",st, \".xlsx\", sep=\"\")\n",
        "print(survey_data_file)"
      ],
      "execution_count": null,
      "outputs": [
        {
          "output_type": "stream",
          "text": [
            "[1] \"SurveyData-withPOS-2021-05-10_20:15.xlsx\"\n"
          ],
          "name": "stdout"
        }
      ]
    },
    {
      "cell_type": "code",
      "metadata": {
        "id": "W5BiGFYiWmRh"
      },
      "source": [
        "## Create a new workbook\n",
        "wb <- createWorkbook(\"Temp\")\n",
        "## Add 1 worksheets\n",
        "addWorksheet(wb, \"All POS Survey\")\n",
        "writeData(wb, \"All POS Survey\", df_with_2)\n",
        "#saveWorkbook(wb, \"SurveyData-20201028-North.xlsx\", overwrite = TRUE)\n",
        "saveWorkbook(wb, survey_data_file, overwrite = TRUE)"
      ],
      "execution_count": null,
      "outputs": []
    },
    {
      "cell_type": "markdown",
      "metadata": {
        "id": "vwYH19eoWqJ5"
      },
      "source": [
        "# Summary\n",
        " The above analysis is for 'With POS'\n",
        "\n",
        " It excludes uni-var analysis for certain variables - (multiple choice options):\n",
        "\n",
        "1.   ORG_TYPE\n",
        "2.   ORG_DISCOUNTS_OFFERED\n",
        "3.   ORG_CUSTOMER_DATA\n",
        "4.   ORG_POS_FEATURES\n",
        "5.   ORG_OLD_POS_PAYMENT_OPTIONS\n",
        "6.   ORG_OLD_POS_DEVICES\n",
        "7.   ORG_OLD_POS_URDU_FEATURES\n",
        "8.   ORG_REASON_TO_REPLACE_POS\n",
        "9.   ORG_WILLINGNESS_TO_PAY_AMOUNT\n",
        "10.   ORG_OLD_POS_PROVIDER_PAYMENT_METHOD\n",
        "\n",
        "\n",
        "\n",
        "\n",
        "## ToDO\n",
        "\n",
        "Fix uni-var analysis\n",
        "\n"
      ]
    },
    {
      "cell_type": "code",
      "metadata": {
        "id": "79wWquLWXH6Z"
      },
      "source": [
        ""
      ],
      "execution_count": null,
      "outputs": []
    },
    {
      "cell_type": "code",
      "metadata": {
        "id": "2pUiiHdkyT_4"
      },
      "source": [
        ""
      ],
      "execution_count": null,
      "outputs": []
    }
  ]
}