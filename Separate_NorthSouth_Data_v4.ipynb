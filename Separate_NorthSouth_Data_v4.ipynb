{
  "nbformat": 4,
  "nbformat_minor": 0,
  "metadata": {
    "colab": {
      "name": "Separate NorthSouth Data v4.ipynb",
      "provenance": [],
      "collapsed_sections": [],
      "toc_visible": true,
      "authorship_tag": "ABX9TyP1JMCPfT2kP23bIqKDKPmc",
      "include_colab_link": true
    },
    "kernelspec": {
      "name": "ir",
      "display_name": "R"
    }
  },
  "cells": [
    {
      "cell_type": "markdown",
      "metadata": {
        "id": "view-in-github",
        "colab_type": "text"
      },
      "source": [
        "<a href=\"https://colab.research.google.com/github/patternproject/r.sb.pos.2/blob/main/Separate_NorthSouth_Data_v4.ipynb\" target=\"_parent\"><img src=\"https://colab.research.google.com/assets/colab-badge.svg\" alt=\"Open In Colab\"/></a>"
      ]
    },
    {
      "cell_type": "markdown",
      "metadata": {
        "id": "aSsGw3ZJ4QPN"
      },
      "source": [
        "#READ ME"
      ]
    },
    {
      "cell_type": "markdown",
      "metadata": {
        "id": "T8_teX5y4IUs"
      },
      "source": [
        "##Analysis of Survey Data for POS\n",
        "##Iteration 2\n",
        "##Using R"
      ]
    },
    {
      "cell_type": "markdown",
      "metadata": {
        "id": "sm8gm3xu4Sl9"
      },
      "source": [
        "This file takes in \"Extract of Daily POS Data\" in excel format and outputs two files, one for North and other for South region"
      ]
    },
    {
      "cell_type": "markdown",
      "metadata": {
        "id": "X0soX4yA4eHM"
      },
      "source": [
        "#History\n",
        "\n",
        "v1: First Iteration\n",
        "\n",
        "v2: First run of North and South completed\n",
        "\n",
        "v3: Changed write xlsx to incoporate multiple sheets. Added System Date to Output File Name\n",
        "\n",
        "v4: Adding create \"survey summary\" section from \"Survey-Summary\" colab \n",
        "\n",
        "v5: Continuation of v4"
      ]
    },
    {
      "cell_type": "markdown",
      "metadata": {
        "id": "Je5p-3eH4keF"
      },
      "source": [
        "## Setup"
      ]
    },
    {
      "cell_type": "code",
      "metadata": {
        "id": "njNtW-Qj4C5W",
        "outputId": "44bc4100-a17f-413f-fe4b-9af253ea1869",
        "colab": {
          "base_uri": "https://localhost:8080/"
        }
      },
      "source": [
        "# Library\n",
        "library(ggplot2)\n",
        "library(tidyverse)\n",
        "#install.packages(\"readxl\")\n",
        "library(readxl)"
      ],
      "execution_count": 5,
      "outputs": [
        {
          "output_type": "stream",
          "text": [
            "── \u001b[1mAttaching packages\u001b[22m ─────────────────────────────────────── tidyverse 1.3.0 ──\n",
            "\n",
            "\u001b[32m✔\u001b[39m \u001b[34mtibble \u001b[39m 3.0.4     \u001b[32m✔\u001b[39m \u001b[34mdplyr  \u001b[39m 1.0.2\n",
            "\u001b[32m✔\u001b[39m \u001b[34mtidyr  \u001b[39m 1.1.2     \u001b[32m✔\u001b[39m \u001b[34mstringr\u001b[39m 1.4.0\n",
            "\u001b[32m✔\u001b[39m \u001b[34mreadr  \u001b[39m 1.4.0     \u001b[32m✔\u001b[39m \u001b[34mforcats\u001b[39m 0.5.0\n",
            "\u001b[32m✔\u001b[39m \u001b[34mpurrr  \u001b[39m 0.3.4     \n",
            "\n",
            "── \u001b[1mConflicts\u001b[22m ────────────────────────────────────────── tidyverse_conflicts() ──\n",
            "\u001b[31m✖\u001b[39m \u001b[34mdplyr\u001b[39m::\u001b[32mfilter()\u001b[39m masks \u001b[34mstats\u001b[39m::filter()\n",
            "\u001b[31m✖\u001b[39m \u001b[34mdplyr\u001b[39m::\u001b[32mlag()\u001b[39m    masks \u001b[34mstats\u001b[39m::lag()\n",
            "\n"
          ],
          "name": "stderr"
        }
      ]
    },
    {
      "cell_type": "code",
      "metadata": {
        "id": "BoLExd2j-VGL"
      },
      "source": [
        "#install.packages('openxlsx')\n",
        "library(openxlsx)"
      ],
      "execution_count": 8,
      "outputs": []
    },
    {
      "cell_type": "markdown",
      "metadata": {
        "id": "B_k1vnSQJrGi"
      },
      "source": [
        "# With POS"
      ]
    },
    {
      "cell_type": "code",
      "metadata": {
        "id": "E9ZMZ_vR4jwD"
      },
      "source": [
        "# reading in input File\n",
        "#input_file = \"/content/Survey Data 2020-10-29 - Master.xlsx\"\n",
        "input_file = '/content/With POS - 2020-11-02 - Master.xlsx'\n",
        "df_master = read_xlsx(input_file, sheet=1)\n"
      ],
      "execution_count": 13,
      "outputs": []
    },
    {
      "cell_type": "code",
      "metadata": {
        "id": "k3-yLoNj41Bk",
        "outputId": "50121502-4c95-40b9-aec0-7cc613ac21ea",
        "colab": {
          "base_uri": "https://localhost:8080/"
        }
      },
      "source": [
        "# printing DF\n",
        "print(as_tibble(df_master))"
      ],
      "execution_count": 14,
      "outputs": [
        {
          "output_type": "stream",
          "text": [
            "\u001b[90m# A tibble: 131 x 42\u001b[39m\n",
            "   RespondentId EmployeeCode UserName BusinessUnit Department `Address of the…\n",
            "          \u001b[3m\u001b[90m<dbl>\u001b[39m\u001b[23m        \u001b[3m\u001b[90m<dbl>\u001b[39m\u001b[23m \u001b[3m\u001b[90m<chr>\u001b[39m\u001b[23m    \u001b[3m\u001b[90m<chr>\u001b[39m\u001b[23m        \u001b[3m\u001b[90m<chr>\u001b[39m\u001b[23m      \u001b[3m\u001b[90m<chr>\u001b[39m\u001b[23m           \n",
            "\u001b[90m 1\u001b[39m         \u001b[4m6\u001b[24m857        \u001b[4m3\u001b[24m\u001b[4m7\u001b[24m636 Burhan … Managment    CorpDev    (Blue Area)     \n",
            "\u001b[90m 2\u001b[39m         \u001b[4m6\u001b[24m867        \u001b[4m3\u001b[24m\u001b[4m7\u001b[24m636 Burhan … Managment    CorpDev    (DHA)           \n",
            "\u001b[90m 3\u001b[39m         \u001b[4m6\u001b[24m868        \u001b[4m3\u001b[24m\u001b[4m7\u001b[24m636 Burhan … Managment    CorpDev    (Meadows)       \n",
            "\u001b[90m 4\u001b[39m         \u001b[4m6\u001b[24m874        \u001b[4m3\u001b[24m\u001b[4m7\u001b[24m636 Burhan … Managment    CorpDev    (a)             \n",
            "\u001b[90m 5\u001b[39m         \u001b[4m6\u001b[24m879        \u001b[4m3\u001b[24m\u001b[4m0\u001b[24m919 Farasat… Customer Se… Operation… (Bank Road Sadd…\n",
            "\u001b[90m 6\u001b[39m         \u001b[4m6\u001b[24m898        \u001b[4m3\u001b[24m\u001b[4m7\u001b[24m459 Muhamma… Customer Se… Operation… (Bakeman g-11 m…\n",
            "\u001b[90m 7\u001b[39m         \u001b[4m6\u001b[24m905        \u001b[4m3\u001b[24m\u001b[4m7\u001b[24m459 Muhamma… Customer Se… Operation… (G-11/3 street …\n",
            "\u001b[90m 8\u001b[39m         \u001b[4m6\u001b[24m910        \u001b[4m3\u001b[24m\u001b[4m2\u001b[24m117 Osama S… Customer Se… Operation… (Test)          \n",
            "\u001b[90m 9\u001b[39m         \u001b[4m6\u001b[24m917        \u001b[4m3\u001b[24m\u001b[4m6\u001b[24m814 Abdul W… Customer Se… Operation… (Commercial)    \n",
            "\u001b[90m10\u001b[39m         \u001b[4m6\u001b[24m919        \u001b[4m3\u001b[24m\u001b[4m6\u001b[24m221 Ahmed K… Customer Se… Operation… (F-6)           \n",
            "\u001b[90m# … with 121 more rows, and 36 more variables: City \u001b[3m\u001b[90m<chr>\u001b[90m\u001b[23m, `Do you have\u001b[39m\n",
            "\u001b[90m#   \"Internet Access\" at your outlet?` \u001b[3m\u001b[90m<chr>\u001b[90m\u001b[23m, `Does your outlet offer\u001b[39m\n",
            "\u001b[90m#   â€œDelivery Serviceâ€\\u009d?` \u001b[3m\u001b[90m<chr>\u001b[90m\u001b[23m, `For which purposes do you store\u001b[39m\n",
            "\u001b[90m#   â€œCustomer Dataâ€\\u009d?` \u001b[3m\u001b[90m<chr>\u001b[90m\u001b[23m, `How did you â€œPayâ€\\u009d for your\u001b[39m\n",
            "\u001b[90m#   current POS?` \u001b[3m\u001b[90m<chr>\u001b[90m\u001b[23m, `How long does it take for a new employee to â€œLearn\u001b[39m\n",
            "\u001b[90m#   your POSâ€\\u009d? (in number of days):` \u001b[3m\u001b[90m<chr>\u001b[90m\u001b[23m, `How many \"Employees\" do you\u001b[39m\n",
            "\u001b[90m#   have in this outlet?` \u001b[3m\u001b[90m<chr>\u001b[90m\u001b[23m, `How much disruption in â€œInternet\u001b[39m\n",
            "\u001b[90m#   Serviceâ€\\u009d do you face?` \u001b[3m\u001b[90m<chr>\u001b[90m\u001b[23m, `How often do you â€œFace\u001b[39m\n",
            "\u001b[90m#   Problemsâ€\\u009d with your POS?` \u001b[3m\u001b[90m<chr>\u001b[90m\u001b[23m, `If you had to pay for a new POS,\u001b[39m\n",
            "\u001b[90m#   which â€œPayment Typeâ€\\u009d would you prefer?` \u001b[3m\u001b[90m<chr>\u001b[90m\u001b[23m, `Is your\u001b[39m\n",
            "\u001b[90m#   POS:` \u001b[3m\u001b[90m<chr>\u001b[90m\u001b[23m, `Name of the Outlet:` \u001b[3m\u001b[90m<chr>\u001b[90m\u001b[23m, `Number of years you have worked\u001b[39m\n",
            "\u001b[90m#   with this organization:` \u001b[3m\u001b[90m<chr>\u001b[90m\u001b[23m, `Please choose the â€œNumber of\u001b[39m\n",
            "\u001b[90m#   Outletsâ€\\u009d:` \u001b[3m\u001b[90m<chr>\u001b[90m\u001b[23m, `Please choose which â€œKind your POSâ€\\u009d you\u001b[39m\n",
            "\u001b[90m#   have:` \u001b[3m\u001b[90m<chr>\u001b[90m\u001b[23m, `Please provide an amount in PKR you are â€œWilling to\u001b[39m\n",
            "\u001b[90m#   Payâ€\\u009d, corresponding to last question:` \u001b[3m\u001b[90m<chr>\u001b[90m\u001b[23m, `Please state your\u001b[39m\n",
            "\u001b[90m#   â€œPersonal Observationsâ€\\u009d which you believe would be interesting to\u001b[39m\n",
            "\u001b[90m#   share about this interaction.` \u001b[3m\u001b[90m<chr>\u001b[90m\u001b[23m, `Please take a picture of the outlet,\u001b[39m\n",
            "\u001b[90m#   with itâ€™s name visible` \u001b[3m\u001b[90m<chr>\u001b[90m\u001b[23m, `Please take a picture of the visiting\u001b[39m\n",
            "\u001b[90m#   card` \u001b[3m\u001b[90m<chr>\u001b[90m\u001b[23m, `POS Name: (Name of the POS Software being used. Not the\u001b[39m\n",
            "\u001b[90m#   hardware)` \u001b[3m\u001b[90m<chr>\u001b[90m\u001b[23m, `POS Provider: (Name of the company from which POS has\u001b[39m\n",
            "\u001b[90m#   been purchased)` \u001b[3m\u001b[90m<chr>\u001b[90m\u001b[23m, `Region:` \u001b[3m\u001b[90m<chr>\u001b[90m\u001b[23m, `Respondentâ€™s Phone\u001b[39m\n",
            "\u001b[90m#   Number:` \u001b[3m\u001b[90m<chr>\u001b[90m\u001b[23m, `Respondent's Designation:` \u001b[3m\u001b[90m<chr>\u001b[90m\u001b[23m, `Respondent's\u001b[39m\n",
            "\u001b[90m#   name:` \u001b[3m\u001b[90m<chr>\u001b[90m\u001b[23m, `What â€œLanguage is your POSâ€\\u009d in?` \u001b[3m\u001b[90m<chr>\u001b[90m\u001b[23m, `What are\u001b[39m\n",
            "\u001b[90m#   the â€œMost Important Featuresâ€\\u009d in a POS? You may choose multiple\u001b[39m\n",
            "\u001b[90m#   options.` \u001b[3m\u001b[90m<chr>\u001b[90m\u001b[23m, `What kind of business are you?` \u001b[3m\u001b[90m<chr>\u001b[90m\u001b[23m, `What types of\u001b[39m\n",
            "\u001b[90m#   â€œPaymentsâ€\\u009d do you accept through your POS? You may choose multiple\u001b[39m\n",
            "\u001b[90m#   options:` \u001b[3m\u001b[90m<chr>\u001b[90m\u001b[23m, `Which device(s) do you use for â€œAccessing your\u001b[39m\n",
            "\u001b[90m#   POSâ€\\u009d? You may choose multiple options.` \u001b[3m\u001b[90m<chr>\u001b[90m\u001b[23m, `Which method do you\u001b[39m\n",
            "\u001b[90m#   use for â€œPaying your POS vendorâ€\\u009d?` \u001b[3m\u001b[90m<chr>\u001b[90m\u001b[23m, `Which of the following\u001b[39m\n",
            "\u001b[90m#   â€œDiscountsâ€\\u009d do you offer to your customers?` \u001b[3m\u001b[90m<chr>\u001b[90m\u001b[23m, `Which of the\u001b[39m\n",
            "\u001b[90m#   following â€œFeaturesâ€\\u009d in your POS are in Urdu/Local language? You\u001b[39m\n",
            "\u001b[90m#   may choose multiple options.` \u001b[3m\u001b[90m<chr>\u001b[90m\u001b[23m, `Which of the following can be a\u001b[39m\n",
            "\u001b[90m#   â€œReason to replace your POSâ€\\u009d? You may choose multiple\u001b[39m\n",
            "\u001b[90m#   options.` \u001b[3m\u001b[90m<chr>\u001b[90m\u001b[23m, `Will you be willing to run a â€œDemo of our POSâ€\\u009d\u001b[39m\n",
            "\u001b[90m#   at your outlet?` \u001b[3m\u001b[90m<chr>\u001b[90m\u001b[23m, `You have been very helpful. Can we â€œContact you\u001b[39m\n",
            "\u001b[90m#   in Futureâ€\\u009d for more details?` \u001b[3m\u001b[90m<chr>\u001b[90m\u001b[23m\u001b[39m\n"
          ],
          "name": "stdout"
        }
      ]
    },
    {
      "cell_type": "code",
      "metadata": {
        "id": "60xEIgpi5KWK",
        "outputId": "10a45562-6c2a-45c2-d5e0-eba761c21e4d",
        "colab": {
          "base_uri": "https://localhost:8080/"
        }
      },
      "source": [
        "## inspect the data\n",
        "str(df_master)"
      ],
      "execution_count": 15,
      "outputs": [
        {
          "output_type": "stream",
          "text": [
            "tibble [131 × 42] (S3: tbl_df/tbl/data.frame)\n",
            " $ RespondentId                                                                                                              : num [1:131] 6857 6867 6868 6874 6879 ...\n",
            " $ EmployeeCode                                                                                                              : num [1:131] 37636 37636 37636 37636 30919 ...\n",
            " $ UserName                                                                                                                  : chr [1:131] \"Burhan Ul Haq\" \"Burhan Ul Haq\" \"Burhan Ul Haq\" \"Burhan Ul Haq\" ...\n",
            " $ BusinessUnit                                                                                                              : chr [1:131] \"Managment\" \"Managment\" \"Managment\" \"Managment\" ...\n",
            " $ Department                                                                                                                : chr [1:131] \"CorpDev\" \"CorpDev\" \"CorpDev\" \"CorpDev\" ...\n",
            " $ Address of the Outlet:                                                                                                    : chr [1:131] \"(Blue Area)\" \"(DHA)\" \"(Meadows)\" \"(a)\" ...\n",
            " $ City                                                                                                                      : chr [1:131] \"Islamabad\" \"Rawalpindi\" \"Karachi\" \"Islamabad\" ...\n",
            " $ Do you have \"Internet Access\" at your outlet?                                                                             : chr [1:131] \"Dedicated connection\" \"No access\" \"I use my mobile as required\" \"Dedicated connection\" ...\n",
            " $ Does your outlet offer â€œDelivery Serviceâ€?                                                                       : chr [1:131] \"Yes\" \"Thinking about it\" \"Thinking about it\" \"Yes\" ...\n",
            " $ For which purposes do you store â€œCustomer Dataâ€?                                                                 : chr [1:131] \"Use for discounts (repeated purchases)\" \"Use for discounts (repeated purchases)\" \"Use for delivery (sending ordered items)\" \"-\" ...\n",
            " $ How did you â€œPayâ€ for your current POS?                                                                          : chr [1:131] \"Recurring Payment - Every Month\" \"One Time Payment\" \"Recurring Payment - Every Month\" \"One Time Payment\" ...\n",
            " $ How long does it take for a new employee to â€œLearn your POSâ€? (in number of days):                               : chr [1:131] \"10 or Less days\" \"5 or Less days\" \"5 or Less days\" \"5 or Less days\" ...\n",
            " $ How many \"Employees\" do you have in this outlet?                                                                          : chr [1:131] \"5\" \"7\" \"10\" \"1\" ...\n",
            " $ How much disruption in â€œInternet Serviceâ€ do you face?                                                           : chr [1:131] \"Little\" \"-\" \"Little\" \"Never\" ...\n",
            " $ How often do you â€œFace Problemsâ€ with your POS?                                                                  : chr [1:131] \"Sometimes\" \"Never\" \"Sometimes\" \"Never\" ...\n",
            " $ If you had to pay for a new POS, which â€œPayment Typeâ€ would you prefer?                                          : chr [1:131] \"Recurring Payment - Every Month\" \"Recurring Payment - Every Month\" \"Recurring Payment - Every 3 Months\" \"One Time Payment\" ...\n",
            " $ Is your POS:                                                                                                              : chr [1:131] \"Ready-Made\" \"Ready-Made\" \"Ready-Made\" \"Custom-Built (you got it made as per your requirements)\" ...\n",
            " $ Name of the Outlet:                                                                                                       : chr [1:131] \"(Test 1)\" \"(Test 3)\" \"(Test 4)\" \"(Test 7)\" ...\n",
            " $ Number of years you have worked with this organization:                                                                   : chr [1:131] \"-10\" \"-1\" \"-1\" \"-1\" ...\n",
            " $ Please choose the â€œNumber of Outletsâ€:                                                                           : chr [1:131] \"3\" \"3\" \"6 to 10\" \"1\" ...\n",
            " $ Please choose which â€œKind your POSâ€ you have:                                                                    : chr [1:131] \"Stand-Alone: does NOT require Internet Connection\" \"Stand-Alone: does NOT require Internet Connection\" \"Stand-Alone: does NOT require Internet Connection\" \"Web-Based: requires Internet Connection to work\" ...\n",
            " $ Please provide an amount in PKR you are â€œWilling to Payâ€, corresponding to last question:                        : chr [1:131] \"10\" \"100\" \"0\" \"0\" ...\n",
            " $ Please state your â€œPersonal Observationsâ€ which you believe would be interesting to share about this interaction.: chr [1:131] \"None\" \"None\" \"Testing\" \"a\" ...\n",
            " $ Please take a picture of the outlet, with itâ€™s name visible                                                             : chr [1:131] \"-\" \"-\" \"-\" \"-\" ...\n",
            " $ Please take a picture of the visiting card                                                                                : chr [1:131] \"-\" \"-\" \"E:\\\\Applications\\\\Survey_HRMS\\\\UploadedFiles\\\\retail-environment-store-ss-1920-800x450.jpg, E:\\\\Applications\\\\S\"| __truncated__ \"E:\\\\Applications\\\\Survey_HRMS\\\\UploadedFiles\\\\retail-environment-store-ss-1920-800x450.jpg\" ...\n",
            " $ POS Name: (Name of the POS Software being used. Not the hardware)                                                         : chr [1:131] \"(Non Available)\" \"(No)\" \"(Testing)\" \"(a)\" ...\n",
            " $ POS Provider: (Name of the company from which POS has been purchased)                                                     : chr [1:131] \"(Non Available)\" \"(Not Known)\" \"(Testing)\" \"(a)\" ...\n",
            " $ Region:                                                                                                                   : chr [1:131] \"-\" \"-\" \"Clifton\" \"Golra Morh\" ...\n",
            " $ Respondentâ€™s Phone Number:                                                                                              : chr [1:131] \"-234\" \"-123\" \"-1\" \"-123\" ...\n",
            " $ Respondent's Designation:                                                                                                 : chr [1:131] \"(Manager)\" \"(M)\" \"-10\" \"(M)\" ...\n",
            " $ Respondent's name:                                                                                                        : chr [1:131] \"(ABC)\" \"(ABC)\" \"(Testing)\" \"(B)\" ...\n",
            " $ What â€œLanguage is your POSâ€ in?                                                                                  : chr [1:131] \"English and Urdu\" \"English and Urdu\" \"English and Urdu\" \"English\" ...\n",
            " $ What are the â€œMost Important Featuresâ€ in a POS? You may choose multiple options.                                : chr [1:131] \"Cash Reconciliation (Balance daily sales and returns for cash and credit)\" \"Customer Loyalty (Offer discounts based on customer profile)\" \"Customer Loyalty (Offer discounts based on customer profile)\" \"-\" ...\n",
            " $ What kind of business are you?                                                                                            : chr [1:131] \"Other (3)\" \"Hardware / Paints\" \"Groceries\" \"-\" ...\n",
            " $ What types of â€œPaymentsâ€ do you accept through your POS? You may choose multiple options:                        : chr [1:131] \"Jazz-Cash\" \"QR code\" \"QR code\" \"-\" ...\n",
            " $ Which device(s) do you use for â€œAccessing your POSâ€? You may choose multiple options.                            : chr [1:131] \"Laptop\" \"Tablet\" \"Tablet\" \"-\" ...\n",
            " $ Which method do you use for â€œPaying your POS vendorâ€?                                                            : chr [1:131] \"Digital Wallet (Easy-Paisa, Jazz-Cash, etc.)\" \"Bank (debit card, credit card etc.)\" \"Bank (debit card, credit card etc.)\" \"Cash\" ...\n",
            " $ Which of the following â€œDiscountsâ€ do you offer to your customers?                                               : chr [1:131] \"Customer Discount (Based on customer relationship), Referral Discount (Credit Card, Social Media)\" \"Product Discount (Lower price than market)\" \"Customer Discount (Based on customer relationship)\" \"-\" ...\n",
            " $ Which of the following â€œFeaturesâ€ in your POS are in Urdu/Local language? You may choose multiple options.       : chr [1:131] \"Display Screen\" \"Slips or Receipts\" \"Slips or Receipts\" \"-\" ...\n",
            " $ Which of the following can be a â€œReason to replace your POSâ€? You may choose multiple options.                   : chr [1:131] \"Price (Cheaper than current provider)\" \"Not Willing (Please specify) (Happy)\" \"Price (Cheaper than current provider)\" \"-\" ...\n",
            " $ Will you be willing to run a â€œDemo of our POSâ€ at your outlet?                                                   : chr [1:131] \"Yes\" \"No\" \"Yes\" \"Yes\" ...\n",
            " $ You have been very helpful. Can we â€œContact you in Futureâ€ for more details?                                     : chr [1:131] \"Yes\" \"No\" \"Yes\" \"Yes\" ...\n"
          ],
          "name": "stdout"
        }
      ]
    },
    {
      "cell_type": "code",
      "metadata": {
        "id": "1mm5CggO5QDc",
        "outputId": "fddebe8c-01e8-416c-8514-88320c6ab1cb",
        "colab": {
          "base_uri": "https://localhost:8080/"
        }
      },
      "source": [
        "df_master %>% glimpse()"
      ],
      "execution_count": 16,
      "outputs": [
        {
          "output_type": "stream",
          "text": [
            "Rows: 131\n",
            "Columns: 42\n",
            "$ RespondentId                                                                                                                 \u001b[3m\u001b[90m<dbl>\u001b[39m\u001b[23m …\n",
            "$ EmployeeCode                                                                                                                 \u001b[3m\u001b[90m<dbl>\u001b[39m\u001b[23m …\n",
            "$ UserName                                                                                                                     \u001b[3m\u001b[90m<chr>\u001b[39m\u001b[23m …\n",
            "$ BusinessUnit                                                                                                                 \u001b[3m\u001b[90m<chr>\u001b[39m\u001b[23m …\n",
            "$ Department                                                                                                                   \u001b[3m\u001b[90m<chr>\u001b[39m\u001b[23m …\n",
            "$ `Address of the Outlet:`                                                                                                     \u001b[3m\u001b[90m<chr>\u001b[39m\u001b[23m …\n",
            "$ City                                                                                                                         \u001b[3m\u001b[90m<chr>\u001b[39m\u001b[23m …\n",
            "$ `Do you have \"Internet Access\" at your outlet?`                                                                              \u001b[3m\u001b[90m<chr>\u001b[39m\u001b[23m …\n",
            "$ `Does your outlet offer â€œDelivery Serviceâ€\\u009d?`                                                                        \u001b[3m\u001b[90m<chr>\u001b[39m\u001b[23m …\n",
            "$ `For which purposes do you store â€œCustomer Dataâ€\\u009d?`                                                                  \u001b[3m\u001b[90m<chr>\u001b[39m\u001b[23m …\n",
            "$ `How did you â€œPayâ€\\u009d for your current POS?`                                                                           \u001b[3m\u001b[90m<chr>\u001b[39m\u001b[23m …\n",
            "$ `How long does it take for a new employee to â€œLearn your POSâ€\\u009d? (in number of days):`                                \u001b[3m\u001b[90m<chr>\u001b[39m\u001b[23m …\n",
            "$ `How many \"Employees\" do you have in this outlet?`                                                                           \u001b[3m\u001b[90m<chr>\u001b[39m\u001b[23m …\n",
            "$ `How much disruption in â€œInternet Serviceâ€\\u009d do you face?`                                                            \u001b[3m\u001b[90m<chr>\u001b[39m\u001b[23m …\n",
            "$ `How often do you â€œFace Problemsâ€\\u009d with your POS?`                                                                   \u001b[3m\u001b[90m<chr>\u001b[39m\u001b[23m …\n",
            "$ `If you had to pay for a new POS, which â€œPayment Typeâ€\\u009d would you prefer?`                                           \u001b[3m\u001b[90m<chr>\u001b[39m\u001b[23m …\n",
            "$ `Is your POS:`                                                                                                               \u001b[3m\u001b[90m<chr>\u001b[39m\u001b[23m …\n",
            "$ `Name of the Outlet:`                                                                                                        \u001b[3m\u001b[90m<chr>\u001b[39m\u001b[23m …\n",
            "$ `Number of years you have worked with this organization:`                                                                    \u001b[3m\u001b[90m<chr>\u001b[39m\u001b[23m …\n",
            "$ `Please choose the â€œNumber of Outletsâ€\\u009d:`                                                                            \u001b[3m\u001b[90m<chr>\u001b[39m\u001b[23m …\n",
            "$ `Please choose which â€œKind your POSâ€\\u009d you have:`                                                                     \u001b[3m\u001b[90m<chr>\u001b[39m\u001b[23m …\n",
            "$ `Please provide an amount in PKR you are â€œWilling to Payâ€\\u009d, corresponding to last question:`                         \u001b[3m\u001b[90m<chr>\u001b[39m\u001b[23m …\n",
            "$ `Please state your â€œPersonal Observationsâ€\\u009d which you believe would be interesting to share about this interaction.` \u001b[3m\u001b[90m<chr>\u001b[39m\u001b[23m …\n",
            "$ `Please take a picture of the outlet, with itâ€™s name visible`                                                              \u001b[3m\u001b[90m<chr>\u001b[39m\u001b[23m …\n",
            "$ `Please take a picture of the visiting card`                                                                                 \u001b[3m\u001b[90m<chr>\u001b[39m\u001b[23m …\n",
            "$ `POS Name: (Name of the POS Software being used. Not the hardware)`                                                          \u001b[3m\u001b[90m<chr>\u001b[39m\u001b[23m …\n",
            "$ `POS Provider: (Name of the company from which POS has been purchased)`                                                      \u001b[3m\u001b[90m<chr>\u001b[39m\u001b[23m …\n",
            "$ `Region:`                                                                                                                    \u001b[3m\u001b[90m<chr>\u001b[39m\u001b[23m …\n",
            "$ `Respondentâ€™s Phone Number:`                                                                                               \u001b[3m\u001b[90m<chr>\u001b[39m\u001b[23m …\n",
            "$ `Respondent's Designation:`                                                                                                  \u001b[3m\u001b[90m<chr>\u001b[39m\u001b[23m …\n",
            "$ `Respondent's name:`                                                                                                         \u001b[3m\u001b[90m<chr>\u001b[39m\u001b[23m …\n",
            "$ `What â€œLanguage is your POSâ€\\u009d in?`                                                                                   \u001b[3m\u001b[90m<chr>\u001b[39m\u001b[23m …\n",
            "$ `What are the â€œMost Important Featuresâ€\\u009d in a POS? You may choose multiple options.`                                 \u001b[3m\u001b[90m<chr>\u001b[39m\u001b[23m …\n",
            "$ `What kind of business are you?`                                                                                             \u001b[3m\u001b[90m<chr>\u001b[39m\u001b[23m …\n",
            "$ `What types of â€œPaymentsâ€\\u009d do you accept through your POS? You may choose multiple options:`                         \u001b[3m\u001b[90m<chr>\u001b[39m\u001b[23m …\n",
            "$ `Which device(s) do you use for â€œAccessing your POSâ€\\u009d? You may choose multiple options.`                             \u001b[3m\u001b[90m<chr>\u001b[39m\u001b[23m …\n",
            "$ `Which method do you use for â€œPaying your POS vendorâ€\\u009d?`                                                             \u001b[3m\u001b[90m<chr>\u001b[39m\u001b[23m …\n",
            "$ `Which of the following â€œDiscountsâ€\\u009d do you offer to your customers?`                                                \u001b[3m\u001b[90m<chr>\u001b[39m\u001b[23m …\n",
            "$ `Which of the following â€œFeaturesâ€\\u009d in your POS are in Urdu/Local language? You may choose multiple options.`        \u001b[3m\u001b[90m<chr>\u001b[39m\u001b[23m …\n",
            "$ `Which of the following can be a â€œReason to replace your POSâ€\\u009d? You may choose multiple options.`                    \u001b[3m\u001b[90m<chr>\u001b[39m\u001b[23m …\n",
            "$ `Will you be willing to run a â€œDemo of our POSâ€\\u009d at your outlet?`                                                    \u001b[3m\u001b[90m<chr>\u001b[39m\u001b[23m …\n",
            "$ `You have been very helpful. Can we â€œContact you in Futureâ€\\u009d for more details?`                                      \u001b[3m\u001b[90m<chr>\u001b[39m\u001b[23m …\n"
          ],
          "name": "stdout"
        }
      ]
    },
    {
      "cell_type": "code",
      "metadata": {
        "id": "QmZhQrxP5VNl",
        "outputId": "a1f15760-5c6d-4b20-b278-1dd07a223250",
        "colab": {
          "base_uri": "https://localhost:8080/",
          "height": 433
        }
      },
      "source": [
        "colnames(df_master)"
      ],
      "execution_count": 17,
      "outputs": [
        {
          "output_type": "display_data",
          "data": {
            "text/plain": [
              " [1] \"RespondentId\"                                                                                                              \n",
              " [2] \"EmployeeCode\"                                                                                                              \n",
              " [3] \"UserName\"                                                                                                                  \n",
              " [4] \"BusinessUnit\"                                                                                                              \n",
              " [5] \"Department\"                                                                                                                \n",
              " [6] \"Address of the Outlet:\"                                                                                                    \n",
              " [7] \"City\"                                                                                                                      \n",
              " [8] \"Do you have \\\"Internet Access\\\" at your outlet?\"                                                                           \n",
              " [9] \"Does your outlet offer â€œDelivery Serviceâ€\\u009d?\"                                                                       \n",
              "[10] \"For which purposes do you store â€œCustomer Dataâ€\\u009d?\"                                                                 \n",
              "[11] \"How did you â€œPayâ€\\u009d for your current POS?\"                                                                          \n",
              "[12] \"How long does it take for a new employee to â€œLearn your POSâ€\\u009d? (in number of days):\"                               \n",
              "[13] \"How many \\\"Employees\\\" do you have in this outlet?\"                                                                        \n",
              "[14] \"How much disruption in â€œInternet Serviceâ€\\u009d do you face?\"                                                           \n",
              "[15] \"How often do you â€œFace Problemsâ€\\u009d with your POS?\"                                                                  \n",
              "[16] \"If you had to pay for a new POS, which â€œPayment Typeâ€\\u009d would you prefer?\"                                          \n",
              "[17] \"Is your POS:\"                                                                                                              \n",
              "[18] \"Name of the Outlet:\"                                                                                                       \n",
              "[19] \"Number of years you have worked with this organization:\"                                                                   \n",
              "[20] \"Please choose the â€œNumber of Outletsâ€\\u009d:\"                                                                           \n",
              "[21] \"Please choose which â€œKind your POSâ€\\u009d you have:\"                                                                    \n",
              "[22] \"Please provide an amount in PKR you are â€œWilling to Payâ€\\u009d, corresponding to last question:\"                        \n",
              "[23] \"Please state your â€œPersonal Observationsâ€\\u009d which you believe would be interesting to share about this interaction.\"\n",
              "[24] \"Please take a picture of the outlet, with itâ€™s name visible\"                                                             \n",
              "[25] \"Please take a picture of the visiting card\"                                                                                \n",
              "[26] \"POS Name: (Name of the POS Software being used. Not the hardware)\"                                                         \n",
              "[27] \"POS Provider: (Name of the company from which POS has been purchased)\"                                                     \n",
              "[28] \"Region:\"                                                                                                                   \n",
              "[29] \"Respondentâ€™s Phone Number:\"                                                                                              \n",
              "[30] \"Respondent's Designation:\"                                                                                                 \n",
              "[31] \"Respondent's name:\"                                                                                                        \n",
              "[32] \"What â€œLanguage is your POSâ€\\u009d in?\"                                                                                  \n",
              "[33] \"What are the â€œMost Important Featuresâ€\\u009d in a POS? You may choose multiple options.\"                                \n",
              "[34] \"What kind of business are you?\"                                                                                            \n",
              "[35] \"What types of â€œPaymentsâ€\\u009d do you accept through your POS? You may choose multiple options:\"                        \n",
              "[36] \"Which device(s) do you use for â€œAccessing your POSâ€\\u009d? You may choose multiple options.\"                            \n",
              "[37] \"Which method do you use for â€œPaying your POS vendorâ€\\u009d?\"                                                            \n",
              "[38] \"Which of the following â€œDiscountsâ€\\u009d do you offer to your customers?\"                                               \n",
              "[39] \"Which of the following â€œFeaturesâ€\\u009d in your POS are in Urdu/Local language? You may choose multiple options.\"       \n",
              "[40] \"Which of the following can be a â€œReason to replace your POSâ€\\u009d? You may choose multiple options.\"                   \n",
              "[41] \"Will you be willing to run a â€œDemo of our POSâ€\\u009d at your outlet?\"                                                   \n",
              "[42] \"You have been very helpful. Can we â€œContact you in Futureâ€\\u009d for more details?\"                                     "
            ],
            "text/latex": "\\begin{enumerate*}\n\\item 'RespondentId'\n\\item 'EmployeeCode'\n\\item 'UserName'\n\\item 'BusinessUnit'\n\\item 'Department'\n\\item 'Address of the Outlet:'\n\\item 'City'\n\\item 'Do you have \"Internet Access\" at your outlet?'\n\\item 'Does your outlet offer â€œDelivery Serviceâ€\\textbackslash{}u009d?'\n\\item 'For which purposes do you store â€œCustomer Dataâ€\\textbackslash{}u009d?'\n\\item 'How did you â€œPayâ€\\textbackslash{}u009d for your current POS?'\n\\item 'How long does it take for a new employee to â€œLearn your POSâ€\\textbackslash{}u009d? (in number of days):'\n\\item 'How many \"Employees\" do you have in this outlet?'\n\\item 'How much disruption in â€œInternet Serviceâ€\\textbackslash{}u009d do you face?'\n\\item 'How often do you â€œFace Problemsâ€\\textbackslash{}u009d with your POS?'\n\\item 'If you had to pay for a new POS, which â€œPayment Typeâ€\\textbackslash{}u009d would you prefer?'\n\\item 'Is your POS:'\n\\item 'Name of the Outlet:'\n\\item 'Number of years you have worked with this organization:'\n\\item 'Please choose the â€œNumber of Outletsâ€\\textbackslash{}u009d:'\n\\item 'Please choose which â€œKind your POSâ€\\textbackslash{}u009d you have:'\n\\item 'Please provide an amount in PKR you are â€œWilling to Payâ€\\textbackslash{}u009d, corresponding to last question:'\n\\item 'Please state your â€œPersonal Observationsâ€\\textbackslash{}u009d which you believe would be interesting to share about this interaction.'\n\\item 'Please take a picture of the outlet, with itâ€™s name visible'\n\\item 'Please take a picture of the visiting card'\n\\item 'POS Name: (Name of the POS Software being used. Not the hardware)'\n\\item 'POS Provider: (Name of the company from which POS has been purchased)'\n\\item 'Region:'\n\\item 'Respondentâ€™s Phone Number:'\n\\item 'Respondent\\textbackslash{}'s Designation:'\n\\item 'Respondent\\textbackslash{}'s name:'\n\\item 'What â€œLanguage is your POSâ€\\textbackslash{}u009d in?'\n\\item 'What are the â€œMost Important Featuresâ€\\textbackslash{}u009d in a POS? You may choose multiple options.'\n\\item 'What kind of business are you?'\n\\item 'What types of â€œPaymentsâ€\\textbackslash{}u009d do you accept through your POS? You may choose multiple options:'\n\\item 'Which device(s) do you use for â€œAccessing your POSâ€\\textbackslash{}u009d? You may choose multiple options.'\n\\item 'Which method do you use for â€œPaying your POS vendorâ€\\textbackslash{}u009d?'\n\\item 'Which of the following â€œDiscountsâ€\\textbackslash{}u009d do you offer to your customers?'\n\\item 'Which of the following â€œFeaturesâ€\\textbackslash{}u009d in your POS are in Urdu/Local language? You may choose multiple options.'\n\\item 'Which of the following can be a â€œReason to replace your POSâ€\\textbackslash{}u009d? You may choose multiple options.'\n\\item 'Will you be willing to run a â€œDemo of our POSâ€\\textbackslash{}u009d at your outlet?'\n\\item 'You have been very helpful. Can we â€œContact you in Futureâ€\\textbackslash{}u009d for more details?'\n\\end{enumerate*}\n",
            "text/markdown": "1. 'RespondentId'\n2. 'EmployeeCode'\n3. 'UserName'\n4. 'BusinessUnit'\n5. 'Department'\n6. 'Address of the Outlet:'\n7. 'City'\n8. 'Do you have \"Internet Access\" at your outlet?'\n9. 'Does your outlet offer â€œDelivery Serviceâ€\\u009d?'\n10. 'For which purposes do you store â€œCustomer Dataâ€\\u009d?'\n11. 'How did you â€œPayâ€\\u009d for your current POS?'\n12. 'How long does it take for a new employee to â€œLearn your POSâ€\\u009d? (in number of days):'\n13. 'How many \"Employees\" do you have in this outlet?'\n14. 'How much disruption in â€œInternet Serviceâ€\\u009d do you face?'\n15. 'How often do you â€œFace Problemsâ€\\u009d with your POS?'\n16. 'If you had to pay for a new POS, which â€œPayment Typeâ€\\u009d would you prefer?'\n17. 'Is your POS:'\n18. 'Name of the Outlet:'\n19. 'Number of years you have worked with this organization:'\n20. 'Please choose the â€œNumber of Outletsâ€\\u009d:'\n21. 'Please choose which â€œKind your POSâ€\\u009d you have:'\n22. 'Please provide an amount in PKR you are â€œWilling to Payâ€\\u009d, corresponding to last question:'\n23. 'Please state your â€œPersonal Observationsâ€\\u009d which you believe would be interesting to share about this interaction.'\n24. 'Please take a picture of the outlet, with itâ€™s name visible'\n25. 'Please take a picture of the visiting card'\n26. 'POS Name: (Name of the POS Software being used. Not the hardware)'\n27. 'POS Provider: (Name of the company from which POS has been purchased)'\n28. 'Region:'\n29. 'Respondentâ€™s Phone Number:'\n30. 'Respondent\\'s Designation:'\n31. 'Respondent\\'s name:'\n32. 'What â€œLanguage is your POSâ€\\u009d in?'\n33. 'What are the â€œMost Important Featuresâ€\\u009d in a POS? You may choose multiple options.'\n34. 'What kind of business are you?'\n35. 'What types of â€œPaymentsâ€\\u009d do you accept through your POS? You may choose multiple options:'\n36. 'Which device(s) do you use for â€œAccessing your POSâ€\\u009d? You may choose multiple options.'\n37. 'Which method do you use for â€œPaying your POS vendorâ€\\u009d?'\n38. 'Which of the following â€œDiscountsâ€\\u009d do you offer to your customers?'\n39. 'Which of the following â€œFeaturesâ€\\u009d in your POS are in Urdu/Local language? You may choose multiple options.'\n40. 'Which of the following can be a â€œReason to replace your POSâ€\\u009d? You may choose multiple options.'\n41. 'Will you be willing to run a â€œDemo of our POSâ€\\u009d at your outlet?'\n42. 'You have been very helpful. Can we â€œContact you in Futureâ€\\u009d for more details?'\n\n\n",
            "text/html": [
              "<style>\n",
              ".list-inline {list-style: none; margin:0; padding: 0}\n",
              ".list-inline>li {display: inline-block}\n",
              ".list-inline>li:not(:last-child)::after {content: \"\\00b7\"; padding: 0 .5ex}\n",
              "</style>\n",
              "<ol class=list-inline><li>'RespondentId'</li><li>'EmployeeCode'</li><li>'UserName'</li><li>'BusinessUnit'</li><li>'Department'</li><li>'Address of the Outlet:'</li><li>'City'</li><li>'Do you have \"Internet Access\" at your outlet?'</li><li>'Does your outlet offer â€œDelivery Serviceâ€\\u009d?'</li><li>'For which purposes do you store â€œCustomer Dataâ€\\u009d?'</li><li>'How did you â€œPayâ€\\u009d for your current POS?'</li><li>'How long does it take for a new employee to â€œLearn your POSâ€\\u009d? (in number of days):'</li><li>'How many \"Employees\" do you have in this outlet?'</li><li>'How much disruption in â€œInternet Serviceâ€\\u009d do you face?'</li><li>'How often do you â€œFace Problemsâ€\\u009d with your POS?'</li><li>'If you had to pay for a new POS, which â€œPayment Typeâ€\\u009d would you prefer?'</li><li>'Is your POS:'</li><li>'Name of the Outlet:'</li><li>'Number of years you have worked with this organization:'</li><li>'Please choose the â€œNumber of Outletsâ€\\u009d:'</li><li>'Please choose which â€œKind your POSâ€\\u009d you have:'</li><li>'Please provide an amount in PKR you are â€œWilling to Payâ€\\u009d, corresponding to last question:'</li><li>'Please state your â€œPersonal Observationsâ€\\u009d which you believe would be interesting to share about this interaction.'</li><li>'Please take a picture of the outlet, with itâ€™s name visible'</li><li>'Please take a picture of the visiting card'</li><li>'POS Name: (Name of the POS Software being used. Not the hardware)'</li><li>'POS Provider: (Name of the company from which POS has been purchased)'</li><li>'Region:'</li><li>'Respondentâ€™s Phone Number:'</li><li>'Respondent\\'s Designation:'</li><li>'Respondent\\'s name:'</li><li>'What â€œLanguage is your POSâ€\\u009d in?'</li><li>'What are the â€œMost Important Featuresâ€\\u009d in a POS? You may choose multiple options.'</li><li>'What kind of business are you?'</li><li>'What types of â€œPaymentsâ€\\u009d do you accept through your POS? You may choose multiple options:'</li><li>'Which device(s) do you use for â€œAccessing your POSâ€\\u009d? You may choose multiple options.'</li><li>'Which method do you use for â€œPaying your POS vendorâ€\\u009d?'</li><li>'Which of the following â€œDiscountsâ€\\u009d do you offer to your customers?'</li><li>'Which of the following â€œFeaturesâ€\\u009d in your POS are in Urdu/Local language? You may choose multiple options.'</li><li>'Which of the following can be a â€œReason to replace your POSâ€\\u009d? You may choose multiple options.'</li><li>'Will you be willing to run a â€œDemo of our POSâ€\\u009d at your outlet?'</li><li>'You have been very helpful. Can we â€œContact you in Futureâ€\\u009d for more details?'</li></ol>\n"
            ]
          },
          "metadata": {
            "tags": []
          }
        }
      ]
    },
    {
      "cell_type": "code",
      "metadata": {
        "id": "lgbxA_yT5dIM"
      },
      "source": [
        "df_1 = df_master"
      ],
      "execution_count": 18,
      "outputs": []
    },
    {
      "cell_type": "code",
      "metadata": {
        "id": "77ifjY0J59aM",
        "outputId": "c5b90689-b537-4d4a-d189-c97798b6eacc",
        "colab": {
          "base_uri": "https://localhost:8080/",
          "height": 35
        }
      },
      "source": [
        "nrow(df_1)"
      ],
      "execution_count": 19,
      "outputs": [
        {
          "output_type": "display_data",
          "data": {
            "text/plain": [
              "[1] 131"
            ],
            "text/latex": "131",
            "text/markdown": "131",
            "text/html": [
              "131"
            ]
          },
          "metadata": {
            "tags": []
          }
        }
      ]
    },
    {
      "cell_type": "code",
      "metadata": {
        "id": "7MgIi2455fms",
        "outputId": "8637b210-e035-45d3-8bcf-5b54554621d9",
        "colab": {
          "base_uri": "https://localhost:8080/",
          "height": 140
        }
      },
      "source": [
        "df_1 %>%\n",
        "  distinct(BusinessUnit)"
      ],
      "execution_count": 20,
      "outputs": [
        {
          "output_type": "display_data",
          "data": {
            "text/plain": [
              "  BusinessUnit           \n",
              "1 Managment              \n",
              "2 Customer Services North\n",
              "3 Customer Services South"
            ],
            "text/latex": "A tibble: 3 × 1\n\\begin{tabular}{l}\n BusinessUnit\\\\\n <chr>\\\\\n\\hline\n\t Managment              \\\\\n\t Customer Services North\\\\\n\t Customer Services South\\\\\n\\end{tabular}\n",
            "text/markdown": "\nA tibble: 3 × 1\n\n| BusinessUnit &lt;chr&gt; |\n|---|\n| Managment               |\n| Customer Services North |\n| Customer Services South |\n\n",
            "text/html": [
              "<table>\n",
              "<caption>A tibble: 3 × 1</caption>\n",
              "<thead>\n",
              "\t<tr><th scope=col>BusinessUnit</th></tr>\n",
              "\t<tr><th scope=col>&lt;chr&gt;</th></tr>\n",
              "</thead>\n",
              "<tbody>\n",
              "\t<tr><td>Managment              </td></tr>\n",
              "\t<tr><td>Customer Services North</td></tr>\n",
              "\t<tr><td>Customer Services South</td></tr>\n",
              "</tbody>\n",
              "</table>\n"
            ]
          },
          "metadata": {
            "tags": []
          }
        }
      ]
    },
    {
      "cell_type": "code",
      "metadata": {
        "id": "_Des5SET431e"
      },
      "source": [
        "# Exclude rows where User is NOT part of Field Team (such as: Burhan)"
      ],
      "execution_count": 21,
      "outputs": []
    },
    {
      "cell_type": "code",
      "metadata": {
        "id": "-RjVOtkd5qs1"
      },
      "source": [
        "df_1 %>%\n",
        " filter(BusinessUnit != 'Managment') -> df_2"
      ],
      "execution_count": 22,
      "outputs": []
    },
    {
      "cell_type": "code",
      "metadata": {
        "id": "ugOBVf_s6AMo",
        "outputId": "622040c2-4a5f-41a1-958c-8dc0ea93a78b",
        "colab": {
          "base_uri": "https://localhost:8080/",
          "height": 35
        }
      },
      "source": [
        "nrow(df_2)"
      ],
      "execution_count": 23,
      "outputs": [
        {
          "output_type": "display_data",
          "data": {
            "text/plain": [
              "[1] 127"
            ],
            "text/latex": "127",
            "text/markdown": "127",
            "text/html": [
              "127"
            ]
          },
          "metadata": {
            "tags": []
          }
        }
      ]
    },
    {
      "cell_type": "code",
      "metadata": {
        "id": "OftvyF4G76_a"
      },
      "source": [
        "# Keep NORTH only"
      ],
      "execution_count": 24,
      "outputs": []
    },
    {
      "cell_type": "code",
      "metadata": {
        "id": "VxiNhqlB6Bzq"
      },
      "source": [
        "df_2 %>%\n",
        "  filter(BusinessUnit == 'Customer Services North') -> df_with_POS_North"
      ],
      "execution_count": 25,
      "outputs": []
    },
    {
      "cell_type": "code",
      "metadata": {
        "id": "9zlpsari7Q3y",
        "outputId": "f0d7f06d-0f61-4eae-fca6-dd3de897238f",
        "colab": {
          "base_uri": "https://localhost:8080/",
          "height": 35
        }
      },
      "source": [
        "nrow(df_with_POS_North)"
      ],
      "execution_count": 26,
      "outputs": [
        {
          "output_type": "display_data",
          "data": {
            "text/plain": [
              "[1] 98"
            ],
            "text/latex": "98",
            "text/markdown": "98",
            "text/html": [
              "98"
            ]
          },
          "metadata": {
            "tags": []
          }
        }
      ]
    },
    {
      "cell_type": "code",
      "metadata": {
        "id": "oO0LQqo97-iz"
      },
      "source": [
        "# Keep SOUTH only"
      ],
      "execution_count": 27,
      "outputs": []
    },
    {
      "cell_type": "code",
      "metadata": {
        "id": "liHQeCMZ7T4v"
      },
      "source": [
        "df_2 %>%\n",
        "  filter(BusinessUnit == 'Customer Services South') -> df_with_POS_South"
      ],
      "execution_count": 28,
      "outputs": []
    },
    {
      "cell_type": "code",
      "metadata": {
        "id": "4sf2gHOw7c6Y",
        "outputId": "741fc5b3-faec-408f-fdf1-3bad4c631c42",
        "colab": {
          "base_uri": "https://localhost:8080/",
          "height": 35
        }
      },
      "source": [
        "nrow(df_with_POS_South)"
      ],
      "execution_count": 29,
      "outputs": [
        {
          "output_type": "display_data",
          "data": {
            "text/plain": [
              "[1] 29"
            ],
            "text/latex": "29",
            "text/markdown": "29",
            "text/html": [
              "29"
            ]
          },
          "metadata": {
            "tags": []
          }
        }
      ]
    },
    {
      "cell_type": "markdown",
      "metadata": {
        "id": "tmXdrbq67igz"
      },
      "source": [
        "# Without POS"
      ]
    },
    {
      "cell_type": "code",
      "metadata": {
        "id": "IdjhE9LK7gUe"
      },
      "source": [
        "# reading in input File\n",
        "input_file_2 = '/content/Without POS - 2020-11-02 - Master.xlsx'\n",
        "df_m = read_xlsx(input_file_2)"
      ],
      "execution_count": 30,
      "outputs": []
    },
    {
      "cell_type": "code",
      "metadata": {
        "id": "fNbR04Wx72-6",
        "outputId": "916a3eb4-813a-468d-d06f-61627dedd57c",
        "colab": {
          "base_uri": "https://localhost:8080/",
          "height": 35
        }
      },
      "source": [
        "nrow(df_m)"
      ],
      "execution_count": 31,
      "outputs": [
        {
          "output_type": "display_data",
          "data": {
            "text/plain": [
              "[1] 816"
            ],
            "text/latex": "816",
            "text/markdown": "816",
            "text/html": [
              "816"
            ]
          },
          "metadata": {
            "tags": []
          }
        }
      ]
    },
    {
      "cell_type": "code",
      "metadata": {
        "id": "vlGEvNNh8Et7"
      },
      "source": [
        "# Exclude rows where User is NOT part of Field Team (such as: Burhan)"
      ],
      "execution_count": 32,
      "outputs": []
    },
    {
      "cell_type": "code",
      "metadata": {
        "id": "Ki_nv3cy74pa"
      },
      "source": [
        "df_m %>%\n",
        " filter(BusinessUnit != 'Managment') -> df_100"
      ],
      "execution_count": 33,
      "outputs": []
    },
    {
      "cell_type": "code",
      "metadata": {
        "id": "FLlUizHT8LGp",
        "outputId": "b9c3b83e-a73b-409d-8c69-24a701ff3415",
        "colab": {
          "base_uri": "https://localhost:8080/",
          "height": 35
        }
      },
      "source": [
        "nrow(df_100)"
      ],
      "execution_count": 34,
      "outputs": [
        {
          "output_type": "display_data",
          "data": {
            "text/plain": [
              "[1] 815"
            ],
            "text/latex": "815",
            "text/markdown": "815",
            "text/html": [
              "815"
            ]
          },
          "metadata": {
            "tags": []
          }
        }
      ]
    },
    {
      "cell_type": "code",
      "metadata": {
        "id": "b3qs7rnP8QTc"
      },
      "source": [
        "# Keep NORTH only"
      ],
      "execution_count": 35,
      "outputs": []
    },
    {
      "cell_type": "code",
      "metadata": {
        "id": "TzAzSp908M5O"
      },
      "source": [
        "df_100 %>%\n",
        "  filter(BusinessUnit == 'Customer Services North') -> df_without_POS_North"
      ],
      "execution_count": 36,
      "outputs": []
    },
    {
      "cell_type": "code",
      "metadata": {
        "id": "46x6FOgy8cJS",
        "outputId": "7e4a166c-1a1e-4b46-9cd5-b9e84763af62",
        "colab": {
          "base_uri": "https://localhost:8080/",
          "height": 35
        }
      },
      "source": [
        "nrow(df_without_POS_North)"
      ],
      "execution_count": 37,
      "outputs": [
        {
          "output_type": "display_data",
          "data": {
            "text/plain": [
              "[1] 708"
            ],
            "text/latex": "708",
            "text/markdown": "708",
            "text/html": [
              "708"
            ]
          },
          "metadata": {
            "tags": []
          }
        }
      ]
    },
    {
      "cell_type": "code",
      "metadata": {
        "id": "ZowObkWn8Z2q"
      },
      "source": [
        "# Keep SOUTH only"
      ],
      "execution_count": 38,
      "outputs": []
    },
    {
      "cell_type": "code",
      "metadata": {
        "id": "4_zlhqZr8XLm"
      },
      "source": [
        "df_100 %>%\n",
        "  filter(BusinessUnit == 'Customer Services South') -> df_without_POS_South"
      ],
      "execution_count": 39,
      "outputs": []
    },
    {
      "cell_type": "code",
      "metadata": {
        "id": "ARn37cMC8hbI",
        "outputId": "9d2f936a-80d7-41aa-c1ad-be66f13411ad",
        "colab": {
          "base_uri": "https://localhost:8080/",
          "height": 35
        }
      },
      "source": [
        "nrow(df_without_POS_South)"
      ],
      "execution_count": 40,
      "outputs": [
        {
          "output_type": "display_data",
          "data": {
            "text/plain": [
              "[1] 107"
            ],
            "text/latex": "107",
            "text/markdown": "107",
            "text/html": [
              "107"
            ]
          },
          "metadata": {
            "tags": []
          }
        }
      ]
    },
    {
      "cell_type": "markdown",
      "metadata": {
        "id": "V4qjkuyQ89jT"
      },
      "source": [
        "## Write XLSX Files"
      ]
    },
    {
      "cell_type": "code",
      "metadata": {
        "id": "luCabdE0nBTr"
      },
      "source": [
        "# formatting options for Date/Time\n",
        "#https://www.rdocumentation.org/packages/base/versions/3.6.2/topics/strptime"
      ],
      "execution_count": null,
      "outputs": []
    },
    {
      "cell_type": "code",
      "metadata": {
        "id": "cnbDR4OO_Bp6"
      },
      "source": [
        "# North Region"
      ],
      "execution_count": 42,
      "outputs": []
    },
    {
      "cell_type": "code",
      "metadata": {
        "id": "IcUkGPn1n726",
        "outputId": "d9d24b79-54b8-452d-a576-2f4e80aed52d",
        "colab": {
          "base_uri": "https://localhost:8080/"
        }
      },
      "source": [
        "st=format(Sys.Date(), \"%Y%b%d\") # Alphabetic Month Name\n",
        "file_name_north=paste (\"SurveyData-\", st, \"-North\", \".xlsx\", sep=\"\")\n",
        "print(file_name_north)"
      ],
      "execution_count": 43,
      "outputs": [
        {
          "output_type": "stream",
          "text": [
            "[1] \"SurveyData-2020Nov02-North.xlsx\"\n"
          ],
          "name": "stdout"
        }
      ]
    },
    {
      "cell_type": "code",
      "metadata": {
        "id": "h_aOgfYECVp7"
      },
      "source": [
        "## Create a new workbook\n",
        "wb <- createWorkbook(\"Temp\")\n",
        "## Add 2 worksheets\n",
        "addWorksheet(wb, \"Updated With POS Survey\")\n",
        "addWorksheet(wb, \"Updated Without POS Survey\")\n",
        "writeData(wb, \"Updated With POS Survey\", df_with_POS_North)\n",
        "writeData(wb, \"Updated Without POS Survey\", df_without_POS_North)\n",
        "#saveWorkbook(wb, \"SurveyData-20201028-North.xlsx\", overwrite = TRUE)\n",
        "saveWorkbook(wb, file_name_north, overwrite = TRUE)\n"
      ],
      "execution_count": 44,
      "outputs": []
    },
    {
      "cell_type": "code",
      "metadata": {
        "id": "dCb73ZFd_O15"
      },
      "source": [
        "# South Region"
      ],
      "execution_count": 45,
      "outputs": []
    },
    {
      "cell_type": "code",
      "metadata": {
        "id": "a99HmsrKn_KQ",
        "outputId": "516a93b0-d132-4410-a058-02046309d3f9",
        "colab": {
          "base_uri": "https://localhost:8080/"
        }
      },
      "source": [
        "st=format(Sys.Date(), \"%Y%b%d\") # Alphabetic Month Name\n",
        "file_name_south=paste (\"SurveyData-\", st, \"-South\", \".xlsx\", sep=\"\")\n",
        "print(file_name_south)"
      ],
      "execution_count": 46,
      "outputs": [
        {
          "output_type": "stream",
          "text": [
            "[1] \"SurveyData-2020Nov02-South.xlsx\"\n"
          ],
          "name": "stdout"
        }
      ]
    },
    {
      "cell_type": "code",
      "metadata": {
        "id": "Ozg-RnFkEHZs"
      },
      "source": [
        "## Create a new workbook\n",
        "wb <- createWorkbook(\"Temp\")\n",
        "## Add 2 worksheets\n",
        "addWorksheet(wb, \"Updated With POS Survey\")\n",
        "addWorksheet(wb, \"Updated Without POS Survey\")\n",
        "writeData(wb, \"Updated With POS Survey\", df_with_POS_South)\n",
        "writeData(wb, \"Updated Without POS Survey\", df_without_POS_South)\n",
        "#saveWorkbook(wb, \"SurveyData-20201028-South.xlsx\", overwrite = TRUE)\n",
        "saveWorkbook(wb, file_name_south, overwrite = TRUE)"
      ],
      "execution_count": 47,
      "outputs": []
    },
    {
      "cell_type": "markdown",
      "metadata": {
        "id": "-j0SjY2GIuEi"
      },
      "source": [
        "# Writing Summary Stats"
      ]
    },
    {
      "cell_type": "code",
      "metadata": {
        "id": "-bvyEt8P_czX"
      },
      "source": [
        "Category = c('With POS', 'Without POS','With POS', 'Without POS')"
      ],
      "execution_count": 48,
      "outputs": []
    },
    {
      "cell_type": "code",
      "metadata": {
        "id": "5N56zFJuIyKi"
      },
      "source": [
        "Region = c('North','North', 'South','South')"
      ],
      "execution_count": 49,
      "outputs": []
    },
    {
      "cell_type": "code",
      "metadata": {
        "id": "ye-GYR-cI2bg"
      },
      "source": [
        "Target = c(1000,1000,1000,1000)"
      ],
      "execution_count": 50,
      "outputs": []
    },
    {
      "cell_type": "code",
      "metadata": {
        "id": "2eSZi3MwI3qt"
      },
      "source": [
        "Current = c(nrow(df_with_POS_North), nrow(df_without_POS_North), nrow(df_with_POS_South), nrow(df_without_POS_South))"
      ],
      "execution_count": 51,
      "outputs": []
    },
    {
      "cell_type": "code",
      "metadata": {
        "id": "Ok0gLcWUI5LY"
      },
      "source": [
        "df_status = tibble(Region=Region, Category=Category, Target=Target,Current=Current)"
      ],
      "execution_count": 52,
      "outputs": []
    },
    {
      "cell_type": "code",
      "metadata": {
        "id": "0l3HoC4TNwgE"
      },
      "source": [
        "# Time Zones\n",
        "# https://stat.ethz.ch/R-manual/R-devel/library/base/html/timezones.html"
      ],
      "execution_count": 56,
      "outputs": []
    },
    {
      "cell_type": "code",
      "metadata": {
        "id": "zpjKYjHfO3Kw",
        "outputId": "1478180a-5fed-4926-e6ba-de1e07078c18",
        "colab": {
          "base_uri": "https://localhost:8080/",
          "height": 69
        }
      },
      "source": [
        "Sys.timezone()"
      ],
      "execution_count": 62,
      "outputs": [
        {
          "output_type": "stream",
          "text": [
            "Warning message in system(\"timedatectl\", intern = TRUE):\n",
            "“running command 'timedatectl' had status 1”\n"
          ],
          "name": "stderr"
        },
        {
          "output_type": "display_data",
          "data": {
            "text/plain": [
              "[1] \"Etc/UTC\""
            ],
            "text/latex": "'Etc/UTC'",
            "text/markdown": "'Etc/UTC'",
            "text/html": [
              "'Etc/UTC'"
            ]
          },
          "metadata": {
            "tags": []
          }
        }
      ]
    },
    {
      "cell_type": "code",
      "metadata": {
        "id": "wHmkxOkIPCLF"
      },
      "source": [
        "#str(OlsonNames()) ## typically close to 600 hundred names,\n",
        "## typically some acronyms/aliases such as \"UTC\", \"NZ\", \"MET\", \"Eire\", ..., but\n",
        "## mostly pairs (and triplets) such as \"Pacific/Auckland\"\n",
        "#table(sl <- grepl(\"/\", OlsonNames()))\n",
        "#OlsonNames()[ !sl ] # the simple ones\n",
        "#head(Osl <- strsplit(OlsonNames()[sl], \"/\"))\n",
        "#(tOS1 <- table(vapply(Osl, `[[`, \"\", 1))) # Continents, countries, ...\n",
        "#table(lengths(Osl))# most are pairs, some triplets\n",
        "#str(Osl[lengths(Osl) >= 3])# \"America\" South and North ..."
      ],
      "execution_count": 64,
      "outputs": []
    },
    {
      "cell_type": "code",
      "metadata": {
        "id": "lcQK7BOiMHG_",
        "outputId": "7d37258e-0ae5-42d4-c75c-6d777ec31273",
        "colab": {
          "base_uri": "https://localhost:8080/"
        }
      },
      "source": [
        "## locale-specific version of date()\n",
        "#format(Sys.time(), \"%a %b %d %H %M\")\n",
        "\n",
        "st=format(Sys.time(), \"%d%b%Y-%H:%M:%S\", tz = \"UTC+05:00\") # Alphabetic Month Name\n",
        "file_name_status=paste (\"Status-\", st, \".csv\", sep=\"\")\n",
        "print(file_name_status)"
      ],
      "execution_count": 67,
      "outputs": [
        {
          "output_type": "stream",
          "text": [
            "[1] \"Status-02Nov2020-041442.csv\"\n"
          ],
          "name": "stdout"
        }
      ]
    },
    {
      "cell_type": "code",
      "metadata": {
        "id": "ijd1BY1-I6q4"
      },
      "source": [
        "write_csv(df_status,file_name_status)"
      ],
      "execution_count": 66,
      "outputs": []
    },
    {
      "cell_type": "code",
      "metadata": {
        "id": "5YO30B5FL6Eb"
      },
      "source": [
        ""
      ],
      "execution_count": null,
      "outputs": []
    }
  ]
}