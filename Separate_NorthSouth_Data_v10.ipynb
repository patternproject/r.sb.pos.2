{
  "nbformat": 4,
  "nbformat_minor": 0,
  "metadata": {
    "colab": {
      "name": "Separate_NorthSouth_Data_v10.ipynb",
      "provenance": [],
      "collapsed_sections": [],
      "toc_visible": true,
      "include_colab_link": true
    },
    "kernelspec": {
      "name": "ir",
      "display_name": "R"
    }
  },
  "cells": [
    {
      "cell_type": "markdown",
      "metadata": {
        "id": "view-in-github",
        "colab_type": "text"
      },
      "source": [
        "<a href=\"https://colab.research.google.com/github/patternproject/r.sb.pos.2/blob/main/Separate_NorthSouth_Data_v10.ipynb\" target=\"_parent\"><img src=\"https://colab.research.google.com/assets/colab-badge.svg\" alt=\"Open In Colab\"/></a>"
      ]
    },
    {
      "cell_type": "markdown",
      "metadata": {
        "id": "aSsGw3ZJ4QPN"
      },
      "source": [
        "#READ ME"
      ]
    },
    {
      "cell_type": "markdown",
      "metadata": {
        "id": "T8_teX5y4IUs"
      },
      "source": [
        "##Analysis of Survey Data for POS\n",
        "##Iteration 2\n",
        "##Using R"
      ]
    },
    {
      "cell_type": "markdown",
      "metadata": {
        "id": "sm8gm3xu4Sl9"
      },
      "source": [
        "This file takes in \"Extract of Daily POS Data\" in excel format and outputs two files, one for North and other for South region"
      ]
    },
    {
      "cell_type": "markdown",
      "metadata": {
        "id": "X0soX4yA4eHM"
      },
      "source": [
        "#History\n",
        "\n",
        "v1: First Iteration\n",
        "\n",
        "v2: First run of North and South completed\n",
        "\n",
        "v3: Changed write xlsx to incoporate multiple sheets. Added System Date to Output File Name\n",
        "\n",
        "v4: Adding create \"survey summary\" section from \"Survey-Summary\" colab \n",
        "\n",
        "v5: Continuation of v4. Fixing Special characters in Col Names\n",
        "\n",
        "v6: Continuation of v5. Restructured Code\n",
        "\n",
        "v7: Fixing Col Names for Without POS\n",
        "\n",
        "v8: Adding Basic Graphs\n",
        "\n",
        "v9: Automate UniVariate Analysis using PURRR"
      ]
    },
    {
      "cell_type": "markdown",
      "metadata": {
        "id": "Je5p-3eH4keF"
      },
      "source": [
        "## Setup"
      ]
    },
    {
      "cell_type": "code",
      "metadata": {
        "id": "njNtW-Qj4C5W",
        "colab": {
          "base_uri": "https://localhost:8080/"
        },
        "outputId": "2debe0b7-8084-457e-8c38-3339830670e6"
      },
      "source": [
        "# Library\n",
        "library(ggplot2)\n",
        "library(tidyverse)\n",
        "#install.packages(\"readxl\")\n",
        "library(readxl)"
      ],
      "execution_count": null,
      "outputs": [
        {
          "output_type": "stream",
          "text": [
            "── \u001b[1mAttaching packages\u001b[22m ─────────────────────────────────────── tidyverse 1.3.0 ──\n",
            "\n",
            "\u001b[32m✔\u001b[39m \u001b[34mtibble \u001b[39m 3.0.4     \u001b[32m✔\u001b[39m \u001b[34mdplyr  \u001b[39m 1.0.2\n",
            "\u001b[32m✔\u001b[39m \u001b[34mtidyr  \u001b[39m 1.1.2     \u001b[32m✔\u001b[39m \u001b[34mstringr\u001b[39m 1.4.0\n",
            "\u001b[32m✔\u001b[39m \u001b[34mreadr  \u001b[39m 1.4.0     \u001b[32m✔\u001b[39m \u001b[34mforcats\u001b[39m 0.5.0\n",
            "\u001b[32m✔\u001b[39m \u001b[34mpurrr  \u001b[39m 0.3.4     \n",
            "\n",
            "── \u001b[1mConflicts\u001b[22m ────────────────────────────────────────── tidyverse_conflicts() ──\n",
            "\u001b[31m✖\u001b[39m \u001b[34mdplyr\u001b[39m::\u001b[32mfilter()\u001b[39m masks \u001b[34mstats\u001b[39m::filter()\n",
            "\u001b[31m✖\u001b[39m \u001b[34mdplyr\u001b[39m::\u001b[32mlag()\u001b[39m    masks \u001b[34mstats\u001b[39m::lag()\n",
            "\n"
          ],
          "name": "stderr"
        }
      ]
    },
    {
      "cell_type": "code",
      "metadata": {
        "id": "VwTgmRBK3Zmi",
        "colab": {
          "base_uri": "https://localhost:8080/"
        },
        "outputId": "ea8bc87d-96dd-44a8-f104-716f915ba79f"
      },
      "source": [
        "# conditional install - Janitor\n",
        "list.of.packages <- c(\"janitor\")\n",
        "new.packages <- list.of.packages[!(list.of.packages %in% installed.packages()[,\"Package\"])]\n",
        "if(length(new.packages)) install.packages(new.packages)\n",
        "\n",
        "library(janitor)"
      ],
      "execution_count": null,
      "outputs": [
        {
          "output_type": "stream",
          "text": [
            "Installing package into ‘/usr/local/lib/R/site-library’\n",
            "(as ‘lib’ is unspecified)\n",
            "\n",
            "also installing the dependency ‘snakecase’\n",
            "\n",
            "\n",
            "\n",
            "Attaching package: ‘janitor’\n",
            "\n",
            "\n",
            "The following objects are masked from ‘package:stats’:\n",
            "\n",
            "    chisq.test, fisher.test\n",
            "\n",
            "\n"
          ],
          "name": "stderr"
        }
      ]
    },
    {
      "cell_type": "code",
      "metadata": {
        "id": "BoLExd2j-VGL",
        "colab": {
          "base_uri": "https://localhost:8080/"
        },
        "outputId": "4b4ef513-0ac9-4471-852e-1f9074a9ecbb"
      },
      "source": [
        "# conditional install - openxlsx\n",
        "\n",
        "list.of.packages <- c(\"openxlsx\")\n",
        "new.packages <- list.of.packages[!(list.of.packages %in% installed.packages()[,\"Package\"])]\n",
        "if(length(new.packages)) install.packages(new.packages)\n",
        "\n",
        "library(openxlsx)"
      ],
      "execution_count": null,
      "outputs": [
        {
          "output_type": "stream",
          "text": [
            "Installing package into ‘/usr/local/lib/R/site-library’\n",
            "(as ‘lib’ is unspecified)\n",
            "\n",
            "also installing the dependency ‘zip’\n",
            "\n",
            "\n"
          ],
          "name": "stderr"
        }
      ]
    },
    {
      "cell_type": "markdown",
      "metadata": {
        "id": "8drHIPzVLgew"
      },
      "source": [
        "# Setting Input Files"
      ]
    },
    {
      "cell_type": "code",
      "metadata": {
        "id": "e3dG9JA8LjKK"
      },
      "source": [
        "\n",
        "# With POS File\n",
        "input_file = '/content/WITH - Survey Summary Report_ 20201104.xlsx'"
      ],
      "execution_count": null,
      "outputs": []
    },
    {
      "cell_type": "code",
      "metadata": {
        "id": "DNk6vxBsLloy"
      },
      "source": [
        "# Without POS File\n",
        "input_file_2 = '/content/WITHOUT - Survey Summary Report_ 20201104.xlsx'"
      ],
      "execution_count": null,
      "outputs": []
    },
    {
      "cell_type": "markdown",
      "metadata": {
        "id": "B_k1vnSQJrGi"
      },
      "source": [
        "# With POS"
      ]
    },
    {
      "cell_type": "code",
      "metadata": {
        "id": "E9ZMZ_vR4jwD"
      },
      "source": [
        "# reading in input File\n",
        "input_file = '/content/WITH - Survey Summary Report_ 20201104.xlsx'\n",
        "df_master = read_xlsx(input_file, sheet=1)\n"
      ],
      "execution_count": null,
      "outputs": []
    },
    {
      "cell_type": "code",
      "metadata": {
        "id": "k3-yLoNj41Bk",
        "colab": {
          "base_uri": "https://localhost:8080/"
        },
        "outputId": "24f79cef-ad65-4a7a-98b8-8264b5c6f9dd"
      },
      "source": [
        "# printing DF\n",
        "print(as_tibble(df_master))"
      ],
      "execution_count": null,
      "outputs": [
        {
          "output_type": "stream",
          "text": [
            "\u001b[90m# A tibble: 135 x 42\u001b[39m\n",
            "   RespondentId EmployeeCode UserName BusinessUnit Department `Address of the…\n",
            "          \u001b[3m\u001b[90m<dbl>\u001b[39m\u001b[23m        \u001b[3m\u001b[90m<dbl>\u001b[39m\u001b[23m \u001b[3m\u001b[90m<chr>\u001b[39m\u001b[23m    \u001b[3m\u001b[90m<chr>\u001b[39m\u001b[23m        \u001b[3m\u001b[90m<chr>\u001b[39m\u001b[23m      \u001b[3m\u001b[90m<chr>\u001b[39m\u001b[23m           \n",
            "\u001b[90m 1\u001b[39m         \u001b[4m6\u001b[24m857        \u001b[4m3\u001b[24m\u001b[4m7\u001b[24m636 Burhan … Managment    CorpDev    (Blue Area)     \n",
            "\u001b[90m 2\u001b[39m         \u001b[4m6\u001b[24m867        \u001b[4m3\u001b[24m\u001b[4m7\u001b[24m636 Burhan … Managment    CorpDev    (DHA)           \n",
            "\u001b[90m 3\u001b[39m         \u001b[4m6\u001b[24m868        \u001b[4m3\u001b[24m\u001b[4m7\u001b[24m636 Burhan … Managment    CorpDev    (Meadows)       \n",
            "\u001b[90m 4\u001b[39m         \u001b[4m6\u001b[24m874        \u001b[4m3\u001b[24m\u001b[4m7\u001b[24m636 Burhan … Managment    CorpDev    (a)             \n",
            "\u001b[90m 5\u001b[39m         \u001b[4m6\u001b[24m879        \u001b[4m3\u001b[24m\u001b[4m0\u001b[24m919 Farasat… Customer Se… Operation… (Bank Road Sadd…\n",
            "\u001b[90m 6\u001b[39m         \u001b[4m6\u001b[24m898        \u001b[4m3\u001b[24m\u001b[4m7\u001b[24m459 Muhamma… Customer Se… Operation… (Bakeman g-11 m…\n",
            "\u001b[90m 7\u001b[39m         \u001b[4m6\u001b[24m905        \u001b[4m3\u001b[24m\u001b[4m7\u001b[24m459 Muhamma… Customer Se… Operation… (G-11/3 street …\n",
            "\u001b[90m 8\u001b[39m         \u001b[4m6\u001b[24m910        \u001b[4m3\u001b[24m\u001b[4m2\u001b[24m117 Osama S… Customer Se… Operation… (Test)          \n",
            "\u001b[90m 9\u001b[39m         \u001b[4m6\u001b[24m911        \u001b[4m3\u001b[24m\u001b[4m6\u001b[24m750 Muhamma… Customer Se… Operation… (Gori town)     \n",
            "\u001b[90m10\u001b[39m         \u001b[4m6\u001b[24m917        \u001b[4m3\u001b[24m\u001b[4m6\u001b[24m814 Abdul W… Customer Se… Operation… (Commercial)    \n",
            "\u001b[90m# … with 125 more rows, and 36 more variables: City \u001b[3m\u001b[90m<chr>\u001b[90m\u001b[23m, `Do you have\u001b[39m\n",
            "\u001b[90m#   \"Internet Access\" at your outlet?` \u001b[3m\u001b[90m<chr>\u001b[90m\u001b[23m, `Does your outlet offer\u001b[39m\n",
            "\u001b[90m#   â€œDelivery Serviceâ€\\u009d?` \u001b[3m\u001b[90m<chr>\u001b[90m\u001b[23m, `For which purposes do you store\u001b[39m\n",
            "\u001b[90m#   â€œCustomer Dataâ€\\u009d?` \u001b[3m\u001b[90m<chr>\u001b[90m\u001b[23m, `How did you â€œPayâ€\\u009d for your\u001b[39m\n",
            "\u001b[90m#   current POS?` \u001b[3m\u001b[90m<chr>\u001b[90m\u001b[23m, `How long does it take for a new employee to â€œLearn\u001b[39m\n",
            "\u001b[90m#   your POSâ€\\u009d? (in number of days):` \u001b[3m\u001b[90m<chr>\u001b[90m\u001b[23m, `How many \"Employees\" do you\u001b[39m\n",
            "\u001b[90m#   have in this outlet?` \u001b[3m\u001b[90m<chr>\u001b[90m\u001b[23m, `How much disruption in â€œInternet\u001b[39m\n",
            "\u001b[90m#   Serviceâ€\\u009d do you face?` \u001b[3m\u001b[90m<chr>\u001b[90m\u001b[23m, `How often do you â€œFace\u001b[39m\n",
            "\u001b[90m#   Problemsâ€\\u009d with your POS?` \u001b[3m\u001b[90m<chr>\u001b[90m\u001b[23m, `If you had to pay for a new POS,\u001b[39m\n",
            "\u001b[90m#   which â€œPayment Typeâ€\\u009d would you prefer?` \u001b[3m\u001b[90m<chr>\u001b[90m\u001b[23m, `Is your\u001b[39m\n",
            "\u001b[90m#   POS:` \u001b[3m\u001b[90m<chr>\u001b[90m\u001b[23m, `Name of the Outlet:` \u001b[3m\u001b[90m<chr>\u001b[90m\u001b[23m, `Number of years you have worked\u001b[39m\n",
            "\u001b[90m#   with this organization:` \u001b[3m\u001b[90m<chr>\u001b[90m\u001b[23m, `Please choose the â€œNumber of\u001b[39m\n",
            "\u001b[90m#   Outletsâ€\\u009d:` \u001b[3m\u001b[90m<chr>\u001b[90m\u001b[23m, `Please choose which â€œKind your POSâ€\\u009d you\u001b[39m\n",
            "\u001b[90m#   have:` \u001b[3m\u001b[90m<chr>\u001b[90m\u001b[23m, `Please provide an amount in PKR you are â€œWilling to\u001b[39m\n",
            "\u001b[90m#   Payâ€\\u009d, corresponding to last question:` \u001b[3m\u001b[90m<chr>\u001b[90m\u001b[23m, `Please state your\u001b[39m\n",
            "\u001b[90m#   â€œPersonal Observationsâ€\\u009d which you believe would be interesting to\u001b[39m\n",
            "\u001b[90m#   share about this interaction.` \u001b[3m\u001b[90m<chr>\u001b[90m\u001b[23m, `Please take a picture of the outlet,\u001b[39m\n",
            "\u001b[90m#   with itâ€™s name visible` \u001b[3m\u001b[90m<chr>\u001b[90m\u001b[23m, `Please take a picture of the visiting\u001b[39m\n",
            "\u001b[90m#   card` \u001b[3m\u001b[90m<chr>\u001b[90m\u001b[23m, `POS Name: (Name of the POS Software being used. Not the\u001b[39m\n",
            "\u001b[90m#   hardware)` \u001b[3m\u001b[90m<chr>\u001b[90m\u001b[23m, `POS Provider: (Name of the company from which POS has\u001b[39m\n",
            "\u001b[90m#   been purchased)` \u001b[3m\u001b[90m<chr>\u001b[90m\u001b[23m, `Region:` \u001b[3m\u001b[90m<chr>\u001b[90m\u001b[23m, `Respondentâ€™s Phone\u001b[39m\n",
            "\u001b[90m#   Number:` \u001b[3m\u001b[90m<chr>\u001b[90m\u001b[23m, `Respondent's Designation:` \u001b[3m\u001b[90m<chr>\u001b[90m\u001b[23m, `Respondent's\u001b[39m\n",
            "\u001b[90m#   name:` \u001b[3m\u001b[90m<chr>\u001b[90m\u001b[23m, `What â€œLanguage is your POSâ€\\u009d in?` \u001b[3m\u001b[90m<chr>\u001b[90m\u001b[23m, `What are\u001b[39m\n",
            "\u001b[90m#   the â€œMost Important Featuresâ€\\u009d in a POS? You may choose multiple\u001b[39m\n",
            "\u001b[90m#   options.` \u001b[3m\u001b[90m<chr>\u001b[90m\u001b[23m, `What kind of business are you?` \u001b[3m\u001b[90m<chr>\u001b[90m\u001b[23m, `What types of\u001b[39m\n",
            "\u001b[90m#   â€œPaymentsâ€\\u009d do you accept through your POS? You may choose multiple\u001b[39m\n",
            "\u001b[90m#   options:` \u001b[3m\u001b[90m<chr>\u001b[90m\u001b[23m, `Which device(s) do you use for â€œAccessing your\u001b[39m\n",
            "\u001b[90m#   POSâ€\\u009d? You may choose multiple options.` \u001b[3m\u001b[90m<chr>\u001b[90m\u001b[23m, `Which method do you\u001b[39m\n",
            "\u001b[90m#   use for â€œPaying your POS vendorâ€\\u009d?` \u001b[3m\u001b[90m<chr>\u001b[90m\u001b[23m, `Which of the following\u001b[39m\n",
            "\u001b[90m#   â€œDiscountsâ€\\u009d do you offer to your customers?` \u001b[3m\u001b[90m<chr>\u001b[90m\u001b[23m, `Which of the\u001b[39m\n",
            "\u001b[90m#   following â€œFeaturesâ€\\u009d in your POS are in Urdu/Local language? You\u001b[39m\n",
            "\u001b[90m#   may choose multiple options.` \u001b[3m\u001b[90m<chr>\u001b[90m\u001b[23m, `Which of the following can be a\u001b[39m\n",
            "\u001b[90m#   â€œReason to replace your POSâ€\\u009d? You may choose multiple\u001b[39m\n",
            "\u001b[90m#   options.` \u001b[3m\u001b[90m<chr>\u001b[90m\u001b[23m, `Will you be willing to run a â€œDemo of our POSâ€\\u009d\u001b[39m\n",
            "\u001b[90m#   at your outlet?` \u001b[3m\u001b[90m<chr>\u001b[90m\u001b[23m, `You have been very helpful. Can we â€œContact you\u001b[39m\n",
            "\u001b[90m#   in Futureâ€\\u009d for more details?` \u001b[3m\u001b[90m<chr>\u001b[90m\u001b[23m\u001b[39m\n"
          ],
          "name": "stdout"
        }
      ]
    },
    {
      "cell_type": "code",
      "metadata": {
        "id": "60xEIgpi5KWK",
        "colab": {
          "base_uri": "https://localhost:8080/"
        },
        "outputId": "df4fe3c7-d458-4029-cbc5-6db6aa3a9ab5"
      },
      "source": [
        "## inspect the data\n",
        "str(df_master)"
      ],
      "execution_count": null,
      "outputs": [
        {
          "output_type": "stream",
          "text": [
            "tibble [135 × 42] (S3: tbl_df/tbl/data.frame)\n",
            " $ RespondentId                                                                                                              : num [1:135] 6857 6867 6868 6874 6879 ...\n",
            " $ EmployeeCode                                                                                                              : num [1:135] 37636 37636 37636 37636 30919 ...\n",
            " $ UserName                                                                                                                  : chr [1:135] \"Burhan Ul Haq\" \"Burhan Ul Haq\" \"Burhan Ul Haq\" \"Burhan Ul Haq\" ...\n",
            " $ BusinessUnit                                                                                                              : chr [1:135] \"Managment\" \"Managment\" \"Managment\" \"Managment\" ...\n",
            " $ Department                                                                                                                : chr [1:135] \"CorpDev\" \"CorpDev\" \"CorpDev\" \"CorpDev\" ...\n",
            " $ Address of the Outlet:                                                                                                    : chr [1:135] \"(Blue Area)\" \"(DHA)\" \"(Meadows)\" \"(a)\" ...\n",
            " $ City                                                                                                                      : chr [1:135] \"Islamabad\" \"Rawalpindi\" \"Karachi\" \"Islamabad\" ...\n",
            " $ Do you have \"Internet Access\" at your outlet?                                                                             : chr [1:135] \"Dedicated connection\" \"No access\" \"I use my mobile as required\" \"Dedicated connection\" ...\n",
            " $ Does your outlet offer â€œDelivery Serviceâ€?                                                                       : chr [1:135] \"Yes\" \"Thinking about it\" \"Thinking about it\" \"Yes\" ...\n",
            " $ For which purposes do you store â€œCustomer Dataâ€?                                                                 : chr [1:135] \"Use for discounts (repeated purchases)\" \"Use for discounts (repeated purchases)\" \"Use for delivery (sending ordered items)\" \"-\" ...\n",
            " $ How did you â€œPayâ€ for your current POS?                                                                          : chr [1:135] \"Recurring Payment - Every Month\" \"One Time Payment\" \"Recurring Payment - Every Month\" \"One Time Payment\" ...\n",
            " $ How long does it take for a new employee to â€œLearn your POSâ€? (in number of days):                               : chr [1:135] \"10 or Less days\" \"5 or Less days\" \"5 or Less days\" \"5 or Less days\" ...\n",
            " $ How many \"Employees\" do you have in this outlet?                                                                          : chr [1:135] \"5\" \"7\" \"10\" \"1\" ...\n",
            " $ How much disruption in â€œInternet Serviceâ€ do you face?                                                           : chr [1:135] \"Little\" \"-\" \"Little\" \"Never\" ...\n",
            " $ How often do you â€œFace Problemsâ€ with your POS?                                                                  : chr [1:135] \"Sometimes\" \"Never\" \"Sometimes\" \"Never\" ...\n",
            " $ If you had to pay for a new POS, which â€œPayment Typeâ€ would you prefer?                                          : chr [1:135] \"Recurring Payment - Every Month\" \"Recurring Payment - Every Month\" \"Recurring Payment - Every 3 Months\" \"One Time Payment\" ...\n",
            " $ Is your POS:                                                                                                              : chr [1:135] \"Ready-Made\" \"Ready-Made\" \"Ready-Made\" \"Custom-Built (you got it made as per your requirements)\" ...\n",
            " $ Name of the Outlet:                                                                                                       : chr [1:135] \"(Test 1)\" \"(Test 3)\" \"(Test 4)\" \"(Test 7)\" ...\n",
            " $ Number of years you have worked with this organization:                                                                   : chr [1:135] \"-10\" \"-1\" \"-1\" \"-1\" ...\n",
            " $ Please choose the â€œNumber of Outletsâ€:                                                                           : chr [1:135] \"3\" \"3\" \"6 to 10\" \"1\" ...\n",
            " $ Please choose which â€œKind your POSâ€ you have:                                                                    : chr [1:135] \"Stand-Alone: does NOT require Internet Connection\" \"Stand-Alone: does NOT require Internet Connection\" \"Stand-Alone: does NOT require Internet Connection\" \"Web-Based: requires Internet Connection to work\" ...\n",
            " $ Please provide an amount in PKR you are â€œWilling to Payâ€, corresponding to last question:                        : chr [1:135] \"10\" \"100\" \"0\" \"0\" ...\n",
            " $ Please state your â€œPersonal Observationsâ€ which you believe would be interesting to share about this interaction.: chr [1:135] \"None\" \"None\" \"Testing\" \"a\" ...\n",
            " $ Please take a picture of the outlet, with itâ€™s name visible                                                             : chr [1:135] \"-\" \"-\" \"-\" \"-\" ...\n",
            " $ Please take a picture of the visiting card                                                                                : chr [1:135] \"-\" \"-\" \"E:\\\\Applications\\\\Survey_HRMS\\\\UploadedFiles\\\\retail-environment-store-ss-1920-800x450.jpg, E:\\\\Applications\\\\S\"| __truncated__ \"E:\\\\Applications\\\\Survey_HRMS\\\\UploadedFiles\\\\retail-environment-store-ss-1920-800x450.jpg\" ...\n",
            " $ POS Name: (Name of the POS Software being used. Not the hardware)                                                         : chr [1:135] \"(Non Available)\" \"(No)\" \"(Testing)\" \"(a)\" ...\n",
            " $ POS Provider: (Name of the company from which POS has been purchased)                                                     : chr [1:135] \"(Non Available)\" \"(Not Known)\" \"(Testing)\" \"(a)\" ...\n",
            " $ Region:                                                                                                                   : chr [1:135] \"-\" \"-\" \"Clifton\" \"Golra Morh\" ...\n",
            " $ Respondentâ€™s Phone Number:                                                                                              : chr [1:135] \"-234\" \"-123\" \"-1\" \"-123\" ...\n",
            " $ Respondent's Designation:                                                                                                 : chr [1:135] \"(Manager)\" \"(M)\" \"-10\" \"(M)\" ...\n",
            " $ Respondent's name:                                                                                                        : chr [1:135] \"(ABC)\" \"(ABC)\" \"(Testing)\" \"(B)\" ...\n",
            " $ What â€œLanguage is your POSâ€ in?                                                                                  : chr [1:135] \"English and Urdu\" \"English and Urdu\" \"English and Urdu\" \"English\" ...\n",
            " $ What are the â€œMost Important Featuresâ€ in a POS? You may choose multiple options.                                : chr [1:135] \"Cash Reconciliation (Balance daily sales and returns for cash and credit)\" \"Customer Loyalty (Offer discounts based on customer profile)\" \"Customer Loyalty (Offer discounts based on customer profile)\" \"-\" ...\n",
            " $ What kind of business are you?                                                                                            : chr [1:135] \"Other (3)\" \"Hardware / Paints\" \"Groceries\" \"-\" ...\n",
            " $ What types of â€œPaymentsâ€ do you accept through your POS? You may choose multiple options:                        : chr [1:135] \"Jazz-Cash\" \"QR code\" \"QR code\" \"-\" ...\n",
            " $ Which device(s) do you use for â€œAccessing your POSâ€? You may choose multiple options.                            : chr [1:135] \"Laptop\" \"Tablet\" \"Tablet\" \"-\" ...\n",
            " $ Which method do you use for â€œPaying your POS vendorâ€?                                                            : chr [1:135] \"Digital Wallet (Easy-Paisa, Jazz-Cash, etc.)\" \"Bank (debit card, credit card etc.)\" \"Bank (debit card, credit card etc.)\" \"Cash\" ...\n",
            " $ Which of the following â€œDiscountsâ€ do you offer to your customers?                                               : chr [1:135] \"Customer Discount (Based on customer relationship), Referral Discount (Credit Card, Social Media)\" \"Product Discount (Lower price than market)\" \"Customer Discount (Based on customer relationship)\" \"-\" ...\n",
            " $ Which of the following â€œFeaturesâ€ in your POS are in Urdu/Local language? You may choose multiple options.       : chr [1:135] \"Display Screen\" \"Slips or Receipts\" \"Slips or Receipts\" \"-\" ...\n",
            " $ Which of the following can be a â€œReason to replace your POSâ€? You may choose multiple options.                   : chr [1:135] \"Price (Cheaper than current provider)\" \"Not Willing (Please specify) (Happy)\" \"Price (Cheaper than current provider)\" \"-\" ...\n",
            " $ Will you be willing to run a â€œDemo of our POSâ€ at your outlet?                                                   : chr [1:135] \"Yes\" \"No\" \"Yes\" \"Yes\" ...\n",
            " $ You have been very helpful. Can we â€œContact you in Futureâ€ for more details?                                     : chr [1:135] \"Yes\" \"No\" \"Yes\" \"Yes\" ...\n"
          ],
          "name": "stdout"
        }
      ]
    },
    {
      "cell_type": "code",
      "metadata": {
        "id": "1mm5CggO5QDc",
        "colab": {
          "base_uri": "https://localhost:8080/"
        },
        "outputId": "0947e899-9d4d-4e72-8e8f-d04c5654e7f6"
      },
      "source": [
        "df_master %>% glimpse()"
      ],
      "execution_count": null,
      "outputs": [
        {
          "output_type": "stream",
          "text": [
            "Rows: 135\n",
            "Columns: 42\n",
            "$ RespondentId                                                                                                                 \u001b[3m\u001b[90m<dbl>\u001b[39m\u001b[23m …\n",
            "$ EmployeeCode                                                                                                                 \u001b[3m\u001b[90m<dbl>\u001b[39m\u001b[23m …\n",
            "$ UserName                                                                                                                     \u001b[3m\u001b[90m<chr>\u001b[39m\u001b[23m …\n",
            "$ BusinessUnit                                                                                                                 \u001b[3m\u001b[90m<chr>\u001b[39m\u001b[23m …\n",
            "$ Department                                                                                                                   \u001b[3m\u001b[90m<chr>\u001b[39m\u001b[23m …\n",
            "$ `Address of the Outlet:`                                                                                                     \u001b[3m\u001b[90m<chr>\u001b[39m\u001b[23m …\n",
            "$ City                                                                                                                         \u001b[3m\u001b[90m<chr>\u001b[39m\u001b[23m …\n",
            "$ `Do you have \"Internet Access\" at your outlet?`                                                                              \u001b[3m\u001b[90m<chr>\u001b[39m\u001b[23m …\n",
            "$ `Does your outlet offer â€œDelivery Serviceâ€\\u009d?`                                                                        \u001b[3m\u001b[90m<chr>\u001b[39m\u001b[23m …\n",
            "$ `For which purposes do you store â€œCustomer Dataâ€\\u009d?`                                                                  \u001b[3m\u001b[90m<chr>\u001b[39m\u001b[23m …\n",
            "$ `How did you â€œPayâ€\\u009d for your current POS?`                                                                           \u001b[3m\u001b[90m<chr>\u001b[39m\u001b[23m …\n",
            "$ `How long does it take for a new employee to â€œLearn your POSâ€\\u009d? (in number of days):`                                \u001b[3m\u001b[90m<chr>\u001b[39m\u001b[23m …\n",
            "$ `How many \"Employees\" do you have in this outlet?`                                                                           \u001b[3m\u001b[90m<chr>\u001b[39m\u001b[23m …\n",
            "$ `How much disruption in â€œInternet Serviceâ€\\u009d do you face?`                                                            \u001b[3m\u001b[90m<chr>\u001b[39m\u001b[23m …\n",
            "$ `How often do you â€œFace Problemsâ€\\u009d with your POS?`                                                                   \u001b[3m\u001b[90m<chr>\u001b[39m\u001b[23m …\n",
            "$ `If you had to pay for a new POS, which â€œPayment Typeâ€\\u009d would you prefer?`                                           \u001b[3m\u001b[90m<chr>\u001b[39m\u001b[23m …\n",
            "$ `Is your POS:`                                                                                                               \u001b[3m\u001b[90m<chr>\u001b[39m\u001b[23m …\n",
            "$ `Name of the Outlet:`                                                                                                        \u001b[3m\u001b[90m<chr>\u001b[39m\u001b[23m …\n",
            "$ `Number of years you have worked with this organization:`                                                                    \u001b[3m\u001b[90m<chr>\u001b[39m\u001b[23m …\n",
            "$ `Please choose the â€œNumber of Outletsâ€\\u009d:`                                                                            \u001b[3m\u001b[90m<chr>\u001b[39m\u001b[23m …\n",
            "$ `Please choose which â€œKind your POSâ€\\u009d you have:`                                                                     \u001b[3m\u001b[90m<chr>\u001b[39m\u001b[23m …\n",
            "$ `Please provide an amount in PKR you are â€œWilling to Payâ€\\u009d, corresponding to last question:`                         \u001b[3m\u001b[90m<chr>\u001b[39m\u001b[23m …\n",
            "$ `Please state your â€œPersonal Observationsâ€\\u009d which you believe would be interesting to share about this interaction.` \u001b[3m\u001b[90m<chr>\u001b[39m\u001b[23m …\n",
            "$ `Please take a picture of the outlet, with itâ€™s name visible`                                                              \u001b[3m\u001b[90m<chr>\u001b[39m\u001b[23m …\n",
            "$ `Please take a picture of the visiting card`                                                                                 \u001b[3m\u001b[90m<chr>\u001b[39m\u001b[23m …\n",
            "$ `POS Name: (Name of the POS Software being used. Not the hardware)`                                                          \u001b[3m\u001b[90m<chr>\u001b[39m\u001b[23m …\n",
            "$ `POS Provider: (Name of the company from which POS has been purchased)`                                                      \u001b[3m\u001b[90m<chr>\u001b[39m\u001b[23m …\n",
            "$ `Region:`                                                                                                                    \u001b[3m\u001b[90m<chr>\u001b[39m\u001b[23m …\n",
            "$ `Respondentâ€™s Phone Number:`                                                                                               \u001b[3m\u001b[90m<chr>\u001b[39m\u001b[23m …\n",
            "$ `Respondent's Designation:`                                                                                                  \u001b[3m\u001b[90m<chr>\u001b[39m\u001b[23m …\n",
            "$ `Respondent's name:`                                                                                                         \u001b[3m\u001b[90m<chr>\u001b[39m\u001b[23m …\n",
            "$ `What â€œLanguage is your POSâ€\\u009d in?`                                                                                   \u001b[3m\u001b[90m<chr>\u001b[39m\u001b[23m …\n",
            "$ `What are the â€œMost Important Featuresâ€\\u009d in a POS? You may choose multiple options.`                                 \u001b[3m\u001b[90m<chr>\u001b[39m\u001b[23m …\n",
            "$ `What kind of business are you?`                                                                                             \u001b[3m\u001b[90m<chr>\u001b[39m\u001b[23m …\n",
            "$ `What types of â€œPaymentsâ€\\u009d do you accept through your POS? You may choose multiple options:`                         \u001b[3m\u001b[90m<chr>\u001b[39m\u001b[23m …\n",
            "$ `Which device(s) do you use for â€œAccessing your POSâ€\\u009d? You may choose multiple options.`                             \u001b[3m\u001b[90m<chr>\u001b[39m\u001b[23m …\n",
            "$ `Which method do you use for â€œPaying your POS vendorâ€\\u009d?`                                                             \u001b[3m\u001b[90m<chr>\u001b[39m\u001b[23m …\n",
            "$ `Which of the following â€œDiscountsâ€\\u009d do you offer to your customers?`                                                \u001b[3m\u001b[90m<chr>\u001b[39m\u001b[23m …\n",
            "$ `Which of the following â€œFeaturesâ€\\u009d in your POS are in Urdu/Local language? You may choose multiple options.`        \u001b[3m\u001b[90m<chr>\u001b[39m\u001b[23m …\n",
            "$ `Which of the following can be a â€œReason to replace your POSâ€\\u009d? You may choose multiple options.`                    \u001b[3m\u001b[90m<chr>\u001b[39m\u001b[23m …\n",
            "$ `Will you be willing to run a â€œDemo of our POSâ€\\u009d at your outlet?`                                                    \u001b[3m\u001b[90m<chr>\u001b[39m\u001b[23m …\n",
            "$ `You have been very helpful. Can we â€œContact you in Futureâ€\\u009d for more details?`                                      \u001b[3m\u001b[90m<chr>\u001b[39m\u001b[23m …\n"
          ],
          "name": "stdout"
        }
      ]
    },
    {
      "cell_type": "code",
      "metadata": {
        "id": "QmZhQrxP5VNl",
        "colab": {
          "base_uri": "https://localhost:8080/",
          "height": 433
        },
        "outputId": "2e1a0cb4-034e-4790-c599-d0dca42ecd77"
      },
      "source": [
        "colnames(df_master)"
      ],
      "execution_count": null,
      "outputs": [
        {
          "output_type": "display_data",
          "data": {
            "text/plain": [
              " [1] \"RespondentId\"                                                                                                              \n",
              " [2] \"EmployeeCode\"                                                                                                              \n",
              " [3] \"UserName\"                                                                                                                  \n",
              " [4] \"BusinessUnit\"                                                                                                              \n",
              " [5] \"Department\"                                                                                                                \n",
              " [6] \"Address of the Outlet:\"                                                                                                    \n",
              " [7] \"City\"                                                                                                                      \n",
              " [8] \"Do you have \\\"Internet Access\\\" at your outlet?\"                                                                           \n",
              " [9] \"Does your outlet offer â€œDelivery Serviceâ€\\u009d?\"                                                                       \n",
              "[10] \"For which purposes do you store â€œCustomer Dataâ€\\u009d?\"                                                                 \n",
              "[11] \"How did you â€œPayâ€\\u009d for your current POS?\"                                                                          \n",
              "[12] \"How long does it take for a new employee to â€œLearn your POSâ€\\u009d? (in number of days):\"                               \n",
              "[13] \"How many \\\"Employees\\\" do you have in this outlet?\"                                                                        \n",
              "[14] \"How much disruption in â€œInternet Serviceâ€\\u009d do you face?\"                                                           \n",
              "[15] \"How often do you â€œFace Problemsâ€\\u009d with your POS?\"                                                                  \n",
              "[16] \"If you had to pay for a new POS, which â€œPayment Typeâ€\\u009d would you prefer?\"                                          \n",
              "[17] \"Is your POS:\"                                                                                                              \n",
              "[18] \"Name of the Outlet:\"                                                                                                       \n",
              "[19] \"Number of years you have worked with this organization:\"                                                                   \n",
              "[20] \"Please choose the â€œNumber of Outletsâ€\\u009d:\"                                                                           \n",
              "[21] \"Please choose which â€œKind your POSâ€\\u009d you have:\"                                                                    \n",
              "[22] \"Please provide an amount in PKR you are â€œWilling to Payâ€\\u009d, corresponding to last question:\"                        \n",
              "[23] \"Please state your â€œPersonal Observationsâ€\\u009d which you believe would be interesting to share about this interaction.\"\n",
              "[24] \"Please take a picture of the outlet, with itâ€™s name visible\"                                                             \n",
              "[25] \"Please take a picture of the visiting card\"                                                                                \n",
              "[26] \"POS Name: (Name of the POS Software being used. Not the hardware)\"                                                         \n",
              "[27] \"POS Provider: (Name of the company from which POS has been purchased)\"                                                     \n",
              "[28] \"Region:\"                                                                                                                   \n",
              "[29] \"Respondentâ€™s Phone Number:\"                                                                                              \n",
              "[30] \"Respondent's Designation:\"                                                                                                 \n",
              "[31] \"Respondent's name:\"                                                                                                        \n",
              "[32] \"What â€œLanguage is your POSâ€\\u009d in?\"                                                                                  \n",
              "[33] \"What are the â€œMost Important Featuresâ€\\u009d in a POS? You may choose multiple options.\"                                \n",
              "[34] \"What kind of business are you?\"                                                                                            \n",
              "[35] \"What types of â€œPaymentsâ€\\u009d do you accept through your POS? You may choose multiple options:\"                        \n",
              "[36] \"Which device(s) do you use for â€œAccessing your POSâ€\\u009d? You may choose multiple options.\"                            \n",
              "[37] \"Which method do you use for â€œPaying your POS vendorâ€\\u009d?\"                                                            \n",
              "[38] \"Which of the following â€œDiscountsâ€\\u009d do you offer to your customers?\"                                               \n",
              "[39] \"Which of the following â€œFeaturesâ€\\u009d in your POS are in Urdu/Local language? You may choose multiple options.\"       \n",
              "[40] \"Which of the following can be a â€œReason to replace your POSâ€\\u009d? You may choose multiple options.\"                   \n",
              "[41] \"Will you be willing to run a â€œDemo of our POSâ€\\u009d at your outlet?\"                                                   \n",
              "[42] \"You have been very helpful. Can we â€œContact you in Futureâ€\\u009d for more details?\"                                     "
            ],
            "text/latex": "\\begin{enumerate*}\n\\item 'RespondentId'\n\\item 'EmployeeCode'\n\\item 'UserName'\n\\item 'BusinessUnit'\n\\item 'Department'\n\\item 'Address of the Outlet:'\n\\item 'City'\n\\item 'Do you have \"Internet Access\" at your outlet?'\n\\item 'Does your outlet offer â€œDelivery Serviceâ€\\textbackslash{}u009d?'\n\\item 'For which purposes do you store â€œCustomer Dataâ€\\textbackslash{}u009d?'\n\\item 'How did you â€œPayâ€\\textbackslash{}u009d for your current POS?'\n\\item 'How long does it take for a new employee to â€œLearn your POSâ€\\textbackslash{}u009d? (in number of days):'\n\\item 'How many \"Employees\" do you have in this outlet?'\n\\item 'How much disruption in â€œInternet Serviceâ€\\textbackslash{}u009d do you face?'\n\\item 'How often do you â€œFace Problemsâ€\\textbackslash{}u009d with your POS?'\n\\item 'If you had to pay for a new POS, which â€œPayment Typeâ€\\textbackslash{}u009d would you prefer?'\n\\item 'Is your POS:'\n\\item 'Name of the Outlet:'\n\\item 'Number of years you have worked with this organization:'\n\\item 'Please choose the â€œNumber of Outletsâ€\\textbackslash{}u009d:'\n\\item 'Please choose which â€œKind your POSâ€\\textbackslash{}u009d you have:'\n\\item 'Please provide an amount in PKR you are â€œWilling to Payâ€\\textbackslash{}u009d, corresponding to last question:'\n\\item 'Please state your â€œPersonal Observationsâ€\\textbackslash{}u009d which you believe would be interesting to share about this interaction.'\n\\item 'Please take a picture of the outlet, with itâ€™s name visible'\n\\item 'Please take a picture of the visiting card'\n\\item 'POS Name: (Name of the POS Software being used. Not the hardware)'\n\\item 'POS Provider: (Name of the company from which POS has been purchased)'\n\\item 'Region:'\n\\item 'Respondentâ€™s Phone Number:'\n\\item 'Respondent\\textbackslash{}'s Designation:'\n\\item 'Respondent\\textbackslash{}'s name:'\n\\item 'What â€œLanguage is your POSâ€\\textbackslash{}u009d in?'\n\\item 'What are the â€œMost Important Featuresâ€\\textbackslash{}u009d in a POS? You may choose multiple options.'\n\\item 'What kind of business are you?'\n\\item 'What types of â€œPaymentsâ€\\textbackslash{}u009d do you accept through your POS? You may choose multiple options:'\n\\item 'Which device(s) do you use for â€œAccessing your POSâ€\\textbackslash{}u009d? You may choose multiple options.'\n\\item 'Which method do you use for â€œPaying your POS vendorâ€\\textbackslash{}u009d?'\n\\item 'Which of the following â€œDiscountsâ€\\textbackslash{}u009d do you offer to your customers?'\n\\item 'Which of the following â€œFeaturesâ€\\textbackslash{}u009d in your POS are in Urdu/Local language? You may choose multiple options.'\n\\item 'Which of the following can be a â€œReason to replace your POSâ€\\textbackslash{}u009d? You may choose multiple options.'\n\\item 'Will you be willing to run a â€œDemo of our POSâ€\\textbackslash{}u009d at your outlet?'\n\\item 'You have been very helpful. Can we â€œContact you in Futureâ€\\textbackslash{}u009d for more details?'\n\\end{enumerate*}\n",
            "text/markdown": "1. 'RespondentId'\n2. 'EmployeeCode'\n3. 'UserName'\n4. 'BusinessUnit'\n5. 'Department'\n6. 'Address of the Outlet:'\n7. 'City'\n8. 'Do you have \"Internet Access\" at your outlet?'\n9. 'Does your outlet offer â€œDelivery Serviceâ€\\u009d?'\n10. 'For which purposes do you store â€œCustomer Dataâ€\\u009d?'\n11. 'How did you â€œPayâ€\\u009d for your current POS?'\n12. 'How long does it take for a new employee to â€œLearn your POSâ€\\u009d? (in number of days):'\n13. 'How many \"Employees\" do you have in this outlet?'\n14. 'How much disruption in â€œInternet Serviceâ€\\u009d do you face?'\n15. 'How often do you â€œFace Problemsâ€\\u009d with your POS?'\n16. 'If you had to pay for a new POS, which â€œPayment Typeâ€\\u009d would you prefer?'\n17. 'Is your POS:'\n18. 'Name of the Outlet:'\n19. 'Number of years you have worked with this organization:'\n20. 'Please choose the â€œNumber of Outletsâ€\\u009d:'\n21. 'Please choose which â€œKind your POSâ€\\u009d you have:'\n22. 'Please provide an amount in PKR you are â€œWilling to Payâ€\\u009d, corresponding to last question:'\n23. 'Please state your â€œPersonal Observationsâ€\\u009d which you believe would be interesting to share about this interaction.'\n24. 'Please take a picture of the outlet, with itâ€™s name visible'\n25. 'Please take a picture of the visiting card'\n26. 'POS Name: (Name of the POS Software being used. Not the hardware)'\n27. 'POS Provider: (Name of the company from which POS has been purchased)'\n28. 'Region:'\n29. 'Respondentâ€™s Phone Number:'\n30. 'Respondent\\'s Designation:'\n31. 'Respondent\\'s name:'\n32. 'What â€œLanguage is your POSâ€\\u009d in?'\n33. 'What are the â€œMost Important Featuresâ€\\u009d in a POS? You may choose multiple options.'\n34. 'What kind of business are you?'\n35. 'What types of â€œPaymentsâ€\\u009d do you accept through your POS? You may choose multiple options:'\n36. 'Which device(s) do you use for â€œAccessing your POSâ€\\u009d? You may choose multiple options.'\n37. 'Which method do you use for â€œPaying your POS vendorâ€\\u009d?'\n38. 'Which of the following â€œDiscountsâ€\\u009d do you offer to your customers?'\n39. 'Which of the following â€œFeaturesâ€\\u009d in your POS are in Urdu/Local language? You may choose multiple options.'\n40. 'Which of the following can be a â€œReason to replace your POSâ€\\u009d? You may choose multiple options.'\n41. 'Will you be willing to run a â€œDemo of our POSâ€\\u009d at your outlet?'\n42. 'You have been very helpful. Can we â€œContact you in Futureâ€\\u009d for more details?'\n\n\n",
            "text/html": [
              "<style>\n",
              ".list-inline {list-style: none; margin:0; padding: 0}\n",
              ".list-inline>li {display: inline-block}\n",
              ".list-inline>li:not(:last-child)::after {content: \"\\00b7\"; padding: 0 .5ex}\n",
              "</style>\n",
              "<ol class=list-inline><li>'RespondentId'</li><li>'EmployeeCode'</li><li>'UserName'</li><li>'BusinessUnit'</li><li>'Department'</li><li>'Address of the Outlet:'</li><li>'City'</li><li>'Do you have \"Internet Access\" at your outlet?'</li><li>'Does your outlet offer â€œDelivery Serviceâ€\\u009d?'</li><li>'For which purposes do you store â€œCustomer Dataâ€\\u009d?'</li><li>'How did you â€œPayâ€\\u009d for your current POS?'</li><li>'How long does it take for a new employee to â€œLearn your POSâ€\\u009d? (in number of days):'</li><li>'How many \"Employees\" do you have in this outlet?'</li><li>'How much disruption in â€œInternet Serviceâ€\\u009d do you face?'</li><li>'How often do you â€œFace Problemsâ€\\u009d with your POS?'</li><li>'If you had to pay for a new POS, which â€œPayment Typeâ€\\u009d would you prefer?'</li><li>'Is your POS:'</li><li>'Name of the Outlet:'</li><li>'Number of years you have worked with this organization:'</li><li>'Please choose the â€œNumber of Outletsâ€\\u009d:'</li><li>'Please choose which â€œKind your POSâ€\\u009d you have:'</li><li>'Please provide an amount in PKR you are â€œWilling to Payâ€\\u009d, corresponding to last question:'</li><li>'Please state your â€œPersonal Observationsâ€\\u009d which you believe would be interesting to share about this interaction.'</li><li>'Please take a picture of the outlet, with itâ€™s name visible'</li><li>'Please take a picture of the visiting card'</li><li>'POS Name: (Name of the POS Software being used. Not the hardware)'</li><li>'POS Provider: (Name of the company from which POS has been purchased)'</li><li>'Region:'</li><li>'Respondentâ€™s Phone Number:'</li><li>'Respondent\\'s Designation:'</li><li>'Respondent\\'s name:'</li><li>'What â€œLanguage is your POSâ€\\u009d in?'</li><li>'What are the â€œMost Important Featuresâ€\\u009d in a POS? You may choose multiple options.'</li><li>'What kind of business are you?'</li><li>'What types of â€œPaymentsâ€\\u009d do you accept through your POS? You may choose multiple options:'</li><li>'Which device(s) do you use for â€œAccessing your POSâ€\\u009d? You may choose multiple options.'</li><li>'Which method do you use for â€œPaying your POS vendorâ€\\u009d?'</li><li>'Which of the following â€œDiscountsâ€\\u009d do you offer to your customers?'</li><li>'Which of the following â€œFeaturesâ€\\u009d in your POS are in Urdu/Local language? You may choose multiple options.'</li><li>'Which of the following can be a â€œReason to replace your POSâ€\\u009d? You may choose multiple options.'</li><li>'Will you be willing to run a â€œDemo of our POSâ€\\u009d at your outlet?'</li><li>'You have been very helpful. Can we â€œContact you in Futureâ€\\u009d for more details?'</li></ol>\n"
            ]
          },
          "metadata": {
            "tags": []
          }
        }
      ]
    },
    {
      "cell_type": "markdown",
      "metadata": {
        "id": "RwFni57F8HcO"
      },
      "source": [
        "df_1 hereon"
      ]
    },
    {
      "cell_type": "code",
      "metadata": {
        "id": "lgbxA_yT5dIM"
      },
      "source": [
        "df_1 = df_master"
      ],
      "execution_count": null,
      "outputs": []
    },
    {
      "cell_type": "code",
      "metadata": {
        "id": "77ifjY0J59aM",
        "colab": {
          "base_uri": "https://localhost:8080/",
          "height": 35
        },
        "outputId": "193e9549-92a8-45d5-8610-ee46cb919531"
      },
      "source": [
        "nrow(df_1)"
      ],
      "execution_count": null,
      "outputs": [
        {
          "output_type": "display_data",
          "data": {
            "text/plain": [
              "[1] 135"
            ],
            "text/latex": "135",
            "text/markdown": "135",
            "text/html": [
              "135"
            ]
          },
          "metadata": {
            "tags": []
          }
        }
      ]
    },
    {
      "cell_type": "code",
      "metadata": {
        "id": "7MgIi2455fms",
        "colab": {
          "base_uri": "https://localhost:8080/",
          "height": 140
        },
        "outputId": "066c54f2-14fa-4595-b1e3-85815fb1cae9"
      },
      "source": [
        "df_1 %>%\n",
        "  distinct(BusinessUnit)"
      ],
      "execution_count": null,
      "outputs": [
        {
          "output_type": "display_data",
          "data": {
            "text/plain": [
              "  BusinessUnit           \n",
              "1 Managment              \n",
              "2 Customer Services North\n",
              "3 Customer Services South"
            ],
            "text/latex": "A tibble: 3 × 1\n\\begin{tabular}{l}\n BusinessUnit\\\\\n <chr>\\\\\n\\hline\n\t Managment              \\\\\n\t Customer Services North\\\\\n\t Customer Services South\\\\\n\\end{tabular}\n",
            "text/markdown": "\nA tibble: 3 × 1\n\n| BusinessUnit &lt;chr&gt; |\n|---|\n| Managment               |\n| Customer Services North |\n| Customer Services South |\n\n",
            "text/html": [
              "<table>\n",
              "<caption>A tibble: 3 × 1</caption>\n",
              "<thead>\n",
              "\t<tr><th scope=col>BusinessUnit</th></tr>\n",
              "\t<tr><th scope=col>&lt;chr&gt;</th></tr>\n",
              "</thead>\n",
              "<tbody>\n",
              "\t<tr><td>Managment              </td></tr>\n",
              "\t<tr><td>Customer Services North</td></tr>\n",
              "\t<tr><td>Customer Services South</td></tr>\n",
              "</tbody>\n",
              "</table>\n"
            ]
          },
          "metadata": {
            "tags": []
          }
        }
      ]
    },
    {
      "cell_type": "code",
      "metadata": {
        "id": "_Des5SET431e"
      },
      "source": [
        "# Exclude rows where User is NOT part of Field Team (such as: Burhan)"
      ],
      "execution_count": null,
      "outputs": []
    },
    {
      "cell_type": "code",
      "metadata": {
        "id": "-RjVOtkd5qs1"
      },
      "source": [
        "df_1 %>%\n",
        " filter(BusinessUnit != 'Managment') -> df_2"
      ],
      "execution_count": null,
      "outputs": []
    },
    {
      "cell_type": "markdown",
      "metadata": {
        "id": "5l_Ggj9Q8MPc"
      },
      "source": [
        "df_2 hereon"
      ]
    },
    {
      "cell_type": "code",
      "metadata": {
        "id": "ugOBVf_s6AMo",
        "colab": {
          "base_uri": "https://localhost:8080/",
          "height": 35
        },
        "outputId": "54827a08-af6e-41bf-8445-c8f62457b160"
      },
      "source": [
        "nrow(df_2)"
      ],
      "execution_count": null,
      "outputs": [
        {
          "output_type": "display_data",
          "data": {
            "text/plain": [
              "[1] 131"
            ],
            "text/latex": "131",
            "text/markdown": "131",
            "text/html": [
              "131"
            ]
          },
          "metadata": {
            "tags": []
          }
        }
      ]
    },
    {
      "cell_type": "markdown",
      "metadata": {
        "id": "bMYzieXM86WU"
      },
      "source": [
        "## Cleaning up the col names"
      ]
    },
    {
      "cell_type": "markdown",
      "metadata": {
        "id": "Va4hobWf4uL4"
      },
      "source": [
        "#### removing special characters"
      ]
    },
    {
      "cell_type": "code",
      "metadata": {
        "id": "Wfc3oeep8_nV",
        "colab": {
          "base_uri": "https://localhost:8080/",
          "height": 381
        },
        "outputId": "20e56f04-92ba-4332-e024-372f62b14ea5"
      },
      "source": [
        "#x = df_2\n",
        "y = colnames(df_2) \n",
        "colnames(df_2) = str_replace_all(y, \"[^[A-Za-z0-9]]\", \" \") %>% str_replace_all(.,\"[ ]+\", \" \")\n",
        "colnames(df_2)"
      ],
      "execution_count": null,
      "outputs": [
        {
          "output_type": "display_data",
          "data": {
            "text/plain": [
              " [1] \"RespondentId\"                                                                                                   \n",
              " [2] \"EmployeeCode\"                                                                                                   \n",
              " [3] \"UserName\"                                                                                                       \n",
              " [4] \"BusinessUnit\"                                                                                                   \n",
              " [5] \"Department\"                                                                                                     \n",
              " [6] \"Address of the Outlet \"                                                                                         \n",
              " [7] \"City\"                                                                                                           \n",
              " [8] \"Do you have Internet Access at your outlet \"                                                                    \n",
              " [9] \"Does your outlet offer Delivery Service \"                                                                       \n",
              "[10] \"For which purposes do you store Customer Data \"                                                                 \n",
              "[11] \"How did you Pay for your current POS \"                                                                          \n",
              "[12] \"How long does it take for a new employee to Learn your POS in number of days \"                                  \n",
              "[13] \"How many Employees do you have in this outlet \"                                                                 \n",
              "[14] \"How much disruption in Internet Service do you face \"                                                           \n",
              "[15] \"How often do you Face Problems with your POS \"                                                                  \n",
              "[16] \"If you had to pay for a new POS which Payment Type would you prefer \"                                           \n",
              "[17] \"Is your POS \"                                                                                                   \n",
              "[18] \"Name of the Outlet \"                                                                                            \n",
              "[19] \"Number of years you have worked with this organization \"                                                        \n",
              "[20] \"Please choose the Number of Outlets \"                                                                           \n",
              "[21] \"Please choose which Kind your POS you have \"                                                                    \n",
              "[22] \"Please provide an amount in PKR you are Willing to Pay corresponding to last question \"                         \n",
              "[23] \"Please state your Personal Observations which you believe would be interesting to share about this interaction \"\n",
              "[24] \"Please take a picture of the outlet with it s name visible\"                                                     \n",
              "[25] \"Please take a picture of the visiting card\"                                                                     \n",
              "[26] \"POS Name Name of the POS Software being used Not the hardware \"                                                 \n",
              "[27] \"POS Provider Name of the company from which POS has been purchased \"                                            \n",
              "[28] \"Region \"                                                                                                        \n",
              "[29] \"Respondent s Phone Number \"                                                                                     \n",
              "[30] \"Respondent s Designation \"                                                                                      \n",
              "[31] \"Respondent s name \"                                                                                             \n",
              "[32] \"What Language is your POS in \"                                                                                  \n",
              "[33] \"What are the Most Important Features in a POS You may choose multiple options \"                                 \n",
              "[34] \"What kind of business are you \"                                                                                 \n",
              "[35] \"What types of Payments do you accept through your POS You may choose multiple options \"                         \n",
              "[36] \"Which device s do you use for Accessing your POS You may choose multiple options \"                              \n",
              "[37] \"Which method do you use for Paying your POS vendor \"                                                            \n",
              "[38] \"Which of the following Discounts do you offer to your customers \"                                               \n",
              "[39] \"Which of the following Features in your POS are in Urdu Local language You may choose multiple options \"        \n",
              "[40] \"Which of the following can be a Reason to replace your POS You may choose multiple options \"                    \n",
              "[41] \"Will you be willing to run a Demo of our POS at your outlet \"                                                   \n",
              "[42] \"You have been very helpful Can we Contact you in Future for more details \"                                      "
            ],
            "text/latex": "\\begin{enumerate*}\n\\item 'RespondentId'\n\\item 'EmployeeCode'\n\\item 'UserName'\n\\item 'BusinessUnit'\n\\item 'Department'\n\\item 'Address of the Outlet '\n\\item 'City'\n\\item 'Do you have Internet Access at your outlet '\n\\item 'Does your outlet offer Delivery Service '\n\\item 'For which purposes do you store Customer Data '\n\\item 'How did you Pay for your current POS '\n\\item 'How long does it take for a new employee to Learn your POS in number of days '\n\\item 'How many Employees do you have in this outlet '\n\\item 'How much disruption in Internet Service do you face '\n\\item 'How often do you Face Problems with your POS '\n\\item 'If you had to pay for a new POS which Payment Type would you prefer '\n\\item 'Is your POS '\n\\item 'Name of the Outlet '\n\\item 'Number of years you have worked with this organization '\n\\item 'Please choose the Number of Outlets '\n\\item 'Please choose which Kind your POS you have '\n\\item 'Please provide an amount in PKR you are Willing to Pay corresponding to last question '\n\\item 'Please state your Personal Observations which you believe would be interesting to share about this interaction '\n\\item 'Please take a picture of the outlet with it s name visible'\n\\item 'Please take a picture of the visiting card'\n\\item 'POS Name Name of the POS Software being used Not the hardware '\n\\item 'POS Provider Name of the company from which POS has been purchased '\n\\item 'Region '\n\\item 'Respondent s Phone Number '\n\\item 'Respondent s Designation '\n\\item 'Respondent s name '\n\\item 'What Language is your POS in '\n\\item 'What are the Most Important Features in a POS You may choose multiple options '\n\\item 'What kind of business are you '\n\\item 'What types of Payments do you accept through your POS You may choose multiple options '\n\\item 'Which device s do you use for Accessing your POS You may choose multiple options '\n\\item 'Which method do you use for Paying your POS vendor '\n\\item 'Which of the following Discounts do you offer to your customers '\n\\item 'Which of the following Features in your POS are in Urdu Local language You may choose multiple options '\n\\item 'Which of the following can be a Reason to replace your POS You may choose multiple options '\n\\item 'Will you be willing to run a Demo of our POS at your outlet '\n\\item 'You have been very helpful Can we Contact you in Future for more details '\n\\end{enumerate*}\n",
            "text/markdown": "1. 'RespondentId'\n2. 'EmployeeCode'\n3. 'UserName'\n4. 'BusinessUnit'\n5. 'Department'\n6. 'Address of the Outlet '\n7. 'City'\n8. 'Do you have Internet Access at your outlet '\n9. 'Does your outlet offer Delivery Service '\n10. 'For which purposes do you store Customer Data '\n11. 'How did you Pay for your current POS '\n12. 'How long does it take for a new employee to Learn your POS in number of days '\n13. 'How many Employees do you have in this outlet '\n14. 'How much disruption in Internet Service do you face '\n15. 'How often do you Face Problems with your POS '\n16. 'If you had to pay for a new POS which Payment Type would you prefer '\n17. 'Is your POS '\n18. 'Name of the Outlet '\n19. 'Number of years you have worked with this organization '\n20. 'Please choose the Number of Outlets '\n21. 'Please choose which Kind your POS you have '\n22. 'Please provide an amount in PKR you are Willing to Pay corresponding to last question '\n23. 'Please state your Personal Observations which you believe would be interesting to share about this interaction '\n24. 'Please take a picture of the outlet with it s name visible'\n25. 'Please take a picture of the visiting card'\n26. 'POS Name Name of the POS Software being used Not the hardware '\n27. 'POS Provider Name of the company from which POS has been purchased '\n28. 'Region '\n29. 'Respondent s Phone Number '\n30. 'Respondent s Designation '\n31. 'Respondent s name '\n32. 'What Language is your POS in '\n33. 'What are the Most Important Features in a POS You may choose multiple options '\n34. 'What kind of business are you '\n35. 'What types of Payments do you accept through your POS You may choose multiple options '\n36. 'Which device s do you use for Accessing your POS You may choose multiple options '\n37. 'Which method do you use for Paying your POS vendor '\n38. 'Which of the following Discounts do you offer to your customers '\n39. 'Which of the following Features in your POS are in Urdu Local language You may choose multiple options '\n40. 'Which of the following can be a Reason to replace your POS You may choose multiple options '\n41. 'Will you be willing to run a Demo of our POS at your outlet '\n42. 'You have been very helpful Can we Contact you in Future for more details '\n\n\n",
            "text/html": [
              "<style>\n",
              ".list-inline {list-style: none; margin:0; padding: 0}\n",
              ".list-inline>li {display: inline-block}\n",
              ".list-inline>li:not(:last-child)::after {content: \"\\00b7\"; padding: 0 .5ex}\n",
              "</style>\n",
              "<ol class=list-inline><li>'RespondentId'</li><li>'EmployeeCode'</li><li>'UserName'</li><li>'BusinessUnit'</li><li>'Department'</li><li>'Address of the Outlet '</li><li>'City'</li><li>'Do you have Internet Access at your outlet '</li><li>'Does your outlet offer Delivery Service '</li><li>'For which purposes do you store Customer Data '</li><li>'How did you Pay for your current POS '</li><li>'How long does it take for a new employee to Learn your POS in number of days '</li><li>'How many Employees do you have in this outlet '</li><li>'How much disruption in Internet Service do you face '</li><li>'How often do you Face Problems with your POS '</li><li>'If you had to pay for a new POS which Payment Type would you prefer '</li><li>'Is your POS '</li><li>'Name of the Outlet '</li><li>'Number of years you have worked with this organization '</li><li>'Please choose the Number of Outlets '</li><li>'Please choose which Kind your POS you have '</li><li>'Please provide an amount in PKR you are Willing to Pay corresponding to last question '</li><li>'Please state your Personal Observations which you believe would be interesting to share about this interaction '</li><li>'Please take a picture of the outlet with it s name visible'</li><li>'Please take a picture of the visiting card'</li><li>'POS Name Name of the POS Software being used Not the hardware '</li><li>'POS Provider Name of the company from which POS has been purchased '</li><li>'Region '</li><li>'Respondent s Phone Number '</li><li>'Respondent s Designation '</li><li>'Respondent s name '</li><li>'What Language is your POS in '</li><li>'What are the Most Important Features in a POS You may choose multiple options '</li><li>'What kind of business are you '</li><li>'What types of Payments do you accept through your POS You may choose multiple options '</li><li>'Which device s do you use for Accessing your POS You may choose multiple options '</li><li>'Which method do you use for Paying your POS vendor '</li><li>'Which of the following Discounts do you offer to your customers '</li><li>'Which of the following Features in your POS are in Urdu Local language You may choose multiple options '</li><li>'Which of the following can be a Reason to replace your POS You may choose multiple options '</li><li>'Will you be willing to run a Demo of our POS at your outlet '</li><li>'You have been very helpful Can we Contact you in Future for more details '</li></ol>\n"
            ]
          },
          "metadata": {
            "tags": []
          }
        }
      ]
    },
    {
      "cell_type": "code",
      "metadata": {
        "id": "kA4Tg2bS4xy7"
      },
      "source": [
        "# using Janitor to clean up names\n",
        "# https://cran.r-project.org/web/packages/janitor/vignettes/janitor.html#clean-data.frame-names-with-clean_names"
      ],
      "execution_count": null,
      "outputs": []
    },
    {
      "cell_type": "code",
      "metadata": {
        "id": "C5xOLpLy46hy"
      },
      "source": [
        "df_2 = \n",
        "  df_2 %>% clean_names()"
      ],
      "execution_count": null,
      "outputs": []
    },
    {
      "cell_type": "code",
      "metadata": {
        "id": "oBN_xdn94_mR",
        "colab": {
          "base_uri": "https://localhost:8080/",
          "height": 399
        },
        "outputId": "437a43ac-b297-4928-f8de-cbb5162d7891"
      },
      "source": [
        "colnames(df_2)"
      ],
      "execution_count": null,
      "outputs": [
        {
          "output_type": "display_data",
          "data": {
            "text/plain": [
              " [1] \"respondent_id\"                                                                                                 \n",
              " [2] \"employee_code\"                                                                                                 \n",
              " [3] \"user_name\"                                                                                                     \n",
              " [4] \"business_unit\"                                                                                                 \n",
              " [5] \"department\"                                                                                                    \n",
              " [6] \"address_of_the_outlet\"                                                                                         \n",
              " [7] \"city\"                                                                                                          \n",
              " [8] \"do_you_have_internet_access_at_your_outlet\"                                                                    \n",
              " [9] \"does_your_outlet_offer_delivery_service\"                                                                       \n",
              "[10] \"for_which_purposes_do_you_store_customer_data\"                                                                 \n",
              "[11] \"how_did_you_pay_for_your_current_pos\"                                                                          \n",
              "[12] \"how_long_does_it_take_for_a_new_employee_to_learn_your_pos_in_number_of_days\"                                  \n",
              "[13] \"how_many_employees_do_you_have_in_this_outlet\"                                                                 \n",
              "[14] \"how_much_disruption_in_internet_service_do_you_face\"                                                           \n",
              "[15] \"how_often_do_you_face_problems_with_your_pos\"                                                                  \n",
              "[16] \"if_you_had_to_pay_for_a_new_pos_which_payment_type_would_you_prefer\"                                           \n",
              "[17] \"is_your_pos\"                                                                                                   \n",
              "[18] \"name_of_the_outlet\"                                                                                            \n",
              "[19] \"number_of_years_you_have_worked_with_this_organization\"                                                        \n",
              "[20] \"please_choose_the_number_of_outlets\"                                                                           \n",
              "[21] \"please_choose_which_kind_your_pos_you_have\"                                                                    \n",
              "[22] \"please_provide_an_amount_in_pkr_you_are_willing_to_pay_corresponding_to_last_question\"                         \n",
              "[23] \"please_state_your_personal_observations_which_you_believe_would_be_interesting_to_share_about_this_interaction\"\n",
              "[24] \"please_take_a_picture_of_the_outlet_with_it_s_name_visible\"                                                    \n",
              "[25] \"please_take_a_picture_of_the_visiting_card\"                                                                    \n",
              "[26] \"pos_name_name_of_the_pos_software_being_used_not_the_hardware\"                                                 \n",
              "[27] \"pos_provider_name_of_the_company_from_which_pos_has_been_purchased\"                                            \n",
              "[28] \"region\"                                                                                                        \n",
              "[29] \"respondent_s_phone_number\"                                                                                     \n",
              "[30] \"respondent_s_designation\"                                                                                      \n",
              "[31] \"respondent_s_name\"                                                                                             \n",
              "[32] \"what_language_is_your_pos_in\"                                                                                  \n",
              "[33] \"what_are_the_most_important_features_in_a_pos_you_may_choose_multiple_options\"                                 \n",
              "[34] \"what_kind_of_business_are_you\"                                                                                 \n",
              "[35] \"what_types_of_payments_do_you_accept_through_your_pos_you_may_choose_multiple_options\"                         \n",
              "[36] \"which_device_s_do_you_use_for_accessing_your_pos_you_may_choose_multiple_options\"                              \n",
              "[37] \"which_method_do_you_use_for_paying_your_pos_vendor\"                                                            \n",
              "[38] \"which_of_the_following_discounts_do_you_offer_to_your_customers\"                                               \n",
              "[39] \"which_of_the_following_features_in_your_pos_are_in_urdu_local_language_you_may_choose_multiple_options\"        \n",
              "[40] \"which_of_the_following_can_be_a_reason_to_replace_your_pos_you_may_choose_multiple_options\"                    \n",
              "[41] \"will_you_be_willing_to_run_a_demo_of_our_pos_at_your_outlet\"                                                   \n",
              "[42] \"you_have_been_very_helpful_can_we_contact_you_in_future_for_more_details\"                                      "
            ],
            "text/latex": "\\begin{enumerate*}\n\\item 'respondent\\_id'\n\\item 'employee\\_code'\n\\item 'user\\_name'\n\\item 'business\\_unit'\n\\item 'department'\n\\item 'address\\_of\\_the\\_outlet'\n\\item 'city'\n\\item 'do\\_you\\_have\\_internet\\_access\\_at\\_your\\_outlet'\n\\item 'does\\_your\\_outlet\\_offer\\_delivery\\_service'\n\\item 'for\\_which\\_purposes\\_do\\_you\\_store\\_customer\\_data'\n\\item 'how\\_did\\_you\\_pay\\_for\\_your\\_current\\_pos'\n\\item 'how\\_long\\_does\\_it\\_take\\_for\\_a\\_new\\_employee\\_to\\_learn\\_your\\_pos\\_in\\_number\\_of\\_days'\n\\item 'how\\_many\\_employees\\_do\\_you\\_have\\_in\\_this\\_outlet'\n\\item 'how\\_much\\_disruption\\_in\\_internet\\_service\\_do\\_you\\_face'\n\\item 'how\\_often\\_do\\_you\\_face\\_problems\\_with\\_your\\_pos'\n\\item 'if\\_you\\_had\\_to\\_pay\\_for\\_a\\_new\\_pos\\_which\\_payment\\_type\\_would\\_you\\_prefer'\n\\item 'is\\_your\\_pos'\n\\item 'name\\_of\\_the\\_outlet'\n\\item 'number\\_of\\_years\\_you\\_have\\_worked\\_with\\_this\\_organization'\n\\item 'please\\_choose\\_the\\_number\\_of\\_outlets'\n\\item 'please\\_choose\\_which\\_kind\\_your\\_pos\\_you\\_have'\n\\item 'please\\_provide\\_an\\_amount\\_in\\_pkr\\_you\\_are\\_willing\\_to\\_pay\\_corresponding\\_to\\_last\\_question'\n\\item 'please\\_state\\_your\\_personal\\_observations\\_which\\_you\\_believe\\_would\\_be\\_interesting\\_to\\_share\\_about\\_this\\_interaction'\n\\item 'please\\_take\\_a\\_picture\\_of\\_the\\_outlet\\_with\\_it\\_s\\_name\\_visible'\n\\item 'please\\_take\\_a\\_picture\\_of\\_the\\_visiting\\_card'\n\\item 'pos\\_name\\_name\\_of\\_the\\_pos\\_software\\_being\\_used\\_not\\_the\\_hardware'\n\\item 'pos\\_provider\\_name\\_of\\_the\\_company\\_from\\_which\\_pos\\_has\\_been\\_purchased'\n\\item 'region'\n\\item 'respondent\\_s\\_phone\\_number'\n\\item 'respondent\\_s\\_designation'\n\\item 'respondent\\_s\\_name'\n\\item 'what\\_language\\_is\\_your\\_pos\\_in'\n\\item 'what\\_are\\_the\\_most\\_important\\_features\\_in\\_a\\_pos\\_you\\_may\\_choose\\_multiple\\_options'\n\\item 'what\\_kind\\_of\\_business\\_are\\_you'\n\\item 'what\\_types\\_of\\_payments\\_do\\_you\\_accept\\_through\\_your\\_pos\\_you\\_may\\_choose\\_multiple\\_options'\n\\item 'which\\_device\\_s\\_do\\_you\\_use\\_for\\_accessing\\_your\\_pos\\_you\\_may\\_choose\\_multiple\\_options'\n\\item 'which\\_method\\_do\\_you\\_use\\_for\\_paying\\_your\\_pos\\_vendor'\n\\item 'which\\_of\\_the\\_following\\_discounts\\_do\\_you\\_offer\\_to\\_your\\_customers'\n\\item 'which\\_of\\_the\\_following\\_features\\_in\\_your\\_pos\\_are\\_in\\_urdu\\_local\\_language\\_you\\_may\\_choose\\_multiple\\_options'\n\\item 'which\\_of\\_the\\_following\\_can\\_be\\_a\\_reason\\_to\\_replace\\_your\\_pos\\_you\\_may\\_choose\\_multiple\\_options'\n\\item 'will\\_you\\_be\\_willing\\_to\\_run\\_a\\_demo\\_of\\_our\\_pos\\_at\\_your\\_outlet'\n\\item 'you\\_have\\_been\\_very\\_helpful\\_can\\_we\\_contact\\_you\\_in\\_future\\_for\\_more\\_details'\n\\end{enumerate*}\n",
            "text/markdown": "1. 'respondent_id'\n2. 'employee_code'\n3. 'user_name'\n4. 'business_unit'\n5. 'department'\n6. 'address_of_the_outlet'\n7. 'city'\n8. 'do_you_have_internet_access_at_your_outlet'\n9. 'does_your_outlet_offer_delivery_service'\n10. 'for_which_purposes_do_you_store_customer_data'\n11. 'how_did_you_pay_for_your_current_pos'\n12. 'how_long_does_it_take_for_a_new_employee_to_learn_your_pos_in_number_of_days'\n13. 'how_many_employees_do_you_have_in_this_outlet'\n14. 'how_much_disruption_in_internet_service_do_you_face'\n15. 'how_often_do_you_face_problems_with_your_pos'\n16. 'if_you_had_to_pay_for_a_new_pos_which_payment_type_would_you_prefer'\n17. 'is_your_pos'\n18. 'name_of_the_outlet'\n19. 'number_of_years_you_have_worked_with_this_organization'\n20. 'please_choose_the_number_of_outlets'\n21. 'please_choose_which_kind_your_pos_you_have'\n22. 'please_provide_an_amount_in_pkr_you_are_willing_to_pay_corresponding_to_last_question'\n23. 'please_state_your_personal_observations_which_you_believe_would_be_interesting_to_share_about_this_interaction'\n24. 'please_take_a_picture_of_the_outlet_with_it_s_name_visible'\n25. 'please_take_a_picture_of_the_visiting_card'\n26. 'pos_name_name_of_the_pos_software_being_used_not_the_hardware'\n27. 'pos_provider_name_of_the_company_from_which_pos_has_been_purchased'\n28. 'region'\n29. 'respondent_s_phone_number'\n30. 'respondent_s_designation'\n31. 'respondent_s_name'\n32. 'what_language_is_your_pos_in'\n33. 'what_are_the_most_important_features_in_a_pos_you_may_choose_multiple_options'\n34. 'what_kind_of_business_are_you'\n35. 'what_types_of_payments_do_you_accept_through_your_pos_you_may_choose_multiple_options'\n36. 'which_device_s_do_you_use_for_accessing_your_pos_you_may_choose_multiple_options'\n37. 'which_method_do_you_use_for_paying_your_pos_vendor'\n38. 'which_of_the_following_discounts_do_you_offer_to_your_customers'\n39. 'which_of_the_following_features_in_your_pos_are_in_urdu_local_language_you_may_choose_multiple_options'\n40. 'which_of_the_following_can_be_a_reason_to_replace_your_pos_you_may_choose_multiple_options'\n41. 'will_you_be_willing_to_run_a_demo_of_our_pos_at_your_outlet'\n42. 'you_have_been_very_helpful_can_we_contact_you_in_future_for_more_details'\n\n\n",
            "text/html": [
              "<style>\n",
              ".list-inline {list-style: none; margin:0; padding: 0}\n",
              ".list-inline>li {display: inline-block}\n",
              ".list-inline>li:not(:last-child)::after {content: \"\\00b7\"; padding: 0 .5ex}\n",
              "</style>\n",
              "<ol class=list-inline><li>'respondent_id'</li><li>'employee_code'</li><li>'user_name'</li><li>'business_unit'</li><li>'department'</li><li>'address_of_the_outlet'</li><li>'city'</li><li>'do_you_have_internet_access_at_your_outlet'</li><li>'does_your_outlet_offer_delivery_service'</li><li>'for_which_purposes_do_you_store_customer_data'</li><li>'how_did_you_pay_for_your_current_pos'</li><li>'how_long_does_it_take_for_a_new_employee_to_learn_your_pos_in_number_of_days'</li><li>'how_many_employees_do_you_have_in_this_outlet'</li><li>'how_much_disruption_in_internet_service_do_you_face'</li><li>'how_often_do_you_face_problems_with_your_pos'</li><li>'if_you_had_to_pay_for_a_new_pos_which_payment_type_would_you_prefer'</li><li>'is_your_pos'</li><li>'name_of_the_outlet'</li><li>'number_of_years_you_have_worked_with_this_organization'</li><li>'please_choose_the_number_of_outlets'</li><li>'please_choose_which_kind_your_pos_you_have'</li><li>'please_provide_an_amount_in_pkr_you_are_willing_to_pay_corresponding_to_last_question'</li><li>'please_state_your_personal_observations_which_you_believe_would_be_interesting_to_share_about_this_interaction'</li><li>'please_take_a_picture_of_the_outlet_with_it_s_name_visible'</li><li>'please_take_a_picture_of_the_visiting_card'</li><li>'pos_name_name_of_the_pos_software_being_used_not_the_hardware'</li><li>'pos_provider_name_of_the_company_from_which_pos_has_been_purchased'</li><li>'region'</li><li>'respondent_s_phone_number'</li><li>'respondent_s_designation'</li><li>'respondent_s_name'</li><li>'what_language_is_your_pos_in'</li><li>'what_are_the_most_important_features_in_a_pos_you_may_choose_multiple_options'</li><li>'what_kind_of_business_are_you'</li><li>'what_types_of_payments_do_you_accept_through_your_pos_you_may_choose_multiple_options'</li><li>'which_device_s_do_you_use_for_accessing_your_pos_you_may_choose_multiple_options'</li><li>'which_method_do_you_use_for_paying_your_pos_vendor'</li><li>'which_of_the_following_discounts_do_you_offer_to_your_customers'</li><li>'which_of_the_following_features_in_your_pos_are_in_urdu_local_language_you_may_choose_multiple_options'</li><li>'which_of_the_following_can_be_a_reason_to_replace_your_pos_you_may_choose_multiple_options'</li><li>'will_you_be_willing_to_run_a_demo_of_our_pos_at_your_outlet'</li><li>'you_have_been_very_helpful_can_we_contact_you_in_future_for_more_details'</li></ol>\n"
            ]
          },
          "metadata": {
            "tags": []
          }
        }
      ]
    },
    {
      "cell_type": "markdown",
      "metadata": {
        "id": "iGKb8oWJ-JRP"
      },
      "source": [
        "#### column mapping"
      ]
    },
    {
      "cell_type": "code",
      "metadata": {
        "id": "zgkDnj6q8uAa"
      },
      "source": [
        "df_3 = df_2 %>% rename(\n",
        "SB_BU = 'business_unit',\n",
        "SB_DEPT = 'department',\n",
        "ORG_ADDRESS = 'address_of_the_outlet',\n",
        "ORG_CITY = 'city',\n",
        "ORG_INTERNET_ACCESS = 'do_you_have_internet_access_at_your_outlet',\n",
        "ORG_DELIVERY_SERVICE = 'does_your_outlet_offer_delivery_service',\n",
        "ORG_CUSTOMER_DATA = 'for_which_purposes_do_you_store_customer_data',\n",
        "ORG_PAY_FOR_OLD_POS = 'how_did_you_pay_for_your_current_pos',\n",
        "ORG_EMP_TRAINING =  'how_long_does_it_take_for_a_new_employee_to_learn_your_pos_in_number_of_days',\n",
        "ORG_EMP_COUNT = 'how_many_employees_do_you_have_in_this_outlet',\n",
        "ORG_INTERNET_DISRUPTION = 'how_much_disruption_in_internet_service_do_you_face',\n",
        "ORG_OLD_POS_PROBLEMS = 'how_often_do_you_face_problems_with_your_pos',\n",
        "ORG_NEW_POS_PAYMENT_PREF ='if_you_had_to_pay_for_a_new_pos_which_payment_type_would_you_prefer',\n",
        "ORG_POS_TYPE = 'is_your_pos',\n",
        "ORG_NAME = 'name_of_the_outlet',\n",
        "ORG_RESP_TENURE = 'number_of_years_you_have_worked_with_this_organization',\n",
        "ORG_OUTLETS_COUNT = 'please_choose_the_number_of_outlets',\n",
        "ORG_OLD_POS_KIND = 'please_choose_which_kind_your_pos_you_have',\n",
        "ORG_WILLINGNESS_TO_PAY_AMOUNT = 'please_provide_an_amount_in_pkr_you_are_willing_to_pay_corresponding_to_last_question',\n",
        "SB_OBSERVATION = 'please_state_your_personal_observations_which_you_believe_would_be_interesting_to_share_about_this_interaction',\n",
        "ORG_POS_NAME = 'pos_name_name_of_the_pos_software_being_used_not_the_hardware',\n",
        "ORG_POS_PROVIDER = 'pos_provider_name_of_the_company_from_which_pos_has_been_purchased',\n",
        "SB_REGION = 'region',\n",
        "RESP_PHONE = 'respondent_s_phone_number',\n",
        "RESP_DESIGNATION = 'respondent_s_designation',\n",
        "RESP_NAME = 'respondent_s_name',\n",
        "ORG_OLD_POS_LANG = 'what_language_is_your_pos_in',\n",
        "ORG_POS_FEATURES = 'what_are_the_most_important_features_in_a_pos_you_may_choose_multiple_options',\n",
        "ORG_TYPE = 'what_kind_of_business_are_you',\n",
        "ORG_OLD_POS_PAYMENT_OPTIONS = 'what_types_of_payments_do_you_accept_through_your_pos_you_may_choose_multiple_options',\n",
        "ORG_OLD_POS_DEVICES = 'which_device_s_do_you_use_for_accessing_your_pos_you_may_choose_multiple_options',\n",
        "ORG_OLD_POS_PROVIDER_PAYMENT_METHOD = 'which_method_do_you_use_for_paying_your_pos_vendor',\n",
        "ORG_DISCOUNTS_OFFERED = 'which_of_the_following_discounts_do_you_offer_to_your_customers',\n",
        "ORG_OLD_POS_URDU_FEATURES = 'which_of_the_following_features_in_your_pos_are_in_urdu_local_language_you_may_choose_multiple_options',\n",
        "ORG_REASON_TO_REPLACE_POS = \n",
        "'which_of_the_following_can_be_a_reason_to_replace_your_pos_you_may_choose_multiple_options',\n",
        "ORG_WILLINGNESS_DEMO = \n",
        "'will_you_be_willing_to_run_a_demo_of_our_pos_at_your_outlet',\n",
        "ORG_WILLINGNESS_FUTURE_CONTACT =\n",
        "'you_have_been_very_helpful_can_we_contact_you_in_future_for_more_details',\n",
        "ORG_PICTURE_LINK = 'please_take_a_picture_of_the_outlet_with_it_s_name_visible',\n",
        "ORG_VISITING_CARD = 'please_take_a_picture_of_the_visiting_card'\n",
        ")"
      ],
      "execution_count": null,
      "outputs": []
    },
    {
      "cell_type": "markdown",
      "metadata": {
        "id": "GT25G_Qr9Tkh"
      },
      "source": [
        "df_3 hereon"
      ]
    },
    {
      "cell_type": "markdown",
      "metadata": {
        "id": "VqXQHlnAFhaS"
      },
      "source": [
        "### Exp Graphs"
      ]
    },
    {
      "cell_type": "code",
      "metadata": {
        "id": "_5hBAniiFUag",
        "colab": {
          "base_uri": "https://localhost:8080/",
          "height": 437
        },
        "outputId": "1071af35-eb54-42c0-a908-0fd5a3ff633c"
      },
      "source": [
        "g1 <- df_3 %>%\n",
        "    ggplot(aes(x = ORG_OUTLETS_COUNT)) +\n",
        "    geom_bar(aes(fill = ORG_OUTLETS_COUNT), position = \"dodge\") +\n",
        "    #facet_wrap(~ ORG_REGION)\n",
        "    facet_wrap(~ ORG_CITY)\n",
        "\n",
        "# bars are too little to add data labels\n",
        "g1 <- g1 + labs(x = \"ORGANIZATION TYPE\", y = \"COUNT\")\n",
        "g1 <- g1 + scale_fill_brewer(palette = \"Set2\") \n",
        "g1 <- g1 + theme_light()\n",
        "g1 <- g1 + theme(axis.text.x = element_text(angle = 90, vjust = 0.5, hjust=1))\n",
        "g1"
      ],
      "execution_count": null,
      "outputs": [
        {
          "output_type": "display_data",
          "data": {
            "image/png": "[encoded data removed]",
            "text/plain": [
              "plot without title"
            ]
          },
          "metadata": {
            "tags": [],
            "image/png": {
              "width": 420,
              "height": 420
            }
          }
        }
      ]
    },
    {
      "cell_type": "code",
      "metadata": {
        "id": "KgmTdLM4GzvP",
        "colab": {
          "base_uri": "https://localhost:8080/",
          "height": 437
        },
        "outputId": "e5ac56c2-3237-44f8-bc06-072cbf6f525a"
      },
      "source": [
        "g11 <- g1 + theme(\n",
        "    strip.text = element_text(face = \"bold\", size = rel(1.5)),\n",
        "    strip.background = element_rect(fill = \"lightgrey\", colour = \"black\", size = 1),\n",
        "    axis.title.y = element_blank(),\n",
        "    legend.position = \"none\"\n",
        "  )\n",
        "\n",
        "g11"
      ],
      "execution_count": null,
      "outputs": [
        {
          "output_type": "display_data",
          "data": {
            "image/png": "[encoded data removed]",
            "text/plain": [
              "plot without title"
            ]
          },
          "metadata": {
            "tags": [],
            "image/png": {
              "width": 420,
              "height": 420
            }
          }
        }
      ]
    },
    {
      "cell_type": "code",
      "metadata": {
        "id": "Y3QMpA2_ITAi",
        "colab": {
          "base_uri": "https://localhost:8080/",
          "height": 437
        },
        "outputId": "c09caba3-2c3f-4bff-f7f0-105f863d7283"
      },
      "source": [
        "g1 <- df_3 %>%\n",
        "    ggplot(aes(x = ORG_INTERNET_ACCESS)) +\n",
        "    geom_bar(aes(fill = ORG_INTERNET_ACCESS), position = \"dodge\") +\n",
        "    facet_wrap(~ ORG_CITY)\n",
        "\n",
        "# bars are too little to add data labels\n",
        "g1 <- g1 + labs(x = \"INTERNET ACCESS\", y = \"COUNT\")\n",
        "g1 <- g1 + scale_fill_brewer(palette = \"Set2\") \n",
        "g1 <- g1 + theme_light()\n",
        "g1 <- g1 + theme(axis.text.x = element_text(angle = 90, vjust = 0.5, hjust=1))\n",
        "g1"
      ],
      "execution_count": null,
      "outputs": [
        {
          "output_type": "display_data",
          "data": {
            "image/png": "[encoded data removed]",
            "text/plain": [
              "plot without title"
            ]
          },
          "metadata": {
            "tags": [],
            "image/png": {
              "width": 420,
              "height": 420
            }
          }
        }
      ]
    },
    {
      "cell_type": "code",
      "metadata": {
        "id": "67sV7KZCItrx",
        "colab": {
          "base_uri": "https://localhost:8080/",
          "height": 437
        },
        "outputId": "d3c5719c-e485-4130-96aa-08266225acc8"
      },
      "source": [
        "g11 <- g1 + theme(\n",
        "    strip.text = element_text(face = \"bold\", size = rel(1.5)),\n",
        "    strip.background = element_rect(fill = \"lightgrey\", colour = \"black\", size = 1),\n",
        "    axis.title.y = element_blank(),\n",
        "    legend.position = \"none\"\n",
        "  )\n",
        "\n",
        "g11"
      ],
      "execution_count": null,
      "outputs": [
        {
          "output_type": "display_data",
          "data": {
            "image/png": "[encoded data removed]",
            "text/plain": [
              "plot without title"
            ]
          },
          "metadata": {
            "tags": [],
            "image/png": {
              "width": 420,
              "height": 420
            }
          }
        }
      ]
    },
    {
      "cell_type": "code",
      "metadata": {
        "id": "DIHgiLbzI0-U",
        "colab": {
          "base_uri": "https://localhost:8080/",
          "height": 437
        },
        "outputId": "ee2c3d46-c6a6-4b42-e4e7-b2731190a23a"
      },
      "source": [
        "g1 <- df_3 %>%\n",
        "    ggplot(aes(x = ORG_DELIVERY_SERVICE)) +\n",
        "    geom_bar(aes(fill = ORG_DELIVERY_SERVICE), position = \"dodge\") +\n",
        "    facet_wrap(~ ORG_CITY)\n",
        "\n",
        "# bars are too little to add data labels\n",
        "g1 <- g1 + labs(x = \"DELIVERY SERVICE\", y = \"COUNT\")\n",
        "g1 <- g1 + scale_fill_brewer(palette = \"Set2\") \n",
        "g1 <- g1 + theme_light()\n",
        "g1 <- g1 + theme(axis.text.x = element_text(angle = 90, vjust = 0.5, hjust=1))\n",
        "g1"
      ],
      "execution_count": null,
      "outputs": [
        {
          "output_type": "display_data",
          "data": {
            "image/png": "[encoded data removed]",
            "text/plain": [
              "plot without title"
            ]
          },
          "metadata": {
            "tags": [],
            "image/png": {
              "width": 420,
              "height": 420
            }
          }
        }
      ]
    },
    {
      "cell_type": "code",
      "metadata": {
        "id": "xydGIBOnJCjj",
        "colab": {
          "base_uri": "https://localhost:8080/",
          "height": 437
        },
        "outputId": "7aa5e2fd-d2e9-454a-c713-747949d0e2fb"
      },
      "source": [
        "g11 <- g1 + theme(\n",
        "    strip.text = element_text(face = \"bold\", size = rel(1.5)),\n",
        "    strip.background = element_rect(fill = \"lightgrey\", colour = \"black\", size = 1),\n",
        "    axis.title.y = element_blank(),\n",
        "    legend.position = \"none\"\n",
        "  )\n",
        "\n",
        "g11"
      ],
      "execution_count": null,
      "outputs": [
        {
          "output_type": "display_data",
          "data": {
            "image/png": "[encoded data removed]",
            "text/plain": [
              "plot without title"
            ]
          },
          "metadata": {
            "tags": [],
            "image/png": {
              "width": 420,
              "height": 420
            }
          }
        }
      ]
    },
    {
      "cell_type": "code",
      "metadata": {
        "id": "_FKVGMg-JWRz"
      },
      "source": [
        "# TODO: compile counts of ORG_CUSTOMER_DATA"
      ],
      "execution_count": null,
      "outputs": []
    },
    {
      "cell_type": "code",
      "metadata": {
        "id": "wtbduo5lJFB6",
        "colab": {
          "base_uri": "https://localhost:8080/",
          "height": 507
        },
        "outputId": "4da76eab-897d-4c1d-fc06-3c71e77da1d9"
      },
      "source": [
        "g1 <- df_3 %>%\n",
        "    ggplot(aes(x = ORG_CUSTOMER_DATA)) +\n",
        "    geom_bar(aes(fill = ORG_CUSTOMER_DATA), position = \"dodge\") +\n",
        "    facet_wrap(~ ORG_CITY)\n",
        "\n",
        "# bars are too little to add data labels\n",
        "g1 <- g1 + labs(x = \"CUSTOMER DATA\", y = \"COUNT\")\n",
        "g1 <- g1 + scale_fill_brewer(palette = \"Set2\") \n",
        "g1 <- g1 + theme_light()\n",
        "g1 <- g1 + theme(axis.text.x = element_text(angle = 90, vjust = 0.5, hjust=1))\n",
        "g1"
      ],
      "execution_count": null,
      "outputs": [
        {
          "output_type": "stream",
          "text": [
            "Warning message in RColorBrewer::brewer.pal(n, pal):\n",
            "“n too large, allowed maximum for palette Set2 is 8\n",
            "Returning the palette you asked for with that many colors\n",
            "”\n"
          ],
          "name": "stderr"
        },
        {
          "output_type": "display_data",
          "data": {
            "image/png": "[encoded data removed]",
            "text/plain": [
              "plot without title"
            ]
          },
          "metadata": {
            "tags": [],
            "image/png": {
              "width": 420,
              "height": 420
            }
          }
        }
      ]
    },
    {
      "cell_type": "code",
      "metadata": {
        "id": "yBVNiWhMJaxy"
      },
      "source": [
        ""
      ],
      "execution_count": null,
      "outputs": []
    },
    {
      "cell_type": "code",
      "metadata": {
        "id": "GADYRTsMUnpi"
      },
      "source": [
        ""
      ],
      "execution_count": null,
      "outputs": []
    },
    {
      "cell_type": "code",
      "metadata": {
        "id": "o6tXOa3HUq15",
        "colab": {
          "base_uri": "https://localhost:8080/",
          "height": 97
        },
        "outputId": "ecffdb24-1754-4ec5-bd16-93d537745417"
      },
      "source": [
        ""
      ],
      "execution_count": null,
      "outputs": [
        {
          "output_type": "error",
          "ename": "ERROR",
          "evalue": "ignored",
          "traceback": [
            "Error in eval(expr, envir, enclos): object 't4' not found\nTraceback:\n"
          ]
        }
      ]
    },
    {
      "cell_type": "markdown",
      "metadata": {
        "id": "y2Sn_DvhLz3n"
      },
      "source": [
        "### Exp Graphs Via PURRR"
      ]
    },
    {
      "cell_type": "code",
      "metadata": {
        "id": "ibXH_JYzL2YX"
      },
      "source": [
        "# ref: https://aosmith.rbind.io/2018/08/20/automating-exploratory-plots/"
      ],
      "execution_count": null,
      "outputs": []
    },
    {
      "cell_type": "code",
      "metadata": {
        "id": "lAmgRcIgL5UX",
        "colab": {
          "base_uri": "https://localhost:8080/",
          "height": 191
        },
        "outputId": "d9719f25-8ef4-418a-aeaf-3c748ca4cad7"
      },
      "source": [
        "# list of variables to plot\n",
        "colnames(df_3)"
      ],
      "execution_count": null,
      "outputs": [
        {
          "output_type": "display_data",
          "data": {
            "text/plain": [
              " [1] \"respondent_id\"                       \"employee_code\"                      \n",
              " [3] \"user_name\"                           \"SB_BU\"                              \n",
              " [5] \"SB_DEPT\"                             \"ORG_ADDRESS\"                        \n",
              " [7] \"ORG_CITY\"                            \"ORG_INTERNET_ACCESS\"                \n",
              " [9] \"ORG_DELIVERY_SERVICE\"                \"ORG_CUSTOMER_DATA\"                  \n",
              "[11] \"ORG_PAY_FOR_OLD_POS\"                 \"ORG_EMP_TRAINING\"                   \n",
              "[13] \"ORG_EMP_COUNT\"                       \"ORG_INTERNET_DISRUPTION\"            \n",
              "[15] \"ORG_OLD_POS_PROBLEMS\"                \"ORG_NEW_POS_PAYMENT_PREF\"           \n",
              "[17] \"ORG_POS_TYPE\"                        \"ORG_NAME\"                           \n",
              "[19] \"ORG_RESP_TENURE\"                     \"ORG_OUTLETS_COUNT\"                  \n",
              "[21] \"ORG_OLD_POS_KIND\"                    \"ORG_WILLINGNESS_TO_PAY_AMOUNT\"      \n",
              "[23] \"SB_OBSERVATION\"                      \"ORG_PICTURE_LINK\"                   \n",
              "[25] \"ORG_VISITING_CARD\"                   \"ORG_POS_NAME\"                       \n",
              "[27] \"ORG_POS_PROVIDER\"                    \"SB_REGION\"                          \n",
              "[29] \"RESP_PHONE\"                          \"RESP_DESIGNATION\"                   \n",
              "[31] \"RESP_NAME\"                           \"ORG_OLD_POS_LANG\"                   \n",
              "[33] \"ORG_POS_FEATURES\"                    \"ORG_TYPE\"                           \n",
              "[35] \"ORG_OLD_POS_PAYMENT_OPTIONS\"         \"ORG_OLD_POS_DEVICES\"                \n",
              "[37] \"ORG_OLD_POS_PROVIDER_PAYMENT_METHOD\" \"ORG_DISCOUNTS_OFFERED\"              \n",
              "[39] \"ORG_OLD_POS_URDU_FEATURES\"           \"ORG_REASON_TO_REPLACE_POS\"          \n",
              "[41] \"ORG_WILLINGNESS_DEMO\"                \"ORG_WILLINGNESS_FUTURE_CONTACT\"     "
            ],
            "text/latex": "\\begin{enumerate*}\n\\item 'respondent\\_id'\n\\item 'employee\\_code'\n\\item 'user\\_name'\n\\item 'SB\\_BU'\n\\item 'SB\\_DEPT'\n\\item 'ORG\\_ADDRESS'\n\\item 'ORG\\_CITY'\n\\item 'ORG\\_INTERNET\\_ACCESS'\n\\item 'ORG\\_DELIVERY\\_SERVICE'\n\\item 'ORG\\_CUSTOMER\\_DATA'\n\\item 'ORG\\_PAY\\_FOR\\_OLD\\_POS'\n\\item 'ORG\\_EMP\\_TRAINING'\n\\item 'ORG\\_EMP\\_COUNT'\n\\item 'ORG\\_INTERNET\\_DISRUPTION'\n\\item 'ORG\\_OLD\\_POS\\_PROBLEMS'\n\\item 'ORG\\_NEW\\_POS\\_PAYMENT\\_PREF'\n\\item 'ORG\\_POS\\_TYPE'\n\\item 'ORG\\_NAME'\n\\item 'ORG\\_RESP\\_TENURE'\n\\item 'ORG\\_OUTLETS\\_COUNT'\n\\item 'ORG\\_OLD\\_POS\\_KIND'\n\\item 'ORG\\_WILLINGNESS\\_TO\\_PAY\\_AMOUNT'\n\\item 'SB\\_OBSERVATION'\n\\item 'ORG\\_PICTURE\\_LINK'\n\\item 'ORG\\_VISITING\\_CARD'\n\\item 'ORG\\_POS\\_NAME'\n\\item 'ORG\\_POS\\_PROVIDER'\n\\item 'SB\\_REGION'\n\\item 'RESP\\_PHONE'\n\\item 'RESP\\_DESIGNATION'\n\\item 'RESP\\_NAME'\n\\item 'ORG\\_OLD\\_POS\\_LANG'\n\\item 'ORG\\_POS\\_FEATURES'\n\\item 'ORG\\_TYPE'\n\\item 'ORG\\_OLD\\_POS\\_PAYMENT\\_OPTIONS'\n\\item 'ORG\\_OLD\\_POS\\_DEVICES'\n\\item 'ORG\\_OLD\\_POS\\_PROVIDER\\_PAYMENT\\_METHOD'\n\\item 'ORG\\_DISCOUNTS\\_OFFERED'\n\\item 'ORG\\_OLD\\_POS\\_URDU\\_FEATURES'\n\\item 'ORG\\_REASON\\_TO\\_REPLACE\\_POS'\n\\item 'ORG\\_WILLINGNESS\\_DEMO'\n\\item 'ORG\\_WILLINGNESS\\_FUTURE\\_CONTACT'\n\\end{enumerate*}\n",
            "text/markdown": "1. 'respondent_id'\n2. 'employee_code'\n3. 'user_name'\n4. 'SB_BU'\n5. 'SB_DEPT'\n6. 'ORG_ADDRESS'\n7. 'ORG_CITY'\n8. 'ORG_INTERNET_ACCESS'\n9. 'ORG_DELIVERY_SERVICE'\n10. 'ORG_CUSTOMER_DATA'\n11. 'ORG_PAY_FOR_OLD_POS'\n12. 'ORG_EMP_TRAINING'\n13. 'ORG_EMP_COUNT'\n14. 'ORG_INTERNET_DISRUPTION'\n15. 'ORG_OLD_POS_PROBLEMS'\n16. 'ORG_NEW_POS_PAYMENT_PREF'\n17. 'ORG_POS_TYPE'\n18. 'ORG_NAME'\n19. 'ORG_RESP_TENURE'\n20. 'ORG_OUTLETS_COUNT'\n21. 'ORG_OLD_POS_KIND'\n22. 'ORG_WILLINGNESS_TO_PAY_AMOUNT'\n23. 'SB_OBSERVATION'\n24. 'ORG_PICTURE_LINK'\n25. 'ORG_VISITING_CARD'\n26. 'ORG_POS_NAME'\n27. 'ORG_POS_PROVIDER'\n28. 'SB_REGION'\n29. 'RESP_PHONE'\n30. 'RESP_DESIGNATION'\n31. 'RESP_NAME'\n32. 'ORG_OLD_POS_LANG'\n33. 'ORG_POS_FEATURES'\n34. 'ORG_TYPE'\n35. 'ORG_OLD_POS_PAYMENT_OPTIONS'\n36. 'ORG_OLD_POS_DEVICES'\n37. 'ORG_OLD_POS_PROVIDER_PAYMENT_METHOD'\n38. 'ORG_DISCOUNTS_OFFERED'\n39. 'ORG_OLD_POS_URDU_FEATURES'\n40. 'ORG_REASON_TO_REPLACE_POS'\n41. 'ORG_WILLINGNESS_DEMO'\n42. 'ORG_WILLINGNESS_FUTURE_CONTACT'\n\n\n",
            "text/html": [
              "<style>\n",
              ".list-inline {list-style: none; margin:0; padding: 0}\n",
              ".list-inline>li {display: inline-block}\n",
              ".list-inline>li:not(:last-child)::after {content: \"\\00b7\"; padding: 0 .5ex}\n",
              "</style>\n",
              "<ol class=list-inline><li>'respondent_id'</li><li>'employee_code'</li><li>'user_name'</li><li>'SB_BU'</li><li>'SB_DEPT'</li><li>'ORG_ADDRESS'</li><li>'ORG_CITY'</li><li>'ORG_INTERNET_ACCESS'</li><li>'ORG_DELIVERY_SERVICE'</li><li>'ORG_CUSTOMER_DATA'</li><li>'ORG_PAY_FOR_OLD_POS'</li><li>'ORG_EMP_TRAINING'</li><li>'ORG_EMP_COUNT'</li><li>'ORG_INTERNET_DISRUPTION'</li><li>'ORG_OLD_POS_PROBLEMS'</li><li>'ORG_NEW_POS_PAYMENT_PREF'</li><li>'ORG_POS_TYPE'</li><li>'ORG_NAME'</li><li>'ORG_RESP_TENURE'</li><li>'ORG_OUTLETS_COUNT'</li><li>'ORG_OLD_POS_KIND'</li><li>'ORG_WILLINGNESS_TO_PAY_AMOUNT'</li><li>'SB_OBSERVATION'</li><li>'ORG_PICTURE_LINK'</li><li>'ORG_VISITING_CARD'</li><li>'ORG_POS_NAME'</li><li>'ORG_POS_PROVIDER'</li><li>'SB_REGION'</li><li>'RESP_PHONE'</li><li>'RESP_DESIGNATION'</li><li>'RESP_NAME'</li><li>'ORG_OLD_POS_LANG'</li><li>'ORG_POS_FEATURES'</li><li>'ORG_TYPE'</li><li>'ORG_OLD_POS_PAYMENT_OPTIONS'</li><li>'ORG_OLD_POS_DEVICES'</li><li>'ORG_OLD_POS_PROVIDER_PAYMENT_METHOD'</li><li>'ORG_DISCOUNTS_OFFERED'</li><li>'ORG_OLD_POS_URDU_FEATURES'</li><li>'ORG_REASON_TO_REPLACE_POS'</li><li>'ORG_WILLINGNESS_DEMO'</li><li>'ORG_WILLINGNESS_FUTURE_CONTACT'</li></ol>\n"
            ]
          },
          "metadata": {
            "tags": []
          }
        }
      ]
    },
    {
      "cell_type": "code",
      "metadata": {
        "id": "s5rwdkJLPuux"
      },
      "source": [
        "#df_3 %>% select(starts_with('ORG'))"
      ],
      "execution_count": null,
      "outputs": []
    },
    {
      "cell_type": "code",
      "metadata": {
        "id": "cqllZXrPQmxO",
        "colab": {
          "base_uri": "https://localhost:8080/",
          "height": 35
        },
        "outputId": "ec555078-dfcb-4e8c-865a-5bd6a0792b7a"
      },
      "source": [
        "colnames(df_3)[20]"
      ],
      "execution_count": null,
      "outputs": [
        {
          "output_type": "display_data",
          "data": {
            "text/plain": [
              "[1] \"ORG_OUTLETS_COUNT\""
            ],
            "text/latex": "'ORG\\_OUTLETS\\_COUNT'",
            "text/markdown": "'ORG_OUTLETS_COUNT'",
            "text/html": [
              "'ORG_OUTLETS_COUNT'"
            ]
          },
          "metadata": {
            "tags": []
          }
        }
      ]
    },
    {
      "cell_type": "code",
      "metadata": {
        "id": "jcKS6yvbQciF",
        "colab": {
          "base_uri": "https://localhost:8080/",
          "height": 35
        },
        "outputId": "f1fe5574-ddea-4bbe-83fe-938574bfb4d3"
      },
      "source": [
        "uni_var = colnames(df_3)[20]\n",
        "uni_var = set_names(uni_var)\n",
        "uni_var"
      ],
      "execution_count": null,
      "outputs": [
        {
          "output_type": "display_data",
          "data": {
            "text/plain": [
              "  ORG_OUTLETS_COUNT \n",
              "\"ORG_OUTLETS_COUNT\" "
            ],
            "text/latex": "\\textbf{ORG\\textbackslash{}\\_OUTLETS\\textbackslash{}\\_COUNT:} 'ORG\\_OUTLETS\\_COUNT'",
            "text/markdown": "**ORG_OUTLETS_COUNT:** 'ORG_OUTLETS_COUNT'",
            "text/html": [
              "<strong>ORG_OUTLETS_COUNT:</strong> 'ORG_OUTLETS_COUNT'"
            ]
          },
          "metadata": {
            "tags": []
          }
        }
      ]
    },
    {
      "cell_type": "markdown",
      "metadata": {
        "id": "l948xQo-RAm-"
      },
      "source": [
        "#### Plotting WorkHorse"
      ]
    },
    {
      "cell_type": "code",
      "metadata": {
        "id": "Sz07kzBLQ1Ml"
      },
      "source": [
        "bar_fun = function(x, y) {\n",
        "     ggplot(df_3, aes(x = .data[[x]]) ) +\n",
        "     #ggplot(aes(x = ORG_DELIVERY_SERVICE)) +\n",
        "     geom_bar(aes(fill = .data[[x]]), position = \"dodge\") +\n",
        "     facet_wrap(~ .data[[y]]) +\n",
        "     \n",
        "     # bars are too little to add data labels\n",
        "     labs(x = \"DELIVERY SERVICE\", y = \"COUNT\") +\n",
        "     scale_fill_brewer(palette = \"Set2\") +\n",
        "     theme_light() +\n",
        "     theme(axis.text.x = element_text(angle = 90, vjust = 0.5, hjust=1)) +\n",
        "     theme(strip.text = element_text(face = \"bold\", size = rel(1.5)),\n",
        "     strip.background = element_rect(fill = \"lightgrey\", colour = \"black\", size = 1),\n",
        "     axis.title.y = element_blank(),\n",
        "     legend.position = \"none\"\n",
        "  )\n",
        "}"
      ],
      "execution_count": null,
      "outputs": []
    },
    {
      "cell_type": "code",
      "metadata": {
        "id": "5gFrO_HGR6k5",
        "colab": {
          "base_uri": "https://localhost:8080/",
          "height": 437
        },
        "outputId": "b6d1d8f7-8d0a-4cb3-e8fe-92116a151a32"
      },
      "source": [
        "bar_fun(\"ORG_DELIVERY_SERVICE\", \"ORG_CITY\")"
      ],
      "execution_count": null,
      "outputs": [
        {
          "output_type": "display_data",
          "data": {
            "image/png": "[encoded data removed]",
            "text/plain": [
              "plot without title"
            ]
          },
          "metadata": {
            "tags": [],
            "image/png": {
              "width": 420,
              "height": 420
            }
          }
        }
      ]
    },
    {
      "cell_type": "code",
      "metadata": {
        "id": "7ttgNi7xSfI6"
      },
      "source": [
        "# Now using MAP, fixing facet variable to ORG_CITY\n",
        "uni_plots = map(uni_var, ~bar_fun(.x, \"ORG_CITY\") )"
      ],
      "execution_count": null,
      "outputs": []
    },
    {
      "cell_type": "code",
      "metadata": {
        "id": "FCt_SrrNSwZf",
        "colab": {
          "base_uri": "https://localhost:8080/",
          "height": 455
        },
        "outputId": "9dfaf957-5e94-49e9-a2a0-8c2cccf9120d"
      },
      "source": [
        "uni_plots"
      ],
      "execution_count": null,
      "outputs": [
        {
          "output_type": "display_data",
          "data": {
            "text/plain": [
              "$ORG_OUTLETS_COUNT\n"
            ]
          },
          "metadata": {
            "tags": []
          }
        },
        {
          "output_type": "display_data",
          "data": {
            "image/png": "[encoded data removed]",
            "text/plain": [
              "plot without title"
            ]
          },
          "metadata": {
            "tags": [],
            "image/png": {
              "width": 420,
              "height": 420
            }
          }
        }
      ]
    },
    {
      "cell_type": "code",
      "metadata": {
        "id": "9dNYwPqgS853",
        "colab": {
          "base_uri": "https://localhost:8080/",
          "height": 52
        },
        "outputId": "e4d94168-bad8-4f67-8aea-c66d92995080"
      },
      "source": [
        "# printing the plots\n",
        "pdf(\"all_scatterplots.pdf\")\n",
        "uni_plots\n",
        "dev.off()"
      ],
      "execution_count": null,
      "outputs": [
        {
          "output_type": "display_data",
          "data": {
            "text/plain": [
              "$ORG_OUTLETS_COUNT\n"
            ]
          },
          "metadata": {
            "tags": []
          }
        },
        {
          "output_type": "display_data",
          "data": {
            "text/plain": [
              "png \n",
              "  2 "
            ],
            "text/latex": "\\textbf{png:} 2",
            "text/markdown": "**png:** 2",
            "text/html": [
              "<strong>png:</strong> 2"
            ]
          },
          "metadata": {
            "tags": []
          }
        }
      ]
    },
    {
      "cell_type": "markdown",
      "metadata": {
        "id": "mE98PJF88t3o"
      },
      "source": [
        "## NORTH"
      ]
    },
    {
      "cell_type": "code",
      "metadata": {
        "id": "OftvyF4G76_a"
      },
      "source": [
        "# Keep NORTH only"
      ],
      "execution_count": null,
      "outputs": []
    },
    {
      "cell_type": "code",
      "metadata": {
        "id": "VxiNhqlB6Bzq"
      },
      "source": [
        "df_3 %>%\n",
        "  filter(SB_BU == 'Customer Services North') -> df_with_POS_North"
      ],
      "execution_count": null,
      "outputs": []
    },
    {
      "cell_type": "markdown",
      "metadata": {
        "id": "68HPBHZg8QaB"
      },
      "source": [
        "df_with_POS_North hereon"
      ]
    },
    {
      "cell_type": "code",
      "metadata": {
        "id": "9zlpsari7Q3y"
      },
      "source": [
        "nrow(df_with_POS_North)"
      ],
      "execution_count": null,
      "outputs": []
    },
    {
      "cell_type": "markdown",
      "metadata": {
        "id": "kDogHsGo93Rk"
      },
      "source": [
        "## SOUTH"
      ]
    },
    {
      "cell_type": "code",
      "metadata": {
        "id": "oO0LQqo97-iz"
      },
      "source": [
        "# Keep SOUTH only"
      ],
      "execution_count": null,
      "outputs": []
    },
    {
      "cell_type": "code",
      "metadata": {
        "id": "liHQeCMZ7T4v"
      },
      "source": [
        "df_3 %>%\n",
        "  filter(SB_BU == 'Customer Services South') -> df_with_POS_South"
      ],
      "execution_count": null,
      "outputs": []
    },
    {
      "cell_type": "code",
      "metadata": {
        "id": "4sf2gHOw7c6Y"
      },
      "source": [
        "nrow(df_with_POS_South)"
      ],
      "execution_count": null,
      "outputs": []
    },
    {
      "cell_type": "markdown",
      "metadata": {
        "id": "tmXdrbq67igz"
      },
      "source": [
        "# Without POS"
      ]
    },
    {
      "cell_type": "code",
      "metadata": {
        "id": "IdjhE9LK7gUe"
      },
      "source": [
        "# reading in input File\n",
        "input_file_2 = '/content/WITHOUT - Survey Summary Report_ 20201104.xlsx'\n",
        "df_m = read_xlsx(input_file_2)"
      ],
      "execution_count": null,
      "outputs": []
    },
    {
      "cell_type": "code",
      "metadata": {
        "id": "fNbR04Wx72-6"
      },
      "source": [
        "nrow(df_m)"
      ],
      "execution_count": null,
      "outputs": []
    },
    {
      "cell_type": "code",
      "metadata": {
        "id": "vlGEvNNh8Et7"
      },
      "source": [
        "# Exclude rows where User is NOT part of Field Team (such as: Burhan)"
      ],
      "execution_count": null,
      "outputs": []
    },
    {
      "cell_type": "code",
      "metadata": {
        "id": "Ki_nv3cy74pa"
      },
      "source": [
        "df_m %>%\n",
        " filter(BusinessUnit != 'Managment') -> df_100"
      ],
      "execution_count": null,
      "outputs": []
    },
    {
      "cell_type": "code",
      "metadata": {
        "id": "FLlUizHT8LGp"
      },
      "source": [
        "nrow(df_100)"
      ],
      "execution_count": null,
      "outputs": []
    },
    {
      "cell_type": "markdown",
      "metadata": {
        "id": "e6-Ikna0_U37"
      },
      "source": [
        "## Cleaning up the col names"
      ]
    },
    {
      "cell_type": "markdown",
      "metadata": {
        "id": "yJAmfCbA_XiW"
      },
      "source": [
        "#### removing special characters"
      ]
    },
    {
      "cell_type": "code",
      "metadata": {
        "id": "RVJigA4Z_Z8n"
      },
      "source": [
        "#x = df_2\n",
        "y = colnames(df_100) \n",
        "colnames(df_100) = str_replace_all(y, \"[^[A-Za-z0-9]]\", \" \") %>% str_replace_all(.,\"[ ]+\", \" \")\n",
        "colnames(df_100)"
      ],
      "execution_count": null,
      "outputs": []
    },
    {
      "cell_type": "code",
      "metadata": {
        "id": "5wAKXtY4_hMv"
      },
      "source": [
        "# using Janitor to clean up names\n",
        "# https://cran.r-project.org/web/packages/janitor/vignettes/janitor.html#clean-data.frame-names-with-clean_names"
      ],
      "execution_count": null,
      "outputs": []
    },
    {
      "cell_type": "code",
      "metadata": {
        "id": "e6oP87OQ_jwu"
      },
      "source": [
        "df_100 = \n",
        "  df_100 %>% clean_names()"
      ],
      "execution_count": null,
      "outputs": []
    },
    {
      "cell_type": "code",
      "metadata": {
        "id": "vXW1u25p_o-G"
      },
      "source": [
        "colnames(df_100)"
      ],
      "execution_count": null,
      "outputs": []
    },
    {
      "cell_type": "markdown",
      "metadata": {
        "id": "EtVIaFCc_t7U"
      },
      "source": [
        "#### column mapping"
      ]
    },
    {
      "cell_type": "code",
      "metadata": {
        "id": "sKlhnX0E_tNl"
      },
      "source": [
        "#### column mapping"
      ],
      "execution_count": null,
      "outputs": []
    },
    {
      "cell_type": "code",
      "metadata": {
        "id": "h1k04HW0_xUQ"
      },
      "source": [
        "df_101 = df_100 %>% rename(\n",
        "RESP_ID = 'respondent_id',\n",
        "SB_EMP_CODE = 'employee_code',\n",
        "SB_USER_NAME = 'user_name',\n",
        "SB_BU = 'business_unit',\n",
        "SB_DEPT = 'department',\n",
        "ORG_ADDRESS = 'address_of_the_outlet',\n",
        "ORG_CITY = 'city',\n",
        "ORG_POS_BUSINESS_IMPROVEMENT = 'do_you_believe_having_a_pos_will_help_you_improve_business',\n",
        "ORG_INTERNET_ACCESS = 'do_you_have_internet_access_at_your_outlet',\n",
        "ORG_EXPAND_BUSINESS = 'do_you_wish_to_expand_your_business_to_more_outlets',\n",
        "ORG_DELIVERY_SERVICE = 'does_your_outlet_offer_delivery_service',\n",
        "ORG_CUSTOMER_DATA = 'for_which_purposes_do_you_store_customer_data',\n",
        "ORG_EMP_COUNT = 'how_many_employees_do_you_have_in_this_outlet',\n",
        "ORG_INTERNET_DISRUPTION = 'how_much_disruption_in_internet_service_do_you_face',\n",
        "ORG_NEW_POS_PAYMENT_PREF = 'if_you_had_to_pay_for_a_new_pos_which_payment_type_would_you_prefer',\n",
        "ORG_NEW_POS_LANG_PREF = 'if_you_will_ever_have_a_pos_what_language_would_you_like_to_have_it_in',\n",
        "ORG_NAME = 'name_of_the_outlet',\n",
        "ORG_RESP_TENURE = 'number_of_years_you_have_owned_this_organization',\n",
        "ORG_OUTLETS_COUNT = 'please_choose_the_number_of_outlets',\n",
        "ORG_NEW_POS_KIND = 'please_choose_which_kind_of_pos_will_you_prefer',\n",
        "ORG_WILLINGNESS_TO_PAY_AMOUNT = 'please_provide_an_amount_in_pkr_you_are_willing_to_pay_corresponding_to_last_question',\n",
        "SB_OBSERVATION = 'please_state_your_personal_observations_which_you_believe_would_be_interesting_to_share_about_this_interaction',\n",
        "ORG_PICTURE_LINK = 'please_take_a_picture_of_the_outlet_with_it_s_name_visible',\n",
        "ORG_VISITING_CARD = 'please_take_a_picture_of_the_visiting_card',\n",
        "SB_REGION = 'region',\n",
        "RESP_DESIGNATION = 'respondent_s_designation',\n",
        "RESP_NAME = 'respondent_s_name',\n",
        "RESP_PHONE = 'respondent_s_phone_number',\n",
        "ORG_POS_FEATURES = 'what_are_the_most_important_features_in_a_pos_you_may_choose_multiple_options',\n",
        "ORG_NEW_POS_DEVICES = 'what_device_s_will_you_like_to_use_for_accessing_pos_you_may_choose_multiple_options',\n",
        "ORG_TYPE = 'what_kind_of_a_business_are_you',\n",
        "ORG_CURRENT_PAYMENT_OPTIONS = 'what_types_of_payments_do_you_accept_you_may_choose_multiple_options',\n",
        "ORG_DISCOUNTS_OFFERED = 'which_of_the_following_discounts_do_you_offer_to_your_customers',\n",
        "ORG_URDU_FEATURES_EXPECTED = 'which_of_the_following_features_will_you_like_in_urdu_local_language_you_may_choose_multiple_options',\n",
        "ORG_REASON_TO_GET_POS = 'which_of_the_following_can_be_a_reason_to_get_pos_you_may_choose_multiple_options',\n",
        "ORG_REASON_TO_NOT_HAVE_POS = 'why_do_you_not_have_a_pos',\n",
        "ORG_WILLINGNESS_DEMO = 'will_you_be_willing_to_run_a_demo_of_our_pos_at_your_outlet',\n",
        "ORG_WILLINGNESS_FUTURE_CONTACT = 'you_have_been_very_helpful_can_we_contact_you_in_future_for_more_details'\n",
        ")"
      ],
      "execution_count": null,
      "outputs": []
    },
    {
      "cell_type": "markdown",
      "metadata": {
        "id": "2Qr7UcOG-aRP"
      },
      "source": [
        "## NORTH"
      ]
    },
    {
      "cell_type": "code",
      "metadata": {
        "id": "b3qs7rnP8QTc"
      },
      "source": [
        "# Keep NORTH only"
      ],
      "execution_count": null,
      "outputs": []
    },
    {
      "cell_type": "code",
      "metadata": {
        "id": "TzAzSp908M5O"
      },
      "source": [
        "df_101 %>%\n",
        "  filter(SB_BU == 'Customer Services North') -> df_without_POS_North"
      ],
      "execution_count": null,
      "outputs": []
    },
    {
      "cell_type": "code",
      "metadata": {
        "id": "46x6FOgy8cJS"
      },
      "source": [
        "nrow(df_without_POS_North)"
      ],
      "execution_count": null,
      "outputs": []
    },
    {
      "cell_type": "markdown",
      "metadata": {
        "id": "SHJ6N-ZC-eQz"
      },
      "source": [
        "## SOUTH"
      ]
    },
    {
      "cell_type": "code",
      "metadata": {
        "id": "ZowObkWn8Z2q"
      },
      "source": [
        "# Keep SOUTH only"
      ],
      "execution_count": null,
      "outputs": []
    },
    {
      "cell_type": "code",
      "metadata": {
        "id": "4_zlhqZr8XLm"
      },
      "source": [
        "df_101 %>%\n",
        "  filter(SB_BU == 'Customer Services South') -> df_without_POS_South"
      ],
      "execution_count": null,
      "outputs": []
    },
    {
      "cell_type": "code",
      "metadata": {
        "id": "ARn37cMC8hbI"
      },
      "source": [
        "nrow(df_without_POS_South)"
      ],
      "execution_count": null,
      "outputs": []
    },
    {
      "cell_type": "markdown",
      "metadata": {
        "id": "R20m6ELc-Ksu"
      },
      "source": [
        "# Writing Output Files"
      ]
    },
    {
      "cell_type": "markdown",
      "metadata": {
        "id": "V4qjkuyQ89jT"
      },
      "source": [
        "## Write XLSX Files"
      ]
    },
    {
      "cell_type": "code",
      "metadata": {
        "id": "luCabdE0nBTr"
      },
      "source": [
        "# formatting options for Date/Time\n",
        "#https://www.rdocumentation.org/packages/base/versions/3.6.2/topics/strptime"
      ],
      "execution_count": null,
      "outputs": []
    },
    {
      "cell_type": "markdown",
      "metadata": {
        "id": "cF0pBuU8-gxO"
      },
      "source": [
        "## NORTH"
      ]
    },
    {
      "cell_type": "code",
      "metadata": {
        "id": "cnbDR4OO_Bp6"
      },
      "source": [
        "# North Region"
      ],
      "execution_count": null,
      "outputs": []
    },
    {
      "cell_type": "code",
      "metadata": {
        "id": "IcUkGPn1n726"
      },
      "source": [
        "st=format(Sys.Date(), \"%Y%b%d\") # Alphabetic Month Name\n",
        "file_name_north=paste (\"SurveyData-\", st, \"-North\", \".xlsx\", sep=\"\")\n",
        "print(file_name_north)"
      ],
      "execution_count": null,
      "outputs": []
    },
    {
      "cell_type": "code",
      "metadata": {
        "id": "h_aOgfYECVp7"
      },
      "source": [
        "## Create a new workbook\n",
        "wb <- createWorkbook(\"Temp\")\n",
        "## Add 2 worksheets\n",
        "addWorksheet(wb, \"Updated With POS Survey\")\n",
        "addWorksheet(wb, \"Updated Without POS Survey\")\n",
        "writeData(wb, \"Updated With POS Survey\", df_with_POS_North)\n",
        "writeData(wb, \"Updated Without POS Survey\", df_without_POS_North)\n",
        "#saveWorkbook(wb, \"SurveyData-20201028-North.xlsx\", overwrite = TRUE)\n",
        "saveWorkbook(wb, file_name_north, overwrite = TRUE)\n"
      ],
      "execution_count": null,
      "outputs": []
    },
    {
      "cell_type": "markdown",
      "metadata": {
        "id": "smxsWRUF-fqe"
      },
      "source": [
        "## SOUTH"
      ]
    },
    {
      "cell_type": "code",
      "metadata": {
        "id": "dCb73ZFd_O15"
      },
      "source": [
        "# South Region"
      ],
      "execution_count": null,
      "outputs": []
    },
    {
      "cell_type": "code",
      "metadata": {
        "id": "a99HmsrKn_KQ"
      },
      "source": [
        "st=format(Sys.Date(), \"%Y%b%d\") # Alphabetic Month Name\n",
        "file_name_south=paste (\"SurveyData-\", st, \"-South\", \".xlsx\", sep=\"\")\n",
        "print(file_name_south)"
      ],
      "execution_count": null,
      "outputs": []
    },
    {
      "cell_type": "code",
      "metadata": {
        "id": "Ozg-RnFkEHZs"
      },
      "source": [
        "## Create a new workbook\n",
        "wb <- createWorkbook(\"Temp\")\n",
        "## Add 2 worksheets\n",
        "addWorksheet(wb, \"Updated With POS Survey\")\n",
        "addWorksheet(wb, \"Updated Without POS Survey\")\n",
        "writeData(wb, \"Updated With POS Survey\", df_with_POS_South)\n",
        "writeData(wb, \"Updated Without POS Survey\", df_without_POS_South)\n",
        "#saveWorkbook(wb, \"SurveyData-20201028-South.xlsx\", overwrite = TRUE)\n",
        "saveWorkbook(wb, file_name_south, overwrite = TRUE)"
      ],
      "execution_count": null,
      "outputs": []
    },
    {
      "cell_type": "markdown",
      "metadata": {
        "id": "-j0SjY2GIuEi"
      },
      "source": [
        "## Write Summary Stats"
      ]
    },
    {
      "cell_type": "code",
      "metadata": {
        "id": "-bvyEt8P_czX"
      },
      "source": [
        "Category = c('With POS', 'Without POS','With POS', 'Without POS')"
      ],
      "execution_count": null,
      "outputs": []
    },
    {
      "cell_type": "code",
      "metadata": {
        "id": "5N56zFJuIyKi"
      },
      "source": [
        "Region = c('North','North', 'South','South')"
      ],
      "execution_count": null,
      "outputs": []
    },
    {
      "cell_type": "code",
      "metadata": {
        "id": "ye-GYR-cI2bg"
      },
      "source": [
        "Target = c(1000,1000,1000,1000)"
      ],
      "execution_count": null,
      "outputs": []
    },
    {
      "cell_type": "code",
      "metadata": {
        "id": "2eSZi3MwI3qt"
      },
      "source": [
        "Current = c(nrow(df_with_POS_North), nrow(df_without_POS_North), nrow(df_with_POS_South), nrow(df_without_POS_South))"
      ],
      "execution_count": null,
      "outputs": []
    },
    {
      "cell_type": "code",
      "metadata": {
        "id": "Ok0gLcWUI5LY"
      },
      "source": [
        "df_status = tibble(Region=Region, Category=Category, Target=Target,Current=Current)"
      ],
      "execution_count": null,
      "outputs": []
    },
    {
      "cell_type": "code",
      "metadata": {
        "id": "0l3HoC4TNwgE"
      },
      "source": [
        "# Time Zones\n",
        "# https://stat.ethz.ch/R-manual/R-devel/library/base/html/timezones.html"
      ],
      "execution_count": null,
      "outputs": []
    },
    {
      "cell_type": "code",
      "metadata": {
        "id": "zpjKYjHfO3Kw"
      },
      "source": [
        "Sys.timezone()"
      ],
      "execution_count": null,
      "outputs": []
    },
    {
      "cell_type": "code",
      "metadata": {
        "id": "wHmkxOkIPCLF"
      },
      "source": [
        "#str(OlsonNames()) ## typically close to 600 hundred names,\n",
        "## typically some acronyms/aliases such as \"UTC\", \"NZ\", \"MET\", \"Eire\", ..., but\n",
        "## mostly pairs (and triplets) such as \"Pacific/Auckland\"\n",
        "#table(sl <- grepl(\"/\", OlsonNames()))\n",
        "#OlsonNames()[ !sl ] # the simple ones\n",
        "#head(Osl <- strsplit(OlsonNames()[sl], \"/\"))\n",
        "#(tOS1 <- table(vapply(Osl, `[[`, \"\", 1))) # Continents, countries, ...\n",
        "#table(lengths(Osl))# most are pairs, some triplets\n",
        "#str(Osl[lengths(Osl) >= 3])# \"America\" South and North ..."
      ],
      "execution_count": null,
      "outputs": []
    },
    {
      "cell_type": "code",
      "metadata": {
        "id": "lcQK7BOiMHG_"
      },
      "source": [
        "## locale-specific version of date()\n",
        "#format(Sys.time(), \"%a %b %d %H %M\")\n",
        "\n",
        "st=format(Sys.time(), \"%d%b%Y-%H:%M:%S\", tz = \"UTC+05:00\") # Alphabetic Month Name\n",
        "file_name_status=paste (\"Status-\", st, \".csv\", sep=\"\")\n",
        "print(file_name_status)"
      ],
      "execution_count": null,
      "outputs": []
    },
    {
      "cell_type": "code",
      "metadata": {
        "id": "ijd1BY1-I6q4"
      },
      "source": [
        "write_csv(df_status,file_name_status)"
      ],
      "execution_count": null,
      "outputs": []
    },
    {
      "cell_type": "code",
      "metadata": {
        "id": "5YO30B5FL6Eb"
      },
      "source": [
        ""
      ],
      "execution_count": null,
      "outputs": []
    }
  ]
}