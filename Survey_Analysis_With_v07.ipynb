{
  "nbformat": 4,
  "nbformat_minor": 0,
  "metadata": {
    "colab": {
      "name": "Survey Analysis-With v07.ipynb",
      "provenance": [],
      "collapsed_sections": [
        "aSsGw3ZJ4QPN",
        "T8_teX5y4IUs",
        "X0soX4yA4eHM",
        "Je5p-3eH4keF",
        "l948xQo-RAm-",
        "NrkfKrt6WLOz",
        "vwYH19eoWqJ5"
      ],
      "include_colab_link": true
    },
    "kernelspec": {
      "name": "ir",
      "display_name": "R"
    }
  },
  "cells": [
    {
      "cell_type": "markdown",
      "metadata": {
        "id": "view-in-github",
        "colab_type": "text"
      },
      "source": [
        "<a href=\"https://colab.research.google.com/github/patternproject/r.sb.pos.2/blob/main/Survey_Analysis_With_v07.ipynb\" target=\"_parent\"><img src=\"https://colab.research.google.com/assets/colab-badge.svg\" alt=\"Open In Colab\"/></a>"
      ]
    },
    {
      "cell_type": "markdown",
      "metadata": {
        "id": "aSsGw3ZJ4QPN"
      },
      "source": [
        "#READ ME"
      ]
    },
    {
      "cell_type": "markdown",
      "metadata": {
        "id": "T8_teX5y4IUs"
      },
      "source": [
        "##Analysis of Survey Data for POS\n",
        "##Iteration 2\n",
        "##Using R\n",
        "\n",
        "#### Renaming it from:\n",
        "#### Separate_NorthSouth_Data_v12.ipynb\n",
        "#### to\n",
        "#### Survey Data Analysis v01.ipnyb"
      ]
    },
    {
      "cell_type": "markdown",
      "metadata": {
        "id": "sm8gm3xu4Sl9"
      },
      "source": [
        "This file takes in \"Extract of Daily POS Data\" in excel format and outputs two files, one for North and other for South region"
      ]
    },
    {
      "cell_type": "markdown",
      "metadata": {
        "id": "X0soX4yA4eHM"
      },
      "source": [
        "#History\n",
        "\n",
        "v1: First Iteration\n",
        "\n",
        "v2: First run of North and South completed\n",
        "\n",
        "v3: Changed write xlsx to incoporate multiple sheets. Added System Date to Output File Name\n",
        "\n",
        "v4: Adding create \"survey summary\" section from \"Survey-Summary\" colab \n",
        "\n",
        "v5: Continuation of v4. Fixing Special characters in Col Names\n",
        "\n",
        "v6: Continuation of v5. Restructured Code\n",
        "\n",
        "v7: Fixing Col Names for Without POS\n",
        "\n",
        "v8: Adding Basic Graphs\n",
        "\n",
        "v9: Automate UniVariate Analysis using PURRR\n",
        "\n",
        "v10: Continuation of v9\n",
        "\n",
        "v11: Continuation of v10. Moving from count to proportions\n",
        "\n",
        "v12: Continuation of v11\n",
        "\n",
        "-------------------------------\n",
        "Renamed as: Survey Data Analysis 01. ipnyb\n",
        "-------------------------------\n",
        "\n",
        "v01: No change\n",
        "\n",
        "v02: Removed code writing output/sample data\n",
        "\n",
        "v03: Fixing the TODO part for Uni-Var analysis\n",
        "\n",
        "v04: Pended the TODO part, replicating the Uni-Var analysis done so far on Without POS, on With POS data\n",
        "\n",
        "Clean data has been dumped in CSV at end of v03, use it to generate it again, if required.\n",
        "\n",
        "This file replaces the analysis on With POS, instead of copy-pasting to reduce the file size\n",
        "\n",
        "v05: Loading the data cleaned in v03 and v04, removing all the cleanup code\n",
        "\n",
        "v06: setting the order of factor levels for better plots\n",
        "\n",
        "v07: v06 Contd\n",
        "\n",
        "Renaming it as: Survey Analysis-With v07"
      ]
    },
    {
      "cell_type": "markdown",
      "metadata": {
        "id": "Je5p-3eH4keF"
      },
      "source": [
        "## Setup"
      ]
    },
    {
      "cell_type": "code",
      "metadata": {
        "id": "njNtW-Qj4C5W"
      },
      "source": [
        "# Library\n",
        "library(ggplot2)\n",
        "library(tidyverse)\n",
        "#install.packages(\"readxl\")\n",
        "library(readxl)"
      ],
      "execution_count": 336,
      "outputs": []
    },
    {
      "cell_type": "code",
      "metadata": {
        "id": "VwTgmRBK3Zmi"
      },
      "source": [
        "# conditional install - Janitor\n",
        "list.of.packages <- c(\"janitor\")\n",
        "new.packages <- list.of.packages[!(list.of.packages %in% installed.packages()[,\"Package\"])]\n",
        "if(length(new.packages)) install.packages(new.packages)\n",
        "\n",
        "library(janitor)"
      ],
      "execution_count": 337,
      "outputs": []
    },
    {
      "cell_type": "code",
      "metadata": {
        "id": "BoLExd2j-VGL"
      },
      "source": [
        "# conditional install - openxlsx\n",
        "\n",
        "list.of.packages <- c(\"openxlsx\")\n",
        "new.packages <- list.of.packages[!(list.of.packages %in% installed.packages()[,\"Package\"])]\n",
        "if(length(new.packages)) install.packages(new.packages)\n",
        "\n",
        "library(openxlsx)"
      ],
      "execution_count": 338,
      "outputs": []
    },
    {
      "cell_type": "code",
      "metadata": {
        "id": "Mx0MPSSqgsI1"
      },
      "source": [
        "# explore later\n",
        "# https://slcladal.github.io/surveys.html\n",
        "\n",
        "# install libraries\n",
        "#install.packages(c(\"knitr\", \"lattice\", \"tidyverse\", \"likert\", \n",
        "#                   \"MASS\", \"psych\", \"viridis\", \"ggplot2\", \n",
        "#                   \"userfriendlyscience\"))"
      ],
      "execution_count": 339,
      "outputs": []
    },
    {
      "cell_type": "markdown",
      "metadata": {
        "id": "o4CddV1NlU7X"
      },
      "source": [
        "Explore later:\n",
        "http://gdfe.co/srvyr/articles/srvyr-vs-survey.html"
      ]
    },
    {
      "cell_type": "markdown",
      "metadata": {
        "id": "8drHIPzVLgew"
      },
      "source": [
        "# Setting Input Files"
      ]
    },
    {
      "cell_type": "code",
      "metadata": {
        "id": "e3dG9JA8LjKK"
      },
      "source": [
        "## With POS File\n",
        "\n",
        "#input_file = '/content/With - Survey Summary Report_ 20201113.xlsx'\n",
        "with_pos_file = '/content/SurveyData-withPOS-2021May10.xlsx'"
      ],
      "execution_count": 340,
      "outputs": []
    },
    {
      "cell_type": "code",
      "metadata": {
        "id": "DNk6vxBsLloy"
      },
      "source": [
        "## Without POS File\n",
        "\n",
        "#input_file_2 = '/content/Without - Survey Summary Report_ 20201113.xlsx'\n",
        "without_pos_file = '/content/SurveyData-withoutPOS-2021May10.xlsx'"
      ],
      "execution_count": 341,
      "outputs": []
    },
    {
      "cell_type": "markdown",
      "metadata": {
        "id": "B_k1vnSQJrGi"
      },
      "source": [
        "# Input Data"
      ]
    },
    {
      "cell_type": "code",
      "metadata": {
        "id": "E9ZMZ_vR4jwD"
      },
      "source": [
        "# reading in input File\n",
        "\n",
        "df_with = read_xlsx(with_pos_file, sheet=1)\n",
        "df_without = read_xlsx(without_pos_file, sheet=1)"
      ],
      "execution_count": 342,
      "outputs": []
    },
    {
      "cell_type": "code",
      "metadata": {
        "id": "k3-yLoNj41Bk",
        "colab": {
          "base_uri": "https://localhost:8080/"
        },
        "outputId": "427d772c-1e71-4faf-8240-dc6ad0377ab0"
      },
      "source": [
        "# printing DF\n",
        "print(as_tibble(df_with))"
      ],
      "execution_count": 343,
      "outputs": [
        {
          "output_type": "stream",
          "text": [
            "\u001b[90m# A tibble: 1,210 x 39\u001b[39m\n",
            "   date                RESP_ID SB_EMP_CODE SB_USER_NAME   SB_BU      SB_DEPT    \n",
            "   \u001b[3m\u001b[90m<dttm>\u001b[39m\u001b[23m                \u001b[3m\u001b[90m<dbl>\u001b[39m\u001b[23m       \u001b[3m\u001b[90m<dbl>\u001b[39m\u001b[23m \u001b[3m\u001b[90m<chr>\u001b[39m\u001b[23m          \u001b[3m\u001b[90m<chr>\u001b[39m\u001b[23m      \u001b[3m\u001b[90m<chr>\u001b[39m\u001b[23m      \n",
            "\u001b[90m 1\u001b[39m 2020-10-25 \u001b[90m00:00:00\u001b[39m    \u001b[4m6\u001b[24m881       \u001b[4m3\u001b[24m\u001b[4m0\u001b[24m919 Farasat Ullah… Customer … Operations…\n",
            "\u001b[90m 2\u001b[39m 2020-10-25 \u001b[90m00:00:00\u001b[39m    \u001b[4m6\u001b[24m883       \u001b[4m3\u001b[24m\u001b[4m3\u001b[24m409 Muhammad Ahmar Customer … Operations…\n",
            "\u001b[90m 3\u001b[39m 2020-10-25 \u001b[90m00:00:00\u001b[39m    \u001b[4m6\u001b[24m884       \u001b[4m3\u001b[24m\u001b[4m3\u001b[24m409 Muhammad Ahmar Customer … Operations…\n",
            "\u001b[90m 4\u001b[39m 2020-10-25 \u001b[90m00:00:00\u001b[39m    \u001b[4m6\u001b[24m885       \u001b[4m3\u001b[24m\u001b[4m3\u001b[24m409 Muhammad Ahmar Customer … Operations…\n",
            "\u001b[90m 5\u001b[39m 2020-10-25 \u001b[90m00:00:00\u001b[39m    \u001b[4m6\u001b[24m886       \u001b[4m3\u001b[24m\u001b[4m3\u001b[24m409 Muhammad Ahmar Customer … Operations…\n",
            "\u001b[90m 6\u001b[39m 2020-10-25 \u001b[90m00:00:00\u001b[39m    \u001b[4m6\u001b[24m887       \u001b[4m3\u001b[24m\u001b[4m3\u001b[24m409 Muhammad Ahmar Customer … Operations…\n",
            "\u001b[90m 7\u001b[39m 2020-10-25 \u001b[90m00:00:00\u001b[39m    \u001b[4m6\u001b[24m888       \u001b[4m3\u001b[24m\u001b[4m3\u001b[24m409 Muhammad Ahmar Customer … Operations…\n",
            "\u001b[90m 8\u001b[39m 2020-10-25 \u001b[90m00:00:00\u001b[39m    \u001b[4m6\u001b[24m890       \u001b[4m3\u001b[24m\u001b[4m3\u001b[24m409 Muhammad Ahmar Customer … Operations…\n",
            "\u001b[90m 9\u001b[39m 2020-10-25 \u001b[90m00:00:00\u001b[39m    \u001b[4m6\u001b[24m891       \u001b[4m3\u001b[24m\u001b[4m0\u001b[24m859 Naveed Arshad  Customer … Operations…\n",
            "\u001b[90m10\u001b[39m 2020-10-25 \u001b[90m00:00:00\u001b[39m    \u001b[4m6\u001b[24m895       \u001b[4m3\u001b[24m\u001b[4m0\u001b[24m859 Naveed Arshad  Customer … Operations…\n",
            "\u001b[90m# … with 1,200 more rows, and 33 more variables: ORG_ADDRESS <chr>,\u001b[39m\n",
            "\u001b[90m#   ORG_CITY <chr>, ORG_POS_BUSINESS_IMPROVEMENT <chr>,\u001b[39m\n",
            "\u001b[90m#   ORG_INTERNET_ACCESS <chr>, ORG_EXPAND_BUSINESS <chr>,\u001b[39m\n",
            "\u001b[90m#   ORG_DELIVERY_SERVICE <chr>, ORG_CUSTOMER_DATA <chr>, ORG_EMP_COUNT <chr>,\u001b[39m\n",
            "\u001b[90m#   ORG_INTERNET_DISRUPTION <chr>, ORG_NEW_POS_PAYMENT_PREF <chr>,\u001b[39m\n",
            "\u001b[90m#   ORG_NEW_POS_LANG_PREF <chr>, ORG_NAME <chr>, ORG_RESP_TENURE <chr>,\u001b[39m\n",
            "\u001b[90m#   ORG_OUTLETS_COUNT <chr>, ORG_NEW_POS_KIND <chr>,\u001b[39m\n",
            "\u001b[90m#   ORG_WILLINGNESS_TO_PAY_AMOUNT <chr>, SB_OBSERVATION <chr>,\u001b[39m\n",
            "\u001b[90m#   ORG_PICTURE_LINK <chr>, ORG_VISITING_CARD <chr>, SB_REGION <chr>,\u001b[39m\n",
            "\u001b[90m#   RESP_DESIGNATION <chr>, RESP_NAME <chr>, RESP_PHONE <chr>,\u001b[39m\n",
            "\u001b[90m#   ORG_POS_FEATURES <chr>, ORG_NEW_POS_DEVICES <chr>, ORG_TYPE <chr>,\u001b[39m\n",
            "\u001b[90m#   ORG_CURRENT_PAYMENT_OPTIONS <chr>, ORG_DISCOUNTS_OFFERED <chr>,\u001b[39m\n",
            "\u001b[90m#   ORG_URDU_FEATURES_EXPECTED <chr>, ORG_REASON_TO_GET_POS <chr>,\u001b[39m\n",
            "\u001b[90m#   ORG_REASON_TO_NOT_HAVE_POS <chr>, ORG_WILLINGNESS_DEMO <chr>,\u001b[39m\n",
            "\u001b[90m#   ORG_WILLINGNESS_FUTURE_CONTACT <chr>\u001b[39m\n"
          ],
          "name": "stdout"
        }
      ]
    },
    {
      "cell_type": "code",
      "metadata": {
        "id": "60xEIgpi5KWK",
        "colab": {
          "base_uri": "https://localhost:8080/"
        },
        "outputId": "6283076a-f9b6-4f3e-82f5-1dc582867674"
      },
      "source": [
        "## inspect the data\n",
        "str(df_with)"
      ],
      "execution_count": 344,
      "outputs": [
        {
          "output_type": "stream",
          "text": [
            "tibble[,39] [1,210 × 39] (S3: tbl_df/tbl/data.frame)\n",
            " $ date                          : POSIXct[1:1210], format: \"2020-10-25\" \"2020-10-25\" ...\n",
            " $ RESP_ID                       : num [1:1210] 6881 6883 6884 6885 6886 ...\n",
            " $ SB_EMP_CODE                   : num [1:1210] 30919 33409 33409 33409 33409 ...\n",
            " $ SB_USER_NAME                  : chr [1:1210] \"Farasat Ullah Shah\" \"Muhammad Ahmar\" \"Muhammad Ahmar\" \"Muhammad Ahmar\" ...\n",
            " $ SB_BU                         : chr [1:1210] \"Customer Services North\" \"Customer Services North\" \"Customer Services North\" \"Customer Services North\" ...\n",
            " $ SB_DEPT                       : chr [1:1210] \"Operations - CS North\" \"Operations - CS North\" \"Operations - CS North\" \"Operations - CS North\" ...\n",
            " $ ORG_ADDRESS                   : chr [1:1210] \"Barkat Plaza Bank Road\" \"Near mcc karachi company g 9 markez\" \"Mughal plaza Benazir chock tarnol isb\" \"Benazir chock azam colony islamabad\" ...\n",
            " $ ORG_CITY                      : chr [1:1210] \"Rawalpindi\" \"Islamabad\" \"Islamabad\" \"Islamabad\" ...\n",
            " $ ORG_POS_BUSINESS_IMPROVEMENT  : chr [1:1210] \"Yes\" \"Yes\" \"Yes\" \"Yes\" ...\n",
            " $ ORG_INTERNET_ACCESS           : chr [1:1210] \"No access\" \"I use my mobile as required\" \"I use my mobile as required\" \"No access\" ...\n",
            " $ ORG_EXPAND_BUSINESS           : chr [1:1210] \"No\" \"Yes, short-term (upto 12 months)\" \"Yes, immediately (upto 6 months)\" \"Yes, long-term (12+ months)\" ...\n",
            " $ ORG_DELIVERY_SERVICE          : chr [1:1210] \"No\" \"Thinking about it\" \"Yes\" \"No\" ...\n",
            " $ ORG_CUSTOMER_DATA             : chr [1:1210] \"Do not Store\" \"Do not Store, Use for discounts (repeated purchases)\" \"Use for discounts (repeated purchases)\" \"Use for delivery (sending ordered items), Use for discounts (repeated purchases)\" ...\n",
            " $ ORG_EMP_COUNT                 : chr [1:1210] \"2\" \"3\" \"2\" \"1\" ...\n",
            " $ ORG_INTERNET_DISRUPTION       : chr [1:1210] \"-\" \"Little\" \"Never\" \"-\" ...\n",
            " $ ORG_NEW_POS_PAYMENT_PREF      : chr [1:1210] \"One Time Payment\" \"Recurring Payment - Every 12 Months\" \"Recurring Payment - Every Month\" \"Recurring Payment - Every 3 Months\" ...\n",
            " $ ORG_NEW_POS_LANG_PREF         : chr [1:1210] \"English and Urdu\" \"English and Urdu\" \"English\" \"English and Urdu\" ...\n",
            " $ ORG_NAME                      : chr [1:1210] \"New Top Men Suiting\" \"Forever garments\" \"Tameer hardware\" \"Sher ali gen store\" ...\n",
            " $ ORG_RESP_TENURE               : chr [1:1210] \"27\" \"2\" \"1\" \"20\" ...\n",
            " $ ORG_OUTLETS_COUNT             : chr [1:1210] \"1\" \"1\" \"1\" \"1\" ...\n",
            " $ ORG_NEW_POS_KIND              : chr [1:1210] \"Stand-Alone: does not require internet connection\" \"Stand-Alone: does not require internet connection\" \"Web-Based: requires internet connection\" \"Stand-Alone: does not require internet connection\" ...\n",
            " $ ORG_WILLINGNESS_TO_PAY_AMOUNT : chr [1:1210] \"1000\" \"10000\" \"1000\" \"1000\" ...\n",
            " $ SB_OBSERVATION                : chr [1:1210] \"Owner does not want to spent more than1000. As per observation he is not willing to spend on such system\" \"This could be helpful\" \"Very good\" \"Good\" ...\n",
            " $ ORG_PICTURE_LINK              : chr [1:1210] \"-\" \"-\" \"-\" \"-\" ...\n",
            " $ ORG_VISITING_CARD             : chr [1:1210] \"-\" \"-\" \"-\" \"-\" ...\n",
            " $ SB_REGION                     : chr [1:1210] \"Saddar\" \"G-9\" \"Tarnol\" \"Tarnol\" ...\n",
            " $ RESP_DESIGNATION              : chr [1:1210] \"Owner\" \"Owner\" \"Owner\" \"Ower\" ...\n",
            " $ RESP_NAME                     : chr [1:1210] \"Hasnain\" \"Kashif\" \"Shah raees\" \"Sher ali\" ...\n",
            " $ RESP_PHONE                    : chr [1:1210] \"3335240955\" \"3455323910\" \"3335163133\" \"3070510374\" ...\n",
            " $ ORG_POS_FEATURES              : chr [1:1210] \"Remote Management/Centralized Management (Manage your business remotely), Reports (Get sales and other insights\"| __truncated__ \"Cash Reconciliation (Balance daily sales and returns for cash and credit)\" \"Cash Reconciliation (Balance daily sales and returns for cash and credit), Remote Management/Centralized Manage\"| __truncated__ \"Cash Reconciliation (Balance daily sales and returns for cash and credit)\" ...\n",
            " $ ORG_NEW_POS_DEVICES           : chr [1:1210] \"Mobile Phone\" \"Mobile Phone, PC\" \"Laptop, Mobile Phone, PC, Tablet\" \"Laptop, PC, Tablet\" ...\n",
            " $ ORG_TYPE                      : chr [1:1210] \"Clothing items\" \"Clothing items\" \"Hardware / Paints\" \"Groceries\" ...\n",
            " $ ORG_CURRENT_PAYMENT_OPTIONS   : chr [1:1210] \"Cash\" \"Cash\" \"Cash\" \"Cash\" ...\n",
            " $ ORG_DISCOUNTS_OFFERED         : chr [1:1210] \"Customer Discount (Based on customer relationship)\" \"Customer Discount (Based on customer relationship), Product Discount (Lower price than market)\" \"Bulk Discount (Based on bill amount), Customer Discount (Based on customer relationship)\" \"Customer Discount (Based on customer relationship), Product Discount (Lower price than market)\" ...\n",
            " $ ORG_URDU_FEATURES_EXPECTED    : chr [1:1210] \"Others (Please specify) (Everything in both languages )\" \"Display Screen, Slips or Receipts\" \"Display Screen, Slips or Receipts\" \"Display Screen, Slips or Receipts\" ...\n",
            " $ ORG_REASON_TO_GET_POS         : chr [1:1210] \"Other (Please specify) (Customer Data, daily sales report)\" \"Features, Price\" \"Customization (as per your needs), Features, Price\" \"Customization (as per your needs), Price\" ...\n",
            " $ ORG_REASON_TO_NOT_HAVE_POS    : chr [1:1210] \"I am happy with how my business is managed currently\" \"I am happy with how my business is managed currently\" \"I am happy with how my business is managed currently\" \"I am happy with how my business is managed currently\" ...\n",
            " $ ORG_WILLINGNESS_DEMO          : chr [1:1210] \"No\" \"Yes\" \"Yes\" \"No\" ...\n",
            " $ ORG_WILLINGNESS_FUTURE_CONTACT: chr [1:1210] \"Yes\" \"Yes\" \"Yes\" \"Yes\" ...\n"
          ],
          "name": "stdout"
        }
      ]
    },
    {
      "cell_type": "code",
      "metadata": {
        "id": "mpJ1j9HZ-lzS"
      },
      "source": [
        "# remove non-useful columns\n",
        "df_with %>% select(!starts_with(\"SB\")) -> df_with_1\n",
        "\n",
        "df_with_1 %>% select(!c(date, ORG_PICTURE_LINK,ORG_VISITING_CARD, RESP_NAME , RESP_PHONE )) -> df_with_1\n",
        "\n"
      ],
      "execution_count": 345,
      "outputs": []
    },
    {
      "cell_type": "code",
      "metadata": {
        "colab": {
          "base_uri": "https://localhost:8080/"
        },
        "id": "2ezBy6SLACyD",
        "outputId": "51b2a780-0e1a-4086-8234-6b38b4522b92"
      },
      "source": [
        "df_with_1 %>% glimpse()"
      ],
      "execution_count": 346,
      "outputs": [
        {
          "output_type": "stream",
          "text": [
            "Rows: 1,210\n",
            "Columns: 28\n",
            "$ RESP_ID                        \u001b[3m\u001b[90m<dbl>\u001b[39m\u001b[23m 6881, 6883, 6884, 6885, 6886, 6887, 688…\n",
            "$ ORG_ADDRESS                    \u001b[3m\u001b[90m<chr>\u001b[39m\u001b[23m \"Barkat Plaza Bank Road\", \"Near mcc kar…\n",
            "$ ORG_CITY                       \u001b[3m\u001b[90m<chr>\u001b[39m\u001b[23m \"Rawalpindi\", \"Islamabad\", \"Islamabad\",…\n",
            "$ ORG_POS_BUSINESS_IMPROVEMENT   \u001b[3m\u001b[90m<chr>\u001b[39m\u001b[23m \"Yes\", \"Yes\", \"Yes\", \"Yes\", \"Yes\", \"Yes…\n",
            "$ ORG_INTERNET_ACCESS            \u001b[3m\u001b[90m<chr>\u001b[39m\u001b[23m \"No access\", \"I use my mobile as requir…\n",
            "$ ORG_EXPAND_BUSINESS            \u001b[3m\u001b[90m<chr>\u001b[39m\u001b[23m \"No\", \"Yes, short-term (upto 12 months)…\n",
            "$ ORG_DELIVERY_SERVICE           \u001b[3m\u001b[90m<chr>\u001b[39m\u001b[23m \"No\", \"Thinking about it\", \"Yes\", \"No\",…\n",
            "$ ORG_CUSTOMER_DATA              \u001b[3m\u001b[90m<chr>\u001b[39m\u001b[23m \"Do not Store\", \"Do not Store, Use for …\n",
            "$ ORG_EMP_COUNT                  \u001b[3m\u001b[90m<chr>\u001b[39m\u001b[23m \"2\", \"3\", \"2\", \"1\", \"1\", \"2\", \"1\", \"1\",…\n",
            "$ ORG_INTERNET_DISRUPTION        \u001b[3m\u001b[90m<chr>\u001b[39m\u001b[23m \"-\", \"Little\", \"Never\", \"-\", \"Little\", …\n",
            "$ ORG_NEW_POS_PAYMENT_PREF       \u001b[3m\u001b[90m<chr>\u001b[39m\u001b[23m \"One Time Payment\", \"Recurring Payment …\n",
            "$ ORG_NEW_POS_LANG_PREF          \u001b[3m\u001b[90m<chr>\u001b[39m\u001b[23m \"English and Urdu\", \"English and Urdu\",…\n",
            "$ ORG_NAME                       \u001b[3m\u001b[90m<chr>\u001b[39m\u001b[23m \"New Top Men Suiting\", \"Forever garment…\n",
            "$ ORG_RESP_TENURE                \u001b[3m\u001b[90m<chr>\u001b[39m\u001b[23m \"27\", \"2\", \"1\", \"20\", \"2\", \"1\", \"1\", \"2…\n",
            "$ ORG_OUTLETS_COUNT              \u001b[3m\u001b[90m<chr>\u001b[39m\u001b[23m \"1\", \"1\", \"1\", \"1\", \"1\", \"1\", \"1\", \"1\",…\n",
            "$ ORG_NEW_POS_KIND               \u001b[3m\u001b[90m<chr>\u001b[39m\u001b[23m \"Stand-Alone: does not require internet…\n",
            "$ ORG_WILLINGNESS_TO_PAY_AMOUNT  \u001b[3m\u001b[90m<chr>\u001b[39m\u001b[23m \"1000\", \"10000\", \"1000\", \"1000\", \"1000\"…\n",
            "$ RESP_DESIGNATION               \u001b[3m\u001b[90m<chr>\u001b[39m\u001b[23m \"Owner\", \"Owner\", \"Owner\", \"Ower\", \"Own…\n",
            "$ ORG_POS_FEATURES               \u001b[3m\u001b[90m<chr>\u001b[39m\u001b[23m \"Remote Management/Centralized Manageme…\n",
            "$ ORG_NEW_POS_DEVICES            \u001b[3m\u001b[90m<chr>\u001b[39m\u001b[23m \"Mobile Phone\", \"Mobile Phone, PC\", \"La…\n",
            "$ ORG_TYPE                       \u001b[3m\u001b[90m<chr>\u001b[39m\u001b[23m \"Clothing items\", \"Clothing items\", \"Ha…\n",
            "$ ORG_CURRENT_PAYMENT_OPTIONS    \u001b[3m\u001b[90m<chr>\u001b[39m\u001b[23m \"Cash\", \"Cash\", \"Cash\", \"Cash\", \"Cash\",…\n",
            "$ ORG_DISCOUNTS_OFFERED          \u001b[3m\u001b[90m<chr>\u001b[39m\u001b[23m \"Customer Discount (Based on customer r…\n",
            "$ ORG_URDU_FEATURES_EXPECTED     \u001b[3m\u001b[90m<chr>\u001b[39m\u001b[23m \"Others (Please specify) (Everything in…\n",
            "$ ORG_REASON_TO_GET_POS          \u001b[3m\u001b[90m<chr>\u001b[39m\u001b[23m \"Other (Please specify) (Customer Data,…\n",
            "$ ORG_REASON_TO_NOT_HAVE_POS     \u001b[3m\u001b[90m<chr>\u001b[39m\u001b[23m \"I am happy with how my business is man…\n",
            "$ ORG_WILLINGNESS_DEMO           \u001b[3m\u001b[90m<chr>\u001b[39m\u001b[23m \"No\", \"Yes\", \"Yes\", \"No\", \"No\", \"Yes\", …\n",
            "$ ORG_WILLINGNESS_FUTURE_CONTACT \u001b[3m\u001b[90m<chr>\u001b[39m\u001b[23m \"Yes\", \"Yes\", \"Yes\", \"Yes\", \"Yes\", \"Yes…\n"
          ],
          "name": "stdout"
        }
      ]
    },
    {
      "cell_type": "markdown",
      "metadata": {
        "id": "bMYzieXM86WU"
      },
      "source": [
        "## Multiple Choice Answers"
      ]
    },
    {
      "cell_type": "markdown",
      "metadata": {
        "id": "fVasTkaaOUwc"
      },
      "source": [
        "1. Fixing Garbage Values\n",
        "\n",
        "##### 1.1. ORG_POS_BUSINESS_IMPROVEMENT"
      ]
    },
    {
      "cell_type": "markdown",
      "metadata": {
        "id": "vrLKL8h0CnpX"
      },
      "source": [
        "Fancy Frequency Tables\n",
        "\n",
        "https://cran.r-project.org/web/packages/janitor/vignettes/tabyls.html"
      ]
    },
    {
      "cell_type": "code",
      "metadata": {
        "colab": {
          "base_uri": "https://localhost:8080/",
          "height": 220
        },
        "id": "paFyh5BvBibb",
        "outputId": "9680d688-4423-4015-c476-4d813312438f"
      },
      "source": [
        "df_with_1 %>% tabyl(ORG_POS_BUSINESS_IMPROVEMENT)"
      ],
      "execution_count": 347,
      "outputs": [
        {
          "output_type": "display_data",
          "data": {
            "text/plain": [
              "  ORG_POS_BUSINESS_IMPROVEMENT n   percent     \n",
              "1 -                              1 0.0008264463\n",
              "2 No                           836 0.6909090909\n",
              "3 No, Yes                        6 0.0049586777\n",
              "4 Yes                          367 0.3033057851"
            ],
            "text/latex": "A tabyl: 4 × 3\n\\begin{tabular}{lll}\n ORG\\_POS\\_BUSINESS\\_IMPROVEMENT & n & percent\\\\\n <chr> & <dbl> & <dbl>\\\\\n\\hline\n\t -       &   1 & 0.0008264463\\\\\n\t No      & 836 & 0.6909090909\\\\\n\t No, Yes &   6 & 0.0049586777\\\\\n\t Yes     & 367 & 0.3033057851\\\\\n\\end{tabular}\n",
            "text/markdown": "\nA tabyl: 4 × 3\n\n| ORG_POS_BUSINESS_IMPROVEMENT &lt;chr&gt; | n &lt;dbl&gt; | percent &lt;dbl&gt; |\n|---|---|---|\n| -       |   1 | 0.0008264463 |\n| No      | 836 | 0.6909090909 |\n| No, Yes |   6 | 0.0049586777 |\n| Yes     | 367 | 0.3033057851 |\n\n",
            "text/html": [
              "<table class=\"dataframe\">\n",
              "<caption>A tabyl: 4 × 3</caption>\n",
              "<thead>\n",
              "\t<tr><th scope=col>ORG_POS_BUSINESS_IMPROVEMENT</th><th scope=col>n</th><th scope=col>percent</th></tr>\n",
              "\t<tr><th scope=col>&lt;chr&gt;</th><th scope=col>&lt;dbl&gt;</th><th scope=col>&lt;dbl&gt;</th></tr>\n",
              "</thead>\n",
              "<tbody>\n",
              "\t<tr><td>-      </td><td>  1</td><td>0.0008264463</td></tr>\n",
              "\t<tr><td>No     </td><td>836</td><td>0.6909090909</td></tr>\n",
              "\t<tr><td>No, Yes</td><td>  6</td><td>0.0049586777</td></tr>\n",
              "\t<tr><td>Yes    </td><td>367</td><td>0.3033057851</td></tr>\n",
              "</tbody>\n",
              "</table>\n"
            ]
          },
          "metadata": {
            "tags": []
          }
        }
      ]
    },
    {
      "cell_type": "markdown",
      "metadata": {
        "id": "m2fvkDW1CqSH"
      },
      "source": [
        "Collapsing Categories or Values\n",
        "\n",
        "https://r4ds.had.co.nz/factors.html\n",
        "\n"
      ]
    },
    {
      "cell_type": "code",
      "metadata": {
        "id": "rvwwjyOMELwe"
      },
      "source": [
        "valid_levels <- c('No', 'Yes')\n",
        "\n",
        "# And any values not in the set will be silently converted to NA:\n",
        "# factor(df_with_1$ORG_POS_BUSINESS_IMPROVEMENT, levels = valid_levels)\n",
        "\n",
        "# to see warnings\n",
        "# parse_factor(df_with_1$ORG_POS_BUSINESS_IMPROVEMENT, levels = valid_levels)\n",
        "\n",
        "# to set as the levels occur in data\n",
        "df_with_1$ORG_POS_BUSINESS_IMPROVEMENT %>% \n",
        "factor() %>% \n",
        "fct_inorder() -> df_with_1$ORG_POS_BUSINESS_IMPROVEMENT\n"
      ],
      "execution_count": 348,
      "outputs": []
    },
    {
      "cell_type": "code",
      "metadata": {
        "id": "9IcGCw9xMQ5l"
      },
      "source": [
        "df_with_1 <- df_with_1 %>%\n",
        "mutate (ORG_POS_BUSINESS_IMPROVEMENT = fct_recode(ORG_POS_BUSINESS_IMPROVEMENT,\n",
        "'No' = '-',\n",
        "'No' = 'No, Yes')) #%>% \n",
        "#count(ORG_POS_BUSINESS_IMPROVEMENT)\n"
      ],
      "execution_count": 349,
      "outputs": []
    },
    {
      "cell_type": "code",
      "metadata": {
        "colab": {
          "base_uri": "https://localhost:8080/",
          "height": 158
        },
        "id": "cBHnCc6c26PQ",
        "outputId": "5f364a1e-549a-4896-a66b-8d2f3251106d"
      },
      "source": [
        "tabyl(df_with_1$ORG_POS_BUSINESS_IMPROVEMENT)"
      ],
      "execution_count": 350,
      "outputs": [
        {
          "output_type": "display_data",
          "data": {
            "text/plain": [
              "  df_with_1$ORG_POS_BUSINESS_IMPROVEMENT n   percent  \n",
              "1 Yes                                    367 0.3033058\n",
              "2 No                                     843 0.6966942"
            ],
            "text/latex": "A tabyl: 2 × 3\n\\begin{tabular}{lll}\n df\\_with\\_1\\$ORG\\_POS\\_BUSINESS\\_IMPROVEMENT & n & percent\\\\\n <fct> & <dbl> & <dbl>\\\\\n\\hline\n\t Yes & 367 & 0.3033058\\\\\n\t No  & 843 & 0.6966942\\\\\n\\end{tabular}\n",
            "text/markdown": "\nA tabyl: 2 × 3\n\n| df_with_1$ORG_POS_BUSINESS_IMPROVEMENT &lt;fct&gt; | n &lt;dbl&gt; | percent &lt;dbl&gt; |\n|---|---|---|\n| Yes | 367 | 0.3033058 |\n| No  | 843 | 0.6966942 |\n\n",
            "text/html": [
              "<table class=\"dataframe\">\n",
              "<caption>A tabyl: 2 × 3</caption>\n",
              "<thead>\n",
              "\t<tr><th scope=col>df_with_1$ORG_POS_BUSINESS_IMPROVEMENT</th><th scope=col>n</th><th scope=col>percent</th></tr>\n",
              "\t<tr><th scope=col>&lt;fct&gt;</th><th scope=col>&lt;dbl&gt;</th><th scope=col>&lt;dbl&gt;</th></tr>\n",
              "</thead>\n",
              "<tbody>\n",
              "\t<tr><td>Yes</td><td>367</td><td>0.3033058</td></tr>\n",
              "\t<tr><td>No </td><td>843</td><td>0.6966942</td></tr>\n",
              "</tbody>\n",
              "</table>\n"
            ]
          },
          "metadata": {
            "tags": []
          }
        }
      ]
    },
    {
      "cell_type": "markdown",
      "metadata": {
        "id": "aptt_q-5OkcE"
      },
      "source": [
        "##### 1.2  ORG_INTERNET_ACCESS"
      ]
    },
    {
      "cell_type": "code",
      "metadata": {
        "colab": {
          "base_uri": "https://localhost:8080/",
          "height": 220
        },
        "id": "Pf8rqswtMt3x",
        "outputId": "1defac1f-d7c1-491e-f430-3df3a80e3e92"
      },
      "source": [
        "tabyl(df_with_1$ORG_INTERNET_ACCESS)"
      ],
      "execution_count": 351,
      "outputs": [
        {
          "output_type": "display_data",
          "data": {
            "text/plain": [
              "  df_with_1$ORG_INTERNET_ACCESS                     n   percent    \n",
              "1 Dedicated connection                              264 0.218181818\n",
              "2 Dedicated connection, I use my mobile as required   3 0.002479339\n",
              "3 I use my mobile as required                       594 0.490909091\n",
              "4 No access                                         349 0.288429752"
            ],
            "text/latex": "A tabyl: 4 × 3\n\\begin{tabular}{lll}\n df\\_with\\_1\\$ORG\\_INTERNET\\_ACCESS & n & percent\\\\\n <chr> & <dbl> & <dbl>\\\\\n\\hline\n\t Dedicated connection                              & 264 & 0.218181818\\\\\n\t Dedicated connection, I use my mobile as required &   3 & 0.002479339\\\\\n\t I use my mobile as required                       & 594 & 0.490909091\\\\\n\t No access                                         & 349 & 0.288429752\\\\\n\\end{tabular}\n",
            "text/markdown": "\nA tabyl: 4 × 3\n\n| df_with_1$ORG_INTERNET_ACCESS &lt;chr&gt; | n &lt;dbl&gt; | percent &lt;dbl&gt; |\n|---|---|---|\n| Dedicated connection                              | 264 | 0.218181818 |\n| Dedicated connection, I use my mobile as required |   3 | 0.002479339 |\n| I use my mobile as required                       | 594 | 0.490909091 |\n| No access                                         | 349 | 0.288429752 |\n\n",
            "text/html": [
              "<table class=\"dataframe\">\n",
              "<caption>A tabyl: 4 × 3</caption>\n",
              "<thead>\n",
              "\t<tr><th scope=col>df_with_1$ORG_INTERNET_ACCESS</th><th scope=col>n</th><th scope=col>percent</th></tr>\n",
              "\t<tr><th scope=col>&lt;chr&gt;</th><th scope=col>&lt;dbl&gt;</th><th scope=col>&lt;dbl&gt;</th></tr>\n",
              "</thead>\n",
              "<tbody>\n",
              "\t<tr><td>Dedicated connection                             </td><td>264</td><td>0.218181818</td></tr>\n",
              "\t<tr><td>Dedicated connection, I use my mobile as required</td><td>  3</td><td>0.002479339</td></tr>\n",
              "\t<tr><td>I use my mobile as required                      </td><td>594</td><td>0.490909091</td></tr>\n",
              "\t<tr><td>No access                                        </td><td>349</td><td>0.288429752</td></tr>\n",
              "</tbody>\n",
              "</table>\n"
            ]
          },
          "metadata": {
            "tags": []
          }
        }
      ]
    },
    {
      "cell_type": "code",
      "metadata": {
        "id": "qLc3EtcOOtzB"
      },
      "source": [
        "df_with_1$ORG_INTERNET_ACCESS %>% \n",
        "factor() %>% \n",
        "fct_inorder() -> df_with_1$ORG_INTERNET_ACCESS"
      ],
      "execution_count": 352,
      "outputs": []
    },
    {
      "cell_type": "code",
      "metadata": {
        "colab": {
          "base_uri": "https://localhost:8080/",
          "height": 220
        },
        "id": "tBI0LcZIPOf3",
        "outputId": "b68de4e5-6474-45af-ea11-af138d4d3a7e"
      },
      "source": [
        "tabyl(df_with_1$ORG_INTERNET_ACCESS)"
      ],
      "execution_count": 353,
      "outputs": [
        {
          "output_type": "display_data",
          "data": {
            "text/plain": [
              "  df_with_1$ORG_INTERNET_ACCESS                     n   percent    \n",
              "1 No access                                         349 0.288429752\n",
              "2 I use my mobile as required                       594 0.490909091\n",
              "3 Dedicated connection                              264 0.218181818\n",
              "4 Dedicated connection, I use my mobile as required   3 0.002479339"
            ],
            "text/latex": "A tabyl: 4 × 3\n\\begin{tabular}{lll}\n df\\_with\\_1\\$ORG\\_INTERNET\\_ACCESS & n & percent\\\\\n <fct> & <dbl> & <dbl>\\\\\n\\hline\n\t No access                                         & 349 & 0.288429752\\\\\n\t I use my mobile as required                       & 594 & 0.490909091\\\\\n\t Dedicated connection                              & 264 & 0.218181818\\\\\n\t Dedicated connection, I use my mobile as required &   3 & 0.002479339\\\\\n\\end{tabular}\n",
            "text/markdown": "\nA tabyl: 4 × 3\n\n| df_with_1$ORG_INTERNET_ACCESS &lt;fct&gt; | n &lt;dbl&gt; | percent &lt;dbl&gt; |\n|---|---|---|\n| No access                                         | 349 | 0.288429752 |\n| I use my mobile as required                       | 594 | 0.490909091 |\n| Dedicated connection                              | 264 | 0.218181818 |\n| Dedicated connection, I use my mobile as required |   3 | 0.002479339 |\n\n",
            "text/html": [
              "<table class=\"dataframe\">\n",
              "<caption>A tabyl: 4 × 3</caption>\n",
              "<thead>\n",
              "\t<tr><th scope=col>df_with_1$ORG_INTERNET_ACCESS</th><th scope=col>n</th><th scope=col>percent</th></tr>\n",
              "\t<tr><th scope=col>&lt;fct&gt;</th><th scope=col>&lt;dbl&gt;</th><th scope=col>&lt;dbl&gt;</th></tr>\n",
              "</thead>\n",
              "<tbody>\n",
              "\t<tr><td>No access                                        </td><td>349</td><td>0.288429752</td></tr>\n",
              "\t<tr><td>I use my mobile as required                      </td><td>594</td><td>0.490909091</td></tr>\n",
              "\t<tr><td>Dedicated connection                             </td><td>264</td><td>0.218181818</td></tr>\n",
              "\t<tr><td>Dedicated connection, I use my mobile as required</td><td>  3</td><td>0.002479339</td></tr>\n",
              "</tbody>\n",
              "</table>\n"
            ]
          },
          "metadata": {
            "tags": []
          }
        }
      ]
    },
    {
      "cell_type": "code",
      "metadata": {
        "id": "Aga6z8EjO69-"
      },
      "source": [
        "df_with_1 <- df_with_1 %>%\n",
        "mutate (ORG_INTERNET_ACCESS = fct_recode(ORG_INTERNET_ACCESS,\n",
        "'Dedicated' = 'Dedicated connection, I use my mobile as required',\n",
        "'None' = 'No access',\n",
        "'Mobile' = 'I use my mobile as required',\n",
        "'Dedicated' = 'Dedicated connection')) #%>% \n",
        "#count(ORG_INTERNET_ACCESS)"
      ],
      "execution_count": 354,
      "outputs": []
    },
    {
      "cell_type": "code",
      "metadata": {
        "colab": {
          "base_uri": "https://localhost:8080/",
          "height": 189
        },
        "id": "5qGKXh7l3Oay",
        "outputId": "f33dd94c-6844-4568-9f96-a70880c17cc7"
      },
      "source": [
        "tabyl(df_with_1$ORG_INTERNET_ACCESS)"
      ],
      "execution_count": 355,
      "outputs": [
        {
          "output_type": "display_data",
          "data": {
            "text/plain": [
              "  df_with_1$ORG_INTERNET_ACCESS n   percent  \n",
              "1 None                          349 0.2884298\n",
              "2 Mobile                        594 0.4909091\n",
              "3 Dedicated                     267 0.2206612"
            ],
            "text/latex": "A tabyl: 3 × 3\n\\begin{tabular}{lll}\n df\\_with\\_1\\$ORG\\_INTERNET\\_ACCESS & n & percent\\\\\n <fct> & <dbl> & <dbl>\\\\\n\\hline\n\t None      & 349 & 0.2884298\\\\\n\t Mobile    & 594 & 0.4909091\\\\\n\t Dedicated & 267 & 0.2206612\\\\\n\\end{tabular}\n",
            "text/markdown": "\nA tabyl: 3 × 3\n\n| df_with_1$ORG_INTERNET_ACCESS &lt;fct&gt; | n &lt;dbl&gt; | percent &lt;dbl&gt; |\n|---|---|---|\n| None      | 349 | 0.2884298 |\n| Mobile    | 594 | 0.4909091 |\n| Dedicated | 267 | 0.2206612 |\n\n",
            "text/html": [
              "<table class=\"dataframe\">\n",
              "<caption>A tabyl: 3 × 3</caption>\n",
              "<thead>\n",
              "\t<tr><th scope=col>df_with_1$ORG_INTERNET_ACCESS</th><th scope=col>n</th><th scope=col>percent</th></tr>\n",
              "\t<tr><th scope=col>&lt;fct&gt;</th><th scope=col>&lt;dbl&gt;</th><th scope=col>&lt;dbl&gt;</th></tr>\n",
              "</thead>\n",
              "<tbody>\n",
              "\t<tr><td>None     </td><td>349</td><td>0.2884298</td></tr>\n",
              "\t<tr><td>Mobile   </td><td>594</td><td>0.4909091</td></tr>\n",
              "\t<tr><td>Dedicated</td><td>267</td><td>0.2206612</td></tr>\n",
              "</tbody>\n",
              "</table>\n"
            ]
          },
          "metadata": {
            "tags": []
          }
        }
      ]
    },
    {
      "cell_type": "markdown",
      "metadata": {
        "id": "plDlPp3iPXCW"
      },
      "source": [
        "##### 1.3 ORG_EXPAND_BUSINESS  "
      ]
    },
    {
      "cell_type": "code",
      "metadata": {
        "id": "B2_Tcu-kPddx"
      },
      "source": [
        "df_with_1$ORG_EXPAND_BUSINESS %>% \n",
        "factor() %>% \n",
        "fct_inorder() -> df_with_1$ORG_EXPAND_BUSINESS"
      ],
      "execution_count": 356,
      "outputs": []
    },
    {
      "cell_type": "code",
      "metadata": {
        "colab": {
          "base_uri": "https://localhost:8080/",
          "height": 220
        },
        "id": "M5Er9xlOPmlC",
        "outputId": "d6b93c49-12f3-4f02-c68b-ab215f58a978"
      },
      "source": [
        "tabyl(df_with_1$ORG_EXPAND_BUSINESS)"
      ],
      "execution_count": 357,
      "outputs": [
        {
          "output_type": "display_data",
          "data": {
            "text/plain": [
              "  df_with_1$ORG_EXPAND_BUSINESS    n   percent   \n",
              "1 No                               655 0.54132231\n",
              "2 Yes, short-term (upto 12 months)  47 0.03884298\n",
              "3 Yes, immediately (upto 6 months) 218 0.18016529\n",
              "4 Yes, long-term (12+ months)      290 0.23966942"
            ],
            "text/latex": "A tabyl: 4 × 3\n\\begin{tabular}{lll}\n df\\_with\\_1\\$ORG\\_EXPAND\\_BUSINESS & n & percent\\\\\n <fct> & <dbl> & <dbl>\\\\\n\\hline\n\t No                               & 655 & 0.54132231\\\\\n\t Yes, short-term (upto 12 months) &  47 & 0.03884298\\\\\n\t Yes, immediately (upto 6 months) & 218 & 0.18016529\\\\\n\t Yes, long-term (12+ months)      & 290 & 0.23966942\\\\\n\\end{tabular}\n",
            "text/markdown": "\nA tabyl: 4 × 3\n\n| df_with_1$ORG_EXPAND_BUSINESS &lt;fct&gt; | n &lt;dbl&gt; | percent &lt;dbl&gt; |\n|---|---|---|\n| No                               | 655 | 0.54132231 |\n| Yes, short-term (upto 12 months) |  47 | 0.03884298 |\n| Yes, immediately (upto 6 months) | 218 | 0.18016529 |\n| Yes, long-term (12+ months)      | 290 | 0.23966942 |\n\n",
            "text/html": [
              "<table class=\"dataframe\">\n",
              "<caption>A tabyl: 4 × 3</caption>\n",
              "<thead>\n",
              "\t<tr><th scope=col>df_with_1$ORG_EXPAND_BUSINESS</th><th scope=col>n</th><th scope=col>percent</th></tr>\n",
              "\t<tr><th scope=col>&lt;fct&gt;</th><th scope=col>&lt;dbl&gt;</th><th scope=col>&lt;dbl&gt;</th></tr>\n",
              "</thead>\n",
              "<tbody>\n",
              "\t<tr><td>No                              </td><td>655</td><td>0.54132231</td></tr>\n",
              "\t<tr><td>Yes, short-term (upto 12 months)</td><td> 47</td><td>0.03884298</td></tr>\n",
              "\t<tr><td>Yes, immediately (upto 6 months)</td><td>218</td><td>0.18016529</td></tr>\n",
              "\t<tr><td>Yes, long-term (12+ months)     </td><td>290</td><td>0.23966942</td></tr>\n",
              "</tbody>\n",
              "</table>\n"
            ]
          },
          "metadata": {
            "tags": []
          }
        }
      ]
    },
    {
      "cell_type": "code",
      "metadata": {
        "id": "PBxqzBuDPy27"
      },
      "source": [
        "df_with_1 <- df_with_1 %>%\n",
        "mutate (ORG_EXPAND_BUSINESS = fct_recode(ORG_EXPAND_BUSINESS,\n",
        "'Y:short-term' = 'Yes, short-term (upto 12 months)',\n",
        "'Y:immediately' = 'Yes, immediately (upto 6 months)',\n",
        "'Y:long-term' = 'Yes, long-term (12+ months)')) #%>% \n",
        "#count(ORG_EXPAND_BUSINESS)"
      ],
      "execution_count": 358,
      "outputs": []
    },
    {
      "cell_type": "code",
      "metadata": {
        "colab": {
          "base_uri": "https://localhost:8080/",
          "height": 220
        },
        "id": "v6URuUzv3baN",
        "outputId": "4057b119-22d3-4557-ad73-9f78c6c5b3a1"
      },
      "source": [
        "tabyl(df_with_1$ORG_EXPAND_BUSINESS)"
      ],
      "execution_count": 359,
      "outputs": [
        {
          "output_type": "display_data",
          "data": {
            "text/plain": [
              "  df_with_1$ORG_EXPAND_BUSINESS n   percent   \n",
              "1 No                            655 0.54132231\n",
              "2 Y:short-term                   47 0.03884298\n",
              "3 Y:immediately                 218 0.18016529\n",
              "4 Y:long-term                   290 0.23966942"
            ],
            "text/latex": "A tabyl: 4 × 3\n\\begin{tabular}{lll}\n df\\_with\\_1\\$ORG\\_EXPAND\\_BUSINESS & n & percent\\\\\n <fct> & <dbl> & <dbl>\\\\\n\\hline\n\t No            & 655 & 0.54132231\\\\\n\t Y:short-term  &  47 & 0.03884298\\\\\n\t Y:immediately & 218 & 0.18016529\\\\\n\t Y:long-term   & 290 & 0.23966942\\\\\n\\end{tabular}\n",
            "text/markdown": "\nA tabyl: 4 × 3\n\n| df_with_1$ORG_EXPAND_BUSINESS &lt;fct&gt; | n &lt;dbl&gt; | percent &lt;dbl&gt; |\n|---|---|---|\n| No            | 655 | 0.54132231 |\n| Y:short-term  |  47 | 0.03884298 |\n| Y:immediately | 218 | 0.18016529 |\n| Y:long-term   | 290 | 0.23966942 |\n\n",
            "text/html": [
              "<table class=\"dataframe\">\n",
              "<caption>A tabyl: 4 × 3</caption>\n",
              "<thead>\n",
              "\t<tr><th scope=col>df_with_1$ORG_EXPAND_BUSINESS</th><th scope=col>n</th><th scope=col>percent</th></tr>\n",
              "\t<tr><th scope=col>&lt;fct&gt;</th><th scope=col>&lt;dbl&gt;</th><th scope=col>&lt;dbl&gt;</th></tr>\n",
              "</thead>\n",
              "<tbody>\n",
              "\t<tr><td>No           </td><td>655</td><td>0.54132231</td></tr>\n",
              "\t<tr><td>Y:short-term </td><td> 47</td><td>0.03884298</td></tr>\n",
              "\t<tr><td>Y:immediately</td><td>218</td><td>0.18016529</td></tr>\n",
              "\t<tr><td>Y:long-term  </td><td>290</td><td>0.23966942</td></tr>\n",
              "</tbody>\n",
              "</table>\n"
            ]
          },
          "metadata": {
            "tags": []
          }
        }
      ]
    },
    {
      "cell_type": "markdown",
      "metadata": {
        "id": "xVmC_PsWRhXc"
      },
      "source": [
        "##### 1.4 ORG_DELIVERY_SERVICE  "
      ]
    },
    {
      "cell_type": "code",
      "metadata": {
        "colab": {
          "base_uri": "https://localhost:8080/",
          "height": 251
        },
        "id": "YJkgIVVqRgE7",
        "outputId": "009a8d3f-334b-4c0c-80da-51040eb69b07"
      },
      "source": [
        "tabyl(df_with_1$ORG_DELIVERY_SERVICE)"
      ],
      "execution_count": 360,
      "outputs": [
        {
          "output_type": "display_data",
          "data": {
            "text/plain": [
              "  df_with_1$ORG_DELIVERY_SERVICE n   percent    \n",
              "1 No                             984 0.813223140\n",
              "2 No, Yes                          2 0.001652893\n",
              "3 Thinking about it              108 0.089256198\n",
              "4 Thinking about it, Yes           2 0.001652893\n",
              "5 Yes                            114 0.094214876"
            ],
            "text/latex": "A tabyl: 5 × 3\n\\begin{tabular}{lll}\n df\\_with\\_1\\$ORG\\_DELIVERY\\_SERVICE & n & percent\\\\\n <chr> & <dbl> & <dbl>\\\\\n\\hline\n\t No                     & 984 & 0.813223140\\\\\n\t No, Yes                &   2 & 0.001652893\\\\\n\t Thinking about it      & 108 & 0.089256198\\\\\n\t Thinking about it, Yes &   2 & 0.001652893\\\\\n\t Yes                    & 114 & 0.094214876\\\\\n\\end{tabular}\n",
            "text/markdown": "\nA tabyl: 5 × 3\n\n| df_with_1$ORG_DELIVERY_SERVICE &lt;chr&gt; | n &lt;dbl&gt; | percent &lt;dbl&gt; |\n|---|---|---|\n| No                     | 984 | 0.813223140 |\n| No, Yes                |   2 | 0.001652893 |\n| Thinking about it      | 108 | 0.089256198 |\n| Thinking about it, Yes |   2 | 0.001652893 |\n| Yes                    | 114 | 0.094214876 |\n\n",
            "text/html": [
              "<table class=\"dataframe\">\n",
              "<caption>A tabyl: 5 × 3</caption>\n",
              "<thead>\n",
              "\t<tr><th scope=col>df_with_1$ORG_DELIVERY_SERVICE</th><th scope=col>n</th><th scope=col>percent</th></tr>\n",
              "\t<tr><th scope=col>&lt;chr&gt;</th><th scope=col>&lt;dbl&gt;</th><th scope=col>&lt;dbl&gt;</th></tr>\n",
              "</thead>\n",
              "<tbody>\n",
              "\t<tr><td>No                    </td><td>984</td><td>0.813223140</td></tr>\n",
              "\t<tr><td>No, Yes               </td><td>  2</td><td>0.001652893</td></tr>\n",
              "\t<tr><td>Thinking about it     </td><td>108</td><td>0.089256198</td></tr>\n",
              "\t<tr><td>Thinking about it, Yes</td><td>  2</td><td>0.001652893</td></tr>\n",
              "\t<tr><td>Yes                   </td><td>114</td><td>0.094214876</td></tr>\n",
              "</tbody>\n",
              "</table>\n"
            ]
          },
          "metadata": {
            "tags": []
          }
        }
      ]
    },
    {
      "cell_type": "code",
      "metadata": {
        "id": "ZhfIwlJJRw89"
      },
      "source": [
        "df_with_1$ORG_DELIVERY_SERVICE %>% \n",
        "factor() %>% \n",
        "fct_inorder() -> df_with_1$ORG_DELIVERY_SERVICE"
      ],
      "execution_count": 361,
      "outputs": []
    },
    {
      "cell_type": "code",
      "metadata": {
        "id": "k2PUhzhPR1SM"
      },
      "source": [
        "df_with_1 <- df_with_1 %>%\n",
        "mutate (ORG_DELIVERY_SERVICE = fct_recode(ORG_DELIVERY_SERVICE,\n",
        "'No' = 'No, Yes',\n",
        "'Thinking about it' = 'Thinking about it, Yes')) #%>% \n",
        "#count(ORG_DELIVERY_SERVICE)"
      ],
      "execution_count": 362,
      "outputs": []
    },
    {
      "cell_type": "code",
      "metadata": {
        "colab": {
          "base_uri": "https://localhost:8080/",
          "height": 189
        },
        "id": "zc_D2obf3oMn",
        "outputId": "27624da6-664a-49a8-9dd9-27cdb0178370"
      },
      "source": [
        "tabyl (df_with_1$ORG_DELIVERY_SERVICE)"
      ],
      "execution_count": 363,
      "outputs": [
        {
          "output_type": "display_data",
          "data": {
            "text/plain": [
              "  df_with_1$ORG_DELIVERY_SERVICE n   percent   \n",
              "1 No                             986 0.81487603\n",
              "2 Thinking about it              110 0.09090909\n",
              "3 Yes                            114 0.09421488"
            ],
            "text/latex": "A tabyl: 3 × 3\n\\begin{tabular}{lll}\n df\\_with\\_1\\$ORG\\_DELIVERY\\_SERVICE & n & percent\\\\\n <fct> & <dbl> & <dbl>\\\\\n\\hline\n\t No                & 986 & 0.81487603\\\\\n\t Thinking about it & 110 & 0.09090909\\\\\n\t Yes               & 114 & 0.09421488\\\\\n\\end{tabular}\n",
            "text/markdown": "\nA tabyl: 3 × 3\n\n| df_with_1$ORG_DELIVERY_SERVICE &lt;fct&gt; | n &lt;dbl&gt; | percent &lt;dbl&gt; |\n|---|---|---|\n| No                | 986 | 0.81487603 |\n| Thinking about it | 110 | 0.09090909 |\n| Yes               | 114 | 0.09421488 |\n\n",
            "text/html": [
              "<table class=\"dataframe\">\n",
              "<caption>A tabyl: 3 × 3</caption>\n",
              "<thead>\n",
              "\t<tr><th scope=col>df_with_1$ORG_DELIVERY_SERVICE</th><th scope=col>n</th><th scope=col>percent</th></tr>\n",
              "\t<tr><th scope=col>&lt;fct&gt;</th><th scope=col>&lt;dbl&gt;</th><th scope=col>&lt;dbl&gt;</th></tr>\n",
              "</thead>\n",
              "<tbody>\n",
              "\t<tr><td>No               </td><td>986</td><td>0.81487603</td></tr>\n",
              "\t<tr><td>Thinking about it</td><td>110</td><td>0.09090909</td></tr>\n",
              "\t<tr><td>Yes              </td><td>114</td><td>0.09421488</td></tr>\n",
              "</tbody>\n",
              "</table>\n"
            ]
          },
          "metadata": {
            "tags": []
          }
        }
      ]
    },
    {
      "cell_type": "markdown",
      "metadata": {
        "id": "3VAffNJdScT3"
      },
      "source": [
        "##### 1.5 ORG_CUSTOMER_DATA"
      ]
    },
    {
      "cell_type": "code",
      "metadata": {
        "id": "Gwv1q1BsvLoq"
      },
      "source": [
        "#df_with_1 <- df_with"
      ],
      "execution_count": 364,
      "outputs": []
    },
    {
      "cell_type": "code",
      "metadata": {
        "colab": {
          "base_uri": "https://localhost:8080/",
          "height": 769
        },
        "id": "dFNGMqlhR1Hw",
        "outputId": "c0163510-6642-4de9-a7c5-0b0ff523f16b"
      },
      "source": [
        "tabyl(df_with_1$ORG_CUSTOMER_DATA)"
      ],
      "execution_count": 365,
      "outputs": [
        {
          "output_type": "display_data",
          "data": {
            "text/plain": [
              "   df_with_1$ORG_CUSTOMER_DATA                                                                                          \n",
              "1  -                                                                                                                    \n",
              "2  Do not Store                                                                                                         \n",
              "3  Do not Store, Store, but do not use                                                                                  \n",
              "4  Do not Store, Use for delivery (sending ordered items)                                                               \n",
              "5  Do not Store, Use for discounts (repeated purchases)                                                                 \n",
              "6  Do not Store, Use for discounts (repeated purchases), Use for sending SMS (advertisement)                            \n",
              "7  Do not Store, Use for sending SMS (advertisement)                                                                    \n",
              "8  Store, but do not use                                                                                                \n",
              "9  Store, but do not use, Use for delivery (sending ordered items), Use for discounts (repeated purchases)              \n",
              "10 Store, but do not use, Use for discounts (repeated purchases)                                                        \n",
              "11 Store, but do not use, Use for discounts (repeated purchases), Use for sending SMS (advertisement)                   \n",
              "12 Store, but do not use, Use for sending SMS (advertisement)                                                           \n",
              "13 Use for delivery (sending ordered items)                                                                             \n",
              "14 Use for delivery (sending ordered items), Use for discounts (repeated purchases)                                     \n",
              "15 Use for delivery (sending ordered items), Use for discounts (repeated purchases), Use for sending SMS (advertisement)\n",
              "16 Use for delivery (sending ordered items), Use for sending SMS (advertisement)                                        \n",
              "17 Use for discounts (repeated purchases)                                                                               \n",
              "18 Use for discounts (repeated purchases), Use for sending SMS (advertisement)                                          \n",
              "19 Use for sending SMS (advertisement)                                                                                  \n",
              "   n   percent     \n",
              "1    4 0.0033057851\n",
              "2  370 0.3057851240\n",
              "3    2 0.0016528926\n",
              "4    1 0.0008264463\n",
              "5  341 0.2818181818\n",
              "6    2 0.0016528926\n",
              "7    1 0.0008264463\n",
              "8  121 0.1000000000\n",
              "9    2 0.0016528926\n",
              "10  44 0.0363636364\n",
              "11   6 0.0049586777\n",
              "12   1 0.0008264463\n",
              "13   4 0.0033057851\n",
              "14  30 0.0247933884\n",
              "15   9 0.0074380165\n",
              "16   5 0.0041322314\n",
              "17 238 0.1966942149\n",
              "18  20 0.0165289256\n",
              "19   9 0.0074380165"
            ],
            "text/latex": "A tabyl: 19 × 3\n\\begin{tabular}{lll}\n df\\_with\\_1\\$ORG\\_CUSTOMER\\_DATA & n & percent\\\\\n <chr> & <dbl> & <dbl>\\\\\n\\hline\n\t -                                                                                                                     &   4 & 0.0033057851\\\\\n\t Do not Store                                                                                                          & 370 & 0.3057851240\\\\\n\t Do not Store, Store, but do not use                                                                                   &   2 & 0.0016528926\\\\\n\t Do not Store, Use for delivery (sending ordered items)                                                                &   1 & 0.0008264463\\\\\n\t Do not Store, Use for discounts (repeated purchases)                                                                  & 341 & 0.2818181818\\\\\n\t Do not Store, Use for discounts (repeated purchases), Use for sending SMS (advertisement)                             &   2 & 0.0016528926\\\\\n\t Do not Store, Use for sending SMS (advertisement)                                                                     &   1 & 0.0008264463\\\\\n\t Store, but do not use                                                                                                 & 121 & 0.1000000000\\\\\n\t Store, but do not use, Use for delivery (sending ordered items), Use for discounts (repeated purchases)               &   2 & 0.0016528926\\\\\n\t Store, but do not use, Use for discounts (repeated purchases)                                                         &  44 & 0.0363636364\\\\\n\t Store, but do not use, Use for discounts (repeated purchases), Use for sending SMS (advertisement)                    &   6 & 0.0049586777\\\\\n\t Store, but do not use, Use for sending SMS (advertisement)                                                            &   1 & 0.0008264463\\\\\n\t Use for delivery (sending ordered items)                                                                              &   4 & 0.0033057851\\\\\n\t Use for delivery (sending ordered items), Use for discounts (repeated purchases)                                      &  30 & 0.0247933884\\\\\n\t Use for delivery (sending ordered items), Use for discounts (repeated purchases), Use for sending SMS (advertisement) &   9 & 0.0074380165\\\\\n\t Use for delivery (sending ordered items), Use for sending SMS (advertisement)                                         &   5 & 0.0041322314\\\\\n\t Use for discounts (repeated purchases)                                                                                & 238 & 0.1966942149\\\\\n\t Use for discounts (repeated purchases), Use for sending SMS (advertisement)                                           &  20 & 0.0165289256\\\\\n\t Use for sending SMS (advertisement)                                                                                   &   9 & 0.0074380165\\\\\n\\end{tabular}\n",
            "text/markdown": "\nA tabyl: 19 × 3\n\n| df_with_1$ORG_CUSTOMER_DATA &lt;chr&gt; | n &lt;dbl&gt; | percent &lt;dbl&gt; |\n|---|---|---|\n| -                                                                                                                     |   4 | 0.0033057851 |\n| Do not Store                                                                                                          | 370 | 0.3057851240 |\n| Do not Store, Store, but do not use                                                                                   |   2 | 0.0016528926 |\n| Do not Store, Use for delivery (sending ordered items)                                                                |   1 | 0.0008264463 |\n| Do not Store, Use for discounts (repeated purchases)                                                                  | 341 | 0.2818181818 |\n| Do not Store, Use for discounts (repeated purchases), Use for sending SMS (advertisement)                             |   2 | 0.0016528926 |\n| Do not Store, Use for sending SMS (advertisement)                                                                     |   1 | 0.0008264463 |\n| Store, but do not use                                                                                                 | 121 | 0.1000000000 |\n| Store, but do not use, Use for delivery (sending ordered items), Use for discounts (repeated purchases)               |   2 | 0.0016528926 |\n| Store, but do not use, Use for discounts (repeated purchases)                                                         |  44 | 0.0363636364 |\n| Store, but do not use, Use for discounts (repeated purchases), Use for sending SMS (advertisement)                    |   6 | 0.0049586777 |\n| Store, but do not use, Use for sending SMS (advertisement)                                                            |   1 | 0.0008264463 |\n| Use for delivery (sending ordered items)                                                                              |   4 | 0.0033057851 |\n| Use for delivery (sending ordered items), Use for discounts (repeated purchases)                                      |  30 | 0.0247933884 |\n| Use for delivery (sending ordered items), Use for discounts (repeated purchases), Use for sending SMS (advertisement) |   9 | 0.0074380165 |\n| Use for delivery (sending ordered items), Use for sending SMS (advertisement)                                         |   5 | 0.0041322314 |\n| Use for discounts (repeated purchases)                                                                                | 238 | 0.1966942149 |\n| Use for discounts (repeated purchases), Use for sending SMS (advertisement)                                           |  20 | 0.0165289256 |\n| Use for sending SMS (advertisement)                                                                                   |   9 | 0.0074380165 |\n\n",
            "text/html": [
              "<table class=\"dataframe\">\n",
              "<caption>A tabyl: 19 × 3</caption>\n",
              "<thead>\n",
              "\t<tr><th scope=col>df_with_1$ORG_CUSTOMER_DATA</th><th scope=col>n</th><th scope=col>percent</th></tr>\n",
              "\t<tr><th scope=col>&lt;chr&gt;</th><th scope=col>&lt;dbl&gt;</th><th scope=col>&lt;dbl&gt;</th></tr>\n",
              "</thead>\n",
              "<tbody>\n",
              "\t<tr><td>-                                                                                                                    </td><td>  4</td><td>0.0033057851</td></tr>\n",
              "\t<tr><td>Do not Store                                                                                                         </td><td>370</td><td>0.3057851240</td></tr>\n",
              "\t<tr><td>Do not Store, Store, but do not use                                                                                  </td><td>  2</td><td>0.0016528926</td></tr>\n",
              "\t<tr><td>Do not Store, Use for delivery (sending ordered items)                                                               </td><td>  1</td><td>0.0008264463</td></tr>\n",
              "\t<tr><td>Do not Store, Use for discounts (repeated purchases)                                                                 </td><td>341</td><td>0.2818181818</td></tr>\n",
              "\t<tr><td>Do not Store, Use for discounts (repeated purchases), Use for sending SMS (advertisement)                            </td><td>  2</td><td>0.0016528926</td></tr>\n",
              "\t<tr><td>Do not Store, Use for sending SMS (advertisement)                                                                    </td><td>  1</td><td>0.0008264463</td></tr>\n",
              "\t<tr><td>Store, but do not use                                                                                                </td><td>121</td><td>0.1000000000</td></tr>\n",
              "\t<tr><td>Store, but do not use, Use for delivery (sending ordered items), Use for discounts (repeated purchases)              </td><td>  2</td><td>0.0016528926</td></tr>\n",
              "\t<tr><td>Store, but do not use, Use for discounts (repeated purchases)                                                        </td><td> 44</td><td>0.0363636364</td></tr>\n",
              "\t<tr><td>Store, but do not use, Use for discounts (repeated purchases), Use for sending SMS (advertisement)                   </td><td>  6</td><td>0.0049586777</td></tr>\n",
              "\t<tr><td>Store, but do not use, Use for sending SMS (advertisement)                                                           </td><td>  1</td><td>0.0008264463</td></tr>\n",
              "\t<tr><td>Use for delivery (sending ordered items)                                                                             </td><td>  4</td><td>0.0033057851</td></tr>\n",
              "\t<tr><td>Use for delivery (sending ordered items), Use for discounts (repeated purchases)                                     </td><td> 30</td><td>0.0247933884</td></tr>\n",
              "\t<tr><td>Use for delivery (sending ordered items), Use for discounts (repeated purchases), Use for sending SMS (advertisement)</td><td>  9</td><td>0.0074380165</td></tr>\n",
              "\t<tr><td>Use for delivery (sending ordered items), Use for sending SMS (advertisement)                                        </td><td>  5</td><td>0.0041322314</td></tr>\n",
              "\t<tr><td>Use for discounts (repeated purchases)                                                                               </td><td>238</td><td>0.1966942149</td></tr>\n",
              "\t<tr><td>Use for discounts (repeated purchases), Use for sending SMS (advertisement)                                          </td><td> 20</td><td>0.0165289256</td></tr>\n",
              "\t<tr><td>Use for sending SMS (advertisement)                                                                                  </td><td>  9</td><td>0.0074380165</td></tr>\n",
              "</tbody>\n",
              "</table>\n"
            ]
          },
          "metadata": {
            "tags": []
          }
        }
      ]
    },
    {
      "cell_type": "markdown",
      "metadata": {
        "id": "r1-_D2UTr0cY"
      },
      "source": [
        "replace , with space"
      ]
    },
    {
      "cell_type": "code",
      "metadata": {
        "id": "im8qHGx2rz_j"
      },
      "source": [
        "df_with_1 <- df_with_1 %>% \n",
        "  mutate(ORG_CUSTOMER_DATA = str_replace(ORG_CUSTOMER_DATA, \"Store, but do not use\", \"Store but do not use\")) #%>%\n",
        "  #tabyl(ORG_CUSTOMER_DATA)"
      ],
      "execution_count": 366,
      "outputs": []
    },
    {
      "cell_type": "code",
      "metadata": {
        "colab": {
          "base_uri": "https://localhost:8080/",
          "height": 769
        },
        "id": "S8_dWzBQvXE0",
        "outputId": "397bf53d-4fe6-4e2f-c1f1-22ab28178f9b"
      },
      "source": [
        "tabyl(df_with_1$ORG_CUSTOMER_DATA)"
      ],
      "execution_count": 367,
      "outputs": [
        {
          "output_type": "display_data",
          "data": {
            "text/plain": [
              "   df_with_1$ORG_CUSTOMER_DATA                                                                                          \n",
              "1  -                                                                                                                    \n",
              "2  Do not Store                                                                                                         \n",
              "3  Do not Store, Store but do not use                                                                                   \n",
              "4  Do not Store, Use for delivery (sending ordered items)                                                               \n",
              "5  Do not Store, Use for discounts (repeated purchases)                                                                 \n",
              "6  Do not Store, Use for discounts (repeated purchases), Use for sending SMS (advertisement)                            \n",
              "7  Do not Store, Use for sending SMS (advertisement)                                                                    \n",
              "8  Store but do not use                                                                                                 \n",
              "9  Store but do not use, Use for delivery (sending ordered items), Use for discounts (repeated purchases)               \n",
              "10 Store but do not use, Use for discounts (repeated purchases)                                                         \n",
              "11 Store but do not use, Use for discounts (repeated purchases), Use for sending SMS (advertisement)                    \n",
              "12 Store but do not use, Use for sending SMS (advertisement)                                                            \n",
              "13 Use for delivery (sending ordered items)                                                                             \n",
              "14 Use for delivery (sending ordered items), Use for discounts (repeated purchases)                                     \n",
              "15 Use for delivery (sending ordered items), Use for discounts (repeated purchases), Use for sending SMS (advertisement)\n",
              "16 Use for delivery (sending ordered items), Use for sending SMS (advertisement)                                        \n",
              "17 Use for discounts (repeated purchases)                                                                               \n",
              "18 Use for discounts (repeated purchases), Use for sending SMS (advertisement)                                          \n",
              "19 Use for sending SMS (advertisement)                                                                                  \n",
              "   n   percent     \n",
              "1    4 0.0033057851\n",
              "2  370 0.3057851240\n",
              "3    2 0.0016528926\n",
              "4    1 0.0008264463\n",
              "5  341 0.2818181818\n",
              "6    2 0.0016528926\n",
              "7    1 0.0008264463\n",
              "8  121 0.1000000000\n",
              "9    2 0.0016528926\n",
              "10  44 0.0363636364\n",
              "11   6 0.0049586777\n",
              "12   1 0.0008264463\n",
              "13   4 0.0033057851\n",
              "14  30 0.0247933884\n",
              "15   9 0.0074380165\n",
              "16   5 0.0041322314\n",
              "17 238 0.1966942149\n",
              "18  20 0.0165289256\n",
              "19   9 0.0074380165"
            ],
            "text/latex": "A tabyl: 19 × 3\n\\begin{tabular}{lll}\n df\\_with\\_1\\$ORG\\_CUSTOMER\\_DATA & n & percent\\\\\n <chr> & <dbl> & <dbl>\\\\\n\\hline\n\t -                                                                                                                     &   4 & 0.0033057851\\\\\n\t Do not Store                                                                                                          & 370 & 0.3057851240\\\\\n\t Do not Store, Store but do not use                                                                                    &   2 & 0.0016528926\\\\\n\t Do not Store, Use for delivery (sending ordered items)                                                                &   1 & 0.0008264463\\\\\n\t Do not Store, Use for discounts (repeated purchases)                                                                  & 341 & 0.2818181818\\\\\n\t Do not Store, Use for discounts (repeated purchases), Use for sending SMS (advertisement)                             &   2 & 0.0016528926\\\\\n\t Do not Store, Use for sending SMS (advertisement)                                                                     &   1 & 0.0008264463\\\\\n\t Store but do not use                                                                                                  & 121 & 0.1000000000\\\\\n\t Store but do not use, Use for delivery (sending ordered items), Use for discounts (repeated purchases)                &   2 & 0.0016528926\\\\\n\t Store but do not use, Use for discounts (repeated purchases)                                                          &  44 & 0.0363636364\\\\\n\t Store but do not use, Use for discounts (repeated purchases), Use for sending SMS (advertisement)                     &   6 & 0.0049586777\\\\\n\t Store but do not use, Use for sending SMS (advertisement)                                                             &   1 & 0.0008264463\\\\\n\t Use for delivery (sending ordered items)                                                                              &   4 & 0.0033057851\\\\\n\t Use for delivery (sending ordered items), Use for discounts (repeated purchases)                                      &  30 & 0.0247933884\\\\\n\t Use for delivery (sending ordered items), Use for discounts (repeated purchases), Use for sending SMS (advertisement) &   9 & 0.0074380165\\\\\n\t Use for delivery (sending ordered items), Use for sending SMS (advertisement)                                         &   5 & 0.0041322314\\\\\n\t Use for discounts (repeated purchases)                                                                                & 238 & 0.1966942149\\\\\n\t Use for discounts (repeated purchases), Use for sending SMS (advertisement)                                           &  20 & 0.0165289256\\\\\n\t Use for sending SMS (advertisement)                                                                                   &   9 & 0.0074380165\\\\\n\\end{tabular}\n",
            "text/markdown": "\nA tabyl: 19 × 3\n\n| df_with_1$ORG_CUSTOMER_DATA &lt;chr&gt; | n &lt;dbl&gt; | percent &lt;dbl&gt; |\n|---|---|---|\n| -                                                                                                                     |   4 | 0.0033057851 |\n| Do not Store                                                                                                          | 370 | 0.3057851240 |\n| Do not Store, Store but do not use                                                                                    |   2 | 0.0016528926 |\n| Do not Store, Use for delivery (sending ordered items)                                                                |   1 | 0.0008264463 |\n| Do not Store, Use for discounts (repeated purchases)                                                                  | 341 | 0.2818181818 |\n| Do not Store, Use for discounts (repeated purchases), Use for sending SMS (advertisement)                             |   2 | 0.0016528926 |\n| Do not Store, Use for sending SMS (advertisement)                                                                     |   1 | 0.0008264463 |\n| Store but do not use                                                                                                  | 121 | 0.1000000000 |\n| Store but do not use, Use for delivery (sending ordered items), Use for discounts (repeated purchases)                |   2 | 0.0016528926 |\n| Store but do not use, Use for discounts (repeated purchases)                                                          |  44 | 0.0363636364 |\n| Store but do not use, Use for discounts (repeated purchases), Use for sending SMS (advertisement)                     |   6 | 0.0049586777 |\n| Store but do not use, Use for sending SMS (advertisement)                                                             |   1 | 0.0008264463 |\n| Use for delivery (sending ordered items)                                                                              |   4 | 0.0033057851 |\n| Use for delivery (sending ordered items), Use for discounts (repeated purchases)                                      |  30 | 0.0247933884 |\n| Use for delivery (sending ordered items), Use for discounts (repeated purchases), Use for sending SMS (advertisement) |   9 | 0.0074380165 |\n| Use for delivery (sending ordered items), Use for sending SMS (advertisement)                                         |   5 | 0.0041322314 |\n| Use for discounts (repeated purchases)                                                                                | 238 | 0.1966942149 |\n| Use for discounts (repeated purchases), Use for sending SMS (advertisement)                                           |  20 | 0.0165289256 |\n| Use for sending SMS (advertisement)                                                                                   |   9 | 0.0074380165 |\n\n",
            "text/html": [
              "<table class=\"dataframe\">\n",
              "<caption>A tabyl: 19 × 3</caption>\n",
              "<thead>\n",
              "\t<tr><th scope=col>df_with_1$ORG_CUSTOMER_DATA</th><th scope=col>n</th><th scope=col>percent</th></tr>\n",
              "\t<tr><th scope=col>&lt;chr&gt;</th><th scope=col>&lt;dbl&gt;</th><th scope=col>&lt;dbl&gt;</th></tr>\n",
              "</thead>\n",
              "<tbody>\n",
              "\t<tr><td>-                                                                                                                    </td><td>  4</td><td>0.0033057851</td></tr>\n",
              "\t<tr><td>Do not Store                                                                                                         </td><td>370</td><td>0.3057851240</td></tr>\n",
              "\t<tr><td>Do not Store, Store but do not use                                                                                   </td><td>  2</td><td>0.0016528926</td></tr>\n",
              "\t<tr><td>Do not Store, Use for delivery (sending ordered items)                                                               </td><td>  1</td><td>0.0008264463</td></tr>\n",
              "\t<tr><td>Do not Store, Use for discounts (repeated purchases)                                                                 </td><td>341</td><td>0.2818181818</td></tr>\n",
              "\t<tr><td>Do not Store, Use for discounts (repeated purchases), Use for sending SMS (advertisement)                            </td><td>  2</td><td>0.0016528926</td></tr>\n",
              "\t<tr><td>Do not Store, Use for sending SMS (advertisement)                                                                    </td><td>  1</td><td>0.0008264463</td></tr>\n",
              "\t<tr><td>Store but do not use                                                                                                 </td><td>121</td><td>0.1000000000</td></tr>\n",
              "\t<tr><td>Store but do not use, Use for delivery (sending ordered items), Use for discounts (repeated purchases)               </td><td>  2</td><td>0.0016528926</td></tr>\n",
              "\t<tr><td>Store but do not use, Use for discounts (repeated purchases)                                                         </td><td> 44</td><td>0.0363636364</td></tr>\n",
              "\t<tr><td>Store but do not use, Use for discounts (repeated purchases), Use for sending SMS (advertisement)                    </td><td>  6</td><td>0.0049586777</td></tr>\n",
              "\t<tr><td>Store but do not use, Use for sending SMS (advertisement)                                                            </td><td>  1</td><td>0.0008264463</td></tr>\n",
              "\t<tr><td>Use for delivery (sending ordered items)                                                                             </td><td>  4</td><td>0.0033057851</td></tr>\n",
              "\t<tr><td>Use for delivery (sending ordered items), Use for discounts (repeated purchases)                                     </td><td> 30</td><td>0.0247933884</td></tr>\n",
              "\t<tr><td>Use for delivery (sending ordered items), Use for discounts (repeated purchases), Use for sending SMS (advertisement)</td><td>  9</td><td>0.0074380165</td></tr>\n",
              "\t<tr><td>Use for delivery (sending ordered items), Use for sending SMS (advertisement)                                        </td><td>  5</td><td>0.0041322314</td></tr>\n",
              "\t<tr><td>Use for discounts (repeated purchases)                                                                               </td><td>238</td><td>0.1966942149</td></tr>\n",
              "\t<tr><td>Use for discounts (repeated purchases), Use for sending SMS (advertisement)                                          </td><td> 20</td><td>0.0165289256</td></tr>\n",
              "\t<tr><td>Use for sending SMS (advertisement)                                                                                  </td><td>  9</td><td>0.0074380165</td></tr>\n",
              "</tbody>\n",
              "</table>\n"
            ]
          },
          "metadata": {
            "tags": []
          }
        }
      ]
    },
    {
      "cell_type": "markdown",
      "metadata": {
        "id": "9m19wRq-ZM97"
      },
      "source": [
        "https://mgimond.github.io/ES218/Week03b.html\n",
        "\n",
        "https://stackoverflow.com/questions/45696738/tallying-multiple-choice-entries-in-a-single-column-in-a-r-dataframe-programmati"
      ]
    },
    {
      "cell_type": "code",
      "metadata": {
        "id": "89L2GTb4VgPo"
      },
      "source": [
        "\n",
        "# my_survey2 <- my_survey %>%\n",
        "#  separate_rows(question.2) %>%\n",
        "#  count(question.2) %>%\n",
        "#  rename(response = question.2, count = n)\n",
        "\n",
        "df_temp <- df_with_1 %>%\n",
        "  separate_rows(ORG_CUSTOMER_DATA, sep=', ')"
      ],
      "execution_count": 368,
      "outputs": []
    },
    {
      "cell_type": "code",
      "metadata": {
        "colab": {
          "base_uri": "https://localhost:8080/"
        },
        "id": "nsvTZ9iMVxBv",
        "outputId": "2cd362db-7b71-42f4-fd24-e97b9093242d"
      },
      "source": [
        "df_temp$ORG_CUSTOMER_DATA %>% glimpse()\n",
        "# from 1210 to 1693 rows"
      ],
      "execution_count": 369,
      "outputs": [
        {
          "output_type": "stream",
          "text": [
            " chr [1:1693] \"Do not Store\" \"Do not Store\" ...\n"
          ],
          "name": "stdout"
        }
      ]
    },
    {
      "cell_type": "code",
      "metadata": {
        "id": "rHKDzqU6WZm0"
      },
      "source": [
        "df_temp <- df_with_1 %>%\n",
        "  separate_rows(ORG_CUSTOMER_DATA, sep=',') %>%\n",
        "  count(ORG_CUSTOMER_DATA) %>%\n",
        "  rename(response = ORG_CUSTOMER_DATA, count = n)\n"
      ],
      "execution_count": 370,
      "outputs": []
    },
    {
      "cell_type": "code",
      "metadata": {
        "colab": {
          "base_uri": "https://localhost:8080/"
        },
        "id": "iAicwuz4Wk68",
        "outputId": "83df1bbd-18d8-4034-97c2-90d7bc2c1c20"
      },
      "source": [
        "df_temp %>% glimpse()"
      ],
      "execution_count": 371,
      "outputs": [
        {
          "output_type": "stream",
          "text": [
            "Rows: 10\n",
            "Columns: 2\n",
            "$ response \u001b[3m\u001b[90m<chr>\u001b[39m\u001b[23m \" Store but do not use\", \" Use for delivery (sending ordered …\n",
            "$ count    \u001b[3m\u001b[90m<int>\u001b[39m\u001b[23m 2, 3, 434, 44, 4, 717, 174, 48, 258, 9\n"
          ],
          "name": "stdout"
        }
      ]
    },
    {
      "cell_type": "code",
      "metadata": {
        "id": "gmxKmsRyXEUs"
      },
      "source": [
        "df_temp %>% tibble() -> df_temp"
      ],
      "execution_count": 372,
      "outputs": []
    },
    {
      "cell_type": "code",
      "metadata": {
        "colab": {
          "base_uri": "https://localhost:8080/",
          "height": 406
        },
        "id": "GLxxKry5XM5H",
        "outputId": "4a5e9d25-e3a6-41c0-da94-2191e03576ff"
      },
      "source": [
        "df_temp"
      ],
      "execution_count": 373,
      "outputs": [
        {
          "output_type": "display_data",
          "data": {
            "text/plain": [
              "   response                                  count\n",
              "1   Store but do not use                       2  \n",
              "2   Use for delivery (sending ordered items)   3  \n",
              "3   Use for discounts (repeated purchases)   434  \n",
              "4   Use for sending SMS (advertisement)       44  \n",
              "5  -                                           4  \n",
              "6  Do not Store                              717  \n",
              "7  Store but do not use                      174  \n",
              "8  Use for delivery (sending ordered items)   48  \n",
              "9  Use for discounts (repeated purchases)    258  \n",
              "10 Use for sending SMS (advertisement)         9  "
            ],
            "text/latex": "A tibble: 10 × 2\n\\begin{tabular}{ll}\n response & count\\\\\n <chr> & <int>\\\\\n\\hline\n\t  Store but do not use                     &   2\\\\\n\t  Use for delivery (sending ordered items) &   3\\\\\n\t  Use for discounts (repeated purchases)   & 434\\\\\n\t  Use for sending SMS (advertisement)      &  44\\\\\n\t -                                         &   4\\\\\n\t Do not Store                              & 717\\\\\n\t Store but do not use                      & 174\\\\\n\t Use for delivery (sending ordered items)  &  48\\\\\n\t Use for discounts (repeated purchases)    & 258\\\\\n\t Use for sending SMS (advertisement)       &   9\\\\\n\\end{tabular}\n",
            "text/markdown": "\nA tibble: 10 × 2\n\n| response &lt;chr&gt; | count &lt;int&gt; |\n|---|---|\n|  Store but do not use                     |   2 |\n|  Use for delivery (sending ordered items) |   3 |\n|  Use for discounts (repeated purchases)   | 434 |\n|  Use for sending SMS (advertisement)      |  44 |\n| -                                         |   4 |\n| Do not Store                              | 717 |\n| Store but do not use                      | 174 |\n| Use for delivery (sending ordered items)  |  48 |\n| Use for discounts (repeated purchases)    | 258 |\n| Use for sending SMS (advertisement)       |   9 |\n\n",
            "text/html": [
              "<table class=\"dataframe\">\n",
              "<caption>A tibble: 10 × 2</caption>\n",
              "<thead>\n",
              "\t<tr><th scope=col>response</th><th scope=col>count</th></tr>\n",
              "\t<tr><th scope=col>&lt;chr&gt;</th><th scope=col>&lt;int&gt;</th></tr>\n",
              "</thead>\n",
              "<tbody>\n",
              "\t<tr><td> Store but do not use                    </td><td>  2</td></tr>\n",
              "\t<tr><td> Use for delivery (sending ordered items)</td><td>  3</td></tr>\n",
              "\t<tr><td> Use for discounts (repeated purchases)  </td><td>434</td></tr>\n",
              "\t<tr><td> Use for sending SMS (advertisement)     </td><td> 44</td></tr>\n",
              "\t<tr><td>-                                        </td><td>  4</td></tr>\n",
              "\t<tr><td>Do not Store                             </td><td>717</td></tr>\n",
              "\t<tr><td>Store but do not use                     </td><td>174</td></tr>\n",
              "\t<tr><td>Use for delivery (sending ordered items) </td><td> 48</td></tr>\n",
              "\t<tr><td>Use for discounts (repeated purchases)   </td><td>258</td></tr>\n",
              "\t<tr><td>Use for sending SMS (advertisement)      </td><td>  9</td></tr>\n",
              "</tbody>\n",
              "</table>\n"
            ]
          },
          "metadata": {
            "tags": []
          }
        }
      ]
    },
    {
      "cell_type": "code",
      "metadata": {
        "id": "2jHhCjGms5E6"
      },
      "source": [
        "df_temp$response %>% \n",
        "factor() %>% \n",
        "fct_inorder() -> df_temp$response"
      ],
      "execution_count": 374,
      "outputs": []
    },
    {
      "cell_type": "code",
      "metadata": {
        "colab": {
          "base_uri": "https://localhost:8080/",
          "height": 406
        },
        "id": "bhM1CPpStPKg",
        "outputId": "bd49437a-262d-4197-efd4-171f7b756f71"
      },
      "source": [
        "df_temp"
      ],
      "execution_count": 375,
      "outputs": [
        {
          "output_type": "display_data",
          "data": {
            "text/plain": [
              "   response                                  count\n",
              "1   Store but do not use                       2  \n",
              "2   Use for delivery (sending ordered items)   3  \n",
              "3   Use for discounts (repeated purchases)   434  \n",
              "4   Use for sending SMS (advertisement)       44  \n",
              "5  -                                           4  \n",
              "6  Do not Store                              717  \n",
              "7  Store but do not use                      174  \n",
              "8  Use for delivery (sending ordered items)   48  \n",
              "9  Use for discounts (repeated purchases)    258  \n",
              "10 Use for sending SMS (advertisement)         9  "
            ],
            "text/latex": "A tibble: 10 × 2\n\\begin{tabular}{ll}\n response & count\\\\\n <fct> & <int>\\\\\n\\hline\n\t  Store but do not use                     &   2\\\\\n\t  Use for delivery (sending ordered items) &   3\\\\\n\t  Use for discounts (repeated purchases)   & 434\\\\\n\t  Use for sending SMS (advertisement)      &  44\\\\\n\t -                                         &   4\\\\\n\t Do not Store                              & 717\\\\\n\t Store but do not use                      & 174\\\\\n\t Use for delivery (sending ordered items)  &  48\\\\\n\t Use for discounts (repeated purchases)    & 258\\\\\n\t Use for sending SMS (advertisement)       &   9\\\\\n\\end{tabular}\n",
            "text/markdown": "\nA tibble: 10 × 2\n\n| response &lt;fct&gt; | count &lt;int&gt; |\n|---|---|\n|  Store but do not use                     |   2 |\n|  Use for delivery (sending ordered items) |   3 |\n|  Use for discounts (repeated purchases)   | 434 |\n|  Use for sending SMS (advertisement)      |  44 |\n| -                                         |   4 |\n| Do not Store                              | 717 |\n| Store but do not use                      | 174 |\n| Use for delivery (sending ordered items)  |  48 |\n| Use for discounts (repeated purchases)    | 258 |\n| Use for sending SMS (advertisement)       |   9 |\n\n",
            "text/html": [
              "<table class=\"dataframe\">\n",
              "<caption>A tibble: 10 × 2</caption>\n",
              "<thead>\n",
              "\t<tr><th scope=col>response</th><th scope=col>count</th></tr>\n",
              "\t<tr><th scope=col>&lt;fct&gt;</th><th scope=col>&lt;int&gt;</th></tr>\n",
              "</thead>\n",
              "<tbody>\n",
              "\t<tr><td> Store but do not use                    </td><td>  2</td></tr>\n",
              "\t<tr><td> Use for delivery (sending ordered items)</td><td>  3</td></tr>\n",
              "\t<tr><td> Use for discounts (repeated purchases)  </td><td>434</td></tr>\n",
              "\t<tr><td> Use for sending SMS (advertisement)     </td><td> 44</td></tr>\n",
              "\t<tr><td>-                                        </td><td>  4</td></tr>\n",
              "\t<tr><td>Do not Store                             </td><td>717</td></tr>\n",
              "\t<tr><td>Store but do not use                     </td><td>174</td></tr>\n",
              "\t<tr><td>Use for delivery (sending ordered items) </td><td> 48</td></tr>\n",
              "\t<tr><td>Use for discounts (repeated purchases)   </td><td>258</td></tr>\n",
              "\t<tr><td>Use for sending SMS (advertisement)      </td><td>  9</td></tr>\n",
              "</tbody>\n",
              "</table>\n"
            ]
          },
          "metadata": {
            "tags": []
          }
        }
      ]
    },
    {
      "cell_type": "code",
      "metadata": {
        "colab": {
          "base_uri": "https://localhost:8080/",
          "height": 85
        },
        "id": "Y_PxEk4-tzrD",
        "outputId": "fdda6557-2188-40b6-c95f-25dad9e2707e"
      },
      "source": [
        "levels(df_temp$response)"
      ],
      "execution_count": 376,
      "outputs": [
        {
          "output_type": "display_data",
          "data": {
            "text/plain": [
              " [1] \" Store but do not use\"                    \n",
              " [2] \" Use for delivery (sending ordered items)\"\n",
              " [3] \" Use for discounts (repeated purchases)\"  \n",
              " [4] \" Use for sending SMS (advertisement)\"     \n",
              " [5] \"-\"                                        \n",
              " [6] \"Do not Store\"                             \n",
              " [7] \"Store but do not use\"                     \n",
              " [8] \"Use for delivery (sending ordered items)\" \n",
              " [9] \"Use for discounts (repeated purchases)\"   \n",
              "[10] \"Use for sending SMS (advertisement)\"      "
            ],
            "text/latex": "\\begin{enumerate*}\n\\item ' Store but do not use'\n\\item ' Use for delivery (sending ordered items)'\n\\item ' Use for discounts (repeated purchases)'\n\\item ' Use for sending SMS (advertisement)'\n\\item '-'\n\\item 'Do not Store'\n\\item 'Store but do not use'\n\\item 'Use for delivery (sending ordered items)'\n\\item 'Use for discounts (repeated purchases)'\n\\item 'Use for sending SMS (advertisement)'\n\\end{enumerate*}\n",
            "text/markdown": "1. ' Store but do not use'\n2. ' Use for delivery (sending ordered items)'\n3. ' Use for discounts (repeated purchases)'\n4. ' Use for sending SMS (advertisement)'\n5. '-'\n6. 'Do not Store'\n7. 'Store but do not use'\n8. 'Use for delivery (sending ordered items)'\n9. 'Use for discounts (repeated purchases)'\n10. 'Use for sending SMS (advertisement)'\n\n\n",
            "text/html": [
              "<style>\n",
              ".list-inline {list-style: none; margin:0; padding: 0}\n",
              ".list-inline>li {display: inline-block}\n",
              ".list-inline>li:not(:last-child)::after {content: \"\\00b7\"; padding: 0 .5ex}\n",
              "</style>\n",
              "<ol class=list-inline><li>' Store but do not use'</li><li>' Use for delivery (sending ordered items)'</li><li>' Use for discounts (repeated purchases)'</li><li>' Use for sending SMS (advertisement)'</li><li>'-'</li><li>'Do not Store'</li><li>'Store but do not use'</li><li>'Use for delivery (sending ordered items)'</li><li>'Use for discounts (repeated purchases)'</li><li>'Use for sending SMS (advertisement)'</li></ol>\n"
            ]
          },
          "metadata": {
            "tags": []
          }
        }
      ]
    },
    {
      "cell_type": "code",
      "metadata": {
        "colab": {
          "base_uri": "https://localhost:8080/",
          "height": 406
        },
        "id": "0ojBk044tbtN",
        "outputId": "01896dcc-6e97-494b-a83c-af01ad963270"
      },
      "source": [
        "df_temp %>%\n",
        "mutate (response1 = fct_recode(response,\n",
        "' Store but do not use ' = 'Store but do not use')) %>% \n",
        "count(response1)"
      ],
      "execution_count": 377,
      "outputs": [
        {
          "output_type": "display_data",
          "data": {
            "text/plain": [
              "   response1                                 n\n",
              "1   Store but do not use                     1\n",
              "2   Use for delivery (sending ordered items) 1\n",
              "3   Use for discounts (repeated purchases)   1\n",
              "4   Use for sending SMS (advertisement)      1\n",
              "5  -                                         1\n",
              "6  Do not Store                              1\n",
              "7   Store but do not use                     1\n",
              "8  Use for delivery (sending ordered items)  1\n",
              "9  Use for discounts (repeated purchases)    1\n",
              "10 Use for sending SMS (advertisement)       1"
            ],
            "text/latex": "A tibble: 10 × 2\n\\begin{tabular}{ll}\n response1 & n\\\\\n <fct> & <int>\\\\\n\\hline\n\t  Store but do not use                     & 1\\\\\n\t  Use for delivery (sending ordered items) & 1\\\\\n\t  Use for discounts (repeated purchases)   & 1\\\\\n\t  Use for sending SMS (advertisement)      & 1\\\\\n\t -                                         & 1\\\\\n\t Do not Store                              & 1\\\\\n\t  Store but do not use                     & 1\\\\\n\t Use for delivery (sending ordered items)  & 1\\\\\n\t Use for discounts (repeated purchases)    & 1\\\\\n\t Use for sending SMS (advertisement)       & 1\\\\\n\\end{tabular}\n",
            "text/markdown": "\nA tibble: 10 × 2\n\n| response1 &lt;fct&gt; | n &lt;int&gt; |\n|---|---|\n|  Store but do not use                     | 1 |\n|  Use for delivery (sending ordered items) | 1 |\n|  Use for discounts (repeated purchases)   | 1 |\n|  Use for sending SMS (advertisement)      | 1 |\n| -                                         | 1 |\n| Do not Store                              | 1 |\n|  Store but do not use                     | 1 |\n| Use for delivery (sending ordered items)  | 1 |\n| Use for discounts (repeated purchases)    | 1 |\n| Use for sending SMS (advertisement)       | 1 |\n\n",
            "text/html": [
              "<table class=\"dataframe\">\n",
              "<caption>A tibble: 10 × 2</caption>\n",
              "<thead>\n",
              "\t<tr><th scope=col>response1</th><th scope=col>n</th></tr>\n",
              "\t<tr><th scope=col>&lt;fct&gt;</th><th scope=col>&lt;int&gt;</th></tr>\n",
              "</thead>\n",
              "<tbody>\n",
              "\t<tr><td> Store but do not use                    </td><td>1</td></tr>\n",
              "\t<tr><td> Use for delivery (sending ordered items)</td><td>1</td></tr>\n",
              "\t<tr><td> Use for discounts (repeated purchases)  </td><td>1</td></tr>\n",
              "\t<tr><td> Use for sending SMS (advertisement)     </td><td>1</td></tr>\n",
              "\t<tr><td>-                                        </td><td>1</td></tr>\n",
              "\t<tr><td>Do not Store                             </td><td>1</td></tr>\n",
              "\t<tr><td> Store but do not use                    </td><td>1</td></tr>\n",
              "\t<tr><td>Use for delivery (sending ordered items) </td><td>1</td></tr>\n",
              "\t<tr><td>Use for discounts (repeated purchases)   </td><td>1</td></tr>\n",
              "\t<tr><td>Use for sending SMS (advertisement)      </td><td>1</td></tr>\n",
              "</tbody>\n",
              "</table>\n"
            ]
          },
          "metadata": {
            "tags": []
          }
        }
      ]
    },
    {
      "cell_type": "code",
      "metadata": {
        "id": "2Se_1qx-W7BM"
      },
      "source": [
        "#tabyl(df_temp)"
      ],
      "execution_count": 378,
      "outputs": []
    },
    {
      "cell_type": "markdown",
      "metadata": {
        "id": "n5YlWDX-w3vo"
      },
      "source": [
        "Not able to resolve ORG_CUSTOMER_DATA\n",
        "or in general the case for multiple-values, where we do not lump low-occurences into the high-occurences"
      ]
    },
    {
      "cell_type": "markdown",
      "metadata": {
        "id": "CScgo3O0xD6V"
      },
      "source": [
        "##### 1.6 ORG_EMP_COUNT  "
      ]
    },
    {
      "cell_type": "code",
      "metadata": {
        "id": "n6Ob6ZjoB6bZ"
      },
      "source": [
        "#df_with_1 = df_with"
      ],
      "execution_count": 379,
      "outputs": []
    },
    {
      "cell_type": "code",
      "metadata": {
        "colab": {
          "base_uri": "https://localhost:8080/",
          "height": 468
        },
        "id": "-cMvpRZgxO1E",
        "outputId": "da25ed16-d7dd-40c7-fdb5-6b1c8bf99793"
      },
      "source": [
        "df_with_1 %>% tabyl(ORG_EMP_COUNT)"
      ],
      "execution_count": 380,
      "outputs": [
        {
          "output_type": "display_data",
          "data": {
            "text/plain": [
              "   ORG_EMP_COUNT n   percent     \n",
              "1  1             463 0.3826446281\n",
              "2  1, 2            2 0.0016528926\n",
              "3  10              3 0.0024793388\n",
              "4  2             242 0.2000000000\n",
              "5  3             231 0.1909090909\n",
              "6  4             145 0.1198347107\n",
              "7  5              93 0.0768595041\n",
              "8  6              24 0.0198347107\n",
              "9  7               3 0.0024793388\n",
              "10 8               1 0.0008264463\n",
              "11 9               1 0.0008264463\n",
              "12 More than 10    2 0.0016528926"
            ],
            "text/latex": "A tabyl: 12 × 3\n\\begin{tabular}{lll}\n ORG\\_EMP\\_COUNT & n & percent\\\\\n <chr> & <dbl> & <dbl>\\\\\n\\hline\n\t 1            & 463 & 0.3826446281\\\\\n\t 1, 2         &   2 & 0.0016528926\\\\\n\t 10           &   3 & 0.0024793388\\\\\n\t 2            & 242 & 0.2000000000\\\\\n\t 3            & 231 & 0.1909090909\\\\\n\t 4            & 145 & 0.1198347107\\\\\n\t 5            &  93 & 0.0768595041\\\\\n\t 6            &  24 & 0.0198347107\\\\\n\t 7            &   3 & 0.0024793388\\\\\n\t 8            &   1 & 0.0008264463\\\\\n\t 9            &   1 & 0.0008264463\\\\\n\t More than 10 &   2 & 0.0016528926\\\\\n\\end{tabular}\n",
            "text/markdown": "\nA tabyl: 12 × 3\n\n| ORG_EMP_COUNT &lt;chr&gt; | n &lt;dbl&gt; | percent &lt;dbl&gt; |\n|---|---|---|\n| 1            | 463 | 0.3826446281 |\n| 1, 2         |   2 | 0.0016528926 |\n| 10           |   3 | 0.0024793388 |\n| 2            | 242 | 0.2000000000 |\n| 3            | 231 | 0.1909090909 |\n| 4            | 145 | 0.1198347107 |\n| 5            |  93 | 0.0768595041 |\n| 6            |  24 | 0.0198347107 |\n| 7            |   3 | 0.0024793388 |\n| 8            |   1 | 0.0008264463 |\n| 9            |   1 | 0.0008264463 |\n| More than 10 |   2 | 0.0016528926 |\n\n",
            "text/html": [
              "<table class=\"dataframe\">\n",
              "<caption>A tabyl: 12 × 3</caption>\n",
              "<thead>\n",
              "\t<tr><th scope=col>ORG_EMP_COUNT</th><th scope=col>n</th><th scope=col>percent</th></tr>\n",
              "\t<tr><th scope=col>&lt;chr&gt;</th><th scope=col>&lt;dbl&gt;</th><th scope=col>&lt;dbl&gt;</th></tr>\n",
              "</thead>\n",
              "<tbody>\n",
              "\t<tr><td>1           </td><td>463</td><td>0.3826446281</td></tr>\n",
              "\t<tr><td>1, 2        </td><td>  2</td><td>0.0016528926</td></tr>\n",
              "\t<tr><td>10          </td><td>  3</td><td>0.0024793388</td></tr>\n",
              "\t<tr><td>2           </td><td>242</td><td>0.2000000000</td></tr>\n",
              "\t<tr><td>3           </td><td>231</td><td>0.1909090909</td></tr>\n",
              "\t<tr><td>4           </td><td>145</td><td>0.1198347107</td></tr>\n",
              "\t<tr><td>5           </td><td> 93</td><td>0.0768595041</td></tr>\n",
              "\t<tr><td>6           </td><td> 24</td><td>0.0198347107</td></tr>\n",
              "\t<tr><td>7           </td><td>  3</td><td>0.0024793388</td></tr>\n",
              "\t<tr><td>8           </td><td>  1</td><td>0.0008264463</td></tr>\n",
              "\t<tr><td>9           </td><td>  1</td><td>0.0008264463</td></tr>\n",
              "\t<tr><td>More than 10</td><td>  2</td><td>0.0016528926</td></tr>\n",
              "</tbody>\n",
              "</table>\n"
            ]
          },
          "metadata": {
            "tags": []
          }
        }
      ]
    },
    {
      "cell_type": "code",
      "metadata": {
        "id": "tmmqOHQcxlKN"
      },
      "source": [
        "df_with_1$ORG_EMP_COUNT %>% \n",
        "factor() %>% \n",
        "fct_inorder() -> df_with_1$ORG_EMP_COUNT"
      ],
      "execution_count": 381,
      "outputs": []
    },
    {
      "cell_type": "code",
      "metadata": {
        "colab": {
          "base_uri": "https://localhost:8080/",
          "height": 34
        },
        "id": "EdJLzJQ7xyjf",
        "outputId": "c85b7be8-e7df-4321-bbaa-1752dbaecb71"
      },
      "source": [
        "levels(df_with_1$ORG_EMP_COUNT)"
      ],
      "execution_count": 382,
      "outputs": [
        {
          "output_type": "display_data",
          "data": {
            "text/plain": [
              " [1] \"2\"            \"3\"            \"1\"            \"10\"           \"4\"           \n",
              " [6] \"6\"            \"More than 10\" \"9\"            \"5\"            \"1, 2\"        \n",
              "[11] \"7\"            \"8\"           "
            ],
            "text/latex": "\\begin{enumerate*}\n\\item '2'\n\\item '3'\n\\item '1'\n\\item '10'\n\\item '4'\n\\item '6'\n\\item 'More than 10'\n\\item '9'\n\\item '5'\n\\item '1, 2'\n\\item '7'\n\\item '8'\n\\end{enumerate*}\n",
            "text/markdown": "1. '2'\n2. '3'\n3. '1'\n4. '10'\n5. '4'\n6. '6'\n7. 'More than 10'\n8. '9'\n9. '5'\n10. '1, 2'\n11. '7'\n12. '8'\n\n\n",
            "text/html": [
              "<style>\n",
              ".list-inline {list-style: none; margin:0; padding: 0}\n",
              ".list-inline>li {display: inline-block}\n",
              ".list-inline>li:not(:last-child)::after {content: \"\\00b7\"; padding: 0 .5ex}\n",
              "</style>\n",
              "<ol class=list-inline><li>'2'</li><li>'3'</li><li>'1'</li><li>'10'</li><li>'4'</li><li>'6'</li><li>'More than 10'</li><li>'9'</li><li>'5'</li><li>'1, 2'</li><li>'7'</li><li>'8'</li></ol>\n"
            ]
          },
          "metadata": {
            "tags": []
          }
        }
      ]
    },
    {
      "cell_type": "code",
      "metadata": {
        "id": "5tNt47urxqPA"
      },
      "source": [
        "df_with_1 <- df_with_1 %>%\n",
        "mutate (ORG_EMP_COUNT = fct_recode(ORG_EMP_COUNT,\n",
        "'1' = '1, 2',\n",
        "'10+' = 'More than 10')) #%>% \n",
        "#count(ORG_EMP_COUNT)"
      ],
      "execution_count": 383,
      "outputs": []
    },
    {
      "cell_type": "code",
      "metadata": {
        "colab": {
          "base_uri": "https://localhost:8080/",
          "height": 437
        },
        "id": "kdBByS_L3_ko",
        "outputId": "f0926196-60b3-44b5-9263-2c3a5c1ba637"
      },
      "source": [
        "tabyl(df_with_1$ORG_EMP_COUNT)"
      ],
      "execution_count": 384,
      "outputs": [
        {
          "output_type": "display_data",
          "data": {
            "text/plain": [
              "   df_with_1$ORG_EMP_COUNT n   percent     \n",
              "1  2                       242 0.2000000000\n",
              "2  3                       231 0.1909090909\n",
              "3  1                       465 0.3842975207\n",
              "4  10                        3 0.0024793388\n",
              "5  4                       145 0.1198347107\n",
              "6  6                        24 0.0198347107\n",
              "7  10+                       2 0.0016528926\n",
              "8  9                         1 0.0008264463\n",
              "9  5                        93 0.0768595041\n",
              "10 7                         3 0.0024793388\n",
              "11 8                         1 0.0008264463"
            ],
            "text/latex": "A tabyl: 11 × 3\n\\begin{tabular}{lll}\n df\\_with\\_1\\$ORG\\_EMP\\_COUNT & n & percent\\\\\n <fct> & <dbl> & <dbl>\\\\\n\\hline\n\t 2   & 242 & 0.2000000000\\\\\n\t 3   & 231 & 0.1909090909\\\\\n\t 1   & 465 & 0.3842975207\\\\\n\t 10  &   3 & 0.0024793388\\\\\n\t 4   & 145 & 0.1198347107\\\\\n\t 6   &  24 & 0.0198347107\\\\\n\t 10+ &   2 & 0.0016528926\\\\\n\t 9   &   1 & 0.0008264463\\\\\n\t 5   &  93 & 0.0768595041\\\\\n\t 7   &   3 & 0.0024793388\\\\\n\t 8   &   1 & 0.0008264463\\\\\n\\end{tabular}\n",
            "text/markdown": "\nA tabyl: 11 × 3\n\n| df_with_1$ORG_EMP_COUNT &lt;fct&gt; | n &lt;dbl&gt; | percent &lt;dbl&gt; |\n|---|---|---|\n| 2   | 242 | 0.2000000000 |\n| 3   | 231 | 0.1909090909 |\n| 1   | 465 | 0.3842975207 |\n| 10  |   3 | 0.0024793388 |\n| 4   | 145 | 0.1198347107 |\n| 6   |  24 | 0.0198347107 |\n| 10+ |   2 | 0.0016528926 |\n| 9   |   1 | 0.0008264463 |\n| 5   |  93 | 0.0768595041 |\n| 7   |   3 | 0.0024793388 |\n| 8   |   1 | 0.0008264463 |\n\n",
            "text/html": [
              "<table class=\"dataframe\">\n",
              "<caption>A tabyl: 11 × 3</caption>\n",
              "<thead>\n",
              "\t<tr><th scope=col>df_with_1$ORG_EMP_COUNT</th><th scope=col>n</th><th scope=col>percent</th></tr>\n",
              "\t<tr><th scope=col>&lt;fct&gt;</th><th scope=col>&lt;dbl&gt;</th><th scope=col>&lt;dbl&gt;</th></tr>\n",
              "</thead>\n",
              "<tbody>\n",
              "\t<tr><td>2  </td><td>242</td><td>0.2000000000</td></tr>\n",
              "\t<tr><td>3  </td><td>231</td><td>0.1909090909</td></tr>\n",
              "\t<tr><td>1  </td><td>465</td><td>0.3842975207</td></tr>\n",
              "\t<tr><td>10 </td><td>  3</td><td>0.0024793388</td></tr>\n",
              "\t<tr><td>4  </td><td>145</td><td>0.1198347107</td></tr>\n",
              "\t<tr><td>6  </td><td> 24</td><td>0.0198347107</td></tr>\n",
              "\t<tr><td>10+</td><td>  2</td><td>0.0016528926</td></tr>\n",
              "\t<tr><td>9  </td><td>  1</td><td>0.0008264463</td></tr>\n",
              "\t<tr><td>5  </td><td> 93</td><td>0.0768595041</td></tr>\n",
              "\t<tr><td>7  </td><td>  3</td><td>0.0024793388</td></tr>\n",
              "\t<tr><td>8  </td><td>  1</td><td>0.0008264463</td></tr>\n",
              "</tbody>\n",
              "</table>\n"
            ]
          },
          "metadata": {
            "tags": []
          }
        }
      ]
    },
    {
      "cell_type": "markdown",
      "metadata": {
        "id": "qGUbjUdEBear"
      },
      "source": [
        "reordering levels"
      ]
    },
    {
      "cell_type": "code",
      "metadata": {
        "colab": {
          "base_uri": "https://localhost:8080/",
          "height": 34
        },
        "id": "N73Fn4PlCUx8",
        "outputId": "b82549dd-fa4d-482f-c332-cecc6e374549"
      },
      "source": [
        "levels(df_with_1$ORG_EMP_COUNT)"
      ],
      "execution_count": 385,
      "outputs": [
        {
          "output_type": "display_data",
          "data": {
            "text/plain": [
              " [1] \"2\"   \"3\"   \"1\"   \"10\"  \"4\"   \"6\"   \"10+\" \"9\"   \"5\"   \"7\"   \"8\"  "
            ],
            "text/latex": "\\begin{enumerate*}\n\\item '2'\n\\item '3'\n\\item '1'\n\\item '10'\n\\item '4'\n\\item '6'\n\\item '10+'\n\\item '9'\n\\item '5'\n\\item '7'\n\\item '8'\n\\end{enumerate*}\n",
            "text/markdown": "1. '2'\n2. '3'\n3. '1'\n4. '10'\n5. '4'\n6. '6'\n7. '10+'\n8. '9'\n9. '5'\n10. '7'\n11. '8'\n\n\n",
            "text/html": [
              "<style>\n",
              ".list-inline {list-style: none; margin:0; padding: 0}\n",
              ".list-inline>li {display: inline-block}\n",
              ".list-inline>li:not(:last-child)::after {content: \"\\00b7\"; padding: 0 .5ex}\n",
              "</style>\n",
              "<ol class=list-inline><li>'2'</li><li>'3'</li><li>'1'</li><li>'10'</li><li>'4'</li><li>'6'</li><li>'10+'</li><li>'9'</li><li>'5'</li><li>'7'</li><li>'8'</li></ol>\n"
            ]
          },
          "metadata": {
            "tags": []
          }
        }
      ]
    },
    {
      "cell_type": "code",
      "metadata": {
        "colab": {
          "base_uri": "https://localhost:8080/"
        },
        "id": "jagftxfbBgWr",
        "outputId": "b0ddca12-e82f-40a2-e371-0bdfa69ff155"
      },
      "source": [
        "df_with_1 <- df_with_1 %>% \n",
        "   mutate (ORG_EMP_COUNT = fct_relevel(ORG_EMP_COUNT, \n",
        "   levels=c('1','2','3','4','5','6','7','8','9','10','10+')))"
      ],
      "execution_count": 386,
      "outputs": [
        {
          "output_type": "stream",
          "text": [
            "Warning message:\n",
            "“Outer names are only allowed for unnamed scalar atomic inputs”\n"
          ],
          "name": "stderr"
        }
      ]
    },
    {
      "cell_type": "markdown",
      "metadata": {
        "id": "Yf19YogJyLiI"
      },
      "source": [
        "##### 1.7 ORG_INTERNET_DISRUPTION"
      ]
    },
    {
      "cell_type": "code",
      "metadata": {
        "colab": {
          "base_uri": "https://localhost:8080/",
          "height": 313
        },
        "id": "QAbfKVdiyYXq",
        "outputId": "5e308498-dc43-4b12-b10e-1fcb8f2f9493"
      },
      "source": [
        "df_with_1 %>% tabyl (ORG_INTERNET_DISRUPTION)"
      ],
      "execution_count": 387,
      "outputs": [
        {
          "output_type": "display_data",
          "data": {
            "text/plain": [
              "  ORG_INTERNET_DISRUPTION n   percent     \n",
              "1 -                       348 0.2876033058\n",
              "2 A lot                    20 0.0165289256\n",
              "3 Little                  136 0.1123966942\n",
              "4 Never                   353 0.2917355372\n",
              "5 Never, Sometimes          1 0.0008264463\n",
              "6 No Internet               9 0.0074380165\n",
              "7 Sometimes               343 0.2834710744"
            ],
            "text/latex": "A tabyl: 7 × 3\n\\begin{tabular}{lll}\n ORG\\_INTERNET\\_DISRUPTION & n & percent\\\\\n <chr> & <dbl> & <dbl>\\\\\n\\hline\n\t -                & 348 & 0.2876033058\\\\\n\t A lot            &  20 & 0.0165289256\\\\\n\t Little           & 136 & 0.1123966942\\\\\n\t Never            & 353 & 0.2917355372\\\\\n\t Never, Sometimes &   1 & 0.0008264463\\\\\n\t No Internet      &   9 & 0.0074380165\\\\\n\t Sometimes        & 343 & 0.2834710744\\\\\n\\end{tabular}\n",
            "text/markdown": "\nA tabyl: 7 × 3\n\n| ORG_INTERNET_DISRUPTION &lt;chr&gt; | n &lt;dbl&gt; | percent &lt;dbl&gt; |\n|---|---|---|\n| -                | 348 | 0.2876033058 |\n| A lot            |  20 | 0.0165289256 |\n| Little           | 136 | 0.1123966942 |\n| Never            | 353 | 0.2917355372 |\n| Never, Sometimes |   1 | 0.0008264463 |\n| No Internet      |   9 | 0.0074380165 |\n| Sometimes        | 343 | 0.2834710744 |\n\n",
            "text/html": [
              "<table class=\"dataframe\">\n",
              "<caption>A tabyl: 7 × 3</caption>\n",
              "<thead>\n",
              "\t<tr><th scope=col>ORG_INTERNET_DISRUPTION</th><th scope=col>n</th><th scope=col>percent</th></tr>\n",
              "\t<tr><th scope=col>&lt;chr&gt;</th><th scope=col>&lt;dbl&gt;</th><th scope=col>&lt;dbl&gt;</th></tr>\n",
              "</thead>\n",
              "<tbody>\n",
              "\t<tr><td>-               </td><td>348</td><td>0.2876033058</td></tr>\n",
              "\t<tr><td>A lot           </td><td> 20</td><td>0.0165289256</td></tr>\n",
              "\t<tr><td>Little          </td><td>136</td><td>0.1123966942</td></tr>\n",
              "\t<tr><td>Never           </td><td>353</td><td>0.2917355372</td></tr>\n",
              "\t<tr><td>Never, Sometimes</td><td>  1</td><td>0.0008264463</td></tr>\n",
              "\t<tr><td>No Internet     </td><td>  9</td><td>0.0074380165</td></tr>\n",
              "\t<tr><td>Sometimes       </td><td>343</td><td>0.2834710744</td></tr>\n",
              "</tbody>\n",
              "</table>\n"
            ]
          },
          "metadata": {
            "tags": []
          }
        }
      ]
    },
    {
      "cell_type": "code",
      "metadata": {
        "id": "SGBq8d9eyqKl"
      },
      "source": [
        "df_with_1$ORG_INTERNET_DISRUPTION %>% \n",
        "factor() %>% \n",
        "fct_inorder() -> df_with_1$ORG_INTERNET_DISRUPTION"
      ],
      "execution_count": 388,
      "outputs": []
    },
    {
      "cell_type": "code",
      "metadata": {
        "colab": {
          "base_uri": "https://localhost:8080/",
          "height": 34
        },
        "id": "MYmvfpNny0l6",
        "outputId": "3035aaae-f11b-423d-bb74-68c77d62b9ce"
      },
      "source": [
        "levels(df_with_1$ORG_INTERNET_DISRUPTION)"
      ],
      "execution_count": 389,
      "outputs": [
        {
          "output_type": "display_data",
          "data": {
            "text/plain": [
              "[1] \"-\"                \"Little\"           \"Never\"            \"Sometimes\"       \n",
              "[5] \"A lot\"            \"Never, Sometimes\" \"No Internet\"     "
            ],
            "text/latex": "\\begin{enumerate*}\n\\item '-'\n\\item 'Little'\n\\item 'Never'\n\\item 'Sometimes'\n\\item 'A lot'\n\\item 'Never, Sometimes'\n\\item 'No Internet'\n\\end{enumerate*}\n",
            "text/markdown": "1. '-'\n2. 'Little'\n3. 'Never'\n4. 'Sometimes'\n5. 'A lot'\n6. 'Never, Sometimes'\n7. 'No Internet'\n\n\n",
            "text/html": [
              "<style>\n",
              ".list-inline {list-style: none; margin:0; padding: 0}\n",
              ".list-inline>li {display: inline-block}\n",
              ".list-inline>li:not(:last-child)::after {content: \"\\00b7\"; padding: 0 .5ex}\n",
              "</style>\n",
              "<ol class=list-inline><li>'-'</li><li>'Little'</li><li>'Never'</li><li>'Sometimes'</li><li>'A lot'</li><li>'Never, Sometimes'</li><li>'No Internet'</li></ol>\n"
            ]
          },
          "metadata": {
            "tags": []
          }
        }
      ]
    },
    {
      "cell_type": "code",
      "metadata": {
        "id": "HW6YTDTNy600"
      },
      "source": [
        "df_with_1 <- df_with_1 %>%\n",
        "mutate (ORG_INTERNET_DISRUPTION = fct_recode(ORG_INTERNET_DISRUPTION,\n",
        "'Never' = '-',\n",
        "'Sometimes' = 'Never, Sometimes')) #%>% \n",
        "#count(ORG_INTERNET_DISRUPTION)"
      ],
      "execution_count": 390,
      "outputs": []
    },
    {
      "cell_type": "code",
      "metadata": {
        "colab": {
          "base_uri": "https://localhost:8080/",
          "height": 251
        },
        "id": "BZ3o0wLv4KGQ",
        "outputId": "7e43da22-21e8-493d-ae76-add7aafdb108"
      },
      "source": [
        "tabyl(df_with_1$ORG_INTERNET_DISRUPTION)"
      ],
      "execution_count": 391,
      "outputs": [
        {
          "output_type": "display_data",
          "data": {
            "text/plain": [
              "  df_with_1$ORG_INTERNET_DISRUPTION n   percent    \n",
              "1 Never                             701 0.579338843\n",
              "2 Little                            136 0.112396694\n",
              "3 Sometimes                         344 0.284297521\n",
              "4 A lot                              20 0.016528926\n",
              "5 No Internet                         9 0.007438017"
            ],
            "text/latex": "A tabyl: 5 × 3\n\\begin{tabular}{lll}\n df\\_with\\_1\\$ORG\\_INTERNET\\_DISRUPTION & n & percent\\\\\n <fct> & <dbl> & <dbl>\\\\\n\\hline\n\t Never       & 701 & 0.579338843\\\\\n\t Little      & 136 & 0.112396694\\\\\n\t Sometimes   & 344 & 0.284297521\\\\\n\t A lot       &  20 & 0.016528926\\\\\n\t No Internet &   9 & 0.007438017\\\\\n\\end{tabular}\n",
            "text/markdown": "\nA tabyl: 5 × 3\n\n| df_with_1$ORG_INTERNET_DISRUPTION &lt;fct&gt; | n &lt;dbl&gt; | percent &lt;dbl&gt; |\n|---|---|---|\n| Never       | 701 | 0.579338843 |\n| Little      | 136 | 0.112396694 |\n| Sometimes   | 344 | 0.284297521 |\n| A lot       |  20 | 0.016528926 |\n| No Internet |   9 | 0.007438017 |\n\n",
            "text/html": [
              "<table class=\"dataframe\">\n",
              "<caption>A tabyl: 5 × 3</caption>\n",
              "<thead>\n",
              "\t<tr><th scope=col>df_with_1$ORG_INTERNET_DISRUPTION</th><th scope=col>n</th><th scope=col>percent</th></tr>\n",
              "\t<tr><th scope=col>&lt;fct&gt;</th><th scope=col>&lt;dbl&gt;</th><th scope=col>&lt;dbl&gt;</th></tr>\n",
              "</thead>\n",
              "<tbody>\n",
              "\t<tr><td>Never      </td><td>701</td><td>0.579338843</td></tr>\n",
              "\t<tr><td>Little     </td><td>136</td><td>0.112396694</td></tr>\n",
              "\t<tr><td>Sometimes  </td><td>344</td><td>0.284297521</td></tr>\n",
              "\t<tr><td>A lot      </td><td> 20</td><td>0.016528926</td></tr>\n",
              "\t<tr><td>No Internet</td><td>  9</td><td>0.007438017</td></tr>\n",
              "</tbody>\n",
              "</table>\n"
            ]
          },
          "metadata": {
            "tags": []
          }
        }
      ]
    },
    {
      "cell_type": "code",
      "metadata": {
        "colab": {
          "base_uri": "https://localhost:8080/",
          "height": 34
        },
        "id": "Alyl37wfEUy9",
        "outputId": "f48568c4-ffa6-4e86-8e79-9825bd441915"
      },
      "source": [
        "levels(df_with_1$ORG_INTERNET_DISRUPTION)"
      ],
      "execution_count": 392,
      "outputs": [
        {
          "output_type": "display_data",
          "data": {
            "text/plain": [
              "[1] \"Never\"       \"Little\"      \"Sometimes\"   \"A lot\"       \"No Internet\""
            ],
            "text/latex": "\\begin{enumerate*}\n\\item 'Never'\n\\item 'Little'\n\\item 'Sometimes'\n\\item 'A lot'\n\\item 'No Internet'\n\\end{enumerate*}\n",
            "text/markdown": "1. 'Never'\n2. 'Little'\n3. 'Sometimes'\n4. 'A lot'\n5. 'No Internet'\n\n\n",
            "text/html": [
              "<style>\n",
              ".list-inline {list-style: none; margin:0; padding: 0}\n",
              ".list-inline>li {display: inline-block}\n",
              ".list-inline>li:not(:last-child)::after {content: \"\\00b7\"; padding: 0 .5ex}\n",
              "</style>\n",
              "<ol class=list-inline><li>'Never'</li><li>'Little'</li><li>'Sometimes'</li><li>'A lot'</li><li>'No Internet'</li></ol>\n"
            ]
          },
          "metadata": {
            "tags": []
          }
        }
      ]
    },
    {
      "cell_type": "markdown",
      "metadata": {
        "id": "_Ku_nBjKEDPA"
      },
      "source": [
        "reordering levels"
      ]
    },
    {
      "cell_type": "code",
      "metadata": {
        "colab": {
          "base_uri": "https://localhost:8080/"
        },
        "id": "dQSqkPpZEFpZ",
        "outputId": "570f746e-bc35-430b-e27a-d7de3d85f9a0"
      },
      "source": [
        "df_with_1 <- df_with_1 %>%\n",
        "  mutate(ORG_INTERNET_DISRUPTION = fct_relevel(ORG_INTERNET_DISRUPTION, \n",
        "  levels = c('No Internet','Little','Sometimes','A lot','Never')))"
      ],
      "execution_count": 393,
      "outputs": [
        {
          "output_type": "stream",
          "text": [
            "Warning message:\n",
            "“Outer names are only allowed for unnamed scalar atomic inputs”\n"
          ],
          "name": "stderr"
        }
      ]
    },
    {
      "cell_type": "code",
      "metadata": {
        "id": "T_cmzqf4Eduu"
      },
      "source": [
        ""
      ],
      "execution_count": 394,
      "outputs": []
    },
    {
      "cell_type": "code",
      "metadata": {
        "id": "xOU9ekQ4EFR5"
      },
      "source": [
        ""
      ],
      "execution_count": 395,
      "outputs": []
    },
    {
      "cell_type": "markdown",
      "metadata": {
        "id": "2vaHa6dN7yGp"
      },
      "source": [
        "##### 1.8 ORG_NEW_POS_PAYMENT_PREF"
      ]
    },
    {
      "cell_type": "code",
      "metadata": {
        "id": "tUuk17gkAAPU"
      },
      "source": [
        "#df_with_1 <- df_with"
      ],
      "execution_count": 396,
      "outputs": []
    },
    {
      "cell_type": "code",
      "metadata": {
        "colab": {
          "base_uri": "https://localhost:8080/",
          "height": 313
        },
        "id": "FOsie5Po76fn",
        "outputId": "aa715c97-a05e-4415-db20-302cdbc2befd"
      },
      "source": [
        "tabyl(df_with_1$ORG_NEW_POS_PAYMENT_PREF)"
      ],
      "execution_count": 397,
      "outputs": [
        {
          "output_type": "display_data",
          "data": {
            "text/plain": [
              "  df_with_1$ORG_NEW_POS_PAYMENT_PREF                   n   percent     \n",
              "1 -                                                    119 0.0983471074\n",
              "2 One Time Payment                                     527 0.4355371901\n",
              "3 One Time Payment, Recurring Payment - Every 3 Months   1 0.0008264463\n",
              "4 Recurring Payment - Every 12 Months                  442 0.3652892562\n",
              "5 Recurring Payment - Every 3 Months                    27 0.0223140496\n",
              "6 Recurring Payment - Every 6 Months                    56 0.0462809917\n",
              "7 Recurring Payment - Every Month                       38 0.0314049587"
            ],
            "text/latex": "A tabyl: 7 × 3\n\\begin{tabular}{lll}\n df\\_with\\_1\\$ORG\\_NEW\\_POS\\_PAYMENT\\_PREF & n & percent\\\\\n <chr> & <dbl> & <dbl>\\\\\n\\hline\n\t -                                                    & 119 & 0.0983471074\\\\\n\t One Time Payment                                     & 527 & 0.4355371901\\\\\n\t One Time Payment, Recurring Payment - Every 3 Months &   1 & 0.0008264463\\\\\n\t Recurring Payment - Every 12 Months                  & 442 & 0.3652892562\\\\\n\t Recurring Payment - Every 3 Months                   &  27 & 0.0223140496\\\\\n\t Recurring Payment - Every 6 Months                   &  56 & 0.0462809917\\\\\n\t Recurring Payment - Every Month                      &  38 & 0.0314049587\\\\\n\\end{tabular}\n",
            "text/markdown": "\nA tabyl: 7 × 3\n\n| df_with_1$ORG_NEW_POS_PAYMENT_PREF &lt;chr&gt; | n &lt;dbl&gt; | percent &lt;dbl&gt; |\n|---|---|---|\n| -                                                    | 119 | 0.0983471074 |\n| One Time Payment                                     | 527 | 0.4355371901 |\n| One Time Payment, Recurring Payment - Every 3 Months |   1 | 0.0008264463 |\n| Recurring Payment - Every 12 Months                  | 442 | 0.3652892562 |\n| Recurring Payment - Every 3 Months                   |  27 | 0.0223140496 |\n| Recurring Payment - Every 6 Months                   |  56 | 0.0462809917 |\n| Recurring Payment - Every Month                      |  38 | 0.0314049587 |\n\n",
            "text/html": [
              "<table class=\"dataframe\">\n",
              "<caption>A tabyl: 7 × 3</caption>\n",
              "<thead>\n",
              "\t<tr><th scope=col>df_with_1$ORG_NEW_POS_PAYMENT_PREF</th><th scope=col>n</th><th scope=col>percent</th></tr>\n",
              "\t<tr><th scope=col>&lt;chr&gt;</th><th scope=col>&lt;dbl&gt;</th><th scope=col>&lt;dbl&gt;</th></tr>\n",
              "</thead>\n",
              "<tbody>\n",
              "\t<tr><td>-                                                   </td><td>119</td><td>0.0983471074</td></tr>\n",
              "\t<tr><td>One Time Payment                                    </td><td>527</td><td>0.4355371901</td></tr>\n",
              "\t<tr><td>One Time Payment, Recurring Payment - Every 3 Months</td><td>  1</td><td>0.0008264463</td></tr>\n",
              "\t<tr><td>Recurring Payment - Every 12 Months                 </td><td>442</td><td>0.3652892562</td></tr>\n",
              "\t<tr><td>Recurring Payment - Every 3 Months                  </td><td> 27</td><td>0.0223140496</td></tr>\n",
              "\t<tr><td>Recurring Payment - Every 6 Months                  </td><td> 56</td><td>0.0462809917</td></tr>\n",
              "\t<tr><td>Recurring Payment - Every Month                     </td><td> 38</td><td>0.0314049587</td></tr>\n",
              "</tbody>\n",
              "</table>\n"
            ]
          },
          "metadata": {
            "tags": []
          }
        }
      ]
    },
    {
      "cell_type": "code",
      "metadata": {
        "id": "xKARVAIN8KtA"
      },
      "source": [
        "df_with_1$ORG_NEW_POS_PAYMENT_PREF\t %>% \n",
        "factor() %>% \n",
        "fct_inorder() -> df_with_1$ORG_NEW_POS_PAYMENT_PREF\t"
      ],
      "execution_count": 398,
      "outputs": []
    },
    {
      "cell_type": "code",
      "metadata": {
        "colab": {
          "base_uri": "https://localhost:8080/",
          "height": 68
        },
        "id": "LaUpoxy98UEj",
        "outputId": "24888a23-526f-4970-8407-5b2c20e4cdaf"
      },
      "source": [
        "levels(df_with_1$ORG_NEW_POS_PAYMENT_PREF)"
      ],
      "execution_count": 399,
      "outputs": [
        {
          "output_type": "display_data",
          "data": {
            "text/plain": [
              "[1] \"One Time Payment\"                                    \n",
              "[2] \"Recurring Payment - Every 12 Months\"                 \n",
              "[3] \"Recurring Payment - Every Month\"                     \n",
              "[4] \"Recurring Payment - Every 3 Months\"                  \n",
              "[5] \"Recurring Payment - Every 6 Months\"                  \n",
              "[6] \"-\"                                                   \n",
              "[7] \"One Time Payment, Recurring Payment - Every 3 Months\""
            ],
            "text/latex": "\\begin{enumerate*}\n\\item 'One Time Payment'\n\\item 'Recurring Payment - Every 12 Months'\n\\item 'Recurring Payment - Every Month'\n\\item 'Recurring Payment - Every 3 Months'\n\\item 'Recurring Payment - Every 6 Months'\n\\item '-'\n\\item 'One Time Payment, Recurring Payment - Every 3 Months'\n\\end{enumerate*}\n",
            "text/markdown": "1. 'One Time Payment'\n2. 'Recurring Payment - Every 12 Months'\n3. 'Recurring Payment - Every Month'\n4. 'Recurring Payment - Every 3 Months'\n5. 'Recurring Payment - Every 6 Months'\n6. '-'\n7. 'One Time Payment, Recurring Payment - Every 3 Months'\n\n\n",
            "text/html": [
              "<style>\n",
              ".list-inline {list-style: none; margin:0; padding: 0}\n",
              ".list-inline>li {display: inline-block}\n",
              ".list-inline>li:not(:last-child)::after {content: \"\\00b7\"; padding: 0 .5ex}\n",
              "</style>\n",
              "<ol class=list-inline><li>'One Time Payment'</li><li>'Recurring Payment - Every 12 Months'</li><li>'Recurring Payment - Every Month'</li><li>'Recurring Payment - Every 3 Months'</li><li>'Recurring Payment - Every 6 Months'</li><li>'-'</li><li>'One Time Payment, Recurring Payment - Every 3 Months'</li></ol>\n"
            ]
          },
          "metadata": {
            "tags": []
          }
        }
      ]
    },
    {
      "cell_type": "code",
      "metadata": {
        "id": "Wr_y7YM28a_P"
      },
      "source": [
        "df_with_1 <- df_with_1 %>%\n",
        "mutate (ORG_NEW_POS_PAYMENT_PREF = fct_recode(ORG_NEW_POS_PAYMENT_PREF,\n",
        "'No ANS' = '-',\n",
        "'One-Time' = 'One Time Payment',\n",
        "'One-Time' = 'One Time Payment, Recurring Payment - Every 3 Months',\n",
        "'Recurring:1M' = 'Recurring Payment - Every Month',\n",
        "'Recurring:3M' = 'Recurring Payment - Every 3 Months',\n",
        "'Recurring:6M' = 'Recurring Payment - Every 6 Months',\n",
        "'Recurring:12M' = 'Recurring Payment - Every 12 Months'\n",
        ")) #%>% \n",
        "#count(ORG_INTERNET_DISRUPTION)"
      ],
      "execution_count": 400,
      "outputs": []
    },
    {
      "cell_type": "code",
      "metadata": {
        "colab": {
          "base_uri": "https://localhost:8080/",
          "height": 282
        },
        "id": "Pov1PRpS_H9x",
        "outputId": "9193242e-8beb-4f80-9992-d13057a7d75d"
      },
      "source": [
        "tabyl(df_with_1$ORG_NEW_POS_PAYMENT_PREF)"
      ],
      "execution_count": 401,
      "outputs": [
        {
          "output_type": "display_data",
          "data": {
            "text/plain": [
              "  df_with_1$ORG_NEW_POS_PAYMENT_PREF n   percent   \n",
              "1 One-Time                           528 0.43636364\n",
              "2 Recurring:12M                      442 0.36528926\n",
              "3 Recurring:1M                        38 0.03140496\n",
              "4 Recurring:3M                        27 0.02231405\n",
              "5 Recurring:6M                        56 0.04628099\n",
              "6 No ANS                             119 0.09834711"
            ],
            "text/latex": "A tabyl: 6 × 3\n\\begin{tabular}{lll}\n df\\_with\\_1\\$ORG\\_NEW\\_POS\\_PAYMENT\\_PREF & n & percent\\\\\n <fct> & <dbl> & <dbl>\\\\\n\\hline\n\t One-Time      & 528 & 0.43636364\\\\\n\t Recurring:12M & 442 & 0.36528926\\\\\n\t Recurring:1M  &  38 & 0.03140496\\\\\n\t Recurring:3M  &  27 & 0.02231405\\\\\n\t Recurring:6M  &  56 & 0.04628099\\\\\n\t No ANS        & 119 & 0.09834711\\\\\n\\end{tabular}\n",
            "text/markdown": "\nA tabyl: 6 × 3\n\n| df_with_1$ORG_NEW_POS_PAYMENT_PREF &lt;fct&gt; | n &lt;dbl&gt; | percent &lt;dbl&gt; |\n|---|---|---|\n| One-Time      | 528 | 0.43636364 |\n| Recurring:12M | 442 | 0.36528926 |\n| Recurring:1M  |  38 | 0.03140496 |\n| Recurring:3M  |  27 | 0.02231405 |\n| Recurring:6M  |  56 | 0.04628099 |\n| No ANS        | 119 | 0.09834711 |\n\n",
            "text/html": [
              "<table class=\"dataframe\">\n",
              "<caption>A tabyl: 6 × 3</caption>\n",
              "<thead>\n",
              "\t<tr><th scope=col>df_with_1$ORG_NEW_POS_PAYMENT_PREF</th><th scope=col>n</th><th scope=col>percent</th></tr>\n",
              "\t<tr><th scope=col>&lt;fct&gt;</th><th scope=col>&lt;dbl&gt;</th><th scope=col>&lt;dbl&gt;</th></tr>\n",
              "</thead>\n",
              "<tbody>\n",
              "\t<tr><td>One-Time     </td><td>528</td><td>0.43636364</td></tr>\n",
              "\t<tr><td>Recurring:12M</td><td>442</td><td>0.36528926</td></tr>\n",
              "\t<tr><td>Recurring:1M </td><td> 38</td><td>0.03140496</td></tr>\n",
              "\t<tr><td>Recurring:3M </td><td> 27</td><td>0.02231405</td></tr>\n",
              "\t<tr><td>Recurring:6M </td><td> 56</td><td>0.04628099</td></tr>\n",
              "\t<tr><td>No ANS       </td><td>119</td><td>0.09834711</td></tr>\n",
              "</tbody>\n",
              "</table>\n"
            ]
          },
          "metadata": {
            "tags": []
          }
        }
      ]
    },
    {
      "cell_type": "code",
      "metadata": {
        "colab": {
          "base_uri": "https://localhost:8080/"
        },
        "id": "Nl6LpFuLAYB3",
        "outputId": "e3cc7071-9438-433a-c3a7-943353d4350b"
      },
      "source": [
        "df_with_1 <- df_with_1 %>%\n",
        "mutate (ORG_NEW_POS_PAYMENT_PREF = fct_relevel(ORG_NEW_POS_PAYMENT_PREF,\n",
        "levels=c('No ANS',\n",
        "'One-Time',\n",
        "'Recurring:1M',\n",
        "'Recurring:3M',\n",
        "'Recurring:6M',\n",
        "'Recurring:12M'\n",
        "))) "
      ],
      "execution_count": 402,
      "outputs": [
        {
          "output_type": "stream",
          "text": [
            "Warning message:\n",
            "“Outer names are only allowed for unnamed scalar atomic inputs”\n"
          ],
          "name": "stderr"
        }
      ]
    },
    {
      "cell_type": "code",
      "metadata": {
        "colab": {
          "base_uri": "https://localhost:8080/",
          "height": 282
        },
        "id": "O8wgPoARA057",
        "outputId": "85488b74-50e9-4973-fa07-e38750cf4a28"
      },
      "source": [
        "tabyl(df_with_1$ORG_NEW_POS_PAYMENT_PREF)"
      ],
      "execution_count": 403,
      "outputs": [
        {
          "output_type": "display_data",
          "data": {
            "text/plain": [
              "  df_with_1$ORG_NEW_POS_PAYMENT_PREF n   percent   \n",
              "1 No ANS                             119 0.09834711\n",
              "2 One-Time                           528 0.43636364\n",
              "3 Recurring:1M                        38 0.03140496\n",
              "4 Recurring:3M                        27 0.02231405\n",
              "5 Recurring:6M                        56 0.04628099\n",
              "6 Recurring:12M                      442 0.36528926"
            ],
            "text/latex": "A tabyl: 6 × 3\n\\begin{tabular}{lll}\n df\\_with\\_1\\$ORG\\_NEW\\_POS\\_PAYMENT\\_PREF & n & percent\\\\\n <fct> & <dbl> & <dbl>\\\\\n\\hline\n\t No ANS        & 119 & 0.09834711\\\\\n\t One-Time      & 528 & 0.43636364\\\\\n\t Recurring:1M  &  38 & 0.03140496\\\\\n\t Recurring:3M  &  27 & 0.02231405\\\\\n\t Recurring:6M  &  56 & 0.04628099\\\\\n\t Recurring:12M & 442 & 0.36528926\\\\\n\\end{tabular}\n",
            "text/markdown": "\nA tabyl: 6 × 3\n\n| df_with_1$ORG_NEW_POS_PAYMENT_PREF &lt;fct&gt; | n &lt;dbl&gt; | percent &lt;dbl&gt; |\n|---|---|---|\n| No ANS        | 119 | 0.09834711 |\n| One-Time      | 528 | 0.43636364 |\n| Recurring:1M  |  38 | 0.03140496 |\n| Recurring:3M  |  27 | 0.02231405 |\n| Recurring:6M  |  56 | 0.04628099 |\n| Recurring:12M | 442 | 0.36528926 |\n\n",
            "text/html": [
              "<table class=\"dataframe\">\n",
              "<caption>A tabyl: 6 × 3</caption>\n",
              "<thead>\n",
              "\t<tr><th scope=col>df_with_1$ORG_NEW_POS_PAYMENT_PREF</th><th scope=col>n</th><th scope=col>percent</th></tr>\n",
              "\t<tr><th scope=col>&lt;fct&gt;</th><th scope=col>&lt;dbl&gt;</th><th scope=col>&lt;dbl&gt;</th></tr>\n",
              "</thead>\n",
              "<tbody>\n",
              "\t<tr><td>No ANS       </td><td>119</td><td>0.09834711</td></tr>\n",
              "\t<tr><td>One-Time     </td><td>528</td><td>0.43636364</td></tr>\n",
              "\t<tr><td>Recurring:1M </td><td> 38</td><td>0.03140496</td></tr>\n",
              "\t<tr><td>Recurring:3M </td><td> 27</td><td>0.02231405</td></tr>\n",
              "\t<tr><td>Recurring:6M </td><td> 56</td><td>0.04628099</td></tr>\n",
              "\t<tr><td>Recurring:12M</td><td>442</td><td>0.36528926</td></tr>\n",
              "</tbody>\n",
              "</table>\n"
            ]
          },
          "metadata": {
            "tags": []
          }
        }
      ]
    },
    {
      "cell_type": "markdown",
      "metadata": {
        "id": "K4kteCDlFyD7"
      },
      "source": [
        "##### 1.9 ORG_NEW_POS_LANG_PREF"
      ]
    },
    {
      "cell_type": "code",
      "metadata": {
        "colab": {
          "base_uri": "https://localhost:8080/",
          "height": 189
        },
        "id": "D49yEzakF1Zd",
        "outputId": "76bd407d-8456-47be-8070-6c99b8803d53"
      },
      "source": [
        "tabyl(df_with_1$ORG_NEW_POS_LANG_PREF)"
      ],
      "execution_count": 404,
      "outputs": [
        {
          "output_type": "display_data",
          "data": {
            "text/plain": [
              "  df_with_1$ORG_NEW_POS_LANG_PREF n   percent     \n",
              "1 English                         488 0.4033057851\n",
              "2 English and Urdu                721 0.5958677686\n",
              "3 English, English and Urdu         1 0.0008264463"
            ],
            "text/latex": "A tabyl: 3 × 3\n\\begin{tabular}{lll}\n df\\_with\\_1\\$ORG\\_NEW\\_POS\\_LANG\\_PREF & n & percent\\\\\n <chr> & <dbl> & <dbl>\\\\\n\\hline\n\t English                   & 488 & 0.4033057851\\\\\n\t English and Urdu          & 721 & 0.5958677686\\\\\n\t English, English and Urdu &   1 & 0.0008264463\\\\\n\\end{tabular}\n",
            "text/markdown": "\nA tabyl: 3 × 3\n\n| df_with_1$ORG_NEW_POS_LANG_PREF &lt;chr&gt; | n &lt;dbl&gt; | percent &lt;dbl&gt; |\n|---|---|---|\n| English                   | 488 | 0.4033057851 |\n| English and Urdu          | 721 | 0.5958677686 |\n| English, English and Urdu |   1 | 0.0008264463 |\n\n",
            "text/html": [
              "<table class=\"dataframe\">\n",
              "<caption>A tabyl: 3 × 3</caption>\n",
              "<thead>\n",
              "\t<tr><th scope=col>df_with_1$ORG_NEW_POS_LANG_PREF</th><th scope=col>n</th><th scope=col>percent</th></tr>\n",
              "\t<tr><th scope=col>&lt;chr&gt;</th><th scope=col>&lt;dbl&gt;</th><th scope=col>&lt;dbl&gt;</th></tr>\n",
              "</thead>\n",
              "<tbody>\n",
              "\t<tr><td>English                  </td><td>488</td><td>0.4033057851</td></tr>\n",
              "\t<tr><td>English and Urdu         </td><td>721</td><td>0.5958677686</td></tr>\n",
              "\t<tr><td>English, English and Urdu</td><td>  1</td><td>0.0008264463</td></tr>\n",
              "</tbody>\n",
              "</table>\n"
            ]
          },
          "metadata": {
            "tags": []
          }
        }
      ]
    },
    {
      "cell_type": "code",
      "metadata": {
        "id": "CIZTqt7IF8xt"
      },
      "source": [
        "df_with_1$ORG_NEW_POS_LANG_PREF\t %>% \n",
        "factor() %>% \n",
        "fct_inorder() -> df_with_1$ORG_NEW_POS_LANG_PREF"
      ],
      "execution_count": 405,
      "outputs": []
    },
    {
      "cell_type": "code",
      "metadata": {
        "colab": {
          "base_uri": "https://localhost:8080/",
          "height": 34
        },
        "id": "S3PdZYF5GOGL",
        "outputId": "cd06defa-67cc-4aa3-e51e-227cde2d5754"
      },
      "source": [
        "levels(df_with_1$ORG_NEW_POS_LANG_PREF)"
      ],
      "execution_count": 406,
      "outputs": [
        {
          "output_type": "display_data",
          "data": {
            "text/plain": [
              "[1] \"English and Urdu\"          \"English\"                  \n",
              "[3] \"English, English and Urdu\""
            ],
            "text/latex": "\\begin{enumerate*}\n\\item 'English and Urdu'\n\\item 'English'\n\\item 'English, English and Urdu'\n\\end{enumerate*}\n",
            "text/markdown": "1. 'English and Urdu'\n2. 'English'\n3. 'English, English and Urdu'\n\n\n",
            "text/html": [
              "<style>\n",
              ".list-inline {list-style: none; margin:0; padding: 0}\n",
              ".list-inline>li {display: inline-block}\n",
              ".list-inline>li:not(:last-child)::after {content: \"\\00b7\"; padding: 0 .5ex}\n",
              "</style>\n",
              "<ol class=list-inline><li>'English and Urdu'</li><li>'English'</li><li>'English, English and Urdu'</li></ol>\n"
            ]
          },
          "metadata": {
            "tags": []
          }
        }
      ]
    },
    {
      "cell_type": "code",
      "metadata": {
        "id": "FapWerVkGWTP"
      },
      "source": [
        "df_with_1 <- df_with_1 %>%\n",
        "mutate (ORG_NEW_POS_LANG_PREF = fct_recode(ORG_NEW_POS_LANG_PREF,\n",
        "'English and Urdu' = 'English, English and Urdu'\n",
        "))"
      ],
      "execution_count": 407,
      "outputs": []
    },
    {
      "cell_type": "code",
      "metadata": {
        "colab": {
          "base_uri": "https://localhost:8080/",
          "height": 158
        },
        "id": "yq26xn0IGkSV",
        "outputId": "78b64ea2-1571-4e21-ae56-3e022c95af9f"
      },
      "source": [
        "tabyl(df_with_1$ORG_NEW_POS_LANG_PREF)"
      ],
      "execution_count": 408,
      "outputs": [
        {
          "output_type": "display_data",
          "data": {
            "text/plain": [
              "  df_with_1$ORG_NEW_POS_LANG_PREF n   percent  \n",
              "1 English and Urdu                722 0.5966942\n",
              "2 English                         488 0.4033058"
            ],
            "text/latex": "A tabyl: 2 × 3\n\\begin{tabular}{lll}\n df\\_with\\_1\\$ORG\\_NEW\\_POS\\_LANG\\_PREF & n & percent\\\\\n <fct> & <dbl> & <dbl>\\\\\n\\hline\n\t English and Urdu & 722 & 0.5966942\\\\\n\t English          & 488 & 0.4033058\\\\\n\\end{tabular}\n",
            "text/markdown": "\nA tabyl: 2 × 3\n\n| df_with_1$ORG_NEW_POS_LANG_PREF &lt;fct&gt; | n &lt;dbl&gt; | percent &lt;dbl&gt; |\n|---|---|---|\n| English and Urdu | 722 | 0.5966942 |\n| English          | 488 | 0.4033058 |\n\n",
            "text/html": [
              "<table class=\"dataframe\">\n",
              "<caption>A tabyl: 2 × 3</caption>\n",
              "<thead>\n",
              "\t<tr><th scope=col>df_with_1$ORG_NEW_POS_LANG_PREF</th><th scope=col>n</th><th scope=col>percent</th></tr>\n",
              "\t<tr><th scope=col>&lt;fct&gt;</th><th scope=col>&lt;dbl&gt;</th><th scope=col>&lt;dbl&gt;</th></tr>\n",
              "</thead>\n",
              "<tbody>\n",
              "\t<tr><td>English and Urdu</td><td>722</td><td>0.5966942</td></tr>\n",
              "\t<tr><td>English         </td><td>488</td><td>0.4033058</td></tr>\n",
              "</tbody>\n",
              "</table>\n"
            ]
          },
          "metadata": {
            "tags": []
          }
        }
      ]
    },
    {
      "cell_type": "markdown",
      "metadata": {
        "id": "JtnJeoxNHl4w"
      },
      "source": [
        "##### 1.10 ORG_OUTLETS_COUNT"
      ]
    },
    {
      "cell_type": "code",
      "metadata": {
        "colab": {
          "base_uri": "https://localhost:8080/",
          "height": 344
        },
        "id": "PCFMF5VnHnMV",
        "outputId": "2b4714f4-859a-48f0-d4a5-04f370af1cb3"
      },
      "source": [
        "tabyl(df_with_1$ORG_OUTLETS_COUNT)"
      ],
      "execution_count": 409,
      "outputs": [
        {
          "output_type": "display_data",
          "data": {
            "text/plain": [
              "  df_with_1$ORG_OUTLETS_COUNT n   percent    \n",
              "1 1                           991 0.819008264\n",
              "2 1, 2                          3 0.002479339\n",
              "3 2                            54 0.044628099\n",
              "4 3                            69 0.057024793\n",
              "5 4                            50 0.041322314\n",
              "6 5                            36 0.029752066\n",
              "7 6 to 10                       3 0.002479339\n",
              "8 More than 10                  4 0.003305785"
            ],
            "text/latex": "A tabyl: 8 × 3\n\\begin{tabular}{lll}\n df\\_with\\_1\\$ORG\\_OUTLETS\\_COUNT & n & percent\\\\\n <chr> & <dbl> & <dbl>\\\\\n\\hline\n\t 1            & 991 & 0.819008264\\\\\n\t 1, 2         &   3 & 0.002479339\\\\\n\t 2            &  54 & 0.044628099\\\\\n\t 3            &  69 & 0.057024793\\\\\n\t 4            &  50 & 0.041322314\\\\\n\t 5            &  36 & 0.029752066\\\\\n\t 6 to 10      &   3 & 0.002479339\\\\\n\t More than 10 &   4 & 0.003305785\\\\\n\\end{tabular}\n",
            "text/markdown": "\nA tabyl: 8 × 3\n\n| df_with_1$ORG_OUTLETS_COUNT &lt;chr&gt; | n &lt;dbl&gt; | percent &lt;dbl&gt; |\n|---|---|---|\n| 1            | 991 | 0.819008264 |\n| 1, 2         |   3 | 0.002479339 |\n| 2            |  54 | 0.044628099 |\n| 3            |  69 | 0.057024793 |\n| 4            |  50 | 0.041322314 |\n| 5            |  36 | 0.029752066 |\n| 6 to 10      |   3 | 0.002479339 |\n| More than 10 |   4 | 0.003305785 |\n\n",
            "text/html": [
              "<table class=\"dataframe\">\n",
              "<caption>A tabyl: 8 × 3</caption>\n",
              "<thead>\n",
              "\t<tr><th scope=col>df_with_1$ORG_OUTLETS_COUNT</th><th scope=col>n</th><th scope=col>percent</th></tr>\n",
              "\t<tr><th scope=col>&lt;chr&gt;</th><th scope=col>&lt;dbl&gt;</th><th scope=col>&lt;dbl&gt;</th></tr>\n",
              "</thead>\n",
              "<tbody>\n",
              "\t<tr><td>1           </td><td>991</td><td>0.819008264</td></tr>\n",
              "\t<tr><td>1, 2        </td><td>  3</td><td>0.002479339</td></tr>\n",
              "\t<tr><td>2           </td><td> 54</td><td>0.044628099</td></tr>\n",
              "\t<tr><td>3           </td><td> 69</td><td>0.057024793</td></tr>\n",
              "\t<tr><td>4           </td><td> 50</td><td>0.041322314</td></tr>\n",
              "\t<tr><td>5           </td><td> 36</td><td>0.029752066</td></tr>\n",
              "\t<tr><td>6 to 10     </td><td>  3</td><td>0.002479339</td></tr>\n",
              "\t<tr><td>More than 10</td><td>  4</td><td>0.003305785</td></tr>\n",
              "</tbody>\n",
              "</table>\n"
            ]
          },
          "metadata": {
            "tags": []
          }
        }
      ]
    },
    {
      "cell_type": "code",
      "metadata": {
        "id": "Kg7DO4bZHyke"
      },
      "source": [
        "df_with_1$ORG_OUTLETS_COUNT\t %>% \n",
        "factor() %>% \n",
        "fct_inorder() -> df_with_1$ORG_OUTLETS_COUNT"
      ],
      "execution_count": 410,
      "outputs": []
    },
    {
      "cell_type": "code",
      "metadata": {
        "colab": {
          "base_uri": "https://localhost:8080/",
          "height": 34
        },
        "id": "9_9H7JcAILg_",
        "outputId": "b4b67302-ebcd-4993-b2fb-208d5ab872fe"
      },
      "source": [
        "levels(df_with_1$ORG_OUTLETS_COUNT)"
      ],
      "execution_count": 411,
      "outputs": [
        {
          "output_type": "display_data",
          "data": {
            "text/plain": [
              "[1] \"1\"            \"2\"            \"4\"            \"3\"            \"5\"           \n",
              "[6] \"6 to 10\"      \"1, 2\"         \"More than 10\""
            ],
            "text/latex": "\\begin{enumerate*}\n\\item '1'\n\\item '2'\n\\item '4'\n\\item '3'\n\\item '5'\n\\item '6 to 10'\n\\item '1, 2'\n\\item 'More than 10'\n\\end{enumerate*}\n",
            "text/markdown": "1. '1'\n2. '2'\n3. '4'\n4. '3'\n5. '5'\n6. '6 to 10'\n7. '1, 2'\n8. 'More than 10'\n\n\n",
            "text/html": [
              "<style>\n",
              ".list-inline {list-style: none; margin:0; padding: 0}\n",
              ".list-inline>li {display: inline-block}\n",
              ".list-inline>li:not(:last-child)::after {content: \"\\00b7\"; padding: 0 .5ex}\n",
              "</style>\n",
              "<ol class=list-inline><li>'1'</li><li>'2'</li><li>'4'</li><li>'3'</li><li>'5'</li><li>'6 to 10'</li><li>'1, 2'</li><li>'More than 10'</li></ol>\n"
            ]
          },
          "metadata": {
            "tags": []
          }
        }
      ]
    },
    {
      "cell_type": "code",
      "metadata": {
        "id": "OFYh5Dw6H6Xl"
      },
      "source": [
        "df_with_1 <- df_with_1 %>%\n",
        "mutate (ORG_OUTLETS_COUNT = fct_recode(ORG_OUTLETS_COUNT,\n",
        "'1' = '1, 2',\n",
        "'10+' = 'More than 10'\n",
        "))"
      ],
      "execution_count": 412,
      "outputs": []
    },
    {
      "cell_type": "code",
      "metadata": {
        "colab": {
          "base_uri": "https://localhost:8080/",
          "height": 313
        },
        "id": "uVxIHYV8Iaah",
        "outputId": "7771e208-7fe2-4729-9f3b-153604aa818d"
      },
      "source": [
        "tabyl(df_with_1$ORG_OUTLETS_COUNT)"
      ],
      "execution_count": 413,
      "outputs": [
        {
          "output_type": "display_data",
          "data": {
            "text/plain": [
              "  df_with_1$ORG_OUTLETS_COUNT n   percent    \n",
              "1 1                           994 0.821487603\n",
              "2 2                            54 0.044628099\n",
              "3 4                            50 0.041322314\n",
              "4 3                            69 0.057024793\n",
              "5 5                            36 0.029752066\n",
              "6 6 to 10                       3 0.002479339\n",
              "7 10+                           4 0.003305785"
            ],
            "text/latex": "A tabyl: 7 × 3\n\\begin{tabular}{lll}\n df\\_with\\_1\\$ORG\\_OUTLETS\\_COUNT & n & percent\\\\\n <fct> & <dbl> & <dbl>\\\\\n\\hline\n\t 1       & 994 & 0.821487603\\\\\n\t 2       &  54 & 0.044628099\\\\\n\t 4       &  50 & 0.041322314\\\\\n\t 3       &  69 & 0.057024793\\\\\n\t 5       &  36 & 0.029752066\\\\\n\t 6 to 10 &   3 & 0.002479339\\\\\n\t 10+     &   4 & 0.003305785\\\\\n\\end{tabular}\n",
            "text/markdown": "\nA tabyl: 7 × 3\n\n| df_with_1$ORG_OUTLETS_COUNT &lt;fct&gt; | n &lt;dbl&gt; | percent &lt;dbl&gt; |\n|---|---|---|\n| 1       | 994 | 0.821487603 |\n| 2       |  54 | 0.044628099 |\n| 4       |  50 | 0.041322314 |\n| 3       |  69 | 0.057024793 |\n| 5       |  36 | 0.029752066 |\n| 6 to 10 |   3 | 0.002479339 |\n| 10+     |   4 | 0.003305785 |\n\n",
            "text/html": [
              "<table class=\"dataframe\">\n",
              "<caption>A tabyl: 7 × 3</caption>\n",
              "<thead>\n",
              "\t<tr><th scope=col>df_with_1$ORG_OUTLETS_COUNT</th><th scope=col>n</th><th scope=col>percent</th></tr>\n",
              "\t<tr><th scope=col>&lt;fct&gt;</th><th scope=col>&lt;dbl&gt;</th><th scope=col>&lt;dbl&gt;</th></tr>\n",
              "</thead>\n",
              "<tbody>\n",
              "\t<tr><td>1      </td><td>994</td><td>0.821487603</td></tr>\n",
              "\t<tr><td>2      </td><td> 54</td><td>0.044628099</td></tr>\n",
              "\t<tr><td>4      </td><td> 50</td><td>0.041322314</td></tr>\n",
              "\t<tr><td>3      </td><td> 69</td><td>0.057024793</td></tr>\n",
              "\t<tr><td>5      </td><td> 36</td><td>0.029752066</td></tr>\n",
              "\t<tr><td>6 to 10</td><td>  3</td><td>0.002479339</td></tr>\n",
              "\t<tr><td>10+    </td><td>  4</td><td>0.003305785</td></tr>\n",
              "</tbody>\n",
              "</table>\n"
            ]
          },
          "metadata": {
            "tags": []
          }
        }
      ]
    },
    {
      "cell_type": "markdown",
      "metadata": {
        "id": "7LymZXJmIv01"
      },
      "source": [
        "##### 1.11 ORG_NEW_POS_KIND"
      ]
    },
    {
      "cell_type": "code",
      "metadata": {
        "colab": {
          "base_uri": "https://localhost:8080/",
          "height": 206
        },
        "id": "DBYgpG6VIu2r",
        "outputId": "880ebb9b-cd3c-4a1f-aa17-da1aa0165a21"
      },
      "source": [
        "tabyl(df_with_1$ORG_NEW_POS_KIND)"
      ],
      "execution_count": 414,
      "outputs": [
        {
          "output_type": "display_data",
          "data": {
            "text/plain": [
              "  df_with_1$ORG_NEW_POS_KIND                                                                \n",
              "1 Stand-Alone: does not require internet connection                                         \n",
              "2 Stand-Alone: does not require internet connection, Web-Based: requires internet connection\n",
              "3 Web-Based: requires internet connection                                                   \n",
              "  n   percent     \n",
              "1 548 0.4528925620\n",
              "2   1 0.0008264463\n",
              "3 661 0.5462809917"
            ],
            "text/latex": "A tabyl: 3 × 3\n\\begin{tabular}{lll}\n df\\_with\\_1\\$ORG\\_NEW\\_POS\\_KIND & n & percent\\\\\n <chr> & <dbl> & <dbl>\\\\\n\\hline\n\t Stand-Alone: does not require internet connection                                          & 548 & 0.4528925620\\\\\n\t Stand-Alone: does not require internet connection, Web-Based: requires internet connection &   1 & 0.0008264463\\\\\n\t Web-Based: requires internet connection                                                    & 661 & 0.5462809917\\\\\n\\end{tabular}\n",
            "text/markdown": "\nA tabyl: 3 × 3\n\n| df_with_1$ORG_NEW_POS_KIND &lt;chr&gt; | n &lt;dbl&gt; | percent &lt;dbl&gt; |\n|---|---|---|\n| Stand-Alone: does not require internet connection                                          | 548 | 0.4528925620 |\n| Stand-Alone: does not require internet connection, Web-Based: requires internet connection |   1 | 0.0008264463 |\n| Web-Based: requires internet connection                                                    | 661 | 0.5462809917 |\n\n",
            "text/html": [
              "<table class=\"dataframe\">\n",
              "<caption>A tabyl: 3 × 3</caption>\n",
              "<thead>\n",
              "\t<tr><th scope=col>df_with_1$ORG_NEW_POS_KIND</th><th scope=col>n</th><th scope=col>percent</th></tr>\n",
              "\t<tr><th scope=col>&lt;chr&gt;</th><th scope=col>&lt;dbl&gt;</th><th scope=col>&lt;dbl&gt;</th></tr>\n",
              "</thead>\n",
              "<tbody>\n",
              "\t<tr><td>Stand-Alone: does not require internet connection                                         </td><td>548</td><td>0.4528925620</td></tr>\n",
              "\t<tr><td>Stand-Alone: does not require internet connection, Web-Based: requires internet connection</td><td>  1</td><td>0.0008264463</td></tr>\n",
              "\t<tr><td>Web-Based: requires internet connection                                                   </td><td>661</td><td>0.5462809917</td></tr>\n",
              "</tbody>\n",
              "</table>\n"
            ]
          },
          "metadata": {
            "tags": []
          }
        }
      ]
    },
    {
      "cell_type": "code",
      "metadata": {
        "id": "nwap6RJ6I4My"
      },
      "source": [
        "df_with_1$ORG_NEW_POS_KIND\t %>% \n",
        "factor() %>% \n",
        "fct_inorder() -> df_with_1$ORG_NEW_POS_KIND"
      ],
      "execution_count": 415,
      "outputs": []
    },
    {
      "cell_type": "code",
      "metadata": {
        "id": "-gZZYQTAJBH6"
      },
      "source": [
        "df_with_1 <- df_with_1 %>%\n",
        "mutate (ORG_NEW_POS_KIND = fct_recode(ORG_NEW_POS_KIND,\n",
        "'Stand-Alone' = 'Stand-Alone: does not require internet connection',\n",
        "'Stand-Alone' = 'Stand-Alone: does not require internet connection, Web-Based: requires internet connection',\n",
        "'Web-Based' = 'Web-Based: requires internet connection'))"
      ],
      "execution_count": 416,
      "outputs": []
    },
    {
      "cell_type": "markdown",
      "metadata": {
        "id": "iMoXB0l4OdeK"
      },
      "source": [
        "##### 1.12 ORG_WILLINGNESS_TO_PAY_AMOUNT'"
      ]
    },
    {
      "cell_type": "code",
      "metadata": {
        "id": "R7MYu1bxlKH8"
      },
      "source": [
        "#df_with_1 <- df_with"
      ],
      "execution_count": 417,
      "outputs": []
    },
    {
      "cell_type": "code",
      "metadata": {
        "colab": {
          "base_uri": "https://localhost:8080/",
          "height": 1000
        },
        "id": "eCn9XH6IOker",
        "outputId": "8e3f167b-fab5-41ea-dc42-9dc1f737576e"
      },
      "source": [
        "tabyl(df_with_1$ORG_WILLINGNESS_TO_PAY_AMOUNT)"
      ],
      "execution_count": 418,
      "outputs": [
        {
          "output_type": "display_data",
          "data": {
            "text/plain": [
              "    df_with_1$ORG_WILLINGNESS_TO_PAY_AMOUNT n   percent     \n",
              "1   -                                       154 0.1272727273\n",
              "2   .                                         1 0.0008264463\n",
              "3   =-                                        1 0.0008264463\n",
              "4   0                                        53 0.0438016529\n",
              "5   1                                         1 0.0008264463\n",
              "6   1 thusnd                                  1 0.0008264463\n",
              "7   10,000 to 12,000                          2 0.0016528926\n",
              "8   100                                       2 0.0016528926\n",
              "9   1000                                     86 0.0710743802\n",
              "10  10000                                    29 0.0239669421\n",
              "11  10k                                       1 0.0008264463\n",
              "12  11000                                     3 0.0024793388\n",
              "13  11100                                     1 0.0008264463\n",
              "14  1200                                      7 0.0057851240\n",
              "15  12000                                     8 0.0066115702\n",
              "16  120000                                    1 0.0008264463\n",
              "17  1300                                     11 0.0090909091\n",
              "18  13000                                     4 0.0033057851\n",
              "19  14                                        1 0.0008264463\n",
              "20  1400                                      3 0.0024793388\n",
              "21  1400/                                     1 0.0008264463\n",
              "22  1500                                      9 0.0074380165\n",
              "23  15000                                     6 0.0049586777\n",
              "24  16000                                     2 0.0016528926\n",
              "25  1700                                      1 0.0008264463\n",
              "26  1800                                      3 0.0024793388\n",
              "27  18000                                     1 0.0008264463\n",
              "28  1900                                      2 0.0016528926\n",
              "29  1oo                                       1 0.0008264463\n",
              "30  2                                         1 0.0008264463\n",
              "⋮   ⋮                                       ⋮   ⋮           \n",
              "123 No Idea.                                14  0.0115702479\n",
              "124 No.idea                                  4  0.0033057851\n",
              "125 No.o                                     1  0.0008264463\n",
              "126 noidea                                   1  0.0008264463\n",
              "127 Not                                      1  0.0008264463\n",
              "128 not agree                                1  0.0008264463\n",
              "129 Not answer                               3  0.0024793388\n",
              "130 not answered                             2  0.0016528926\n",
              "131 Not answered                            10  0.0082644628\n",
              "132 Not confirm                              4  0.0033057851\n",
              "133 Not confirm before check pos             1  0.0008264463\n",
              "134 Not Confirmed                           23  0.0190082645\n",
              "135 not idea                                 1  0.0008264463\n",
              "136 Not idea                                 1  0.0008264463\n",
              "137 Not now                                  1  0.0008264463\n",
              "138 Not safisified                           1  0.0008264463\n",
              "139 not sure                                60  0.0495867769\n",
              "140 Not sure                                25  0.0206611570\n",
              "141 NOT SURE                                 2  0.0016528926\n",
              "142 Not sure yet                             1  0.0008264463\n",
              "143 not surew                                1  0.0008264463\n",
              "144 Not willing                             12  0.0099173554\n",
              "145 Not yet                                  1  0.0008264463\n",
              "146 not.sure                                 1  0.0008264463\n",
              "147 notidea                                  1  0.0008264463\n",
              "148 only 1000                                2  0.0016528926\n",
              "149 Quarterly                                2  0.0016528926\n",
              "150 Shopkeeper is good                       1  0.0008264463\n",
              "151 Time of required will decide             1  0.0008264463\n",
              "152 Yearly                                  23  0.0190082645"
            ],
            "text/latex": "A tabyl: 152 × 3\n\\begin{tabular}{lll}\n df\\_with\\_1\\$ORG\\_WILLINGNESS\\_TO\\_PAY\\_AMOUNT & n & percent\\\\\n <chr> & <dbl> & <dbl>\\\\\n\\hline\n\t -                & 154 & 0.1272727273\\\\\n\t .                &   1 & 0.0008264463\\\\\n\t =-               &   1 & 0.0008264463\\\\\n\t 0                &  53 & 0.0438016529\\\\\n\t 1                &   1 & 0.0008264463\\\\\n\t 1 thusnd         &   1 & 0.0008264463\\\\\n\t 10,000 to 12,000 &   2 & 0.0016528926\\\\\n\t 100              &   2 & 0.0016528926\\\\\n\t 1000             &  86 & 0.0710743802\\\\\n\t 10000            &  29 & 0.0239669421\\\\\n\t 10k              &   1 & 0.0008264463\\\\\n\t 11000            &   3 & 0.0024793388\\\\\n\t 11100            &   1 & 0.0008264463\\\\\n\t 1200             &   7 & 0.0057851240\\\\\n\t 12000            &   8 & 0.0066115702\\\\\n\t 120000           &   1 & 0.0008264463\\\\\n\t 1300             &  11 & 0.0090909091\\\\\n\t 13000            &   4 & 0.0033057851\\\\\n\t 14               &   1 & 0.0008264463\\\\\n\t 1400             &   3 & 0.0024793388\\\\\n\t 1400/            &   1 & 0.0008264463\\\\\n\t 1500             &   9 & 0.0074380165\\\\\n\t 15000            &   6 & 0.0049586777\\\\\n\t 16000            &   2 & 0.0016528926\\\\\n\t 1700             &   1 & 0.0008264463\\\\\n\t 1800             &   3 & 0.0024793388\\\\\n\t 18000            &   1 & 0.0008264463\\\\\n\t 1900             &   2 & 0.0016528926\\\\\n\t 1oo              &   1 & 0.0008264463\\\\\n\t 2                &   1 & 0.0008264463\\\\\n\t ⋮ & ⋮ & ⋮\\\\\n\t No Idea.                     & 14 & 0.0115702479\\\\\n\t No.idea                      &  4 & 0.0033057851\\\\\n\t No.o                         &  1 & 0.0008264463\\\\\n\t noidea                       &  1 & 0.0008264463\\\\\n\t Not                          &  1 & 0.0008264463\\\\\n\t not agree                    &  1 & 0.0008264463\\\\\n\t Not answer                   &  3 & 0.0024793388\\\\\n\t not answered                 &  2 & 0.0016528926\\\\\n\t Not answered                 & 10 & 0.0082644628\\\\\n\t Not confirm                  &  4 & 0.0033057851\\\\\n\t Not confirm before check pos &  1 & 0.0008264463\\\\\n\t Not Confirmed                & 23 & 0.0190082645\\\\\n\t not idea                     &  1 & 0.0008264463\\\\\n\t Not idea                     &  1 & 0.0008264463\\\\\n\t Not now                      &  1 & 0.0008264463\\\\\n\t Not safisified               &  1 & 0.0008264463\\\\\n\t not sure                     & 60 & 0.0495867769\\\\\n\t Not sure                     & 25 & 0.0206611570\\\\\n\t NOT SURE                     &  2 & 0.0016528926\\\\\n\t Not sure yet                 &  1 & 0.0008264463\\\\\n\t not surew                    &  1 & 0.0008264463\\\\\n\t Not willing                  & 12 & 0.0099173554\\\\\n\t Not yet                      &  1 & 0.0008264463\\\\\n\t not.sure                     &  1 & 0.0008264463\\\\\n\t notidea                      &  1 & 0.0008264463\\\\\n\t only 1000                    &  2 & 0.0016528926\\\\\n\t Quarterly                    &  2 & 0.0016528926\\\\\n\t Shopkeeper is good           &  1 & 0.0008264463\\\\\n\t Time of required will decide &  1 & 0.0008264463\\\\\n\t Yearly                       & 23 & 0.0190082645\\\\\n\\end{tabular}\n",
            "text/markdown": "\nA tabyl: 152 × 3\n\n| df_with_1$ORG_WILLINGNESS_TO_PAY_AMOUNT &lt;chr&gt; | n &lt;dbl&gt; | percent &lt;dbl&gt; |\n|---|---|---|\n| -                | 154 | 0.1272727273 |\n| .                |   1 | 0.0008264463 |\n| =-               |   1 | 0.0008264463 |\n| 0                |  53 | 0.0438016529 |\n| 1                |   1 | 0.0008264463 |\n| 1 thusnd         |   1 | 0.0008264463 |\n| 10,000 to 12,000 |   2 | 0.0016528926 |\n| 100              |   2 | 0.0016528926 |\n| 1000             |  86 | 0.0710743802 |\n| 10000            |  29 | 0.0239669421 |\n| 10k              |   1 | 0.0008264463 |\n| 11000            |   3 | 0.0024793388 |\n| 11100            |   1 | 0.0008264463 |\n| 1200             |   7 | 0.0057851240 |\n| 12000            |   8 | 0.0066115702 |\n| 120000           |   1 | 0.0008264463 |\n| 1300             |  11 | 0.0090909091 |\n| 13000            |   4 | 0.0033057851 |\n| 14               |   1 | 0.0008264463 |\n| 1400             |   3 | 0.0024793388 |\n| 1400/            |   1 | 0.0008264463 |\n| 1500             |   9 | 0.0074380165 |\n| 15000            |   6 | 0.0049586777 |\n| 16000            |   2 | 0.0016528926 |\n| 1700             |   1 | 0.0008264463 |\n| 1800             |   3 | 0.0024793388 |\n| 18000            |   1 | 0.0008264463 |\n| 1900             |   2 | 0.0016528926 |\n| 1oo              |   1 | 0.0008264463 |\n| 2                |   1 | 0.0008264463 |\n| ⋮ | ⋮ | ⋮ |\n| No Idea.                     | 14 | 0.0115702479 |\n| No.idea                      |  4 | 0.0033057851 |\n| No.o                         |  1 | 0.0008264463 |\n| noidea                       |  1 | 0.0008264463 |\n| Not                          |  1 | 0.0008264463 |\n| not agree                    |  1 | 0.0008264463 |\n| Not answer                   |  3 | 0.0024793388 |\n| not answered                 |  2 | 0.0016528926 |\n| Not answered                 | 10 | 0.0082644628 |\n| Not confirm                  |  4 | 0.0033057851 |\n| Not confirm before check pos |  1 | 0.0008264463 |\n| Not Confirmed                | 23 | 0.0190082645 |\n| not idea                     |  1 | 0.0008264463 |\n| Not idea                     |  1 | 0.0008264463 |\n| Not now                      |  1 | 0.0008264463 |\n| Not safisified               |  1 | 0.0008264463 |\n| not sure                     | 60 | 0.0495867769 |\n| Not sure                     | 25 | 0.0206611570 |\n| NOT SURE                     |  2 | 0.0016528926 |\n| Not sure yet                 |  1 | 0.0008264463 |\n| not surew                    |  1 | 0.0008264463 |\n| Not willing                  | 12 | 0.0099173554 |\n| Not yet                      |  1 | 0.0008264463 |\n| not.sure                     |  1 | 0.0008264463 |\n| notidea                      |  1 | 0.0008264463 |\n| only 1000                    |  2 | 0.0016528926 |\n| Quarterly                    |  2 | 0.0016528926 |\n| Shopkeeper is good           |  1 | 0.0008264463 |\n| Time of required will decide |  1 | 0.0008264463 |\n| Yearly                       | 23 | 0.0190082645 |\n\n",
            "text/html": [
              "<table class=\"dataframe\">\n",
              "<caption>A tabyl: 152 × 3</caption>\n",
              "<thead>\n",
              "\t<tr><th scope=col>df_with_1$ORG_WILLINGNESS_TO_PAY_AMOUNT</th><th scope=col>n</th><th scope=col>percent</th></tr>\n",
              "\t<tr><th scope=col>&lt;chr&gt;</th><th scope=col>&lt;dbl&gt;</th><th scope=col>&lt;dbl&gt;</th></tr>\n",
              "</thead>\n",
              "<tbody>\n",
              "\t<tr><td>-               </td><td>154</td><td>0.1272727273</td></tr>\n",
              "\t<tr><td>.               </td><td>  1</td><td>0.0008264463</td></tr>\n",
              "\t<tr><td>=-              </td><td>  1</td><td>0.0008264463</td></tr>\n",
              "\t<tr><td>0               </td><td> 53</td><td>0.0438016529</td></tr>\n",
              "\t<tr><td>1               </td><td>  1</td><td>0.0008264463</td></tr>\n",
              "\t<tr><td>1 thusnd        </td><td>  1</td><td>0.0008264463</td></tr>\n",
              "\t<tr><td>10,000 to 12,000</td><td>  2</td><td>0.0016528926</td></tr>\n",
              "\t<tr><td>100             </td><td>  2</td><td>0.0016528926</td></tr>\n",
              "\t<tr><td>1000            </td><td> 86</td><td>0.0710743802</td></tr>\n",
              "\t<tr><td>10000           </td><td> 29</td><td>0.0239669421</td></tr>\n",
              "\t<tr><td>10k             </td><td>  1</td><td>0.0008264463</td></tr>\n",
              "\t<tr><td>11000           </td><td>  3</td><td>0.0024793388</td></tr>\n",
              "\t<tr><td>11100           </td><td>  1</td><td>0.0008264463</td></tr>\n",
              "\t<tr><td>1200            </td><td>  7</td><td>0.0057851240</td></tr>\n",
              "\t<tr><td>12000           </td><td>  8</td><td>0.0066115702</td></tr>\n",
              "\t<tr><td>120000          </td><td>  1</td><td>0.0008264463</td></tr>\n",
              "\t<tr><td>1300            </td><td> 11</td><td>0.0090909091</td></tr>\n",
              "\t<tr><td>13000           </td><td>  4</td><td>0.0033057851</td></tr>\n",
              "\t<tr><td>14              </td><td>  1</td><td>0.0008264463</td></tr>\n",
              "\t<tr><td>1400            </td><td>  3</td><td>0.0024793388</td></tr>\n",
              "\t<tr><td>1400/           </td><td>  1</td><td>0.0008264463</td></tr>\n",
              "\t<tr><td>1500            </td><td>  9</td><td>0.0074380165</td></tr>\n",
              "\t<tr><td>15000           </td><td>  6</td><td>0.0049586777</td></tr>\n",
              "\t<tr><td>16000           </td><td>  2</td><td>0.0016528926</td></tr>\n",
              "\t<tr><td>1700            </td><td>  1</td><td>0.0008264463</td></tr>\n",
              "\t<tr><td>1800            </td><td>  3</td><td>0.0024793388</td></tr>\n",
              "\t<tr><td>18000           </td><td>  1</td><td>0.0008264463</td></tr>\n",
              "\t<tr><td>1900            </td><td>  2</td><td>0.0016528926</td></tr>\n",
              "\t<tr><td>1oo             </td><td>  1</td><td>0.0008264463</td></tr>\n",
              "\t<tr><td>2               </td><td>  1</td><td>0.0008264463</td></tr>\n",
              "\t<tr><td>⋮</td><td>⋮</td><td>⋮</td></tr>\n",
              "\t<tr><td>No Idea.                    </td><td>14</td><td>0.0115702479</td></tr>\n",
              "\t<tr><td>No.idea                     </td><td> 4</td><td>0.0033057851</td></tr>\n",
              "\t<tr><td>No.o                        </td><td> 1</td><td>0.0008264463</td></tr>\n",
              "\t<tr><td>noidea                      </td><td> 1</td><td>0.0008264463</td></tr>\n",
              "\t<tr><td>Not                         </td><td> 1</td><td>0.0008264463</td></tr>\n",
              "\t<tr><td>not agree                   </td><td> 1</td><td>0.0008264463</td></tr>\n",
              "\t<tr><td>Not answer                  </td><td> 3</td><td>0.0024793388</td></tr>\n",
              "\t<tr><td>not answered                </td><td> 2</td><td>0.0016528926</td></tr>\n",
              "\t<tr><td>Not answered                </td><td>10</td><td>0.0082644628</td></tr>\n",
              "\t<tr><td>Not confirm                 </td><td> 4</td><td>0.0033057851</td></tr>\n",
              "\t<tr><td>Not confirm before check pos</td><td> 1</td><td>0.0008264463</td></tr>\n",
              "\t<tr><td>Not Confirmed               </td><td>23</td><td>0.0190082645</td></tr>\n",
              "\t<tr><td>not idea                    </td><td> 1</td><td>0.0008264463</td></tr>\n",
              "\t<tr><td>Not idea                    </td><td> 1</td><td>0.0008264463</td></tr>\n",
              "\t<tr><td>Not now                     </td><td> 1</td><td>0.0008264463</td></tr>\n",
              "\t<tr><td>Not safisified              </td><td> 1</td><td>0.0008264463</td></tr>\n",
              "\t<tr><td>not sure                    </td><td>60</td><td>0.0495867769</td></tr>\n",
              "\t<tr><td>Not sure                    </td><td>25</td><td>0.0206611570</td></tr>\n",
              "\t<tr><td>NOT SURE                    </td><td> 2</td><td>0.0016528926</td></tr>\n",
              "\t<tr><td>Not sure yet                </td><td> 1</td><td>0.0008264463</td></tr>\n",
              "\t<tr><td>not surew                   </td><td> 1</td><td>0.0008264463</td></tr>\n",
              "\t<tr><td>Not willing                 </td><td>12</td><td>0.0099173554</td></tr>\n",
              "\t<tr><td>Not yet                     </td><td> 1</td><td>0.0008264463</td></tr>\n",
              "\t<tr><td>not.sure                    </td><td> 1</td><td>0.0008264463</td></tr>\n",
              "\t<tr><td>notidea                     </td><td> 1</td><td>0.0008264463</td></tr>\n",
              "\t<tr><td>only 1000                   </td><td> 2</td><td>0.0016528926</td></tr>\n",
              "\t<tr><td>Quarterly                   </td><td> 2</td><td>0.0016528926</td></tr>\n",
              "\t<tr><td>Shopkeeper is good          </td><td> 1</td><td>0.0008264463</td></tr>\n",
              "\t<tr><td>Time of required will decide</td><td> 1</td><td>0.0008264463</td></tr>\n",
              "\t<tr><td>Yearly                      </td><td>23</td><td>0.0190082645</td></tr>\n",
              "</tbody>\n",
              "</table>\n"
            ]
          },
          "metadata": {
            "tags": []
          }
        }
      ]
    },
    {
      "cell_type": "code",
      "metadata": {
        "id": "XNkKuRBWPZI4"
      },
      "source": [
        "df_with_1$ORG_WILLINGNESS_TO_PAY_AMOUNT\t %>% \n",
        "factor() %>% \n",
        "fct_inorder() -> df_with_1$ORG_WILLINGNESS_TO_PAY_AMOUNT"
      ],
      "execution_count": 419,
      "outputs": []
    },
    {
      "cell_type": "code",
      "metadata": {
        "colab": {
          "base_uri": "https://localhost:8080/",
          "height": 358
        },
        "id": "ywAUW8RiPgNA",
        "outputId": "1946b4df-654a-4e7f-8603-70dc02458ccc"
      },
      "source": [
        "levels(df_with_1$ORG_WILLINGNESS_TO_PAY_AMOUNT)"
      ],
      "execution_count": 420,
      "outputs": [
        {
          "output_type": "display_data",
          "data": {
            "text/plain": [
              "  [1] \"1000\"                             \"10000\"                           \n",
              "  [3] \"500\"                              \"-\"                               \n",
              "  [5] \"Medi health\"                      \"No\"                              \n",
              "  [7] \"Don't want\"                       \"20000 Rs\"                        \n",
              "  [9] \"50000\"                            \"0\"                               \n",
              " [11] \"5000\"                             \"Confirm after demo\"              \n",
              " [13] \"2000\"                             \"3000\"                            \n",
              " [15] \"Not sure yet\"                     \"30 to 50 thosend\"                \n",
              " [17] \"1500\"                             \"600\"                             \n",
              " [19] \"No idea\"                          \"Not sure\"                        \n",
              " [21] \"Less than 5000\"                   \"6000\"                            \n",
              " [23] \"After demo confirm\"               \"4000\"                            \n",
              " [25] \"After Demo\"                       \"Not willing\"                     \n",
              " [27] \"Its depends upon purchasing time\" \"50000 thousands\"                 \n",
              " [29] \"18000\"                            \"15000\"                           \n",
              " [31] \"na\"                               \"2 yere\"                          \n",
              " [33] \"5 thousand\"                       \"5 yere\"                          \n",
              " [35] \"i will no pay\"                    \"little agree\"                    \n",
              " [37] \"Depend on the offer\"              \"2 thousand\"                      \n",
              " [39] \"5 year\"                           \"1\"                               \n",
              " [41] \"2 Thousnd\"                        \"3 thousand\"                      \n",
              " [43] \"8000\"                             \"not agree\"                       \n",
              " [45] \"12000\"                            \"3 thousand per month\"            \n",
              " [47] \"120000\"                           \"3 thousnd\"                       \n",
              " [49] \"2500\"                             \"1 thusnd\"                        \n",
              " [51] \"After demo decide\"                \"16000\"                           \n",
              " [53] \"I am happy without it\"            \"10k\"                             \n",
              " [55] \"20k\"                              \"800\"                             \n",
              " [57] \"Not Confirmed\"                    \".\"                               \n",
              " [59] \"3500\"                             \"4500\"                            \n",
              " [61] \"Depends Upon Situation\"           \"7000\"                            \n",
              " [63] \"Not answer\"                       \"Not answered\"                    \n",
              " [65] \"2000 per week till 14000\"         \"must reasonable\"                 \n",
              " [67] \"not answered\"                     \"cant afford\"                     \n",
              " [69] \"depend on the features\"           \"No answered\"                     \n",
              " [71] \"depend on the offer\"              \"depend on the machine\"           \n",
              " [73] \"40to50 thosend\"                   \"Yearly\"                          \n",
              " [75] \"May Be\"                           \"1oo\"                             \n",
              " [77] \"Not yet\"                          \"200\"                             \n",
              " [79] \"Not idea\"                         \"750\"                             \n",
              " [81] \"5oo\"                              \"3ooo\"                            \n",
              " [83] \"Nit sure\"                         \"Not now\"                         \n",
              " [85] \"20003000\"                         \"2000 / 3000\"                     \n",
              " [87] \"1200\"                             \"3oo\"                             \n",
              " [89] \"1300\"                             \"1800\"                            \n",
              " [91] \"14\"                               \"11000\"                           \n",
              " [93] \"Not safisified\"                   \"1700\"                            \n",
              " [95] \"Decide at time of required\"       \"2200\"                            \n",
              " [97] \"700\"                              \"At purchasing time\"              \n",
              " [99] \"Time of required will decide\"     \"Not\"                             \n",
              "[101] \"Confirm at purchasing time\"       \"Quarterly\"                       \n",
              "[103] \"9000\"                             \"Depend on the features\"          \n",
              "[105] \"depend on offer\"                  \"Monthly\"                         \n",
              "[107] \"Monhtly\"                          \"6600\"                            \n",
              "[109] \"6800\"                             \"13000\"                           \n",
              "[111] \"Na\"                               \"1900\"                            \n",
              "[113] \"300\"                              \"1400\"                            \n",
              "[115] \"2300\"                             \"not sure\"                        \n",
              "[117] \"Not confirm\"                      \"After demo\"                      \n",
              "[119] \"No.idea\"                          \"No.o\"                            \n",
              "[121] \"Demand software price\"            \"no idea\"                         \n",
              "[123] \"NO IDEA\"                          \"NOT SURE\"                        \n",
              "[125] \"50006000\"                         \"only 1000\"                       \n",
              "[127] \"Nkt sure\"                         \"=-\"                              \n",
              "[129] \"no ide\"                           \"100\"                             \n",
              "[131] \"not.sure\"                         \"After check softerware\"          \n",
              "[133] \"1400/\"                            \"At time of purchasing\"           \n",
              "[135] \"Not confirm before check pos\"     \"20000\"                           \n",
              "[137] \"not surew\"                        \"not idea\"                        \n",
              "[139] \"400\"                              \"3000\\\\\"                          \n",
              "[141] \"9090\"                             \"Shopkeeper is good\"              \n",
              "[143] \"5500\"                             \"noidea\"                          \n",
              "[145] \"notidea\"                          \"Depends on situation\"            \n",
              "[147] \"Depends on situatio\"              \"11100\"                           \n",
              "[149] \"2\"                                \"10,000 to 12,000\"                \n",
              "[151] \"No Idea.\"                         \"After Demo he decide\"            "
            ],
            "text/latex": "\\begin{enumerate*}\n\\item '1000'\n\\item '10000'\n\\item '500'\n\\item '-'\n\\item 'Medi health'\n\\item 'No'\n\\item 'Don\\textbackslash{}'t want'\n\\item '20000 Rs'\n\\item '50000'\n\\item '0'\n\\item '5000'\n\\item 'Confirm after demo'\n\\item '2000'\n\\item '3000'\n\\item 'Not sure yet'\n\\item '30 to 50 thosend'\n\\item '1500'\n\\item '600'\n\\item 'No idea'\n\\item 'Not sure'\n\\item 'Less than 5000'\n\\item '6000'\n\\item 'After demo confirm'\n\\item '4000'\n\\item 'After Demo'\n\\item 'Not willing'\n\\item 'Its depends upon purchasing time'\n\\item '50000 thousands'\n\\item '18000'\n\\item '15000'\n\\item 'na'\n\\item '2 yere'\n\\item '5 thousand'\n\\item '5 yere'\n\\item 'i will no pay'\n\\item 'little agree'\n\\item 'Depend on the offer'\n\\item '2 thousand'\n\\item '5 year'\n\\item '1'\n\\item '2 Thousnd'\n\\item '3 thousand'\n\\item '8000'\n\\item 'not agree'\n\\item '12000'\n\\item '3 thousand per month'\n\\item '120000'\n\\item '3 thousnd'\n\\item '2500'\n\\item '1 thusnd'\n\\item 'After demo decide'\n\\item '16000'\n\\item 'I am happy without it'\n\\item '10k'\n\\item '20k'\n\\item '800'\n\\item 'Not Confirmed'\n\\item '.'\n\\item '3500'\n\\item '4500'\n\\item 'Depends Upon Situation'\n\\item '7000'\n\\item 'Not answer'\n\\item 'Not answered'\n\\item '2000 per week till 14000'\n\\item 'must reasonable'\n\\item 'not answered'\n\\item 'cant afford'\n\\item 'depend on the features'\n\\item 'No answered'\n\\item 'depend on the offer'\n\\item 'depend on the machine'\n\\item '40to50 thosend'\n\\item 'Yearly'\n\\item 'May Be'\n\\item '1oo'\n\\item 'Not yet'\n\\item '200'\n\\item 'Not idea'\n\\item '750'\n\\item '5oo'\n\\item '3ooo'\n\\item 'Nit sure'\n\\item 'Not now'\n\\item '20003000'\n\\item '2000 / 3000'\n\\item '1200'\n\\item '3oo'\n\\item '1300'\n\\item '1800'\n\\item '14'\n\\item '11000'\n\\item 'Not safisified'\n\\item '1700'\n\\item 'Decide at time of required'\n\\item '2200'\n\\item '700'\n\\item 'At purchasing time'\n\\item 'Time of required will decide'\n\\item 'Not'\n\\item 'Confirm at purchasing time'\n\\item 'Quarterly'\n\\item '9000'\n\\item 'Depend on the features'\n\\item 'depend on offer'\n\\item 'Monthly'\n\\item 'Monhtly'\n\\item '6600'\n\\item '6800'\n\\item '13000'\n\\item 'Na'\n\\item '1900'\n\\item '300'\n\\item '1400'\n\\item '2300'\n\\item 'not sure'\n\\item 'Not confirm'\n\\item 'After demo'\n\\item 'No.idea'\n\\item 'No.o'\n\\item 'Demand software price'\n\\item 'no idea'\n\\item 'NO IDEA'\n\\item 'NOT SURE'\n\\item '50006000'\n\\item 'only 1000'\n\\item 'Nkt sure'\n\\item '=-'\n\\item 'no ide'\n\\item '100'\n\\item 'not.sure'\n\\item 'After check softerware'\n\\item '1400/'\n\\item 'At time of purchasing'\n\\item 'Not confirm before check pos'\n\\item '20000'\n\\item 'not surew'\n\\item 'not idea'\n\\item '400'\n\\item '3000\\textbackslash{}\\textbackslash{}'\n\\item '9090'\n\\item 'Shopkeeper is good'\n\\item '5500'\n\\item 'noidea'\n\\item 'notidea'\n\\item 'Depends on situation'\n\\item 'Depends on situatio'\n\\item '11100'\n\\item '2'\n\\item '10,000 to 12,000'\n\\item 'No Idea.'\n\\item 'After Demo he decide'\n\\end{enumerate*}\n",
            "text/markdown": "1. '1000'\n2. '10000'\n3. '500'\n4. '-'\n5. 'Medi health'\n6. 'No'\n7. 'Don\\'t want'\n8. '20000 Rs'\n9. '50000'\n10. '0'\n11. '5000'\n12. 'Confirm after demo'\n13. '2000'\n14. '3000'\n15. 'Not sure yet'\n16. '30 to 50 thosend'\n17. '1500'\n18. '600'\n19. 'No idea'\n20. 'Not sure'\n21. 'Less than 5000'\n22. '6000'\n23. 'After demo confirm'\n24. '4000'\n25. 'After Demo'\n26. 'Not willing'\n27. 'Its depends upon purchasing time'\n28. '50000 thousands'\n29. '18000'\n30. '15000'\n31. 'na'\n32. '2 yere'\n33. '5 thousand'\n34. '5 yere'\n35. 'i will no pay'\n36. 'little agree'\n37. 'Depend on the offer'\n38. '2 thousand'\n39. '5 year'\n40. '1'\n41. '2 Thousnd'\n42. '3 thousand'\n43. '8000'\n44. 'not agree'\n45. '12000'\n46. '3 thousand per month'\n47. '120000'\n48. '3 thousnd'\n49. '2500'\n50. '1 thusnd'\n51. 'After demo decide'\n52. '16000'\n53. 'I am happy without it'\n54. '10k'\n55. '20k'\n56. '800'\n57. 'Not Confirmed'\n58. '.'\n59. '3500'\n60. '4500'\n61. 'Depends Upon Situation'\n62. '7000'\n63. 'Not answer'\n64. 'Not answered'\n65. '2000 per week till 14000'\n66. 'must reasonable'\n67. 'not answered'\n68. 'cant afford'\n69. 'depend on the features'\n70. 'No answered'\n71. 'depend on the offer'\n72. 'depend on the machine'\n73. '40to50 thosend'\n74. 'Yearly'\n75. 'May Be'\n76. '1oo'\n77. 'Not yet'\n78. '200'\n79. 'Not idea'\n80. '750'\n81. '5oo'\n82. '3ooo'\n83. 'Nit sure'\n84. 'Not now'\n85. '20003000'\n86. '2000 / 3000'\n87. '1200'\n88. '3oo'\n89. '1300'\n90. '1800'\n91. '14'\n92. '11000'\n93. 'Not safisified'\n94. '1700'\n95. 'Decide at time of required'\n96. '2200'\n97. '700'\n98. 'At purchasing time'\n99. 'Time of required will decide'\n100. 'Not'\n101. 'Confirm at purchasing time'\n102. 'Quarterly'\n103. '9000'\n104. 'Depend on the features'\n105. 'depend on offer'\n106. 'Monthly'\n107. 'Monhtly'\n108. '6600'\n109. '6800'\n110. '13000'\n111. 'Na'\n112. '1900'\n113. '300'\n114. '1400'\n115. '2300'\n116. 'not sure'\n117. 'Not confirm'\n118. 'After demo'\n119. 'No.idea'\n120. 'No.o'\n121. 'Demand software price'\n122. 'no idea'\n123. 'NO IDEA'\n124. 'NOT SURE'\n125. '50006000'\n126. 'only 1000'\n127. 'Nkt sure'\n128. '=-'\n129. 'no ide'\n130. '100'\n131. 'not.sure'\n132. 'After check softerware'\n133. '1400/'\n134. 'At time of purchasing'\n135. 'Not confirm before check pos'\n136. '20000'\n137. 'not surew'\n138. 'not idea'\n139. '400'\n140. '3000\\\\'\n141. '9090'\n142. 'Shopkeeper is good'\n143. '5500'\n144. 'noidea'\n145. 'notidea'\n146. 'Depends on situation'\n147. 'Depends on situatio'\n148. '11100'\n149. '2'\n150. '10,000 to 12,000'\n151. 'No Idea.'\n152. 'After Demo he decide'\n\n\n",
            "text/html": [
              "<style>\n",
              ".list-inline {list-style: none; margin:0; padding: 0}\n",
              ".list-inline>li {display: inline-block}\n",
              ".list-inline>li:not(:last-child)::after {content: \"\\00b7\"; padding: 0 .5ex}\n",
              "</style>\n",
              "<ol class=list-inline><li>'1000'</li><li>'10000'</li><li>'500'</li><li>'-'</li><li>'Medi health'</li><li>'No'</li><li>'Don\\'t want'</li><li>'20000 Rs'</li><li>'50000'</li><li>'0'</li><li>'5000'</li><li>'Confirm after demo'</li><li>'2000'</li><li>'3000'</li><li>'Not sure yet'</li><li>'30 to 50 thosend'</li><li>'1500'</li><li>'600'</li><li>'No idea'</li><li>'Not sure'</li><li>'Less than 5000'</li><li>'6000'</li><li>'After demo confirm'</li><li>'4000'</li><li>'After Demo'</li><li>'Not willing'</li><li>'Its depends upon purchasing time'</li><li>'50000 thousands'</li><li>'18000'</li><li>'15000'</li><li>'na'</li><li>'2 yere'</li><li>'5 thousand'</li><li>'5 yere'</li><li>'i will no pay'</li><li>'little agree'</li><li>'Depend on the offer'</li><li>'2 thousand'</li><li>'5 year'</li><li>'1'</li><li>'2 Thousnd'</li><li>'3 thousand'</li><li>'8000'</li><li>'not agree'</li><li>'12000'</li><li>'3 thousand per month'</li><li>'120000'</li><li>'3 thousnd'</li><li>'2500'</li><li>'1 thusnd'</li><li>'After demo decide'</li><li>'16000'</li><li>'I am happy without it'</li><li>'10k'</li><li>'20k'</li><li>'800'</li><li>'Not Confirmed'</li><li>'.'</li><li>'3500'</li><li>'4500'</li><li>'Depends Upon Situation'</li><li>'7000'</li><li>'Not answer'</li><li>'Not answered'</li><li>'2000 per week till 14000'</li><li>'must reasonable'</li><li>'not answered'</li><li>'cant afford'</li><li>'depend on the features'</li><li>'No answered'</li><li>'depend on the offer'</li><li>'depend on the machine'</li><li>'40to50 thosend'</li><li>'Yearly'</li><li>'May Be'</li><li>'1oo'</li><li>'Not yet'</li><li>'200'</li><li>'Not idea'</li><li>'750'</li><li>'5oo'</li><li>'3ooo'</li><li>'Nit sure'</li><li>'Not now'</li><li>'20003000'</li><li>'2000 / 3000'</li><li>'1200'</li><li>'3oo'</li><li>'1300'</li><li>'1800'</li><li>'14'</li><li>'11000'</li><li>'Not safisified'</li><li>'1700'</li><li>'Decide at time of required'</li><li>'2200'</li><li>'700'</li><li>'At purchasing time'</li><li>'Time of required will decide'</li><li>'Not'</li><li>'Confirm at purchasing time'</li><li>'Quarterly'</li><li>'9000'</li><li>'Depend on the features'</li><li>'depend on offer'</li><li>'Monthly'</li><li>'Monhtly'</li><li>'6600'</li><li>'6800'</li><li>'13000'</li><li>'Na'</li><li>'1900'</li><li>'300'</li><li>'1400'</li><li>'2300'</li><li>'not sure'</li><li>'Not confirm'</li><li>'After demo'</li><li>'No.idea'</li><li>'No.o'</li><li>'Demand software price'</li><li>'no idea'</li><li>'NO IDEA'</li><li>'NOT SURE'</li><li>'50006000'</li><li>'only 1000'</li><li>'Nkt sure'</li><li>'=-'</li><li>'no ide'</li><li>'100'</li><li>'not.sure'</li><li>'After check softerware'</li><li>'1400/'</li><li>'At time of purchasing'</li><li>'Not confirm before check pos'</li><li>'20000'</li><li>'not surew'</li><li>'not idea'</li><li>'400'</li><li>'3000\\\\'</li><li>'9090'</li><li>'Shopkeeper is good'</li><li>'5500'</li><li>'noidea'</li><li>'notidea'</li><li>'Depends on situation'</li><li>'Depends on situatio'</li><li>'11100'</li><li>'2'</li><li>'10,000 to 12,000'</li><li>'No Idea.'</li><li>'After Demo he decide'</li></ol>\n"
            ]
          },
          "metadata": {
            "tags": []
          }
        }
      ]
    },
    {
      "cell_type": "code",
      "metadata": {
        "id": "33zXedN1PtjD"
      },
      "source": [
        "df_with_1 <- df_with_1 %>%\n",
        "mutate (ORG_WILLINGNESS_TO_PAY_AMOUNT = fct_recode(ORG_WILLINGNESS_TO_PAY_AMOUNT,\n",
        "'No ANS' = '-',\n",
        "'No ANS' = 'Medi health',\n",
        "'No ANS' = 'No',\n",
        "'No ANS' = 'Don\\'t want',\n",
        "'No ANS' = 'Not sure yet',\n",
        "'No ANS' = 'No idea',\n",
        "'No ANS' = 'Not sure',\n",
        "'No ANS' = 'Its depends upon purchasing time',\n",
        "'No ANS' = 'na',\n",
        "'No ANS' = '2 yere',\n",
        "'No ANS' = '5 yere',\n",
        "'No ANS' = 'i will no pay',\n",
        "'No ANS' = 'little agree',\n",
        "'No ANS' = 'Depend on the offer',\n",
        "'No ANS' = '5 year',\n",
        "'No ANS' = 'not agree',\n",
        "'No ANS' = 'After demo decide',\n",
        "'No ANS' = 'I am happy without it',\n",
        "'No ANS' = 'Not Confirmed',\n",
        "'No ANS' = '.',\n",
        "'No ANS' = 'Depends Upon Situation',\n",
        "'No ANS' = 'Not answer',\n",
        "'No ANS' = 'Not answered',\n",
        "'No ANS' = 'must reasonable',\n",
        "'No ANS' = 'not answered',\n",
        "'No ANS' = 'cant afford',\n",
        "'No ANS' = 'depend on the features',\n",
        "'No ANS' = 'No answered',\n",
        "'No ANS' = 'depend on the offer',\n",
        "'No ANS' = 'depend on the machine',\n",
        "'No ANS' = 'Yearly',\n",
        "'No ANS' = 'May Be',\n",
        "'No ANS' = 'Not yet',\n",
        "'No ANS' = 'Not idea',\n",
        "'No ANS' = 'Nit sure',\n",
        "'No ANS' = 'Not now',\n",
        "'No ANS' = 'Not safisified',\n",
        "'No ANS' = 'Decide at time of required',\n",
        "'No ANS' = 'At purchasing time',\n",
        "'No ANS' = 'Time of required will decide',\n",
        "'No ANS' = 'Not',\n",
        "'No ANS' = 'Confirm at purchasing time',\n",
        "'No ANS' = 'Quarterly',\n",
        "'No ANS' = 'Depend on the features',\n",
        "'No ANS' = 'depend on offer',\n",
        "'No ANS' = 'Monthly',\n",
        "'No ANS' = 'Na',\n",
        "'No ANS' = 'not sure',\n",
        "'No ANS' = 'Not confirm',\n",
        "'No ANS' = 'After demo',\n",
        "'No ANS' = 'No.idea',\n",
        "'No ANS' = 'No.o',\n",
        "'No ANS' = 'Demand software price',\n",
        "'No ANS' = 'no idea',\n",
        "'No ANS' = 'NO IDEA',\n",
        "'No ANS' = 'NOT SURE',\n",
        "'No ANS' = 'Nkt sure',\n",
        "'No ANS' = '=-',\n",
        "'No ANS' = 'no ide',\n",
        "'No ANS' = 'not.sure',\n",
        "'No ANS' = 'After check softerware',\n",
        "'No ANS' = 'At time of purchasing',\n",
        "'No ANS' = 'Not confirm before check pos',\n",
        "'No ANS' = 'not idea',\n",
        "'No ANS' = 'Shopkeeper is good',\n",
        "'No ANS' = 'noidea',\n",
        "'No ANS' = 'notidea',\n",
        "'No ANS' = 'Depends on situation',\n",
        "'No ANS' = 'Depends on situatio',\n",
        "'No ANS' = 'No Idea.',\n",
        "'No ANS' = 'After Demo he decide',\n",
        "'No ANS' = 'Confirm after demo',\n",
        "'No ANS' = 'After demo confirm',\n",
        "'No ANS' = 'After Demo',\n",
        "'No ANS' = 'Not willing',\n",
        "'No ANS' = 'Monhtly',\n",
        "'No ANS' = 'not surew',\n",
        "'10K+' = '20000 Rs',\n",
        "'1K' = '1000',\n",
        "'10K' = '10000',\n",
        "'<1K' = '500',\n",
        "'10K+' = '50000',\n",
        "'5K' = '5000',\n",
        "'2K' = '2000',\n",
        "'3K' = '3000',\n",
        "'10K+' = '30 to 50 thosend',\n",
        "'5K' = 'Less than 5000',\n",
        "'6K' = '6000',\n",
        "'4K' = '4000',\n",
        "'5K' = '50000 thousands',\n",
        "'10K+' = '18000',\n",
        "'10K+' = '15000',\n",
        "'5K' = '5 thousand',\n",
        "'2K' = '2 thousand',\n",
        "'No ANS' = '1',\n",
        "'2K' = '2 Thousnd',\n",
        "'3K' = '3 thousand',\n",
        "'8K' = '8000',\n",
        "'10K+' = '12000',\n",
        "'3K' = '3 thousand per month',\n",
        "'10K+' = '120000',\n",
        "'3K' = '3 thousnd',\n",
        "'2K' = '2500',\n",
        "'1K' = '1 thusnd',\n",
        "'10K+' = '16000',\n",
        "'<1K' = '800',\n",
        "'3K' = '3500',\n",
        "'4K' = '4500',\n",
        "'7K' = '7000',\n",
        "'10K+' = '2000 per week till 14000',\n",
        "'10K+' = '40to50 thosend',\n",
        "'<1K' = '1oo',\n",
        "'<1K' = '200',\n",
        "'<1K' = '750',\n",
        "'<1K' = '5oo',\n",
        "'3K' = '3ooo',\n",
        "'2K' = '20003000',\n",
        "'2K' = '2000 / 3000',\n",
        "'1K' = '1200',\n",
        "'<1K' = '3oo',\n",
        "'1K' = '1300',\n",
        "'1K' = '1800',\n",
        "'No ANS' = '14',\n",
        "'1K' = '11000',\n",
        "'1K' = '1700',\n",
        "'2K' = '2200',\n",
        "'<1K' = '700',\n",
        "'9K' = '9000',\n",
        "'6K' = '6600',\n",
        "'6K' = '6800',\n",
        "'10K+' = '13000',\n",
        "'1K' = '1900',\n",
        "'<1K' = '300',\n",
        "'<1K' = '1400',\n",
        "'2K' = '2300',\n",
        "'5K' = '50006000',\n",
        "'1K' = 'only 1000',\n",
        "'<1K' = '100',\n",
        "'1K' = '1400/',\n",
        "'10K+' = '20000',\n",
        "'<1K' = '400',\n",
        "'3K' = '3000\\\\',\n",
        "'9K' = '9090',\n",
        "'5K' = '5500',\n",
        "'10K+' = '11100',\n",
        "'<1K' = '2',\n",
        "'10K+' = '10,000 to 12,000',\n",
        "'1K' = '1500',\n",
        "'<1K' = '600'\n",
        "\n",
        "))"
      ],
      "execution_count": 421,
      "outputs": []
    },
    {
      "cell_type": "code",
      "metadata": {
        "colab": {
          "base_uri": "https://localhost:8080/",
          "height": 34
        },
        "id": "L2gHA_ewTFgM",
        "outputId": "81a3e97b-2e7b-4bd8-f4d3-e52cab79ef78"
      },
      "source": [
        "levels(df_with_1$ORG_WILLINGNESS_TO_PAY_AMOUNT)"
      ],
      "execution_count": 422,
      "outputs": [
        {
          "output_type": "display_data",
          "data": {
            "text/plain": [
              " [1] \"1K\"     \"10K\"    \"<1K\"    \"No ANS\" \"10K+\"   \"0\"      \"5K\"     \"2K\"    \n",
              " [9] \"3K\"     \"6K\"     \"4K\"     \"8K\"     \"10k\"    \"20k\"    \"7K\"     \"9K\"    "
            ],
            "text/latex": "\\begin{enumerate*}\n\\item '1K'\n\\item '10K'\n\\item '<1K'\n\\item 'No ANS'\n\\item '10K+'\n\\item '0'\n\\item '5K'\n\\item '2K'\n\\item '3K'\n\\item '6K'\n\\item '4K'\n\\item '8K'\n\\item '10k'\n\\item '20k'\n\\item '7K'\n\\item '9K'\n\\end{enumerate*}\n",
            "text/markdown": "1. '1K'\n2. '10K'\n3. '&lt;1K'\n4. 'No ANS'\n5. '10K+'\n6. '0'\n7. '5K'\n8. '2K'\n9. '3K'\n10. '6K'\n11. '4K'\n12. '8K'\n13. '10k'\n14. '20k'\n15. '7K'\n16. '9K'\n\n\n",
            "text/html": [
              "<style>\n",
              ".list-inline {list-style: none; margin:0; padding: 0}\n",
              ".list-inline>li {display: inline-block}\n",
              ".list-inline>li:not(:last-child)::after {content: \"\\00b7\"; padding: 0 .5ex}\n",
              "</style>\n",
              "<ol class=list-inline><li>'1K'</li><li>'10K'</li><li>'&lt;1K'</li><li>'No ANS'</li><li>'10K+'</li><li>'0'</li><li>'5K'</li><li>'2K'</li><li>'3K'</li><li>'6K'</li><li>'4K'</li><li>'8K'</li><li>'10k'</li><li>'20k'</li><li>'7K'</li><li>'9K'</li></ol>\n"
            ]
          },
          "metadata": {
            "tags": []
          }
        }
      ]
    },
    {
      "cell_type": "code",
      "metadata": {
        "id": "PeeygTUCliVO"
      },
      "source": [
        "df_with_1 <- df_with_1 %>%\n",
        "mutate (ORG_WILLINGNESS_TO_PAY_AMOUNT = fct_recode(ORG_WILLINGNESS_TO_PAY_AMOUNT,\n",
        "'10K' = '10k',\n",
        "'10K+' = '20k'\n",
        "))"
      ],
      "execution_count": 423,
      "outputs": []
    },
    {
      "cell_type": "code",
      "metadata": {
        "colab": {
          "base_uri": "https://localhost:8080/",
          "height": 34
        },
        "id": "5A7W5g0Kl0U7",
        "outputId": "45a80863-a416-4025-9054-bb37b8124cb0"
      },
      "source": [
        "levels(df_with_1$ORG_WILLINGNESS_TO_PAY_AMOUNT)"
      ],
      "execution_count": 424,
      "outputs": [
        {
          "output_type": "display_data",
          "data": {
            "text/plain": [
              " [1] \"1K\"     \"10K\"    \"<1K\"    \"No ANS\" \"10K+\"   \"0\"      \"5K\"     \"2K\"    \n",
              " [9] \"3K\"     \"6K\"     \"4K\"     \"8K\"     \"7K\"     \"9K\"    "
            ],
            "text/latex": "\\begin{enumerate*}\n\\item '1K'\n\\item '10K'\n\\item '<1K'\n\\item 'No ANS'\n\\item '10K+'\n\\item '0'\n\\item '5K'\n\\item '2K'\n\\item '3K'\n\\item '6K'\n\\item '4K'\n\\item '8K'\n\\item '7K'\n\\item '9K'\n\\end{enumerate*}\n",
            "text/markdown": "1. '1K'\n2. '10K'\n3. '&lt;1K'\n4. 'No ANS'\n5. '10K+'\n6. '0'\n7. '5K'\n8. '2K'\n9. '3K'\n10. '6K'\n11. '4K'\n12. '8K'\n13. '7K'\n14. '9K'\n\n\n",
            "text/html": [
              "<style>\n",
              ".list-inline {list-style: none; margin:0; padding: 0}\n",
              ".list-inline>li {display: inline-block}\n",
              ".list-inline>li:not(:last-child)::after {content: \"\\00b7\"; padding: 0 .5ex}\n",
              "</style>\n",
              "<ol class=list-inline><li>'1K'</li><li>'10K'</li><li>'&lt;1K'</li><li>'No ANS'</li><li>'10K+'</li><li>'0'</li><li>'5K'</li><li>'2K'</li><li>'3K'</li><li>'6K'</li><li>'4K'</li><li>'8K'</li><li>'7K'</li><li>'9K'</li></ol>\n"
            ]
          },
          "metadata": {
            "tags": []
          }
        }
      ]
    },
    {
      "cell_type": "markdown",
      "metadata": {
        "id": "kcp1J5eVjjTK"
      },
      "source": [
        "reordering levels"
      ]
    },
    {
      "cell_type": "code",
      "metadata": {
        "colab": {
          "base_uri": "https://localhost:8080/"
        },
        "id": "UZNYK-xXjYzA",
        "outputId": "f2a12669-15e0-48ea-e2d0-2e0792f75981"
      },
      "source": [
        "df_with_1 <- df_with_1 %>%\n",
        "mutate (ORG_WILLINGNESS_TO_PAY_AMOUNT = fct_relevel(ORG_WILLINGNESS_TO_PAY_AMOUNT,\n",
        "levels=c('No ANS','0','<1K','1K','2K','3K','4K','5K','6K','7K','8K','9K','10K', '10K+')))"
      ],
      "execution_count": 425,
      "outputs": [
        {
          "output_type": "stream",
          "text": [
            "Warning message:\n",
            "“Outer names are only allowed for unnamed scalar atomic inputs”\n"
          ],
          "name": "stderr"
        }
      ]
    },
    {
      "cell_type": "code",
      "metadata": {
        "colab": {
          "base_uri": "https://localhost:8080/",
          "height": 529
        },
        "id": "8D7mF9eBmwdZ",
        "outputId": "90763f45-b580-4d18-fb39-f28d37f2bb63"
      },
      "source": [
        "tabyl(df_with_1$ORG_WILLINGNESS_TO_PAY_AMOUNT)"
      ],
      "execution_count": 426,
      "outputs": [
        {
          "output_type": "display_data",
          "data": {
            "text/plain": [
              "   df_with_1$ORG_WILLINGNESS_TO_PAY_AMOUNT n   percent    \n",
              "1  No ANS                                  574 0.474380165\n",
              "2  0                                        53 0.043801653\n",
              "3  <1K                                      30 0.024793388\n",
              "4  1K                                      126 0.104132231\n",
              "5  2K                                      155 0.128099174\n",
              "6  3K                                       61 0.050413223\n",
              "7  4K                                       30 0.024793388\n",
              "8  5K                                       56 0.046280992\n",
              "9  6K                                       22 0.018181818\n",
              "10 7K                                       12 0.009917355\n",
              "11 8K                                       15 0.012396694\n",
              "12 9K                                        8 0.006611570\n",
              "13 10K                                      30 0.024793388\n",
              "14 10K+                                     38 0.031404959"
            ],
            "text/latex": "A tabyl: 14 × 3\n\\begin{tabular}{lll}\n df\\_with\\_1\\$ORG\\_WILLINGNESS\\_TO\\_PAY\\_AMOUNT & n & percent\\\\\n <fct> & <dbl> & <dbl>\\\\\n\\hline\n\t No ANS & 574 & 0.474380165\\\\\n\t 0      &  53 & 0.043801653\\\\\n\t <1K    &  30 & 0.024793388\\\\\n\t 1K     & 126 & 0.104132231\\\\\n\t 2K     & 155 & 0.128099174\\\\\n\t 3K     &  61 & 0.050413223\\\\\n\t 4K     &  30 & 0.024793388\\\\\n\t 5K     &  56 & 0.046280992\\\\\n\t 6K     &  22 & 0.018181818\\\\\n\t 7K     &  12 & 0.009917355\\\\\n\t 8K     &  15 & 0.012396694\\\\\n\t 9K     &   8 & 0.006611570\\\\\n\t 10K    &  30 & 0.024793388\\\\\n\t 10K+   &  38 & 0.031404959\\\\\n\\end{tabular}\n",
            "text/markdown": "\nA tabyl: 14 × 3\n\n| df_with_1$ORG_WILLINGNESS_TO_PAY_AMOUNT &lt;fct&gt; | n &lt;dbl&gt; | percent &lt;dbl&gt; |\n|---|---|---|\n| No ANS | 574 | 0.474380165 |\n| 0      |  53 | 0.043801653 |\n| &lt;1K    |  30 | 0.024793388 |\n| 1K     | 126 | 0.104132231 |\n| 2K     | 155 | 0.128099174 |\n| 3K     |  61 | 0.050413223 |\n| 4K     |  30 | 0.024793388 |\n| 5K     |  56 | 0.046280992 |\n| 6K     |  22 | 0.018181818 |\n| 7K     |  12 | 0.009917355 |\n| 8K     |  15 | 0.012396694 |\n| 9K     |   8 | 0.006611570 |\n| 10K    |  30 | 0.024793388 |\n| 10K+   |  38 | 0.031404959 |\n\n",
            "text/html": [
              "<table class=\"dataframe\">\n",
              "<caption>A tabyl: 14 × 3</caption>\n",
              "<thead>\n",
              "\t<tr><th scope=col>df_with_1$ORG_WILLINGNESS_TO_PAY_AMOUNT</th><th scope=col>n</th><th scope=col>percent</th></tr>\n",
              "\t<tr><th scope=col>&lt;fct&gt;</th><th scope=col>&lt;dbl&gt;</th><th scope=col>&lt;dbl&gt;</th></tr>\n",
              "</thead>\n",
              "<tbody>\n",
              "\t<tr><td>No ANS</td><td>574</td><td>0.474380165</td></tr>\n",
              "\t<tr><td>0     </td><td> 53</td><td>0.043801653</td></tr>\n",
              "\t<tr><td><span style=white-space:pre-wrap>&lt;1K   </span></td><td> 30</td><td>0.024793388</td></tr>\n",
              "\t<tr><td>1K    </td><td>126</td><td>0.104132231</td></tr>\n",
              "\t<tr><td>2K    </td><td>155</td><td>0.128099174</td></tr>\n",
              "\t<tr><td>3K    </td><td> 61</td><td>0.050413223</td></tr>\n",
              "\t<tr><td>4K    </td><td> 30</td><td>0.024793388</td></tr>\n",
              "\t<tr><td>5K    </td><td> 56</td><td>0.046280992</td></tr>\n",
              "\t<tr><td>6K    </td><td> 22</td><td>0.018181818</td></tr>\n",
              "\t<tr><td>7K    </td><td> 12</td><td>0.009917355</td></tr>\n",
              "\t<tr><td>8K    </td><td> 15</td><td>0.012396694</td></tr>\n",
              "\t<tr><td>9K    </td><td>  8</td><td>0.006611570</td></tr>\n",
              "\t<tr><td>10K   </td><td> 30</td><td>0.024793388</td></tr>\n",
              "\t<tr><td>10K+  </td><td> 38</td><td>0.031404959</td></tr>\n",
              "</tbody>\n",
              "</table>\n"
            ]
          },
          "metadata": {
            "tags": []
          }
        }
      ]
    },
    {
      "cell_type": "code",
      "metadata": {
        "colab": {
          "base_uri": "https://localhost:8080/",
          "height": 188
        },
        "id": "WsCmecO4nEzT",
        "outputId": "3f160c04-face-45de-90b9-0c85d3e0037f"
      },
      "source": [
        "names(df_with_1)"
      ],
      "execution_count": 427,
      "outputs": [
        {
          "output_type": "display_data",
          "data": {
            "text/plain": [
              " [1] \"RESP_ID\"                        \"ORG_ADDRESS\"                   \n",
              " [3] \"ORG_CITY\"                       \"ORG_POS_BUSINESS_IMPROVEMENT\"  \n",
              " [5] \"ORG_INTERNET_ACCESS\"            \"ORG_EXPAND_BUSINESS\"           \n",
              " [7] \"ORG_DELIVERY_SERVICE\"           \"ORG_CUSTOMER_DATA\"             \n",
              " [9] \"ORG_EMP_COUNT\"                  \"ORG_INTERNET_DISRUPTION\"       \n",
              "[11] \"ORG_NEW_POS_PAYMENT_PREF\"       \"ORG_NEW_POS_LANG_PREF\"         \n",
              "[13] \"ORG_NAME\"                       \"ORG_RESP_TENURE\"               \n",
              "[15] \"ORG_OUTLETS_COUNT\"              \"ORG_NEW_POS_KIND\"              \n",
              "[17] \"ORG_WILLINGNESS_TO_PAY_AMOUNT\"  \"RESP_DESIGNATION\"              \n",
              "[19] \"ORG_POS_FEATURES\"               \"ORG_NEW_POS_DEVICES\"           \n",
              "[21] \"ORG_TYPE\"                       \"ORG_CURRENT_PAYMENT_OPTIONS\"   \n",
              "[23] \"ORG_DISCOUNTS_OFFERED\"          \"ORG_URDU_FEATURES_EXPECTED\"    \n",
              "[25] \"ORG_REASON_TO_GET_POS\"          \"ORG_REASON_TO_NOT_HAVE_POS\"    \n",
              "[27] \"ORG_WILLINGNESS_DEMO\"           \"ORG_WILLINGNESS_FUTURE_CONTACT\""
            ],
            "text/latex": "\\begin{enumerate*}\n\\item 'RESP\\_ID'\n\\item 'ORG\\_ADDRESS'\n\\item 'ORG\\_CITY'\n\\item 'ORG\\_POS\\_BUSINESS\\_IMPROVEMENT'\n\\item 'ORG\\_INTERNET\\_ACCESS'\n\\item 'ORG\\_EXPAND\\_BUSINESS'\n\\item 'ORG\\_DELIVERY\\_SERVICE'\n\\item 'ORG\\_CUSTOMER\\_DATA'\n\\item 'ORG\\_EMP\\_COUNT'\n\\item 'ORG\\_INTERNET\\_DISRUPTION'\n\\item 'ORG\\_NEW\\_POS\\_PAYMENT\\_PREF'\n\\item 'ORG\\_NEW\\_POS\\_LANG\\_PREF'\n\\item 'ORG\\_NAME'\n\\item 'ORG\\_RESP\\_TENURE'\n\\item 'ORG\\_OUTLETS\\_COUNT'\n\\item 'ORG\\_NEW\\_POS\\_KIND'\n\\item 'ORG\\_WILLINGNESS\\_TO\\_PAY\\_AMOUNT'\n\\item 'RESP\\_DESIGNATION'\n\\item 'ORG\\_POS\\_FEATURES'\n\\item 'ORG\\_NEW\\_POS\\_DEVICES'\n\\item 'ORG\\_TYPE'\n\\item 'ORG\\_CURRENT\\_PAYMENT\\_OPTIONS'\n\\item 'ORG\\_DISCOUNTS\\_OFFERED'\n\\item 'ORG\\_URDU\\_FEATURES\\_EXPECTED'\n\\item 'ORG\\_REASON\\_TO\\_GET\\_POS'\n\\item 'ORG\\_REASON\\_TO\\_NOT\\_HAVE\\_POS'\n\\item 'ORG\\_WILLINGNESS\\_DEMO'\n\\item 'ORG\\_WILLINGNESS\\_FUTURE\\_CONTACT'\n\\end{enumerate*}\n",
            "text/markdown": "1. 'RESP_ID'\n2. 'ORG_ADDRESS'\n3. 'ORG_CITY'\n4. 'ORG_POS_BUSINESS_IMPROVEMENT'\n5. 'ORG_INTERNET_ACCESS'\n6. 'ORG_EXPAND_BUSINESS'\n7. 'ORG_DELIVERY_SERVICE'\n8. 'ORG_CUSTOMER_DATA'\n9. 'ORG_EMP_COUNT'\n10. 'ORG_INTERNET_DISRUPTION'\n11. 'ORG_NEW_POS_PAYMENT_PREF'\n12. 'ORG_NEW_POS_LANG_PREF'\n13. 'ORG_NAME'\n14. 'ORG_RESP_TENURE'\n15. 'ORG_OUTLETS_COUNT'\n16. 'ORG_NEW_POS_KIND'\n17. 'ORG_WILLINGNESS_TO_PAY_AMOUNT'\n18. 'RESP_DESIGNATION'\n19. 'ORG_POS_FEATURES'\n20. 'ORG_NEW_POS_DEVICES'\n21. 'ORG_TYPE'\n22. 'ORG_CURRENT_PAYMENT_OPTIONS'\n23. 'ORG_DISCOUNTS_OFFERED'\n24. 'ORG_URDU_FEATURES_EXPECTED'\n25. 'ORG_REASON_TO_GET_POS'\n26. 'ORG_REASON_TO_NOT_HAVE_POS'\n27. 'ORG_WILLINGNESS_DEMO'\n28. 'ORG_WILLINGNESS_FUTURE_CONTACT'\n\n\n",
            "text/html": [
              "<style>\n",
              ".list-inline {list-style: none; margin:0; padding: 0}\n",
              ".list-inline>li {display: inline-block}\n",
              ".list-inline>li:not(:last-child)::after {content: \"\\00b7\"; padding: 0 .5ex}\n",
              "</style>\n",
              "<ol class=list-inline><li>'RESP_ID'</li><li>'ORG_ADDRESS'</li><li>'ORG_CITY'</li><li>'ORG_POS_BUSINESS_IMPROVEMENT'</li><li>'ORG_INTERNET_ACCESS'</li><li>'ORG_EXPAND_BUSINESS'</li><li>'ORG_DELIVERY_SERVICE'</li><li>'ORG_CUSTOMER_DATA'</li><li>'ORG_EMP_COUNT'</li><li>'ORG_INTERNET_DISRUPTION'</li><li>'ORG_NEW_POS_PAYMENT_PREF'</li><li>'ORG_NEW_POS_LANG_PREF'</li><li>'ORG_NAME'</li><li>'ORG_RESP_TENURE'</li><li>'ORG_OUTLETS_COUNT'</li><li>'ORG_NEW_POS_KIND'</li><li>'ORG_WILLINGNESS_TO_PAY_AMOUNT'</li><li>'RESP_DESIGNATION'</li><li>'ORG_POS_FEATURES'</li><li>'ORG_NEW_POS_DEVICES'</li><li>'ORG_TYPE'</li><li>'ORG_CURRENT_PAYMENT_OPTIONS'</li><li>'ORG_DISCOUNTS_OFFERED'</li><li>'ORG_URDU_FEATURES_EXPECTED'</li><li>'ORG_REASON_TO_GET_POS'</li><li>'ORG_REASON_TO_NOT_HAVE_POS'</li><li>'ORG_WILLINGNESS_DEMO'</li><li>'ORG_WILLINGNESS_FUTURE_CONTACT'</li></ol>\n"
            ]
          },
          "metadata": {
            "tags": []
          }
        }
      ]
    },
    {
      "cell_type": "code",
      "metadata": {
        "colab": {
          "base_uri": "https://localhost:8080/",
          "height": 529
        },
        "id": "E4fcvbmwm5-7",
        "outputId": "325ad252-0a25-42e6-de8a-672857d5a618"
      },
      "source": [
        "df_with_1 %>% tabyl(ORG_WILLINGNESS_TO_PAY_AMOUNT,ORG_CITY)"
      ],
      "execution_count": 428,
      "outputs": [
        {
          "output_type": "display_data",
          "data": {
            "text/plain": [
              "   ORG_WILLINGNESS_TO_PAY_AMOUNT Islamabad Karachi Rawalpindi\n",
              "1  No ANS                        175       154     245       \n",
              "2  0                              52         1       0       \n",
              "3  <1K                             6        12      12       \n",
              "4  1K                             33         4      89       \n",
              "5  2K                              9        10     136       \n",
              "6  3K                              4        20      37       \n",
              "7  4K                              7         8      15       \n",
              "8  5K                             16        16      24       \n",
              "9  6K                             13         0       9       \n",
              "10 7K                              7         0       5       \n",
              "11 8K                              9         3       3       \n",
              "12 9K                              7         0       1       \n",
              "13 10K                            20         8       2       \n",
              "14 10K+                           27         5       6       "
            ],
            "text/latex": "A tabyl: 14 × 4\n\\begin{tabular}{llll}\n ORG\\_WILLINGNESS\\_TO\\_PAY\\_AMOUNT & Islamabad & Karachi & Rawalpindi\\\\\n <fct> & <dbl> & <dbl> & <dbl>\\\\\n\\hline\n\t No ANS & 175 & 154 & 245\\\\\n\t 0      &  52 &   1 &   0\\\\\n\t <1K    &   6 &  12 &  12\\\\\n\t 1K     &  33 &   4 &  89\\\\\n\t 2K     &   9 &  10 & 136\\\\\n\t 3K     &   4 &  20 &  37\\\\\n\t 4K     &   7 &   8 &  15\\\\\n\t 5K     &  16 &  16 &  24\\\\\n\t 6K     &  13 &   0 &   9\\\\\n\t 7K     &   7 &   0 &   5\\\\\n\t 8K     &   9 &   3 &   3\\\\\n\t 9K     &   7 &   0 &   1\\\\\n\t 10K    &  20 &   8 &   2\\\\\n\t 10K+   &  27 &   5 &   6\\\\\n\\end{tabular}\n",
            "text/markdown": "\nA tabyl: 14 × 4\n\n| ORG_WILLINGNESS_TO_PAY_AMOUNT &lt;fct&gt; | Islamabad &lt;dbl&gt; | Karachi &lt;dbl&gt; | Rawalpindi &lt;dbl&gt; |\n|---|---|---|---|\n| No ANS | 175 | 154 | 245 |\n| 0      |  52 |   1 |   0 |\n| &lt;1K    |   6 |  12 |  12 |\n| 1K     |  33 |   4 |  89 |\n| 2K     |   9 |  10 | 136 |\n| 3K     |   4 |  20 |  37 |\n| 4K     |   7 |   8 |  15 |\n| 5K     |  16 |  16 |  24 |\n| 6K     |  13 |   0 |   9 |\n| 7K     |   7 |   0 |   5 |\n| 8K     |   9 |   3 |   3 |\n| 9K     |   7 |   0 |   1 |\n| 10K    |  20 |   8 |   2 |\n| 10K+   |  27 |   5 |   6 |\n\n",
            "text/html": [
              "<table class=\"dataframe\">\n",
              "<caption>A tabyl: 14 × 4</caption>\n",
              "<thead>\n",
              "\t<tr><th scope=col>ORG_WILLINGNESS_TO_PAY_AMOUNT</th><th scope=col>Islamabad</th><th scope=col>Karachi</th><th scope=col>Rawalpindi</th></tr>\n",
              "\t<tr><th scope=col>&lt;fct&gt;</th><th scope=col>&lt;dbl&gt;</th><th scope=col>&lt;dbl&gt;</th><th scope=col>&lt;dbl&gt;</th></tr>\n",
              "</thead>\n",
              "<tbody>\n",
              "\t<tr><td>No ANS</td><td>175</td><td>154</td><td>245</td></tr>\n",
              "\t<tr><td>0     </td><td> 52</td><td>  1</td><td>  0</td></tr>\n",
              "\t<tr><td><span style=white-space:pre-wrap>&lt;1K   </span></td><td><span style=white-space:pre-wrap>  6</span></td><td> 12</td><td> 12</td></tr>\n",
              "\t<tr><td>1K    </td><td> 33</td><td>  4</td><td> 89</td></tr>\n",
              "\t<tr><td>2K    </td><td>  9</td><td> 10</td><td>136</td></tr>\n",
              "\t<tr><td>3K    </td><td>  4</td><td> 20</td><td> 37</td></tr>\n",
              "\t<tr><td>4K    </td><td>  7</td><td>  8</td><td> 15</td></tr>\n",
              "\t<tr><td>5K    </td><td> 16</td><td> 16</td><td> 24</td></tr>\n",
              "\t<tr><td>6K    </td><td> 13</td><td>  0</td><td>  9</td></tr>\n",
              "\t<tr><td>7K    </td><td>  7</td><td>  0</td><td>  5</td></tr>\n",
              "\t<tr><td>8K    </td><td>  9</td><td>  3</td><td>  3</td></tr>\n",
              "\t<tr><td>9K    </td><td>  7</td><td>  0</td><td>  1</td></tr>\n",
              "\t<tr><td>10K   </td><td> 20</td><td>  8</td><td>  2</td></tr>\n",
              "\t<tr><td>10K+  </td><td> 27</td><td>  5</td><td>  6</td></tr>\n",
              "</tbody>\n",
              "</table>\n"
            ]
          },
          "metadata": {
            "tags": []
          }
        }
      ]
    },
    {
      "cell_type": "markdown",
      "metadata": {
        "id": "9670MZ9P0CuL"
      },
      "source": [
        "TODO: Cleaning up other variables"
      ]
    },
    {
      "cell_type": "markdown",
      "metadata": {
        "id": "naEtdqxdJk0L"
      },
      "source": [
        "to be fixed:\n",
        "\n",
        "ORG_WILLINGNESS_TO_PAY_AMOUNT\n",
        "RESP_DESIGNATION\n",
        "ORG_NEW_POS_DEVICES\n",
        "ORG_TYPE\n",
        "ORG_CURRENT_PAYMENT_OPTIONS\n",
        "ORG_DISCOUNTS_OFFERED\n",
        "ORG_URDU_FEATURES_EXPECTED\n",
        "ORG_REASON_TO_NOT_HAVE_POS\n"
      ]
    },
    {
      "cell_type": "markdown",
      "metadata": {
        "id": "dRITxwqO1OJc"
      },
      "source": [
        "Dropping variables that are not yet fixed"
      ]
    },
    {
      "cell_type": "code",
      "metadata": {
        "id": "36Fd5sVI1Nqb"
      },
      "source": [
        "#df_with_1 %>% select(! c("
      ],
      "execution_count": 429,
      "outputs": []
    },
    {
      "cell_type": "markdown",
      "metadata": {
        "id": "gOABHeju0HHY"
      },
      "source": [
        "Dropping variables not to be used in plotting"
      ]
    },
    {
      "cell_type": "code",
      "metadata": {
        "id": "mP75Tipm1I7S"
      },
      "source": [
        "df_with_1 %>% select(! c(RESP_ID,ORG_ADDRESS,ORG_NAME,ORG_RESP_TENURE)) -> df_with_2"
      ],
      "execution_count": 430,
      "outputs": []
    },
    {
      "cell_type": "code",
      "metadata": {
        "colab": {
          "base_uri": "https://localhost:8080/"
        },
        "id": "id_9O5UN0j97",
        "outputId": "c366d63c-6104-47ee-a27f-5073633ad226"
      },
      "source": [
        "df_with_2 %>% glimpse()"
      ],
      "execution_count": 431,
      "outputs": [
        {
          "output_type": "stream",
          "text": [
            "Rows: 1,210\n",
            "Columns: 24\n",
            "$ ORG_CITY                       \u001b[3m\u001b[90m<chr>\u001b[39m\u001b[23m \"Rawalpindi\", \"Islamabad\", \"Islamabad\",…\n",
            "$ ORG_POS_BUSINESS_IMPROVEMENT   \u001b[3m\u001b[90m<fct>\u001b[39m\u001b[23m Yes, Yes, Yes, Yes, Yes, Yes, Yes, Yes,…\n",
            "$ ORG_INTERNET_ACCESS            \u001b[3m\u001b[90m<fct>\u001b[39m\u001b[23m None, Mobile, Mobile, None, Mobile, Mob…\n",
            "$ ORG_EXPAND_BUSINESS            \u001b[3m\u001b[90m<fct>\u001b[39m\u001b[23m No, Y:short-term, Y:immediately, Y:long…\n",
            "$ ORG_DELIVERY_SERVICE           \u001b[3m\u001b[90m<fct>\u001b[39m\u001b[23m No, Thinking about it, Yes, No, No, No,…\n",
            "$ ORG_CUSTOMER_DATA              \u001b[3m\u001b[90m<chr>\u001b[39m\u001b[23m \"Do not Store\", \"Do not Store, Use for …\n",
            "$ ORG_EMP_COUNT                  \u001b[3m\u001b[90m<fct>\u001b[39m\u001b[23m 2, 3, 2, 1, 1, 2, 1, 1, 1, 1, 2, 3, 2, …\n",
            "$ ORG_INTERNET_DISRUPTION        \u001b[3m\u001b[90m<fct>\u001b[39m\u001b[23m Never, Little, Never, Never, Little, Li…\n",
            "$ ORG_NEW_POS_PAYMENT_PREF       \u001b[3m\u001b[90m<fct>\u001b[39m\u001b[23m One-Time, Recurring:12M, Recurring:1M, …\n",
            "$ ORG_NEW_POS_LANG_PREF          \u001b[3m\u001b[90m<fct>\u001b[39m\u001b[23m English and Urdu, English and Urdu, Eng…\n",
            "$ ORG_OUTLETS_COUNT              \u001b[3m\u001b[90m<fct>\u001b[39m\u001b[23m 1, 1, 1, 1, 1, 1, 1, 1, 1, 2, 1, 1, 1, …\n",
            "$ ORG_NEW_POS_KIND               \u001b[3m\u001b[90m<fct>\u001b[39m\u001b[23m Stand-Alone, Stand-Alone, Web-Based, St…\n",
            "$ ORG_WILLINGNESS_TO_PAY_AMOUNT  \u001b[3m\u001b[90m<fct>\u001b[39m\u001b[23m 1K, 10K, 1K, 1K, 1K, <1K, 1K, 1K, No AN…\n",
            "$ RESP_DESIGNATION               \u001b[3m\u001b[90m<chr>\u001b[39m\u001b[23m \"Owner\", \"Owner\", \"Owner\", \"Ower\", \"Own…\n",
            "$ ORG_POS_FEATURES               \u001b[3m\u001b[90m<chr>\u001b[39m\u001b[23m \"Remote Management/Centralized Manageme…\n",
            "$ ORG_NEW_POS_DEVICES            \u001b[3m\u001b[90m<chr>\u001b[39m\u001b[23m \"Mobile Phone\", \"Mobile Phone, PC\", \"La…\n",
            "$ ORG_TYPE                       \u001b[3m\u001b[90m<chr>\u001b[39m\u001b[23m \"Clothing items\", \"Clothing items\", \"Ha…\n",
            "$ ORG_CURRENT_PAYMENT_OPTIONS    \u001b[3m\u001b[90m<chr>\u001b[39m\u001b[23m \"Cash\", \"Cash\", \"Cash\", \"Cash\", \"Cash\",…\n",
            "$ ORG_DISCOUNTS_OFFERED          \u001b[3m\u001b[90m<chr>\u001b[39m\u001b[23m \"Customer Discount (Based on customer r…\n",
            "$ ORG_URDU_FEATURES_EXPECTED     \u001b[3m\u001b[90m<chr>\u001b[39m\u001b[23m \"Others (Please specify) (Everything in…\n",
            "$ ORG_REASON_TO_GET_POS          \u001b[3m\u001b[90m<chr>\u001b[39m\u001b[23m \"Other (Please specify) (Customer Data,…\n",
            "$ ORG_REASON_TO_NOT_HAVE_POS     \u001b[3m\u001b[90m<chr>\u001b[39m\u001b[23m \"I am happy with how my business is man…\n",
            "$ ORG_WILLINGNESS_DEMO           \u001b[3m\u001b[90m<chr>\u001b[39m\u001b[23m \"No\", \"Yes\", \"Yes\", \"No\", \"No\", \"Yes\", …\n",
            "$ ORG_WILLINGNESS_FUTURE_CONTACT \u001b[3m\u001b[90m<chr>\u001b[39m\u001b[23m \"Yes\", \"Yes\", \"Yes\", \"Yes\", \"Yes\", \"Yes…\n"
          ],
          "name": "stdout"
        }
      ]
    },
    {
      "cell_type": "code",
      "metadata": {
        "id": "GvSTB8v_0K1K"
      },
      "source": [
        "df_with_1 %>% select(! c(RESP_ID,ORG_ADDRESS,ORG_NAME,ORG_RESP_TENURE)) -> df_with_2"
      ],
      "execution_count": 432,
      "outputs": []
    },
    {
      "cell_type": "code",
      "metadata": {
        "id": "0O6Bdy470CAR"
      },
      "source": [
        ""
      ],
      "execution_count": 433,
      "outputs": []
    },
    {
      "cell_type": "markdown",
      "metadata": {
        "id": "y2Sn_DvhLz3n"
      },
      "source": [
        "### Exp Graphs Via PURRR"
      ]
    },
    {
      "cell_type": "code",
      "metadata": {
        "id": "ibXH_JYzL2YX"
      },
      "source": [
        "# ref: https://aosmith.rbind.io/2018/08/20/automating-exploratory-plots/"
      ],
      "execution_count": 434,
      "outputs": []
    },
    {
      "cell_type": "code",
      "metadata": {
        "id": "lAmgRcIgL5UX",
        "colab": {
          "base_uri": "https://localhost:8080/",
          "height": 170
        },
        "outputId": "6309439f-c38b-49f3-8983-ee7598980d5b"
      },
      "source": [
        "# list of variables to plot\n",
        "colnames(df_with_2)"
      ],
      "execution_count": 435,
      "outputs": [
        {
          "output_type": "display_data",
          "data": {
            "text/plain": [
              " [1] \"ORG_CITY\"                       \"ORG_POS_BUSINESS_IMPROVEMENT\"  \n",
              " [3] \"ORG_INTERNET_ACCESS\"            \"ORG_EXPAND_BUSINESS\"           \n",
              " [5] \"ORG_DELIVERY_SERVICE\"           \"ORG_CUSTOMER_DATA\"             \n",
              " [7] \"ORG_EMP_COUNT\"                  \"ORG_INTERNET_DISRUPTION\"       \n",
              " [9] \"ORG_NEW_POS_PAYMENT_PREF\"       \"ORG_NEW_POS_LANG_PREF\"         \n",
              "[11] \"ORG_OUTLETS_COUNT\"              \"ORG_NEW_POS_KIND\"              \n",
              "[13] \"ORG_WILLINGNESS_TO_PAY_AMOUNT\"  \"RESP_DESIGNATION\"              \n",
              "[15] \"ORG_POS_FEATURES\"               \"ORG_NEW_POS_DEVICES\"           \n",
              "[17] \"ORG_TYPE\"                       \"ORG_CURRENT_PAYMENT_OPTIONS\"   \n",
              "[19] \"ORG_DISCOUNTS_OFFERED\"          \"ORG_URDU_FEATURES_EXPECTED\"    \n",
              "[21] \"ORG_REASON_TO_GET_POS\"          \"ORG_REASON_TO_NOT_HAVE_POS\"    \n",
              "[23] \"ORG_WILLINGNESS_DEMO\"           \"ORG_WILLINGNESS_FUTURE_CONTACT\""
            ],
            "text/latex": "\\begin{enumerate*}\n\\item 'ORG\\_CITY'\n\\item 'ORG\\_POS\\_BUSINESS\\_IMPROVEMENT'\n\\item 'ORG\\_INTERNET\\_ACCESS'\n\\item 'ORG\\_EXPAND\\_BUSINESS'\n\\item 'ORG\\_DELIVERY\\_SERVICE'\n\\item 'ORG\\_CUSTOMER\\_DATA'\n\\item 'ORG\\_EMP\\_COUNT'\n\\item 'ORG\\_INTERNET\\_DISRUPTION'\n\\item 'ORG\\_NEW\\_POS\\_PAYMENT\\_PREF'\n\\item 'ORG\\_NEW\\_POS\\_LANG\\_PREF'\n\\item 'ORG\\_OUTLETS\\_COUNT'\n\\item 'ORG\\_NEW\\_POS\\_KIND'\n\\item 'ORG\\_WILLINGNESS\\_TO\\_PAY\\_AMOUNT'\n\\item 'RESP\\_DESIGNATION'\n\\item 'ORG\\_POS\\_FEATURES'\n\\item 'ORG\\_NEW\\_POS\\_DEVICES'\n\\item 'ORG\\_TYPE'\n\\item 'ORG\\_CURRENT\\_PAYMENT\\_OPTIONS'\n\\item 'ORG\\_DISCOUNTS\\_OFFERED'\n\\item 'ORG\\_URDU\\_FEATURES\\_EXPECTED'\n\\item 'ORG\\_REASON\\_TO\\_GET\\_POS'\n\\item 'ORG\\_REASON\\_TO\\_NOT\\_HAVE\\_POS'\n\\item 'ORG\\_WILLINGNESS\\_DEMO'\n\\item 'ORG\\_WILLINGNESS\\_FUTURE\\_CONTACT'\n\\end{enumerate*}\n",
            "text/markdown": "1. 'ORG_CITY'\n2. 'ORG_POS_BUSINESS_IMPROVEMENT'\n3. 'ORG_INTERNET_ACCESS'\n4. 'ORG_EXPAND_BUSINESS'\n5. 'ORG_DELIVERY_SERVICE'\n6. 'ORG_CUSTOMER_DATA'\n7. 'ORG_EMP_COUNT'\n8. 'ORG_INTERNET_DISRUPTION'\n9. 'ORG_NEW_POS_PAYMENT_PREF'\n10. 'ORG_NEW_POS_LANG_PREF'\n11. 'ORG_OUTLETS_COUNT'\n12. 'ORG_NEW_POS_KIND'\n13. 'ORG_WILLINGNESS_TO_PAY_AMOUNT'\n14. 'RESP_DESIGNATION'\n15. 'ORG_POS_FEATURES'\n16. 'ORG_NEW_POS_DEVICES'\n17. 'ORG_TYPE'\n18. 'ORG_CURRENT_PAYMENT_OPTIONS'\n19. 'ORG_DISCOUNTS_OFFERED'\n20. 'ORG_URDU_FEATURES_EXPECTED'\n21. 'ORG_REASON_TO_GET_POS'\n22. 'ORG_REASON_TO_NOT_HAVE_POS'\n23. 'ORG_WILLINGNESS_DEMO'\n24. 'ORG_WILLINGNESS_FUTURE_CONTACT'\n\n\n",
            "text/html": [
              "<style>\n",
              ".list-inline {list-style: none; margin:0; padding: 0}\n",
              ".list-inline>li {display: inline-block}\n",
              ".list-inline>li:not(:last-child)::after {content: \"\\00b7\"; padding: 0 .5ex}\n",
              "</style>\n",
              "<ol class=list-inline><li>'ORG_CITY'</li><li>'ORG_POS_BUSINESS_IMPROVEMENT'</li><li>'ORG_INTERNET_ACCESS'</li><li>'ORG_EXPAND_BUSINESS'</li><li>'ORG_DELIVERY_SERVICE'</li><li>'ORG_CUSTOMER_DATA'</li><li>'ORG_EMP_COUNT'</li><li>'ORG_INTERNET_DISRUPTION'</li><li>'ORG_NEW_POS_PAYMENT_PREF'</li><li>'ORG_NEW_POS_LANG_PREF'</li><li>'ORG_OUTLETS_COUNT'</li><li>'ORG_NEW_POS_KIND'</li><li>'ORG_WILLINGNESS_TO_PAY_AMOUNT'</li><li>'RESP_DESIGNATION'</li><li>'ORG_POS_FEATURES'</li><li>'ORG_NEW_POS_DEVICES'</li><li>'ORG_TYPE'</li><li>'ORG_CURRENT_PAYMENT_OPTIONS'</li><li>'ORG_DISCOUNTS_OFFERED'</li><li>'ORG_URDU_FEATURES_EXPECTED'</li><li>'ORG_REASON_TO_GET_POS'</li><li>'ORG_REASON_TO_NOT_HAVE_POS'</li><li>'ORG_WILLINGNESS_DEMO'</li><li>'ORG_WILLINGNESS_FUTURE_CONTACT'</li></ol>\n"
            ]
          },
          "metadata": {
            "tags": []
          }
        }
      ]
    },
    {
      "cell_type": "code",
      "metadata": {
        "id": "jcKS6yvbQciF",
        "colab": {
          "base_uri": "https://localhost:8080/",
          "height": 170
        },
        "outputId": "af5065a6-bc05-4d3a-822e-a83f4cd53446"
      },
      "source": [
        "uni_var = c( \n",
        "'ORG_POS_BUSINESS_IMPROVEMENT',\n",
        "'ORG_INTERNET_ACCESS',\n",
        "'ORG_EXPAND_BUSINESS',\n",
        "'ORG_DELIVERY_SERVICE',\n",
        "'ORG_EMP_COUNT',\n",
        "'ORG_INTERNET_DISRUPTION',\n",
        "'ORG_NEW_POS_PAYMENT_PREF',\n",
        "'ORG_NEW_POS_LANG_PREF',\n",
        "'ORG_OUTLETS_COUNT',\n",
        "'ORG_NEW_POS_KIND',\n",
        "'ORG_WILLINGNESS_TO_PAY_AMOUNT'\n",
        "#'RESP_DESIGNATION',\n",
        "#'ORG_POS_FEATURES',\n",
        "#'ORG_NEW_POS_DEVICES',\n",
        "#'ORG_TYPE',\n",
        "#'ORG_CURRENT_PAYMENT_OPTIONS',\n",
        "#'ORG_DISCOUNTS_OFFERED',\n",
        "#'ORG_URDU_FEATURES_EXPECTED',\n",
        "#'ORG_REASON_TO_GET_POS',\n",
        "#'ORG_REASON_TO_NOT_HAVE_POS',\n",
        "#'ORG_WILLINGNESS_DEMO',\n",
        "#'ORG_WILLINGNESS_FUTURE_CONTACT'\n",
        ")\n",
        "uni_var = set_names(uni_var)\n",
        "uni_var"
      ],
      "execution_count": 437,
      "outputs": [
        {
          "output_type": "display_data",
          "data": {
            "text/plain": [
              "   ORG_POS_BUSINESS_IMPROVEMENT             ORG_INTERNET_ACCESS \n",
              " \"ORG_POS_BUSINESS_IMPROVEMENT\"           \"ORG_INTERNET_ACCESS\" \n",
              "            ORG_EXPAND_BUSINESS            ORG_DELIVERY_SERVICE \n",
              "          \"ORG_EXPAND_BUSINESS\"          \"ORG_DELIVERY_SERVICE\" \n",
              "                  ORG_EMP_COUNT         ORG_INTERNET_DISRUPTION \n",
              "                \"ORG_EMP_COUNT\"       \"ORG_INTERNET_DISRUPTION\" \n",
              "       ORG_NEW_POS_PAYMENT_PREF           ORG_NEW_POS_LANG_PREF \n",
              "     \"ORG_NEW_POS_PAYMENT_PREF\"         \"ORG_NEW_POS_LANG_PREF\" \n",
              "              ORG_OUTLETS_COUNT                ORG_NEW_POS_KIND \n",
              "            \"ORG_OUTLETS_COUNT\"              \"ORG_NEW_POS_KIND\" \n",
              "  ORG_WILLINGNESS_TO_PAY_AMOUNT \n",
              "\"ORG_WILLINGNESS_TO_PAY_AMOUNT\" "
            ],
            "text/latex": "\\begin{description*}\n\\item[ORG\\textbackslash{}\\_POS\\textbackslash{}\\_BUSINESS\\textbackslash{}\\_IMPROVEMENT] 'ORG\\_POS\\_BUSINESS\\_IMPROVEMENT'\n\\item[ORG\\textbackslash{}\\_INTERNET\\textbackslash{}\\_ACCESS] 'ORG\\_INTERNET\\_ACCESS'\n\\item[ORG\\textbackslash{}\\_EXPAND\\textbackslash{}\\_BUSINESS] 'ORG\\_EXPAND\\_BUSINESS'\n\\item[ORG\\textbackslash{}\\_DELIVERY\\textbackslash{}\\_SERVICE] 'ORG\\_DELIVERY\\_SERVICE'\n\\item[ORG\\textbackslash{}\\_EMP\\textbackslash{}\\_COUNT] 'ORG\\_EMP\\_COUNT'\n\\item[ORG\\textbackslash{}\\_INTERNET\\textbackslash{}\\_DISRUPTION] 'ORG\\_INTERNET\\_DISRUPTION'\n\\item[ORG\\textbackslash{}\\_NEW\\textbackslash{}\\_POS\\textbackslash{}\\_PAYMENT\\textbackslash{}\\_PREF] 'ORG\\_NEW\\_POS\\_PAYMENT\\_PREF'\n\\item[ORG\\textbackslash{}\\_NEW\\textbackslash{}\\_POS\\textbackslash{}\\_LANG\\textbackslash{}\\_PREF] 'ORG\\_NEW\\_POS\\_LANG\\_PREF'\n\\item[ORG\\textbackslash{}\\_OUTLETS\\textbackslash{}\\_COUNT] 'ORG\\_OUTLETS\\_COUNT'\n\\item[ORG\\textbackslash{}\\_NEW\\textbackslash{}\\_POS\\textbackslash{}\\_KIND] 'ORG\\_NEW\\_POS\\_KIND'\n\\item[ORG\\textbackslash{}\\_WILLINGNESS\\textbackslash{}\\_TO\\textbackslash{}\\_PAY\\textbackslash{}\\_AMOUNT] 'ORG\\_WILLINGNESS\\_TO\\_PAY\\_AMOUNT'\n\\end{description*}\n",
            "text/markdown": "ORG_POS_BUSINESS_IMPROVEMENT\n:   'ORG_POS_BUSINESS_IMPROVEMENT'ORG_INTERNET_ACCESS\n:   'ORG_INTERNET_ACCESS'ORG_EXPAND_BUSINESS\n:   'ORG_EXPAND_BUSINESS'ORG_DELIVERY_SERVICE\n:   'ORG_DELIVERY_SERVICE'ORG_EMP_COUNT\n:   'ORG_EMP_COUNT'ORG_INTERNET_DISRUPTION\n:   'ORG_INTERNET_DISRUPTION'ORG_NEW_POS_PAYMENT_PREF\n:   'ORG_NEW_POS_PAYMENT_PREF'ORG_NEW_POS_LANG_PREF\n:   'ORG_NEW_POS_LANG_PREF'ORG_OUTLETS_COUNT\n:   'ORG_OUTLETS_COUNT'ORG_NEW_POS_KIND\n:   'ORG_NEW_POS_KIND'ORG_WILLINGNESS_TO_PAY_AMOUNT\n:   'ORG_WILLINGNESS_TO_PAY_AMOUNT'\n\n",
            "text/html": [
              "<style>\n",
              ".dl-inline {width: auto; margin:0; padding: 0}\n",
              ".dl-inline>dt, .dl-inline>dd {float: none; width: auto; display: inline-block}\n",
              ".dl-inline>dt::after {content: \":\\0020\"; padding-right: .5ex}\n",
              ".dl-inline>dt:not(:first-of-type) {padding-left: .5ex}\n",
              "</style><dl class=dl-inline><dt>ORG_POS_BUSINESS_IMPROVEMENT</dt><dd>'ORG_POS_BUSINESS_IMPROVEMENT'</dd><dt>ORG_INTERNET_ACCESS</dt><dd>'ORG_INTERNET_ACCESS'</dd><dt>ORG_EXPAND_BUSINESS</dt><dd>'ORG_EXPAND_BUSINESS'</dd><dt>ORG_DELIVERY_SERVICE</dt><dd>'ORG_DELIVERY_SERVICE'</dd><dt>ORG_EMP_COUNT</dt><dd>'ORG_EMP_COUNT'</dd><dt>ORG_INTERNET_DISRUPTION</dt><dd>'ORG_INTERNET_DISRUPTION'</dd><dt>ORG_NEW_POS_PAYMENT_PREF</dt><dd>'ORG_NEW_POS_PAYMENT_PREF'</dd><dt>ORG_NEW_POS_LANG_PREF</dt><dd>'ORG_NEW_POS_LANG_PREF'</dd><dt>ORG_OUTLETS_COUNT</dt><dd>'ORG_OUTLETS_COUNT'</dd><dt>ORG_NEW_POS_KIND</dt><dd>'ORG_NEW_POS_KIND'</dd><dt>ORG_WILLINGNESS_TO_PAY_AMOUNT</dt><dd>'ORG_WILLINGNESS_TO_PAY_AMOUNT'</dd></dl>\n"
            ]
          },
          "metadata": {
            "tags": []
          }
        }
      ]
    },
    {
      "cell_type": "markdown",
      "metadata": {
        "id": "0KuSu0tPVbxk"
      },
      "source": [
        "TODO"
      ]
    },
    {
      "cell_type": "code",
      "metadata": {
        "id": "yf7OVx4hVdsb"
      },
      "source": [
        "# variables to fix (multiple choice options)\n",
        "\n",
        "## removed from with pos data, multiple choice or non-relevant\n",
        "# 'ORG_ADDRESS'\n",
        "# 'ORG_CITY' --> No point faceting City on city\n",
        "# 'ORG_CUSTOMER_DATA',\n",
        "# 'ORG_NAME',\n",
        "# 'ORG_RESP_TENURE',\n",
        "# 'ORG_WILLINGNESS_TO_PAY_AMOUNT',\n",
        "# 'SB_OBSERVATION',\n",
        "# 'ORG_PICTURE_LINK',\n",
        "# 'ORG_VISITING_CARD',\n",
        "# 'SB_REGION',\n",
        "# 'RESP_DESIGNATION',\n",
        "# 'RESP_NAME',\n",
        "# 'RESP_PHONE',\n",
        "# 'ORG_NEW_POS_DEVICES',\n",
        "# 'ORG_POS_FEATURES',\n",
        "# 'ORG_TYPE',\n",
        "# 'ORG_CURRENT_PAYMENT_OPTIONS',\n",
        "# 'ORG_DISCOUNTS_OFFERED',\n",
        "# 'ORG_URDU_FEATURES_EXPECTED',\n",
        "# 'ORG_REASON_TO_GET_POS',\n",
        "# 'ORG_REASON_TO_NOT_HAVE_POS',\n",
        "\n",
        "\n",
        "\n",
        "\n",
        "\n",
        "\n",
        "\n",
        "\n",
        "## removed from with pos data, multiple choice or non-relevant\n",
        "# ORG_TYPE\n",
        "# ORG_DISCOUNTS_OFFERED\n",
        "# ORG_CUSTOMER_DATA\n",
        "# ORG_POS_FEATURES\n",
        "# ORG_OLD_POS_PAYMENT_OPTIONS\n",
        "# ORG_OLD_POS_DEVICES\n",
        "# ORG_OLD_POS_URDU_FEATURES\n",
        "# ORG_REASON_TO_REPLACE_POS\n",
        "# ORG_WILLINGNESS_TO_PAY_AMOUNT\n",
        "# ORG_OLD_POS_PROVIDER_PAYMENT_METHOD"
      ],
      "execution_count": null,
      "outputs": []
    },
    {
      "cell_type": "markdown",
      "metadata": {
        "id": "l948xQo-RAm-"
      },
      "source": [
        "#### Plotting WorkHorse"
      ]
    },
    {
      "cell_type": "code",
      "metadata": {
        "id": "Sz07kzBLQ1Ml"
      },
      "source": [
        "bar_fun = function(x, y) {\n",
        "     ggplot(df_3, aes(x = .data[[x]]) ) +\n",
        "     geom_bar(aes(fill = .data[[x]]), position = \"dodge\") +\n",
        "     facet_wrap(~ .data[[y]]) +\n",
        "     \n",
        "     # bars are too little to add data labels\n",
        "     labs(x = x, y = \"COUNT\") +\n",
        "     scale_fill_brewer(palette = \"Set2\") +\n",
        "     theme_light() +\n",
        "     theme(axis.text.x = element_text(angle = 90, vjust = 0.5, hjust=1)) +\n",
        "     theme(strip.text = element_text(face = \"bold\", size = rel(1.5)),\n",
        "     strip.background = element_rect(fill = \"lightgrey\", colour = \"black\", size = 1),\n",
        "     axis.title.y = element_blank(),\n",
        "     legend.position = \"none\"\n",
        "  )\n",
        "}"
      ],
      "execution_count": 438,
      "outputs": []
    },
    {
      "cell_type": "code",
      "metadata": {
        "id": "5gFrO_HGR6k5"
      },
      "source": [
        "#bar_fun(\"ORG_DELIVERY_SERVICE\", \"ORG_CITY\")"
      ],
      "execution_count": 439,
      "outputs": []
    },
    {
      "cell_type": "markdown",
      "metadata": {
        "id": "-hGhaVrRScdj"
      },
      "source": [
        "#### Plotting WorkHorse (Proportions)"
      ]
    },
    {
      "cell_type": "markdown",
      "metadata": {
        "id": "6pedrKVN5qaM"
      },
      "source": [
        "remember to change the hard-coded df in this function"
      ]
    },
    {
      "cell_type": "code",
      "metadata": {
        "id": "ePDwMUqKuk96"
      },
      "source": [
        "bar_prop_fun = function(x, y) {\n",
        "  \n",
        "    ggplot(df_with_2, aes(x = .data[[x]], group = .data[[y]]) ) + \n",
        "    geom_bar(aes(y = ..prop.., fill = factor(..x..)), stat=\"count\") +\n",
        "    geom_text(aes( label = scales::percent(..prop..,accuracy=0.1),\n",
        "                  y= ..prop.. ), stat= \"count\", \n",
        "                  vjust = -.5, size=2 ) +\n",
        "    facet_grid(~ .data[[y]]) +\n",
        "    scale_y_continuous(labels = scales::percent) +\n",
        "\n",
        "    # bars are too little to add data labels\n",
        "     labs(x = x, y = \"COUNT\") +\n",
        "     scale_fill_brewer(palette = \"Set2\") +\n",
        "     theme_light() +\n",
        "     theme(axis.text.x = element_text(angle = 90, vjust = 0.5, hjust=1, size = 5)) +\n",
        "     theme(strip.text = element_text(face = \"bold\", size = rel(1.5)),\n",
        "     strip.background = element_rect(fill = \"lightgrey\", colour = \"black\", size = 1),\n",
        "     axis.title.y = element_blank(),\n",
        "     legend.position = \"none\")\n",
        "}"
      ],
      "execution_count": 440,
      "outputs": []
    },
    {
      "cell_type": "code",
      "metadata": {
        "id": "TRbTYqVuTZ6T",
        "colab": {
          "base_uri": "https://localhost:8080/",
          "height": 437
        },
        "outputId": "faa9fa2e-fa76-4f65-b4d0-0cec6e2b4897"
      },
      "source": [
        "bar_prop_fun(\"ORG_INTERNET_DISRUPTION\",\"ORG_CITY\")"
      ],
      "execution_count": 441,
      "outputs": [
        {
          "output_type": "display_data",
          "data": {
            "image/png": "[encoded data removed]",
            "text/plain": [
              "plot without title"
            ]
          },
          "metadata": {
            "tags": [],
            "image/png": {
              "width": 420,
              "height": 420
            }
          }
        }
      ]
    },
    {
      "cell_type": "code",
      "metadata": {
        "id": "7ttgNi7xSfI6"
      },
      "source": [
        "\n",
        "# Now using MAP, fixing facet variable to ORG_CITY\n",
        "#uni_plots = map(uni_var, ~bar_fun(.x, \"ORG_CITY\") )\n",
        "uni_plots = map(uni_var, ~bar_prop_fun(.x, \"ORG_CITY\") )"
      ],
      "execution_count": 442,
      "outputs": []
    },
    {
      "cell_type": "code",
      "metadata": {
        "id": "FCt_SrrNSwZf",
        "colab": {
          "base_uri": "https://localhost:8080/",
          "height": 1000
        },
        "outputId": "5888cbc3-8670-4628-8a07-d10b2f1621fe"
      },
      "source": [
        "uni_plots"
      ],
      "execution_count": 443,
      "outputs": [
        {
          "output_type": "display_data",
          "data": {
            "image/png": "[encoded data removed]",
            "text/plain": [
              "plot without title"
            ]
          },
          "metadata": {
            "tags": [],
            "image/png": {
              "width": 420,
              "height": 420
            }
          }
        },
        {
          "output_type": "display_data",
          "data": {
            "image/png": "[encoded data removed]",
            "text/plain": [
              "plot without title"
            ]
          },
          "metadata": {
            "tags": [],
            "image/png": {
              "width": 420,
              "height": 420
            }
          }
        },
        {
          "output_type": "display_data",
          "data": {
            "image/png": "[encoded data removed]",
            "text/plain": [
              "plot without title"
            ]
          },
          "metadata": {
            "tags": [],
            "image/png": {
              "width": 420,
              "height": 420
            }
          }
        },
        {
          "output_type": "stream",
          "text": [
            "Warning message in RColorBrewer::brewer.pal(n, pal):\n",
            "“n too large, allowed maximum for palette Set2 is 8\n",
            "Returning the palette you asked for with that many colors\n",
            "”\n"
          ],
          "name": "stderr"
        },
        {
          "output_type": "display_data",
          "data": {
            "image/png": "[encoded data removed]",
            "text/plain": [
              "plot without title"
            ]
          },
          "metadata": {
            "tags": [],
            "image/png": {
              "width": 420,
              "height": 420
            }
          }
        },
        {
          "output_type": "display_data",
          "data": {
            "image/png": "[encoded data removed]",
            "text/plain": [
              "plot without title"
            ]
          },
          "metadata": {
            "tags": [],
            "image/png": {
              "width": 420,
              "height": 420
            }
          }
        },
        {
          "output_type": "display_data",
          "data": {
            "image/png": "[encoded data removed]",
            "text/plain": [
              "plot without title"
            ]
          },
          "metadata": {
            "tags": [],
            "image/png": {
              "width": 420,
              "height": 420
            }
          }
        },
        {
          "output_type": "display_data",
          "data": {
            "image/png": "[encoded data removed]",
            "text/plain": [
              "plot without title"
            ]
          },
          "metadata": {
            "tags": [],
            "image/png": {
              "width": 420,
              "height": 420
            }
          }
        },
        {
          "output_type": "display_data",
          "data": {
            "image/png": "[encoded data removed]",
            "text/plain": [
              "plot without title"
            ]
          },
          "metadata": {
            "tags": [],
            "image/png": {
              "width": 420,
              "height": 420
            }
          }
        },
        {
          "output_type": "display_data",
          "data": {
            "image/png": "[encoded data removed]",
            "text/plain": [
              "plot without title"
            ]
          },
          "metadata": {
            "tags": [],
            "image/png": {
              "width": 420,
              "height": 420
            }
          }
        },
        {
          "output_type": "stream",
          "text": [
            "Warning message in RColorBrewer::brewer.pal(n, pal):\n",
            "“n too large, allowed maximum for palette Set2 is 8\n",
            "Returning the palette you asked for with that many colors\n",
            "”\n"
          ],
          "name": "stderr"
        },
        {
          "output_type": "display_data",
          "data": {
            "text/plain": [
              "$ORG_POS_BUSINESS_IMPROVEMENT\n",
              "\n",
              "$ORG_INTERNET_ACCESS\n",
              "\n",
              "$ORG_EXPAND_BUSINESS\n",
              "\n",
              "$ORG_DELIVERY_SERVICE\n",
              "\n",
              "$ORG_EMP_COUNT\n",
              "\n",
              "$ORG_INTERNET_DISRUPTION\n",
              "\n",
              "$ORG_NEW_POS_PAYMENT_PREF\n",
              "\n",
              "$ORG_NEW_POS_LANG_PREF\n",
              "\n",
              "$ORG_OUTLETS_COUNT\n",
              "\n",
              "$ORG_NEW_POS_KIND\n",
              "\n",
              "$ORG_WILLINGNESS_TO_PAY_AMOUNT\n"
            ]
          },
          "metadata": {
            "tags": []
          }
        },
        {
          "output_type": "display_data",
          "data": {
            "image/png": "[encoded data removed]",
            "text/plain": [
              "plot without title"
            ]
          },
          "metadata": {
            "tags": [],
            "image/png": {
              "width": 420,
              "height": 420
            }
          }
        },
        {
          "output_type": "display_data",
          "data": {
            "image/png": "[encoded data removed]",
            "text/plain": [
              "plot without title"
            ]
          },
          "metadata": {
            "tags": [],
            "image/png": {
              "width": 420,
              "height": 420
            }
          }
        }
      ]
    },
    {
      "cell_type": "code",
      "metadata": {
        "id": "mYQR5AUK44FP"
      },
      "source": [
        "# SB_REGION should be plotted, without facetting\n",
        "#'SB_REGION'"
      ],
      "execution_count": 444,
      "outputs": []
    },
    {
      "cell_type": "code",
      "metadata": {
        "id": "9dNYwPqgS853",
        "colab": {
          "base_uri": "https://localhost:8080/",
          "height": 544
        },
        "outputId": "71f8f183-51c1-4ea1-8817-6e10e0c8a5d1"
      },
      "source": [
        "# printing the plots\n",
        "st=format(Sys.time(), \"%Y-%m-%d_%H:%M\")\n",
        "survey_plot_file = paste (\"Plots_\", \"WithPOS_\",st, \".pdf\", sep=\"\")\n",
        "#pdf(\"Analysis_WithPOS_v6.pdf\")\n",
        "pdf(survey_plot_file)\n",
        "uni_plots\n",
        "dev.off()"
      ],
      "execution_count": 445,
      "outputs": [
        {
          "output_type": "stream",
          "text": [
            "Warning message in RColorBrewer::brewer.pal(n, pal):\n",
            "“n too large, allowed maximum for palette Set2 is 8\n",
            "Returning the palette you asked for with that many colors\n",
            "”\n",
            "Warning message in RColorBrewer::brewer.pal(n, pal):\n",
            "“n too large, allowed maximum for palette Set2 is 8\n",
            "Returning the palette you asked for with that many colors\n",
            "”\n"
          ],
          "name": "stderr"
        },
        {
          "output_type": "display_data",
          "data": {
            "text/plain": [
              "$ORG_POS_BUSINESS_IMPROVEMENT\n",
              "\n",
              "$ORG_INTERNET_ACCESS\n",
              "\n",
              "$ORG_EXPAND_BUSINESS\n",
              "\n",
              "$ORG_DELIVERY_SERVICE\n",
              "\n",
              "$ORG_EMP_COUNT\n",
              "\n",
              "$ORG_INTERNET_DISRUPTION\n",
              "\n",
              "$ORG_NEW_POS_PAYMENT_PREF\n",
              "\n",
              "$ORG_NEW_POS_LANG_PREF\n",
              "\n",
              "$ORG_OUTLETS_COUNT\n",
              "\n",
              "$ORG_NEW_POS_KIND\n",
              "\n",
              "$ORG_WILLINGNESS_TO_PAY_AMOUNT\n"
            ]
          },
          "metadata": {
            "tags": []
          }
        },
        {
          "output_type": "display_data",
          "data": {
            "text/plain": [
              "png \n",
              "  2 "
            ],
            "text/latex": "\\textbf{png:} 2",
            "text/markdown": "**png:** 2",
            "text/html": [
              "<strong>png:</strong> 2"
            ]
          },
          "metadata": {
            "tags": []
          }
        }
      ]
    },
    {
      "cell_type": "markdown",
      "metadata": {
        "id": "NrkfKrt6WLOz"
      },
      "source": [
        "# Dumping Data for Further Analysis"
      ]
    },
    {
      "cell_type": "code",
      "metadata": {
        "colab": {
          "base_uri": "https://localhost:8080/"
        },
        "id": "sYb2QTJxWOFQ",
        "outputId": "17ce5f6b-6a10-44e0-8334-5631d948cbe9"
      },
      "source": [
        "#st=format(Sys.Date(), \"%Y%b%d\") # Alphabetic Month Name\n",
        "st=format(Sys.time(), \"%Y-%m-%d_%H:%M\")\n",
        "survey_data_file = paste (\"SurveyData-\", \"withPOS-\",st, \".xlsx\", sep=\"\")\n",
        "print(survey_data_file)"
      ],
      "execution_count": 446,
      "outputs": [
        {
          "output_type": "stream",
          "text": [
            "[1] \"SurveyData-withPOS-2021-05-11_08:54.xlsx\"\n"
          ],
          "name": "stdout"
        }
      ]
    },
    {
      "cell_type": "code",
      "metadata": {
        "id": "W5BiGFYiWmRh"
      },
      "source": [
        "## Create a new workbook\n",
        "wb <- createWorkbook(\"Temp\")\n",
        "## Add 1 worksheets\n",
        "addWorksheet(wb, \"All POS Survey\")\n",
        "writeData(wb, \"All POS Survey\", df_with_2)\n",
        "#saveWorkbook(wb, \"SurveyData-20201028-North.xlsx\", overwrite = TRUE)\n",
        "saveWorkbook(wb, survey_data_file, overwrite = TRUE)"
      ],
      "execution_count": 447,
      "outputs": []
    },
    {
      "cell_type": "markdown",
      "metadata": {
        "id": "vwYH19eoWqJ5"
      },
      "source": [
        "# Summary\n",
        " The above analysis is for 'With POS'\n",
        "\n",
        " It excludes uni-var analysis for certain variables - (multiple choice options):\n",
        "\n",
        "1.   ORG_TYPE\n",
        "2.   ORG_DISCOUNTS_OFFERED\n",
        "3.   ORG_CUSTOMER_DATA\n",
        "4.   ORG_POS_FEATURES\n",
        "5.   ORG_OLD_POS_PAYMENT_OPTIONS\n",
        "6.   ORG_OLD_POS_DEVICES\n",
        "7.   ORG_OLD_POS_URDU_FEATURES\n",
        "8.   ORG_REASON_TO_REPLACE_POS\n",
        "9.   ORG_WILLINGNESS_TO_PAY_AMOUNT\n",
        "10.   ORG_OLD_POS_PROVIDER_PAYMENT_METHOD\n",
        "\n",
        "\n",
        "\n",
        "\n",
        "## ToDO\n",
        "\n",
        "Fix uni-var analysis\n",
        "\n"
      ]
    },
    {
      "cell_type": "code",
      "metadata": {
        "id": "79wWquLWXH6Z"
      },
      "source": [
        ""
      ],
      "execution_count": 448,
      "outputs": []
    },
    {
      "cell_type": "code",
      "metadata": {
        "id": "2pUiiHdkyT_4"
      },
      "source": [
        ""
      ],
      "execution_count": 449,
      "outputs": []
    }
  ]
}