{
  "nbformat": 4,
  "nbformat_minor": 0,
  "metadata": {
    "colab": {
      "name": "Separate NorthSouth Data v7.ipynb",
      "provenance": [],
      "collapsed_sections": [],
      "toc_visible": true,
      "authorship_tag": "ABX9TyMWSsK0+9b6aBEx8N6HPYji",
      "include_colab_link": true
    },
    "kernelspec": {
      "name": "ir",
      "display_name": "R"
    }
  },
  "cells": [
    {
      "cell_type": "markdown",
      "metadata": {
        "id": "view-in-github",
        "colab_type": "text"
      },
      "source": [
        "<a href=\"https://colab.research.google.com/github/patternproject/r.sb.pos.2/blob/main/Separate_NorthSouth_Data_v7.ipynb\" target=\"_parent\"><img src=\"https://colab.research.google.com/assets/colab-badge.svg\" alt=\"Open In Colab\"/></a>"
      ]
    },
    {
      "cell_type": "markdown",
      "metadata": {
        "id": "aSsGw3ZJ4QPN"
      },
      "source": [
        "#READ ME"
      ]
    },
    {
      "cell_type": "markdown",
      "metadata": {
        "id": "T8_teX5y4IUs"
      },
      "source": [
        "##Analysis of Survey Data for POS\n",
        "##Iteration 2\n",
        "##Using R"
      ]
    },
    {
      "cell_type": "markdown",
      "metadata": {
        "id": "sm8gm3xu4Sl9"
      },
      "source": [
        "This file takes in \"Extract of Daily POS Data\" in excel format and outputs two files, one for North and other for South region"
      ]
    },
    {
      "cell_type": "markdown",
      "metadata": {
        "id": "X0soX4yA4eHM"
      },
      "source": [
        "#History\n",
        "\n",
        "v1: First Iteration\n",
        "\n",
        "v2: First run of North and South completed\n",
        "\n",
        "v3: Changed write xlsx to incoporate multiple sheets. Added System Date to Output File Name\n",
        "\n",
        "v4: Adding create \"survey summary\" section from \"Survey-Summary\" colab \n",
        "\n",
        "v5: Continuation of v4. Fixing Special characters in Col Names\n",
        "\n",
        "v6: Continuation of v5. Restructured Code\n",
        "\n",
        "v7: Fixing Col Names for Without POS"
      ]
    },
    {
      "cell_type": "markdown",
      "metadata": {
        "id": "Je5p-3eH4keF"
      },
      "source": [
        "## Setup"
      ]
    },
    {
      "cell_type": "code",
      "metadata": {
        "id": "njNtW-Qj4C5W"
      },
      "source": [
        "# Library\n",
        "library(ggplot2)\n",
        "library(tidyverse)\n",
        "#install.packages(\"readxl\")\n",
        "library(readxl)"
      ],
      "execution_count": 57,
      "outputs": []
    },
    {
      "cell_type": "code",
      "metadata": {
        "id": "VwTgmRBK3Zmi",
        "outputId": "89622002-9960-4a6c-ff13-012432ebde36",
        "colab": {
          "base_uri": "https://localhost:8080/"
        }
      },
      "source": [
        "# conditional install - Janitor\n",
        "list.of.packages <- c(\"janitor\")\n",
        "new.packages <- list.of.packages[!(list.of.packages %in% installed.packages()[,\"Package\"])]\n",
        "if(length(new.packages)) install.packages(new.packages)\n",
        "\n",
        "library(janitor)"
      ],
      "execution_count": 58,
      "outputs": [
        {
          "output_type": "stream",
          "text": [
            "\n",
            "Attaching package: ‘janitor’\n",
            "\n",
            "\n",
            "The following objects are masked from ‘package:stats’:\n",
            "\n",
            "    chisq.test, fisher.test\n",
            "\n",
            "\n"
          ],
          "name": "stderr"
        }
      ]
    },
    {
      "cell_type": "code",
      "metadata": {
        "id": "BoLExd2j-VGL"
      },
      "source": [
        "# conditional install - openxlsx\n",
        "\n",
        "list.of.packages <- c(\"openxlsx\")\n",
        "new.packages <- list.of.packages[!(list.of.packages %in% installed.packages()[,\"Package\"])]\n",
        "if(length(new.packages)) install.packages(new.packages)\n",
        "\n",
        "library(openxlsx)"
      ],
      "execution_count": 59,
      "outputs": []
    },
    {
      "cell_type": "markdown",
      "metadata": {
        "id": "B_k1vnSQJrGi"
      },
      "source": [
        "# With POS"
      ]
    },
    {
      "cell_type": "code",
      "metadata": {
        "id": "E9ZMZ_vR4jwD"
      },
      "source": [
        "# reading in input File\n",
        "input_file = '/content/With POS 20201103.xlsx'\n",
        "df_master = read_xlsx(input_file, sheet=1)\n"
      ],
      "execution_count": 77,
      "outputs": []
    },
    {
      "cell_type": "code",
      "metadata": {
        "id": "k3-yLoNj41Bk",
        "outputId": "5a2e6254-24a8-42aa-9cf4-9b776fdb1333",
        "colab": {
          "base_uri": "https://localhost:8080/"
        }
      },
      "source": [
        "# printing DF\n",
        "print(as_tibble(df_master))"
      ],
      "execution_count": 78,
      "outputs": [
        {
          "output_type": "stream",
          "text": [
            "\u001b[90m# A tibble: 134 x 42\u001b[39m\n",
            "   RespondentId EmployeeCode UserName BusinessUnit Department `Address of the…\n",
            "          \u001b[3m\u001b[90m<dbl>\u001b[39m\u001b[23m        \u001b[3m\u001b[90m<dbl>\u001b[39m\u001b[23m \u001b[3m\u001b[90m<chr>\u001b[39m\u001b[23m    \u001b[3m\u001b[90m<chr>\u001b[39m\u001b[23m        \u001b[3m\u001b[90m<chr>\u001b[39m\u001b[23m      \u001b[3m\u001b[90m<chr>\u001b[39m\u001b[23m           \n",
            "\u001b[90m 1\u001b[39m         \u001b[4m6\u001b[24m857        \u001b[4m3\u001b[24m\u001b[4m7\u001b[24m636 Burhan … Managment    CorpDev    (Blue Area)     \n",
            "\u001b[90m 2\u001b[39m         \u001b[4m6\u001b[24m867        \u001b[4m3\u001b[24m\u001b[4m7\u001b[24m636 Burhan … Managment    CorpDev    (DHA)           \n",
            "\u001b[90m 3\u001b[39m         \u001b[4m6\u001b[24m868        \u001b[4m3\u001b[24m\u001b[4m7\u001b[24m636 Burhan … Managment    CorpDev    (Meadows)       \n",
            "\u001b[90m 4\u001b[39m         \u001b[4m6\u001b[24m874        \u001b[4m3\u001b[24m\u001b[4m7\u001b[24m636 Burhan … Managment    CorpDev    (a)             \n",
            "\u001b[90m 5\u001b[39m         \u001b[4m6\u001b[24m879        \u001b[4m3\u001b[24m\u001b[4m0\u001b[24m919 Farasat… Customer Se… Operation… (Bank Road Sadd…\n",
            "\u001b[90m 6\u001b[39m         \u001b[4m6\u001b[24m898        \u001b[4m3\u001b[24m\u001b[4m7\u001b[24m459 Muhamma… Customer Se… Operation… (Bakeman g-11 m…\n",
            "\u001b[90m 7\u001b[39m         \u001b[4m6\u001b[24m905        \u001b[4m3\u001b[24m\u001b[4m7\u001b[24m459 Muhamma… Customer Se… Operation… (G-11/3 street …\n",
            "\u001b[90m 8\u001b[39m         \u001b[4m6\u001b[24m910        \u001b[4m3\u001b[24m\u001b[4m2\u001b[24m117 Osama S… Customer Se… Operation… (Test)          \n",
            "\u001b[90m 9\u001b[39m         \u001b[4m6\u001b[24m911        \u001b[4m3\u001b[24m\u001b[4m6\u001b[24m750 Muhamma… Customer Se… Operation… (Gori town)     \n",
            "\u001b[90m10\u001b[39m         \u001b[4m6\u001b[24m917        \u001b[4m3\u001b[24m\u001b[4m6\u001b[24m814 Abdul W… Customer Se… Operation… (Commercial)    \n",
            "\u001b[90m# … with 124 more rows, and 36 more variables: City \u001b[3m\u001b[90m<chr>\u001b[90m\u001b[23m, `Do you have\u001b[39m\n",
            "\u001b[90m#   \"Internet Access\" at your outlet?` \u001b[3m\u001b[90m<chr>\u001b[90m\u001b[23m, `Does your outlet offer\u001b[39m\n",
            "\u001b[90m#   â€œDelivery Serviceâ€\\u009d?` \u001b[3m\u001b[90m<chr>\u001b[90m\u001b[23m, `For which purposes do you store\u001b[39m\n",
            "\u001b[90m#   â€œCustomer Dataâ€\\u009d?` \u001b[3m\u001b[90m<chr>\u001b[90m\u001b[23m, `How did you â€œPayâ€\\u009d for your\u001b[39m\n",
            "\u001b[90m#   current POS?` \u001b[3m\u001b[90m<chr>\u001b[90m\u001b[23m, `How long does it take for a new employee to â€œLearn\u001b[39m\n",
            "\u001b[90m#   your POSâ€\\u009d? (in number of days):` \u001b[3m\u001b[90m<chr>\u001b[90m\u001b[23m, `How many \"Employees\" do you\u001b[39m\n",
            "\u001b[90m#   have in this outlet?` \u001b[3m\u001b[90m<chr>\u001b[90m\u001b[23m, `How much disruption in â€œInternet\u001b[39m\n",
            "\u001b[90m#   Serviceâ€\\u009d do you face?` \u001b[3m\u001b[90m<chr>\u001b[90m\u001b[23m, `How often do you â€œFace\u001b[39m\n",
            "\u001b[90m#   Problemsâ€\\u009d with your POS?` \u001b[3m\u001b[90m<chr>\u001b[90m\u001b[23m, `If you had to pay for a new POS,\u001b[39m\n",
            "\u001b[90m#   which â€œPayment Typeâ€\\u009d would you prefer?` \u001b[3m\u001b[90m<chr>\u001b[90m\u001b[23m, `Is your\u001b[39m\n",
            "\u001b[90m#   POS:` \u001b[3m\u001b[90m<chr>\u001b[90m\u001b[23m, `Name of the Outlet:` \u001b[3m\u001b[90m<chr>\u001b[90m\u001b[23m, `Number of years you have worked\u001b[39m\n",
            "\u001b[90m#   with this organization:` \u001b[3m\u001b[90m<chr>\u001b[90m\u001b[23m, `Please choose the â€œNumber of\u001b[39m\n",
            "\u001b[90m#   Outletsâ€\\u009d:` \u001b[3m\u001b[90m<chr>\u001b[90m\u001b[23m, `Please choose which â€œKind your POSâ€\\u009d you\u001b[39m\n",
            "\u001b[90m#   have:` \u001b[3m\u001b[90m<chr>\u001b[90m\u001b[23m, `Please provide an amount in PKR you are â€œWilling to\u001b[39m\n",
            "\u001b[90m#   Payâ€\\u009d, corresponding to last question:` \u001b[3m\u001b[90m<chr>\u001b[90m\u001b[23m, `Please state your\u001b[39m\n",
            "\u001b[90m#   â€œPersonal Observationsâ€\\u009d which you believe would be interesting to\u001b[39m\n",
            "\u001b[90m#   share about this interaction.` \u001b[3m\u001b[90m<chr>\u001b[90m\u001b[23m, `Please take a picture of the outlet,\u001b[39m\n",
            "\u001b[90m#   with itâ€™s name visible` \u001b[3m\u001b[90m<chr>\u001b[90m\u001b[23m, `Please take a picture of the visiting\u001b[39m\n",
            "\u001b[90m#   card` \u001b[3m\u001b[90m<chr>\u001b[90m\u001b[23m, `POS Name: (Name of the POS Software being used. Not the\u001b[39m\n",
            "\u001b[90m#   hardware)` \u001b[3m\u001b[90m<chr>\u001b[90m\u001b[23m, `POS Provider: (Name of the company from which POS has\u001b[39m\n",
            "\u001b[90m#   been purchased)` \u001b[3m\u001b[90m<chr>\u001b[90m\u001b[23m, `Region:` \u001b[3m\u001b[90m<chr>\u001b[90m\u001b[23m, `Respondentâ€™s Phone\u001b[39m\n",
            "\u001b[90m#   Number:` \u001b[3m\u001b[90m<chr>\u001b[90m\u001b[23m, `Respondent's Designation:` \u001b[3m\u001b[90m<chr>\u001b[90m\u001b[23m, `Respondent's\u001b[39m\n",
            "\u001b[90m#   name:` \u001b[3m\u001b[90m<chr>\u001b[90m\u001b[23m, `What â€œLanguage is your POSâ€\\u009d in?` \u001b[3m\u001b[90m<chr>\u001b[90m\u001b[23m, `What are\u001b[39m\n",
            "\u001b[90m#   the â€œMost Important Featuresâ€\\u009d in a POS? You may choose multiple\u001b[39m\n",
            "\u001b[90m#   options.` \u001b[3m\u001b[90m<chr>\u001b[90m\u001b[23m, `What kind of business are you?` \u001b[3m\u001b[90m<chr>\u001b[90m\u001b[23m, `What types of\u001b[39m\n",
            "\u001b[90m#   â€œPaymentsâ€\\u009d do you accept through your POS? You may choose multiple\u001b[39m\n",
            "\u001b[90m#   options:` \u001b[3m\u001b[90m<chr>\u001b[90m\u001b[23m, `Which device(s) do you use for â€œAccessing your\u001b[39m\n",
            "\u001b[90m#   POSâ€\\u009d? You may choose multiple options.` \u001b[3m\u001b[90m<chr>\u001b[90m\u001b[23m, `Which method do you\u001b[39m\n",
            "\u001b[90m#   use for â€œPaying your POS vendorâ€\\u009d?` \u001b[3m\u001b[90m<chr>\u001b[90m\u001b[23m, `Which of the following\u001b[39m\n",
            "\u001b[90m#   â€œDiscountsâ€\\u009d do you offer to your customers?` \u001b[3m\u001b[90m<chr>\u001b[90m\u001b[23m, `Which of the\u001b[39m\n",
            "\u001b[90m#   following â€œFeaturesâ€\\u009d in your POS are in Urdu/Local language? You\u001b[39m\n",
            "\u001b[90m#   may choose multiple options.` \u001b[3m\u001b[90m<chr>\u001b[90m\u001b[23m, `Which of the following can be a\u001b[39m\n",
            "\u001b[90m#   â€œReason to replace your POSâ€\\u009d? You may choose multiple\u001b[39m\n",
            "\u001b[90m#   options.` \u001b[3m\u001b[90m<chr>\u001b[90m\u001b[23m, `Will you be willing to run a â€œDemo of our POSâ€\\u009d\u001b[39m\n",
            "\u001b[90m#   at your outlet?` \u001b[3m\u001b[90m<chr>\u001b[90m\u001b[23m, `You have been very helpful. Can we â€œContact you\u001b[39m\n",
            "\u001b[90m#   in Futureâ€\\u009d for more details?` \u001b[3m\u001b[90m<chr>\u001b[90m\u001b[23m\u001b[39m\n"
          ],
          "name": "stdout"
        }
      ]
    },
    {
      "cell_type": "code",
      "metadata": {
        "id": "60xEIgpi5KWK",
        "outputId": "4fc51f01-37eb-46ee-95c6-f62e253b42c8",
        "colab": {
          "base_uri": "https://localhost:8080/"
        }
      },
      "source": [
        "## inspect the data\n",
        "str(df_master)"
      ],
      "execution_count": 79,
      "outputs": [
        {
          "output_type": "stream",
          "text": [
            "tibble [134 × 42] (S3: tbl_df/tbl/data.frame)\n",
            " $ RespondentId                                                                                                              : num [1:134] 6857 6867 6868 6874 6879 ...\n",
            " $ EmployeeCode                                                                                                              : num [1:134] 37636 37636 37636 37636 30919 ...\n",
            " $ UserName                                                                                                                  : chr [1:134] \"Burhan Ul Haq\" \"Burhan Ul Haq\" \"Burhan Ul Haq\" \"Burhan Ul Haq\" ...\n",
            " $ BusinessUnit                                                                                                              : chr [1:134] \"Managment\" \"Managment\" \"Managment\" \"Managment\" ...\n",
            " $ Department                                                                                                                : chr [1:134] \"CorpDev\" \"CorpDev\" \"CorpDev\" \"CorpDev\" ...\n",
            " $ Address of the Outlet:                                                                                                    : chr [1:134] \"(Blue Area)\" \"(DHA)\" \"(Meadows)\" \"(a)\" ...\n",
            " $ City                                                                                                                      : chr [1:134] \"Islamabad\" \"Rawalpindi\" \"Karachi\" \"Islamabad\" ...\n",
            " $ Do you have \"Internet Access\" at your outlet?                                                                             : chr [1:134] \"Dedicated connection\" \"No access\" \"I use my mobile as required\" \"Dedicated connection\" ...\n",
            " $ Does your outlet offer â€œDelivery Serviceâ€?                                                                       : chr [1:134] \"Yes\" \"Thinking about it\" \"Thinking about it\" \"Yes\" ...\n",
            " $ For which purposes do you store â€œCustomer Dataâ€?                                                                 : chr [1:134] \"Use for discounts (repeated purchases)\" \"Use for discounts (repeated purchases)\" \"Use for delivery (sending ordered items)\" \"-\" ...\n",
            " $ How did you â€œPayâ€ for your current POS?                                                                          : chr [1:134] \"Recurring Payment - Every Month\" \"One Time Payment\" \"Recurring Payment - Every Month\" \"One Time Payment\" ...\n",
            " $ How long does it take for a new employee to â€œLearn your POSâ€? (in number of days):                               : chr [1:134] \"10 or Less days\" \"5 or Less days\" \"5 or Less days\" \"5 or Less days\" ...\n",
            " $ How many \"Employees\" do you have in this outlet?                                                                          : chr [1:134] \"5\" \"7\" \"10\" \"1\" ...\n",
            " $ How much disruption in â€œInternet Serviceâ€ do you face?                                                           : chr [1:134] \"Little\" \"-\" \"Little\" \"Never\" ...\n",
            " $ How often do you â€œFace Problemsâ€ with your POS?                                                                  : chr [1:134] \"Sometimes\" \"Never\" \"Sometimes\" \"Never\" ...\n",
            " $ If you had to pay for a new POS, which â€œPayment Typeâ€ would you prefer?                                          : chr [1:134] \"Recurring Payment - Every Month\" \"Recurring Payment - Every Month\" \"Recurring Payment - Every 3 Months\" \"One Time Payment\" ...\n",
            " $ Is your POS:                                                                                                              : chr [1:134] \"Ready-Made\" \"Ready-Made\" \"Ready-Made\" \"Custom-Built (you got it made as per your requirements)\" ...\n",
            " $ Name of the Outlet:                                                                                                       : chr [1:134] \"(Test 1)\" \"(Test 3)\" \"(Test 4)\" \"(Test 7)\" ...\n",
            " $ Number of years you have worked with this organization:                                                                   : chr [1:134] \"-10\" \"-1\" \"-1\" \"-1\" ...\n",
            " $ Please choose the â€œNumber of Outletsâ€:                                                                           : chr [1:134] \"3\" \"3\" \"6 to 10\" \"1\" ...\n",
            " $ Please choose which â€œKind your POSâ€ you have:                                                                    : chr [1:134] \"Stand-Alone: does NOT require Internet Connection\" \"Stand-Alone: does NOT require Internet Connection\" \"Stand-Alone: does NOT require Internet Connection\" \"Web-Based: requires Internet Connection to work\" ...\n",
            " $ Please provide an amount in PKR you are â€œWilling to Payâ€, corresponding to last question:                        : chr [1:134] \"10\" \"100\" \"0\" \"0\" ...\n",
            " $ Please state your â€œPersonal Observationsâ€ which you believe would be interesting to share about this interaction.: chr [1:134] \"None\" \"None\" \"Testing\" \"a\" ...\n",
            " $ Please take a picture of the outlet, with itâ€™s name visible                                                             : chr [1:134] \"-\" \"-\" \"-\" \"-\" ...\n",
            " $ Please take a picture of the visiting card                                                                                : chr [1:134] \"-\" \"-\" \"E:\\\\Applications\\\\Survey_HRMS\\\\UploadedFiles\\\\retail-environment-store-ss-1920-800x450.jpg, E:\\\\Applications\\\\S\"| __truncated__ \"E:\\\\Applications\\\\Survey_HRMS\\\\UploadedFiles\\\\retail-environment-store-ss-1920-800x450.jpg\" ...\n",
            " $ POS Name: (Name of the POS Software being used. Not the hardware)                                                         : chr [1:134] \"(Non Available)\" \"(No)\" \"(Testing)\" \"(a)\" ...\n",
            " $ POS Provider: (Name of the company from which POS has been purchased)                                                     : chr [1:134] \"(Non Available)\" \"(Not Known)\" \"(Testing)\" \"(a)\" ...\n",
            " $ Region:                                                                                                                   : chr [1:134] \"-\" \"-\" \"Clifton\" \"Golra Morh\" ...\n",
            " $ Respondentâ€™s Phone Number:                                                                                              : chr [1:134] \"-234\" \"-123\" \"-1\" \"-123\" ...\n",
            " $ Respondent's Designation:                                                                                                 : chr [1:134] \"(Manager)\" \"(M)\" \"-10\" \"(M)\" ...\n",
            " $ Respondent's name:                                                                                                        : chr [1:134] \"(ABC)\" \"(ABC)\" \"(Testing)\" \"(B)\" ...\n",
            " $ What â€œLanguage is your POSâ€ in?                                                                                  : chr [1:134] \"English and Urdu\" \"English and Urdu\" \"English and Urdu\" \"English\" ...\n",
            " $ What are the â€œMost Important Featuresâ€ in a POS? You may choose multiple options.                                : chr [1:134] \"Cash Reconciliation (Balance daily sales and returns for cash and credit)\" \"Customer Loyalty (Offer discounts based on customer profile)\" \"Customer Loyalty (Offer discounts based on customer profile)\" \"-\" ...\n",
            " $ What kind of business are you?                                                                                            : chr [1:134] \"Other (3)\" \"Hardware / Paints\" \"Groceries\" \"-\" ...\n",
            " $ What types of â€œPaymentsâ€ do you accept through your POS? You may choose multiple options:                        : chr [1:134] \"Jazz-Cash\" \"QR code\" \"QR code\" \"-\" ...\n",
            " $ Which device(s) do you use for â€œAccessing your POSâ€? You may choose multiple options.                            : chr [1:134] \"Laptop\" \"Tablet\" \"Tablet\" \"-\" ...\n",
            " $ Which method do you use for â€œPaying your POS vendorâ€?                                                            : chr [1:134] \"Digital Wallet (Easy-Paisa, Jazz-Cash, etc.)\" \"Bank (debit card, credit card etc.)\" \"Bank (debit card, credit card etc.)\" \"Cash\" ...\n",
            " $ Which of the following â€œDiscountsâ€ do you offer to your customers?                                               : chr [1:134] \"Customer Discount (Based on customer relationship), Referral Discount (Credit Card, Social Media)\" \"Product Discount (Lower price than market)\" \"Customer Discount (Based on customer relationship)\" \"-\" ...\n",
            " $ Which of the following â€œFeaturesâ€ in your POS are in Urdu/Local language? You may choose multiple options.       : chr [1:134] \"Display Screen\" \"Slips or Receipts\" \"Slips or Receipts\" \"-\" ...\n",
            " $ Which of the following can be a â€œReason to replace your POSâ€? You may choose multiple options.                   : chr [1:134] \"Price (Cheaper than current provider)\" \"Not Willing (Please specify) (Happy)\" \"Price (Cheaper than current provider)\" \"-\" ...\n",
            " $ Will you be willing to run a â€œDemo of our POSâ€ at your outlet?                                                   : chr [1:134] \"Yes\" \"No\" \"Yes\" \"Yes\" ...\n",
            " $ You have been very helpful. Can we â€œContact you in Futureâ€ for more details?                                     : chr [1:134] \"Yes\" \"No\" \"Yes\" \"Yes\" ...\n"
          ],
          "name": "stdout"
        }
      ]
    },
    {
      "cell_type": "code",
      "metadata": {
        "id": "1mm5CggO5QDc",
        "outputId": "92c24410-b4cc-4263-abc5-825c44787266",
        "colab": {
          "base_uri": "https://localhost:8080/"
        }
      },
      "source": [
        "df_master %>% glimpse()"
      ],
      "execution_count": 80,
      "outputs": [
        {
          "output_type": "stream",
          "text": [
            "Rows: 134\n",
            "Columns: 42\n",
            "$ RespondentId                                                                                                                 \u001b[3m\u001b[90m<dbl>\u001b[39m\u001b[23m …\n",
            "$ EmployeeCode                                                                                                                 \u001b[3m\u001b[90m<dbl>\u001b[39m\u001b[23m …\n",
            "$ UserName                                                                                                                     \u001b[3m\u001b[90m<chr>\u001b[39m\u001b[23m …\n",
            "$ BusinessUnit                                                                                                                 \u001b[3m\u001b[90m<chr>\u001b[39m\u001b[23m …\n",
            "$ Department                                                                                                                   \u001b[3m\u001b[90m<chr>\u001b[39m\u001b[23m …\n",
            "$ `Address of the Outlet:`                                                                                                     \u001b[3m\u001b[90m<chr>\u001b[39m\u001b[23m …\n",
            "$ City                                                                                                                         \u001b[3m\u001b[90m<chr>\u001b[39m\u001b[23m …\n",
            "$ `Do you have \"Internet Access\" at your outlet?`                                                                              \u001b[3m\u001b[90m<chr>\u001b[39m\u001b[23m …\n",
            "$ `Does your outlet offer â€œDelivery Serviceâ€\\u009d?`                                                                        \u001b[3m\u001b[90m<chr>\u001b[39m\u001b[23m …\n",
            "$ `For which purposes do you store â€œCustomer Dataâ€\\u009d?`                                                                  \u001b[3m\u001b[90m<chr>\u001b[39m\u001b[23m …\n",
            "$ `How did you â€œPayâ€\\u009d for your current POS?`                                                                           \u001b[3m\u001b[90m<chr>\u001b[39m\u001b[23m …\n",
            "$ `How long does it take for a new employee to â€œLearn your POSâ€\\u009d? (in number of days):`                                \u001b[3m\u001b[90m<chr>\u001b[39m\u001b[23m …\n",
            "$ `How many \"Employees\" do you have in this outlet?`                                                                           \u001b[3m\u001b[90m<chr>\u001b[39m\u001b[23m …\n",
            "$ `How much disruption in â€œInternet Serviceâ€\\u009d do you face?`                                                            \u001b[3m\u001b[90m<chr>\u001b[39m\u001b[23m …\n",
            "$ `How often do you â€œFace Problemsâ€\\u009d with your POS?`                                                                   \u001b[3m\u001b[90m<chr>\u001b[39m\u001b[23m …\n",
            "$ `If you had to pay for a new POS, which â€œPayment Typeâ€\\u009d would you prefer?`                                           \u001b[3m\u001b[90m<chr>\u001b[39m\u001b[23m …\n",
            "$ `Is your POS:`                                                                                                               \u001b[3m\u001b[90m<chr>\u001b[39m\u001b[23m …\n",
            "$ `Name of the Outlet:`                                                                                                        \u001b[3m\u001b[90m<chr>\u001b[39m\u001b[23m …\n",
            "$ `Number of years you have worked with this organization:`                                                                    \u001b[3m\u001b[90m<chr>\u001b[39m\u001b[23m …\n",
            "$ `Please choose the â€œNumber of Outletsâ€\\u009d:`                                                                            \u001b[3m\u001b[90m<chr>\u001b[39m\u001b[23m …\n",
            "$ `Please choose which â€œKind your POSâ€\\u009d you have:`                                                                     \u001b[3m\u001b[90m<chr>\u001b[39m\u001b[23m …\n",
            "$ `Please provide an amount in PKR you are â€œWilling to Payâ€\\u009d, corresponding to last question:`                         \u001b[3m\u001b[90m<chr>\u001b[39m\u001b[23m …\n",
            "$ `Please state your â€œPersonal Observationsâ€\\u009d which you believe would be interesting to share about this interaction.` \u001b[3m\u001b[90m<chr>\u001b[39m\u001b[23m …\n",
            "$ `Please take a picture of the outlet, with itâ€™s name visible`                                                              \u001b[3m\u001b[90m<chr>\u001b[39m\u001b[23m …\n",
            "$ `Please take a picture of the visiting card`                                                                                 \u001b[3m\u001b[90m<chr>\u001b[39m\u001b[23m …\n",
            "$ `POS Name: (Name of the POS Software being used. Not the hardware)`                                                          \u001b[3m\u001b[90m<chr>\u001b[39m\u001b[23m …\n",
            "$ `POS Provider: (Name of the company from which POS has been purchased)`                                                      \u001b[3m\u001b[90m<chr>\u001b[39m\u001b[23m …\n",
            "$ `Region:`                                                                                                                    \u001b[3m\u001b[90m<chr>\u001b[39m\u001b[23m …\n",
            "$ `Respondentâ€™s Phone Number:`                                                                                               \u001b[3m\u001b[90m<chr>\u001b[39m\u001b[23m …\n",
            "$ `Respondent's Designation:`                                                                                                  \u001b[3m\u001b[90m<chr>\u001b[39m\u001b[23m …\n",
            "$ `Respondent's name:`                                                                                                         \u001b[3m\u001b[90m<chr>\u001b[39m\u001b[23m …\n",
            "$ `What â€œLanguage is your POSâ€\\u009d in?`                                                                                   \u001b[3m\u001b[90m<chr>\u001b[39m\u001b[23m …\n",
            "$ `What are the â€œMost Important Featuresâ€\\u009d in a POS? You may choose multiple options.`                                 \u001b[3m\u001b[90m<chr>\u001b[39m\u001b[23m …\n",
            "$ `What kind of business are you?`                                                                                             \u001b[3m\u001b[90m<chr>\u001b[39m\u001b[23m …\n",
            "$ `What types of â€œPaymentsâ€\\u009d do you accept through your POS? You may choose multiple options:`                         \u001b[3m\u001b[90m<chr>\u001b[39m\u001b[23m …\n",
            "$ `Which device(s) do you use for â€œAccessing your POSâ€\\u009d? You may choose multiple options.`                             \u001b[3m\u001b[90m<chr>\u001b[39m\u001b[23m …\n",
            "$ `Which method do you use for â€œPaying your POS vendorâ€\\u009d?`                                                             \u001b[3m\u001b[90m<chr>\u001b[39m\u001b[23m …\n",
            "$ `Which of the following â€œDiscountsâ€\\u009d do you offer to your customers?`                                                \u001b[3m\u001b[90m<chr>\u001b[39m\u001b[23m …\n",
            "$ `Which of the following â€œFeaturesâ€\\u009d in your POS are in Urdu/Local language? You may choose multiple options.`        \u001b[3m\u001b[90m<chr>\u001b[39m\u001b[23m …\n",
            "$ `Which of the following can be a â€œReason to replace your POSâ€\\u009d? You may choose multiple options.`                    \u001b[3m\u001b[90m<chr>\u001b[39m\u001b[23m …\n",
            "$ `Will you be willing to run a â€œDemo of our POSâ€\\u009d at your outlet?`                                                    \u001b[3m\u001b[90m<chr>\u001b[39m\u001b[23m …\n",
            "$ `You have been very helpful. Can we â€œContact you in Futureâ€\\u009d for more details?`                                      \u001b[3m\u001b[90m<chr>\u001b[39m\u001b[23m …\n"
          ],
          "name": "stdout"
        }
      ]
    },
    {
      "cell_type": "code",
      "metadata": {
        "id": "QmZhQrxP5VNl",
        "outputId": "b04791bd-cbe4-4e89-df1f-fa492c31ce53",
        "colab": {
          "base_uri": "https://localhost:8080/",
          "height": 433
        }
      },
      "source": [
        "colnames(df_master)"
      ],
      "execution_count": 81,
      "outputs": [
        {
          "output_type": "display_data",
          "data": {
            "text/plain": [
              " [1] \"RespondentId\"                                                                                                              \n",
              " [2] \"EmployeeCode\"                                                                                                              \n",
              " [3] \"UserName\"                                                                                                                  \n",
              " [4] \"BusinessUnit\"                                                                                                              \n",
              " [5] \"Department\"                                                                                                                \n",
              " [6] \"Address of the Outlet:\"                                                                                                    \n",
              " [7] \"City\"                                                                                                                      \n",
              " [8] \"Do you have \\\"Internet Access\\\" at your outlet?\"                                                                           \n",
              " [9] \"Does your outlet offer â€œDelivery Serviceâ€\\u009d?\"                                                                       \n",
              "[10] \"For which purposes do you store â€œCustomer Dataâ€\\u009d?\"                                                                 \n",
              "[11] \"How did you â€œPayâ€\\u009d for your current POS?\"                                                                          \n",
              "[12] \"How long does it take for a new employee to â€œLearn your POSâ€\\u009d? (in number of days):\"                               \n",
              "[13] \"How many \\\"Employees\\\" do you have in this outlet?\"                                                                        \n",
              "[14] \"How much disruption in â€œInternet Serviceâ€\\u009d do you face?\"                                                           \n",
              "[15] \"How often do you â€œFace Problemsâ€\\u009d with your POS?\"                                                                  \n",
              "[16] \"If you had to pay for a new POS, which â€œPayment Typeâ€\\u009d would you prefer?\"                                          \n",
              "[17] \"Is your POS:\"                                                                                                              \n",
              "[18] \"Name of the Outlet:\"                                                                                                       \n",
              "[19] \"Number of years you have worked with this organization:\"                                                                   \n",
              "[20] \"Please choose the â€œNumber of Outletsâ€\\u009d:\"                                                                           \n",
              "[21] \"Please choose which â€œKind your POSâ€\\u009d you have:\"                                                                    \n",
              "[22] \"Please provide an amount in PKR you are â€œWilling to Payâ€\\u009d, corresponding to last question:\"                        \n",
              "[23] \"Please state your â€œPersonal Observationsâ€\\u009d which you believe would be interesting to share about this interaction.\"\n",
              "[24] \"Please take a picture of the outlet, with itâ€™s name visible\"                                                             \n",
              "[25] \"Please take a picture of the visiting card\"                                                                                \n",
              "[26] \"POS Name: (Name of the POS Software being used. Not the hardware)\"                                                         \n",
              "[27] \"POS Provider: (Name of the company from which POS has been purchased)\"                                                     \n",
              "[28] \"Region:\"                                                                                                                   \n",
              "[29] \"Respondentâ€™s Phone Number:\"                                                                                              \n",
              "[30] \"Respondent's Designation:\"                                                                                                 \n",
              "[31] \"Respondent's name:\"                                                                                                        \n",
              "[32] \"What â€œLanguage is your POSâ€\\u009d in?\"                                                                                  \n",
              "[33] \"What are the â€œMost Important Featuresâ€\\u009d in a POS? You may choose multiple options.\"                                \n",
              "[34] \"What kind of business are you?\"                                                                                            \n",
              "[35] \"What types of â€œPaymentsâ€\\u009d do you accept through your POS? You may choose multiple options:\"                        \n",
              "[36] \"Which device(s) do you use for â€œAccessing your POSâ€\\u009d? You may choose multiple options.\"                            \n",
              "[37] \"Which method do you use for â€œPaying your POS vendorâ€\\u009d?\"                                                            \n",
              "[38] \"Which of the following â€œDiscountsâ€\\u009d do you offer to your customers?\"                                               \n",
              "[39] \"Which of the following â€œFeaturesâ€\\u009d in your POS are in Urdu/Local language? You may choose multiple options.\"       \n",
              "[40] \"Which of the following can be a â€œReason to replace your POSâ€\\u009d? You may choose multiple options.\"                   \n",
              "[41] \"Will you be willing to run a â€œDemo of our POSâ€\\u009d at your outlet?\"                                                   \n",
              "[42] \"You have been very helpful. Can we â€œContact you in Futureâ€\\u009d for more details?\"                                     "
            ],
            "text/latex": "\\begin{enumerate*}\n\\item 'RespondentId'\n\\item 'EmployeeCode'\n\\item 'UserName'\n\\item 'BusinessUnit'\n\\item 'Department'\n\\item 'Address of the Outlet:'\n\\item 'City'\n\\item 'Do you have \"Internet Access\" at your outlet?'\n\\item 'Does your outlet offer â€œDelivery Serviceâ€\\textbackslash{}u009d?'\n\\item 'For which purposes do you store â€œCustomer Dataâ€\\textbackslash{}u009d?'\n\\item 'How did you â€œPayâ€\\textbackslash{}u009d for your current POS?'\n\\item 'How long does it take for a new employee to â€œLearn your POSâ€\\textbackslash{}u009d? (in number of days):'\n\\item 'How many \"Employees\" do you have in this outlet?'\n\\item 'How much disruption in â€œInternet Serviceâ€\\textbackslash{}u009d do you face?'\n\\item 'How often do you â€œFace Problemsâ€\\textbackslash{}u009d with your POS?'\n\\item 'If you had to pay for a new POS, which â€œPayment Typeâ€\\textbackslash{}u009d would you prefer?'\n\\item 'Is your POS:'\n\\item 'Name of the Outlet:'\n\\item 'Number of years you have worked with this organization:'\n\\item 'Please choose the â€œNumber of Outletsâ€\\textbackslash{}u009d:'\n\\item 'Please choose which â€œKind your POSâ€\\textbackslash{}u009d you have:'\n\\item 'Please provide an amount in PKR you are â€œWilling to Payâ€\\textbackslash{}u009d, corresponding to last question:'\n\\item 'Please state your â€œPersonal Observationsâ€\\textbackslash{}u009d which you believe would be interesting to share about this interaction.'\n\\item 'Please take a picture of the outlet, with itâ€™s name visible'\n\\item 'Please take a picture of the visiting card'\n\\item 'POS Name: (Name of the POS Software being used. Not the hardware)'\n\\item 'POS Provider: (Name of the company from which POS has been purchased)'\n\\item 'Region:'\n\\item 'Respondentâ€™s Phone Number:'\n\\item 'Respondent\\textbackslash{}'s Designation:'\n\\item 'Respondent\\textbackslash{}'s name:'\n\\item 'What â€œLanguage is your POSâ€\\textbackslash{}u009d in?'\n\\item 'What are the â€œMost Important Featuresâ€\\textbackslash{}u009d in a POS? You may choose multiple options.'\n\\item 'What kind of business are you?'\n\\item 'What types of â€œPaymentsâ€\\textbackslash{}u009d do you accept through your POS? You may choose multiple options:'\n\\item 'Which device(s) do you use for â€œAccessing your POSâ€\\textbackslash{}u009d? You may choose multiple options.'\n\\item 'Which method do you use for â€œPaying your POS vendorâ€\\textbackslash{}u009d?'\n\\item 'Which of the following â€œDiscountsâ€\\textbackslash{}u009d do you offer to your customers?'\n\\item 'Which of the following â€œFeaturesâ€\\textbackslash{}u009d in your POS are in Urdu/Local language? You may choose multiple options.'\n\\item 'Which of the following can be a â€œReason to replace your POSâ€\\textbackslash{}u009d? You may choose multiple options.'\n\\item 'Will you be willing to run a â€œDemo of our POSâ€\\textbackslash{}u009d at your outlet?'\n\\item 'You have been very helpful. Can we â€œContact you in Futureâ€\\textbackslash{}u009d for more details?'\n\\end{enumerate*}\n",
            "text/markdown": "1. 'RespondentId'\n2. 'EmployeeCode'\n3. 'UserName'\n4. 'BusinessUnit'\n5. 'Department'\n6. 'Address of the Outlet:'\n7. 'City'\n8. 'Do you have \"Internet Access\" at your outlet?'\n9. 'Does your outlet offer â€œDelivery Serviceâ€\\u009d?'\n10. 'For which purposes do you store â€œCustomer Dataâ€\\u009d?'\n11. 'How did you â€œPayâ€\\u009d for your current POS?'\n12. 'How long does it take for a new employee to â€œLearn your POSâ€\\u009d? (in number of days):'\n13. 'How many \"Employees\" do you have in this outlet?'\n14. 'How much disruption in â€œInternet Serviceâ€\\u009d do you face?'\n15. 'How often do you â€œFace Problemsâ€\\u009d with your POS?'\n16. 'If you had to pay for a new POS, which â€œPayment Typeâ€\\u009d would you prefer?'\n17. 'Is your POS:'\n18. 'Name of the Outlet:'\n19. 'Number of years you have worked with this organization:'\n20. 'Please choose the â€œNumber of Outletsâ€\\u009d:'\n21. 'Please choose which â€œKind your POSâ€\\u009d you have:'\n22. 'Please provide an amount in PKR you are â€œWilling to Payâ€\\u009d, corresponding to last question:'\n23. 'Please state your â€œPersonal Observationsâ€\\u009d which you believe would be interesting to share about this interaction.'\n24. 'Please take a picture of the outlet, with itâ€™s name visible'\n25. 'Please take a picture of the visiting card'\n26. 'POS Name: (Name of the POS Software being used. Not the hardware)'\n27. 'POS Provider: (Name of the company from which POS has been purchased)'\n28. 'Region:'\n29. 'Respondentâ€™s Phone Number:'\n30. 'Respondent\\'s Designation:'\n31. 'Respondent\\'s name:'\n32. 'What â€œLanguage is your POSâ€\\u009d in?'\n33. 'What are the â€œMost Important Featuresâ€\\u009d in a POS? You may choose multiple options.'\n34. 'What kind of business are you?'\n35. 'What types of â€œPaymentsâ€\\u009d do you accept through your POS? You may choose multiple options:'\n36. 'Which device(s) do you use for â€œAccessing your POSâ€\\u009d? You may choose multiple options.'\n37. 'Which method do you use for â€œPaying your POS vendorâ€\\u009d?'\n38. 'Which of the following â€œDiscountsâ€\\u009d do you offer to your customers?'\n39. 'Which of the following â€œFeaturesâ€\\u009d in your POS are in Urdu/Local language? You may choose multiple options.'\n40. 'Which of the following can be a â€œReason to replace your POSâ€\\u009d? You may choose multiple options.'\n41. 'Will you be willing to run a â€œDemo of our POSâ€\\u009d at your outlet?'\n42. 'You have been very helpful. Can we â€œContact you in Futureâ€\\u009d for more details?'\n\n\n",
            "text/html": [
              "<style>\n",
              ".list-inline {list-style: none; margin:0; padding: 0}\n",
              ".list-inline>li {display: inline-block}\n",
              ".list-inline>li:not(:last-child)::after {content: \"\\00b7\"; padding: 0 .5ex}\n",
              "</style>\n",
              "<ol class=list-inline><li>'RespondentId'</li><li>'EmployeeCode'</li><li>'UserName'</li><li>'BusinessUnit'</li><li>'Department'</li><li>'Address of the Outlet:'</li><li>'City'</li><li>'Do you have \"Internet Access\" at your outlet?'</li><li>'Does your outlet offer â€œDelivery Serviceâ€\\u009d?'</li><li>'For which purposes do you store â€œCustomer Dataâ€\\u009d?'</li><li>'How did you â€œPayâ€\\u009d for your current POS?'</li><li>'How long does it take for a new employee to â€œLearn your POSâ€\\u009d? (in number of days):'</li><li>'How many \"Employees\" do you have in this outlet?'</li><li>'How much disruption in â€œInternet Serviceâ€\\u009d do you face?'</li><li>'How often do you â€œFace Problemsâ€\\u009d with your POS?'</li><li>'If you had to pay for a new POS, which â€œPayment Typeâ€\\u009d would you prefer?'</li><li>'Is your POS:'</li><li>'Name of the Outlet:'</li><li>'Number of years you have worked with this organization:'</li><li>'Please choose the â€œNumber of Outletsâ€\\u009d:'</li><li>'Please choose which â€œKind your POSâ€\\u009d you have:'</li><li>'Please provide an amount in PKR you are â€œWilling to Payâ€\\u009d, corresponding to last question:'</li><li>'Please state your â€œPersonal Observationsâ€\\u009d which you believe would be interesting to share about this interaction.'</li><li>'Please take a picture of the outlet, with itâ€™s name visible'</li><li>'Please take a picture of the visiting card'</li><li>'POS Name: (Name of the POS Software being used. Not the hardware)'</li><li>'POS Provider: (Name of the company from which POS has been purchased)'</li><li>'Region:'</li><li>'Respondentâ€™s Phone Number:'</li><li>'Respondent\\'s Designation:'</li><li>'Respondent\\'s name:'</li><li>'What â€œLanguage is your POSâ€\\u009d in?'</li><li>'What are the â€œMost Important Featuresâ€\\u009d in a POS? You may choose multiple options.'</li><li>'What kind of business are you?'</li><li>'What types of â€œPaymentsâ€\\u009d do you accept through your POS? You may choose multiple options:'</li><li>'Which device(s) do you use for â€œAccessing your POSâ€\\u009d? You may choose multiple options.'</li><li>'Which method do you use for â€œPaying your POS vendorâ€\\u009d?'</li><li>'Which of the following â€œDiscountsâ€\\u009d do you offer to your customers?'</li><li>'Which of the following â€œFeaturesâ€\\u009d in your POS are in Urdu/Local language? You may choose multiple options.'</li><li>'Which of the following can be a â€œReason to replace your POSâ€\\u009d? You may choose multiple options.'</li><li>'Will you be willing to run a â€œDemo of our POSâ€\\u009d at your outlet?'</li><li>'You have been very helpful. Can we â€œContact you in Futureâ€\\u009d for more details?'</li></ol>\n"
            ]
          },
          "metadata": {
            "tags": []
          }
        }
      ]
    },
    {
      "cell_type": "markdown",
      "metadata": {
        "id": "RwFni57F8HcO"
      },
      "source": [
        "df_1 hereon"
      ]
    },
    {
      "cell_type": "code",
      "metadata": {
        "id": "lgbxA_yT5dIM"
      },
      "source": [
        "df_1 = df_master"
      ],
      "execution_count": 82,
      "outputs": []
    },
    {
      "cell_type": "code",
      "metadata": {
        "id": "77ifjY0J59aM",
        "outputId": "3e6ddfc0-2cbf-4552-e3fe-f73f9f6f9b8f",
        "colab": {
          "base_uri": "https://localhost:8080/",
          "height": 35
        }
      },
      "source": [
        "nrow(df_1)"
      ],
      "execution_count": 83,
      "outputs": [
        {
          "output_type": "display_data",
          "data": {
            "text/plain": [
              "[1] 134"
            ],
            "text/latex": "134",
            "text/markdown": "134",
            "text/html": [
              "134"
            ]
          },
          "metadata": {
            "tags": []
          }
        }
      ]
    },
    {
      "cell_type": "code",
      "metadata": {
        "id": "7MgIi2455fms",
        "outputId": "bd0bdd33-1098-4fec-8004-5f795078e300",
        "colab": {
          "base_uri": "https://localhost:8080/",
          "height": 140
        }
      },
      "source": [
        "df_1 %>%\n",
        "  distinct(BusinessUnit)"
      ],
      "execution_count": 84,
      "outputs": [
        {
          "output_type": "display_data",
          "data": {
            "text/plain": [
              "  BusinessUnit           \n",
              "1 Managment              \n",
              "2 Customer Services North\n",
              "3 Customer Services South"
            ],
            "text/latex": "A tibble: 3 × 1\n\\begin{tabular}{l}\n BusinessUnit\\\\\n <chr>\\\\\n\\hline\n\t Managment              \\\\\n\t Customer Services North\\\\\n\t Customer Services South\\\\\n\\end{tabular}\n",
            "text/markdown": "\nA tibble: 3 × 1\n\n| BusinessUnit &lt;chr&gt; |\n|---|\n| Managment               |\n| Customer Services North |\n| Customer Services South |\n\n",
            "text/html": [
              "<table>\n",
              "<caption>A tibble: 3 × 1</caption>\n",
              "<thead>\n",
              "\t<tr><th scope=col>BusinessUnit</th></tr>\n",
              "\t<tr><th scope=col>&lt;chr&gt;</th></tr>\n",
              "</thead>\n",
              "<tbody>\n",
              "\t<tr><td>Managment              </td></tr>\n",
              "\t<tr><td>Customer Services North</td></tr>\n",
              "\t<tr><td>Customer Services South</td></tr>\n",
              "</tbody>\n",
              "</table>\n"
            ]
          },
          "metadata": {
            "tags": []
          }
        }
      ]
    },
    {
      "cell_type": "code",
      "metadata": {
        "id": "_Des5SET431e"
      },
      "source": [
        "# Exclude rows where User is NOT part of Field Team (such as: Burhan)"
      ],
      "execution_count": 85,
      "outputs": []
    },
    {
      "cell_type": "code",
      "metadata": {
        "id": "-RjVOtkd5qs1"
      },
      "source": [
        "df_1 %>%\n",
        " filter(BusinessUnit != 'Managment') -> df_2"
      ],
      "execution_count": 86,
      "outputs": []
    },
    {
      "cell_type": "markdown",
      "metadata": {
        "id": "5l_Ggj9Q8MPc"
      },
      "source": [
        "df_2 hereon"
      ]
    },
    {
      "cell_type": "code",
      "metadata": {
        "id": "ugOBVf_s6AMo",
        "outputId": "fb378385-0c57-4bc6-efde-aa5f0fe55cfc",
        "colab": {
          "base_uri": "https://localhost:8080/",
          "height": 35
        }
      },
      "source": [
        "nrow(df_2)"
      ],
      "execution_count": 87,
      "outputs": [
        {
          "output_type": "display_data",
          "data": {
            "text/plain": [
              "[1] 130"
            ],
            "text/latex": "130",
            "text/markdown": "130",
            "text/html": [
              "130"
            ]
          },
          "metadata": {
            "tags": []
          }
        }
      ]
    },
    {
      "cell_type": "markdown",
      "metadata": {
        "id": "bMYzieXM86WU"
      },
      "source": [
        "## Cleaning up the col names"
      ]
    },
    {
      "cell_type": "markdown",
      "metadata": {
        "id": "Va4hobWf4uL4"
      },
      "source": [
        "#### removing special characters"
      ]
    },
    {
      "cell_type": "code",
      "metadata": {
        "id": "Wfc3oeep8_nV",
        "outputId": "d5eb947e-7646-4798-dbb5-d95eb13cd2bc",
        "colab": {
          "base_uri": "https://localhost:8080/",
          "height": 381
        }
      },
      "source": [
        "#x = df_2\n",
        "y = colnames(df_2) \n",
        "colnames(df_2) = str_replace_all(y, \"[^[A-Za-z0-9]]\", \" \") %>% str_replace_all(.,\"[ ]+\", \" \")\n",
        "colnames(df_2)"
      ],
      "execution_count": 88,
      "outputs": [
        {
          "output_type": "display_data",
          "data": {
            "text/plain": [
              " [1] \"RespondentId\"                                                                                                   \n",
              " [2] \"EmployeeCode\"                                                                                                   \n",
              " [3] \"UserName\"                                                                                                       \n",
              " [4] \"BusinessUnit\"                                                                                                   \n",
              " [5] \"Department\"                                                                                                     \n",
              " [6] \"Address of the Outlet \"                                                                                         \n",
              " [7] \"City\"                                                                                                           \n",
              " [8] \"Do you have Internet Access at your outlet \"                                                                    \n",
              " [9] \"Does your outlet offer Delivery Service \"                                                                       \n",
              "[10] \"For which purposes do you store Customer Data \"                                                                 \n",
              "[11] \"How did you Pay for your current POS \"                                                                          \n",
              "[12] \"How long does it take for a new employee to Learn your POS in number of days \"                                  \n",
              "[13] \"How many Employees do you have in this outlet \"                                                                 \n",
              "[14] \"How much disruption in Internet Service do you face \"                                                           \n",
              "[15] \"How often do you Face Problems with your POS \"                                                                  \n",
              "[16] \"If you had to pay for a new POS which Payment Type would you prefer \"                                           \n",
              "[17] \"Is your POS \"                                                                                                   \n",
              "[18] \"Name of the Outlet \"                                                                                            \n",
              "[19] \"Number of years you have worked with this organization \"                                                        \n",
              "[20] \"Please choose the Number of Outlets \"                                                                           \n",
              "[21] \"Please choose which Kind your POS you have \"                                                                    \n",
              "[22] \"Please provide an amount in PKR you are Willing to Pay corresponding to last question \"                         \n",
              "[23] \"Please state your Personal Observations which you believe would be interesting to share about this interaction \"\n",
              "[24] \"Please take a picture of the outlet with it s name visible\"                                                     \n",
              "[25] \"Please take a picture of the visiting card\"                                                                     \n",
              "[26] \"POS Name Name of the POS Software being used Not the hardware \"                                                 \n",
              "[27] \"POS Provider Name of the company from which POS has been purchased \"                                            \n",
              "[28] \"Region \"                                                                                                        \n",
              "[29] \"Respondent s Phone Number \"                                                                                     \n",
              "[30] \"Respondent s Designation \"                                                                                      \n",
              "[31] \"Respondent s name \"                                                                                             \n",
              "[32] \"What Language is your POS in \"                                                                                  \n",
              "[33] \"What are the Most Important Features in a POS You may choose multiple options \"                                 \n",
              "[34] \"What kind of business are you \"                                                                                 \n",
              "[35] \"What types of Payments do you accept through your POS You may choose multiple options \"                         \n",
              "[36] \"Which device s do you use for Accessing your POS You may choose multiple options \"                              \n",
              "[37] \"Which method do you use for Paying your POS vendor \"                                                            \n",
              "[38] \"Which of the following Discounts do you offer to your customers \"                                               \n",
              "[39] \"Which of the following Features in your POS are in Urdu Local language You may choose multiple options \"        \n",
              "[40] \"Which of the following can be a Reason to replace your POS You may choose multiple options \"                    \n",
              "[41] \"Will you be willing to run a Demo of our POS at your outlet \"                                                   \n",
              "[42] \"You have been very helpful Can we Contact you in Future for more details \"                                      "
            ],
            "text/latex": "\\begin{enumerate*}\n\\item 'RespondentId'\n\\item 'EmployeeCode'\n\\item 'UserName'\n\\item 'BusinessUnit'\n\\item 'Department'\n\\item 'Address of the Outlet '\n\\item 'City'\n\\item 'Do you have Internet Access at your outlet '\n\\item 'Does your outlet offer Delivery Service '\n\\item 'For which purposes do you store Customer Data '\n\\item 'How did you Pay for your current POS '\n\\item 'How long does it take for a new employee to Learn your POS in number of days '\n\\item 'How many Employees do you have in this outlet '\n\\item 'How much disruption in Internet Service do you face '\n\\item 'How often do you Face Problems with your POS '\n\\item 'If you had to pay for a new POS which Payment Type would you prefer '\n\\item 'Is your POS '\n\\item 'Name of the Outlet '\n\\item 'Number of years you have worked with this organization '\n\\item 'Please choose the Number of Outlets '\n\\item 'Please choose which Kind your POS you have '\n\\item 'Please provide an amount in PKR you are Willing to Pay corresponding to last question '\n\\item 'Please state your Personal Observations which you believe would be interesting to share about this interaction '\n\\item 'Please take a picture of the outlet with it s name visible'\n\\item 'Please take a picture of the visiting card'\n\\item 'POS Name Name of the POS Software being used Not the hardware '\n\\item 'POS Provider Name of the company from which POS has been purchased '\n\\item 'Region '\n\\item 'Respondent s Phone Number '\n\\item 'Respondent s Designation '\n\\item 'Respondent s name '\n\\item 'What Language is your POS in '\n\\item 'What are the Most Important Features in a POS You may choose multiple options '\n\\item 'What kind of business are you '\n\\item 'What types of Payments do you accept through your POS You may choose multiple options '\n\\item 'Which device s do you use for Accessing your POS You may choose multiple options '\n\\item 'Which method do you use for Paying your POS vendor '\n\\item 'Which of the following Discounts do you offer to your customers '\n\\item 'Which of the following Features in your POS are in Urdu Local language You may choose multiple options '\n\\item 'Which of the following can be a Reason to replace your POS You may choose multiple options '\n\\item 'Will you be willing to run a Demo of our POS at your outlet '\n\\item 'You have been very helpful Can we Contact you in Future for more details '\n\\end{enumerate*}\n",
            "text/markdown": "1. 'RespondentId'\n2. 'EmployeeCode'\n3. 'UserName'\n4. 'BusinessUnit'\n5. 'Department'\n6. 'Address of the Outlet '\n7. 'City'\n8. 'Do you have Internet Access at your outlet '\n9. 'Does your outlet offer Delivery Service '\n10. 'For which purposes do you store Customer Data '\n11. 'How did you Pay for your current POS '\n12. 'How long does it take for a new employee to Learn your POS in number of days '\n13. 'How many Employees do you have in this outlet '\n14. 'How much disruption in Internet Service do you face '\n15. 'How often do you Face Problems with your POS '\n16. 'If you had to pay for a new POS which Payment Type would you prefer '\n17. 'Is your POS '\n18. 'Name of the Outlet '\n19. 'Number of years you have worked with this organization '\n20. 'Please choose the Number of Outlets '\n21. 'Please choose which Kind your POS you have '\n22. 'Please provide an amount in PKR you are Willing to Pay corresponding to last question '\n23. 'Please state your Personal Observations which you believe would be interesting to share about this interaction '\n24. 'Please take a picture of the outlet with it s name visible'\n25. 'Please take a picture of the visiting card'\n26. 'POS Name Name of the POS Software being used Not the hardware '\n27. 'POS Provider Name of the company from which POS has been purchased '\n28. 'Region '\n29. 'Respondent s Phone Number '\n30. 'Respondent s Designation '\n31. 'Respondent s name '\n32. 'What Language is your POS in '\n33. 'What are the Most Important Features in a POS You may choose multiple options '\n34. 'What kind of business are you '\n35. 'What types of Payments do you accept through your POS You may choose multiple options '\n36. 'Which device s do you use for Accessing your POS You may choose multiple options '\n37. 'Which method do you use for Paying your POS vendor '\n38. 'Which of the following Discounts do you offer to your customers '\n39. 'Which of the following Features in your POS are in Urdu Local language You may choose multiple options '\n40. 'Which of the following can be a Reason to replace your POS You may choose multiple options '\n41. 'Will you be willing to run a Demo of our POS at your outlet '\n42. 'You have been very helpful Can we Contact you in Future for more details '\n\n\n",
            "text/html": [
              "<style>\n",
              ".list-inline {list-style: none; margin:0; padding: 0}\n",
              ".list-inline>li {display: inline-block}\n",
              ".list-inline>li:not(:last-child)::after {content: \"\\00b7\"; padding: 0 .5ex}\n",
              "</style>\n",
              "<ol class=list-inline><li>'RespondentId'</li><li>'EmployeeCode'</li><li>'UserName'</li><li>'BusinessUnit'</li><li>'Department'</li><li>'Address of the Outlet '</li><li>'City'</li><li>'Do you have Internet Access at your outlet '</li><li>'Does your outlet offer Delivery Service '</li><li>'For which purposes do you store Customer Data '</li><li>'How did you Pay for your current POS '</li><li>'How long does it take for a new employee to Learn your POS in number of days '</li><li>'How many Employees do you have in this outlet '</li><li>'How much disruption in Internet Service do you face '</li><li>'How often do you Face Problems with your POS '</li><li>'If you had to pay for a new POS which Payment Type would you prefer '</li><li>'Is your POS '</li><li>'Name of the Outlet '</li><li>'Number of years you have worked with this organization '</li><li>'Please choose the Number of Outlets '</li><li>'Please choose which Kind your POS you have '</li><li>'Please provide an amount in PKR you are Willing to Pay corresponding to last question '</li><li>'Please state your Personal Observations which you believe would be interesting to share about this interaction '</li><li>'Please take a picture of the outlet with it s name visible'</li><li>'Please take a picture of the visiting card'</li><li>'POS Name Name of the POS Software being used Not the hardware '</li><li>'POS Provider Name of the company from which POS has been purchased '</li><li>'Region '</li><li>'Respondent s Phone Number '</li><li>'Respondent s Designation '</li><li>'Respondent s name '</li><li>'What Language is your POS in '</li><li>'What are the Most Important Features in a POS You may choose multiple options '</li><li>'What kind of business are you '</li><li>'What types of Payments do you accept through your POS You may choose multiple options '</li><li>'Which device s do you use for Accessing your POS You may choose multiple options '</li><li>'Which method do you use for Paying your POS vendor '</li><li>'Which of the following Discounts do you offer to your customers '</li><li>'Which of the following Features in your POS are in Urdu Local language You may choose multiple options '</li><li>'Which of the following can be a Reason to replace your POS You may choose multiple options '</li><li>'Will you be willing to run a Demo of our POS at your outlet '</li><li>'You have been very helpful Can we Contact you in Future for more details '</li></ol>\n"
            ]
          },
          "metadata": {
            "tags": []
          }
        }
      ]
    },
    {
      "cell_type": "code",
      "metadata": {
        "id": "kA4Tg2bS4xy7"
      },
      "source": [
        "# using Janitor to clean up names\n",
        "# https://cran.r-project.org/web/packages/janitor/vignettes/janitor.html#clean-data.frame-names-with-clean_names"
      ],
      "execution_count": 74,
      "outputs": []
    },
    {
      "cell_type": "code",
      "metadata": {
        "id": "C5xOLpLy46hy"
      },
      "source": [
        "df_2 = \n",
        "  df_2 %>% clean_names()"
      ],
      "execution_count": 89,
      "outputs": []
    },
    {
      "cell_type": "code",
      "metadata": {
        "id": "oBN_xdn94_mR",
        "outputId": "da9e9aee-4731-44c5-a8cd-a9721a7e67b5",
        "colab": {
          "base_uri": "https://localhost:8080/",
          "height": 399
        }
      },
      "source": [
        "colnames(df_2)"
      ],
      "execution_count": 90,
      "outputs": [
        {
          "output_type": "display_data",
          "data": {
            "text/plain": [
              " [1] \"respondent_id\"                                                                                                 \n",
              " [2] \"employee_code\"                                                                                                 \n",
              " [3] \"user_name\"                                                                                                     \n",
              " [4] \"business_unit\"                                                                                                 \n",
              " [5] \"department\"                                                                                                    \n",
              " [6] \"address_of_the_outlet\"                                                                                         \n",
              " [7] \"city\"                                                                                                          \n",
              " [8] \"do_you_have_internet_access_at_your_outlet\"                                                                    \n",
              " [9] \"does_your_outlet_offer_delivery_service\"                                                                       \n",
              "[10] \"for_which_purposes_do_you_store_customer_data\"                                                                 \n",
              "[11] \"how_did_you_pay_for_your_current_pos\"                                                                          \n",
              "[12] \"how_long_does_it_take_for_a_new_employee_to_learn_your_pos_in_number_of_days\"                                  \n",
              "[13] \"how_many_employees_do_you_have_in_this_outlet\"                                                                 \n",
              "[14] \"how_much_disruption_in_internet_service_do_you_face\"                                                           \n",
              "[15] \"how_often_do_you_face_problems_with_your_pos\"                                                                  \n",
              "[16] \"if_you_had_to_pay_for_a_new_pos_which_payment_type_would_you_prefer\"                                           \n",
              "[17] \"is_your_pos\"                                                                                                   \n",
              "[18] \"name_of_the_outlet\"                                                                                            \n",
              "[19] \"number_of_years_you_have_worked_with_this_organization\"                                                        \n",
              "[20] \"please_choose_the_number_of_outlets\"                                                                           \n",
              "[21] \"please_choose_which_kind_your_pos_you_have\"                                                                    \n",
              "[22] \"please_provide_an_amount_in_pkr_you_are_willing_to_pay_corresponding_to_last_question\"                         \n",
              "[23] \"please_state_your_personal_observations_which_you_believe_would_be_interesting_to_share_about_this_interaction\"\n",
              "[24] \"please_take_a_picture_of_the_outlet_with_it_s_name_visible\"                                                    \n",
              "[25] \"please_take_a_picture_of_the_visiting_card\"                                                                    \n",
              "[26] \"pos_name_name_of_the_pos_software_being_used_not_the_hardware\"                                                 \n",
              "[27] \"pos_provider_name_of_the_company_from_which_pos_has_been_purchased\"                                            \n",
              "[28] \"region\"                                                                                                        \n",
              "[29] \"respondent_s_phone_number\"                                                                                     \n",
              "[30] \"respondent_s_designation\"                                                                                      \n",
              "[31] \"respondent_s_name\"                                                                                             \n",
              "[32] \"what_language_is_your_pos_in\"                                                                                  \n",
              "[33] \"what_are_the_most_important_features_in_a_pos_you_may_choose_multiple_options\"                                 \n",
              "[34] \"what_kind_of_business_are_you\"                                                                                 \n",
              "[35] \"what_types_of_payments_do_you_accept_through_your_pos_you_may_choose_multiple_options\"                         \n",
              "[36] \"which_device_s_do_you_use_for_accessing_your_pos_you_may_choose_multiple_options\"                              \n",
              "[37] \"which_method_do_you_use_for_paying_your_pos_vendor\"                                                            \n",
              "[38] \"which_of_the_following_discounts_do_you_offer_to_your_customers\"                                               \n",
              "[39] \"which_of_the_following_features_in_your_pos_are_in_urdu_local_language_you_may_choose_multiple_options\"        \n",
              "[40] \"which_of_the_following_can_be_a_reason_to_replace_your_pos_you_may_choose_multiple_options\"                    \n",
              "[41] \"will_you_be_willing_to_run_a_demo_of_our_pos_at_your_outlet\"                                                   \n",
              "[42] \"you_have_been_very_helpful_can_we_contact_you_in_future_for_more_details\"                                      "
            ],
            "text/latex": "\\begin{enumerate*}\n\\item 'respondent\\_id'\n\\item 'employee\\_code'\n\\item 'user\\_name'\n\\item 'business\\_unit'\n\\item 'department'\n\\item 'address\\_of\\_the\\_outlet'\n\\item 'city'\n\\item 'do\\_you\\_have\\_internet\\_access\\_at\\_your\\_outlet'\n\\item 'does\\_your\\_outlet\\_offer\\_delivery\\_service'\n\\item 'for\\_which\\_purposes\\_do\\_you\\_store\\_customer\\_data'\n\\item 'how\\_did\\_you\\_pay\\_for\\_your\\_current\\_pos'\n\\item 'how\\_long\\_does\\_it\\_take\\_for\\_a\\_new\\_employee\\_to\\_learn\\_your\\_pos\\_in\\_number\\_of\\_days'\n\\item 'how\\_many\\_employees\\_do\\_you\\_have\\_in\\_this\\_outlet'\n\\item 'how\\_much\\_disruption\\_in\\_internet\\_service\\_do\\_you\\_face'\n\\item 'how\\_often\\_do\\_you\\_face\\_problems\\_with\\_your\\_pos'\n\\item 'if\\_you\\_had\\_to\\_pay\\_for\\_a\\_new\\_pos\\_which\\_payment\\_type\\_would\\_you\\_prefer'\n\\item 'is\\_your\\_pos'\n\\item 'name\\_of\\_the\\_outlet'\n\\item 'number\\_of\\_years\\_you\\_have\\_worked\\_with\\_this\\_organization'\n\\item 'please\\_choose\\_the\\_number\\_of\\_outlets'\n\\item 'please\\_choose\\_which\\_kind\\_your\\_pos\\_you\\_have'\n\\item 'please\\_provide\\_an\\_amount\\_in\\_pkr\\_you\\_are\\_willing\\_to\\_pay\\_corresponding\\_to\\_last\\_question'\n\\item 'please\\_state\\_your\\_personal\\_observations\\_which\\_you\\_believe\\_would\\_be\\_interesting\\_to\\_share\\_about\\_this\\_interaction'\n\\item 'please\\_take\\_a\\_picture\\_of\\_the\\_outlet\\_with\\_it\\_s\\_name\\_visible'\n\\item 'please\\_take\\_a\\_picture\\_of\\_the\\_visiting\\_card'\n\\item 'pos\\_name\\_name\\_of\\_the\\_pos\\_software\\_being\\_used\\_not\\_the\\_hardware'\n\\item 'pos\\_provider\\_name\\_of\\_the\\_company\\_from\\_which\\_pos\\_has\\_been\\_purchased'\n\\item 'region'\n\\item 'respondent\\_s\\_phone\\_number'\n\\item 'respondent\\_s\\_designation'\n\\item 'respondent\\_s\\_name'\n\\item 'what\\_language\\_is\\_your\\_pos\\_in'\n\\item 'what\\_are\\_the\\_most\\_important\\_features\\_in\\_a\\_pos\\_you\\_may\\_choose\\_multiple\\_options'\n\\item 'what\\_kind\\_of\\_business\\_are\\_you'\n\\item 'what\\_types\\_of\\_payments\\_do\\_you\\_accept\\_through\\_your\\_pos\\_you\\_may\\_choose\\_multiple\\_options'\n\\item 'which\\_device\\_s\\_do\\_you\\_use\\_for\\_accessing\\_your\\_pos\\_you\\_may\\_choose\\_multiple\\_options'\n\\item 'which\\_method\\_do\\_you\\_use\\_for\\_paying\\_your\\_pos\\_vendor'\n\\item 'which\\_of\\_the\\_following\\_discounts\\_do\\_you\\_offer\\_to\\_your\\_customers'\n\\item 'which\\_of\\_the\\_following\\_features\\_in\\_your\\_pos\\_are\\_in\\_urdu\\_local\\_language\\_you\\_may\\_choose\\_multiple\\_options'\n\\item 'which\\_of\\_the\\_following\\_can\\_be\\_a\\_reason\\_to\\_replace\\_your\\_pos\\_you\\_may\\_choose\\_multiple\\_options'\n\\item 'will\\_you\\_be\\_willing\\_to\\_run\\_a\\_demo\\_of\\_our\\_pos\\_at\\_your\\_outlet'\n\\item 'you\\_have\\_been\\_very\\_helpful\\_can\\_we\\_contact\\_you\\_in\\_future\\_for\\_more\\_details'\n\\end{enumerate*}\n",
            "text/markdown": "1. 'respondent_id'\n2. 'employee_code'\n3. 'user_name'\n4. 'business_unit'\n5. 'department'\n6. 'address_of_the_outlet'\n7. 'city'\n8. 'do_you_have_internet_access_at_your_outlet'\n9. 'does_your_outlet_offer_delivery_service'\n10. 'for_which_purposes_do_you_store_customer_data'\n11. 'how_did_you_pay_for_your_current_pos'\n12. 'how_long_does_it_take_for_a_new_employee_to_learn_your_pos_in_number_of_days'\n13. 'how_many_employees_do_you_have_in_this_outlet'\n14. 'how_much_disruption_in_internet_service_do_you_face'\n15. 'how_often_do_you_face_problems_with_your_pos'\n16. 'if_you_had_to_pay_for_a_new_pos_which_payment_type_would_you_prefer'\n17. 'is_your_pos'\n18. 'name_of_the_outlet'\n19. 'number_of_years_you_have_worked_with_this_organization'\n20. 'please_choose_the_number_of_outlets'\n21. 'please_choose_which_kind_your_pos_you_have'\n22. 'please_provide_an_amount_in_pkr_you_are_willing_to_pay_corresponding_to_last_question'\n23. 'please_state_your_personal_observations_which_you_believe_would_be_interesting_to_share_about_this_interaction'\n24. 'please_take_a_picture_of_the_outlet_with_it_s_name_visible'\n25. 'please_take_a_picture_of_the_visiting_card'\n26. 'pos_name_name_of_the_pos_software_being_used_not_the_hardware'\n27. 'pos_provider_name_of_the_company_from_which_pos_has_been_purchased'\n28. 'region'\n29. 'respondent_s_phone_number'\n30. 'respondent_s_designation'\n31. 'respondent_s_name'\n32. 'what_language_is_your_pos_in'\n33. 'what_are_the_most_important_features_in_a_pos_you_may_choose_multiple_options'\n34. 'what_kind_of_business_are_you'\n35. 'what_types_of_payments_do_you_accept_through_your_pos_you_may_choose_multiple_options'\n36. 'which_device_s_do_you_use_for_accessing_your_pos_you_may_choose_multiple_options'\n37. 'which_method_do_you_use_for_paying_your_pos_vendor'\n38. 'which_of_the_following_discounts_do_you_offer_to_your_customers'\n39. 'which_of_the_following_features_in_your_pos_are_in_urdu_local_language_you_may_choose_multiple_options'\n40. 'which_of_the_following_can_be_a_reason_to_replace_your_pos_you_may_choose_multiple_options'\n41. 'will_you_be_willing_to_run_a_demo_of_our_pos_at_your_outlet'\n42. 'you_have_been_very_helpful_can_we_contact_you_in_future_for_more_details'\n\n\n",
            "text/html": [
              "<style>\n",
              ".list-inline {list-style: none; margin:0; padding: 0}\n",
              ".list-inline>li {display: inline-block}\n",
              ".list-inline>li:not(:last-child)::after {content: \"\\00b7\"; padding: 0 .5ex}\n",
              "</style>\n",
              "<ol class=list-inline><li>'respondent_id'</li><li>'employee_code'</li><li>'user_name'</li><li>'business_unit'</li><li>'department'</li><li>'address_of_the_outlet'</li><li>'city'</li><li>'do_you_have_internet_access_at_your_outlet'</li><li>'does_your_outlet_offer_delivery_service'</li><li>'for_which_purposes_do_you_store_customer_data'</li><li>'how_did_you_pay_for_your_current_pos'</li><li>'how_long_does_it_take_for_a_new_employee_to_learn_your_pos_in_number_of_days'</li><li>'how_many_employees_do_you_have_in_this_outlet'</li><li>'how_much_disruption_in_internet_service_do_you_face'</li><li>'how_often_do_you_face_problems_with_your_pos'</li><li>'if_you_had_to_pay_for_a_new_pos_which_payment_type_would_you_prefer'</li><li>'is_your_pos'</li><li>'name_of_the_outlet'</li><li>'number_of_years_you_have_worked_with_this_organization'</li><li>'please_choose_the_number_of_outlets'</li><li>'please_choose_which_kind_your_pos_you_have'</li><li>'please_provide_an_amount_in_pkr_you_are_willing_to_pay_corresponding_to_last_question'</li><li>'please_state_your_personal_observations_which_you_believe_would_be_interesting_to_share_about_this_interaction'</li><li>'please_take_a_picture_of_the_outlet_with_it_s_name_visible'</li><li>'please_take_a_picture_of_the_visiting_card'</li><li>'pos_name_name_of_the_pos_software_being_used_not_the_hardware'</li><li>'pos_provider_name_of_the_company_from_which_pos_has_been_purchased'</li><li>'region'</li><li>'respondent_s_phone_number'</li><li>'respondent_s_designation'</li><li>'respondent_s_name'</li><li>'what_language_is_your_pos_in'</li><li>'what_are_the_most_important_features_in_a_pos_you_may_choose_multiple_options'</li><li>'what_kind_of_business_are_you'</li><li>'what_types_of_payments_do_you_accept_through_your_pos_you_may_choose_multiple_options'</li><li>'which_device_s_do_you_use_for_accessing_your_pos_you_may_choose_multiple_options'</li><li>'which_method_do_you_use_for_paying_your_pos_vendor'</li><li>'which_of_the_following_discounts_do_you_offer_to_your_customers'</li><li>'which_of_the_following_features_in_your_pos_are_in_urdu_local_language_you_may_choose_multiple_options'</li><li>'which_of_the_following_can_be_a_reason_to_replace_your_pos_you_may_choose_multiple_options'</li><li>'will_you_be_willing_to_run_a_demo_of_our_pos_at_your_outlet'</li><li>'you_have_been_very_helpful_can_we_contact_you_in_future_for_more_details'</li></ol>\n"
            ]
          },
          "metadata": {
            "tags": []
          }
        }
      ]
    },
    {
      "cell_type": "markdown",
      "metadata": {
        "id": "iGKb8oWJ-JRP"
      },
      "source": [
        "#### column mapping"
      ]
    },
    {
      "cell_type": "code",
      "metadata": {
        "id": "zgkDnj6q8uAa"
      },
      "source": [
        "df_3 = df_2 %>% rename(\n",
        "SB_BU = 'business_unit',\n",
        "SB_DEPT = 'department',\n",
        "ORG_ADDRESS = 'address_of_the_outlet',\n",
        "ORG_CITY = 'city',\n",
        "ORG_INTERNET_ACCESS = 'do_you_have_internet_access_at_your_outlet',\n",
        "ORG_DELIVERY_SERVICE = 'does_your_outlet_offer_delivery_service',\n",
        "ORG_CUSTOMER_DATA = 'for_which_purposes_do_you_store_customer_data',\n",
        "ORG_PAY_FOR_OLD_POS = 'how_did_you_pay_for_your_current_pos',\n",
        "ORG_EMP_TRAINING =  'how_long_does_it_take_for_a_new_employee_to_learn_your_pos_in_number_of_days',\n",
        "ORG_EMP_COUNT = 'how_many_employees_do_you_have_in_this_outlet',\n",
        "ORG_INTERNET_DISRUPTION = 'how_much_disruption_in_internet_service_do_you_face',\n",
        "ORG_OLD_POS_PROBLEMS = 'how_often_do_you_face_problems_with_your_pos',\n",
        "ORG_NEW_POS_PAYMENT_PREF ='if_you_had_to_pay_for_a_new_pos_which_payment_type_would_you_prefer',\n",
        "ORG_POS_TYPE = 'is_your_pos',\n",
        "ORG_NAME = 'name_of_the_outlet',\n",
        "ORG_RESP_TENURE = 'number_of_years_you_have_worked_with_this_organization',\n",
        "ORG_OUTLETS_COUNT = 'please_choose_the_number_of_outlets',\n",
        "ORG_OLD_POS_KIND = 'please_choose_which_kind_your_pos_you_have',\n",
        "ORG_WILLINGNESS_TO_PAY_AMOUNT = 'please_provide_an_amount_in_pkr_you_are_willing_to_pay_corresponding_to_last_question',\n",
        "SB_OBSERVATION = 'please_state_your_personal_observations_which_you_believe_would_be_interesting_to_share_about_this_interaction',\n",
        "ORG_POS_NAME = 'pos_name_name_of_the_pos_software_being_used_not_the_hardware',\n",
        "ORG_POS_PROVIDER = 'pos_provider_name_of_the_company_from_which_pos_has_been_purchased',\n",
        "SB_REGION = 'region',\n",
        "RESP_PHONE = 'respondent_s_phone_number',\n",
        "RESP_DESIGNATION = 'respondent_s_designation',\n",
        "RESP_NAME = 'respondent_s_name',\n",
        "ORG_OLD_POS_LANG = 'what_language_is_your_pos_in',\n",
        "ORG_POS_FEATURES = 'what_are_the_most_important_features_in_a_pos_you_may_choose_multiple_options',\n",
        "ORG_TYPE = 'what_kind_of_business_are_you',\n",
        "ORG_OLD_POS_PAYMENT_OPTIONS = 'what_types_of_payments_do_you_accept_through_your_pos_you_may_choose_multiple_options',\n",
        "ORG_OLD_POS_DEVICES = 'which_device_s_do_you_use_for_accessing_your_pos_you_may_choose_multiple_options',\n",
        "ORG_OLD_POS_PROVIDER_PAYMENT_METHOD = 'which_method_do_you_use_for_paying_your_pos_vendor',\n",
        "ORG_DISCOUNTS_OFFERED = 'which_of_the_following_discounts_do_you_offer_to_your_customers',\n",
        "ORG_OLD_POS_URDU_FEATURES = 'which_of_the_following_features_in_your_pos_are_in_urdu_local_language_you_may_choose_multiple_options',\n",
        "ORG_REASON_TO_REPLACE_POS = \n",
        "'which_of_the_following_can_be_a_reason_to_replace_your_pos_you_may_choose_multiple_options',\n",
        "ORG_WILLINGNESS_DEMO = \n",
        "'will_you_be_willing_to_run_a_demo_of_our_pos_at_your_outlet',\n",
        "ORG_WILLINGNESS_FUTURE_CONTACT =\n",
        "'you_have_been_very_helpful_can_we_contact_you_in_future_for_more_details',\n",
        "ORG_PICTURE_LINK = 'please_take_a_picture_of_the_outlet_with_it_s_name_visible',\n",
        "ORG_VISITING_CARD = 'please_take_a_picture_of_the_visiting_card'\n",
        ")"
      ],
      "execution_count": 111,
      "outputs": []
    },
    {
      "cell_type": "markdown",
      "metadata": {
        "id": "GT25G_Qr9Tkh"
      },
      "source": [
        "df_3 hereon"
      ]
    },
    {
      "cell_type": "markdown",
      "metadata": {
        "id": "mE98PJF88t3o"
      },
      "source": [
        "## NORTH"
      ]
    },
    {
      "cell_type": "code",
      "metadata": {
        "id": "OftvyF4G76_a"
      },
      "source": [
        "# Keep NORTH only"
      ],
      "execution_count": 55,
      "outputs": []
    },
    {
      "cell_type": "code",
      "metadata": {
        "id": "VxiNhqlB6Bzq"
      },
      "source": [
        "df_3 %>%\n",
        "  filter(SB_BU == 'Customer Services North') -> df_with_POS_North"
      ],
      "execution_count": 112,
      "outputs": []
    },
    {
      "cell_type": "markdown",
      "metadata": {
        "id": "68HPBHZg8QaB"
      },
      "source": [
        "df_with_POS_North hereon"
      ]
    },
    {
      "cell_type": "code",
      "metadata": {
        "id": "9zlpsari7Q3y",
        "outputId": "41a0890f-f4b7-4aad-9aae-2595af6a6b3d",
        "colab": {
          "base_uri": "https://localhost:8080/",
          "height": 35
        }
      },
      "source": [
        "nrow(df_with_POS_North)"
      ],
      "execution_count": 113,
      "outputs": [
        {
          "output_type": "display_data",
          "data": {
            "text/plain": [
              "[1] 101"
            ],
            "text/latex": "101",
            "text/markdown": "101",
            "text/html": [
              "101"
            ]
          },
          "metadata": {
            "tags": []
          }
        }
      ]
    },
    {
      "cell_type": "markdown",
      "metadata": {
        "id": "kDogHsGo93Rk"
      },
      "source": [
        "## SOUTH"
      ]
    },
    {
      "cell_type": "code",
      "metadata": {
        "id": "oO0LQqo97-iz"
      },
      "source": [
        "# Keep SOUTH only"
      ],
      "execution_count": 114,
      "outputs": []
    },
    {
      "cell_type": "code",
      "metadata": {
        "id": "liHQeCMZ7T4v"
      },
      "source": [
        "df_3 %>%\n",
        "  filter(SB_BU == 'Customer Services South') -> df_with_POS_South"
      ],
      "execution_count": 115,
      "outputs": []
    },
    {
      "cell_type": "code",
      "metadata": {
        "id": "4sf2gHOw7c6Y",
        "outputId": "0708ee6b-64b9-49de-c2a9-c44d596abb4b",
        "colab": {
          "base_uri": "https://localhost:8080/",
          "height": 35
        }
      },
      "source": [
        "nrow(df_with_POS_South)"
      ],
      "execution_count": 116,
      "outputs": [
        {
          "output_type": "display_data",
          "data": {
            "text/plain": [
              "[1] 29"
            ],
            "text/latex": "29",
            "text/markdown": "29",
            "text/html": [
              "29"
            ]
          },
          "metadata": {
            "tags": []
          }
        }
      ]
    },
    {
      "cell_type": "markdown",
      "metadata": {
        "id": "tmXdrbq67igz"
      },
      "source": [
        "# Without POS"
      ]
    },
    {
      "cell_type": "code",
      "metadata": {
        "id": "IdjhE9LK7gUe"
      },
      "source": [
        "# reading in input File\n",
        "input_file_2 = 'Without POS 20201103.xlsx'\n",
        "df_m = read_xlsx(input_file_2)"
      ],
      "execution_count": 101,
      "outputs": []
    },
    {
      "cell_type": "code",
      "metadata": {
        "id": "fNbR04Wx72-6",
        "outputId": "b39e1644-a3a4-43af-a093-5e36023adc58",
        "colab": {
          "base_uri": "https://localhost:8080/",
          "height": 35
        }
      },
      "source": [
        "nrow(df_m)"
      ],
      "execution_count": 102,
      "outputs": [
        {
          "output_type": "display_data",
          "data": {
            "text/plain": [
              "[1] 858"
            ],
            "text/latex": "858",
            "text/markdown": "858",
            "text/html": [
              "858"
            ]
          },
          "metadata": {
            "tags": []
          }
        }
      ]
    },
    {
      "cell_type": "code",
      "metadata": {
        "id": "vlGEvNNh8Et7"
      },
      "source": [
        "# Exclude rows where User is NOT part of Field Team (such as: Burhan)"
      ],
      "execution_count": 103,
      "outputs": []
    },
    {
      "cell_type": "code",
      "metadata": {
        "id": "Ki_nv3cy74pa"
      },
      "source": [
        "df_m %>%\n",
        " filter(BusinessUnit != 'Managment') -> df_100"
      ],
      "execution_count": 104,
      "outputs": []
    },
    {
      "cell_type": "code",
      "metadata": {
        "id": "FLlUizHT8LGp",
        "outputId": "f40a7eb9-1ab6-4891-b8b9-0984f551b9d7",
        "colab": {
          "base_uri": "https://localhost:8080/",
          "height": 35
        }
      },
      "source": [
        "nrow(df_100)"
      ],
      "execution_count": 105,
      "outputs": [
        {
          "output_type": "display_data",
          "data": {
            "text/plain": [
              "[1] 857"
            ],
            "text/latex": "857",
            "text/markdown": "857",
            "text/html": [
              "857"
            ]
          },
          "metadata": {
            "tags": []
          }
        }
      ]
    },
    {
      "cell_type": "markdown",
      "metadata": {
        "id": "e6-Ikna0_U37"
      },
      "source": [
        "## Cleaning up the col names"
      ]
    },
    {
      "cell_type": "markdown",
      "metadata": {
        "id": "yJAmfCbA_XiW"
      },
      "source": [
        "#### removing special characters"
      ]
    },
    {
      "cell_type": "code",
      "metadata": {
        "id": "RVJigA4Z_Z8n",
        "outputId": "071a6c39-8c17-4c8c-acd1-81cc88bd1d55",
        "colab": {
          "base_uri": "https://localhost:8080/",
          "height": 347
        }
      },
      "source": [
        "#x = df_2\n",
        "y = colnames(df_100) \n",
        "colnames(df_100) = str_replace_all(y, \"[^[A-Za-z0-9]]\", \" \") %>% str_replace_all(.,\"[ ]+\", \" \")\n",
        "colnames(df_100)"
      ],
      "execution_count": 106,
      "outputs": [
        {
          "output_type": "display_data",
          "data": {
            "text/plain": [
              " [1] \"RespondentId\"                                                                                                   \n",
              " [2] \"EmployeeCode\"                                                                                                   \n",
              " [3] \"UserName\"                                                                                                       \n",
              " [4] \"BusinessUnit\"                                                                                                   \n",
              " [5] \"Department\"                                                                                                     \n",
              " [6] \"Address of the Outlet \"                                                                                         \n",
              " [7] \"City \"                                                                                                          \n",
              " [8] \"Do you believe having a POS will help you Improve Business \"                                                    \n",
              " [9] \"Do you have Internet Access at your outlet \"                                                                    \n",
              "[10] \"Do you wish to Expand your Business to more outlets \"                                                           \n",
              "[11] \"Does your outlet offer Delivery Service \"                                                                       \n",
              "[12] \"For which purposes do you store Customer Data \"                                                                 \n",
              "[13] \"How many Employees do you have in this outlet \"                                                                 \n",
              "[14] \"How much disruption in Internet Service do you face \"                                                           \n",
              "[15] \"If you had to pay for a new POS which Payment Type would you prefer \"                                           \n",
              "[16] \"If you will ever have a POS what Language would you like to have it in \"                                        \n",
              "[17] \"Name of the Outlet \"                                                                                            \n",
              "[18] \"Number of years you have owned this organization \"                                                              \n",
              "[19] \"Please choose the Number of Outlets \"                                                                           \n",
              "[20] \"Please choose which Kind of POS will you prefer \"                                                               \n",
              "[21] \"Please provide an amount in PKR you are Willing to Pay corresponding to last question \"                         \n",
              "[22] \"Please state your Personal Observations which you believe would be interesting to share about this interaction \"\n",
              "[23] \"Please take a picture of the outlet with it s name visible\"                                                     \n",
              "[24] \"Please take a picture of the visiting card\"                                                                     \n",
              "[25] \"Region \"                                                                                                        \n",
              "[26] \"Respondent s Designation \"                                                                                      \n",
              "[27] \"Respondent s Name \"                                                                                             \n",
              "[28] \"Respondent s Phone number \"                                                                                     \n",
              "[29] \"What are the Most important Features in a POS You may choose multiple options \"                                 \n",
              "[30] \"What Device s will you like to use for Accessing POS You may choose multiple options \"                          \n",
              "[31] \"What kind of a business are you \"                                                                               \n",
              "[32] \"What types of Payments do you accept You may choose multiple options \"                                          \n",
              "[33] \"Which of the following Discounts do you offer to your customers \"                                               \n",
              "[34] \"Which of the following Features will you like in Urdu Local language You may choose multiple options \"          \n",
              "[35] \"Which of the following can be a Reason to get POS You may choose multiple options \"                             \n",
              "[36] \"Why do you Not Have a POS \"                                                                                     \n",
              "[37] \"Will you be willing to run a Demo of our POS at your outlet \"                                                   \n",
              "[38] \"You have been very helpful Can we Contact you in Future for more details \"                                      "
            ],
            "text/latex": "\\begin{enumerate*}\n\\item 'RespondentId'\n\\item 'EmployeeCode'\n\\item 'UserName'\n\\item 'BusinessUnit'\n\\item 'Department'\n\\item 'Address of the Outlet '\n\\item 'City '\n\\item 'Do you believe having a POS will help you Improve Business '\n\\item 'Do you have Internet Access at your outlet '\n\\item 'Do you wish to Expand your Business to more outlets '\n\\item 'Does your outlet offer Delivery Service '\n\\item 'For which purposes do you store Customer Data '\n\\item 'How many Employees do you have in this outlet '\n\\item 'How much disruption in Internet Service do you face '\n\\item 'If you had to pay for a new POS which Payment Type would you prefer '\n\\item 'If you will ever have a POS what Language would you like to have it in '\n\\item 'Name of the Outlet '\n\\item 'Number of years you have owned this organization '\n\\item 'Please choose the Number of Outlets '\n\\item 'Please choose which Kind of POS will you prefer '\n\\item 'Please provide an amount in PKR you are Willing to Pay corresponding to last question '\n\\item 'Please state your Personal Observations which you believe would be interesting to share about this interaction '\n\\item 'Please take a picture of the outlet with it s name visible'\n\\item 'Please take a picture of the visiting card'\n\\item 'Region '\n\\item 'Respondent s Designation '\n\\item 'Respondent s Name '\n\\item 'Respondent s Phone number '\n\\item 'What are the Most important Features in a POS You may choose multiple options '\n\\item 'What Device s will you like to use for Accessing POS You may choose multiple options '\n\\item 'What kind of a business are you '\n\\item 'What types of Payments do you accept You may choose multiple options '\n\\item 'Which of the following Discounts do you offer to your customers '\n\\item 'Which of the following Features will you like in Urdu Local language You may choose multiple options '\n\\item 'Which of the following can be a Reason to get POS You may choose multiple options '\n\\item 'Why do you Not Have a POS '\n\\item 'Will you be willing to run a Demo of our POS at your outlet '\n\\item 'You have been very helpful Can we Contact you in Future for more details '\n\\end{enumerate*}\n",
            "text/markdown": "1. 'RespondentId'\n2. 'EmployeeCode'\n3. 'UserName'\n4. 'BusinessUnit'\n5. 'Department'\n6. 'Address of the Outlet '\n7. 'City '\n8. 'Do you believe having a POS will help you Improve Business '\n9. 'Do you have Internet Access at your outlet '\n10. 'Do you wish to Expand your Business to more outlets '\n11. 'Does your outlet offer Delivery Service '\n12. 'For which purposes do you store Customer Data '\n13. 'How many Employees do you have in this outlet '\n14. 'How much disruption in Internet Service do you face '\n15. 'If you had to pay for a new POS which Payment Type would you prefer '\n16. 'If you will ever have a POS what Language would you like to have it in '\n17. 'Name of the Outlet '\n18. 'Number of years you have owned this organization '\n19. 'Please choose the Number of Outlets '\n20. 'Please choose which Kind of POS will you prefer '\n21. 'Please provide an amount in PKR you are Willing to Pay corresponding to last question '\n22. 'Please state your Personal Observations which you believe would be interesting to share about this interaction '\n23. 'Please take a picture of the outlet with it s name visible'\n24. 'Please take a picture of the visiting card'\n25. 'Region '\n26. 'Respondent s Designation '\n27. 'Respondent s Name '\n28. 'Respondent s Phone number '\n29. 'What are the Most important Features in a POS You may choose multiple options '\n30. 'What Device s will you like to use for Accessing POS You may choose multiple options '\n31. 'What kind of a business are you '\n32. 'What types of Payments do you accept You may choose multiple options '\n33. 'Which of the following Discounts do you offer to your customers '\n34. 'Which of the following Features will you like in Urdu Local language You may choose multiple options '\n35. 'Which of the following can be a Reason to get POS You may choose multiple options '\n36. 'Why do you Not Have a POS '\n37. 'Will you be willing to run a Demo of our POS at your outlet '\n38. 'You have been very helpful Can we Contact you in Future for more details '\n\n\n",
            "text/html": [
              "<style>\n",
              ".list-inline {list-style: none; margin:0; padding: 0}\n",
              ".list-inline>li {display: inline-block}\n",
              ".list-inline>li:not(:last-child)::after {content: \"\\00b7\"; padding: 0 .5ex}\n",
              "</style>\n",
              "<ol class=list-inline><li>'RespondentId'</li><li>'EmployeeCode'</li><li>'UserName'</li><li>'BusinessUnit'</li><li>'Department'</li><li>'Address of the Outlet '</li><li>'City '</li><li>'Do you believe having a POS will help you Improve Business '</li><li>'Do you have Internet Access at your outlet '</li><li>'Do you wish to Expand your Business to more outlets '</li><li>'Does your outlet offer Delivery Service '</li><li>'For which purposes do you store Customer Data '</li><li>'How many Employees do you have in this outlet '</li><li>'How much disruption in Internet Service do you face '</li><li>'If you had to pay for a new POS which Payment Type would you prefer '</li><li>'If you will ever have a POS what Language would you like to have it in '</li><li>'Name of the Outlet '</li><li>'Number of years you have owned this organization '</li><li>'Please choose the Number of Outlets '</li><li>'Please choose which Kind of POS will you prefer '</li><li>'Please provide an amount in PKR you are Willing to Pay corresponding to last question '</li><li>'Please state your Personal Observations which you believe would be interesting to share about this interaction '</li><li>'Please take a picture of the outlet with it s name visible'</li><li>'Please take a picture of the visiting card'</li><li>'Region '</li><li>'Respondent s Designation '</li><li>'Respondent s Name '</li><li>'Respondent s Phone number '</li><li>'What are the Most important Features in a POS You may choose multiple options '</li><li>'What Device s will you like to use for Accessing POS You may choose multiple options '</li><li>'What kind of a business are you '</li><li>'What types of Payments do you accept You may choose multiple options '</li><li>'Which of the following Discounts do you offer to your customers '</li><li>'Which of the following Features will you like in Urdu Local language You may choose multiple options '</li><li>'Which of the following can be a Reason to get POS You may choose multiple options '</li><li>'Why do you Not Have a POS '</li><li>'Will you be willing to run a Demo of our POS at your outlet '</li><li>'You have been very helpful Can we Contact you in Future for more details '</li></ol>\n"
            ]
          },
          "metadata": {
            "tags": []
          }
        }
      ]
    },
    {
      "cell_type": "code",
      "metadata": {
        "id": "5wAKXtY4_hMv"
      },
      "source": [
        "# using Janitor to clean up names\n",
        "# https://cran.r-project.org/web/packages/janitor/vignettes/janitor.html#clean-data.frame-names-with-clean_names"
      ],
      "execution_count": 107,
      "outputs": []
    },
    {
      "cell_type": "code",
      "metadata": {
        "id": "e6oP87OQ_jwu"
      },
      "source": [
        "df_100 = \n",
        "  df_100 %>% clean_names()"
      ],
      "execution_count": 108,
      "outputs": []
    },
    {
      "cell_type": "code",
      "metadata": {
        "id": "vXW1u25p_o-G",
        "outputId": "9109b012-da75-4396-dd07-d1658203077c",
        "colab": {
          "base_uri": "https://localhost:8080/",
          "height": 381
        }
      },
      "source": [
        "colnames(df_100)"
      ],
      "execution_count": 109,
      "outputs": [
        {
          "output_type": "display_data",
          "data": {
            "text/plain": [
              " [1] \"respondent_id\"                                                                                                 \n",
              " [2] \"employee_code\"                                                                                                 \n",
              " [3] \"user_name\"                                                                                                     \n",
              " [4] \"business_unit\"                                                                                                 \n",
              " [5] \"department\"                                                                                                    \n",
              " [6] \"address_of_the_outlet\"                                                                                         \n",
              " [7] \"city\"                                                                                                          \n",
              " [8] \"do_you_believe_having_a_pos_will_help_you_improve_business\"                                                    \n",
              " [9] \"do_you_have_internet_access_at_your_outlet\"                                                                    \n",
              "[10] \"do_you_wish_to_expand_your_business_to_more_outlets\"                                                           \n",
              "[11] \"does_your_outlet_offer_delivery_service\"                                                                       \n",
              "[12] \"for_which_purposes_do_you_store_customer_data\"                                                                 \n",
              "[13] \"how_many_employees_do_you_have_in_this_outlet\"                                                                 \n",
              "[14] \"how_much_disruption_in_internet_service_do_you_face\"                                                           \n",
              "[15] \"if_you_had_to_pay_for_a_new_pos_which_payment_type_would_you_prefer\"                                           \n",
              "[16] \"if_you_will_ever_have_a_pos_what_language_would_you_like_to_have_it_in\"                                        \n",
              "[17] \"name_of_the_outlet\"                                                                                            \n",
              "[18] \"number_of_years_you_have_owned_this_organization\"                                                              \n",
              "[19] \"please_choose_the_number_of_outlets\"                                                                           \n",
              "[20] \"please_choose_which_kind_of_pos_will_you_prefer\"                                                               \n",
              "[21] \"please_provide_an_amount_in_pkr_you_are_willing_to_pay_corresponding_to_last_question\"                         \n",
              "[22] \"please_state_your_personal_observations_which_you_believe_would_be_interesting_to_share_about_this_interaction\"\n",
              "[23] \"please_take_a_picture_of_the_outlet_with_it_s_name_visible\"                                                    \n",
              "[24] \"please_take_a_picture_of_the_visiting_card\"                                                                    \n",
              "[25] \"region\"                                                                                                        \n",
              "[26] \"respondent_s_designation\"                                                                                      \n",
              "[27] \"respondent_s_name\"                                                                                             \n",
              "[28] \"respondent_s_phone_number\"                                                                                     \n",
              "[29] \"what_are_the_most_important_features_in_a_pos_you_may_choose_multiple_options\"                                 \n",
              "[30] \"what_device_s_will_you_like_to_use_for_accessing_pos_you_may_choose_multiple_options\"                          \n",
              "[31] \"what_kind_of_a_business_are_you\"                                                                               \n",
              "[32] \"what_types_of_payments_do_you_accept_you_may_choose_multiple_options\"                                          \n",
              "[33] \"which_of_the_following_discounts_do_you_offer_to_your_customers\"                                               \n",
              "[34] \"which_of_the_following_features_will_you_like_in_urdu_local_language_you_may_choose_multiple_options\"          \n",
              "[35] \"which_of_the_following_can_be_a_reason_to_get_pos_you_may_choose_multiple_options\"                             \n",
              "[36] \"why_do_you_not_have_a_pos\"                                                                                     \n",
              "[37] \"will_you_be_willing_to_run_a_demo_of_our_pos_at_your_outlet\"                                                   \n",
              "[38] \"you_have_been_very_helpful_can_we_contact_you_in_future_for_more_details\"                                      "
            ],
            "text/latex": "\\begin{enumerate*}\n\\item 'respondent\\_id'\n\\item 'employee\\_code'\n\\item 'user\\_name'\n\\item 'business\\_unit'\n\\item 'department'\n\\item 'address\\_of\\_the\\_outlet'\n\\item 'city'\n\\item 'do\\_you\\_believe\\_having\\_a\\_pos\\_will\\_help\\_you\\_improve\\_business'\n\\item 'do\\_you\\_have\\_internet\\_access\\_at\\_your\\_outlet'\n\\item 'do\\_you\\_wish\\_to\\_expand\\_your\\_business\\_to\\_more\\_outlets'\n\\item 'does\\_your\\_outlet\\_offer\\_delivery\\_service'\n\\item 'for\\_which\\_purposes\\_do\\_you\\_store\\_customer\\_data'\n\\item 'how\\_many\\_employees\\_do\\_you\\_have\\_in\\_this\\_outlet'\n\\item 'how\\_much\\_disruption\\_in\\_internet\\_service\\_do\\_you\\_face'\n\\item 'if\\_you\\_had\\_to\\_pay\\_for\\_a\\_new\\_pos\\_which\\_payment\\_type\\_would\\_you\\_prefer'\n\\item 'if\\_you\\_will\\_ever\\_have\\_a\\_pos\\_what\\_language\\_would\\_you\\_like\\_to\\_have\\_it\\_in'\n\\item 'name\\_of\\_the\\_outlet'\n\\item 'number\\_of\\_years\\_you\\_have\\_owned\\_this\\_organization'\n\\item 'please\\_choose\\_the\\_number\\_of\\_outlets'\n\\item 'please\\_choose\\_which\\_kind\\_of\\_pos\\_will\\_you\\_prefer'\n\\item 'please\\_provide\\_an\\_amount\\_in\\_pkr\\_you\\_are\\_willing\\_to\\_pay\\_corresponding\\_to\\_last\\_question'\n\\item 'please\\_state\\_your\\_personal\\_observations\\_which\\_you\\_believe\\_would\\_be\\_interesting\\_to\\_share\\_about\\_this\\_interaction'\n\\item 'please\\_take\\_a\\_picture\\_of\\_the\\_outlet\\_with\\_it\\_s\\_name\\_visible'\n\\item 'please\\_take\\_a\\_picture\\_of\\_the\\_visiting\\_card'\n\\item 'region'\n\\item 'respondent\\_s\\_designation'\n\\item 'respondent\\_s\\_name'\n\\item 'respondent\\_s\\_phone\\_number'\n\\item 'what\\_are\\_the\\_most\\_important\\_features\\_in\\_a\\_pos\\_you\\_may\\_choose\\_multiple\\_options'\n\\item 'what\\_device\\_s\\_will\\_you\\_like\\_to\\_use\\_for\\_accessing\\_pos\\_you\\_may\\_choose\\_multiple\\_options'\n\\item 'what\\_kind\\_of\\_a\\_business\\_are\\_you'\n\\item 'what\\_types\\_of\\_payments\\_do\\_you\\_accept\\_you\\_may\\_choose\\_multiple\\_options'\n\\item 'which\\_of\\_the\\_following\\_discounts\\_do\\_you\\_offer\\_to\\_your\\_customers'\n\\item 'which\\_of\\_the\\_following\\_features\\_will\\_you\\_like\\_in\\_urdu\\_local\\_language\\_you\\_may\\_choose\\_multiple\\_options'\n\\item 'which\\_of\\_the\\_following\\_can\\_be\\_a\\_reason\\_to\\_get\\_pos\\_you\\_may\\_choose\\_multiple\\_options'\n\\item 'why\\_do\\_you\\_not\\_have\\_a\\_pos'\n\\item 'will\\_you\\_be\\_willing\\_to\\_run\\_a\\_demo\\_of\\_our\\_pos\\_at\\_your\\_outlet'\n\\item 'you\\_have\\_been\\_very\\_helpful\\_can\\_we\\_contact\\_you\\_in\\_future\\_for\\_more\\_details'\n\\end{enumerate*}\n",
            "text/markdown": "1. 'respondent_id'\n2. 'employee_code'\n3. 'user_name'\n4. 'business_unit'\n5. 'department'\n6. 'address_of_the_outlet'\n7. 'city'\n8. 'do_you_believe_having_a_pos_will_help_you_improve_business'\n9. 'do_you_have_internet_access_at_your_outlet'\n10. 'do_you_wish_to_expand_your_business_to_more_outlets'\n11. 'does_your_outlet_offer_delivery_service'\n12. 'for_which_purposes_do_you_store_customer_data'\n13. 'how_many_employees_do_you_have_in_this_outlet'\n14. 'how_much_disruption_in_internet_service_do_you_face'\n15. 'if_you_had_to_pay_for_a_new_pos_which_payment_type_would_you_prefer'\n16. 'if_you_will_ever_have_a_pos_what_language_would_you_like_to_have_it_in'\n17. 'name_of_the_outlet'\n18. 'number_of_years_you_have_owned_this_organization'\n19. 'please_choose_the_number_of_outlets'\n20. 'please_choose_which_kind_of_pos_will_you_prefer'\n21. 'please_provide_an_amount_in_pkr_you_are_willing_to_pay_corresponding_to_last_question'\n22. 'please_state_your_personal_observations_which_you_believe_would_be_interesting_to_share_about_this_interaction'\n23. 'please_take_a_picture_of_the_outlet_with_it_s_name_visible'\n24. 'please_take_a_picture_of_the_visiting_card'\n25. 'region'\n26. 'respondent_s_designation'\n27. 'respondent_s_name'\n28. 'respondent_s_phone_number'\n29. 'what_are_the_most_important_features_in_a_pos_you_may_choose_multiple_options'\n30. 'what_device_s_will_you_like_to_use_for_accessing_pos_you_may_choose_multiple_options'\n31. 'what_kind_of_a_business_are_you'\n32. 'what_types_of_payments_do_you_accept_you_may_choose_multiple_options'\n33. 'which_of_the_following_discounts_do_you_offer_to_your_customers'\n34. 'which_of_the_following_features_will_you_like_in_urdu_local_language_you_may_choose_multiple_options'\n35. 'which_of_the_following_can_be_a_reason_to_get_pos_you_may_choose_multiple_options'\n36. 'why_do_you_not_have_a_pos'\n37. 'will_you_be_willing_to_run_a_demo_of_our_pos_at_your_outlet'\n38. 'you_have_been_very_helpful_can_we_contact_you_in_future_for_more_details'\n\n\n",
            "text/html": [
              "<style>\n",
              ".list-inline {list-style: none; margin:0; padding: 0}\n",
              ".list-inline>li {display: inline-block}\n",
              ".list-inline>li:not(:last-child)::after {content: \"\\00b7\"; padding: 0 .5ex}\n",
              "</style>\n",
              "<ol class=list-inline><li>'respondent_id'</li><li>'employee_code'</li><li>'user_name'</li><li>'business_unit'</li><li>'department'</li><li>'address_of_the_outlet'</li><li>'city'</li><li>'do_you_believe_having_a_pos_will_help_you_improve_business'</li><li>'do_you_have_internet_access_at_your_outlet'</li><li>'do_you_wish_to_expand_your_business_to_more_outlets'</li><li>'does_your_outlet_offer_delivery_service'</li><li>'for_which_purposes_do_you_store_customer_data'</li><li>'how_many_employees_do_you_have_in_this_outlet'</li><li>'how_much_disruption_in_internet_service_do_you_face'</li><li>'if_you_had_to_pay_for_a_new_pos_which_payment_type_would_you_prefer'</li><li>'if_you_will_ever_have_a_pos_what_language_would_you_like_to_have_it_in'</li><li>'name_of_the_outlet'</li><li>'number_of_years_you_have_owned_this_organization'</li><li>'please_choose_the_number_of_outlets'</li><li>'please_choose_which_kind_of_pos_will_you_prefer'</li><li>'please_provide_an_amount_in_pkr_you_are_willing_to_pay_corresponding_to_last_question'</li><li>'please_state_your_personal_observations_which_you_believe_would_be_interesting_to_share_about_this_interaction'</li><li>'please_take_a_picture_of_the_outlet_with_it_s_name_visible'</li><li>'please_take_a_picture_of_the_visiting_card'</li><li>'region'</li><li>'respondent_s_designation'</li><li>'respondent_s_name'</li><li>'respondent_s_phone_number'</li><li>'what_are_the_most_important_features_in_a_pos_you_may_choose_multiple_options'</li><li>'what_device_s_will_you_like_to_use_for_accessing_pos_you_may_choose_multiple_options'</li><li>'what_kind_of_a_business_are_you'</li><li>'what_types_of_payments_do_you_accept_you_may_choose_multiple_options'</li><li>'which_of_the_following_discounts_do_you_offer_to_your_customers'</li><li>'which_of_the_following_features_will_you_like_in_urdu_local_language_you_may_choose_multiple_options'</li><li>'which_of_the_following_can_be_a_reason_to_get_pos_you_may_choose_multiple_options'</li><li>'why_do_you_not_have_a_pos'</li><li>'will_you_be_willing_to_run_a_demo_of_our_pos_at_your_outlet'</li><li>'you_have_been_very_helpful_can_we_contact_you_in_future_for_more_details'</li></ol>\n"
            ]
          },
          "metadata": {
            "tags": []
          }
        }
      ]
    },
    {
      "cell_type": "markdown",
      "metadata": {
        "id": "EtVIaFCc_t7U"
      },
      "source": [
        "#### column mapping"
      ]
    },
    {
      "cell_type": "code",
      "metadata": {
        "id": "sKlhnX0E_tNl"
      },
      "source": [
        "#### column mapping"
      ],
      "execution_count": null,
      "outputs": []
    },
    {
      "cell_type": "code",
      "metadata": {
        "id": "h1k04HW0_xUQ"
      },
      "source": [
        "df_101 = df_100 %>% rename(\n",
        "RESP_ID = 'respondent_id',\n",
        "SB_EMP_CODE = 'employee_code',\n",
        "SB_USER_NAME = 'user_name',\n",
        "SB_BU = 'business_unit',\n",
        "SB_DEPT = 'department',\n",
        "ORG_ADDRESS = 'address_of_the_outlet',\n",
        "ORG_CITY = 'city',\n",
        "ORG_POS_BUSINESS_IMPROVEMENT = 'do_you_believe_having_a_pos_will_help_you_improve_business',\n",
        "ORG_INTERNET_ACCESS = 'do_you_have_internet_access_at_your_outlet',\n",
        "ORG_EXPAND_BUSINESS = 'do_you_wish_to_expand_your_business_to_more_outlets',\n",
        "ORG_DELIVERY_SERVICE = 'does_your_outlet_offer_delivery_service',\n",
        "ORG_CUSTOMER_DATA = 'for_which_purposes_do_you_store_customer_data',\n",
        "ORG_EMP_COUNT = 'how_many_employees_do_you_have_in_this_outlet',\n",
        "ORG_INTERNET_DISRUPTION = 'how_much_disruption_in_internet_service_do_you_face',\n",
        "ORG_NEW_POS_PAYMENT_PREF = 'if_you_had_to_pay_for_a_new_pos_which_payment_type_would_you_prefer',\n",
        "ORG_NEW_POS_LANG_PREF = 'if_you_will_ever_have_a_pos_what_language_would_you_like_to_have_it_in',\n",
        "ORG_NAME = 'name_of_the_outlet',\n",
        "ORG_RESP_TENURE = 'number_of_years_you_have_owned_this_organization',\n",
        "ORG_OUTLETS_COUNT = 'please_choose_the_number_of_outlets',\n",
        "ORG_NEW_POS_KIND = 'please_choose_which_kind_of_pos_will_you_prefer',\n",
        "ORG_WILLINGNESS_TO_PAY_AMOUNT = 'please_provide_an_amount_in_pkr_you_are_willing_to_pay_corresponding_to_last_question',\n",
        "SB_OBSERVATION = 'please_state_your_personal_observations_which_you_believe_would_be_interesting_to_share_about_this_interaction',\n",
        "ORG_PICTURE_LINK = 'please_take_a_picture_of_the_outlet_with_it_s_name_visible',\n",
        "ORG_VISITING_CARD = 'please_take_a_picture_of_the_visiting_card',\n",
        "SB_REGION = 'region',\n",
        "RESP_DESIGNATION = 'respondent_s_designation',\n",
        "RESP_NAME = 'respondent_s_name',\n",
        "RESP_PHONE = 'respondent_s_phone_number',\n",
        "ORG_POS_FEATURES = 'what_are_the_most_important_features_in_a_pos_you_may_choose_multiple_options',\n",
        "ORG_NEW_POS_DEVICES = 'what_device_s_will_you_like_to_use_for_accessing_pos_you_may_choose_multiple_options',\n",
        "ORG_TYPE = 'what_kind_of_a_business_are_you',\n",
        "ORG_CURRENT_PAYMENT_OPTIONS = 'what_types_of_payments_do_you_accept_you_may_choose_multiple_options',\n",
        "ORG_DISCOUNTS_OFFERED = 'which_of_the_following_discounts_do_you_offer_to_your_customers',\n",
        "ORG_URDU_FEATURES_EXPECTED = 'which_of_the_following_features_will_you_like_in_urdu_local_language_you_may_choose_multiple_options',\n",
        "ORG_REASON_TO_GET_POS = 'which_of_the_following_can_be_a_reason_to_get_pos_you_may_choose_multiple_options',\n",
        "ORG_REASON_TO_NOT_HAVE_POS = 'why_do_you_not_have_a_pos',\n",
        "ORG_WILLINGNESS_DEMO = 'will_you_be_willing_to_run_a_demo_of_our_pos_at_your_outlet',\n",
        "ORG_WILLINGNESS_FUTURE_CONTACT = 'you_have_been_very_helpful_can_we_contact_you_in_future_for_more_details'\n",
        ")"
      ],
      "execution_count": 117,
      "outputs": []
    },
    {
      "cell_type": "markdown",
      "metadata": {
        "id": "2Qr7UcOG-aRP"
      },
      "source": [
        "## NORTH"
      ]
    },
    {
      "cell_type": "code",
      "metadata": {
        "id": "b3qs7rnP8QTc"
      },
      "source": [
        "# Keep NORTH only"
      ],
      "execution_count": 64,
      "outputs": []
    },
    {
      "cell_type": "code",
      "metadata": {
        "id": "TzAzSp908M5O"
      },
      "source": [
        "df_101 %>%\n",
        "  filter(SB_BU == 'Customer Services North') -> df_without_POS_North"
      ],
      "execution_count": 118,
      "outputs": []
    },
    {
      "cell_type": "code",
      "metadata": {
        "id": "46x6FOgy8cJS",
        "outputId": "af24cd51-0b18-4696-ce90-4a21f3f63304",
        "colab": {
          "base_uri": "https://localhost:8080/",
          "height": 35
        }
      },
      "source": [
        "nrow(df_without_POS_North)"
      ],
      "execution_count": 119,
      "outputs": [
        {
          "output_type": "display_data",
          "data": {
            "text/plain": [
              "[1] 750"
            ],
            "text/latex": "750",
            "text/markdown": "750",
            "text/html": [
              "750"
            ]
          },
          "metadata": {
            "tags": []
          }
        }
      ]
    },
    {
      "cell_type": "markdown",
      "metadata": {
        "id": "SHJ6N-ZC-eQz"
      },
      "source": [
        "## SOUTH"
      ]
    },
    {
      "cell_type": "code",
      "metadata": {
        "id": "ZowObkWn8Z2q"
      },
      "source": [
        "# Keep SOUTH only"
      ],
      "execution_count": 120,
      "outputs": []
    },
    {
      "cell_type": "code",
      "metadata": {
        "id": "4_zlhqZr8XLm"
      },
      "source": [
        "df_101 %>%\n",
        "  filter(SB_BU == 'Customer Services South') -> df_without_POS_South"
      ],
      "execution_count": 121,
      "outputs": []
    },
    {
      "cell_type": "code",
      "metadata": {
        "id": "ARn37cMC8hbI",
        "outputId": "67ebd10f-6b67-4f57-d798-a199aa58215e",
        "colab": {
          "base_uri": "https://localhost:8080/",
          "height": 35
        }
      },
      "source": [
        "nrow(df_without_POS_South)"
      ],
      "execution_count": 122,
      "outputs": [
        {
          "output_type": "display_data",
          "data": {
            "text/plain": [
              "[1] 107"
            ],
            "text/latex": "107",
            "text/markdown": "107",
            "text/html": [
              "107"
            ]
          },
          "metadata": {
            "tags": []
          }
        }
      ]
    },
    {
      "cell_type": "markdown",
      "metadata": {
        "id": "R20m6ELc-Ksu"
      },
      "source": [
        "# Writing Output Files"
      ]
    },
    {
      "cell_type": "markdown",
      "metadata": {
        "id": "V4qjkuyQ89jT"
      },
      "source": [
        "## Write XLSX Files"
      ]
    },
    {
      "cell_type": "code",
      "metadata": {
        "id": "luCabdE0nBTr"
      },
      "source": [
        "# formatting options for Date/Time\n",
        "#https://www.rdocumentation.org/packages/base/versions/3.6.2/topics/strptime"
      ],
      "execution_count": 70,
      "outputs": []
    },
    {
      "cell_type": "markdown",
      "metadata": {
        "id": "cF0pBuU8-gxO"
      },
      "source": [
        "## NORTH"
      ]
    },
    {
      "cell_type": "code",
      "metadata": {
        "id": "cnbDR4OO_Bp6"
      },
      "source": [
        "# North Region"
      ],
      "execution_count": 71,
      "outputs": []
    },
    {
      "cell_type": "code",
      "metadata": {
        "id": "IcUkGPn1n726",
        "outputId": "badae269-4924-4e64-c0fd-2f94188a2b62",
        "colab": {
          "base_uri": "https://localhost:8080/"
        }
      },
      "source": [
        "st=format(Sys.Date(), \"%Y%b%d\") # Alphabetic Month Name\n",
        "file_name_north=paste (\"SurveyData-\", st, \"-North\", \".xlsx\", sep=\"\")\n",
        "print(file_name_north)"
      ],
      "execution_count": 72,
      "outputs": [
        {
          "output_type": "stream",
          "text": [
            "[1] \"SurveyData-2020Nov03-North.xlsx\"\n"
          ],
          "name": "stdout"
        }
      ]
    },
    {
      "cell_type": "code",
      "metadata": {
        "id": "h_aOgfYECVp7"
      },
      "source": [
        "## Create a new workbook\n",
        "wb <- createWorkbook(\"Temp\")\n",
        "## Add 2 worksheets\n",
        "addWorksheet(wb, \"Updated With POS Survey\")\n",
        "addWorksheet(wb, \"Updated Without POS Survey\")\n",
        "writeData(wb, \"Updated With POS Survey\", df_with_POS_North)\n",
        "writeData(wb, \"Updated Without POS Survey\", df_without_POS_North)\n",
        "#saveWorkbook(wb, \"SurveyData-20201028-North.xlsx\", overwrite = TRUE)\n",
        "saveWorkbook(wb, file_name_north, overwrite = TRUE)\n"
      ],
      "execution_count": 73,
      "outputs": []
    },
    {
      "cell_type": "markdown",
      "metadata": {
        "id": "smxsWRUF-fqe"
      },
      "source": [
        "## SOUTH"
      ]
    },
    {
      "cell_type": "code",
      "metadata": {
        "id": "dCb73ZFd_O15"
      },
      "source": [
        "# South Region"
      ],
      "execution_count": 74,
      "outputs": []
    },
    {
      "cell_type": "code",
      "metadata": {
        "id": "a99HmsrKn_KQ",
        "outputId": "bf7ddb23-19f9-4b43-e4b4-c93cff9a96d4",
        "colab": {
          "base_uri": "https://localhost:8080/"
        }
      },
      "source": [
        "st=format(Sys.Date(), \"%Y%b%d\") # Alphabetic Month Name\n",
        "file_name_south=paste (\"SurveyData-\", st, \"-South\", \".xlsx\", sep=\"\")\n",
        "print(file_name_south)"
      ],
      "execution_count": 75,
      "outputs": [
        {
          "output_type": "stream",
          "text": [
            "[1] \"SurveyData-2020Nov03-South.xlsx\"\n"
          ],
          "name": "stdout"
        }
      ]
    },
    {
      "cell_type": "code",
      "metadata": {
        "id": "Ozg-RnFkEHZs"
      },
      "source": [
        "## Create a new workbook\n",
        "wb <- createWorkbook(\"Temp\")\n",
        "## Add 2 worksheets\n",
        "addWorksheet(wb, \"Updated With POS Survey\")\n",
        "addWorksheet(wb, \"Updated Without POS Survey\")\n",
        "writeData(wb, \"Updated With POS Survey\", df_with_POS_South)\n",
        "writeData(wb, \"Updated Without POS Survey\", df_without_POS_South)\n",
        "#saveWorkbook(wb, \"SurveyData-20201028-South.xlsx\", overwrite = TRUE)\n",
        "saveWorkbook(wb, file_name_south, overwrite = TRUE)"
      ],
      "execution_count": 76,
      "outputs": []
    },
    {
      "cell_type": "markdown",
      "metadata": {
        "id": "-j0SjY2GIuEi"
      },
      "source": [
        "## Write Summary Stats"
      ]
    },
    {
      "cell_type": "code",
      "metadata": {
        "id": "-bvyEt8P_czX"
      },
      "source": [
        "Category = c('With POS', 'Without POS','With POS', 'Without POS')"
      ],
      "execution_count": 77,
      "outputs": []
    },
    {
      "cell_type": "code",
      "metadata": {
        "id": "5N56zFJuIyKi"
      },
      "source": [
        "Region = c('North','North', 'South','South')"
      ],
      "execution_count": 78,
      "outputs": []
    },
    {
      "cell_type": "code",
      "metadata": {
        "id": "ye-GYR-cI2bg"
      },
      "source": [
        "Target = c(1000,1000,1000,1000)"
      ],
      "execution_count": 79,
      "outputs": []
    },
    {
      "cell_type": "code",
      "metadata": {
        "id": "2eSZi3MwI3qt"
      },
      "source": [
        "Current = c(nrow(df_with_POS_North), nrow(df_without_POS_North), nrow(df_with_POS_South), nrow(df_without_POS_South))"
      ],
      "execution_count": 80,
      "outputs": []
    },
    {
      "cell_type": "code",
      "metadata": {
        "id": "Ok0gLcWUI5LY"
      },
      "source": [
        "df_status = tibble(Region=Region, Category=Category, Target=Target,Current=Current)"
      ],
      "execution_count": 81,
      "outputs": []
    },
    {
      "cell_type": "code",
      "metadata": {
        "id": "0l3HoC4TNwgE"
      },
      "source": [
        "# Time Zones\n",
        "# https://stat.ethz.ch/R-manual/R-devel/library/base/html/timezones.html"
      ],
      "execution_count": 82,
      "outputs": []
    },
    {
      "cell_type": "code",
      "metadata": {
        "id": "zpjKYjHfO3Kw",
        "outputId": "956e8709-9f6f-47a2-f7c5-40d6680124b3",
        "colab": {
          "base_uri": "https://localhost:8080/",
          "height": 69
        }
      },
      "source": [
        "Sys.timezone()"
      ],
      "execution_count": 83,
      "outputs": [
        {
          "output_type": "stream",
          "text": [
            "Warning message in system(\"timedatectl\", intern = TRUE):\n",
            "“running command 'timedatectl' had status 1”\n"
          ],
          "name": "stderr"
        },
        {
          "output_type": "display_data",
          "data": {
            "text/plain": [
              "[1] \"Etc/UTC\""
            ],
            "text/latex": "'Etc/UTC'",
            "text/markdown": "'Etc/UTC'",
            "text/html": [
              "'Etc/UTC'"
            ]
          },
          "metadata": {
            "tags": []
          }
        }
      ]
    },
    {
      "cell_type": "code",
      "metadata": {
        "id": "wHmkxOkIPCLF"
      },
      "source": [
        "#str(OlsonNames()) ## typically close to 600 hundred names,\n",
        "## typically some acronyms/aliases such as \"UTC\", \"NZ\", \"MET\", \"Eire\", ..., but\n",
        "## mostly pairs (and triplets) such as \"Pacific/Auckland\"\n",
        "#table(sl <- grepl(\"/\", OlsonNames()))\n",
        "#OlsonNames()[ !sl ] # the simple ones\n",
        "#head(Osl <- strsplit(OlsonNames()[sl], \"/\"))\n",
        "#(tOS1 <- table(vapply(Osl, `[[`, \"\", 1))) # Continents, countries, ...\n",
        "#table(lengths(Osl))# most are pairs, some triplets\n",
        "#str(Osl[lengths(Osl) >= 3])# \"America\" South and North ..."
      ],
      "execution_count": 84,
      "outputs": []
    },
    {
      "cell_type": "code",
      "metadata": {
        "id": "lcQK7BOiMHG_",
        "outputId": "6a616445-7582-4c7a-f9c0-fe077a14f615",
        "colab": {
          "base_uri": "https://localhost:8080/"
        }
      },
      "source": [
        "## locale-specific version of date()\n",
        "#format(Sys.time(), \"%a %b %d %H %M\")\n",
        "\n",
        "st=format(Sys.time(), \"%d%b%Y-%H:%M:%S\", tz = \"UTC+05:00\") # Alphabetic Month Name\n",
        "file_name_status=paste (\"Status-\", st, \".csv\", sep=\"\")\n",
        "print(file_name_status)"
      ],
      "execution_count": 85,
      "outputs": [
        {
          "output_type": "stream",
          "text": [
            "[1] \"Status-03Nov2020-02:04:19.csv\"\n"
          ],
          "name": "stdout"
        }
      ]
    },
    {
      "cell_type": "code",
      "metadata": {
        "id": "ijd1BY1-I6q4"
      },
      "source": [
        "write_csv(df_status,file_name_status)"
      ],
      "execution_count": 86,
      "outputs": []
    },
    {
      "cell_type": "code",
      "metadata": {
        "id": "5YO30B5FL6Eb"
      },
      "source": [
        ""
      ],
      "execution_count": null,
      "outputs": []
    }
  ]
}